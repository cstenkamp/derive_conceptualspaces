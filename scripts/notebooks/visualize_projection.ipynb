{
 "cells": [
  {
   "cell_type": "code",
   "execution_count": null,
   "id": "e76a0527-f336-4e8d-b576-2c48a2b25b30",
   "metadata": {},
   "outputs": [],
   "source": [
    "import sys\n",
    "sys.path.append(\"../../\")\n",
    "import numpy as np\n",
    "import matplotlib.pyplot as plt\n",
    "\n",
    "from src.main.measures import orthogonal_project"
   ]
  },
  {
   "cell_type": "code",
   "execution_count": null,
   "id": "cd03db21-04f3-4532-a9a4-d849afb6f3f9",
   "metadata": {},
   "outputs": [],
   "source": [
    "def show_vectors(vectors, vectors_with_start):\n",
    "    \"\"\"https://stackoverflow.com/a/42282532/5122790\"\"\"\n",
    "    fig, ax = plt.subplots(figsize=(15, 15))\n",
    "    HEAD_SIZE = 0.2\n",
    "    M = np.array(vectors)\n",
    "    colors = ['r','g','b','k']\n",
    "    for i,l in enumerate(range(0,M.shape[0])):\n",
    "        ax.arrow(0,0,M[i,0],M[i,1],head_width=HEAD_SIZE,head_length=HEAD_SIZE,color = colors[i], length_includes_head=True)\n",
    "\n",
    "    colors = ['c','m','y']\n",
    "    for i,(xs,ys,xf,yf) in enumerate([(*i[0],*i[1]) for i in vectors_with_start]):\n",
    "        ax.arrow(xs,ys,xf,yf,head_width=HEAD_SIZE,head_length=HEAD_SIZE,color = colors[i], length_includes_head=True)\n",
    "\n",
    "    maxes = 1.1*np.amax(np.vstack((np.amax(abs(np.array([sum(i) for i in vectors_with_start])),axis=0),np.amax(abs(M), axis = 0))), axis=0)\n",
    "    plt.plot(0,0,'ok') #plot a black point at the origin\n",
    "    plt.xlim([-maxes[0],maxes[0]])\n",
    "    plt.ylim([-maxes[1],maxes[1]])\n",
    "    ax.set_aspect('equal', 'box')\n",
    "    plt.grid(b=True, which='major')\n",
    "    plt.show()"
   ]
  },
  {
   "cell_type": "code",
   "execution_count": null,
   "id": "398cfbe2-dc22-4888-a19b-8710f6863197",
   "metadata": {},
   "outputs": [],
   "source": [
    "#from https://www.geeksforgeeks.org/vector-projection-using-python/\n",
    "\n",
    "u = np.array([1, 2])\n",
    "v = np.array([5, 6])\n",
    "  \n",
    "# Task: Project vector u on vector v\n",
    "  \n",
    "# finding norm of the vector v\n",
    "v_norm = np.sqrt(sum(v**2))    \n",
    "  \n",
    "# Apply the formula as mentioned above\n",
    "# for projecting a vector onto another vector\n",
    "# find dot product using np.dot()\n",
    "proj_of_u_on_v = (np.dot(u, v)/v_norm**2)*v\n",
    "  \n",
    "print(\"Projection of Vector u on Vector v is: \", proj_of_u_on_v)\n",
    "\n",
    "vectors = [u,v,proj_of_u_on_v]\n",
    "vectors_with_start = [(u, proj_of_u_on_v-u)]\n",
    "\n",
    "show_vectors(vectors, vectors_with_start)"
   ]
  },
  {
   "cell_type": "code",
   "execution_count": null,
   "id": "3ee5eb6e-e28f-4e91-8279-67ac1082aacd",
   "metadata": {},
   "outputs": [],
   "source": [
    "first = np.array([1,1])\n",
    "second = np.array([-2,2])\n",
    "candidate = np.array([-1,1])\n",
    "projection = orthogonal_project(first, second, candidate)"
   ]
  },
  {
   "cell_type": "code",
   "execution_count": null,
   "id": "ab365ab2-e40f-4ce5-bf89-2571cc82d35d",
   "metadata": {},
   "outputs": [],
   "source": [
    "vectors = [candidate,vector_first_second]\n",
    "vectors_with_start = [(first,vector_first_second),(candidate, projection-candidate)]\n",
    "\n",
    "show_vectors(vectors, vectors_with_start)"
   ]
  },
  {
   "cell_type": "code",
   "execution_count": null,
   "id": "0e1aac3d-391d-43e8-befa-acb9be386077",
   "metadata": {},
   "outputs": [],
   "source": [
    "vectors = [first, second, candidate]\n",
    "vectors_with_start = [(first,vector_first_second),(candidate, (projection-candidate)*-1)]\n",
    "\n",
    "show_vectors(vectors, vectors_with_start)"
   ]
  },
  {
   "cell_type": "code",
   "execution_count": null,
   "id": "8c183e28-8bc4-4449-8547-a6a0d46a2a6c",
   "metadata": {},
   "outputs": [],
   "source": []
  }
 ],
 "metadata": {
  "kernelspec": {
   "display_name": "Python 3",
   "language": "python",
   "name": "python3"
  },
  "language_info": {
   "codemirror_mode": {
    "name": "ipython",
    "version": 3
   },
   "file_extension": ".py",
   "mimetype": "text/x-python",
   "name": "python",
   "nbconvert_exporter": "python",
   "pygments_lexer": "ipython3",
   "version": "3.8.8"
  }
 },
 "nbformat": 4,
 "nbformat_minor": 5
}
