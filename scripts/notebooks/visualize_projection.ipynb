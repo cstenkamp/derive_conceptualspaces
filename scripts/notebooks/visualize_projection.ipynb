{
 "cells": [
  {
   "cell_type": "code",
   "execution_count": null,
   "id": "e76a0527-f336-4e8d-b576-2c48a2b25b30",
   "metadata": {},
   "outputs": [],
   "source": [
    "import sys\n",
    "sys.path.append(\"../../\")\n",
    "import numpy as np\n",
    "import matplotlib.pyplot as plt\n",
    "import scipy\n",
    "\n",
    "from src.main.measures import ortho_rejection, ortho_projection, cosine_similiarity, between_a"
   ]
  },
  {
   "cell_type": "code",
   "execution_count": null,
   "id": "cd03db21-04f3-4532-a9a4-d849afb6f3f9",
   "metadata": {},
   "outputs": [],
   "source": [
    "def show_vectors(vectors, vectors_with_start, figsize=(12, 12)):\n",
    "    \"\"\"https://stackoverflow.com/a/42282532/5122790\"\"\"\n",
    "    fig, ax = plt.subplots(figsize=figsize)\n",
    "    HEAD_SIZE = 0.2\n",
    "    M = np.array(vectors)\n",
    "    colors = ['r','g','b','k','gray']\n",
    "    for i,l in enumerate(range(0,M.shape[0])):\n",
    "        ax.arrow(0,0,M[i,0],M[i,1],head_width=HEAD_SIZE,head_length=HEAD_SIZE,color = colors[i], length_includes_head=True)\n",
    "\n",
    "    colors = ['c','m','y']\n",
    "    for i,(xs,ys,xf,yf) in enumerate([(*i[0],*i[1]) for i in vectors_with_start]):\n",
    "        ax.arrow(xs,ys,xf,yf,head_width=HEAD_SIZE,head_length=HEAD_SIZE,color = colors[i], length_includes_head=True)\n",
    "\n",
    "    maxes = 1.1*np.amax(np.vstack(((np.amax(abs(np.array([sum(i) for i in vectors_with_start])),axis=0) if vectors_with_start else np.array((0,0))),np.amax(abs(M), axis = 0))), axis=0)\n",
    "    plt.plot(0,0,'ok') #plot a black point at the origin\n",
    "    plt.xlim([-maxes[0],maxes[0]])\n",
    "    plt.ylim([-maxes[1],maxes[1]])\n",
    "    ax.set_aspect('equal', 'box')\n",
    "    plt.grid(b=True, which='major')\n",
    "    plt.show()"
   ]
  },
  {
   "cell_type": "code",
   "execution_count": null,
   "id": "398cfbe2-dc22-4888-a19b-8710f6863197",
   "metadata": {},
   "outputs": [],
   "source": [
    "#from https://www.geeksforgeeks.org/vector-projection-using-python/\n",
    "\n",
    "u = np.array([1, 2])\n",
    "v = np.array([5, 6])\n",
    "  \n",
    "# Task: Project vector u on vector v\n",
    "  \n",
    "# finding norm of the vector v\n",
    "v_norm = np.sqrt(sum(v**2))    \n",
    "  \n",
    "# Apply the formula as mentioned above\n",
    "# for projecting a vector onto another vector\n",
    "# find dot product using np.dot()\n",
    "proj_of_u_on_v = (np.dot(u, v)/v_norm**2)*v\n",
    "  \n",
    "print(\"Projection of Vector u on Vector v is: \", proj_of_u_on_v)\n",
    "\n",
    "vectors = [u,v,proj_of_u_on_v]\n",
    "vectors_with_start = [(u, proj_of_u_on_v-u)]\n",
    "\n",
    "show_vectors(vectors, vectors_with_start)"
   ]
  },
  {
   "cell_type": "code",
   "execution_count": null,
   "id": "fa4887dd-3fc2-4207-9fe7-0b8337f5225a",
   "metadata": {},
   "outputs": [],
   "source": [
    "first,second,third = np.array([3,5]), np.array([8,2]), np.array([3,3])\n",
    "rej = ortho_rejection(first, second, third)\n",
    "proj = ortho_projection(first, second, third)\n",
    "show_vectors([second-first,third,proj],[(third,rej),])"
   ]
  },
  {
   "cell_type": "code",
   "execution_count": null,
   "id": "e03c924c-af4a-462e-8db8-2f77d550f2e1",
   "metadata": {},
   "outputs": [],
   "source": [
    "first,second,third = np.array([-1,5]), np.array([1,2]), np.array([-1,3])\n",
    "projection = ortho_rejection(first, second, third)\n",
    "show_vectors([first-second, third],[(third,projection)], figsize=(8,8))"
   ]
  },
  {
   "cell_type": "code",
   "execution_count": null,
   "id": "88128aed-9f23-4c16-926a-b3446ee6bdb6",
   "metadata": {},
   "outputs": [],
   "source": [
    "first,second,third = np.array([3,5]), np.array([8,2]), np.array([-1,3])\n",
    "projection = ortho_rejection(first, second, third)\n",
    "show_vectors([first, second, third, first-second], [(third,projection)], figsize=(6,6))"
   ]
  },
  {
   "cell_type": "code",
   "execution_count": null,
   "id": "b98d235d-b49a-475a-aed8-07278f5b8bee",
   "metadata": {},
   "outputs": [],
   "source": [
    "u = np.array([1, 2])\n",
    "v = np.array([5, 6])\n",
    "  \n",
    "# Task: Project vector u on vector v\n",
    "  \n",
    "# finding norm of the vector v\n",
    "v_norm = np.sqrt(sum(v**2))    \n",
    "  \n",
    "# Apply the formula as mentioned above\n",
    "# for projecting a vector onto another vector\n",
    "# find dot product using np.dot()\n",
    "proj_of_u_on_v = (np.dot(u, v)/v_norm**2)*v\n",
    "  \n",
    "print(\"Projection of Vector u on Vector v is: \", proj_of_u_on_v)\n",
    "\n",
    "vectors = [u,v,proj_of_u_on_v]\n",
    "vectors_with_start = [(u, proj_of_u_on_v-u)]\n",
    "\n",
    "show_vectors(vectors, vectors_with_start)"
   ]
  },
  {
   "cell_type": "code",
   "execution_count": null,
   "id": "8c183e28-8bc4-4449-8547-a6a0d46a2a6c",
   "metadata": {},
   "outputs": [],
   "source": [
    "first = np.array([1,1])\n",
    "second = np.array([3,3])\n",
    "third = np.array([2,2])\n",
    "\n",
    "vectors = [first,second,third]\n",
    "\n",
    "print(cosine_similiarity(third-first,second-first))\n",
    "print(cosine_similiarity(first-third,third-second))\n",
    "\n",
    "show_vectors(vectors, [])\n",
    "\n",
    "#TODO die puren cosine-similarities sind doch auch schon ne super similarity measure?\n",
    "#Section 4.1 of [DESC15] says: Geometrically, we say that the point pb is between points pa and pc if cos(p_ap_b,p_bp_c)= 1, that I can confirm here."
   ]
  },
  {
   "cell_type": "code",
   "execution_count": null,
   "id": "f810b2f9-8aad-4457-a24f-9b0fbe77122e",
   "metadata": {},
   "outputs": [],
   "source": [
    "first,second,third = np.array([1,1]), np.array([3,3]), np.array([2.5,2.5])\n",
    "print(between_a(first,second,third)) #should be zero if b is perfectly between a and c.\n",
    "show_vectors([first,second,third], [], figsize=(6,6))\n",
    "\n",
    "first,second,third = np.array([1,1]), np.array([3,3]), np.array([2.5,2.6])\n",
    "print(between_a(first,second,third)) #should be zero if b is perfectly between a and c.\n",
    "show_vectors([first,second,third], [], figsize=(6,6))\n",
    "\n",
    "first,second,third = np.array([1,1]), np.array([3,3]), np.array([2,3])\n",
    "print(between_a(first,second,third)) #should be zero if b is perfectly between a and c.\n",
    "show_vectors([first,second,third], [], figsize=(6,6))\n",
    "\n",
    "first,second,third = np.array([1,1]), np.array([3,3]), np.array([4,4])\n",
    "print(between_a(first,second,third)) #should be zero if b is perfectly between a and c.\n",
    "show_vectors([first,second,third], [], figsize=(6,6))\n",
    "\n",
    "first,second,third = np.array([1,1]), np.array([3,3]), np.array([-1,1])\n",
    "print(between_a(first,second,third)) #should be zero if b is perfectly between a and c.\n",
    "show_vectors([first,second,third], [], figsize=(6,6))\n",
    "\n",
    "first,second,third = np.array([0.01,0.01]), np.array([3,3]), np.array([-1,1.1])\n",
    "print(between_a(first,second,third)) #should be zero if b is perfectly between a and c.\n",
    "show_vectors([first,second,third], [], figsize=(6,6))\n",
    "\n",
    "first,second,third = np.array([0.01,0.01]), np.array([3,3]), np.array([-1,1])\n",
    "print(between_a(first,second,third)) #should be zero if b is perfectly between a and c.\n",
    "show_vectors([first,second,third], [], figsize=(6,6))"
   ]
  },
  {
   "cell_type": "code",
   "execution_count": null,
   "id": "9305e7a4-07d8-43f8-b44f-455381fc901e",
   "metadata": {},
   "outputs": [],
   "source": [
    "first,second,third = np.array([3,5]), np.array([8,2]), np.array([-1,1.1])\n",
    "print(between_a(first,second,third)) #should be zero if b is perfectly between a and c.\n",
    "show_vectors([first,second,second-first,third], [], figsize=(6,6))\n",
    "\n",
    "first,second,third = np.array([3,5]), np.array([8,2]), np.array([3,3])\n",
    "print(between_a(first,second,third)) #should be zero if b is perfectly between a and c.\n",
    "show_vectors([first,second,second-first,third], [], figsize=(6,6))"
   ]
  },
  {
   "cell_type": "code",
   "execution_count": null,
   "id": "57b51dda-c39e-4b4d-870e-8741769d5419",
   "metadata": {},
   "outputs": [],
   "source": [
    "first,second,third = np.array([3,5]), np.array([8,2]), np.array([3,3])\n",
    "projection = ortho_rejection(first, second, third)\n",
    "print(between_a(first,second,third)) #should be zero if b is perfectly between a and c.\n",
    "show_vectors([first,second,third,second-first], [(first,second-first),(third,projection)], figsize=(6,6))"
   ]
  },
  {
   "cell_type": "code",
   "execution_count": null,
   "id": "2f5158ef-b9bd-4b54-8b6a-eda3b007a934",
   "metadata": {},
   "outputs": [],
   "source": [
    "#TODO as soon as everything works, write tests! first geometrically, but also confirming Table 1 from [DESC15]!\n",
    "#TODO this should become higher quicker, I mean in the last example the candidate is pretty far away from the others."
   ]
  },
  {
   "cell_type": "code",
   "execution_count": null,
   "id": "653c3aa5-f7db-405a-b2e6-aa49dbcc8b76",
   "metadata": {},
   "outputs": [],
   "source": [
    "first,second,third = np.array([3,5])*3, np.array([8,2])*3, np.array([3,3])*3\n",
    "projection = ortho_rejection(first, second, third)\n",
    "print(between_a(first,second,third)) #should be zero if b is perfectly between a and c.\n",
    "show_vectors([third,second-first], [(third,projection)], figsize=(6,6))"
   ]
  },
  {
   "cell_type": "code",
   "execution_count": null,
   "id": "cc1bb1dc-df41-4798-82e9-c1e4294728a0",
   "metadata": {},
   "outputs": [],
   "source": []
  }
 ],
 "metadata": {
  "kernelspec": {
   "display_name": "Python 3",
   "language": "python",
   "name": "python3"
  },
  "language_info": {
   "codemirror_mode": {
    "name": "ipython",
    "version": 3
   },
   "file_extension": ".py",
   "mimetype": "text/x-python",
   "name": "python",
   "nbconvert_exporter": "python",
   "pygments_lexer": "ipython3",
   "version": "3.8.8"
  }
 },
 "nbformat": 4,
 "nbformat_minor": 5
}
