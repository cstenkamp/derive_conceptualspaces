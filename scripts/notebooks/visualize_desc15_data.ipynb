{
 "cells": [
  {
   "cell_type": "code",
   "execution_count": null,
   "metadata": {},
   "outputs": [],
   "source": [
    "import random\n",
    "import logging\n",
    "from os.path import basename, join\n",
    "import numpy as np\n",
    "from scripts.create_siddata_dataset import load_mds, display_mds\n",
    "from src.main.util.pretty_print import pretty_print as print\n",
    "from src.static.settings import DATA_BASE\n",
    "from src.main.load_semanticspaces import load_mds_representation, get_names\n",
    "\n",
    "n_dims = 100\n",
    "mds = load_mds_representation(DATA_BASE, \"movies\", n_dims)\n",
    "names = get_names(DATA_BASE, \"movies\")"
   ]
  },
  {
   "cell_type": "code",
   "execution_count": null,
   "metadata": {},
   "outputs": [],
   "source": [
    "display_mds(mds, names, max_elems=2)"
   ]
  },
  {
   "cell_type": "code",
   "execution_count": null,
   "metadata": {},
   "outputs": [],
   "source": [
    "def make_tsne_df(mds, names, n_dims=3):\n",
    "    #TODO write this function also for movies etc - but for that I need to know what reasonable \"categories\" of that dataset are\n",
    "    name_number = get_data().set_index(\"Name\")[\"VeranstaltungsNummer\"].to_dict()\n",
    "    fachbereich_per_course = {k: int(v.split(\".\", 1)[0]) for k, v in name_number.items() if\n",
    "                              v.split(\".\", 1)[0].isdigit() and int(v.split(\".\", 1)[0]) <= 10}  # There are 10 FBs\n",
    "    fb_mapper = {1: \"Sozial,Kultur,Kunst\", 3: \"Theologie,Lehramt,Musik\", 4: \"Physik\", 5: \"Bio,Chemie\", 6: \"Mathe,Info\",\n",
    "                 7: \"Sprache,Literatur\", 8: \"Humanwiss\", 9: \"Wiwi\", 10: \"Rechtswiss\"}\n",
    "    df = pd.DataFrame(tmp, columns=[f\"dim{i}\" for i in range(tmp.shape[1])])\n",
    "    df[\"Name\"] = tmp2\n",
    "    df[\"FB\"] = [fachbereich_per_course.get(name, 0) for name in df[\"Name\"]]\n",
    "    df[\"FB_long\"] = [fb_mapper.get(i, \"Unknown\") for i in df[\"FB\"]]\n",
    "    tsne_res = TSNE(n_components=n_dims).fit_transform(tmp)\n",
    "    # TODO PCA geht genauso gut, dann gibt's auch explained variance, see https://towardsdatascience.com/visualising-high-dimensional-datasets-using-pca-and-t-sne-in-python-8ef87e7915b\n",
    "    for i in range(n_dims):\n",
    "        df[f\"tsne_{i + 1}\"] = tsne_res[:, i]\n",
    "    return df"
   ]
  },
  {
   "cell_type": "code",
   "execution_count": null,
   "metadata": {},
   "outputs": [],
   "source": [
    "df3 = make_tsne_df(3)"
   ]
  },
  {
   "cell_type": "code",
   "execution_count": null,
   "metadata": {},
   "outputs": [],
   "source": []
  }
 ],
 "metadata": {
  "kernelspec": {
   "display_name": "Python 3",
   "language": "python",
   "name": "python3"
  },
  "language_info": {
   "codemirror_mode": {
    "name": "ipython",
    "version": 3
   },
   "file_extension": ".py",
   "mimetype": "text/x-python",
   "name": "python",
   "nbconvert_exporter": "python",
   "pygments_lexer": "ipython3",
   "version": "3.8.8"
  }
 },
 "nbformat": 4,
 "nbformat_minor": 1
}
