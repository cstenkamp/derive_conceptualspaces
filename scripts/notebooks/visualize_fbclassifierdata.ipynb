{
 "cells": [
  {
   "cell_type": "code",
   "execution_count": null,
   "id": "e6e36862-74fc-4cd4-a085-423178d1b8de",
   "metadata": {},
   "outputs": [],
   "source": [
    "from io import StringIO\n",
    "\n",
    "import incense\n",
    "from incense import ExperimentLoader\n",
    "from matplotlib import pyplot as plt\n",
    "import seaborn as sns\n",
    "import plotly.express as px\n",
    "import plotly.graph_objects as go\n",
    "import pandas as pd\n",
    "import numpy as np\n",
    "import sklearn.svm\n",
    "import sklearn.metrics\n",
    "import math\n",
    "\n",
    "from src.static.settings import MONGO_URI, ENV_FILE_PATH, SPACES_DATA_BASE\n",
    "from src.main.load_data.load_semanticspaces import load_mds_representation, get_names, get_classes\n",
    "from scripts.create_siddata_dataset import display_mds, load_translate_mds #TODO display in scripts?!\n",
    "from src.main.util.mds_object import TRANSL\n",
    "\n",
    "from src.main.util.threedfigure import ThreeDFigure, make_meshgrid\n",
    "from src.main.util.base_changer import Plane, make_base_changer"
   ]
  },
  {
   "cell_type": "code",
   "execution_count": null,
   "id": "5deec05e-5cfb-4013-b9f4-5e27268ea449",
   "metadata": {},
   "outputs": [],
   "source": [
    "data_set = \"courses\"\n",
    "cat_name = \"Fachbereich\""
   ]
  },
  {
   "cell_type": "code",
   "execution_count": null,
   "id": "6b2c2aab-390d-40b9-a442-0f9636330325",
   "metadata": {},
   "outputs": [],
   "source": [
    "# mds, _ = load_mds_representation(SPACES_DATA_BASE, data_set, mds_dim)\n",
    "mds = load_translate_mds(\"/home/chris/Documents/UNI_neu/Masterarbeit/DATA_CLONE/\", f\"siddata_names_descriptions_mds_3.json\", translate_policy=TRANSL).mds\n",
    "names, _ = get_names(SPACES_DATA_BASE, data_set)"
   ]
  },
  {
   "cell_type": "code",
   "execution_count": null,
   "id": "dc228171-c7f1-424e-bb81-86e7a16d394a",
   "metadata": {},
   "outputs": [],
   "source": [
    "display_mds(mds, names, max_elems=2)"
   ]
  },
  {
   "cell_type": "code",
   "execution_count": null,
   "id": "1eaf3427-31ca-4371-b2e8-7edfc0a51ecd",
   "metadata": {},
   "outputs": [],
   "source": [
    "classes = get_classes(SPACES_DATA_BASE, data_set, what=cat_name)\n",
    "dict(list(classes.items())[:5])"
   ]
  },
  {
   "cell_type": "code",
   "execution_count": null,
   "id": "512b056d-84b3-4d81-b0f7-606372a91df7",
   "metadata": {},
   "outputs": [],
   "source": [
    "unique_classes = list(set(classes.values()))\n",
    "fb_courses = {cls: [i for i in names if classes[i] == cls] for cls in unique_classes}\n",
    "fb_indices = {cls: [names.index(elem) for elem in elems if names.index(elem) < mds.embedding_.shape[0]] for cls, elems in fb_courses.items()} \n",
    "{k: v[:3] for k,v in list(fb_indices.items())[:3]}"
   ]
  },
  {
   "cell_type": "code",
   "execution_count": null,
   "id": "49538504-f1ed-430b-a593-48c273cab086",
   "metadata": {},
   "outputs": [],
   "source": [
    "with ThreeDFigure() as fig:\n",
    "    for ind, (clsname, indices) in enumerate(fb_indices.items()):\n",
    "        fig.add_markers(mds.embedding_[indices], color=ind, size=2, name=clsname)\n",
    "fig.show()"
   ]
  },
  {
   "cell_type": "code",
   "execution_count": null,
   "id": "ada9353b-1903-4e7c-9ac0-1c080cbc3d3e",
   "metadata": {},
   "outputs": [],
   "source": [
    "plot_allagainst = \"Wiwi\""
   ]
  },
  {
   "cell_type": "code",
   "execution_count": null,
   "id": "5b389aa2-3c27-4102-a321-e29d63d883b0",
   "metadata": {},
   "outputs": [],
   "source": [
    "flatten = lambda l: [item for sublist in l for item in sublist] \n",
    "grouped = {plot_allagainst: fb_indices[plot_allagainst], \"others\": flatten([val for key, val in fb_indices.items() if key != plot_allagainst])}\n",
    "{k: v[:3] for k,v in list(grouped.items())[:3]}"
   ]
  },
  {
   "cell_type": "code",
   "execution_count": null,
   "id": "da15b2ff-4532-4f88-8d23-3469a84df105",
   "metadata": {},
   "outputs": [],
   "source": [
    "with ThreeDFigure() as fig:\n",
    "    for ind, (clsname, indices) in enumerate(grouped.items()):\n",
    "        fig.add_markers(mds.embedding_[indices], color=ind, size=2, name=clsname)\n",
    "fig.show()"
   ]
  },
  {
   "cell_type": "code",
   "execution_count": null,
   "id": "7efc2f57-5ba5-4002-ae42-1b2d790dbe60",
   "metadata": {},
   "outputs": [],
   "source": [
    "classes = np.array([i in grouped[\"others\"] for i in range(mds.embedding_.shape[0])], dtype=int)\n",
    "\n",
    "svm = sklearn.svm.LinearSVC(dual=False, class_weight=\"balanced\")\n",
    "svm.fit(mds.embedding_, classes)\n",
    "svm_results = svm.decision_function(mds.embedding_)"
   ]
  },
  {
   "cell_type": "code",
   "execution_count": null,
   "id": "d2bc00c2-c519-4a4f-9bf9-3ddbfae6b875",
   "metadata": {},
   "outputs": [],
   "source": [
    "decision_plane = Plane(*svm.coef_[0], svm.intercept_[0])\n",
    "\n",
    "with ThreeDFigure() as fig:  \n",
    "    #fig.add_markers(mds.embedding_, color=classes, size=1)  # samples\n",
    "    for ind, (clsname, indices) in enumerate(grouped.items()):\n",
    "        fig.add_markers(mds.embedding_[indices], color=ind, size=1, name=clsname)\n",
    "    fig.add_surface(decision_plane, mds.embedding_, classes, 0.1, color=\"lightblue\", showlegend=True)   # decision hyperplane\n",
    "    \n",
    "    fig.add_line(X.mean(axis=0) - decision_plane.normal*20, X.mean(axis=0) + decision_plane.normal*20, width=5, name=\"orthogonal\") \n",
    "    fig.add_markers([0, 0, 0], size=3, name=\"coordinate center\") \n",
    "    #fig.add_line(-decision_plane.normal * 5, decision_plane.normal * 5)  # orthogonal of decision hyperplane through [0,0,0]\n",
    "    #fig.add_sample_projections(X, decision_plane.normal)  # orthogonal lines from the samples onto the decision hyperplane orthogonal\n",
    "\n",
    "fig.show()"
   ]
  },
  {
   "cell_type": "code",
   "execution_count": null,
   "id": "45e8e03e-2a39-424b-8884-db7ffe6781ad",
   "metadata": {},
   "outputs": [],
   "source": [
    "correct_preds = [classes[i] == (svm_results[i] > 0) for i in range(len(classes))]\n",
    "correct_percentage = round(sum(correct_preds)/len(correct_preds), 4)*100\n",
    "correct_percentage"
   ]
  },
  {
   "cell_type": "code",
   "execution_count": null,
   "id": "61fa99d9-ad91-4a66-bbba-c79664353a52",
   "metadata": {},
   "outputs": [],
   "source": [
    "conf_mat = sklearn.metrics.confusion_matrix(y_true=classes, y_pred=[svm_results[i] > 0 for i in range(len(classes))])\n",
    "sklearn.metrics.ConfusionMatrixDisplay.from_estimator(svm, X, y)"
   ]
  },
  {
   "cell_type": "code",
   "execution_count": null,
   "id": "8af202b5-85d2-429c-a3cc-0b979afb6047",
   "metadata": {},
   "outputs": [],
   "source": [
    "print(round(conf_mat[0,0]/conf_mat[0].sum()*100, 2))\n",
    "print(round(conf_mat[1,1]/conf_mat[1].sum()*100, 2))"
   ]
  }
 ],
 "metadata": {
  "kernelspec": {
   "display_name": "Python 3",
   "language": "python",
   "name": "python3"
  },
  "language_info": {
   "codemirror_mode": {
    "name": "ipython",
    "version": 3
   },
   "file_extension": ".py",
   "mimetype": "text/x-python",
   "name": "python",
   "nbconvert_exporter": "python",
   "pygments_lexer": "ipython3",
   "version": "3.8.8"
  }
 },
 "nbformat": 4,
 "nbformat_minor": 5
}
