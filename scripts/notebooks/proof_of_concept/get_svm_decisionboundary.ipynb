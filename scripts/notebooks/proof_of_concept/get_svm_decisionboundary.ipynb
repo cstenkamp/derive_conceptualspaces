{
 "cells": [
  {
   "cell_type": "code",
   "execution_count": null,
   "metadata": {},
   "outputs": [],
   "source": [
    "import numpy as np\n",
    "import matplotlib.pyplot as plt\n",
    "from sklearn import svm, datasets\n",
    "from sklearn.datasets import make_blobs"
   ]
  },
  {
   "cell_type": "markdown",
   "metadata": {},
   "source": [
    "# 2D"
   ]
  },
  {
   "cell_type": "code",
   "execution_count": null,
   "metadata": {},
   "outputs": [],
   "source": [
    "def make_meshgrid(x, y, h=.02):\n",
    "    \"\"\"Create a mesh of points to plot in\n",
    "\n",
    "    Parameters\n",
    "    ----------\n",
    "    x: data to base x-axis meshgrid on\n",
    "    y: data to base y-axis meshgrid on\n",
    "    h: stepsize for meshgrid, optional\n",
    "\n",
    "    Returns\n",
    "    -------\n",
    "    xx, yy : ndarray\n",
    "    \"\"\"\n",
    "    x_min, x_max = x.min() - 1, x.max() + 1\n",
    "    y_min, y_max = y.min() - 1, y.max() + 1\n",
    "    xx, yy = np.meshgrid(np.arange(x_min, x_max, h),\n",
    "                         np.arange(y_min, y_max, h))\n",
    "    return xx, yy\n",
    "\n",
    "\n",
    "def plot_contours(ax, clf, xx, yy, **params):\n",
    "    \"\"\"Plot the decision boundaries for a classifier.\n",
    "\n",
    "    Parameters\n",
    "    ----------\n",
    "    ax: matplotlib axes object\n",
    "    clf: a classifier\n",
    "    xx: meshgrid ndarray\n",
    "    yy: meshgrid ndarray\n",
    "    params: dictionary of params to pass to contourf, optional\n",
    "    \"\"\"\n",
    "    Z = clf.predict(np.c_[xx.ravel(), yy.ravel()])\n",
    "    Z = Z.reshape(xx.shape)\n",
    "    out = ax.contourf(xx, yy, Z, **params)\n",
    "    return out"
   ]
  },
  {
   "cell_type": "code",
   "execution_count": null,
   "metadata": {},
   "outputs": [],
   "source": [
    "# import some data to play with\n",
    "iris = datasets.load_iris()\n",
    "# Take the first two features. We could avoid this by using a two-dim dataset\n",
    "X = iris.data[:, :2]\n",
    "y = iris.target\n",
    "\n",
    "to_take_indices = list(set(np.arange(len(y)))-set(np.where(y==2)[0]))\n",
    "X = X[to_take_indices]\n",
    "y = y[to_take_indices]\n",
    "\n",
    "#...different dataset (you may comment me out):\n",
    "#X, y = make_blobs(n_samples=80, centers=2, random_state=6)"
   ]
  },
  {
   "cell_type": "code",
   "execution_count": null,
   "metadata": {},
   "outputs": [],
   "source": [
    "def plot_all(X, model, title):\n",
    "    X0, X1 = X[:, 0], X[:, 1]\n",
    "    xx, yy = make_meshgrid(X0, X1)\n",
    "    fig, ax = plt.subplots(1,1)\n",
    "    plot_contours(ax, model, xx, yy, cmap=plt.cm.coolwarm, alpha=0.8)\n",
    "    ax.scatter(X0, X1, c=y, cmap=plt.cm.coolwarm, s=20, edgecolors='k')\n",
    "    ax.set_xlim(xx.min(), xx.max())\n",
    "    ax.set_ylim(yy.min(), yy.max())\n",
    "    ax.set_xlabel('Sepal length')\n",
    "    ax.set_ylabel('Sepal width')\n",
    "    ax.set_title(title)\n",
    "    plt.show()\n",
    "    return ax.get_xlim(), ax.get_ylim()\n",
    "    \n",
    "\n",
    "def plot_all_2(X, model, title):\n",
    "    plt.scatter(X[:, 0], X[:, 1], c=y, s=30, cmap=plt.cm.Paired)\n",
    "    ax = plt.gca()\n",
    "    xlim = ax.get_xlim()\n",
    "    ylim = ax.get_ylim()\n",
    "\n",
    "    # create grid to evaluate model\n",
    "    xx = np.linspace(xlim[0], xlim[1], 30)\n",
    "    yy = np.linspace(ylim[0], ylim[1], 30)\n",
    "    YY, XX = np.meshgrid(yy, xx)\n",
    "    xy = np.vstack([XX.ravel(), YY.ravel()]).T\n",
    "    Z = model.decision_function(xy).reshape(XX.shape)\n",
    "\n",
    "    # plot decision boundary and margins\n",
    "    ax.contour(XX, YY, Z, colors='k', levels=[-1, 0, 1], alpha=0.5, linestyles=['--', '-', '--'])\n",
    "    # plot support vectors\n",
    "    if hasattr(model, \"support_vectors_\"):\n",
    "        ax.scatter(model.support_vectors_[:, 0], model.support_vectors_[:, 1], s=100, linewidth=1, facecolors='none', edgecolors='k')\n",
    "    ax.set_title(title)\n",
    "    plt.show()"
   ]
  },
  {
   "cell_type": "code",
   "execution_count": null,
   "metadata": {
    "pycharm": {
     "is_executing": true
    }
   },
   "outputs": [],
   "source": [
    "model = svm.LinearSVC(C=1, max_iter=10000).fit(X, y)\n",
    "print(\"Coefficients:\", model.coef_, \"Intercept:\", model.intercept_)\n",
    "xlim, ylim = plot_all(X, model, title='LinearSVC (linear kernel)')\n",
    "plot_all_2(X, model, title='LinearSVC (linear kernel)')"
   ]
  },
  {
   "cell_type": "code",
   "execution_count": null,
   "metadata": {
    "pycharm": {
     "is_executing": true
    }
   },
   "outputs": [],
   "source": [
    "model = svm.SVC(kernel='linear', C=1).fit(X, y)\n",
    "print(\"Coefficients:\", model.coef_, \"Intercept:\", model.intercept_)\n",
    "xlim, ylim = plot_all(X, model, title='LinearSVC (linear kernel)')\n",
    "plot_all_2(X, model, title='LinearSVC (linear kernel)')"
   ]
  },
  {
   "cell_type": "code",
   "execution_count": null,
   "metadata": {
    "pycharm": {
     "is_executing": true
    }
   },
   "outputs": [],
   "source": [
    "def abline(slope, intercept, xlim=(0,3), ylim=(0,3)):\n",
    "    \"\"\"Plot a line from slope and intercept\"\"\"\n",
    "    axes = plt.gca()\n",
    "    axes.set_xlim(xlim)\n",
    "    axes.set_ylim(ylim)\n",
    "    x_vals = np.array(axes.get_xlim())\n",
    "    y_vals = -intercept + slope * x_vals\n",
    "    plt.plot(x_vals, y_vals, '--')\n",
    "    \n",
    "\n",
    "def find_seperatrix(model):\n",
    "    W=model.coef_[0]\n",
    "    I=model.intercept_\n",
    "    a = -W[0]/W[1]\n",
    "    b = I[0]/W[1]\n",
    "    return a, b\n",
    "\n",
    "slope, intercept = find_seperatrix(model)\n",
    "\n",
    "print(slope, intercept)\n",
    "\n",
    "abline(slope, intercept, xlim, ylim)"
   ]
  },
  {
   "cell_type": "code",
   "execution_count": null,
   "metadata": {
    "pycharm": {
     "is_executing": true
    }
   },
   "outputs": [],
   "source": [
    "x_vals = np.array(xlim)\n",
    "y_vals = -intercept + slope * x_vals\n",
    "points = [np.array(i) for i in zip(x_vals, y_vals)]\n",
    "\n",
    "vector = points[1]-points[0]\n",
    "\n",
    "print(points)\n",
    "print(vector)"
   ]
  },
  {
   "cell_type": "code",
   "execution_count": null,
   "metadata": {
    "pycharm": {
     "is_executing": true
    }
   },
   "outputs": [],
   "source": [
    "def show_vectors(ax, vectors, vectors_with_start):\n",
    "    \"\"\"https://stackoverflow.com/a/42282532/5122790\"\"\"\n",
    "    HEAD_SIZE = 0.2\n",
    "    M = np.array(vectors)\n",
    "    colors = ['r','g','b','k','gray']\n",
    "    if vectors:\n",
    "        for i,l in enumerate(range(0,M.shape[0])):\n",
    "            ax.arrow(0,0,M[i,0],M[i,1],head_width=HEAD_SIZE,head_length=HEAD_SIZE,color = colors[i], length_includes_head=True)\n",
    "\n",
    "    colors = ['c','m','y']\n",
    "    if vectors_with_start:\n",
    "        for i,(xs,ys,xf,yf) in enumerate([(*i[0],*i[1]) for i in vectors_with_start]):\n",
    "            ax.arrow(xs,ys,xf,yf,head_width=HEAD_SIZE,head_length=HEAD_SIZE,color = colors[i], length_includes_head=True)\n",
    "\n",
    "    return ax"
   ]
  },
  {
   "cell_type": "code",
   "execution_count": null,
   "metadata": {
    "pycharm": {
     "is_executing": true
    }
   },
   "outputs": [],
   "source": [
    "def ortho_proj(a,b):\n",
    "    #https://en.wikipedia.org/wiki/Vector_projection\n",
    "    a1_sc = np.dot(a,(b/np.linalg.norm(b)))\n",
    "    b_hat = b/np.linalg.norm(b)\n",
    "    a1 = a1_sc*b_hat\n",
    "    a2 = a-a1\n",
    "    return a2"
   ]
  },
  {
   "cell_type": "code",
   "execution_count": null,
   "metadata": {
    "pycharm": {
     "is_executing": true
    }
   },
   "outputs": [],
   "source": [
    "center_point = points[0]+0.5*vector"
   ]
  },
  {
   "cell_type": "code",
   "execution_count": null,
   "metadata": {
    "pycharm": {
     "is_executing": true
    }
   },
   "outputs": [],
   "source": [
    "print(ortho_proj(vector, center_point))"
   ]
  },
  {
   "cell_type": "code",
   "execution_count": null,
   "metadata": {
    "pycharm": {
     "is_executing": true
    }
   },
   "outputs": [],
   "source": [
    "fig, ax = plt.subplots(figsize=(8,8))\n",
    "show_vectors(ax, [], [(points[0], vector), (center_point, ortho_proj(vector, center_point))])\n",
    "\n",
    "ax.plot(*center_point,'ok') \n",
    "ax.set_aspect('equal', 'box')\n",
    "plt.grid(b=True, which='major')\n",
    "\n",
    "plt.xlim(xlim)\n",
    "plt.ylim(ylim)\n",
    "plt.show()"
   ]
  },
  {
   "cell_type": "code",
   "execution_count": null,
   "metadata": {
    "pycharm": {
     "is_executing": true
    }
   },
   "outputs": [],
   "source": [
    "print(model.coef_[0])\n",
    "print(center_point+model.coef_[0])"
   ]
  },
  {
   "cell_type": "code",
   "execution_count": null,
   "metadata": {
    "pycharm": {
     "is_executing": true
    }
   },
   "outputs": [],
   "source": [
    "fig, ax = plt.subplots(figsize=(8,8))\n",
    "show_vectors(ax, [], [(points[0], vector), (center_point, ortho_proj(vector, center_point)), (center_point, model.coef_[0])])\n",
    "\n",
    "ax.plot(*center_point,'ok') \n",
    "ax.set_aspect('equal', 'box')\n",
    "plt.grid(b=True, which='major')\n",
    "\n",
    "plt.xlim(xlim)\n",
    "plt.ylim(ylim)\n",
    "plt.show()"
   ]
  },
  {
   "cell_type": "markdown",
   "metadata": {},
   "source": [
    "# 3D"
   ]
  },
  {
   "cell_type": "code",
   "execution_count": null,
   "metadata": {
    "pycharm": {
     "is_executing": true
    }
   },
   "outputs": [],
   "source": [
    "#https://stackoverflow.com/a/51301399/5122790 !!!\n",
    "import plotly.express as px\n",
    "import plotly.graph_objects as go\n",
    "from mpl_toolkits import mplot3d"
   ]
  },
  {
   "cell_type": "code",
   "execution_count": null,
   "metadata": {
    "pycharm": {
     "is_executing": true
    }
   },
   "outputs": [],
   "source": [
    "# import some data to play with\n",
    "iris = datasets.load_iris()\n",
    "# Take the first 3 features. We could avoid this by using a two-dim dataset\n",
    "X = iris.data[:, :3]\n",
    "y = iris.target\n",
    "\n",
    "to_take_indices = list(set(np.arange(len(y)))-set(np.where(y==2)[0]))\n",
    "X = X[to_take_indices]\n",
    "y = y[to_take_indices]"
   ]
  },
  {
   "cell_type": "code",
   "execution_count": null,
   "metadata": {
    "pycharm": {
     "is_executing": true
    }
   },
   "outputs": [],
   "source": [
    "fig = go.Figure()\n",
    "fig.add_trace(\n",
    "        go.Scatter3d(\n",
    "            mode='markers',\n",
    "            x=X[:,0],\n",
    "            y=X[:,1],\n",
    "            z=X[:,2],\n",
    "            marker=dict(            \n",
    "                color=y,\n",
    "                size=2,\n",
    "                line=dict(\n",
    "                    width=0\n",
    "                )\n",
    "            ),\n",
    "        )\n",
    "    )"
   ]
  },
  {
   "cell_type": "code",
   "execution_count": null,
   "metadata": {
    "pycharm": {
     "is_executing": true
    }
   },
   "outputs": [],
   "source": [
    "model = svm.LinearSVC(C=1, max_iter=10000).fit(X, y)\n",
    "print(\"Coefficients:\", model.coef_, \"Intercept:\", model.intercept_)"
   ]
  },
  {
   "cell_type": "code",
   "execution_count": null,
   "metadata": {
    "pycharm": {
     "is_executing": true
    }
   },
   "outputs": [],
   "source": [
    "fig = plt.figure(figsize=(8, 6))\n",
    "ax = plt.axes(projection='3d')\n",
    "ax.scatter(X[:,0], X[:,1], X[:,2], color=[\"r\" if i==0 else \"b\" for i in y])\n",
    "plt.show()"
   ]
  },
  {
   "cell_type": "code",
   "execution_count": null,
   "metadata": {
    "pycharm": {
     "is_executing": true
    }
   },
   "outputs": [],
   "source": [
    "def plot_3d_boundary(clf, MESHGRID_AMT=30):\n",
    "    # The equation of the separating plane is given by all x so that np.dot(svc.coef_[0], x) + b = 0.\n",
    "    # Solve for w3 (z)\n",
    "    z = lambda clf, x,y: (-clf.intercept_[0]-clf.coef_[0][0]*x -clf.coef_[0][1]*y) / clf.coef_[0][2]\n",
    "    # https://stackoverflow.com/a/51301399/5122790 !!!\n",
    "\n",
    "    lsx = np.linspace(min(X[:,0])-0.5, max(X[:,0])-0.5, MESHGRID_AMT)\n",
    "    lsy = np.linspace(min(X[:,1])-0.5, max(X[:,1])-0.5, MESHGRID_AMT)\n",
    "    xx, yy = np.meshgrid(lsx,lsy)\n",
    "\n",
    "    fig = plt.figure()\n",
    "    ax  = fig.add_subplot(111, projection='3d')\n",
    "    ax.plot3D(X[y==0,0], X[y==0,1], X[y==0,2],'ob')\n",
    "    ax.plot3D(X[y==1,0], X[y==1,1], X[y==1,2],'sr')\n",
    "    ax.plot_surface(xx, yy, z(clf,xx,yy))\n",
    "    ax.view_init(30, 60)\n",
    "    plt.show()\n",
    "    \n",
    "plot_3d_boundary(model)"
   ]
  },
  {
   "cell_type": "code",
   "execution_count": null,
   "metadata": {
    "pycharm": {
     "is_executing": true
    }
   },
   "outputs": [],
   "source": [
    "model.coef_[0]"
   ]
  },
  {
   "cell_type": "code",
   "execution_count": null,
   "metadata": {
    "pycharm": {
     "is_executing": true
    }
   },
   "outputs": [],
   "source": [
    "MESHGRID_AMT = 30\n",
    "lsx = np.linspace(min(X[:,0])-0.5, max(X[:,0])-0.5, MESHGRID_AMT)\n",
    "lsy = np.linspace(min(X[:,1])-0.5, max(X[:,1])-0.5, MESHGRID_AMT)\n",
    "xx, yy = np.meshgrid(lsx,lsy)\n",
    "z = lambda clf, x,y: (-clf.intercept_[0]-clf.coef_[0][0]*x -clf.coef_[0][1]*y) / clf.coef_[0][2]\n",
    "fig = go.Figure(data=[go.Surface(x=xx, y=yy, z=z(model,xx,yy))])\n",
    "fig.add_trace(\n",
    "        go.Scatter3d(\n",
    "            mode='markers',\n",
    "            x=X[:,0],\n",
    "            y=X[:,1],\n",
    "            z=X[:,2],\n",
    "            marker=dict(            \n",
    "                color=y,\n",
    "                size=2,\n",
    "                line=dict(\n",
    "                    width=0\n",
    "                )\n",
    "            ),\n",
    "        )\n",
    "    )"
   ]
  },
  {
   "cell_type": "code",
   "execution_count": null,
   "metadata": {
    "pycharm": {
     "is_executing": true
    }
   },
   "outputs": [],
   "source": [
    "#https://stackoverflow.com/questions/43164909/plotlypython-how-to-plot-arrows-in-3d\n",
    "vector = go.Scatter3d(x = [0,10],\n",
    "                      y = [0,10],\n",
    "                      z = [0,10],\n",
    "                      marker = dict(size = 1),\n",
    "                      line = dict(width = 6)\n",
    "                     )\n",
    "\n",
    "go.Figure(data=[vector])"
   ]
  },
  {
   "cell_type": "code",
   "execution_count": null,
   "metadata": {
    "pycharm": {
     "is_executing": true
    }
   },
   "outputs": [],
   "source": [
    "MESHGRID_AMT = 30\n",
    "lsx = np.linspace(min(X[:,0])-0.5, max(X[:,0])-0.5, MESHGRID_AMT)\n",
    "lsy = np.linspace(min(X[:,1])-0.5, max(X[:,1])-0.5, MESHGRID_AMT)\n",
    "xx, yy = np.meshgrid(lsx,lsy)\n",
    "z = lambda clf, x,y: (-clf.intercept_[0]-clf.coef_[0][0]*x -clf.coef_[0][1]*y) / clf.coef_[0][2]\n",
    "fig = go.Figure(data=[go.Surface(x=xx, y=yy, z=z(model,xx,yy))])\n",
    "fig.add_trace(\n",
    "        go.Scatter3d(\n",
    "            mode='markers',\n",
    "            x=X[:,0],\n",
    "            y=X[:,1],\n",
    "            z=X[:,2],\n",
    "            marker=dict(            \n",
    "                color=y,\n",
    "                size=2,\n",
    "                line=dict(\n",
    "                    width=0\n",
    "                )\n",
    "            ),\n",
    "        )\n",
    "    )\n",
    "fig.add_trace(\n",
    "    go.Scatter3d(x = [X.mean(axis=0)[0]-model.coef_[0][0], model.coef_[0][0]+X.mean(axis=0)[0]],\n",
    "                 y = [X.mean(axis=0)[1]-model.coef_[0][1], model.coef_[0][1]+X.mean(axis=0)[1]],\n",
    "                 z = [X.mean(axis=0)[2]-model.coef_[0][2], model.coef_[0][2]+X.mean(axis=0)[2]],\n",
    "                 marker = dict(size = 1),\n",
    "                 line = dict(width = 6)\n",
    "                 )\n",
    "    )"
   ]
  },
  {
   "cell_type": "markdown",
   "metadata": {},
   "source": [
    "## Now try to map points onto that vector.... uff"
   ]
  },
  {
   "cell_type": "code",
   "execution_count": null,
   "metadata": {
    "pycharm": {
     "is_executing": true
    }
   },
   "outputs": [],
   "source": [
    "def ortho_rejection_affine(first, second, candidate):\n",
    "    \"\"\"https://en.wikipedia.org/wiki/Vector_projection\"\"\"\n",
    "    b = second-first\n",
    "    a = candidate\n",
    "    a1_sc = np.dot(a,(b/np.linalg.norm(b)))\n",
    "    b_hat = b/np.linalg.norm(b)\n",
    "    a1 = a1_sc*b_hat\n",
    "    a2 = a-a1\n",
    "    return a2*-1\n",
    "\n",
    "def ortho_projection_affine(first, second, candidate):\n",
    "    \"\"\"https://en.wikipedia.org/wiki/Vector_projection\"\"\"\n",
    "    b = second-first\n",
    "    a = candidate\n",
    "    a1_sc = np.dot(a,(b/np.linalg.norm(b)))\n",
    "    b_hat = b/np.linalg.norm(b)\n",
    "    a1 = a1_sc*b_hat\n",
    "    return a1\n",
    "\n",
    "\n",
    "def ortho_rejection_affine_2(first, candidate):\n",
    "    \"\"\"https://en.wikipedia.org/wiki/Vector_projection\"\"\"\n",
    "    b = first\n",
    "    a = candidate\n",
    "    a1_sc = np.dot(a,(b/np.linalg.norm(b)))\n",
    "    b_hat = b/np.linalg.norm(b)\n",
    "    a1 = a1_sc*b_hat\n",
    "    a2 = a-a1\n",
    "    return a2*-1\n",
    "\n",
    "def ortho_projection_affine_2(first, candidate):\n",
    "    \"\"\"https://en.wikipedia.org/wiki/Vector_projection\"\"\"\n",
    "    a, b = first, candidate \n",
    "    return np.dot(np.dot(a,b)/np.dot(b,b),b)"
   ]
  },
  {
   "cell_type": "code",
   "execution_count": null,
   "metadata": {
    "pycharm": {
     "is_executing": true
    }
   },
   "outputs": [],
   "source": [
    "MESHGRID_AMT = 30\n",
    "lsx = np.linspace(min(X[:,0])-0.5, max(X[:,0])-0.5, MESHGRID_AMT)\n",
    "lsy = np.linspace(min(X[:,1])-0.5, max(X[:,1])-0.5, MESHGRID_AMT)\n",
    "xx, yy = np.meshgrid(lsx,lsy)\n",
    "z = lambda clf, x,y: (-clf.intercept_[0]-clf.coef_[0][0]*x -clf.coef_[0][1]*y) / clf.coef_[0][2]\n",
    "\n",
    "layout = go.Layout(\n",
    "            scene=dict(camera=dict(eye=dict(x=1, y=1, z=1)), #the default values are 1.25, 1.25, 1.25\n",
    "                       xaxis=dict(),\n",
    "                       yaxis=dict(),\n",
    "                       zaxis=dict(),\n",
    "                       aspectmode=\"data\", #this string can be 'data', 'cube', 'auto', 'manual'\n",
    "                       #a custom aspectratio is defined as follows:\n",
    "                       #aspectratio=dict(x=1, y=1, z=0.95)\n",
    "                    )\n",
    "         )\n",
    "\n",
    "fig = go.Figure(data=[go.Surface(x=xx, y=yy, z=z(model,xx,yy))], layout=layout)\n",
    "\n",
    "#https://community.plotly.com/t/creating-a-3d-scatterplot-with-equal-scale-along-all-axes/15108/7\n",
    "fig.update_layout(\n",
    "    autosize=True,\n",
    "    width=1000,\n",
    "    height=800,\n",
    "    margin=dict(\n",
    "        l=10,\n",
    "        r=10,\n",
    "        b=10,\n",
    "        t=10,\n",
    "        pad=4\n",
    "    ),\n",
    "    paper_bgcolor=\"White\",\n",
    ")\n",
    "\n",
    "\n",
    "fig.add_trace(\n",
    "        go.Scatter3d(\n",
    "            mode='markers',\n",
    "            x=X[:,0],\n",
    "            y=X[:,1],\n",
    "            z=X[:,2],\n",
    "            marker=dict(            \n",
    "                color=y,\n",
    "                size=2,\n",
    "                line=dict(\n",
    "                    width=0\n",
    "                )\n",
    "            ),\n",
    "        )\n",
    "    )\n",
    "fig.add_trace(\n",
    "    go.Scatter3d(x = [X.mean(axis=0)[0]-model.coef_[0][0], model.coef_[0][0]+X.mean(axis=0)[0]],\n",
    "                 y = [X.mean(axis=0)[1]-model.coef_[0][1], model.coef_[0][1]+X.mean(axis=0)[1]],\n",
    "                 z = [X.mean(axis=0)[2]-model.coef_[0][2], model.coef_[0][2]+X.mean(axis=0)[2]],\n",
    "                 marker = dict(size = 1),\n",
    "                 line = dict(width = 6)\n",
    "                 )\n",
    "    )\n",
    "fig.add_trace(\n",
    "    go.Scatter3d(x = [-model.coef_[0][0]*5, model.coef_[0][0]*5],\n",
    "                 y = [-model.coef_[0][1]*5, model.coef_[0][1]*5],\n",
    "                 z = [-model.coef_[0][2]*5, model.coef_[0][2]*5],\n",
    "                 marker = dict(size = 1),\n",
    "                 line = dict(width = 6)\n",
    "                 )\n",
    "    )\n",
    "fig.add_trace(\n",
    "    go.Scatter3d(x = [0],\n",
    "                 y = [0],\n",
    "                 z = [0],\n",
    "                 marker = dict(size = 3, color=\"black\"),\n",
    "                 )\n",
    "    )\n",
    "\n",
    "print(\"Projecting onto:\", model.coef_[0])\n",
    "for n,point in enumerate(X):\n",
    "    rej = ortho_rejection_affine_2(point, model.coef_[0])\n",
    "    proj = ortho_projection_affine_2(point, model.coef_[0])\n",
    "    fig.add_trace(\n",
    "    go.Scatter3d(x = [point[0], proj[0]],\n",
    "                 y = [point[1], proj[1]],\n",
    "                 z = [point[2], proj[2]],\n",
    "                 marker = dict(size = 1),\n",
    "                 line = dict(width = 6)\n",
    "                 )\n",
    "    )\n",
    "    \n",
    "    \n",
    "fig"
   ]
  },
  {
   "cell_type": "code",
   "execution_count": null,
   "metadata": {
    "pycharm": {
     "is_executing": true
    }
   },
   "outputs": [],
   "source": []
  }
 ],
 "metadata": {
  "kernelspec": {
   "display_name": "Python 3",
   "language": "python",
   "name": "python3"
  },
  "language_info": {
   "codemirror_mode": {
    "name": "ipython",
    "version": 3
   },
   "file_extension": ".py",
   "mimetype": "text/x-python",
   "name": "python",
   "nbconvert_exporter": "python",
   "pygments_lexer": "ipython3",
   "version": "3.8.8"
  }
 },
 "nbformat": 4,
 "nbformat_minor": 1
}
