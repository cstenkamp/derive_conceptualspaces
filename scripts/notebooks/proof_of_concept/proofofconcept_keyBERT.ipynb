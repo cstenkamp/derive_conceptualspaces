{
 "cells": [
  {
   "cell_type": "markdown",
   "id": "29ce79b8",
   "metadata": {},
   "source": [
    "## Problem: By removing stopwords, what KeyBERT finds is not a suphrase of the text."
   ]
  },
  {
   "cell_type": "code",
   "execution_count": null,
   "id": "2c0b7bfd",
   "metadata": {},
   "outputs": [],
   "source": [
    "text = \"\"\"This seminar will be based on two novels by the Argentine writer Roberto Arlt: \"The Rabid Toy\" (1926) and \"The Seven Fools\" (1929) and will be devoted to researching these novels under aspects taken from cultural and literary studies. This is how the question of the socio-historical and cultural context of Argentina at the beginning of the 20th century will come into play, as well as of social and cultural changes or scenes of individual identity crisis in a society that is increasingly directed and driven by money. , for constant failures, unstoppable progress but without prospects for the individual. It will try to investigate how Arlt's texts collect these themes and how he represents them, that is, the central method will be discourse analysis and the starting point will be the question of how to represent and capture the profound changes of that time in literature. essential attendance: 1) reading of the texts until the first class 2) regular and active attendance 3) organization of a class in groups (2-3 people, 60 min. in total) & written work of 12-15 pages The seminar will take place in Spanish (with the possibility of clarifying some points in German if necessary). Recommended editions: Arlt, Roberto: The rabid toy, ed. by Rita Gnutzmann. Madrid: Cátedra Letras Hispánica 2011 (sixth edition). [ISBN: 978-84-376-0511-1] - The seven madmen, ed. by Flora Guzmán. Madrid: Cátedra Letras Hispánica 2011 (fifth edition). [ISBN: 978-84-376-1119-8]\"\"\"\n",
    "text"
   ]
  },
  {
   "cell_type": "code",
   "execution_count": null,
   "id": "69dd9242",
   "metadata": {},
   "outputs": [],
   "source": [
    "from keybert import KeyBERT\n",
    "kw_model = KeyBERT()\n",
    "keywords = kw_model.extract_keywords(text.lower(), keyphrase_ngram_range=(1, 3), stop_words=stopwords.words(\"english\"))"
   ]
  },
  {
   "cell_type": "code",
   "execution_count": null,
   "id": "e5a74667",
   "metadata": {},
   "outputs": [],
   "source": [
    "keywords"
   ]
  },
  {
   "cell_type": "code",
   "execution_count": null,
   "id": "c5a97a05",
   "metadata": {},
   "outputs": [],
   "source": [
    "from nltk.corpus import stopwords\n",
    "from nltk.tokenize import sent_tokenize, word_tokenize\n",
    "stopwords.words(\"english\")[:10]"
   ]
  },
  {
   "cell_type": "code",
   "execution_count": null,
   "id": "2dca3942",
   "metadata": {},
   "outputs": [],
   "source": [
    "indwords = [(ind,word) for ind,word in enumerate(word_tokenize(text)) if word not in stopwords.words(\"english\")]\n",
    "inds, words = list(zip(*indwords))\n",
    "assert not any(\" \" in i for i in words)\n",
    "words[:10]"
   ]
  },
  {
   "cell_type": "code",
   "execution_count": null,
   "id": "b9748edf",
   "metadata": {},
   "outputs": [],
   "source": [
    "withoutstops = \" \".join(words).lower()"
   ]
  },
  {
   "cell_type": "code",
   "execution_count": null,
   "id": "e94b9a3b",
   "metadata": {},
   "outputs": [],
   "source": [
    "start_positions = [((start := withoutstops.find(i)), start+len(i)) for i in [j[0] for j in keywords]]\n",
    "start_positions"
   ]
  },
  {
   "cell_type": "code",
   "execution_count": null,
   "id": "13811871",
   "metadata": {},
   "outputs": [],
   "source": [
    "[withoutstops[i:j] for i,j in start_positions]"
   ]
  },
  {
   "cell_type": "code",
   "execution_count": null,
   "id": "c06e4f76",
   "metadata": {},
   "outputs": [],
   "source": [
    "start_indices_withoutstops = [withoutstops[:i].count(\" \") for i,j in start_positions]\n",
    "start_indices_withoutstops"
   ]
  },
  {
   "cell_type": "code",
   "execution_count": null,
   "id": "b7081040",
   "metadata": {},
   "outputs": [],
   "source": [
    "actual_keyphrases = []\n",
    "for start_ind, (startpos, stoppos) in zip(start_indices_withoutstops, start_positions):\n",
    "    full_phrase = withoutstops[startpos:stoppos]\n",
    "    last_word = full_phrase.split(\" \")[-1]\n",
    "    from_start = word_tokenize(text.lower())[inds[start_ind]:]\n",
    "    actual_keyphrases.append(\" \".join(from_start[:from_start.index(last_word)+1]))\n",
    "\n",
    "actual_keyphrases"
   ]
  },
  {
   "cell_type": "code",
   "execution_count": null,
   "id": "842fce2c",
   "metadata": {},
   "outputs": [],
   "source": [
    "[i in text.lower() for i in actual_keyphrases]"
   ]
  },
  {
   "cell_type": "markdown",
   "id": "8d525d5d",
   "metadata": {},
   "source": [
    "# One function out of that:"
   ]
  },
  {
   "cell_type": "code",
   "execution_count": null,
   "id": "1ebdd11e",
   "metadata": {},
   "outputs": [],
   "source": [
    "text = \"\"\"This seminar will be based on two novels by the Argentine writer Roberto Arlt: \"The Rabid Toy\" (1926) and \"The Seven Fools\" (1929) and will be devoted to researching these novels under aspects taken from cultural and literary studies. This is how the question of the socio-historical and cultural context of Argentina at the beginning of the 20th century will come into play, as well as of social and cultural changes or scenes of individual identity crisis in a society that is increasingly directed and driven by money. , for constant failures, unstoppable progress but without prospects for the individual. It will try to investigate how Arlt's texts collect these themes and how he represents them, that is, the central method will be discourse analysis and the starting point will be the question of how to represent and capture the profound changes of that time in literature. essential attendance: 1) reading of the texts until the first class 2) regular and active attendance 3) organization of a class in groups (2-3 people, 60 min. in total) & written work of 12-15 pages The seminar will take place in Spanish (with the possibility of clarifying some points in German if necessary). Recommended editions: Arlt, Roberto: The rabid toy, ed. by Rita Gnutzmann. Madrid: Cátedra Letras Hispánica 2011 (sixth edition). [ISBN: 978-84-376-0511-1] - The seven madmen, ed. by Flora Guzmán. Madrid: Cátedra Letras Hispánica 2011 (fifth edition). [ISBN: 978-84-376-1119-8]\"\"\"\n",
    "text"
   ]
  },
  {
   "cell_type": "code",
   "execution_count": null,
   "id": "892fdb63",
   "metadata": {},
   "outputs": [],
   "source": [
    "from keybert import KeyBERT\n",
    "from nltk.corpus import stopwords as nlstopwords\n",
    "from nltk.tokenize import word_tokenize\n",
    "\n",
    "kw_model = KeyBERT()\n",
    "stopwordlanguages = {\"en\": \"english\", \"de\": \"german\"}\n",
    "lang = \"en\"\n",
    "\n",
    "def extract(kw_model, text, lang=\"en\"):\n",
    "    assert lang in stopwordlanguages\n",
    "    stopwords = nlstopwords.words(stopwordlanguages[lang])\n",
    "\n",
    "    candidates = set()\n",
    "    for nwords in range(1, 4):\n",
    "        n_candidates = kw_model.extract_keywords(text, keyphrase_ngram_range=(1, nwords), stop_words=stopwords)\n",
    "        candidates |= set(i[0] for i in n_candidates)\n",
    "    candidates = list(candidates)\n",
    "\n",
    "    indwords = [(ind,word) for ind,word in enumerate(word_tokenize(text)) if word not in stopwords]\n",
    "    inds, words = list(zip(*indwords))\n",
    "    assert not any(\" \" in i for i in words)\n",
    "    withoutstops = \" \".join(words).lower()\n",
    "    start_positions = [((start := withoutstops.find(i)), start+len(i)) for i in candidates]\n",
    "    start_indices_withoutstops = [withoutstops[:i].count(\" \") for i,j in start_positions]\n",
    "    actual_keyphrases = []\n",
    "    for start_ind, (startpos, stoppos) in zip(start_indices_withoutstops, start_positions):\n",
    "        full_phrase = withoutstops[startpos:stoppos]\n",
    "        last_word = full_phrase.split(\" \")[-1]\n",
    "        from_start = word_tokenize(text.lower())[inds[start_ind]:]\n",
    "        actual_keyphrases.append(\" \".join(from_start[:from_start.index(last_word)+1]))\n",
    "    return actual_keyphrases\n"
   ]
  },
  {
   "cell_type": "code",
   "execution_count": null,
   "id": "407c4616",
   "metadata": {},
   "outputs": [],
   "source": [
    "keyphrases = extract(kw_model, text, lang)\n",
    "keyphrases"
   ]
  },
  {
   "cell_type": "code",
   "execution_count": null,
   "id": "2b12e0e7",
   "metadata": {},
   "outputs": [],
   "source": [
    "all(i in text.lower() for i in keyphrases)"
   ]
  }
 ],
 "metadata": {
  "kernelspec": {
   "display_name": "Python 3",
   "language": "python",
   "name": "python3"
  },
  "language_info": {
   "codemirror_mode": {
    "name": "ipython",
    "version": 3
   },
   "file_extension": ".py",
   "mimetype": "text/x-python",
   "name": "python",
   "nbconvert_exporter": "python",
   "pygments_lexer": "ipython3",
   "version": "3.8.8"
  }
 },
 "nbformat": 4,
 "nbformat_minor": 5
}
