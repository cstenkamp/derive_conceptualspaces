{
 "cells": [
  {
   "cell_type": "code",
   "execution_count": null,
   "id": "d0131a0a-8231-4fb5-9012-67e32d60827f",
   "metadata": {},
   "outputs": [],
   "source": [
    "from matplotlib import pyplot as plt\n",
    "import plotly.express as px\n",
    "import plotly.graph_objects as go\n",
    "import pandas as pd\n",
    "import numpy as np\n",
    "\n",
    "from src.main.util.threedfigure import ThreeDFigure"
   ]
  },
  {
   "cell_type": "code",
   "execution_count": null,
   "id": "08c38f84-d543-486b-a5d0-0cfbad365172",
   "metadata": {},
   "outputs": [],
   "source": [
    "#sample how to make some part of the surface plot invisible (see https://community.plotly.com/t/visually-marking-numpys-nan-as-grey/17007/2, https://plotly.com/python/colorscales/)\n",
    "z = pd.read_csv('https://raw.githubusercontent.com/plotly/datasets/master/api_docs/mt_bruno_elevation.csv').values/100\n",
    "col = np.zeros(z.shape)\n",
    "col[-10:, -10:] = 1\n",
    "#plt.imshow(z);\n",
    "#plt.imshow(col);\n",
    "with ThreeDFigure() as fig:\n",
    "    fig.fig.add_trace(go.Surface(\n",
    "            z=z,\n",
    "            surfacecolor=col,\n",
    "            cmin = 0,\n",
    "            cmax = 1,\n",
    "            colorscale=[[0, 'red'], [0.999, 'red'], [1, \"rgba(0,0,0,0)\"]],\n",
    "    ))\n",
    "fig.show()"
   ]
  }
 ],
 "metadata": {
  "kernelspec": {
   "display_name": "Python 3",
   "language": "python",
   "name": "python3"
  },
  "language_info": {
   "codemirror_mode": {
    "name": "ipython",
    "version": 3
   },
   "file_extension": ".py",
   "mimetype": "text/x-python",
   "name": "python",
   "nbconvert_exporter": "python",
   "pygments_lexer": "ipython3",
   "version": "3.8.8"
  }
 },
 "nbformat": 4,
 "nbformat_minor": 5
}
