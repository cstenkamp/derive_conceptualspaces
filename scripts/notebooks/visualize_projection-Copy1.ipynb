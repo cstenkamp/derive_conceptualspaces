{
 "cells": [
  {
   "cell_type": "code",
   "execution_count": null,
   "id": "e76a0527-f336-4e8d-b576-2c48a2b25b30",
   "metadata": {},
   "outputs": [],
   "source": [
    "import numpy as np\n",
    "import matplotlib.pyplot as plt\n",
    "import scipy"
   ]
  },
  {
   "cell_type": "code",
   "execution_count": null,
   "id": "cd03db21-04f3-4532-a9a4-d849afb6f3f9",
   "metadata": {},
   "outputs": [],
   "source": [
    "def show_vectors(vectors, vectors_with_start, figsize=(15, 15)):\n",
    "    \"\"\"https://stackoverflow.com/a/42282532/5122790\"\"\"\n",
    "    fig, ax = plt.subplots(figsize=figsize)\n",
    "    HEAD_SIZE = 0.2\n",
    "    M = np.array(vectors)\n",
    "    colors = ['r','g','b','k','gray']\n",
    "    for i,l in enumerate(range(0,M.shape[0])):\n",
    "        ax.arrow(0,0,M[i,0],M[i,1],head_width=HEAD_SIZE,head_length=HEAD_SIZE,color = colors[i], length_includes_head=True)\n",
    "\n",
    "    colors = ['c','m','y']\n",
    "    for i,(xs,ys,xf,yf) in enumerate([(*i[0],*i[1]) for i in vectors_with_start]):\n",
    "        ax.arrow(xs,ys,xf,yf,head_width=HEAD_SIZE,head_length=HEAD_SIZE,color = colors[i], length_includes_head=True)\n",
    "\n",
    "    maxes = 1.1*np.amax(np.vstack(((np.amax(abs(np.array([sum(i) for i in vectors_with_start])),axis=0) if vectors_with_start else np.array((0,0))),np.amax(abs(M), axis = 0))), axis=0)\n",
    "    plt.plot(0,0,'ok') #plot a black point at the origin\n",
    "    plt.xlim([-maxes[0],maxes[0]])\n",
    "    plt.ylim([-maxes[1],maxes[1]])\n",
    "    ax.set_aspect('equal', 'box')\n",
    "    plt.grid(b=True, which='major')\n",
    "    plt.show()"
   ]
  },
  {
   "cell_type": "code",
   "execution_count": null,
   "id": "57865dd8-eee7-440e-ad53-68adc3cec0e2",
   "metadata": {},
   "outputs": [],
   "source": [
    "def ortho_proj(a,b):\n",
    "    #https://en.wikipedia.org/wiki/Vector_projection\n",
    "    a1_sc = np.dot(a,(b/np.linalg.norm(b)))\n",
    "    b_hat = b/np.linalg.norm(b)\n",
    "    a1 = a1_sc*b_hat\n",
    "    a2 = a-a1\n",
    "    return a2"
   ]
  },
  {
   "cell_type": "code",
   "execution_count": null,
   "id": "17df536b-651b-453d-b053-4f63b6a8af24",
   "metadata": {},
   "outputs": [],
   "source": [
    "a = np.array([-1,5])\n",
    "b = np.array([1,2])\n",
    "proj = ortho_proj(a,b)\n",
    "show_vectors([a,b,proj],[(a,proj*-1)], figsize=(8,8))\n",
    "#red is a, green is b, blue SHOULD BE the projection from b on a"
   ]
  },
  {
   "cell_type": "code",
   "execution_count": null,
   "id": "5149c9df-0131-4247-b7e5-e0de8ac88519",
   "metadata": {},
   "outputs": [],
   "source": [
    "a = np.array([1,1])\n",
    "b = np.array([1,2])\n",
    "proj = ortho_proj(a,b)\n",
    "show_vectors([a,b],[(a,proj*-1)], figsize=(8,8))\n",
    "#red is a, green is b, cyan the projection from a onto b."
   ]
  },
  {
   "cell_type": "code",
   "execution_count": null,
   "id": "307511ed-182b-4f73-9b10-d38e9da260bf",
   "metadata": {},
   "outputs": [],
   "source": [
    "a = np.array([2,1])\n",
    "b = np.array([1,2])\n",
    "proj = ortho_proj(a,b)\n",
    "show_vectors([a,b],[(a,proj*-1)], figsize=(8,8))\n",
    "#red is a, green is b, cyan the projection from a onto b"
   ]
  },
  {
   "cell_type": "code",
   "execution_count": null,
   "id": "80ef5d00-e13f-48d1-9502-ccc0c8f2fc4a",
   "metadata": {},
   "outputs": [],
   "source": [
    "a = np.array([-1,1])\n",
    "b = np.array([1,2])\n",
    "proj = ortho_proj(a,b)\n",
    "show_vectors([a,b],[(a,proj*-1)], figsize=(8,8))\n",
    "#red is a, green is b, cyan the projection from a onto b"
   ]
  },
  {
   "cell_type": "code",
   "execution_count": null,
   "id": "2c1c5357-3dc9-4618-b50a-cc0c086764e2",
   "metadata": {},
   "outputs": [],
   "source": [
    "a = np.array([-1,5])\n",
    "b = np.array([1,2])*2\n",
    "proj = ortho_proj(a,b)\n",
    "show_vectors([a,b],[(a,proj*-1)], figsize=(8,8))\n",
    "#red is a, green is b, cyan the projection from a onto b"
   ]
  },
  {
   "cell_type": "code",
   "execution_count": null,
   "id": "69e36bd3-2f44-4b13-8da7-516d1e287b16",
   "metadata": {},
   "outputs": [],
   "source": [
    "a = np.array([5,-3])\n",
    "b = np.array([3,3])\n",
    "proj = ortho_proj(a,b)\n",
    "print(proj)\n",
    "show_vectors([a,b],[(a,proj*-1)], figsize=(8,8))\n",
    "#red is a, green is b, cyan the projection from a onto b"
   ]
  },
  {
   "cell_type": "code",
   "execution_count": null,
   "id": "8298ebc5-0136-4738-9876-5cb37b30b30a",
   "metadata": {},
   "outputs": [],
   "source": []
  }
 ],
 "metadata": {
  "kernelspec": {
   "display_name": "Python 3",
   "language": "python",
   "name": "python3"
  },
  "language_info": {
   "codemirror_mode": {
    "name": "ipython",
    "version": 3
   },
   "file_extension": ".py",
   "mimetype": "text/x-python",
   "name": "python",
   "nbconvert_exporter": "python",
   "pygments_lexer": "ipython3",
   "version": "3.8.8"
  }
 },
 "nbformat": 4,
 "nbformat_minor": 5
}
