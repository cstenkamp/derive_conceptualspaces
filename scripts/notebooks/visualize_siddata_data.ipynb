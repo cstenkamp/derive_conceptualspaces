{
 "cells": [
  {
   "cell_type": "code",
   "execution_count": null,
   "metadata": {
    "tags": [
     "keep_output"
    ]
   },
   "outputs": [
    {
     "name": "stderr",
     "output_type": "stream",
     "text": [
      "100%|██████████| 100/100 [00:02<00:00, 40.52it/s]\n",
      "/home/chris/anaconda3/envs/Derive_Conceptualspace/lib/python3.8/site-packages/sklearn/manifold/_mds.py:441: UserWarning: The MDS API has changed. ``fit`` now constructs an dissimilarity matrix from data. To use a custom dissimilarity matrix, set ``dissimilarity='precomputed'``.\n",
      "  warnings.warn(\"The MDS API has changed. ``fit`` now constructs an\"\n"
     ]
    },
    {
     "name": "stdout",
     "output_type": "stream",
     "text": [
      "Roberto Arlt y la novela argentina a principios del siglo XX is most similar to Aspectos socio-políticos y culturales de la Espana actual\n",
      "Didaktik I: Grundfragen der Didaktik (Tutorium 4) is most similar to Konzepte und Methoden des Unterrichts (ASP-Vorbereitung/Schwerpunkt HRGY. Zuweisung durch das ZLB)\n",
      "Theoretische Physik 4 is most similar to Persönlichkeitssystemtheorie\n",
      "Adquisición del español is most similar to Pronunciación y ortografía del español\n",
      "Grundlagen Rechtsenglisch (Kurs 2), 2. Sem. LL.B. is most similar to Syntax\n",
      "Orientalischer Tanz is most similar to Management B V: Risikomanagement (2. Semesterhälfte)\n",
      "Einführung in das Studium der Evangelischen Theologie (Orientierungsseminar) is most similar to Studentische Rechtsberatung\n",
      "Information zur (Geschäfts)-Prozessoptimierung is most similar to Menschenwürde und Menschenrechte in sozialethischer Perspektive. Entwicklung, Begründung, Infragestellung\n",
      "Hebräisch-Lektüre: Messianische Weissagungen, Teil 2 is most similar to Kolloquium für mittelalterliche Geschichte\n",
      "Finanzierung und finanzielle Steuerung der Hochschulen is most similar to Tutorium zu Schule I: Theorie der Schule (Bauer/Tutoren)\n",
      "Tutorium zu Schule I: Theorie der Schule (Bauer/Tutoren) is most similar to Migration und das Zusammenleben von Menschen aus unterschiedlichen Kulturen (WP)\n",
      "Probabilistic modelling of perception and cognition is most similar to What is Cultural Studies?\n",
      "Arbeitsgemeinschaft im Öffentlichen Recht für Fortgeschrittene - Besonderes Verwaltungsrecht is most similar to Doktorandenseminar (Physische Geographie) (unregelmäßig, Termine werden gesondert bekannt gegeben)\n",
      "Weltreligionen als Thema im Religionsunterricht am Beispiel von Judentum und Islam is most similar to Konzepte und Methoden des Unterrichts (ASP-Vorbereitung/Schwerpunkt HRGY. Zuweisung durch das ZLB)\n",
      "Geländeseminar Spiekeroog (21.-26.05.2013) is most similar to Tutorium zum Einführungsseminar (Gruppe II)\n",
      "Menschenwürde und Menschenrechte in sozialethischer Perspektive. Entwicklung, Begründung, Infragestellung is most similar to 'Attische Demokratie'\n",
      "Karate is most similar to Weltreligionen als Thema im Religionsunterricht am Beispiel von Judentum und Islam\n",
      "WIWI-M-21001-ME: Übung zu Ökonometrie und Statistik M I: Computergestützte multivariate Statistik is most similar to findet im WS 15/16 und WS 16/17 nicht statt: WIWI-M-21001-ME: Übung zu Ökonometrie und Statistik M I: Computergestützte multivariate Statistik\n",
      "Deutsche Befindlichkeiten im Spiegel neuester Literatur is most similar to Hauptseminar: Prozesse der Globalisierung aus wirtschaftsgeographischer Perspektive\n",
      "Spanisch A1 is most similar to Schwedisch Grundkurs I (A1) Parallelkurs\n",
      "B1 Russisch Aufbaukurs I (für Teilnehmende mit Russisch als Familiensprache) is most similar to B1 Französisch Aufbaukurs I\n",
      "Arbeits- und Kommunikationstechniken Ib: Selbstorganisation und Grundlagen der Zeitplanung, Gruppe 1 is most similar to Arbeits- und Kommunikationstechniken Ia: Präsentationsworkshop – interaktive Seminargestaltung, Gruppe 3\n"
     ]
    }
   ],
   "source": [
    "import random\n",
    "import logging\n",
    "from os.path import basename\n",
    "import numpy as np\n",
    "from scripts.create_siddata_dataset import preprocess_data, get_data\n",
    "\n",
    "random.seed(1)\n",
    "df = get_data()\n",
    "names, descriptions, mds = preprocess_data(df, max_elems=100)\n",
    "mins = np.argmin(np.ma.masked_equal(mds.dissimilarity_matrix_, 0.0, copy=False), axis=0)\n",
    "for cmp1, cmp2 in enumerate(mins):\n",
    "    print(f\"{names[cmp1]} is most similar to {names[cmp2]}\")\n",
    "    if cmp1 > 20: break"
   ]
  }
 ],
 "metadata": {
  "celltoolbar": "Tags",
  "kernelspec": {
   "display_name": "Python 3",
   "language": "python",
   "name": "python3"
  },
  "language_info": {
   "codemirror_mode": {
    "name": "ipython",
    "version": 3
   },
   "file_extension": ".py",
   "mimetype": "text/x-python",
   "name": "python",
   "nbconvert_exporter": "python",
   "pygments_lexer": "ipython3",
   "version": "3.8.8"
  }
 },
 "nbformat": 4,
 "nbformat_minor": 1
}
