{
 "cells": [
  {
   "cell_type": "code",
   "execution_count": null,
   "metadata": {},
   "outputs": [],
   "source": [
    "import random\n",
    "import logging\n",
    "from os.path import basename\n",
    "import numpy as np\n",
    "from scripts.create_siddata_dataset import preprocess_data, get_data\n",
    "from src.main.util.pretty_print import pretty_print as print\n",
    "\n",
    "random.seed(1)\n",
    "df = get_data()\n",
    "names, descriptions, mds = preprocess_data(df, max_elems=100)\n",
    "mins = np.argmin(np.ma.masked_equal(mds.dissimilarity_matrix_, 0.0, copy=False), axis=0)"
   ]
  },
  {
   "cell_type": "code",
   "execution_count": null,
   "metadata": {
    "pycharm": {
     "name": "#%%\n"
    },
    "tags": [
     "keep_output"
    ]
   },
   "outputs": [
    {
     "data": {
      "text/markdown": [
       "<span style=\"font-size:10pt\"><span style=\"color: #0000ff\">Roberto Arlt y la novela argentina a principios del siglo XX</span> is most similar to <span style=\"color: #0000ff\">Aspectos socio-políticos y culturales de la Espana actual</span></span>"
      ],
      "text/plain": [
       "<IPython.core.display.Markdown object>"
      ]
     },
     "metadata": {},
     "output_type": "display_data"
    },
    {
     "data": {
      "text/markdown": [
       "<span style=\"font-size:10pt\"><span style=\"color: #0000ff\">Didaktik I: Grundfragen der Didaktik (Tutorium 4)</span> is most similar to <span style=\"color: #0000ff\">Konzepte und Methoden des Unterrichts (ASP-Vorbereitung/Schwerpunkt HRGY. Zuweisung durch das ZLB)</span></span>"
      ],
      "text/plain": [
       "<IPython.core.display.Markdown object>"
      ]
     },
     "metadata": {},
     "output_type": "display_data"
    },
    {
     "data": {
      "text/markdown": [
       "<span style=\"font-size:10pt\"><span style=\"color: #0000ff\">Theoretische Physik 4</span> is most similar to <span style=\"color: #0000ff\">Persönlichkeitssystemtheorie</span></span>"
      ],
      "text/plain": [
       "<IPython.core.display.Markdown object>"
      ]
     },
     "metadata": {},
     "output_type": "display_data"
    },
    {
     "data": {
      "text/markdown": [
       "<span style=\"font-size:10pt\"><span style=\"color: #0000ff\">Adquisición del español</span> is most similar to <span style=\"color: #0000ff\">Pronunciación y ortografía del español</span></span>"
      ],
      "text/plain": [
       "<IPython.core.display.Markdown object>"
      ]
     },
     "metadata": {},
     "output_type": "display_data"
    },
    {
     "data": {
      "text/markdown": [
       "<span style=\"font-size:10pt\"><span style=\"color: #0000ff\">Grundlagen Rechtsenglisch (Kurs 2), 2. Sem. LL.B.</span> is most similar to <span style=\"color: #0000ff\">Syntax</span></span>"
      ],
      "text/plain": [
       "<IPython.core.display.Markdown object>"
      ]
     },
     "metadata": {},
     "output_type": "display_data"
    },
    {
     "data": {
      "text/markdown": [
       "<span style=\"font-size:10pt\"><span style=\"color: #0000ff\">Orientalischer Tanz</span> is most similar to <span style=\"color: #0000ff\">Management B V: Risikomanagement (2. Semesterhälfte)</span></span>"
      ],
      "text/plain": [
       "<IPython.core.display.Markdown object>"
      ]
     },
     "metadata": {},
     "output_type": "display_data"
    },
    {
     "data": {
      "text/markdown": [
       "<span style=\"font-size:10pt\"><span style=\"color: #0000ff\">Einführung in das Studium der Evangelischen Theologie (Orientierungsseminar)</span> is most similar to <span style=\"color: #0000ff\">Studentische Rechtsberatung</span></span>"
      ],
      "text/plain": [
       "<IPython.core.display.Markdown object>"
      ]
     },
     "metadata": {},
     "output_type": "display_data"
    },
    {
     "data": {
      "text/markdown": [
       "<span style=\"font-size:10pt\"><span style=\"color: #0000ff\">Information zur (Geschäfts)-Prozessoptimierung</span> is most similar to <span style=\"color: #0000ff\">Menschenwürde und Menschenrechte in sozialethischer Perspektive. Entwicklung, Begründung, Infragestellung</span></span>"
      ],
      "text/plain": [
       "<IPython.core.display.Markdown object>"
      ]
     },
     "metadata": {},
     "output_type": "display_data"
    },
    {
     "data": {
      "text/markdown": [
       "<span style=\"font-size:10pt\"><span style=\"color: #0000ff\">Hebräisch-Lektüre: Messianische Weissagungen, Teil 2</span> is most similar to <span style=\"color: #0000ff\">Kolloquium für mittelalterliche Geschichte</span></span>"
      ],
      "text/plain": [
       "<IPython.core.display.Markdown object>"
      ]
     },
     "metadata": {},
     "output_type": "display_data"
    },
    {
     "data": {
      "text/markdown": [
       "<span style=\"font-size:10pt\"><span style=\"color: #0000ff\">Finanzierung und finanzielle Steuerung der Hochschulen</span> is most similar to <span style=\"color: #0000ff\">Tutorium zu Schule I: Theorie der Schule (Bauer/Tutoren)</span></span>"
      ],
      "text/plain": [
       "<IPython.core.display.Markdown object>"
      ]
     },
     "metadata": {},
     "output_type": "display_data"
    },
    {
     "data": {
      "text/markdown": [
       "<span style=\"font-size:10pt\"><span style=\"color: #0000ff\">Tutorium zu Schule I: Theorie der Schule (Bauer/Tutoren)</span> is most similar to <span style=\"color: #0000ff\">Migration und das Zusammenleben von Menschen aus unterschiedlichen Kulturen (WP)</span></span>"
      ],
      "text/plain": [
       "<IPython.core.display.Markdown object>"
      ]
     },
     "metadata": {},
     "output_type": "display_data"
    },
    {
     "data": {
      "text/markdown": [
       "<span style=\"font-size:10pt\"><span style=\"color: #0000ff\">Probabilistic modelling of perception and cognition</span> is most similar to <span style=\"color: #0000ff\">What is Cultural Studies?</span></span>"
      ],
      "text/plain": [
       "<IPython.core.display.Markdown object>"
      ]
     },
     "metadata": {},
     "output_type": "display_data"
    },
    {
     "data": {
      "text/markdown": [
       "<span style=\"font-size:10pt\"><span style=\"color: #0000ff\">Arbeitsgemeinschaft im Öffentlichen Recht für Fortgeschrittene - Besonderes Verwaltungsrecht</span> is most similar to <span style=\"color: #0000ff\">Doktorandenseminar (Physische Geographie) (unregelmäßig, Termine werden gesondert bekannt gegeben)</span></span>"
      ],
      "text/plain": [
       "<IPython.core.display.Markdown object>"
      ]
     },
     "metadata": {},
     "output_type": "display_data"
    },
    {
     "data": {
      "text/markdown": [
       "<span style=\"font-size:10pt\"><span style=\"color: #0000ff\">Weltreligionen als Thema im Religionsunterricht am Beispiel von Judentum und Islam</span> is most similar to <span style=\"color: #0000ff\">Konzepte und Methoden des Unterrichts (ASP-Vorbereitung/Schwerpunkt HRGY. Zuweisung durch das ZLB)</span></span>"
      ],
      "text/plain": [
       "<IPython.core.display.Markdown object>"
      ]
     },
     "metadata": {},
     "output_type": "display_data"
    },
    {
     "data": {
      "text/markdown": [
       "<span style=\"font-size:10pt\"><span style=\"color: #0000ff\">Geländeseminar Spiekeroog (21.-26.05.2013)</span> is most similar to <span style=\"color: #0000ff\">Tutorium zum Einführungsseminar (Gruppe II)</span></span>"
      ],
      "text/plain": [
       "<IPython.core.display.Markdown object>"
      ]
     },
     "metadata": {},
     "output_type": "display_data"
    },
    {
     "data": {
      "text/markdown": [
       "<span style=\"font-size:10pt\"><span style=\"color: #0000ff\">Menschenwürde und Menschenrechte in sozialethischer Perspektive. Entwicklung, Begründung, Infragestellung</span> is most similar to <span style=\"color: #0000ff\">'Attische Demokratie'</span></span>"
      ],
      "text/plain": [
       "<IPython.core.display.Markdown object>"
      ]
     },
     "metadata": {},
     "output_type": "display_data"
    },
    {
     "data": {
      "text/markdown": [
       "<span style=\"font-size:10pt\"><span style=\"color: #0000ff\">Karate</span> is most similar to <span style=\"color: #0000ff\">Weltreligionen als Thema im Religionsunterricht am Beispiel von Judentum und Islam</span></span>"
      ],
      "text/plain": [
       "<IPython.core.display.Markdown object>"
      ]
     },
     "metadata": {},
     "output_type": "display_data"
    },
    {
     "data": {
      "text/markdown": [
       "<span style=\"font-size:10pt\"><span style=\"color: #0000ff\">WIWI-M-21001-ME: Übung zu Ökonometrie und Statistik M I: Computergestützte multivariate Statistik</span> is most similar to <span style=\"color: #0000ff\">findet im WS 15/16 und WS 16/17 nicht statt: WIWI-M-21001-ME: Übung zu Ökonometrie und Statistik M I: Computergestützte multivariate Statistik</span></span>"
      ],
      "text/plain": [
       "<IPython.core.display.Markdown object>"
      ]
     },
     "metadata": {},
     "output_type": "display_data"
    },
    {
     "data": {
      "text/markdown": [
       "<span style=\"font-size:10pt\"><span style=\"color: #0000ff\">Deutsche Befindlichkeiten im Spiegel neuester Literatur</span> is most similar to <span style=\"color: #0000ff\">Hauptseminar: Prozesse der Globalisierung aus wirtschaftsgeographischer Perspektive</span></span>"
      ],
      "text/plain": [
       "<IPython.core.display.Markdown object>"
      ]
     },
     "metadata": {},
     "output_type": "display_data"
    },
    {
     "data": {
      "text/markdown": [
       "<span style=\"font-size:10pt\"><span style=\"color: #0000ff\">Spanisch A1</span> is most similar to <span style=\"color: #0000ff\">Schwedisch Grundkurs I (A1) Parallelkurs</span></span>"
      ],
      "text/plain": [
       "<IPython.core.display.Markdown object>"
      ]
     },
     "metadata": {},
     "output_type": "display_data"
    },
    {
     "data": {
      "text/markdown": [
       "<span style=\"font-size:10pt\"><span style=\"color: #0000ff\">B1 Russisch Aufbaukurs I (für Teilnehm</span>e mit Russisch als Familiensprache)</span> is most similar to <span style=\"color: #0000ff\">B1 Französisch Aufbaukurs I</span></span></span>"
      ],
      "text/plain": [
       "<IPython.core.display.Markdown object>"
      ]
     },
     "metadata": {},
     "output_type": "display_data"
    },
    {
     "data": {
      "text/markdown": [
       "<span style=\"font-size:10pt\"><span style=\"color: #0000ff\">Arbeits- und Kommunikationstechniken Ib: Selbstorganisation und Grundlagen der Zeitplanung, Gruppe 1</span> is most similar to <span style=\"color: #0000ff\">Arbeits- und Kommunikationstechniken Ia: Präsentationsworkshop – interaktive Seminargestaltung, Gruppe 3</span></span>"
      ],
      "text/plain": [
       "<IPython.core.display.Markdown object>"
      ]
     },
     "metadata": {},
     "output_type": "display_data"
    }
   ],
   "source": [
    "for cmp1, cmp2 in enumerate(mins):\n",
    "    print(f\"*b*{names[cmp1]}*b* is most similar to *b*{names[cmp2]}*b*\")\n",
    "    if cmp1 > 20: break"
   ]
  }
 ],
 "metadata": {
  "celltoolbar": "Tags",
  "kernelspec": {
   "display_name": "Python 3",
   "language": "python",
   "name": "python3"
  },
  "language_info": {
   "codemirror_mode": {
    "name": "ipython",
    "version": 3
   },
   "file_extension": ".py",
   "mimetype": "text/x-python",
   "name": "python",
   "nbconvert_exporter": "python",
   "pygments_lexer": "ipython3",
   "version": "3.8.8"
  }
 },
 "nbformat": 4,
 "nbformat_minor": 1
}
