{
 "cells": [
  {
   "cell_type": "code",
   "execution_count": null,
   "metadata": {},
   "outputs": [],
   "source": [
    "import plotly.io as pio\n",
    "pio.renderers.default = \"plotly_mimetype+notebook_connected\"\n",
    "#to render in nbviewer, see https://nbviewer.org/github/jupyterhub/binder-billing/blob/master/analyze_data.ipynb?flush_cache=true"
   ]
  },
  {
   "cell_type": "code",
   "execution_count": null,
   "metadata": {},
   "outputs": [],
   "source": [
    "import numpy as np\n",
    "import matplotlib.pyplot as plt\n",
    "from sklearn import svm, datasets\n",
    "from sklearn.datasets import make_blobs\n",
    "import math"
   ]
  },
  {
   "cell_type": "code",
   "execution_count": null,
   "metadata": {},
   "outputs": [],
   "source": [
    "def create_iris_dataset(ndims):\n",
    "    iris = datasets.load_iris()\n",
    "    X = iris.data[:, :ndims]\n",
    "    y = iris.target\n",
    "    to_take_indices = list(set(np.arange(len(y)))-set(np.where(y==2)[0]))\n",
    "    X = X[to_take_indices]\n",
    "    y = y[to_take_indices]\n",
    "    return X, y"
   ]
  },
  {
   "cell_type": "markdown",
   "metadata": {},
   "source": [
    "# 2D"
   ]
  },
  {
   "cell_type": "code",
   "execution_count": null,
   "metadata": {},
   "outputs": [],
   "source": [
    "def make_meshgrid(x, y, h=.02):\n",
    "    \"\"\"Create a mesh of points to plot in\n",
    "\n",
    "    Parameters\n",
    "    ----------\n",
    "    x: data to base x-axis meshgrid on\n",
    "    y: data to base y-axis meshgrid on\n",
    "    h: stepsize for meshgrid, optional\n",
    "\n",
    "    Returns\n",
    "    -------\n",
    "    xx, yy : ndarray\n",
    "    \"\"\"\n",
    "    x_min, x_max = x.min() - 1, x.max() + 1\n",
    "    y_min, y_max = y.min() - 1, y.max() + 1\n",
    "    xx, yy = np.meshgrid(np.arange(x_min, x_max, h),\n",
    "                         np.arange(y_min, y_max, h))\n",
    "    return xx, yy\n",
    "\n",
    "\n",
    "def plot_contours(ax, clf, xx, yy, **params):\n",
    "    \"\"\"Plot the decision boundaries for a classifier.\n",
    "\n",
    "    Parameters\n",
    "    ----------\n",
    "    ax: matplotlib axes object\n",
    "    clf: a classifier\n",
    "    xx: meshgrid ndarray\n",
    "    yy: meshgrid ndarray\n",
    "    params: dictionary of params to pass to contourf, optional\n",
    "    \"\"\"\n",
    "    Z = clf.predict(np.c_[xx.ravel(), yy.ravel()])\n",
    "    Z = Z.reshape(xx.shape)\n",
    "    out = ax.contourf(xx, yy, Z, **params)\n",
    "    return out"
   ]
  },
  {
   "cell_type": "code",
   "execution_count": null,
   "metadata": {},
   "outputs": [],
   "source": [
    "X, y = create_iris_dataset(ndims=2)\n",
    "\n",
    "#...different dataset (you may comment me out):\n",
    "#X, y = make_blobs(n_samples=80, centers=2, random_state=6)"
   ]
  },
  {
   "cell_type": "code",
   "execution_count": null,
   "metadata": {},
   "outputs": [],
   "source": [
    "def plot_all(X, model, title):\n",
    "    X0, X1 = X[:, 0], X[:, 1]\n",
    "    xx, yy = make_meshgrid(X0, X1)\n",
    "    fig, ax = plt.subplots(1,1)\n",
    "    plot_contours(ax, model, xx, yy, cmap=plt.cm.coolwarm, alpha=0.8)\n",
    "    ax.scatter(X0, X1, c=y, cmap=plt.cm.coolwarm, s=20, edgecolors='k')\n",
    "    ax.set_xlim(xx.min(), xx.max())\n",
    "    ax.set_ylim(yy.min(), yy.max())\n",
    "    ax.set_xlabel('Sepal length')\n",
    "    ax.set_ylabel('Sepal width')\n",
    "    ax.set_title(title)\n",
    "    plt.show()\n",
    "    return ax.get_xlim(), ax.get_ylim()\n",
    "    \n",
    "\n",
    "def plot_all_2(X, model, title):\n",
    "    plt.scatter(X[:, 0], X[:, 1], c=y, s=30, cmap=plt.cm.Paired)\n",
    "    ax = plt.gca()\n",
    "    xlim = ax.get_xlim()\n",
    "    ylim = ax.get_ylim()\n",
    "\n",
    "    # create grid to evaluate model\n",
    "    xx = np.linspace(xlim[0], xlim[1], 30)\n",
    "    yy = np.linspace(ylim[0], ylim[1], 30)\n",
    "    YY, XX = np.meshgrid(yy, xx)\n",
    "    xy = np.vstack([XX.ravel(), YY.ravel()]).T\n",
    "    Z = model.decision_function(xy).reshape(XX.shape)\n",
    "\n",
    "    # plot decision boundary and margins\n",
    "    ax.contour(XX, YY, Z, colors='k', levels=[-1, 0, 1], alpha=0.5, linestyles=['--', '-', '--'])\n",
    "    # plot support vectors\n",
    "    if hasattr(model, \"support_vectors_\"):\n",
    "        ax.scatter(model.support_vectors_[:, 0], model.support_vectors_[:, 1], s=100, linewidth=1, facecolors='none', edgecolors='k')\n",
    "    ax.set_title(title)\n",
    "    plt.show()"
   ]
  },
  {
   "cell_type": "code",
   "execution_count": null,
   "metadata": {},
   "outputs": [],
   "source": [
    "model = svm.LinearSVC(C=1, max_iter=10000).fit(X, y)\n",
    "print(\"Coefficients:\", model.coef_, \"Intercept:\", model.intercept_)\n",
    "xlim, ylim = plot_all(X, model, title='LinearSVC (linear kernel)')\n",
    "plot_all_2(X, model, title='LinearSVC (linear kernel)')"
   ]
  },
  {
   "cell_type": "code",
   "execution_count": null,
   "metadata": {},
   "outputs": [],
   "source": [
    "model = svm.SVC(kernel='linear', C=1).fit(X, y)\n",
    "print(\"Coefficients:\", model.coef_, \"Intercept:\", model.intercept_)\n",
    "xlim, ylim = plot_all(X, model, title='LinearSVC (linear kernel)')\n",
    "plot_all_2(X, model, title='LinearSVC (linear kernel)')"
   ]
  },
  {
   "cell_type": "code",
   "execution_count": null,
   "metadata": {
    "tags": []
   },
   "outputs": [],
   "source": [
    "def abline(slope, intercept, xlim=(0,3), ylim=(0,3)):\n",
    "    \"\"\"Plot a line from slope and intercept\"\"\"\n",
    "    axes = plt.gca()\n",
    "    axes.set_xlim(xlim)\n",
    "    axes.set_ylim(ylim)\n",
    "    x_vals = np.array(axes.get_xlim())\n",
    "    y_vals = -intercept + slope * x_vals\n",
    "    plt.plot(x_vals, y_vals, '--')\n",
    "    \n",
    "\n",
    "def find_seperatrix(model):\n",
    "    W=model.coef_[0]\n",
    "    I=model.intercept_\n",
    "    a = -W[0]/W[1]\n",
    "    b = I[0]/W[1]\n",
    "    return a, b\n",
    "\n",
    "slope, intercept = find_seperatrix(model)\n",
    "\n",
    "print(slope, intercept)\n",
    "\n",
    "abline(slope, intercept, xlim, ylim)"
   ]
  },
  {
   "cell_type": "code",
   "execution_count": null,
   "metadata": {},
   "outputs": [],
   "source": [
    "x_vals = np.array(xlim)\n",
    "y_vals = -intercept + slope * x_vals\n",
    "points = [np.array(i) for i in zip(x_vals, y_vals)]\n",
    "\n",
    "vector = points[1]-points[0]\n",
    "\n",
    "print(points)\n",
    "print(vector)"
   ]
  },
  {
   "cell_type": "code",
   "execution_count": null,
   "metadata": {},
   "outputs": [],
   "source": [
    "def show_vectors(ax, vectors, vectors_with_start):\n",
    "    \"\"\"https://stackoverflow.com/a/42282532/5122790\"\"\"\n",
    "    HEAD_SIZE = 0.2\n",
    "    M = np.array(vectors)\n",
    "    colors = ['r','g','b','k','gray']\n",
    "    if vectors:\n",
    "        for i,l in enumerate(range(0,M.shape[0])):\n",
    "            ax.arrow(0,0,M[i,0],M[i,1],head_width=HEAD_SIZE,head_length=HEAD_SIZE,color = colors[i], length_includes_head=True)\n",
    "\n",
    "    colors = ['c','m','y']\n",
    "    if vectors_with_start:\n",
    "        for i,(xs,ys,xf,yf) in enumerate([(*i[0],*i[1]) for i in vectors_with_start]):\n",
    "            ax.arrow(xs,ys,xf,yf,head_width=HEAD_SIZE,head_length=HEAD_SIZE,color = colors[i], length_includes_head=True)\n",
    "\n",
    "    return ax"
   ]
  },
  {
   "cell_type": "code",
   "execution_count": null,
   "metadata": {},
   "outputs": [],
   "source": [
    "def ortho_proj(a,b):\n",
    "    #https://en.wikipedia.org/wiki/Vector_projection\n",
    "    a1_sc = np.dot(a,(b/np.linalg.norm(b)))\n",
    "    b_hat = b/np.linalg.norm(b)\n",
    "    a1 = a1_sc*b_hat\n",
    "    a2 = a-a1\n",
    "    return a2"
   ]
  },
  {
   "cell_type": "code",
   "execution_count": null,
   "metadata": {},
   "outputs": [],
   "source": [
    "center_point = points[0]+0.5*vector"
   ]
  },
  {
   "cell_type": "code",
   "execution_count": null,
   "metadata": {},
   "outputs": [],
   "source": [
    "print(ortho_proj(vector, center_point))"
   ]
  },
  {
   "cell_type": "code",
   "execution_count": null,
   "metadata": {},
   "outputs": [],
   "source": [
    "fig, ax = plt.subplots(figsize=(8,8))\n",
    "show_vectors(ax, [], [(points[0], vector), (center_point, ortho_proj(vector, center_point))])\n",
    "\n",
    "ax.plot(*center_point,'ok') \n",
    "ax.set_aspect('equal', 'box')\n",
    "plt.grid(b=True, which='major')\n",
    "\n",
    "plt.xlim(xlim)\n",
    "plt.ylim(ylim)\n",
    "plt.show()"
   ]
  },
  {
   "cell_type": "code",
   "execution_count": null,
   "metadata": {},
   "outputs": [],
   "source": [
    "print(model.coef_[0])\n",
    "print(center_point+model.coef_[0])"
   ]
  },
  {
   "cell_type": "code",
   "execution_count": null,
   "metadata": {},
   "outputs": [],
   "source": [
    "fig, ax = plt.subplots(figsize=(8,8))\n",
    "show_vectors(ax, [], [(points[0], vector), (center_point, ortho_proj(vector, center_point)), (center_point, model.coef_[0])])\n",
    "\n",
    "ax.plot(*center_point,'ok') \n",
    "ax.set_aspect('equal', 'box')\n",
    "plt.grid(b=True, which='major')\n",
    "\n",
    "plt.xlim(xlim)\n",
    "plt.ylim(ylim)\n",
    "plt.show()"
   ]
  },
  {
   "cell_type": "markdown",
   "metadata": {},
   "source": [
    "# 3D"
   ]
  },
  {
   "cell_type": "code",
   "execution_count": null,
   "metadata": {},
   "outputs": [],
   "source": [
    "#https://stackoverflow.com/a/51301399/5122790, https://stackoverflow.com/a/69407977/5122790 !!!\n",
    "import plotly.express as px\n",
    "import plotly.graph_objects as go\n",
    "from mpl_toolkits import mplot3d\n",
    "from dataclasses import dataclass"
   ]
  },
  {
   "cell_type": "code",
   "execution_count": null,
   "metadata": {},
   "outputs": [],
   "source": [
    "X, y = create_iris_dataset(ndims=3)\n",
    "model = svm.LinearSVC(C=1, max_iter=10000).fit(X, y)\n",
    "print(\"Coefficients:\", model.coef_, \"Intercept:\", model.intercept_)"
   ]
  },
  {
   "cell_type": "code",
   "execution_count": null,
   "metadata": {},
   "outputs": [],
   "source": [
    "fig = plt.figure(figsize=(8, 6))\n",
    "ax = plt.axes(projection='3d')\n",
    "ax.scatter(X[:,0], X[:,1], X[:,2], color=[\"r\" if i==0 else \"b\" for i in y])\n",
    "plt.show()"
   ]
  },
  {
   "cell_type": "code",
   "execution_count": null,
   "metadata": {},
   "outputs": [],
   "source": [
    "def make_meshgrid(X=None, minx=None, miny=None, maxx=None, maxy=None, size=None, amount=30, margin=0):\n",
    "    assert X is not None or (minx is not None and miny is not None and maxx is not None and maxy is not None) or size is not None\n",
    "    if X is not None:\n",
    "        minx = min(X[:,0]) if minx is None or min(X[:,0])<minx else minx\n",
    "        miny = min(X[:,1]) if miny is None or min(X[:,1])<miny else miny\n",
    "        maxx = max(X[:,0]) if maxx is None or max(X[:,0])>maxx else maxx\n",
    "        maxy = max(X[:,1]) if maxy is None or max(X[:,1])>maxy else maxy\n",
    "    elif size is not None and (minx is None and miny is None and maxx is None and maxy is None):\n",
    "        minx = miny = -size\n",
    "        maxx = maxy = size\n",
    "    lsx = np.linspace(minx-margin, maxx+margin, amount)\n",
    "    lsy = np.linspace(miny-margin, maxy+margin, amount)\n",
    "    xx, yy = np.meshgrid(lsx,lsy)\n",
    "    return xx, yy\n",
    "\n",
    "\n",
    "def plot_3d_boundary(clf):\n",
    "    # The equation of the separating plane is given by all x so that np.dot(svc.coef_[0], x) + b = 0.\n",
    "    # Solve for w3 (z)\n",
    "    z = lambda clf, x,y: (-clf.intercept_[0]-clf.coef_[0][0]*x -clf.coef_[0][1]*y) / clf.coef_[0][2]\n",
    "    # https://stackoverflow.com/a/51301399/5122790 !!!\n",
    "\n",
    "    xx, yy = make_meshgrid(X)\n",
    "\n",
    "    fig = plt.figure()\n",
    "    ax  = fig.add_subplot(111, projection='3d')\n",
    "    ax.plot3D(X[y==0,0], X[y==0,1], X[y==0,2],'ob')\n",
    "    ax.plot3D(X[y==1,0], X[y==1,1], X[y==1,2],'sr')\n",
    "    ax.plot_surface(xx, yy, z(clf,xx,yy))\n",
    "    ax.view_init(30, 60)\n",
    "    plt.show()\n",
    "    \n",
    "plot_3d_boundary(model)"
   ]
  },
  {
   "cell_type": "code",
   "execution_count": null,
   "metadata": {},
   "outputs": [],
   "source": [
    "def ortho_projection_affine(a, b):\n",
    "    \"\"\"https://en.wikipedia.org/wiki/Vector_projection\"\"\"\n",
    "    return np.dot(np.dot(a,b)/np.dot(b,b),b)\n",
    "\n",
    "class ThreeDFigure():\n",
    "    def __init__(self, trafo_fn=None, back_trafo_fn=None, swap_axes=None):\n",
    "        self.trafo_fn = trafo_fn if trafo_fn is not None else lambda x: x\n",
    "        self.back_trafo_fn = back_trafo_fn if back_trafo_fn is not None else lambda x: x\n",
    "        self.swap_axes = swap_axes\n",
    "        #https://community.plotly.com/t/creating-a-3d-scatterplot-with-equal-scale-along-all-axes/15108/7\n",
    "        self.fig = go.Figure(layout=go.Layout(\n",
    "                        scene=dict(camera=dict(eye=dict(x=1, y=1, z=1)), aspectmode=\"data\"),\n",
    "                        autosize=True,\n",
    "                        width=1000,\n",
    "                        height=800,\n",
    "                        margin=dict(l=10, r=10, b=10, t=10, pad=4),\n",
    "                        paper_bgcolor=\"White\"))\n",
    "        \n",
    "    def _transform(self, points, inverse=False):\n",
    "        trafo_fn = self.back_trafo_fn if inverse else self.trafo_fn              \n",
    "        points = np.array([trafo_fn(point) for point in points])    \n",
    "        if self.swap_axes:\n",
    "            points = self._swap_axes(points, self.swap_axes)\n",
    "        return points\n",
    "    \n",
    "    def _swap_axes(self, points, swap_axes):\n",
    "        swap_translate = {\"x\": 0, \"y\": 1, \"z\": 2}\n",
    "        ind1, ind2 = swap_translate[swap_axes[0]], swap_translate[swap_axes[1]]\n",
    "        tmp = points[:,ind1].copy()\n",
    "        points[:,ind1] = points[:,ind2]\n",
    "        points[:,ind2] = tmp\n",
    "        return points\n",
    "    \n",
    "                    \n",
    "    def add_surface(self, xx, yy, z_func, swap_axes=None, opacity=None):\n",
    "        xy_arr = np.vstack([xx.flatten(), yy.flatten()]).T\n",
    "        z_arr = np.array([z_func(*i) for i in xy_arr])\n",
    "        points = np.column_stack([xy_arr, z_arr])\n",
    "        points = self._transform(points)\n",
    "        if swap_axes: \n",
    "            points = self._swap_axes(points, swap_axes)\n",
    "        surface_form = lambda x: x.reshape(round(math.sqrt(x.shape[0])),-1)\n",
    "        self.fig.add_trace(go.Surface(x=surface_form(points[:,0]), y=surface_form(points[:,1]), z=surface_form(points[:,2]), opacity=opacity, showlegend=False, showscale=False))\n",
    "    \n",
    "    \n",
    "    def add_line(self, point1, point2, width=6, do_transform=True, name=None, **kwargs):\n",
    "        if do_transform:\n",
    "            point1 = self._transform(np.array([point1])).squeeze()\n",
    "            point2 = self._transform(np.array([point2])).squeeze()\n",
    "        self.fig.add_trace(\n",
    "            go.Scatter3d(x = [point1[0], point2[0]],\n",
    "                         y = [point1[1], point2[1]],\n",
    "                         z = [point1[2], point2[2]],\n",
    "                         marker = dict(size = 1),\n",
    "                         line = dict(width = width),\n",
    "                         name=name,\n",
    "                         **kwargs\n",
    "                         )\n",
    "        )\n",
    "        \n",
    "    def add_markers(self, points, color=\"black\", size=2, name=None, **kwargs):\n",
    "        points = np.array(points)\n",
    "        if points.ndim == 1: points = np.array([points])\n",
    "        points = self._transform(points)\n",
    "        default_args = dict(mode=\"markers\", x=points[:,0], y=points[:,1], z=points[:,2], marker={\"color\": color, \"size\": size, \"line\": {\"width\": 0}}, name=name)\n",
    "        self.fig.add_trace(go.Scatter3d(**{**default_args, **kwargs}))\n",
    "        \n",
    "    \n",
    "    def add_sample_projections(self, X, onto, n_samples=10, **kwargs):\n",
    "        show_vecs = X[np.random.choice(X.shape[0], n_samples, replace=False), :]\n",
    "        for point in show_vecs:\n",
    "            proj = ortho_projection_affine(point, onto)\n",
    "            self.add_line(point, proj, **kwargs)\n",
    "            \n",
    "    \n",
    "    def __enter__(self, *args):\n",
    "        return self\n",
    "    \n",
    "    def __exit__(self, exc_type, exc, exc_tb):\n",
    "        if not exc_type:\n",
    "            display(self.fig)\n",
    "    "
   ]
  },
  {
   "cell_type": "code",
   "execution_count": null,
   "metadata": {},
   "outputs": [],
   "source": [
    "@dataclass\n",
    "class Plane:\n",
    "    a: float\n",
    "    b: float\n",
    "    c: float\n",
    "    d: float\n",
    "    \n",
    "    @property\n",
    "    def normal(self):\n",
    "        return np.array([self.a, self.b, self.c])\n",
    "    \n",
    "    def __contains__(self, point:np.array):\n",
    "        return np.isclose(self.a*point[0] + self.b*point[1] + self.c*point[2] + self.d, 0)\n",
    "    \n",
    "    def project(self, point):\n",
    "        x,y,z = point\n",
    "        k = (self.a*x + self.b*y + self.c*z + self.d)/(self.a**2 + self.b**2 + self.c**2)\n",
    "        return np.array([x - k*self.a, y-k*self.b, z-k*self.c])\n",
    "   \n",
    "    def z(self, x, y):\n",
    "        return (- self.d - self.b*y - self.a*x)/self.c"
   ]
  },
  {
   "cell_type": "code",
   "execution_count": null,
   "metadata": {},
   "outputs": [],
   "source": [
    "decision_plane = Plane(*model.coef_[0], model.intercept_[0])\n",
    "\n",
    "with ThreeDFigure() as fig:\n",
    "    fig.add_markers(X, color=y) #samples\n",
    "    xx, yy = make_meshgrid(X, margin=1)\n",
    "    fig.add_surface(xx, yy, decision_plane.z) #decision hyperplane\n",
    "    fig.add_line(X.mean(axis=0)-decision_plane.normal, X.mean(axis=0)+decision_plane.normal) #orthogonal of decision hyperplane through mean of points\n",
    "    fig.add_markers([0,0,0], size=3) #coordinate center\n",
    "    \n",
    "    fig.add_line(-decision_plane.normal*5, decision_plane.normal*5) #orthogonal of decision hyperplane through [0,0,0]\n",
    "    fig.add_sample_projections(X, decision_plane.normal) #orthogonal lines from the samples onto the decision hyperplane orthogonal"
   ]
  },
  {
   "cell_type": "code",
   "execution_count": null,
   "metadata": {},
   "outputs": [],
   "source": [
    "X, y = make_blobs(n_samples=80, centers=2, random_state=6, n_features=3)\n",
    "model = svm.LinearSVC(C=1, max_iter=10000).fit(X, y)\n",
    "print(\"Coefficients:\", model.coef_, \"Intercept:\", model.intercept_)\n",
    "decision_plane = Plane(*model.coef_[0], model.intercept_[0])\n",
    "\n",
    "with ThreeDFigure() as fig:\n",
    "    fig.add_markers(X, color=y) #samples\n",
    "    xx, yy = make_meshgrid(X, margin=1)\n",
    "    fig.add_surface(xx, yy, decision_plane.z) #decision hyperplane\n",
    "    fig.add_line(X.mean(axis=0)-decision_plane.normal, X.mean(axis=0)+decision_plane.normal) #orthogonal of decision hyperplane through mean of points\n",
    "    fig.add_markers([0,0,0], size=3) #coordinate center\n",
    "    \n",
    "    fig.add_line(-decision_plane.normal*5, decision_plane.normal*5) #orthogonal of decision hyperplane through [0,0,0]\n",
    "    fig.add_sample_projections(X, decision_plane.normal) #orthogonal lines from the samples onto the decision hyperplane orthogonal"
   ]
  },
  {
   "cell_type": "markdown",
   "metadata": {},
   "source": [
    "* I'm having so many apparently hard-to-solve problems - the decision-boundary for example goes from (minx,miny) to (maxx,maxy), with the corresponding z-coordinate. However that's superflous, it may become waaay to big there, because the original x/y/z coordinate system is irrelevant! The size of the decision surface is constrained instead rather by the circle of all lines that go through a point and in parallel to the orthogonal of the decision surface. But to figure out the size of the decision boundary from that is far from trivial - again because I always need the translation from the irrelevant acutal xyz-coordinate system to the coordinate system which is relevant for me, which is one in which the decision surface has two coordinate values equal to zero. If I do that, every other calculation becomes trivial!!\n",
    "* Same holds for the problem \"how long should the decisionsurface-orthogonal be\" - calculating it now is hard, but once we have translated the coordinate system it's just the min/max z-coordinate!"
   ]
  },
  {
   "cell_type": "code",
   "execution_count": null,
   "metadata": {},
   "outputs": [],
   "source": [
    "X, y = make_blobs(n_samples=80, centers=2, random_state=6, n_features=3)\n",
    "model = svm.LinearSVC(C=1, max_iter=10000).fit(X, y)\n",
    "print(\"Coefficients:\", model.coef_, \"Intercept:\", model.intercept_)\n",
    "decision_plane = Plane(*model.coef_[0], model.intercept_[0])\n",
    "\n",
    "\n",
    "with ThreeDFigure() as fig:\n",
    "    fig.add_markers(X, color=y) #samples\n",
    "    xx, yy = make_meshgrid(X, margin=1)\n",
    "    fig.add_surface(xx, yy, decision_plane.z) #decision hyperplane\n",
    "    fig.add_line([0,0,0], decision_plane.normal*100) #orthogonal of decision hyperplane through mean of points\n",
    "    fig.add_markers([0,0,0], size=3) #coordinate center\n",
    "    \n",
    "    for point, side in zip(X, y):\n",
    "        fig.add_line(point, point-decision_plane.normal*100 if side else point+decision_plane.normal*100)\n"
   ]
  },
  {
   "cell_type": "code",
   "execution_count": null,
   "metadata": {},
   "outputs": [],
   "source": [
    "def normalize(vec):\n",
    "    return vec/np.linalg.norm(vec)"
   ]
  },
  {
   "cell_type": "code",
   "execution_count": null,
   "metadata": {},
   "outputs": [],
   "source": [
    "decision_plane = Plane(*model.coef_[0], model.intercept_[0])\n",
    "vec = normalize(decision_plane.normal)\n",
    "print(\"Original Vec:\", vec)\n",
    "\n",
    "with ThreeDFigure() as fig:\n",
    "    #coordinate system\n",
    "    fig.add_surface(*make_meshgrid(size=1), lambda _,__: 0, opacity=0.3)\n",
    "    fig.add_surface(*make_meshgrid(size=1), lambda _,__: 0, swap_axes=\"xz\", opacity=0.3)\n",
    "    fig.add_surface(*make_meshgrid(size=1), lambda _,__: 0, swap_axes=\"yz\", opacity=0.3)    \n",
    "    fig.add_line([-1,0,0], [1,0,0])\n",
    "    fig.add_line([0,-1,0], [0,1,0])\n",
    "    fig.add_line([0,0,-1], [0,0,1])\n",
    "    \n",
    "    #vec and its projections\n",
    "    fig.add_line([0,0,0], vec, width=12)\n",
    "    fig.add_line([0,0,0], [0, vec[1], vec[2]])\n",
    "    fig.add_line([0,0,0], [vec[0], 0, vec[2]])\n",
    "    fig.add_line([0,0,0], [vec[0], vec[1], 0])\n"
   ]
  },
  {
   "cell_type": "raw",
   "metadata": {},
   "source": [
    "z      = -i[0]-c[0]*x -c[1]*y) / c[2]  | *c[2]\n",
    "z*c[2] = -i[0]-c[0]*x -c[1]*y          | +i[0] | -c[2]*z\n",
    "i[0]   = -c[0]*x - c[1]*y - c[2]*z\n",
    "\n",
    "0   = c[0]*x + c[1]*y + c[2]*z + i[0]\n",
    "0   = i + ax + by + cz\n",
    "\n",
    "warum ist das so?\n",
    "-> das innere produkt von 2 orthogonalen vektoren ist 0. Das heißt, der vektor der im selben punkt wie der normalenvektor anfängt, und zu einem beliebigen punkt auf der Ebene zeigt ist immer orthogonal zur orthogonalen.\n",
    "-> Tafelwerk, ebenendarstellung! Allgemeine form ax+by+cz=d\n",
    "\n",
    "Die Decision Hyperplane ist immer n-2 dimensional (plane bei 3d, gerade bei 2d).\n",
    "Die Orthogonale ist... was? immer 2D? Ist sie zumindest bei 3d und bei 2d.\n",
    "\n",
    "Was ist d?? \n",
    "Naja, hauen wir einen stift durch ein papier. Das papier ist die hyperplane, und die position dieser hp ist durch die ausrichtung des stiftes (->vector der orthogonalen) fast eineutig definiert, der einzige degree of freedom ist WO AUF DEM STIFT das papier ist. Der Stift selbst ist 1D (strich) --> d ist ein Skalar. Durch Richtung des stifts und position auf dem stift ist die ebene eindeutig definiert.\n",
    "\n",
    "Preisfrage: auch im 4D? Ist es da auch nur ein weiterer wert?\n",
    "HINT:\n",
    "\n",
    "X, y = make_blobs(n_samples=80, centers=2, random_state=6, n_features=4)\n",
    "model = svm.LinearSVC(C=1, max_iter=10000).fit(X, y)\n",
    "print(\"Intercept:\", model.intercept_)\n",
    "print(\"Coeffs:\", model.coef_)\n",
    "\n",
    "da intercept bei ner 4D-SVM 4D ist, Coef aber weiterhin nur ein Skalar würde ich vermuten auch bei einer Hyperplane im 4D ist der intercept skalar (...macht ja sinn, denn auch ein Vektor im 4-dimensionalen Raum ist ein eindimensionales Ding)"
   ]
  },
  {
   "cell_type": "code",
   "execution_count": null,
   "metadata": {},
   "outputs": [],
   "source": [
    "def make_base_changer(plane):\n",
    "    uvec1 = plane.normal\n",
    "    uvec2 = [0, -plane.d/plane.b, plane.d/plane.c] #NOT [1, 0, plane.z(model, 1, 0)] !!\n",
    "    uvec3 = np.cross(uvec1, uvec2)\n",
    "    transition_matrix = np.linalg.inv(np.array([uvec1, uvec2, uvec3]).T)\n",
    "    \n",
    "    origin = np.array([0,0,0])\n",
    "    new_origin = plane.project(origin)\n",
    "    forward  = lambda point: transition_matrix.dot(point - new_origin)\n",
    "    backward = lambda point: np.linalg.inv(transition_matrix).dot(point) + new_origin\n",
    "    return forward, backward\n",
    "\n",
    "\n",
    "#wir haben im 3D einen Degree of freedom hier!! uvec1 ist eindeutig definiert, aber uvec2 und uvec3 haben nur\n",
    "#die Bedingung dass sie orthogonal zueinander und zu uvec1 sind - das ist 1 dof. Im 2D haben wir 0 dof, da die \n",
    "#decisionboundary 1dimensional ist und ihre orthogonale auch. Wie viele dof haben wir im höherdim? immer n_dim-2? \n",
    "#das hat ja mega auswirkungen auf was ich machen will, am besten wäre es die neuen basen so zu wählen dass die\n",
    "#jeweils nächsten auch wieder orthogonal sind...!"
   ]
  },
  {
   "cell_type": "code",
   "execution_count": null,
   "metadata": {},
   "outputs": [],
   "source": [
    "X, y = make_blobs(n_samples=80, centers=2, random_state=6, n_features=3)\n",
    "model = svm.LinearSVC(C=1, max_iter=10000).fit(X, y)\n",
    "print(\"Coefficients:\", model.coef_, \"Intercept:\", model.intercept_)\n",
    "decision_plane = Plane(*model.coef_[0], model.intercept_[0])\n",
    "\n",
    "trafo, back_trafo = make_base_changer(decision_plane)\n",
    "\n",
    "with ThreeDFigure(trafo, back_trafo, swap_axes=\"xz\") as fig:\n",
    "    fig.add_markers(X, color=y) #samples\n",
    "    xx, yy = make_meshgrid(minx=-0.7, miny=-10, maxx=0.01, maxy=1, margin=1) #manual values!\n",
    "    fig.add_surface(xx, yy, decision_plane.z) #decision hyperplane\n",
    "    fig.add_line([0,0,0], decision_plane.normal*100) #orthogonal of decision hyperplane through mean of points\n",
    "    fig.add_markers([0,0,0], size=3) #coordinate center\n",
    "    fig.add_sample_projections(X, decision_plane.normal) #orthogonal lines from the samples onto the decision hyperplane orthogonal\n",
    "    \n",
    "    for point, side in zip(X, y):\n",
    "        #fig.add_line(point, point-decision_plane.normal*100 if side else point+decision_plane.normal*100)\n",
    "        #that ^ would be the blunt way to do it, smarter is to set transform, set x=0, backtransform\n",
    "        transformed = trafo(point)\n",
    "        onto_plane = back_trafo([0, transformed[1], transformed[2]])\n",
    "        fig.add_line(point, onto_plane)\n",
    "        \n",
    "#find a way to pre-determine the minx, miny, ... of the meshgrid THROUGH THE TRANSLATION"
   ]
  },
  {
   "cell_type": "code",
   "execution_count": null,
   "metadata": {},
   "outputs": [],
   "source": [
    "# the way how to determine the minx/miny/.. of the meshgrid:\n",
    "\n",
    "\n",
    "onto_plane = np.array([back_trafo([0, trafo(point)[1], trafo(point)[2]]) for point, side in zip(X, y)])\n",
    "minx, miny = onto_plane.min(axis=0)[:2]\n",
    "maxx, maxy = onto_plane.max(axis=0)[:2]\n",
    "    \n",
    "        \n",
    "with ThreeDFigure() as fig: #trafo, back_trafo, swap_axes=\"xz\"\n",
    "    fig.add_markers(X, color=y, showlegend=False) #samples\n",
    "    xx, yy = make_meshgrid(minx=minx, miny=miny, maxx=maxx, maxy=maxy, margin=0.1)\n",
    "    fig.add_surface(xx, yy, decision_plane.z) #decision hyperplane\n",
    "    fig.add_line([0,0,0], decision_plane.normal*100, name=\"normal_meanpoints\") #orthogonal of decision hyperplane through mean of points\n",
    "    fig.add_markers([0,0,0], size=3, name=\"origin\") #coordinate center\n",
    "    fig.add_sample_projections(X, decision_plane.normal, showlegend=False) #orthogonal lines from the samples onto the decision hyperplane orthogonal\n",
    "    \n",
    "    for point, side in zip(X, y):\n",
    "        fig.add_line(point, back_trafo([0, trafo(point)[1], trafo(point)[2]]), showlegend=False)"
   ]
  },
  {
   "cell_type": "markdown",
   "metadata": {},
   "source": [
    "## New stuff"
   ]
  },
  {
   "cell_type": "code",
   "execution_count": null,
   "metadata": {},
   "outputs": [],
   "source": [
    "X, y = make_blobs(n_samples=80, centers=2, random_state=2, n_features=3)\n",
    "model = svm.LinearSVC(C=1, max_iter=10000).fit(X, y)\n",
    "print(\"Coefficients:\", model.coef_, \"Intercept:\", model.intercept_)\n",
    "decision_plane = Plane(*model.coef_[0], model.intercept_[0])\n",
    "\n",
    "trafo, back_trafo = make_base_changer(decision_plane)\n",
    "\n",
    "onto_plane = np.array([back_trafo([0, trafo(point)[1], trafo(point)[2]]) for point, side in zip(X, y)])\n",
    "minx, miny = onto_plane.min(axis=0)[:2]\n",
    "maxx, maxy = onto_plane.max(axis=0)[:2]\n",
    "\n",
    "z_vals = [trafo(point)[0] for point in X]\n",
    "minneg, maxneg = min(z_vals), max([i for i in z_vals if i < 0])\n",
    "minpos, maxpos = min([i for i in z_vals if i > 0]), max(z_vals)"
   ]
  },
  {
   "cell_type": "code",
   "execution_count": null,
   "metadata": {},
   "outputs": [],
   "source": [
    "#instead of taking the transform, we could also just take the z-component (or the length, as x&y of it are 0) of the vector from a point to its projection\n",
    "\n",
    "for point, val in zip(X, y):\n",
    "    transformed_proj = np.around(trafo(decision_plane.project(point)-point), 5)\n",
    "    assert transformed_proj[1] == transformed_proj[2] == 0\n",
    "    assert (np.sign(transformed_proj[0]) == 1) == (val == 0)\n",
    "    \n",
    "assert all(np.array([trafo(point)[0] for point in X]).argsort() == np.array([(decision_plane.project(point)-point)[2] for point in X]).argsort())"
   ]
  },
  {
   "cell_type": "code",
   "execution_count": null,
   "metadata": {
    "tags": [
     "keep_output"
    ]
   },
   "outputs": [
    {
     "data": {
      "application/vnd.plotly.v1+json": {
       "config": {
        "plotlyServerURL": "https://plot.ly"
       },
       "data": [
        {
         "marker": {
          "color": "black",
          "line": {
           "width": 0
          },
          "size": 3
         },
         "mode": "markers",
         "name": "origin",
         "type": "scatter3d",
         "x": [
          0
         ],
         "y": [
          0
         ],
         "z": [
          0
         ]
        },
        {
         "marker": {
          "color": "yellow",
          "line": {
           "width": 0
          },
          "size": 2
         },
         "mode": "markers",
         "name": "plane_offset",
         "type": "scatter3d",
         "x": [
          0.10456848375651655
         ],
         "y": [
          -0.26743778451395667
         ],
         "z": [
          0.5043221442708925
         ]
        },
        {
         "line": {
          "width": 6
         },
         "marker": {
          "size": 1
         },
         "name": "plane_normal",
         "type": "scatter3d",
         "x": [
          1.254196673941884,
          -0.8294035866246385
         ],
         "y": [
          -3.207654618047265,
          2.121230505658927
         ],
         "z": [
          6.048850793443533,
          -4.000121071339907
         ]
        },
        {
         "marker": {
          "color": "blue",
          "line": {
           "width": 0
          },
          "size": 2
         },
         "mode": "markers",
         "name": "4.520114883720968",
         "showlegend": false,
         "type": "scatter3d",
         "x": [
          0.042014020706258925
         ],
         "y": [
          -1.2900146220721205
         ],
         "z": [
          -3.847531434638628
         ]
        },
        {
         "marker": {
          "color": "blue",
          "line": {
           "width": 0
          },
          "size": 3
         },
         "mode": "markers",
         "name": "d=1.5948885801819395",
         "type": "scatter3d",
         "x": [
          -2.1339951601259597
         ],
         "y": [
          -1.9049146279088631
         ],
         "z": [
          -1.2486254908114804
         ]
        },
        {
         "line": {
          "width": 6
         },
         "marker": {
          "size": 1
         },
         "name": "^ len_d",
         "type": "scatter3d",
         "x": [
          -2.1339951601259597,
          -1.9228048109884055
         ],
         "y": [
          -1.9049146279088631,
          -2.4450417967754263
         ],
         "z": [
          -1.2486254908114804,
          -0.2300779715190595
         ]
        },
        {
         "line": {
          "width": 6
         },
         "marker": {
          "size": 1
         },
         "name": "^ proj",
         "type": "scatter3d",
         "x": [
          -2.1339951601259597,
          -0.10662186538103753
         ],
         "y": [
          -1.9049146279088631,
          0.2726893843526063
         ],
         "z": [
          -1.2486254908114804,
          -0.5142253750215281
         ]
        },
        {
         "marker": {
          "color": "blue",
          "line": {
           "width": 0
          },
          "size": 2
         },
         "mode": "markers",
         "name": "3.7301484911727187",
         "showlegend": false,
         "type": "scatter3d",
         "x": [
          -2.6435542503000073
         ],
         "y": [
          -2.2908149558331123
         ],
         "z": [
          -3.153352381649631
         ]
        },
        {
         "marker": {
          "color": "red",
          "line": {
           "width": 0
          },
          "size": 2
         },
         "mode": "markers",
         "name": "-5.746006988493775",
         "showlegend": false,
         "type": "scatter3d",
         "x": [
          -1.8403364633977217
         ],
         "y": [
          -10.383721431512676
         ],
         "z": [
          0.40227728210473745
         ]
        },
        {
         "marker": {
          "color": "red",
          "line": {
           "width": 0
          },
          "size": 2
         },
         "mode": "markers",
         "name": "-5.607492308123175",
         "showlegend": false,
         "type": "scatter3d",
         "x": [
          -1.6157792956837722
         ],
         "y": [
          -8.870134583868456
         ],
         "z": [
          1.0412201494423712
         ]
        },
        {
         "marker": {
          "color": "blue",
          "line": {
           "width": 0
          },
          "size": 2
         },
         "mode": "markers",
         "name": "2.466238743675937",
         "showlegend": false,
         "type": "scatter3d",
         "x": [
          -1.608169583290394
         ],
         "y": [
          -2.1863995411328263
         ],
         "z": [
          -2.243803012204535
         ]
        },
        {
         "marker": {
          "color": "blue",
          "line": {
           "width": 0
          },
          "size": 2
         },
         "mode": "markers",
         "name": "3.8377485681363708",
         "showlegend": false,
         "type": "scatter3d",
         "x": [
          -1.7225654661443077
         ],
         "y": [
          -0.8964459786387888
         ],
         "z": [
          -2.695887307645588
         ]
        },
        {
         "marker": {
          "color": "red",
          "line": {
           "width": 0
          },
          "size": 2
         },
         "mode": "markers",
         "name": "-3.8077704693270342",
         "showlegend": false,
         "type": "scatter3d",
         "x": [
          -0.771705714476493
         ],
         "y": [
          -9.265359357178491
         ],
         "z": [
          -0.8653628285493147
         ]
        },
        {
         "marker": {
          "color": "blue",
          "line": {
           "width": 0
          },
          "size": 2
         },
         "mode": "markers",
         "name": "3.6738384889315974",
         "showlegend": false,
         "type": "scatter3d",
         "x": [
          -0.67133173316653
         ],
         "y": [
          -0.6318620134069913
         ],
         "z": [
          -2.6349332327557478
         ]
        },
        {
         "marker": {
          "color": "blue",
          "line": {
           "width": 0
          },
          "size": 2
         },
         "mode": "markers",
         "name": "3.4461085535950455",
         "showlegend": false,
         "type": "scatter3d",
         "x": [
          -1.59821873248412
         ],
         "y": [
          -1.752368088371606
         ],
         "z": [
          -2.8443570200998987
         ]
        },
        {
         "marker": {
          "color": "red",
          "line": {
           "width": 0
          },
          "size": 2
         },
         "mode": "markers",
         "name": "-7.271666188253219",
         "showlegend": false,
         "type": "scatter3d",
         "x": [
          -1.876261656966392
         ],
         "y": [
          -9.500605859963326
         ],
         "z": [
          2.1682507770744737
         ]
        },
        {
         "marker": {
          "color": "red",
          "line": {
           "width": 0
          },
          "size": 2
         },
         "mode": "markers",
         "name": "-6.020527403032154",
         "showlegend": false,
         "type": "scatter3d",
         "x": [
          1.3051929109046245
         ],
         "y": [
          -7.646142640577349
         ],
         "z": [
          1.4339394299892925
         ]
        },
        {
         "marker": {
          "color": "blue",
          "line": {
           "width": 0
          },
          "size": 2
         },
         "mode": "markers",
         "name": "3.40328499127193",
         "showlegend": false,
         "type": "scatter3d",
         "x": [
          -0.5586674798935111
         ],
         "y": [
          -2.6540097021810576
         ],
         "z": [
          -3.501820403841502
         ]
        },
        {
         "marker": {
          "color": "blue",
          "line": {
           "width": 0
          },
          "size": 2
         },
         "mode": "markers",
         "name": "3.4984063132244936",
         "showlegend": false,
         "type": "scatter3d",
         "x": [
          -0.5370500045819107
         ],
         "y": [
          -1.3512043294085272
         ],
         "z": [
          -2.8958779309977802
         ]
        },
        {
         "marker": {
          "color": "blue",
          "line": {
           "width": 0
          },
          "size": 2
         },
         "mode": "markers",
         "name": "5.3995250260365015",
         "showlegend": false,
         "type": "scatter3d",
         "x": [
          -2.4278706306650815
         ],
         "y": [
          -2.3000648458140063
         ],
         "z": [
          -4.614732745018286
         ]
        },
        {
         "marker": {
          "color": "red",
          "line": {
           "width": 0
          },
          "size": 2
         },
         "mode": "markers",
         "name": "-8.158249044266393",
         "showlegend": false,
         "type": "scatter3d",
         "x": [
          -2.189109572086774
         ],
         "y": [
          -8.930021318895749
         ],
         "z": [
          3.2854575703891404
         ]
        },
        {
         "marker": {
          "color": "red",
          "line": {
           "width": 0
          },
          "size": 2
         },
         "mode": "markers",
         "name": "-7.365037799061335",
         "showlegend": false,
         "type": "scatter3d",
         "x": [
          -1.2385625641615214
         ],
         "y": [
          -10.599400808555691
         ],
         "z": [
          1.5323078781549717
         ]
        },
        {
         "marker": {
          "color": "red",
          "line": {
           "width": 0
          },
          "size": 3
         },
         "mode": "markers",
         "name": "d=-1.672173658650501",
         "type": "scatter3d",
         "x": [
          -1.5491589173759384
         ],
         "y": [
          -7.250108574555569
         ],
         "z": [
          -1.4415180189468613
         ]
        },
        {
         "line": {
          "width": 6
         },
         "marker": {
          "size": 1
         },
         "name": "^ len_d",
         "type": "scatter3d",
         "x": [
          -1.5491589173759384,
          -1.7705831241683243
         ],
         "y": [
          -7.250108574555569,
          -6.68380793429573
         ],
         "z": [
          -1.4415180189468613,
          -2.5094222932694628
         ]
        },
        {
         "line": {
          "width": 6
         },
         "marker": {
          "size": 1
         },
         "name": "^ proj",
         "type": "scatter3d",
         "x": [
          -1.5491589173759384,
          0.3259926905489025
         ],
         "y": [
          -7.250108574555569,
          -0.8337384247737958
         ],
         "z": [
          -1.4415180189468613,
          1.5722264185934947
         ]
        },
        {
         "marker": {
          "color": "blue",
          "line": {
           "width": 0
          },
          "size": 2
         },
         "mode": "markers",
         "name": "3.191879320949031",
         "showlegend": false,
         "type": "scatter3d",
         "x": [
          -1.6580312392471215
         ],
         "y": [
          -2.4686234359156143
         ],
         "z": [
          -2.9967834212358087
         ]
        },
        {
         "marker": {
          "color": "red",
          "line": {
           "width": 0
          },
          "size": 2
         },
         "mode": "markers",
         "name": "-5.669575638253049",
         "showlegend": false,
         "type": "scatter3d",
         "x": [
          -0.777220540001882
         ],
         "y": [
          -10.726763450049406
         ],
         "z": [
          -0.06470266128815605
         ]
        },
        {
         "marker": {
          "color": "blue",
          "line": {
           "width": 0
          },
          "size": 2
         },
         "mode": "markers",
         "name": "3.958669718050279",
         "showlegend": false,
         "type": "scatter3d",
         "x": [
          -0.2077457436123662
         ],
         "y": [
          -0.6904645628096294
         ],
         "z": [
          -3.0030071301117554
         ]
        },
        {
         "marker": {
          "color": "red",
          "line": {
           "width": 0
          },
          "size": 2
         },
         "mode": "markers",
         "name": "-2.4473865495797464",
         "showlegend": false,
         "type": "scatter3d",
         "x": [
          -2.208993881683744
         ],
         "y": [
          -6.931037127562513
         ],
         "z": [
          -0.4799236902257027
         ]
        },
        {
         "marker": {
          "color": "red",
          "line": {
           "width": 0
          },
          "size": 2
         },
         "mode": "markers",
         "name": "-6.941045759933376",
         "showlegend": false,
         "type": "scatter3d",
         "x": [
          -2.1092372461747035
         ],
         "y": [
          -9.393765145033843
         ],
         "z": [
          1.993615444124878
         ]
        },
        {
         "marker": {
          "color": "blue",
          "line": {
           "width": 0
          },
          "size": 2
         },
         "mode": "markers",
         "name": "4.784689805566597",
         "showlegend": false,
         "type": "scatter3d",
         "x": [
          -0.3180427354058979
         ],
         "y": [
          -1.4010703116424414
         ],
         "z": [
          -4.0555125917167665
         ]
        },
        {
         "marker": {
          "color": "blue",
          "line": {
           "width": 0
          },
          "size": 2
         },
         "mode": "markers",
         "name": "3.3011286811211873",
         "showlegend": false,
         "type": "scatter3d",
         "x": [
          -1.7618984071926949
         ],
         "y": [
          -2.8473642653630744
         ],
         "z": [
          -3.268479933536673
         ]
        },
        {
         "marker": {
          "color": "red",
          "line": {
           "width": 0
          },
          "size": 2
         },
         "mode": "markers",
         "name": "-5.949796276013884",
         "showlegend": false,
         "type": "scatter3d",
         "x": [
          -1.6994184393126137
         ],
         "y": [
          -9.613804261878917
         ],
         "z": [
          0.9536793178805771
         ]
        },
        {
         "marker": {
          "color": "red",
          "line": {
           "width": 0
          },
          "size": 2
         },
         "mode": "markers",
         "name": "-7.633541511889574",
         "showlegend": false,
         "type": "scatter3d",
         "x": [
          -0.8996299869449244
         ],
         "y": [
          -9.698610632187053
         ],
         "z": [
          2.1667810560691363
         ]
        },
        {
         "marker": {
          "color": "red",
          "line": {
           "width": 0
          },
          "size": 3
         },
         "mode": "markers",
         "name": "d=-8.681878123074863",
         "type": "scatter3d",
         "x": [
          0.1265942845014456
         ],
         "y": [
          -11.219434867826742
         ],
         "z": [
          2.0340735109649115
         ]
        },
        {
         "line": {
          "width": 6
         },
         "marker": {
          "size": 1
         },
         "name": "^ len_d",
         "type": "scatter3d",
         "x": [
          0.1265942845014456,
          -1.023033905683922
         ],
         "y": [
          -11.219434867826742,
          -8.279218034293434
         ],
         "z": [
          2.0340735109649115,
          -3.510455138207729
         ]
        },
        {
         "line": {
          "width": 6
         },
         "marker": {
          "size": 1
         },
         "name": "^ proj",
         "type": "scatter3d",
         "x": [
          0.1265942845014456,
          1.2541966739418842
         ],
         "y": [
          -11.219434867826742,
          -3.207654618047266
         ],
         "z": [
          2.0340735109649115,
          6.048850793443535
         ]
        },
        {
         "marker": {
          "color": "blue",
          "line": {
           "width": 0
          },
          "size": 2
         },
         "mode": "markers",
         "name": "3.921151454246934",
         "showlegend": false,
         "type": "scatter3d",
         "x": [
          -3.2793979214271083
         ],
         "y": [
          -1.2275904418093788
         ],
         "z": [
          -2.6192215465178186
         ]
        },
        {
         "marker": {
          "color": "red",
          "line": {
           "width": 0
          },
          "size": 2
         },
         "mode": "markers",
         "name": "-7.602513543783251",
         "showlegend": false,
         "type": "scatter3d",
         "x": [
          -0.5448223810947223
         ],
         "y": [
          -10.13472563123421
         ],
         "z": [
          1.835705839145523
         ]
        },
        {
         "marker": {
          "color": "red",
          "line": {
           "width": 0
          },
          "size": 2
         },
         "mode": "markers",
         "name": "-5.821540734294297",
         "showlegend": false,
         "type": "scatter3d",
         "x": [
          -1.9993557985866022
         ],
         "y": [
          -10.064889958021181
         ],
         "z": [
          0.6681999291923968
         ]
        },
        {
         "marker": {
          "color": "blue",
          "line": {
           "width": 0
          },
          "size": 2
         },
         "mode": "markers",
         "name": "4.245400161301274",
         "showlegend": false,
         "type": "scatter3d",
         "x": [
          -0.6920363339672632
         ],
         "y": [
          -1.58898446753575
         ],
         "z": [
          -3.6215511381165517
         ]
        },
        {
         "marker": {
          "color": "blue",
          "line": {
           "width": 0
          },
          "size": 2
         },
         "mode": "markers",
         "name": "5.022144865027489",
         "showlegend": false,
         "type": "scatter3d",
         "x": [
          -0.2605230817068416
         ],
         "y": [
          -1.9216463929509258
         ],
         "z": [
          -4.544306524063666
         ]
        },
        {
         "marker": {
          "color": "blue",
          "line": {
           "width": 0
          },
          "size": 2
         },
         "mode": "markers",
         "name": "2.3569405177764247",
         "showlegend": false,
         "type": "scatter3d",
         "x": [
          -1.7200746184897326
         ],
         "y": [
          -1.7407911494275212
         ],
         "z": [
          -1.8918666646659397
         ]
        },
        {
         "marker": {
          "color": "blue",
          "line": {
           "width": 0
          },
          "size": 2
         },
         "mode": "markers",
         "name": "2.0016263494059543",
         "showlegend": false,
         "type": "scatter3d",
         "x": [
          -0.5415872984195823
         ],
         "y": [
          -2.5864049413688104
         ],
         "z": [
          -2.2841602985608693
         ]
        },
        {
         "marker": {
          "color": "blue",
          "line": {
           "width": 0
          },
          "size": 2
         },
         "mode": "markers",
         "name": "5.15491041119471",
         "showlegend": false,
         "type": "scatter3d",
         "x": [
          -3.1439561214259393
         ],
         "y": [
          -1.2621558942512991
         ],
         "z": [
          -3.7089967902252914
         ]
        },
        {
         "marker": {
          "color": "blue",
          "line": {
           "width": 0
          },
          "size": 2
         },
         "mode": "markers",
         "name": "1.8056313164779711",
         "showlegend": false,
         "type": "scatter3d",
         "x": [
          1.9861932534769364
         ],
         "y": [
          -0.6217826382099462
         ],
         "z": [
          -1.6007107275242336
         ]
        },
        {
         "marker": {
          "color": "red",
          "line": {
           "width": 0
          },
          "size": 2
         },
         "mode": "markers",
         "name": "-6.668849146982611",
         "showlegend": false,
         "type": "scatter3d",
         "x": [
          -0.7782447503786115
         ],
         "y": [
          -10.325689067272036
         ],
         "z": [
          0.993259319045779
         ]
        },
        {
         "marker": {
          "color": "blue",
          "line": {
           "width": 0
          },
          "size": 2
         },
         "mode": "markers",
         "name": "4.968484481852238",
         "showlegend": false,
         "type": "scatter3d",
         "x": [
          -2.354351183964895
         ],
         "y": [
          -1.0009774375225404
         ],
         "z": [
          -3.576560153702099
         ]
        },
        {
         "marker": {
          "color": "blue",
          "line": {
           "width": 0
          },
          "size": 2
         },
         "mode": "markers",
         "name": "2.688786721768477",
         "showlegend": false,
         "type": "scatter3d",
         "x": [
          0.5324423095002062
         ],
         "y": [
          -3.306711369346252
         ],
         "z": [
          -3.4699431439198865
         ]
        },
        {
         "marker": {
          "color": "blue",
          "line": {
           "width": 0
          },
          "size": 2
         },
         "mode": "markers",
         "name": "5.755647459807685",
         "showlegend": false,
         "type": "scatter3d",
         "x": [
          -0.7956119992676421
         ],
         "y": [
          -1.4661397829437133
         ],
         "z": [
          -4.812114131071052
         ]
        },
        {
         "marker": {
          "color": "red",
          "line": {
           "width": 0
          },
          "size": 2
         },
         "mode": "markers",
         "name": "-7.372852476574748",
         "showlegend": false,
         "type": "scatter3d",
         "x": [
          -1.9577775344879664
         ],
         "y": [
          -10.920914390180792
         ],
         "z": [
          1.5175459875845316
         ]
        },
        {
         "marker": {
          "color": "red",
          "line": {
           "width": 0
          },
          "size": 2
         },
         "mode": "markers",
         "name": "-4.57058330449036",
         "showlegend": false,
         "type": "scatter3d",
         "x": [
          -0.846605627083354
         ],
         "y": [
          -8.203096133170305
         ],
         "z": [
          0.35857025239482054
         ]
        },
        {
         "marker": {
          "color": "red",
          "line": {
           "width": 0
          },
          "size": 2
         },
         "mode": "markers",
         "name": "-7.430451578462039",
         "showlegend": false,
         "type": "scatter3d",
         "x": [
          -0.9540985237729442
         ],
         "y": [
          -11.521798412170888
         ],
         "z": [
          1.0395050807158799
         ]
        },
        {
         "marker": {
          "color": "red",
          "line": {
           "width": 0
          },
          "size": 2
         },
         "mode": "markers",
         "name": "-7.419509790003496",
         "showlegend": false,
         "type": "scatter3d",
         "x": [
          -1.167375452343276
         ],
         "y": [
          -9.11103082677894
         ],
         "z": [
          2.352883420246779
         ]
        },
        {
         "marker": {
          "color": "red",
          "line": {
           "width": 0
          },
          "size": 2
         },
         "mode": "markers",
         "name": "-5.3274300819040725",
         "showlegend": false,
         "type": "scatter3d",
         "x": [
          -1.6189239231891213
         ],
         "y": [
          -9.717659394294776
         ],
         "z": [
          0.35559454508988164
         ]
        },
        {
         "marker": {
          "color": "blue",
          "line": {
           "width": 0
          },
          "size": 2
         },
         "mode": "markers",
         "name": "1.8169224904766033",
         "showlegend": false,
         "type": "scatter3d",
         "x": [
          2.815140476170738
         ],
         "y": [
          -0.7715230809383078
         ],
         "z": [
          -1.8615432636055613
         ]
        },
        {
         "marker": {
          "color": "red",
          "line": {
           "width": 0
          },
          "size": 2
         },
         "mode": "markers",
         "name": "-6.434921637677169",
         "showlegend": false,
         "type": "scatter3d",
         "x": [
          -2.467714243545209
         ],
         "y": [
          -10.9026925907463
         ],
         "z": [
          0.8397543618972337
         ]
        },
        {
         "marker": {
          "color": "blue",
          "line": {
           "width": 0
          },
          "size": 2
         },
         "mode": "markers",
         "name": "3.270813135080593",
         "showlegend": false,
         "type": "scatter3d",
         "x": [
          -2.6111194173885
         ],
         "y": [
          -3.6182375500848063
         ],
         "z": [
          -3.4755489549556478
         ]
        },
        {
         "marker": {
          "color": "blue",
          "line": {
           "width": 0
          },
          "size": 2
         },
         "mode": "markers",
         "name": "4.721306065100253",
         "showlegend": false,
         "type": "scatter3d",
         "x": [
          -2.632141027502986
         ],
         "y": [
          -0.4598978823168711
         ],
         "z": [
          -3.0229987371752776
         ]
        },
        {
         "marker": {
          "color": "blue",
          "line": {
           "width": 0
          },
          "size": 2
         },
         "mode": "markers",
         "name": "1.9402909055398267",
         "showlegend": false,
         "type": "scatter3d",
         "x": [
          -0.27369741826522564
         ],
         "y": [
          -3.07510943607289
         ],
         "z": [
          -2.5469916880804377
         ]
        },
        {
         "marker": {
          "color": "red",
          "line": {
           "width": 0
          },
          "size": 2
         },
         "mode": "markers",
         "name": "-7.11221720721271",
         "showlegend": false,
         "type": "scatter3d",
         "x": [
          -0.8562772492940441
         ],
         "y": [
          -8.682295368407159
         ],
         "z": [
          2.255863220899003
         ]
        },
        {
         "marker": {
          "color": "blue",
          "line": {
           "width": 0
          },
          "size": 2
         },
         "mode": "markers",
         "name": "3.1372827704479316",
         "showlegend": false,
         "type": "scatter3d",
         "x": [
          0.5109244939452628
         ],
         "y": [
          -1.4122341513386731
         ],
         "z": [
          -2.8401393057647053
         ]
        },
        {
         "marker": {
          "color": "blue",
          "line": {
           "width": 0
          },
          "size": 2
         },
         "mode": "markers",
         "name": "4.509937431960705",
         "showlegend": false,
         "type": "scatter3d",
         "x": [
          -3.3631644102999134
         ],
         "y": [
          -0.982499871843562
         ],
         "z": [
          -2.9698066794796447
         ]
        },
        {
         "marker": {
          "color": "red",
          "line": {
           "width": 0
          },
          "size": 2
         },
         "mode": "markers",
         "name": "-5.169995378829167",
         "showlegend": false,
         "type": "scatter3d",
         "x": [
          -3.6237051481598868
         ],
         "y": [
          -8.3199538727014
         ],
         "z": [
          1.3793276051777774
         ]
        },
        {
         "marker": {
          "color": "red",
          "line": {
           "width": 0
          },
          "size": 2
         },
         "mode": "markers",
         "name": "-5.996427696427292",
         "showlegend": false,
         "type": "scatter3d",
         "x": [
          -0.8982357230332279
         ],
         "y": [
          -8.915199921999717
         ],
         "z": [
          1.197457536488295
         ]
        },
        {
         "marker": {
          "color": "red",
          "line": {
           "width": 0
          },
          "size": 2
         },
         "mode": "markers",
         "name": "-8.402302302497862",
         "showlegend": false,
         "type": "scatter3d",
         "x": [
          -1.6839942264978642
         ],
         "y": [
          -10.865994029978038
         ],
         "z": [
          2.3604849815013074
         ]
        },
        {
         "marker": {
          "color": "blue",
          "line": {
           "width": 0
          },
          "size": 2
         },
         "mode": "markers",
         "name": "1.614970698459076",
         "showlegend": false,
         "type": "scatter3d",
         "x": [
          -0.17566541418362114
         ],
         "y": [
          -1.8668860471137454
         ],
         "z": [
          -1.6514913914502833
         ]
        },
        {
         "marker": {
          "color": "red",
          "line": {
           "width": 0
          },
          "size": 2
         },
         "mode": "markers",
         "name": "-7.237911920774648",
         "showlegend": false,
         "type": "scatter3d",
         "x": [
          -0.5849823521129334
         ],
         "y": [
          -11.514941909564786
         ],
         "z": [
          0.8037802928618021
         ]
        },
        {
         "marker": {
          "color": "red",
          "line": {
           "width": 0
          },
          "size": 2
         },
         "mode": "markers",
         "name": "-5.112219002468646",
         "showlegend": false,
         "type": "scatter3d",
         "x": [
          -2.3015166876819912
         ],
         "y": [
          -9.049079662462567
         ],
         "z": [
          0.669669487497659
         ]
        },
        {
         "marker": {
          "color": "red",
          "line": {
           "width": 0
          },
          "size": 2
         },
         "mode": "markers",
         "name": "-7.019646536628469",
         "showlegend": false,
         "type": "scatter3d",
         "x": [
          -0.062216324103634424
         ],
         "y": [
          -9.943480711595555
         ],
         "z": [
          1.3441380516619292
         ]
        },
        {
         "marker": {
          "color": "blue",
          "line": {
           "width": 0
          },
          "size": 2
         },
         "mode": "markers",
         "name": "3.7689937568288605",
         "showlegend": false,
         "type": "scatter3d",
         "x": [
          -0.7791814301690143
         ],
         "y": [
          -0.7631855276368256
         ],
         "z": [
          -2.7626816126453972
         ]
        },
        {
         "marker": {
          "color": "blue",
          "line": {
           "width": 0
          },
          "size": 2
         },
         "mode": "markers",
         "name": "2.333813186301867",
         "showlegend": false,
         "type": "scatter3d",
         "x": [
          -1.7410530238271087
         ],
         "y": [
          -2.848071176596078
         ],
         "z": [
          -2.4551399086483734
         ]
        },
        {
         "marker": {
          "color": "blue",
          "line": {
           "width": 0
          },
          "size": 2
         },
         "mode": "markers",
         "name": "3.7905659161469756",
         "showlegend": false,
         "type": "scatter3d",
         "x": [
          -1.846501587197685
         ],
         "y": [
          -1.2931171450700611
         ],
         "z": [
          -2.8406398843183185
         ]
        },
        {
         "marker": {
          "color": "red",
          "line": {
           "width": 0
          },
          "size": 2
         },
         "mode": "markers",
         "name": "-4.581943437871044",
         "showlegend": false,
         "type": "scatter3d",
         "x": [
          -1.661618438925011
         ],
         "y": [
          -9.41498635429603
         ],
         "z": [
          -0.10548938942187358
         ]
        },
        {
         "marker": {
          "color": "blue",
          "line": {
           "width": 0
          },
          "size": 2
         },
         "mode": "markers",
         "name": "5.07074617016956",
         "showlegend": false,
         "type": "scatter3d",
         "x": [
          -3.0584698759102187
         ],
         "y": [
          -1.70706525528034
         ],
         "z": [
          -3.891477773844276
         ]
        },
        {
         "marker": {
          "color": "red",
          "line": {
           "width": 0
          },
          "size": 2
         },
         "mode": "markers",
         "name": "-4.647962586446605",
         "showlegend": false,
         "type": "scatter3d",
         "x": [
          -1.4365361275445485
         ],
         "y": [
          -9.224904911440879
         ],
         "z": [
          0.004470508804561124
         ]
        },
        {
         "marker": {
          "color": "red",
          "line": {
           "width": 0
          },
          "size": 2
         },
         "mode": "markers",
         "name": "-7.96440112074908",
         "showlegend": false,
         "type": "scatter3d",
         "x": [
          0.3043850992357515
         ],
         "y": [
          -12.140924819825662
         ],
         "z": [
          0.9017969346835247
         ]
        },
        {
         "marker": {
          "color": "red",
          "line": {
           "width": 0
          },
          "size": 2
         },
         "mode": "markers",
         "name": "-6.208342993642032",
         "showlegend": false,
         "type": "scatter3d",
         "x": [
          -3.1481926117236885
         ],
         "y": [
          -7.750290697461706
         ],
         "z": [
          2.4609275681475955
         ]
        },
        {
         "marker": {
          "color": "red",
          "line": {
           "width": 0
          },
          "size": 2
         },
         "mode": "markers",
         "name": "-4.789045963606067",
         "showlegend": false,
         "type": "scatter3d",
         "x": [
          -2.0279729064537872
         ],
         "y": [
          -9.472450112468849
         ],
         "z": [
          0.11514166433384088
         ]
        },
        {
         "marker": {
          "color": "red",
          "line": {
           "width": 0
          },
          "size": 2
         },
         "mode": "markers",
         "name": "-5.107441598886145",
         "showlegend": false,
         "type": "scatter3d",
         "x": [
          -2.413235230836907
         ],
         "y": [
          -9.048382808785483
         ],
         "z": [
          0.6891631187728673
         ]
        },
        {
         "marker": {
          "color": "red",
          "line": {
           "width": 0
          },
          "size": 2
         },
         "mode": "markers",
         "name": "-5.446750271871261",
         "showlegend": false,
         "type": "scatter3d",
         "x": [
          -1.5562814494106627
         ],
         "y": [
          -9.99835925717476
         ],
         "z": [
          0.2946596076377942
         ]
        },
        {
         "marker": {
          "color": "blue",
          "line": {
           "width": 0
          },
          "size": 2
         },
         "mode": "markers",
         "name": "3.4884849258218207",
         "showlegend": false,
         "type": "scatter3d",
         "x": [
          -1.1724465660561343
         ],
         "y": [
          -2.439472710192113
         ],
         "z": [
          -3.3328411309196055
         ]
        },
        {
         "marker": {
          "color": "blue",
          "line": {
           "width": 0
          },
          "size": 2
         },
         "mode": "markers",
         "name": "5.675259841682281",
         "showlegend": false,
         "type": "scatter3d",
         "x": [
          -1.545326266004287
         ],
         "y": [
          -3.1393185695146357
         ],
         "z": [
          -5.475955515667467
         ]
        },
        {
         "marker": {
          "color": "red",
          "line": {
           "width": 0
          },
          "size": 2
         },
         "mode": "markers",
         "name": "-6.956337443860355",
         "showlegend": false,
         "type": "scatter3d",
         "x": [
          -1.357320622512882
         ],
         "y": [
          -8.656772358005192
         ],
         "z": [
          2.2414624781712167
         ]
        },
        {
         "marker": {
          "color": "red",
          "line": {
           "width": 0
          },
          "size": 2
         },
         "mode": "markers",
         "name": "-6.070488177089525",
         "showlegend": false,
         "type": "scatter3d",
         "x": [
          -1.6611944746752747
         ],
         "y": [
          -9.857144786521168
         ],
         "z": [
          0.9187787946802018
         ]
        },
        {
         "marker": {
          "color": "red",
          "line": {
           "width": 0
          },
          "size": 2
         },
         "mode": "markers",
         "name": "-7.25769032894931",
         "showlegend": false,
         "type": "scatter3d",
         "x": [
          -0.7377493850108957
         ],
         "y": [
          -9.794983560435583
         ],
         "z": [
          1.7642612956435944
         ]
        },
        {
         "marker": {
          "color": "blue",
          "line": {
           "width": 0
          },
          "size": 2
         },
         "mode": "markers",
         "name": "3.840398175035528",
         "showlegend": false,
         "type": "scatter3d",
         "x": [
          -2.7469164972912514
         ],
         "y": [
          -1.9306617356064473
         ],
         "z": [
          -3.034170248128713
         ]
        },
        {
         "marker": {
          "color": "blue",
          "line": {
           "width": 0
          },
          "size": 2
         },
         "mode": "markers",
         "name": "2.440374304818515",
         "showlegend": false,
         "type": "scatter3d",
         "x": [
          -0.423953950089518
         ],
         "y": [
          -2.679734533092661
         ],
         "z": [
          -2.7290821665268874
         ]
        },
        {
         "marker": {
          "color": "blue",
          "line": {
           "width": 0
          },
          "size": 3
         },
         "mode": "markers",
         "name": "d=7.05326448553566",
         "type": "scatter3d",
         "x": [
          -2.317067132432493
         ],
         "y": [
          -2.040818781594588
         ],
         "z": [
          -5.8987617119969125
         ]
        },
        {
         "line": {
          "width": 6
         },
         "marker": {
          "size": 1
         },
         "name": "^ len_d",
         "type": "scatter3d",
         "x": [
          -2.317067132432493,
          -1.3830950620513378
         ],
         "y": [
          -2.040818781594588,
          -4.429487071767472
         ],
         "z": [
          -5.8987617119969125,
          -1.3943184963861124
         ]
        },
        {
         "line": {
          "width": 6
         },
         "marker": {
          "size": 1
         },
         "name": "^ proj",
         "type": "scatter3d",
         "x": [
          -2.317067132432493,
          -0.8294035866246386
         ],
         "y": [
          -2.040818781594588,
          2.1212305056589273
         ],
         "z": [
          -5.8987617119969125,
          -4.000121071339907
         ]
        },
        {
         "showlegend": false,
         "showscale": false,
         "type": "surface",
         "x": [
          [
           -4.408300387389651,
           -4.147471688240374,
           -3.886642989091098,
           -3.6258142899418218,
           -3.3649855907925454,
           -3.104156891643269,
           -2.8433281924939933,
           -2.582499493344717,
           -2.3216707941954406,
           -2.0608420950461643,
           -1.800013395896888,
           -1.5391846967476117,
           -1.2783559975983358,
           -1.0175272984490595,
           -0.7566985992997832,
           -0.4958699001505069,
           -0.2350412010012306,
           0.025787498148045707,
           0.286616197297322,
           0.5474448964465983,
           0.8082735955958746,
           1.069102294745151,
           1.3299309938944273,
           1.5907596930437036,
           1.851588392192979,
           2.1124170913422553,
           2.3732457904915316,
           2.634074489640808,
           2.8949031887900842,
           3.1557318879393614
          ],
          [
           -4.408300387389651,
           -4.147471688240374,
           -3.886642989091098,
           -3.6258142899418218,
           -3.3649855907925454,
           -3.104156891643269,
           -2.8433281924939933,
           -2.582499493344717,
           -2.3216707941954406,
           -2.0608420950461643,
           -1.800013395896888,
           -1.5391846967476117,
           -1.2783559975983358,
           -1.0175272984490595,
           -0.7566985992997832,
           -0.4958699001505069,
           -0.2350412010012306,
           0.025787498148045707,
           0.286616197297322,
           0.5474448964465983,
           0.8082735955958746,
           1.069102294745151,
           1.3299309938944273,
           1.5907596930437036,
           1.851588392192979,
           2.1124170913422553,
           2.3732457904915316,
           2.634074489640808,
           2.8949031887900842,
           3.1557318879393614
          ],
          [
           -4.408300387389651,
           -4.147471688240374,
           -3.886642989091098,
           -3.6258142899418218,
           -3.3649855907925454,
           -3.104156891643269,
           -2.8433281924939933,
           -2.582499493344717,
           -2.3216707941954406,
           -2.0608420950461643,
           -1.800013395896888,
           -1.5391846967476117,
           -1.2783559975983358,
           -1.0175272984490595,
           -0.7566985992997832,
           -0.4958699001505069,
           -0.2350412010012306,
           0.025787498148045707,
           0.286616197297322,
           0.5474448964465983,
           0.8082735955958746,
           1.069102294745151,
           1.3299309938944273,
           1.5907596930437036,
           1.851588392192979,
           2.1124170913422553,
           2.3732457904915316,
           2.634074489640808,
           2.8949031887900842,
           3.1557318879393614
          ],
          [
           -4.408300387389651,
           -4.147471688240374,
           -3.886642989091098,
           -3.6258142899418218,
           -3.3649855907925454,
           -3.104156891643269,
           -2.8433281924939933,
           -2.582499493344717,
           -2.3216707941954406,
           -2.0608420950461643,
           -1.800013395896888,
           -1.5391846967476117,
           -1.2783559975983358,
           -1.0175272984490595,
           -0.7566985992997832,
           -0.4958699001505069,
           -0.2350412010012306,
           0.025787498148045707,
           0.286616197297322,
           0.5474448964465983,
           0.8082735955958746,
           1.069102294745151,
           1.3299309938944273,
           1.5907596930437036,
           1.851588392192979,
           2.1124170913422553,
           2.3732457904915316,
           2.634074489640808,
           2.8949031887900842,
           3.1557318879393614
          ],
          [
           -4.408300387389651,
           -4.147471688240374,
           -3.886642989091098,
           -3.6258142899418218,
           -3.3649855907925454,
           -3.104156891643269,
           -2.8433281924939933,
           -2.582499493344717,
           -2.3216707941954406,
           -2.0608420950461643,
           -1.800013395896888,
           -1.5391846967476117,
           -1.2783559975983358,
           -1.0175272984490595,
           -0.7566985992997832,
           -0.4958699001505069,
           -0.2350412010012306,
           0.025787498148045707,
           0.286616197297322,
           0.5474448964465983,
           0.8082735955958746,
           1.069102294745151,
           1.3299309938944273,
           1.5907596930437036,
           1.851588392192979,
           2.1124170913422553,
           2.3732457904915316,
           2.634074489640808,
           2.8949031887900842,
           3.1557318879393614
          ],
          [
           -4.408300387389651,
           -4.147471688240374,
           -3.886642989091098,
           -3.6258142899418218,
           -3.3649855907925454,
           -3.104156891643269,
           -2.8433281924939933,
           -2.582499493344717,
           -2.3216707941954406,
           -2.0608420950461643,
           -1.800013395896888,
           -1.5391846967476117,
           -1.2783559975983358,
           -1.0175272984490595,
           -0.7566985992997832,
           -0.4958699001505069,
           -0.2350412010012306,
           0.025787498148045707,
           0.286616197297322,
           0.5474448964465983,
           0.8082735955958746,
           1.069102294745151,
           1.3299309938944273,
           1.5907596930437036,
           1.851588392192979,
           2.1124170913422553,
           2.3732457904915316,
           2.634074489640808,
           2.8949031887900842,
           3.1557318879393614
          ],
          [
           -4.408300387389651,
           -4.147471688240374,
           -3.886642989091098,
           -3.6258142899418218,
           -3.3649855907925454,
           -3.104156891643269,
           -2.8433281924939933,
           -2.582499493344717,
           -2.3216707941954406,
           -2.0608420950461643,
           -1.800013395896888,
           -1.5391846967476117,
           -1.2783559975983358,
           -1.0175272984490595,
           -0.7566985992997832,
           -0.4958699001505069,
           -0.2350412010012306,
           0.025787498148045707,
           0.286616197297322,
           0.5474448964465983,
           0.8082735955958746,
           1.069102294745151,
           1.3299309938944273,
           1.5907596930437036,
           1.851588392192979,
           2.1124170913422553,
           2.3732457904915316,
           2.634074489640808,
           2.8949031887900842,
           3.1557318879393614
          ],
          [
           -4.408300387389651,
           -4.147471688240374,
           -3.886642989091098,
           -3.6258142899418218,
           -3.3649855907925454,
           -3.104156891643269,
           -2.8433281924939933,
           -2.582499493344717,
           -2.3216707941954406,
           -2.0608420950461643,
           -1.800013395896888,
           -1.5391846967476117,
           -1.2783559975983358,
           -1.0175272984490595,
           -0.7566985992997832,
           -0.4958699001505069,
           -0.2350412010012306,
           0.025787498148045707,
           0.286616197297322,
           0.5474448964465983,
           0.8082735955958746,
           1.069102294745151,
           1.3299309938944273,
           1.5907596930437036,
           1.851588392192979,
           2.1124170913422553,
           2.3732457904915316,
           2.634074489640808,
           2.8949031887900842,
           3.1557318879393614
          ],
          [
           -4.408300387389651,
           -4.147471688240374,
           -3.886642989091098,
           -3.6258142899418218,
           -3.3649855907925454,
           -3.104156891643269,
           -2.8433281924939933,
           -2.582499493344717,
           -2.3216707941954406,
           -2.0608420950461643,
           -1.800013395896888,
           -1.5391846967476117,
           -1.2783559975983358,
           -1.0175272984490595,
           -0.7566985992997832,
           -0.4958699001505069,
           -0.2350412010012306,
           0.025787498148045707,
           0.286616197297322,
           0.5474448964465983,
           0.8082735955958746,
           1.069102294745151,
           1.3299309938944273,
           1.5907596930437036,
           1.851588392192979,
           2.1124170913422553,
           2.3732457904915316,
           2.634074489640808,
           2.8949031887900842,
           3.1557318879393614
          ],
          [
           -4.408300387389651,
           -4.147471688240374,
           -3.886642989091098,
           -3.6258142899418218,
           -3.3649855907925454,
           -3.104156891643269,
           -2.8433281924939933,
           -2.582499493344717,
           -2.3216707941954406,
           -2.0608420950461643,
           -1.800013395896888,
           -1.5391846967476117,
           -1.2783559975983358,
           -1.0175272984490595,
           -0.7566985992997832,
           -0.4958699001505069,
           -0.2350412010012306,
           0.025787498148045707,
           0.286616197297322,
           0.5474448964465983,
           0.8082735955958746,
           1.069102294745151,
           1.3299309938944273,
           1.5907596930437036,
           1.851588392192979,
           2.1124170913422553,
           2.3732457904915316,
           2.634074489640808,
           2.8949031887900842,
           3.1557318879393614
          ],
          [
           -4.408300387389651,
           -4.147471688240374,
           -3.886642989091098,
           -3.6258142899418218,
           -3.3649855907925454,
           -3.104156891643269,
           -2.8433281924939933,
           -2.582499493344717,
           -2.3216707941954406,
           -2.0608420950461643,
           -1.800013395896888,
           -1.5391846967476117,
           -1.2783559975983358,
           -1.0175272984490595,
           -0.7566985992997832,
           -0.4958699001505069,
           -0.2350412010012306,
           0.025787498148045707,
           0.286616197297322,
           0.5474448964465983,
           0.8082735955958746,
           1.069102294745151,
           1.3299309938944273,
           1.5907596930437036,
           1.851588392192979,
           2.1124170913422553,
           2.3732457904915316,
           2.634074489640808,
           2.8949031887900842,
           3.1557318879393614
          ],
          [
           -4.408300387389651,
           -4.147471688240374,
           -3.886642989091098,
           -3.6258142899418218,
           -3.3649855907925454,
           -3.104156891643269,
           -2.8433281924939933,
           -2.582499493344717,
           -2.3216707941954406,
           -2.0608420950461643,
           -1.800013395896888,
           -1.5391846967476117,
           -1.2783559975983358,
           -1.0175272984490595,
           -0.7566985992997832,
           -0.4958699001505069,
           -0.2350412010012306,
           0.025787498148045707,
           0.286616197297322,
           0.5474448964465983,
           0.8082735955958746,
           1.069102294745151,
           1.3299309938944273,
           1.5907596930437036,
           1.851588392192979,
           2.1124170913422553,
           2.3732457904915316,
           2.634074489640808,
           2.8949031887900842,
           3.1557318879393614
          ],
          [
           -4.408300387389651,
           -4.147471688240374,
           -3.886642989091098,
           -3.6258142899418218,
           -3.3649855907925454,
           -3.104156891643269,
           -2.8433281924939933,
           -2.582499493344717,
           -2.3216707941954406,
           -2.0608420950461643,
           -1.800013395896888,
           -1.5391846967476117,
           -1.2783559975983358,
           -1.0175272984490595,
           -0.7566985992997832,
           -0.4958699001505069,
           -0.2350412010012306,
           0.025787498148045707,
           0.286616197297322,
           0.5474448964465983,
           0.8082735955958746,
           1.069102294745151,
           1.3299309938944273,
           1.5907596930437036,
           1.851588392192979,
           2.1124170913422553,
           2.3732457904915316,
           2.634074489640808,
           2.8949031887900842,
           3.1557318879393614
          ],
          [
           -4.408300387389651,
           -4.147471688240374,
           -3.886642989091098,
           -3.6258142899418218,
           -3.3649855907925454,
           -3.104156891643269,
           -2.8433281924939933,
           -2.582499493344717,
           -2.3216707941954406,
           -2.0608420950461643,
           -1.800013395896888,
           -1.5391846967476117,
           -1.2783559975983358,
           -1.0175272984490595,
           -0.7566985992997832,
           -0.4958699001505069,
           -0.2350412010012306,
           0.025787498148045707,
           0.286616197297322,
           0.5474448964465983,
           0.8082735955958746,
           1.069102294745151,
           1.3299309938944273,
           1.5907596930437036,
           1.851588392192979,
           2.1124170913422553,
           2.3732457904915316,
           2.634074489640808,
           2.8949031887900842,
           3.1557318879393614
          ],
          [
           -4.408300387389651,
           -4.147471688240374,
           -3.886642989091098,
           -3.6258142899418218,
           -3.3649855907925454,
           -3.104156891643269,
           -2.8433281924939933,
           -2.582499493344717,
           -2.3216707941954406,
           -2.0608420950461643,
           -1.800013395896888,
           -1.5391846967476117,
           -1.2783559975983358,
           -1.0175272984490595,
           -0.7566985992997832,
           -0.4958699001505069,
           -0.2350412010012306,
           0.025787498148045707,
           0.286616197297322,
           0.5474448964465983,
           0.8082735955958746,
           1.069102294745151,
           1.3299309938944273,
           1.5907596930437036,
           1.851588392192979,
           2.1124170913422553,
           2.3732457904915316,
           2.634074489640808,
           2.8949031887900842,
           3.1557318879393614
          ],
          [
           -4.408300387389651,
           -4.147471688240374,
           -3.886642989091098,
           -3.6258142899418218,
           -3.3649855907925454,
           -3.104156891643269,
           -2.8433281924939933,
           -2.582499493344717,
           -2.3216707941954406,
           -2.0608420950461643,
           -1.800013395896888,
           -1.5391846967476117,
           -1.2783559975983358,
           -1.0175272984490595,
           -0.7566985992997832,
           -0.4958699001505069,
           -0.2350412010012306,
           0.025787498148045707,
           0.286616197297322,
           0.5474448964465983,
           0.8082735955958746,
           1.069102294745151,
           1.3299309938944273,
           1.5907596930437036,
           1.851588392192979,
           2.1124170913422553,
           2.3732457904915316,
           2.634074489640808,
           2.8949031887900842,
           3.1557318879393614
          ],
          [
           -4.408300387389651,
           -4.147471688240374,
           -3.886642989091098,
           -3.6258142899418218,
           -3.3649855907925454,
           -3.104156891643269,
           -2.8433281924939933,
           -2.582499493344717,
           -2.3216707941954406,
           -2.0608420950461643,
           -1.800013395896888,
           -1.5391846967476117,
           -1.2783559975983358,
           -1.0175272984490595,
           -0.7566985992997832,
           -0.4958699001505069,
           -0.2350412010012306,
           0.025787498148045707,
           0.286616197297322,
           0.5474448964465983,
           0.8082735955958746,
           1.069102294745151,
           1.3299309938944273,
           1.5907596930437036,
           1.851588392192979,
           2.1124170913422553,
           2.3732457904915316,
           2.634074489640808,
           2.8949031887900842,
           3.1557318879393614
          ],
          [
           -4.408300387389651,
           -4.147471688240374,
           -3.886642989091098,
           -3.6258142899418218,
           -3.3649855907925454,
           -3.104156891643269,
           -2.8433281924939933,
           -2.582499493344717,
           -2.3216707941954406,
           -2.0608420950461643,
           -1.800013395896888,
           -1.5391846967476117,
           -1.2783559975983358,
           -1.0175272984490595,
           -0.7566985992997832,
           -0.4958699001505069,
           -0.2350412010012306,
           0.025787498148045707,
           0.286616197297322,
           0.5474448964465983,
           0.8082735955958746,
           1.069102294745151,
           1.3299309938944273,
           1.5907596930437036,
           1.851588392192979,
           2.1124170913422553,
           2.3732457904915316,
           2.634074489640808,
           2.8949031887900842,
           3.1557318879393614
          ],
          [
           -4.408300387389651,
           -4.147471688240374,
           -3.886642989091098,
           -3.6258142899418218,
           -3.3649855907925454,
           -3.104156891643269,
           -2.8433281924939933,
           -2.582499493344717,
           -2.3216707941954406,
           -2.0608420950461643,
           -1.800013395896888,
           -1.5391846967476117,
           -1.2783559975983358,
           -1.0175272984490595,
           -0.7566985992997832,
           -0.4958699001505069,
           -0.2350412010012306,
           0.025787498148045707,
           0.286616197297322,
           0.5474448964465983,
           0.8082735955958746,
           1.069102294745151,
           1.3299309938944273,
           1.5907596930437036,
           1.851588392192979,
           2.1124170913422553,
           2.3732457904915316,
           2.634074489640808,
           2.8949031887900842,
           3.1557318879393614
          ],
          [
           -4.408300387389651,
           -4.147471688240374,
           -3.886642989091098,
           -3.6258142899418218,
           -3.3649855907925454,
           -3.104156891643269,
           -2.8433281924939933,
           -2.582499493344717,
           -2.3216707941954406,
           -2.0608420950461643,
           -1.800013395896888,
           -1.5391846967476117,
           -1.2783559975983358,
           -1.0175272984490595,
           -0.7566985992997832,
           -0.4958699001505069,
           -0.2350412010012306,
           0.025787498148045707,
           0.286616197297322,
           0.5474448964465983,
           0.8082735955958746,
           1.069102294745151,
           1.3299309938944273,
           1.5907596930437036,
           1.851588392192979,
           2.1124170913422553,
           2.3732457904915316,
           2.634074489640808,
           2.8949031887900842,
           3.1557318879393614
          ],
          [
           -4.408300387389651,
           -4.147471688240374,
           -3.886642989091098,
           -3.6258142899418218,
           -3.3649855907925454,
           -3.104156891643269,
           -2.8433281924939933,
           -2.582499493344717,
           -2.3216707941954406,
           -2.0608420950461643,
           -1.800013395896888,
           -1.5391846967476117,
           -1.2783559975983358,
           -1.0175272984490595,
           -0.7566985992997832,
           -0.4958699001505069,
           -0.2350412010012306,
           0.025787498148045707,
           0.286616197297322,
           0.5474448964465983,
           0.8082735955958746,
           1.069102294745151,
           1.3299309938944273,
           1.5907596930437036,
           1.851588392192979,
           2.1124170913422553,
           2.3732457904915316,
           2.634074489640808,
           2.8949031887900842,
           3.1557318879393614
          ],
          [
           -4.408300387389651,
           -4.147471688240374,
           -3.886642989091098,
           -3.6258142899418218,
           -3.3649855907925454,
           -3.104156891643269,
           -2.8433281924939933,
           -2.582499493344717,
           -2.3216707941954406,
           -2.0608420950461643,
           -1.800013395896888,
           -1.5391846967476117,
           -1.2783559975983358,
           -1.0175272984490595,
           -0.7566985992997832,
           -0.4958699001505069,
           -0.2350412010012306,
           0.025787498148045707,
           0.286616197297322,
           0.5474448964465983,
           0.8082735955958746,
           1.069102294745151,
           1.3299309938944273,
           1.5907596930437036,
           1.851588392192979,
           2.1124170913422553,
           2.3732457904915316,
           2.634074489640808,
           2.8949031887900842,
           3.1557318879393614
          ],
          [
           -4.408300387389651,
           -4.147471688240374,
           -3.886642989091098,
           -3.6258142899418218,
           -3.3649855907925454,
           -3.104156891643269,
           -2.8433281924939933,
           -2.582499493344717,
           -2.3216707941954406,
           -2.0608420950461643,
           -1.800013395896888,
           -1.5391846967476117,
           -1.2783559975983358,
           -1.0175272984490595,
           -0.7566985992997832,
           -0.4958699001505069,
           -0.2350412010012306,
           0.025787498148045707,
           0.286616197297322,
           0.5474448964465983,
           0.8082735955958746,
           1.069102294745151,
           1.3299309938944273,
           1.5907596930437036,
           1.851588392192979,
           2.1124170913422553,
           2.3732457904915316,
           2.634074489640808,
           2.8949031887900842,
           3.1557318879393614
          ],
          [
           -4.408300387389651,
           -4.147471688240374,
           -3.886642989091098,
           -3.6258142899418218,
           -3.3649855907925454,
           -3.104156891643269,
           -2.8433281924939933,
           -2.582499493344717,
           -2.3216707941954406,
           -2.0608420950461643,
           -1.800013395896888,
           -1.5391846967476117,
           -1.2783559975983358,
           -1.0175272984490595,
           -0.7566985992997832,
           -0.4958699001505069,
           -0.2350412010012306,
           0.025787498148045707,
           0.286616197297322,
           0.5474448964465983,
           0.8082735955958746,
           1.069102294745151,
           1.3299309938944273,
           1.5907596930437036,
           1.851588392192979,
           2.1124170913422553,
           2.3732457904915316,
           2.634074489640808,
           2.8949031887900842,
           3.1557318879393614
          ],
          [
           -4.408300387389651,
           -4.147471688240374,
           -3.886642989091098,
           -3.6258142899418218,
           -3.3649855907925454,
           -3.104156891643269,
           -2.8433281924939933,
           -2.582499493344717,
           -2.3216707941954406,
           -2.0608420950461643,
           -1.800013395896888,
           -1.5391846967476117,
           -1.2783559975983358,
           -1.0175272984490595,
           -0.7566985992997832,
           -0.4958699001505069,
           -0.2350412010012306,
           0.025787498148045707,
           0.286616197297322,
           0.5474448964465983,
           0.8082735955958746,
           1.069102294745151,
           1.3299309938944273,
           1.5907596930437036,
           1.851588392192979,
           2.1124170913422553,
           2.3732457904915316,
           2.634074489640808,
           2.8949031887900842,
           3.1557318879393614
          ],
          [
           -4.408300387389651,
           -4.147471688240374,
           -3.886642989091098,
           -3.6258142899418218,
           -3.3649855907925454,
           -3.104156891643269,
           -2.8433281924939933,
           -2.582499493344717,
           -2.3216707941954406,
           -2.0608420950461643,
           -1.800013395896888,
           -1.5391846967476117,
           -1.2783559975983358,
           -1.0175272984490595,
           -0.7566985992997832,
           -0.4958699001505069,
           -0.2350412010012306,
           0.025787498148045707,
           0.286616197297322,
           0.5474448964465983,
           0.8082735955958746,
           1.069102294745151,
           1.3299309938944273,
           1.5907596930437036,
           1.851588392192979,
           2.1124170913422553,
           2.3732457904915316,
           2.634074489640808,
           2.8949031887900842,
           3.1557318879393614
          ],
          [
           -4.408300387389651,
           -4.147471688240374,
           -3.886642989091098,
           -3.6258142899418218,
           -3.3649855907925454,
           -3.104156891643269,
           -2.8433281924939933,
           -2.582499493344717,
           -2.3216707941954406,
           -2.0608420950461643,
           -1.800013395896888,
           -1.5391846967476117,
           -1.2783559975983358,
           -1.0175272984490595,
           -0.7566985992997832,
           -0.4958699001505069,
           -0.2350412010012306,
           0.025787498148045707,
           0.286616197297322,
           0.5474448964465983,
           0.8082735955958746,
           1.069102294745151,
           1.3299309938944273,
           1.5907596930437036,
           1.851588392192979,
           2.1124170913422553,
           2.3732457904915316,
           2.634074489640808,
           2.8949031887900842,
           3.1557318879393614
          ],
          [
           -4.408300387389651,
           -4.147471688240374,
           -3.886642989091098,
           -3.6258142899418218,
           -3.3649855907925454,
           -3.104156891643269,
           -2.8433281924939933,
           -2.582499493344717,
           -2.3216707941954406,
           -2.0608420950461643,
           -1.800013395896888,
           -1.5391846967476117,
           -1.2783559975983358,
           -1.0175272984490595,
           -0.7566985992997832,
           -0.4958699001505069,
           -0.2350412010012306,
           0.025787498148045707,
           0.286616197297322,
           0.5474448964465983,
           0.8082735955958746,
           1.069102294745151,
           1.3299309938944273,
           1.5907596930437036,
           1.851588392192979,
           2.1124170913422553,
           2.3732457904915316,
           2.634074489640808,
           2.8949031887900842,
           3.1557318879393614
          ],
          [
           -4.408300387389651,
           -4.147471688240374,
           -3.886642989091098,
           -3.6258142899418218,
           -3.3649855907925454,
           -3.104156891643269,
           -2.8433281924939933,
           -2.582499493344717,
           -2.3216707941954406,
           -2.0608420950461643,
           -1.800013395896888,
           -1.5391846967476117,
           -1.2783559975983358,
           -1.0175272984490595,
           -0.7566985992997832,
           -0.4958699001505069,
           -0.2350412010012306,
           0.025787498148045707,
           0.286616197297322,
           0.5474448964465983,
           0.8082735955958746,
           1.069102294745151,
           1.3299309938944273,
           1.5907596930437036,
           1.851588392192979,
           2.1124170913422553,
           2.3732457904915316,
           2.634074489640808,
           2.8949031887900842,
           3.1557318879393614
          ],
          [
           -4.408300387389651,
           -4.147471688240374,
           -3.886642989091098,
           -3.6258142899418218,
           -3.3649855907925454,
           -3.104156891643269,
           -2.8433281924939933,
           -2.582499493344717,
           -2.3216707941954406,
           -2.0608420950461643,
           -1.800013395896888,
           -1.5391846967476117,
           -1.2783559975983358,
           -1.0175272984490595,
           -0.7566985992997832,
           -0.4958699001505069,
           -0.2350412010012306,
           0.025787498148045707,
           0.286616197297322,
           0.5474448964465983,
           0.8082735955958746,
           1.069102294745151,
           1.3299309938944273,
           1.5907596930437036,
           1.851588392192979,
           2.1124170913422553,
           2.3732457904915316,
           2.634074489640808,
           2.8949031887900842,
           3.1557318879393614
          ]
         ],
         "y": [
          [
           -9.543689738628235,
           -9.543689738628235,
           -9.543689738628235,
           -9.543689738628235,
           -9.543689738628235,
           -9.543689738628235,
           -9.543689738628235,
           -9.543689738628235,
           -9.543689738628235,
           -9.543689738628235,
           -9.543689738628235,
           -9.543689738628235,
           -9.543689738628235,
           -9.543689738628235,
           -9.543689738628235,
           -9.543689738628235,
           -9.543689738628235,
           -9.543689738628235,
           -9.543689738628235,
           -9.543689738628235,
           -9.543689738628235,
           -9.543689738628235,
           -9.543689738628235,
           -9.543689738628235,
           -9.543689738628235,
           -9.543689738628235,
           -9.543689738628235,
           -9.543689738628235,
           -9.543689738628235,
           -9.543689738628235
          ],
          [
           -9.253675617749836,
           -9.253675617749836,
           -9.253675617749836,
           -9.253675617749836,
           -9.253675617749836,
           -9.253675617749836,
           -9.253675617749836,
           -9.253675617749836,
           -9.253675617749836,
           -9.253675617749836,
           -9.253675617749836,
           -9.253675617749836,
           -9.253675617749836,
           -9.253675617749836,
           -9.253675617749836,
           -9.253675617749836,
           -9.253675617749836,
           -9.253675617749836,
           -9.253675617749836,
           -9.253675617749836,
           -9.253675617749836,
           -9.253675617749836,
           -9.253675617749836,
           -9.253675617749836,
           -9.253675617749836,
           -9.253675617749836,
           -9.253675617749836,
           -9.253675617749836,
           -9.253675617749836,
           -9.253675617749836
          ],
          [
           -8.963661496871437,
           -8.963661496871437,
           -8.963661496871437,
           -8.963661496871437,
           -8.963661496871437,
           -8.963661496871437,
           -8.963661496871437,
           -8.963661496871437,
           -8.963661496871437,
           -8.963661496871437,
           -8.963661496871437,
           -8.963661496871437,
           -8.963661496871437,
           -8.963661496871437,
           -8.963661496871437,
           -8.963661496871437,
           -8.963661496871437,
           -8.963661496871437,
           -8.963661496871437,
           -8.963661496871437,
           -8.963661496871437,
           -8.963661496871437,
           -8.963661496871437,
           -8.963661496871437,
           -8.963661496871437,
           -8.963661496871437,
           -8.963661496871437,
           -8.963661496871437,
           -8.963661496871437,
           -8.963661496871437
          ],
          [
           -8.673647375993038,
           -8.673647375993038,
           -8.673647375993038,
           -8.673647375993038,
           -8.673647375993038,
           -8.673647375993038,
           -8.673647375993038,
           -8.673647375993038,
           -8.673647375993038,
           -8.673647375993038,
           -8.673647375993038,
           -8.673647375993038,
           -8.673647375993038,
           -8.673647375993038,
           -8.673647375993038,
           -8.673647375993038,
           -8.673647375993038,
           -8.673647375993038,
           -8.673647375993038,
           -8.673647375993038,
           -8.673647375993038,
           -8.673647375993038,
           -8.673647375993038,
           -8.673647375993038,
           -8.673647375993038,
           -8.673647375993038,
           -8.673647375993038,
           -8.673647375993038,
           -8.673647375993038,
           -8.673647375993038
          ],
          [
           -8.383633255114638,
           -8.383633255114638,
           -8.383633255114638,
           -8.383633255114638,
           -8.383633255114638,
           -8.383633255114638,
           -8.383633255114638,
           -8.383633255114638,
           -8.383633255114638,
           -8.383633255114638,
           -8.383633255114638,
           -8.383633255114638,
           -8.383633255114638,
           -8.383633255114638,
           -8.383633255114638,
           -8.383633255114638,
           -8.383633255114638,
           -8.383633255114638,
           -8.383633255114638,
           -8.383633255114638,
           -8.383633255114638,
           -8.383633255114638,
           -8.383633255114638,
           -8.383633255114638,
           -8.383633255114638,
           -8.383633255114638,
           -8.383633255114638,
           -8.383633255114638,
           -8.383633255114638,
           -8.383633255114638
          ],
          [
           -8.09361913423624,
           -8.09361913423624,
           -8.09361913423624,
           -8.09361913423624,
           -8.09361913423624,
           -8.09361913423624,
           -8.09361913423624,
           -8.09361913423624,
           -8.09361913423624,
           -8.09361913423624,
           -8.09361913423624,
           -8.09361913423624,
           -8.09361913423624,
           -8.09361913423624,
           -8.09361913423624,
           -8.09361913423624,
           -8.09361913423624,
           -8.09361913423624,
           -8.09361913423624,
           -8.09361913423624,
           -8.09361913423624,
           -8.09361913423624,
           -8.09361913423624,
           -8.09361913423624,
           -8.09361913423624,
           -8.09361913423624,
           -8.09361913423624,
           -8.09361913423624,
           -8.09361913423624,
           -8.09361913423624
          ],
          [
           -7.803605013357841,
           -7.803605013357841,
           -7.803605013357841,
           -7.803605013357841,
           -7.803605013357841,
           -7.803605013357841,
           -7.803605013357841,
           -7.803605013357841,
           -7.803605013357841,
           -7.803605013357841,
           -7.803605013357841,
           -7.803605013357841,
           -7.803605013357841,
           -7.803605013357841,
           -7.803605013357841,
           -7.803605013357841,
           -7.803605013357841,
           -7.803605013357841,
           -7.803605013357841,
           -7.803605013357841,
           -7.803605013357841,
           -7.803605013357841,
           -7.803605013357841,
           -7.803605013357841,
           -7.803605013357841,
           -7.803605013357841,
           -7.803605013357841,
           -7.803605013357841,
           -7.803605013357841,
           -7.803605013357841
          ],
          [
           -7.513590892479442,
           -7.513590892479442,
           -7.513590892479442,
           -7.513590892479442,
           -7.513590892479442,
           -7.513590892479442,
           -7.513590892479442,
           -7.513590892479442,
           -7.513590892479442,
           -7.513590892479442,
           -7.513590892479442,
           -7.513590892479442,
           -7.513590892479442,
           -7.513590892479442,
           -7.513590892479442,
           -7.513590892479442,
           -7.513590892479442,
           -7.513590892479442,
           -7.513590892479442,
           -7.513590892479442,
           -7.513590892479442,
           -7.513590892479442,
           -7.513590892479442,
           -7.513590892479442,
           -7.513590892479442,
           -7.513590892479442,
           -7.513590892479442,
           -7.513590892479442,
           -7.513590892479442,
           -7.513590892479442
          ],
          [
           -7.223576771601043,
           -7.223576771601043,
           -7.223576771601043,
           -7.223576771601043,
           -7.223576771601043,
           -7.223576771601043,
           -7.223576771601043,
           -7.223576771601043,
           -7.223576771601043,
           -7.223576771601043,
           -7.223576771601043,
           -7.223576771601043,
           -7.223576771601043,
           -7.223576771601043,
           -7.223576771601043,
           -7.223576771601043,
           -7.223576771601043,
           -7.223576771601043,
           -7.223576771601043,
           -7.223576771601043,
           -7.223576771601043,
           -7.223576771601043,
           -7.223576771601043,
           -7.223576771601043,
           -7.223576771601043,
           -7.223576771601043,
           -7.223576771601043,
           -7.223576771601043,
           -7.223576771601043,
           -7.223576771601043
          ],
          [
           -6.933562650722644,
           -6.933562650722644,
           -6.933562650722644,
           -6.933562650722644,
           -6.933562650722644,
           -6.933562650722644,
           -6.933562650722644,
           -6.933562650722644,
           -6.933562650722644,
           -6.933562650722644,
           -6.933562650722644,
           -6.933562650722644,
           -6.933562650722644,
           -6.933562650722644,
           -6.933562650722644,
           -6.933562650722644,
           -6.933562650722644,
           -6.933562650722644,
           -6.933562650722644,
           -6.933562650722644,
           -6.933562650722644,
           -6.933562650722644,
           -6.933562650722644,
           -6.933562650722644,
           -6.933562650722644,
           -6.933562650722644,
           -6.933562650722644,
           -6.933562650722644,
           -6.933562650722644,
           -6.933562650722644
          ],
          [
           -6.643548529844245,
           -6.643548529844245,
           -6.643548529844245,
           -6.643548529844245,
           -6.643548529844245,
           -6.643548529844245,
           -6.643548529844245,
           -6.643548529844245,
           -6.643548529844245,
           -6.643548529844245,
           -6.643548529844245,
           -6.643548529844245,
           -6.643548529844245,
           -6.643548529844245,
           -6.643548529844245,
           -6.643548529844245,
           -6.643548529844245,
           -6.643548529844245,
           -6.643548529844245,
           -6.643548529844245,
           -6.643548529844245,
           -6.643548529844245,
           -6.643548529844245,
           -6.643548529844245,
           -6.643548529844245,
           -6.643548529844245,
           -6.643548529844245,
           -6.643548529844245,
           -6.643548529844245,
           -6.643548529844245
          ],
          [
           -6.353534408965846,
           -6.353534408965846,
           -6.353534408965846,
           -6.353534408965846,
           -6.353534408965846,
           -6.353534408965846,
           -6.353534408965846,
           -6.353534408965846,
           -6.353534408965846,
           -6.353534408965846,
           -6.353534408965846,
           -6.353534408965846,
           -6.353534408965846,
           -6.353534408965846,
           -6.353534408965846,
           -6.353534408965846,
           -6.353534408965846,
           -6.353534408965846,
           -6.353534408965846,
           -6.353534408965846,
           -6.353534408965846,
           -6.353534408965846,
           -6.353534408965846,
           -6.353534408965846,
           -6.353534408965846,
           -6.353534408965846,
           -6.353534408965846,
           -6.353534408965846,
           -6.353534408965846,
           -6.353534408965846
          ],
          [
           -6.063520288087448,
           -6.063520288087448,
           -6.063520288087448,
           -6.063520288087448,
           -6.063520288087448,
           -6.063520288087448,
           -6.063520288087448,
           -6.063520288087448,
           -6.063520288087448,
           -6.063520288087448,
           -6.063520288087448,
           -6.063520288087448,
           -6.063520288087448,
           -6.063520288087448,
           -6.063520288087448,
           -6.063520288087448,
           -6.063520288087448,
           -6.063520288087448,
           -6.063520288087448,
           -6.063520288087448,
           -6.063520288087448,
           -6.063520288087448,
           -6.063520288087448,
           -6.063520288087448,
           -6.063520288087448,
           -6.063520288087448,
           -6.063520288087448,
           -6.063520288087448,
           -6.063520288087448,
           -6.063520288087448
          ],
          [
           -5.773506167209048,
           -5.773506167209048,
           -5.773506167209048,
           -5.773506167209048,
           -5.773506167209048,
           -5.773506167209048,
           -5.773506167209048,
           -5.773506167209048,
           -5.773506167209048,
           -5.773506167209048,
           -5.773506167209048,
           -5.773506167209048,
           -5.773506167209048,
           -5.773506167209048,
           -5.773506167209048,
           -5.773506167209048,
           -5.773506167209048,
           -5.773506167209048,
           -5.773506167209048,
           -5.773506167209048,
           -5.773506167209048,
           -5.773506167209048,
           -5.773506167209048,
           -5.773506167209048,
           -5.773506167209048,
           -5.773506167209048,
           -5.773506167209048,
           -5.773506167209048,
           -5.773506167209048,
           -5.773506167209048
          ],
          [
           -5.48349204633065,
           -5.48349204633065,
           -5.48349204633065,
           -5.48349204633065,
           -5.48349204633065,
           -5.48349204633065,
           -5.48349204633065,
           -5.48349204633065,
           -5.48349204633065,
           -5.48349204633065,
           -5.48349204633065,
           -5.48349204633065,
           -5.48349204633065,
           -5.48349204633065,
           -5.48349204633065,
           -5.48349204633065,
           -5.48349204633065,
           -5.48349204633065,
           -5.48349204633065,
           -5.48349204633065,
           -5.48349204633065,
           -5.48349204633065,
           -5.48349204633065,
           -5.48349204633065,
           -5.48349204633065,
           -5.48349204633065,
           -5.48349204633065,
           -5.48349204633065,
           -5.48349204633065,
           -5.48349204633065
          ],
          [
           -5.1934779254522505,
           -5.1934779254522505,
           -5.1934779254522505,
           -5.1934779254522505,
           -5.1934779254522505,
           -5.1934779254522505,
           -5.1934779254522505,
           -5.1934779254522505,
           -5.1934779254522505,
           -5.1934779254522505,
           -5.1934779254522505,
           -5.1934779254522505,
           -5.1934779254522505,
           -5.1934779254522505,
           -5.1934779254522505,
           -5.1934779254522505,
           -5.1934779254522505,
           -5.1934779254522505,
           -5.1934779254522505,
           -5.1934779254522505,
           -5.1934779254522505,
           -5.1934779254522505,
           -5.1934779254522505,
           -5.1934779254522505,
           -5.1934779254522505,
           -5.1934779254522505,
           -5.1934779254522505,
           -5.1934779254522505,
           -5.1934779254522505,
           -5.1934779254522505
          ],
          [
           -4.9034638045738514,
           -4.9034638045738514,
           -4.9034638045738514,
           -4.9034638045738514,
           -4.9034638045738514,
           -4.9034638045738514,
           -4.9034638045738514,
           -4.9034638045738514,
           -4.9034638045738514,
           -4.9034638045738514,
           -4.9034638045738514,
           -4.9034638045738514,
           -4.9034638045738514,
           -4.9034638045738514,
           -4.9034638045738514,
           -4.9034638045738514,
           -4.9034638045738514,
           -4.9034638045738514,
           -4.9034638045738514,
           -4.9034638045738514,
           -4.9034638045738514,
           -4.9034638045738514,
           -4.9034638045738514,
           -4.9034638045738514,
           -4.9034638045738514,
           -4.9034638045738514,
           -4.9034638045738514,
           -4.9034638045738514,
           -4.9034638045738514,
           -4.9034638045738514
          ],
          [
           -4.613449683695452,
           -4.613449683695452,
           -4.613449683695452,
           -4.613449683695452,
           -4.613449683695452,
           -4.613449683695452,
           -4.613449683695452,
           -4.613449683695452,
           -4.613449683695452,
           -4.613449683695452,
           -4.613449683695452,
           -4.613449683695452,
           -4.613449683695452,
           -4.613449683695452,
           -4.613449683695452,
           -4.613449683695452,
           -4.613449683695452,
           -4.613449683695452,
           -4.613449683695452,
           -4.613449683695452,
           -4.613449683695452,
           -4.613449683695452,
           -4.613449683695452,
           -4.613449683695452,
           -4.613449683695452,
           -4.613449683695452,
           -4.613449683695452,
           -4.613449683695452,
           -4.613449683695452,
           -4.613449683695452
          ],
          [
           -4.323435562817053,
           -4.323435562817053,
           -4.323435562817053,
           -4.323435562817053,
           -4.323435562817053,
           -4.323435562817053,
           -4.323435562817053,
           -4.323435562817053,
           -4.323435562817053,
           -4.323435562817053,
           -4.323435562817053,
           -4.323435562817053,
           -4.323435562817053,
           -4.323435562817053,
           -4.323435562817053,
           -4.323435562817053,
           -4.323435562817053,
           -4.323435562817053,
           -4.323435562817053,
           -4.323435562817053,
           -4.323435562817053,
           -4.323435562817053,
           -4.323435562817053,
           -4.323435562817053,
           -4.323435562817053,
           -4.323435562817053,
           -4.323435562817053,
           -4.323435562817053,
           -4.323435562817053,
           -4.323435562817053
          ],
          [
           -4.033421441938654,
           -4.033421441938654,
           -4.033421441938654,
           -4.033421441938654,
           -4.033421441938654,
           -4.033421441938654,
           -4.033421441938654,
           -4.033421441938654,
           -4.033421441938654,
           -4.033421441938654,
           -4.033421441938654,
           -4.033421441938654,
           -4.033421441938654,
           -4.033421441938654,
           -4.033421441938654,
           -4.033421441938654,
           -4.033421441938654,
           -4.033421441938654,
           -4.033421441938654,
           -4.033421441938654,
           -4.033421441938654,
           -4.033421441938654,
           -4.033421441938654,
           -4.033421441938654,
           -4.033421441938654,
           -4.033421441938654,
           -4.033421441938654,
           -4.033421441938654,
           -4.033421441938654,
           -4.033421441938654
          ],
          [
           -3.743407321060255,
           -3.743407321060255,
           -3.743407321060255,
           -3.743407321060255,
           -3.743407321060255,
           -3.743407321060255,
           -3.743407321060255,
           -3.743407321060255,
           -3.743407321060255,
           -3.743407321060255,
           -3.743407321060255,
           -3.743407321060255,
           -3.743407321060255,
           -3.743407321060255,
           -3.743407321060255,
           -3.743407321060255,
           -3.743407321060255,
           -3.743407321060255,
           -3.743407321060255,
           -3.743407321060255,
           -3.743407321060255,
           -3.743407321060255,
           -3.743407321060255,
           -3.743407321060255,
           -3.743407321060255,
           -3.743407321060255,
           -3.743407321060255,
           -3.743407321060255,
           -3.743407321060255,
           -3.743407321060255
          ],
          [
           -3.453393200181857,
           -3.453393200181857,
           -3.453393200181857,
           -3.453393200181857,
           -3.453393200181857,
           -3.453393200181857,
           -3.453393200181857,
           -3.453393200181857,
           -3.453393200181857,
           -3.453393200181857,
           -3.453393200181857,
           -3.453393200181857,
           -3.453393200181857,
           -3.453393200181857,
           -3.453393200181857,
           -3.453393200181857,
           -3.453393200181857,
           -3.453393200181857,
           -3.453393200181857,
           -3.453393200181857,
           -3.453393200181857,
           -3.453393200181857,
           -3.453393200181857,
           -3.453393200181857,
           -3.453393200181857,
           -3.453393200181857,
           -3.453393200181857,
           -3.453393200181857,
           -3.453393200181857,
           -3.453393200181857
          ],
          [
           -3.163379079303458,
           -3.163379079303458,
           -3.163379079303458,
           -3.163379079303458,
           -3.163379079303458,
           -3.163379079303458,
           -3.163379079303458,
           -3.163379079303458,
           -3.163379079303458,
           -3.163379079303458,
           -3.163379079303458,
           -3.163379079303458,
           -3.163379079303458,
           -3.163379079303458,
           -3.163379079303458,
           -3.163379079303458,
           -3.163379079303458,
           -3.163379079303458,
           -3.163379079303458,
           -3.163379079303458,
           -3.163379079303458,
           -3.163379079303458,
           -3.163379079303458,
           -3.163379079303458,
           -3.163379079303458,
           -3.163379079303458,
           -3.163379079303458,
           -3.163379079303458,
           -3.163379079303458,
           -3.163379079303458
          ],
          [
           -2.873364958425059,
           -2.873364958425059,
           -2.873364958425059,
           -2.873364958425059,
           -2.873364958425059,
           -2.873364958425059,
           -2.873364958425059,
           -2.873364958425059,
           -2.873364958425059,
           -2.873364958425059,
           -2.873364958425059,
           -2.873364958425059,
           -2.873364958425059,
           -2.873364958425059,
           -2.873364958425059,
           -2.873364958425059,
           -2.873364958425059,
           -2.873364958425059,
           -2.873364958425059,
           -2.873364958425059,
           -2.873364958425059,
           -2.873364958425059,
           -2.873364958425059,
           -2.873364958425059,
           -2.873364958425059,
           -2.873364958425059,
           -2.873364958425059,
           -2.873364958425059,
           -2.873364958425059,
           -2.873364958425059
          ],
          [
           -2.58335083754666,
           -2.58335083754666,
           -2.58335083754666,
           -2.58335083754666,
           -2.58335083754666,
           -2.58335083754666,
           -2.58335083754666,
           -2.58335083754666,
           -2.58335083754666,
           -2.58335083754666,
           -2.58335083754666,
           -2.58335083754666,
           -2.58335083754666,
           -2.58335083754666,
           -2.58335083754666,
           -2.58335083754666,
           -2.58335083754666,
           -2.58335083754666,
           -2.58335083754666,
           -2.58335083754666,
           -2.58335083754666,
           -2.58335083754666,
           -2.58335083754666,
           -2.58335083754666,
           -2.58335083754666,
           -2.58335083754666,
           -2.58335083754666,
           -2.58335083754666,
           -2.58335083754666,
           -2.58335083754666
          ],
          [
           -2.2933367166682608,
           -2.2933367166682608,
           -2.2933367166682608,
           -2.2933367166682608,
           -2.2933367166682608,
           -2.2933367166682608,
           -2.2933367166682608,
           -2.2933367166682608,
           -2.2933367166682608,
           -2.2933367166682608,
           -2.2933367166682608,
           -2.2933367166682608,
           -2.2933367166682608,
           -2.2933367166682608,
           -2.2933367166682608,
           -2.2933367166682608,
           -2.2933367166682608,
           -2.2933367166682608,
           -2.2933367166682608,
           -2.2933367166682608,
           -2.2933367166682608,
           -2.2933367166682608,
           -2.2933367166682608,
           -2.2933367166682608,
           -2.2933367166682608,
           -2.2933367166682608,
           -2.2933367166682608,
           -2.2933367166682608,
           -2.2933367166682608,
           -2.2933367166682608
          ],
          [
           -2.0033225957898617,
           -2.0033225957898617,
           -2.0033225957898617,
           -2.0033225957898617,
           -2.0033225957898617,
           -2.0033225957898617,
           -2.0033225957898617,
           -2.0033225957898617,
           -2.0033225957898617,
           -2.0033225957898617,
           -2.0033225957898617,
           -2.0033225957898617,
           -2.0033225957898617,
           -2.0033225957898617,
           -2.0033225957898617,
           -2.0033225957898617,
           -2.0033225957898617,
           -2.0033225957898617,
           -2.0033225957898617,
           -2.0033225957898617,
           -2.0033225957898617,
           -2.0033225957898617,
           -2.0033225957898617,
           -2.0033225957898617,
           -2.0033225957898617,
           -2.0033225957898617,
           -2.0033225957898617,
           -2.0033225957898617,
           -2.0033225957898617,
           -2.0033225957898617
          ],
          [
           -1.7133084749114627,
           -1.7133084749114627,
           -1.7133084749114627,
           -1.7133084749114627,
           -1.7133084749114627,
           -1.7133084749114627,
           -1.7133084749114627,
           -1.7133084749114627,
           -1.7133084749114627,
           -1.7133084749114627,
           -1.7133084749114627,
           -1.7133084749114627,
           -1.7133084749114627,
           -1.7133084749114627,
           -1.7133084749114627,
           -1.7133084749114627,
           -1.7133084749114627,
           -1.7133084749114627,
           -1.7133084749114627,
           -1.7133084749114627,
           -1.7133084749114627,
           -1.7133084749114627,
           -1.7133084749114627,
           -1.7133084749114627,
           -1.7133084749114627,
           -1.7133084749114627,
           -1.7133084749114627,
           -1.7133084749114627,
           -1.7133084749114627,
           -1.7133084749114627
          ],
          [
           -1.4232943540330645,
           -1.4232943540330645,
           -1.4232943540330645,
           -1.4232943540330645,
           -1.4232943540330645,
           -1.4232943540330645,
           -1.4232943540330645,
           -1.4232943540330645,
           -1.4232943540330645,
           -1.4232943540330645,
           -1.4232943540330645,
           -1.4232943540330645,
           -1.4232943540330645,
           -1.4232943540330645,
           -1.4232943540330645,
           -1.4232943540330645,
           -1.4232943540330645,
           -1.4232943540330645,
           -1.4232943540330645,
           -1.4232943540330645,
           -1.4232943540330645,
           -1.4232943540330645,
           -1.4232943540330645,
           -1.4232943540330645,
           -1.4232943540330645,
           -1.4232943540330645,
           -1.4232943540330645,
           -1.4232943540330645,
           -1.4232943540330645,
           -1.4232943540330645
          ],
          [
           -1.1332802331546639,
           -1.1332802331546639,
           -1.1332802331546639,
           -1.1332802331546639,
           -1.1332802331546639,
           -1.1332802331546639,
           -1.1332802331546639,
           -1.1332802331546639,
           -1.1332802331546639,
           -1.1332802331546639,
           -1.1332802331546639,
           -1.1332802331546639,
           -1.1332802331546639,
           -1.1332802331546639,
           -1.1332802331546639,
           -1.1332802331546639,
           -1.1332802331546639,
           -1.1332802331546639,
           -1.1332802331546639,
           -1.1332802331546639,
           -1.1332802331546639,
           -1.1332802331546639,
           -1.1332802331546639,
           -1.1332802331546639,
           -1.1332802331546639,
           -1.1332802331546639,
           -1.1332802331546639,
           -1.1332802331546639,
           -1.1332802331546639,
           -1.1332802331546639
          ]
         ],
         "z": [
          [
           -3.479077035747611,
           -3.533158463462144,
           -3.5872398911766767,
           -3.6413213188912095,
           -3.6954027466057418,
           -3.749484174320275,
           -3.8035656020348076,
           -3.8576470297493404,
           -3.9117284574638735,
           -3.965809885178406,
           -4.0198913128929386,
           -4.073972740607472,
           -4.128054168322004,
           -4.182135596036536,
           -4.2362170237510695,
           -4.290298451465603,
           -4.344379879180135,
           -4.398461306894668,
           -4.4525427346092,
           -4.5066241623237335,
           -4.560705590038266,
           -4.614787017752799,
           -4.668868445467332,
           -4.722949873181864,
           -4.777031300896397,
           -4.83111272861093,
           -4.885194156325463,
           -4.939275584039995,
           -4.993357011754528,
           -5.047438439469061
          ],
          [
           -3.3252849906300748,
           -3.379366418344608,
           -3.4334478460591407,
           -3.487529273773674,
           -3.5416107014882057,
           -3.595692129202739,
           -3.6497735569172716,
           -3.7038549846318047,
           -3.7579364123463366,
           -3.8120178400608697,
           -3.8660992677754025,
           -3.9201806954899356,
           -3.9742621232044684,
           -4.028343550919001,
           -4.082424978633534,
           -4.136506406348066,
           -4.190587834062599,
           -4.244669261777132,
           -4.298750689491665,
           -4.352832117206197,
           -4.40691354492073,
           -4.460994972635263,
           -4.515076400349796,
           -4.569157828064328,
           -4.623239255778861,
           -4.677320683493394,
           -4.7314021112079265,
           -4.78548353892246,
           -4.839564966636992,
           -4.893646394351525
          ],
          [
           -3.1714929455125374,
           -3.2255743732270705,
           -3.2796558009416032,
           -3.3337372286561364,
           -3.3878186563706683,
           -3.4419000840852014,
           -3.495981511799734,
           -3.5500629395142673,
           -3.6041443672288,
           -3.6582257949433323,
           -3.712307222657865,
           -3.7663886503723982,
           -3.820470078086931,
           -3.8745515058014632,
           -3.928632933515996,
           -3.982714361230529,
           -4.036795788945062,
           -4.090877216659595,
           -4.144958644374127,
           -4.19904007208866,
           -4.253121499803193,
           -4.307202927517726,
           -4.361284355232258,
           -4.415365782946791,
           -4.469447210661324,
           -4.523528638375857,
           -4.577610066090389,
           -4.631691493804921,
           -4.685772921519455,
           -4.739854349233988
          ],
          [
           -3.0177009003950017,
           -3.0717823281095344,
           -3.125863755824067,
           -3.1799451835386003,
           -3.2340266112531326,
           -3.2881080389676653,
           -3.3421894666821985,
           -3.3962708943967312,
           -3.4503523221112635,
           -3.5044337498257963,
           -3.5585151775403294,
           -3.612596605254862,
           -3.666678032969395,
           -3.720759460683927,
           -3.7748408883984603,
           -3.828922316112993,
           -3.8830037438275258,
           -3.937085171542059,
           -3.9911665992565912,
           -4.045248026971124,
           -4.099329454685657,
           -4.153410882400189,
           -4.207492310114723,
           -4.261573737829255,
           -4.315655165543788,
           -4.36973659325832,
           -4.4238180209728535,
           -4.477899448687387,
           -4.531980876401919,
           -4.586062304116451
          ],
          [
           -2.8639088552774647,
           -2.917990282991998,
           -2.9720717107065306,
           -3.0261531384210634,
           -3.080234566135596,
           -3.134315993850129,
           -3.1883974215646615,
           -3.2424788492791947,
           -3.2965602769937266,
           -3.3506417047082597,
           -3.4047231324227925,
           -3.4588045601373256,
           -3.5128859878518583,
           -3.5669674155663906,
           -3.6210488432809234,
           -3.6751302709954565,
           -3.7292116987099893,
           -3.783293126424522,
           -3.8373745541390543,
           -3.8914559818535874,
           -3.94553740956812,
           -3.999618837282653,
           -4.053700264997186,
           -4.107781692711718,
           -4.1618631204262515,
           -4.215944548140784,
           -4.270025975855317,
           -4.32410740356985,
           -4.378188831284382,
           -4.432270258998915
          ],
          [
           -2.7101168101599282,
           -2.764198237874461,
           -2.818279665588994,
           -2.8723610933035264,
           -2.9264425210180596,
           -2.980523948732592,
           -3.034605376447125,
           -3.0886868041616578,
           -3.14276823187619,
           -3.1968496595907228,
           -3.250931087305256,
           -3.3050125150197887,
           -3.359093942734322,
           -3.4131753704488537,
           -3.467256798163387,
           -3.5213382258779196,
           -3.5754196535924527,
           -3.6295010813069855,
           -3.6835825090215177,
           -3.7376639367360505,
           -3.7917453644505836,
           -3.8458267921651164,
           -3.899908219879649,
           -3.9539896475941814,
           -4.008071075308714,
           -4.062152503023247,
           -4.11623393073778,
           -4.170315358452313,
           -4.224396786166845,
           -4.278478213881378
          ],
          [
           -2.556324765042392,
           -2.6104061927569253,
           -2.664487620471458,
           -2.7185690481859908,
           -2.7726504759005235,
           -2.826731903615056,
           -2.880813331329589,
           -2.9348947590441217,
           -2.9889761867586544,
           -3.043057614473187,
           -3.09713904218772,
           -3.1512204699022526,
           -3.2053018976167857,
           -3.259383325331318,
           -3.3134647530458508,
           -3.3675461807603835,
           -3.4216276084749166,
           -3.4757090361894494,
           -3.5297904639039817,
           -3.5838718916185144,
           -3.6379533193330476,
           -3.6920347470475803,
           -3.7461161747621134,
           -3.800197602476646,
           -3.8542790301911785,
           -3.908360457905711,
           -3.9624418856202444,
           -4.016523313334776,
           -4.070604741049309,
           -4.1246861687638425
          ],
          [
           -2.4025327199248556,
           -2.4566141476393883,
           -2.5106955753539215,
           -2.564777003068454,
           -2.618858430782987,
           -2.6729398584975192,
           -2.7270212862120524,
           -2.781102713926585,
           -2.835184141641118,
           -2.8892655693556506,
           -2.9433469970701833,
           -2.997428424784716,
           -3.0515098524992488,
           -3.1055912802137815,
           -3.1596727079283142,
           -3.213754135642847,
           -3.26783556335738,
           -3.321916991071913,
           -3.375998418786445,
           -3.430079846500978,
           -3.484161274215511,
           -3.5382427019300438,
           -3.5923241296445765,
           -3.6464055573591097,
           -3.700486985073642,
           -3.7545684127881747,
           -3.8086498405027074,
           -3.8627312682172397,
           -3.916812695931773,
           -3.9708941236463056
          ],
          [
           -2.248740674807319,
           -2.302822102521852,
           -2.3569035302363845,
           -2.4109849579509173,
           -2.46506638566545,
           -2.5191478133799827,
           -2.5732292410945155,
           -2.6273106688090486,
           -2.681392096523581,
           -2.735473524238114,
           -2.7895549519526464,
           -2.8436363796671795,
           -2.897717807381712,
           -2.951799235096245,
           -3.0058806628107773,
           -3.0599620905253104,
           -3.114043518239843,
           -3.1681249459543763,
           -3.222206373668908,
           -3.2762878013834413,
           -3.330369229097974,
           -3.3844506568125072,
           -3.43853208452704,
           -3.4926135122415727,
           -3.546694939956105,
           -3.600776367670638,
           -3.654857795385171,
           -3.708939223099703,
           -3.763020650814236,
           -3.817102078528769
          ],
          [
           -2.094948629689782,
           -2.1490300574043153,
           -2.203111485118848,
           -2.2571929128333807,
           -2.3112743405479135,
           -2.365355768262446,
           -2.419437195976979,
           -2.4735186236915117,
           -2.5276000514060444,
           -2.581681479120577,
           -2.63576290683511,
           -2.6898443345496426,
           -2.7439257622641753,
           -2.798007189978708,
           -2.8520886176932407,
           -2.9061700454077735,
           -2.9602514731223066,
           -3.014332900836839,
           -3.068414328551372,
           -3.122495756265905,
           -3.1765771839804375,
           -3.2306586116949703,
           -3.2847400394095034,
           -3.338821467124036,
           -3.3929028948385684,
           -3.446984322553101,
           -3.5010657502676343,
           -3.555147177982166,
           -3.6092286056966993,
           -3.663310033411232
          ],
          [
           -1.9411565845722456,
           -1.9952380122867786,
           -2.0493194400013115,
           -2.103400867715844,
           -2.157482295430377,
           -2.2115637231449092,
           -2.2656451508594424,
           -2.319726578573975,
           -2.373808006288508,
           -2.4278894340030406,
           -2.4819708617175733,
           -2.536052289432106,
           -2.5901337171466388,
           -2.6442151448611715,
           -2.698296572575704,
           -2.752378000290237,
           -2.80645942800477,
           -2.8605408557193024,
           -2.9146222834338356,
           -2.9687037111483683,
           -3.022785138862901,
           -3.0768665665774337,
           -3.1309479942919665,
           -3.1850294220064996,
           -3.239110849721032,
           -3.2931922774355646,
           -3.3472737051500974,
           -3.4013551328646296,
           -3.455436560579163,
           -3.5095179882936955
          ],
          [
           -1.7873645394547095,
           -1.8414459671692425,
           -1.8955273948837754,
           -1.949608822598308,
           -2.003690250312841,
           -2.0577716780273736,
           -2.1118531057419063,
           -2.165934533456439,
           -2.2200159611709718,
           -2.2740973888855045,
           -2.3281788166000372,
           -2.38226024431457,
           -2.4363416720291027,
           -2.4904230997436354,
           -2.544504527458168,
           -2.598585955172701,
           -2.652667382887234,
           -2.7067488106017663,
           -2.7608302383162995,
           -2.814911666030832,
           -2.868993093745365,
           -2.9230745214598977,
           -2.977155949174431,
           -3.031237376888963,
           -3.085318804603496,
           -3.1394002323180286,
           -3.1934816600325617,
           -3.2475630877470945,
           -3.3016445154616267,
           -3.3557259431761595
          ],
          [
           -1.633572494337173,
           -1.6876539220517057,
           -1.7417353497662387,
           -1.7958167774807712,
           -1.8498982051953041,
           -1.9039796329098366,
           -1.9580610606243696,
           -2.0121424883389025,
           -2.0662239160534353,
           -2.120305343767968,
           -2.1743867714825007,
           -2.2284681991970334,
           -2.282549626911566,
           -2.336631054626099,
           -2.3907124823406316,
           -2.4447939100551643,
           -2.498875337769697,
           -2.55295676548423,
           -2.6070381931987625,
           -2.6611196209132957,
           -2.715201048627828,
           -2.769282476342361,
           -2.823363904056894,
           -2.8774453317714266,
           -2.931526759485959,
           -2.985608187200492,
           -3.0396896149150248,
           -3.0937710426295575,
           -3.1478524703440898,
           -3.201933898058623
          ],
          [
           -1.4797804492196365,
           -1.5338618769341692,
           -1.5879433046487021,
           -1.6420247323632347,
           -1.6961061600777676,
           -1.7501875877923,
           -1.804269015506833,
           -1.8583504432213658,
           -1.9124318709358985,
           -1.9665132986504312,
           -2.0205947263649637,
           -2.074676154079497,
           -2.128757581794029,
           -2.1828390095085624,
           -2.2369204372230946,
           -2.291001864937628,
           -2.3450832926521605,
           -2.3991647203666933,
           -2.453246148081226,
           -2.5073275757957587,
           -2.5614090035102914,
           -2.615490431224824,
           -2.6695718589393573,
           -2.7236532866538896,
           -2.7777347143684223,
           -2.831816142082955,
           -2.8858975697974882,
           -2.9399789975120205,
           -2.9940604252265537,
           -3.0481418529410864
          ],
          [
           -1.3259884041021004,
           -1.3800698318166331,
           -1.4341512595311658,
           -1.4882326872456986,
           -1.5423141149602315,
           -1.596395542674764,
           -1.650476970389297,
           -1.70455839810383,
           -1.7586398258183624,
           -1.8127212535328954,
           -1.8668026812474279,
           -1.9208841089619608,
           -1.9749655366764933,
           -2.0290469643910263,
           -2.083128392105559,
           -2.1372098198200917,
           -2.1912912475346245,
           -2.245372675249157,
           -2.29945410296369,
           -2.353535530678223,
           -2.4076169583927554,
           -2.4616983861072885,
           -2.5157798138218213,
           -2.569861241536354,
           -2.6239426692508863,
           -2.6780240969654194,
           -2.732105524679952,
           -2.786186952394485,
           -2.8402683801090176,
           -2.894349807823551
          ],
          [
           -1.1721963589845636,
           -1.2262777866990964,
           -1.280359214413629,
           -1.334440642128162,
           -1.3885220698426948,
           -1.4426034975572275,
           -1.4966849252717602,
           -1.550766352986293,
           -1.6048477807008257,
           -1.6589292084153586,
           -1.7130106361298911,
           -1.767092063844424,
           -1.8211734915589566,
           -1.8752549192734895,
           -1.929336346988022,
           -1.983417774702555,
           -2.037499202417088,
           -2.0915806301316207,
           -2.1456620578461534,
           -2.199743485560686,
           -2.253824913275219,
           -2.3079063409897516,
           -2.3619877687042847,
           -2.416069196418817,
           -2.4701506241333497,
           -2.5242320518478825,
           -2.5783134795624156,
           -2.632394907276948,
           -2.686476334991481,
           -2.740557762706014
          ],
          [
           -1.0184043138670273,
           -1.07248574158156,
           -1.1265671692960928,
           -1.1806485970106255,
           -1.2347300247251585,
           -1.2888114524396912,
           -1.342892880154224,
           -1.3969743078687566,
           -1.4510557355832894,
           -1.5051371632978223,
           -1.5592185910123548,
           -1.6133000187268878,
           -1.6673814464414203,
           -1.7214628741559532,
           -1.7755443018704862,
           -1.8296257295850187,
           -1.8837071572995516,
           -1.9377885850140841,
           -1.991870012728617,
           -2.04595144044315,
           -2.1000328681576823,
           -2.1541142958722155,
           -2.2081957235867478,
           -2.262277151301281,
           -2.316358579015813,
           -2.3704400067303464,
           -2.4245214344448787,
           -2.478602862159412,
           -2.5326842898739446,
           -2.5867657175884777
          ],
          [
           -0.8646122687494907,
           -0.9186936964640234,
           -0.9727751241785562,
           -1.026856551893089,
           -1.080937979607622,
           -1.1350194073221547,
           -1.1891008350366874,
           -1.2431822627512201,
           -1.2972636904657529,
           -1.3513451181802856,
           -1.4054265458948183,
           -1.459507973609351,
           -1.5135894013238838,
           -1.5676708290384165,
           -1.6217522567529494,
           -1.675833684467482,
           -1.7299151121820149,
           -1.7839965398965474,
           -1.8380779676110803,
           -1.8921593953256133,
           -1.9462408230401458,
           -2.0003222507546785,
           -2.0544036784692112,
           -2.108485106183744,
           -2.1625665338982767,
           -2.2166479616128094,
           -2.270729389327342,
           -2.324810817041875,
           -2.378892244756408,
           -2.4329736724709408
          ],
          [
           -0.7108202236319541,
           -0.7649016513464868,
           -0.8189830790610195,
           -0.8730645067755523,
           -0.9271459344900852,
           -0.9812273622046179,
           -1.0353087899191507,
           -1.0893902176336834,
           -1.143471645348216,
           -1.197553073062749,
           -1.2516345007772816,
           -1.3057159284918145,
           -1.359797356206347,
           -1.41387878392088,
           -1.4679602116354127,
           -1.5220416393499454,
           -1.5761230670644781,
           -1.6302044947790109,
           -1.6842859224935436,
           -1.7383673502080765,
           -1.792448777922609,
           -1.846530205637142,
           -1.9006116333516747,
           -1.9546930610662074,
           -2.00877448878074,
           -2.062855916495273,
           -2.1169373442098056,
           -2.1710187719243383,
           -2.2251001996388715,
           -2.2791816273534042
          ],
          [
           -0.5570281785144178,
           -0.6111096062289505,
           -0.6651910339434832,
           -0.7192724616580161,
           -0.7733538893725488,
           -0.8274353170870815,
           -0.8815167448016142,
           -0.935598172516147,
           -0.9896796002306797,
           -1.0437610279452127,
           -1.0978424556597453,
           -1.1519238833742782,
           -1.2060053110888107,
           -1.2600867388033437,
           -1.3141681665178764,
           -1.368249594232409,
           -1.4223310219469418,
           -1.4764124496614746,
           -1.5304938773760073,
           -1.5845753050905402,
           -1.6386567328050727,
           -1.6927381605196057,
           -1.7468195882341386,
           -1.8009010159486711,
           -1.8549824436632036,
           -1.9090638713777366,
           -1.9631452990922695,
           -2.0172267268068023,
           -2.071308154521335,
           -2.1253895822358677
          ],
          [
           -0.4032361333968811,
           -0.4573175611114138,
           -0.5113989888259466,
           -0.5654804165404793,
           -0.619561844255012,
           -0.6736432719695449,
           -0.7277246996840775,
           -0.7818061273986103,
           -0.835887555113143,
           -0.889968982827676,
           -0.9440504105422085,
           -0.9981318382567415,
           -1.052213265971274,
           -1.106294693685807,
           -1.1603761214003396,
           -1.2144575491148724,
           -1.268538976829405,
           -1.322620404543938,
           -1.3767018322584708,
           -1.4307832599730035,
           -1.4848646876875362,
           -1.538946115402069,
           -1.5930275431166019,
           -1.6471089708311346,
           -1.7011903985456671,
           -1.7552718262602,
           -1.8093532539747328,
           -1.8634346816892655,
           -1.9175161094037982,
           -1.9715975371183312
          ],
          [
           -0.2494440882793451,
           -0.30352551599387784,
           -0.35760694370841056,
           -0.41168837142294334,
           -0.46576979913747607,
           -0.5198512268520089,
           -0.5739326545665415,
           -0.6280140822810744,
           -0.6820955099956071,
           -0.7361769377101399,
           -0.7902583654246725,
           -0.8443397931392055,
           -0.898421220853738,
           -0.9525026485682709,
           -1.0065840762828036,
           -1.0606655039973363,
           -1.114746931711869,
           -1.168828359426402,
           -1.2229097871409347,
           -1.2769912148554674,
           -1.3310726425700001,
           -1.385154070284533,
           -1.4392354979990658,
           -1.4933169257135985,
           -1.547398353428131,
           -1.601479781142664,
           -1.655561208857197,
           -1.7096426365717294,
           -1.7637240642862624,
           -1.8178054920007953
          ],
          [
           -0.09565204316180842,
           -0.14973347087634115,
           -0.20381489859087387,
           -0.2578963263054067,
           -0.31197775401993944,
           -0.3660591817344722,
           -0.4201406094490049,
           -0.47422203716353767,
           -0.5283034648780705,
           -0.5823848925926033,
           -0.636466320307136,
           -0.6905477480216687,
           -0.7446291757362015,
           -0.7987106034507342,
           -0.8527920311652669,
           -0.9068734588797996,
           -0.9609548865943324,
           -1.0150363143088652,
           -1.069117742023398,
           -1.1231991697379307,
           -1.1772805974524634,
           -1.2313620251669963,
           -1.285443452881529,
           -1.3395248805960618,
           -1.3936063083105945,
           -1.4476877360251272,
           -1.50176916373966,
           -1.5558505914541927,
           -1.6099320191687256,
           -1.6640134468832586
          ],
          [
           0.0581400019557279,
           0.004058574241195174,
           -0.050022853473337556,
           -0.10410428118787036,
           -0.1581857089024031,
           -0.21226713661693591,
           -0.26634856433146853,
           -0.32042999204600137,
           -0.3745114197605341,
           -0.42859284747506693,
           -0.48267427518959966,
           -0.5367557029041324,
           -0.590837130618665,
           -0.6449185583331979,
           -0.6989999860477306,
           -0.7530814137622633,
           -0.8071628414767961,
           -0.861244269191329,
           -0.9153256969058617,
           -0.9694071246203945,
           -1.023488552334927,
           -1.07756998004946,
           -1.1316514077639928,
           -1.1857328354785255,
           -1.239814263193058,
           -1.293895690907591,
           -1.3479771186221237,
           -1.4020585463366564,
           -1.4561399740511893,
           -1.5102214017657223
          ],
          [
           0.2119320470732645,
           0.15785061935873176,
           0.10376919164419904,
           0.04968776392966622,
           -0.004393663784866508,
           -0.05847509149939932,
           -0.11255651921393196,
           -0.1666379469284648,
           -0.2207193746429975,
           -0.2748008023575303,
           -0.328882230072063,
           -0.3829636577865958,
           -0.4370450855011285,
           -0.49112651321566125,
           -0.5452079409301941,
           -0.5992893686447268,
           -0.6533707963592595,
           -0.7074522240737923,
           -0.7615336517883251,
           -0.8156150795028579,
           -0.8696965072173907,
           -0.9237779349319234,
           -0.9778593626464563,
           -1.031940790360989,
           -1.0860222180755217,
           -1.1401036457900544,
           -1.1941850735045871,
           -1.2482665012191199,
           -1.3023479289336526,
           -1.3564293566481855
          ],
          [
           0.365724092190801,
           0.31164266447626826,
           0.25756123676173553,
           0.20347980904720273,
           0.14939838133267,
           0.09531695361813718,
           0.04123552590360454,
           -0.012845901810928276,
           -0.066927329525461,
           -0.12100875723999381,
           -0.17509018495452655,
           -0.2291716126690593,
           -0.283253040383592,
           -0.3373344680981248,
           -0.39141589581265757,
           -0.4454973235271903,
           -0.4995787512417231,
           -0.5536601789562559,
           -0.6077416066707886,
           -0.6618230343853213,
           -0.7159044620998541,
           -0.7699858898143869,
           -0.8240673175289196,
           -0.8781487452434525,
           -0.932230172957985,
           -0.9863116006725178,
           -1.0403930283870506,
           -1.0944744561015833,
           -1.148555883816116,
           -1.202637311530649
          ],
          [
           0.5195161373083375,
           0.4654347095938048,
           0.41135328187927206,
           0.3572718541647392,
           0.3031904264502065,
           0.2491089987356737,
           0.19502757102114104,
           0.14094614330660823,
           0.0868647155920755,
           0.032783287877542686,
           -0.021298139836990044,
           -0.07537956755152282,
           -0.1294609952660555,
           -0.18354242298058826,
           -0.23762385069512104,
           -0.29170527840965377,
           -0.3457867061241866,
           -0.39986813383871933,
           -0.4539495615532521,
           -0.5080309892677849,
           -0.5621124169823176,
           -0.6161938446968503,
           -0.6702752724113832,
           -0.7243567001259159,
           -0.7784381278404485,
           -0.8325195555549812,
           -0.8866009832695142,
           -0.9406824109840467,
           -0.9947638386985796,
           -1.0488452664131125
          ],
          [
           0.673308182425874,
           0.6192267547113413,
           0.5651453269968085,
           0.5110638992822757,
           0.456982471567743,
           0.4029010438532102,
           0.3488196161386775,
           0.29473818842414473,
           0.240656760709612,
           0.1865753329950792,
           0.13249390528054644,
           0.07841247756601369,
           0.024331049851481,
           -0.02975037786305177,
           -0.08383180557758454,
           -0.1379132332921173,
           -0.19199466100665008,
           -0.24607608872118286,
           -0.30015751643571564,
           -0.35423894415024837,
           -0.40832037186478115,
           -0.4624017995793139,
           -0.5164832272938467,
           -0.5705646550083794,
           -0.6246460827229121,
           -0.6787275104374448,
           -0.7328089381519776,
           -0.7868903658665104,
           -0.8409717935810431,
           -0.8950532212955761
          ],
          [
           0.8271002275434101,
           0.7730187998288773,
           0.7189373721143446,
           0.6648559443998118,
           0.610774516685279,
           0.5566930889707462,
           0.5026116612562136,
           0.4485302335416808,
           0.3944488058271481,
           0.34036737811261525,
           0.2862859503980825,
           0.23220452268354974,
           0.17812309496901707,
           0.1240416672544843,
           0.06996023953995152,
           0.015878811825418778,
           -0.03820261588911401,
           -0.09228404360364678,
           -0.14636547131817956,
           -0.2004468990327123,
           -0.2545283267472451,
           -0.30860975446177785,
           -0.36269118217631063,
           -0.41677260989084336,
           -0.4708540376053759,
           -0.5249354653199088,
           -0.5790168930344416,
           -0.6330983207489743,
           -0.687179748463507,
           -0.74126117617804
          ],
          [
           0.9808922726609475,
           0.9268108449464147,
           0.872729417231882,
           0.8186479895173491,
           0.7645665618028165,
           0.7104851340882836,
           0.656403706373751,
           0.6023222786592182,
           0.5482408509446854,
           0.4941594232301526,
           0.4400779955156199,
           0.3859965678010871,
           0.3319151400865544,
           0.27783371237202165,
           0.2237522846574889,
           0.16967085694295614,
           0.11558942922842336,
           0.061508001513890596,
           0.0074265737993578235,
           -0.04665485391517494,
           -0.10073628162970771,
           -0.1548177093442405,
           -0.20889913705877328,
           -0.262980564773306,
           -0.3170619924878386,
           -0.37114342020237134,
           -0.4252248479169042,
           -0.4793062756314369,
           -0.5333877033459697,
           -0.5874691310605026
          ]
         ]
        },
        {
         "line": {
          "width": 6
         },
         "marker": {
          "size": 1
         },
         "showlegend": false,
         "type": "scatter3d",
         "x": [
          -2.1339951601259597,
          -0.10662186538103753
         ],
         "y": [
          -1.9049146279088631,
          0.2726893843526063
         ],
         "z": [
          -1.2486254908114804,
          -0.5142253750215281
         ]
        },
        {
         "line": {
          "width": 6
         },
         "marker": {
          "size": 1
         },
         "showlegend": false,
         "type": "scatter3d",
         "x": [
          -2.632141027502986,
          -0.5206126659887712
         ],
         "y": [
          -0.4598978823168711,
          1.33148624690912
         ],
         "z": [
          -3.0229987371752776,
          -2.510856872108762
         ]
        },
        {
         "line": {
          "width": 6
         },
         "marker": {
          "size": 1
         },
         "showlegend": false,
         "type": "scatter3d",
         "x": [
          -2.6111194173885,
          -0.32854275457372994
         ],
         "y": [
          -3.6182375500848063,
          0.8402603083152704
         ],
         "z": [
          -3.4755489549556478,
          -1.5845250932115904
         ]
        }
       ],
       "layout": {
        "autosize": true,
        "height": 800,
        "margin": {
         "b": 10,
         "l": 10,
         "pad": 4,
         "r": 10,
         "t": 10
        },
        "paper_bgcolor": "White",
        "scene": {
         "aspectmode": "data",
         "aspectratio": {
          "x": 0.6950458991467177,
          "y": 1.310524890844732,
          "z": 1.097845537172727
         },
         "camera": {
          "eye": {
           "x": 1,
           "y": 1,
           "z": 1
          }
         }
        },
        "template": {
         "data": {
          "bar": [
           {
            "error_x": {
             "color": "#2a3f5f"
            },
            "error_y": {
             "color": "#2a3f5f"
            },
            "marker": {
             "line": {
              "color": "#E5ECF6",
              "width": 0.5
             }
            },
            "type": "bar"
           }
          ],
          "barpolar": [
           {
            "marker": {
             "line": {
              "color": "#E5ECF6",
              "width": 0.5
             }
            },
            "type": "barpolar"
           }
          ],
          "carpet": [
           {
            "aaxis": {
             "endlinecolor": "#2a3f5f",
             "gridcolor": "white",
             "linecolor": "white",
             "minorgridcolor": "white",
             "startlinecolor": "#2a3f5f"
            },
            "baxis": {
             "endlinecolor": "#2a3f5f",
             "gridcolor": "white",
             "linecolor": "white",
             "minorgridcolor": "white",
             "startlinecolor": "#2a3f5f"
            },
            "type": "carpet"
           }
          ],
          "choropleth": [
           {
            "colorbar": {
             "outlinewidth": 0,
             "ticks": ""
            },
            "type": "choropleth"
           }
          ],
          "contour": [
           {
            "colorbar": {
             "outlinewidth": 0,
             "ticks": ""
            },
            "colorscale": [
             [
              0,
              "#0d0887"
             ],
             [
              0.1111111111111111,
              "#46039f"
             ],
             [
              0.2222222222222222,
              "#7201a8"
             ],
             [
              0.3333333333333333,
              "#9c179e"
             ],
             [
              0.4444444444444444,
              "#bd3786"
             ],
             [
              0.5555555555555556,
              "#d8576b"
             ],
             [
              0.6666666666666666,
              "#ed7953"
             ],
             [
              0.7777777777777778,
              "#fb9f3a"
             ],
             [
              0.8888888888888888,
              "#fdca26"
             ],
             [
              1,
              "#f0f921"
             ]
            ],
            "type": "contour"
           }
          ],
          "contourcarpet": [
           {
            "colorbar": {
             "outlinewidth": 0,
             "ticks": ""
            },
            "type": "contourcarpet"
           }
          ],
          "heatmap": [
           {
            "colorbar": {
             "outlinewidth": 0,
             "ticks": ""
            },
            "colorscale": [
             [
              0,
              "#0d0887"
             ],
             [
              0.1111111111111111,
              "#46039f"
             ],
             [
              0.2222222222222222,
              "#7201a8"
             ],
             [
              0.3333333333333333,
              "#9c179e"
             ],
             [
              0.4444444444444444,
              "#bd3786"
             ],
             [
              0.5555555555555556,
              "#d8576b"
             ],
             [
              0.6666666666666666,
              "#ed7953"
             ],
             [
              0.7777777777777778,
              "#fb9f3a"
             ],
             [
              0.8888888888888888,
              "#fdca26"
             ],
             [
              1,
              "#f0f921"
             ]
            ],
            "type": "heatmap"
           }
          ],
          "heatmapgl": [
           {
            "colorbar": {
             "outlinewidth": 0,
             "ticks": ""
            },
            "colorscale": [
             [
              0,
              "#0d0887"
             ],
             [
              0.1111111111111111,
              "#46039f"
             ],
             [
              0.2222222222222222,
              "#7201a8"
             ],
             [
              0.3333333333333333,
              "#9c179e"
             ],
             [
              0.4444444444444444,
              "#bd3786"
             ],
             [
              0.5555555555555556,
              "#d8576b"
             ],
             [
              0.6666666666666666,
              "#ed7953"
             ],
             [
              0.7777777777777778,
              "#fb9f3a"
             ],
             [
              0.8888888888888888,
              "#fdca26"
             ],
             [
              1,
              "#f0f921"
             ]
            ],
            "type": "heatmapgl"
           }
          ],
          "histogram": [
           {
            "marker": {
             "colorbar": {
              "outlinewidth": 0,
              "ticks": ""
             }
            },
            "type": "histogram"
           }
          ],
          "histogram2d": [
           {
            "colorbar": {
             "outlinewidth": 0,
             "ticks": ""
            },
            "colorscale": [
             [
              0,
              "#0d0887"
             ],
             [
              0.1111111111111111,
              "#46039f"
             ],
             [
              0.2222222222222222,
              "#7201a8"
             ],
             [
              0.3333333333333333,
              "#9c179e"
             ],
             [
              0.4444444444444444,
              "#bd3786"
             ],
             [
              0.5555555555555556,
              "#d8576b"
             ],
             [
              0.6666666666666666,
              "#ed7953"
             ],
             [
              0.7777777777777778,
              "#fb9f3a"
             ],
             [
              0.8888888888888888,
              "#fdca26"
             ],
             [
              1,
              "#f0f921"
             ]
            ],
            "type": "histogram2d"
           }
          ],
          "histogram2dcontour": [
           {
            "colorbar": {
             "outlinewidth": 0,
             "ticks": ""
            },
            "colorscale": [
             [
              0,
              "#0d0887"
             ],
             [
              0.1111111111111111,
              "#46039f"
             ],
             [
              0.2222222222222222,
              "#7201a8"
             ],
             [
              0.3333333333333333,
              "#9c179e"
             ],
             [
              0.4444444444444444,
              "#bd3786"
             ],
             [
              0.5555555555555556,
              "#d8576b"
             ],
             [
              0.6666666666666666,
              "#ed7953"
             ],
             [
              0.7777777777777778,
              "#fb9f3a"
             ],
             [
              0.8888888888888888,
              "#fdca26"
             ],
             [
              1,
              "#f0f921"
             ]
            ],
            "type": "histogram2dcontour"
           }
          ],
          "mesh3d": [
           {
            "colorbar": {
             "outlinewidth": 0,
             "ticks": ""
            },
            "type": "mesh3d"
           }
          ],
          "parcoords": [
           {
            "line": {
             "colorbar": {
              "outlinewidth": 0,
              "ticks": ""
             }
            },
            "type": "parcoords"
           }
          ],
          "pie": [
           {
            "automargin": true,
            "type": "pie"
           }
          ],
          "scatter": [
           {
            "marker": {
             "colorbar": {
              "outlinewidth": 0,
              "ticks": ""
             }
            },
            "type": "scatter"
           }
          ],
          "scatter3d": [
           {
            "line": {
             "colorbar": {
              "outlinewidth": 0,
              "ticks": ""
             }
            },
            "marker": {
             "colorbar": {
              "outlinewidth": 0,
              "ticks": ""
             }
            },
            "type": "scatter3d"
           }
          ],
          "scattercarpet": [
           {
            "marker": {
             "colorbar": {
              "outlinewidth": 0,
              "ticks": ""
             }
            },
            "type": "scattercarpet"
           }
          ],
          "scattergeo": [
           {
            "marker": {
             "colorbar": {
              "outlinewidth": 0,
              "ticks": ""
             }
            },
            "type": "scattergeo"
           }
          ],
          "scattergl": [
           {
            "marker": {
             "colorbar": {
              "outlinewidth": 0,
              "ticks": ""
             }
            },
            "type": "scattergl"
           }
          ],
          "scattermapbox": [
           {
            "marker": {
             "colorbar": {
              "outlinewidth": 0,
              "ticks": ""
             }
            },
            "type": "scattermapbox"
           }
          ],
          "scatterpolar": [
           {
            "marker": {
             "colorbar": {
              "outlinewidth": 0,
              "ticks": ""
             }
            },
            "type": "scatterpolar"
           }
          ],
          "scatterpolargl": [
           {
            "marker": {
             "colorbar": {
              "outlinewidth": 0,
              "ticks": ""
             }
            },
            "type": "scatterpolargl"
           }
          ],
          "scatterternary": [
           {
            "marker": {
             "colorbar": {
              "outlinewidth": 0,
              "ticks": ""
             }
            },
            "type": "scatterternary"
           }
          ],
          "surface": [
           {
            "colorbar": {
             "outlinewidth": 0,
             "ticks": ""
            },
            "colorscale": [
             [
              0,
              "#0d0887"
             ],
             [
              0.1111111111111111,
              "#46039f"
             ],
             [
              0.2222222222222222,
              "#7201a8"
             ],
             [
              0.3333333333333333,
              "#9c179e"
             ],
             [
              0.4444444444444444,
              "#bd3786"
             ],
             [
              0.5555555555555556,
              "#d8576b"
             ],
             [
              0.6666666666666666,
              "#ed7953"
             ],
             [
              0.7777777777777778,
              "#fb9f3a"
             ],
             [
              0.8888888888888888,
              "#fdca26"
             ],
             [
              1,
              "#f0f921"
             ]
            ],
            "type": "surface"
           }
          ],
          "table": [
           {
            "cells": {
             "fill": {
              "color": "#EBF0F8"
             },
             "line": {
              "color": "white"
             }
            },
            "header": {
             "fill": {
              "color": "#C8D4E3"
             },
             "line": {
              "color": "white"
             }
            },
            "type": "table"
           }
          ]
         },
         "layout": {
          "annotationdefaults": {
           "arrowcolor": "#2a3f5f",
           "arrowhead": 0,
           "arrowwidth": 1
          },
          "autotypenumbers": "strict",
          "coloraxis": {
           "colorbar": {
            "outlinewidth": 0,
            "ticks": ""
           }
          },
          "colorscale": {
           "diverging": [
            [
             0,
             "#8e0152"
            ],
            [
             0.1,
             "#c51b7d"
            ],
            [
             0.2,
             "#de77ae"
            ],
            [
             0.3,
             "#f1b6da"
            ],
            [
             0.4,
             "#fde0ef"
            ],
            [
             0.5,
             "#f7f7f7"
            ],
            [
             0.6,
             "#e6f5d0"
            ],
            [
             0.7,
             "#b8e186"
            ],
            [
             0.8,
             "#7fbc41"
            ],
            [
             0.9,
             "#4d9221"
            ],
            [
             1,
             "#276419"
            ]
           ],
           "sequential": [
            [
             0,
             "#0d0887"
            ],
            [
             0.1111111111111111,
             "#46039f"
            ],
            [
             0.2222222222222222,
             "#7201a8"
            ],
            [
             0.3333333333333333,
             "#9c179e"
            ],
            [
             0.4444444444444444,
             "#bd3786"
            ],
            [
             0.5555555555555556,
             "#d8576b"
            ],
            [
             0.6666666666666666,
             "#ed7953"
            ],
            [
             0.7777777777777778,
             "#fb9f3a"
            ],
            [
             0.8888888888888888,
             "#fdca26"
            ],
            [
             1,
             "#f0f921"
            ]
           ],
           "sequentialminus": [
            [
             0,
             "#0d0887"
            ],
            [
             0.1111111111111111,
             "#46039f"
            ],
            [
             0.2222222222222222,
             "#7201a8"
            ],
            [
             0.3333333333333333,
             "#9c179e"
            ],
            [
             0.4444444444444444,
             "#bd3786"
            ],
            [
             0.5555555555555556,
             "#d8576b"
            ],
            [
             0.6666666666666666,
             "#ed7953"
            ],
            [
             0.7777777777777778,
             "#fb9f3a"
            ],
            [
             0.8888888888888888,
             "#fdca26"
            ],
            [
             1,
             "#f0f921"
            ]
           ]
          },
          "colorway": [
           "#636efa",
           "#EF553B",
           "#00cc96",
           "#ab63fa",
           "#FFA15A",
           "#19d3f3",
           "#FF6692",
           "#B6E880",
           "#FF97FF",
           "#FECB52"
          ],
          "font": {
           "color": "#2a3f5f"
          },
          "geo": {
           "bgcolor": "white",
           "lakecolor": "white",
           "landcolor": "#E5ECF6",
           "showlakes": true,
           "showland": true,
           "subunitcolor": "white"
          },
          "hoverlabel": {
           "align": "left"
          },
          "hovermode": "closest",
          "mapbox": {
           "style": "light"
          },
          "paper_bgcolor": "white",
          "plot_bgcolor": "#E5ECF6",
          "polar": {
           "angularaxis": {
            "gridcolor": "white",
            "linecolor": "white",
            "ticks": ""
           },
           "bgcolor": "#E5ECF6",
           "radialaxis": {
            "gridcolor": "white",
            "linecolor": "white",
            "ticks": ""
           }
          },
          "scene": {
           "xaxis": {
            "backgroundcolor": "#E5ECF6",
            "gridcolor": "white",
            "gridwidth": 2,
            "linecolor": "white",
            "showbackground": true,
            "ticks": "",
            "zerolinecolor": "white"
           },
           "yaxis": {
            "backgroundcolor": "#E5ECF6",
            "gridcolor": "white",
            "gridwidth": 2,
            "linecolor": "white",
            "showbackground": true,
            "ticks": "",
            "zerolinecolor": "white"
           },
           "zaxis": {
            "backgroundcolor": "#E5ECF6",
            "gridcolor": "white",
            "gridwidth": 2,
            "linecolor": "white",
            "showbackground": true,
            "ticks": "",
            "zerolinecolor": "white"
           }
          },
          "shapedefaults": {
           "line": {
            "color": "#2a3f5f"
           }
          },
          "ternary": {
           "aaxis": {
            "gridcolor": "white",
            "linecolor": "white",
            "ticks": ""
           },
           "baxis": {
            "gridcolor": "white",
            "linecolor": "white",
            "ticks": ""
           },
           "bgcolor": "#E5ECF6",
           "caxis": {
            "gridcolor": "white",
            "linecolor": "white",
            "ticks": ""
           }
          },
          "title": {
           "x": 0.05
          },
          "xaxis": {
           "automargin": true,
           "gridcolor": "white",
           "linecolor": "white",
           "ticks": "",
           "title": {
            "standoff": 15
           },
           "zerolinecolor": "white",
           "zerolinewidth": 2
          },
          "yaxis": {
           "automargin": true,
           "gridcolor": "white",
           "linecolor": "white",
           "ticks": "",
           "title": {
            "standoff": 15
           },
           "zerolinecolor": "white",
           "zerolinewidth": 2
          }
         }
        },
        "width": 1000
       }
      },
      "image/png": "[encoded data removed]",
      "text/html": [
       "<div>                            <div id=\"4b7da112-84a5-4af8-9cf8-943bd07fae39\" class=\"plotly-graph-div\" style=\"height:800px; width:1000px;\"></div>            <script type=\"text/javascript\">                require([\"plotly\"], function(Plotly) {                    window.PLOTLYENV=window.PLOTLYENV || {};                                    if (document.getElementById(\"4b7da112-84a5-4af8-9cf8-943bd07fae39\")) {                    Plotly.newPlot(                        \"4b7da112-84a5-4af8-9cf8-943bd07fae39\",                        [{\"marker\": {\"color\": \"black\", \"line\": {\"width\": 0}, \"size\": 3}, \"mode\": \"markers\", \"name\": \"origin\", \"type\": \"scatter3d\", \"x\": [0], \"y\": [0], \"z\": [0]}, {\"marker\": {\"color\": \"yellow\", \"line\": {\"width\": 0}, \"size\": 2}, \"mode\": \"markers\", \"name\": \"plane_offset\", \"type\": \"scatter3d\", \"x\": [0.10456848375651655], \"y\": [-0.26743778451395667], \"z\": [0.5043221442708925]}, {\"line\": {\"width\": 6}, \"marker\": {\"size\": 1}, \"name\": \"plane_normal\", \"type\": \"scatter3d\", \"x\": [1.254196673941884, -0.8294035866246385], \"y\": [-3.207654618047265, 2.121230505658927], \"z\": [6.048850793443533, -4.000121071339907]}, {\"marker\": {\"color\": \"blue\", \"line\": {\"width\": 0}, \"size\": 2}, \"mode\": \"markers\", \"name\": \"4.520114883720968\", \"showlegend\": false, \"type\": \"scatter3d\", \"x\": [0.042014020706258925], \"y\": [-1.2900146220721205], \"z\": [-3.847531434638628]}, {\"marker\": {\"color\": \"blue\", \"line\": {\"width\": 0}, \"size\": 3}, \"mode\": \"markers\", \"name\": \"d=1.5948885801819395\", \"type\": \"scatter3d\", \"x\": [-2.1339951601259597], \"y\": [-1.9049146279088631], \"z\": [-1.2486254908114804]}, {\"line\": {\"width\": 6}, \"marker\": {\"size\": 1}, \"name\": \"^ len_d\", \"type\": \"scatter3d\", \"x\": [-2.1339951601259597, -1.9228048109884055], \"y\": [-1.9049146279088631, -2.4450417967754263], \"z\": [-1.2486254908114804, -0.2300779715190595]}, {\"line\": {\"width\": 6}, \"marker\": {\"size\": 1}, \"name\": \"^ proj\", \"type\": \"scatter3d\", \"x\": [-2.1339951601259597, -0.10662186538103753], \"y\": [-1.9049146279088631, 0.2726893843526063], \"z\": [-1.2486254908114804, -0.5142253750215281]}, {\"marker\": {\"color\": \"blue\", \"line\": {\"width\": 0}, \"size\": 2}, \"mode\": \"markers\", \"name\": \"3.7301484911727187\", \"showlegend\": false, \"type\": \"scatter3d\", \"x\": [-2.6435542503000073], \"y\": [-2.2908149558331123], \"z\": [-3.153352381649631]}, {\"marker\": {\"color\": \"red\", \"line\": {\"width\": 0}, \"size\": 2}, \"mode\": \"markers\", \"name\": \"-5.746006988493775\", \"showlegend\": false, \"type\": \"scatter3d\", \"x\": [-1.8403364633977217], \"y\": [-10.383721431512676], \"z\": [0.40227728210473745]}, {\"marker\": {\"color\": \"red\", \"line\": {\"width\": 0}, \"size\": 2}, \"mode\": \"markers\", \"name\": \"-5.607492308123175\", \"showlegend\": false, \"type\": \"scatter3d\", \"x\": [-1.6157792956837722], \"y\": [-8.870134583868456], \"z\": [1.0412201494423712]}, {\"marker\": {\"color\": \"blue\", \"line\": {\"width\": 0}, \"size\": 2}, \"mode\": \"markers\", \"name\": \"2.466238743675937\", \"showlegend\": false, \"type\": \"scatter3d\", \"x\": [-1.608169583290394], \"y\": [-2.1863995411328263], \"z\": [-2.243803012204535]}, {\"marker\": {\"color\": \"blue\", \"line\": {\"width\": 0}, \"size\": 2}, \"mode\": \"markers\", \"name\": \"3.8377485681363708\", \"showlegend\": false, \"type\": \"scatter3d\", \"x\": [-1.7225654661443077], \"y\": [-0.8964459786387888], \"z\": [-2.695887307645588]}, {\"marker\": {\"color\": \"red\", \"line\": {\"width\": 0}, \"size\": 2}, \"mode\": \"markers\", \"name\": \"-3.8077704693270342\", \"showlegend\": false, \"type\": \"scatter3d\", \"x\": [-0.771705714476493], \"y\": [-9.265359357178491], \"z\": [-0.8653628285493147]}, {\"marker\": {\"color\": \"blue\", \"line\": {\"width\": 0}, \"size\": 2}, \"mode\": \"markers\", \"name\": \"3.6738384889315974\", \"showlegend\": false, \"type\": \"scatter3d\", \"x\": [-0.67133173316653], \"y\": [-0.6318620134069913], \"z\": [-2.6349332327557478]}, {\"marker\": {\"color\": \"blue\", \"line\": {\"width\": 0}, \"size\": 2}, \"mode\": \"markers\", \"name\": \"3.4461085535950455\", \"showlegend\": false, \"type\": \"scatter3d\", \"x\": [-1.59821873248412], \"y\": [-1.752368088371606], \"z\": [-2.8443570200998987]}, {\"marker\": {\"color\": \"red\", \"line\": {\"width\": 0}, \"size\": 2}, \"mode\": \"markers\", \"name\": \"-7.271666188253219\", \"showlegend\": false, \"type\": \"scatter3d\", \"x\": [-1.876261656966392], \"y\": [-9.500605859963326], \"z\": [2.1682507770744737]}, {\"marker\": {\"color\": \"red\", \"line\": {\"width\": 0}, \"size\": 2}, \"mode\": \"markers\", \"name\": \"-6.020527403032154\", \"showlegend\": false, \"type\": \"scatter3d\", \"x\": [1.3051929109046245], \"y\": [-7.646142640577349], \"z\": [1.4339394299892925]}, {\"marker\": {\"color\": \"blue\", \"line\": {\"width\": 0}, \"size\": 2}, \"mode\": \"markers\", \"name\": \"3.40328499127193\", \"showlegend\": false, \"type\": \"scatter3d\", \"x\": [-0.5586674798935111], \"y\": [-2.6540097021810576], \"z\": [-3.501820403841502]}, {\"marker\": {\"color\": \"blue\", \"line\": {\"width\": 0}, \"size\": 2}, \"mode\": \"markers\", \"name\": \"3.4984063132244936\", \"showlegend\": false, \"type\": \"scatter3d\", \"x\": [-0.5370500045819107], \"y\": [-1.3512043294085272], \"z\": [-2.8958779309977802]}, {\"marker\": {\"color\": \"blue\", \"line\": {\"width\": 0}, \"size\": 2}, \"mode\": \"markers\", \"name\": \"5.3995250260365015\", \"showlegend\": false, \"type\": \"scatter3d\", \"x\": [-2.4278706306650815], \"y\": [-2.3000648458140063], \"z\": [-4.614732745018286]}, {\"marker\": {\"color\": \"red\", \"line\": {\"width\": 0}, \"size\": 2}, \"mode\": \"markers\", \"name\": \"-8.158249044266393\", \"showlegend\": false, \"type\": \"scatter3d\", \"x\": [-2.189109572086774], \"y\": [-8.930021318895749], \"z\": [3.2854575703891404]}, {\"marker\": {\"color\": \"red\", \"line\": {\"width\": 0}, \"size\": 2}, \"mode\": \"markers\", \"name\": \"-7.365037799061335\", \"showlegend\": false, \"type\": \"scatter3d\", \"x\": [-1.2385625641615214], \"y\": [-10.599400808555691], \"z\": [1.5323078781549717]}, {\"marker\": {\"color\": \"red\", \"line\": {\"width\": 0}, \"size\": 3}, \"mode\": \"markers\", \"name\": \"d=-1.672173658650501\", \"type\": \"scatter3d\", \"x\": [-1.5491589173759384], \"y\": [-7.250108574555569], \"z\": [-1.4415180189468613]}, {\"line\": {\"width\": 6}, \"marker\": {\"size\": 1}, \"name\": \"^ len_d\", \"type\": \"scatter3d\", \"x\": [-1.5491589173759384, -1.7705831241683243], \"y\": [-7.250108574555569, -6.68380793429573], \"z\": [-1.4415180189468613, -2.5094222932694628]}, {\"line\": {\"width\": 6}, \"marker\": {\"size\": 1}, \"name\": \"^ proj\", \"type\": \"scatter3d\", \"x\": [-1.5491589173759384, 0.3259926905489025], \"y\": [-7.250108574555569, -0.8337384247737958], \"z\": [-1.4415180189468613, 1.5722264185934947]}, {\"marker\": {\"color\": \"blue\", \"line\": {\"width\": 0}, \"size\": 2}, \"mode\": \"markers\", \"name\": \"3.191879320949031\", \"showlegend\": false, \"type\": \"scatter3d\", \"x\": [-1.6580312392471215], \"y\": [-2.4686234359156143], \"z\": [-2.9967834212358087]}, {\"marker\": {\"color\": \"red\", \"line\": {\"width\": 0}, \"size\": 2}, \"mode\": \"markers\", \"name\": \"-5.669575638253049\", \"showlegend\": false, \"type\": \"scatter3d\", \"x\": [-0.777220540001882], \"y\": [-10.726763450049406], \"z\": [-0.06470266128815605]}, {\"marker\": {\"color\": \"blue\", \"line\": {\"width\": 0}, \"size\": 2}, \"mode\": \"markers\", \"name\": \"3.958669718050279\", \"showlegend\": false, \"type\": \"scatter3d\", \"x\": [-0.2077457436123662], \"y\": [-0.6904645628096294], \"z\": [-3.0030071301117554]}, {\"marker\": {\"color\": \"red\", \"line\": {\"width\": 0}, \"size\": 2}, \"mode\": \"markers\", \"name\": \"-2.4473865495797464\", \"showlegend\": false, \"type\": \"scatter3d\", \"x\": [-2.208993881683744], \"y\": [-6.931037127562513], \"z\": [-0.4799236902257027]}, {\"marker\": {\"color\": \"red\", \"line\": {\"width\": 0}, \"size\": 2}, \"mode\": \"markers\", \"name\": \"-6.941045759933376\", \"showlegend\": false, \"type\": \"scatter3d\", \"x\": [-2.1092372461747035], \"y\": [-9.393765145033843], \"z\": [1.993615444124878]}, {\"marker\": {\"color\": \"blue\", \"line\": {\"width\": 0}, \"size\": 2}, \"mode\": \"markers\", \"name\": \"4.784689805566597\", \"showlegend\": false, \"type\": \"scatter3d\", \"x\": [-0.3180427354058979], \"y\": [-1.4010703116424414], \"z\": [-4.0555125917167665]}, {\"marker\": {\"color\": \"blue\", \"line\": {\"width\": 0}, \"size\": 2}, \"mode\": \"markers\", \"name\": \"3.3011286811211873\", \"showlegend\": false, \"type\": \"scatter3d\", \"x\": [-1.7618984071926949], \"y\": [-2.8473642653630744], \"z\": [-3.268479933536673]}, {\"marker\": {\"color\": \"red\", \"line\": {\"width\": 0}, \"size\": 2}, \"mode\": \"markers\", \"name\": \"-5.949796276013884\", \"showlegend\": false, \"type\": \"scatter3d\", \"x\": [-1.6994184393126137], \"y\": [-9.613804261878917], \"z\": [0.9536793178805771]}, {\"marker\": {\"color\": \"red\", \"line\": {\"width\": 0}, \"size\": 2}, \"mode\": \"markers\", \"name\": \"-7.633541511889574\", \"showlegend\": false, \"type\": \"scatter3d\", \"x\": [-0.8996299869449244], \"y\": [-9.698610632187053], \"z\": [2.1667810560691363]}, {\"marker\": {\"color\": \"red\", \"line\": {\"width\": 0}, \"size\": 3}, \"mode\": \"markers\", \"name\": \"d=-8.681878123074863\", \"type\": \"scatter3d\", \"x\": [0.1265942845014456], \"y\": [-11.219434867826742], \"z\": [2.0340735109649115]}, {\"line\": {\"width\": 6}, \"marker\": {\"size\": 1}, \"name\": \"^ len_d\", \"type\": \"scatter3d\", \"x\": [0.1265942845014456, -1.023033905683922], \"y\": [-11.219434867826742, -8.279218034293434], \"z\": [2.0340735109649115, -3.510455138207729]}, {\"line\": {\"width\": 6}, \"marker\": {\"size\": 1}, \"name\": \"^ proj\", \"type\": \"scatter3d\", \"x\": [0.1265942845014456, 1.2541966739418842], \"y\": [-11.219434867826742, -3.207654618047266], \"z\": [2.0340735109649115, 6.048850793443535]}, {\"marker\": {\"color\": \"blue\", \"line\": {\"width\": 0}, \"size\": 2}, \"mode\": \"markers\", \"name\": \"3.921151454246934\", \"showlegend\": false, \"type\": \"scatter3d\", \"x\": [-3.2793979214271083], \"y\": [-1.2275904418093788], \"z\": [-2.6192215465178186]}, {\"marker\": {\"color\": \"red\", \"line\": {\"width\": 0}, \"size\": 2}, \"mode\": \"markers\", \"name\": \"-7.602513543783251\", \"showlegend\": false, \"type\": \"scatter3d\", \"x\": [-0.5448223810947223], \"y\": [-10.13472563123421], \"z\": [1.835705839145523]}, {\"marker\": {\"color\": \"red\", \"line\": {\"width\": 0}, \"size\": 2}, \"mode\": \"markers\", \"name\": \"-5.821540734294297\", \"showlegend\": false, \"type\": \"scatter3d\", \"x\": [-1.9993557985866022], \"y\": [-10.064889958021181], \"z\": [0.6681999291923968]}, {\"marker\": {\"color\": \"blue\", \"line\": {\"width\": 0}, \"size\": 2}, \"mode\": \"markers\", \"name\": \"4.245400161301274\", \"showlegend\": false, \"type\": \"scatter3d\", \"x\": [-0.6920363339672632], \"y\": [-1.58898446753575], \"z\": [-3.6215511381165517]}, {\"marker\": {\"color\": \"blue\", \"line\": {\"width\": 0}, \"size\": 2}, \"mode\": \"markers\", \"name\": \"5.022144865027489\", \"showlegend\": false, \"type\": \"scatter3d\", \"x\": [-0.2605230817068416], \"y\": [-1.9216463929509258], \"z\": [-4.544306524063666]}, {\"marker\": {\"color\": \"blue\", \"line\": {\"width\": 0}, \"size\": 2}, \"mode\": \"markers\", \"name\": \"2.3569405177764247\", \"showlegend\": false, \"type\": \"scatter3d\", \"x\": [-1.7200746184897326], \"y\": [-1.7407911494275212], \"z\": [-1.8918666646659397]}, {\"marker\": {\"color\": \"blue\", \"line\": {\"width\": 0}, \"size\": 2}, \"mode\": \"markers\", \"name\": \"2.0016263494059543\", \"showlegend\": false, \"type\": \"scatter3d\", \"x\": [-0.5415872984195823], \"y\": [-2.5864049413688104], \"z\": [-2.2841602985608693]}, {\"marker\": {\"color\": \"blue\", \"line\": {\"width\": 0}, \"size\": 2}, \"mode\": \"markers\", \"name\": \"5.15491041119471\", \"showlegend\": false, \"type\": \"scatter3d\", \"x\": [-3.1439561214259393], \"y\": [-1.2621558942512991], \"z\": [-3.7089967902252914]}, {\"marker\": {\"color\": \"blue\", \"line\": {\"width\": 0}, \"size\": 2}, \"mode\": \"markers\", \"name\": \"1.8056313164779711\", \"showlegend\": false, \"type\": \"scatter3d\", \"x\": [1.9861932534769364], \"y\": [-0.6217826382099462], \"z\": [-1.6007107275242336]}, {\"marker\": {\"color\": \"red\", \"line\": {\"width\": 0}, \"size\": 2}, \"mode\": \"markers\", \"name\": \"-6.668849146982611\", \"showlegend\": false, \"type\": \"scatter3d\", \"x\": [-0.7782447503786115], \"y\": [-10.325689067272036], \"z\": [0.993259319045779]}, {\"marker\": {\"color\": \"blue\", \"line\": {\"width\": 0}, \"size\": 2}, \"mode\": \"markers\", \"name\": \"4.968484481852238\", \"showlegend\": false, \"type\": \"scatter3d\", \"x\": [-2.354351183964895], \"y\": [-1.0009774375225404], \"z\": [-3.576560153702099]}, {\"marker\": {\"color\": \"blue\", \"line\": {\"width\": 0}, \"size\": 2}, \"mode\": \"markers\", \"name\": \"2.688786721768477\", \"showlegend\": false, \"type\": \"scatter3d\", \"x\": [0.5324423095002062], \"y\": [-3.306711369346252], \"z\": [-3.4699431439198865]}, {\"marker\": {\"color\": \"blue\", \"line\": {\"width\": 0}, \"size\": 2}, \"mode\": \"markers\", \"name\": \"5.755647459807685\", \"showlegend\": false, \"type\": \"scatter3d\", \"x\": [-0.7956119992676421], \"y\": [-1.4661397829437133], \"z\": [-4.812114131071052]}, {\"marker\": {\"color\": \"red\", \"line\": {\"width\": 0}, \"size\": 2}, \"mode\": \"markers\", \"name\": \"-7.372852476574748\", \"showlegend\": false, \"type\": \"scatter3d\", \"x\": [-1.9577775344879664], \"y\": [-10.920914390180792], \"z\": [1.5175459875845316]}, {\"marker\": {\"color\": \"red\", \"line\": {\"width\": 0}, \"size\": 2}, \"mode\": \"markers\", \"name\": \"-4.57058330449036\", \"showlegend\": false, \"type\": \"scatter3d\", \"x\": [-0.846605627083354], \"y\": [-8.203096133170305], \"z\": [0.35857025239482054]}, {\"marker\": {\"color\": \"red\", \"line\": {\"width\": 0}, \"size\": 2}, \"mode\": \"markers\", \"name\": \"-7.430451578462039\", \"showlegend\": false, \"type\": \"scatter3d\", \"x\": [-0.9540985237729442], \"y\": [-11.521798412170888], \"z\": [1.0395050807158799]}, {\"marker\": {\"color\": \"red\", \"line\": {\"width\": 0}, \"size\": 2}, \"mode\": \"markers\", \"name\": \"-7.419509790003496\", \"showlegend\": false, \"type\": \"scatter3d\", \"x\": [-1.167375452343276], \"y\": [-9.11103082677894], \"z\": [2.352883420246779]}, {\"marker\": {\"color\": \"red\", \"line\": {\"width\": 0}, \"size\": 2}, \"mode\": \"markers\", \"name\": \"-5.3274300819040725\", \"showlegend\": false, \"type\": \"scatter3d\", \"x\": [-1.6189239231891213], \"y\": [-9.717659394294776], \"z\": [0.35559454508988164]}, {\"marker\": {\"color\": \"blue\", \"line\": {\"width\": 0}, \"size\": 2}, \"mode\": \"markers\", \"name\": \"1.8169224904766033\", \"showlegend\": false, \"type\": \"scatter3d\", \"x\": [2.815140476170738], \"y\": [-0.7715230809383078], \"z\": [-1.8615432636055613]}, {\"marker\": {\"color\": \"red\", \"line\": {\"width\": 0}, \"size\": 2}, \"mode\": \"markers\", \"name\": \"-6.434921637677169\", \"showlegend\": false, \"type\": \"scatter3d\", \"x\": [-2.467714243545209], \"y\": [-10.9026925907463], \"z\": [0.8397543618972337]}, {\"marker\": {\"color\": \"blue\", \"line\": {\"width\": 0}, \"size\": 2}, \"mode\": \"markers\", \"name\": \"3.270813135080593\", \"showlegend\": false, \"type\": \"scatter3d\", \"x\": [-2.6111194173885], \"y\": [-3.6182375500848063], \"z\": [-3.4755489549556478]}, {\"marker\": {\"color\": \"blue\", \"line\": {\"width\": 0}, \"size\": 2}, \"mode\": \"markers\", \"name\": \"4.721306065100253\", \"showlegend\": false, \"type\": \"scatter3d\", \"x\": [-2.632141027502986], \"y\": [-0.4598978823168711], \"z\": [-3.0229987371752776]}, {\"marker\": {\"color\": \"blue\", \"line\": {\"width\": 0}, \"size\": 2}, \"mode\": \"markers\", \"name\": \"1.9402909055398267\", \"showlegend\": false, \"type\": \"scatter3d\", \"x\": [-0.27369741826522564], \"y\": [-3.07510943607289], \"z\": [-2.5469916880804377]}, {\"marker\": {\"color\": \"red\", \"line\": {\"width\": 0}, \"size\": 2}, \"mode\": \"markers\", \"name\": \"-7.11221720721271\", \"showlegend\": false, \"type\": \"scatter3d\", \"x\": [-0.8562772492940441], \"y\": [-8.682295368407159], \"z\": [2.255863220899003]}, {\"marker\": {\"color\": \"blue\", \"line\": {\"width\": 0}, \"size\": 2}, \"mode\": \"markers\", \"name\": \"3.1372827704479316\", \"showlegend\": false, \"type\": \"scatter3d\", \"x\": [0.5109244939452628], \"y\": [-1.4122341513386731], \"z\": [-2.8401393057647053]}, {\"marker\": {\"color\": \"blue\", \"line\": {\"width\": 0}, \"size\": 2}, \"mode\": \"markers\", \"name\": \"4.509937431960705\", \"showlegend\": false, \"type\": \"scatter3d\", \"x\": [-3.3631644102999134], \"y\": [-0.982499871843562], \"z\": [-2.9698066794796447]}, {\"marker\": {\"color\": \"red\", \"line\": {\"width\": 0}, \"size\": 2}, \"mode\": \"markers\", \"name\": \"-5.169995378829167\", \"showlegend\": false, \"type\": \"scatter3d\", \"x\": [-3.6237051481598868], \"y\": [-8.3199538727014], \"z\": [1.3793276051777774]}, {\"marker\": {\"color\": \"red\", \"line\": {\"width\": 0}, \"size\": 2}, \"mode\": \"markers\", \"name\": \"-5.996427696427292\", \"showlegend\": false, \"type\": \"scatter3d\", \"x\": [-0.8982357230332279], \"y\": [-8.915199921999717], \"z\": [1.197457536488295]}, {\"marker\": {\"color\": \"red\", \"line\": {\"width\": 0}, \"size\": 2}, \"mode\": \"markers\", \"name\": \"-8.402302302497862\", \"showlegend\": false, \"type\": \"scatter3d\", \"x\": [-1.6839942264978642], \"y\": [-10.865994029978038], \"z\": [2.3604849815013074]}, {\"marker\": {\"color\": \"blue\", \"line\": {\"width\": 0}, \"size\": 2}, \"mode\": \"markers\", \"name\": \"1.614970698459076\", \"showlegend\": false, \"type\": \"scatter3d\", \"x\": [-0.17566541418362114], \"y\": [-1.8668860471137454], \"z\": [-1.6514913914502833]}, {\"marker\": {\"color\": \"red\", \"line\": {\"width\": 0}, \"size\": 2}, \"mode\": \"markers\", \"name\": \"-7.237911920774648\", \"showlegend\": false, \"type\": \"scatter3d\", \"x\": [-0.5849823521129334], \"y\": [-11.514941909564786], \"z\": [0.8037802928618021]}, {\"marker\": {\"color\": \"red\", \"line\": {\"width\": 0}, \"size\": 2}, \"mode\": \"markers\", \"name\": \"-5.112219002468646\", \"showlegend\": false, \"type\": \"scatter3d\", \"x\": [-2.3015166876819912], \"y\": [-9.049079662462567], \"z\": [0.669669487497659]}, {\"marker\": {\"color\": \"red\", \"line\": {\"width\": 0}, \"size\": 2}, \"mode\": \"markers\", \"name\": \"-7.019646536628469\", \"showlegend\": false, \"type\": \"scatter3d\", \"x\": [-0.062216324103634424], \"y\": [-9.943480711595555], \"z\": [1.3441380516619292]}, {\"marker\": {\"color\": \"blue\", \"line\": {\"width\": 0}, \"size\": 2}, \"mode\": \"markers\", \"name\": \"3.7689937568288605\", \"showlegend\": false, \"type\": \"scatter3d\", \"x\": [-0.7791814301690143], \"y\": [-0.7631855276368256], \"z\": [-2.7626816126453972]}, {\"marker\": {\"color\": \"blue\", \"line\": {\"width\": 0}, \"size\": 2}, \"mode\": \"markers\", \"name\": \"2.333813186301867\", \"showlegend\": false, \"type\": \"scatter3d\", \"x\": [-1.7410530238271087], \"y\": [-2.848071176596078], \"z\": [-2.4551399086483734]}, {\"marker\": {\"color\": \"blue\", \"line\": {\"width\": 0}, \"size\": 2}, \"mode\": \"markers\", \"name\": \"3.7905659161469756\", \"showlegend\": false, \"type\": \"scatter3d\", \"x\": [-1.846501587197685], \"y\": [-1.2931171450700611], \"z\": [-2.8406398843183185]}, {\"marker\": {\"color\": \"red\", \"line\": {\"width\": 0}, \"size\": 2}, \"mode\": \"markers\", \"name\": \"-4.581943437871044\", \"showlegend\": false, \"type\": \"scatter3d\", \"x\": [-1.661618438925011], \"y\": [-9.41498635429603], \"z\": [-0.10548938942187358]}, {\"marker\": {\"color\": \"blue\", \"line\": {\"width\": 0}, \"size\": 2}, \"mode\": \"markers\", \"name\": \"5.07074617016956\", \"showlegend\": false, \"type\": \"scatter3d\", \"x\": [-3.0584698759102187], \"y\": [-1.70706525528034], \"z\": [-3.891477773844276]}, {\"marker\": {\"color\": \"red\", \"line\": {\"width\": 0}, \"size\": 2}, \"mode\": \"markers\", \"name\": \"-4.647962586446605\", \"showlegend\": false, \"type\": \"scatter3d\", \"x\": [-1.4365361275445485], \"y\": [-9.224904911440879], \"z\": [0.004470508804561124]}, {\"marker\": {\"color\": \"red\", \"line\": {\"width\": 0}, \"size\": 2}, \"mode\": \"markers\", \"name\": \"-7.96440112074908\", \"showlegend\": false, \"type\": \"scatter3d\", \"x\": [0.3043850992357515], \"y\": [-12.140924819825662], \"z\": [0.9017969346835247]}, {\"marker\": {\"color\": \"red\", \"line\": {\"width\": 0}, \"size\": 2}, \"mode\": \"markers\", \"name\": \"-6.208342993642032\", \"showlegend\": false, \"type\": \"scatter3d\", \"x\": [-3.1481926117236885], \"y\": [-7.750290697461706], \"z\": [2.4609275681475955]}, {\"marker\": {\"color\": \"red\", \"line\": {\"width\": 0}, \"size\": 2}, \"mode\": \"markers\", \"name\": \"-4.789045963606067\", \"showlegend\": false, \"type\": \"scatter3d\", \"x\": [-2.0279729064537872], \"y\": [-9.472450112468849], \"z\": [0.11514166433384088]}, {\"marker\": {\"color\": \"red\", \"line\": {\"width\": 0}, \"size\": 2}, \"mode\": \"markers\", \"name\": \"-5.107441598886145\", \"showlegend\": false, \"type\": \"scatter3d\", \"x\": [-2.413235230836907], \"y\": [-9.048382808785483], \"z\": [0.6891631187728673]}, {\"marker\": {\"color\": \"red\", \"line\": {\"width\": 0}, \"size\": 2}, \"mode\": \"markers\", \"name\": \"-5.446750271871261\", \"showlegend\": false, \"type\": \"scatter3d\", \"x\": [-1.5562814494106627], \"y\": [-9.99835925717476], \"z\": [0.2946596076377942]}, {\"marker\": {\"color\": \"blue\", \"line\": {\"width\": 0}, \"size\": 2}, \"mode\": \"markers\", \"name\": \"3.4884849258218207\", \"showlegend\": false, \"type\": \"scatter3d\", \"x\": [-1.1724465660561343], \"y\": [-2.439472710192113], \"z\": [-3.3328411309196055]}, {\"marker\": {\"color\": \"blue\", \"line\": {\"width\": 0}, \"size\": 2}, \"mode\": \"markers\", \"name\": \"5.675259841682281\", \"showlegend\": false, \"type\": \"scatter3d\", \"x\": [-1.545326266004287], \"y\": [-3.1393185695146357], \"z\": [-5.475955515667467]}, {\"marker\": {\"color\": \"red\", \"line\": {\"width\": 0}, \"size\": 2}, \"mode\": \"markers\", \"name\": \"-6.956337443860355\", \"showlegend\": false, \"type\": \"scatter3d\", \"x\": [-1.357320622512882], \"y\": [-8.656772358005192], \"z\": [2.2414624781712167]}, {\"marker\": {\"color\": \"red\", \"line\": {\"width\": 0}, \"size\": 2}, \"mode\": \"markers\", \"name\": \"-6.070488177089525\", \"showlegend\": false, \"type\": \"scatter3d\", \"x\": [-1.6611944746752747], \"y\": [-9.857144786521168], \"z\": [0.9187787946802018]}, {\"marker\": {\"color\": \"red\", \"line\": {\"width\": 0}, \"size\": 2}, \"mode\": \"markers\", \"name\": \"-7.25769032894931\", \"showlegend\": false, \"type\": \"scatter3d\", \"x\": [-0.7377493850108957], \"y\": [-9.794983560435583], \"z\": [1.7642612956435944]}, {\"marker\": {\"color\": \"blue\", \"line\": {\"width\": 0}, \"size\": 2}, \"mode\": \"markers\", \"name\": \"3.840398175035528\", \"showlegend\": false, \"type\": \"scatter3d\", \"x\": [-2.7469164972912514], \"y\": [-1.9306617356064473], \"z\": [-3.034170248128713]}, {\"marker\": {\"color\": \"blue\", \"line\": {\"width\": 0}, \"size\": 2}, \"mode\": \"markers\", \"name\": \"2.440374304818515\", \"showlegend\": false, \"type\": \"scatter3d\", \"x\": [-0.423953950089518], \"y\": [-2.679734533092661], \"z\": [-2.7290821665268874]}, {\"marker\": {\"color\": \"blue\", \"line\": {\"width\": 0}, \"size\": 3}, \"mode\": \"markers\", \"name\": \"d=7.05326448553566\", \"type\": \"scatter3d\", \"x\": [-2.317067132432493], \"y\": [-2.040818781594588], \"z\": [-5.8987617119969125]}, {\"line\": {\"width\": 6}, \"marker\": {\"size\": 1}, \"name\": \"^ len_d\", \"type\": \"scatter3d\", \"x\": [-2.317067132432493, -1.3830950620513378], \"y\": [-2.040818781594588, -4.429487071767472], \"z\": [-5.8987617119969125, -1.3943184963861124]}, {\"line\": {\"width\": 6}, \"marker\": {\"size\": 1}, \"name\": \"^ proj\", \"type\": \"scatter3d\", \"x\": [-2.317067132432493, -0.8294035866246386], \"y\": [-2.040818781594588, 2.1212305056589273], \"z\": [-5.8987617119969125, -4.000121071339907]}, {\"showlegend\": false, \"showscale\": false, \"type\": \"surface\", \"x\": [[-4.408300387389651, -4.147471688240374, -3.886642989091098, -3.6258142899418218, -3.3649855907925454, -3.104156891643269, -2.8433281924939933, -2.582499493344717, -2.3216707941954406, -2.0608420950461643, -1.800013395896888, -1.5391846967476117, -1.2783559975983358, -1.0175272984490595, -0.7566985992997832, -0.4958699001505069, -0.2350412010012306, 0.025787498148045707, 0.286616197297322, 0.5474448964465983, 0.8082735955958746, 1.069102294745151, 1.3299309938944273, 1.5907596930437036, 1.851588392192979, 2.1124170913422553, 2.3732457904915316, 2.634074489640808, 2.8949031887900842, 3.1557318879393614], [-4.408300387389651, -4.147471688240374, -3.886642989091098, -3.6258142899418218, -3.3649855907925454, -3.104156891643269, -2.8433281924939933, -2.582499493344717, -2.3216707941954406, -2.0608420950461643, -1.800013395896888, -1.5391846967476117, -1.2783559975983358, -1.0175272984490595, -0.7566985992997832, -0.4958699001505069, -0.2350412010012306, 0.025787498148045707, 0.286616197297322, 0.5474448964465983, 0.8082735955958746, 1.069102294745151, 1.3299309938944273, 1.5907596930437036, 1.851588392192979, 2.1124170913422553, 2.3732457904915316, 2.634074489640808, 2.8949031887900842, 3.1557318879393614], [-4.408300387389651, -4.147471688240374, -3.886642989091098, -3.6258142899418218, -3.3649855907925454, -3.104156891643269, -2.8433281924939933, -2.582499493344717, -2.3216707941954406, -2.0608420950461643, -1.800013395896888, -1.5391846967476117, -1.2783559975983358, -1.0175272984490595, -0.7566985992997832, -0.4958699001505069, -0.2350412010012306, 0.025787498148045707, 0.286616197297322, 0.5474448964465983, 0.8082735955958746, 1.069102294745151, 1.3299309938944273, 1.5907596930437036, 1.851588392192979, 2.1124170913422553, 2.3732457904915316, 2.634074489640808, 2.8949031887900842, 3.1557318879393614], [-4.408300387389651, -4.147471688240374, -3.886642989091098, -3.6258142899418218, -3.3649855907925454, -3.104156891643269, -2.8433281924939933, -2.582499493344717, -2.3216707941954406, -2.0608420950461643, -1.800013395896888, -1.5391846967476117, -1.2783559975983358, -1.0175272984490595, -0.7566985992997832, -0.4958699001505069, -0.2350412010012306, 0.025787498148045707, 0.286616197297322, 0.5474448964465983, 0.8082735955958746, 1.069102294745151, 1.3299309938944273, 1.5907596930437036, 1.851588392192979, 2.1124170913422553, 2.3732457904915316, 2.634074489640808, 2.8949031887900842, 3.1557318879393614], [-4.408300387389651, -4.147471688240374, -3.886642989091098, -3.6258142899418218, -3.3649855907925454, -3.104156891643269, -2.8433281924939933, -2.582499493344717, -2.3216707941954406, -2.0608420950461643, -1.800013395896888, -1.5391846967476117, -1.2783559975983358, -1.0175272984490595, -0.7566985992997832, -0.4958699001505069, -0.2350412010012306, 0.025787498148045707, 0.286616197297322, 0.5474448964465983, 0.8082735955958746, 1.069102294745151, 1.3299309938944273, 1.5907596930437036, 1.851588392192979, 2.1124170913422553, 2.3732457904915316, 2.634074489640808, 2.8949031887900842, 3.1557318879393614], [-4.408300387389651, -4.147471688240374, -3.886642989091098, -3.6258142899418218, -3.3649855907925454, -3.104156891643269, -2.8433281924939933, -2.582499493344717, -2.3216707941954406, -2.0608420950461643, -1.800013395896888, -1.5391846967476117, -1.2783559975983358, -1.0175272984490595, -0.7566985992997832, -0.4958699001505069, -0.2350412010012306, 0.025787498148045707, 0.286616197297322, 0.5474448964465983, 0.8082735955958746, 1.069102294745151, 1.3299309938944273, 1.5907596930437036, 1.851588392192979, 2.1124170913422553, 2.3732457904915316, 2.634074489640808, 2.8949031887900842, 3.1557318879393614], [-4.408300387389651, -4.147471688240374, -3.886642989091098, -3.6258142899418218, -3.3649855907925454, -3.104156891643269, -2.8433281924939933, -2.582499493344717, -2.3216707941954406, -2.0608420950461643, -1.800013395896888, -1.5391846967476117, -1.2783559975983358, -1.0175272984490595, -0.7566985992997832, -0.4958699001505069, -0.2350412010012306, 0.025787498148045707, 0.286616197297322, 0.5474448964465983, 0.8082735955958746, 1.069102294745151, 1.3299309938944273, 1.5907596930437036, 1.851588392192979, 2.1124170913422553, 2.3732457904915316, 2.634074489640808, 2.8949031887900842, 3.1557318879393614], [-4.408300387389651, -4.147471688240374, -3.886642989091098, -3.6258142899418218, -3.3649855907925454, -3.104156891643269, -2.8433281924939933, -2.582499493344717, -2.3216707941954406, -2.0608420950461643, -1.800013395896888, -1.5391846967476117, -1.2783559975983358, -1.0175272984490595, -0.7566985992997832, -0.4958699001505069, -0.2350412010012306, 0.025787498148045707, 0.286616197297322, 0.5474448964465983, 0.8082735955958746, 1.069102294745151, 1.3299309938944273, 1.5907596930437036, 1.851588392192979, 2.1124170913422553, 2.3732457904915316, 2.634074489640808, 2.8949031887900842, 3.1557318879393614], [-4.408300387389651, -4.147471688240374, -3.886642989091098, -3.6258142899418218, -3.3649855907925454, -3.104156891643269, -2.8433281924939933, -2.582499493344717, -2.3216707941954406, -2.0608420950461643, -1.800013395896888, -1.5391846967476117, -1.2783559975983358, -1.0175272984490595, -0.7566985992997832, -0.4958699001505069, -0.2350412010012306, 0.025787498148045707, 0.286616197297322, 0.5474448964465983, 0.8082735955958746, 1.069102294745151, 1.3299309938944273, 1.5907596930437036, 1.851588392192979, 2.1124170913422553, 2.3732457904915316, 2.634074489640808, 2.8949031887900842, 3.1557318879393614], [-4.408300387389651, -4.147471688240374, -3.886642989091098, -3.6258142899418218, -3.3649855907925454, -3.104156891643269, -2.8433281924939933, -2.582499493344717, -2.3216707941954406, -2.0608420950461643, -1.800013395896888, -1.5391846967476117, -1.2783559975983358, -1.0175272984490595, -0.7566985992997832, -0.4958699001505069, -0.2350412010012306, 0.025787498148045707, 0.286616197297322, 0.5474448964465983, 0.8082735955958746, 1.069102294745151, 1.3299309938944273, 1.5907596930437036, 1.851588392192979, 2.1124170913422553, 2.3732457904915316, 2.634074489640808, 2.8949031887900842, 3.1557318879393614], [-4.408300387389651, -4.147471688240374, -3.886642989091098, -3.6258142899418218, -3.3649855907925454, -3.104156891643269, -2.8433281924939933, -2.582499493344717, -2.3216707941954406, -2.0608420950461643, -1.800013395896888, -1.5391846967476117, -1.2783559975983358, -1.0175272984490595, -0.7566985992997832, -0.4958699001505069, -0.2350412010012306, 0.025787498148045707, 0.286616197297322, 0.5474448964465983, 0.8082735955958746, 1.069102294745151, 1.3299309938944273, 1.5907596930437036, 1.851588392192979, 2.1124170913422553, 2.3732457904915316, 2.634074489640808, 2.8949031887900842, 3.1557318879393614], [-4.408300387389651, -4.147471688240374, -3.886642989091098, -3.6258142899418218, -3.3649855907925454, -3.104156891643269, -2.8433281924939933, -2.582499493344717, -2.3216707941954406, -2.0608420950461643, -1.800013395896888, -1.5391846967476117, -1.2783559975983358, -1.0175272984490595, -0.7566985992997832, -0.4958699001505069, -0.2350412010012306, 0.025787498148045707, 0.286616197297322, 0.5474448964465983, 0.8082735955958746, 1.069102294745151, 1.3299309938944273, 1.5907596930437036, 1.851588392192979, 2.1124170913422553, 2.3732457904915316, 2.634074489640808, 2.8949031887900842, 3.1557318879393614], [-4.408300387389651, -4.147471688240374, -3.886642989091098, -3.6258142899418218, -3.3649855907925454, -3.104156891643269, -2.8433281924939933, -2.582499493344717, -2.3216707941954406, -2.0608420950461643, -1.800013395896888, -1.5391846967476117, -1.2783559975983358, -1.0175272984490595, -0.7566985992997832, -0.4958699001505069, -0.2350412010012306, 0.025787498148045707, 0.286616197297322, 0.5474448964465983, 0.8082735955958746, 1.069102294745151, 1.3299309938944273, 1.5907596930437036, 1.851588392192979, 2.1124170913422553, 2.3732457904915316, 2.634074489640808, 2.8949031887900842, 3.1557318879393614], [-4.408300387389651, -4.147471688240374, -3.886642989091098, -3.6258142899418218, -3.3649855907925454, -3.104156891643269, -2.8433281924939933, -2.582499493344717, -2.3216707941954406, -2.0608420950461643, -1.800013395896888, -1.5391846967476117, -1.2783559975983358, -1.0175272984490595, -0.7566985992997832, -0.4958699001505069, -0.2350412010012306, 0.025787498148045707, 0.286616197297322, 0.5474448964465983, 0.8082735955958746, 1.069102294745151, 1.3299309938944273, 1.5907596930437036, 1.851588392192979, 2.1124170913422553, 2.3732457904915316, 2.634074489640808, 2.8949031887900842, 3.1557318879393614], [-4.408300387389651, -4.147471688240374, -3.886642989091098, -3.6258142899418218, -3.3649855907925454, -3.104156891643269, -2.8433281924939933, -2.582499493344717, -2.3216707941954406, -2.0608420950461643, -1.800013395896888, -1.5391846967476117, -1.2783559975983358, -1.0175272984490595, -0.7566985992997832, -0.4958699001505069, -0.2350412010012306, 0.025787498148045707, 0.286616197297322, 0.5474448964465983, 0.8082735955958746, 1.069102294745151, 1.3299309938944273, 1.5907596930437036, 1.851588392192979, 2.1124170913422553, 2.3732457904915316, 2.634074489640808, 2.8949031887900842, 3.1557318879393614], [-4.408300387389651, -4.147471688240374, -3.886642989091098, -3.6258142899418218, -3.3649855907925454, -3.104156891643269, -2.8433281924939933, -2.582499493344717, -2.3216707941954406, -2.0608420950461643, -1.800013395896888, -1.5391846967476117, -1.2783559975983358, -1.0175272984490595, -0.7566985992997832, -0.4958699001505069, -0.2350412010012306, 0.025787498148045707, 0.286616197297322, 0.5474448964465983, 0.8082735955958746, 1.069102294745151, 1.3299309938944273, 1.5907596930437036, 1.851588392192979, 2.1124170913422553, 2.3732457904915316, 2.634074489640808, 2.8949031887900842, 3.1557318879393614], [-4.408300387389651, -4.147471688240374, -3.886642989091098, -3.6258142899418218, -3.3649855907925454, -3.104156891643269, -2.8433281924939933, -2.582499493344717, -2.3216707941954406, -2.0608420950461643, -1.800013395896888, -1.5391846967476117, -1.2783559975983358, -1.0175272984490595, -0.7566985992997832, -0.4958699001505069, -0.2350412010012306, 0.025787498148045707, 0.286616197297322, 0.5474448964465983, 0.8082735955958746, 1.069102294745151, 1.3299309938944273, 1.5907596930437036, 1.851588392192979, 2.1124170913422553, 2.3732457904915316, 2.634074489640808, 2.8949031887900842, 3.1557318879393614], [-4.408300387389651, -4.147471688240374, -3.886642989091098, -3.6258142899418218, -3.3649855907925454, -3.104156891643269, -2.8433281924939933, -2.582499493344717, -2.3216707941954406, -2.0608420950461643, -1.800013395896888, -1.5391846967476117, -1.2783559975983358, -1.0175272984490595, -0.7566985992997832, -0.4958699001505069, -0.2350412010012306, 0.025787498148045707, 0.286616197297322, 0.5474448964465983, 0.8082735955958746, 1.069102294745151, 1.3299309938944273, 1.5907596930437036, 1.851588392192979, 2.1124170913422553, 2.3732457904915316, 2.634074489640808, 2.8949031887900842, 3.1557318879393614], [-4.408300387389651, -4.147471688240374, -3.886642989091098, -3.6258142899418218, -3.3649855907925454, -3.104156891643269, -2.8433281924939933, -2.582499493344717, -2.3216707941954406, -2.0608420950461643, -1.800013395896888, -1.5391846967476117, -1.2783559975983358, -1.0175272984490595, -0.7566985992997832, -0.4958699001505069, -0.2350412010012306, 0.025787498148045707, 0.286616197297322, 0.5474448964465983, 0.8082735955958746, 1.069102294745151, 1.3299309938944273, 1.5907596930437036, 1.851588392192979, 2.1124170913422553, 2.3732457904915316, 2.634074489640808, 2.8949031887900842, 3.1557318879393614], [-4.408300387389651, -4.147471688240374, -3.886642989091098, -3.6258142899418218, -3.3649855907925454, -3.104156891643269, -2.8433281924939933, -2.582499493344717, -2.3216707941954406, -2.0608420950461643, -1.800013395896888, -1.5391846967476117, -1.2783559975983358, -1.0175272984490595, -0.7566985992997832, -0.4958699001505069, -0.2350412010012306, 0.025787498148045707, 0.286616197297322, 0.5474448964465983, 0.8082735955958746, 1.069102294745151, 1.3299309938944273, 1.5907596930437036, 1.851588392192979, 2.1124170913422553, 2.3732457904915316, 2.634074489640808, 2.8949031887900842, 3.1557318879393614], [-4.408300387389651, -4.147471688240374, -3.886642989091098, -3.6258142899418218, -3.3649855907925454, -3.104156891643269, -2.8433281924939933, -2.582499493344717, -2.3216707941954406, -2.0608420950461643, -1.800013395896888, -1.5391846967476117, -1.2783559975983358, -1.0175272984490595, -0.7566985992997832, -0.4958699001505069, -0.2350412010012306, 0.025787498148045707, 0.286616197297322, 0.5474448964465983, 0.8082735955958746, 1.069102294745151, 1.3299309938944273, 1.5907596930437036, 1.851588392192979, 2.1124170913422553, 2.3732457904915316, 2.634074489640808, 2.8949031887900842, 3.1557318879393614], [-4.408300387389651, -4.147471688240374, -3.886642989091098, -3.6258142899418218, -3.3649855907925454, -3.104156891643269, -2.8433281924939933, -2.582499493344717, -2.3216707941954406, -2.0608420950461643, -1.800013395896888, -1.5391846967476117, -1.2783559975983358, -1.0175272984490595, -0.7566985992997832, -0.4958699001505069, -0.2350412010012306, 0.025787498148045707, 0.286616197297322, 0.5474448964465983, 0.8082735955958746, 1.069102294745151, 1.3299309938944273, 1.5907596930437036, 1.851588392192979, 2.1124170913422553, 2.3732457904915316, 2.634074489640808, 2.8949031887900842, 3.1557318879393614], [-4.408300387389651, -4.147471688240374, -3.886642989091098, -3.6258142899418218, -3.3649855907925454, -3.104156891643269, -2.8433281924939933, -2.582499493344717, -2.3216707941954406, -2.0608420950461643, -1.800013395896888, -1.5391846967476117, -1.2783559975983358, -1.0175272984490595, -0.7566985992997832, -0.4958699001505069, -0.2350412010012306, 0.025787498148045707, 0.286616197297322, 0.5474448964465983, 0.8082735955958746, 1.069102294745151, 1.3299309938944273, 1.5907596930437036, 1.851588392192979, 2.1124170913422553, 2.3732457904915316, 2.634074489640808, 2.8949031887900842, 3.1557318879393614], [-4.408300387389651, -4.147471688240374, -3.886642989091098, -3.6258142899418218, -3.3649855907925454, -3.104156891643269, -2.8433281924939933, -2.582499493344717, -2.3216707941954406, -2.0608420950461643, -1.800013395896888, -1.5391846967476117, -1.2783559975983358, -1.0175272984490595, -0.7566985992997832, -0.4958699001505069, -0.2350412010012306, 0.025787498148045707, 0.286616197297322, 0.5474448964465983, 0.8082735955958746, 1.069102294745151, 1.3299309938944273, 1.5907596930437036, 1.851588392192979, 2.1124170913422553, 2.3732457904915316, 2.634074489640808, 2.8949031887900842, 3.1557318879393614], [-4.408300387389651, -4.147471688240374, -3.886642989091098, -3.6258142899418218, -3.3649855907925454, -3.104156891643269, -2.8433281924939933, -2.582499493344717, -2.3216707941954406, -2.0608420950461643, -1.800013395896888, -1.5391846967476117, -1.2783559975983358, -1.0175272984490595, -0.7566985992997832, -0.4958699001505069, -0.2350412010012306, 0.025787498148045707, 0.286616197297322, 0.5474448964465983, 0.8082735955958746, 1.069102294745151, 1.3299309938944273, 1.5907596930437036, 1.851588392192979, 2.1124170913422553, 2.3732457904915316, 2.634074489640808, 2.8949031887900842, 3.1557318879393614], [-4.408300387389651, -4.147471688240374, -3.886642989091098, -3.6258142899418218, -3.3649855907925454, -3.104156891643269, -2.8433281924939933, -2.582499493344717, -2.3216707941954406, -2.0608420950461643, -1.800013395896888, -1.5391846967476117, -1.2783559975983358, -1.0175272984490595, -0.7566985992997832, -0.4958699001505069, -0.2350412010012306, 0.025787498148045707, 0.286616197297322, 0.5474448964465983, 0.8082735955958746, 1.069102294745151, 1.3299309938944273, 1.5907596930437036, 1.851588392192979, 2.1124170913422553, 2.3732457904915316, 2.634074489640808, 2.8949031887900842, 3.1557318879393614], [-4.408300387389651, -4.147471688240374, -3.886642989091098, -3.6258142899418218, -3.3649855907925454, -3.104156891643269, -2.8433281924939933, -2.582499493344717, -2.3216707941954406, -2.0608420950461643, -1.800013395896888, -1.5391846967476117, -1.2783559975983358, -1.0175272984490595, -0.7566985992997832, -0.4958699001505069, -0.2350412010012306, 0.025787498148045707, 0.286616197297322, 0.5474448964465983, 0.8082735955958746, 1.069102294745151, 1.3299309938944273, 1.5907596930437036, 1.851588392192979, 2.1124170913422553, 2.3732457904915316, 2.634074489640808, 2.8949031887900842, 3.1557318879393614], [-4.408300387389651, -4.147471688240374, -3.886642989091098, -3.6258142899418218, -3.3649855907925454, -3.104156891643269, -2.8433281924939933, -2.582499493344717, -2.3216707941954406, -2.0608420950461643, -1.800013395896888, -1.5391846967476117, -1.2783559975983358, -1.0175272984490595, -0.7566985992997832, -0.4958699001505069, -0.2350412010012306, 0.025787498148045707, 0.286616197297322, 0.5474448964465983, 0.8082735955958746, 1.069102294745151, 1.3299309938944273, 1.5907596930437036, 1.851588392192979, 2.1124170913422553, 2.3732457904915316, 2.634074489640808, 2.8949031887900842, 3.1557318879393614], [-4.408300387389651, -4.147471688240374, -3.886642989091098, -3.6258142899418218, -3.3649855907925454, -3.104156891643269, -2.8433281924939933, -2.582499493344717, -2.3216707941954406, -2.0608420950461643, -1.800013395896888, -1.5391846967476117, -1.2783559975983358, -1.0175272984490595, -0.7566985992997832, -0.4958699001505069, -0.2350412010012306, 0.025787498148045707, 0.286616197297322, 0.5474448964465983, 0.8082735955958746, 1.069102294745151, 1.3299309938944273, 1.5907596930437036, 1.851588392192979, 2.1124170913422553, 2.3732457904915316, 2.634074489640808, 2.8949031887900842, 3.1557318879393614], [-4.408300387389651, -4.147471688240374, -3.886642989091098, -3.6258142899418218, -3.3649855907925454, -3.104156891643269, -2.8433281924939933, -2.582499493344717, -2.3216707941954406, -2.0608420950461643, -1.800013395896888, -1.5391846967476117, -1.2783559975983358, -1.0175272984490595, -0.7566985992997832, -0.4958699001505069, -0.2350412010012306, 0.025787498148045707, 0.286616197297322, 0.5474448964465983, 0.8082735955958746, 1.069102294745151, 1.3299309938944273, 1.5907596930437036, 1.851588392192979, 2.1124170913422553, 2.3732457904915316, 2.634074489640808, 2.8949031887900842, 3.1557318879393614]], \"y\": [[-9.543689738628235, -9.543689738628235, -9.543689738628235, -9.543689738628235, -9.543689738628235, -9.543689738628235, -9.543689738628235, -9.543689738628235, -9.543689738628235, -9.543689738628235, -9.543689738628235, -9.543689738628235, -9.543689738628235, -9.543689738628235, -9.543689738628235, -9.543689738628235, -9.543689738628235, -9.543689738628235, -9.543689738628235, -9.543689738628235, -9.543689738628235, -9.543689738628235, -9.543689738628235, -9.543689738628235, -9.543689738628235, -9.543689738628235, -9.543689738628235, -9.543689738628235, -9.543689738628235, -9.543689738628235], [-9.253675617749836, -9.253675617749836, -9.253675617749836, -9.253675617749836, -9.253675617749836, -9.253675617749836, -9.253675617749836, -9.253675617749836, -9.253675617749836, -9.253675617749836, -9.253675617749836, -9.253675617749836, -9.253675617749836, -9.253675617749836, -9.253675617749836, -9.253675617749836, -9.253675617749836, -9.253675617749836, -9.253675617749836, -9.253675617749836, -9.253675617749836, -9.253675617749836, -9.253675617749836, -9.253675617749836, -9.253675617749836, -9.253675617749836, -9.253675617749836, -9.253675617749836, -9.253675617749836, -9.253675617749836], [-8.963661496871437, -8.963661496871437, -8.963661496871437, -8.963661496871437, -8.963661496871437, -8.963661496871437, -8.963661496871437, -8.963661496871437, -8.963661496871437, -8.963661496871437, -8.963661496871437, -8.963661496871437, -8.963661496871437, -8.963661496871437, -8.963661496871437, -8.963661496871437, -8.963661496871437, -8.963661496871437, -8.963661496871437, -8.963661496871437, -8.963661496871437, -8.963661496871437, -8.963661496871437, -8.963661496871437, -8.963661496871437, -8.963661496871437, -8.963661496871437, -8.963661496871437, -8.963661496871437, -8.963661496871437], [-8.673647375993038, -8.673647375993038, -8.673647375993038, -8.673647375993038, -8.673647375993038, -8.673647375993038, -8.673647375993038, -8.673647375993038, -8.673647375993038, -8.673647375993038, -8.673647375993038, -8.673647375993038, -8.673647375993038, -8.673647375993038, -8.673647375993038, -8.673647375993038, -8.673647375993038, -8.673647375993038, -8.673647375993038, -8.673647375993038, -8.673647375993038, -8.673647375993038, -8.673647375993038, -8.673647375993038, -8.673647375993038, -8.673647375993038, -8.673647375993038, -8.673647375993038, -8.673647375993038, -8.673647375993038], [-8.383633255114638, -8.383633255114638, -8.383633255114638, -8.383633255114638, -8.383633255114638, -8.383633255114638, -8.383633255114638, -8.383633255114638, -8.383633255114638, -8.383633255114638, -8.383633255114638, -8.383633255114638, -8.383633255114638, -8.383633255114638, -8.383633255114638, -8.383633255114638, -8.383633255114638, -8.383633255114638, -8.383633255114638, -8.383633255114638, -8.383633255114638, -8.383633255114638, -8.383633255114638, -8.383633255114638, -8.383633255114638, -8.383633255114638, -8.383633255114638, -8.383633255114638, -8.383633255114638, -8.383633255114638], [-8.09361913423624, -8.09361913423624, -8.09361913423624, -8.09361913423624, -8.09361913423624, -8.09361913423624, -8.09361913423624, -8.09361913423624, -8.09361913423624, -8.09361913423624, -8.09361913423624, -8.09361913423624, -8.09361913423624, -8.09361913423624, -8.09361913423624, -8.09361913423624, -8.09361913423624, -8.09361913423624, -8.09361913423624, -8.09361913423624, -8.09361913423624, -8.09361913423624, -8.09361913423624, -8.09361913423624, -8.09361913423624, -8.09361913423624, -8.09361913423624, -8.09361913423624, -8.09361913423624, -8.09361913423624], [-7.803605013357841, -7.803605013357841, -7.803605013357841, -7.803605013357841, -7.803605013357841, -7.803605013357841, -7.803605013357841, -7.803605013357841, -7.803605013357841, -7.803605013357841, -7.803605013357841, -7.803605013357841, -7.803605013357841, -7.803605013357841, -7.803605013357841, -7.803605013357841, -7.803605013357841, -7.803605013357841, -7.803605013357841, -7.803605013357841, -7.803605013357841, -7.803605013357841, -7.803605013357841, -7.803605013357841, -7.803605013357841, -7.803605013357841, -7.803605013357841, -7.803605013357841, -7.803605013357841, -7.803605013357841], [-7.513590892479442, -7.513590892479442, -7.513590892479442, -7.513590892479442, -7.513590892479442, -7.513590892479442, -7.513590892479442, -7.513590892479442, -7.513590892479442, -7.513590892479442, -7.513590892479442, -7.513590892479442, -7.513590892479442, -7.513590892479442, -7.513590892479442, -7.513590892479442, -7.513590892479442, -7.513590892479442, -7.513590892479442, -7.513590892479442, -7.513590892479442, -7.513590892479442, -7.513590892479442, -7.513590892479442, -7.513590892479442, -7.513590892479442, -7.513590892479442, -7.513590892479442, -7.513590892479442, -7.513590892479442], [-7.223576771601043, -7.223576771601043, -7.223576771601043, -7.223576771601043, -7.223576771601043, -7.223576771601043, -7.223576771601043, -7.223576771601043, -7.223576771601043, -7.223576771601043, -7.223576771601043, -7.223576771601043, -7.223576771601043, -7.223576771601043, -7.223576771601043, -7.223576771601043, -7.223576771601043, -7.223576771601043, -7.223576771601043, -7.223576771601043, -7.223576771601043, -7.223576771601043, -7.223576771601043, -7.223576771601043, -7.223576771601043, -7.223576771601043, -7.223576771601043, -7.223576771601043, -7.223576771601043, -7.223576771601043], [-6.933562650722644, -6.933562650722644, -6.933562650722644, -6.933562650722644, -6.933562650722644, -6.933562650722644, -6.933562650722644, -6.933562650722644, -6.933562650722644, -6.933562650722644, -6.933562650722644, -6.933562650722644, -6.933562650722644, -6.933562650722644, -6.933562650722644, -6.933562650722644, -6.933562650722644, -6.933562650722644, -6.933562650722644, -6.933562650722644, -6.933562650722644, -6.933562650722644, -6.933562650722644, -6.933562650722644, -6.933562650722644, -6.933562650722644, -6.933562650722644, -6.933562650722644, -6.933562650722644, -6.933562650722644], [-6.643548529844245, -6.643548529844245, -6.643548529844245, -6.643548529844245, -6.643548529844245, -6.643548529844245, -6.643548529844245, -6.643548529844245, -6.643548529844245, -6.643548529844245, -6.643548529844245, -6.643548529844245, -6.643548529844245, -6.643548529844245, -6.643548529844245, -6.643548529844245, -6.643548529844245, -6.643548529844245, -6.643548529844245, -6.643548529844245, -6.643548529844245, -6.643548529844245, -6.643548529844245, -6.643548529844245, -6.643548529844245, -6.643548529844245, -6.643548529844245, -6.643548529844245, -6.643548529844245, -6.643548529844245], [-6.353534408965846, -6.353534408965846, -6.353534408965846, -6.353534408965846, -6.353534408965846, -6.353534408965846, -6.353534408965846, -6.353534408965846, -6.353534408965846, -6.353534408965846, -6.353534408965846, -6.353534408965846, -6.353534408965846, -6.353534408965846, -6.353534408965846, -6.353534408965846, -6.353534408965846, -6.353534408965846, -6.353534408965846, -6.353534408965846, -6.353534408965846, -6.353534408965846, -6.353534408965846, -6.353534408965846, -6.353534408965846, -6.353534408965846, -6.353534408965846, -6.353534408965846, -6.353534408965846, -6.353534408965846], [-6.063520288087448, -6.063520288087448, -6.063520288087448, -6.063520288087448, -6.063520288087448, -6.063520288087448, -6.063520288087448, -6.063520288087448, -6.063520288087448, -6.063520288087448, -6.063520288087448, -6.063520288087448, -6.063520288087448, -6.063520288087448, -6.063520288087448, -6.063520288087448, -6.063520288087448, -6.063520288087448, -6.063520288087448, -6.063520288087448, -6.063520288087448, -6.063520288087448, -6.063520288087448, -6.063520288087448, -6.063520288087448, -6.063520288087448, -6.063520288087448, -6.063520288087448, -6.063520288087448, -6.063520288087448], [-5.773506167209048, -5.773506167209048, -5.773506167209048, -5.773506167209048, -5.773506167209048, -5.773506167209048, -5.773506167209048, -5.773506167209048, -5.773506167209048, -5.773506167209048, -5.773506167209048, -5.773506167209048, -5.773506167209048, -5.773506167209048, -5.773506167209048, -5.773506167209048, -5.773506167209048, -5.773506167209048, -5.773506167209048, -5.773506167209048, -5.773506167209048, -5.773506167209048, -5.773506167209048, -5.773506167209048, -5.773506167209048, -5.773506167209048, -5.773506167209048, -5.773506167209048, -5.773506167209048, -5.773506167209048], [-5.48349204633065, -5.48349204633065, -5.48349204633065, -5.48349204633065, -5.48349204633065, -5.48349204633065, -5.48349204633065, -5.48349204633065, -5.48349204633065, -5.48349204633065, -5.48349204633065, -5.48349204633065, -5.48349204633065, -5.48349204633065, -5.48349204633065, -5.48349204633065, -5.48349204633065, -5.48349204633065, -5.48349204633065, -5.48349204633065, -5.48349204633065, -5.48349204633065, -5.48349204633065, -5.48349204633065, -5.48349204633065, -5.48349204633065, -5.48349204633065, -5.48349204633065, -5.48349204633065, -5.48349204633065], [-5.1934779254522505, -5.1934779254522505, -5.1934779254522505, -5.1934779254522505, -5.1934779254522505, -5.1934779254522505, -5.1934779254522505, -5.1934779254522505, -5.1934779254522505, -5.1934779254522505, -5.1934779254522505, -5.1934779254522505, -5.1934779254522505, -5.1934779254522505, -5.1934779254522505, -5.1934779254522505, -5.1934779254522505, -5.1934779254522505, -5.1934779254522505, -5.1934779254522505, -5.1934779254522505, -5.1934779254522505, -5.1934779254522505, -5.1934779254522505, -5.1934779254522505, -5.1934779254522505, -5.1934779254522505, -5.1934779254522505, -5.1934779254522505, -5.1934779254522505], [-4.9034638045738514, -4.9034638045738514, -4.9034638045738514, -4.9034638045738514, -4.9034638045738514, -4.9034638045738514, -4.9034638045738514, -4.9034638045738514, -4.9034638045738514, -4.9034638045738514, -4.9034638045738514, -4.9034638045738514, -4.9034638045738514, -4.9034638045738514, -4.9034638045738514, -4.9034638045738514, -4.9034638045738514, -4.9034638045738514, -4.9034638045738514, -4.9034638045738514, -4.9034638045738514, -4.9034638045738514, -4.9034638045738514, -4.9034638045738514, -4.9034638045738514, -4.9034638045738514, -4.9034638045738514, -4.9034638045738514, -4.9034638045738514, -4.9034638045738514], [-4.613449683695452, -4.613449683695452, -4.613449683695452, -4.613449683695452, -4.613449683695452, -4.613449683695452, -4.613449683695452, -4.613449683695452, -4.613449683695452, -4.613449683695452, -4.613449683695452, -4.613449683695452, -4.613449683695452, -4.613449683695452, -4.613449683695452, -4.613449683695452, -4.613449683695452, -4.613449683695452, -4.613449683695452, -4.613449683695452, -4.613449683695452, -4.613449683695452, -4.613449683695452, -4.613449683695452, -4.613449683695452, -4.613449683695452, -4.613449683695452, -4.613449683695452, -4.613449683695452, -4.613449683695452], [-4.323435562817053, -4.323435562817053, -4.323435562817053, -4.323435562817053, -4.323435562817053, -4.323435562817053, -4.323435562817053, -4.323435562817053, -4.323435562817053, -4.323435562817053, -4.323435562817053, -4.323435562817053, -4.323435562817053, -4.323435562817053, -4.323435562817053, -4.323435562817053, -4.323435562817053, -4.323435562817053, -4.323435562817053, -4.323435562817053, -4.323435562817053, -4.323435562817053, -4.323435562817053, -4.323435562817053, -4.323435562817053, -4.323435562817053, -4.323435562817053, -4.323435562817053, -4.323435562817053, -4.323435562817053], [-4.033421441938654, -4.033421441938654, -4.033421441938654, -4.033421441938654, -4.033421441938654, -4.033421441938654, -4.033421441938654, -4.033421441938654, -4.033421441938654, -4.033421441938654, -4.033421441938654, -4.033421441938654, -4.033421441938654, -4.033421441938654, -4.033421441938654, -4.033421441938654, -4.033421441938654, -4.033421441938654, -4.033421441938654, -4.033421441938654, -4.033421441938654, -4.033421441938654, -4.033421441938654, -4.033421441938654, -4.033421441938654, -4.033421441938654, -4.033421441938654, -4.033421441938654, -4.033421441938654, -4.033421441938654], [-3.743407321060255, -3.743407321060255, -3.743407321060255, -3.743407321060255, -3.743407321060255, -3.743407321060255, -3.743407321060255, -3.743407321060255, -3.743407321060255, -3.743407321060255, -3.743407321060255, -3.743407321060255, -3.743407321060255, -3.743407321060255, -3.743407321060255, -3.743407321060255, -3.743407321060255, -3.743407321060255, -3.743407321060255, -3.743407321060255, -3.743407321060255, -3.743407321060255, -3.743407321060255, -3.743407321060255, -3.743407321060255, -3.743407321060255, -3.743407321060255, -3.743407321060255, -3.743407321060255, -3.743407321060255], [-3.453393200181857, -3.453393200181857, -3.453393200181857, -3.453393200181857, -3.453393200181857, -3.453393200181857, -3.453393200181857, -3.453393200181857, -3.453393200181857, -3.453393200181857, -3.453393200181857, -3.453393200181857, -3.453393200181857, -3.453393200181857, -3.453393200181857, -3.453393200181857, -3.453393200181857, -3.453393200181857, -3.453393200181857, -3.453393200181857, -3.453393200181857, -3.453393200181857, -3.453393200181857, -3.453393200181857, -3.453393200181857, -3.453393200181857, -3.453393200181857, -3.453393200181857, -3.453393200181857, -3.453393200181857], [-3.163379079303458, -3.163379079303458, -3.163379079303458, -3.163379079303458, -3.163379079303458, -3.163379079303458, -3.163379079303458, -3.163379079303458, -3.163379079303458, -3.163379079303458, -3.163379079303458, -3.163379079303458, -3.163379079303458, -3.163379079303458, -3.163379079303458, -3.163379079303458, -3.163379079303458, -3.163379079303458, -3.163379079303458, -3.163379079303458, -3.163379079303458, -3.163379079303458, -3.163379079303458, -3.163379079303458, -3.163379079303458, -3.163379079303458, -3.163379079303458, -3.163379079303458, -3.163379079303458, -3.163379079303458], [-2.873364958425059, -2.873364958425059, -2.873364958425059, -2.873364958425059, -2.873364958425059, -2.873364958425059, -2.873364958425059, -2.873364958425059, -2.873364958425059, -2.873364958425059, -2.873364958425059, -2.873364958425059, -2.873364958425059, -2.873364958425059, -2.873364958425059, -2.873364958425059, -2.873364958425059, -2.873364958425059, -2.873364958425059, -2.873364958425059, -2.873364958425059, -2.873364958425059, -2.873364958425059, -2.873364958425059, -2.873364958425059, -2.873364958425059, -2.873364958425059, -2.873364958425059, -2.873364958425059, -2.873364958425059], [-2.58335083754666, -2.58335083754666, -2.58335083754666, -2.58335083754666, -2.58335083754666, -2.58335083754666, -2.58335083754666, -2.58335083754666, -2.58335083754666, -2.58335083754666, -2.58335083754666, -2.58335083754666, -2.58335083754666, -2.58335083754666, -2.58335083754666, -2.58335083754666, -2.58335083754666, -2.58335083754666, -2.58335083754666, -2.58335083754666, -2.58335083754666, -2.58335083754666, -2.58335083754666, -2.58335083754666, -2.58335083754666, -2.58335083754666, -2.58335083754666, -2.58335083754666, -2.58335083754666, -2.58335083754666], [-2.2933367166682608, -2.2933367166682608, -2.2933367166682608, -2.2933367166682608, -2.2933367166682608, -2.2933367166682608, -2.2933367166682608, -2.2933367166682608, -2.2933367166682608, -2.2933367166682608, -2.2933367166682608, -2.2933367166682608, -2.2933367166682608, -2.2933367166682608, -2.2933367166682608, -2.2933367166682608, -2.2933367166682608, -2.2933367166682608, -2.2933367166682608, -2.2933367166682608, -2.2933367166682608, -2.2933367166682608, -2.2933367166682608, -2.2933367166682608, -2.2933367166682608, -2.2933367166682608, -2.2933367166682608, -2.2933367166682608, -2.2933367166682608, -2.2933367166682608], [-2.0033225957898617, -2.0033225957898617, -2.0033225957898617, -2.0033225957898617, -2.0033225957898617, -2.0033225957898617, -2.0033225957898617, -2.0033225957898617, -2.0033225957898617, -2.0033225957898617, -2.0033225957898617, -2.0033225957898617, -2.0033225957898617, -2.0033225957898617, -2.0033225957898617, -2.0033225957898617, -2.0033225957898617, -2.0033225957898617, -2.0033225957898617, -2.0033225957898617, -2.0033225957898617, -2.0033225957898617, -2.0033225957898617, -2.0033225957898617, -2.0033225957898617, -2.0033225957898617, -2.0033225957898617, -2.0033225957898617, -2.0033225957898617, -2.0033225957898617], [-1.7133084749114627, -1.7133084749114627, -1.7133084749114627, -1.7133084749114627, -1.7133084749114627, -1.7133084749114627, -1.7133084749114627, -1.7133084749114627, -1.7133084749114627, -1.7133084749114627, -1.7133084749114627, -1.7133084749114627, -1.7133084749114627, -1.7133084749114627, -1.7133084749114627, -1.7133084749114627, -1.7133084749114627, -1.7133084749114627, -1.7133084749114627, -1.7133084749114627, -1.7133084749114627, -1.7133084749114627, -1.7133084749114627, -1.7133084749114627, -1.7133084749114627, -1.7133084749114627, -1.7133084749114627, -1.7133084749114627, -1.7133084749114627, -1.7133084749114627], [-1.4232943540330645, -1.4232943540330645, -1.4232943540330645, -1.4232943540330645, -1.4232943540330645, -1.4232943540330645, -1.4232943540330645, -1.4232943540330645, -1.4232943540330645, -1.4232943540330645, -1.4232943540330645, -1.4232943540330645, -1.4232943540330645, -1.4232943540330645, -1.4232943540330645, -1.4232943540330645, -1.4232943540330645, -1.4232943540330645, -1.4232943540330645, -1.4232943540330645, -1.4232943540330645, -1.4232943540330645, -1.4232943540330645, -1.4232943540330645, -1.4232943540330645, -1.4232943540330645, -1.4232943540330645, -1.4232943540330645, -1.4232943540330645, -1.4232943540330645], [-1.1332802331546639, -1.1332802331546639, -1.1332802331546639, -1.1332802331546639, -1.1332802331546639, -1.1332802331546639, -1.1332802331546639, -1.1332802331546639, -1.1332802331546639, -1.1332802331546639, -1.1332802331546639, -1.1332802331546639, -1.1332802331546639, -1.1332802331546639, -1.1332802331546639, -1.1332802331546639, -1.1332802331546639, -1.1332802331546639, -1.1332802331546639, -1.1332802331546639, -1.1332802331546639, -1.1332802331546639, -1.1332802331546639, -1.1332802331546639, -1.1332802331546639, -1.1332802331546639, -1.1332802331546639, -1.1332802331546639, -1.1332802331546639, -1.1332802331546639]], \"z\": [[-3.479077035747611, -3.533158463462144, -3.5872398911766767, -3.6413213188912095, -3.6954027466057418, -3.749484174320275, -3.8035656020348076, -3.8576470297493404, -3.9117284574638735, -3.965809885178406, -4.0198913128929386, -4.073972740607472, -4.128054168322004, -4.182135596036536, -4.2362170237510695, -4.290298451465603, -4.344379879180135, -4.398461306894668, -4.4525427346092, -4.5066241623237335, -4.560705590038266, -4.614787017752799, -4.668868445467332, -4.722949873181864, -4.777031300896397, -4.83111272861093, -4.885194156325463, -4.939275584039995, -4.993357011754528, -5.047438439469061], [-3.3252849906300748, -3.379366418344608, -3.4334478460591407, -3.487529273773674, -3.5416107014882057, -3.595692129202739, -3.6497735569172716, -3.7038549846318047, -3.7579364123463366, -3.8120178400608697, -3.8660992677754025, -3.9201806954899356, -3.9742621232044684, -4.028343550919001, -4.082424978633534, -4.136506406348066, -4.190587834062599, -4.244669261777132, -4.298750689491665, -4.352832117206197, -4.40691354492073, -4.460994972635263, -4.515076400349796, -4.569157828064328, -4.623239255778861, -4.677320683493394, -4.7314021112079265, -4.78548353892246, -4.839564966636992, -4.893646394351525], [-3.1714929455125374, -3.2255743732270705, -3.2796558009416032, -3.3337372286561364, -3.3878186563706683, -3.4419000840852014, -3.495981511799734, -3.5500629395142673, -3.6041443672288, -3.6582257949433323, -3.712307222657865, -3.7663886503723982, -3.820470078086931, -3.8745515058014632, -3.928632933515996, -3.982714361230529, -4.036795788945062, -4.090877216659595, -4.144958644374127, -4.19904007208866, -4.253121499803193, -4.307202927517726, -4.361284355232258, -4.415365782946791, -4.469447210661324, -4.523528638375857, -4.577610066090389, -4.631691493804921, -4.685772921519455, -4.739854349233988], [-3.0177009003950017, -3.0717823281095344, -3.125863755824067, -3.1799451835386003, -3.2340266112531326, -3.2881080389676653, -3.3421894666821985, -3.3962708943967312, -3.4503523221112635, -3.5044337498257963, -3.5585151775403294, -3.612596605254862, -3.666678032969395, -3.720759460683927, -3.7748408883984603, -3.828922316112993, -3.8830037438275258, -3.937085171542059, -3.9911665992565912, -4.045248026971124, -4.099329454685657, -4.153410882400189, -4.207492310114723, -4.261573737829255, -4.315655165543788, -4.36973659325832, -4.4238180209728535, -4.477899448687387, -4.531980876401919, -4.586062304116451], [-2.8639088552774647, -2.917990282991998, -2.9720717107065306, -3.0261531384210634, -3.080234566135596, -3.134315993850129, -3.1883974215646615, -3.2424788492791947, -3.2965602769937266, -3.3506417047082597, -3.4047231324227925, -3.4588045601373256, -3.5128859878518583, -3.5669674155663906, -3.6210488432809234, -3.6751302709954565, -3.7292116987099893, -3.783293126424522, -3.8373745541390543, -3.8914559818535874, -3.94553740956812, -3.999618837282653, -4.053700264997186, -4.107781692711718, -4.1618631204262515, -4.215944548140784, -4.270025975855317, -4.32410740356985, -4.378188831284382, -4.432270258998915], [-2.7101168101599282, -2.764198237874461, -2.818279665588994, -2.8723610933035264, -2.9264425210180596, -2.980523948732592, -3.034605376447125, -3.0886868041616578, -3.14276823187619, -3.1968496595907228, -3.250931087305256, -3.3050125150197887, -3.359093942734322, -3.4131753704488537, -3.467256798163387, -3.5213382258779196, -3.5754196535924527, -3.6295010813069855, -3.6835825090215177, -3.7376639367360505, -3.7917453644505836, -3.8458267921651164, -3.899908219879649, -3.9539896475941814, -4.008071075308714, -4.062152503023247, -4.11623393073778, -4.170315358452313, -4.224396786166845, -4.278478213881378], [-2.556324765042392, -2.6104061927569253, -2.664487620471458, -2.7185690481859908, -2.7726504759005235, -2.826731903615056, -2.880813331329589, -2.9348947590441217, -2.9889761867586544, -3.043057614473187, -3.09713904218772, -3.1512204699022526, -3.2053018976167857, -3.259383325331318, -3.3134647530458508, -3.3675461807603835, -3.4216276084749166, -3.4757090361894494, -3.5297904639039817, -3.5838718916185144, -3.6379533193330476, -3.6920347470475803, -3.7461161747621134, -3.800197602476646, -3.8542790301911785, -3.908360457905711, -3.9624418856202444, -4.016523313334776, -4.070604741049309, -4.1246861687638425], [-2.4025327199248556, -2.4566141476393883, -2.5106955753539215, -2.564777003068454, -2.618858430782987, -2.6729398584975192, -2.7270212862120524, -2.781102713926585, -2.835184141641118, -2.8892655693556506, -2.9433469970701833, -2.997428424784716, -3.0515098524992488, -3.1055912802137815, -3.1596727079283142, -3.213754135642847, -3.26783556335738, -3.321916991071913, -3.375998418786445, -3.430079846500978, -3.484161274215511, -3.5382427019300438, -3.5923241296445765, -3.6464055573591097, -3.700486985073642, -3.7545684127881747, -3.8086498405027074, -3.8627312682172397, -3.916812695931773, -3.9708941236463056], [-2.248740674807319, -2.302822102521852, -2.3569035302363845, -2.4109849579509173, -2.46506638566545, -2.5191478133799827, -2.5732292410945155, -2.6273106688090486, -2.681392096523581, -2.735473524238114, -2.7895549519526464, -2.8436363796671795, -2.897717807381712, -2.951799235096245, -3.0058806628107773, -3.0599620905253104, -3.114043518239843, -3.1681249459543763, -3.222206373668908, -3.2762878013834413, -3.330369229097974, -3.3844506568125072, -3.43853208452704, -3.4926135122415727, -3.546694939956105, -3.600776367670638, -3.654857795385171, -3.708939223099703, -3.763020650814236, -3.817102078528769], [-2.094948629689782, -2.1490300574043153, -2.203111485118848, -2.2571929128333807, -2.3112743405479135, -2.365355768262446, -2.419437195976979, -2.4735186236915117, -2.5276000514060444, -2.581681479120577, -2.63576290683511, -2.6898443345496426, -2.7439257622641753, -2.798007189978708, -2.8520886176932407, -2.9061700454077735, -2.9602514731223066, -3.014332900836839, -3.068414328551372, -3.122495756265905, -3.1765771839804375, -3.2306586116949703, -3.2847400394095034, -3.338821467124036, -3.3929028948385684, -3.446984322553101, -3.5010657502676343, -3.555147177982166, -3.6092286056966993, -3.663310033411232], [-1.9411565845722456, -1.9952380122867786, -2.0493194400013115, -2.103400867715844, -2.157482295430377, -2.2115637231449092, -2.2656451508594424, -2.319726578573975, -2.373808006288508, -2.4278894340030406, -2.4819708617175733, -2.536052289432106, -2.5901337171466388, -2.6442151448611715, -2.698296572575704, -2.752378000290237, -2.80645942800477, -2.8605408557193024, -2.9146222834338356, -2.9687037111483683, -3.022785138862901, -3.0768665665774337, -3.1309479942919665, -3.1850294220064996, -3.239110849721032, -3.2931922774355646, -3.3472737051500974, -3.4013551328646296, -3.455436560579163, -3.5095179882936955], [-1.7873645394547095, -1.8414459671692425, -1.8955273948837754, -1.949608822598308, -2.003690250312841, -2.0577716780273736, -2.1118531057419063, -2.165934533456439, -2.2200159611709718, -2.2740973888855045, -2.3281788166000372, -2.38226024431457, -2.4363416720291027, -2.4904230997436354, -2.544504527458168, -2.598585955172701, -2.652667382887234, -2.7067488106017663, -2.7608302383162995, -2.814911666030832, -2.868993093745365, -2.9230745214598977, -2.977155949174431, -3.031237376888963, -3.085318804603496, -3.1394002323180286, -3.1934816600325617, -3.2475630877470945, -3.3016445154616267, -3.3557259431761595], [-1.633572494337173, -1.6876539220517057, -1.7417353497662387, -1.7958167774807712, -1.8498982051953041, -1.9039796329098366, -1.9580610606243696, -2.0121424883389025, -2.0662239160534353, -2.120305343767968, -2.1743867714825007, -2.2284681991970334, -2.282549626911566, -2.336631054626099, -2.3907124823406316, -2.4447939100551643, -2.498875337769697, -2.55295676548423, -2.6070381931987625, -2.6611196209132957, -2.715201048627828, -2.769282476342361, -2.823363904056894, -2.8774453317714266, -2.931526759485959, -2.985608187200492, -3.0396896149150248, -3.0937710426295575, -3.1478524703440898, -3.201933898058623], [-1.4797804492196365, -1.5338618769341692, -1.5879433046487021, -1.6420247323632347, -1.6961061600777676, -1.7501875877923, -1.804269015506833, -1.8583504432213658, -1.9124318709358985, -1.9665132986504312, -2.0205947263649637, -2.074676154079497, -2.128757581794029, -2.1828390095085624, -2.2369204372230946, -2.291001864937628, -2.3450832926521605, -2.3991647203666933, -2.453246148081226, -2.5073275757957587, -2.5614090035102914, -2.615490431224824, -2.6695718589393573, -2.7236532866538896, -2.7777347143684223, -2.831816142082955, -2.8858975697974882, -2.9399789975120205, -2.9940604252265537, -3.0481418529410864], [-1.3259884041021004, -1.3800698318166331, -1.4341512595311658, -1.4882326872456986, -1.5423141149602315, -1.596395542674764, -1.650476970389297, -1.70455839810383, -1.7586398258183624, -1.8127212535328954, -1.8668026812474279, -1.9208841089619608, -1.9749655366764933, -2.0290469643910263, -2.083128392105559, -2.1372098198200917, -2.1912912475346245, -2.245372675249157, -2.29945410296369, -2.353535530678223, -2.4076169583927554, -2.4616983861072885, -2.5157798138218213, -2.569861241536354, -2.6239426692508863, -2.6780240969654194, -2.732105524679952, -2.786186952394485, -2.8402683801090176, -2.894349807823551], [-1.1721963589845636, -1.2262777866990964, -1.280359214413629, -1.334440642128162, -1.3885220698426948, -1.4426034975572275, -1.4966849252717602, -1.550766352986293, -1.6048477807008257, -1.6589292084153586, -1.7130106361298911, -1.767092063844424, -1.8211734915589566, -1.8752549192734895, -1.929336346988022, -1.983417774702555, -2.037499202417088, -2.0915806301316207, -2.1456620578461534, -2.199743485560686, -2.253824913275219, -2.3079063409897516, -2.3619877687042847, -2.416069196418817, -2.4701506241333497, -2.5242320518478825, -2.5783134795624156, -2.632394907276948, -2.686476334991481, -2.740557762706014], [-1.0184043138670273, -1.07248574158156, -1.1265671692960928, -1.1806485970106255, -1.2347300247251585, -1.2888114524396912, -1.342892880154224, -1.3969743078687566, -1.4510557355832894, -1.5051371632978223, -1.5592185910123548, -1.6133000187268878, -1.6673814464414203, -1.7214628741559532, -1.7755443018704862, -1.8296257295850187, -1.8837071572995516, -1.9377885850140841, -1.991870012728617, -2.04595144044315, -2.1000328681576823, -2.1541142958722155, -2.2081957235867478, -2.262277151301281, -2.316358579015813, -2.3704400067303464, -2.4245214344448787, -2.478602862159412, -2.5326842898739446, -2.5867657175884777], [-0.8646122687494907, -0.9186936964640234, -0.9727751241785562, -1.026856551893089, -1.080937979607622, -1.1350194073221547, -1.1891008350366874, -1.2431822627512201, -1.2972636904657529, -1.3513451181802856, -1.4054265458948183, -1.459507973609351, -1.5135894013238838, -1.5676708290384165, -1.6217522567529494, -1.675833684467482, -1.7299151121820149, -1.7839965398965474, -1.8380779676110803, -1.8921593953256133, -1.9462408230401458, -2.0003222507546785, -2.0544036784692112, -2.108485106183744, -2.1625665338982767, -2.2166479616128094, -2.270729389327342, -2.324810817041875, -2.378892244756408, -2.4329736724709408], [-0.7108202236319541, -0.7649016513464868, -0.8189830790610195, -0.8730645067755523, -0.9271459344900852, -0.9812273622046179, -1.0353087899191507, -1.0893902176336834, -1.143471645348216, -1.197553073062749, -1.2516345007772816, -1.3057159284918145, -1.359797356206347, -1.41387878392088, -1.4679602116354127, -1.5220416393499454, -1.5761230670644781, -1.6302044947790109, -1.6842859224935436, -1.7383673502080765, -1.792448777922609, -1.846530205637142, -1.9006116333516747, -1.9546930610662074, -2.00877448878074, -2.062855916495273, -2.1169373442098056, -2.1710187719243383, -2.2251001996388715, -2.2791816273534042], [-0.5570281785144178, -0.6111096062289505, -0.6651910339434832, -0.7192724616580161, -0.7733538893725488, -0.8274353170870815, -0.8815167448016142, -0.935598172516147, -0.9896796002306797, -1.0437610279452127, -1.0978424556597453, -1.1519238833742782, -1.2060053110888107, -1.2600867388033437, -1.3141681665178764, -1.368249594232409, -1.4223310219469418, -1.4764124496614746, -1.5304938773760073, -1.5845753050905402, -1.6386567328050727, -1.6927381605196057, -1.7468195882341386, -1.8009010159486711, -1.8549824436632036, -1.9090638713777366, -1.9631452990922695, -2.0172267268068023, -2.071308154521335, -2.1253895822358677], [-0.4032361333968811, -0.4573175611114138, -0.5113989888259466, -0.5654804165404793, -0.619561844255012, -0.6736432719695449, -0.7277246996840775, -0.7818061273986103, -0.835887555113143, -0.889968982827676, -0.9440504105422085, -0.9981318382567415, -1.052213265971274, -1.106294693685807, -1.1603761214003396, -1.2144575491148724, -1.268538976829405, -1.322620404543938, -1.3767018322584708, -1.4307832599730035, -1.4848646876875362, -1.538946115402069, -1.5930275431166019, -1.6471089708311346, -1.7011903985456671, -1.7552718262602, -1.8093532539747328, -1.8634346816892655, -1.9175161094037982, -1.9715975371183312], [-0.2494440882793451, -0.30352551599387784, -0.35760694370841056, -0.41168837142294334, -0.46576979913747607, -0.5198512268520089, -0.5739326545665415, -0.6280140822810744, -0.6820955099956071, -0.7361769377101399, -0.7902583654246725, -0.8443397931392055, -0.898421220853738, -0.9525026485682709, -1.0065840762828036, -1.0606655039973363, -1.114746931711869, -1.168828359426402, -1.2229097871409347, -1.2769912148554674, -1.3310726425700001, -1.385154070284533, -1.4392354979990658, -1.4933169257135985, -1.547398353428131, -1.601479781142664, -1.655561208857197, -1.7096426365717294, -1.7637240642862624, -1.8178054920007953], [-0.09565204316180842, -0.14973347087634115, -0.20381489859087387, -0.2578963263054067, -0.31197775401993944, -0.3660591817344722, -0.4201406094490049, -0.47422203716353767, -0.5283034648780705, -0.5823848925926033, -0.636466320307136, -0.6905477480216687, -0.7446291757362015, -0.7987106034507342, -0.8527920311652669, -0.9068734588797996, -0.9609548865943324, -1.0150363143088652, -1.069117742023398, -1.1231991697379307, -1.1772805974524634, -1.2313620251669963, -1.285443452881529, -1.3395248805960618, -1.3936063083105945, -1.4476877360251272, -1.50176916373966, -1.5558505914541927, -1.6099320191687256, -1.6640134468832586], [0.0581400019557279, 0.004058574241195174, -0.050022853473337556, -0.10410428118787036, -0.1581857089024031, -0.21226713661693591, -0.26634856433146853, -0.32042999204600137, -0.3745114197605341, -0.42859284747506693, -0.48267427518959966, -0.5367557029041324, -0.590837130618665, -0.6449185583331979, -0.6989999860477306, -0.7530814137622633, -0.8071628414767961, -0.861244269191329, -0.9153256969058617, -0.9694071246203945, -1.023488552334927, -1.07756998004946, -1.1316514077639928, -1.1857328354785255, -1.239814263193058, -1.293895690907591, -1.3479771186221237, -1.4020585463366564, -1.4561399740511893, -1.5102214017657223], [0.2119320470732645, 0.15785061935873176, 0.10376919164419904, 0.04968776392966622, -0.004393663784866508, -0.05847509149939932, -0.11255651921393196, -0.1666379469284648, -0.2207193746429975, -0.2748008023575303, -0.328882230072063, -0.3829636577865958, -0.4370450855011285, -0.49112651321566125, -0.5452079409301941, -0.5992893686447268, -0.6533707963592595, -0.7074522240737923, -0.7615336517883251, -0.8156150795028579, -0.8696965072173907, -0.9237779349319234, -0.9778593626464563, -1.031940790360989, -1.0860222180755217, -1.1401036457900544, -1.1941850735045871, -1.2482665012191199, -1.3023479289336526, -1.3564293566481855], [0.365724092190801, 0.31164266447626826, 0.25756123676173553, 0.20347980904720273, 0.14939838133267, 0.09531695361813718, 0.04123552590360454, -0.012845901810928276, -0.066927329525461, -0.12100875723999381, -0.17509018495452655, -0.2291716126690593, -0.283253040383592, -0.3373344680981248, -0.39141589581265757, -0.4454973235271903, -0.4995787512417231, -0.5536601789562559, -0.6077416066707886, -0.6618230343853213, -0.7159044620998541, -0.7699858898143869, -0.8240673175289196, -0.8781487452434525, -0.932230172957985, -0.9863116006725178, -1.0403930283870506, -1.0944744561015833, -1.148555883816116, -1.202637311530649], [0.5195161373083375, 0.4654347095938048, 0.41135328187927206, 0.3572718541647392, 0.3031904264502065, 0.2491089987356737, 0.19502757102114104, 0.14094614330660823, 0.0868647155920755, 0.032783287877542686, -0.021298139836990044, -0.07537956755152282, -0.1294609952660555, -0.18354242298058826, -0.23762385069512104, -0.29170527840965377, -0.3457867061241866, -0.39986813383871933, -0.4539495615532521, -0.5080309892677849, -0.5621124169823176, -0.6161938446968503, -0.6702752724113832, -0.7243567001259159, -0.7784381278404485, -0.8325195555549812, -0.8866009832695142, -0.9406824109840467, -0.9947638386985796, -1.0488452664131125], [0.673308182425874, 0.6192267547113413, 0.5651453269968085, 0.5110638992822757, 0.456982471567743, 0.4029010438532102, 0.3488196161386775, 0.29473818842414473, 0.240656760709612, 0.1865753329950792, 0.13249390528054644, 0.07841247756601369, 0.024331049851481, -0.02975037786305177, -0.08383180557758454, -0.1379132332921173, -0.19199466100665008, -0.24607608872118286, -0.30015751643571564, -0.35423894415024837, -0.40832037186478115, -0.4624017995793139, -0.5164832272938467, -0.5705646550083794, -0.6246460827229121, -0.6787275104374448, -0.7328089381519776, -0.7868903658665104, -0.8409717935810431, -0.8950532212955761], [0.8271002275434101, 0.7730187998288773, 0.7189373721143446, 0.6648559443998118, 0.610774516685279, 0.5566930889707462, 0.5026116612562136, 0.4485302335416808, 0.3944488058271481, 0.34036737811261525, 0.2862859503980825, 0.23220452268354974, 0.17812309496901707, 0.1240416672544843, 0.06996023953995152, 0.015878811825418778, -0.03820261588911401, -0.09228404360364678, -0.14636547131817956, -0.2004468990327123, -0.2545283267472451, -0.30860975446177785, -0.36269118217631063, -0.41677260989084336, -0.4708540376053759, -0.5249354653199088, -0.5790168930344416, -0.6330983207489743, -0.687179748463507, -0.74126117617804], [0.9808922726609475, 0.9268108449464147, 0.872729417231882, 0.8186479895173491, 0.7645665618028165, 0.7104851340882836, 0.656403706373751, 0.6023222786592182, 0.5482408509446854, 0.4941594232301526, 0.4400779955156199, 0.3859965678010871, 0.3319151400865544, 0.27783371237202165, 0.2237522846574889, 0.16967085694295614, 0.11558942922842336, 0.061508001513890596, 0.0074265737993578235, -0.04665485391517494, -0.10073628162970771, -0.1548177093442405, -0.20889913705877328, -0.262980564773306, -0.3170619924878386, -0.37114342020237134, -0.4252248479169042, -0.4793062756314369, -0.5333877033459697, -0.5874691310605026]]}, {\"line\": {\"width\": 6}, \"marker\": {\"size\": 1}, \"showlegend\": false, \"type\": \"scatter3d\", \"x\": [-2.1339951601259597, -0.10662186538103753], \"y\": [-1.9049146279088631, 0.2726893843526063], \"z\": [-1.2486254908114804, -0.5142253750215281]}, {\"line\": {\"width\": 6}, \"marker\": {\"size\": 1}, \"showlegend\": false, \"type\": \"scatter3d\", \"x\": [-2.632141027502986, -0.5206126659887712], \"y\": [-0.4598978823168711, 1.33148624690912], \"z\": [-3.0229987371752776, -2.510856872108762]}, {\"line\": {\"width\": 6}, \"marker\": {\"size\": 1}, \"showlegend\": false, \"type\": \"scatter3d\", \"x\": [-2.6111194173885, -0.32854275457372994], \"y\": [-3.6182375500848063, 0.8402603083152704], \"z\": [-3.4755489549556478, -1.5845250932115904]}],                        {\"autosize\": true, \"height\": 800, \"margin\": {\"b\": 10, \"l\": 10, \"pad\": 4, \"r\": 10, \"t\": 10}, \"paper_bgcolor\": \"White\", \"scene\": {\"aspectmode\": \"data\", \"camera\": {\"eye\": {\"x\": 1, \"y\": 1, \"z\": 1}}}, \"template\": {\"data\": {\"bar\": [{\"error_x\": {\"color\": \"#2a3f5f\"}, \"error_y\": {\"color\": \"#2a3f5f\"}, \"marker\": {\"line\": {\"color\": \"#E5ECF6\", \"width\": 0.5}}, \"type\": \"bar\"}], \"barpolar\": [{\"marker\": {\"line\": {\"color\": \"#E5ECF6\", \"width\": 0.5}}, \"type\": \"barpolar\"}], \"carpet\": [{\"aaxis\": {\"endlinecolor\": \"#2a3f5f\", \"gridcolor\": \"white\", \"linecolor\": \"white\", \"minorgridcolor\": \"white\", \"startlinecolor\": \"#2a3f5f\"}, \"baxis\": {\"endlinecolor\": \"#2a3f5f\", \"gridcolor\": \"white\", \"linecolor\": \"white\", \"minorgridcolor\": \"white\", \"startlinecolor\": \"#2a3f5f\"}, \"type\": \"carpet\"}], \"choropleth\": [{\"colorbar\": {\"outlinewidth\": 0, \"ticks\": \"\"}, \"type\": \"choropleth\"}], \"contour\": [{\"colorbar\": {\"outlinewidth\": 0, \"ticks\": \"\"}, \"colorscale\": [[0.0, \"#0d0887\"], [0.1111111111111111, \"#46039f\"], [0.2222222222222222, \"#7201a8\"], [0.3333333333333333, \"#9c179e\"], [0.4444444444444444, \"#bd3786\"], [0.5555555555555556, \"#d8576b\"], [0.6666666666666666, \"#ed7953\"], [0.7777777777777778, \"#fb9f3a\"], [0.8888888888888888, \"#fdca26\"], [1.0, \"#f0f921\"]], \"type\": \"contour\"}], \"contourcarpet\": [{\"colorbar\": {\"outlinewidth\": 0, \"ticks\": \"\"}, \"type\": \"contourcarpet\"}], \"heatmap\": [{\"colorbar\": {\"outlinewidth\": 0, \"ticks\": \"\"}, \"colorscale\": [[0.0, \"#0d0887\"], [0.1111111111111111, \"#46039f\"], [0.2222222222222222, \"#7201a8\"], [0.3333333333333333, \"#9c179e\"], [0.4444444444444444, \"#bd3786\"], [0.5555555555555556, \"#d8576b\"], [0.6666666666666666, \"#ed7953\"], [0.7777777777777778, \"#fb9f3a\"], [0.8888888888888888, \"#fdca26\"], [1.0, \"#f0f921\"]], \"type\": \"heatmap\"}], \"heatmapgl\": [{\"colorbar\": {\"outlinewidth\": 0, \"ticks\": \"\"}, \"colorscale\": [[0.0, \"#0d0887\"], [0.1111111111111111, \"#46039f\"], [0.2222222222222222, \"#7201a8\"], [0.3333333333333333, \"#9c179e\"], [0.4444444444444444, \"#bd3786\"], [0.5555555555555556, \"#d8576b\"], [0.6666666666666666, \"#ed7953\"], [0.7777777777777778, \"#fb9f3a\"], [0.8888888888888888, \"#fdca26\"], [1.0, \"#f0f921\"]], \"type\": \"heatmapgl\"}], \"histogram\": [{\"marker\": {\"colorbar\": {\"outlinewidth\": 0, \"ticks\": \"\"}}, \"type\": \"histogram\"}], \"histogram2d\": [{\"colorbar\": {\"outlinewidth\": 0, \"ticks\": \"\"}, \"colorscale\": [[0.0, \"#0d0887\"], [0.1111111111111111, \"#46039f\"], [0.2222222222222222, \"#7201a8\"], [0.3333333333333333, \"#9c179e\"], [0.4444444444444444, \"#bd3786\"], [0.5555555555555556, \"#d8576b\"], [0.6666666666666666, \"#ed7953\"], [0.7777777777777778, \"#fb9f3a\"], [0.8888888888888888, \"#fdca26\"], [1.0, \"#f0f921\"]], \"type\": \"histogram2d\"}], \"histogram2dcontour\": [{\"colorbar\": {\"outlinewidth\": 0, \"ticks\": \"\"}, \"colorscale\": [[0.0, \"#0d0887\"], [0.1111111111111111, \"#46039f\"], [0.2222222222222222, \"#7201a8\"], [0.3333333333333333, \"#9c179e\"], [0.4444444444444444, \"#bd3786\"], [0.5555555555555556, \"#d8576b\"], [0.6666666666666666, \"#ed7953\"], [0.7777777777777778, \"#fb9f3a\"], [0.8888888888888888, \"#fdca26\"], [1.0, \"#f0f921\"]], \"type\": \"histogram2dcontour\"}], \"mesh3d\": [{\"colorbar\": {\"outlinewidth\": 0, \"ticks\": \"\"}, \"type\": \"mesh3d\"}], \"parcoords\": [{\"line\": {\"colorbar\": {\"outlinewidth\": 0, \"ticks\": \"\"}}, \"type\": \"parcoords\"}], \"pie\": [{\"automargin\": true, \"type\": \"pie\"}], \"scatter\": [{\"marker\": {\"colorbar\": {\"outlinewidth\": 0, \"ticks\": \"\"}}, \"type\": \"scatter\"}], \"scatter3d\": [{\"line\": {\"colorbar\": {\"outlinewidth\": 0, \"ticks\": \"\"}}, \"marker\": {\"colorbar\": {\"outlinewidth\": 0, \"ticks\": \"\"}}, \"type\": \"scatter3d\"}], \"scattercarpet\": [{\"marker\": {\"colorbar\": {\"outlinewidth\": 0, \"ticks\": \"\"}}, \"type\": \"scattercarpet\"}], \"scattergeo\": [{\"marker\": {\"colorbar\": {\"outlinewidth\": 0, \"ticks\": \"\"}}, \"type\": \"scattergeo\"}], \"scattergl\": [{\"marker\": {\"colorbar\": {\"outlinewidth\": 0, \"ticks\": \"\"}}, \"type\": \"scattergl\"}], \"scattermapbox\": [{\"marker\": {\"colorbar\": {\"outlinewidth\": 0, \"ticks\": \"\"}}, \"type\": \"scattermapbox\"}], \"scatterpolar\": [{\"marker\": {\"colorbar\": {\"outlinewidth\": 0, \"ticks\": \"\"}}, \"type\": \"scatterpolar\"}], \"scatterpolargl\": [{\"marker\": {\"colorbar\": {\"outlinewidth\": 0, \"ticks\": \"\"}}, \"type\": \"scatterpolargl\"}], \"scatterternary\": [{\"marker\": {\"colorbar\": {\"outlinewidth\": 0, \"ticks\": \"\"}}, \"type\": \"scatterternary\"}], \"surface\": [{\"colorbar\": {\"outlinewidth\": 0, \"ticks\": \"\"}, \"colorscale\": [[0.0, \"#0d0887\"], [0.1111111111111111, \"#46039f\"], [0.2222222222222222, \"#7201a8\"], [0.3333333333333333, \"#9c179e\"], [0.4444444444444444, \"#bd3786\"], [0.5555555555555556, \"#d8576b\"], [0.6666666666666666, \"#ed7953\"], [0.7777777777777778, \"#fb9f3a\"], [0.8888888888888888, \"#fdca26\"], [1.0, \"#f0f921\"]], \"type\": \"surface\"}], \"table\": [{\"cells\": {\"fill\": {\"color\": \"#EBF0F8\"}, \"line\": {\"color\": \"white\"}}, \"header\": {\"fill\": {\"color\": \"#C8D4E3\"}, \"line\": {\"color\": \"white\"}}, \"type\": \"table\"}]}, \"layout\": {\"annotationdefaults\": {\"arrowcolor\": \"#2a3f5f\", \"arrowhead\": 0, \"arrowwidth\": 1}, \"autotypenumbers\": \"strict\", \"coloraxis\": {\"colorbar\": {\"outlinewidth\": 0, \"ticks\": \"\"}}, \"colorscale\": {\"diverging\": [[0, \"#8e0152\"], [0.1, \"#c51b7d\"], [0.2, \"#de77ae\"], [0.3, \"#f1b6da\"], [0.4, \"#fde0ef\"], [0.5, \"#f7f7f7\"], [0.6, \"#e6f5d0\"], [0.7, \"#b8e186\"], [0.8, \"#7fbc41\"], [0.9, \"#4d9221\"], [1, \"#276419\"]], \"sequential\": [[0.0, \"#0d0887\"], [0.1111111111111111, \"#46039f\"], [0.2222222222222222, \"#7201a8\"], [0.3333333333333333, \"#9c179e\"], [0.4444444444444444, \"#bd3786\"], [0.5555555555555556, \"#d8576b\"], [0.6666666666666666, \"#ed7953\"], [0.7777777777777778, \"#fb9f3a\"], [0.8888888888888888, \"#fdca26\"], [1.0, \"#f0f921\"]], \"sequentialminus\": [[0.0, \"#0d0887\"], [0.1111111111111111, \"#46039f\"], [0.2222222222222222, \"#7201a8\"], [0.3333333333333333, \"#9c179e\"], [0.4444444444444444, \"#bd3786\"], [0.5555555555555556, \"#d8576b\"], [0.6666666666666666, \"#ed7953\"], [0.7777777777777778, \"#fb9f3a\"], [0.8888888888888888, \"#fdca26\"], [1.0, \"#f0f921\"]]}, \"colorway\": [\"#636efa\", \"#EF553B\", \"#00cc96\", \"#ab63fa\", \"#FFA15A\", \"#19d3f3\", \"#FF6692\", \"#B6E880\", \"#FF97FF\", \"#FECB52\"], \"font\": {\"color\": \"#2a3f5f\"}, \"geo\": {\"bgcolor\": \"white\", \"lakecolor\": \"white\", \"landcolor\": \"#E5ECF6\", \"showlakes\": true, \"showland\": true, \"subunitcolor\": \"white\"}, \"hoverlabel\": {\"align\": \"left\"}, \"hovermode\": \"closest\", \"mapbox\": {\"style\": \"light\"}, \"paper_bgcolor\": \"white\", \"plot_bgcolor\": \"#E5ECF6\", \"polar\": {\"angularaxis\": {\"gridcolor\": \"white\", \"linecolor\": \"white\", \"ticks\": \"\"}, \"bgcolor\": \"#E5ECF6\", \"radialaxis\": {\"gridcolor\": \"white\", \"linecolor\": \"white\", \"ticks\": \"\"}}, \"scene\": {\"xaxis\": {\"backgroundcolor\": \"#E5ECF6\", \"gridcolor\": \"white\", \"gridwidth\": 2, \"linecolor\": \"white\", \"showbackground\": true, \"ticks\": \"\", \"zerolinecolor\": \"white\"}, \"yaxis\": {\"backgroundcolor\": \"#E5ECF6\", \"gridcolor\": \"white\", \"gridwidth\": 2, \"linecolor\": \"white\", \"showbackground\": true, \"ticks\": \"\", \"zerolinecolor\": \"white\"}, \"zaxis\": {\"backgroundcolor\": \"#E5ECF6\", \"gridcolor\": \"white\", \"gridwidth\": 2, \"linecolor\": \"white\", \"showbackground\": true, \"ticks\": \"\", \"zerolinecolor\": \"white\"}}, \"shapedefaults\": {\"line\": {\"color\": \"#2a3f5f\"}}, \"ternary\": {\"aaxis\": {\"gridcolor\": \"white\", \"linecolor\": \"white\", \"ticks\": \"\"}, \"baxis\": {\"gridcolor\": \"white\", \"linecolor\": \"white\", \"ticks\": \"\"}, \"bgcolor\": \"#E5ECF6\", \"caxis\": {\"gridcolor\": \"white\", \"linecolor\": \"white\", \"ticks\": \"\"}}, \"title\": {\"x\": 0.05}, \"xaxis\": {\"automargin\": true, \"gridcolor\": \"white\", \"linecolor\": \"white\", \"ticks\": \"\", \"title\": {\"standoff\": 15}, \"zerolinecolor\": \"white\", \"zerolinewidth\": 2}, \"yaxis\": {\"automargin\": true, \"gridcolor\": \"white\", \"linecolor\": \"white\", \"ticks\": \"\", \"title\": {\"standoff\": 15}, \"zerolinecolor\": \"white\", \"zerolinewidth\": 2}}}, \"width\": 1000},                        {\"responsive\": true}                    ).then(function(){\n",
       "                            \n",
       "var gd = document.getElementById('4b7da112-84a5-4af8-9cf8-943bd07fae39');\n",
       "var x = new MutationObserver(function (mutations, observer) {{\n",
       "        var display = window.getComputedStyle(gd).display;\n",
       "        if (!display || display === 'none') {{\n",
       "            console.log([gd, 'removed!']);\n",
       "            Plotly.purge(gd);\n",
       "            observer.disconnect();\n",
       "        }}\n",
       "}});\n",
       "\n",
       "// Listen for the removal of the full notebook cells\n",
       "var notebookContainer = gd.closest('#notebook-container');\n",
       "if (notebookContainer) {{\n",
       "    x.observe(notebookContainer, {childList: true});\n",
       "}}\n",
       "\n",
       "// Listen for the clearing of the current output cell\n",
       "var outputEl = gd.closest('.output');\n",
       "if (outputEl) {{\n",
       "    x.observe(outputEl, {childList: true});\n",
       "}}\n",
       "\n",
       "                        })                };                });            </script>        </div>"
      ]
     },
     "metadata": {},
     "output_type": "display_data"
    }
   ],
   "source": [
    "with ThreeDFigure() as fig: #trafo, back_trafo, swap_axes=\"xz\"\n",
    "    plane_offset = decision_plane.project([0,0,0]) #point where plane == plane.normal (plane doesn't need to go through [0,0,0])\n",
    "    fig.add_markers([0,0,0], size=3, name=\"origin\") #coordinate center\n",
    "    fig.add_markers(plane_offset, name=\"plane_offset\", color=\"yellow\")\n",
    "    fig.add_line(plane_offset+decision_plane.normal*minneg, plane_offset+decision_plane.normal*maxpos, name=\"plane_normal\") \n",
    "    for point, side in zip(X, y):\n",
    "        if trafo(point)[0] in [minneg, maxneg, minpos, maxpos]:\n",
    "            fig.add_markers(point, color=\"blue\" if side else \"red\", name=\"d=\"+str(trafo(point)[0]), size=3)\n",
    "            fig.add_line(point, back_trafo([0, trafo(point)[1], trafo(point)[2]]), name=\"^ len_d\",)            \n",
    "            fig.add_line(point, ortho_projection_affine(point, decision_plane.normal), name=\"^ proj\")\n",
    "        else:\n",
    "            fig.add_markers(point, color=\"blue\" if side else \"red\", name=str(trafo(point)[0]), showlegend=False)\n",
    "    xx, yy = make_meshgrid(minx=minx, miny=miny, maxx=maxx, maxy=maxy, margin=0.1)\n",
    "    fig.add_surface(xx, yy, decision_plane.z) #decision hyperplane\n",
    "    fig.add_sample_projections(X, decision_plane.normal, n_samples=3, showlegend=False)"
   ]
  },
  {
   "cell_type": "code",
   "execution_count": null,
   "metadata": {},
   "outputs": [],
   "source": [
    "with ThreeDFigure(trafo, back_trafo, swap_axes=\"xz\") as fig:\n",
    "    fig.add_markers([0,0,0], size=3, name=\"origin (original space)\") #coordinate center\n",
    "    fig.add_markers(back_trafo([0,0,0]), size=3, name=\"origin (new space)\") #coordinate center\n",
    "    plane_offset = decision_plane.project([0,0,0]) #point where plane == plane.normal\n",
    "    fig.add_markers(plane_offset, name=\"plane_offset\", color=\"yellow\")\n",
    "    fig.add_line(plane_offset+decision_plane.normal*minneg, plane_offset+decision_plane.normal*maxpos, name=\"plane_normal\") \n",
    "    for point, side in zip(X, y):\n",
    "        if trafo(point)[0] in [minneg, maxneg, minpos, maxpos]:\n",
    "            fig.add_markers(point, color=\"blue\" if side else \"red\", name=\"d=\"+str(trafo(point)[0]), size=3)\n",
    "            fig.add_line(point, back_trafo([0, trafo(point)[1], trafo(point)[2]]), name=\"^ len_d\",)            \n",
    "            fig.add_line(point, ortho_projection_affine(point, decision_plane.normal), name=\"^ proj\")\n",
    "        else:\n",
    "            fig.add_markers(point, color=\"blue\" if side else \"red\", name=str(trafo(point)[0]), showlegend=False)\n",
    "    xx, yy = make_meshgrid(minx=minx, miny=miny, maxx=maxx, maxy=maxy, margin=0.1)\n",
    "    fig.add_surface(xx, yy, decision_plane.z) #decision hyperplane\n",
    "    fig.add_sample_projections(X, decision_plane.normal, n_samples=3, showlegend=False)"
   ]
  },
  {
   "cell_type": "markdown",
   "metadata": {},
   "source": [
    "## include support-vectors in drawing (taking other SVM class!)"
   ]
  },
  {
   "cell_type": "code",
   "execution_count": null,
   "metadata": {},
   "outputs": [],
   "source": [
    "X, y = make_blobs(n_samples=80, centers=2, random_state=6, n_features=3)\n",
    "model = svm.SVC(kernel='linear', C=1).fit(X, y)\n",
    "print(\"Coefficients:\", model.coef_, \"Intercept:\", model.intercept_)\n",
    "decision_plane = Plane(*model.coef_[0], model.intercept_[0])\n",
    "\n",
    "trafo, back_trafo = make_base_changer(decision_plane)\n",
    "\n",
    "onto_plane = np.array([back_trafo([0, trafo(point)[1], trafo(point)[2]]) for point, side in zip(X, y)])\n",
    "minx, miny = onto_plane.min(axis=0)[:2]\n",
    "maxx, maxy = onto_plane.max(axis=0)[:2]\n",
    "\n",
    "z_vals = [trafo(point)[0] for point in X]\n",
    "minneg, maxneg = min(z_vals), max([i for i in z_vals if i < 0])\n",
    "minpos, maxpos = min([i for i in z_vals if i > 0]), max(z_vals)\n",
    "\n",
    "\n",
    "with ThreeDFigure() as fig: #trafo, back_trafo, swap_axes=\"xz\":\n",
    "    fig.add_markers([0,0,0], size=3, name=\"origin (original space)\") #coordinate center\n",
    "    plane_offset = decision_plane.project([0,0,0]) #point where plane == plane.normal\n",
    "    fig.add_markers(plane_offset, name=\"plane_offset\", color=\"yellow\")\n",
    "    fig.add_line(plane_offset+decision_plane.normal*minneg, plane_offset+decision_plane.normal*maxpos, name=\"plane_normal\") \n",
    "    for point, side in zip(X, y):\n",
    "        if trafo(point)[0] in [minneg, maxneg, minpos, maxpos]:\n",
    "            fig.add_markers(point, color=\"blue\" if side else \"red\", name=\"d=\"+str(trafo(point)[0]), size=3)\n",
    "            fig.add_line(point, back_trafo([0, trafo(point)[1], trafo(point)[2]]), name=\"^ len_d\",)            \n",
    "            fig.add_line(point, ortho_projection_affine(point, decision_plane.normal), name=\"^ proj\")\n",
    "        else:\n",
    "            fig.add_markers(point, color=\"blue\" if side else \"red\", name=str(trafo(point)[0]), showlegend=False)\n",
    "    xx, yy = make_meshgrid(minx=minx, miny=miny, maxx=maxx, maxy=maxy, margin=0.1)\n",
    "    fig.add_surface(xx, yy, decision_plane.z) #decision hyperplane\n",
    "    fig.add_markers([0,0,0], size=3, name=\"origin\") #coordinate center\n",
    "    fig.add_sample_projections(X, decision_plane.normal, n_samples=3, showlegend=False)\n",
    "    \n",
    "    #if hasattr(model, \"support_vectors_\"):\n",
    "    for n, point in enumerate(model.support_vectors_):\n",
    "        fig.add_markers(point, name=f\"support_vec_{n}\", marker={\"color\": None, \"size\": 2, \"line\": {\"width\": 3, \"color\": \"black\"}},)"
   ]
  },
  {
   "cell_type": "markdown",
   "metadata": {},
   "source": [
    "# Checking projection-methods & distance measures from point to projection"
   ]
  },
  {
   "cell_type": "code",
   "execution_count": null,
   "metadata": {},
   "outputs": [],
   "source": [
    "X, y = make_blobs(n_samples=80, centers=2, random_state=6, n_features=3)\n",
    "model = svm.SVC(kernel='linear', C=1).fit(X, y)\n",
    "print(\"Coefficients:\", model.coef_, \"Intercept:\", model.intercept_)\n",
    "\n",
    "decision_plane = Plane(*model.coef_[0], model.intercept_[0])\n",
    "forward, backward = make_base_changer(decision_plane)\n",
    "\n",
    "list(zip(y, X))[:10]"
   ]
  },
  {
   "cell_type": "code",
   "execution_count": null,
   "metadata": {},
   "outputs": [],
   "source": [
    "# helper functions\n",
    "def get_normalized_fn(orig_fn, all_mds, *more_args):\n",
    "    fmin, fmax = min(all_vals := [orig_fn(all_mds[i], *more_args) for i in range(len(all_mds))]), max(all_vals)\n",
    "    return lambda x: round(((orig_fn(x, *more_args)-fmin)/(fmax-fmin))*100, 2)\n",
    "\n",
    "get_both = lambda fn, all_mds, *more_args: (fn, get_normalized_fn(fn, all_mds, *more_args))\n",
    "\n",
    "vec_dist = lambda a, b: np.linalg.norm(a-b)"
   ]
  },
  {
   "cell_type": "markdown",
   "metadata": {},
   "source": [
    "### Now let's get to the actual projections/distances..."
   ]
  },
  {
   "cell_type": "code",
   "execution_count": null,
   "metadata": {},
   "outputs": [],
   "source": [
    "prototypicality_pre, prototypicality = get_both(lambda x, forwardproj: abs(forwardproj(x)[0]), X, forward)\n",
    "\n",
    "project_pre, project = get_both(lambda x, plane: vec_dist(plane.project(x), x), X, decision_plane)\n",
    "\n",
    "#see https://stackoverflow.com/a/17661431: distance = n * p + d\n",
    "project2_pre = lambda x, plane: np.dot(plane.normal, x) + plane.d  #This, nicely, returns 0 if on plane, something > 0 if in FRONT (side of normal) and something < 0 if BEHIND of plane.\n",
    "abs_project2_pre, abs_project2 = get_both(lambda x, plane: abs(np.dot(plane.normal, x) + plane.d), X, decision_plane)"
   ]
  },
  {
   "cell_type": "code",
   "execution_count": null,
   "metadata": {},
   "outputs": [],
   "source": [
    "#onto_plane =  p' = p - (n ⋅ p + d) * n  -- see https://stackoverflow.com/a/41897378\n",
    "\n",
    "quotients = [abs_project2_pre(x, decision_plane)/prototypicality_pre(x, forward) for x in X[:20]]\n",
    "assert np.isclose(min(quotients), max(quotients))\n",
    "#TODO figure out WHY the quotient between protypicality, proj-dist and abs-proj-dist-2 is the way it is and then correct this!!\n",
    "\n",
    "def onto_plane(x, plane, quotient):\n",
    "    #plane_dist = project2_pre(x, plane)\n",
    "    #plane_dist = project_pre(x, plane)\n",
    "    #plane_dist = prototypicality_pre(x, forwardproj) #hiermit klappts..\n",
    "    plane_dist = project2_pre(x, plane) / quotient\n",
    "    #TODO figure out WHY the quotient between protypicality, proj-dist and abs-proj-dist-2 is the way it is and then correct this!!\n",
    "    return x - plane_dist * plane.normal\n",
    "\n",
    "project3_pre, project3 = get_both(lambda x, plane, quotient: vec_dist(onto_plane(x, plane, quotient), x), X, decision_plane, quotients[0])"
   ]
  },
  {
   "cell_type": "code",
   "execution_count": null,
   "metadata": {},
   "outputs": [],
   "source": [
    "project_using_basechanger = lambda x, forwardproj, backwardproj: backwardproj([0, (transformed := forwardproj(x))[1], transformed[2]])\n",
    "project_using_project     = lambda x, plane: plane.project(x)\n",
    "project_using_project2_3  = lambda x, plane, quotient: onto_plane(x, plane, quotient)"
   ]
  },
  {
   "cell_type": "code",
   "execution_count": null,
   "metadata": {},
   "outputs": [],
   "source": [
    "for x in X[:10]:\n",
    "    print(\"Point:\", x, \"  reversed:\", project2_pre(x, decision_plane) > 0)\n",
    "    #print(\"Forward-x:\", forward(x))\n",
    "\n",
    "    print(\"  Normed Project:\", project(x))\n",
    "    print(\"  Normed Prototypicality:\", prototypicality(x))\n",
    "    print(\"  Normed abs projection Distance:\", abs_project2(x))\n",
    "    print(\"  Normed Distance Point & Projection3:\", project3(x))\n",
    "    print()\n",
    "\n",
    "    print(\"  Unnormed Project:\", project_pre(x, decision_plane))\n",
    "    print(\"  Unnormed Prototypicality:\", prototypicality_pre(x, forward))\n",
    "    print(\"  Projection Distance:\", project2_pre(x, decision_plane))\n",
    "    print(\"  Abs projection Distance:\", abs_project2_pre(x, decision_plane))\n",
    "    print(\"  Unnormed Distance Point <-> Projection3\", project3_pre(x, decision_plane, quotients[0]))\n",
    "    print()\n",
    "\n",
    "    print(\"  Quotient Prototypicality <-> Proj Dist:\", project_pre(x, decision_plane)/prototypicality_pre(x, forward))\n",
    "    print(\"  Quotient Prototypicality <-> Abs Proj Dist 2:\", abs_project2_pre(x, decision_plane)/prototypicality_pre(x, forward))\n",
    "    print(\"  Proj Dist <-> Abs Proj Dist 2:\", project_pre(x, decision_plane)/abs_project2_pre(x, decision_plane))\n",
    "    #TODO figure out WHY the quotient between protypicality, proj-dist and abs-proj-dist-2 is the way it is.\n",
    "    print()\n",
    "\n",
    "    print(\"  Projections are actually on the plane: \", project_using_basechanger(x, forward, backward) in decision_plane, project_using_project(x, decision_plane) in decision_plane, project_using_project2_3(x, decision_plane, quotients[0]) in decision_plane)\n",
    "    print(\"\\n\")"
   ]
  },
  {
   "cell_type": "code",
   "execution_count": null,
   "metadata": {},
   "outputs": [],
   "source": []
  },
  {
   "cell_type": "code",
   "execution_count": null,
   "metadata": {},
   "outputs": [],
   "source": [
    "#deleteme from here"
   ]
  },
  {
   "cell_type": "code",
   "execution_count": null,
   "metadata": {},
   "outputs": [],
   "source": [
    "def plane_proj(plane, point):\n",
    "    x, y, z = point\n",
    "    k = (plane.a * x + plane.b * y + plane.c * z + plane.d) / (plane.a ** 2 + plane.b ** 2 + plane.c ** 2)\n",
    "    k = 2*k\n",
    "    return np.array([x - k * plane.a, y - k * plane.b, z - k * plane.c])\n",
    "\n",
    "\n",
    "for x in X[:5]:\n",
    "    tmpproj = plane_proj(decision_plane, x)\n",
    "    print(vec_dist(x, tmpproj))\n",
    "    print(vec_dist(x, decision_plane.project(x)))\n",
    "    print()"
   ]
  },
  {
   "cell_type": "code",
   "execution_count": null,
   "metadata": {},
   "outputs": [],
   "source": [
    "def plane_proj(plane, point):\n",
    "    x, y, z = point\n",
    "    k = (plane.a * x + plane.b * y + plane.c * z + plane.d) / (plane.a ** 2 + plane.b ** 2 + plane.c ** 2)\n",
    "    return np.array([x - k * plane.a, y - k * plane.b, z - k * plane.c])\n",
    "\n",
    "\n",
    "for x in X[:5]:\n",
    "    tmpproj = plane_proj(decision_plane, x)\n",
    "    print(vec_dist(x, tmpproj))\n",
    "    print(vec_dist(x, decision_plane.project(x)))\n",
    "    print()"
   ]
  },
  {
   "cell_type": "code",
   "execution_count": null,
   "metadata": {},
   "outputs": [],
   "source": [
    "project_using_basechanger = lambda x, forwardproj, backwardproj: backwardproj([0, (transformed := forwardproj(x))[1], transformed[2]])\n",
    "project_using_project     = lambda x, plane: plane.project(x)\n",
    "project_using_project2_3  = lambda x, plane, quotient: onto_plane(x, plane, quotient)"
   ]
  },
  {
   "cell_type": "code",
   "execution_count": null,
   "metadata": {},
   "outputs": [],
   "source": [
    "for x in X[:5]:\n",
    "    print(decision_plane.project(x), decision_plane.project(x) in decision_plane, vec_dist(decision_plane.project(x), x))\n",
    "    \n",
    "    tmp = np.dot(decision_plane.normal, x) + decision_plane.d \n",
    "    tmp = tmp/(decision_plane.a**2+decision_plane.b**2+decision_plane.c**2)\n",
    "    proj = x - tmp * decision_plane.normal\n",
    "    print(proj)\n",
    "    \n",
    "    \n",
    "    print()"
   ]
  },
  {
   "cell_type": "raw",
   "metadata": {},
   "source": [
    "For that, we first have to know how to project a point onto a plane in affine frames \n",
    "\t(TODO: explain affine frames)\n",
    "\tSoo, what we want to do is find the minimal distance from the point to the plane. The minimal distance is achieved by going orthogonally towards the plane (-> in the direction of the normal). So we gotta calculate HOW MUCH we have to go into the direction, and then go into the direction of the normal.\n",
    "\n",
    "\t```\n",
    "\t    def project(self, point):\n",
    "        x, y, z = point\n",
    "        k = (self.a * x + self.b * y + self.c * z + self.d) / (self.a ** 2 + self.b ** 2 + self.c ** 2)\n",
    "        return np.array([x - k * self.a, y - k * self.b, z - k * self.c])\n",
    "    ```\n",
    "\n",
    "    k is the \"how much\", a scalar. Why is that the value it is?!\n",
    "\n",
    "    Well, https://stackoverflow.com/a/17661431 here says the distance from a point to its projection onto the plane is np.dot(point, plane.normal)+d (...and the actual projection then `p-(np.dot(point, plane.normal)+d)*n`). ...UND DAS MUSS MAN EINFACH HINNEHMEN! That is almost the same, except it's not \"normalized\" by a²+b²+c².\n",
    "\n",
    "    What is the explanation of the difference from this to the result of using forward and backward??"
   ]
  },
  {
   "cell_type": "code",
   "execution_count": null,
   "metadata": {},
   "outputs": [],
   "source": [
    "#deleteme until here"
   ]
  }
 ],
 "metadata": {
  "kernelspec": {
   "display_name": "Python 3 (ipykernel)",
   "language": "python",
   "name": "python3"
  },
  "language_info": {
   "codemirror_mode": {
    "name": "ipython",
    "version": 3
   },
   "file_extension": ".py",
   "mimetype": "text/x-python",
   "name": "python",
   "nbconvert_exporter": "python",
   "pygments_lexer": "ipython3",
   "version": "3.10.0"
  }
 },
 "nbformat": 4,
 "nbformat_minor": 4
}
