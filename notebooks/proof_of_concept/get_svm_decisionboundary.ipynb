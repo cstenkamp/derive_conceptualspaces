{
 "cells": [
  {
   "cell_type": "code",
   "execution_count": null,
   "metadata": {},
   "outputs": [],
   "source": [
    "import numpy as np\n",
    "import matplotlib.pyplot as plt\n",
    "from sklearn import svm, datasets\n",
    "from sklearn.datasets import make_blobs\n",
    "import math"
   ]
  },
  {
   "cell_type": "code",
   "execution_count": null,
   "metadata": {},
   "outputs": [],
   "source": [
    "def create_iris_dataset(ndims):\n",
    "    iris = datasets.load_iris()\n",
    "    X = iris.data[:, :ndims]\n",
    "    y = iris.target\n",
    "    to_take_indices = list(set(np.arange(len(y)))-set(np.where(y==2)[0]))\n",
    "    X = X[to_take_indices]\n",
    "    y = y[to_take_indices]\n",
    "    return X, y"
   ]
  },
  {
   "cell_type": "markdown",
   "metadata": {},
   "source": [
    "# 2D"
   ]
  },
  {
   "cell_type": "code",
   "execution_count": null,
   "metadata": {},
   "outputs": [],
   "source": [
    "def make_meshgrid(x, y, h=.02):\n",
    "    \"\"\"Create a mesh of points to plot in\n",
    "\n",
    "    Parameters\n",
    "    ----------\n",
    "    x: data to base x-axis meshgrid on\n",
    "    y: data to base y-axis meshgrid on\n",
    "    h: stepsize for meshgrid, optional\n",
    "\n",
    "    Returns\n",
    "    -------\n",
    "    xx, yy : ndarray\n",
    "    \"\"\"\n",
    "    x_min, x_max = x.min() - 1, x.max() + 1\n",
    "    y_min, y_max = y.min() - 1, y.max() + 1\n",
    "    xx, yy = np.meshgrid(np.arange(x_min, x_max, h),\n",
    "                         np.arange(y_min, y_max, h))\n",
    "    return xx, yy\n",
    "\n",
    "\n",
    "def plot_contours(ax, clf, xx, yy, **params):\n",
    "    \"\"\"Plot the decision boundaries for a classifier.\n",
    "\n",
    "    Parameters\n",
    "    ----------\n",
    "    ax: matplotlib axes object\n",
    "    clf: a classifier\n",
    "    xx: meshgrid ndarray\n",
    "    yy: meshgrid ndarray\n",
    "    params: dictionary of params to pass to contourf, optional\n",
    "    \"\"\"\n",
    "    Z = clf.predict(np.c_[xx.ravel(), yy.ravel()])\n",
    "    Z = Z.reshape(xx.shape)\n",
    "    out = ax.contourf(xx, yy, Z, **params)\n",
    "    return out"
   ]
  },
  {
   "cell_type": "code",
   "execution_count": null,
   "metadata": {},
   "outputs": [],
   "source": [
    "X, y = create_iris_dataset(ndims=2)\n",
    "\n",
    "#...different dataset (you may comment me out):\n",
    "#X, y = make_blobs(n_samples=80, centers=2, random_state=6)"
   ]
  },
  {
   "cell_type": "code",
   "execution_count": null,
   "metadata": {},
   "outputs": [],
   "source": [
    "def plot_all(X, model, title):\n",
    "    X0, X1 = X[:, 0], X[:, 1]\n",
    "    xx, yy = make_meshgrid(X0, X1)\n",
    "    fig, ax = plt.subplots(1,1)\n",
    "    plot_contours(ax, model, xx, yy, cmap=plt.cm.coolwarm, alpha=0.8)\n",
    "    ax.scatter(X0, X1, c=y, cmap=plt.cm.coolwarm, s=20, edgecolors='k')\n",
    "    ax.set_xlim(xx.min(), xx.max())\n",
    "    ax.set_ylim(yy.min(), yy.max())\n",
    "    ax.set_xlabel('Sepal length')\n",
    "    ax.set_ylabel('Sepal width')\n",
    "    ax.set_title(title)\n",
    "    plt.show()\n",
    "    return ax.get_xlim(), ax.get_ylim()\n",
    "    \n",
    "\n",
    "def plot_all_2(X, model, title):\n",
    "    plt.scatter(X[:, 0], X[:, 1], c=y, s=30, cmap=plt.cm.Paired)\n",
    "    ax = plt.gca()\n",
    "    xlim = ax.get_xlim()\n",
    "    ylim = ax.get_ylim()\n",
    "\n",
    "    # create grid to evaluate model\n",
    "    xx = np.linspace(xlim[0], xlim[1], 30)\n",
    "    yy = np.linspace(ylim[0], ylim[1], 30)\n",
    "    YY, XX = np.meshgrid(yy, xx)\n",
    "    xy = np.vstack([XX.ravel(), YY.ravel()]).T\n",
    "    Z = model.decision_function(xy).reshape(XX.shape)\n",
    "\n",
    "    # plot decision boundary and margins\n",
    "    ax.contour(XX, YY, Z, colors='k', levels=[-1, 0, 1], alpha=0.5, linestyles=['--', '-', '--'])\n",
    "    # plot support vectors\n",
    "    if hasattr(model, \"support_vectors_\"):\n",
    "        ax.scatter(model.support_vectors_[:, 0], model.support_vectors_[:, 1], s=100, linewidth=1, facecolors='none', edgecolors='k')\n",
    "    ax.set_title(title)\n",
    "    plt.show()"
   ]
  },
  {
   "cell_type": "code",
   "execution_count": null,
   "metadata": {},
   "outputs": [],
   "source": [
    "model = svm.LinearSVC(C=1, max_iter=10000).fit(X, y)\n",
    "print(\"Coefficients:\", model.coef_, \"Intercept:\", model.intercept_)\n",
    "xlim, ylim = plot_all(X, model, title='LinearSVC (linear kernel)')\n",
    "plot_all_2(X, model, title='LinearSVC (linear kernel)')"
   ]
  },
  {
   "cell_type": "code",
   "execution_count": null,
   "metadata": {},
   "outputs": [],
   "source": [
    "model = svm.SVC(kernel='linear', C=1).fit(X, y)\n",
    "print(\"Coefficients:\", model.coef_, \"Intercept:\", model.intercept_)\n",
    "xlim, ylim = plot_all(X, model, title='LinearSVC (linear kernel)')\n",
    "plot_all_2(X, model, title='LinearSVC (linear kernel)')"
   ]
  },
  {
   "cell_type": "code",
   "execution_count": null,
   "metadata": {
    "tags": []
   },
   "outputs": [],
   "source": [
    "def abline(slope, intercept, xlim=(0,3), ylim=(0,3)):\n",
    "    \"\"\"Plot a line from slope and intercept\"\"\"\n",
    "    axes = plt.gca()\n",
    "    axes.set_xlim(xlim)\n",
    "    axes.set_ylim(ylim)\n",
    "    x_vals = np.array(axes.get_xlim())\n",
    "    y_vals = -intercept + slope * x_vals\n",
    "    plt.plot(x_vals, y_vals, '--')\n",
    "    \n",
    "\n",
    "def find_seperatrix(model):\n",
    "    W=model.coef_[0]\n",
    "    I=model.intercept_\n",
    "    a = -W[0]/W[1]\n",
    "    b = I[0]/W[1]\n",
    "    return a, b\n",
    "\n",
    "slope, intercept = find_seperatrix(model)\n",
    "\n",
    "print(slope, intercept)\n",
    "\n",
    "abline(slope, intercept, xlim, ylim)"
   ]
  },
  {
   "cell_type": "code",
   "execution_count": null,
   "metadata": {},
   "outputs": [],
   "source": [
    "x_vals = np.array(xlim)\n",
    "y_vals = -intercept + slope * x_vals\n",
    "points = [np.array(i) for i in zip(x_vals, y_vals)]\n",
    "\n",
    "vector = points[1]-points[0]\n",
    "\n",
    "print(points)\n",
    "print(vector)"
   ]
  },
  {
   "cell_type": "code",
   "execution_count": null,
   "metadata": {},
   "outputs": [],
   "source": [
    "def show_vectors(ax, vectors, vectors_with_start):\n",
    "    \"\"\"https://stackoverflow.com/a/42282532/5122790\"\"\"\n",
    "    HEAD_SIZE = 0.2\n",
    "    M = np.array(vectors)\n",
    "    colors = ['r','g','b','k','gray']\n",
    "    if vectors:\n",
    "        for i,l in enumerate(range(0,M.shape[0])):\n",
    "            ax.arrow(0,0,M[i,0],M[i,1],head_width=HEAD_SIZE,head_length=HEAD_SIZE,color = colors[i], length_includes_head=True)\n",
    "\n",
    "    colors = ['c','m','y']\n",
    "    if vectors_with_start:\n",
    "        for i,(xs,ys,xf,yf) in enumerate([(*i[0],*i[1]) for i in vectors_with_start]):\n",
    "            ax.arrow(xs,ys,xf,yf,head_width=HEAD_SIZE,head_length=HEAD_SIZE,color = colors[i], length_includes_head=True)\n",
    "\n",
    "    return ax"
   ]
  },
  {
   "cell_type": "code",
   "execution_count": null,
   "metadata": {},
   "outputs": [],
   "source": [
    "def ortho_proj(a,b):\n",
    "    #https://en.wikipedia.org/wiki/Vector_projection\n",
    "    a1_sc = np.dot(a,(b/np.linalg.norm(b)))\n",
    "    b_hat = b/np.linalg.norm(b)\n",
    "    a1 = a1_sc*b_hat\n",
    "    a2 = a-a1\n",
    "    return a2"
   ]
  },
  {
   "cell_type": "code",
   "execution_count": null,
   "metadata": {},
   "outputs": [],
   "source": [
    "center_point = points[0]+0.5*vector"
   ]
  },
  {
   "cell_type": "code",
   "execution_count": null,
   "metadata": {},
   "outputs": [],
   "source": [
    "print(ortho_proj(vector, center_point))"
   ]
  },
  {
   "cell_type": "code",
   "execution_count": null,
   "metadata": {},
   "outputs": [],
   "source": [
    "fig, ax = plt.subplots(figsize=(8,8))\n",
    "show_vectors(ax, [], [(points[0], vector), (center_point, ortho_proj(vector, center_point))])\n",
    "\n",
    "ax.plot(*center_point,'ok') \n",
    "ax.set_aspect('equal', 'box')\n",
    "plt.grid(b=True, which='major')\n",
    "\n",
    "plt.xlim(xlim)\n",
    "plt.ylim(ylim)\n",
    "plt.show()"
   ]
  },
  {
   "cell_type": "code",
   "execution_count": null,
   "metadata": {},
   "outputs": [],
   "source": [
    "print(model.coef_[0])\n",
    "print(center_point+model.coef_[0])"
   ]
  },
  {
   "cell_type": "code",
   "execution_count": null,
   "metadata": {},
   "outputs": [],
   "source": [
    "fig, ax = plt.subplots(figsize=(8,8))\n",
    "show_vectors(ax, [], [(points[0], vector), (center_point, ortho_proj(vector, center_point)), (center_point, model.coef_[0])])\n",
    "\n",
    "ax.plot(*center_point,'ok') \n",
    "ax.set_aspect('equal', 'box')\n",
    "plt.grid(b=True, which='major')\n",
    "\n",
    "plt.xlim(xlim)\n",
    "plt.ylim(ylim)\n",
    "plt.show()"
   ]
  },
  {
   "cell_type": "markdown",
   "metadata": {},
   "source": [
    "# 3D"
   ]
  },
  {
   "cell_type": "code",
   "execution_count": null,
   "metadata": {},
   "outputs": [],
   "source": [
    "#https://stackoverflow.com/a/51301399/5122790, https://stackoverflow.com/a/69407977/5122790 !!!\n",
    "import plotly.express as px\n",
    "import plotly.graph_objects as go\n",
    "from mpl_toolkits import mplot3d\n",
    "from dataclasses import dataclass"
   ]
  },
  {
   "cell_type": "code",
   "execution_count": null,
   "metadata": {},
   "outputs": [],
   "source": [
    "X, y = create_iris_dataset(ndims=3)\n",
    "model = svm.LinearSVC(C=1, max_iter=10000).fit(X, y)\n",
    "print(\"Coefficients:\", model.coef_, \"Intercept:\", model.intercept_)"
   ]
  },
  {
   "cell_type": "code",
   "execution_count": null,
   "metadata": {},
   "outputs": [],
   "source": [
    "fig = plt.figure(figsize=(8, 6))\n",
    "ax = plt.axes(projection='3d')\n",
    "ax.scatter(X[:,0], X[:,1], X[:,2], color=[\"r\" if i==0 else \"b\" for i in y])\n",
    "plt.show()"
   ]
  },
  {
   "cell_type": "code",
   "execution_count": null,
   "metadata": {},
   "outputs": [],
   "source": [
    "def make_meshgrid(X=None, minx=None, miny=None, maxx=None, maxy=None, size=None, amount=30, margin=0):\n",
    "    assert X is not None or (minx is not None and miny is not None and maxx is not None and maxy is not None) or size is not None\n",
    "    if X is not None:\n",
    "        minx = min(X[:,0]) if minx is None or min(X[:,0])<minx else minx\n",
    "        miny = min(X[:,1]) if miny is None or min(X[:,1])<miny else miny\n",
    "        maxx = max(X[:,0]) if maxx is None or max(X[:,0])>maxx else maxx\n",
    "        maxy = max(X[:,1]) if maxy is None or max(X[:,1])>maxy else maxy\n",
    "    elif size is not None and (minx is None and miny is None and maxx is None and maxy is None):\n",
    "        minx = miny = -size\n",
    "        maxx = maxy = size\n",
    "    lsx = np.linspace(minx-margin, maxx+margin, amount)\n",
    "    lsy = np.linspace(miny-margin, maxy+margin, amount)\n",
    "    xx, yy = np.meshgrid(lsx,lsy)\n",
    "    return xx, yy\n",
    "\n",
    "\n",
    "def plot_3d_boundary(clf):\n",
    "    # The equation of the separating plane is given by all x so that np.dot(svc.coef_[0], x) + b = 0.\n",
    "    # Solve for w3 (z)\n",
    "    z = lambda clf, x,y: (-clf.intercept_[0]-clf.coef_[0][0]*x -clf.coef_[0][1]*y) / clf.coef_[0][2]\n",
    "    # https://stackoverflow.com/a/51301399/5122790 !!!\n",
    "\n",
    "    xx, yy = make_meshgrid(X)\n",
    "\n",
    "    fig = plt.figure()\n",
    "    ax  = fig.add_subplot(111, projection='3d')\n",
    "    ax.plot3D(X[y==0,0], X[y==0,1], X[y==0,2],'ob')\n",
    "    ax.plot3D(X[y==1,0], X[y==1,1], X[y==1,2],'sr')\n",
    "    ax.plot_surface(xx, yy, z(clf,xx,yy))\n",
    "    ax.view_init(30, 60)\n",
    "    plt.show()\n",
    "    \n",
    "plot_3d_boundary(model)"
   ]
  },
  {
   "cell_type": "code",
   "execution_count": null,
   "metadata": {},
   "outputs": [],
   "source": [
    "def ortho_projection_affine(a, b):\n",
    "    \"\"\"https://en.wikipedia.org/wiki/Vector_projection\"\"\"\n",
    "    return np.dot(np.dot(a,b)/np.dot(b,b),b)\n",
    "\n",
    "class ThreeDFigure():\n",
    "    def __init__(self, trafo_fn=None, back_trafo_fn=None, swap_axes=None):\n",
    "        self.trafo_fn = trafo_fn if trafo_fn is not None else lambda x: x\n",
    "        self.back_trafo_fn = back_trafo_fn if back_trafo_fn is not None else lambda x: x\n",
    "        self.swap_axes = swap_axes\n",
    "        #https://community.plotly.com/t/creating-a-3d-scatterplot-with-equal-scale-along-all-axes/15108/7\n",
    "        self.fig = go.Figure(layout=go.Layout(\n",
    "                        scene=dict(camera=dict(eye=dict(x=1, y=1, z=1)), aspectmode=\"data\"),\n",
    "                        autosize=True,\n",
    "                        width=1000,\n",
    "                        height=800,\n",
    "                        margin=dict(l=10, r=10, b=10, t=10, pad=4),\n",
    "                        paper_bgcolor=\"White\"))\n",
    "        \n",
    "    def _transform(self, points, inverse=False):\n",
    "        trafo_fn = self.back_trafo_fn if inverse else self.trafo_fn              \n",
    "        points = np.array([trafo_fn(point) for point in points])    \n",
    "        if self.swap_axes:\n",
    "            points = self._swap_axes(points, self.swap_axes)\n",
    "        return points\n",
    "    \n",
    "    def _swap_axes(self, points, swap_axes):\n",
    "        swap_translate = {\"x\": 0, \"y\": 1, \"z\": 2}\n",
    "        ind1, ind2 = swap_translate[swap_axes[0]], swap_translate[swap_axes[1]]\n",
    "        tmp = points[:,ind1].copy()\n",
    "        points[:,ind1] = points[:,ind2]\n",
    "        points[:,ind2] = tmp\n",
    "        return points\n",
    "    \n",
    "                    \n",
    "    def add_surface(self, xx, yy, z_func, swap_axes=None, opacity=None):\n",
    "        xy_arr = np.vstack([xx.flatten(), yy.flatten()]).T\n",
    "        z_arr = np.array([z_func(*i) for i in xy_arr])\n",
    "        points = np.column_stack([xy_arr, z_arr])\n",
    "        points = self._transform(points)\n",
    "        if swap_axes: \n",
    "            points = self._swap_axes(points, swap_axes)\n",
    "        surface_form = lambda x: x.reshape(round(math.sqrt(x.shape[0])),-1)\n",
    "        self.fig.add_trace(go.Surface(x=surface_form(points[:,0]), y=surface_form(points[:,1]), z=surface_form(points[:,2]), opacity=opacity, showlegend=False, showscale=False))\n",
    "    \n",
    "    \n",
    "    def add_line(self, point1, point2, width=6, do_transform=True, name=None, **kwargs):\n",
    "        if do_transform:\n",
    "            point1 = self._transform(np.array([point1])).squeeze()\n",
    "            point2 = self._transform(np.array([point2])).squeeze()\n",
    "        self.fig.add_trace(\n",
    "            go.Scatter3d(x = [point1[0], point2[0]],\n",
    "                         y = [point1[1], point2[1]],\n",
    "                         z = [point1[2], point2[2]],\n",
    "                         marker = dict(size = 1),\n",
    "                         line = dict(width = width),\n",
    "                         name=name,\n",
    "                         **kwargs\n",
    "                         )\n",
    "        )\n",
    "        \n",
    "    def add_markers(self, points, color=\"black\", size=2, name=None, **kwargs):\n",
    "        points = np.array(points)\n",
    "        if points.ndim == 1: points = np.array([points])\n",
    "        points = self._transform(points)\n",
    "        default_args = dict(mode=\"markers\", x=points[:,0], y=points[:,1], z=points[:,2], marker={\"color\": color, \"size\": size, \"line\": {\"width\": 0}}, name=name)\n",
    "        self.fig.add_trace(go.Scatter3d(**{**default_args, **kwargs}))\n",
    "        \n",
    "    \n",
    "    def add_sample_projections(self, X, onto, n_samples=10, **kwargs):\n",
    "        show_vecs = X[np.random.choice(X.shape[0], n_samples, replace=False), :]\n",
    "        for point in show_vecs:\n",
    "            proj = ortho_projection_affine(point, onto)\n",
    "            self.add_line(point, proj, **kwargs)\n",
    "            \n",
    "    \n",
    "    def __enter__(self, *args):\n",
    "        return self\n",
    "    \n",
    "    def __exit__(self, exc_type, exc, exc_tb):\n",
    "        if not exc_type:\n",
    "            display(self.fig)\n",
    "    "
   ]
  },
  {
   "cell_type": "code",
   "execution_count": null,
   "metadata": {},
   "outputs": [],
   "source": [
    "@dataclass\n",
    "class Plane:\n",
    "    a: float\n",
    "    b: float\n",
    "    c: float\n",
    "    d: float\n",
    "    \n",
    "    @property\n",
    "    def normal(self):\n",
    "        return np.array([self.a, self.b, self.c])\n",
    "    \n",
    "    def __contains__(self, point:np.array):\n",
    "        return np.isclose(self.a*point[0] + self.b*point[1] + self.c*point[2] + self.d, 0)\n",
    "    \n",
    "    def project(self, point):\n",
    "        x,y,z = point\n",
    "        k = (self.a*x + self.b*y + self.c*z + self.d)/(self.a**2 + self.b**2 + self.c**2)\n",
    "        return np.array([x - k*self.a, y-k*self.b, z-k*self.c])\n",
    "   \n",
    "    def z(self, x, y):\n",
    "        return (- self.d - self.b*y - self.a*x)/self.c"
   ]
  },
  {
   "cell_type": "code",
   "execution_count": null,
   "metadata": {},
   "outputs": [],
   "source": [
    "decision_plane = Plane(*model.coef_[0], model.intercept_[0])\n",
    "\n",
    "with ThreeDFigure() as fig:\n",
    "    fig.add_markers(X, color=y) #samples\n",
    "    xx, yy = make_meshgrid(X, margin=1)\n",
    "    fig.add_surface(xx, yy, decision_plane.z) #decision hyperplane\n",
    "    fig.add_line(X.mean(axis=0)-decision_plane.normal, X.mean(axis=0)+decision_plane.normal) #orthogonal of decision hyperplane through mean of points\n",
    "    fig.add_markers([0,0,0], size=3) #coordinate center\n",
    "    \n",
    "    fig.add_line(-decision_plane.normal*5, decision_plane.normal*5) #orthogonal of decision hyperplane through [0,0,0]\n",
    "    fig.add_sample_projections(X, decision_plane.normal) #orthogonal lines from the samples onto the decision hyperplane orthogonal"
   ]
  },
  {
   "cell_type": "code",
   "execution_count": null,
   "metadata": {},
   "outputs": [],
   "source": [
    "X, y = make_blobs(n_samples=80, centers=2, random_state=6, n_features=3)\n",
    "model = svm.LinearSVC(C=1, max_iter=10000).fit(X, y)\n",
    "print(\"Coefficients:\", model.coef_, \"Intercept:\", model.intercept_)\n",
    "decision_plane = Plane(*model.coef_[0], model.intercept_[0])\n",
    "\n",
    "with ThreeDFigure() as fig:\n",
    "    fig.add_markers(X, color=y) #samples\n",
    "    xx, yy = make_meshgrid(X, margin=1)\n",
    "    fig.add_surface(xx, yy, decision_plane.z) #decision hyperplane\n",
    "    fig.add_line(X.mean(axis=0)-decision_plane.normal, X.mean(axis=0)+decision_plane.normal) #orthogonal of decision hyperplane through mean of points\n",
    "    fig.add_markers([0,0,0], size=3) #coordinate center\n",
    "    \n",
    "    fig.add_line(-decision_plane.normal*5, decision_plane.normal*5) #orthogonal of decision hyperplane through [0,0,0]\n",
    "    fig.add_sample_projections(X, decision_plane.normal) #orthogonal lines from the samples onto the decision hyperplane orthogonal"
   ]
  },
  {
   "cell_type": "markdown",
   "metadata": {},
   "source": [
    "* I'm having so many apparently hard-to-solve problems - the decision-boundary for example goes from (minx,miny) to (maxx,maxy), with the corresponding z-coordinate. However that's superflous, it may become waaay to big there, because the original x/y/z coordinate system is irrelevant! The size of the decision surface is constrained instead rather by the circle of all lines that go through a point and in parallel to the orthogonal of the decision surface. But to figure out the size of the decision boundary from that is far from trivial - again because I always need the translation from the irrelevant acutal xyz-coordinate system to the coordinate system which is relevant for me, which is one in which the decision surface has two coordinate values equal to zero. If I do that, every other calculation becomes trivial!!\n",
    "* Same holds for the problem \"how long should the decisionsurface-orthogonal be\" - calculating it now is hard, but once we have translated the coordinate system it's just the min/max z-coordinate!"
   ]
  },
  {
   "cell_type": "code",
   "execution_count": null,
   "metadata": {},
   "outputs": [],
   "source": [
    "X, y = make_blobs(n_samples=80, centers=2, random_state=6, n_features=3)\n",
    "model = svm.LinearSVC(C=1, max_iter=10000).fit(X, y)\n",
    "print(\"Coefficients:\", model.coef_, \"Intercept:\", model.intercept_)\n",
    "decision_plane = Plane(*model.coef_[0], model.intercept_[0])\n",
    "\n",
    "\n",
    "with ThreeDFigure() as fig:\n",
    "    fig.add_markers(X, color=y) #samples\n",
    "    xx, yy = make_meshgrid(X, margin=1)\n",
    "    fig.add_surface(xx, yy, decision_plane.z) #decision hyperplane\n",
    "    fig.add_line([0,0,0], decision_plane.normal*100) #orthogonal of decision hyperplane through mean of points\n",
    "    fig.add_markers([0,0,0], size=3) #coordinate center\n",
    "    \n",
    "    for point, side in zip(X, y):\n",
    "        fig.add_line(point, point-decision_plane.normal*100 if side else point+decision_plane.normal*100)\n"
   ]
  },
  {
   "cell_type": "code",
   "execution_count": null,
   "metadata": {},
   "outputs": [],
   "source": [
    "def normalize(vec):\n",
    "    return vec/np.linalg.norm(vec)"
   ]
  },
  {
   "cell_type": "code",
   "execution_count": null,
   "metadata": {},
   "outputs": [],
   "source": [
    "decision_plane = Plane(*model.coef_[0], model.intercept_[0])\n",
    "vec = normalize(decision_plane.normal)\n",
    "print(\"Original Vec:\", vec)\n",
    "\n",
    "with ThreeDFigure() as fig:\n",
    "    #coordinate system\n",
    "    fig.add_surface(*make_meshgrid(size=1), lambda _,__: 0, opacity=0.3)\n",
    "    fig.add_surface(*make_meshgrid(size=1), lambda _,__: 0, swap_axes=\"xz\", opacity=0.3)\n",
    "    fig.add_surface(*make_meshgrid(size=1), lambda _,__: 0, swap_axes=\"yz\", opacity=0.3)    \n",
    "    fig.add_line([-1,0,0], [1,0,0])\n",
    "    fig.add_line([0,-1,0], [0,1,0])\n",
    "    fig.add_line([0,0,-1], [0,0,1])\n",
    "    \n",
    "    #vec and its projections\n",
    "    fig.add_line([0,0,0], vec, width=12)\n",
    "    fig.add_line([0,0,0], [0, vec[1], vec[2]])\n",
    "    fig.add_line([0,0,0], [vec[0], 0, vec[2]])\n",
    "    fig.add_line([0,0,0], [vec[0], vec[1], 0])\n"
   ]
  },
  {
   "cell_type": "raw",
   "metadata": {},
   "source": [
    "z      = -i[0]-c[0]*x -c[1]*y) / c[2]  | *c[2]\n",
    "z*c[2] = -i[0]-c[0]*x -c[1]*y          | +i[0] | -c[2]*z\n",
    "i[0]   = -c[0]*x - c[1]*y - c[2]*z\n",
    "\n",
    "0   = c[0]*x + c[1]*y + c[2]*z + i[0]\n",
    "0   = i + ax + by + cz\n",
    "\n",
    "warum ist das so?\n",
    "-> das innere produkt von 2 orthogonalen vektoren ist 0. Das heißt, der vektor der im selben punkt wie der normalenvektor anfängt, und zu einem beliebigen punkt auf der Ebene zeigt ist immer orthogonal zur orthogonalen.\n",
    "-> Tafelwerk, ebenendarstellung! Allgemeine form ax+by+cz=d\n",
    "\n",
    "Die Decision Hyperplane ist immer n-2 dimensional (plane bei 3d, gerade bei 2d).\n",
    "Die Orthogonale ist... was? immer 2D? Ist sie zumindest bei 3d und bei 2d.\n",
    "\n",
    "Was ist d?? \n",
    "Naja, hauen wir einen stift durch ein papier. Das papier ist die hyperplane, und die position dieser hp ist durch die ausrichtung des stiftes (->vector der orthogonalen) fast eineutig definiert, der einzige degree of freedom ist WO AUF DEM STIFT das papier ist. Der Stift selbst ist 1D (strich) --> d ist ein Skalar. Durch Richtung des stifts und position auf dem stift ist die ebene eindeutig definiert.\n",
    "\n",
    "Preisfrage: auch im 4D? Ist es da auch nur ein weiterer wert?\n",
    "HINT:\n",
    "\n",
    "X, y = make_blobs(n_samples=80, centers=2, random_state=6, n_features=4)\n",
    "model = svm.LinearSVC(C=1, max_iter=10000).fit(X, y)\n",
    "print(\"Intercept:\", model.intercept_)\n",
    "print(\"Coeffs:\", model.coef_)\n",
    "\n",
    "da intercept bei ner 4D-SVM 4D ist, Coef aber weiterhin nur ein Skalar würde ich vermuten auch bei einer Hyperplane im 4D ist der intercept skalar (...macht ja sinn, denn auch ein Vektor im 4-dimensionalen Raum ist ein eindimensionales Ding)"
   ]
  },
  {
   "cell_type": "code",
   "execution_count": null,
   "metadata": {},
   "outputs": [],
   "source": [
    "def make_base_changer(plane):\n",
    "    uvec1 = plane.normal\n",
    "    uvec2 = [0, -plane.d/plane.b, plane.d/plane.c] #NOT [1, 0, plane.z(model, 1, 0)] !!\n",
    "    uvec3 = np.cross(uvec1, uvec2)\n",
    "    transition_matrix = np.linalg.inv(np.array([uvec1, uvec2, uvec3]).T)\n",
    "    \n",
    "    origin = np.array([0,0,0])\n",
    "    new_origin = plane.project(origin)\n",
    "    forward  = lambda point: transition_matrix.dot(point - new_origin)\n",
    "    backward = lambda point: np.linalg.inv(transition_matrix).dot(point) + new_origin\n",
    "    return forward, backward\n",
    "\n",
    "\n",
    "#wir haben im 3D einen Degree of freedom hier!! uvec1 ist eindeutig definiert, aber uvec2 und uvec3 haben nur\n",
    "#die Bedingung dass sie orthogonal zueinander und zu uvec1 sind - das ist 1 dof. Im 2D haben wir 0 dof, da die \n",
    "#decisionboundary 1dimensional ist und ihre orthogonale auch. Wie viele dof haben wir im höherdim? immer n_dim-2? \n",
    "#das hat ja mega auswirkungen auf was ich machen will, am besten wäre es die neuen basen so zu wählen dass die\n",
    "#jeweils nächsten auch wieder orthogonal sind...!"
   ]
  },
  {
   "cell_type": "code",
   "execution_count": null,
   "metadata": {},
   "outputs": [],
   "source": [
    "X, y = make_blobs(n_samples=80, centers=2, random_state=6, n_features=3)\n",
    "model = svm.LinearSVC(C=1, max_iter=10000).fit(X, y)\n",
    "print(\"Coefficients:\", model.coef_, \"Intercept:\", model.intercept_)\n",
    "decision_plane = Plane(*model.coef_[0], model.intercept_[0])\n",
    "\n",
    "trafo, back_trafo = make_base_changer(decision_plane)\n",
    "\n",
    "with ThreeDFigure(trafo, back_trafo, swap_axes=\"xz\") as fig:\n",
    "    fig.add_markers(X, color=y) #samples\n",
    "    xx, yy = make_meshgrid(minx=-0.7, miny=-10, maxx=0.01, maxy=1, margin=1) #manual values!\n",
    "    fig.add_surface(xx, yy, decision_plane.z) #decision hyperplane\n",
    "    fig.add_line([0,0,0], decision_plane.normal*100) #orthogonal of decision hyperplane through mean of points\n",
    "    fig.add_markers([0,0,0], size=3) #coordinate center\n",
    "    fig.add_sample_projections(X, decision_plane.normal) #orthogonal lines from the samples onto the decision hyperplane orthogonal\n",
    "    \n",
    "    for point, side in zip(X, y):\n",
    "        #fig.add_line(point, point-decision_plane.normal*100 if side else point+decision_plane.normal*100)\n",
    "        #that ^ would be the blunt way to do it, smarter is to set transform, set x=0, backtransform\n",
    "        transformed = trafo(point)\n",
    "        onto_plane = back_trafo([0, transformed[1], transformed[2]])\n",
    "        fig.add_line(point, onto_plane)\n",
    "        \n",
    "#find a way to pre-determine the minx, miny, ... of the meshgrid THROUGH THE TRANSLATION"
   ]
  },
  {
   "cell_type": "code",
   "execution_count": null,
   "metadata": {},
   "outputs": [],
   "source": [
    "# the way how to determine the minx/miny/.. of the meshgrid:\n",
    "\n",
    "\n",
    "onto_plane = np.array([back_trafo([0, trafo(point)[1], trafo(point)[2]]) for point, side in zip(X, y)])\n",
    "minx, miny = onto_plane.min(axis=0)[:2]\n",
    "maxx, maxy = onto_plane.max(axis=0)[:2]\n",
    "    \n",
    "        \n",
    "with ThreeDFigure() as fig: #trafo, back_trafo, swap_axes=\"xz\"\n",
    "    fig.add_markers(X, color=y, showlegend=False) #samples\n",
    "    xx, yy = make_meshgrid(minx=minx, miny=miny, maxx=maxx, maxy=maxy, margin=0.1)\n",
    "    fig.add_surface(xx, yy, decision_plane.z) #decision hyperplane\n",
    "    fig.add_line([0,0,0], decision_plane.normal*100, name=\"normal_meanpoints\") #orthogonal of decision hyperplane through mean of points\n",
    "    fig.add_markers([0,0,0], size=3, name=\"origin\") #coordinate center\n",
    "    fig.add_sample_projections(X, decision_plane.normal, showlegend=False) #orthogonal lines from the samples onto the decision hyperplane orthogonal\n",
    "    \n",
    "    for point, side in zip(X, y):\n",
    "        fig.add_line(point, back_trafo([0, trafo(point)[1], trafo(point)[2]]), showlegend=False)"
   ]
  },
  {
   "cell_type": "markdown",
   "metadata": {},
   "source": [
    "## New stuff"
   ]
  },
  {
   "cell_type": "code",
   "execution_count": null,
   "metadata": {},
   "outputs": [],
   "source": [
    "X, y = make_blobs(n_samples=80, centers=2, random_state=2, n_features=3)\n",
    "model = svm.LinearSVC(C=1, max_iter=10000).fit(X, y)\n",
    "print(\"Coefficients:\", model.coef_, \"Intercept:\", model.intercept_)\n",
    "decision_plane = Plane(*model.coef_[0], model.intercept_[0])\n",
    "\n",
    "trafo, back_trafo = make_base_changer(decision_plane)\n",
    "\n",
    "onto_plane = np.array([back_trafo([0, trafo(point)[1], trafo(point)[2]]) for point, side in zip(X, y)])\n",
    "minx, miny = onto_plane.min(axis=0)[:2]\n",
    "maxx, maxy = onto_plane.max(axis=0)[:2]\n",
    "\n",
    "z_vals = [trafo(point)[0] for point in X]\n",
    "minneg, maxneg = min(z_vals), max([i for i in z_vals if i < 0])\n",
    "minpos, maxpos = min([i for i in z_vals if i > 0]), max(z_vals)"
   ]
  },
  {
   "cell_type": "code",
   "execution_count": null,
   "metadata": {},
   "outputs": [],
   "source": [
    "#instead of taking the transform, we could also just take the z-component (or the length, as x&y of it are 0) of the vector from a point to its projection\n",
    "\n",
    "for point, val in zip(X, y):\n",
    "    transformed_proj = np.around(trafo(decision_plane.project(point)-point), 5)\n",
    "    assert transformed_proj[1] == transformed_proj[2] == 0\n",
    "    assert (np.sign(transformed_proj[0]) == 1) == (val == 0)\n",
    "    \n",
    "assert all(np.array([trafo(point)[0] for point in X]).argsort() == np.array([(decision_plane.project(point)-point)[2] for point in X]).argsort())"
   ]
  },
  {
   "cell_type": "code",
   "execution_count": null,
   "metadata": {
    "tags": [
     "keep_output"
    ]
   },
   "outputs": [
    {
     "data": {
      "application/vnd.plotly.v1+json": {
       "config": {
        "plotlyServerURL": "https://plot.ly"
       },
       "data": [
        {
         "marker": {
          "color": "black",
          "line": {
           "width": 0
          },
          "size": 3
         },
         "mode": "markers",
         "name": "origin",
         "type": "scatter3d",
         "x": [
          0
         ],
         "y": [
          0
         ],
         "z": [
          0
         ]
        },
        {
         "marker": {
          "color": "yellow",
          "line": {
           "width": 0
          },
          "size": 2
         },
         "mode": "markers",
         "name": "plane_offset",
         "type": "scatter3d",
         "x": [
          0.10457319474661422
         ],
         "y": [
          -0.2674449892957577
         ],
         "z": [
          0.5043120556004799
         ]
        },
        {
         "line": {
          "width": 6
         },
         "marker": {
          "size": 1
         },
         "name": "plane_normal",
         "type": "scatter3d",
         "x": [
          1.2542919644879047,
          -0.8294344419182869
         ],
         "y": [
          -3.207840229315397,
          2.1212710004496746
         ],
         "z": [
          6.048916842091025,
          -4.0000096525997275
         ]
        },
        {
         "marker": {
          "color": "blue",
          "line": {
           "width": 0
          },
          "size": 2
         },
         "mode": "markers",
         "name": "4.520075883637663",
         "showlegend": false,
         "type": "scatter3d",
         "x": [
          0.042014020706258925
         ],
         "y": [
          -1.2900146220721205
         ],
         "z": [
          -3.847531434638628
         ]
        },
        {
         "marker": {
          "color": "blue",
          "line": {
           "width": 0
          },
          "size": 3
         },
         "mode": "markers",
         "name": "d=1.594868543280052",
         "type": "scatter3d",
         "x": [
          -2.1339951601259597
         ],
         "y": [
          -1.9049146279088631
         ],
         "z": [
          -1.2486254908114804
         ]
        },
        {
         "line": {
          "width": 6
         },
         "marker": {
          "size": 1
         },
         "name": "^ len_d",
         "type": "scatter3d",
         "x": [
          -2.1339951601259597,
          -1.9227986581375314
         ],
         "y": [
          -1.9049146279088631,
          -2.445047750459615
         ],
         "z": [
          -1.2486254908114804,
          -0.23011455871754205
         ]
        },
        {
         "line": {
          "width": 6
         },
         "marker": {
          "size": 1
         },
         "name": "^ proj",
         "type": "scatter3d",
         "x": [
          -2.1339951601259597,
          -0.10662330724181387
         ],
         "y": [
          -1.9049146279088631,
          0.2726881332549942
         ],
         "z": [
          -1.2486254908114804,
          -0.5141988764934586
         ]
        },
        {
         "marker": {
          "color": "blue",
          "line": {
           "width": 0
          },
          "size": 2
         },
         "mode": "markers",
         "name": "3.730123503098215",
         "showlegend": false,
         "type": "scatter3d",
         "x": [
          -2.6435542503000073
         ],
         "y": [
          -2.2908149558331123
         ],
         "z": [
          -3.153352381649631
         ]
        },
        {
         "marker": {
          "color": "red",
          "line": {
           "width": 0
          },
          "size": 2
         },
         "mode": "markers",
         "name": "-5.746275395076378",
         "showlegend": false,
         "type": "scatter3d",
         "x": [
          -1.8403364633977217
         ],
         "y": [
          -10.383721431512676
         ],
         "z": [
          0.40227728210473745
         ]
        },
        {
         "marker": {
          "color": "red",
          "line": {
           "width": 0
          },
          "size": 2
         },
         "mode": "markers",
         "name": "-5.60771985173906",
         "showlegend": false,
         "type": "scatter3d",
         "x": [
          -1.6157792956837722
         ],
         "y": [
          -8.870134583868456
         ],
         "z": [
          1.0412201494423712
         ]
        },
        {
         "marker": {
          "color": "blue",
          "line": {
           "width": 0
          },
          "size": 2
         },
         "mode": "markers",
         "name": "2.466201331626891",
         "showlegend": false,
         "type": "scatter3d",
         "x": [
          -1.608169583290394
         ],
         "y": [
          -2.1863995411328263
         ],
         "z": [
          -2.243803012204535
         ]
        },
        {
         "marker": {
          "color": "blue",
          "line": {
           "width": 0
          },
          "size": 2
         },
         "mode": "markers",
         "name": "3.837749849735211",
         "showlegend": false,
         "type": "scatter3d",
         "x": [
          -1.7225654661443077
         ],
         "y": [
          -0.8964459786387888
         ],
         "z": [
          -2.695887307645588
         ]
        },
        {
         "marker": {
          "color": "red",
          "line": {
           "width": 0
          },
          "size": 2
         },
         "mode": "markers",
         "name": "-3.80802456008901",
         "showlegend": false,
         "type": "scatter3d",
         "x": [
          -0.771705714476493
         ],
         "y": [
          -9.265359357178491
         ],
         "z": [
          -0.8653628285493147
         ]
        },
        {
         "marker": {
          "color": "blue",
          "line": {
           "width": 0
          },
          "size": 2
         },
         "mode": "markers",
         "name": "3.6738309231137345",
         "showlegend": false,
         "type": "scatter3d",
         "x": [
          -0.67133173316653
         ],
         "y": [
          -0.6318620134069913
         ],
         "z": [
          -2.6349332327557478
         ]
        },
        {
         "marker": {
          "color": "blue",
          "line": {
           "width": 0
          },
          "size": 2
         },
         "mode": "markers",
         "name": "3.4460829707699823",
         "showlegend": false,
         "type": "scatter3d",
         "x": [
          -1.59821873248412
         ],
         "y": [
          -1.752368088371606
         ],
         "z": [
          -2.8443570200998987
         ]
        },
        {
         "marker": {
          "color": "red",
          "line": {
           "width": 0
          },
          "size": 2
         },
         "mode": "markers",
         "name": "-7.271906796677752",
         "showlegend": false,
         "type": "scatter3d",
         "x": [
          -1.876261656966392
         ],
         "y": [
          -9.500605859963326
         ],
         "z": [
          2.1682507770744737
         ]
        },
        {
         "marker": {
          "color": "red",
          "line": {
           "width": 0
          },
          "size": 2
         },
         "mode": "markers",
         "name": "-6.020765174788777",
         "showlegend": false,
         "type": "scatter3d",
         "x": [
          1.3051929109046245
         ],
         "y": [
          -7.646142640577349
         ],
         "z": [
          1.4339394299892925
         ]
        },
        {
         "marker": {
          "color": "blue",
          "line": {
           "width": 0
          },
          "size": 2
         },
         "mode": "markers",
         "name": "3.4032163190029436",
         "showlegend": false,
         "type": "scatter3d",
         "x": [
          -0.5586674798935111
         ],
         "y": [
          -2.6540097021810576
         ],
         "z": [
          -3.501820403841502
         ]
        },
        {
         "marker": {
          "color": "blue",
          "line": {
           "width": 0
          },
          "size": 2
         },
         "mode": "markers",
         "name": "3.498375571022872",
         "showlegend": false,
         "type": "scatter3d",
         "x": [
          -0.5370500045819107
         ],
         "y": [
          -1.3512043294085272
         ],
         "z": [
          -2.8958779309977802
         ]
        },
        {
         "marker": {
          "color": "blue",
          "line": {
           "width": 0
          },
          "size": 2
         },
         "mode": "markers",
         "name": "5.399494981303321",
         "showlegend": false,
         "type": "scatter3d",
         "x": [
          -2.4278706306650815
         ],
         "y": [
          -2.3000648458140063
         ],
         "z": [
          -4.614732745018286
         ]
        },
        {
         "marker": {
          "color": "red",
          "line": {
           "width": 0
          },
          "size": 2
         },
         "mode": "markers",
         "name": "-8.158467152060055",
         "showlegend": false,
         "type": "scatter3d",
         "x": [
          -2.189109572086774
         ],
         "y": [
          -8.930021318895749
         ],
         "z": [
          3.2854575703891404
         ]
        },
        {
         "marker": {
          "color": "red",
          "line": {
           "width": 0
          },
          "size": 2
         },
         "mode": "markers",
         "name": "-7.36532085006096",
         "showlegend": false,
         "type": "scatter3d",
         "x": [
          -1.2385625641615214
         ],
         "y": [
          -10.599400808555691
         ],
         "z": [
          1.5323078781549717
         ]
        },
        {
         "marker": {
          "color": "red",
          "line": {
           "width": 0
          },
          "size": 3
         },
         "mode": "markers",
         "name": "d=-1.6723577435769634",
         "type": "scatter3d",
         "x": [
          -1.5491589173759384
         ],
         "y": [
          -7.250108574555569
         ],
         "z": [
          -1.4415180189468613
         ]
        },
        {
         "line": {
          "width": 6
         },
         "marker": {
          "size": 1
         },
         "name": "^ len_d",
         "type": "scatter3d",
         "x": [
          -1.5491589173759384,
          -1.7706167340749384
         ],
         "y": [
          -7.250108574555569,
          -6.683732233467037
         ],
         "z": [
          -1.4415180189468613,
          -2.5095149089613846
         ]
        },
        {
         "line": {
          "width": 6
         },
         "marker": {
          "size": 1
         },
         "name": "^ proj",
         "type": "scatter3d",
         "x": [
          -1.5491589173759384,
          0.32603101144561436
         ],
         "y": [
          -7.250108574555569,
          -0.8338213303842907
         ],
         "z": [
          -1.4415180189468613,
          1.5723089456150028
         ]
        },
        {
         "marker": {
          "color": "blue",
          "line": {
           "width": 0
          },
          "size": 2
         },
         "mode": "markers",
         "name": "3.1918338120260854",
         "showlegend": false,
         "type": "scatter3d",
         "x": [
          -1.6580312392471215
         ],
         "y": [
          -2.4686234359156143
         ],
         "z": [
          -2.9967834212358087
         ]
        },
        {
         "marker": {
          "color": "red",
          "line": {
           "width": 0
          },
          "size": 2
         },
         "mode": "markers",
         "name": "-5.669871162336085",
         "showlegend": false,
         "type": "scatter3d",
         "x": [
          -0.777220540001882
         ],
         "y": [
          -10.726763450049406
         ],
         "z": [
          -0.06470266128815605
         ]
        },
        {
         "marker": {
          "color": "blue",
          "line": {
           "width": 0
          },
          "size": 2
         },
         "mode": "markers",
         "name": "3.958652803192405",
         "showlegend": false,
         "type": "scatter3d",
         "x": [
          -0.2077457436123662
         ],
         "y": [
          -0.6904645628096294
         ],
         "z": [
          -3.0030071301117554
         ]
        },
        {
         "marker": {
          "color": "red",
          "line": {
           "width": 0
          },
          "size": 2
         },
         "mode": "markers",
         "name": "-2.447550092734922",
         "showlegend": false,
         "type": "scatter3d",
         "x": [
          -2.208993881683744
         ],
         "y": [
          -6.931037127562513
         ],
         "z": [
          -0.4799236902257027
         ]
        },
        {
         "marker": {
          "color": "red",
          "line": {
           "width": 0
          },
          "size": 2
         },
         "mode": "markers",
         "name": "-6.941279773242325",
         "showlegend": false,
         "type": "scatter3d",
         "x": [
          -2.1092372461747035
         ],
         "y": [
          -9.393765145033843
         ],
         "z": [
          1.993615444124878
         ]
        },
        {
         "marker": {
          "color": "blue",
          "line": {
           "width": 0
          },
          "size": 2
         },
         "mode": "markers",
         "name": "4.7846530664804305",
         "showlegend": false,
         "type": "scatter3d",
         "x": [
          -0.3180427354058979
         ],
         "y": [
          -1.4010703116424414
         ],
         "z": [
          -4.0555125917167665
         ]
        },
        {
         "marker": {
          "color": "blue",
          "line": {
           "width": 0
          },
          "size": 2
         },
         "mode": "markers",
         "name": "3.3010735917912593",
         "showlegend": false,
         "type": "scatter3d",
         "x": [
          -1.7618984071926949
         ],
         "y": [
          -2.8473642653630744
         ],
         "z": [
          -3.268479933536673
         ]
        },
        {
         "marker": {
          "color": "red",
          "line": {
           "width": 0
          },
          "size": 2
         },
         "mode": "markers",
         "name": "-5.950044101774796",
         "showlegend": false,
         "type": "scatter3d",
         "x": [
          -1.6994184393126137
         ],
         "y": [
          -9.613804261878917
         ],
         "z": [
          0.9536793178805771
         ]
        },
        {
         "marker": {
          "color": "red",
          "line": {
           "width": 0
          },
          "size": 2
         },
         "mode": "markers",
         "name": "-7.633803235883658",
         "showlegend": false,
         "type": "scatter3d",
         "x": [
          -0.8996299869449244
         ],
         "y": [
          -9.698610632187053
         ],
         "z": [
          2.1667810560691363
         ]
        },
        {
         "marker": {
          "color": "red",
          "line": {
           "width": 0
          },
          "size": 3
         },
         "mode": "markers",
         "name": "d=-8.68220014164579",
         "type": "scatter3d",
         "x": [
          0.1265942845014456
         ],
         "y": [
          -11.219434867826742
         ],
         "z": [
          2.0340735109649115
         ]
        },
        {
         "line": {
          "width": 6
         },
         "marker": {
          "size": 1
         },
         "name": "^ len_d",
         "type": "scatter3d",
         "x": [
          0.1265942845014456,
          -1.0231244852398447
         ],
         "y": [
          -11.219434867826742,
          -8.279039627807103
         ],
         "z": [
          2.0340735109649115,
          -3.5105312755256315
         ]
        },
        {
         "line": {
          "width": 6
         },
         "marker": {
          "size": 1
         },
         "name": "^ proj",
         "type": "scatter3d",
         "x": [
          0.1265942845014456,
          1.2542919644879045
         ],
         "y": [
          -11.219434867826742,
          -3.2078402293153965
         ],
         "z": [
          2.0340735109649115,
          6.048916842091023
         ]
        },
        {
         "marker": {
          "color": "blue",
          "line": {
           "width": 0
          },
          "size": 2
         },
         "mode": "markers",
         "name": "3.9211677534402103",
         "showlegend": false,
         "type": "scatter3d",
         "x": [
          -3.2793979214271083
         ],
         "y": [
          -1.2275904418093788
         ],
         "z": [
          -2.6192215465178186
         ]
        },
        {
         "marker": {
          "color": "red",
          "line": {
           "width": 0
          },
          "size": 2
         },
         "mode": "markers",
         "name": "-7.6027937904305345",
         "showlegend": false,
         "type": "scatter3d",
         "x": [
          -0.5448223810947223
         ],
         "y": [
          -10.13472563123421
         ],
         "z": [
          1.835705839145523
         ]
        },
        {
         "marker": {
          "color": "red",
          "line": {
           "width": 0
          },
          "size": 2
         },
         "mode": "markers",
         "name": "-5.821797157932275",
         "showlegend": false,
         "type": "scatter3d",
         "x": [
          -1.9993557985866022
         ],
         "y": [
          -10.064889958021181
         ],
         "z": [
          0.6681999291923968
         ]
        },
        {
         "marker": {
          "color": "blue",
          "line": {
           "width": 0
          },
          "size": 2
         },
         "mode": "markers",
         "name": "4.245364290182474",
         "showlegend": false,
         "type": "scatter3d",
         "x": [
          -0.6920363339672632
         ],
         "y": [
          -1.58898446753575
         ],
         "z": [
          -3.6215511381165517
         ]
        },
        {
         "marker": {
          "color": "blue",
          "line": {
           "width": 0
          },
          "size": 2
         },
         "mode": "markers",
         "name": "5.022091692764378",
         "showlegend": false,
         "type": "scatter3d",
         "x": [
          -0.2605230817068416
         ],
         "y": [
          -1.9216463929509258
         ],
         "z": [
          -4.544306524063666
         ]
        },
        {
         "marker": {
          "color": "blue",
          "line": {
           "width": 0
          },
          "size": 2
         },
         "mode": "markers",
         "name": "2.3569180963501593",
         "showlegend": false,
         "type": "scatter3d",
         "x": [
          -1.7200746184897326
         ],
         "y": [
          -1.7407911494275212
         ],
         "z": [
          -1.8918666646659397
         ]
        },
        {
         "marker": {
          "color": "blue",
          "line": {
           "width": 0
          },
          "size": 2
         },
         "mode": "markers",
         "name": "2.0015605232959155",
         "showlegend": false,
         "type": "scatter3d",
         "x": [
          -0.5415872984195823
         ],
         "y": [
          -2.5864049413688104
         ],
         "z": [
          -2.2841602985608693
         ]
        },
        {
         "marker": {
          "color": "blue",
          "line": {
           "width": 0
          },
          "size": 2
         },
         "mode": "markers",
         "name": "5.154922539144522",
         "showlegend": false,
         "type": "scatter3d",
         "x": [
          -3.1439561214259393
         ],
         "y": [
          -1.2621558942512991
         ],
         "z": [
          -3.7089967902252914
         ]
        },
        {
         "marker": {
          "color": "blue",
          "line": {
           "width": 0
          },
          "size": 2
         },
         "mode": "markers",
         "name": "1.805583161621445",
         "showlegend": false,
         "type": "scatter3d",
         "x": [
          1.9861932534769364
         ],
         "y": [
          -0.6217826382099462
         ],
         "z": [
          -1.6007107275242336
         ]
        },
        {
         "marker": {
          "color": "red",
          "line": {
           "width": 0
          },
          "size": 2
         },
         "mode": "markers",
         "name": "-6.669132043541181",
         "showlegend": false,
         "type": "scatter3d",
         "x": [
          -0.7782447503786115
         ],
         "y": [
          -10.325689067272036
         ],
         "z": [
          0.993259319045779
         ]
        },
        {
         "marker": {
          "color": "blue",
          "line": {
           "width": 0
          },
          "size": 2
         },
         "mode": "markers",
         "name": "4.968491853471454",
         "showlegend": false,
         "type": "scatter3d",
         "x": [
          -2.354351183964895
         ],
         "y": [
          -1.0009774375225404
         ],
         "z": [
          -3.576560153702099
         ]
        },
        {
         "marker": {
          "color": "blue",
          "line": {
           "width": 0
          },
          "size": 2
         },
         "mode": "markers",
         "name": "2.6886820066149464",
         "showlegend": false,
         "type": "scatter3d",
         "x": [
          0.5324423095002062
         ],
         "y": [
          -3.306711369346252
         ],
         "z": [
          -3.4699431439198865
         ]
        },
        {
         "marker": {
          "color": "blue",
          "line": {
           "width": 0
          },
          "size": 2
         },
         "mode": "markers",
         "name": "5.755615641158748",
         "showlegend": false,
         "type": "scatter3d",
         "x": [
          -0.7956119992676421
         ],
         "y": [
          -1.4661397829437133
         ],
         "z": [
          -4.812114131071052
         ]
        },
        {
         "marker": {
          "color": "red",
          "line": {
           "width": 0
          },
          "size": 2
         },
         "mode": "markers",
         "name": "-7.373133513763042",
         "showlegend": false,
         "type": "scatter3d",
         "x": [
          -1.9577775344879664
         ],
         "y": [
          -10.920914390180792
         ],
         "z": [
          1.5175459875845316
         ]
        },
        {
         "marker": {
          "color": "red",
          "line": {
           "width": 0
          },
          "size": 2
         },
         "mode": "markers",
         "name": "-4.570804315906345",
         "showlegend": false,
         "type": "scatter3d",
         "x": [
          -0.846605627083354
         ],
         "y": [
          -8.203096133170305
         ],
         "z": [
          0.35857025239482054
         ]
        },
        {
         "marker": {
          "color": "red",
          "line": {
           "width": 0
          },
          "size": 2
         },
         "mode": "markers",
         "name": "-7.430766267422087",
         "showlegend": false,
         "type": "scatter3d",
         "x": [
          -0.9540985237729442
         ],
         "y": [
          -11.521798412170888
         ],
         "z": [
          1.0395050807158799
         ]
        },
        {
         "marker": {
          "color": "red",
          "line": {
           "width": 0
          },
          "size": 2
         },
         "mode": "markers",
         "name": "-7.419750118599422",
         "showlegend": false,
         "type": "scatter3d",
         "x": [
          -1.167375452343276
         ],
         "y": [
          -9.11103082677894
         ],
         "z": [
          2.352883420246779
         ]
        },
        {
         "marker": {
          "color": "red",
          "line": {
           "width": 0
          },
          "size": 2
         },
         "mode": "markers",
         "name": "-5.327682749938603",
         "showlegend": false,
         "type": "scatter3d",
         "x": [
          -1.6189239231891213
         ],
         "y": [
          -9.717659394294776
         ],
         "z": [
          0.35559454508988164
         ]
        },
        {
         "marker": {
          "color": "blue",
          "line": {
           "width": 0
          },
          "size": 2
         },
         "mode": "markers",
         "name": "1.8168566960952754",
         "showlegend": false,
         "type": "scatter3d",
         "x": [
          2.815140476170738
         ],
         "y": [
          -0.7715230809383078
         ],
         "z": [
          -1.8615432636055613
         ]
        },
        {
         "marker": {
          "color": "red",
          "line": {
           "width": 0
          },
          "size": 2
         },
         "mode": "markers",
         "name": "-6.435194759653735",
         "showlegend": false,
         "type": "scatter3d",
         "x": [
          -2.467714243545209
         ],
         "y": [
          -10.9026925907463
         ],
         "z": [
          0.8397543618972337
         ]
        },
        {
         "marker": {
          "color": "blue",
          "line": {
           "width": 0
          },
          "size": 2
         },
         "mode": "markers",
         "name": "3.2707489233151508",
         "showlegend": false,
         "type": "scatter3d",
         "x": [
          -2.6111194173885
         ],
         "y": [
          -3.6182375500848063
         ],
         "z": [
          -3.4755489549556478
         ]
        },
        {
         "marker": {
          "color": "blue",
          "line": {
           "width": 0
          },
          "size": 2
         },
         "mode": "markers",
         "name": "4.721333994800378",
         "showlegend": false,
         "type": "scatter3d",
         "x": [
          -2.632141027502986
         ],
         "y": [
          -0.4598978823168711
         ],
         "z": [
          -3.0229987371752776
         ]
        },
        {
         "marker": {
          "color": "blue",
          "line": {
           "width": 0
          },
          "size": 2
         },
         "mode": "markers",
         "name": "1.9402064694438963",
         "showlegend": false,
         "type": "scatter3d",
         "x": [
          -0.27369741826522564
         ],
         "y": [
          -3.07510943607289
         ],
         "z": [
          -2.5469916880804377
         ]
        },
        {
         "marker": {
          "color": "red",
          "line": {
           "width": 0
          },
          "size": 2
         },
         "mode": "markers",
         "name": "-7.112450124555686",
         "showlegend": false,
         "type": "scatter3d",
         "x": [
          -0.8562772492940441
         ],
         "y": [
          -8.682295368407159
         ],
         "z": [
          2.255863220899003
         ]
        },
        {
         "marker": {
          "color": "blue",
          "line": {
           "width": 0
          },
          "size": 2
         },
         "mode": "markers",
         "name": "3.137233806305106",
         "showlegend": false,
         "type": "scatter3d",
         "x": [
          0.5109244939452628
         ],
         "y": [
          -1.4122341513386731
         ],
         "z": [
          -2.8401393057647053
         ]
        },
        {
         "marker": {
          "color": "blue",
          "line": {
           "width": 0
          },
          "size": 2
         },
         "mode": "markers",
         "name": "4.50996180814799",
         "showlegend": false,
         "type": "scatter3d",
         "x": [
          -3.3631644102999134
         ],
         "y": [
          -0.982499871843562
         ],
         "z": [
          -2.9698066794796447
         ]
        },
        {
         "marker": {
          "color": "red",
          "line": {
           "width": 0
          },
          "size": 2
         },
         "mode": "markers",
         "name": "-5.170175050497405",
         "showlegend": false,
         "type": "scatter3d",
         "x": [
          -3.6237051481598868
         ],
         "y": [
          -8.3199538727014
         ],
         "z": [
          1.3793276051777774
         ]
        },
        {
         "marker": {
          "color": "red",
          "line": {
           "width": 0
          },
          "size": 2
         },
         "mode": "markers",
         "name": "-5.996667698974037",
         "showlegend": false,
         "type": "scatter3d",
         "x": [
          -0.8982357230332279
         ],
         "y": [
          -8.915199921999717
         ],
         "z": [
          1.197457536488295
         ]
        },
        {
         "marker": {
          "color": "red",
          "line": {
           "width": 0
          },
          "size": 2
         },
         "mode": "markers",
         "name": "-8.402585261232074",
         "showlegend": false,
         "type": "scatter3d",
         "x": [
          -1.6839942264978642
         ],
         "y": [
          -10.865994029978038
         ],
         "z": [
          2.3604849815013074
         ]
        },
        {
         "marker": {
          "color": "blue",
          "line": {
           "width": 0
          },
          "size": 2
         },
         "mode": "markers",
         "name": "1.614920527783987",
         "showlegend": false,
         "type": "scatter3d",
         "x": [
          -0.17566541418362114
         ],
         "y": [
          -1.8668860471137454
         ],
         "z": [
          -1.6514913914502833
         ]
        },
        {
         "marker": {
          "color": "red",
          "line": {
           "width": 0
          },
          "size": 2
         },
         "mode": "markers",
         "name": "-7.238232450636451",
         "showlegend": false,
         "type": "scatter3d",
         "x": [
          -0.5849823521129334
         ],
         "y": [
          -11.514941909564786
         ],
         "z": [
          0.8037802928618021
         ]
        },
        {
         "marker": {
          "color": "red",
          "line": {
           "width": 0
          },
          "size": 2
         },
         "mode": "markers",
         "name": "-5.112441274432935",
         "showlegend": false,
         "type": "scatter3d",
         "x": [
          -2.3015166876819912
         ],
         "y": [
          -9.049079662462567
         ],
         "z": [
          0.669669487497659
         ]
        },
        {
         "marker": {
          "color": "red",
          "line": {
           "width": 0
          },
          "size": 2
         },
         "mode": "markers",
         "name": "-7.019929320741591",
         "showlegend": false,
         "type": "scatter3d",
         "x": [
          -0.062216324103634424
         ],
         "y": [
          -9.943480711595555
         ],
         "z": [
          1.3441380516619292
         ]
        },
        {
         "marker": {
          "color": "blue",
          "line": {
           "width": 0
          },
          "size": 2
         },
         "mode": "markers",
         "name": "3.768983968848794",
         "showlegend": false,
         "type": "scatter3d",
         "x": [
          -0.7791814301690143
         ],
         "y": [
          -0.7631855276368256
         ],
         "z": [
          -2.7626816126453972
         ]
        },
        {
         "marker": {
          "color": "blue",
          "line": {
           "width": 0
          },
          "size": 2
         },
         "mode": "markers",
         "name": "2.3337585224494095",
         "showlegend": false,
         "type": "scatter3d",
         "x": [
          -1.7410530238271087
         ],
         "y": [
          -2.848071176596078
         ],
         "z": [
          -2.4551399086483734
         ]
        },
        {
         "marker": {
          "color": "blue",
          "line": {
           "width": 0
          },
          "size": 2
         },
         "mode": "markers",
         "name": "3.790557535574081",
         "showlegend": false,
         "type": "scatter3d",
         "x": [
          -1.846501587197685
         ],
         "y": [
          -1.2931171450700611
         ],
         "z": [
          -2.8406398843183185
         ]
        },
        {
         "marker": {
          "color": "red",
          "line": {
           "width": 0
          },
          "size": 2
         },
         "mode": "markers",
         "name": "-4.5821871151159215",
         "showlegend": false,
         "type": "scatter3d",
         "x": [
          -1.661618438925011
         ],
         "y": [
          -9.41498635429603
         ],
         "z": [
          -0.10548938942187358
         ]
        },
        {
         "marker": {
          "color": "blue",
          "line": {
           "width": 0
          },
          "size": 2
         },
         "mode": "markers",
         "name": "5.070743905234585",
         "showlegend": false,
         "type": "scatter3d",
         "x": [
          -3.0584698759102187
         ],
         "y": [
          -1.70706525528034
         ],
         "z": [
          -3.891477773844276
         ]
        },
        {
         "marker": {
          "color": "red",
          "line": {
           "width": 0
          },
          "size": 2
         },
         "mode": "markers",
         "name": "-4.648204205257206",
         "showlegend": false,
         "type": "scatter3d",
         "x": [
          -1.4365361275445485
         ],
         "y": [
          -9.224904911440879
         ],
         "z": [
          0.004470508804561124
         ]
        },
        {
         "marker": {
          "color": "red",
          "line": {
           "width": 0
          },
          "size": 2
         },
         "mode": "markers",
         "name": "-7.964753679338265",
         "showlegend": false,
         "type": "scatter3d",
         "x": [
          0.3043850992357515
         ],
         "y": [
          -12.140924819825662
         ],
         "z": [
          0.9017969346835247
         ]
        },
        {
         "marker": {
          "color": "red",
          "line": {
           "width": 0
          },
          "size": 2
         },
         "mode": "markers",
         "name": "-6.20851264465576",
         "showlegend": false,
         "type": "scatter3d",
         "x": [
          -3.1481926117236885
         ],
         "y": [
          -7.750290697461706
         ],
         "z": [
          2.4609275681475955
         ]
        },
        {
         "marker": {
          "color": "red",
          "line": {
           "width": 0
          },
          "size": 2
         },
         "mode": "markers",
         "name": "-4.789285322032478",
         "showlegend": false,
         "type": "scatter3d",
         "x": [
          -2.0279729064537872
         ],
         "y": [
          -9.472450112468849
         ],
         "z": [
          0.11514166433384088
         ]
        },
        {
         "marker": {
          "color": "red",
          "line": {
           "width": 0
          },
          "size": 2
         },
         "mode": "markers",
         "name": "-5.107662072174388",
         "showlegend": false,
         "type": "scatter3d",
         "x": [
          -2.413235230836907
         ],
         "y": [
          -9.048382808785483
         ],
         "z": [
          0.6891631187728673
         ]
        },
        {
         "marker": {
          "color": "red",
          "line": {
           "width": 0
          },
          "size": 2
         },
         "mode": "markers",
         "name": "-5.44701210617417",
         "showlegend": false,
         "type": "scatter3d",
         "x": [
          -1.5562814494106627
         ],
         "y": [
          -9.99835925717476
         ],
         "z": [
          0.2946596076377942
         ]
        },
        {
         "marker": {
          "color": "blue",
          "line": {
           "width": 0
          },
          "size": 2
         },
         "mode": "markers",
         "name": "3.4884322907270797",
         "showlegend": false,
         "type": "scatter3d",
         "x": [
          -1.1724465660561343
         ],
         "y": [
          -2.439472710192113
         ],
         "z": [
          -3.3328411309196055
         ]
        },
        {
         "marker": {
          "color": "blue",
          "line": {
           "width": 0
          },
          "size": 2
         },
         "mode": "markers",
         "name": "5.675190791979998",
         "showlegend": false,
         "type": "scatter3d",
         "x": [
          -1.545326266004287
         ],
         "y": [
          -3.1393185695146357
         ],
         "z": [
          -5.475955515667467
         ]
        },
        {
         "marker": {
          "color": "red",
          "line": {
           "width": 0
          },
          "size": 2
         },
         "mode": "markers",
         "name": "-6.956561743285664",
         "showlegend": false,
         "type": "scatter3d",
         "x": [
          -1.357320622512882
         ],
         "y": [
          -8.656772358005192
         ],
         "z": [
          2.2414624781712167
         ]
        },
        {
         "marker": {
          "color": "red",
          "line": {
           "width": 0
          },
          "size": 2
         },
         "mode": "markers",
         "name": "-6.0707436787484585",
         "showlegend": false,
         "type": "scatter3d",
         "x": [
          -1.6611944746752747
         ],
         "y": [
          -9.857144786521168
         ],
         "z": [
          0.9187787946802018
         ]
        },
        {
         "marker": {
          "color": "red",
          "line": {
           "width": 0
          },
          "size": 2
         },
         "mode": "markers",
         "name": "-7.257957774668059",
         "showlegend": false,
         "type": "scatter3d",
         "x": [
          -0.7377493850108957
         ],
         "y": [
          -9.794983560435583
         ],
         "z": [
          1.7642612956435944
         ]
        },
        {
         "marker": {
          "color": "blue",
          "line": {
           "width": 0
          },
          "size": 2
         },
         "mode": "markers",
         "name": "3.840385348964566",
         "showlegend": false,
         "type": "scatter3d",
         "x": [
          -2.7469164972912514
         ],
         "y": [
          -1.9306617356064473
         ],
         "z": [
          -3.034170248128713
         ]
        },
        {
         "marker": {
          "color": "blue",
          "line": {
           "width": 0
          },
          "size": 2
         },
         "mode": "markers",
         "name": "2.440303501716376",
         "showlegend": false,
         "type": "scatter3d",
         "x": [
          -0.423953950089518
         ],
         "y": [
          -2.679734533092661
         ],
         "z": [
          -2.7290821665268874
         ]
        },
        {
         "marker": {
          "color": "blue",
          "line": {
           "width": 0
          },
          "size": 3
         },
         "mode": "markers",
         "name": "d=7.053238973540454",
         "type": "scatter3d",
         "x": [
          -2.317067132432493
         ],
         "y": [
          -2.040818781594588
         ],
         "z": [
          -5.8987617119969125
         ]
        },
        {
         "line": {
          "width": 6
         },
         "marker": {
          "size": 1
         },
         "name": "^ len_d",
         "type": "scatter3d",
         "x": [
          -2.317067132432493,
          -1.3830594957675917
         ],
         "y": [
          -2.040818781594588,
          -4.429534771340021
         ],
         "z": [
          -5.8987617119969125,
          -1.394440003796705
         ]
        },
        {
         "line": {
          "width": 6
         },
         "marker": {
          "size": 1
         },
         "name": "^ proj",
         "type": "scatter3d",
         "x": [
          -2.317067132432493,
          -0.8294344419182867
         ],
         "y": [
          -2.040818781594588,
          2.121271000449674
         ],
         "z": [
          -5.8987617119969125,
          -4.0000096525997275
         ]
        },
        {
         "showlegend": false,
         "showscale": false,
         "type": "surface",
         "x": [
          [
           -4.408352726127168,
           -4.147522176694111,
           -3.886691627261055,
           -3.6258610778279987,
           -3.365030528394942,
           -3.1041999789618853,
           -2.843369429528829,
           -2.5825388800957727,
           -2.321708330662716,
           -2.0608777812296593,
           -1.800047231796603,
           -1.5392166823635467,
           -1.27838613293049,
           -1.0175555834974332,
           -0.756725034064377,
           -0.4958944846313207,
           -0.23506393519826396,
           0.025766614234792762,
           0.2865971636678495,
           0.5474277131009053,
           0.808258262533962,
           1.0690888119670188,
           1.3299193614000746,
           1.5907499108331313,
           1.851580460266188,
           2.112411009699245,
           2.3732415591323015,
           2.6340721085653573,
           2.894902657998414,
           3.1557332074314712
          ],
          [
           -4.408352726127168,
           -4.147522176694111,
           -3.886691627261055,
           -3.6258610778279987,
           -3.365030528394942,
           -3.1041999789618853,
           -2.843369429528829,
           -2.5825388800957727,
           -2.321708330662716,
           -2.0608777812296593,
           -1.800047231796603,
           -1.5392166823635467,
           -1.27838613293049,
           -1.0175555834974332,
           -0.756725034064377,
           -0.4958944846313207,
           -0.23506393519826396,
           0.025766614234792762,
           0.2865971636678495,
           0.5474277131009053,
           0.808258262533962,
           1.0690888119670188,
           1.3299193614000746,
           1.5907499108331313,
           1.851580460266188,
           2.112411009699245,
           2.3732415591323015,
           2.6340721085653573,
           2.894902657998414,
           3.1557332074314712
          ],
          [
           -4.408352726127168,
           -4.147522176694111,
           -3.886691627261055,
           -3.6258610778279987,
           -3.365030528394942,
           -3.1041999789618853,
           -2.843369429528829,
           -2.5825388800957727,
           -2.321708330662716,
           -2.0608777812296593,
           -1.800047231796603,
           -1.5392166823635467,
           -1.27838613293049,
           -1.0175555834974332,
           -0.756725034064377,
           -0.4958944846313207,
           -0.23506393519826396,
           0.025766614234792762,
           0.2865971636678495,
           0.5474277131009053,
           0.808258262533962,
           1.0690888119670188,
           1.3299193614000746,
           1.5907499108331313,
           1.851580460266188,
           2.112411009699245,
           2.3732415591323015,
           2.6340721085653573,
           2.894902657998414,
           3.1557332074314712
          ],
          [
           -4.408352726127168,
           -4.147522176694111,
           -3.886691627261055,
           -3.6258610778279987,
           -3.365030528394942,
           -3.1041999789618853,
           -2.843369429528829,
           -2.5825388800957727,
           -2.321708330662716,
           -2.0608777812296593,
           -1.800047231796603,
           -1.5392166823635467,
           -1.27838613293049,
           -1.0175555834974332,
           -0.756725034064377,
           -0.4958944846313207,
           -0.23506393519826396,
           0.025766614234792762,
           0.2865971636678495,
           0.5474277131009053,
           0.808258262533962,
           1.0690888119670188,
           1.3299193614000746,
           1.5907499108331313,
           1.851580460266188,
           2.112411009699245,
           2.3732415591323015,
           2.6340721085653573,
           2.894902657998414,
           3.1557332074314712
          ],
          [
           -4.408352726127168,
           -4.147522176694111,
           -3.886691627261055,
           -3.6258610778279987,
           -3.365030528394942,
           -3.1041999789618853,
           -2.843369429528829,
           -2.5825388800957727,
           -2.321708330662716,
           -2.0608777812296593,
           -1.800047231796603,
           -1.5392166823635467,
           -1.27838613293049,
           -1.0175555834974332,
           -0.756725034064377,
           -0.4958944846313207,
           -0.23506393519826396,
           0.025766614234792762,
           0.2865971636678495,
           0.5474277131009053,
           0.808258262533962,
           1.0690888119670188,
           1.3299193614000746,
           1.5907499108331313,
           1.851580460266188,
           2.112411009699245,
           2.3732415591323015,
           2.6340721085653573,
           2.894902657998414,
           3.1557332074314712
          ],
          [
           -4.408352726127168,
           -4.147522176694111,
           -3.886691627261055,
           -3.6258610778279987,
           -3.365030528394942,
           -3.1041999789618853,
           -2.843369429528829,
           -2.5825388800957727,
           -2.321708330662716,
           -2.0608777812296593,
           -1.800047231796603,
           -1.5392166823635467,
           -1.27838613293049,
           -1.0175555834974332,
           -0.756725034064377,
           -0.4958944846313207,
           -0.23506393519826396,
           0.025766614234792762,
           0.2865971636678495,
           0.5474277131009053,
           0.808258262533962,
           1.0690888119670188,
           1.3299193614000746,
           1.5907499108331313,
           1.851580460266188,
           2.112411009699245,
           2.3732415591323015,
           2.6340721085653573,
           2.894902657998414,
           3.1557332074314712
          ],
          [
           -4.408352726127168,
           -4.147522176694111,
           -3.886691627261055,
           -3.6258610778279987,
           -3.365030528394942,
           -3.1041999789618853,
           -2.843369429528829,
           -2.5825388800957727,
           -2.321708330662716,
           -2.0608777812296593,
           -1.800047231796603,
           -1.5392166823635467,
           -1.27838613293049,
           -1.0175555834974332,
           -0.756725034064377,
           -0.4958944846313207,
           -0.23506393519826396,
           0.025766614234792762,
           0.2865971636678495,
           0.5474277131009053,
           0.808258262533962,
           1.0690888119670188,
           1.3299193614000746,
           1.5907499108331313,
           1.851580460266188,
           2.112411009699245,
           2.3732415591323015,
           2.6340721085653573,
           2.894902657998414,
           3.1557332074314712
          ],
          [
           -4.408352726127168,
           -4.147522176694111,
           -3.886691627261055,
           -3.6258610778279987,
           -3.365030528394942,
           -3.1041999789618853,
           -2.843369429528829,
           -2.5825388800957727,
           -2.321708330662716,
           -2.0608777812296593,
           -1.800047231796603,
           -1.5392166823635467,
           -1.27838613293049,
           -1.0175555834974332,
           -0.756725034064377,
           -0.4958944846313207,
           -0.23506393519826396,
           0.025766614234792762,
           0.2865971636678495,
           0.5474277131009053,
           0.808258262533962,
           1.0690888119670188,
           1.3299193614000746,
           1.5907499108331313,
           1.851580460266188,
           2.112411009699245,
           2.3732415591323015,
           2.6340721085653573,
           2.894902657998414,
           3.1557332074314712
          ],
          [
           -4.408352726127168,
           -4.147522176694111,
           -3.886691627261055,
           -3.6258610778279987,
           -3.365030528394942,
           -3.1041999789618853,
           -2.843369429528829,
           -2.5825388800957727,
           -2.321708330662716,
           -2.0608777812296593,
           -1.800047231796603,
           -1.5392166823635467,
           -1.27838613293049,
           -1.0175555834974332,
           -0.756725034064377,
           -0.4958944846313207,
           -0.23506393519826396,
           0.025766614234792762,
           0.2865971636678495,
           0.5474277131009053,
           0.808258262533962,
           1.0690888119670188,
           1.3299193614000746,
           1.5907499108331313,
           1.851580460266188,
           2.112411009699245,
           2.3732415591323015,
           2.6340721085653573,
           2.894902657998414,
           3.1557332074314712
          ],
          [
           -4.408352726127168,
           -4.147522176694111,
           -3.886691627261055,
           -3.6258610778279987,
           -3.365030528394942,
           -3.1041999789618853,
           -2.843369429528829,
           -2.5825388800957727,
           -2.321708330662716,
           -2.0608777812296593,
           -1.800047231796603,
           -1.5392166823635467,
           -1.27838613293049,
           -1.0175555834974332,
           -0.756725034064377,
           -0.4958944846313207,
           -0.23506393519826396,
           0.025766614234792762,
           0.2865971636678495,
           0.5474277131009053,
           0.808258262533962,
           1.0690888119670188,
           1.3299193614000746,
           1.5907499108331313,
           1.851580460266188,
           2.112411009699245,
           2.3732415591323015,
           2.6340721085653573,
           2.894902657998414,
           3.1557332074314712
          ],
          [
           -4.408352726127168,
           -4.147522176694111,
           -3.886691627261055,
           -3.6258610778279987,
           -3.365030528394942,
           -3.1041999789618853,
           -2.843369429528829,
           -2.5825388800957727,
           -2.321708330662716,
           -2.0608777812296593,
           -1.800047231796603,
           -1.5392166823635467,
           -1.27838613293049,
           -1.0175555834974332,
           -0.756725034064377,
           -0.4958944846313207,
           -0.23506393519826396,
           0.025766614234792762,
           0.2865971636678495,
           0.5474277131009053,
           0.808258262533962,
           1.0690888119670188,
           1.3299193614000746,
           1.5907499108331313,
           1.851580460266188,
           2.112411009699245,
           2.3732415591323015,
           2.6340721085653573,
           2.894902657998414,
           3.1557332074314712
          ],
          [
           -4.408352726127168,
           -4.147522176694111,
           -3.886691627261055,
           -3.6258610778279987,
           -3.365030528394942,
           -3.1041999789618853,
           -2.843369429528829,
           -2.5825388800957727,
           -2.321708330662716,
           -2.0608777812296593,
           -1.800047231796603,
           -1.5392166823635467,
           -1.27838613293049,
           -1.0175555834974332,
           -0.756725034064377,
           -0.4958944846313207,
           -0.23506393519826396,
           0.025766614234792762,
           0.2865971636678495,
           0.5474277131009053,
           0.808258262533962,
           1.0690888119670188,
           1.3299193614000746,
           1.5907499108331313,
           1.851580460266188,
           2.112411009699245,
           2.3732415591323015,
           2.6340721085653573,
           2.894902657998414,
           3.1557332074314712
          ],
          [
           -4.408352726127168,
           -4.147522176694111,
           -3.886691627261055,
           -3.6258610778279987,
           -3.365030528394942,
           -3.1041999789618853,
           -2.843369429528829,
           -2.5825388800957727,
           -2.321708330662716,
           -2.0608777812296593,
           -1.800047231796603,
           -1.5392166823635467,
           -1.27838613293049,
           -1.0175555834974332,
           -0.756725034064377,
           -0.4958944846313207,
           -0.23506393519826396,
           0.025766614234792762,
           0.2865971636678495,
           0.5474277131009053,
           0.808258262533962,
           1.0690888119670188,
           1.3299193614000746,
           1.5907499108331313,
           1.851580460266188,
           2.112411009699245,
           2.3732415591323015,
           2.6340721085653573,
           2.894902657998414,
           3.1557332074314712
          ],
          [
           -4.408352726127168,
           -4.147522176694111,
           -3.886691627261055,
           -3.6258610778279987,
           -3.365030528394942,
           -3.1041999789618853,
           -2.843369429528829,
           -2.5825388800957727,
           -2.321708330662716,
           -2.0608777812296593,
           -1.800047231796603,
           -1.5392166823635467,
           -1.27838613293049,
           -1.0175555834974332,
           -0.756725034064377,
           -0.4958944846313207,
           -0.23506393519826396,
           0.025766614234792762,
           0.2865971636678495,
           0.5474277131009053,
           0.808258262533962,
           1.0690888119670188,
           1.3299193614000746,
           1.5907499108331313,
           1.851580460266188,
           2.112411009699245,
           2.3732415591323015,
           2.6340721085653573,
           2.894902657998414,
           3.1557332074314712
          ],
          [
           -4.408352726127168,
           -4.147522176694111,
           -3.886691627261055,
           -3.6258610778279987,
           -3.365030528394942,
           -3.1041999789618853,
           -2.843369429528829,
           -2.5825388800957727,
           -2.321708330662716,
           -2.0608777812296593,
           -1.800047231796603,
           -1.5392166823635467,
           -1.27838613293049,
           -1.0175555834974332,
           -0.756725034064377,
           -0.4958944846313207,
           -0.23506393519826396,
           0.025766614234792762,
           0.2865971636678495,
           0.5474277131009053,
           0.808258262533962,
           1.0690888119670188,
           1.3299193614000746,
           1.5907499108331313,
           1.851580460266188,
           2.112411009699245,
           2.3732415591323015,
           2.6340721085653573,
           2.894902657998414,
           3.1557332074314712
          ],
          [
           -4.408352726127168,
           -4.147522176694111,
           -3.886691627261055,
           -3.6258610778279987,
           -3.365030528394942,
           -3.1041999789618853,
           -2.843369429528829,
           -2.5825388800957727,
           -2.321708330662716,
           -2.0608777812296593,
           -1.800047231796603,
           -1.5392166823635467,
           -1.27838613293049,
           -1.0175555834974332,
           -0.756725034064377,
           -0.4958944846313207,
           -0.23506393519826396,
           0.025766614234792762,
           0.2865971636678495,
           0.5474277131009053,
           0.808258262533962,
           1.0690888119670188,
           1.3299193614000746,
           1.5907499108331313,
           1.851580460266188,
           2.112411009699245,
           2.3732415591323015,
           2.6340721085653573,
           2.894902657998414,
           3.1557332074314712
          ],
          [
           -4.408352726127168,
           -4.147522176694111,
           -3.886691627261055,
           -3.6258610778279987,
           -3.365030528394942,
           -3.1041999789618853,
           -2.843369429528829,
           -2.5825388800957727,
           -2.321708330662716,
           -2.0608777812296593,
           -1.800047231796603,
           -1.5392166823635467,
           -1.27838613293049,
           -1.0175555834974332,
           -0.756725034064377,
           -0.4958944846313207,
           -0.23506393519826396,
           0.025766614234792762,
           0.2865971636678495,
           0.5474277131009053,
           0.808258262533962,
           1.0690888119670188,
           1.3299193614000746,
           1.5907499108331313,
           1.851580460266188,
           2.112411009699245,
           2.3732415591323015,
           2.6340721085653573,
           2.894902657998414,
           3.1557332074314712
          ],
          [
           -4.408352726127168,
           -4.147522176694111,
           -3.886691627261055,
           -3.6258610778279987,
           -3.365030528394942,
           -3.1041999789618853,
           -2.843369429528829,
           -2.5825388800957727,
           -2.321708330662716,
           -2.0608777812296593,
           -1.800047231796603,
           -1.5392166823635467,
           -1.27838613293049,
           -1.0175555834974332,
           -0.756725034064377,
           -0.4958944846313207,
           -0.23506393519826396,
           0.025766614234792762,
           0.2865971636678495,
           0.5474277131009053,
           0.808258262533962,
           1.0690888119670188,
           1.3299193614000746,
           1.5907499108331313,
           1.851580460266188,
           2.112411009699245,
           2.3732415591323015,
           2.6340721085653573,
           2.894902657998414,
           3.1557332074314712
          ],
          [
           -4.408352726127168,
           -4.147522176694111,
           -3.886691627261055,
           -3.6258610778279987,
           -3.365030528394942,
           -3.1041999789618853,
           -2.843369429528829,
           -2.5825388800957727,
           -2.321708330662716,
           -2.0608777812296593,
           -1.800047231796603,
           -1.5392166823635467,
           -1.27838613293049,
           -1.0175555834974332,
           -0.756725034064377,
           -0.4958944846313207,
           -0.23506393519826396,
           0.025766614234792762,
           0.2865971636678495,
           0.5474277131009053,
           0.808258262533962,
           1.0690888119670188,
           1.3299193614000746,
           1.5907499108331313,
           1.851580460266188,
           2.112411009699245,
           2.3732415591323015,
           2.6340721085653573,
           2.894902657998414,
           3.1557332074314712
          ],
          [
           -4.408352726127168,
           -4.147522176694111,
           -3.886691627261055,
           -3.6258610778279987,
           -3.365030528394942,
           -3.1041999789618853,
           -2.843369429528829,
           -2.5825388800957727,
           -2.321708330662716,
           -2.0608777812296593,
           -1.800047231796603,
           -1.5392166823635467,
           -1.27838613293049,
           -1.0175555834974332,
           -0.756725034064377,
           -0.4958944846313207,
           -0.23506393519826396,
           0.025766614234792762,
           0.2865971636678495,
           0.5474277131009053,
           0.808258262533962,
           1.0690888119670188,
           1.3299193614000746,
           1.5907499108331313,
           1.851580460266188,
           2.112411009699245,
           2.3732415591323015,
           2.6340721085653573,
           2.894902657998414,
           3.1557332074314712
          ],
          [
           -4.408352726127168,
           -4.147522176694111,
           -3.886691627261055,
           -3.6258610778279987,
           -3.365030528394942,
           -3.1041999789618853,
           -2.843369429528829,
           -2.5825388800957727,
           -2.321708330662716,
           -2.0608777812296593,
           -1.800047231796603,
           -1.5392166823635467,
           -1.27838613293049,
           -1.0175555834974332,
           -0.756725034064377,
           -0.4958944846313207,
           -0.23506393519826396,
           0.025766614234792762,
           0.2865971636678495,
           0.5474277131009053,
           0.808258262533962,
           1.0690888119670188,
           1.3299193614000746,
           1.5907499108331313,
           1.851580460266188,
           2.112411009699245,
           2.3732415591323015,
           2.6340721085653573,
           2.894902657998414,
           3.1557332074314712
          ],
          [
           -4.408352726127168,
           -4.147522176694111,
           -3.886691627261055,
           -3.6258610778279987,
           -3.365030528394942,
           -3.1041999789618853,
           -2.843369429528829,
           -2.5825388800957727,
           -2.321708330662716,
           -2.0608777812296593,
           -1.800047231796603,
           -1.5392166823635467,
           -1.27838613293049,
           -1.0175555834974332,
           -0.756725034064377,
           -0.4958944846313207,
           -0.23506393519826396,
           0.025766614234792762,
           0.2865971636678495,
           0.5474277131009053,
           0.808258262533962,
           1.0690888119670188,
           1.3299193614000746,
           1.5907499108331313,
           1.851580460266188,
           2.112411009699245,
           2.3732415591323015,
           2.6340721085653573,
           2.894902657998414,
           3.1557332074314712
          ],
          [
           -4.408352726127168,
           -4.147522176694111,
           -3.886691627261055,
           -3.6258610778279987,
           -3.365030528394942,
           -3.1041999789618853,
           -2.843369429528829,
           -2.5825388800957727,
           -2.321708330662716,
           -2.0608777812296593,
           -1.800047231796603,
           -1.5392166823635467,
           -1.27838613293049,
           -1.0175555834974332,
           -0.756725034064377,
           -0.4958944846313207,
           -0.23506393519826396,
           0.025766614234792762,
           0.2865971636678495,
           0.5474277131009053,
           0.808258262533962,
           1.0690888119670188,
           1.3299193614000746,
           1.5907499108331313,
           1.851580460266188,
           2.112411009699245,
           2.3732415591323015,
           2.6340721085653573,
           2.894902657998414,
           3.1557332074314712
          ],
          [
           -4.408352726127168,
           -4.147522176694111,
           -3.886691627261055,
           -3.6258610778279987,
           -3.365030528394942,
           -3.1041999789618853,
           -2.843369429528829,
           -2.5825388800957727,
           -2.321708330662716,
           -2.0608777812296593,
           -1.800047231796603,
           -1.5392166823635467,
           -1.27838613293049,
           -1.0175555834974332,
           -0.756725034064377,
           -0.4958944846313207,
           -0.23506393519826396,
           0.025766614234792762,
           0.2865971636678495,
           0.5474277131009053,
           0.808258262533962,
           1.0690888119670188,
           1.3299193614000746,
           1.5907499108331313,
           1.851580460266188,
           2.112411009699245,
           2.3732415591323015,
           2.6340721085653573,
           2.894902657998414,
           3.1557332074314712
          ],
          [
           -4.408352726127168,
           -4.147522176694111,
           -3.886691627261055,
           -3.6258610778279987,
           -3.365030528394942,
           -3.1041999789618853,
           -2.843369429528829,
           -2.5825388800957727,
           -2.321708330662716,
           -2.0608777812296593,
           -1.800047231796603,
           -1.5392166823635467,
           -1.27838613293049,
           -1.0175555834974332,
           -0.756725034064377,
           -0.4958944846313207,
           -0.23506393519826396,
           0.025766614234792762,
           0.2865971636678495,
           0.5474277131009053,
           0.808258262533962,
           1.0690888119670188,
           1.3299193614000746,
           1.5907499108331313,
           1.851580460266188,
           2.112411009699245,
           2.3732415591323015,
           2.6340721085653573,
           2.894902657998414,
           3.1557332074314712
          ],
          [
           -4.408352726127168,
           -4.147522176694111,
           -3.886691627261055,
           -3.6258610778279987,
           -3.365030528394942,
           -3.1041999789618853,
           -2.843369429528829,
           -2.5825388800957727,
           -2.321708330662716,
           -2.0608777812296593,
           -1.800047231796603,
           -1.5392166823635467,
           -1.27838613293049,
           -1.0175555834974332,
           -0.756725034064377,
           -0.4958944846313207,
           -0.23506393519826396,
           0.025766614234792762,
           0.2865971636678495,
           0.5474277131009053,
           0.808258262533962,
           1.0690888119670188,
           1.3299193614000746,
           1.5907499108331313,
           1.851580460266188,
           2.112411009699245,
           2.3732415591323015,
           2.6340721085653573,
           2.894902657998414,
           3.1557332074314712
          ],
          [
           -4.408352726127168,
           -4.147522176694111,
           -3.886691627261055,
           -3.6258610778279987,
           -3.365030528394942,
           -3.1041999789618853,
           -2.843369429528829,
           -2.5825388800957727,
           -2.321708330662716,
           -2.0608777812296593,
           -1.800047231796603,
           -1.5392166823635467,
           -1.27838613293049,
           -1.0175555834974332,
           -0.756725034064377,
           -0.4958944846313207,
           -0.23506393519826396,
           0.025766614234792762,
           0.2865971636678495,
           0.5474277131009053,
           0.808258262533962,
           1.0690888119670188,
           1.3299193614000746,
           1.5907499108331313,
           1.851580460266188,
           2.112411009699245,
           2.3732415591323015,
           2.6340721085653573,
           2.894902657998414,
           3.1557332074314712
          ],
          [
           -4.408352726127168,
           -4.147522176694111,
           -3.886691627261055,
           -3.6258610778279987,
           -3.365030528394942,
           -3.1041999789618853,
           -2.843369429528829,
           -2.5825388800957727,
           -2.321708330662716,
           -2.0608777812296593,
           -1.800047231796603,
           -1.5392166823635467,
           -1.27838613293049,
           -1.0175555834974332,
           -0.756725034064377,
           -0.4958944846313207,
           -0.23506393519826396,
           0.025766614234792762,
           0.2865971636678495,
           0.5474277131009053,
           0.808258262533962,
           1.0690888119670188,
           1.3299193614000746,
           1.5907499108331313,
           1.851580460266188,
           2.112411009699245,
           2.3732415591323015,
           2.6340721085653573,
           2.894902657998414,
           3.1557332074314712
          ],
          [
           -4.408352726127168,
           -4.147522176694111,
           -3.886691627261055,
           -3.6258610778279987,
           -3.365030528394942,
           -3.1041999789618853,
           -2.843369429528829,
           -2.5825388800957727,
           -2.321708330662716,
           -2.0608777812296593,
           -1.800047231796603,
           -1.5392166823635467,
           -1.27838613293049,
           -1.0175555834974332,
           -0.756725034064377,
           -0.4958944846313207,
           -0.23506393519826396,
           0.025766614234792762,
           0.2865971636678495,
           0.5474277131009053,
           0.808258262533962,
           1.0690888119670188,
           1.3299193614000746,
           1.5907499108331313,
           1.851580460266188,
           2.112411009699245,
           2.3732415591323015,
           2.6340721085653573,
           2.894902657998414,
           3.1557332074314712
          ],
          [
           -4.408352726127168,
           -4.147522176694111,
           -3.886691627261055,
           -3.6258610778279987,
           -3.365030528394942,
           -3.1041999789618853,
           -2.843369429528829,
           -2.5825388800957727,
           -2.321708330662716,
           -2.0608777812296593,
           -1.800047231796603,
           -1.5392166823635467,
           -1.27838613293049,
           -1.0175555834974332,
           -0.756725034064377,
           -0.4958944846313207,
           -0.23506393519826396,
           0.025766614234792762,
           0.2865971636678495,
           0.5474277131009053,
           0.808258262533962,
           1.0690888119670188,
           1.3299193614000746,
           1.5907499108331313,
           1.851580460266188,
           2.112411009699245,
           2.3732415591323015,
           2.6340721085653573,
           2.894902657998414,
           3.1557332074314712
          ]
         ],
         "y": [
          [
           -9.543506720199161,
           -9.543506720199161,
           -9.543506720199161,
           -9.543506720199161,
           -9.543506720199161,
           -9.543506720199161,
           -9.543506720199161,
           -9.543506720199161,
           -9.543506720199161,
           -9.543506720199161,
           -9.543506720199161,
           -9.543506720199161,
           -9.543506720199161,
           -9.543506720199161,
           -9.543506720199161,
           -9.543506720199161,
           -9.543506720199161,
           -9.543506720199161,
           -9.543506720199161,
           -9.543506720199161,
           -9.543506720199161,
           -9.543506720199161,
           -9.543506720199161,
           -9.543506720199161,
           -9.543506720199161,
           -9.543506720199161,
           -9.543506720199161,
           -9.543506720199161,
           -9.543506720199161,
           -9.543506720199161
          ],
          [
           -9.253498845278807,
           -9.253498845278807,
           -9.253498845278807,
           -9.253498845278807,
           -9.253498845278807,
           -9.253498845278807,
           -9.253498845278807,
           -9.253498845278807,
           -9.253498845278807,
           -9.253498845278807,
           -9.253498845278807,
           -9.253498845278807,
           -9.253498845278807,
           -9.253498845278807,
           -9.253498845278807,
           -9.253498845278807,
           -9.253498845278807,
           -9.253498845278807,
           -9.253498845278807,
           -9.253498845278807,
           -9.253498845278807,
           -9.253498845278807,
           -9.253498845278807,
           -9.253498845278807,
           -9.253498845278807,
           -9.253498845278807,
           -9.253498845278807,
           -9.253498845278807,
           -9.253498845278807,
           -9.253498845278807
          ],
          [
           -8.963490970358455,
           -8.963490970358455,
           -8.963490970358455,
           -8.963490970358455,
           -8.963490970358455,
           -8.963490970358455,
           -8.963490970358455,
           -8.963490970358455,
           -8.963490970358455,
           -8.963490970358455,
           -8.963490970358455,
           -8.963490970358455,
           -8.963490970358455,
           -8.963490970358455,
           -8.963490970358455,
           -8.963490970358455,
           -8.963490970358455,
           -8.963490970358455,
           -8.963490970358455,
           -8.963490970358455,
           -8.963490970358455,
           -8.963490970358455,
           -8.963490970358455,
           -8.963490970358455,
           -8.963490970358455,
           -8.963490970358455,
           -8.963490970358455,
           -8.963490970358455,
           -8.963490970358455,
           -8.963490970358455
          ],
          [
           -8.673483095438101,
           -8.673483095438101,
           -8.673483095438101,
           -8.673483095438101,
           -8.673483095438101,
           -8.673483095438101,
           -8.673483095438101,
           -8.673483095438101,
           -8.673483095438101,
           -8.673483095438101,
           -8.673483095438101,
           -8.673483095438101,
           -8.673483095438101,
           -8.673483095438101,
           -8.673483095438101,
           -8.673483095438101,
           -8.673483095438101,
           -8.673483095438101,
           -8.673483095438101,
           -8.673483095438101,
           -8.673483095438101,
           -8.673483095438101,
           -8.673483095438101,
           -8.673483095438101,
           -8.673483095438101,
           -8.673483095438101,
           -8.673483095438101,
           -8.673483095438101,
           -8.673483095438101,
           -8.673483095438101
          ],
          [
           -8.383475220517749,
           -8.383475220517749,
           -8.383475220517749,
           -8.383475220517749,
           -8.383475220517749,
           -8.383475220517749,
           -8.383475220517749,
           -8.383475220517749,
           -8.383475220517749,
           -8.383475220517749,
           -8.383475220517749,
           -8.383475220517749,
           -8.383475220517749,
           -8.383475220517749,
           -8.383475220517749,
           -8.383475220517749,
           -8.383475220517749,
           -8.383475220517749,
           -8.383475220517749,
           -8.383475220517749,
           -8.383475220517749,
           -8.383475220517749,
           -8.383475220517749,
           -8.383475220517749,
           -8.383475220517749,
           -8.383475220517749,
           -8.383475220517749,
           -8.383475220517749,
           -8.383475220517749,
           -8.383475220517749
          ],
          [
           -8.093467345597395,
           -8.093467345597395,
           -8.093467345597395,
           -8.093467345597395,
           -8.093467345597395,
           -8.093467345597395,
           -8.093467345597395,
           -8.093467345597395,
           -8.093467345597395,
           -8.093467345597395,
           -8.093467345597395,
           -8.093467345597395,
           -8.093467345597395,
           -8.093467345597395,
           -8.093467345597395,
           -8.093467345597395,
           -8.093467345597395,
           -8.093467345597395,
           -8.093467345597395,
           -8.093467345597395,
           -8.093467345597395,
           -8.093467345597395,
           -8.093467345597395,
           -8.093467345597395,
           -8.093467345597395,
           -8.093467345597395,
           -8.093467345597395,
           -8.093467345597395,
           -8.093467345597395,
           -8.093467345597395
          ],
          [
           -7.8034594706770415,
           -7.8034594706770415,
           -7.8034594706770415,
           -7.8034594706770415,
           -7.8034594706770415,
           -7.8034594706770415,
           -7.8034594706770415,
           -7.8034594706770415,
           -7.8034594706770415,
           -7.8034594706770415,
           -7.8034594706770415,
           -7.8034594706770415,
           -7.8034594706770415,
           -7.8034594706770415,
           -7.8034594706770415,
           -7.8034594706770415,
           -7.8034594706770415,
           -7.8034594706770415,
           -7.8034594706770415,
           -7.8034594706770415,
           -7.8034594706770415,
           -7.8034594706770415,
           -7.8034594706770415,
           -7.8034594706770415,
           -7.8034594706770415,
           -7.8034594706770415,
           -7.8034594706770415,
           -7.8034594706770415,
           -7.8034594706770415,
           -7.8034594706770415
          ],
          [
           -7.513451595756688,
           -7.513451595756688,
           -7.513451595756688,
           -7.513451595756688,
           -7.513451595756688,
           -7.513451595756688,
           -7.513451595756688,
           -7.513451595756688,
           -7.513451595756688,
           -7.513451595756688,
           -7.513451595756688,
           -7.513451595756688,
           -7.513451595756688,
           -7.513451595756688,
           -7.513451595756688,
           -7.513451595756688,
           -7.513451595756688,
           -7.513451595756688,
           -7.513451595756688,
           -7.513451595756688,
           -7.513451595756688,
           -7.513451595756688,
           -7.513451595756688,
           -7.513451595756688,
           -7.513451595756688,
           -7.513451595756688,
           -7.513451595756688,
           -7.513451595756688,
           -7.513451595756688,
           -7.513451595756688
          ],
          [
           -7.223443720836335,
           -7.223443720836335,
           -7.223443720836335,
           -7.223443720836335,
           -7.223443720836335,
           -7.223443720836335,
           -7.223443720836335,
           -7.223443720836335,
           -7.223443720836335,
           -7.223443720836335,
           -7.223443720836335,
           -7.223443720836335,
           -7.223443720836335,
           -7.223443720836335,
           -7.223443720836335,
           -7.223443720836335,
           -7.223443720836335,
           -7.223443720836335,
           -7.223443720836335,
           -7.223443720836335,
           -7.223443720836335,
           -7.223443720836335,
           -7.223443720836335,
           -7.223443720836335,
           -7.223443720836335,
           -7.223443720836335,
           -7.223443720836335,
           -7.223443720836335,
           -7.223443720836335,
           -7.223443720836335
          ],
          [
           -6.933435845915982,
           -6.933435845915982,
           -6.933435845915982,
           -6.933435845915982,
           -6.933435845915982,
           -6.933435845915982,
           -6.933435845915982,
           -6.933435845915982,
           -6.933435845915982,
           -6.933435845915982,
           -6.933435845915982,
           -6.933435845915982,
           -6.933435845915982,
           -6.933435845915982,
           -6.933435845915982,
           -6.933435845915982,
           -6.933435845915982,
           -6.933435845915982,
           -6.933435845915982,
           -6.933435845915982,
           -6.933435845915982,
           -6.933435845915982,
           -6.933435845915982,
           -6.933435845915982,
           -6.933435845915982,
           -6.933435845915982,
           -6.933435845915982,
           -6.933435845915982,
           -6.933435845915982,
           -6.933435845915982
          ],
          [
           -6.643427970995629,
           -6.643427970995629,
           -6.643427970995629,
           -6.643427970995629,
           -6.643427970995629,
           -6.643427970995629,
           -6.643427970995629,
           -6.643427970995629,
           -6.643427970995629,
           -6.643427970995629,
           -6.643427970995629,
           -6.643427970995629,
           -6.643427970995629,
           -6.643427970995629,
           -6.643427970995629,
           -6.643427970995629,
           -6.643427970995629,
           -6.643427970995629,
           -6.643427970995629,
           -6.643427970995629,
           -6.643427970995629,
           -6.643427970995629,
           -6.643427970995629,
           -6.643427970995629,
           -6.643427970995629,
           -6.643427970995629,
           -6.643427970995629,
           -6.643427970995629,
           -6.643427970995629,
           -6.643427970995629
          ],
          [
           -6.353420096075276,
           -6.353420096075276,
           -6.353420096075276,
           -6.353420096075276,
           -6.353420096075276,
           -6.353420096075276,
           -6.353420096075276,
           -6.353420096075276,
           -6.353420096075276,
           -6.353420096075276,
           -6.353420096075276,
           -6.353420096075276,
           -6.353420096075276,
           -6.353420096075276,
           -6.353420096075276,
           -6.353420096075276,
           -6.353420096075276,
           -6.353420096075276,
           -6.353420096075276,
           -6.353420096075276,
           -6.353420096075276,
           -6.353420096075276,
           -6.353420096075276,
           -6.353420096075276,
           -6.353420096075276,
           -6.353420096075276,
           -6.353420096075276,
           -6.353420096075276,
           -6.353420096075276,
           -6.353420096075276
          ],
          [
           -6.0634122211549215,
           -6.0634122211549215,
           -6.0634122211549215,
           -6.0634122211549215,
           -6.0634122211549215,
           -6.0634122211549215,
           -6.0634122211549215,
           -6.0634122211549215,
           -6.0634122211549215,
           -6.0634122211549215,
           -6.0634122211549215,
           -6.0634122211549215,
           -6.0634122211549215,
           -6.0634122211549215,
           -6.0634122211549215,
           -6.0634122211549215,
           -6.0634122211549215,
           -6.0634122211549215,
           -6.0634122211549215,
           -6.0634122211549215,
           -6.0634122211549215,
           -6.0634122211549215,
           -6.0634122211549215,
           -6.0634122211549215,
           -6.0634122211549215,
           -6.0634122211549215,
           -6.0634122211549215,
           -6.0634122211549215,
           -6.0634122211549215,
           -6.0634122211549215
          ],
          [
           -5.773404346234569,
           -5.773404346234569,
           -5.773404346234569,
           -5.773404346234569,
           -5.773404346234569,
           -5.773404346234569,
           -5.773404346234569,
           -5.773404346234569,
           -5.773404346234569,
           -5.773404346234569,
           -5.773404346234569,
           -5.773404346234569,
           -5.773404346234569,
           -5.773404346234569,
           -5.773404346234569,
           -5.773404346234569,
           -5.773404346234569,
           -5.773404346234569,
           -5.773404346234569,
           -5.773404346234569,
           -5.773404346234569,
           -5.773404346234569,
           -5.773404346234569,
           -5.773404346234569,
           -5.773404346234569,
           -5.773404346234569,
           -5.773404346234569,
           -5.773404346234569,
           -5.773404346234569,
           -5.773404346234569
          ],
          [
           -5.483396471314215,
           -5.483396471314215,
           -5.483396471314215,
           -5.483396471314215,
           -5.483396471314215,
           -5.483396471314215,
           -5.483396471314215,
           -5.483396471314215,
           -5.483396471314215,
           -5.483396471314215,
           -5.483396471314215,
           -5.483396471314215,
           -5.483396471314215,
           -5.483396471314215,
           -5.483396471314215,
           -5.483396471314215,
           -5.483396471314215,
           -5.483396471314215,
           -5.483396471314215,
           -5.483396471314215,
           -5.483396471314215,
           -5.483396471314215,
           -5.483396471314215,
           -5.483396471314215,
           -5.483396471314215,
           -5.483396471314215,
           -5.483396471314215,
           -5.483396471314215,
           -5.483396471314215,
           -5.483396471314215
          ],
          [
           -5.193388596393862,
           -5.193388596393862,
           -5.193388596393862,
           -5.193388596393862,
           -5.193388596393862,
           -5.193388596393862,
           -5.193388596393862,
           -5.193388596393862,
           -5.193388596393862,
           -5.193388596393862,
           -5.193388596393862,
           -5.193388596393862,
           -5.193388596393862,
           -5.193388596393862,
           -5.193388596393862,
           -5.193388596393862,
           -5.193388596393862,
           -5.193388596393862,
           -5.193388596393862,
           -5.193388596393862,
           -5.193388596393862,
           -5.193388596393862,
           -5.193388596393862,
           -5.193388596393862,
           -5.193388596393862,
           -5.193388596393862,
           -5.193388596393862,
           -5.193388596393862,
           -5.193388596393862,
           -5.193388596393862
          ],
          [
           -4.903380721473509,
           -4.903380721473509,
           -4.903380721473509,
           -4.903380721473509,
           -4.903380721473509,
           -4.903380721473509,
           -4.903380721473509,
           -4.903380721473509,
           -4.903380721473509,
           -4.903380721473509,
           -4.903380721473509,
           -4.903380721473509,
           -4.903380721473509,
           -4.903380721473509,
           -4.903380721473509,
           -4.903380721473509,
           -4.903380721473509,
           -4.903380721473509,
           -4.903380721473509,
           -4.903380721473509,
           -4.903380721473509,
           -4.903380721473509,
           -4.903380721473509,
           -4.903380721473509,
           -4.903380721473509,
           -4.903380721473509,
           -4.903380721473509,
           -4.903380721473509,
           -4.903380721473509,
           -4.903380721473509
          ],
          [
           -4.613372846553156,
           -4.613372846553156,
           -4.613372846553156,
           -4.613372846553156,
           -4.613372846553156,
           -4.613372846553156,
           -4.613372846553156,
           -4.613372846553156,
           -4.613372846553156,
           -4.613372846553156,
           -4.613372846553156,
           -4.613372846553156,
           -4.613372846553156,
           -4.613372846553156,
           -4.613372846553156,
           -4.613372846553156,
           -4.613372846553156,
           -4.613372846553156,
           -4.613372846553156,
           -4.613372846553156,
           -4.613372846553156,
           -4.613372846553156,
           -4.613372846553156,
           -4.613372846553156,
           -4.613372846553156,
           -4.613372846553156,
           -4.613372846553156,
           -4.613372846553156,
           -4.613372846553156,
           -4.613372846553156
          ],
          [
           -4.323364971632802,
           -4.323364971632802,
           -4.323364971632802,
           -4.323364971632802,
           -4.323364971632802,
           -4.323364971632802,
           -4.323364971632802,
           -4.323364971632802,
           -4.323364971632802,
           -4.323364971632802,
           -4.323364971632802,
           -4.323364971632802,
           -4.323364971632802,
           -4.323364971632802,
           -4.323364971632802,
           -4.323364971632802,
           -4.323364971632802,
           -4.323364971632802,
           -4.323364971632802,
           -4.323364971632802,
           -4.323364971632802,
           -4.323364971632802,
           -4.323364971632802,
           -4.323364971632802,
           -4.323364971632802,
           -4.323364971632802,
           -4.323364971632802,
           -4.323364971632802,
           -4.323364971632802,
           -4.323364971632802
          ],
          [
           -4.033357096712449,
           -4.033357096712449,
           -4.033357096712449,
           -4.033357096712449,
           -4.033357096712449,
           -4.033357096712449,
           -4.033357096712449,
           -4.033357096712449,
           -4.033357096712449,
           -4.033357096712449,
           -4.033357096712449,
           -4.033357096712449,
           -4.033357096712449,
           -4.033357096712449,
           -4.033357096712449,
           -4.033357096712449,
           -4.033357096712449,
           -4.033357096712449,
           -4.033357096712449,
           -4.033357096712449,
           -4.033357096712449,
           -4.033357096712449,
           -4.033357096712449,
           -4.033357096712449,
           -4.033357096712449,
           -4.033357096712449,
           -4.033357096712449,
           -4.033357096712449,
           -4.033357096712449,
           -4.033357096712449
          ],
          [
           -3.743349221792096,
           -3.743349221792096,
           -3.743349221792096,
           -3.743349221792096,
           -3.743349221792096,
           -3.743349221792096,
           -3.743349221792096,
           -3.743349221792096,
           -3.743349221792096,
           -3.743349221792096,
           -3.743349221792096,
           -3.743349221792096,
           -3.743349221792096,
           -3.743349221792096,
           -3.743349221792096,
           -3.743349221792096,
           -3.743349221792096,
           -3.743349221792096,
           -3.743349221792096,
           -3.743349221792096,
           -3.743349221792096,
           -3.743349221792096,
           -3.743349221792096,
           -3.743349221792096,
           -3.743349221792096,
           -3.743349221792096,
           -3.743349221792096,
           -3.743349221792096,
           -3.743349221792096,
           -3.743349221792096
          ],
          [
           -3.453341346871742,
           -3.453341346871742,
           -3.453341346871742,
           -3.453341346871742,
           -3.453341346871742,
           -3.453341346871742,
           -3.453341346871742,
           -3.453341346871742,
           -3.453341346871742,
           -3.453341346871742,
           -3.453341346871742,
           -3.453341346871742,
           -3.453341346871742,
           -3.453341346871742,
           -3.453341346871742,
           -3.453341346871742,
           -3.453341346871742,
           -3.453341346871742,
           -3.453341346871742,
           -3.453341346871742,
           -3.453341346871742,
           -3.453341346871742,
           -3.453341346871742,
           -3.453341346871742,
           -3.453341346871742,
           -3.453341346871742,
           -3.453341346871742,
           -3.453341346871742,
           -3.453341346871742,
           -3.453341346871742
          ],
          [
           -3.163333471951389,
           -3.163333471951389,
           -3.163333471951389,
           -3.163333471951389,
           -3.163333471951389,
           -3.163333471951389,
           -3.163333471951389,
           -3.163333471951389,
           -3.163333471951389,
           -3.163333471951389,
           -3.163333471951389,
           -3.163333471951389,
           -3.163333471951389,
           -3.163333471951389,
           -3.163333471951389,
           -3.163333471951389,
           -3.163333471951389,
           -3.163333471951389,
           -3.163333471951389,
           -3.163333471951389,
           -3.163333471951389,
           -3.163333471951389,
           -3.163333471951389,
           -3.163333471951389,
           -3.163333471951389,
           -3.163333471951389,
           -3.163333471951389,
           -3.163333471951389,
           -3.163333471951389,
           -3.163333471951389
          ],
          [
           -2.8733255970310356,
           -2.8733255970310356,
           -2.8733255970310356,
           -2.8733255970310356,
           -2.8733255970310356,
           -2.8733255970310356,
           -2.8733255970310356,
           -2.8733255970310356,
           -2.8733255970310356,
           -2.8733255970310356,
           -2.8733255970310356,
           -2.8733255970310356,
           -2.8733255970310356,
           -2.8733255970310356,
           -2.8733255970310356,
           -2.8733255970310356,
           -2.8733255970310356,
           -2.8733255970310356,
           -2.8733255970310356,
           -2.8733255970310356,
           -2.8733255970310356,
           -2.8733255970310356,
           -2.8733255970310356,
           -2.8733255970310356,
           -2.8733255970310356,
           -2.8733255970310356,
           -2.8733255970310356,
           -2.8733255970310356,
           -2.8733255970310356,
           -2.8733255970310356
          ],
          [
           -2.5833177221106824,
           -2.5833177221106824,
           -2.5833177221106824,
           -2.5833177221106824,
           -2.5833177221106824,
           -2.5833177221106824,
           -2.5833177221106824,
           -2.5833177221106824,
           -2.5833177221106824,
           -2.5833177221106824,
           -2.5833177221106824,
           -2.5833177221106824,
           -2.5833177221106824,
           -2.5833177221106824,
           -2.5833177221106824,
           -2.5833177221106824,
           -2.5833177221106824,
           -2.5833177221106824,
           -2.5833177221106824,
           -2.5833177221106824,
           -2.5833177221106824,
           -2.5833177221106824,
           -2.5833177221106824,
           -2.5833177221106824,
           -2.5833177221106824,
           -2.5833177221106824,
           -2.5833177221106824,
           -2.5833177221106824,
           -2.5833177221106824,
           -2.5833177221106824
          ],
          [
           -2.2933098471903293,
           -2.2933098471903293,
           -2.2933098471903293,
           -2.2933098471903293,
           -2.2933098471903293,
           -2.2933098471903293,
           -2.2933098471903293,
           -2.2933098471903293,
           -2.2933098471903293,
           -2.2933098471903293,
           -2.2933098471903293,
           -2.2933098471903293,
           -2.2933098471903293,
           -2.2933098471903293,
           -2.2933098471903293,
           -2.2933098471903293,
           -2.2933098471903293,
           -2.2933098471903293,
           -2.2933098471903293,
           -2.2933098471903293,
           -2.2933098471903293,
           -2.2933098471903293,
           -2.2933098471903293,
           -2.2933098471903293,
           -2.2933098471903293,
           -2.2933098471903293,
           -2.2933098471903293,
           -2.2933098471903293,
           -2.2933098471903293,
           -2.2933098471903293
          ],
          [
           -2.003301972269976,
           -2.003301972269976,
           -2.003301972269976,
           -2.003301972269976,
           -2.003301972269976,
           -2.003301972269976,
           -2.003301972269976,
           -2.003301972269976,
           -2.003301972269976,
           -2.003301972269976,
           -2.003301972269976,
           -2.003301972269976,
           -2.003301972269976,
           -2.003301972269976,
           -2.003301972269976,
           -2.003301972269976,
           -2.003301972269976,
           -2.003301972269976,
           -2.003301972269976,
           -2.003301972269976,
           -2.003301972269976,
           -2.003301972269976,
           -2.003301972269976,
           -2.003301972269976,
           -2.003301972269976,
           -2.003301972269976,
           -2.003301972269976,
           -2.003301972269976,
           -2.003301972269976,
           -2.003301972269976
          ],
          [
           -1.713294097349623,
           -1.713294097349623,
           -1.713294097349623,
           -1.713294097349623,
           -1.713294097349623,
           -1.713294097349623,
           -1.713294097349623,
           -1.713294097349623,
           -1.713294097349623,
           -1.713294097349623,
           -1.713294097349623,
           -1.713294097349623,
           -1.713294097349623,
           -1.713294097349623,
           -1.713294097349623,
           -1.713294097349623,
           -1.713294097349623,
           -1.713294097349623,
           -1.713294097349623,
           -1.713294097349623,
           -1.713294097349623,
           -1.713294097349623,
           -1.713294097349623,
           -1.713294097349623,
           -1.713294097349623,
           -1.713294097349623,
           -1.713294097349623,
           -1.713294097349623,
           -1.713294097349623,
           -1.713294097349623
          ],
          [
           -1.4232862224292688,
           -1.4232862224292688,
           -1.4232862224292688,
           -1.4232862224292688,
           -1.4232862224292688,
           -1.4232862224292688,
           -1.4232862224292688,
           -1.4232862224292688,
           -1.4232862224292688,
           -1.4232862224292688,
           -1.4232862224292688,
           -1.4232862224292688,
           -1.4232862224292688,
           -1.4232862224292688,
           -1.4232862224292688,
           -1.4232862224292688,
           -1.4232862224292688,
           -1.4232862224292688,
           -1.4232862224292688,
           -1.4232862224292688,
           -1.4232862224292688,
           -1.4232862224292688,
           -1.4232862224292688,
           -1.4232862224292688,
           -1.4232862224292688,
           -1.4232862224292688,
           -1.4232862224292688,
           -1.4232862224292688,
           -1.4232862224292688,
           -1.4232862224292688
          ],
          [
           -1.1332783475089159,
           -1.1332783475089159,
           -1.1332783475089159,
           -1.1332783475089159,
           -1.1332783475089159,
           -1.1332783475089159,
           -1.1332783475089159,
           -1.1332783475089159,
           -1.1332783475089159,
           -1.1332783475089159,
           -1.1332783475089159,
           -1.1332783475089159,
           -1.1332783475089159,
           -1.1332783475089159,
           -1.1332783475089159,
           -1.1332783475089159,
           -1.1332783475089159,
           -1.1332783475089159,
           -1.1332783475089159,
           -1.1332783475089159,
           -1.1332783475089159,
           -1.1332783475089159,
           -1.1332783475089159,
           -1.1332783475089159,
           -1.1332783475089159,
           -1.1332783475089159,
           -1.1332783475089159,
           -1.1332783475089159,
           -1.1332783475089159,
           -1.1332783475089159
          ]
         ],
         "z": [
          [
           -3.479144470608646,
           -3.533229800393699,
           -3.5873151301787503,
           -3.641400459963802,
           -3.695485789748854,
           -3.7495711195339063,
           -3.803656449318958,
           -3.8577417791040096,
           -3.911827108889062,
           -3.965912438674114,
           -4.019997768459166,
           -4.074083098244217,
           -4.128168428029269,
           -4.182253757814322,
           -4.236339087599373,
           -4.2904244173844255,
           -4.344509747169477,
           -4.398595076954529,
           -4.4526804067395815,
           -4.506765736524633,
           -4.560851066309685,
           -4.614936396094738,
           -4.669021725879789,
           -4.7231070556648405,
           -4.777192385449894,
           -4.831277715234945,
           -4.8853630450199965,
           -4.939448374805049,
           -4.993533704590101,
           -5.047619034375153
          ],
          [
           -3.3253485179986932,
           -3.379433847783745,
           -3.4335191775687974,
           -3.487604507353849,
           -3.5416898371389007,
           -3.595775166923953,
           -3.649860496709005,
           -3.703945826494057,
           -3.758031156279109,
           -3.812116486064161,
           -3.8662018158492124,
           -3.920287145634265,
           -3.9743724754193166,
           -4.0284578052043685,
           -4.082543134989421,
           -4.136628464774472,
           -4.1907137945595245,
           -4.244799124344576,
           -4.298884454129628,
           -4.352969783914681,
           -4.407055113699732,
           -4.461140443484784,
           -4.515225773269836,
           -4.569311103054888,
           -4.62339643283994,
           -4.677481762624992,
           -4.731567092410043,
           -4.785652422195096,
           -4.839737751980148,
           -4.893823081765199
          ],
          [
           -3.171552565388741,
           -3.2256378951737927,
           -3.279723224958845,
           -3.3338085547438965,
           -3.3878938845289484,
           -3.4419792143140007,
           -3.4960645440990525,
           -3.5501498738841044,
           -3.6042352036691567,
           -3.6583205334542086,
           -3.71240586323926,
           -3.766491193024313,
           -3.820576522809364,
           -3.874661852594416,
           -3.9287471823794684,
           -3.9828325121645203,
           -4.036917841949572,
           -4.091003171734624,
           -4.145088501519676,
           -4.199173831304728,
           -4.25325916108978,
           -4.307344490874832,
           -4.361429820659883,
           -4.415515150444936,
           -4.469600480229988,
           -4.523685810015039,
           -4.577771139800091,
           -4.631856469585143,
           -4.6859417993701955,
           -4.740027129155247
          ],
          [
           -3.0177566127787876,
           -3.07184194256384,
           -3.125927272348892,
           -3.1800126021339437,
           -3.2340979319189955,
           -3.288183261704048,
           -3.3422685914890993,
           -3.396353921274151,
           -3.4504392510592035,
           -3.5045245808442553,
           -3.558609910629307,
           -3.6126952404143586,
           -3.6667805701994114,
           -3.720865899984463,
           -3.7749512297695147,
           -3.829036559554567,
           -3.883121889339619,
           -3.9372072191246708,
           -3.991292548909723,
           -4.045377878694775,
           -4.099463208479826,
           -4.153548538264879,
           -4.207633868049931,
           -4.261719197834982,
           -4.315804527620035,
           -4.369889857405086,
           -4.4239751871901385,
           -4.478060516975191,
           -4.532145846760242,
           -4.586231176545294
          ],
          [
           -2.863960660168835,
           -2.9180459899538875,
           -2.9721313197389394,
           -3.0262166495239913,
           -3.080301979309043,
           -3.1343873090940955,
           -3.188472638879147,
           -3.2425579686641988,
           -3.296643298449251,
           -3.350728628234303,
           -3.404813958019355,
           -3.4588992878044063,
           -3.512984617589459,
           -3.5670699473745104,
           -3.6211552771595623,
           -3.6752406069446146,
           -3.7293259367296665,
           -3.7834112665147184,
           -3.8374965962997707,
           -3.891581926084822,
           -3.945667255869874,
           -3.9997525856549263,
           -4.053837915439979,
           -4.10792324522503,
           -4.162008575010082,
           -4.216093904795134,
           -4.270179234580186,
           -4.324264564365238,
           -4.37834989415029,
           -4.432435223935341
          ],
          [
           -2.7101647075588815,
           -2.764250037343934,
           -2.8183353671289857,
           -2.8724206969140376,
           -2.9265060266990894,
           -2.9805913564841418,
           -3.034676686269193,
           -3.088762016054245,
           -3.1428473458392974,
           -3.1969326756243492,
           -3.251018005409401,
           -3.3051033351944525,
           -3.3591886649795053,
           -3.4132739947645567,
           -3.4673593245496086,
           -3.521444654334661,
           -3.575529984119713,
           -3.629615313904764,
           -3.683700643689817,
           -3.7377859734748684,
           -3.7918713032599203,
           -3.8459566330449726,
           -3.9000419628300245,
           -3.9541272926150763,
           -4.008212622400128,
           -4.0622979521851805,
           -4.116383281970232,
           -4.170468611755284,
           -4.224553941540337,
           -4.278639271325388
          ],
          [
           -2.556368754948929,
           -2.6104540847339814,
           -2.6645394145190333,
           -2.718624744304085,
           -2.772710074089137,
           -2.8267954038741894,
           -2.880880733659241,
           -2.9349660634442927,
           -2.989051393229345,
           -3.043136723014397,
           -3.0972220527994487,
           -3.1513073825845,
           -3.205392712369553,
           -3.2594780421546043,
           -3.313563371939656,
           -3.3676487017247085,
           -3.4217340315097604,
           -3.475819361294812,
           -3.5299046910798646,
           -3.583990020864916,
           -3.638075350649968,
           -3.69216068043502,
           -3.746246010220072,
           -3.800331340005124,
           -3.8544166697901763,
           -3.908501999575228,
           -3.9625873293602796,
           -4.016672659145332,
           -4.070757988930384,
           -4.124843318715436
          ],
          [
           -2.4025728023389763,
           -2.456658132124028,
           -2.5107434619090805,
           -2.564828791694132,
           -2.6189141214791842,
           -2.672999451264236,
           -2.727084781049288,
           -2.78117011083434,
           -2.8352554406193917,
           -2.8893407704044436,
           -2.9434261001894955,
           -2.997511429974548,
           -3.0515967597595997,
           -3.1056820895446515,
           -3.159767419329704,
           -3.2138527491147557,
           -3.267938078899807,
           -3.322023408684859,
           -3.3761087384699113,
           -3.430194068254963,
           -3.484279398040015,
           -3.5383647278250674,
           -3.592450057610119,
           -3.6465353873951707,
           -3.700620717180223,
           -3.754706046965275,
           -3.8087913767503268,
           -3.862876706535378,
           -3.916962036320431,
           -3.9710473661054824
          ],
          [
           -2.248776849729023,
           -2.3028621795140753,
           -2.356947509299127,
           -2.411032839084179,
           -2.465118168869231,
           -2.5192034986542833,
           -2.5732888284393347,
           -2.6273741582243866,
           -2.6814594880094385,
           -2.7355448177944908,
           -2.7896301475795426,
           -2.8437154773645945,
           -2.8978008071496464,
           -2.9518861369346983,
           -3.0059714667197506,
           -3.060056796504802,
           -3.1141421262898543,
           -3.1682274560749057,
           -3.2223127858599585,
           -3.27639811564501,
           -3.330483445430062,
           -3.384568775215114,
           -3.438654105000166,
           -3.492739434785218,
           -3.54682476457027,
           -3.6009100943553216,
           -3.6549954241403735,
           -3.709080753925426,
           -3.7631660837104777,
           -3.8172514134955295
          ],
          [
           -2.0949808971190707,
           -2.149066226904123,
           -2.203151556689175,
           -2.2572368864742267,
           -2.3113222162592786,
           -2.365407546044331,
           -2.4194928758293823,
           -2.473578205614434,
           -2.527663535399486,
           -2.5817488651845384,
           -2.6358341949695903,
           -2.689919524754642,
           -2.744004854539694,
           -2.798090184324746,
           -2.852175514109798,
           -2.9062608438948496,
           -2.960346173679902,
           -3.014431503464954,
           -3.068516833250006,
           -3.1226021630350576,
           -3.1766874928201094,
           -3.2307728226051617,
           -3.2848581523902136,
           -3.3389434821752655,
           -3.393028811960318,
           -3.4471141417453692,
           -3.501199471530421,
           -3.5552848013154734,
           -3.6093701311005253,
           -3.663455460885577
          ],
          [
           -1.9411849445091176,
           -1.9952702742941697,
           -2.0493556040792216,
           -2.1034409338642734,
           -2.1575262636493258,
           -2.2116115934343776,
           -2.2656969232194295,
           -2.319782253004481,
           -2.3738675827895332,
           -2.427952912574585,
           -2.482038242359637,
           -2.536123572144689,
           -2.590208901929741,
           -2.644294231714793,
           -2.698379561499845,
           -2.752464891284897,
           -2.8065502210699487,
           -2.860635550855001,
           -2.914720880640053,
           -2.9688062104251047,
           -3.0228915402101566,
           -3.076976869995209,
           -3.1310621997802603,
           -3.185147529565312,
           -3.2392328593503645,
           -3.2933181891354164,
           -3.3474035189204683,
           -3.4014888487055197,
           -3.455574178490572,
           -3.509659508275624
          ],
          [
           -1.7873889918991646,
           -1.8414743216842167,
           -1.8955596514692687,
           -1.9496449812543204,
           -2.0037303110393725,
           -2.057815640824425,
           -2.1119009706094762,
           -2.165986300394528,
           -2.22007163017958,
           -2.2741569599646323,
           -2.3282422897496837,
           -2.382327619534736,
           -2.436412949319788,
           -2.49049827910484,
           -2.5445836088898917,
           -2.5986689386749435,
           -2.652754268459996,
           -2.7068395982450477,
           -2.7609249280301,
           -2.8150102578151515,
           -2.869095587600204,
           -2.9231809173852557,
           -2.9772662471703075,
           -3.031351576955359,
           -3.0854369067404113,
           -3.139522236525463,
           -3.193607566310515,
           -3.2476928960955673,
           -3.301778225880619,
           -3.355863555665671
          ],
          [
           -1.6335930392892115,
           -1.6876783690742636,
           -1.7417636988593157,
           -1.7958490286443674,
           -1.8499343584294194,
           -1.9040196882144715,
           -1.9581050179995232,
           -2.012190347784575,
           -2.066275677569627,
           -2.120361007354679,
           -2.174446337139731,
           -2.2285316669247828,
           -2.282616996709835,
           -2.3367023264948865,
           -2.390787656279939,
           -2.4448729860649907,
           -2.4989583158500426,
           -2.553043645635095,
           -2.6071289754201468,
           -2.6612143052051986,
           -2.7152996349902505,
           -2.769384964775303,
           -2.8234702945603543,
           -2.877555624345406,
           -2.931640954130458,
           -2.9857262839155103,
           -3.039811613700562,
           -3.093896943485614,
           -3.147982273270666,
           -3.202067603055718
          ],
          [
           -1.4797970866792591,
           -1.5338824164643112,
           -1.5879677462493633,
           -1.642053076034415,
           -1.696138405819467,
           -1.7502237356045192,
           -1.8043090653895708,
           -1.8583943951746227,
           -1.9124797249596748,
           -1.9665650547447266,
           -2.0206503845297785,
           -2.0747357143148304,
           -2.1288210440998827,
           -2.182906373884934,
           -2.2369917036699865,
           -2.2910770334550383,
           -2.34516236324009,
           -2.3992476930251425,
           -2.4533330228101944,
           -2.5074183525952463,
           -2.561503682380298,
           -2.6155890121653504,
           -2.669674341950402,
           -2.7237596717354537,
           -2.7778450015205056,
           -2.831930331305558,
           -2.88601566109061,
           -2.9401009908756617,
           -2.9941863206607136,
           -3.048271650445766
          ],
          [
           -1.3260011340693056,
           -1.3800864638543577,
           -1.4341717936394096,
           -1.4882571234244615,
           -1.5423424532095136,
           -1.5964277829945654,
           -1.6505131127796175,
           -1.7045984425646696,
           -1.7586837723497213,
           -1.8127691021347734,
           -1.8668544319198255,
           -1.9209397617048771,
           -1.9750250914899292,
           -2.0291104212749813,
           -2.083195751060033,
           -2.1372810808450846,
           -2.191366410630137,
           -2.245451740415189,
           -2.299537070200241,
           -2.3536223999852925,
           -2.407707729770345,
           -2.4617930595553963,
           -2.5158783893404486,
           -2.5699637191255005,
           -2.6240490489105524,
           -2.6781343786956042,
           -2.7322197084806565,
           -2.7863050382657084,
           -2.8403903680507603,
           -2.8944756978358126
          ],
          [
           -1.172205181459353,
           -1.2262905112444051,
           -1.280375841029457,
           -1.3344611708145089,
           -1.388546500599561,
           -1.4426318303846128,
           -1.4967171601696647,
           -1.5508024899547166,
           -1.6048878197397685,
           -1.6589731495248206,
           -1.7130584793098724,
           -1.7671438090949245,
           -1.8212291388799764,
           -1.8753144686650283,
           -1.9293997984500804,
           -1.983485128235132,
           -2.037570458020184,
           -2.091655787805236,
           -2.1457411175902883,
           -2.19982644737534,
           -2.253911777160392,
           -2.307997106945444,
           -2.362082436730496,
           -2.4161677665155477,
           -2.4702530963005995,
           -2.524338426085652,
           -2.5784237558707037,
           -2.6325090856557556,
           -2.6865944154408075,
           -2.7406797452258598
          ],
          [
           -1.0184092288494,
           -1.072494558634452,
           -1.126579888419504,
           -1.1806652182045558,
           -1.234750547989608,
           -1.2888358777746598,
           -1.3429212075597117,
           -1.3970065373447635,
           -1.4510918671298154,
           -1.5051771969148675,
           -1.5592625266999194,
           -1.6133478564849713,
           -1.6674331862700233,
           -1.7215185160550752,
           -1.7756038458401273,
           -1.829689175625179,
           -1.883774505410231,
           -1.9378598351952832,
           -1.9919451649803352,
           -2.046030494765387,
           -2.1001158245504388,
           -2.154201154335491,
           -2.208286484120543,
           -2.2623718139055944,
           -2.3164571436906467,
           -2.3705424734756986,
           -2.424627803260751,
           -2.4787131330458023,
           -2.5327984628308546,
           -2.5868837926159065
          ],
          [
           -0.8646132762394472,
           -0.9186986060244993,
           -0.9727839358095511,
           -1.026869265594603,
           -1.080954595379655,
           -1.135039925164707,
           -1.1891252549497588,
           -1.243210584734811,
           -1.2972959145198628,
           -1.351381244304915,
           -1.4054665740899668,
           -1.4595519038750187,
           -1.5136372336600707,
           -1.5677225634451228,
           -1.6218078932301745,
           -1.6758932230152261,
           -1.7299785528002782,
           -1.7840638825853303,
           -1.8381492123703824,
           -1.892234542155434,
           -1.9463198719404862,
           -2.000405201725538,
           -2.05449053151059,
           -2.108575861295642,
           -2.162661191080694,
           -2.2167465208657458,
           -2.270831850650798,
           -2.32491718043585,
           -2.379002510220902,
           -2.4330878400059537
          ],
          [
           -0.7108173236294945,
           -0.7649026534145466,
           -0.8189879831995984,
           -0.8730733129846504,
           -0.9271586427697024,
           -0.9812439725547544,
           -1.0353293023398062,
           -1.0894146321248581,
           -1.14349996190991,
           -1.197585291694962,
           -1.251670621480014,
           -1.3057559512650658,
           -1.359841281050118,
           -1.4139266108351698,
           -1.4680119406202217,
           -1.5220972704052738,
           -1.5761826001903256,
           -1.6302679299753777,
           -1.6843532597604298,
           -1.7384385895454815,
           -1.7925239193305336,
           -1.8466092491155857,
           -1.9006945789006373,
           -1.954779908685689,
           -2.008865238470741,
           -2.0629505682557934,
           -2.1170358980408452,
           -2.171121227825897,
           -2.225206557610949,
           -2.2792918873960013
          ],
          [
           -0.5570213710195414,
           -0.6111067008045935,
           -0.6651920305896454,
           -0.7192773603746972,
           -0.7733626901597492,
           -0.8274480199448012,
           -0.8815333497298532,
           -0.9356186795149051,
           -0.9897040092999569,
           -1.043789339085009,
           -1.097874668870061,
           -1.1519599986551128,
           -1.2060453284401649,
           -1.2601306582252167,
           -1.3142159880102686,
           -1.3683013177953207,
           -1.4223866475803726,
           -1.4764719773654247,
           -1.5305573071504766,
           -1.5846426369355284,
           -1.6387279667205805,
           -1.6928132965056326,
           -1.7468986262906843,
           -1.800983956075736,
           -1.855069285860788,
           -1.90915461564584,
           -1.9632399454308922,
           -2.017325275215944,
           -2.071410605000996,
           -2.125495934786048
          ],
          [
           -0.4032254184095887,
           -0.45731074819464074,
           -0.5113960779796927,
           -0.5654814077647445,
           -0.6195667375497965,
           -0.6736520673348485,
           -0.7277373971199005,
           -0.7818227269049524,
           -0.8359080566900042,
           -0.8899933864750563,
           -0.9440787162601082,
           -0.9981640460451601,
           -1.0522493758302123,
           -1.1063347056152641,
           -1.160420035400316,
           -1.214505365185368,
           -1.2685906949704198,
           -1.3226760247554719,
           -1.376761354540524,
           -1.4308466843255756,
           -1.4849320141106277,
           -1.5390173438956796,
           -1.5931026736807314,
           -1.6471880034657835,
           -1.7012733332508354,
           -1.7553586630358875,
           -1.8094439928209394,
           -1.8635293226059912,
           -1.9176146523910433,
           -1.9716999821760954
          ],
          [
           -0.24942946579963526,
           -0.30351479558468736,
           -0.35760012536973923,
           -0.41168545515479116,
           -0.46577078493984314,
           -0.5198561147248951,
           -0.573941444509947,
           -0.6280267742949989,
           -0.6821121040800509,
           -0.736197433865103,
           -0.7902827636501548,
           -0.8443680934352067,
           -0.8984534232202588,
           -0.9525387530053107,
           -1.0066240827903625,
           -1.0607094125754144,
           -1.1147947423604663,
           -1.1688800721455184,
           -1.2229654019305705,
           -1.2770507317156223,
           -1.3311360615006742,
           -1.3852213912857263,
           -1.4393067210707782,
           -1.49339205085583,
           -1.547477380640882,
           -1.601562710425934,
           -1.655648040210986,
           -1.7097333699960378,
           -1.7638186997810898,
           -1.817904029566142
          ],
          [
           -0.09563351318968255,
           -0.14971884297473462,
           -0.20380417275978652,
           -0.25788950254483844,
           -0.31197483232989043,
           -0.3660601621149424,
           -0.4201454918999943,
           -0.4742308216850462,
           -0.5283161514700981,
           -0.5824014812551501,
           -0.6364868110402021,
           -0.690572140825254,
           -0.744657470610306,
           -0.7987428003953579,
           -0.8528281301804098,
           -0.9069134599654618,
           -0.9609987897505137,
           -1.0150841195355658,
           -1.0691694493206179,
           -1.1232547791056695,
           -1.1773401088907216,
           -1.2314254386757735,
           -1.2855107684608253,
           -1.3395960982458772,
           -1.393681428030929,
           -1.4477667578159812,
           -1.5018520876010333,
           -1.5559374173860852,
           -1.6100227471711372,
           -1.6641080769561891
          ],
          [
           0.05816243942027017,
           0.004077109635218098,
           -0.050008220149833804,
           -0.1040935499348857,
           -0.1581788797199377,
           -0.21226420950498967,
           -0.26634953929004157,
           -0.3204348690750935,
           -0.3745201988601455,
           -0.42860552864519746,
           -0.48269085843024934,
           -0.5367761882153013,
           -0.5908615180003532,
           -0.6449468477854052,
           -0.6990321775704571,
           -0.753117507355509,
           -0.807202837140561,
           -0.861288166925613,
           -0.915373496710665,
           -0.9694588264957168,
           -1.0235441562807688,
           -1.0776294860658209,
           -1.1317148158508727,
           -1.1858001456359246,
           -1.2398854754209765,
           -1.2939708052060286,
           -1.3480561349910807,
           -1.4021414647761323,
           -1.4562267945611844,
           -1.5103121243462365
          ],
          [
           0.21195839203022307,
           0.157873062245171,
           0.10378773246011909,
           0.049702402675067196,
           -0.004382927109984794,
           -0.05846825689503678,
           -0.11255358668008868,
           -0.1666389164651406,
           -0.22072424625019257,
           -0.27480957603524453,
           -0.32889490582029646,
           -0.38298023560534833,
           -0.43706556539040037,
           -0.49115089517545235,
           -0.5452362249605043,
           -0.5993215547455562,
           -0.6534068845306081,
           -0.7074922143156601,
           -0.7615775441007121,
           -0.8156628738857639,
           -0.8697482036708158,
           -0.9238335334558678,
           -0.9779188632409196,
           -1.0320041930259716,
           -1.0860895228110237,
           -1.1401748525960758,
           -1.1942601823811276,
           -1.2483455121661795,
           -1.3024308419512314,
           -1.3565161717362835
          ],
          [
           0.365754344640176,
           0.3116690148551239,
           0.257583685070072,
           0.20349835528502008,
           0.1494130254999681,
           0.09532769571491612,
           0.041242365929864216,
           -0.012842963855187685,
           -0.06692829364023967,
           -0.12101362342529166,
           -0.17509895321034355,
           -0.22918428299539545,
           -0.28326961278044743,
           -0.3373549425654994,
           -0.39144027235055134,
           -0.4455256021356032,
           -0.4996109319206552,
           -0.5536962617057072,
           -0.6077815914907592,
           -0.661866921275811,
           -0.715952251060863,
           -0.770037580845915,
           -0.8241229106309669,
           -0.8782082404160187,
           -0.9322935702010707,
           -0.9863788999861227,
           -1.0404642297711748,
           -1.0945495595562265,
           -1.1486348893412786,
           -1.2027202191263306
          ],
          [
           0.5195502972501287,
           0.4654649674650766,
           0.4113796376800247,
           0.3572943078949728,
           0.3032089781099208,
           0.24912364832486883,
           0.19503831853981693,
           0.14095298875476503,
           0.08686765896971305,
           0.03278232918466106,
           -0.021303000600390837,
           -0.07538833038544274,
           -0.12947366017049472,
           -0.1835589899555467,
           -0.2376443197405986,
           -0.2917296495256505,
           -0.3458149793107025,
           -0.39990030909575447,
           -0.45398563888080645,
           -0.5080709686658583,
           -0.5621562984509103,
           -0.6162416282359623,
           -0.670326958021014,
           -0.724412287806066,
           -0.778497617591118,
           -0.83258294737617,
           -0.8866682771612221,
           -0.9407536069462739,
           -0.994838936731326,
           -1.048924266516378
          ],
          [
           0.6733462498600816,
           0.6192609200750295,
           0.5651755902899777,
           0.5110902605049257,
           0.4570049307198737,
           0.4029196009348217,
           0.34883427114976984,
           0.2947489413647179,
           0.24066361157966595,
           0.18657828179461397,
           0.13249295200956207,
           0.07840762222451016,
           0.02432229243945817,
           -0.029763037345593817,
           -0.08384836713064571,
           -0.1379336969156976,
           -0.1920190267007496,
           -0.2461043564858016,
           -0.3001896862708536,
           -0.3542750160559054,
           -0.4083603458409574,
           -0.46244567562600936,
           -0.5165310054110612,
           -0.5706163351961132,
           -0.6247016649811652,
           -0.6787869947662172,
           -0.7328723245512692,
           -0.7869576543363209,
           -0.8410429841213728,
           -0.8951283139064249
          ],
          [
           0.8271422024700348,
           0.7730568726849828,
           0.7189715428999309,
           0.664886213114879,
           0.6108008833298271,
           0.5567155535447751,
           0.5026302237597232,
           0.4485448939746713,
           0.39445956418961925,
           0.34037423440456727,
           0.2862889046195154,
           0.2322035748344635,
           0.1781182450494115,
           0.12403291526435951,
           0.06994758547930761,
           0.015862255694255735,
           -0.03822307409079626,
           -0.09230840387584825,
           -0.14639373366090025,
           -0.20047906344595207,
           -0.25456439323100405,
           -0.30864972301605603,
           -0.36273505280110785,
           -0.41682038258615983,
           -0.4709057123712118,
           -0.5249910421562638,
           -0.5790763719413158,
           -0.6331617017263677,
           -0.6872470315114196,
           -0.7413323612964716
          ],
          [
           0.9809381550799875,
           0.9268528252949355,
           0.8727674955098838,
           0.8186821657248317,
           0.7645968359397798,
           0.7105115061547278,
           0.6564261763696759,
           0.602340846584624,
           0.548255516799572,
           0.49417018701452003,
           0.4400848572294681,
           0.38599952744441623,
           0.3319141976593642,
           0.2778288678743122,
           0.22374353808926034,
           0.16965820830420847,
           0.11557287851915644,
           0.061487548734104475,
           0.007402218949052475,
           -0.04668311083599934,
           -0.10076844062105132,
           -0.15485377040610332,
           -0.20893910019115514,
           -0.2630244299762071,
           -0.3171097597612591,
           -0.3711950895463111,
           -0.42528041933136307,
           -0.4793657491164149,
           -0.5334510789014669,
           -0.5875364086865189
          ]
         ]
        },
        {
         "line": {
          "width": 6
         },
         "marker": {
          "size": 1
         },
         "showlegend": false,
         "type": "scatter3d",
         "x": [
          -0.777220540001882,
          0.8553917880757671
         ],
         "y": [
          -10.726763450049406,
          -2.1876566758806946
         ],
         "z": [
          -0.06470266128815605,
          4.1251908965153525
         ]
        },
        {
         "line": {
          "width": 6
         },
         "marker": {
          "size": 1
         },
         "showlegend": false,
         "type": "scatter3d",
         "x": [
          -2.1339951601259597,
          -0.10662330724181387
         ],
         "y": [
          -1.9049146279088631,
          0.2726881332549942
         ],
         "z": [
          -1.2486254908114804,
          -0.5141988764934586
         ]
        },
        {
         "line": {
          "width": 6
         },
         "marker": {
          "size": 1
         },
         "showlegend": false,
         "type": "scatter3d",
         "x": [
          -0.5448223810947223,
          1.111354261840694
         ],
         "y": [
          -10.13472563123421,
          -2.8422783618877863
         ],
         "z": [
          1.835705839145523,
          5.359589076792365
         ]
        }
       ],
       "layout": {
        "autosize": true,
        "height": 800,
        "margin": {
         "b": 10,
         "l": 10,
         "pad": 4,
         "r": 10,
         "t": 10
        },
        "paper_bgcolor": "White",
        "scene": {
         "aspectmode": "data",
         "aspectratio": {
          "x": 0.6950472475822076,
          "y": 1.3105218576882514,
          "z": 1.0978459482028853
         },
         "camera": {
          "center": {
           "x": 0,
           "y": 0,
           "z": 0
          },
          "eye": {
           "x": 1.9800003786904852,
           "y": 1.0187901957763899,
           "z": 0.27752408603459106
          },
          "projection": {
           "type": "perspective"
          },
          "up": {
           "x": 0,
           "y": 0,
           "z": 1
          }
         }
        },
        "template": {
         "data": {
          "bar": [
           {
            "error_x": {
             "color": "#2a3f5f"
            },
            "error_y": {
             "color": "#2a3f5f"
            },
            "marker": {
             "line": {
              "color": "#E5ECF6",
              "width": 0.5
             }
            },
            "type": "bar"
           }
          ],
          "barpolar": [
           {
            "marker": {
             "line": {
              "color": "#E5ECF6",
              "width": 0.5
             }
            },
            "type": "barpolar"
           }
          ],
          "carpet": [
           {
            "aaxis": {
             "endlinecolor": "#2a3f5f",
             "gridcolor": "white",
             "linecolor": "white",
             "minorgridcolor": "white",
             "startlinecolor": "#2a3f5f"
            },
            "baxis": {
             "endlinecolor": "#2a3f5f",
             "gridcolor": "white",
             "linecolor": "white",
             "minorgridcolor": "white",
             "startlinecolor": "#2a3f5f"
            },
            "type": "carpet"
           }
          ],
          "choropleth": [
           {
            "colorbar": {
             "outlinewidth": 0,
             "ticks": ""
            },
            "type": "choropleth"
           }
          ],
          "contour": [
           {
            "colorbar": {
             "outlinewidth": 0,
             "ticks": ""
            },
            "colorscale": [
             [
              0,
              "#0d0887"
             ],
             [
              0.1111111111111111,
              "#46039f"
             ],
             [
              0.2222222222222222,
              "#7201a8"
             ],
             [
              0.3333333333333333,
              "#9c179e"
             ],
             [
              0.4444444444444444,
              "#bd3786"
             ],
             [
              0.5555555555555556,
              "#d8576b"
             ],
             [
              0.6666666666666666,
              "#ed7953"
             ],
             [
              0.7777777777777778,
              "#fb9f3a"
             ],
             [
              0.8888888888888888,
              "#fdca26"
             ],
             [
              1,
              "#f0f921"
             ]
            ],
            "type": "contour"
           }
          ],
          "contourcarpet": [
           {
            "colorbar": {
             "outlinewidth": 0,
             "ticks": ""
            },
            "type": "contourcarpet"
           }
          ],
          "heatmap": [
           {
            "colorbar": {
             "outlinewidth": 0,
             "ticks": ""
            },
            "colorscale": [
             [
              0,
              "#0d0887"
             ],
             [
              0.1111111111111111,
              "#46039f"
             ],
             [
              0.2222222222222222,
              "#7201a8"
             ],
             [
              0.3333333333333333,
              "#9c179e"
             ],
             [
              0.4444444444444444,
              "#bd3786"
             ],
             [
              0.5555555555555556,
              "#d8576b"
             ],
             [
              0.6666666666666666,
              "#ed7953"
             ],
             [
              0.7777777777777778,
              "#fb9f3a"
             ],
             [
              0.8888888888888888,
              "#fdca26"
             ],
             [
              1,
              "#f0f921"
             ]
            ],
            "type": "heatmap"
           }
          ],
          "heatmapgl": [
           {
            "colorbar": {
             "outlinewidth": 0,
             "ticks": ""
            },
            "colorscale": [
             [
              0,
              "#0d0887"
             ],
             [
              0.1111111111111111,
              "#46039f"
             ],
             [
              0.2222222222222222,
              "#7201a8"
             ],
             [
              0.3333333333333333,
              "#9c179e"
             ],
             [
              0.4444444444444444,
              "#bd3786"
             ],
             [
              0.5555555555555556,
              "#d8576b"
             ],
             [
              0.6666666666666666,
              "#ed7953"
             ],
             [
              0.7777777777777778,
              "#fb9f3a"
             ],
             [
              0.8888888888888888,
              "#fdca26"
             ],
             [
              1,
              "#f0f921"
             ]
            ],
            "type": "heatmapgl"
           }
          ],
          "histogram": [
           {
            "marker": {
             "colorbar": {
              "outlinewidth": 0,
              "ticks": ""
             }
            },
            "type": "histogram"
           }
          ],
          "histogram2d": [
           {
            "colorbar": {
             "outlinewidth": 0,
             "ticks": ""
            },
            "colorscale": [
             [
              0,
              "#0d0887"
             ],
             [
              0.1111111111111111,
              "#46039f"
             ],
             [
              0.2222222222222222,
              "#7201a8"
             ],
             [
              0.3333333333333333,
              "#9c179e"
             ],
             [
              0.4444444444444444,
              "#bd3786"
             ],
             [
              0.5555555555555556,
              "#d8576b"
             ],
             [
              0.6666666666666666,
              "#ed7953"
             ],
             [
              0.7777777777777778,
              "#fb9f3a"
             ],
             [
              0.8888888888888888,
              "#fdca26"
             ],
             [
              1,
              "#f0f921"
             ]
            ],
            "type": "histogram2d"
           }
          ],
          "histogram2dcontour": [
           {
            "colorbar": {
             "outlinewidth": 0,
             "ticks": ""
            },
            "colorscale": [
             [
              0,
              "#0d0887"
             ],
             [
              0.1111111111111111,
              "#46039f"
             ],
             [
              0.2222222222222222,
              "#7201a8"
             ],
             [
              0.3333333333333333,
              "#9c179e"
             ],
             [
              0.4444444444444444,
              "#bd3786"
             ],
             [
              0.5555555555555556,
              "#d8576b"
             ],
             [
              0.6666666666666666,
              "#ed7953"
             ],
             [
              0.7777777777777778,
              "#fb9f3a"
             ],
             [
              0.8888888888888888,
              "#fdca26"
             ],
             [
              1,
              "#f0f921"
             ]
            ],
            "type": "histogram2dcontour"
           }
          ],
          "mesh3d": [
           {
            "colorbar": {
             "outlinewidth": 0,
             "ticks": ""
            },
            "type": "mesh3d"
           }
          ],
          "parcoords": [
           {
            "line": {
             "colorbar": {
              "outlinewidth": 0,
              "ticks": ""
             }
            },
            "type": "parcoords"
           }
          ],
          "pie": [
           {
            "automargin": true,
            "type": "pie"
           }
          ],
          "scatter": [
           {
            "marker": {
             "colorbar": {
              "outlinewidth": 0,
              "ticks": ""
             }
            },
            "type": "scatter"
           }
          ],
          "scatter3d": [
           {
            "line": {
             "colorbar": {
              "outlinewidth": 0,
              "ticks": ""
             }
            },
            "marker": {
             "colorbar": {
              "outlinewidth": 0,
              "ticks": ""
             }
            },
            "type": "scatter3d"
           }
          ],
          "scattercarpet": [
           {
            "marker": {
             "colorbar": {
              "outlinewidth": 0,
              "ticks": ""
             }
            },
            "type": "scattercarpet"
           }
          ],
          "scattergeo": [
           {
            "marker": {
             "colorbar": {
              "outlinewidth": 0,
              "ticks": ""
             }
            },
            "type": "scattergeo"
           }
          ],
          "scattergl": [
           {
            "marker": {
             "colorbar": {
              "outlinewidth": 0,
              "ticks": ""
             }
            },
            "type": "scattergl"
           }
          ],
          "scattermapbox": [
           {
            "marker": {
             "colorbar": {
              "outlinewidth": 0,
              "ticks": ""
             }
            },
            "type": "scattermapbox"
           }
          ],
          "scatterpolar": [
           {
            "marker": {
             "colorbar": {
              "outlinewidth": 0,
              "ticks": ""
             }
            },
            "type": "scatterpolar"
           }
          ],
          "scatterpolargl": [
           {
            "marker": {
             "colorbar": {
              "outlinewidth": 0,
              "ticks": ""
             }
            },
            "type": "scatterpolargl"
           }
          ],
          "scatterternary": [
           {
            "marker": {
             "colorbar": {
              "outlinewidth": 0,
              "ticks": ""
             }
            },
            "type": "scatterternary"
           }
          ],
          "surface": [
           {
            "colorbar": {
             "outlinewidth": 0,
             "ticks": ""
            },
            "colorscale": [
             [
              0,
              "#0d0887"
             ],
             [
              0.1111111111111111,
              "#46039f"
             ],
             [
              0.2222222222222222,
              "#7201a8"
             ],
             [
              0.3333333333333333,
              "#9c179e"
             ],
             [
              0.4444444444444444,
              "#bd3786"
             ],
             [
              0.5555555555555556,
              "#d8576b"
             ],
             [
              0.6666666666666666,
              "#ed7953"
             ],
             [
              0.7777777777777778,
              "#fb9f3a"
             ],
             [
              0.8888888888888888,
              "#fdca26"
             ],
             [
              1,
              "#f0f921"
             ]
            ],
            "type": "surface"
           }
          ],
          "table": [
           {
            "cells": {
             "fill": {
              "color": "#EBF0F8"
             },
             "line": {
              "color": "white"
             }
            },
            "header": {
             "fill": {
              "color": "#C8D4E3"
             },
             "line": {
              "color": "white"
             }
            },
            "type": "table"
           }
          ]
         },
         "layout": {
          "annotationdefaults": {
           "arrowcolor": "#2a3f5f",
           "arrowhead": 0,
           "arrowwidth": 1
          },
          "autotypenumbers": "strict",
          "coloraxis": {
           "colorbar": {
            "outlinewidth": 0,
            "ticks": ""
           }
          },
          "colorscale": {
           "diverging": [
            [
             0,
             "#8e0152"
            ],
            [
             0.1,
             "#c51b7d"
            ],
            [
             0.2,
             "#de77ae"
            ],
            [
             0.3,
             "#f1b6da"
            ],
            [
             0.4,
             "#fde0ef"
            ],
            [
             0.5,
             "#f7f7f7"
            ],
            [
             0.6,
             "#e6f5d0"
            ],
            [
             0.7,
             "#b8e186"
            ],
            [
             0.8,
             "#7fbc41"
            ],
            [
             0.9,
             "#4d9221"
            ],
            [
             1,
             "#276419"
            ]
           ],
           "sequential": [
            [
             0,
             "#0d0887"
            ],
            [
             0.1111111111111111,
             "#46039f"
            ],
            [
             0.2222222222222222,
             "#7201a8"
            ],
            [
             0.3333333333333333,
             "#9c179e"
            ],
            [
             0.4444444444444444,
             "#bd3786"
            ],
            [
             0.5555555555555556,
             "#d8576b"
            ],
            [
             0.6666666666666666,
             "#ed7953"
            ],
            [
             0.7777777777777778,
             "#fb9f3a"
            ],
            [
             0.8888888888888888,
             "#fdca26"
            ],
            [
             1,
             "#f0f921"
            ]
           ],
           "sequentialminus": [
            [
             0,
             "#0d0887"
            ],
            [
             0.1111111111111111,
             "#46039f"
            ],
            [
             0.2222222222222222,
             "#7201a8"
            ],
            [
             0.3333333333333333,
             "#9c179e"
            ],
            [
             0.4444444444444444,
             "#bd3786"
            ],
            [
             0.5555555555555556,
             "#d8576b"
            ],
            [
             0.6666666666666666,
             "#ed7953"
            ],
            [
             0.7777777777777778,
             "#fb9f3a"
            ],
            [
             0.8888888888888888,
             "#fdca26"
            ],
            [
             1,
             "#f0f921"
            ]
           ]
          },
          "colorway": [
           "#636efa",
           "#EF553B",
           "#00cc96",
           "#ab63fa",
           "#FFA15A",
           "#19d3f3",
           "#FF6692",
           "#B6E880",
           "#FF97FF",
           "#FECB52"
          ],
          "font": {
           "color": "#2a3f5f"
          },
          "geo": {
           "bgcolor": "white",
           "lakecolor": "white",
           "landcolor": "#E5ECF6",
           "showlakes": true,
           "showland": true,
           "subunitcolor": "white"
          },
          "hoverlabel": {
           "align": "left"
          },
          "hovermode": "closest",
          "mapbox": {
           "style": "light"
          },
          "paper_bgcolor": "white",
          "plot_bgcolor": "#E5ECF6",
          "polar": {
           "angularaxis": {
            "gridcolor": "white",
            "linecolor": "white",
            "ticks": ""
           },
           "bgcolor": "#E5ECF6",
           "radialaxis": {
            "gridcolor": "white",
            "linecolor": "white",
            "ticks": ""
           }
          },
          "scene": {
           "xaxis": {
            "backgroundcolor": "#E5ECF6",
            "gridcolor": "white",
            "gridwidth": 2,
            "linecolor": "white",
            "showbackground": true,
            "ticks": "",
            "zerolinecolor": "white"
           },
           "yaxis": {
            "backgroundcolor": "#E5ECF6",
            "gridcolor": "white",
            "gridwidth": 2,
            "linecolor": "white",
            "showbackground": true,
            "ticks": "",
            "zerolinecolor": "white"
           },
           "zaxis": {
            "backgroundcolor": "#E5ECF6",
            "gridcolor": "white",
            "gridwidth": 2,
            "linecolor": "white",
            "showbackground": true,
            "ticks": "",
            "zerolinecolor": "white"
           }
          },
          "shapedefaults": {
           "line": {
            "color": "#2a3f5f"
           }
          },
          "ternary": {
           "aaxis": {
            "gridcolor": "white",
            "linecolor": "white",
            "ticks": ""
           },
           "baxis": {
            "gridcolor": "white",
            "linecolor": "white",
            "ticks": ""
           },
           "bgcolor": "#E5ECF6",
           "caxis": {
            "gridcolor": "white",
            "linecolor": "white",
            "ticks": ""
           }
          },
          "title": {
           "x": 0.05
          },
          "xaxis": {
           "automargin": true,
           "gridcolor": "white",
           "linecolor": "white",
           "ticks": "",
           "title": {
            "standoff": 15
           },
           "zerolinecolor": "white",
           "zerolinewidth": 2
          },
          "yaxis": {
           "automargin": true,
           "gridcolor": "white",
           "linecolor": "white",
           "ticks": "",
           "title": {
            "standoff": 15
           },
           "zerolinecolor": "white",
           "zerolinewidth": 2
          }
         }
        },
        "width": 1000
       }
      },
      "image/png": "[encoded data removed]",
      "text/html": [
       "<div>                            <div id=\"992e50fa-2ea6-428e-9cbf-d9c3b3f80cec\" class=\"plotly-graph-div\" style=\"height:800px; width:1000px;\"></div>            <script type=\"text/javascript\">                require([\"plotly\"], function(Plotly) {                    window.PLOTLYENV=window.PLOTLYENV || {};                                    if (document.getElementById(\"992e50fa-2ea6-428e-9cbf-d9c3b3f80cec\")) {                    Plotly.newPlot(                        \"992e50fa-2ea6-428e-9cbf-d9c3b3f80cec\",                        [{\"marker\": {\"color\": \"black\", \"line\": {\"width\": 0}, \"size\": 3}, \"mode\": \"markers\", \"name\": \"origin\", \"type\": \"scatter3d\", \"x\": [0], \"y\": [0], \"z\": [0]}, {\"marker\": {\"color\": \"yellow\", \"line\": {\"width\": 0}, \"size\": 2}, \"mode\": \"markers\", \"name\": \"plane_offset\", \"type\": \"scatter3d\", \"x\": [0.10457319474661422], \"y\": [-0.2674449892957577], \"z\": [0.5043120556004799]}, {\"line\": {\"width\": 6}, \"marker\": {\"size\": 1}, \"name\": \"plane_normal\", \"type\": \"scatter3d\", \"x\": [1.2542919644879047, -0.8294344419182869], \"y\": [-3.207840229315397, 2.1212710004496746], \"z\": [6.048916842091025, -4.0000096525997275]}, {\"marker\": {\"color\": \"blue\", \"line\": {\"width\": 0}, \"size\": 2}, \"mode\": \"markers\", \"name\": \"4.520075883637663\", \"showlegend\": false, \"type\": \"scatter3d\", \"x\": [0.042014020706258925], \"y\": [-1.2900146220721205], \"z\": [-3.847531434638628]}, {\"marker\": {\"color\": \"blue\", \"line\": {\"width\": 0}, \"size\": 3}, \"mode\": \"markers\", \"name\": \"d=1.594868543280052\", \"type\": \"scatter3d\", \"x\": [-2.1339951601259597], \"y\": [-1.9049146279088631], \"z\": [-1.2486254908114804]}, {\"line\": {\"width\": 6}, \"marker\": {\"size\": 1}, \"name\": \"^ len_d\", \"type\": \"scatter3d\", \"x\": [-2.1339951601259597, -1.9227986581375314], \"y\": [-1.9049146279088631, -2.445047750459615], \"z\": [-1.2486254908114804, -0.23011455871754205]}, {\"line\": {\"width\": 6}, \"marker\": {\"size\": 1}, \"name\": \"^ proj\", \"type\": \"scatter3d\", \"x\": [-2.1339951601259597, -0.10662330724181387], \"y\": [-1.9049146279088631, 0.2726881332549942], \"z\": [-1.2486254908114804, -0.5141988764934586]}, {\"marker\": {\"color\": \"blue\", \"line\": {\"width\": 0}, \"size\": 2}, \"mode\": \"markers\", \"name\": \"3.730123503098215\", \"showlegend\": false, \"type\": \"scatter3d\", \"x\": [-2.6435542503000073], \"y\": [-2.2908149558331123], \"z\": [-3.153352381649631]}, {\"marker\": {\"color\": \"red\", \"line\": {\"width\": 0}, \"size\": 2}, \"mode\": \"markers\", \"name\": \"-5.746275395076378\", \"showlegend\": false, \"type\": \"scatter3d\", \"x\": [-1.8403364633977217], \"y\": [-10.383721431512676], \"z\": [0.40227728210473745]}, {\"marker\": {\"color\": \"red\", \"line\": {\"width\": 0}, \"size\": 2}, \"mode\": \"markers\", \"name\": \"-5.60771985173906\", \"showlegend\": false, \"type\": \"scatter3d\", \"x\": [-1.6157792956837722], \"y\": [-8.870134583868456], \"z\": [1.0412201494423712]}, {\"marker\": {\"color\": \"blue\", \"line\": {\"width\": 0}, \"size\": 2}, \"mode\": \"markers\", \"name\": \"2.466201331626891\", \"showlegend\": false, \"type\": \"scatter3d\", \"x\": [-1.608169583290394], \"y\": [-2.1863995411328263], \"z\": [-2.243803012204535]}, {\"marker\": {\"color\": \"blue\", \"line\": {\"width\": 0}, \"size\": 2}, \"mode\": \"markers\", \"name\": \"3.837749849735211\", \"showlegend\": false, \"type\": \"scatter3d\", \"x\": [-1.7225654661443077], \"y\": [-0.8964459786387888], \"z\": [-2.695887307645588]}, {\"marker\": {\"color\": \"red\", \"line\": {\"width\": 0}, \"size\": 2}, \"mode\": \"markers\", \"name\": \"-3.80802456008901\", \"showlegend\": false, \"type\": \"scatter3d\", \"x\": [-0.771705714476493], \"y\": [-9.265359357178491], \"z\": [-0.8653628285493147]}, {\"marker\": {\"color\": \"blue\", \"line\": {\"width\": 0}, \"size\": 2}, \"mode\": \"markers\", \"name\": \"3.6738309231137345\", \"showlegend\": false, \"type\": \"scatter3d\", \"x\": [-0.67133173316653], \"y\": [-0.6318620134069913], \"z\": [-2.6349332327557478]}, {\"marker\": {\"color\": \"blue\", \"line\": {\"width\": 0}, \"size\": 2}, \"mode\": \"markers\", \"name\": \"3.4460829707699823\", \"showlegend\": false, \"type\": \"scatter3d\", \"x\": [-1.59821873248412], \"y\": [-1.752368088371606], \"z\": [-2.8443570200998987]}, {\"marker\": {\"color\": \"red\", \"line\": {\"width\": 0}, \"size\": 2}, \"mode\": \"markers\", \"name\": \"-7.271906796677752\", \"showlegend\": false, \"type\": \"scatter3d\", \"x\": [-1.876261656966392], \"y\": [-9.500605859963326], \"z\": [2.1682507770744737]}, {\"marker\": {\"color\": \"red\", \"line\": {\"width\": 0}, \"size\": 2}, \"mode\": \"markers\", \"name\": \"-6.020765174788777\", \"showlegend\": false, \"type\": \"scatter3d\", \"x\": [1.3051929109046245], \"y\": [-7.646142640577349], \"z\": [1.4339394299892925]}, {\"marker\": {\"color\": \"blue\", \"line\": {\"width\": 0}, \"size\": 2}, \"mode\": \"markers\", \"name\": \"3.4032163190029436\", \"showlegend\": false, \"type\": \"scatter3d\", \"x\": [-0.5586674798935111], \"y\": [-2.6540097021810576], \"z\": [-3.501820403841502]}, {\"marker\": {\"color\": \"blue\", \"line\": {\"width\": 0}, \"size\": 2}, \"mode\": \"markers\", \"name\": \"3.498375571022872\", \"showlegend\": false, \"type\": \"scatter3d\", \"x\": [-0.5370500045819107], \"y\": [-1.3512043294085272], \"z\": [-2.8958779309977802]}, {\"marker\": {\"color\": \"blue\", \"line\": {\"width\": 0}, \"size\": 2}, \"mode\": \"markers\", \"name\": \"5.399494981303321\", \"showlegend\": false, \"type\": \"scatter3d\", \"x\": [-2.4278706306650815], \"y\": [-2.3000648458140063], \"z\": [-4.614732745018286]}, {\"marker\": {\"color\": \"red\", \"line\": {\"width\": 0}, \"size\": 2}, \"mode\": \"markers\", \"name\": \"-8.158467152060055\", \"showlegend\": false, \"type\": \"scatter3d\", \"x\": [-2.189109572086774], \"y\": [-8.930021318895749], \"z\": [3.2854575703891404]}, {\"marker\": {\"color\": \"red\", \"line\": {\"width\": 0}, \"size\": 2}, \"mode\": \"markers\", \"name\": \"-7.36532085006096\", \"showlegend\": false, \"type\": \"scatter3d\", \"x\": [-1.2385625641615214], \"y\": [-10.599400808555691], \"z\": [1.5323078781549717]}, {\"marker\": {\"color\": \"red\", \"line\": {\"width\": 0}, \"size\": 3}, \"mode\": \"markers\", \"name\": \"d=-1.6723577435769634\", \"type\": \"scatter3d\", \"x\": [-1.5491589173759384], \"y\": [-7.250108574555569], \"z\": [-1.4415180189468613]}, {\"line\": {\"width\": 6}, \"marker\": {\"size\": 1}, \"name\": \"^ len_d\", \"type\": \"scatter3d\", \"x\": [-1.5491589173759384, -1.7706167340749384], \"y\": [-7.250108574555569, -6.683732233467037], \"z\": [-1.4415180189468613, -2.5095149089613846]}, {\"line\": {\"width\": 6}, \"marker\": {\"size\": 1}, \"name\": \"^ proj\", \"type\": \"scatter3d\", \"x\": [-1.5491589173759384, 0.32603101144561436], \"y\": [-7.250108574555569, -0.8338213303842907], \"z\": [-1.4415180189468613, 1.5723089456150028]}, {\"marker\": {\"color\": \"blue\", \"line\": {\"width\": 0}, \"size\": 2}, \"mode\": \"markers\", \"name\": \"3.1918338120260854\", \"showlegend\": false, \"type\": \"scatter3d\", \"x\": [-1.6580312392471215], \"y\": [-2.4686234359156143], \"z\": [-2.9967834212358087]}, {\"marker\": {\"color\": \"red\", \"line\": {\"width\": 0}, \"size\": 2}, \"mode\": \"markers\", \"name\": \"-5.669871162336085\", \"showlegend\": false, \"type\": \"scatter3d\", \"x\": [-0.777220540001882], \"y\": [-10.726763450049406], \"z\": [-0.06470266128815605]}, {\"marker\": {\"color\": \"blue\", \"line\": {\"width\": 0}, \"size\": 2}, \"mode\": \"markers\", \"name\": \"3.958652803192405\", \"showlegend\": false, \"type\": \"scatter3d\", \"x\": [-0.2077457436123662], \"y\": [-0.6904645628096294], \"z\": [-3.0030071301117554]}, {\"marker\": {\"color\": \"red\", \"line\": {\"width\": 0}, \"size\": 2}, \"mode\": \"markers\", \"name\": \"-2.447550092734922\", \"showlegend\": false, \"type\": \"scatter3d\", \"x\": [-2.208993881683744], \"y\": [-6.931037127562513], \"z\": [-0.4799236902257027]}, {\"marker\": {\"color\": \"red\", \"line\": {\"width\": 0}, \"size\": 2}, \"mode\": \"markers\", \"name\": \"-6.941279773242325\", \"showlegend\": false, \"type\": \"scatter3d\", \"x\": [-2.1092372461747035], \"y\": [-9.393765145033843], \"z\": [1.993615444124878]}, {\"marker\": {\"color\": \"blue\", \"line\": {\"width\": 0}, \"size\": 2}, \"mode\": \"markers\", \"name\": \"4.7846530664804305\", \"showlegend\": false, \"type\": \"scatter3d\", \"x\": [-0.3180427354058979], \"y\": [-1.4010703116424414], \"z\": [-4.0555125917167665]}, {\"marker\": {\"color\": \"blue\", \"line\": {\"width\": 0}, \"size\": 2}, \"mode\": \"markers\", \"name\": \"3.3010735917912593\", \"showlegend\": false, \"type\": \"scatter3d\", \"x\": [-1.7618984071926949], \"y\": [-2.8473642653630744], \"z\": [-3.268479933536673]}, {\"marker\": {\"color\": \"red\", \"line\": {\"width\": 0}, \"size\": 2}, \"mode\": \"markers\", \"name\": \"-5.950044101774796\", \"showlegend\": false, \"type\": \"scatter3d\", \"x\": [-1.6994184393126137], \"y\": [-9.613804261878917], \"z\": [0.9536793178805771]}, {\"marker\": {\"color\": \"red\", \"line\": {\"width\": 0}, \"size\": 2}, \"mode\": \"markers\", \"name\": \"-7.633803235883658\", \"showlegend\": false, \"type\": \"scatter3d\", \"x\": [-0.8996299869449244], \"y\": [-9.698610632187053], \"z\": [2.1667810560691363]}, {\"marker\": {\"color\": \"red\", \"line\": {\"width\": 0}, \"size\": 3}, \"mode\": \"markers\", \"name\": \"d=-8.68220014164579\", \"type\": \"scatter3d\", \"x\": [0.1265942845014456], \"y\": [-11.219434867826742], \"z\": [2.0340735109649115]}, {\"line\": {\"width\": 6}, \"marker\": {\"size\": 1}, \"name\": \"^ len_d\", \"type\": \"scatter3d\", \"x\": [0.1265942845014456, -1.0231244852398447], \"y\": [-11.219434867826742, -8.279039627807103], \"z\": [2.0340735109649115, -3.5105312755256315]}, {\"line\": {\"width\": 6}, \"marker\": {\"size\": 1}, \"name\": \"^ proj\", \"type\": \"scatter3d\", \"x\": [0.1265942845014456, 1.2542919644879045], \"y\": [-11.219434867826742, -3.2078402293153965], \"z\": [2.0340735109649115, 6.048916842091023]}, {\"marker\": {\"color\": \"blue\", \"line\": {\"width\": 0}, \"size\": 2}, \"mode\": \"markers\", \"name\": \"3.9211677534402103\", \"showlegend\": false, \"type\": \"scatter3d\", \"x\": [-3.2793979214271083], \"y\": [-1.2275904418093788], \"z\": [-2.6192215465178186]}, {\"marker\": {\"color\": \"red\", \"line\": {\"width\": 0}, \"size\": 2}, \"mode\": \"markers\", \"name\": \"-7.6027937904305345\", \"showlegend\": false, \"type\": \"scatter3d\", \"x\": [-0.5448223810947223], \"y\": [-10.13472563123421], \"z\": [1.835705839145523]}, {\"marker\": {\"color\": \"red\", \"line\": {\"width\": 0}, \"size\": 2}, \"mode\": \"markers\", \"name\": \"-5.821797157932275\", \"showlegend\": false, \"type\": \"scatter3d\", \"x\": [-1.9993557985866022], \"y\": [-10.064889958021181], \"z\": [0.6681999291923968]}, {\"marker\": {\"color\": \"blue\", \"line\": {\"width\": 0}, \"size\": 2}, \"mode\": \"markers\", \"name\": \"4.245364290182474\", \"showlegend\": false, \"type\": \"scatter3d\", \"x\": [-0.6920363339672632], \"y\": [-1.58898446753575], \"z\": [-3.6215511381165517]}, {\"marker\": {\"color\": \"blue\", \"line\": {\"width\": 0}, \"size\": 2}, \"mode\": \"markers\", \"name\": \"5.022091692764378\", \"showlegend\": false, \"type\": \"scatter3d\", \"x\": [-0.2605230817068416], \"y\": [-1.9216463929509258], \"z\": [-4.544306524063666]}, {\"marker\": {\"color\": \"blue\", \"line\": {\"width\": 0}, \"size\": 2}, \"mode\": \"markers\", \"name\": \"2.3569180963501593\", \"showlegend\": false, \"type\": \"scatter3d\", \"x\": [-1.7200746184897326], \"y\": [-1.7407911494275212], \"z\": [-1.8918666646659397]}, {\"marker\": {\"color\": \"blue\", \"line\": {\"width\": 0}, \"size\": 2}, \"mode\": \"markers\", \"name\": \"2.0015605232959155\", \"showlegend\": false, \"type\": \"scatter3d\", \"x\": [-0.5415872984195823], \"y\": [-2.5864049413688104], \"z\": [-2.2841602985608693]}, {\"marker\": {\"color\": \"blue\", \"line\": {\"width\": 0}, \"size\": 2}, \"mode\": \"markers\", \"name\": \"5.154922539144522\", \"showlegend\": false, \"type\": \"scatter3d\", \"x\": [-3.1439561214259393], \"y\": [-1.2621558942512991], \"z\": [-3.7089967902252914]}, {\"marker\": {\"color\": \"blue\", \"line\": {\"width\": 0}, \"size\": 2}, \"mode\": \"markers\", \"name\": \"1.805583161621445\", \"showlegend\": false, \"type\": \"scatter3d\", \"x\": [1.9861932534769364], \"y\": [-0.6217826382099462], \"z\": [-1.6007107275242336]}, {\"marker\": {\"color\": \"red\", \"line\": {\"width\": 0}, \"size\": 2}, \"mode\": \"markers\", \"name\": \"-6.669132043541181\", \"showlegend\": false, \"type\": \"scatter3d\", \"x\": [-0.7782447503786115], \"y\": [-10.325689067272036], \"z\": [0.993259319045779]}, {\"marker\": {\"color\": \"blue\", \"line\": {\"width\": 0}, \"size\": 2}, \"mode\": \"markers\", \"name\": \"4.968491853471454\", \"showlegend\": false, \"type\": \"scatter3d\", \"x\": [-2.354351183964895], \"y\": [-1.0009774375225404], \"z\": [-3.576560153702099]}, {\"marker\": {\"color\": \"blue\", \"line\": {\"width\": 0}, \"size\": 2}, \"mode\": \"markers\", \"name\": \"2.6886820066149464\", \"showlegend\": false, \"type\": \"scatter3d\", \"x\": [0.5324423095002062], \"y\": [-3.306711369346252], \"z\": [-3.4699431439198865]}, {\"marker\": {\"color\": \"blue\", \"line\": {\"width\": 0}, \"size\": 2}, \"mode\": \"markers\", \"name\": \"5.755615641158748\", \"showlegend\": false, \"type\": \"scatter3d\", \"x\": [-0.7956119992676421], \"y\": [-1.4661397829437133], \"z\": [-4.812114131071052]}, {\"marker\": {\"color\": \"red\", \"line\": {\"width\": 0}, \"size\": 2}, \"mode\": \"markers\", \"name\": \"-7.373133513763042\", \"showlegend\": false, \"type\": \"scatter3d\", \"x\": [-1.9577775344879664], \"y\": [-10.920914390180792], \"z\": [1.5175459875845316]}, {\"marker\": {\"color\": \"red\", \"line\": {\"width\": 0}, \"size\": 2}, \"mode\": \"markers\", \"name\": \"-4.570804315906345\", \"showlegend\": false, \"type\": \"scatter3d\", \"x\": [-0.846605627083354], \"y\": [-8.203096133170305], \"z\": [0.35857025239482054]}, {\"marker\": {\"color\": \"red\", \"line\": {\"width\": 0}, \"size\": 2}, \"mode\": \"markers\", \"name\": \"-7.430766267422087\", \"showlegend\": false, \"type\": \"scatter3d\", \"x\": [-0.9540985237729442], \"y\": [-11.521798412170888], \"z\": [1.0395050807158799]}, {\"marker\": {\"color\": \"red\", \"line\": {\"width\": 0}, \"size\": 2}, \"mode\": \"markers\", \"name\": \"-7.419750118599422\", \"showlegend\": false, \"type\": \"scatter3d\", \"x\": [-1.167375452343276], \"y\": [-9.11103082677894], \"z\": [2.352883420246779]}, {\"marker\": {\"color\": \"red\", \"line\": {\"width\": 0}, \"size\": 2}, \"mode\": \"markers\", \"name\": \"-5.327682749938603\", \"showlegend\": false, \"type\": \"scatter3d\", \"x\": [-1.6189239231891213], \"y\": [-9.717659394294776], \"z\": [0.35559454508988164]}, {\"marker\": {\"color\": \"blue\", \"line\": {\"width\": 0}, \"size\": 2}, \"mode\": \"markers\", \"name\": \"1.8168566960952754\", \"showlegend\": false, \"type\": \"scatter3d\", \"x\": [2.815140476170738], \"y\": [-0.7715230809383078], \"z\": [-1.8615432636055613]}, {\"marker\": {\"color\": \"red\", \"line\": {\"width\": 0}, \"size\": 2}, \"mode\": \"markers\", \"name\": \"-6.435194759653735\", \"showlegend\": false, \"type\": \"scatter3d\", \"x\": [-2.467714243545209], \"y\": [-10.9026925907463], \"z\": [0.8397543618972337]}, {\"marker\": {\"color\": \"blue\", \"line\": {\"width\": 0}, \"size\": 2}, \"mode\": \"markers\", \"name\": \"3.2707489233151508\", \"showlegend\": false, \"type\": \"scatter3d\", \"x\": [-2.6111194173885], \"y\": [-3.6182375500848063], \"z\": [-3.4755489549556478]}, {\"marker\": {\"color\": \"blue\", \"line\": {\"width\": 0}, \"size\": 2}, \"mode\": \"markers\", \"name\": \"4.721333994800378\", \"showlegend\": false, \"type\": \"scatter3d\", \"x\": [-2.632141027502986], \"y\": [-0.4598978823168711], \"z\": [-3.0229987371752776]}, {\"marker\": {\"color\": \"blue\", \"line\": {\"width\": 0}, \"size\": 2}, \"mode\": \"markers\", \"name\": \"1.9402064694438963\", \"showlegend\": false, \"type\": \"scatter3d\", \"x\": [-0.27369741826522564], \"y\": [-3.07510943607289], \"z\": [-2.5469916880804377]}, {\"marker\": {\"color\": \"red\", \"line\": {\"width\": 0}, \"size\": 2}, \"mode\": \"markers\", \"name\": \"-7.112450124555686\", \"showlegend\": false, \"type\": \"scatter3d\", \"x\": [-0.8562772492940441], \"y\": [-8.682295368407159], \"z\": [2.255863220899003]}, {\"marker\": {\"color\": \"blue\", \"line\": {\"width\": 0}, \"size\": 2}, \"mode\": \"markers\", \"name\": \"3.137233806305106\", \"showlegend\": false, \"type\": \"scatter3d\", \"x\": [0.5109244939452628], \"y\": [-1.4122341513386731], \"z\": [-2.8401393057647053]}, {\"marker\": {\"color\": \"blue\", \"line\": {\"width\": 0}, \"size\": 2}, \"mode\": \"markers\", \"name\": \"4.50996180814799\", \"showlegend\": false, \"type\": \"scatter3d\", \"x\": [-3.3631644102999134], \"y\": [-0.982499871843562], \"z\": [-2.9698066794796447]}, {\"marker\": {\"color\": \"red\", \"line\": {\"width\": 0}, \"size\": 2}, \"mode\": \"markers\", \"name\": \"-5.170175050497405\", \"showlegend\": false, \"type\": \"scatter3d\", \"x\": [-3.6237051481598868], \"y\": [-8.3199538727014], \"z\": [1.3793276051777774]}, {\"marker\": {\"color\": \"red\", \"line\": {\"width\": 0}, \"size\": 2}, \"mode\": \"markers\", \"name\": \"-5.996667698974037\", \"showlegend\": false, \"type\": \"scatter3d\", \"x\": [-0.8982357230332279], \"y\": [-8.915199921999717], \"z\": [1.197457536488295]}, {\"marker\": {\"color\": \"red\", \"line\": {\"width\": 0}, \"size\": 2}, \"mode\": \"markers\", \"name\": \"-8.402585261232074\", \"showlegend\": false, \"type\": \"scatter3d\", \"x\": [-1.6839942264978642], \"y\": [-10.865994029978038], \"z\": [2.3604849815013074]}, {\"marker\": {\"color\": \"blue\", \"line\": {\"width\": 0}, \"size\": 2}, \"mode\": \"markers\", \"name\": \"1.614920527783987\", \"showlegend\": false, \"type\": \"scatter3d\", \"x\": [-0.17566541418362114], \"y\": [-1.8668860471137454], \"z\": [-1.6514913914502833]}, {\"marker\": {\"color\": \"red\", \"line\": {\"width\": 0}, \"size\": 2}, \"mode\": \"markers\", \"name\": \"-7.238232450636451\", \"showlegend\": false, \"type\": \"scatter3d\", \"x\": [-0.5849823521129334], \"y\": [-11.514941909564786], \"z\": [0.8037802928618021]}, {\"marker\": {\"color\": \"red\", \"line\": {\"width\": 0}, \"size\": 2}, \"mode\": \"markers\", \"name\": \"-5.112441274432935\", \"showlegend\": false, \"type\": \"scatter3d\", \"x\": [-2.3015166876819912], \"y\": [-9.049079662462567], \"z\": [0.669669487497659]}, {\"marker\": {\"color\": \"red\", \"line\": {\"width\": 0}, \"size\": 2}, \"mode\": \"markers\", \"name\": \"-7.019929320741591\", \"showlegend\": false, \"type\": \"scatter3d\", \"x\": [-0.062216324103634424], \"y\": [-9.943480711595555], \"z\": [1.3441380516619292]}, {\"marker\": {\"color\": \"blue\", \"line\": {\"width\": 0}, \"size\": 2}, \"mode\": \"markers\", \"name\": \"3.768983968848794\", \"showlegend\": false, \"type\": \"scatter3d\", \"x\": [-0.7791814301690143], \"y\": [-0.7631855276368256], \"z\": [-2.7626816126453972]}, {\"marker\": {\"color\": \"blue\", \"line\": {\"width\": 0}, \"size\": 2}, \"mode\": \"markers\", \"name\": \"2.3337585224494095\", \"showlegend\": false, \"type\": \"scatter3d\", \"x\": [-1.7410530238271087], \"y\": [-2.848071176596078], \"z\": [-2.4551399086483734]}, {\"marker\": {\"color\": \"blue\", \"line\": {\"width\": 0}, \"size\": 2}, \"mode\": \"markers\", \"name\": \"3.790557535574081\", \"showlegend\": false, \"type\": \"scatter3d\", \"x\": [-1.846501587197685], \"y\": [-1.2931171450700611], \"z\": [-2.8406398843183185]}, {\"marker\": {\"color\": \"red\", \"line\": {\"width\": 0}, \"size\": 2}, \"mode\": \"markers\", \"name\": \"-4.5821871151159215\", \"showlegend\": false, \"type\": \"scatter3d\", \"x\": [-1.661618438925011], \"y\": [-9.41498635429603], \"z\": [-0.10548938942187358]}, {\"marker\": {\"color\": \"blue\", \"line\": {\"width\": 0}, \"size\": 2}, \"mode\": \"markers\", \"name\": \"5.070743905234585\", \"showlegend\": false, \"type\": \"scatter3d\", \"x\": [-3.0584698759102187], \"y\": [-1.70706525528034], \"z\": [-3.891477773844276]}, {\"marker\": {\"color\": \"red\", \"line\": {\"width\": 0}, \"size\": 2}, \"mode\": \"markers\", \"name\": \"-4.648204205257206\", \"showlegend\": false, \"type\": \"scatter3d\", \"x\": [-1.4365361275445485], \"y\": [-9.224904911440879], \"z\": [0.004470508804561124]}, {\"marker\": {\"color\": \"red\", \"line\": {\"width\": 0}, \"size\": 2}, \"mode\": \"markers\", \"name\": \"-7.964753679338265\", \"showlegend\": false, \"type\": \"scatter3d\", \"x\": [0.3043850992357515], \"y\": [-12.140924819825662], \"z\": [0.9017969346835247]}, {\"marker\": {\"color\": \"red\", \"line\": {\"width\": 0}, \"size\": 2}, \"mode\": \"markers\", \"name\": \"-6.20851264465576\", \"showlegend\": false, \"type\": \"scatter3d\", \"x\": [-3.1481926117236885], \"y\": [-7.750290697461706], \"z\": [2.4609275681475955]}, {\"marker\": {\"color\": \"red\", \"line\": {\"width\": 0}, \"size\": 2}, \"mode\": \"markers\", \"name\": \"-4.789285322032478\", \"showlegend\": false, \"type\": \"scatter3d\", \"x\": [-2.0279729064537872], \"y\": [-9.472450112468849], \"z\": [0.11514166433384088]}, {\"marker\": {\"color\": \"red\", \"line\": {\"width\": 0}, \"size\": 2}, \"mode\": \"markers\", \"name\": \"-5.107662072174388\", \"showlegend\": false, \"type\": \"scatter3d\", \"x\": [-2.413235230836907], \"y\": [-9.048382808785483], \"z\": [0.6891631187728673]}, {\"marker\": {\"color\": \"red\", \"line\": {\"width\": 0}, \"size\": 2}, \"mode\": \"markers\", \"name\": \"-5.44701210617417\", \"showlegend\": false, \"type\": \"scatter3d\", \"x\": [-1.5562814494106627], \"y\": [-9.99835925717476], \"z\": [0.2946596076377942]}, {\"marker\": {\"color\": \"blue\", \"line\": {\"width\": 0}, \"size\": 2}, \"mode\": \"markers\", \"name\": \"3.4884322907270797\", \"showlegend\": false, \"type\": \"scatter3d\", \"x\": [-1.1724465660561343], \"y\": [-2.439472710192113], \"z\": [-3.3328411309196055]}, {\"marker\": {\"color\": \"blue\", \"line\": {\"width\": 0}, \"size\": 2}, \"mode\": \"markers\", \"name\": \"5.675190791979998\", \"showlegend\": false, \"type\": \"scatter3d\", \"x\": [-1.545326266004287], \"y\": [-3.1393185695146357], \"z\": [-5.475955515667467]}, {\"marker\": {\"color\": \"red\", \"line\": {\"width\": 0}, \"size\": 2}, \"mode\": \"markers\", \"name\": \"-6.956561743285664\", \"showlegend\": false, \"type\": \"scatter3d\", \"x\": [-1.357320622512882], \"y\": [-8.656772358005192], \"z\": [2.2414624781712167]}, {\"marker\": {\"color\": \"red\", \"line\": {\"width\": 0}, \"size\": 2}, \"mode\": \"markers\", \"name\": \"-6.0707436787484585\", \"showlegend\": false, \"type\": \"scatter3d\", \"x\": [-1.6611944746752747], \"y\": [-9.857144786521168], \"z\": [0.9187787946802018]}, {\"marker\": {\"color\": \"red\", \"line\": {\"width\": 0}, \"size\": 2}, \"mode\": \"markers\", \"name\": \"-7.257957774668059\", \"showlegend\": false, \"type\": \"scatter3d\", \"x\": [-0.7377493850108957], \"y\": [-9.794983560435583], \"z\": [1.7642612956435944]}, {\"marker\": {\"color\": \"blue\", \"line\": {\"width\": 0}, \"size\": 2}, \"mode\": \"markers\", \"name\": \"3.840385348964566\", \"showlegend\": false, \"type\": \"scatter3d\", \"x\": [-2.7469164972912514], \"y\": [-1.9306617356064473], \"z\": [-3.034170248128713]}, {\"marker\": {\"color\": \"blue\", \"line\": {\"width\": 0}, \"size\": 2}, \"mode\": \"markers\", \"name\": \"2.440303501716376\", \"showlegend\": false, \"type\": \"scatter3d\", \"x\": [-0.423953950089518], \"y\": [-2.679734533092661], \"z\": [-2.7290821665268874]}, {\"marker\": {\"color\": \"blue\", \"line\": {\"width\": 0}, \"size\": 3}, \"mode\": \"markers\", \"name\": \"d=7.053238973540454\", \"type\": \"scatter3d\", \"x\": [-2.317067132432493], \"y\": [-2.040818781594588], \"z\": [-5.8987617119969125]}, {\"line\": {\"width\": 6}, \"marker\": {\"size\": 1}, \"name\": \"^ len_d\", \"type\": \"scatter3d\", \"x\": [-2.317067132432493, -1.3830594957675917], \"y\": [-2.040818781594588, -4.429534771340021], \"z\": [-5.8987617119969125, -1.394440003796705]}, {\"line\": {\"width\": 6}, \"marker\": {\"size\": 1}, \"name\": \"^ proj\", \"type\": \"scatter3d\", \"x\": [-2.317067132432493, -0.8294344419182867], \"y\": [-2.040818781594588, 2.121271000449674], \"z\": [-5.8987617119969125, -4.0000096525997275]}, {\"showlegend\": false, \"showscale\": false, \"type\": \"surface\", \"x\": [[-4.408352726127168, -4.147522176694111, -3.886691627261055, -3.6258610778279987, -3.365030528394942, -3.1041999789618853, -2.843369429528829, -2.5825388800957727, -2.321708330662716, -2.0608777812296593, -1.800047231796603, -1.5392166823635467, -1.27838613293049, -1.0175555834974332, -0.756725034064377, -0.4958944846313207, -0.23506393519826396, 0.025766614234792762, 0.2865971636678495, 0.5474277131009053, 0.808258262533962, 1.0690888119670188, 1.3299193614000746, 1.5907499108331313, 1.851580460266188, 2.112411009699245, 2.3732415591323015, 2.6340721085653573, 2.894902657998414, 3.1557332074314712], [-4.408352726127168, -4.147522176694111, -3.886691627261055, -3.6258610778279987, -3.365030528394942, -3.1041999789618853, -2.843369429528829, -2.5825388800957727, -2.321708330662716, -2.0608777812296593, -1.800047231796603, -1.5392166823635467, -1.27838613293049, -1.0175555834974332, -0.756725034064377, -0.4958944846313207, -0.23506393519826396, 0.025766614234792762, 0.2865971636678495, 0.5474277131009053, 0.808258262533962, 1.0690888119670188, 1.3299193614000746, 1.5907499108331313, 1.851580460266188, 2.112411009699245, 2.3732415591323015, 2.6340721085653573, 2.894902657998414, 3.1557332074314712], [-4.408352726127168, -4.147522176694111, -3.886691627261055, -3.6258610778279987, -3.365030528394942, -3.1041999789618853, -2.843369429528829, -2.5825388800957727, -2.321708330662716, -2.0608777812296593, -1.800047231796603, -1.5392166823635467, -1.27838613293049, -1.0175555834974332, -0.756725034064377, -0.4958944846313207, -0.23506393519826396, 0.025766614234792762, 0.2865971636678495, 0.5474277131009053, 0.808258262533962, 1.0690888119670188, 1.3299193614000746, 1.5907499108331313, 1.851580460266188, 2.112411009699245, 2.3732415591323015, 2.6340721085653573, 2.894902657998414, 3.1557332074314712], [-4.408352726127168, -4.147522176694111, -3.886691627261055, -3.6258610778279987, -3.365030528394942, -3.1041999789618853, -2.843369429528829, -2.5825388800957727, -2.321708330662716, -2.0608777812296593, -1.800047231796603, -1.5392166823635467, -1.27838613293049, -1.0175555834974332, -0.756725034064377, -0.4958944846313207, -0.23506393519826396, 0.025766614234792762, 0.2865971636678495, 0.5474277131009053, 0.808258262533962, 1.0690888119670188, 1.3299193614000746, 1.5907499108331313, 1.851580460266188, 2.112411009699245, 2.3732415591323015, 2.6340721085653573, 2.894902657998414, 3.1557332074314712], [-4.408352726127168, -4.147522176694111, -3.886691627261055, -3.6258610778279987, -3.365030528394942, -3.1041999789618853, -2.843369429528829, -2.5825388800957727, -2.321708330662716, -2.0608777812296593, -1.800047231796603, -1.5392166823635467, -1.27838613293049, -1.0175555834974332, -0.756725034064377, -0.4958944846313207, -0.23506393519826396, 0.025766614234792762, 0.2865971636678495, 0.5474277131009053, 0.808258262533962, 1.0690888119670188, 1.3299193614000746, 1.5907499108331313, 1.851580460266188, 2.112411009699245, 2.3732415591323015, 2.6340721085653573, 2.894902657998414, 3.1557332074314712], [-4.408352726127168, -4.147522176694111, -3.886691627261055, -3.6258610778279987, -3.365030528394942, -3.1041999789618853, -2.843369429528829, -2.5825388800957727, -2.321708330662716, -2.0608777812296593, -1.800047231796603, -1.5392166823635467, -1.27838613293049, -1.0175555834974332, -0.756725034064377, -0.4958944846313207, -0.23506393519826396, 0.025766614234792762, 0.2865971636678495, 0.5474277131009053, 0.808258262533962, 1.0690888119670188, 1.3299193614000746, 1.5907499108331313, 1.851580460266188, 2.112411009699245, 2.3732415591323015, 2.6340721085653573, 2.894902657998414, 3.1557332074314712], [-4.408352726127168, -4.147522176694111, -3.886691627261055, -3.6258610778279987, -3.365030528394942, -3.1041999789618853, -2.843369429528829, -2.5825388800957727, -2.321708330662716, -2.0608777812296593, -1.800047231796603, -1.5392166823635467, -1.27838613293049, -1.0175555834974332, -0.756725034064377, -0.4958944846313207, -0.23506393519826396, 0.025766614234792762, 0.2865971636678495, 0.5474277131009053, 0.808258262533962, 1.0690888119670188, 1.3299193614000746, 1.5907499108331313, 1.851580460266188, 2.112411009699245, 2.3732415591323015, 2.6340721085653573, 2.894902657998414, 3.1557332074314712], [-4.408352726127168, -4.147522176694111, -3.886691627261055, -3.6258610778279987, -3.365030528394942, -3.1041999789618853, -2.843369429528829, -2.5825388800957727, -2.321708330662716, -2.0608777812296593, -1.800047231796603, -1.5392166823635467, -1.27838613293049, -1.0175555834974332, -0.756725034064377, -0.4958944846313207, -0.23506393519826396, 0.025766614234792762, 0.2865971636678495, 0.5474277131009053, 0.808258262533962, 1.0690888119670188, 1.3299193614000746, 1.5907499108331313, 1.851580460266188, 2.112411009699245, 2.3732415591323015, 2.6340721085653573, 2.894902657998414, 3.1557332074314712], [-4.408352726127168, -4.147522176694111, -3.886691627261055, -3.6258610778279987, -3.365030528394942, -3.1041999789618853, -2.843369429528829, -2.5825388800957727, -2.321708330662716, -2.0608777812296593, -1.800047231796603, -1.5392166823635467, -1.27838613293049, -1.0175555834974332, -0.756725034064377, -0.4958944846313207, -0.23506393519826396, 0.025766614234792762, 0.2865971636678495, 0.5474277131009053, 0.808258262533962, 1.0690888119670188, 1.3299193614000746, 1.5907499108331313, 1.851580460266188, 2.112411009699245, 2.3732415591323015, 2.6340721085653573, 2.894902657998414, 3.1557332074314712], [-4.408352726127168, -4.147522176694111, -3.886691627261055, -3.6258610778279987, -3.365030528394942, -3.1041999789618853, -2.843369429528829, -2.5825388800957727, -2.321708330662716, -2.0608777812296593, -1.800047231796603, -1.5392166823635467, -1.27838613293049, -1.0175555834974332, -0.756725034064377, -0.4958944846313207, -0.23506393519826396, 0.025766614234792762, 0.2865971636678495, 0.5474277131009053, 0.808258262533962, 1.0690888119670188, 1.3299193614000746, 1.5907499108331313, 1.851580460266188, 2.112411009699245, 2.3732415591323015, 2.6340721085653573, 2.894902657998414, 3.1557332074314712], [-4.408352726127168, -4.147522176694111, -3.886691627261055, -3.6258610778279987, -3.365030528394942, -3.1041999789618853, -2.843369429528829, -2.5825388800957727, -2.321708330662716, -2.0608777812296593, -1.800047231796603, -1.5392166823635467, -1.27838613293049, -1.0175555834974332, -0.756725034064377, -0.4958944846313207, -0.23506393519826396, 0.025766614234792762, 0.2865971636678495, 0.5474277131009053, 0.808258262533962, 1.0690888119670188, 1.3299193614000746, 1.5907499108331313, 1.851580460266188, 2.112411009699245, 2.3732415591323015, 2.6340721085653573, 2.894902657998414, 3.1557332074314712], [-4.408352726127168, -4.147522176694111, -3.886691627261055, -3.6258610778279987, -3.365030528394942, -3.1041999789618853, -2.843369429528829, -2.5825388800957727, -2.321708330662716, -2.0608777812296593, -1.800047231796603, -1.5392166823635467, -1.27838613293049, -1.0175555834974332, -0.756725034064377, -0.4958944846313207, -0.23506393519826396, 0.025766614234792762, 0.2865971636678495, 0.5474277131009053, 0.808258262533962, 1.0690888119670188, 1.3299193614000746, 1.5907499108331313, 1.851580460266188, 2.112411009699245, 2.3732415591323015, 2.6340721085653573, 2.894902657998414, 3.1557332074314712], [-4.408352726127168, -4.147522176694111, -3.886691627261055, -3.6258610778279987, -3.365030528394942, -3.1041999789618853, -2.843369429528829, -2.5825388800957727, -2.321708330662716, -2.0608777812296593, -1.800047231796603, -1.5392166823635467, -1.27838613293049, -1.0175555834974332, -0.756725034064377, -0.4958944846313207, -0.23506393519826396, 0.025766614234792762, 0.2865971636678495, 0.5474277131009053, 0.808258262533962, 1.0690888119670188, 1.3299193614000746, 1.5907499108331313, 1.851580460266188, 2.112411009699245, 2.3732415591323015, 2.6340721085653573, 2.894902657998414, 3.1557332074314712], [-4.408352726127168, -4.147522176694111, -3.886691627261055, -3.6258610778279987, -3.365030528394942, -3.1041999789618853, -2.843369429528829, -2.5825388800957727, -2.321708330662716, -2.0608777812296593, -1.800047231796603, -1.5392166823635467, -1.27838613293049, -1.0175555834974332, -0.756725034064377, -0.4958944846313207, -0.23506393519826396, 0.025766614234792762, 0.2865971636678495, 0.5474277131009053, 0.808258262533962, 1.0690888119670188, 1.3299193614000746, 1.5907499108331313, 1.851580460266188, 2.112411009699245, 2.3732415591323015, 2.6340721085653573, 2.894902657998414, 3.1557332074314712], [-4.408352726127168, -4.147522176694111, -3.886691627261055, -3.6258610778279987, -3.365030528394942, -3.1041999789618853, -2.843369429528829, -2.5825388800957727, -2.321708330662716, -2.0608777812296593, -1.800047231796603, -1.5392166823635467, -1.27838613293049, -1.0175555834974332, -0.756725034064377, -0.4958944846313207, -0.23506393519826396, 0.025766614234792762, 0.2865971636678495, 0.5474277131009053, 0.808258262533962, 1.0690888119670188, 1.3299193614000746, 1.5907499108331313, 1.851580460266188, 2.112411009699245, 2.3732415591323015, 2.6340721085653573, 2.894902657998414, 3.1557332074314712], [-4.408352726127168, -4.147522176694111, -3.886691627261055, -3.6258610778279987, -3.365030528394942, -3.1041999789618853, -2.843369429528829, -2.5825388800957727, -2.321708330662716, -2.0608777812296593, -1.800047231796603, -1.5392166823635467, -1.27838613293049, -1.0175555834974332, -0.756725034064377, -0.4958944846313207, -0.23506393519826396, 0.025766614234792762, 0.2865971636678495, 0.5474277131009053, 0.808258262533962, 1.0690888119670188, 1.3299193614000746, 1.5907499108331313, 1.851580460266188, 2.112411009699245, 2.3732415591323015, 2.6340721085653573, 2.894902657998414, 3.1557332074314712], [-4.408352726127168, -4.147522176694111, -3.886691627261055, -3.6258610778279987, -3.365030528394942, -3.1041999789618853, -2.843369429528829, -2.5825388800957727, -2.321708330662716, -2.0608777812296593, -1.800047231796603, -1.5392166823635467, -1.27838613293049, -1.0175555834974332, -0.756725034064377, -0.4958944846313207, -0.23506393519826396, 0.025766614234792762, 0.2865971636678495, 0.5474277131009053, 0.808258262533962, 1.0690888119670188, 1.3299193614000746, 1.5907499108331313, 1.851580460266188, 2.112411009699245, 2.3732415591323015, 2.6340721085653573, 2.894902657998414, 3.1557332074314712], [-4.408352726127168, -4.147522176694111, -3.886691627261055, -3.6258610778279987, -3.365030528394942, -3.1041999789618853, -2.843369429528829, -2.5825388800957727, -2.321708330662716, -2.0608777812296593, -1.800047231796603, -1.5392166823635467, -1.27838613293049, -1.0175555834974332, -0.756725034064377, -0.4958944846313207, -0.23506393519826396, 0.025766614234792762, 0.2865971636678495, 0.5474277131009053, 0.808258262533962, 1.0690888119670188, 1.3299193614000746, 1.5907499108331313, 1.851580460266188, 2.112411009699245, 2.3732415591323015, 2.6340721085653573, 2.894902657998414, 3.1557332074314712], [-4.408352726127168, -4.147522176694111, -3.886691627261055, -3.6258610778279987, -3.365030528394942, -3.1041999789618853, -2.843369429528829, -2.5825388800957727, -2.321708330662716, -2.0608777812296593, -1.800047231796603, -1.5392166823635467, -1.27838613293049, -1.0175555834974332, -0.756725034064377, -0.4958944846313207, -0.23506393519826396, 0.025766614234792762, 0.2865971636678495, 0.5474277131009053, 0.808258262533962, 1.0690888119670188, 1.3299193614000746, 1.5907499108331313, 1.851580460266188, 2.112411009699245, 2.3732415591323015, 2.6340721085653573, 2.894902657998414, 3.1557332074314712], [-4.408352726127168, -4.147522176694111, -3.886691627261055, -3.6258610778279987, -3.365030528394942, -3.1041999789618853, -2.843369429528829, -2.5825388800957727, -2.321708330662716, -2.0608777812296593, -1.800047231796603, -1.5392166823635467, -1.27838613293049, -1.0175555834974332, -0.756725034064377, -0.4958944846313207, -0.23506393519826396, 0.025766614234792762, 0.2865971636678495, 0.5474277131009053, 0.808258262533962, 1.0690888119670188, 1.3299193614000746, 1.5907499108331313, 1.851580460266188, 2.112411009699245, 2.3732415591323015, 2.6340721085653573, 2.894902657998414, 3.1557332074314712], [-4.408352726127168, -4.147522176694111, -3.886691627261055, -3.6258610778279987, -3.365030528394942, -3.1041999789618853, -2.843369429528829, -2.5825388800957727, -2.321708330662716, -2.0608777812296593, -1.800047231796603, -1.5392166823635467, -1.27838613293049, -1.0175555834974332, -0.756725034064377, -0.4958944846313207, -0.23506393519826396, 0.025766614234792762, 0.2865971636678495, 0.5474277131009053, 0.808258262533962, 1.0690888119670188, 1.3299193614000746, 1.5907499108331313, 1.851580460266188, 2.112411009699245, 2.3732415591323015, 2.6340721085653573, 2.894902657998414, 3.1557332074314712], [-4.408352726127168, -4.147522176694111, -3.886691627261055, -3.6258610778279987, -3.365030528394942, -3.1041999789618853, -2.843369429528829, -2.5825388800957727, -2.321708330662716, -2.0608777812296593, -1.800047231796603, -1.5392166823635467, -1.27838613293049, -1.0175555834974332, -0.756725034064377, -0.4958944846313207, -0.23506393519826396, 0.025766614234792762, 0.2865971636678495, 0.5474277131009053, 0.808258262533962, 1.0690888119670188, 1.3299193614000746, 1.5907499108331313, 1.851580460266188, 2.112411009699245, 2.3732415591323015, 2.6340721085653573, 2.894902657998414, 3.1557332074314712], [-4.408352726127168, -4.147522176694111, -3.886691627261055, -3.6258610778279987, -3.365030528394942, -3.1041999789618853, -2.843369429528829, -2.5825388800957727, -2.321708330662716, -2.0608777812296593, -1.800047231796603, -1.5392166823635467, -1.27838613293049, -1.0175555834974332, -0.756725034064377, -0.4958944846313207, -0.23506393519826396, 0.025766614234792762, 0.2865971636678495, 0.5474277131009053, 0.808258262533962, 1.0690888119670188, 1.3299193614000746, 1.5907499108331313, 1.851580460266188, 2.112411009699245, 2.3732415591323015, 2.6340721085653573, 2.894902657998414, 3.1557332074314712], [-4.408352726127168, -4.147522176694111, -3.886691627261055, -3.6258610778279987, -3.365030528394942, -3.1041999789618853, -2.843369429528829, -2.5825388800957727, -2.321708330662716, -2.0608777812296593, -1.800047231796603, -1.5392166823635467, -1.27838613293049, -1.0175555834974332, -0.756725034064377, -0.4958944846313207, -0.23506393519826396, 0.025766614234792762, 0.2865971636678495, 0.5474277131009053, 0.808258262533962, 1.0690888119670188, 1.3299193614000746, 1.5907499108331313, 1.851580460266188, 2.112411009699245, 2.3732415591323015, 2.6340721085653573, 2.894902657998414, 3.1557332074314712], [-4.408352726127168, -4.147522176694111, -3.886691627261055, -3.6258610778279987, -3.365030528394942, -3.1041999789618853, -2.843369429528829, -2.5825388800957727, -2.321708330662716, -2.0608777812296593, -1.800047231796603, -1.5392166823635467, -1.27838613293049, -1.0175555834974332, -0.756725034064377, -0.4958944846313207, -0.23506393519826396, 0.025766614234792762, 0.2865971636678495, 0.5474277131009053, 0.808258262533962, 1.0690888119670188, 1.3299193614000746, 1.5907499108331313, 1.851580460266188, 2.112411009699245, 2.3732415591323015, 2.6340721085653573, 2.894902657998414, 3.1557332074314712], [-4.408352726127168, -4.147522176694111, -3.886691627261055, -3.6258610778279987, -3.365030528394942, -3.1041999789618853, -2.843369429528829, -2.5825388800957727, -2.321708330662716, -2.0608777812296593, -1.800047231796603, -1.5392166823635467, -1.27838613293049, -1.0175555834974332, -0.756725034064377, -0.4958944846313207, -0.23506393519826396, 0.025766614234792762, 0.2865971636678495, 0.5474277131009053, 0.808258262533962, 1.0690888119670188, 1.3299193614000746, 1.5907499108331313, 1.851580460266188, 2.112411009699245, 2.3732415591323015, 2.6340721085653573, 2.894902657998414, 3.1557332074314712], [-4.408352726127168, -4.147522176694111, -3.886691627261055, -3.6258610778279987, -3.365030528394942, -3.1041999789618853, -2.843369429528829, -2.5825388800957727, -2.321708330662716, -2.0608777812296593, -1.800047231796603, -1.5392166823635467, -1.27838613293049, -1.0175555834974332, -0.756725034064377, -0.4958944846313207, -0.23506393519826396, 0.025766614234792762, 0.2865971636678495, 0.5474277131009053, 0.808258262533962, 1.0690888119670188, 1.3299193614000746, 1.5907499108331313, 1.851580460266188, 2.112411009699245, 2.3732415591323015, 2.6340721085653573, 2.894902657998414, 3.1557332074314712], [-4.408352726127168, -4.147522176694111, -3.886691627261055, -3.6258610778279987, -3.365030528394942, -3.1041999789618853, -2.843369429528829, -2.5825388800957727, -2.321708330662716, -2.0608777812296593, -1.800047231796603, -1.5392166823635467, -1.27838613293049, -1.0175555834974332, -0.756725034064377, -0.4958944846313207, -0.23506393519826396, 0.025766614234792762, 0.2865971636678495, 0.5474277131009053, 0.808258262533962, 1.0690888119670188, 1.3299193614000746, 1.5907499108331313, 1.851580460266188, 2.112411009699245, 2.3732415591323015, 2.6340721085653573, 2.894902657998414, 3.1557332074314712], [-4.408352726127168, -4.147522176694111, -3.886691627261055, -3.6258610778279987, -3.365030528394942, -3.1041999789618853, -2.843369429528829, -2.5825388800957727, -2.321708330662716, -2.0608777812296593, -1.800047231796603, -1.5392166823635467, -1.27838613293049, -1.0175555834974332, -0.756725034064377, -0.4958944846313207, -0.23506393519826396, 0.025766614234792762, 0.2865971636678495, 0.5474277131009053, 0.808258262533962, 1.0690888119670188, 1.3299193614000746, 1.5907499108331313, 1.851580460266188, 2.112411009699245, 2.3732415591323015, 2.6340721085653573, 2.894902657998414, 3.1557332074314712], [-4.408352726127168, -4.147522176694111, -3.886691627261055, -3.6258610778279987, -3.365030528394942, -3.1041999789618853, -2.843369429528829, -2.5825388800957727, -2.321708330662716, -2.0608777812296593, -1.800047231796603, -1.5392166823635467, -1.27838613293049, -1.0175555834974332, -0.756725034064377, -0.4958944846313207, -0.23506393519826396, 0.025766614234792762, 0.2865971636678495, 0.5474277131009053, 0.808258262533962, 1.0690888119670188, 1.3299193614000746, 1.5907499108331313, 1.851580460266188, 2.112411009699245, 2.3732415591323015, 2.6340721085653573, 2.894902657998414, 3.1557332074314712]], \"y\": [[-9.543506720199161, -9.543506720199161, -9.543506720199161, -9.543506720199161, -9.543506720199161, -9.543506720199161, -9.543506720199161, -9.543506720199161, -9.543506720199161, -9.543506720199161, -9.543506720199161, -9.543506720199161, -9.543506720199161, -9.543506720199161, -9.543506720199161, -9.543506720199161, -9.543506720199161, -9.543506720199161, -9.543506720199161, -9.543506720199161, -9.543506720199161, -9.543506720199161, -9.543506720199161, -9.543506720199161, -9.543506720199161, -9.543506720199161, -9.543506720199161, -9.543506720199161, -9.543506720199161, -9.543506720199161], [-9.253498845278807, -9.253498845278807, -9.253498845278807, -9.253498845278807, -9.253498845278807, -9.253498845278807, -9.253498845278807, -9.253498845278807, -9.253498845278807, -9.253498845278807, -9.253498845278807, -9.253498845278807, -9.253498845278807, -9.253498845278807, -9.253498845278807, -9.253498845278807, -9.253498845278807, -9.253498845278807, -9.253498845278807, -9.253498845278807, -9.253498845278807, -9.253498845278807, -9.253498845278807, -9.253498845278807, -9.253498845278807, -9.253498845278807, -9.253498845278807, -9.253498845278807, -9.253498845278807, -9.253498845278807], [-8.963490970358455, -8.963490970358455, -8.963490970358455, -8.963490970358455, -8.963490970358455, -8.963490970358455, -8.963490970358455, -8.963490970358455, -8.963490970358455, -8.963490970358455, -8.963490970358455, -8.963490970358455, -8.963490970358455, -8.963490970358455, -8.963490970358455, -8.963490970358455, -8.963490970358455, -8.963490970358455, -8.963490970358455, -8.963490970358455, -8.963490970358455, -8.963490970358455, -8.963490970358455, -8.963490970358455, -8.963490970358455, -8.963490970358455, -8.963490970358455, -8.963490970358455, -8.963490970358455, -8.963490970358455], [-8.673483095438101, -8.673483095438101, -8.673483095438101, -8.673483095438101, -8.673483095438101, -8.673483095438101, -8.673483095438101, -8.673483095438101, -8.673483095438101, -8.673483095438101, -8.673483095438101, -8.673483095438101, -8.673483095438101, -8.673483095438101, -8.673483095438101, -8.673483095438101, -8.673483095438101, -8.673483095438101, -8.673483095438101, -8.673483095438101, -8.673483095438101, -8.673483095438101, -8.673483095438101, -8.673483095438101, -8.673483095438101, -8.673483095438101, -8.673483095438101, -8.673483095438101, -8.673483095438101, -8.673483095438101], [-8.383475220517749, -8.383475220517749, -8.383475220517749, -8.383475220517749, -8.383475220517749, -8.383475220517749, -8.383475220517749, -8.383475220517749, -8.383475220517749, -8.383475220517749, -8.383475220517749, -8.383475220517749, -8.383475220517749, -8.383475220517749, -8.383475220517749, -8.383475220517749, -8.383475220517749, -8.383475220517749, -8.383475220517749, -8.383475220517749, -8.383475220517749, -8.383475220517749, -8.383475220517749, -8.383475220517749, -8.383475220517749, -8.383475220517749, -8.383475220517749, -8.383475220517749, -8.383475220517749, -8.383475220517749], [-8.093467345597395, -8.093467345597395, -8.093467345597395, -8.093467345597395, -8.093467345597395, -8.093467345597395, -8.093467345597395, -8.093467345597395, -8.093467345597395, -8.093467345597395, -8.093467345597395, -8.093467345597395, -8.093467345597395, -8.093467345597395, -8.093467345597395, -8.093467345597395, -8.093467345597395, -8.093467345597395, -8.093467345597395, -8.093467345597395, -8.093467345597395, -8.093467345597395, -8.093467345597395, -8.093467345597395, -8.093467345597395, -8.093467345597395, -8.093467345597395, -8.093467345597395, -8.093467345597395, -8.093467345597395], [-7.8034594706770415, -7.8034594706770415, -7.8034594706770415, -7.8034594706770415, -7.8034594706770415, -7.8034594706770415, -7.8034594706770415, -7.8034594706770415, -7.8034594706770415, -7.8034594706770415, -7.8034594706770415, -7.8034594706770415, -7.8034594706770415, -7.8034594706770415, -7.8034594706770415, -7.8034594706770415, -7.8034594706770415, -7.8034594706770415, -7.8034594706770415, -7.8034594706770415, -7.8034594706770415, -7.8034594706770415, -7.8034594706770415, -7.8034594706770415, -7.8034594706770415, -7.8034594706770415, -7.8034594706770415, -7.8034594706770415, -7.8034594706770415, -7.8034594706770415], [-7.513451595756688, -7.513451595756688, -7.513451595756688, -7.513451595756688, -7.513451595756688, -7.513451595756688, -7.513451595756688, -7.513451595756688, -7.513451595756688, -7.513451595756688, -7.513451595756688, -7.513451595756688, -7.513451595756688, -7.513451595756688, -7.513451595756688, -7.513451595756688, -7.513451595756688, -7.513451595756688, -7.513451595756688, -7.513451595756688, -7.513451595756688, -7.513451595756688, -7.513451595756688, -7.513451595756688, -7.513451595756688, -7.513451595756688, -7.513451595756688, -7.513451595756688, -7.513451595756688, -7.513451595756688], [-7.223443720836335, -7.223443720836335, -7.223443720836335, -7.223443720836335, -7.223443720836335, -7.223443720836335, -7.223443720836335, -7.223443720836335, -7.223443720836335, -7.223443720836335, -7.223443720836335, -7.223443720836335, -7.223443720836335, -7.223443720836335, -7.223443720836335, -7.223443720836335, -7.223443720836335, -7.223443720836335, -7.223443720836335, -7.223443720836335, -7.223443720836335, -7.223443720836335, -7.223443720836335, -7.223443720836335, -7.223443720836335, -7.223443720836335, -7.223443720836335, -7.223443720836335, -7.223443720836335, -7.223443720836335], [-6.933435845915982, -6.933435845915982, -6.933435845915982, -6.933435845915982, -6.933435845915982, -6.933435845915982, -6.933435845915982, -6.933435845915982, -6.933435845915982, -6.933435845915982, -6.933435845915982, -6.933435845915982, -6.933435845915982, -6.933435845915982, -6.933435845915982, -6.933435845915982, -6.933435845915982, -6.933435845915982, -6.933435845915982, -6.933435845915982, -6.933435845915982, -6.933435845915982, -6.933435845915982, -6.933435845915982, -6.933435845915982, -6.933435845915982, -6.933435845915982, -6.933435845915982, -6.933435845915982, -6.933435845915982], [-6.643427970995629, -6.643427970995629, -6.643427970995629, -6.643427970995629, -6.643427970995629, -6.643427970995629, -6.643427970995629, -6.643427970995629, -6.643427970995629, -6.643427970995629, -6.643427970995629, -6.643427970995629, -6.643427970995629, -6.643427970995629, -6.643427970995629, -6.643427970995629, -6.643427970995629, -6.643427970995629, -6.643427970995629, -6.643427970995629, -6.643427970995629, -6.643427970995629, -6.643427970995629, -6.643427970995629, -6.643427970995629, -6.643427970995629, -6.643427970995629, -6.643427970995629, -6.643427970995629, -6.643427970995629], [-6.353420096075276, -6.353420096075276, -6.353420096075276, -6.353420096075276, -6.353420096075276, -6.353420096075276, -6.353420096075276, -6.353420096075276, -6.353420096075276, -6.353420096075276, -6.353420096075276, -6.353420096075276, -6.353420096075276, -6.353420096075276, -6.353420096075276, -6.353420096075276, -6.353420096075276, -6.353420096075276, -6.353420096075276, -6.353420096075276, -6.353420096075276, -6.353420096075276, -6.353420096075276, -6.353420096075276, -6.353420096075276, -6.353420096075276, -6.353420096075276, -6.353420096075276, -6.353420096075276, -6.353420096075276], [-6.0634122211549215, -6.0634122211549215, -6.0634122211549215, -6.0634122211549215, -6.0634122211549215, -6.0634122211549215, -6.0634122211549215, -6.0634122211549215, -6.0634122211549215, -6.0634122211549215, -6.0634122211549215, -6.0634122211549215, -6.0634122211549215, -6.0634122211549215, -6.0634122211549215, -6.0634122211549215, -6.0634122211549215, -6.0634122211549215, -6.0634122211549215, -6.0634122211549215, -6.0634122211549215, -6.0634122211549215, -6.0634122211549215, -6.0634122211549215, -6.0634122211549215, -6.0634122211549215, -6.0634122211549215, -6.0634122211549215, -6.0634122211549215, -6.0634122211549215], [-5.773404346234569, -5.773404346234569, -5.773404346234569, -5.773404346234569, -5.773404346234569, -5.773404346234569, -5.773404346234569, -5.773404346234569, -5.773404346234569, -5.773404346234569, -5.773404346234569, -5.773404346234569, -5.773404346234569, -5.773404346234569, -5.773404346234569, -5.773404346234569, -5.773404346234569, -5.773404346234569, -5.773404346234569, -5.773404346234569, -5.773404346234569, -5.773404346234569, -5.773404346234569, -5.773404346234569, -5.773404346234569, -5.773404346234569, -5.773404346234569, -5.773404346234569, -5.773404346234569, -5.773404346234569], [-5.483396471314215, -5.483396471314215, -5.483396471314215, -5.483396471314215, -5.483396471314215, -5.483396471314215, -5.483396471314215, -5.483396471314215, -5.483396471314215, -5.483396471314215, -5.483396471314215, -5.483396471314215, -5.483396471314215, -5.483396471314215, -5.483396471314215, -5.483396471314215, -5.483396471314215, -5.483396471314215, -5.483396471314215, -5.483396471314215, -5.483396471314215, -5.483396471314215, -5.483396471314215, -5.483396471314215, -5.483396471314215, -5.483396471314215, -5.483396471314215, -5.483396471314215, -5.483396471314215, -5.483396471314215], [-5.193388596393862, -5.193388596393862, -5.193388596393862, -5.193388596393862, -5.193388596393862, -5.193388596393862, -5.193388596393862, -5.193388596393862, -5.193388596393862, -5.193388596393862, -5.193388596393862, -5.193388596393862, -5.193388596393862, -5.193388596393862, -5.193388596393862, -5.193388596393862, -5.193388596393862, -5.193388596393862, -5.193388596393862, -5.193388596393862, -5.193388596393862, -5.193388596393862, -5.193388596393862, -5.193388596393862, -5.193388596393862, -5.193388596393862, -5.193388596393862, -5.193388596393862, -5.193388596393862, -5.193388596393862], [-4.903380721473509, -4.903380721473509, -4.903380721473509, -4.903380721473509, -4.903380721473509, -4.903380721473509, -4.903380721473509, -4.903380721473509, -4.903380721473509, -4.903380721473509, -4.903380721473509, -4.903380721473509, -4.903380721473509, -4.903380721473509, -4.903380721473509, -4.903380721473509, -4.903380721473509, -4.903380721473509, -4.903380721473509, -4.903380721473509, -4.903380721473509, -4.903380721473509, -4.903380721473509, -4.903380721473509, -4.903380721473509, -4.903380721473509, -4.903380721473509, -4.903380721473509, -4.903380721473509, -4.903380721473509], [-4.613372846553156, -4.613372846553156, -4.613372846553156, -4.613372846553156, -4.613372846553156, -4.613372846553156, -4.613372846553156, -4.613372846553156, -4.613372846553156, -4.613372846553156, -4.613372846553156, -4.613372846553156, -4.613372846553156, -4.613372846553156, -4.613372846553156, -4.613372846553156, -4.613372846553156, -4.613372846553156, -4.613372846553156, -4.613372846553156, -4.613372846553156, -4.613372846553156, -4.613372846553156, -4.613372846553156, -4.613372846553156, -4.613372846553156, -4.613372846553156, -4.613372846553156, -4.613372846553156, -4.613372846553156], [-4.323364971632802, -4.323364971632802, -4.323364971632802, -4.323364971632802, -4.323364971632802, -4.323364971632802, -4.323364971632802, -4.323364971632802, -4.323364971632802, -4.323364971632802, -4.323364971632802, -4.323364971632802, -4.323364971632802, -4.323364971632802, -4.323364971632802, -4.323364971632802, -4.323364971632802, -4.323364971632802, -4.323364971632802, -4.323364971632802, -4.323364971632802, -4.323364971632802, -4.323364971632802, -4.323364971632802, -4.323364971632802, -4.323364971632802, -4.323364971632802, -4.323364971632802, -4.323364971632802, -4.323364971632802], [-4.033357096712449, -4.033357096712449, -4.033357096712449, -4.033357096712449, -4.033357096712449, -4.033357096712449, -4.033357096712449, -4.033357096712449, -4.033357096712449, -4.033357096712449, -4.033357096712449, -4.033357096712449, -4.033357096712449, -4.033357096712449, -4.033357096712449, -4.033357096712449, -4.033357096712449, -4.033357096712449, -4.033357096712449, -4.033357096712449, -4.033357096712449, -4.033357096712449, -4.033357096712449, -4.033357096712449, -4.033357096712449, -4.033357096712449, -4.033357096712449, -4.033357096712449, -4.033357096712449, -4.033357096712449], [-3.743349221792096, -3.743349221792096, -3.743349221792096, -3.743349221792096, -3.743349221792096, -3.743349221792096, -3.743349221792096, -3.743349221792096, -3.743349221792096, -3.743349221792096, -3.743349221792096, -3.743349221792096, -3.743349221792096, -3.743349221792096, -3.743349221792096, -3.743349221792096, -3.743349221792096, -3.743349221792096, -3.743349221792096, -3.743349221792096, -3.743349221792096, -3.743349221792096, -3.743349221792096, -3.743349221792096, -3.743349221792096, -3.743349221792096, -3.743349221792096, -3.743349221792096, -3.743349221792096, -3.743349221792096], [-3.453341346871742, -3.453341346871742, -3.453341346871742, -3.453341346871742, -3.453341346871742, -3.453341346871742, -3.453341346871742, -3.453341346871742, -3.453341346871742, -3.453341346871742, -3.453341346871742, -3.453341346871742, -3.453341346871742, -3.453341346871742, -3.453341346871742, -3.453341346871742, -3.453341346871742, -3.453341346871742, -3.453341346871742, -3.453341346871742, -3.453341346871742, -3.453341346871742, -3.453341346871742, -3.453341346871742, -3.453341346871742, -3.453341346871742, -3.453341346871742, -3.453341346871742, -3.453341346871742, -3.453341346871742], [-3.163333471951389, -3.163333471951389, -3.163333471951389, -3.163333471951389, -3.163333471951389, -3.163333471951389, -3.163333471951389, -3.163333471951389, -3.163333471951389, -3.163333471951389, -3.163333471951389, -3.163333471951389, -3.163333471951389, -3.163333471951389, -3.163333471951389, -3.163333471951389, -3.163333471951389, -3.163333471951389, -3.163333471951389, -3.163333471951389, -3.163333471951389, -3.163333471951389, -3.163333471951389, -3.163333471951389, -3.163333471951389, -3.163333471951389, -3.163333471951389, -3.163333471951389, -3.163333471951389, -3.163333471951389], [-2.8733255970310356, -2.8733255970310356, -2.8733255970310356, -2.8733255970310356, -2.8733255970310356, -2.8733255970310356, -2.8733255970310356, -2.8733255970310356, -2.8733255970310356, -2.8733255970310356, -2.8733255970310356, -2.8733255970310356, -2.8733255970310356, -2.8733255970310356, -2.8733255970310356, -2.8733255970310356, -2.8733255970310356, -2.8733255970310356, -2.8733255970310356, -2.8733255970310356, -2.8733255970310356, -2.8733255970310356, -2.8733255970310356, -2.8733255970310356, -2.8733255970310356, -2.8733255970310356, -2.8733255970310356, -2.8733255970310356, -2.8733255970310356, -2.8733255970310356], [-2.5833177221106824, -2.5833177221106824, -2.5833177221106824, -2.5833177221106824, -2.5833177221106824, -2.5833177221106824, -2.5833177221106824, -2.5833177221106824, -2.5833177221106824, -2.5833177221106824, -2.5833177221106824, -2.5833177221106824, -2.5833177221106824, -2.5833177221106824, -2.5833177221106824, -2.5833177221106824, -2.5833177221106824, -2.5833177221106824, -2.5833177221106824, -2.5833177221106824, -2.5833177221106824, -2.5833177221106824, -2.5833177221106824, -2.5833177221106824, -2.5833177221106824, -2.5833177221106824, -2.5833177221106824, -2.5833177221106824, -2.5833177221106824, -2.5833177221106824], [-2.2933098471903293, -2.2933098471903293, -2.2933098471903293, -2.2933098471903293, -2.2933098471903293, -2.2933098471903293, -2.2933098471903293, -2.2933098471903293, -2.2933098471903293, -2.2933098471903293, -2.2933098471903293, -2.2933098471903293, -2.2933098471903293, -2.2933098471903293, -2.2933098471903293, -2.2933098471903293, -2.2933098471903293, -2.2933098471903293, -2.2933098471903293, -2.2933098471903293, -2.2933098471903293, -2.2933098471903293, -2.2933098471903293, -2.2933098471903293, -2.2933098471903293, -2.2933098471903293, -2.2933098471903293, -2.2933098471903293, -2.2933098471903293, -2.2933098471903293], [-2.003301972269976, -2.003301972269976, -2.003301972269976, -2.003301972269976, -2.003301972269976, -2.003301972269976, -2.003301972269976, -2.003301972269976, -2.003301972269976, -2.003301972269976, -2.003301972269976, -2.003301972269976, -2.003301972269976, -2.003301972269976, -2.003301972269976, -2.003301972269976, -2.003301972269976, -2.003301972269976, -2.003301972269976, -2.003301972269976, -2.003301972269976, -2.003301972269976, -2.003301972269976, -2.003301972269976, -2.003301972269976, -2.003301972269976, -2.003301972269976, -2.003301972269976, -2.003301972269976, -2.003301972269976], [-1.713294097349623, -1.713294097349623, -1.713294097349623, -1.713294097349623, -1.713294097349623, -1.713294097349623, -1.713294097349623, -1.713294097349623, -1.713294097349623, -1.713294097349623, -1.713294097349623, -1.713294097349623, -1.713294097349623, -1.713294097349623, -1.713294097349623, -1.713294097349623, -1.713294097349623, -1.713294097349623, -1.713294097349623, -1.713294097349623, -1.713294097349623, -1.713294097349623, -1.713294097349623, -1.713294097349623, -1.713294097349623, -1.713294097349623, -1.713294097349623, -1.713294097349623, -1.713294097349623, -1.713294097349623], [-1.4232862224292688, -1.4232862224292688, -1.4232862224292688, -1.4232862224292688, -1.4232862224292688, -1.4232862224292688, -1.4232862224292688, -1.4232862224292688, -1.4232862224292688, -1.4232862224292688, -1.4232862224292688, -1.4232862224292688, -1.4232862224292688, -1.4232862224292688, -1.4232862224292688, -1.4232862224292688, -1.4232862224292688, -1.4232862224292688, -1.4232862224292688, -1.4232862224292688, -1.4232862224292688, -1.4232862224292688, -1.4232862224292688, -1.4232862224292688, -1.4232862224292688, -1.4232862224292688, -1.4232862224292688, -1.4232862224292688, -1.4232862224292688, -1.4232862224292688], [-1.1332783475089159, -1.1332783475089159, -1.1332783475089159, -1.1332783475089159, -1.1332783475089159, -1.1332783475089159, -1.1332783475089159, -1.1332783475089159, -1.1332783475089159, -1.1332783475089159, -1.1332783475089159, -1.1332783475089159, -1.1332783475089159, -1.1332783475089159, -1.1332783475089159, -1.1332783475089159, -1.1332783475089159, -1.1332783475089159, -1.1332783475089159, -1.1332783475089159, -1.1332783475089159, -1.1332783475089159, -1.1332783475089159, -1.1332783475089159, -1.1332783475089159, -1.1332783475089159, -1.1332783475089159, -1.1332783475089159, -1.1332783475089159, -1.1332783475089159]], \"z\": [[-3.479144470608646, -3.533229800393699, -3.5873151301787503, -3.641400459963802, -3.695485789748854, -3.7495711195339063, -3.803656449318958, -3.8577417791040096, -3.911827108889062, -3.965912438674114, -4.019997768459166, -4.074083098244217, -4.128168428029269, -4.182253757814322, -4.236339087599373, -4.2904244173844255, -4.344509747169477, -4.398595076954529, -4.4526804067395815, -4.506765736524633, -4.560851066309685, -4.614936396094738, -4.669021725879789, -4.7231070556648405, -4.777192385449894, -4.831277715234945, -4.8853630450199965, -4.939448374805049, -4.993533704590101, -5.047619034375153], [-3.3253485179986932, -3.379433847783745, -3.4335191775687974, -3.487604507353849, -3.5416898371389007, -3.595775166923953, -3.649860496709005, -3.703945826494057, -3.758031156279109, -3.812116486064161, -3.8662018158492124, -3.920287145634265, -3.9743724754193166, -4.0284578052043685, -4.082543134989421, -4.136628464774472, -4.1907137945595245, -4.244799124344576, -4.298884454129628, -4.352969783914681, -4.407055113699732, -4.461140443484784, -4.515225773269836, -4.569311103054888, -4.62339643283994, -4.677481762624992, -4.731567092410043, -4.785652422195096, -4.839737751980148, -4.893823081765199], [-3.171552565388741, -3.2256378951737927, -3.279723224958845, -3.3338085547438965, -3.3878938845289484, -3.4419792143140007, -3.4960645440990525, -3.5501498738841044, -3.6042352036691567, -3.6583205334542086, -3.71240586323926, -3.766491193024313, -3.820576522809364, -3.874661852594416, -3.9287471823794684, -3.9828325121645203, -4.036917841949572, -4.091003171734624, -4.145088501519676, -4.199173831304728, -4.25325916108978, -4.307344490874832, -4.361429820659883, -4.415515150444936, -4.469600480229988, -4.523685810015039, -4.577771139800091, -4.631856469585143, -4.6859417993701955, -4.740027129155247], [-3.0177566127787876, -3.07184194256384, -3.125927272348892, -3.1800126021339437, -3.2340979319189955, -3.288183261704048, -3.3422685914890993, -3.396353921274151, -3.4504392510592035, -3.5045245808442553, -3.558609910629307, -3.6126952404143586, -3.6667805701994114, -3.720865899984463, -3.7749512297695147, -3.829036559554567, -3.883121889339619, -3.9372072191246708, -3.991292548909723, -4.045377878694775, -4.099463208479826, -4.153548538264879, -4.207633868049931, -4.261719197834982, -4.315804527620035, -4.369889857405086, -4.4239751871901385, -4.478060516975191, -4.532145846760242, -4.586231176545294], [-2.863960660168835, -2.9180459899538875, -2.9721313197389394, -3.0262166495239913, -3.080301979309043, -3.1343873090940955, -3.188472638879147, -3.2425579686641988, -3.296643298449251, -3.350728628234303, -3.404813958019355, -3.4588992878044063, -3.512984617589459, -3.5670699473745104, -3.6211552771595623, -3.6752406069446146, -3.7293259367296665, -3.7834112665147184, -3.8374965962997707, -3.891581926084822, -3.945667255869874, -3.9997525856549263, -4.053837915439979, -4.10792324522503, -4.162008575010082, -4.216093904795134, -4.270179234580186, -4.324264564365238, -4.37834989415029, -4.432435223935341], [-2.7101647075588815, -2.764250037343934, -2.8183353671289857, -2.8724206969140376, -2.9265060266990894, -2.9805913564841418, -3.034676686269193, -3.088762016054245, -3.1428473458392974, -3.1969326756243492, -3.251018005409401, -3.3051033351944525, -3.3591886649795053, -3.4132739947645567, -3.4673593245496086, -3.521444654334661, -3.575529984119713, -3.629615313904764, -3.683700643689817, -3.7377859734748684, -3.7918713032599203, -3.8459566330449726, -3.9000419628300245, -3.9541272926150763, -4.008212622400128, -4.0622979521851805, -4.116383281970232, -4.170468611755284, -4.224553941540337, -4.278639271325388], [-2.556368754948929, -2.6104540847339814, -2.6645394145190333, -2.718624744304085, -2.772710074089137, -2.8267954038741894, -2.880880733659241, -2.9349660634442927, -2.989051393229345, -3.043136723014397, -3.0972220527994487, -3.1513073825845, -3.205392712369553, -3.2594780421546043, -3.313563371939656, -3.3676487017247085, -3.4217340315097604, -3.475819361294812, -3.5299046910798646, -3.583990020864916, -3.638075350649968, -3.69216068043502, -3.746246010220072, -3.800331340005124, -3.8544166697901763, -3.908501999575228, -3.9625873293602796, -4.016672659145332, -4.070757988930384, -4.124843318715436], [-2.4025728023389763, -2.456658132124028, -2.5107434619090805, -2.564828791694132, -2.6189141214791842, -2.672999451264236, -2.727084781049288, -2.78117011083434, -2.8352554406193917, -2.8893407704044436, -2.9434261001894955, -2.997511429974548, -3.0515967597595997, -3.1056820895446515, -3.159767419329704, -3.2138527491147557, -3.267938078899807, -3.322023408684859, -3.3761087384699113, -3.430194068254963, -3.484279398040015, -3.5383647278250674, -3.592450057610119, -3.6465353873951707, -3.700620717180223, -3.754706046965275, -3.8087913767503268, -3.862876706535378, -3.916962036320431, -3.9710473661054824], [-2.248776849729023, -2.3028621795140753, -2.356947509299127, -2.411032839084179, -2.465118168869231, -2.5192034986542833, -2.5732888284393347, -2.6273741582243866, -2.6814594880094385, -2.7355448177944908, -2.7896301475795426, -2.8437154773645945, -2.8978008071496464, -2.9518861369346983, -3.0059714667197506, -3.060056796504802, -3.1141421262898543, -3.1682274560749057, -3.2223127858599585, -3.27639811564501, -3.330483445430062, -3.384568775215114, -3.438654105000166, -3.492739434785218, -3.54682476457027, -3.6009100943553216, -3.6549954241403735, -3.709080753925426, -3.7631660837104777, -3.8172514134955295], [-2.0949808971190707, -2.149066226904123, -2.203151556689175, -2.2572368864742267, -2.3113222162592786, -2.365407546044331, -2.4194928758293823, -2.473578205614434, -2.527663535399486, -2.5817488651845384, -2.6358341949695903, -2.689919524754642, -2.744004854539694, -2.798090184324746, -2.852175514109798, -2.9062608438948496, -2.960346173679902, -3.014431503464954, -3.068516833250006, -3.1226021630350576, -3.1766874928201094, -3.2307728226051617, -3.2848581523902136, -3.3389434821752655, -3.393028811960318, -3.4471141417453692, -3.501199471530421, -3.5552848013154734, -3.6093701311005253, -3.663455460885577], [-1.9411849445091176, -1.9952702742941697, -2.0493556040792216, -2.1034409338642734, -2.1575262636493258, -2.2116115934343776, -2.2656969232194295, -2.319782253004481, -2.3738675827895332, -2.427952912574585, -2.482038242359637, -2.536123572144689, -2.590208901929741, -2.644294231714793, -2.698379561499845, -2.752464891284897, -2.8065502210699487, -2.860635550855001, -2.914720880640053, -2.9688062104251047, -3.0228915402101566, -3.076976869995209, -3.1310621997802603, -3.185147529565312, -3.2392328593503645, -3.2933181891354164, -3.3474035189204683, -3.4014888487055197, -3.455574178490572, -3.509659508275624], [-1.7873889918991646, -1.8414743216842167, -1.8955596514692687, -1.9496449812543204, -2.0037303110393725, -2.057815640824425, -2.1119009706094762, -2.165986300394528, -2.22007163017958, -2.2741569599646323, -2.3282422897496837, -2.382327619534736, -2.436412949319788, -2.49049827910484, -2.5445836088898917, -2.5986689386749435, -2.652754268459996, -2.7068395982450477, -2.7609249280301, -2.8150102578151515, -2.869095587600204, -2.9231809173852557, -2.9772662471703075, -3.031351576955359, -3.0854369067404113, -3.139522236525463, -3.193607566310515, -3.2476928960955673, -3.301778225880619, -3.355863555665671], [-1.6335930392892115, -1.6876783690742636, -1.7417636988593157, -1.7958490286443674, -1.8499343584294194, -1.9040196882144715, -1.9581050179995232, -2.012190347784575, -2.066275677569627, -2.120361007354679, -2.174446337139731, -2.2285316669247828, -2.282616996709835, -2.3367023264948865, -2.390787656279939, -2.4448729860649907, -2.4989583158500426, -2.553043645635095, -2.6071289754201468, -2.6612143052051986, -2.7152996349902505, -2.769384964775303, -2.8234702945603543, -2.877555624345406, -2.931640954130458, -2.9857262839155103, -3.039811613700562, -3.093896943485614, -3.147982273270666, -3.202067603055718], [-1.4797970866792591, -1.5338824164643112, -1.5879677462493633, -1.642053076034415, -1.696138405819467, -1.7502237356045192, -1.8043090653895708, -1.8583943951746227, -1.9124797249596748, -1.9665650547447266, -2.0206503845297785, -2.0747357143148304, -2.1288210440998827, -2.182906373884934, -2.2369917036699865, -2.2910770334550383, -2.34516236324009, -2.3992476930251425, -2.4533330228101944, -2.5074183525952463, -2.561503682380298, -2.6155890121653504, -2.669674341950402, -2.7237596717354537, -2.7778450015205056, -2.831930331305558, -2.88601566109061, -2.9401009908756617, -2.9941863206607136, -3.048271650445766], [-1.3260011340693056, -1.3800864638543577, -1.4341717936394096, -1.4882571234244615, -1.5423424532095136, -1.5964277829945654, -1.6505131127796175, -1.7045984425646696, -1.7586837723497213, -1.8127691021347734, -1.8668544319198255, -1.9209397617048771, -1.9750250914899292, -2.0291104212749813, -2.083195751060033, -2.1372810808450846, -2.191366410630137, -2.245451740415189, -2.299537070200241, -2.3536223999852925, -2.407707729770345, -2.4617930595553963, -2.5158783893404486, -2.5699637191255005, -2.6240490489105524, -2.6781343786956042, -2.7322197084806565, -2.7863050382657084, -2.8403903680507603, -2.8944756978358126], [-1.172205181459353, -1.2262905112444051, -1.280375841029457, -1.3344611708145089, -1.388546500599561, -1.4426318303846128, -1.4967171601696647, -1.5508024899547166, -1.6048878197397685, -1.6589731495248206, -1.7130584793098724, -1.7671438090949245, -1.8212291388799764, -1.8753144686650283, -1.9293997984500804, -1.983485128235132, -2.037570458020184, -2.091655787805236, -2.1457411175902883, -2.19982644737534, -2.253911777160392, -2.307997106945444, -2.362082436730496, -2.4161677665155477, -2.4702530963005995, -2.524338426085652, -2.5784237558707037, -2.6325090856557556, -2.6865944154408075, -2.7406797452258598], [-1.0184092288494, -1.072494558634452, -1.126579888419504, -1.1806652182045558, -1.234750547989608, -1.2888358777746598, -1.3429212075597117, -1.3970065373447635, -1.4510918671298154, -1.5051771969148675, -1.5592625266999194, -1.6133478564849713, -1.6674331862700233, -1.7215185160550752, -1.7756038458401273, -1.829689175625179, -1.883774505410231, -1.9378598351952832, -1.9919451649803352, -2.046030494765387, -2.1001158245504388, -2.154201154335491, -2.208286484120543, -2.2623718139055944, -2.3164571436906467, -2.3705424734756986, -2.424627803260751, -2.4787131330458023, -2.5327984628308546, -2.5868837926159065], [-0.8646132762394472, -0.9186986060244993, -0.9727839358095511, -1.026869265594603, -1.080954595379655, -1.135039925164707, -1.1891252549497588, -1.243210584734811, -1.2972959145198628, -1.351381244304915, -1.4054665740899668, -1.4595519038750187, -1.5136372336600707, -1.5677225634451228, -1.6218078932301745, -1.6758932230152261, -1.7299785528002782, -1.7840638825853303, -1.8381492123703824, -1.892234542155434, -1.9463198719404862, -2.000405201725538, -2.05449053151059, -2.108575861295642, -2.162661191080694, -2.2167465208657458, -2.270831850650798, -2.32491718043585, -2.379002510220902, -2.4330878400059537], [-0.7108173236294945, -0.7649026534145466, -0.8189879831995984, -0.8730733129846504, -0.9271586427697024, -0.9812439725547544, -1.0353293023398062, -1.0894146321248581, -1.14349996190991, -1.197585291694962, -1.251670621480014, -1.3057559512650658, -1.359841281050118, -1.4139266108351698, -1.4680119406202217, -1.5220972704052738, -1.5761826001903256, -1.6302679299753777, -1.6843532597604298, -1.7384385895454815, -1.7925239193305336, -1.8466092491155857, -1.9006945789006373, -1.954779908685689, -2.008865238470741, -2.0629505682557934, -2.1170358980408452, -2.171121227825897, -2.225206557610949, -2.2792918873960013], [-0.5570213710195414, -0.6111067008045935, -0.6651920305896454, -0.7192773603746972, -0.7733626901597492, -0.8274480199448012, -0.8815333497298532, -0.9356186795149051, -0.9897040092999569, -1.043789339085009, -1.097874668870061, -1.1519599986551128, -1.2060453284401649, -1.2601306582252167, -1.3142159880102686, -1.3683013177953207, -1.4223866475803726, -1.4764719773654247, -1.5305573071504766, -1.5846426369355284, -1.6387279667205805, -1.6928132965056326, -1.7468986262906843, -1.800983956075736, -1.855069285860788, -1.90915461564584, -1.9632399454308922, -2.017325275215944, -2.071410605000996, -2.125495934786048], [-0.4032254184095887, -0.45731074819464074, -0.5113960779796927, -0.5654814077647445, -0.6195667375497965, -0.6736520673348485, -0.7277373971199005, -0.7818227269049524, -0.8359080566900042, -0.8899933864750563, -0.9440787162601082, -0.9981640460451601, -1.0522493758302123, -1.1063347056152641, -1.160420035400316, -1.214505365185368, -1.2685906949704198, -1.3226760247554719, -1.376761354540524, -1.4308466843255756, -1.4849320141106277, -1.5390173438956796, -1.5931026736807314, -1.6471880034657835, -1.7012733332508354, -1.7553586630358875, -1.8094439928209394, -1.8635293226059912, -1.9176146523910433, -1.9716999821760954], [-0.24942946579963526, -0.30351479558468736, -0.35760012536973923, -0.41168545515479116, -0.46577078493984314, -0.5198561147248951, -0.573941444509947, -0.6280267742949989, -0.6821121040800509, -0.736197433865103, -0.7902827636501548, -0.8443680934352067, -0.8984534232202588, -0.9525387530053107, -1.0066240827903625, -1.0607094125754144, -1.1147947423604663, -1.1688800721455184, -1.2229654019305705, -1.2770507317156223, -1.3311360615006742, -1.3852213912857263, -1.4393067210707782, -1.49339205085583, -1.547477380640882, -1.601562710425934, -1.655648040210986, -1.7097333699960378, -1.7638186997810898, -1.817904029566142], [-0.09563351318968255, -0.14971884297473462, -0.20380417275978652, -0.25788950254483844, -0.31197483232989043, -0.3660601621149424, -0.4201454918999943, -0.4742308216850462, -0.5283161514700981, -0.5824014812551501, -0.6364868110402021, -0.690572140825254, -0.744657470610306, -0.7987428003953579, -0.8528281301804098, -0.9069134599654618, -0.9609987897505137, -1.0150841195355658, -1.0691694493206179, -1.1232547791056695, -1.1773401088907216, -1.2314254386757735, -1.2855107684608253, -1.3395960982458772, -1.393681428030929, -1.4477667578159812, -1.5018520876010333, -1.5559374173860852, -1.6100227471711372, -1.6641080769561891], [0.05816243942027017, 0.004077109635218098, -0.050008220149833804, -0.1040935499348857, -0.1581788797199377, -0.21226420950498967, -0.26634953929004157, -0.3204348690750935, -0.3745201988601455, -0.42860552864519746, -0.48269085843024934, -0.5367761882153013, -0.5908615180003532, -0.6449468477854052, -0.6990321775704571, -0.753117507355509, -0.807202837140561, -0.861288166925613, -0.915373496710665, -0.9694588264957168, -1.0235441562807688, -1.0776294860658209, -1.1317148158508727, -1.1858001456359246, -1.2398854754209765, -1.2939708052060286, -1.3480561349910807, -1.4021414647761323, -1.4562267945611844, -1.5103121243462365], [0.21195839203022307, 0.157873062245171, 0.10378773246011909, 0.049702402675067196, -0.004382927109984794, -0.05846825689503678, -0.11255358668008868, -0.1666389164651406, -0.22072424625019257, -0.27480957603524453, -0.32889490582029646, -0.38298023560534833, -0.43706556539040037, -0.49115089517545235, -0.5452362249605043, -0.5993215547455562, -0.6534068845306081, -0.7074922143156601, -0.7615775441007121, -0.8156628738857639, -0.8697482036708158, -0.9238335334558678, -0.9779188632409196, -1.0320041930259716, -1.0860895228110237, -1.1401748525960758, -1.1942601823811276, -1.2483455121661795, -1.3024308419512314, -1.3565161717362835], [0.365754344640176, 0.3116690148551239, 0.257583685070072, 0.20349835528502008, 0.1494130254999681, 0.09532769571491612, 0.041242365929864216, -0.012842963855187685, -0.06692829364023967, -0.12101362342529166, -0.17509895321034355, -0.22918428299539545, -0.28326961278044743, -0.3373549425654994, -0.39144027235055134, -0.4455256021356032, -0.4996109319206552, -0.5536962617057072, -0.6077815914907592, -0.661866921275811, -0.715952251060863, -0.770037580845915, -0.8241229106309669, -0.8782082404160187, -0.9322935702010707, -0.9863788999861227, -1.0404642297711748, -1.0945495595562265, -1.1486348893412786, -1.2027202191263306], [0.5195502972501287, 0.4654649674650766, 0.4113796376800247, 0.3572943078949728, 0.3032089781099208, 0.24912364832486883, 0.19503831853981693, 0.14095298875476503, 0.08686765896971305, 0.03278232918466106, -0.021303000600390837, -0.07538833038544274, -0.12947366017049472, -0.1835589899555467, -0.2376443197405986, -0.2917296495256505, -0.3458149793107025, -0.39990030909575447, -0.45398563888080645, -0.5080709686658583, -0.5621562984509103, -0.6162416282359623, -0.670326958021014, -0.724412287806066, -0.778497617591118, -0.83258294737617, -0.8866682771612221, -0.9407536069462739, -0.994838936731326, -1.048924266516378], [0.6733462498600816, 0.6192609200750295, 0.5651755902899777, 0.5110902605049257, 0.4570049307198737, 0.4029196009348217, 0.34883427114976984, 0.2947489413647179, 0.24066361157966595, 0.18657828179461397, 0.13249295200956207, 0.07840762222451016, 0.02432229243945817, -0.029763037345593817, -0.08384836713064571, -0.1379336969156976, -0.1920190267007496, -0.2461043564858016, -0.3001896862708536, -0.3542750160559054, -0.4083603458409574, -0.46244567562600936, -0.5165310054110612, -0.5706163351961132, -0.6247016649811652, -0.6787869947662172, -0.7328723245512692, -0.7869576543363209, -0.8410429841213728, -0.8951283139064249], [0.8271422024700348, 0.7730568726849828, 0.7189715428999309, 0.664886213114879, 0.6108008833298271, 0.5567155535447751, 0.5026302237597232, 0.4485448939746713, 0.39445956418961925, 0.34037423440456727, 0.2862889046195154, 0.2322035748344635, 0.1781182450494115, 0.12403291526435951, 0.06994758547930761, 0.015862255694255735, -0.03822307409079626, -0.09230840387584825, -0.14639373366090025, -0.20047906344595207, -0.25456439323100405, -0.30864972301605603, -0.36273505280110785, -0.41682038258615983, -0.4709057123712118, -0.5249910421562638, -0.5790763719413158, -0.6331617017263677, -0.6872470315114196, -0.7413323612964716], [0.9809381550799875, 0.9268528252949355, 0.8727674955098838, 0.8186821657248317, 0.7645968359397798, 0.7105115061547278, 0.6564261763696759, 0.602340846584624, 0.548255516799572, 0.49417018701452003, 0.4400848572294681, 0.38599952744441623, 0.3319141976593642, 0.2778288678743122, 0.22374353808926034, 0.16965820830420847, 0.11557287851915644, 0.061487548734104475, 0.007402218949052475, -0.04668311083599934, -0.10076844062105132, -0.15485377040610332, -0.20893910019115514, -0.2630244299762071, -0.3171097597612591, -0.3711950895463111, -0.42528041933136307, -0.4793657491164149, -0.5334510789014669, -0.5875364086865189]]}, {\"line\": {\"width\": 6}, \"marker\": {\"size\": 1}, \"showlegend\": false, \"type\": \"scatter3d\", \"x\": [-0.777220540001882, 0.8553917880757671], \"y\": [-10.726763450049406, -2.1876566758806946], \"z\": [-0.06470266128815605, 4.1251908965153525]}, {\"line\": {\"width\": 6}, \"marker\": {\"size\": 1}, \"showlegend\": false, \"type\": \"scatter3d\", \"x\": [-2.1339951601259597, -0.10662330724181387], \"y\": [-1.9049146279088631, 0.2726881332549942], \"z\": [-1.2486254908114804, -0.5141988764934586]}, {\"line\": {\"width\": 6}, \"marker\": {\"size\": 1}, \"showlegend\": false, \"type\": \"scatter3d\", \"x\": [-0.5448223810947223, 1.111354261840694], \"y\": [-10.13472563123421, -2.8422783618877863], \"z\": [1.835705839145523, 5.359589076792365]}],                        {\"autosize\": true, \"height\": 800, \"margin\": {\"b\": 10, \"l\": 10, \"pad\": 4, \"r\": 10, \"t\": 10}, \"paper_bgcolor\": \"White\", \"scene\": {\"aspectmode\": \"data\", \"camera\": {\"eye\": {\"x\": 1, \"y\": 1, \"z\": 1}}}, \"template\": {\"data\": {\"bar\": [{\"error_x\": {\"color\": \"#2a3f5f\"}, \"error_y\": {\"color\": \"#2a3f5f\"}, \"marker\": {\"line\": {\"color\": \"#E5ECF6\", \"width\": 0.5}}, \"type\": \"bar\"}], \"barpolar\": [{\"marker\": {\"line\": {\"color\": \"#E5ECF6\", \"width\": 0.5}}, \"type\": \"barpolar\"}], \"carpet\": [{\"aaxis\": {\"endlinecolor\": \"#2a3f5f\", \"gridcolor\": \"white\", \"linecolor\": \"white\", \"minorgridcolor\": \"white\", \"startlinecolor\": \"#2a3f5f\"}, \"baxis\": {\"endlinecolor\": \"#2a3f5f\", \"gridcolor\": \"white\", \"linecolor\": \"white\", \"minorgridcolor\": \"white\", \"startlinecolor\": \"#2a3f5f\"}, \"type\": \"carpet\"}], \"choropleth\": [{\"colorbar\": {\"outlinewidth\": 0, \"ticks\": \"\"}, \"type\": \"choropleth\"}], \"contour\": [{\"colorbar\": {\"outlinewidth\": 0, \"ticks\": \"\"}, \"colorscale\": [[0.0, \"#0d0887\"], [0.1111111111111111, \"#46039f\"], [0.2222222222222222, \"#7201a8\"], [0.3333333333333333, \"#9c179e\"], [0.4444444444444444, \"#bd3786\"], [0.5555555555555556, \"#d8576b\"], [0.6666666666666666, \"#ed7953\"], [0.7777777777777778, \"#fb9f3a\"], [0.8888888888888888, \"#fdca26\"], [1.0, \"#f0f921\"]], \"type\": \"contour\"}], \"contourcarpet\": [{\"colorbar\": {\"outlinewidth\": 0, \"ticks\": \"\"}, \"type\": \"contourcarpet\"}], \"heatmap\": [{\"colorbar\": {\"outlinewidth\": 0, \"ticks\": \"\"}, \"colorscale\": [[0.0, \"#0d0887\"], [0.1111111111111111, \"#46039f\"], [0.2222222222222222, \"#7201a8\"], [0.3333333333333333, \"#9c179e\"], [0.4444444444444444, \"#bd3786\"], [0.5555555555555556, \"#d8576b\"], [0.6666666666666666, \"#ed7953\"], [0.7777777777777778, \"#fb9f3a\"], [0.8888888888888888, \"#fdca26\"], [1.0, \"#f0f921\"]], \"type\": \"heatmap\"}], \"heatmapgl\": [{\"colorbar\": {\"outlinewidth\": 0, \"ticks\": \"\"}, \"colorscale\": [[0.0, \"#0d0887\"], [0.1111111111111111, \"#46039f\"], [0.2222222222222222, \"#7201a8\"], [0.3333333333333333, \"#9c179e\"], [0.4444444444444444, \"#bd3786\"], [0.5555555555555556, \"#d8576b\"], [0.6666666666666666, \"#ed7953\"], [0.7777777777777778, \"#fb9f3a\"], [0.8888888888888888, \"#fdca26\"], [1.0, \"#f0f921\"]], \"type\": \"heatmapgl\"}], \"histogram\": [{\"marker\": {\"colorbar\": {\"outlinewidth\": 0, \"ticks\": \"\"}}, \"type\": \"histogram\"}], \"histogram2d\": [{\"colorbar\": {\"outlinewidth\": 0, \"ticks\": \"\"}, \"colorscale\": [[0.0, \"#0d0887\"], [0.1111111111111111, \"#46039f\"], [0.2222222222222222, \"#7201a8\"], [0.3333333333333333, \"#9c179e\"], [0.4444444444444444, \"#bd3786\"], [0.5555555555555556, \"#d8576b\"], [0.6666666666666666, \"#ed7953\"], [0.7777777777777778, \"#fb9f3a\"], [0.8888888888888888, \"#fdca26\"], [1.0, \"#f0f921\"]], \"type\": \"histogram2d\"}], \"histogram2dcontour\": [{\"colorbar\": {\"outlinewidth\": 0, \"ticks\": \"\"}, \"colorscale\": [[0.0, \"#0d0887\"], [0.1111111111111111, \"#46039f\"], [0.2222222222222222, \"#7201a8\"], [0.3333333333333333, \"#9c179e\"], [0.4444444444444444, \"#bd3786\"], [0.5555555555555556, \"#d8576b\"], [0.6666666666666666, \"#ed7953\"], [0.7777777777777778, \"#fb9f3a\"], [0.8888888888888888, \"#fdca26\"], [1.0, \"#f0f921\"]], \"type\": \"histogram2dcontour\"}], \"mesh3d\": [{\"colorbar\": {\"outlinewidth\": 0, \"ticks\": \"\"}, \"type\": \"mesh3d\"}], \"parcoords\": [{\"line\": {\"colorbar\": {\"outlinewidth\": 0, \"ticks\": \"\"}}, \"type\": \"parcoords\"}], \"pie\": [{\"automargin\": true, \"type\": \"pie\"}], \"scatter\": [{\"marker\": {\"colorbar\": {\"outlinewidth\": 0, \"ticks\": \"\"}}, \"type\": \"scatter\"}], \"scatter3d\": [{\"line\": {\"colorbar\": {\"outlinewidth\": 0, \"ticks\": \"\"}}, \"marker\": {\"colorbar\": {\"outlinewidth\": 0, \"ticks\": \"\"}}, \"type\": \"scatter3d\"}], \"scattercarpet\": [{\"marker\": {\"colorbar\": {\"outlinewidth\": 0, \"ticks\": \"\"}}, \"type\": \"scattercarpet\"}], \"scattergeo\": [{\"marker\": {\"colorbar\": {\"outlinewidth\": 0, \"ticks\": \"\"}}, \"type\": \"scattergeo\"}], \"scattergl\": [{\"marker\": {\"colorbar\": {\"outlinewidth\": 0, \"ticks\": \"\"}}, \"type\": \"scattergl\"}], \"scattermapbox\": [{\"marker\": {\"colorbar\": {\"outlinewidth\": 0, \"ticks\": \"\"}}, \"type\": \"scattermapbox\"}], \"scatterpolar\": [{\"marker\": {\"colorbar\": {\"outlinewidth\": 0, \"ticks\": \"\"}}, \"type\": \"scatterpolar\"}], \"scatterpolargl\": [{\"marker\": {\"colorbar\": {\"outlinewidth\": 0, \"ticks\": \"\"}}, \"type\": \"scatterpolargl\"}], \"scatterternary\": [{\"marker\": {\"colorbar\": {\"outlinewidth\": 0, \"ticks\": \"\"}}, \"type\": \"scatterternary\"}], \"surface\": [{\"colorbar\": {\"outlinewidth\": 0, \"ticks\": \"\"}, \"colorscale\": [[0.0, \"#0d0887\"], [0.1111111111111111, \"#46039f\"], [0.2222222222222222, \"#7201a8\"], [0.3333333333333333, \"#9c179e\"], [0.4444444444444444, \"#bd3786\"], [0.5555555555555556, \"#d8576b\"], [0.6666666666666666, \"#ed7953\"], [0.7777777777777778, \"#fb9f3a\"], [0.8888888888888888, \"#fdca26\"], [1.0, \"#f0f921\"]], \"type\": \"surface\"}], \"table\": [{\"cells\": {\"fill\": {\"color\": \"#EBF0F8\"}, \"line\": {\"color\": \"white\"}}, \"header\": {\"fill\": {\"color\": \"#C8D4E3\"}, \"line\": {\"color\": \"white\"}}, \"type\": \"table\"}]}, \"layout\": {\"annotationdefaults\": {\"arrowcolor\": \"#2a3f5f\", \"arrowhead\": 0, \"arrowwidth\": 1}, \"autotypenumbers\": \"strict\", \"coloraxis\": {\"colorbar\": {\"outlinewidth\": 0, \"ticks\": \"\"}}, \"colorscale\": {\"diverging\": [[0, \"#8e0152\"], [0.1, \"#c51b7d\"], [0.2, \"#de77ae\"], [0.3, \"#f1b6da\"], [0.4, \"#fde0ef\"], [0.5, \"#f7f7f7\"], [0.6, \"#e6f5d0\"], [0.7, \"#b8e186\"], [0.8, \"#7fbc41\"], [0.9, \"#4d9221\"], [1, \"#276419\"]], \"sequential\": [[0.0, \"#0d0887\"], [0.1111111111111111, \"#46039f\"], [0.2222222222222222, \"#7201a8\"], [0.3333333333333333, \"#9c179e\"], [0.4444444444444444, \"#bd3786\"], [0.5555555555555556, \"#d8576b\"], [0.6666666666666666, \"#ed7953\"], [0.7777777777777778, \"#fb9f3a\"], [0.8888888888888888, \"#fdca26\"], [1.0, \"#f0f921\"]], \"sequentialminus\": [[0.0, \"#0d0887\"], [0.1111111111111111, \"#46039f\"], [0.2222222222222222, \"#7201a8\"], [0.3333333333333333, \"#9c179e\"], [0.4444444444444444, \"#bd3786\"], [0.5555555555555556, \"#d8576b\"], [0.6666666666666666, \"#ed7953\"], [0.7777777777777778, \"#fb9f3a\"], [0.8888888888888888, \"#fdca26\"], [1.0, \"#f0f921\"]]}, \"colorway\": [\"#636efa\", \"#EF553B\", \"#00cc96\", \"#ab63fa\", \"#FFA15A\", \"#19d3f3\", \"#FF6692\", \"#B6E880\", \"#FF97FF\", \"#FECB52\"], \"font\": {\"color\": \"#2a3f5f\"}, \"geo\": {\"bgcolor\": \"white\", \"lakecolor\": \"white\", \"landcolor\": \"#E5ECF6\", \"showlakes\": true, \"showland\": true, \"subunitcolor\": \"white\"}, \"hoverlabel\": {\"align\": \"left\"}, \"hovermode\": \"closest\", \"mapbox\": {\"style\": \"light\"}, \"paper_bgcolor\": \"white\", \"plot_bgcolor\": \"#E5ECF6\", \"polar\": {\"angularaxis\": {\"gridcolor\": \"white\", \"linecolor\": \"white\", \"ticks\": \"\"}, \"bgcolor\": \"#E5ECF6\", \"radialaxis\": {\"gridcolor\": \"white\", \"linecolor\": \"white\", \"ticks\": \"\"}}, \"scene\": {\"xaxis\": {\"backgroundcolor\": \"#E5ECF6\", \"gridcolor\": \"white\", \"gridwidth\": 2, \"linecolor\": \"white\", \"showbackground\": true, \"ticks\": \"\", \"zerolinecolor\": \"white\"}, \"yaxis\": {\"backgroundcolor\": \"#E5ECF6\", \"gridcolor\": \"white\", \"gridwidth\": 2, \"linecolor\": \"white\", \"showbackground\": true, \"ticks\": \"\", \"zerolinecolor\": \"white\"}, \"zaxis\": {\"backgroundcolor\": \"#E5ECF6\", \"gridcolor\": \"white\", \"gridwidth\": 2, \"linecolor\": \"white\", \"showbackground\": true, \"ticks\": \"\", \"zerolinecolor\": \"white\"}}, \"shapedefaults\": {\"line\": {\"color\": \"#2a3f5f\"}}, \"ternary\": {\"aaxis\": {\"gridcolor\": \"white\", \"linecolor\": \"white\", \"ticks\": \"\"}, \"baxis\": {\"gridcolor\": \"white\", \"linecolor\": \"white\", \"ticks\": \"\"}, \"bgcolor\": \"#E5ECF6\", \"caxis\": {\"gridcolor\": \"white\", \"linecolor\": \"white\", \"ticks\": \"\"}}, \"title\": {\"x\": 0.05}, \"xaxis\": {\"automargin\": true, \"gridcolor\": \"white\", \"linecolor\": \"white\", \"ticks\": \"\", \"title\": {\"standoff\": 15}, \"zerolinecolor\": \"white\", \"zerolinewidth\": 2}, \"yaxis\": {\"automargin\": true, \"gridcolor\": \"white\", \"linecolor\": \"white\", \"ticks\": \"\", \"title\": {\"standoff\": 15}, \"zerolinecolor\": \"white\", \"zerolinewidth\": 2}}}, \"width\": 1000},                        {\"responsive\": true}                    ).then(function(){\n",
       "                            \n",
       "var gd = document.getElementById('992e50fa-2ea6-428e-9cbf-d9c3b3f80cec');\n",
       "var x = new MutationObserver(function (mutations, observer) {{\n",
       "        var display = window.getComputedStyle(gd).display;\n",
       "        if (!display || display === 'none') {{\n",
       "            console.log([gd, 'removed!']);\n",
       "            Plotly.purge(gd);\n",
       "            observer.disconnect();\n",
       "        }}\n",
       "}});\n",
       "\n",
       "// Listen for the removal of the full notebook cells\n",
       "var notebookContainer = gd.closest('#notebook-container');\n",
       "if (notebookContainer) {{\n",
       "    x.observe(notebookContainer, {childList: true});\n",
       "}}\n",
       "\n",
       "// Listen for the clearing of the current output cell\n",
       "var outputEl = gd.closest('.output');\n",
       "if (outputEl) {{\n",
       "    x.observe(outputEl, {childList: true});\n",
       "}}\n",
       "\n",
       "                        })                };                });            </script>        </div>"
      ]
     },
     "metadata": {},
     "output_type": "display_data"
    }
   ],
   "source": [
    "print(\"Test-Output\")\n",
    "with ThreeDFigure() as fig: #trafo, back_trafo, swap_axes=\"xz\"\n",
    "    plane_offset = decision_plane.project([0,0,0]) #point where plane == plane.normal (plane doesn't need to go through [0,0,0])\n",
    "    fig.add_markers([0,0,0], size=3, name=\"origin\") #coordinate center\n",
    "    fig.add_markers(plane_offset, name=\"plane_offset\", color=\"yellow\")\n",
    "    fig.add_line(plane_offset+decision_plane.normal*minneg, plane_offset+decision_plane.normal*maxpos, name=\"plane_normal\") \n",
    "    for point, side in zip(X, y):\n",
    "        if trafo(point)[0] in [minneg, maxneg, minpos, maxpos]:\n",
    "            fig.add_markers(point, color=\"blue\" if side else \"red\", name=\"d=\"+str(trafo(point)[0]), size=3)\n",
    "            fig.add_line(point, back_trafo([0, trafo(point)[1], trafo(point)[2]]), name=\"^ len_d\",)            \n",
    "            fig.add_line(point, ortho_projection_affine(point, decision_plane.normal), name=\"^ proj\")\n",
    "        else:\n",
    "            fig.add_markers(point, color=\"blue\" if side else \"red\", name=str(trafo(point)[0]), showlegend=False)\n",
    "    xx, yy = make_meshgrid(minx=minx, miny=miny, maxx=maxx, maxy=maxy, margin=0.1)\n",
    "    fig.add_surface(xx, yy, decision_plane.z) #decision hyperplane\n",
    "    fig.add_sample_projections(X, decision_plane.normal, n_samples=3, showlegend=False)"
   ]
  },
  {
   "cell_type": "code",
   "execution_count": null,
   "metadata": {},
   "outputs": [],
   "source": [
    "with ThreeDFigure(trafo, back_trafo, swap_axes=\"xz\") as fig:\n",
    "    fig.add_markers([0,0,0], size=3, name=\"origin (original space)\") #coordinate center\n",
    "    fig.add_markers(back_trafo([0,0,0]), size=3, name=\"origin (new space)\") #coordinate center\n",
    "    plane_offset = decision_plane.project([0,0,0]) #point where plane == plane.normal\n",
    "    fig.add_markers(plane_offset, name=\"plane_offset\", color=\"yellow\")\n",
    "    fig.add_line(plane_offset+decision_plane.normal*minneg, plane_offset+decision_plane.normal*maxpos, name=\"plane_normal\") \n",
    "    for point, side in zip(X, y):\n",
    "        if trafo(point)[0] in [minneg, maxneg, minpos, maxpos]:\n",
    "            fig.add_markers(point, color=\"blue\" if side else \"red\", name=\"d=\"+str(trafo(point)[0]), size=3)\n",
    "            fig.add_line(point, back_trafo([0, trafo(point)[1], trafo(point)[2]]), name=\"^ len_d\",)            \n",
    "            fig.add_line(point, ortho_projection_affine(point, decision_plane.normal), name=\"^ proj\")\n",
    "        else:\n",
    "            fig.add_markers(point, color=\"blue\" if side else \"red\", name=str(trafo(point)[0]), showlegend=False)\n",
    "    xx, yy = make_meshgrid(minx=minx, miny=miny, maxx=maxx, maxy=maxy, margin=0.1)\n",
    "    fig.add_surface(xx, yy, decision_plane.z) #decision hyperplane\n",
    "    fig.add_sample_projections(X, decision_plane.normal, n_samples=3, showlegend=False)"
   ]
  },
  {
   "cell_type": "markdown",
   "metadata": {},
   "source": [
    "## include support-vectors in drawing (taking other SVM class!)"
   ]
  },
  {
   "cell_type": "code",
   "execution_count": null,
   "metadata": {},
   "outputs": [],
   "source": [
    "X, y = make_blobs(n_samples=80, centers=2, random_state=6, n_features=3)\n",
    "model = svm.SVC(kernel='linear', C=1).fit(X, y)\n",
    "print(\"Coefficients:\", model.coef_, \"Intercept:\", model.intercept_)\n",
    "decision_plane = Plane(*model.coef_[0], model.intercept_[0])\n",
    "\n",
    "trafo, back_trafo = make_base_changer(decision_plane)\n",
    "\n",
    "onto_plane = np.array([back_trafo([0, trafo(point)[1], trafo(point)[2]]) for point, side in zip(X, y)])\n",
    "minx, miny = onto_plane.min(axis=0)[:2]\n",
    "maxx, maxy = onto_plane.max(axis=0)[:2]\n",
    "\n",
    "z_vals = [trafo(point)[0] for point in X]\n",
    "minneg, maxneg = min(z_vals), max([i for i in z_vals if i < 0])\n",
    "minpos, maxpos = min([i for i in z_vals if i > 0]), max(z_vals)\n",
    "\n",
    "\n",
    "with ThreeDFigure() as fig: #trafo, back_trafo, swap_axes=\"xz\":\n",
    "    fig.add_markers([0,0,0], size=3, name=\"origin (original space)\") #coordinate center\n",
    "    plane_offset = decision_plane.project([0,0,0]) #point where plane == plane.normal\n",
    "    fig.add_markers(plane_offset, name=\"plane_offset\", color=\"yellow\")\n",
    "    fig.add_line(plane_offset+decision_plane.normal*minneg, plane_offset+decision_plane.normal*maxpos, name=\"plane_normal\") \n",
    "    for point, side in zip(X, y):\n",
    "        if trafo(point)[0] in [minneg, maxneg, minpos, maxpos]:\n",
    "            fig.add_markers(point, color=\"blue\" if side else \"red\", name=\"d=\"+str(trafo(point)[0]), size=3)\n",
    "            fig.add_line(point, back_trafo([0, trafo(point)[1], trafo(point)[2]]), name=\"^ len_d\",)            \n",
    "            fig.add_line(point, ortho_projection_affine(point, decision_plane.normal), name=\"^ proj\")\n",
    "        else:\n",
    "            fig.add_markers(point, color=\"blue\" if side else \"red\", name=str(trafo(point)[0]), showlegend=False)\n",
    "    xx, yy = make_meshgrid(minx=minx, miny=miny, maxx=maxx, maxy=maxy, margin=0.1)\n",
    "    fig.add_surface(xx, yy, decision_plane.z) #decision hyperplane\n",
    "    fig.add_markers([0,0,0], size=3, name=\"origin\") #coordinate center\n",
    "    fig.add_sample_projections(X, decision_plane.normal, n_samples=3, showlegend=False)\n",
    "    \n",
    "    #if hasattr(model, \"support_vectors_\"):\n",
    "    for n, point in enumerate(model.support_vectors_):\n",
    "        fig.add_markers(point, name=f\"support_vec_{n}\", marker={\"color\": None, \"size\": 2, \"line\": {\"width\": 3, \"color\": \"black\"}},)"
   ]
  },
  {
   "cell_type": "markdown",
   "metadata": {},
   "source": [
    "# Checking projection-methods & distance measures from point to projection"
   ]
  },
  {
   "cell_type": "code",
   "execution_count": null,
   "metadata": {},
   "outputs": [],
   "source": [
    "X, y = make_blobs(n_samples=80, centers=2, random_state=6, n_features=3)\n",
    "model = svm.SVC(kernel='linear', C=1).fit(X, y)\n",
    "print(\"Coefficients:\", model.coef_, \"Intercept:\", model.intercept_)\n",
    "\n",
    "decision_plane = Plane(*model.coef_[0], model.intercept_[0])\n",
    "forward, backward = make_base_changer(decision_plane)\n",
    "\n",
    "list(zip(y, X))[:10]"
   ]
  },
  {
   "cell_type": "code",
   "execution_count": null,
   "metadata": {},
   "outputs": [],
   "source": [
    "# helper functions\n",
    "def get_normalized_fn(orig_fn, all_mds, *more_args):\n",
    "    fmin, fmax = min(all_vals := [orig_fn(all_mds[i], *more_args) for i in range(len(all_mds))]), max(all_vals)\n",
    "    return lambda x: round(((orig_fn(x, *more_args)-fmin)/(fmax-fmin))*100, 2)\n",
    "\n",
    "get_both = lambda fn, all_mds, *more_args: (fn, get_normalized_fn(fn, all_mds, *more_args))\n",
    "\n",
    "vec_dist = lambda a, b: np.linalg.norm(a-b)"
   ]
  },
  {
   "cell_type": "markdown",
   "metadata": {},
   "source": [
    "### Now let's get to the actual projections/distances..."
   ]
  },
  {
   "cell_type": "code",
   "execution_count": null,
   "metadata": {},
   "outputs": [],
   "source": [
    "prototypicality_pre, prototypicality = get_both(lambda x, forwardproj: abs(forwardproj(x)[0]), X, forward)\n",
    "\n",
    "project_pre, project = get_both(lambda x, plane: vec_dist(plane.project(x), x), X, decision_plane)\n",
    "\n",
    "#see https://stackoverflow.com/a/17661431: distance = n * p + d\n",
    "project2_pre = lambda x, plane: np.dot(plane.normal, x) + plane.d  #This, nicely, returns 0 if on plane, something > 0 if in FRONT (side of normal) and something < 0 if BEHIND of plane.\n",
    "abs_project2_pre, abs_project2 = get_both(lambda x, plane: abs(np.dot(plane.normal, x) + plane.d), X, decision_plane)"
   ]
  },
  {
   "cell_type": "code",
   "execution_count": null,
   "metadata": {},
   "outputs": [],
   "source": [
    "#onto_plane =  p' = p - (n ⋅ p + d) * n  -- see https://stackoverflow.com/a/41897378\n",
    "\n",
    "quotients = [abs_project2_pre(x, decision_plane)/prototypicality_pre(x, forward) for x in X[:20]]\n",
    "assert np.isclose(min(quotients), max(quotients))\n",
    "#TODO figure out WHY the quotient between protypicality, proj-dist and abs-proj-dist-2 is the way it is and then correct this!!\n",
    "\n",
    "def onto_plane(x, plane, quotient):\n",
    "    #plane_dist = project2_pre(x, plane)\n",
    "    #plane_dist = project_pre(x, plane)\n",
    "    #plane_dist = prototypicality_pre(x, forwardproj) #hiermit klappts..\n",
    "    plane_dist = project2_pre(x, plane) / quotient\n",
    "    #TODO figure out WHY the quotient between protypicality, proj-dist and abs-proj-dist-2 is the way it is and then correct this!!\n",
    "    return x - plane_dist * plane.normal\n",
    "\n",
    "project3_pre, project3 = get_both(lambda x, plane, quotient: vec_dist(onto_plane(x, plane, quotient), x), X, decision_plane, quotients[0])"
   ]
  },
  {
   "cell_type": "code",
   "execution_count": null,
   "metadata": {},
   "outputs": [],
   "source": [
    "project_using_basechanger = lambda x, forwardproj, backwardproj: backwardproj([0, (transformed := forwardproj(x))[1], transformed[2]])\n",
    "project_using_project     = lambda x, plane: plane.project(x)\n",
    "project_using_project2_3  = lambda x, plane, quotient: onto_plane(x, plane, quotient)"
   ]
  },
  {
   "cell_type": "code",
   "execution_count": null,
   "metadata": {},
   "outputs": [],
   "source": [
    "for x in X[:10]:\n",
    "    print(\"Point:\", x, \"  reversed:\", project2_pre(x, decision_plane) > 0)\n",
    "    #print(\"Forward-x:\", forward(x))\n",
    "\n",
    "    print(\"  Normed Project:\", project(x))\n",
    "    print(\"  Normed Prototypicality:\", prototypicality(x))\n",
    "    print(\"  Normed abs projection Distance:\", abs_project2(x))\n",
    "    print(\"  Normed Distance Point & Projection3:\", project3(x))\n",
    "    print()\n",
    "\n",
    "    print(\"  Unnormed Project:\", project_pre(x, decision_plane))\n",
    "    print(\"  Unnormed Prototypicality:\", prototypicality_pre(x, forward))\n",
    "    print(\"  Projection Distance:\", project2_pre(x, decision_plane))\n",
    "    print(\"  Abs projection Distance:\", abs_project2_pre(x, decision_plane))\n",
    "    print(\"  Unnormed Distance Point <-> Projection3\", project3_pre(x, decision_plane, quotients[0]))\n",
    "    print()\n",
    "\n",
    "    print(\"  Quotient Prototypicality <-> Proj Dist:\", project_pre(x, decision_plane)/prototypicality_pre(x, forward))\n",
    "    print(\"  Quotient Prototypicality <-> Abs Proj Dist 2:\", abs_project2_pre(x, decision_plane)/prototypicality_pre(x, forward))\n",
    "    print(\"  Proj Dist <-> Abs Proj Dist 2:\", project_pre(x, decision_plane)/abs_project2_pre(x, decision_plane))\n",
    "    #TODO figure out WHY the quotient between protypicality, proj-dist and abs-proj-dist-2 is the way it is.\n",
    "    print()\n",
    "\n",
    "    print(\"  Projections are actually on the plane: \", project_using_basechanger(x, forward, backward) in decision_plane, project_using_project(x, decision_plane) in decision_plane, project_using_project2_3(x, decision_plane, quotients[0]) in decision_plane)\n",
    "    print(\"\\n\")"
   ]
  },
  {
   "cell_type": "code",
   "execution_count": null,
   "metadata": {},
   "outputs": [],
   "source": []
  },
  {
   "cell_type": "code",
   "execution_count": null,
   "metadata": {},
   "outputs": [],
   "source": [
    "#deleteme from here"
   ]
  },
  {
   "cell_type": "code",
   "execution_count": null,
   "metadata": {},
   "outputs": [],
   "source": [
    "def plane_proj(plane, point):\n",
    "    x, y, z = point\n",
    "    k = (plane.a * x + plane.b * y + plane.c * z + plane.d) / (plane.a ** 2 + plane.b ** 2 + plane.c ** 2)\n",
    "    k = 2*k\n",
    "    return np.array([x - k * plane.a, y - k * plane.b, z - k * plane.c])\n",
    "\n",
    "\n",
    "for x in X[:5]:\n",
    "    tmpproj = plane_proj(decision_plane, x)\n",
    "    print(vec_dist(x, tmpproj))\n",
    "    print(vec_dist(x, decision_plane.project(x)))\n",
    "    print()"
   ]
  },
  {
   "cell_type": "code",
   "execution_count": null,
   "metadata": {},
   "outputs": [],
   "source": [
    "def plane_proj(plane, point):\n",
    "    x, y, z = point\n",
    "    k = (plane.a * x + plane.b * y + plane.c * z + plane.d) / (plane.a ** 2 + plane.b ** 2 + plane.c ** 2)\n",
    "    return np.array([x - k * plane.a, y - k * plane.b, z - k * plane.c])\n",
    "\n",
    "\n",
    "for x in X[:5]:\n",
    "    tmpproj = plane_proj(decision_plane, x)\n",
    "    print(vec_dist(x, tmpproj))\n",
    "    print(vec_dist(x, decision_plane.project(x)))\n",
    "    print()"
   ]
  },
  {
   "cell_type": "code",
   "execution_count": null,
   "metadata": {},
   "outputs": [],
   "source": [
    "project_using_basechanger = lambda x, forwardproj, backwardproj: backwardproj([0, (transformed := forwardproj(x))[1], transformed[2]])\n",
    "project_using_project     = lambda x, plane: plane.project(x)\n",
    "project_using_project2_3  = lambda x, plane, quotient: onto_plane(x, plane, quotient)"
   ]
  },
  {
   "cell_type": "code",
   "execution_count": null,
   "metadata": {},
   "outputs": [],
   "source": [
    "for x in X[:5]:\n",
    "    print(decision_plane.project(x), decision_plane.project(x) in decision_plane, vec_dist(decision_plane.project(x), x))\n",
    "    \n",
    "    tmp = np.dot(decision_plane.normal, x) + decision_plane.d \n",
    "    tmp = tmp/(decision_plane.a**2+decision_plane.b**2+decision_plane.c**2)\n",
    "    proj = x - tmp * decision_plane.normal\n",
    "    print(proj)\n",
    "    \n",
    "    \n",
    "    print()"
   ]
  },
  {
   "cell_type": "raw",
   "metadata": {},
   "source": [
    "For that, we first have to know how to project a point onto a plane in affine frames \n",
    "\t(TODO: explain affine frames)\n",
    "\tSoo, what we want to do is find the minimal distance from the point to the plane. The minimal distance is achieved by going orthogonally towards the plane (-> in the direction of the normal). So we gotta calculate HOW MUCH we have to go into the direction, and then go into the direction of the normal.\n",
    "\n",
    "\t```\n",
    "\t    def project(self, point):\n",
    "        x, y, z = point\n",
    "        k = (self.a * x + self.b * y + self.c * z + self.d) / (self.a ** 2 + self.b ** 2 + self.c ** 2)\n",
    "        return np.array([x - k * self.a, y - k * self.b, z - k * self.c])\n",
    "    ```\n",
    "\n",
    "    k is the \"how much\", a scalar. Why is that the value it is?!\n",
    "\n",
    "    Well, https://stackoverflow.com/a/17661431 here says the distance from a point to its projection onto the plane is np.dot(point, plane.normal)+d (...and the actual projection then `p-(np.dot(point, plane.normal)+d)*n`). ...UND DAS MUSS MAN EINFACH HINNEHMEN! That is almost the same, except it's not \"normalized\" by a²+b²+c².\n",
    "\n",
    "    What is the explanation of the difference from this to the result of using forward and backward??"
   ]
  },
  {
   "cell_type": "code",
   "execution_count": null,
   "metadata": {},
   "outputs": [],
   "source": [
    "#deleteme until here"
   ]
  }
 ],
 "metadata": {
  "kernelspec": {
   "display_name": "Python 3 (ipykernel)",
   "language": "python",
   "name": "python3"
  },
  "language_info": {
   "codemirror_mode": {
    "name": "ipython",
    "version": 3
   },
   "file_extension": ".py",
   "mimetype": "text/x-python",
   "name": "python",
   "nbconvert_exporter": "python",
   "pygments_lexer": "ipython3",
   "version": "3.10.0"
  }
 },
 "nbformat": 4,
 "nbformat_minor": 4
}
