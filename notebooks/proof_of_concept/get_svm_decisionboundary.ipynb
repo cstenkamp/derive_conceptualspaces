{
 "cells": [
  {
   "cell_type": "code",
   "execution_count": null,
   "metadata": {},
   "outputs": [],
   "source": [
    "import numpy as np\n",
    "import matplotlib.pyplot as plt\n",
    "from sklearn import svm, datasets\n",
    "from sklearn.datasets import make_blobs\n",
    "import math"
   ]
  },
  {
   "cell_type": "code",
   "execution_count": null,
   "metadata": {},
   "outputs": [],
   "source": [
    "def create_iris_dataset(ndims):\n",
    "    iris = datasets.load_iris()\n",
    "    X = iris.data[:, :ndims]\n",
    "    y = iris.target\n",
    "    to_take_indices = list(set(np.arange(len(y)))-set(np.where(y==2)[0]))\n",
    "    X = X[to_take_indices]\n",
    "    y = y[to_take_indices]\n",
    "    return X, y"
   ]
  },
  {
   "cell_type": "markdown",
   "metadata": {},
   "source": [
    "# 2D"
   ]
  },
  {
   "cell_type": "code",
   "execution_count": null,
   "metadata": {},
   "outputs": [],
   "source": [
    "def make_meshgrid(x, y, h=.02):\n",
    "    \"\"\"Create a mesh of points to plot in\n",
    "\n",
    "    Parameters\n",
    "    ----------\n",
    "    x: data to base x-axis meshgrid on\n",
    "    y: data to base y-axis meshgrid on\n",
    "    h: stepsize for meshgrid, optional\n",
    "\n",
    "    Returns\n",
    "    -------\n",
    "    xx, yy : ndarray\n",
    "    \"\"\"\n",
    "    x_min, x_max = x.min() - 1, x.max() + 1\n",
    "    y_min, y_max = y.min() - 1, y.max() + 1\n",
    "    xx, yy = np.meshgrid(np.arange(x_min, x_max, h),\n",
    "                         np.arange(y_min, y_max, h))\n",
    "    return xx, yy\n",
    "\n",
    "\n",
    "def plot_contours(ax, clf, xx, yy, **params):\n",
    "    \"\"\"Plot the decision boundaries for a classifier.\n",
    "\n",
    "    Parameters\n",
    "    ----------\n",
    "    ax: matplotlib axes object\n",
    "    clf: a classifier\n",
    "    xx: meshgrid ndarray\n",
    "    yy: meshgrid ndarray\n",
    "    params: dictionary of params to pass to contourf, optional\n",
    "    \"\"\"\n",
    "    Z = clf.predict(np.c_[xx.ravel(), yy.ravel()])\n",
    "    Z = Z.reshape(xx.shape)\n",
    "    out = ax.contourf(xx, yy, Z, **params)\n",
    "    return out"
   ]
  },
  {
   "cell_type": "code",
   "execution_count": null,
   "metadata": {},
   "outputs": [],
   "source": [
    "X, y = create_iris_dataset(ndims=2)\n",
    "\n",
    "#...different dataset (you may comment me out):\n",
    "#X, y = make_blobs(n_samples=80, centers=2, random_state=6)"
   ]
  },
  {
   "cell_type": "code",
   "execution_count": null,
   "metadata": {},
   "outputs": [],
   "source": [
    "def plot_all(X, model, title):\n",
    "    X0, X1 = X[:, 0], X[:, 1]\n",
    "    xx, yy = make_meshgrid(X0, X1)\n",
    "    fig, ax = plt.subplots(1,1)\n",
    "    plot_contours(ax, model, xx, yy, cmap=plt.cm.coolwarm, alpha=0.8)\n",
    "    ax.scatter(X0, X1, c=y, cmap=plt.cm.coolwarm, s=20, edgecolors='k')\n",
    "    ax.set_xlim(xx.min(), xx.max())\n",
    "    ax.set_ylim(yy.min(), yy.max())\n",
    "    ax.set_xlabel('Sepal length')\n",
    "    ax.set_ylabel('Sepal width')\n",
    "    ax.set_title(title)\n",
    "    plt.show()\n",
    "    return ax.get_xlim(), ax.get_ylim()\n",
    "    \n",
    "\n",
    "def plot_all_2(X, model, title):\n",
    "    plt.scatter(X[:, 0], X[:, 1], c=y, s=30, cmap=plt.cm.Paired)\n",
    "    ax = plt.gca()\n",
    "    xlim = ax.get_xlim()\n",
    "    ylim = ax.get_ylim()\n",
    "\n",
    "    # create grid to evaluate model\n",
    "    xx = np.linspace(xlim[0], xlim[1], 30)\n",
    "    yy = np.linspace(ylim[0], ylim[1], 30)\n",
    "    YY, XX = np.meshgrid(yy, xx)\n",
    "    xy = np.vstack([XX.ravel(), YY.ravel()]).T\n",
    "    Z = model.decision_function(xy).reshape(XX.shape)\n",
    "\n",
    "    # plot decision boundary and margins\n",
    "    ax.contour(XX, YY, Z, colors='k', levels=[-1, 0, 1], alpha=0.5, linestyles=['--', '-', '--'])\n",
    "    # plot support vectors\n",
    "    if hasattr(model, \"support_vectors_\"):\n",
    "        ax.scatter(model.support_vectors_[:, 0], model.support_vectors_[:, 1], s=100, linewidth=1, facecolors='none', edgecolors='k')\n",
    "    ax.set_title(title)\n",
    "    plt.show()"
   ]
  },
  {
   "cell_type": "code",
   "execution_count": null,
   "metadata": {},
   "outputs": [],
   "source": [
    "model = svm.LinearSVC(C=1, max_iter=10000).fit(X, y)\n",
    "print(\"Coefficients:\", model.coef_, \"Intercept:\", model.intercept_)\n",
    "xlim, ylim = plot_all(X, model, title='LinearSVC (linear kernel)')\n",
    "plot_all_2(X, model, title='LinearSVC (linear kernel)')"
   ]
  },
  {
   "cell_type": "code",
   "execution_count": null,
   "metadata": {},
   "outputs": [],
   "source": [
    "model = svm.SVC(kernel='linear', C=1).fit(X, y)\n",
    "print(\"Coefficients:\", model.coef_, \"Intercept:\", model.intercept_)\n",
    "xlim, ylim = plot_all(X, model, title='LinearSVC (linear kernel)')\n",
    "plot_all_2(X, model, title='LinearSVC (linear kernel)')"
   ]
  },
  {
   "cell_type": "code",
   "execution_count": null,
   "metadata": {
    "tags": []
   },
   "outputs": [],
   "source": [
    "def abline(slope, intercept, xlim=(0,3), ylim=(0,3)):\n",
    "    \"\"\"Plot a line from slope and intercept\"\"\"\n",
    "    axes = plt.gca()\n",
    "    axes.set_xlim(xlim)\n",
    "    axes.set_ylim(ylim)\n",
    "    x_vals = np.array(axes.get_xlim())\n",
    "    y_vals = -intercept + slope * x_vals\n",
    "    plt.plot(x_vals, y_vals, '--')\n",
    "    \n",
    "\n",
    "def find_seperatrix(model):\n",
    "    W=model.coef_[0]\n",
    "    I=model.intercept_\n",
    "    a = -W[0]/W[1]\n",
    "    b = I[0]/W[1]\n",
    "    return a, b\n",
    "\n",
    "slope, intercept = find_seperatrix(model)\n",
    "\n",
    "print(slope, intercept)\n",
    "\n",
    "abline(slope, intercept, xlim, ylim)"
   ]
  },
  {
   "cell_type": "code",
   "execution_count": null,
   "metadata": {},
   "outputs": [],
   "source": [
    "x_vals = np.array(xlim)\n",
    "y_vals = -intercept + slope * x_vals\n",
    "points = [np.array(i) for i in zip(x_vals, y_vals)]\n",
    "\n",
    "vector = points[1]-points[0]\n",
    "\n",
    "print(points)\n",
    "print(vector)"
   ]
  },
  {
   "cell_type": "code",
   "execution_count": null,
   "metadata": {},
   "outputs": [],
   "source": [
    "def show_vectors(ax, vectors, vectors_with_start):\n",
    "    \"\"\"https://stackoverflow.com/a/42282532/5122790\"\"\"\n",
    "    HEAD_SIZE = 0.2\n",
    "    M = np.array(vectors)\n",
    "    colors = ['r','g','b','k','gray']\n",
    "    if vectors:\n",
    "        for i,l in enumerate(range(0,M.shape[0])):\n",
    "            ax.arrow(0,0,M[i,0],M[i,1],head_width=HEAD_SIZE,head_length=HEAD_SIZE,color = colors[i], length_includes_head=True)\n",
    "\n",
    "    colors = ['c','m','y']\n",
    "    if vectors_with_start:\n",
    "        for i,(xs,ys,xf,yf) in enumerate([(*i[0],*i[1]) for i in vectors_with_start]):\n",
    "            ax.arrow(xs,ys,xf,yf,head_width=HEAD_SIZE,head_length=HEAD_SIZE,color = colors[i], length_includes_head=True)\n",
    "\n",
    "    return ax"
   ]
  },
  {
   "cell_type": "code",
   "execution_count": null,
   "metadata": {},
   "outputs": [],
   "source": [
    "def ortho_proj(a,b):\n",
    "    #https://en.wikipedia.org/wiki/Vector_projection\n",
    "    a1_sc = np.dot(a,(b/np.linalg.norm(b)))\n",
    "    b_hat = b/np.linalg.norm(b)\n",
    "    a1 = a1_sc*b_hat\n",
    "    a2 = a-a1\n",
    "    return a2"
   ]
  },
  {
   "cell_type": "code",
   "execution_count": null,
   "metadata": {},
   "outputs": [],
   "source": [
    "center_point = points[0]+0.5*vector"
   ]
  },
  {
   "cell_type": "code",
   "execution_count": null,
   "metadata": {},
   "outputs": [],
   "source": [
    "print(ortho_proj(vector, center_point))"
   ]
  },
  {
   "cell_type": "code",
   "execution_count": null,
   "metadata": {},
   "outputs": [],
   "source": [
    "fig, ax = plt.subplots(figsize=(8,8))\n",
    "show_vectors(ax, [], [(points[0], vector), (center_point, ortho_proj(vector, center_point))])\n",
    "\n",
    "ax.plot(*center_point,'ok') \n",
    "ax.set_aspect('equal', 'box')\n",
    "plt.grid(b=True, which='major')\n",
    "\n",
    "plt.xlim(xlim)\n",
    "plt.ylim(ylim)\n",
    "plt.show()"
   ]
  },
  {
   "cell_type": "code",
   "execution_count": null,
   "metadata": {},
   "outputs": [],
   "source": [
    "print(model.coef_[0])\n",
    "print(center_point+model.coef_[0])"
   ]
  },
  {
   "cell_type": "code",
   "execution_count": null,
   "metadata": {},
   "outputs": [],
   "source": [
    "fig, ax = plt.subplots(figsize=(8,8))\n",
    "show_vectors(ax, [], [(points[0], vector), (center_point, ortho_proj(vector, center_point)), (center_point, model.coef_[0])])\n",
    "\n",
    "ax.plot(*center_point,'ok') \n",
    "ax.set_aspect('equal', 'box')\n",
    "plt.grid(b=True, which='major')\n",
    "\n",
    "plt.xlim(xlim)\n",
    "plt.ylim(ylim)\n",
    "plt.show()"
   ]
  },
  {
   "cell_type": "markdown",
   "metadata": {},
   "source": [
    "# 3D"
   ]
  },
  {
   "cell_type": "code",
   "execution_count": null,
   "metadata": {},
   "outputs": [],
   "source": [
    "#https://stackoverflow.com/a/51301399/5122790, https://stackoverflow.com/a/69407977/5122790 !!!\n",
    "import plotly.express as px\n",
    "import plotly.graph_objects as go\n",
    "from mpl_toolkits import mplot3d\n",
    "from dataclasses import dataclass"
   ]
  },
  {
   "cell_type": "code",
   "execution_count": null,
   "metadata": {},
   "outputs": [],
   "source": [
    "X, y = create_iris_dataset(ndims=3)\n",
    "model = svm.LinearSVC(C=1, max_iter=10000).fit(X, y)\n",
    "print(\"Coefficients:\", model.coef_, \"Intercept:\", model.intercept_)"
   ]
  },
  {
   "cell_type": "code",
   "execution_count": null,
   "metadata": {},
   "outputs": [],
   "source": [
    "fig = plt.figure(figsize=(8, 6))\n",
    "ax = plt.axes(projection='3d')\n",
    "ax.scatter(X[:,0], X[:,1], X[:,2], color=[\"r\" if i==0 else \"b\" for i in y])\n",
    "plt.show()"
   ]
  },
  {
   "cell_type": "code",
   "execution_count": null,
   "metadata": {},
   "outputs": [],
   "source": [
    "def make_meshgrid(X=None, minx=None, miny=None, maxx=None, maxy=None, size=None, amount=30, margin=0):\n",
    "    assert X is not None or (minx is not None and miny is not None and maxx is not None and maxy is not None) or size is not None\n",
    "    if X is not None:\n",
    "        minx = min(X[:,0]) if minx is None or min(X[:,0])<minx else minx\n",
    "        miny = min(X[:,1]) if miny is None or min(X[:,1])<miny else miny\n",
    "        maxx = max(X[:,0]) if maxx is None or max(X[:,0])>maxx else maxx\n",
    "        maxy = max(X[:,1]) if maxy is None or max(X[:,1])>maxy else maxy\n",
    "    elif size is not None and (minx is None and miny is None and maxx is None and maxy is None):\n",
    "        minx = miny = -size\n",
    "        maxx = maxy = size\n",
    "    lsx = np.linspace(minx-margin, maxx+margin, amount)\n",
    "    lsy = np.linspace(miny-margin, maxy+margin, amount)\n",
    "    xx, yy = np.meshgrid(lsx,lsy)\n",
    "    return xx, yy\n",
    "\n",
    "\n",
    "def plot_3d_boundary(clf):\n",
    "    # The equation of the separating plane is given by all x so that np.dot(svc.coef_[0], x) + b = 0.\n",
    "    # Solve for w3 (z)\n",
    "    z = lambda clf, x,y: (-clf.intercept_[0]-clf.coef_[0][0]*x -clf.coef_[0][1]*y) / clf.coef_[0][2]\n",
    "    # https://stackoverflow.com/a/51301399/5122790 !!!\n",
    "\n",
    "    xx, yy = make_meshgrid(X)\n",
    "\n",
    "    fig = plt.figure()\n",
    "    ax  = fig.add_subplot(111, projection='3d')\n",
    "    ax.plot3D(X[y==0,0], X[y==0,1], X[y==0,2],'ob')\n",
    "    ax.plot3D(X[y==1,0], X[y==1,1], X[y==1,2],'sr')\n",
    "    ax.plot_surface(xx, yy, z(clf,xx,yy))\n",
    "    ax.view_init(30, 60)\n",
    "    plt.show()\n",
    "    \n",
    "plot_3d_boundary(model)"
   ]
  },
  {
   "cell_type": "code",
   "execution_count": null,
   "metadata": {},
   "outputs": [],
   "source": [
    "def ortho_projection_affine(a, b):\n",
    "    \"\"\"https://en.wikipedia.org/wiki/Vector_projection\"\"\"\n",
    "    return np.dot(np.dot(a,b)/np.dot(b,b),b)\n",
    "\n",
    "class ThreeDFigure():\n",
    "    def __init__(self, trafo_fn=None, back_trafo_fn=None, swap_axes=None):\n",
    "        self.trafo_fn = trafo_fn if trafo_fn is not None else lambda x: x\n",
    "        self.back_trafo_fn = back_trafo_fn if back_trafo_fn is not None else lambda x: x\n",
    "        self.swap_axes = swap_axes\n",
    "        #https://community.plotly.com/t/creating-a-3d-scatterplot-with-equal-scale-along-all-axes/15108/7\n",
    "        self.fig = go.Figure(layout=go.Layout(\n",
    "                        scene=dict(camera=dict(eye=dict(x=1, y=1, z=1)), aspectmode=\"data\"),\n",
    "                        autosize=True,\n",
    "                        width=1000,\n",
    "                        height=800,\n",
    "                        margin=dict(l=10, r=10, b=10, t=10, pad=4),\n",
    "                        paper_bgcolor=\"White\"))\n",
    "        \n",
    "    def _transform(self, points, inverse=False):\n",
    "        trafo_fn = self.back_trafo_fn if inverse else self.trafo_fn              \n",
    "        points = np.array([trafo_fn(point) for point in points])    \n",
    "        if self.swap_axes:\n",
    "            points = self._swap_axes(points, self.swap_axes)\n",
    "        return points\n",
    "    \n",
    "    def _swap_axes(self, points, swap_axes):\n",
    "        swap_translate = {\"x\": 0, \"y\": 1, \"z\": 2}\n",
    "        ind1, ind2 = swap_translate[swap_axes[0]], swap_translate[swap_axes[1]]\n",
    "        tmp = points[:,ind1].copy()\n",
    "        points[:,ind1] = points[:,ind2]\n",
    "        points[:,ind2] = tmp\n",
    "        return points\n",
    "    \n",
    "                    \n",
    "    def add_surface(self, xx, yy, z_func, swap_axes=None, opacity=None):\n",
    "        xy_arr = np.vstack([xx.flatten(), yy.flatten()]).T\n",
    "        z_arr = np.array([z_func(*i) for i in xy_arr])\n",
    "        points = np.column_stack([xy_arr, z_arr])\n",
    "        points = self._transform(points)\n",
    "        if swap_axes: \n",
    "            points = self._swap_axes(points, swap_axes)\n",
    "        surface_form = lambda x: x.reshape(round(math.sqrt(x.shape[0])),-1)\n",
    "        self.fig.add_trace(go.Surface(x=surface_form(points[:,0]), y=surface_form(points[:,1]), z=surface_form(points[:,2]), opacity=opacity, showlegend=False, showscale=False))\n",
    "    \n",
    "    \n",
    "    def add_line(self, point1, point2, width=6, do_transform=True, name=None, **kwargs):\n",
    "        if do_transform:\n",
    "            point1 = self._transform(np.array([point1])).squeeze()\n",
    "            point2 = self._transform(np.array([point2])).squeeze()\n",
    "        self.fig.add_trace(\n",
    "            go.Scatter3d(x = [point1[0], point2[0]],\n",
    "                         y = [point1[1], point2[1]],\n",
    "                         z = [point1[2], point2[2]],\n",
    "                         marker = dict(size = 1),\n",
    "                         line = dict(width = width),\n",
    "                         name=name,\n",
    "                         **kwargs\n",
    "                         )\n",
    "        )\n",
    "        \n",
    "    def add_markers(self, points, color=\"black\", size=2, name=None, **kwargs):\n",
    "        points = np.array(points)\n",
    "        if points.ndim == 1: points = np.array([points])\n",
    "        points = self._transform(points)\n",
    "        default_args = dict(mode=\"markers\", x=points[:,0], y=points[:,1], z=points[:,2], marker={\"color\": color, \"size\": size, \"line\": {\"width\": 0}}, name=name)\n",
    "        self.fig.add_trace(go.Scatter3d(**{**default_args, **kwargs}))\n",
    "        \n",
    "    \n",
    "    def add_sample_projections(self, X, onto, n_samples=10, **kwargs):\n",
    "        show_vecs = X[np.random.choice(X.shape[0], n_samples, replace=False), :]\n",
    "        for point in show_vecs:\n",
    "            proj = ortho_projection_affine(point, onto)\n",
    "            self.add_line(point, proj, **kwargs)\n",
    "            \n",
    "    \n",
    "    def __enter__(self, *args):\n",
    "        return self\n",
    "    \n",
    "    def __exit__(self, exc_type, exc, exc_tb):\n",
    "        if not exc_type:\n",
    "            display(self.fig)\n",
    "    "
   ]
  },
  {
   "cell_type": "code",
   "execution_count": null,
   "metadata": {},
   "outputs": [],
   "source": [
    "@dataclass\n",
    "class Plane:\n",
    "    a: float\n",
    "    b: float\n",
    "    c: float\n",
    "    d: float\n",
    "    \n",
    "    @property\n",
    "    def normal(self):\n",
    "        return np.array([self.a, self.b, self.c])\n",
    "    \n",
    "    def __contains__(self, point:np.array):\n",
    "        return np.isclose(self.a*point[0] + self.b*point[1] + self.c*point[2] + self.d, 0)\n",
    "    \n",
    "    def project(self, point):\n",
    "        x,y,z = point\n",
    "        k = (self.a*x + self.b*y + self.c*z + self.d)/(self.a**2 + self.b**2 + self.c**2)\n",
    "        return np.array([x - k*self.a, y-k*self.b, z-k*self.c])\n",
    "   \n",
    "    def z(self, x, y):\n",
    "        return (- self.d - self.b*y - self.a*x)/self.c"
   ]
  },
  {
   "cell_type": "code",
   "execution_count": null,
   "metadata": {},
   "outputs": [],
   "source": [
    "decision_plane = Plane(*model.coef_[0], model.intercept_[0])\n",
    "\n",
    "with ThreeDFigure() as fig:\n",
    "    fig.add_markers(X, color=y) #samples\n",
    "    xx, yy = make_meshgrid(X, margin=1)\n",
    "    fig.add_surface(xx, yy, decision_plane.z) #decision hyperplane\n",
    "    fig.add_line(X.mean(axis=0)-decision_plane.normal, X.mean(axis=0)+decision_plane.normal) #orthogonal of decision hyperplane through mean of points\n",
    "    fig.add_markers([0,0,0], size=3) #coordinate center\n",
    "    \n",
    "    fig.add_line(-decision_plane.normal*5, decision_plane.normal*5) #orthogonal of decision hyperplane through [0,0,0]\n",
    "    fig.add_sample_projections(X, decision_plane.normal) #orthogonal lines from the samples onto the decision hyperplane orthogonal"
   ]
  },
  {
   "cell_type": "code",
   "execution_count": null,
   "metadata": {},
   "outputs": [],
   "source": [
    "X, y = make_blobs(n_samples=80, centers=2, random_state=6, n_features=3)\n",
    "model = svm.LinearSVC(C=1, max_iter=10000).fit(X, y)\n",
    "print(\"Coefficients:\", model.coef_, \"Intercept:\", model.intercept_)\n",
    "decision_plane = Plane(*model.coef_[0], model.intercept_[0])\n",
    "\n",
    "with ThreeDFigure() as fig:\n",
    "    fig.add_markers(X, color=y) #samples\n",
    "    xx, yy = make_meshgrid(X, margin=1)\n",
    "    fig.add_surface(xx, yy, decision_plane.z) #decision hyperplane\n",
    "    fig.add_line(X.mean(axis=0)-decision_plane.normal, X.mean(axis=0)+decision_plane.normal) #orthogonal of decision hyperplane through mean of points\n",
    "    fig.add_markers([0,0,0], size=3) #coordinate center\n",
    "    \n",
    "    fig.add_line(-decision_plane.normal*5, decision_plane.normal*5) #orthogonal of decision hyperplane through [0,0,0]\n",
    "    fig.add_sample_projections(X, decision_plane.normal) #orthogonal lines from the samples onto the decision hyperplane orthogonal"
   ]
  },
  {
   "cell_type": "markdown",
   "metadata": {},
   "source": [
    "* I'm having so many apparently hard-to-solve problems - the decision-boundary for example goes from (minx,miny) to (maxx,maxy), with the corresponding z-coordinate. However that's superflous, it may become waaay to big there, because the original x/y/z coordinate system is irrelevant! The size of the decision surface is constrained instead rather by the circle of all lines that go through a point and in parallel to the orthogonal of the decision surface. But to figure out the size of the decision boundary from that is far from trivial - again because I always need the translation from the irrelevant acutal xyz-coordinate system to the coordinate system which is relevant for me, which is one in which the decision surface has two coordinate values equal to zero. If I do that, every other calculation becomes trivial!!\n",
    "* Same holds for the problem \"how long should the decisionsurface-orthogonal be\" - calculating it now is hard, but once we have translated the coordinate system it's just the min/max z-coordinate!"
   ]
  },
  {
   "cell_type": "code",
   "execution_count": null,
   "metadata": {},
   "outputs": [],
   "source": [
    "X, y = make_blobs(n_samples=80, centers=2, random_state=6, n_features=3)\n",
    "model = svm.LinearSVC(C=1, max_iter=10000).fit(X, y)\n",
    "print(\"Coefficients:\", model.coef_, \"Intercept:\", model.intercept_)\n",
    "decision_plane = Plane(*model.coef_[0], model.intercept_[0])\n",
    "\n",
    "\n",
    "with ThreeDFigure() as fig:\n",
    "    fig.add_markers(X, color=y) #samples\n",
    "    xx, yy = make_meshgrid(X, margin=1)\n",
    "    fig.add_surface(xx, yy, decision_plane.z) #decision hyperplane\n",
    "    fig.add_line([0,0,0], decision_plane.normal*100) #orthogonal of decision hyperplane through mean of points\n",
    "    fig.add_markers([0,0,0], size=3) #coordinate center\n",
    "    \n",
    "    for point, side in zip(X, y):\n",
    "        fig.add_line(point, point-decision_plane.normal*100 if side else point+decision_plane.normal*100)\n"
   ]
  },
  {
   "cell_type": "code",
   "execution_count": null,
   "metadata": {},
   "outputs": [],
   "source": [
    "def normalize(vec):\n",
    "    return vec/np.linalg.norm(vec)"
   ]
  },
  {
   "cell_type": "code",
   "execution_count": null,
   "metadata": {},
   "outputs": [],
   "source": [
    "decision_plane = Plane(*model.coef_[0], model.intercept_[0])\n",
    "vec = normalize(decision_plane.normal)\n",
    "print(\"Original Vec:\", vec)\n",
    "\n",
    "with ThreeDFigure() as fig:\n",
    "    #coordinate system\n",
    "    fig.add_surface(*make_meshgrid(size=1), lambda _,__: 0, opacity=0.3)\n",
    "    fig.add_surface(*make_meshgrid(size=1), lambda _,__: 0, swap_axes=\"xz\", opacity=0.3)\n",
    "    fig.add_surface(*make_meshgrid(size=1), lambda _,__: 0, swap_axes=\"yz\", opacity=0.3)    \n",
    "    fig.add_line([-1,0,0], [1,0,0])\n",
    "    fig.add_line([0,-1,0], [0,1,0])\n",
    "    fig.add_line([0,0,-1], [0,0,1])\n",
    "    \n",
    "    #vec and its projections\n",
    "    fig.add_line([0,0,0], vec, width=12)\n",
    "    fig.add_line([0,0,0], [0, vec[1], vec[2]])\n",
    "    fig.add_line([0,0,0], [vec[0], 0, vec[2]])\n",
    "    fig.add_line([0,0,0], [vec[0], vec[1], 0])\n"
   ]
  },
  {
   "cell_type": "raw",
   "metadata": {},
   "source": [
    "z      = -i[0]-c[0]*x -c[1]*y) / c[2]  | *c[2]\n",
    "z*c[2] = -i[0]-c[0]*x -c[1]*y          | +i[0] | -c[2]*z\n",
    "i[0]   = -c[0]*x - c[1]*y - c[2]*z\n",
    "\n",
    "0   = c[0]*x + c[1]*y + c[2]*z + i[0]\n",
    "0   = i + ax + by + cz\n",
    "\n",
    "warum ist das so?\n",
    "-> das innere produkt von 2 orthogonalen vektoren ist 0. Das heißt, der vektor der im selben punkt wie der normalenvektor anfängt, und zu einem beliebigen punkt auf der Ebene zeigt ist immer orthogonal zur orthogonalen.\n",
    "-> Tafelwerk, ebenendarstellung! Allgemeine form ax+by+cz=d\n",
    "\n",
    "Die Decision Hyperplane ist immer n-2 dimensional (plane bei 3d, gerade bei 2d).\n",
    "Die Orthogonale ist... was? immer 2D? Ist sie zumindest bei 3d und bei 2d.\n",
    "\n",
    "Was ist d?? \n",
    "Naja, hauen wir einen stift durch ein papier. Das papier ist die hyperplane, und die position dieser hp ist durch die ausrichtung des stiftes (->vector der orthogonalen) fast eineutig definiert, der einzige degree of freedom ist WO AUF DEM STIFT das papier ist. Der Stift selbst ist 1D (strich) --> d ist ein Skalar. Durch Richtung des stifts und position auf dem stift ist die ebene eindeutig definiert.\n",
    "\n",
    "Preisfrage: auch im 4D? Ist es da auch nur ein weiterer wert?\n",
    "HINT:\n",
    "\n",
    "X, y = make_blobs(n_samples=80, centers=2, random_state=6, n_features=4)\n",
    "model = svm.LinearSVC(C=1, max_iter=10000).fit(X, y)\n",
    "print(\"Intercept:\", model.intercept_)\n",
    "print(\"Coeffs:\", model.coef_)\n",
    "\n",
    "da intercept bei ner 4D-SVM 4D ist, Coef aber weiterhin nur ein Skalar würde ich vermuten auch bei einer Hyperplane im 4D ist der intercept skalar (...macht ja sinn, denn auch ein Vektor im 4-dimensionalen Raum ist ein eindimensionales Ding)"
   ]
  },
  {
   "cell_type": "code",
   "execution_count": null,
   "metadata": {},
   "outputs": [],
   "source": [
    "def make_base_changer(plane):\n",
    "    uvec1 = plane.normal\n",
    "    uvec2 = [0, -plane.d/plane.b, plane.d/plane.c] #NOT [1, 0, plane.z(model, 1, 0)] !!\n",
    "    uvec3 = np.cross(uvec1, uvec2)\n",
    "    transition_matrix = np.linalg.inv(np.array([uvec1, uvec2, uvec3]).T)\n",
    "    \n",
    "    origin = np.array([0,0,0])\n",
    "    new_origin = plane.project(origin)\n",
    "    forward  = lambda point: transition_matrix.dot(point - new_origin)\n",
    "    backward = lambda point: np.linalg.inv(transition_matrix).dot(point) + new_origin\n",
    "    return forward, backward\n",
    "\n",
    "\n",
    "#wir haben im 3D einen Degree of freedom hier!! uvec1 ist eindeutig definiert, aber uvec2 und uvec3 haben nur\n",
    "#die Bedingung dass sie orthogonal zueinander und zu uvec1 sind - das ist 1 dof. Im 2D haben wir 0 dof, da die \n",
    "#decisionboundary 1dimensional ist und ihre orthogonale auch. Wie viele dof haben wir im höherdim? immer n_dim-2? \n",
    "#das hat ja mega auswirkungen auf was ich machen will, am besten wäre es die neuen basen so zu wählen dass die\n",
    "#jeweils nächsten auch wieder orthogonal sind...!"
   ]
  },
  {
   "cell_type": "code",
   "execution_count": null,
   "metadata": {},
   "outputs": [],
   "source": [
    "X, y = make_blobs(n_samples=80, centers=2, random_state=6, n_features=3)\n",
    "model = svm.LinearSVC(C=1, max_iter=10000).fit(X, y)\n",
    "print(\"Coefficients:\", model.coef_, \"Intercept:\", model.intercept_)\n",
    "decision_plane = Plane(*model.coef_[0], model.intercept_[0])\n",
    "\n",
    "trafo, back_trafo = make_base_changer(decision_plane)\n",
    "\n",
    "with ThreeDFigure(trafo, back_trafo, swap_axes=\"xz\") as fig:\n",
    "    fig.add_markers(X, color=y) #samples\n",
    "    xx, yy = make_meshgrid(minx=-0.7, miny=-10, maxx=0.01, maxy=1, margin=1) #manual values!\n",
    "    fig.add_surface(xx, yy, decision_plane.z) #decision hyperplane\n",
    "    fig.add_line([0,0,0], decision_plane.normal*100) #orthogonal of decision hyperplane through mean of points\n",
    "    fig.add_markers([0,0,0], size=3) #coordinate center\n",
    "    fig.add_sample_projections(X, decision_plane.normal) #orthogonal lines from the samples onto the decision hyperplane orthogonal\n",
    "    \n",
    "    for point, side in zip(X, y):\n",
    "        #fig.add_line(point, point-decision_plane.normal*100 if side else point+decision_plane.normal*100)\n",
    "        #that ^ would be the blunt way to do it, smarter is to set transform, set x=0, backtransform\n",
    "        transformed = trafo(point)\n",
    "        onto_plane = back_trafo([0, transformed[1], transformed[2]])\n",
    "        fig.add_line(point, onto_plane)\n",
    "        \n",
    "#find a way to pre-determine the minx, miny, ... of the meshgrid THROUGH THE TRANSLATION"
   ]
  },
  {
   "cell_type": "code",
   "execution_count": null,
   "metadata": {},
   "outputs": [],
   "source": [
    "# the way how to determine the minx/miny/.. of the meshgrid:\n",
    "\n",
    "\n",
    "onto_plane = np.array([back_trafo([0, trafo(point)[1], trafo(point)[2]]) for point, side in zip(X, y)])\n",
    "minx, miny = onto_plane.min(axis=0)[:2]\n",
    "maxx, maxy = onto_plane.max(axis=0)[:2]\n",
    "    \n",
    "        \n",
    "with ThreeDFigure() as fig: #trafo, back_trafo, swap_axes=\"xz\"\n",
    "    fig.add_markers(X, color=y, showlegend=False) #samples\n",
    "    xx, yy = make_meshgrid(minx=minx, miny=miny, maxx=maxx, maxy=maxy, margin=0.1)\n",
    "    fig.add_surface(xx, yy, decision_plane.z) #decision hyperplane\n",
    "    fig.add_line([0,0,0], decision_plane.normal*100, name=\"normal_meanpoints\") #orthogonal of decision hyperplane through mean of points\n",
    "    fig.add_markers([0,0,0], size=3, name=\"origin\") #coordinate center\n",
    "    fig.add_sample_projections(X, decision_plane.normal, showlegend=False) #orthogonal lines from the samples onto the decision hyperplane orthogonal\n",
    "    \n",
    "    for point, side in zip(X, y):\n",
    "        fig.add_line(point, back_trafo([0, trafo(point)[1], trafo(point)[2]]), showlegend=False)"
   ]
  },
  {
   "cell_type": "markdown",
   "metadata": {},
   "source": [
    "## New stuff"
   ]
  },
  {
   "cell_type": "code",
   "execution_count": null,
   "metadata": {},
   "outputs": [],
   "source": [
    "X, y = make_blobs(n_samples=80, centers=2, random_state=2, n_features=3)\n",
    "model = svm.LinearSVC(C=1, max_iter=10000).fit(X, y)\n",
    "print(\"Coefficients:\", model.coef_, \"Intercept:\", model.intercept_)\n",
    "decision_plane = Plane(*model.coef_[0], model.intercept_[0])\n",
    "\n",
    "trafo, back_trafo = make_base_changer(decision_plane)\n",
    "\n",
    "onto_plane = np.array([back_trafo([0, trafo(point)[1], trafo(point)[2]]) for point, side in zip(X, y)])\n",
    "minx, miny = onto_plane.min(axis=0)[:2]\n",
    "maxx, maxy = onto_plane.max(axis=0)[:2]\n",
    "\n",
    "z_vals = [trafo(point)[0] for point in X]\n",
    "minneg, maxneg = min(z_vals), max([i for i in z_vals if i < 0])\n",
    "minpos, maxpos = min([i for i in z_vals if i > 0]), max(z_vals)"
   ]
  },
  {
   "cell_type": "code",
   "execution_count": null,
   "metadata": {},
   "outputs": [],
   "source": [
    "#instead of taking the transform, we could also just take the z-component (or the length, as x&y of it are 0) of the vector from a point to its projection\n",
    "\n",
    "for point, val in zip(X, y):\n",
    "    transformed_proj = np.around(trafo(decision_plane.project(point)-point), 5)\n",
    "    assert transformed_proj[1] == transformed_proj[2] == 0\n",
    "    assert (np.sign(transformed_proj[0]) == 1) == (val == 0)\n",
    "    \n",
    "assert all(np.array([trafo(point)[0] for point in X]).argsort() == np.array([(decision_plane.project(point)-point)[2] for point in X]).argsort())"
   ]
  },
  {
   "cell_type": "code",
   "execution_count": null,
   "metadata": {
    "tags": [
     "keep_output"
    ]
   },
   "outputs": [
    {
     "name": "stdout",
     "output_type": "stream",
     "text": [
      "Test-Output\n"
     ]
    },
    {
     "data": {
      "application/vnd.plotly.v1+json": {
       "config": {
        "plotlyServerURL": "https://plot.ly"
       },
       "data": [
        {
         "marker": {
          "color": "black",
          "line": {
           "width": 0
          },
          "size": 3
         },
         "mode": "markers",
         "name": "origin",
         "type": "scatter3d",
         "x": [
          0
         ],
         "y": [
          0
         ],
         "z": [
          0
         ]
        },
        {
         "marker": {
          "color": "yellow",
          "line": {
           "width": 0
          },
          "size": 2
         },
         "mode": "markers",
         "name": "plane_offset",
         "type": "scatter3d",
         "x": [
          0.10457578967164101
         ],
         "y": [
          -0.2674451978302454
         ],
         "z": [
          0.5043092830874485
         ]
        },
        {
         "line": {
          "width": 6
         },
         "marker": {
          "size": 1
         },
         "name": "plane_normal",
         "type": "scatter3d",
         "x": [
          1.2543301444917052,
          -0.8294569562516512
         ],
         "y": [
          -3.2078607743852983,
          2.1212775964010087
         ],
         "z": [
          6.048917611904286,
          -3.99999698087485
         ]
        },
        {
         "marker": {
          "color": "blue",
          "line": {
           "width": 0
          },
          "size": 2
         },
         "mode": "markers",
         "name": "4.520043180327407",
         "showlegend": false,
         "type": "scatter3d",
         "x": [
          0.042014020706258925
         ],
         "y": [
          -1.2900146220721205
         ],
         "z": [
          -3.847531434638628
         ]
        },
        {
         "marker": {
          "color": "blue",
          "line": {
           "width": 0
          },
          "size": 3
         },
         "mode": "markers",
         "name": "d=1.5948668273611442",
         "type": "scatter3d",
         "x": [
          -2.1339951601259597
         ],
         "y": [
          -1.9049146279088631
         ],
         "z": [
          -1.2486254908114804
         ]
        },
        {
         "line": {
          "width": 6
         },
         "marker": {
          "size": 1
         },
         "name": "^ len_d",
         "type": "scatter3d",
         "x": [
          -2.1339951601259597,
          -1.922792218043225
         ],
         "y": [
          -1.9049146279088631,
          -2.4450512389256724
         ],
         "z": [
          -1.2486254908114804,
          -0.23011437421230363
         ]
        },
        {
         "line": {
          "width": 6
         },
         "marker": {
          "size": 1
         },
         "name": "^ proj",
         "type": "scatter3d",
         "x": [
          -2.1339951601259597,
          -0.10662715241109344
         ],
         "y": [
          -1.9049146279088631,
          0.2726914131865635
         ],
         "z": [
          -1.2486254908114804,
          -0.5142018335117281
         ]
        },
        {
         "marker": {
          "color": "blue",
          "line": {
           "width": 0
          },
          "size": 2
         },
         "mode": "markers",
         "name": "3.7301114747651614",
         "showlegend": false,
         "type": "scatter3d",
         "x": [
          -2.6435542503000073
         ],
         "y": [
          -2.2908149558331123
         ],
         "z": [
          -3.153352381649631
         ]
        },
        {
         "marker": {
          "color": "red",
          "line": {
           "width": 0
          },
          "size": 2
         },
         "mode": "markers",
         "name": "-5.746269417153646",
         "showlegend": false,
         "type": "scatter3d",
         "x": [
          -1.8403364633977217
         ],
         "y": [
          -10.383721431512676
         ],
         "z": [
          0.40227728210473745
         ]
        },
        {
         "marker": {
          "color": "red",
          "line": {
           "width": 0
          },
          "size": 2
         },
         "mode": "markers",
         "name": "-5.607710401000097",
         "showlegend": false,
         "type": "scatter3d",
         "x": [
          -1.6157792956837722
         ],
         "y": [
          -8.870134583868456
         ],
         "z": [
          1.0412201494423712
         ]
        },
        {
         "marker": {
          "color": "blue",
          "line": {
           "width": 0
          },
          "size": 2
         },
         "mode": "markers",
         "name": "2.4661894657309054",
         "showlegend": false,
         "type": "scatter3d",
         "x": [
          -1.608169583290394
         ],
         "y": [
          -2.1863995411328263
         ],
         "z": [
          -2.243803012204535
         ]
        },
        {
         "marker": {
          "color": "blue",
          "line": {
           "width": 0
          },
          "size": 2
         },
         "mode": "markers",
         "name": "3.8377358309711513",
         "showlegend": false,
         "type": "scatter3d",
         "x": [
          -1.7225654661443077
         ],
         "y": [
          -0.8964459786387888
         ],
         "z": [
          -2.695887307645588
         ]
        },
        {
         "marker": {
          "color": "red",
          "line": {
           "width": 0
          },
          "size": 2
         },
         "mode": "markers",
         "name": "-3.808033542186939",
         "showlegend": false,
         "type": "scatter3d",
         "x": [
          -0.771705714476493
         ],
         "y": [
          -9.265359357178491
         ],
         "z": [
          -0.8653628285493147
         ]
        },
        {
         "marker": {
          "color": "blue",
          "line": {
           "width": 0
          },
          "size": 2
         },
         "mode": "markers",
         "name": "3.673811098434451",
         "showlegend": false,
         "type": "scatter3d",
         "x": [
          -0.67133173316653
         ],
         "y": [
          -0.6318620134069913
         ],
         "z": [
          -2.6349332327557478
         ]
        },
        {
         "marker": {
          "color": "blue",
          "line": {
           "width": 0
          },
          "size": 2
         },
         "mode": "markers",
         "name": "3.4460669661477454",
         "showlegend": false,
         "type": "scatter3d",
         "x": [
          -1.59821873248412
         ],
         "y": [
          -1.752368088371606
         ],
         "z": [
          -2.8443570200998987
         ]
        },
        {
         "marker": {
          "color": "red",
          "line": {
           "width": 0
          },
          "size": 2
         },
         "mode": "markers",
         "name": "-7.271888086608113",
         "showlegend": false,
         "type": "scatter3d",
         "x": [
          -1.876261656966392
         ],
         "y": [
          -9.500605859963326
         ],
         "z": [
          2.1682507770744737
         ]
        },
        {
         "marker": {
          "color": "red",
          "line": {
           "width": 0
          },
          "size": 2
         },
         "mode": "markers",
         "name": "-6.0207701821870785",
         "showlegend": false,
         "type": "scatter3d",
         "x": [
          1.3051929109046245
         ],
         "y": [
          -7.646142640577349
         ],
         "z": [
          1.4339394299892925
         ]
        },
        {
         "marker": {
          "color": "blue",
          "line": {
           "width": 0
          },
          "size": 2
         },
         "mode": "markers",
         "name": "3.4031892912755457",
         "showlegend": false,
         "type": "scatter3d",
         "x": [
          -0.5586674798935111
         ],
         "y": [
          -2.6540097021810576
         ],
         "z": [
          -3.501820403841502
         ]
        },
        {
         "marker": {
          "color": "blue",
          "line": {
           "width": 0
          },
          "size": 2
         },
         "mode": "markers",
         "name": "3.4983529503993553",
         "showlegend": false,
         "type": "scatter3d",
         "x": [
          -0.5370500045819107
         ],
         "y": [
          -1.3512043294085272
         ],
         "z": [
          -2.8958779309977802
         ]
        },
        {
         "marker": {
          "color": "blue",
          "line": {
           "width": 0
          },
          "size": 2
         },
         "mode": "markers",
         "name": "5.3994714778214785",
         "showlegend": false,
         "type": "scatter3d",
         "x": [
          -2.4278706306650815
         ],
         "y": [
          -2.3000648458140063
         ],
         "z": [
          -4.614732745018286
         ]
        },
        {
         "marker": {
          "color": "red",
          "line": {
           "width": 0
          },
          "size": 2
         },
         "mode": "markers",
         "name": "-8.15843864720857",
         "showlegend": false,
         "type": "scatter3d",
         "x": [
          -2.189109572086774
         ],
         "y": [
          -8.930021318895749
         ],
         "z": [
          3.2854575703891404
         ]
        },
        {
         "marker": {
          "color": "red",
          "line": {
           "width": 0
          },
          "size": 2
         },
         "mode": "markers",
         "name": "-7.36531065462541",
         "showlegend": false,
         "type": "scatter3d",
         "x": [
          -1.2385625641615214
         ],
         "y": [
          -10.599400808555691
         ],
         "z": [
          1.5323078781549717
         ]
        },
        {
         "marker": {
          "color": "red",
          "line": {
           "width": 0
          },
          "size": 3
         },
         "mode": "markers",
         "name": "d=-1.6723655973809843",
         "type": "scatter3d",
         "x": [
          -1.5491589173759384
         ],
         "y": [
          -7.250108574555569
         ],
         "z": [
          -1.4415180189468613
         ]
        },
        {
         "line": {
          "width": 6
         },
         "marker": {
          "size": 1
         },
         "name": "^ len_d",
         "type": "scatter3d",
         "x": [
          -1.5491589173759384,
          -1.770624765398641
         ],
         "y": [
          -7.250108574555569,
          -6.683725306276632
         ],
         "z": [
          -1.4415180189468613,
          -2.509521267073141
         ]
        },
        {
         "line": {
          "width": 6
         },
         "marker": {
          "size": 1
         },
         "name": "^ proj",
         "type": "scatter3d",
         "x": [
          -1.5491589173759384,
          0.32604163769434413
         ],
         "y": [
          -7.250108574555569,
          -0.8338284661091839
         ],
         "z": [
          -1.4415180189468613,
          1.5723125312137283
         ]
        },
        {
         "marker": {
          "color": "blue",
          "line": {
           "width": 0
          },
          "size": 2
         },
         "mode": "markers",
         "name": "3.191816930444848",
         "showlegend": false,
         "type": "scatter3d",
         "x": [
          -1.6580312392471215
         ],
         "y": [
          -2.4686234359156143
         ],
         "z": [
          -2.9967834212358087
         ]
        },
        {
         "marker": {
          "color": "red",
          "line": {
           "width": 0
          },
          "size": 2
         },
         "mode": "markers",
         "name": "-5.6698748864836235",
         "showlegend": false,
         "type": "scatter3d",
         "x": [
          -0.777220540001882
         ],
         "y": [
          -10.726763450049406
         ],
         "z": [
          -0.06470266128815605
         ]
        },
        {
         "marker": {
          "color": "blue",
          "line": {
           "width": 0
          },
          "size": 2
         },
         "mode": "markers",
         "name": "3.9586276241276885",
         "showlegend": false,
         "type": "scatter3d",
         "x": [
          -0.2077457436123662
         ],
         "y": [
          -0.6904645628096294
         ],
         "z": [
          -3.0030071301117554
         ]
        },
        {
         "marker": {
          "color": "red",
          "line": {
           "width": 0
          },
          "size": 2
         },
         "mode": "markers",
         "name": "-2.447547219033136",
         "showlegend": false,
         "type": "scatter3d",
         "x": [
          -2.208993881683744
         ],
         "y": [
          -6.931037127562513
         ],
         "z": [
          -0.4799236902257027
         ]
        },
        {
         "marker": {
          "color": "red",
          "line": {
           "width": 0
          },
          "size": 2
         },
         "mode": "markers",
         "name": "-6.94126085902746",
         "showlegend": false,
         "type": "scatter3d",
         "x": [
          -2.1092372461747035
         ],
         "y": [
          -9.393765145033843
         ],
         "z": [
          1.993615444124878
         ]
        },
        {
         "marker": {
          "color": "blue",
          "line": {
           "width": 0
          },
          "size": 2
         },
         "mode": "markers",
         "name": "4.784621043253303",
         "showlegend": false,
         "type": "scatter3d",
         "x": [
          -0.3180427354058979
         ],
         "y": [
          -1.4010703116424414
         ],
         "z": [
          -4.0555125917167665
         ]
        },
        {
         "marker": {
          "color": "blue",
          "line": {
           "width": 0
          },
          "size": 2
         },
         "mode": "markers",
         "name": "3.301055347674373",
         "showlegend": false,
         "type": "scatter3d",
         "x": [
          -1.7618984071926949
         ],
         "y": [
          -2.8473642653630744
         ],
         "z": [
          -3.268479933536673
         ]
        },
        {
         "marker": {
          "color": "red",
          "line": {
           "width": 0
          },
          "size": 2
         },
         "mode": "markers",
         "name": "-5.950034939895257",
         "showlegend": false,
         "type": "scatter3d",
         "x": [
          -1.6994184393126137
         ],
         "y": [
          -9.613804261878917
         ],
         "z": [
          0.9536793178805771
         ]
        },
        {
         "marker": {
          "color": "red",
          "line": {
           "width": 0
          },
          "size": 2
         },
         "mode": "markers",
         "name": "-7.633790431761978",
         "showlegend": false,
         "type": "scatter3d",
         "x": [
          -0.8996299869449244
         ],
         "y": [
          -9.698610632187053
         ],
         "z": [
          2.1667810560691363
         ]
        },
        {
         "marker": {
          "color": "red",
          "line": {
           "width": 0
          },
          "size": 3
         },
         "mode": "markers",
         "name": "d=-8.682194774532155",
         "type": "scatter3d",
         "x": [
          0.1265942845014456
         ],
         "y": [
          -11.219434867826742
         ],
         "z": [
          2.0340735109649115
         ]
        },
        {
         "line": {
          "width": 6
         },
         "marker": {
          "size": 1
         },
         "name": "^ len_d",
         "type": "scatter3d",
         "x": [
          0.1265942845014456,
          -1.023160070318618
         ],
         "y": [
          -11.219434867826742,
          -8.279019291271691
         ],
         "z": [
          2.0340735109649115,
          -3.510534817851924
         ]
        },
        {
         "line": {
          "width": 6
         },
         "marker": {
          "size": 1
         },
         "name": "^ proj",
         "type": "scatter3d",
         "x": [
          0.1265942845014456,
          1.254330144491705
         ],
         "y": [
          -11.219434867826742,
          -3.207860774385298
         ],
         "z": [
          2.0340735109649115,
          6.048917611904285
         ]
        },
        {
         "marker": {
          "color": "blue",
          "line": {
           "width": 0
          },
          "size": 2
         },
         "mode": "markers",
         "name": "3.9211635107071623",
         "showlegend": false,
         "type": "scatter3d",
         "x": [
          -3.2793979214271083
         ],
         "y": [
          -1.2275904418093788
         ],
         "z": [
          -2.6192215465178186
         ]
        },
        {
         "marker": {
          "color": "red",
          "line": {
           "width": 0
          },
          "size": 2
         },
         "mode": "markers",
         "name": "-7.602785522843739",
         "showlegend": false,
         "type": "scatter3d",
         "x": [
          -0.5448223810947223
         ],
         "y": [
          -10.13472563123421
         ],
         "z": [
          1.835705839145523
         ]
        },
        {
         "marker": {
          "color": "red",
          "line": {
           "width": 0
          },
          "size": 2
         },
         "mode": "markers",
         "name": "-5.821788298079668",
         "showlegend": false,
         "type": "scatter3d",
         "x": [
          -1.9993557985866022
         ],
         "y": [
          -10.064889958021181
         ],
         "z": [
          0.6681999291923968
         ]
        },
        {
         "marker": {
          "color": "blue",
          "line": {
           "width": 0
          },
          "size": 2
         },
         "mode": "markers",
         "name": "4.245337484329041",
         "showlegend": false,
         "type": "scatter3d",
         "x": [
          -0.6920363339672632
         ],
         "y": [
          -1.58898446753575
         ],
         "z": [
          -3.6215511381165517
         ]
        },
        {
         "marker": {
          "color": "blue",
          "line": {
           "width": 0
          },
          "size": 2
         },
         "mode": "markers",
         "name": "5.022055793848303",
         "showlegend": false,
         "type": "scatter3d",
         "x": [
          -0.2605230817068416
         ],
         "y": [
          -1.9216463929509258
         ],
         "z": [
          -4.544306524063666
         ]
        },
        {
         "marker": {
          "color": "blue",
          "line": {
           "width": 0
          },
          "size": 2
         },
         "mode": "markers",
         "name": "2.3569094601796046",
         "showlegend": false,
         "type": "scatter3d",
         "x": [
          -1.7200746184897326
         ],
         "y": [
          -1.7407911494275212
         ],
         "z": [
          -1.8918666646659397
         ]
        },
        {
         "marker": {
          "color": "blue",
          "line": {
           "width": 0
          },
          "size": 2
         },
         "mode": "markers",
         "name": "2.001541893087348",
         "showlegend": false,
         "type": "scatter3d",
         "x": [
          -0.5415872984195823
         ],
         "y": [
          -2.5864049413688104
         ],
         "z": [
          -2.2841602985608693
         ]
        },
        {
         "marker": {
          "color": "blue",
          "line": {
           "width": 0
          },
          "size": 2
         },
         "mode": "markers",
         "name": "5.154909884588313",
         "showlegend": false,
         "type": "scatter3d",
         "x": [
          -3.1439561214259393
         ],
         "y": [
          -1.2621558942512991
         ],
         "z": [
          -3.7089967902252914
         ]
        },
        {
         "marker": {
          "color": "blue",
          "line": {
           "width": 0
          },
          "size": 2
         },
         "mode": "markers",
         "name": "1.805554632174816",
         "showlegend": false,
         "type": "scatter3d",
         "x": [
          1.9861932534769364
         ],
         "y": [
          -0.6217826382099462
         ],
         "z": [
          -1.6007107275242336
         ]
        },
        {
         "marker": {
          "color": "red",
          "line": {
           "width": 0
          },
          "size": 2
         },
         "mode": "markers",
         "name": "-6.669128293770831",
         "showlegend": false,
         "type": "scatter3d",
         "x": [
          -0.7782447503786115
         ],
         "y": [
          -10.325689067272036
         ],
         "z": [
          0.993259319045779
         ]
        },
        {
         "marker": {
          "color": "blue",
          "line": {
           "width": 0
          },
          "size": 2
         },
         "mode": "markers",
         "name": "4.968475456768714",
         "showlegend": false,
         "type": "scatter3d",
         "x": [
          -2.354351183964895
         ],
         "y": [
          -1.0009774375225404
         ],
         "z": [
          -3.576560153702099
         ]
        },
        {
         "marker": {
          "color": "blue",
          "line": {
           "width": 0
          },
          "size": 2
         },
         "mode": "markers",
         "name": "2.68864850988232",
         "showlegend": false,
         "type": "scatter3d",
         "x": [
          0.5324423095002062
         ],
         "y": [
          -3.306711369346252
         ],
         "z": [
          -3.4699431439198865
         ]
        },
        {
         "marker": {
          "color": "blue",
          "line": {
           "width": 0
          },
          "size": 2
         },
         "mode": "markers",
         "name": "5.755581190526039",
         "showlegend": false,
         "type": "scatter3d",
         "x": [
          -0.7956119992676421
         ],
         "y": [
          -1.4661397829437133
         ],
         "z": [
          -4.812114131071052
         ]
        },
        {
         "marker": {
          "color": "red",
          "line": {
           "width": 0
          },
          "size": 2
         },
         "mode": "markers",
         "name": "-7.373119192404048",
         "showlegend": false,
         "type": "scatter3d",
         "x": [
          -1.9577775344879664
         ],
         "y": [
          -10.920914390180792
         ],
         "z": [
          1.5175459875845316
         ]
        },
        {
         "marker": {
          "color": "red",
          "line": {
           "width": 0
          },
          "size": 2
         },
         "mode": "markers",
         "name": "-4.570804065579159",
         "showlegend": false,
         "type": "scatter3d",
         "x": [
          -0.846605627083354
         ],
         "y": [
          -8.203096133170305
         ],
         "z": [
          0.35857025239482054
         ]
        },
        {
         "marker": {
          "color": "red",
          "line": {
           "width": 0
          },
          "size": 2
         },
         "mode": "markers",
         "name": "-7.430761431631076",
         "showlegend": false,
         "type": "scatter3d",
         "x": [
          -0.9540985237729442
         ],
         "y": [
          -11.521798412170888
         ],
         "z": [
          1.0395050807158799
         ]
        },
        {
         "marker": {
          "color": "red",
          "line": {
           "width": 0
          },
          "size": 2
         },
         "mode": "markers",
         "name": "-7.419734272662946",
         "showlegend": false,
         "type": "scatter3d",
         "x": [
          -1.167375452343276
         ],
         "y": [
          -9.11103082677894
         ],
         "z": [
          2.352883420246779
         ]
        },
        {
         "marker": {
          "color": "red",
          "line": {
           "width": 0
          },
          "size": 2
         },
         "mode": "markers",
         "name": "-5.327678262008952",
         "showlegend": false,
         "type": "scatter3d",
         "x": [
          -1.6189239231891213
         ],
         "y": [
          -9.717659394294776
         ],
         "z": [
          0.35559454508988164
         ]
        },
        {
         "marker": {
          "color": "blue",
          "line": {
           "width": 0
          },
          "size": 2
         },
         "mode": "markers",
         "name": "1.8168213496851702",
         "showlegend": false,
         "type": "scatter3d",
         "x": [
          2.815140476170738
         ],
         "y": [
          -0.7715230809383078
         ],
         "z": [
          -1.8615432636055613
         ]
        },
        {
         "marker": {
          "color": "red",
          "line": {
           "width": 0
          },
          "size": 2
         },
         "mode": "markers",
         "name": "-6.435182102687568",
         "showlegend": false,
         "type": "scatter3d",
         "x": [
          -2.467714243545209
         ],
         "y": [
          -10.9026925907463
         ],
         "z": [
          0.8397543618972337
         ]
        },
        {
         "marker": {
          "color": "blue",
          "line": {
           "width": 0
          },
          "size": 2
         },
         "mode": "markers",
         "name": "3.2707341351347514",
         "showlegend": false,
         "type": "scatter3d",
         "x": [
          -2.6111194173885
         ],
         "y": [
          -3.6182375500848063
         ],
         "z": [
          -3.4755489549556478
         ]
        },
        {
         "marker": {
          "color": "blue",
          "line": {
           "width": 0
          },
          "size": 2
         },
         "mode": "markers",
         "name": "4.721323248905288",
         "showlegend": false,
         "type": "scatter3d",
         "x": [
          -2.632141027502986
         ],
         "y": [
          -0.4598978823168711
         ],
         "z": [
          -3.0229987371752776
         ]
        },
        {
         "marker": {
          "color": "blue",
          "line": {
           "width": 0
          },
          "size": 2
         },
         "mode": "markers",
         "name": "1.9401842858859835",
         "showlegend": false,
         "type": "scatter3d",
         "x": [
          -0.27369741826522564
         ],
         "y": [
          -3.07510943607289
         ],
         "z": [
          -2.5469916880804377
         ]
        },
        {
         "marker": {
          "color": "red",
          "line": {
           "width": 0
          },
          "size": 2
         },
         "mode": "markers",
         "name": "-7.112436713701606",
         "showlegend": false,
         "type": "scatter3d",
         "x": [
          -0.8562772492940441
         ],
         "y": [
          -8.682295368407159
         ],
         "z": [
          2.255863220899003
         ]
        },
        {
         "marker": {
          "color": "blue",
          "line": {
           "width": 0
          },
          "size": 2
         },
         "mode": "markers",
         "name": "3.1372052842325058",
         "showlegend": false,
         "type": "scatter3d",
         "x": [
          0.5109244939452628
         ],
         "y": [
          -1.4122341513386731
         ],
         "z": [
          -2.8401393057647053
         ]
        },
        {
         "marker": {
          "color": "blue",
          "line": {
           "width": 0
          },
          "size": 2
         },
         "mode": "markers",
         "name": "4.50995568370734",
         "showlegend": false,
         "type": "scatter3d",
         "x": [
          -3.3631644102999134
         ],
         "y": [
          -0.982499871843562
         ],
         "z": [
          -2.9698066794796447
         ]
        },
        {
         "marker": {
          "color": "red",
          "line": {
           "width": 0
          },
          "size": 2
         },
         "mode": "markers",
         "name": "-5.170151088168648",
         "showlegend": false,
         "type": "scatter3d",
         "x": [
          -3.6237051481598868
         ],
         "y": [
          -8.3199538727014
         ],
         "z": [
          1.3793276051777774
         ]
        },
        {
         "marker": {
          "color": "red",
          "line": {
           "width": 0
          },
          "size": 2
         },
         "mode": "markers",
         "name": "-5.9966614671057465",
         "showlegend": false,
         "type": "scatter3d",
         "x": [
          -0.8982357230332279
         ],
         "y": [
          -8.915199921999717
         ],
         "z": [
          1.197457536488295
         ]
        },
        {
         "marker": {
          "color": "red",
          "line": {
           "width": 0
          },
          "size": 2
         },
         "mode": "markers",
         "name": "-8.402566693184287",
         "showlegend": false,
         "type": "scatter3d",
         "x": [
          -1.6839942264978642
         ],
         "y": [
          -10.865994029978038
         ],
         "z": [
          2.3604849815013074
         ]
        },
        {
         "marker": {
          "color": "blue",
          "line": {
           "width": 0
          },
          "size": 2
         },
         "mode": "markers",
         "name": "1.6149042882652858",
         "showlegend": false,
         "type": "scatter3d",
         "x": [
          -0.17566541418362114
         ],
         "y": [
          -1.8668860471137454
         ],
         "z": [
          -1.6514913914502833
         ]
        },
        {
         "marker": {
          "color": "red",
          "line": {
           "width": 0
          },
          "size": 2
         },
         "mode": "markers",
         "name": "-7.238231465666265",
         "showlegend": false,
         "type": "scatter3d",
         "x": [
          -0.5849823521129334
         ],
         "y": [
          -11.514941909564786
         ],
         "z": [
          0.8037802928618021
         ]
        },
        {
         "marker": {
          "color": "red",
          "line": {
           "width": 0
          },
          "size": 2
         },
         "mode": "markers",
         "name": "-5.112430349512617",
         "showlegend": false,
         "type": "scatter3d",
         "x": [
          -2.3015166876819912
         ],
         "y": [
          -9.049079662462567
         ],
         "z": [
          0.669669487497659
         ]
        },
        {
         "marker": {
          "color": "red",
          "line": {
           "width": 0
          },
          "size": 2
         },
         "mode": "markers",
         "name": "-7.019927321413251",
         "showlegend": false,
         "type": "scatter3d",
         "x": [
          -0.062216324103634424
         ],
         "y": [
          -9.943480711595555
         ],
         "z": [
          1.3441380516619292
         ]
        },
        {
         "marker": {
          "color": "blue",
          "line": {
           "width": 0
          },
          "size": 2
         },
         "mode": "markers",
         "name": "3.768963868178418",
         "showlegend": false,
         "type": "scatter3d",
         "x": [
          -0.7791814301690143
         ],
         "y": [
          -0.7631855276368256
         ],
         "z": [
          -2.7626816126453972
         ]
        },
        {
         "marker": {
          "color": "blue",
          "line": {
           "width": 0
          },
          "size": 2
         },
         "mode": "markers",
         "name": "2.333745819891212",
         "showlegend": false,
         "type": "scatter3d",
         "x": [
          -1.7410530238271087
         ],
         "y": [
          -2.848071176596078
         ],
         "z": [
          -2.4551399086483734
         ]
        },
        {
         "marker": {
          "color": "blue",
          "line": {
           "width": 0
          },
          "size": 2
         },
         "mode": "markers",
         "name": "3.7905431545276227",
         "showlegend": false,
         "type": "scatter3d",
         "x": [
          -1.846501587197685
         ],
         "y": [
          -1.2931171450700611
         ],
         "z": [
          -2.8406398843183185
         ]
        },
        {
         "marker": {
          "color": "red",
          "line": {
           "width": 0
          },
          "size": 2
         },
         "mode": "markers",
         "name": "-4.582185510749489",
         "showlegend": false,
         "type": "scatter3d",
         "x": [
          -1.661618438925011
         ],
         "y": [
          -9.41498635429603
         ],
         "z": [
          -0.10548938942187358
         ]
        },
        {
         "marker": {
          "color": "blue",
          "line": {
           "width": 0
          },
          "size": 2
         },
         "mode": "markers",
         "name": "5.070729359908453",
         "showlegend": false,
         "type": "scatter3d",
         "x": [
          -3.0584698759102187
         ],
         "y": [
          -1.70706525528034
         ],
         "z": [
          -3.891477773844276
         ]
        },
        {
         "marker": {
          "color": "red",
          "line": {
           "width": 0
          },
          "size": 2
         },
         "mode": "markers",
         "name": "-4.648203136589746",
         "showlegend": false,
         "type": "scatter3d",
         "x": [
          -1.4365361275445485
         ],
         "y": [
          -9.224904911440879
         ],
         "z": [
          0.004470508804561124
         ]
        },
        {
         "marker": {
          "color": "red",
          "line": {
           "width": 0
          },
          "size": 2
         },
         "mode": "markers",
         "name": "-7.964757488134573",
         "showlegend": false,
         "type": "scatter3d",
         "x": [
          0.3043850992357515
         ],
         "y": [
          -12.140924819825662
         ],
         "z": [
          0.9017969346835247
         ]
        },
        {
         "marker": {
          "color": "red",
          "line": {
           "width": 0
          },
          "size": 2
         },
         "mode": "markers",
         "name": "-6.208483856359822",
         "showlegend": false,
         "type": "scatter3d",
         "x": [
          -3.1481926117236885
         ],
         "y": [
          -7.750290697461706
         ],
         "z": [
          2.4609275681475955
         ]
        },
        {
         "marker": {
          "color": "red",
          "line": {
           "width": 0
          },
          "size": 2
         },
         "mode": "markers",
         "name": "-4.789280000773546",
         "showlegend": false,
         "type": "scatter3d",
         "x": [
          -2.0279729064537872
         ],
         "y": [
          -9.472450112468849
         ],
         "z": [
          0.11514166433384088
         ]
        },
        {
         "marker": {
          "color": "red",
          "line": {
           "width": 0
          },
          "size": 2
         },
         "mode": "markers",
         "name": "-5.107650342328691",
         "showlegend": false,
         "type": "scatter3d",
         "x": [
          -2.413235230836907
         ],
         "y": [
          -9.048382808785483
         ],
         "z": [
          0.6891631187728673
         ]
        },
        {
         "marker": {
          "color": "red",
          "line": {
           "width": 0
          },
          "size": 2
         },
         "mode": "markers",
         "name": "-5.447008485723197",
         "showlegend": false,
         "type": "scatter3d",
         "x": [
          -1.5562814494106627
         ],
         "y": [
          -9.99835925717476
         ],
         "z": [
          0.2946596076377942
         ]
        },
        {
         "marker": {
          "color": "blue",
          "line": {
           "width": 0
          },
          "size": 2
         },
         "mode": "markers",
         "name": "3.4884101673077903",
         "showlegend": false,
         "type": "scatter3d",
         "x": [
          -1.1724465660561343
         ],
         "y": [
          -2.439472710192113
         ],
         "z": [
          -3.3328411309196055
         ]
        },
        {
         "marker": {
          "color": "blue",
          "line": {
           "width": 0
          },
          "size": 2
         },
         "mode": "markers",
         "name": "5.675155801001844",
         "showlegend": false,
         "type": "scatter3d",
         "x": [
          -1.545326266004287
         ],
         "y": [
          -3.1393185695146357
         ],
         "z": [
          -5.475955515667467
         ]
        },
        {
         "marker": {
          "color": "red",
          "line": {
           "width": 0
          },
          "size": 2
         },
         "mode": "markers",
         "name": "-6.956545426460723",
         "showlegend": false,
         "type": "scatter3d",
         "x": [
          -1.357320622512882
         ],
         "y": [
          -8.656772358005192
         ],
         "z": [
          2.2414624781712167
         ]
        },
        {
         "marker": {
          "color": "red",
          "line": {
           "width": 0
          },
          "size": 2
         },
         "mode": "markers",
         "name": "-6.070735047722081",
         "showlegend": false,
         "type": "scatter3d",
         "x": [
          -1.6611944746752747
         ],
         "y": [
          -9.857144786521168
         ],
         "z": [
          0.9187787946802018
         ]
        },
        {
         "marker": {
          "color": "red",
          "line": {
           "width": 0
          },
          "size": 2
         },
         "mode": "markers",
         "name": "-7.2579487675053596",
         "showlegend": false,
         "type": "scatter3d",
         "x": [
          -0.7377493850108957
         ],
         "y": [
          -9.794983560435583
         ],
         "z": [
          1.7642612956435944
         ]
        },
        {
         "marker": {
          "color": "blue",
          "line": {
           "width": 0
          },
          "size": 2
         },
         "mode": "markers",
         "name": "3.8403748569463403",
         "showlegend": false,
         "type": "scatter3d",
         "x": [
          -2.7469164972912514
         ],
         "y": [
          -1.9306617356064473
         ],
         "z": [
          -3.034170248128713
         ]
        },
        {
         "marker": {
          "color": "blue",
          "line": {
           "width": 0
          },
          "size": 2
         },
         "mode": "markers",
         "name": "2.440281044810928",
         "showlegend": false,
         "type": "scatter3d",
         "x": [
          -0.423953950089518
         ],
         "y": [
          -2.679734533092661
         ],
         "z": [
          -2.7290821665268874
         ]
        },
        {
         "marker": {
          "color": "blue",
          "line": {
           "width": 0
          },
          "size": 3
         },
         "mode": "markers",
         "name": "d=7.05320592342201",
         "type": "scatter3d",
         "x": [
          -2.317067132432493
         ],
         "y": [
          -2.040818781594588
         ],
         "z": [
          -5.8987617119969125
         ]
        },
        {
         "line": {
          "width": 6
         },
         "marker": {
          "size": 1
         },
         "name": "^ len_d",
         "type": "scatter3d",
         "x": [
          -2.317067132432493,
          -1.3830343865092007
         ],
         "y": [
          -2.040818781594588,
          -4.429541575825842
         ],
         "z": [
          -5.8987617119969125,
          -1.394455448034614
         ]
        },
        {
         "line": {
          "width": 6
         },
         "marker": {
          "size": 1
         },
         "name": "^ proj",
         "type": "scatter3d",
         "x": [
          -2.317067132432493,
          -0.829456956251651
         ],
         "y": [
          -2.040818781594588,
          2.1212775964010078
         ],
         "z": [
          -5.8987617119969125,
          -3.999996980874849
         ]
        },
        {
         "showlegend": false,
         "showscale": false,
         "type": "surface",
         "x": [
          [
           -4.408371166726594,
           -4.147539880909482,
           -3.8867085950923697,
           -3.6258773092752574,
           -3.365046023458145,
           -3.104214737641033,
           -2.8433834518239207,
           -2.5825521660068085,
           -2.3217208801896962,
           -2.060889594372584,
           -1.8000583085554718,
           -1.5392270227383595,
           -1.2783957369212473,
           -1.017564451104135,
           -0.7567331652870228,
           -0.4959018794699106,
           -0.23507059365279837,
           0.025760692164313426,
           0.2865919779814261,
           0.5474232637985388,
           0.8082545496156506,
           1.0690858354327624,
           1.329917121249875,
           1.5907484070669877,
           1.8515796928840995,
           2.1124109787012113,
           2.373242264518324,
           2.6340735503354367,
           2.8949048361525485,
           3.1557361219696602
          ],
          [
           -4.408371166726594,
           -4.147539880909482,
           -3.8867085950923697,
           -3.6258773092752574,
           -3.365046023458145,
           -3.104214737641033,
           -2.8433834518239207,
           -2.5825521660068085,
           -2.3217208801896962,
           -2.060889594372584,
           -1.8000583085554718,
           -1.5392270227383595,
           -1.2783957369212473,
           -1.017564451104135,
           -0.7567331652870228,
           -0.4959018794699106,
           -0.23507059365279837,
           0.025760692164313426,
           0.2865919779814261,
           0.5474232637985388,
           0.8082545496156506,
           1.0690858354327624,
           1.329917121249875,
           1.5907484070669877,
           1.8515796928840995,
           2.1124109787012113,
           2.373242264518324,
           2.6340735503354367,
           2.8949048361525485,
           3.1557361219696602
          ],
          [
           -4.408371166726594,
           -4.147539880909482,
           -3.8867085950923697,
           -3.6258773092752574,
           -3.365046023458145,
           -3.104214737641033,
           -2.8433834518239207,
           -2.5825521660068085,
           -2.3217208801896962,
           -2.060889594372584,
           -1.8000583085554718,
           -1.5392270227383595,
           -1.2783957369212473,
           -1.017564451104135,
           -0.7567331652870228,
           -0.4959018794699106,
           -0.23507059365279837,
           0.025760692164313426,
           0.2865919779814261,
           0.5474232637985388,
           0.8082545496156506,
           1.0690858354327624,
           1.329917121249875,
           1.5907484070669877,
           1.8515796928840995,
           2.1124109787012113,
           2.373242264518324,
           2.6340735503354367,
           2.8949048361525485,
           3.1557361219696602
          ],
          [
           -4.408371166726594,
           -4.147539880909482,
           -3.8867085950923697,
           -3.6258773092752574,
           -3.365046023458145,
           -3.104214737641033,
           -2.8433834518239207,
           -2.5825521660068085,
           -2.3217208801896962,
           -2.060889594372584,
           -1.8000583085554718,
           -1.5392270227383595,
           -1.2783957369212473,
           -1.017564451104135,
           -0.7567331652870228,
           -0.4959018794699106,
           -0.23507059365279837,
           0.025760692164313426,
           0.2865919779814261,
           0.5474232637985388,
           0.8082545496156506,
           1.0690858354327624,
           1.329917121249875,
           1.5907484070669877,
           1.8515796928840995,
           2.1124109787012113,
           2.373242264518324,
           2.6340735503354367,
           2.8949048361525485,
           3.1557361219696602
          ],
          [
           -4.408371166726594,
           -4.147539880909482,
           -3.8867085950923697,
           -3.6258773092752574,
           -3.365046023458145,
           -3.104214737641033,
           -2.8433834518239207,
           -2.5825521660068085,
           -2.3217208801896962,
           -2.060889594372584,
           -1.8000583085554718,
           -1.5392270227383595,
           -1.2783957369212473,
           -1.017564451104135,
           -0.7567331652870228,
           -0.4959018794699106,
           -0.23507059365279837,
           0.025760692164313426,
           0.2865919779814261,
           0.5474232637985388,
           0.8082545496156506,
           1.0690858354327624,
           1.329917121249875,
           1.5907484070669877,
           1.8515796928840995,
           2.1124109787012113,
           2.373242264518324,
           2.6340735503354367,
           2.8949048361525485,
           3.1557361219696602
          ],
          [
           -4.408371166726594,
           -4.147539880909482,
           -3.8867085950923697,
           -3.6258773092752574,
           -3.365046023458145,
           -3.104214737641033,
           -2.8433834518239207,
           -2.5825521660068085,
           -2.3217208801896962,
           -2.060889594372584,
           -1.8000583085554718,
           -1.5392270227383595,
           -1.2783957369212473,
           -1.017564451104135,
           -0.7567331652870228,
           -0.4959018794699106,
           -0.23507059365279837,
           0.025760692164313426,
           0.2865919779814261,
           0.5474232637985388,
           0.8082545496156506,
           1.0690858354327624,
           1.329917121249875,
           1.5907484070669877,
           1.8515796928840995,
           2.1124109787012113,
           2.373242264518324,
           2.6340735503354367,
           2.8949048361525485,
           3.1557361219696602
          ],
          [
           -4.408371166726594,
           -4.147539880909482,
           -3.8867085950923697,
           -3.6258773092752574,
           -3.365046023458145,
           -3.104214737641033,
           -2.8433834518239207,
           -2.5825521660068085,
           -2.3217208801896962,
           -2.060889594372584,
           -1.8000583085554718,
           -1.5392270227383595,
           -1.2783957369212473,
           -1.017564451104135,
           -0.7567331652870228,
           -0.4959018794699106,
           -0.23507059365279837,
           0.025760692164313426,
           0.2865919779814261,
           0.5474232637985388,
           0.8082545496156506,
           1.0690858354327624,
           1.329917121249875,
           1.5907484070669877,
           1.8515796928840995,
           2.1124109787012113,
           2.373242264518324,
           2.6340735503354367,
           2.8949048361525485,
           3.1557361219696602
          ],
          [
           -4.408371166726594,
           -4.147539880909482,
           -3.8867085950923697,
           -3.6258773092752574,
           -3.365046023458145,
           -3.104214737641033,
           -2.8433834518239207,
           -2.5825521660068085,
           -2.3217208801896962,
           -2.060889594372584,
           -1.8000583085554718,
           -1.5392270227383595,
           -1.2783957369212473,
           -1.017564451104135,
           -0.7567331652870228,
           -0.4959018794699106,
           -0.23507059365279837,
           0.025760692164313426,
           0.2865919779814261,
           0.5474232637985388,
           0.8082545496156506,
           1.0690858354327624,
           1.329917121249875,
           1.5907484070669877,
           1.8515796928840995,
           2.1124109787012113,
           2.373242264518324,
           2.6340735503354367,
           2.8949048361525485,
           3.1557361219696602
          ],
          [
           -4.408371166726594,
           -4.147539880909482,
           -3.8867085950923697,
           -3.6258773092752574,
           -3.365046023458145,
           -3.104214737641033,
           -2.8433834518239207,
           -2.5825521660068085,
           -2.3217208801896962,
           -2.060889594372584,
           -1.8000583085554718,
           -1.5392270227383595,
           -1.2783957369212473,
           -1.017564451104135,
           -0.7567331652870228,
           -0.4959018794699106,
           -0.23507059365279837,
           0.025760692164313426,
           0.2865919779814261,
           0.5474232637985388,
           0.8082545496156506,
           1.0690858354327624,
           1.329917121249875,
           1.5907484070669877,
           1.8515796928840995,
           2.1124109787012113,
           2.373242264518324,
           2.6340735503354367,
           2.8949048361525485,
           3.1557361219696602
          ],
          [
           -4.408371166726594,
           -4.147539880909482,
           -3.8867085950923697,
           -3.6258773092752574,
           -3.365046023458145,
           -3.104214737641033,
           -2.8433834518239207,
           -2.5825521660068085,
           -2.3217208801896962,
           -2.060889594372584,
           -1.8000583085554718,
           -1.5392270227383595,
           -1.2783957369212473,
           -1.017564451104135,
           -0.7567331652870228,
           -0.4959018794699106,
           -0.23507059365279837,
           0.025760692164313426,
           0.2865919779814261,
           0.5474232637985388,
           0.8082545496156506,
           1.0690858354327624,
           1.329917121249875,
           1.5907484070669877,
           1.8515796928840995,
           2.1124109787012113,
           2.373242264518324,
           2.6340735503354367,
           2.8949048361525485,
           3.1557361219696602
          ],
          [
           -4.408371166726594,
           -4.147539880909482,
           -3.8867085950923697,
           -3.6258773092752574,
           -3.365046023458145,
           -3.104214737641033,
           -2.8433834518239207,
           -2.5825521660068085,
           -2.3217208801896962,
           -2.060889594372584,
           -1.8000583085554718,
           -1.5392270227383595,
           -1.2783957369212473,
           -1.017564451104135,
           -0.7567331652870228,
           -0.4959018794699106,
           -0.23507059365279837,
           0.025760692164313426,
           0.2865919779814261,
           0.5474232637985388,
           0.8082545496156506,
           1.0690858354327624,
           1.329917121249875,
           1.5907484070669877,
           1.8515796928840995,
           2.1124109787012113,
           2.373242264518324,
           2.6340735503354367,
           2.8949048361525485,
           3.1557361219696602
          ],
          [
           -4.408371166726594,
           -4.147539880909482,
           -3.8867085950923697,
           -3.6258773092752574,
           -3.365046023458145,
           -3.104214737641033,
           -2.8433834518239207,
           -2.5825521660068085,
           -2.3217208801896962,
           -2.060889594372584,
           -1.8000583085554718,
           -1.5392270227383595,
           -1.2783957369212473,
           -1.017564451104135,
           -0.7567331652870228,
           -0.4959018794699106,
           -0.23507059365279837,
           0.025760692164313426,
           0.2865919779814261,
           0.5474232637985388,
           0.8082545496156506,
           1.0690858354327624,
           1.329917121249875,
           1.5907484070669877,
           1.8515796928840995,
           2.1124109787012113,
           2.373242264518324,
           2.6340735503354367,
           2.8949048361525485,
           3.1557361219696602
          ],
          [
           -4.408371166726594,
           -4.147539880909482,
           -3.8867085950923697,
           -3.6258773092752574,
           -3.365046023458145,
           -3.104214737641033,
           -2.8433834518239207,
           -2.5825521660068085,
           -2.3217208801896962,
           -2.060889594372584,
           -1.8000583085554718,
           -1.5392270227383595,
           -1.2783957369212473,
           -1.017564451104135,
           -0.7567331652870228,
           -0.4959018794699106,
           -0.23507059365279837,
           0.025760692164313426,
           0.2865919779814261,
           0.5474232637985388,
           0.8082545496156506,
           1.0690858354327624,
           1.329917121249875,
           1.5907484070669877,
           1.8515796928840995,
           2.1124109787012113,
           2.373242264518324,
           2.6340735503354367,
           2.8949048361525485,
           3.1557361219696602
          ],
          [
           -4.408371166726594,
           -4.147539880909482,
           -3.8867085950923697,
           -3.6258773092752574,
           -3.365046023458145,
           -3.104214737641033,
           -2.8433834518239207,
           -2.5825521660068085,
           -2.3217208801896962,
           -2.060889594372584,
           -1.8000583085554718,
           -1.5392270227383595,
           -1.2783957369212473,
           -1.017564451104135,
           -0.7567331652870228,
           -0.4959018794699106,
           -0.23507059365279837,
           0.025760692164313426,
           0.2865919779814261,
           0.5474232637985388,
           0.8082545496156506,
           1.0690858354327624,
           1.329917121249875,
           1.5907484070669877,
           1.8515796928840995,
           2.1124109787012113,
           2.373242264518324,
           2.6340735503354367,
           2.8949048361525485,
           3.1557361219696602
          ],
          [
           -4.408371166726594,
           -4.147539880909482,
           -3.8867085950923697,
           -3.6258773092752574,
           -3.365046023458145,
           -3.104214737641033,
           -2.8433834518239207,
           -2.5825521660068085,
           -2.3217208801896962,
           -2.060889594372584,
           -1.8000583085554718,
           -1.5392270227383595,
           -1.2783957369212473,
           -1.017564451104135,
           -0.7567331652870228,
           -0.4959018794699106,
           -0.23507059365279837,
           0.025760692164313426,
           0.2865919779814261,
           0.5474232637985388,
           0.8082545496156506,
           1.0690858354327624,
           1.329917121249875,
           1.5907484070669877,
           1.8515796928840995,
           2.1124109787012113,
           2.373242264518324,
           2.6340735503354367,
           2.8949048361525485,
           3.1557361219696602
          ],
          [
           -4.408371166726594,
           -4.147539880909482,
           -3.8867085950923697,
           -3.6258773092752574,
           -3.365046023458145,
           -3.104214737641033,
           -2.8433834518239207,
           -2.5825521660068085,
           -2.3217208801896962,
           -2.060889594372584,
           -1.8000583085554718,
           -1.5392270227383595,
           -1.2783957369212473,
           -1.017564451104135,
           -0.7567331652870228,
           -0.4959018794699106,
           -0.23507059365279837,
           0.025760692164313426,
           0.2865919779814261,
           0.5474232637985388,
           0.8082545496156506,
           1.0690858354327624,
           1.329917121249875,
           1.5907484070669877,
           1.8515796928840995,
           2.1124109787012113,
           2.373242264518324,
           2.6340735503354367,
           2.8949048361525485,
           3.1557361219696602
          ],
          [
           -4.408371166726594,
           -4.147539880909482,
           -3.8867085950923697,
           -3.6258773092752574,
           -3.365046023458145,
           -3.104214737641033,
           -2.8433834518239207,
           -2.5825521660068085,
           -2.3217208801896962,
           -2.060889594372584,
           -1.8000583085554718,
           -1.5392270227383595,
           -1.2783957369212473,
           -1.017564451104135,
           -0.7567331652870228,
           -0.4959018794699106,
           -0.23507059365279837,
           0.025760692164313426,
           0.2865919779814261,
           0.5474232637985388,
           0.8082545496156506,
           1.0690858354327624,
           1.329917121249875,
           1.5907484070669877,
           1.8515796928840995,
           2.1124109787012113,
           2.373242264518324,
           2.6340735503354367,
           2.8949048361525485,
           3.1557361219696602
          ],
          [
           -4.408371166726594,
           -4.147539880909482,
           -3.8867085950923697,
           -3.6258773092752574,
           -3.365046023458145,
           -3.104214737641033,
           -2.8433834518239207,
           -2.5825521660068085,
           -2.3217208801896962,
           -2.060889594372584,
           -1.8000583085554718,
           -1.5392270227383595,
           -1.2783957369212473,
           -1.017564451104135,
           -0.7567331652870228,
           -0.4959018794699106,
           -0.23507059365279837,
           0.025760692164313426,
           0.2865919779814261,
           0.5474232637985388,
           0.8082545496156506,
           1.0690858354327624,
           1.329917121249875,
           1.5907484070669877,
           1.8515796928840995,
           2.1124109787012113,
           2.373242264518324,
           2.6340735503354367,
           2.8949048361525485,
           3.1557361219696602
          ],
          [
           -4.408371166726594,
           -4.147539880909482,
           -3.8867085950923697,
           -3.6258773092752574,
           -3.365046023458145,
           -3.104214737641033,
           -2.8433834518239207,
           -2.5825521660068085,
           -2.3217208801896962,
           -2.060889594372584,
           -1.8000583085554718,
           -1.5392270227383595,
           -1.2783957369212473,
           -1.017564451104135,
           -0.7567331652870228,
           -0.4959018794699106,
           -0.23507059365279837,
           0.025760692164313426,
           0.2865919779814261,
           0.5474232637985388,
           0.8082545496156506,
           1.0690858354327624,
           1.329917121249875,
           1.5907484070669877,
           1.8515796928840995,
           2.1124109787012113,
           2.373242264518324,
           2.6340735503354367,
           2.8949048361525485,
           3.1557361219696602
          ],
          [
           -4.408371166726594,
           -4.147539880909482,
           -3.8867085950923697,
           -3.6258773092752574,
           -3.365046023458145,
           -3.104214737641033,
           -2.8433834518239207,
           -2.5825521660068085,
           -2.3217208801896962,
           -2.060889594372584,
           -1.8000583085554718,
           -1.5392270227383595,
           -1.2783957369212473,
           -1.017564451104135,
           -0.7567331652870228,
           -0.4959018794699106,
           -0.23507059365279837,
           0.025760692164313426,
           0.2865919779814261,
           0.5474232637985388,
           0.8082545496156506,
           1.0690858354327624,
           1.329917121249875,
           1.5907484070669877,
           1.8515796928840995,
           2.1124109787012113,
           2.373242264518324,
           2.6340735503354367,
           2.8949048361525485,
           3.1557361219696602
          ],
          [
           -4.408371166726594,
           -4.147539880909482,
           -3.8867085950923697,
           -3.6258773092752574,
           -3.365046023458145,
           -3.104214737641033,
           -2.8433834518239207,
           -2.5825521660068085,
           -2.3217208801896962,
           -2.060889594372584,
           -1.8000583085554718,
           -1.5392270227383595,
           -1.2783957369212473,
           -1.017564451104135,
           -0.7567331652870228,
           -0.4959018794699106,
           -0.23507059365279837,
           0.025760692164313426,
           0.2865919779814261,
           0.5474232637985388,
           0.8082545496156506,
           1.0690858354327624,
           1.329917121249875,
           1.5907484070669877,
           1.8515796928840995,
           2.1124109787012113,
           2.373242264518324,
           2.6340735503354367,
           2.8949048361525485,
           3.1557361219696602
          ],
          [
           -4.408371166726594,
           -4.147539880909482,
           -3.8867085950923697,
           -3.6258773092752574,
           -3.365046023458145,
           -3.104214737641033,
           -2.8433834518239207,
           -2.5825521660068085,
           -2.3217208801896962,
           -2.060889594372584,
           -1.8000583085554718,
           -1.5392270227383595,
           -1.2783957369212473,
           -1.017564451104135,
           -0.7567331652870228,
           -0.4959018794699106,
           -0.23507059365279837,
           0.025760692164313426,
           0.2865919779814261,
           0.5474232637985388,
           0.8082545496156506,
           1.0690858354327624,
           1.329917121249875,
           1.5907484070669877,
           1.8515796928840995,
           2.1124109787012113,
           2.373242264518324,
           2.6340735503354367,
           2.8949048361525485,
           3.1557361219696602
          ],
          [
           -4.408371166726594,
           -4.147539880909482,
           -3.8867085950923697,
           -3.6258773092752574,
           -3.365046023458145,
           -3.104214737641033,
           -2.8433834518239207,
           -2.5825521660068085,
           -2.3217208801896962,
           -2.060889594372584,
           -1.8000583085554718,
           -1.5392270227383595,
           -1.2783957369212473,
           -1.017564451104135,
           -0.7567331652870228,
           -0.4959018794699106,
           -0.23507059365279837,
           0.025760692164313426,
           0.2865919779814261,
           0.5474232637985388,
           0.8082545496156506,
           1.0690858354327624,
           1.329917121249875,
           1.5907484070669877,
           1.8515796928840995,
           2.1124109787012113,
           2.373242264518324,
           2.6340735503354367,
           2.8949048361525485,
           3.1557361219696602
          ],
          [
           -4.408371166726594,
           -4.147539880909482,
           -3.8867085950923697,
           -3.6258773092752574,
           -3.365046023458145,
           -3.104214737641033,
           -2.8433834518239207,
           -2.5825521660068085,
           -2.3217208801896962,
           -2.060889594372584,
           -1.8000583085554718,
           -1.5392270227383595,
           -1.2783957369212473,
           -1.017564451104135,
           -0.7567331652870228,
           -0.4959018794699106,
           -0.23507059365279837,
           0.025760692164313426,
           0.2865919779814261,
           0.5474232637985388,
           0.8082545496156506,
           1.0690858354327624,
           1.329917121249875,
           1.5907484070669877,
           1.8515796928840995,
           2.1124109787012113,
           2.373242264518324,
           2.6340735503354367,
           2.8949048361525485,
           3.1557361219696602
          ],
          [
           -4.408371166726594,
           -4.147539880909482,
           -3.8867085950923697,
           -3.6258773092752574,
           -3.365046023458145,
           -3.104214737641033,
           -2.8433834518239207,
           -2.5825521660068085,
           -2.3217208801896962,
           -2.060889594372584,
           -1.8000583085554718,
           -1.5392270227383595,
           -1.2783957369212473,
           -1.017564451104135,
           -0.7567331652870228,
           -0.4959018794699106,
           -0.23507059365279837,
           0.025760692164313426,
           0.2865919779814261,
           0.5474232637985388,
           0.8082545496156506,
           1.0690858354327624,
           1.329917121249875,
           1.5907484070669877,
           1.8515796928840995,
           2.1124109787012113,
           2.373242264518324,
           2.6340735503354367,
           2.8949048361525485,
           3.1557361219696602
          ],
          [
           -4.408371166726594,
           -4.147539880909482,
           -3.8867085950923697,
           -3.6258773092752574,
           -3.365046023458145,
           -3.104214737641033,
           -2.8433834518239207,
           -2.5825521660068085,
           -2.3217208801896962,
           -2.060889594372584,
           -1.8000583085554718,
           -1.5392270227383595,
           -1.2783957369212473,
           -1.017564451104135,
           -0.7567331652870228,
           -0.4959018794699106,
           -0.23507059365279837,
           0.025760692164313426,
           0.2865919779814261,
           0.5474232637985388,
           0.8082545496156506,
           1.0690858354327624,
           1.329917121249875,
           1.5907484070669877,
           1.8515796928840995,
           2.1124109787012113,
           2.373242264518324,
           2.6340735503354367,
           2.8949048361525485,
           3.1557361219696602
          ],
          [
           -4.408371166726594,
           -4.147539880909482,
           -3.8867085950923697,
           -3.6258773092752574,
           -3.365046023458145,
           -3.104214737641033,
           -2.8433834518239207,
           -2.5825521660068085,
           -2.3217208801896962,
           -2.060889594372584,
           -1.8000583085554718,
           -1.5392270227383595,
           -1.2783957369212473,
           -1.017564451104135,
           -0.7567331652870228,
           -0.4959018794699106,
           -0.23507059365279837,
           0.025760692164313426,
           0.2865919779814261,
           0.5474232637985388,
           0.8082545496156506,
           1.0690858354327624,
           1.329917121249875,
           1.5907484070669877,
           1.8515796928840995,
           2.1124109787012113,
           2.373242264518324,
           2.6340735503354367,
           2.8949048361525485,
           3.1557361219696602
          ],
          [
           -4.408371166726594,
           -4.147539880909482,
           -3.8867085950923697,
           -3.6258773092752574,
           -3.365046023458145,
           -3.104214737641033,
           -2.8433834518239207,
           -2.5825521660068085,
           -2.3217208801896962,
           -2.060889594372584,
           -1.8000583085554718,
           -1.5392270227383595,
           -1.2783957369212473,
           -1.017564451104135,
           -0.7567331652870228,
           -0.4959018794699106,
           -0.23507059365279837,
           0.025760692164313426,
           0.2865919779814261,
           0.5474232637985388,
           0.8082545496156506,
           1.0690858354327624,
           1.329917121249875,
           1.5907484070669877,
           1.8515796928840995,
           2.1124109787012113,
           2.373242264518324,
           2.6340735503354367,
           2.8949048361525485,
           3.1557361219696602
          ],
          [
           -4.408371166726594,
           -4.147539880909482,
           -3.8867085950923697,
           -3.6258773092752574,
           -3.365046023458145,
           -3.104214737641033,
           -2.8433834518239207,
           -2.5825521660068085,
           -2.3217208801896962,
           -2.060889594372584,
           -1.8000583085554718,
           -1.5392270227383595,
           -1.2783957369212473,
           -1.017564451104135,
           -0.7567331652870228,
           -0.4959018794699106,
           -0.23507059365279837,
           0.025760692164313426,
           0.2865919779814261,
           0.5474232637985388,
           0.8082545496156506,
           1.0690858354327624,
           1.329917121249875,
           1.5907484070669877,
           1.8515796928840995,
           2.1124109787012113,
           2.373242264518324,
           2.6340735503354367,
           2.8949048361525485,
           3.1557361219696602
          ],
          [
           -4.408371166726594,
           -4.147539880909482,
           -3.8867085950923697,
           -3.6258773092752574,
           -3.365046023458145,
           -3.104214737641033,
           -2.8433834518239207,
           -2.5825521660068085,
           -2.3217208801896962,
           -2.060889594372584,
           -1.8000583085554718,
           -1.5392270227383595,
           -1.2783957369212473,
           -1.017564451104135,
           -0.7567331652870228,
           -0.4959018794699106,
           -0.23507059365279837,
           0.025760692164313426,
           0.2865919779814261,
           0.5474232637985388,
           0.8082545496156506,
           1.0690858354327624,
           1.329917121249875,
           1.5907484070669877,
           1.8515796928840995,
           2.1124109787012113,
           2.373242264518324,
           2.6340735503354367,
           2.8949048361525485,
           3.1557361219696602
          ]
         ],
         "y": [
          [
           -9.543485106736943,
           -9.543485106736943,
           -9.543485106736943,
           -9.543485106736943,
           -9.543485106736943,
           -9.543485106736943,
           -9.543485106736943,
           -9.543485106736943,
           -9.543485106736943,
           -9.543485106736943,
           -9.543485106736943,
           -9.543485106736943,
           -9.543485106736943,
           -9.543485106736943,
           -9.543485106736943,
           -9.543485106736943,
           -9.543485106736943,
           -9.543485106736943,
           -9.543485106736943,
           -9.543485106736943,
           -9.543485106736943,
           -9.543485106736943,
           -9.543485106736943,
           -9.543485106736943,
           -9.543485106736943,
           -9.543485106736943,
           -9.543485106736943,
           -9.543485106736943,
           -9.543485106736943,
           -9.543485106736943
          ],
          [
           -9.25347780280336,
           -9.25347780280336,
           -9.25347780280336,
           -9.25347780280336,
           -9.25347780280336,
           -9.25347780280336,
           -9.25347780280336,
           -9.25347780280336,
           -9.25347780280336,
           -9.25347780280336,
           -9.25347780280336,
           -9.25347780280336,
           -9.25347780280336,
           -9.25347780280336,
           -9.25347780280336,
           -9.25347780280336,
           -9.25347780280336,
           -9.25347780280336,
           -9.25347780280336,
           -9.25347780280336,
           -9.25347780280336,
           -9.25347780280336,
           -9.25347780280336,
           -9.25347780280336,
           -9.25347780280336,
           -9.25347780280336,
           -9.25347780280336,
           -9.25347780280336,
           -9.25347780280336,
           -9.25347780280336
          ],
          [
           -8.963470498869778,
           -8.963470498869778,
           -8.963470498869778,
           -8.963470498869778,
           -8.963470498869778,
           -8.963470498869778,
           -8.963470498869778,
           -8.963470498869778,
           -8.963470498869778,
           -8.963470498869778,
           -8.963470498869778,
           -8.963470498869778,
           -8.963470498869778,
           -8.963470498869778,
           -8.963470498869778,
           -8.963470498869778,
           -8.963470498869778,
           -8.963470498869778,
           -8.963470498869778,
           -8.963470498869778,
           -8.963470498869778,
           -8.963470498869778,
           -8.963470498869778,
           -8.963470498869778,
           -8.963470498869778,
           -8.963470498869778,
           -8.963470498869778,
           -8.963470498869778,
           -8.963470498869778,
           -8.963470498869778
          ],
          [
           -8.673463194936195,
           -8.673463194936195,
           -8.673463194936195,
           -8.673463194936195,
           -8.673463194936195,
           -8.673463194936195,
           -8.673463194936195,
           -8.673463194936195,
           -8.673463194936195,
           -8.673463194936195,
           -8.673463194936195,
           -8.673463194936195,
           -8.673463194936195,
           -8.673463194936195,
           -8.673463194936195,
           -8.673463194936195,
           -8.673463194936195,
           -8.673463194936195,
           -8.673463194936195,
           -8.673463194936195,
           -8.673463194936195,
           -8.673463194936195,
           -8.673463194936195,
           -8.673463194936195,
           -8.673463194936195,
           -8.673463194936195,
           -8.673463194936195,
           -8.673463194936195,
           -8.673463194936195,
           -8.673463194936195
          ],
          [
           -8.383455891002612,
           -8.383455891002612,
           -8.383455891002612,
           -8.383455891002612,
           -8.383455891002612,
           -8.383455891002612,
           -8.383455891002612,
           -8.383455891002612,
           -8.383455891002612,
           -8.383455891002612,
           -8.383455891002612,
           -8.383455891002612,
           -8.383455891002612,
           -8.383455891002612,
           -8.383455891002612,
           -8.383455891002612,
           -8.383455891002612,
           -8.383455891002612,
           -8.383455891002612,
           -8.383455891002612,
           -8.383455891002612,
           -8.383455891002612,
           -8.383455891002612,
           -8.383455891002612,
           -8.383455891002612,
           -8.383455891002612,
           -8.383455891002612,
           -8.383455891002612,
           -8.383455891002612,
           -8.383455891002612
          ],
          [
           -8.09344858706903,
           -8.09344858706903,
           -8.09344858706903,
           -8.09344858706903,
           -8.09344858706903,
           -8.09344858706903,
           -8.09344858706903,
           -8.09344858706903,
           -8.09344858706903,
           -8.09344858706903,
           -8.09344858706903,
           -8.09344858706903,
           -8.09344858706903,
           -8.09344858706903,
           -8.09344858706903,
           -8.09344858706903,
           -8.09344858706903,
           -8.09344858706903,
           -8.09344858706903,
           -8.09344858706903,
           -8.09344858706903,
           -8.09344858706903,
           -8.09344858706903,
           -8.09344858706903,
           -8.09344858706903,
           -8.09344858706903,
           -8.09344858706903,
           -8.09344858706903,
           -8.09344858706903,
           -8.09344858706903
          ],
          [
           -7.803441283135447,
           -7.803441283135447,
           -7.803441283135447,
           -7.803441283135447,
           -7.803441283135447,
           -7.803441283135447,
           -7.803441283135447,
           -7.803441283135447,
           -7.803441283135447,
           -7.803441283135447,
           -7.803441283135447,
           -7.803441283135447,
           -7.803441283135447,
           -7.803441283135447,
           -7.803441283135447,
           -7.803441283135447,
           -7.803441283135447,
           -7.803441283135447,
           -7.803441283135447,
           -7.803441283135447,
           -7.803441283135447,
           -7.803441283135447,
           -7.803441283135447,
           -7.803441283135447,
           -7.803441283135447,
           -7.803441283135447,
           -7.803441283135447,
           -7.803441283135447,
           -7.803441283135447,
           -7.803441283135447
          ],
          [
           -7.5134339792018645,
           -7.5134339792018645,
           -7.5134339792018645,
           -7.5134339792018645,
           -7.5134339792018645,
           -7.5134339792018645,
           -7.5134339792018645,
           -7.5134339792018645,
           -7.5134339792018645,
           -7.5134339792018645,
           -7.5134339792018645,
           -7.5134339792018645,
           -7.5134339792018645,
           -7.5134339792018645,
           -7.5134339792018645,
           -7.5134339792018645,
           -7.5134339792018645,
           -7.5134339792018645,
           -7.5134339792018645,
           -7.5134339792018645,
           -7.5134339792018645,
           -7.5134339792018645,
           -7.5134339792018645,
           -7.5134339792018645,
           -7.5134339792018645,
           -7.5134339792018645,
           -7.5134339792018645,
           -7.5134339792018645,
           -7.5134339792018645,
           -7.5134339792018645
          ],
          [
           -7.223426675268282,
           -7.223426675268282,
           -7.223426675268282,
           -7.223426675268282,
           -7.223426675268282,
           -7.223426675268282,
           -7.223426675268282,
           -7.223426675268282,
           -7.223426675268282,
           -7.223426675268282,
           -7.223426675268282,
           -7.223426675268282,
           -7.223426675268282,
           -7.223426675268282,
           -7.223426675268282,
           -7.223426675268282,
           -7.223426675268282,
           -7.223426675268282,
           -7.223426675268282,
           -7.223426675268282,
           -7.223426675268282,
           -7.223426675268282,
           -7.223426675268282,
           -7.223426675268282,
           -7.223426675268282,
           -7.223426675268282,
           -7.223426675268282,
           -7.223426675268282,
           -7.223426675268282,
           -7.223426675268282
          ],
          [
           -6.9334193713347,
           -6.9334193713347,
           -6.9334193713347,
           -6.9334193713347,
           -6.9334193713347,
           -6.9334193713347,
           -6.9334193713347,
           -6.9334193713347,
           -6.9334193713347,
           -6.9334193713347,
           -6.9334193713347,
           -6.9334193713347,
           -6.9334193713347,
           -6.9334193713347,
           -6.9334193713347,
           -6.9334193713347,
           -6.9334193713347,
           -6.9334193713347,
           -6.9334193713347,
           -6.9334193713347,
           -6.9334193713347,
           -6.9334193713347,
           -6.9334193713347,
           -6.9334193713347,
           -6.9334193713347,
           -6.9334193713347,
           -6.9334193713347,
           -6.9334193713347,
           -6.9334193713347,
           -6.9334193713347
          ],
          [
           -6.643412067401117,
           -6.643412067401117,
           -6.643412067401117,
           -6.643412067401117,
           -6.643412067401117,
           -6.643412067401117,
           -6.643412067401117,
           -6.643412067401117,
           -6.643412067401117,
           -6.643412067401117,
           -6.643412067401117,
           -6.643412067401117,
           -6.643412067401117,
           -6.643412067401117,
           -6.643412067401117,
           -6.643412067401117,
           -6.643412067401117,
           -6.643412067401117,
           -6.643412067401117,
           -6.643412067401117,
           -6.643412067401117,
           -6.643412067401117,
           -6.643412067401117,
           -6.643412067401117,
           -6.643412067401117,
           -6.643412067401117,
           -6.643412067401117,
           -6.643412067401117,
           -6.643412067401117,
           -6.643412067401117
          ],
          [
           -6.353404763467534,
           -6.353404763467534,
           -6.353404763467534,
           -6.353404763467534,
           -6.353404763467534,
           -6.353404763467534,
           -6.353404763467534,
           -6.353404763467534,
           -6.353404763467534,
           -6.353404763467534,
           -6.353404763467534,
           -6.353404763467534,
           -6.353404763467534,
           -6.353404763467534,
           -6.353404763467534,
           -6.353404763467534,
           -6.353404763467534,
           -6.353404763467534,
           -6.353404763467534,
           -6.353404763467534,
           -6.353404763467534,
           -6.353404763467534,
           -6.353404763467534,
           -6.353404763467534,
           -6.353404763467534,
           -6.353404763467534,
           -6.353404763467534,
           -6.353404763467534,
           -6.353404763467534,
           -6.353404763467534
          ],
          [
           -6.0633974595339515,
           -6.0633974595339515,
           -6.0633974595339515,
           -6.0633974595339515,
           -6.0633974595339515,
           -6.0633974595339515,
           -6.0633974595339515,
           -6.0633974595339515,
           -6.0633974595339515,
           -6.0633974595339515,
           -6.0633974595339515,
           -6.0633974595339515,
           -6.0633974595339515,
           -6.0633974595339515,
           -6.0633974595339515,
           -6.0633974595339515,
           -6.0633974595339515,
           -6.0633974595339515,
           -6.0633974595339515,
           -6.0633974595339515,
           -6.0633974595339515,
           -6.0633974595339515,
           -6.0633974595339515,
           -6.0633974595339515,
           -6.0633974595339515,
           -6.0633974595339515,
           -6.0633974595339515,
           -6.0633974595339515,
           -6.0633974595339515,
           -6.0633974595339515
          ],
          [
           -5.773390155600369,
           -5.773390155600369,
           -5.773390155600369,
           -5.773390155600369,
           -5.773390155600369,
           -5.773390155600369,
           -5.773390155600369,
           -5.773390155600369,
           -5.773390155600369,
           -5.773390155600369,
           -5.773390155600369,
           -5.773390155600369,
           -5.773390155600369,
           -5.773390155600369,
           -5.773390155600369,
           -5.773390155600369,
           -5.773390155600369,
           -5.773390155600369,
           -5.773390155600369,
           -5.773390155600369,
           -5.773390155600369,
           -5.773390155600369,
           -5.773390155600369,
           -5.773390155600369,
           -5.773390155600369,
           -5.773390155600369,
           -5.773390155600369,
           -5.773390155600369,
           -5.773390155600369,
           -5.773390155600369
          ],
          [
           -5.483382851666786,
           -5.483382851666786,
           -5.483382851666786,
           -5.483382851666786,
           -5.483382851666786,
           -5.483382851666786,
           -5.483382851666786,
           -5.483382851666786,
           -5.483382851666786,
           -5.483382851666786,
           -5.483382851666786,
           -5.483382851666786,
           -5.483382851666786,
           -5.483382851666786,
           -5.483382851666786,
           -5.483382851666786,
           -5.483382851666786,
           -5.483382851666786,
           -5.483382851666786,
           -5.483382851666786,
           -5.483382851666786,
           -5.483382851666786,
           -5.483382851666786,
           -5.483382851666786,
           -5.483382851666786,
           -5.483382851666786,
           -5.483382851666786,
           -5.483382851666786,
           -5.483382851666786,
           -5.483382851666786
          ],
          [
           -5.193375547733203,
           -5.193375547733203,
           -5.193375547733203,
           -5.193375547733203,
           -5.193375547733203,
           -5.193375547733203,
           -5.193375547733203,
           -5.193375547733203,
           -5.193375547733203,
           -5.193375547733203,
           -5.193375547733203,
           -5.193375547733203,
           -5.193375547733203,
           -5.193375547733203,
           -5.193375547733203,
           -5.193375547733203,
           -5.193375547733203,
           -5.193375547733203,
           -5.193375547733203,
           -5.193375547733203,
           -5.193375547733203,
           -5.193375547733203,
           -5.193375547733203,
           -5.193375547733203,
           -5.193375547733203,
           -5.193375547733203,
           -5.193375547733203,
           -5.193375547733203,
           -5.193375547733203,
           -5.193375547733203
          ],
          [
           -4.903368243799621,
           -4.903368243799621,
           -4.903368243799621,
           -4.903368243799621,
           -4.903368243799621,
           -4.903368243799621,
           -4.903368243799621,
           -4.903368243799621,
           -4.903368243799621,
           -4.903368243799621,
           -4.903368243799621,
           -4.903368243799621,
           -4.903368243799621,
           -4.903368243799621,
           -4.903368243799621,
           -4.903368243799621,
           -4.903368243799621,
           -4.903368243799621,
           -4.903368243799621,
           -4.903368243799621,
           -4.903368243799621,
           -4.903368243799621,
           -4.903368243799621,
           -4.903368243799621,
           -4.903368243799621,
           -4.903368243799621,
           -4.903368243799621,
           -4.903368243799621,
           -4.903368243799621,
           -4.903368243799621
          ],
          [
           -4.6133609398660385,
           -4.6133609398660385,
           -4.6133609398660385,
           -4.6133609398660385,
           -4.6133609398660385,
           -4.6133609398660385,
           -4.6133609398660385,
           -4.6133609398660385,
           -4.6133609398660385,
           -4.6133609398660385,
           -4.6133609398660385,
           -4.6133609398660385,
           -4.6133609398660385,
           -4.6133609398660385,
           -4.6133609398660385,
           -4.6133609398660385,
           -4.6133609398660385,
           -4.6133609398660385,
           -4.6133609398660385,
           -4.6133609398660385,
           -4.6133609398660385,
           -4.6133609398660385,
           -4.6133609398660385,
           -4.6133609398660385,
           -4.6133609398660385,
           -4.6133609398660385,
           -4.6133609398660385,
           -4.6133609398660385,
           -4.6133609398660385,
           -4.6133609398660385
          ],
          [
           -4.323353635932456,
           -4.323353635932456,
           -4.323353635932456,
           -4.323353635932456,
           -4.323353635932456,
           -4.323353635932456,
           -4.323353635932456,
           -4.323353635932456,
           -4.323353635932456,
           -4.323353635932456,
           -4.323353635932456,
           -4.323353635932456,
           -4.323353635932456,
           -4.323353635932456,
           -4.323353635932456,
           -4.323353635932456,
           -4.323353635932456,
           -4.323353635932456,
           -4.323353635932456,
           -4.323353635932456,
           -4.323353635932456,
           -4.323353635932456,
           -4.323353635932456,
           -4.323353635932456,
           -4.323353635932456,
           -4.323353635932456,
           -4.323353635932456,
           -4.323353635932456,
           -4.323353635932456,
           -4.323353635932456
          ],
          [
           -4.033346331998873,
           -4.033346331998873,
           -4.033346331998873,
           -4.033346331998873,
           -4.033346331998873,
           -4.033346331998873,
           -4.033346331998873,
           -4.033346331998873,
           -4.033346331998873,
           -4.033346331998873,
           -4.033346331998873,
           -4.033346331998873,
           -4.033346331998873,
           -4.033346331998873,
           -4.033346331998873,
           -4.033346331998873,
           -4.033346331998873,
           -4.033346331998873,
           -4.033346331998873,
           -4.033346331998873,
           -4.033346331998873,
           -4.033346331998873,
           -4.033346331998873,
           -4.033346331998873,
           -4.033346331998873,
           -4.033346331998873,
           -4.033346331998873,
           -4.033346331998873,
           -4.033346331998873,
           -4.033346331998873
          ],
          [
           -3.7433390280652903,
           -3.7433390280652903,
           -3.7433390280652903,
           -3.7433390280652903,
           -3.7433390280652903,
           -3.7433390280652903,
           -3.7433390280652903,
           -3.7433390280652903,
           -3.7433390280652903,
           -3.7433390280652903,
           -3.7433390280652903,
           -3.7433390280652903,
           -3.7433390280652903,
           -3.7433390280652903,
           -3.7433390280652903,
           -3.7433390280652903,
           -3.7433390280652903,
           -3.7433390280652903,
           -3.7433390280652903,
           -3.7433390280652903,
           -3.7433390280652903,
           -3.7433390280652903,
           -3.7433390280652903,
           -3.7433390280652903,
           -3.7433390280652903,
           -3.7433390280652903,
           -3.7433390280652903,
           -3.7433390280652903,
           -3.7433390280652903,
           -3.7433390280652903
          ],
          [
           -3.453331724131708,
           -3.453331724131708,
           -3.453331724131708,
           -3.453331724131708,
           -3.453331724131708,
           -3.453331724131708,
           -3.453331724131708,
           -3.453331724131708,
           -3.453331724131708,
           -3.453331724131708,
           -3.453331724131708,
           -3.453331724131708,
           -3.453331724131708,
           -3.453331724131708,
           -3.453331724131708,
           -3.453331724131708,
           -3.453331724131708,
           -3.453331724131708,
           -3.453331724131708,
           -3.453331724131708,
           -3.453331724131708,
           -3.453331724131708,
           -3.453331724131708,
           -3.453331724131708,
           -3.453331724131708,
           -3.453331724131708,
           -3.453331724131708,
           -3.453331724131708,
           -3.453331724131708,
           -3.453331724131708
          ],
          [
           -3.1633244201981245,
           -3.1633244201981245,
           -3.1633244201981245,
           -3.1633244201981245,
           -3.1633244201981245,
           -3.1633244201981245,
           -3.1633244201981245,
           -3.1633244201981245,
           -3.1633244201981245,
           -3.1633244201981245,
           -3.1633244201981245,
           -3.1633244201981245,
           -3.1633244201981245,
           -3.1633244201981245,
           -3.1633244201981245,
           -3.1633244201981245,
           -3.1633244201981245,
           -3.1633244201981245,
           -3.1633244201981245,
           -3.1633244201981245,
           -3.1633244201981245,
           -3.1633244201981245,
           -3.1633244201981245,
           -3.1633244201981245,
           -3.1633244201981245,
           -3.1633244201981245,
           -3.1633244201981245,
           -3.1633244201981245,
           -3.1633244201981245,
           -3.1633244201981245
          ],
          [
           -2.873317116264542,
           -2.873317116264542,
           -2.873317116264542,
           -2.873317116264542,
           -2.873317116264542,
           -2.873317116264542,
           -2.873317116264542,
           -2.873317116264542,
           -2.873317116264542,
           -2.873317116264542,
           -2.873317116264542,
           -2.873317116264542,
           -2.873317116264542,
           -2.873317116264542,
           -2.873317116264542,
           -2.873317116264542,
           -2.873317116264542,
           -2.873317116264542,
           -2.873317116264542,
           -2.873317116264542,
           -2.873317116264542,
           -2.873317116264542,
           -2.873317116264542,
           -2.873317116264542,
           -2.873317116264542,
           -2.873317116264542,
           -2.873317116264542,
           -2.873317116264542,
           -2.873317116264542,
           -2.873317116264542
          ],
          [
           -2.5833098123309597,
           -2.5833098123309597,
           -2.5833098123309597,
           -2.5833098123309597,
           -2.5833098123309597,
           -2.5833098123309597,
           -2.5833098123309597,
           -2.5833098123309597,
           -2.5833098123309597,
           -2.5833098123309597,
           -2.5833098123309597,
           -2.5833098123309597,
           -2.5833098123309597,
           -2.5833098123309597,
           -2.5833098123309597,
           -2.5833098123309597,
           -2.5833098123309597,
           -2.5833098123309597,
           -2.5833098123309597,
           -2.5833098123309597,
           -2.5833098123309597,
           -2.5833098123309597,
           -2.5833098123309597,
           -2.5833098123309597,
           -2.5833098123309597,
           -2.5833098123309597,
           -2.5833098123309597,
           -2.5833098123309597,
           -2.5833098123309597,
           -2.5833098123309597
          ],
          [
           -2.2933025083973773,
           -2.2933025083973773,
           -2.2933025083973773,
           -2.2933025083973773,
           -2.2933025083973773,
           -2.2933025083973773,
           -2.2933025083973773,
           -2.2933025083973773,
           -2.2933025083973773,
           -2.2933025083973773,
           -2.2933025083973773,
           -2.2933025083973773,
           -2.2933025083973773,
           -2.2933025083973773,
           -2.2933025083973773,
           -2.2933025083973773,
           -2.2933025083973773,
           -2.2933025083973773,
           -2.2933025083973773,
           -2.2933025083973773,
           -2.2933025083973773,
           -2.2933025083973773,
           -2.2933025083973773,
           -2.2933025083973773,
           -2.2933025083973773,
           -2.2933025083973773,
           -2.2933025083973773,
           -2.2933025083973773,
           -2.2933025083973773,
           -2.2933025083973773
          ],
          [
           -2.003295204463795,
           -2.003295204463795,
           -2.003295204463795,
           -2.003295204463795,
           -2.003295204463795,
           -2.003295204463795,
           -2.003295204463795,
           -2.003295204463795,
           -2.003295204463795,
           -2.003295204463795,
           -2.003295204463795,
           -2.003295204463795,
           -2.003295204463795,
           -2.003295204463795,
           -2.003295204463795,
           -2.003295204463795,
           -2.003295204463795,
           -2.003295204463795,
           -2.003295204463795,
           -2.003295204463795,
           -2.003295204463795,
           -2.003295204463795,
           -2.003295204463795,
           -2.003295204463795,
           -2.003295204463795,
           -2.003295204463795,
           -2.003295204463795,
           -2.003295204463795,
           -2.003295204463795,
           -2.003295204463795
          ],
          [
           -1.7132879005302115,
           -1.7132879005302115,
           -1.7132879005302115,
           -1.7132879005302115,
           -1.7132879005302115,
           -1.7132879005302115,
           -1.7132879005302115,
           -1.7132879005302115,
           -1.7132879005302115,
           -1.7132879005302115,
           -1.7132879005302115,
           -1.7132879005302115,
           -1.7132879005302115,
           -1.7132879005302115,
           -1.7132879005302115,
           -1.7132879005302115,
           -1.7132879005302115,
           -1.7132879005302115,
           -1.7132879005302115,
           -1.7132879005302115,
           -1.7132879005302115,
           -1.7132879005302115,
           -1.7132879005302115,
           -1.7132879005302115,
           -1.7132879005302115,
           -1.7132879005302115,
           -1.7132879005302115,
           -1.7132879005302115,
           -1.7132879005302115,
           -1.7132879005302115
          ],
          [
           -1.4232805965966282,
           -1.4232805965966282,
           -1.4232805965966282,
           -1.4232805965966282,
           -1.4232805965966282,
           -1.4232805965966282,
           -1.4232805965966282,
           -1.4232805965966282,
           -1.4232805965966282,
           -1.4232805965966282,
           -1.4232805965966282,
           -1.4232805965966282,
           -1.4232805965966282,
           -1.4232805965966282,
           -1.4232805965966282,
           -1.4232805965966282,
           -1.4232805965966282,
           -1.4232805965966282,
           -1.4232805965966282,
           -1.4232805965966282,
           -1.4232805965966282,
           -1.4232805965966282,
           -1.4232805965966282,
           -1.4232805965966282,
           -1.4232805965966282,
           -1.4232805965966282,
           -1.4232805965966282,
           -1.4232805965966282,
           -1.4232805965966282,
           -1.4232805965966282
          ],
          [
           -1.1332732926630469,
           -1.1332732926630469,
           -1.1332732926630469,
           -1.1332732926630469,
           -1.1332732926630469,
           -1.1332732926630469,
           -1.1332732926630469,
           -1.1332732926630469,
           -1.1332732926630469,
           -1.1332732926630469,
           -1.1332732926630469,
           -1.1332732926630469,
           -1.1332732926630469,
           -1.1332732926630469,
           -1.1332732926630469,
           -1.1332732926630469,
           -1.1332732926630469,
           -1.1332732926630469,
           -1.1332732926630469,
           -1.1332732926630469,
           -1.1332732926630469,
           -1.1332732926630469,
           -1.1332732926630469,
           -1.1332732926630469,
           -1.1332732926630469,
           -1.1332732926630469,
           -1.1332732926630469,
           -1.1332732926630469,
           -1.1332732926630469,
           -1.1332732926630469
          ]
         ],
         "z": [
          [
           -3.4791338225174164,
           -3.5332209444486304,
           -3.587308066379845,
           -3.6413951883110585,
           -3.6954823102422725,
           -3.749569432173487,
           -3.8036565541047005,
           -3.8577436760359154,
           -3.911830797967129,
           -3.9659179198983434,
           -4.020005041829557,
           -4.074092163760771,
           -4.128179285691986,
           -4.1822664076232,
           -4.236353529554414,
           -4.2904406514856275,
           -4.344527773416842,
           -4.398614895348056,
           -4.452702017279271,
           -4.506789139210484,
           -4.560876261141699,
           -4.614963383072912,
           -4.669050505004127,
           -4.723137626935341,
           -4.777224748866556,
           -4.831311870797769,
           -4.885398992728983,
           -4.939486114660197,
           -4.993573236591411,
           -5.047660358522626
          ],
          [
           -3.325337207277867,
           -3.379424329209081,
           -3.4335114511402955,
           -3.4875985730715096,
           -3.541685695002723,
           -3.5957728169339376,
           -3.6498599388651516,
           -3.703947060796366,
           -3.7580341827275796,
           -3.8121213046587945,
           -3.866208426590008,
           -3.9202955485212225,
           -3.9743826704524365,
           -4.0284697923836505,
           -4.082556914314865,
           -4.136644036246079,
           -4.190731158177293,
           -4.244818280108507,
           -4.298905402039721,
           -4.3529925239709355,
           -4.40707964590215,
           -4.4611667678333635,
           -4.515253889764578,
           -4.5693410116957915,
           -4.623428133627006,
           -4.6775152555582205,
           -4.731602377489434,
           -4.7856894994206485,
           -4.839776621351862,
           -4.8938637432830765
          ],
          [
           -3.1715405920383186,
           -3.2256277139695326,
           -3.2797148359007466,
           -3.333801957831961,
           -3.3878890797631755,
           -3.441976201694389,
           -3.496063323625603,
           -3.5501504455568176,
           -3.604237567488031,
           -3.658324689419246,
           -3.7124118113504596,
           -3.766498933281674,
           -3.820586055212888,
           -3.8746731771441025,
           -3.928760299075316,
           -3.982847421006531,
           -4.036934542937745,
           -4.091021664868959,
           -4.145108786800173,
           -4.199195908731387,
           -4.253283030662601,
           -4.307370152593815,
           -4.36145727452503,
           -4.4155443964562435,
           -4.469631518387458,
           -4.5237186403186715,
           -4.577805762249886,
           -4.6318928841811,
           -4.685980006112314,
           -4.7400671280435285
          ],
          [
           -3.0177439767987697,
           -3.0718310987299833,
           -3.1259182206611977,
           -3.1800053425924117,
           -3.234092464523626,
           -3.28817958645484,
           -3.3422667083860538,
           -3.3963538303172682,
           -3.4504409522484822,
           -3.5045280741796967,
           -3.5586151961109107,
           -3.612702318042125,
           -3.6667894399733387,
           -3.720876561904553,
           -3.774963683835767,
           -3.8290508057669816,
           -3.883137927698195,
           -3.9372250496294092,
           -3.9913121715606237,
           -4.045399293491838,
           -4.099486415423052,
           -4.153573537354266,
           -4.20766065928548,
           -4.261747781216694,
           -4.315834903147909,
           -4.369922025079123,
           -4.424009147010337,
           -4.478096268941551,
           -4.532183390872764,
           -4.586270512803979
          ],
          [
           -2.8639473615592204,
           -2.9180344834904344,
           -2.9721216054216484,
           -3.0262087273528624,
           -3.080295849284077,
           -3.134382971215291,
           -3.188470093146505,
           -3.2425572150777193,
           -3.296644337008933,
           -3.3507314589401473,
           -3.4048185808713614,
           -3.458905702802576,
           -3.51299282473379,
           -3.5670799466650043,
           -3.621167068596218,
           -3.6752541905274323,
           -3.7293413124586463,
           -3.78342843438986,
           -3.8375155563210748,
           -3.8916026782522883,
           -3.945689800183503,
           -3.999776922114717,
           -4.053864044045931,
           -4.107951165977145,
           -4.162038287908359,
           -4.216125409839574,
           -4.270212531770788,
           -4.324299653702002,
           -4.378386775633215,
           -4.43247389756443
          ],
          [
           -2.710150746319672,
           -2.764237868250886,
           -2.8183249901821,
           -2.872412112113314,
           -2.9264992340445284,
           -2.9805863559757424,
           -3.0346734779069564,
           -3.088760599838171,
           -3.1428477217693844,
           -3.196934843700599,
           -3.251021965631813,
           -3.3051090875630273,
           -3.3591962094942414,
           -3.413283331425456,
           -3.4673704533566694,
           -3.5214575752878834,
           -3.575544697219098,
           -3.6296318191503114,
           -3.683718941081526,
           -3.73780606301274,
           -3.7918931849439543,
           -3.8459803068751683,
           -3.900067428806383,
           -3.9541545507375964,
           -4.008241672668811,
           -4.062328794600025,
           -4.116415916531238,
           -4.170503038462453,
           -4.224590160393667,
           -4.278677282324882
          ],
          [
           -2.556354131080123,
           -2.6104412530113366,
           -2.6645283749425506,
           -2.718615496873765,
           -2.772702618804979,
           -2.826789740736193,
           -2.8808768626674075,
           -2.9349639845986215,
           -2.9890511065298355,
           -3.04313822846105,
           -3.0972253503922635,
           -3.151312472323478,
           -3.205399594254692,
           -3.2594867161859065,
           -3.3135738381171205,
           -3.367660960048334,
           -3.4217480819795485,
           -3.4758352039107625,
           -3.529922325841977,
           -3.5840094477731905,
           -3.6380965697044054,
           -3.692183691635619,
           -3.7462708135668334,
           -3.8003579354980475,
           -3.854445057429262,
           -3.9085321793604755,
           -3.9626193012916895,
           -4.016706423222904,
           -4.0707935451541175,
           -4.124880667085332
          ],
          [
           -2.4025575158405736,
           -2.4566446377717877,
           -2.5107317597030017,
           -2.5648188816342157,
           -2.61890600356543,
           -2.672993125496644,
           -2.727080247427858,
           -2.7811673693590726,
           -2.835254491290286,
           -2.8893416132215006,
           -2.9434287351527146,
           -2.9975158570839286,
           -3.0516029790151427,
           -3.105690100946357,
           -3.159777222877571,
           -3.213864344808785,
           -3.2679514667399996,
           -3.322038588671213,
           -3.3761257106024276,
           -3.4302128325336416,
           -3.484299954464856,
           -3.53838707639607,
           -3.5924741983272845,
           -3.646561320258498,
           -3.7006484421897126,
           -3.7547355641209266,
           -3.80882268605214,
           -3.8629098079833546,
           -3.9169969299145686,
           -3.971084051845783
          ],
          [
           -2.2487609006010243,
           -2.3028480225322383,
           -2.3569351444634523,
           -2.4110222663946668,
           -2.465109388325881,
           -2.519196510257095,
           -2.5732836321883092,
           -2.6273707541195233,
           -2.681457876050737,
           -2.7355449979819517,
           -2.7896321199131653,
           -2.8437192418443793,
           -2.8978063637755938,
           -2.9518934857068078,
           -3.0059806076380218,
           -3.0600677295692362,
           -3.1141548515004502,
           -3.1682419734316642,
           -3.2223290953628787,
           -3.2764162172940923,
           -3.3305033392253067,
           -3.3845904611565207,
           -3.438677583087735,
           -3.492764705018949,
           -3.5468518269501637,
           -3.600938948881377,
           -3.6550260708125912,
           -3.7091131927438057,
           -3.7632003146750193,
           -3.817287436606234
          ],
          [
           -2.094964285361476,
           -2.14905140729269,
           -2.203138529223904,
           -2.2572256511551183,
           -2.3113127730863323,
           -2.3653998950175463,
           -2.419487016948761,
           -2.473574138879975,
           -2.5276612608111884,
           -2.5817483827424033,
           -2.635835504673617,
           -2.689922626604831,
           -2.7440097485360453,
           -2.7980968704672593,
           -2.8521839923984733,
           -2.9062711143296878,
           -2.9603582362609018,
           -3.014445358192116,
           -3.0685324801233302,
           -3.1226196020545443,
           -3.1767067239857583,
           -3.2307938459169723,
           -3.2848809678481867,
           -3.3389680897794007,
           -3.393055211710615,
           -3.4471423336418288,
           -3.501229455573043,
           -3.5553165775042572,
           -3.609403699435471,
           -3.6634908213666852
          ],
          [
           -1.941167670121927,
           -1.9952547920531407,
           -2.049341913984355,
           -2.103429035915569,
           -2.157516157846783,
           -2.2116032797779974,
           -2.2656904017092114,
           -2.3197775236404254,
           -2.3738646455716395,
           -2.427951767502854,
           -2.482038889434068,
           -2.536126011365282,
           -2.590213133296496,
           -2.64430025522771,
           -2.6983873771589244,
           -2.7524744990901384,
           -2.8065616210213524,
           -2.860648742952567,
           -2.914735864883781,
           -2.968822986814995,
           -3.0229101087462094,
           -3.076997230677423,
           -3.1310843526086374,
           -3.1851714745398514,
           -3.239258596471066,
           -3.29334571840228,
           -3.3474328403334943,
           -3.401519962264708,
           -3.455607084195922,
           -3.5096942061271363
          ],
          [
           -1.7873710548823778,
           -1.8414581768135916,
           -1.8955452987448056,
           -1.9496324206760198,
           -2.003719542607234,
           -2.057806664538448,
           -2.111893786469662,
           -2.1659809084008765,
           -2.22006803033209,
           -2.2741551522633046,
           -2.3282422741945186,
           -2.3823293961257326,
           -2.436416518056947,
           -2.490503639988161,
           -2.544590761919375,
           -2.5986778838505895,
           -2.6527650057818035,
           -2.7068521277130175,
           -2.760939249644232,
           -2.815026371575446,
           -2.86911349350666,
           -2.923200615437874,
           -2.977287737369088,
           -3.031374859300302,
           -3.0854619812315165,
           -3.1395491031627305,
           -3.193636225093945,
           -3.247723347025159,
           -3.3018104689563725,
           -3.355897590887587
          ],
          [
           -1.6335744396428284,
           -1.6876615615740422,
           -1.7417486835052565,
           -1.7958358054364707,
           -1.8499229273676847,
           -1.904010049298899,
           -1.9580971712301132,
           -2.012184293161327,
           -2.066271415092541,
           -2.1203585370237557,
           -2.174445658954969,
           -2.2285327808861837,
           -2.2826199028173977,
           -2.3367070247486117,
           -2.390794146679826,
           -2.44488126861104,
           -2.498968390542254,
           -2.5530555124734686,
           -2.6071426344046826,
           -2.6612297563358966,
           -2.715316878267111,
           -2.7694040001983247,
           -2.8234911221295387,
           -2.877578244060753,
           -2.931665365991967,
           -2.985752487923181,
           -3.0398396098543956,
           -3.0939267317856096,
           -3.1480138537168236,
           -3.202100975648038
          ],
          [
           -1.4797778244032798,
           -1.5338649463344938,
           -1.587952068265708,
           -1.6420391901969222,
           -1.6961263121281362,
           -1.7502134340593505,
           -1.8043005559905647,
           -1.8583876779217787,
           -1.9124747998529925,
           -1.9665619217842072,
           -2.0206490437154208,
           -2.074736165646635,
           -2.128823287577849,
           -2.1829104095090632,
           -2.2369975314402777,
           -2.2910846533714917,
           -2.3451717753027057,
           -2.39925889723392,
           -2.453346019165134,
           -2.507433141096348,
           -2.5615202630275626,
           -2.615607384958776,
           -2.66969450688999,
           -2.7237816288212047,
           -2.7778687507524187,
           -2.8319558726836327,
           -2.886042994614847,
           -2.940130116546061,
           -2.994217238477275,
           -3.0483043604084896
          ],
          [
           -1.3259812091637304,
           -1.3800683310949444,
           -1.4341554530261584,
           -1.4882425749573727,
           -1.542329696888587,
           -1.596416818819801,
           -1.6505039407510151,
           -1.7045910626822294,
           -1.7586781846134434,
           -1.8127653065446572,
           -1.8668524284758714,
           -1.9209395504070856,
           -1.9750266723382996,
           -2.029113794269514,
           -2.083200916200728,
           -2.1372880381319423,
           -2.1913751600631564,
           -2.2454622819943704,
           -2.299549403925585,
           -2.353636525856799,
           -2.4077236477880124,
           -2.461810769719227,
           -2.515897891650441,
           -2.5699850135816553,
           -2.6240721355128693,
           -2.6781592574440833,
           -2.7322463793752974,
           -2.786333501306512,
           -2.840420623237726,
           -2.89450774516894
          ],
          [
           -1.1721845939241815,
           -1.2262717158553955,
           -1.2803588377866097,
           -1.3344459597178238,
           -1.388533081649038,
           -1.4426202035802522,
           -1.4967073255114662,
           -1.5507944474426805,
           -1.6048815693738943,
           -1.6589686913051087,
           -1.7130558132363225,
           -1.7671429351675367,
           -1.821230057098751,
           -1.875317179029965,
           -1.9294043009611792,
           -1.9834914228923934,
           -2.0375785448236075,
           -2.0916656667548215,
           -2.145752788686036,
           -2.19983991061725,
           -2.253927032548464,
           -2.308014154479678,
           -2.362101276410892,
           -2.4161883983421064,
           -2.4702755202733204,
           -2.5243626422045344,
           -2.578449764135749,
           -2.632536886066963,
           -2.686624007998177,
           -2.7407111299293914
          ],
          [
           -1.0183879786846328,
           -1.0724751006158466,
           -1.1265622225470608,
           -1.180649344478275,
           -1.234736466409489,
           -1.2888235883407033,
           -1.3429107102719176,
           -1.3969978322031316,
           -1.4510849541343456,
           -1.5051720760655598,
           -1.5592591979967738,
           -1.6133463199279878,
           -1.667433441859202,
           -1.7215205637904163,
           -1.7756076857216303,
           -1.8296948076528445,
           -1.8837819295840588,
           -1.9378690515152728,
           -1.991956173446487,
           -2.046043295377701,
           -2.100130417308915,
           -2.154217539240129,
           -2.208304661171343,
           -2.262391783102558,
           -2.3164789050337715,
           -2.3705660269649855,
           -2.4246531488962,
           -2.478740270827414,
           -2.532827392758628,
           -2.586914514689842
          ],
          [
           -0.8645913634450839,
           -0.9186784853762979,
           -0.972765607307512,
           -1.0268527292387262,
           -1.0809398511699404,
           -1.1350269731011544,
           -1.1891140950323686,
           -1.2432012169635829,
           -1.2972883388947969,
           -1.351375460826011,
           -1.4054625827572251,
           -1.4595497046884391,
           -1.5136368266196532,
           -1.5677239485508674,
           -1.6218110704820816,
           -1.6758981924132956,
           -1.7299853143445099,
           -1.784072436275724,
           -1.838159558206938,
           -1.8922466801381523,
           -1.9463338020693666,
           -2.00042092400058,
           -2.0545080459317946,
           -2.1085951678630086,
           -2.1626822897942226,
           -2.216769411725437,
           -2.270856533656651,
           -2.324943655587865,
           -2.3790307775190795,
           -2.4331178994502936
          ],
          [
           -0.7107947482055347,
           -0.7648818701367487,
           -0.8189689920679629,
           -0.873056113999177,
           -0.9271432359303912,
           -0.9812303578616053,
           -1.0353174797928195,
           -1.0894046017240335,
           -1.1434917236552475,
           -1.1975788455864618,
           -1.251665967517676,
           -1.30575308944889,
           -1.359840211380104,
           -1.4139273333113183,
           -1.4680144552425323,
           -1.5221015771737465,
           -1.5761886991049607,
           -1.6302758210361747,
           -1.684362942967389,
           -1.7384500648986032,
           -1.7925371868298172,
           -1.846624308761031,
           -1.9007114306922452,
           -1.9547985526234595,
           -2.0088856745546737,
           -2.0629727964858877,
           -2.1170599184171017,
           -2.171147040348316,
           -2.22523416227953,
           -2.279321284210744
          ],
          [
           -0.5569981329659855,
           -0.6110852548971996,
           -0.6651723768284137,
           -0.7192594987596278,
           -0.773346620690842,
           -0.8274337426220562,
           -0.8815208645532703,
           -0.9356079864844845,
           -0.9896951084156984,
           -1.0437822303469126,
           -1.0978693522781267,
           -1.1519564742093409,
           -1.206043596140555,
           -1.2601307180717691,
           -1.3142178400029831,
           -1.3683049619341974,
           -1.4223920838654116,
           -1.4764792057966254,
           -1.5305663277278396,
           -1.584653449659054,
           -1.638740571590268,
           -1.6928276935214819,
           -1.7469148154526961,
           -1.8010019373839103,
           -1.8550890593151244,
           -1.9091761812463386,
           -1.9632633031775528,
           -2.017350425108767,
           -2.071437547039981,
           -2.1255246689711953
          ],
          [
           -0.40320151772643675,
           -0.4572886396576507,
           -0.5113757615888649,
           -0.565462883520079,
           -0.6195500054512932,
           -0.6736371273825074,
           -0.7277242493137214,
           -0.7818113712449356,
           -0.8358984931761496,
           -0.8899856151073637,
           -0.944072737038578,
           -0.9981598589697921,
           -1.052246980901006,
           -1.1063341028322202,
           -1.1604212247634345,
           -1.2145083466946485,
           -1.2685954686258627,
           -1.3226825905570767,
           -1.376769712488291,
           -1.4308568344195052,
           -1.4849439563507192,
           -1.5390310782819332,
           -1.5931182002131472,
           -1.6472053221443619,
           -1.7012924440755757,
           -1.7553795660067897,
           -1.809466687938004,
           -1.8635538098692181,
           -1.9176409318004322,
           -1.971728053731646
          ],
          [
           -0.24940490248688757,
           -0.3034920244181016,
           -0.3575791463493157,
           -0.4116662682805299,
           -0.465753390211744,
           -0.5198405121429581,
           -0.5739276340741722,
           -0.6280147560053864,
           -0.6821018779366005,
           -0.7361889998678146,
           -0.7902761217990287,
           -0.844363243730243,
           -0.8984503656614569,
           -0.9525374875926711,
           -1.0066246095238853,
           -1.0607117314550993,
           -1.1147988533863136,
           -1.1688859753175276,
           -1.2229730972487416,
           -1.277060219179956,
           -1.33114734111117,
           -1.3852344630423838,
           -1.4393215849735983,
           -1.4934087069048125,
           -1.5474958288360263,
           -1.6015829507672406,
           -1.6556700726984548,
           -1.7097571946296688,
           -1.763844316560883,
           -1.8179314384920968
          ],
          [
           -0.0956082872473384,
           -0.1496954091785524,
           -0.20378253110976655,
           -0.2578696530409807,
           -0.3119567749721949,
           -0.366043896903409,
           -0.42013101883462306,
           -0.47421814076583724,
           -0.5283052626970512,
           -0.5823923846282655,
           -0.6364795065594796,
           -0.6905666284906937,
           -0.7446537504219078,
           -0.7987408723531219,
           -0.8528279942843361,
           -0.9069151162155502,
           -0.9610022381467643,
           -1.0150893600779785,
           -1.0691764820091925,
           -1.123263603940407,
           -1.1773507258716207,
           -1.2314378478028347,
           -1.2855249697340492,
           -1.3396120916652632,
           -1.3936992135964772,
           -1.4477863355276914,
           -1.5018734574589057,
           -1.5559605793901197,
           -1.610047701321334,
           -1.6641348232525477
          ],
          [
           0.058188327992210416,
           0.004101206060996433,
           -0.04998591587021772,
           -0.10407303780143187,
           -0.15816015973264602,
           -0.2122472816638602,
           -0.26633440359507426,
           -0.3204215255262884,
           -0.37450864745750245,
           -0.42859576938871663,
           -0.4826828913199308,
           -0.5367700132511449,
           -0.590857135182359,
           -0.6449442571135731,
           -0.6990313790447872,
           -0.7531185009760014,
           -0.8072056229072155,
           -0.8612927448384295,
           -0.9153798667696437,
           -0.969466988700858,
           -1.023554110632072,
           -1.077641232563286,
           -1.1317283544945003,
           -1.1858154764257145,
           -1.2399025983569285,
           -1.2939897202881425,
           -1.3480768422193568,
           -1.402163964150571,
           -1.456251086081785,
           -1.510338208012999
          ],
          [
           0.21198494323175932,
           0.15789782130054533,
           0.10381069936933118,
           0.049723577438117034,
           -0.004363544493097124,
           -0.05845066642431128,
           -0.11253778835552534,
           -0.1666249102867395,
           -0.22071203221795357,
           -0.2747991541491677,
           -0.32888627608038185,
           -0.38297339801159597,
           -0.4370605199428101,
           -0.49114764187402427,
           -0.5452347638052383,
           -0.5993218857364525,
           -0.6534090076676665,
           -0.7074961295988806,
           -0.7615832515300949,
           -0.815670373461309,
           -0.869757495392523,
           -0.9238446173237371,
           -0.9779317392549512,
           -1.0320188611861654,
           -1.0861059831173796,
           -1.1401931050485936,
           -1.1942802269798078,
           -1.248367348911022,
           -1.302454470842236,
           -1.35654159277345
          ],
          [
           0.36578155847130817,
           0.31169443654009416,
           0.25760731460888,
           0.20352019267766586,
           0.1494330707464517,
           0.09534594881523754,
           0.04125882688402347,
           -0.012828295047190682,
           -0.06691541697840475,
           -0.1210025389096189,
           -0.17508966084083302,
           -0.22917678277204717,
           -0.2832639047032613,
           -0.3373510266344754,
           -0.3914381485656895,
           -0.44552527049690366,
           -0.4996123924281177,
           -0.5536995143593318,
           -0.6077866362905461,
           -0.6618737582217602,
           -0.7159608801529742,
           -0.7700480020841883,
           -0.8241351240154025,
           -0.8782222459466167,
           -0.9323093678778308,
           -0.9863964898090448,
           -1.0404836117402592,
           -1.0945707336714732,
           -1.1486578556026872,
           -1.2027449775339012
          ],
          [
           0.5195781737108571,
           0.4654910517796432,
           0.411403929848429,
           0.3573168079172148,
           0.3032296859860007,
           0.24914256405478655,
           0.19505544212357245,
           0.1409683201923583,
           0.08688119826114424,
           0.03279407632993009,
           -0.021293045601284023,
           -0.07538016753249818,
           -0.12946728946371228,
           -0.1835544113949264,
           -0.23764153332614052,
           -0.29172865525735464,
           -0.34581577718856876,
           -0.39990289911978283,
           -0.45399002105099706,
           -0.5080771429822112,
           -0.5621642649134253,
           -0.6162513868446393,
           -0.6703385087758534,
           -0.7244256307070678,
           -0.7785127526382818,
           -0.8325998745694958,
           -0.8866869965007099,
           -0.9407741184319243,
           -0.9948612403631383,
           -1.0489483622943523
          ],
          [
           0.6733747889504065,
           0.6192876670191925,
           0.5652005450879783,
           0.5111134231567642,
           0.45702630122555005,
           0.40293917929433587,
           0.3488520573631218,
           0.2947649354319076,
           0.2406778135006936,
           0.18659069156947944,
           0.13250356963826532,
           0.07841644770705117,
           0.024329325775837053,
           -0.029757796155377058,
           -0.0838449180865912,
           -0.13793204001780532,
           -0.19201916194901944,
           -0.24610628388023345,
           -0.3001934058114477,
           -0.3542805277426619,
           -0.4083676496738759,
           -0.46245477160508996,
           -0.5165418935363042,
           -0.5706290154675184,
           -0.6247161373987324,
           -0.6788032593299465,
           -0.7328903812611607,
           -0.7869775031923749,
           -0.8410646251235889,
           -0.8951517470548029
          ],
          [
           0.8271714041899557,
           0.7730842822587417,
           0.7189971603275276,
           0.6649100383963135,
           0.6108229164650992,
           0.5567357945338851,
           0.5026486726026711,
           0.4485615506714569,
           0.39447442874024286,
           0.3403873068090287,
           0.28630018487781456,
           0.2322130629466004,
           0.1781259410153863,
           0.12403881908417219,
           0.06995169715295807,
           0.01586457522174393,
           -0.03822254670947018,
           -0.09230966864068421,
           -0.14639679057189842,
           -0.20048391250311265,
           -0.25457103443432666,
           -0.30865815636554067,
           -0.36274527829675496,
           -0.41683240022796914,
           -0.4709195221591831,
           -0.5250066440903972,
           -0.5790937660216114,
           -0.6331808879528257,
           -0.6872680098840397,
           -0.7413551318152537
          ],
          [
           0.9809680194295041,
           0.9268808974982901,
           0.8727937755670759,
           0.8187066536358617,
           0.7646195317046476,
           0.7105324097734335,
           0.6564452878422193,
           0.6023581659110052,
           0.5482710439797911,
           0.494183922048577,
           0.44009680011736285,
           0.38600967818614873,
           0.3319225562549346,
           0.2778354343237205,
           0.2237483123925064,
           0.16966119046129222,
           0.11557406853007812,
           0.061486946598864084,
           0.007399824667649873,
           -0.04668729726356435,
           -0.10077441919477838,
           -0.1548615411259924,
           -0.20894866305720664,
           -0.26303578498842084,
           -0.31712290691963485,
           -0.37121002885084886,
           -0.42529715078206315,
           -0.4793842727132774,
           -0.5334713946444913,
           -0.5875585165757055
          ]
         ]
        },
        {
         "line": {
          "width": 6
         },
         "marker": {
          "size": 1
         },
         "showlegend": false,
         "type": "scatter3d",
         "x": [
          -0.9540985237729442,
          1.0886069635296567
         ],
         "y": [
          -11.521798412170888,
          -2.7840354410397934
         ],
         "z": [
          1.0395050807158799,
          5.249729397840946
         ]
        },
        {
         "line": {
          "width": 6
         },
         "marker": {
          "size": 1
         },
         "showlegend": false,
         "type": "scatter3d",
         "x": [
          -0.423953950089518,
          -0.2185825626940956
         ],
         "y": [
          -2.679734533092661,
          0.559009469644171
         ],
         "z": [
          -2.7290821665268874,
          -1.0540988103823976
         ]
        },
        {
         "line": {
          "width": 6
         },
         "marker": {
          "size": 1
         },
         "showlegend": false,
         "type": "scatter3d",
         "x": [
          -0.8996299869449244,
          1.1154934229005067
         ],
         "y": [
          -9.698610632187053,
          -2.8527956623871047
         ],
         "z": [
          2.1667810560691363,
          5.37938742951967
         ]
        }
       ],
       "layout": {
        "autosize": true,
        "height": 800,
        "margin": {
         "b": 10,
         "l": 10,
         "pad": 4,
         "r": 10,
         "t": 10
        },
        "paper_bgcolor": "White",
        "scene": {
         "aspectmode": "data",
         "aspectratio": {
          "x": 0.6950484336900856,
          "y": 1.310521000301397,
          "z": 1.0978447929630384
         },
         "camera": {
          "center": {
           "x": 0,
           "y": 0,
           "z": 0
          },
          "eye": {
           "x": 7.479278512694614e-17,
           "y": 7.479278512694614e-17,
           "z": -1.7274037080377331
          },
          "projection": {
           "type": "perspective"
          },
          "up": {
           "x": 0,
           "y": 0,
           "z": 1
          }
         }
        },
        "template": {
         "data": {
          "bar": [
           {
            "error_x": {
             "color": "#2a3f5f"
            },
            "error_y": {
             "color": "#2a3f5f"
            },
            "marker": {
             "line": {
              "color": "#E5ECF6",
              "width": 0.5
             }
            },
            "type": "bar"
           }
          ],
          "barpolar": [
           {
            "marker": {
             "line": {
              "color": "#E5ECF6",
              "width": 0.5
             }
            },
            "type": "barpolar"
           }
          ],
          "carpet": [
           {
            "aaxis": {
             "endlinecolor": "#2a3f5f",
             "gridcolor": "white",
             "linecolor": "white",
             "minorgridcolor": "white",
             "startlinecolor": "#2a3f5f"
            },
            "baxis": {
             "endlinecolor": "#2a3f5f",
             "gridcolor": "white",
             "linecolor": "white",
             "minorgridcolor": "white",
             "startlinecolor": "#2a3f5f"
            },
            "type": "carpet"
           }
          ],
          "choropleth": [
           {
            "colorbar": {
             "outlinewidth": 0,
             "ticks": ""
            },
            "type": "choropleth"
           }
          ],
          "contour": [
           {
            "colorbar": {
             "outlinewidth": 0,
             "ticks": ""
            },
            "colorscale": [
             [
              0,
              "#0d0887"
             ],
             [
              0.1111111111111111,
              "#46039f"
             ],
             [
              0.2222222222222222,
              "#7201a8"
             ],
             [
              0.3333333333333333,
              "#9c179e"
             ],
             [
              0.4444444444444444,
              "#bd3786"
             ],
             [
              0.5555555555555556,
              "#d8576b"
             ],
             [
              0.6666666666666666,
              "#ed7953"
             ],
             [
              0.7777777777777778,
              "#fb9f3a"
             ],
             [
              0.8888888888888888,
              "#fdca26"
             ],
             [
              1,
              "#f0f921"
             ]
            ],
            "type": "contour"
           }
          ],
          "contourcarpet": [
           {
            "colorbar": {
             "outlinewidth": 0,
             "ticks": ""
            },
            "type": "contourcarpet"
           }
          ],
          "heatmap": [
           {
            "colorbar": {
             "outlinewidth": 0,
             "ticks": ""
            },
            "colorscale": [
             [
              0,
              "#0d0887"
             ],
             [
              0.1111111111111111,
              "#46039f"
             ],
             [
              0.2222222222222222,
              "#7201a8"
             ],
             [
              0.3333333333333333,
              "#9c179e"
             ],
             [
              0.4444444444444444,
              "#bd3786"
             ],
             [
              0.5555555555555556,
              "#d8576b"
             ],
             [
              0.6666666666666666,
              "#ed7953"
             ],
             [
              0.7777777777777778,
              "#fb9f3a"
             ],
             [
              0.8888888888888888,
              "#fdca26"
             ],
             [
              1,
              "#f0f921"
             ]
            ],
            "type": "heatmap"
           }
          ],
          "heatmapgl": [
           {
            "colorbar": {
             "outlinewidth": 0,
             "ticks": ""
            },
            "colorscale": [
             [
              0,
              "#0d0887"
             ],
             [
              0.1111111111111111,
              "#46039f"
             ],
             [
              0.2222222222222222,
              "#7201a8"
             ],
             [
              0.3333333333333333,
              "#9c179e"
             ],
             [
              0.4444444444444444,
              "#bd3786"
             ],
             [
              0.5555555555555556,
              "#d8576b"
             ],
             [
              0.6666666666666666,
              "#ed7953"
             ],
             [
              0.7777777777777778,
              "#fb9f3a"
             ],
             [
              0.8888888888888888,
              "#fdca26"
             ],
             [
              1,
              "#f0f921"
             ]
            ],
            "type": "heatmapgl"
           }
          ],
          "histogram": [
           {
            "marker": {
             "colorbar": {
              "outlinewidth": 0,
              "ticks": ""
             }
            },
            "type": "histogram"
           }
          ],
          "histogram2d": [
           {
            "colorbar": {
             "outlinewidth": 0,
             "ticks": ""
            },
            "colorscale": [
             [
              0,
              "#0d0887"
             ],
             [
              0.1111111111111111,
              "#46039f"
             ],
             [
              0.2222222222222222,
              "#7201a8"
             ],
             [
              0.3333333333333333,
              "#9c179e"
             ],
             [
              0.4444444444444444,
              "#bd3786"
             ],
             [
              0.5555555555555556,
              "#d8576b"
             ],
             [
              0.6666666666666666,
              "#ed7953"
             ],
             [
              0.7777777777777778,
              "#fb9f3a"
             ],
             [
              0.8888888888888888,
              "#fdca26"
             ],
             [
              1,
              "#f0f921"
             ]
            ],
            "type": "histogram2d"
           }
          ],
          "histogram2dcontour": [
           {
            "colorbar": {
             "outlinewidth": 0,
             "ticks": ""
            },
            "colorscale": [
             [
              0,
              "#0d0887"
             ],
             [
              0.1111111111111111,
              "#46039f"
             ],
             [
              0.2222222222222222,
              "#7201a8"
             ],
             [
              0.3333333333333333,
              "#9c179e"
             ],
             [
              0.4444444444444444,
              "#bd3786"
             ],
             [
              0.5555555555555556,
              "#d8576b"
             ],
             [
              0.6666666666666666,
              "#ed7953"
             ],
             [
              0.7777777777777778,
              "#fb9f3a"
             ],
             [
              0.8888888888888888,
              "#fdca26"
             ],
             [
              1,
              "#f0f921"
             ]
            ],
            "type": "histogram2dcontour"
           }
          ],
          "mesh3d": [
           {
            "colorbar": {
             "outlinewidth": 0,
             "ticks": ""
            },
            "type": "mesh3d"
           }
          ],
          "parcoords": [
           {
            "line": {
             "colorbar": {
              "outlinewidth": 0,
              "ticks": ""
             }
            },
            "type": "parcoords"
           }
          ],
          "pie": [
           {
            "automargin": true,
            "type": "pie"
           }
          ],
          "scatter": [
           {
            "marker": {
             "colorbar": {
              "outlinewidth": 0,
              "ticks": ""
             }
            },
            "type": "scatter"
           }
          ],
          "scatter3d": [
           {
            "line": {
             "colorbar": {
              "outlinewidth": 0,
              "ticks": ""
             }
            },
            "marker": {
             "colorbar": {
              "outlinewidth": 0,
              "ticks": ""
             }
            },
            "type": "scatter3d"
           }
          ],
          "scattercarpet": [
           {
            "marker": {
             "colorbar": {
              "outlinewidth": 0,
              "ticks": ""
             }
            },
            "type": "scattercarpet"
           }
          ],
          "scattergeo": [
           {
            "marker": {
             "colorbar": {
              "outlinewidth": 0,
              "ticks": ""
             }
            },
            "type": "scattergeo"
           }
          ],
          "scattergl": [
           {
            "marker": {
             "colorbar": {
              "outlinewidth": 0,
              "ticks": ""
             }
            },
            "type": "scattergl"
           }
          ],
          "scattermapbox": [
           {
            "marker": {
             "colorbar": {
              "outlinewidth": 0,
              "ticks": ""
             }
            },
            "type": "scattermapbox"
           }
          ],
          "scatterpolar": [
           {
            "marker": {
             "colorbar": {
              "outlinewidth": 0,
              "ticks": ""
             }
            },
            "type": "scatterpolar"
           }
          ],
          "scatterpolargl": [
           {
            "marker": {
             "colorbar": {
              "outlinewidth": 0,
              "ticks": ""
             }
            },
            "type": "scatterpolargl"
           }
          ],
          "scatterternary": [
           {
            "marker": {
             "colorbar": {
              "outlinewidth": 0,
              "ticks": ""
             }
            },
            "type": "scatterternary"
           }
          ],
          "surface": [
           {
            "colorbar": {
             "outlinewidth": 0,
             "ticks": ""
            },
            "colorscale": [
             [
              0,
              "#0d0887"
             ],
             [
              0.1111111111111111,
              "#46039f"
             ],
             [
              0.2222222222222222,
              "#7201a8"
             ],
             [
              0.3333333333333333,
              "#9c179e"
             ],
             [
              0.4444444444444444,
              "#bd3786"
             ],
             [
              0.5555555555555556,
              "#d8576b"
             ],
             [
              0.6666666666666666,
              "#ed7953"
             ],
             [
              0.7777777777777778,
              "#fb9f3a"
             ],
             [
              0.8888888888888888,
              "#fdca26"
             ],
             [
              1,
              "#f0f921"
             ]
            ],
            "type": "surface"
           }
          ],
          "table": [
           {
            "cells": {
             "fill": {
              "color": "#EBF0F8"
             },
             "line": {
              "color": "white"
             }
            },
            "header": {
             "fill": {
              "color": "#C8D4E3"
             },
             "line": {
              "color": "white"
             }
            },
            "type": "table"
           }
          ]
         },
         "layout": {
          "annotationdefaults": {
           "arrowcolor": "#2a3f5f",
           "arrowhead": 0,
           "arrowwidth": 1
          },
          "autotypenumbers": "strict",
          "coloraxis": {
           "colorbar": {
            "outlinewidth": 0,
            "ticks": ""
           }
          },
          "colorscale": {
           "diverging": [
            [
             0,
             "#8e0152"
            ],
            [
             0.1,
             "#c51b7d"
            ],
            [
             0.2,
             "#de77ae"
            ],
            [
             0.3,
             "#f1b6da"
            ],
            [
             0.4,
             "#fde0ef"
            ],
            [
             0.5,
             "#f7f7f7"
            ],
            [
             0.6,
             "#e6f5d0"
            ],
            [
             0.7,
             "#b8e186"
            ],
            [
             0.8,
             "#7fbc41"
            ],
            [
             0.9,
             "#4d9221"
            ],
            [
             1,
             "#276419"
            ]
           ],
           "sequential": [
            [
             0,
             "#0d0887"
            ],
            [
             0.1111111111111111,
             "#46039f"
            ],
            [
             0.2222222222222222,
             "#7201a8"
            ],
            [
             0.3333333333333333,
             "#9c179e"
            ],
            [
             0.4444444444444444,
             "#bd3786"
            ],
            [
             0.5555555555555556,
             "#d8576b"
            ],
            [
             0.6666666666666666,
             "#ed7953"
            ],
            [
             0.7777777777777778,
             "#fb9f3a"
            ],
            [
             0.8888888888888888,
             "#fdca26"
            ],
            [
             1,
             "#f0f921"
            ]
           ],
           "sequentialminus": [
            [
             0,
             "#0d0887"
            ],
            [
             0.1111111111111111,
             "#46039f"
            ],
            [
             0.2222222222222222,
             "#7201a8"
            ],
            [
             0.3333333333333333,
             "#9c179e"
            ],
            [
             0.4444444444444444,
             "#bd3786"
            ],
            [
             0.5555555555555556,
             "#d8576b"
            ],
            [
             0.6666666666666666,
             "#ed7953"
            ],
            [
             0.7777777777777778,
             "#fb9f3a"
            ],
            [
             0.8888888888888888,
             "#fdca26"
            ],
            [
             1,
             "#f0f921"
            ]
           ]
          },
          "colorway": [
           "#636efa",
           "#EF553B",
           "#00cc96",
           "#ab63fa",
           "#FFA15A",
           "#19d3f3",
           "#FF6692",
           "#B6E880",
           "#FF97FF",
           "#FECB52"
          ],
          "font": {
           "color": "#2a3f5f"
          },
          "geo": {
           "bgcolor": "white",
           "lakecolor": "white",
           "landcolor": "#E5ECF6",
           "showlakes": true,
           "showland": true,
           "subunitcolor": "white"
          },
          "hoverlabel": {
           "align": "left"
          },
          "hovermode": "closest",
          "mapbox": {
           "style": "light"
          },
          "paper_bgcolor": "white",
          "plot_bgcolor": "#E5ECF6",
          "polar": {
           "angularaxis": {
            "gridcolor": "white",
            "linecolor": "white",
            "ticks": ""
           },
           "bgcolor": "#E5ECF6",
           "radialaxis": {
            "gridcolor": "white",
            "linecolor": "white",
            "ticks": ""
           }
          },
          "scene": {
           "xaxis": {
            "backgroundcolor": "#E5ECF6",
            "gridcolor": "white",
            "gridwidth": 2,
            "linecolor": "white",
            "showbackground": true,
            "ticks": "",
            "zerolinecolor": "white"
           },
           "yaxis": {
            "backgroundcolor": "#E5ECF6",
            "gridcolor": "white",
            "gridwidth": 2,
            "linecolor": "white",
            "showbackground": true,
            "ticks": "",
            "zerolinecolor": "white"
           },
           "zaxis": {
            "backgroundcolor": "#E5ECF6",
            "gridcolor": "white",
            "gridwidth": 2,
            "linecolor": "white",
            "showbackground": true,
            "ticks": "",
            "zerolinecolor": "white"
           }
          },
          "shapedefaults": {
           "line": {
            "color": "#2a3f5f"
           }
          },
          "ternary": {
           "aaxis": {
            "gridcolor": "white",
            "linecolor": "white",
            "ticks": ""
           },
           "baxis": {
            "gridcolor": "white",
            "linecolor": "white",
            "ticks": ""
           },
           "bgcolor": "#E5ECF6",
           "caxis": {
            "gridcolor": "white",
            "linecolor": "white",
            "ticks": ""
           }
          },
          "title": {
           "x": 0.05
          },
          "xaxis": {
           "automargin": true,
           "gridcolor": "white",
           "linecolor": "white",
           "ticks": "",
           "title": {
            "standoff": 15
           },
           "zerolinecolor": "white",
           "zerolinewidth": 2
          },
          "yaxis": {
           "automargin": true,
           "gridcolor": "white",
           "linecolor": "white",
           "ticks": "",
           "title": {
            "standoff": 15
           },
           "zerolinecolor": "white",
           "zerolinewidth": 2
          }
         }
        },
        "width": 1000
       }
      },
      "image/png": "[encoded data removed]",
      "text/html": [
       "<div>                            <div id=\"1aeb11f2-af68-4d1b-8986-54d5caad8a0a\" class=\"plotly-graph-div\" style=\"height:800px; width:1000px;\"></div>            <script type=\"text/javascript\">                require([\"plotly\"], function(Plotly) {                    window.PLOTLYENV=window.PLOTLYENV || {};                                    if (document.getElementById(\"1aeb11f2-af68-4d1b-8986-54d5caad8a0a\")) {                    Plotly.newPlot(                        \"1aeb11f2-af68-4d1b-8986-54d5caad8a0a\",                        [{\"marker\": {\"color\": \"black\", \"line\": {\"width\": 0}, \"size\": 3}, \"mode\": \"markers\", \"name\": \"origin\", \"type\": \"scatter3d\", \"x\": [0], \"y\": [0], \"z\": [0]}, {\"marker\": {\"color\": \"yellow\", \"line\": {\"width\": 0}, \"size\": 2}, \"mode\": \"markers\", \"name\": \"plane_offset\", \"type\": \"scatter3d\", \"x\": [0.10457578967164101], \"y\": [-0.2674451978302454], \"z\": [0.5043092830874485]}, {\"line\": {\"width\": 6}, \"marker\": {\"size\": 1}, \"name\": \"plane_normal\", \"type\": \"scatter3d\", \"x\": [1.2543301444917052, -0.8294569562516512], \"y\": [-3.2078607743852983, 2.1212775964010087], \"z\": [6.048917611904286, -3.99999698087485]}, {\"marker\": {\"color\": \"blue\", \"line\": {\"width\": 0}, \"size\": 2}, \"mode\": \"markers\", \"name\": \"4.520043180327407\", \"showlegend\": false, \"type\": \"scatter3d\", \"x\": [0.042014020706258925], \"y\": [-1.2900146220721205], \"z\": [-3.847531434638628]}, {\"marker\": {\"color\": \"blue\", \"line\": {\"width\": 0}, \"size\": 3}, \"mode\": \"markers\", \"name\": \"d=1.5948668273611442\", \"type\": \"scatter3d\", \"x\": [-2.1339951601259597], \"y\": [-1.9049146279088631], \"z\": [-1.2486254908114804]}, {\"line\": {\"width\": 6}, \"marker\": {\"size\": 1}, \"name\": \"^ len_d\", \"type\": \"scatter3d\", \"x\": [-2.1339951601259597, -1.922792218043225], \"y\": [-1.9049146279088631, -2.4450512389256724], \"z\": [-1.2486254908114804, -0.23011437421230363]}, {\"line\": {\"width\": 6}, \"marker\": {\"size\": 1}, \"name\": \"^ proj\", \"type\": \"scatter3d\", \"x\": [-2.1339951601259597, -0.10662715241109344], \"y\": [-1.9049146279088631, 0.2726914131865635], \"z\": [-1.2486254908114804, -0.5142018335117281]}, {\"marker\": {\"color\": \"blue\", \"line\": {\"width\": 0}, \"size\": 2}, \"mode\": \"markers\", \"name\": \"3.7301114747651614\", \"showlegend\": false, \"type\": \"scatter3d\", \"x\": [-2.6435542503000073], \"y\": [-2.2908149558331123], \"z\": [-3.153352381649631]}, {\"marker\": {\"color\": \"red\", \"line\": {\"width\": 0}, \"size\": 2}, \"mode\": \"markers\", \"name\": \"-5.746269417153646\", \"showlegend\": false, \"type\": \"scatter3d\", \"x\": [-1.8403364633977217], \"y\": [-10.383721431512676], \"z\": [0.40227728210473745]}, {\"marker\": {\"color\": \"red\", \"line\": {\"width\": 0}, \"size\": 2}, \"mode\": \"markers\", \"name\": \"-5.607710401000097\", \"showlegend\": false, \"type\": \"scatter3d\", \"x\": [-1.6157792956837722], \"y\": [-8.870134583868456], \"z\": [1.0412201494423712]}, {\"marker\": {\"color\": \"blue\", \"line\": {\"width\": 0}, \"size\": 2}, \"mode\": \"markers\", \"name\": \"2.4661894657309054\", \"showlegend\": false, \"type\": \"scatter3d\", \"x\": [-1.608169583290394], \"y\": [-2.1863995411328263], \"z\": [-2.243803012204535]}, {\"marker\": {\"color\": \"blue\", \"line\": {\"width\": 0}, \"size\": 2}, \"mode\": \"markers\", \"name\": \"3.8377358309711513\", \"showlegend\": false, \"type\": \"scatter3d\", \"x\": [-1.7225654661443077], \"y\": [-0.8964459786387888], \"z\": [-2.695887307645588]}, {\"marker\": {\"color\": \"red\", \"line\": {\"width\": 0}, \"size\": 2}, \"mode\": \"markers\", \"name\": \"-3.808033542186939\", \"showlegend\": false, \"type\": \"scatter3d\", \"x\": [-0.771705714476493], \"y\": [-9.265359357178491], \"z\": [-0.8653628285493147]}, {\"marker\": {\"color\": \"blue\", \"line\": {\"width\": 0}, \"size\": 2}, \"mode\": \"markers\", \"name\": \"3.673811098434451\", \"showlegend\": false, \"type\": \"scatter3d\", \"x\": [-0.67133173316653], \"y\": [-0.6318620134069913], \"z\": [-2.6349332327557478]}, {\"marker\": {\"color\": \"blue\", \"line\": {\"width\": 0}, \"size\": 2}, \"mode\": \"markers\", \"name\": \"3.4460669661477454\", \"showlegend\": false, \"type\": \"scatter3d\", \"x\": [-1.59821873248412], \"y\": [-1.752368088371606], \"z\": [-2.8443570200998987]}, {\"marker\": {\"color\": \"red\", \"line\": {\"width\": 0}, \"size\": 2}, \"mode\": \"markers\", \"name\": \"-7.271888086608113\", \"showlegend\": false, \"type\": \"scatter3d\", \"x\": [-1.876261656966392], \"y\": [-9.500605859963326], \"z\": [2.1682507770744737]}, {\"marker\": {\"color\": \"red\", \"line\": {\"width\": 0}, \"size\": 2}, \"mode\": \"markers\", \"name\": \"-6.0207701821870785\", \"showlegend\": false, \"type\": \"scatter3d\", \"x\": [1.3051929109046245], \"y\": [-7.646142640577349], \"z\": [1.4339394299892925]}, {\"marker\": {\"color\": \"blue\", \"line\": {\"width\": 0}, \"size\": 2}, \"mode\": \"markers\", \"name\": \"3.4031892912755457\", \"showlegend\": false, \"type\": \"scatter3d\", \"x\": [-0.5586674798935111], \"y\": [-2.6540097021810576], \"z\": [-3.501820403841502]}, {\"marker\": {\"color\": \"blue\", \"line\": {\"width\": 0}, \"size\": 2}, \"mode\": \"markers\", \"name\": \"3.4983529503993553\", \"showlegend\": false, \"type\": \"scatter3d\", \"x\": [-0.5370500045819107], \"y\": [-1.3512043294085272], \"z\": [-2.8958779309977802]}, {\"marker\": {\"color\": \"blue\", \"line\": {\"width\": 0}, \"size\": 2}, \"mode\": \"markers\", \"name\": \"5.3994714778214785\", \"showlegend\": false, \"type\": \"scatter3d\", \"x\": [-2.4278706306650815], \"y\": [-2.3000648458140063], \"z\": [-4.614732745018286]}, {\"marker\": {\"color\": \"red\", \"line\": {\"width\": 0}, \"size\": 2}, \"mode\": \"markers\", \"name\": \"-8.15843864720857\", \"showlegend\": false, \"type\": \"scatter3d\", \"x\": [-2.189109572086774], \"y\": [-8.930021318895749], \"z\": [3.2854575703891404]}, {\"marker\": {\"color\": \"red\", \"line\": {\"width\": 0}, \"size\": 2}, \"mode\": \"markers\", \"name\": \"-7.36531065462541\", \"showlegend\": false, \"type\": \"scatter3d\", \"x\": [-1.2385625641615214], \"y\": [-10.599400808555691], \"z\": [1.5323078781549717]}, {\"marker\": {\"color\": \"red\", \"line\": {\"width\": 0}, \"size\": 3}, \"mode\": \"markers\", \"name\": \"d=-1.6723655973809843\", \"type\": \"scatter3d\", \"x\": [-1.5491589173759384], \"y\": [-7.250108574555569], \"z\": [-1.4415180189468613]}, {\"line\": {\"width\": 6}, \"marker\": {\"size\": 1}, \"name\": \"^ len_d\", \"type\": \"scatter3d\", \"x\": [-1.5491589173759384, -1.770624765398641], \"y\": [-7.250108574555569, -6.683725306276632], \"z\": [-1.4415180189468613, -2.509521267073141]}, {\"line\": {\"width\": 6}, \"marker\": {\"size\": 1}, \"name\": \"^ proj\", \"type\": \"scatter3d\", \"x\": [-1.5491589173759384, 0.32604163769434413], \"y\": [-7.250108574555569, -0.8338284661091839], \"z\": [-1.4415180189468613, 1.5723125312137283]}, {\"marker\": {\"color\": \"blue\", \"line\": {\"width\": 0}, \"size\": 2}, \"mode\": \"markers\", \"name\": \"3.191816930444848\", \"showlegend\": false, \"type\": \"scatter3d\", \"x\": [-1.6580312392471215], \"y\": [-2.4686234359156143], \"z\": [-2.9967834212358087]}, {\"marker\": {\"color\": \"red\", \"line\": {\"width\": 0}, \"size\": 2}, \"mode\": \"markers\", \"name\": \"-5.6698748864836235\", \"showlegend\": false, \"type\": \"scatter3d\", \"x\": [-0.777220540001882], \"y\": [-10.726763450049406], \"z\": [-0.06470266128815605]}, {\"marker\": {\"color\": \"blue\", \"line\": {\"width\": 0}, \"size\": 2}, \"mode\": \"markers\", \"name\": \"3.9586276241276885\", \"showlegend\": false, \"type\": \"scatter3d\", \"x\": [-0.2077457436123662], \"y\": [-0.6904645628096294], \"z\": [-3.0030071301117554]}, {\"marker\": {\"color\": \"red\", \"line\": {\"width\": 0}, \"size\": 2}, \"mode\": \"markers\", \"name\": \"-2.447547219033136\", \"showlegend\": false, \"type\": \"scatter3d\", \"x\": [-2.208993881683744], \"y\": [-6.931037127562513], \"z\": [-0.4799236902257027]}, {\"marker\": {\"color\": \"red\", \"line\": {\"width\": 0}, \"size\": 2}, \"mode\": \"markers\", \"name\": \"-6.94126085902746\", \"showlegend\": false, \"type\": \"scatter3d\", \"x\": [-2.1092372461747035], \"y\": [-9.393765145033843], \"z\": [1.993615444124878]}, {\"marker\": {\"color\": \"blue\", \"line\": {\"width\": 0}, \"size\": 2}, \"mode\": \"markers\", \"name\": \"4.784621043253303\", \"showlegend\": false, \"type\": \"scatter3d\", \"x\": [-0.3180427354058979], \"y\": [-1.4010703116424414], \"z\": [-4.0555125917167665]}, {\"marker\": {\"color\": \"blue\", \"line\": {\"width\": 0}, \"size\": 2}, \"mode\": \"markers\", \"name\": \"3.301055347674373\", \"showlegend\": false, \"type\": \"scatter3d\", \"x\": [-1.7618984071926949], \"y\": [-2.8473642653630744], \"z\": [-3.268479933536673]}, {\"marker\": {\"color\": \"red\", \"line\": {\"width\": 0}, \"size\": 2}, \"mode\": \"markers\", \"name\": \"-5.950034939895257\", \"showlegend\": false, \"type\": \"scatter3d\", \"x\": [-1.6994184393126137], \"y\": [-9.613804261878917], \"z\": [0.9536793178805771]}, {\"marker\": {\"color\": \"red\", \"line\": {\"width\": 0}, \"size\": 2}, \"mode\": \"markers\", \"name\": \"-7.633790431761978\", \"showlegend\": false, \"type\": \"scatter3d\", \"x\": [-0.8996299869449244], \"y\": [-9.698610632187053], \"z\": [2.1667810560691363]}, {\"marker\": {\"color\": \"red\", \"line\": {\"width\": 0}, \"size\": 3}, \"mode\": \"markers\", \"name\": \"d=-8.682194774532155\", \"type\": \"scatter3d\", \"x\": [0.1265942845014456], \"y\": [-11.219434867826742], \"z\": [2.0340735109649115]}, {\"line\": {\"width\": 6}, \"marker\": {\"size\": 1}, \"name\": \"^ len_d\", \"type\": \"scatter3d\", \"x\": [0.1265942845014456, -1.023160070318618], \"y\": [-11.219434867826742, -8.279019291271691], \"z\": [2.0340735109649115, -3.510534817851924]}, {\"line\": {\"width\": 6}, \"marker\": {\"size\": 1}, \"name\": \"^ proj\", \"type\": \"scatter3d\", \"x\": [0.1265942845014456, 1.254330144491705], \"y\": [-11.219434867826742, -3.207860774385298], \"z\": [2.0340735109649115, 6.048917611904285]}, {\"marker\": {\"color\": \"blue\", \"line\": {\"width\": 0}, \"size\": 2}, \"mode\": \"markers\", \"name\": \"3.9211635107071623\", \"showlegend\": false, \"type\": \"scatter3d\", \"x\": [-3.2793979214271083], \"y\": [-1.2275904418093788], \"z\": [-2.6192215465178186]}, {\"marker\": {\"color\": \"red\", \"line\": {\"width\": 0}, \"size\": 2}, \"mode\": \"markers\", \"name\": \"-7.602785522843739\", \"showlegend\": false, \"type\": \"scatter3d\", \"x\": [-0.5448223810947223], \"y\": [-10.13472563123421], \"z\": [1.835705839145523]}, {\"marker\": {\"color\": \"red\", \"line\": {\"width\": 0}, \"size\": 2}, \"mode\": \"markers\", \"name\": \"-5.821788298079668\", \"showlegend\": false, \"type\": \"scatter3d\", \"x\": [-1.9993557985866022], \"y\": [-10.064889958021181], \"z\": [0.6681999291923968]}, {\"marker\": {\"color\": \"blue\", \"line\": {\"width\": 0}, \"size\": 2}, \"mode\": \"markers\", \"name\": \"4.245337484329041\", \"showlegend\": false, \"type\": \"scatter3d\", \"x\": [-0.6920363339672632], \"y\": [-1.58898446753575], \"z\": [-3.6215511381165517]}, {\"marker\": {\"color\": \"blue\", \"line\": {\"width\": 0}, \"size\": 2}, \"mode\": \"markers\", \"name\": \"5.022055793848303\", \"showlegend\": false, \"type\": \"scatter3d\", \"x\": [-0.2605230817068416], \"y\": [-1.9216463929509258], \"z\": [-4.544306524063666]}, {\"marker\": {\"color\": \"blue\", \"line\": {\"width\": 0}, \"size\": 2}, \"mode\": \"markers\", \"name\": \"2.3569094601796046\", \"showlegend\": false, \"type\": \"scatter3d\", \"x\": [-1.7200746184897326], \"y\": [-1.7407911494275212], \"z\": [-1.8918666646659397]}, {\"marker\": {\"color\": \"blue\", \"line\": {\"width\": 0}, \"size\": 2}, \"mode\": \"markers\", \"name\": \"2.001541893087348\", \"showlegend\": false, \"type\": \"scatter3d\", \"x\": [-0.5415872984195823], \"y\": [-2.5864049413688104], \"z\": [-2.2841602985608693]}, {\"marker\": {\"color\": \"blue\", \"line\": {\"width\": 0}, \"size\": 2}, \"mode\": \"markers\", \"name\": \"5.154909884588313\", \"showlegend\": false, \"type\": \"scatter3d\", \"x\": [-3.1439561214259393], \"y\": [-1.2621558942512991], \"z\": [-3.7089967902252914]}, {\"marker\": {\"color\": \"blue\", \"line\": {\"width\": 0}, \"size\": 2}, \"mode\": \"markers\", \"name\": \"1.805554632174816\", \"showlegend\": false, \"type\": \"scatter3d\", \"x\": [1.9861932534769364], \"y\": [-0.6217826382099462], \"z\": [-1.6007107275242336]}, {\"marker\": {\"color\": \"red\", \"line\": {\"width\": 0}, \"size\": 2}, \"mode\": \"markers\", \"name\": \"-6.669128293770831\", \"showlegend\": false, \"type\": \"scatter3d\", \"x\": [-0.7782447503786115], \"y\": [-10.325689067272036], \"z\": [0.993259319045779]}, {\"marker\": {\"color\": \"blue\", \"line\": {\"width\": 0}, \"size\": 2}, \"mode\": \"markers\", \"name\": \"4.968475456768714\", \"showlegend\": false, \"type\": \"scatter3d\", \"x\": [-2.354351183964895], \"y\": [-1.0009774375225404], \"z\": [-3.576560153702099]}, {\"marker\": {\"color\": \"blue\", \"line\": {\"width\": 0}, \"size\": 2}, \"mode\": \"markers\", \"name\": \"2.68864850988232\", \"showlegend\": false, \"type\": \"scatter3d\", \"x\": [0.5324423095002062], \"y\": [-3.306711369346252], \"z\": [-3.4699431439198865]}, {\"marker\": {\"color\": \"blue\", \"line\": {\"width\": 0}, \"size\": 2}, \"mode\": \"markers\", \"name\": \"5.755581190526039\", \"showlegend\": false, \"type\": \"scatter3d\", \"x\": [-0.7956119992676421], \"y\": [-1.4661397829437133], \"z\": [-4.812114131071052]}, {\"marker\": {\"color\": \"red\", \"line\": {\"width\": 0}, \"size\": 2}, \"mode\": \"markers\", \"name\": \"-7.373119192404048\", \"showlegend\": false, \"type\": \"scatter3d\", \"x\": [-1.9577775344879664], \"y\": [-10.920914390180792], \"z\": [1.5175459875845316]}, {\"marker\": {\"color\": \"red\", \"line\": {\"width\": 0}, \"size\": 2}, \"mode\": \"markers\", \"name\": \"-4.570804065579159\", \"showlegend\": false, \"type\": \"scatter3d\", \"x\": [-0.846605627083354], \"y\": [-8.203096133170305], \"z\": [0.35857025239482054]}, {\"marker\": {\"color\": \"red\", \"line\": {\"width\": 0}, \"size\": 2}, \"mode\": \"markers\", \"name\": \"-7.430761431631076\", \"showlegend\": false, \"type\": \"scatter3d\", \"x\": [-0.9540985237729442], \"y\": [-11.521798412170888], \"z\": [1.0395050807158799]}, {\"marker\": {\"color\": \"red\", \"line\": {\"width\": 0}, \"size\": 2}, \"mode\": \"markers\", \"name\": \"-7.419734272662946\", \"showlegend\": false, \"type\": \"scatter3d\", \"x\": [-1.167375452343276], \"y\": [-9.11103082677894], \"z\": [2.352883420246779]}, {\"marker\": {\"color\": \"red\", \"line\": {\"width\": 0}, \"size\": 2}, \"mode\": \"markers\", \"name\": \"-5.327678262008952\", \"showlegend\": false, \"type\": \"scatter3d\", \"x\": [-1.6189239231891213], \"y\": [-9.717659394294776], \"z\": [0.35559454508988164]}, {\"marker\": {\"color\": \"blue\", \"line\": {\"width\": 0}, \"size\": 2}, \"mode\": \"markers\", \"name\": \"1.8168213496851702\", \"showlegend\": false, \"type\": \"scatter3d\", \"x\": [2.815140476170738], \"y\": [-0.7715230809383078], \"z\": [-1.8615432636055613]}, {\"marker\": {\"color\": \"red\", \"line\": {\"width\": 0}, \"size\": 2}, \"mode\": \"markers\", \"name\": \"-6.435182102687568\", \"showlegend\": false, \"type\": \"scatter3d\", \"x\": [-2.467714243545209], \"y\": [-10.9026925907463], \"z\": [0.8397543618972337]}, {\"marker\": {\"color\": \"blue\", \"line\": {\"width\": 0}, \"size\": 2}, \"mode\": \"markers\", \"name\": \"3.2707341351347514\", \"showlegend\": false, \"type\": \"scatter3d\", \"x\": [-2.6111194173885], \"y\": [-3.6182375500848063], \"z\": [-3.4755489549556478]}, {\"marker\": {\"color\": \"blue\", \"line\": {\"width\": 0}, \"size\": 2}, \"mode\": \"markers\", \"name\": \"4.721323248905288\", \"showlegend\": false, \"type\": \"scatter3d\", \"x\": [-2.632141027502986], \"y\": [-0.4598978823168711], \"z\": [-3.0229987371752776]}, {\"marker\": {\"color\": \"blue\", \"line\": {\"width\": 0}, \"size\": 2}, \"mode\": \"markers\", \"name\": \"1.9401842858859835\", \"showlegend\": false, \"type\": \"scatter3d\", \"x\": [-0.27369741826522564], \"y\": [-3.07510943607289], \"z\": [-2.5469916880804377]}, {\"marker\": {\"color\": \"red\", \"line\": {\"width\": 0}, \"size\": 2}, \"mode\": \"markers\", \"name\": \"-7.112436713701606\", \"showlegend\": false, \"type\": \"scatter3d\", \"x\": [-0.8562772492940441], \"y\": [-8.682295368407159], \"z\": [2.255863220899003]}, {\"marker\": {\"color\": \"blue\", \"line\": {\"width\": 0}, \"size\": 2}, \"mode\": \"markers\", \"name\": \"3.1372052842325058\", \"showlegend\": false, \"type\": \"scatter3d\", \"x\": [0.5109244939452628], \"y\": [-1.4122341513386731], \"z\": [-2.8401393057647053]}, {\"marker\": {\"color\": \"blue\", \"line\": {\"width\": 0}, \"size\": 2}, \"mode\": \"markers\", \"name\": \"4.50995568370734\", \"showlegend\": false, \"type\": \"scatter3d\", \"x\": [-3.3631644102999134], \"y\": [-0.982499871843562], \"z\": [-2.9698066794796447]}, {\"marker\": {\"color\": \"red\", \"line\": {\"width\": 0}, \"size\": 2}, \"mode\": \"markers\", \"name\": \"-5.170151088168648\", \"showlegend\": false, \"type\": \"scatter3d\", \"x\": [-3.6237051481598868], \"y\": [-8.3199538727014], \"z\": [1.3793276051777774]}, {\"marker\": {\"color\": \"red\", \"line\": {\"width\": 0}, \"size\": 2}, \"mode\": \"markers\", \"name\": \"-5.9966614671057465\", \"showlegend\": false, \"type\": \"scatter3d\", \"x\": [-0.8982357230332279], \"y\": [-8.915199921999717], \"z\": [1.197457536488295]}, {\"marker\": {\"color\": \"red\", \"line\": {\"width\": 0}, \"size\": 2}, \"mode\": \"markers\", \"name\": \"-8.402566693184287\", \"showlegend\": false, \"type\": \"scatter3d\", \"x\": [-1.6839942264978642], \"y\": [-10.865994029978038], \"z\": [2.3604849815013074]}, {\"marker\": {\"color\": \"blue\", \"line\": {\"width\": 0}, \"size\": 2}, \"mode\": \"markers\", \"name\": \"1.6149042882652858\", \"showlegend\": false, \"type\": \"scatter3d\", \"x\": [-0.17566541418362114], \"y\": [-1.8668860471137454], \"z\": [-1.6514913914502833]}, {\"marker\": {\"color\": \"red\", \"line\": {\"width\": 0}, \"size\": 2}, \"mode\": \"markers\", \"name\": \"-7.238231465666265\", \"showlegend\": false, \"type\": \"scatter3d\", \"x\": [-0.5849823521129334], \"y\": [-11.514941909564786], \"z\": [0.8037802928618021]}, {\"marker\": {\"color\": \"red\", \"line\": {\"width\": 0}, \"size\": 2}, \"mode\": \"markers\", \"name\": \"-5.112430349512617\", \"showlegend\": false, \"type\": \"scatter3d\", \"x\": [-2.3015166876819912], \"y\": [-9.049079662462567], \"z\": [0.669669487497659]}, {\"marker\": {\"color\": \"red\", \"line\": {\"width\": 0}, \"size\": 2}, \"mode\": \"markers\", \"name\": \"-7.019927321413251\", \"showlegend\": false, \"type\": \"scatter3d\", \"x\": [-0.062216324103634424], \"y\": [-9.943480711595555], \"z\": [1.3441380516619292]}, {\"marker\": {\"color\": \"blue\", \"line\": {\"width\": 0}, \"size\": 2}, \"mode\": \"markers\", \"name\": \"3.768963868178418\", \"showlegend\": false, \"type\": \"scatter3d\", \"x\": [-0.7791814301690143], \"y\": [-0.7631855276368256], \"z\": [-2.7626816126453972]}, {\"marker\": {\"color\": \"blue\", \"line\": {\"width\": 0}, \"size\": 2}, \"mode\": \"markers\", \"name\": \"2.333745819891212\", \"showlegend\": false, \"type\": \"scatter3d\", \"x\": [-1.7410530238271087], \"y\": [-2.848071176596078], \"z\": [-2.4551399086483734]}, {\"marker\": {\"color\": \"blue\", \"line\": {\"width\": 0}, \"size\": 2}, \"mode\": \"markers\", \"name\": \"3.7905431545276227\", \"showlegend\": false, \"type\": \"scatter3d\", \"x\": [-1.846501587197685], \"y\": [-1.2931171450700611], \"z\": [-2.8406398843183185]}, {\"marker\": {\"color\": \"red\", \"line\": {\"width\": 0}, \"size\": 2}, \"mode\": \"markers\", \"name\": \"-4.582185510749489\", \"showlegend\": false, \"type\": \"scatter3d\", \"x\": [-1.661618438925011], \"y\": [-9.41498635429603], \"z\": [-0.10548938942187358]}, {\"marker\": {\"color\": \"blue\", \"line\": {\"width\": 0}, \"size\": 2}, \"mode\": \"markers\", \"name\": \"5.070729359908453\", \"showlegend\": false, \"type\": \"scatter3d\", \"x\": [-3.0584698759102187], \"y\": [-1.70706525528034], \"z\": [-3.891477773844276]}, {\"marker\": {\"color\": \"red\", \"line\": {\"width\": 0}, \"size\": 2}, \"mode\": \"markers\", \"name\": \"-4.648203136589746\", \"showlegend\": false, \"type\": \"scatter3d\", \"x\": [-1.4365361275445485], \"y\": [-9.224904911440879], \"z\": [0.004470508804561124]}, {\"marker\": {\"color\": \"red\", \"line\": {\"width\": 0}, \"size\": 2}, \"mode\": \"markers\", \"name\": \"-7.964757488134573\", \"showlegend\": false, \"type\": \"scatter3d\", \"x\": [0.3043850992357515], \"y\": [-12.140924819825662], \"z\": [0.9017969346835247]}, {\"marker\": {\"color\": \"red\", \"line\": {\"width\": 0}, \"size\": 2}, \"mode\": \"markers\", \"name\": \"-6.208483856359822\", \"showlegend\": false, \"type\": \"scatter3d\", \"x\": [-3.1481926117236885], \"y\": [-7.750290697461706], \"z\": [2.4609275681475955]}, {\"marker\": {\"color\": \"red\", \"line\": {\"width\": 0}, \"size\": 2}, \"mode\": \"markers\", \"name\": \"-4.789280000773546\", \"showlegend\": false, \"type\": \"scatter3d\", \"x\": [-2.0279729064537872], \"y\": [-9.472450112468849], \"z\": [0.11514166433384088]}, {\"marker\": {\"color\": \"red\", \"line\": {\"width\": 0}, \"size\": 2}, \"mode\": \"markers\", \"name\": \"-5.107650342328691\", \"showlegend\": false, \"type\": \"scatter3d\", \"x\": [-2.413235230836907], \"y\": [-9.048382808785483], \"z\": [0.6891631187728673]}, {\"marker\": {\"color\": \"red\", \"line\": {\"width\": 0}, \"size\": 2}, \"mode\": \"markers\", \"name\": \"-5.447008485723197\", \"showlegend\": false, \"type\": \"scatter3d\", \"x\": [-1.5562814494106627], \"y\": [-9.99835925717476], \"z\": [0.2946596076377942]}, {\"marker\": {\"color\": \"blue\", \"line\": {\"width\": 0}, \"size\": 2}, \"mode\": \"markers\", \"name\": \"3.4884101673077903\", \"showlegend\": false, \"type\": \"scatter3d\", \"x\": [-1.1724465660561343], \"y\": [-2.439472710192113], \"z\": [-3.3328411309196055]}, {\"marker\": {\"color\": \"blue\", \"line\": {\"width\": 0}, \"size\": 2}, \"mode\": \"markers\", \"name\": \"5.675155801001844\", \"showlegend\": false, \"type\": \"scatter3d\", \"x\": [-1.545326266004287], \"y\": [-3.1393185695146357], \"z\": [-5.475955515667467]}, {\"marker\": {\"color\": \"red\", \"line\": {\"width\": 0}, \"size\": 2}, \"mode\": \"markers\", \"name\": \"-6.956545426460723\", \"showlegend\": false, \"type\": \"scatter3d\", \"x\": [-1.357320622512882], \"y\": [-8.656772358005192], \"z\": [2.2414624781712167]}, {\"marker\": {\"color\": \"red\", \"line\": {\"width\": 0}, \"size\": 2}, \"mode\": \"markers\", \"name\": \"-6.070735047722081\", \"showlegend\": false, \"type\": \"scatter3d\", \"x\": [-1.6611944746752747], \"y\": [-9.857144786521168], \"z\": [0.9187787946802018]}, {\"marker\": {\"color\": \"red\", \"line\": {\"width\": 0}, \"size\": 2}, \"mode\": \"markers\", \"name\": \"-7.2579487675053596\", \"showlegend\": false, \"type\": \"scatter3d\", \"x\": [-0.7377493850108957], \"y\": [-9.794983560435583], \"z\": [1.7642612956435944]}, {\"marker\": {\"color\": \"blue\", \"line\": {\"width\": 0}, \"size\": 2}, \"mode\": \"markers\", \"name\": \"3.8403748569463403\", \"showlegend\": false, \"type\": \"scatter3d\", \"x\": [-2.7469164972912514], \"y\": [-1.9306617356064473], \"z\": [-3.034170248128713]}, {\"marker\": {\"color\": \"blue\", \"line\": {\"width\": 0}, \"size\": 2}, \"mode\": \"markers\", \"name\": \"2.440281044810928\", \"showlegend\": false, \"type\": \"scatter3d\", \"x\": [-0.423953950089518], \"y\": [-2.679734533092661], \"z\": [-2.7290821665268874]}, {\"marker\": {\"color\": \"blue\", \"line\": {\"width\": 0}, \"size\": 3}, \"mode\": \"markers\", \"name\": \"d=7.05320592342201\", \"type\": \"scatter3d\", \"x\": [-2.317067132432493], \"y\": [-2.040818781594588], \"z\": [-5.8987617119969125]}, {\"line\": {\"width\": 6}, \"marker\": {\"size\": 1}, \"name\": \"^ len_d\", \"type\": \"scatter3d\", \"x\": [-2.317067132432493, -1.3830343865092007], \"y\": [-2.040818781594588, -4.429541575825842], \"z\": [-5.8987617119969125, -1.394455448034614]}, {\"line\": {\"width\": 6}, \"marker\": {\"size\": 1}, \"name\": \"^ proj\", \"type\": \"scatter3d\", \"x\": [-2.317067132432493, -0.829456956251651], \"y\": [-2.040818781594588, 2.1212775964010078], \"z\": [-5.8987617119969125, -3.999996980874849]}, {\"showlegend\": false, \"showscale\": false, \"type\": \"surface\", \"x\": [[-4.408371166726594, -4.147539880909482, -3.8867085950923697, -3.6258773092752574, -3.365046023458145, -3.104214737641033, -2.8433834518239207, -2.5825521660068085, -2.3217208801896962, -2.060889594372584, -1.8000583085554718, -1.5392270227383595, -1.2783957369212473, -1.017564451104135, -0.7567331652870228, -0.4959018794699106, -0.23507059365279837, 0.025760692164313426, 0.2865919779814261, 0.5474232637985388, 0.8082545496156506, 1.0690858354327624, 1.329917121249875, 1.5907484070669877, 1.8515796928840995, 2.1124109787012113, 2.373242264518324, 2.6340735503354367, 2.8949048361525485, 3.1557361219696602], [-4.408371166726594, -4.147539880909482, -3.8867085950923697, -3.6258773092752574, -3.365046023458145, -3.104214737641033, -2.8433834518239207, -2.5825521660068085, -2.3217208801896962, -2.060889594372584, -1.8000583085554718, -1.5392270227383595, -1.2783957369212473, -1.017564451104135, -0.7567331652870228, -0.4959018794699106, -0.23507059365279837, 0.025760692164313426, 0.2865919779814261, 0.5474232637985388, 0.8082545496156506, 1.0690858354327624, 1.329917121249875, 1.5907484070669877, 1.8515796928840995, 2.1124109787012113, 2.373242264518324, 2.6340735503354367, 2.8949048361525485, 3.1557361219696602], [-4.408371166726594, -4.147539880909482, -3.8867085950923697, -3.6258773092752574, -3.365046023458145, -3.104214737641033, -2.8433834518239207, -2.5825521660068085, -2.3217208801896962, -2.060889594372584, -1.8000583085554718, -1.5392270227383595, -1.2783957369212473, -1.017564451104135, -0.7567331652870228, -0.4959018794699106, -0.23507059365279837, 0.025760692164313426, 0.2865919779814261, 0.5474232637985388, 0.8082545496156506, 1.0690858354327624, 1.329917121249875, 1.5907484070669877, 1.8515796928840995, 2.1124109787012113, 2.373242264518324, 2.6340735503354367, 2.8949048361525485, 3.1557361219696602], [-4.408371166726594, -4.147539880909482, -3.8867085950923697, -3.6258773092752574, -3.365046023458145, -3.104214737641033, -2.8433834518239207, -2.5825521660068085, -2.3217208801896962, -2.060889594372584, -1.8000583085554718, -1.5392270227383595, -1.2783957369212473, -1.017564451104135, -0.7567331652870228, -0.4959018794699106, -0.23507059365279837, 0.025760692164313426, 0.2865919779814261, 0.5474232637985388, 0.8082545496156506, 1.0690858354327624, 1.329917121249875, 1.5907484070669877, 1.8515796928840995, 2.1124109787012113, 2.373242264518324, 2.6340735503354367, 2.8949048361525485, 3.1557361219696602], [-4.408371166726594, -4.147539880909482, -3.8867085950923697, -3.6258773092752574, -3.365046023458145, -3.104214737641033, -2.8433834518239207, -2.5825521660068085, -2.3217208801896962, -2.060889594372584, -1.8000583085554718, -1.5392270227383595, -1.2783957369212473, -1.017564451104135, -0.7567331652870228, -0.4959018794699106, -0.23507059365279837, 0.025760692164313426, 0.2865919779814261, 0.5474232637985388, 0.8082545496156506, 1.0690858354327624, 1.329917121249875, 1.5907484070669877, 1.8515796928840995, 2.1124109787012113, 2.373242264518324, 2.6340735503354367, 2.8949048361525485, 3.1557361219696602], [-4.408371166726594, -4.147539880909482, -3.8867085950923697, -3.6258773092752574, -3.365046023458145, -3.104214737641033, -2.8433834518239207, -2.5825521660068085, -2.3217208801896962, -2.060889594372584, -1.8000583085554718, -1.5392270227383595, -1.2783957369212473, -1.017564451104135, -0.7567331652870228, -0.4959018794699106, -0.23507059365279837, 0.025760692164313426, 0.2865919779814261, 0.5474232637985388, 0.8082545496156506, 1.0690858354327624, 1.329917121249875, 1.5907484070669877, 1.8515796928840995, 2.1124109787012113, 2.373242264518324, 2.6340735503354367, 2.8949048361525485, 3.1557361219696602], [-4.408371166726594, -4.147539880909482, -3.8867085950923697, -3.6258773092752574, -3.365046023458145, -3.104214737641033, -2.8433834518239207, -2.5825521660068085, -2.3217208801896962, -2.060889594372584, -1.8000583085554718, -1.5392270227383595, -1.2783957369212473, -1.017564451104135, -0.7567331652870228, -0.4959018794699106, -0.23507059365279837, 0.025760692164313426, 0.2865919779814261, 0.5474232637985388, 0.8082545496156506, 1.0690858354327624, 1.329917121249875, 1.5907484070669877, 1.8515796928840995, 2.1124109787012113, 2.373242264518324, 2.6340735503354367, 2.8949048361525485, 3.1557361219696602], [-4.408371166726594, -4.147539880909482, -3.8867085950923697, -3.6258773092752574, -3.365046023458145, -3.104214737641033, -2.8433834518239207, -2.5825521660068085, -2.3217208801896962, -2.060889594372584, -1.8000583085554718, -1.5392270227383595, -1.2783957369212473, -1.017564451104135, -0.7567331652870228, -0.4959018794699106, -0.23507059365279837, 0.025760692164313426, 0.2865919779814261, 0.5474232637985388, 0.8082545496156506, 1.0690858354327624, 1.329917121249875, 1.5907484070669877, 1.8515796928840995, 2.1124109787012113, 2.373242264518324, 2.6340735503354367, 2.8949048361525485, 3.1557361219696602], [-4.408371166726594, -4.147539880909482, -3.8867085950923697, -3.6258773092752574, -3.365046023458145, -3.104214737641033, -2.8433834518239207, -2.5825521660068085, -2.3217208801896962, -2.060889594372584, -1.8000583085554718, -1.5392270227383595, -1.2783957369212473, -1.017564451104135, -0.7567331652870228, -0.4959018794699106, -0.23507059365279837, 0.025760692164313426, 0.2865919779814261, 0.5474232637985388, 0.8082545496156506, 1.0690858354327624, 1.329917121249875, 1.5907484070669877, 1.8515796928840995, 2.1124109787012113, 2.373242264518324, 2.6340735503354367, 2.8949048361525485, 3.1557361219696602], [-4.408371166726594, -4.147539880909482, -3.8867085950923697, -3.6258773092752574, -3.365046023458145, -3.104214737641033, -2.8433834518239207, -2.5825521660068085, -2.3217208801896962, -2.060889594372584, -1.8000583085554718, -1.5392270227383595, -1.2783957369212473, -1.017564451104135, -0.7567331652870228, -0.4959018794699106, -0.23507059365279837, 0.025760692164313426, 0.2865919779814261, 0.5474232637985388, 0.8082545496156506, 1.0690858354327624, 1.329917121249875, 1.5907484070669877, 1.8515796928840995, 2.1124109787012113, 2.373242264518324, 2.6340735503354367, 2.8949048361525485, 3.1557361219696602], [-4.408371166726594, -4.147539880909482, -3.8867085950923697, -3.6258773092752574, -3.365046023458145, -3.104214737641033, -2.8433834518239207, -2.5825521660068085, -2.3217208801896962, -2.060889594372584, -1.8000583085554718, -1.5392270227383595, -1.2783957369212473, -1.017564451104135, -0.7567331652870228, -0.4959018794699106, -0.23507059365279837, 0.025760692164313426, 0.2865919779814261, 0.5474232637985388, 0.8082545496156506, 1.0690858354327624, 1.329917121249875, 1.5907484070669877, 1.8515796928840995, 2.1124109787012113, 2.373242264518324, 2.6340735503354367, 2.8949048361525485, 3.1557361219696602], [-4.408371166726594, -4.147539880909482, -3.8867085950923697, -3.6258773092752574, -3.365046023458145, -3.104214737641033, -2.8433834518239207, -2.5825521660068085, -2.3217208801896962, -2.060889594372584, -1.8000583085554718, -1.5392270227383595, -1.2783957369212473, -1.017564451104135, -0.7567331652870228, -0.4959018794699106, -0.23507059365279837, 0.025760692164313426, 0.2865919779814261, 0.5474232637985388, 0.8082545496156506, 1.0690858354327624, 1.329917121249875, 1.5907484070669877, 1.8515796928840995, 2.1124109787012113, 2.373242264518324, 2.6340735503354367, 2.8949048361525485, 3.1557361219696602], [-4.408371166726594, -4.147539880909482, -3.8867085950923697, -3.6258773092752574, -3.365046023458145, -3.104214737641033, -2.8433834518239207, -2.5825521660068085, -2.3217208801896962, -2.060889594372584, -1.8000583085554718, -1.5392270227383595, -1.2783957369212473, -1.017564451104135, -0.7567331652870228, -0.4959018794699106, -0.23507059365279837, 0.025760692164313426, 0.2865919779814261, 0.5474232637985388, 0.8082545496156506, 1.0690858354327624, 1.329917121249875, 1.5907484070669877, 1.8515796928840995, 2.1124109787012113, 2.373242264518324, 2.6340735503354367, 2.8949048361525485, 3.1557361219696602], [-4.408371166726594, -4.147539880909482, -3.8867085950923697, -3.6258773092752574, -3.365046023458145, -3.104214737641033, -2.8433834518239207, -2.5825521660068085, -2.3217208801896962, -2.060889594372584, -1.8000583085554718, -1.5392270227383595, -1.2783957369212473, -1.017564451104135, -0.7567331652870228, -0.4959018794699106, -0.23507059365279837, 0.025760692164313426, 0.2865919779814261, 0.5474232637985388, 0.8082545496156506, 1.0690858354327624, 1.329917121249875, 1.5907484070669877, 1.8515796928840995, 2.1124109787012113, 2.373242264518324, 2.6340735503354367, 2.8949048361525485, 3.1557361219696602], [-4.408371166726594, -4.147539880909482, -3.8867085950923697, -3.6258773092752574, -3.365046023458145, -3.104214737641033, -2.8433834518239207, -2.5825521660068085, -2.3217208801896962, -2.060889594372584, -1.8000583085554718, -1.5392270227383595, -1.2783957369212473, -1.017564451104135, -0.7567331652870228, -0.4959018794699106, -0.23507059365279837, 0.025760692164313426, 0.2865919779814261, 0.5474232637985388, 0.8082545496156506, 1.0690858354327624, 1.329917121249875, 1.5907484070669877, 1.8515796928840995, 2.1124109787012113, 2.373242264518324, 2.6340735503354367, 2.8949048361525485, 3.1557361219696602], [-4.408371166726594, -4.147539880909482, -3.8867085950923697, -3.6258773092752574, -3.365046023458145, -3.104214737641033, -2.8433834518239207, -2.5825521660068085, -2.3217208801896962, -2.060889594372584, -1.8000583085554718, -1.5392270227383595, -1.2783957369212473, -1.017564451104135, -0.7567331652870228, -0.4959018794699106, -0.23507059365279837, 0.025760692164313426, 0.2865919779814261, 0.5474232637985388, 0.8082545496156506, 1.0690858354327624, 1.329917121249875, 1.5907484070669877, 1.8515796928840995, 2.1124109787012113, 2.373242264518324, 2.6340735503354367, 2.8949048361525485, 3.1557361219696602], [-4.408371166726594, -4.147539880909482, -3.8867085950923697, -3.6258773092752574, -3.365046023458145, -3.104214737641033, -2.8433834518239207, -2.5825521660068085, -2.3217208801896962, -2.060889594372584, -1.8000583085554718, -1.5392270227383595, -1.2783957369212473, -1.017564451104135, -0.7567331652870228, -0.4959018794699106, -0.23507059365279837, 0.025760692164313426, 0.2865919779814261, 0.5474232637985388, 0.8082545496156506, 1.0690858354327624, 1.329917121249875, 1.5907484070669877, 1.8515796928840995, 2.1124109787012113, 2.373242264518324, 2.6340735503354367, 2.8949048361525485, 3.1557361219696602], [-4.408371166726594, -4.147539880909482, -3.8867085950923697, -3.6258773092752574, -3.365046023458145, -3.104214737641033, -2.8433834518239207, -2.5825521660068085, -2.3217208801896962, -2.060889594372584, -1.8000583085554718, -1.5392270227383595, -1.2783957369212473, -1.017564451104135, -0.7567331652870228, -0.4959018794699106, -0.23507059365279837, 0.025760692164313426, 0.2865919779814261, 0.5474232637985388, 0.8082545496156506, 1.0690858354327624, 1.329917121249875, 1.5907484070669877, 1.8515796928840995, 2.1124109787012113, 2.373242264518324, 2.6340735503354367, 2.8949048361525485, 3.1557361219696602], [-4.408371166726594, -4.147539880909482, -3.8867085950923697, -3.6258773092752574, -3.365046023458145, -3.104214737641033, -2.8433834518239207, -2.5825521660068085, -2.3217208801896962, -2.060889594372584, -1.8000583085554718, -1.5392270227383595, -1.2783957369212473, -1.017564451104135, -0.7567331652870228, -0.4959018794699106, -0.23507059365279837, 0.025760692164313426, 0.2865919779814261, 0.5474232637985388, 0.8082545496156506, 1.0690858354327624, 1.329917121249875, 1.5907484070669877, 1.8515796928840995, 2.1124109787012113, 2.373242264518324, 2.6340735503354367, 2.8949048361525485, 3.1557361219696602], [-4.408371166726594, -4.147539880909482, -3.8867085950923697, -3.6258773092752574, -3.365046023458145, -3.104214737641033, -2.8433834518239207, -2.5825521660068085, -2.3217208801896962, -2.060889594372584, -1.8000583085554718, -1.5392270227383595, -1.2783957369212473, -1.017564451104135, -0.7567331652870228, -0.4959018794699106, -0.23507059365279837, 0.025760692164313426, 0.2865919779814261, 0.5474232637985388, 0.8082545496156506, 1.0690858354327624, 1.329917121249875, 1.5907484070669877, 1.8515796928840995, 2.1124109787012113, 2.373242264518324, 2.6340735503354367, 2.8949048361525485, 3.1557361219696602], [-4.408371166726594, -4.147539880909482, -3.8867085950923697, -3.6258773092752574, -3.365046023458145, -3.104214737641033, -2.8433834518239207, -2.5825521660068085, -2.3217208801896962, -2.060889594372584, -1.8000583085554718, -1.5392270227383595, -1.2783957369212473, -1.017564451104135, -0.7567331652870228, -0.4959018794699106, -0.23507059365279837, 0.025760692164313426, 0.2865919779814261, 0.5474232637985388, 0.8082545496156506, 1.0690858354327624, 1.329917121249875, 1.5907484070669877, 1.8515796928840995, 2.1124109787012113, 2.373242264518324, 2.6340735503354367, 2.8949048361525485, 3.1557361219696602], [-4.408371166726594, -4.147539880909482, -3.8867085950923697, -3.6258773092752574, -3.365046023458145, -3.104214737641033, -2.8433834518239207, -2.5825521660068085, -2.3217208801896962, -2.060889594372584, -1.8000583085554718, -1.5392270227383595, -1.2783957369212473, -1.017564451104135, -0.7567331652870228, -0.4959018794699106, -0.23507059365279837, 0.025760692164313426, 0.2865919779814261, 0.5474232637985388, 0.8082545496156506, 1.0690858354327624, 1.329917121249875, 1.5907484070669877, 1.8515796928840995, 2.1124109787012113, 2.373242264518324, 2.6340735503354367, 2.8949048361525485, 3.1557361219696602], [-4.408371166726594, -4.147539880909482, -3.8867085950923697, -3.6258773092752574, -3.365046023458145, -3.104214737641033, -2.8433834518239207, -2.5825521660068085, -2.3217208801896962, -2.060889594372584, -1.8000583085554718, -1.5392270227383595, -1.2783957369212473, -1.017564451104135, -0.7567331652870228, -0.4959018794699106, -0.23507059365279837, 0.025760692164313426, 0.2865919779814261, 0.5474232637985388, 0.8082545496156506, 1.0690858354327624, 1.329917121249875, 1.5907484070669877, 1.8515796928840995, 2.1124109787012113, 2.373242264518324, 2.6340735503354367, 2.8949048361525485, 3.1557361219696602], [-4.408371166726594, -4.147539880909482, -3.8867085950923697, -3.6258773092752574, -3.365046023458145, -3.104214737641033, -2.8433834518239207, -2.5825521660068085, -2.3217208801896962, -2.060889594372584, -1.8000583085554718, -1.5392270227383595, -1.2783957369212473, -1.017564451104135, -0.7567331652870228, -0.4959018794699106, -0.23507059365279837, 0.025760692164313426, 0.2865919779814261, 0.5474232637985388, 0.8082545496156506, 1.0690858354327624, 1.329917121249875, 1.5907484070669877, 1.8515796928840995, 2.1124109787012113, 2.373242264518324, 2.6340735503354367, 2.8949048361525485, 3.1557361219696602], [-4.408371166726594, -4.147539880909482, -3.8867085950923697, -3.6258773092752574, -3.365046023458145, -3.104214737641033, -2.8433834518239207, -2.5825521660068085, -2.3217208801896962, -2.060889594372584, -1.8000583085554718, -1.5392270227383595, -1.2783957369212473, -1.017564451104135, -0.7567331652870228, -0.4959018794699106, -0.23507059365279837, 0.025760692164313426, 0.2865919779814261, 0.5474232637985388, 0.8082545496156506, 1.0690858354327624, 1.329917121249875, 1.5907484070669877, 1.8515796928840995, 2.1124109787012113, 2.373242264518324, 2.6340735503354367, 2.8949048361525485, 3.1557361219696602], [-4.408371166726594, -4.147539880909482, -3.8867085950923697, -3.6258773092752574, -3.365046023458145, -3.104214737641033, -2.8433834518239207, -2.5825521660068085, -2.3217208801896962, -2.060889594372584, -1.8000583085554718, -1.5392270227383595, -1.2783957369212473, -1.017564451104135, -0.7567331652870228, -0.4959018794699106, -0.23507059365279837, 0.025760692164313426, 0.2865919779814261, 0.5474232637985388, 0.8082545496156506, 1.0690858354327624, 1.329917121249875, 1.5907484070669877, 1.8515796928840995, 2.1124109787012113, 2.373242264518324, 2.6340735503354367, 2.8949048361525485, 3.1557361219696602], [-4.408371166726594, -4.147539880909482, -3.8867085950923697, -3.6258773092752574, -3.365046023458145, -3.104214737641033, -2.8433834518239207, -2.5825521660068085, -2.3217208801896962, -2.060889594372584, -1.8000583085554718, -1.5392270227383595, -1.2783957369212473, -1.017564451104135, -0.7567331652870228, -0.4959018794699106, -0.23507059365279837, 0.025760692164313426, 0.2865919779814261, 0.5474232637985388, 0.8082545496156506, 1.0690858354327624, 1.329917121249875, 1.5907484070669877, 1.8515796928840995, 2.1124109787012113, 2.373242264518324, 2.6340735503354367, 2.8949048361525485, 3.1557361219696602], [-4.408371166726594, -4.147539880909482, -3.8867085950923697, -3.6258773092752574, -3.365046023458145, -3.104214737641033, -2.8433834518239207, -2.5825521660068085, -2.3217208801896962, -2.060889594372584, -1.8000583085554718, -1.5392270227383595, -1.2783957369212473, -1.017564451104135, -0.7567331652870228, -0.4959018794699106, -0.23507059365279837, 0.025760692164313426, 0.2865919779814261, 0.5474232637985388, 0.8082545496156506, 1.0690858354327624, 1.329917121249875, 1.5907484070669877, 1.8515796928840995, 2.1124109787012113, 2.373242264518324, 2.6340735503354367, 2.8949048361525485, 3.1557361219696602], [-4.408371166726594, -4.147539880909482, -3.8867085950923697, -3.6258773092752574, -3.365046023458145, -3.104214737641033, -2.8433834518239207, -2.5825521660068085, -2.3217208801896962, -2.060889594372584, -1.8000583085554718, -1.5392270227383595, -1.2783957369212473, -1.017564451104135, -0.7567331652870228, -0.4959018794699106, -0.23507059365279837, 0.025760692164313426, 0.2865919779814261, 0.5474232637985388, 0.8082545496156506, 1.0690858354327624, 1.329917121249875, 1.5907484070669877, 1.8515796928840995, 2.1124109787012113, 2.373242264518324, 2.6340735503354367, 2.8949048361525485, 3.1557361219696602], [-4.408371166726594, -4.147539880909482, -3.8867085950923697, -3.6258773092752574, -3.365046023458145, -3.104214737641033, -2.8433834518239207, -2.5825521660068085, -2.3217208801896962, -2.060889594372584, -1.8000583085554718, -1.5392270227383595, -1.2783957369212473, -1.017564451104135, -0.7567331652870228, -0.4959018794699106, -0.23507059365279837, 0.025760692164313426, 0.2865919779814261, 0.5474232637985388, 0.8082545496156506, 1.0690858354327624, 1.329917121249875, 1.5907484070669877, 1.8515796928840995, 2.1124109787012113, 2.373242264518324, 2.6340735503354367, 2.8949048361525485, 3.1557361219696602]], \"y\": [[-9.543485106736943, -9.543485106736943, -9.543485106736943, -9.543485106736943, -9.543485106736943, -9.543485106736943, -9.543485106736943, -9.543485106736943, -9.543485106736943, -9.543485106736943, -9.543485106736943, -9.543485106736943, -9.543485106736943, -9.543485106736943, -9.543485106736943, -9.543485106736943, -9.543485106736943, -9.543485106736943, -9.543485106736943, -9.543485106736943, -9.543485106736943, -9.543485106736943, -9.543485106736943, -9.543485106736943, -9.543485106736943, -9.543485106736943, -9.543485106736943, -9.543485106736943, -9.543485106736943, -9.543485106736943], [-9.25347780280336, -9.25347780280336, -9.25347780280336, -9.25347780280336, -9.25347780280336, -9.25347780280336, -9.25347780280336, -9.25347780280336, -9.25347780280336, -9.25347780280336, -9.25347780280336, -9.25347780280336, -9.25347780280336, -9.25347780280336, -9.25347780280336, -9.25347780280336, -9.25347780280336, -9.25347780280336, -9.25347780280336, -9.25347780280336, -9.25347780280336, -9.25347780280336, -9.25347780280336, -9.25347780280336, -9.25347780280336, -9.25347780280336, -9.25347780280336, -9.25347780280336, -9.25347780280336, -9.25347780280336], [-8.963470498869778, -8.963470498869778, -8.963470498869778, -8.963470498869778, -8.963470498869778, -8.963470498869778, -8.963470498869778, -8.963470498869778, -8.963470498869778, -8.963470498869778, -8.963470498869778, -8.963470498869778, -8.963470498869778, -8.963470498869778, -8.963470498869778, -8.963470498869778, -8.963470498869778, -8.963470498869778, -8.963470498869778, -8.963470498869778, -8.963470498869778, -8.963470498869778, -8.963470498869778, -8.963470498869778, -8.963470498869778, -8.963470498869778, -8.963470498869778, -8.963470498869778, -8.963470498869778, -8.963470498869778], [-8.673463194936195, -8.673463194936195, -8.673463194936195, -8.673463194936195, -8.673463194936195, -8.673463194936195, -8.673463194936195, -8.673463194936195, -8.673463194936195, -8.673463194936195, -8.673463194936195, -8.673463194936195, -8.673463194936195, -8.673463194936195, -8.673463194936195, -8.673463194936195, -8.673463194936195, -8.673463194936195, -8.673463194936195, -8.673463194936195, -8.673463194936195, -8.673463194936195, -8.673463194936195, -8.673463194936195, -8.673463194936195, -8.673463194936195, -8.673463194936195, -8.673463194936195, -8.673463194936195, -8.673463194936195], [-8.383455891002612, -8.383455891002612, -8.383455891002612, -8.383455891002612, -8.383455891002612, -8.383455891002612, -8.383455891002612, -8.383455891002612, -8.383455891002612, -8.383455891002612, -8.383455891002612, -8.383455891002612, -8.383455891002612, -8.383455891002612, -8.383455891002612, -8.383455891002612, -8.383455891002612, -8.383455891002612, -8.383455891002612, -8.383455891002612, -8.383455891002612, -8.383455891002612, -8.383455891002612, -8.383455891002612, -8.383455891002612, -8.383455891002612, -8.383455891002612, -8.383455891002612, -8.383455891002612, -8.383455891002612], [-8.09344858706903, -8.09344858706903, -8.09344858706903, -8.09344858706903, -8.09344858706903, -8.09344858706903, -8.09344858706903, -8.09344858706903, -8.09344858706903, -8.09344858706903, -8.09344858706903, -8.09344858706903, -8.09344858706903, -8.09344858706903, -8.09344858706903, -8.09344858706903, -8.09344858706903, -8.09344858706903, -8.09344858706903, -8.09344858706903, -8.09344858706903, -8.09344858706903, -8.09344858706903, -8.09344858706903, -8.09344858706903, -8.09344858706903, -8.09344858706903, -8.09344858706903, -8.09344858706903, -8.09344858706903], [-7.803441283135447, -7.803441283135447, -7.803441283135447, -7.803441283135447, -7.803441283135447, -7.803441283135447, -7.803441283135447, -7.803441283135447, -7.803441283135447, -7.803441283135447, -7.803441283135447, -7.803441283135447, -7.803441283135447, -7.803441283135447, -7.803441283135447, -7.803441283135447, -7.803441283135447, -7.803441283135447, -7.803441283135447, -7.803441283135447, -7.803441283135447, -7.803441283135447, -7.803441283135447, -7.803441283135447, -7.803441283135447, -7.803441283135447, -7.803441283135447, -7.803441283135447, -7.803441283135447, -7.803441283135447], [-7.5134339792018645, -7.5134339792018645, -7.5134339792018645, -7.5134339792018645, -7.5134339792018645, -7.5134339792018645, -7.5134339792018645, -7.5134339792018645, -7.5134339792018645, -7.5134339792018645, -7.5134339792018645, -7.5134339792018645, -7.5134339792018645, -7.5134339792018645, -7.5134339792018645, -7.5134339792018645, -7.5134339792018645, -7.5134339792018645, -7.5134339792018645, -7.5134339792018645, -7.5134339792018645, -7.5134339792018645, -7.5134339792018645, -7.5134339792018645, -7.5134339792018645, -7.5134339792018645, -7.5134339792018645, -7.5134339792018645, -7.5134339792018645, -7.5134339792018645], [-7.223426675268282, -7.223426675268282, -7.223426675268282, -7.223426675268282, -7.223426675268282, -7.223426675268282, -7.223426675268282, -7.223426675268282, -7.223426675268282, -7.223426675268282, -7.223426675268282, -7.223426675268282, -7.223426675268282, -7.223426675268282, -7.223426675268282, -7.223426675268282, -7.223426675268282, -7.223426675268282, -7.223426675268282, -7.223426675268282, -7.223426675268282, -7.223426675268282, -7.223426675268282, -7.223426675268282, -7.223426675268282, -7.223426675268282, -7.223426675268282, -7.223426675268282, -7.223426675268282, -7.223426675268282], [-6.9334193713347, -6.9334193713347, -6.9334193713347, -6.9334193713347, -6.9334193713347, -6.9334193713347, -6.9334193713347, -6.9334193713347, -6.9334193713347, -6.9334193713347, -6.9334193713347, -6.9334193713347, -6.9334193713347, -6.9334193713347, -6.9334193713347, -6.9334193713347, -6.9334193713347, -6.9334193713347, -6.9334193713347, -6.9334193713347, -6.9334193713347, -6.9334193713347, -6.9334193713347, -6.9334193713347, -6.9334193713347, -6.9334193713347, -6.9334193713347, -6.9334193713347, -6.9334193713347, -6.9334193713347], [-6.643412067401117, -6.643412067401117, -6.643412067401117, -6.643412067401117, -6.643412067401117, -6.643412067401117, -6.643412067401117, -6.643412067401117, -6.643412067401117, -6.643412067401117, -6.643412067401117, -6.643412067401117, -6.643412067401117, -6.643412067401117, -6.643412067401117, -6.643412067401117, -6.643412067401117, -6.643412067401117, -6.643412067401117, -6.643412067401117, -6.643412067401117, -6.643412067401117, -6.643412067401117, -6.643412067401117, -6.643412067401117, -6.643412067401117, -6.643412067401117, -6.643412067401117, -6.643412067401117, -6.643412067401117], [-6.353404763467534, -6.353404763467534, -6.353404763467534, -6.353404763467534, -6.353404763467534, -6.353404763467534, -6.353404763467534, -6.353404763467534, -6.353404763467534, -6.353404763467534, -6.353404763467534, -6.353404763467534, -6.353404763467534, -6.353404763467534, -6.353404763467534, -6.353404763467534, -6.353404763467534, -6.353404763467534, -6.353404763467534, -6.353404763467534, -6.353404763467534, -6.353404763467534, -6.353404763467534, -6.353404763467534, -6.353404763467534, -6.353404763467534, -6.353404763467534, -6.353404763467534, -6.353404763467534, -6.353404763467534], [-6.0633974595339515, -6.0633974595339515, -6.0633974595339515, -6.0633974595339515, -6.0633974595339515, -6.0633974595339515, -6.0633974595339515, -6.0633974595339515, -6.0633974595339515, -6.0633974595339515, -6.0633974595339515, -6.0633974595339515, -6.0633974595339515, -6.0633974595339515, -6.0633974595339515, -6.0633974595339515, -6.0633974595339515, -6.0633974595339515, -6.0633974595339515, -6.0633974595339515, -6.0633974595339515, -6.0633974595339515, -6.0633974595339515, -6.0633974595339515, -6.0633974595339515, -6.0633974595339515, -6.0633974595339515, -6.0633974595339515, -6.0633974595339515, -6.0633974595339515], [-5.773390155600369, -5.773390155600369, -5.773390155600369, -5.773390155600369, -5.773390155600369, -5.773390155600369, -5.773390155600369, -5.773390155600369, -5.773390155600369, -5.773390155600369, -5.773390155600369, -5.773390155600369, -5.773390155600369, -5.773390155600369, -5.773390155600369, -5.773390155600369, -5.773390155600369, -5.773390155600369, -5.773390155600369, -5.773390155600369, -5.773390155600369, -5.773390155600369, -5.773390155600369, -5.773390155600369, -5.773390155600369, -5.773390155600369, -5.773390155600369, -5.773390155600369, -5.773390155600369, -5.773390155600369], [-5.483382851666786, -5.483382851666786, -5.483382851666786, -5.483382851666786, -5.483382851666786, -5.483382851666786, -5.483382851666786, -5.483382851666786, -5.483382851666786, -5.483382851666786, -5.483382851666786, -5.483382851666786, -5.483382851666786, -5.483382851666786, -5.483382851666786, -5.483382851666786, -5.483382851666786, -5.483382851666786, -5.483382851666786, -5.483382851666786, -5.483382851666786, -5.483382851666786, -5.483382851666786, -5.483382851666786, -5.483382851666786, -5.483382851666786, -5.483382851666786, -5.483382851666786, -5.483382851666786, -5.483382851666786], [-5.193375547733203, -5.193375547733203, -5.193375547733203, -5.193375547733203, -5.193375547733203, -5.193375547733203, -5.193375547733203, -5.193375547733203, -5.193375547733203, -5.193375547733203, -5.193375547733203, -5.193375547733203, -5.193375547733203, -5.193375547733203, -5.193375547733203, -5.193375547733203, -5.193375547733203, -5.193375547733203, -5.193375547733203, -5.193375547733203, -5.193375547733203, -5.193375547733203, -5.193375547733203, -5.193375547733203, -5.193375547733203, -5.193375547733203, -5.193375547733203, -5.193375547733203, -5.193375547733203, -5.193375547733203], [-4.903368243799621, -4.903368243799621, -4.903368243799621, -4.903368243799621, -4.903368243799621, -4.903368243799621, -4.903368243799621, -4.903368243799621, -4.903368243799621, -4.903368243799621, -4.903368243799621, -4.903368243799621, -4.903368243799621, -4.903368243799621, -4.903368243799621, -4.903368243799621, -4.903368243799621, -4.903368243799621, -4.903368243799621, -4.903368243799621, -4.903368243799621, -4.903368243799621, -4.903368243799621, -4.903368243799621, -4.903368243799621, -4.903368243799621, -4.903368243799621, -4.903368243799621, -4.903368243799621, -4.903368243799621], [-4.6133609398660385, -4.6133609398660385, -4.6133609398660385, -4.6133609398660385, -4.6133609398660385, -4.6133609398660385, -4.6133609398660385, -4.6133609398660385, -4.6133609398660385, -4.6133609398660385, -4.6133609398660385, -4.6133609398660385, -4.6133609398660385, -4.6133609398660385, -4.6133609398660385, -4.6133609398660385, -4.6133609398660385, -4.6133609398660385, -4.6133609398660385, -4.6133609398660385, -4.6133609398660385, -4.6133609398660385, -4.6133609398660385, -4.6133609398660385, -4.6133609398660385, -4.6133609398660385, -4.6133609398660385, -4.6133609398660385, -4.6133609398660385, -4.6133609398660385], [-4.323353635932456, -4.323353635932456, -4.323353635932456, -4.323353635932456, -4.323353635932456, -4.323353635932456, -4.323353635932456, -4.323353635932456, -4.323353635932456, -4.323353635932456, -4.323353635932456, -4.323353635932456, -4.323353635932456, -4.323353635932456, -4.323353635932456, -4.323353635932456, -4.323353635932456, -4.323353635932456, -4.323353635932456, -4.323353635932456, -4.323353635932456, -4.323353635932456, -4.323353635932456, -4.323353635932456, -4.323353635932456, -4.323353635932456, -4.323353635932456, -4.323353635932456, -4.323353635932456, -4.323353635932456], [-4.033346331998873, -4.033346331998873, -4.033346331998873, -4.033346331998873, -4.033346331998873, -4.033346331998873, -4.033346331998873, -4.033346331998873, -4.033346331998873, -4.033346331998873, -4.033346331998873, -4.033346331998873, -4.033346331998873, -4.033346331998873, -4.033346331998873, -4.033346331998873, -4.033346331998873, -4.033346331998873, -4.033346331998873, -4.033346331998873, -4.033346331998873, -4.033346331998873, -4.033346331998873, -4.033346331998873, -4.033346331998873, -4.033346331998873, -4.033346331998873, -4.033346331998873, -4.033346331998873, -4.033346331998873], [-3.7433390280652903, -3.7433390280652903, -3.7433390280652903, -3.7433390280652903, -3.7433390280652903, -3.7433390280652903, -3.7433390280652903, -3.7433390280652903, -3.7433390280652903, -3.7433390280652903, -3.7433390280652903, -3.7433390280652903, -3.7433390280652903, -3.7433390280652903, -3.7433390280652903, -3.7433390280652903, -3.7433390280652903, -3.7433390280652903, -3.7433390280652903, -3.7433390280652903, -3.7433390280652903, -3.7433390280652903, -3.7433390280652903, -3.7433390280652903, -3.7433390280652903, -3.7433390280652903, -3.7433390280652903, -3.7433390280652903, -3.7433390280652903, -3.7433390280652903], [-3.453331724131708, -3.453331724131708, -3.453331724131708, -3.453331724131708, -3.453331724131708, -3.453331724131708, -3.453331724131708, -3.453331724131708, -3.453331724131708, -3.453331724131708, -3.453331724131708, -3.453331724131708, -3.453331724131708, -3.453331724131708, -3.453331724131708, -3.453331724131708, -3.453331724131708, -3.453331724131708, -3.453331724131708, -3.453331724131708, -3.453331724131708, -3.453331724131708, -3.453331724131708, -3.453331724131708, -3.453331724131708, -3.453331724131708, -3.453331724131708, -3.453331724131708, -3.453331724131708, -3.453331724131708], [-3.1633244201981245, -3.1633244201981245, -3.1633244201981245, -3.1633244201981245, -3.1633244201981245, -3.1633244201981245, -3.1633244201981245, -3.1633244201981245, -3.1633244201981245, -3.1633244201981245, -3.1633244201981245, -3.1633244201981245, -3.1633244201981245, -3.1633244201981245, -3.1633244201981245, -3.1633244201981245, -3.1633244201981245, -3.1633244201981245, -3.1633244201981245, -3.1633244201981245, -3.1633244201981245, -3.1633244201981245, -3.1633244201981245, -3.1633244201981245, -3.1633244201981245, -3.1633244201981245, -3.1633244201981245, -3.1633244201981245, -3.1633244201981245, -3.1633244201981245], [-2.873317116264542, -2.873317116264542, -2.873317116264542, -2.873317116264542, -2.873317116264542, -2.873317116264542, -2.873317116264542, -2.873317116264542, -2.873317116264542, -2.873317116264542, -2.873317116264542, -2.873317116264542, -2.873317116264542, -2.873317116264542, -2.873317116264542, -2.873317116264542, -2.873317116264542, -2.873317116264542, -2.873317116264542, -2.873317116264542, -2.873317116264542, -2.873317116264542, -2.873317116264542, -2.873317116264542, -2.873317116264542, -2.873317116264542, -2.873317116264542, -2.873317116264542, -2.873317116264542, -2.873317116264542], [-2.5833098123309597, -2.5833098123309597, -2.5833098123309597, -2.5833098123309597, -2.5833098123309597, -2.5833098123309597, -2.5833098123309597, -2.5833098123309597, -2.5833098123309597, -2.5833098123309597, -2.5833098123309597, -2.5833098123309597, -2.5833098123309597, -2.5833098123309597, -2.5833098123309597, -2.5833098123309597, -2.5833098123309597, -2.5833098123309597, -2.5833098123309597, -2.5833098123309597, -2.5833098123309597, -2.5833098123309597, -2.5833098123309597, -2.5833098123309597, -2.5833098123309597, -2.5833098123309597, -2.5833098123309597, -2.5833098123309597, -2.5833098123309597, -2.5833098123309597], [-2.2933025083973773, -2.2933025083973773, -2.2933025083973773, -2.2933025083973773, -2.2933025083973773, -2.2933025083973773, -2.2933025083973773, -2.2933025083973773, -2.2933025083973773, -2.2933025083973773, -2.2933025083973773, -2.2933025083973773, -2.2933025083973773, -2.2933025083973773, -2.2933025083973773, -2.2933025083973773, -2.2933025083973773, -2.2933025083973773, -2.2933025083973773, -2.2933025083973773, -2.2933025083973773, -2.2933025083973773, -2.2933025083973773, -2.2933025083973773, -2.2933025083973773, -2.2933025083973773, -2.2933025083973773, -2.2933025083973773, -2.2933025083973773, -2.2933025083973773], [-2.003295204463795, -2.003295204463795, -2.003295204463795, -2.003295204463795, -2.003295204463795, -2.003295204463795, -2.003295204463795, -2.003295204463795, -2.003295204463795, -2.003295204463795, -2.003295204463795, -2.003295204463795, -2.003295204463795, -2.003295204463795, -2.003295204463795, -2.003295204463795, -2.003295204463795, -2.003295204463795, -2.003295204463795, -2.003295204463795, -2.003295204463795, -2.003295204463795, -2.003295204463795, -2.003295204463795, -2.003295204463795, -2.003295204463795, -2.003295204463795, -2.003295204463795, -2.003295204463795, -2.003295204463795], [-1.7132879005302115, -1.7132879005302115, -1.7132879005302115, -1.7132879005302115, -1.7132879005302115, -1.7132879005302115, -1.7132879005302115, -1.7132879005302115, -1.7132879005302115, -1.7132879005302115, -1.7132879005302115, -1.7132879005302115, -1.7132879005302115, -1.7132879005302115, -1.7132879005302115, -1.7132879005302115, -1.7132879005302115, -1.7132879005302115, -1.7132879005302115, -1.7132879005302115, -1.7132879005302115, -1.7132879005302115, -1.7132879005302115, -1.7132879005302115, -1.7132879005302115, -1.7132879005302115, -1.7132879005302115, -1.7132879005302115, -1.7132879005302115, -1.7132879005302115], [-1.4232805965966282, -1.4232805965966282, -1.4232805965966282, -1.4232805965966282, -1.4232805965966282, -1.4232805965966282, -1.4232805965966282, -1.4232805965966282, -1.4232805965966282, -1.4232805965966282, -1.4232805965966282, -1.4232805965966282, -1.4232805965966282, -1.4232805965966282, -1.4232805965966282, -1.4232805965966282, -1.4232805965966282, -1.4232805965966282, -1.4232805965966282, -1.4232805965966282, -1.4232805965966282, -1.4232805965966282, -1.4232805965966282, -1.4232805965966282, -1.4232805965966282, -1.4232805965966282, -1.4232805965966282, -1.4232805965966282, -1.4232805965966282, -1.4232805965966282], [-1.1332732926630469, -1.1332732926630469, -1.1332732926630469, -1.1332732926630469, -1.1332732926630469, -1.1332732926630469, -1.1332732926630469, -1.1332732926630469, -1.1332732926630469, -1.1332732926630469, -1.1332732926630469, -1.1332732926630469, -1.1332732926630469, -1.1332732926630469, -1.1332732926630469, -1.1332732926630469, -1.1332732926630469, -1.1332732926630469, -1.1332732926630469, -1.1332732926630469, -1.1332732926630469, -1.1332732926630469, -1.1332732926630469, -1.1332732926630469, -1.1332732926630469, -1.1332732926630469, -1.1332732926630469, -1.1332732926630469, -1.1332732926630469, -1.1332732926630469]], \"z\": [[-3.4791338225174164, -3.5332209444486304, -3.587308066379845, -3.6413951883110585, -3.6954823102422725, -3.749569432173487, -3.8036565541047005, -3.8577436760359154, -3.911830797967129, -3.9659179198983434, -4.020005041829557, -4.074092163760771, -4.128179285691986, -4.1822664076232, -4.236353529554414, -4.2904406514856275, -4.344527773416842, -4.398614895348056, -4.452702017279271, -4.506789139210484, -4.560876261141699, -4.614963383072912, -4.669050505004127, -4.723137626935341, -4.777224748866556, -4.831311870797769, -4.885398992728983, -4.939486114660197, -4.993573236591411, -5.047660358522626], [-3.325337207277867, -3.379424329209081, -3.4335114511402955, -3.4875985730715096, -3.541685695002723, -3.5957728169339376, -3.6498599388651516, -3.703947060796366, -3.7580341827275796, -3.8121213046587945, -3.866208426590008, -3.9202955485212225, -3.9743826704524365, -4.0284697923836505, -4.082556914314865, -4.136644036246079, -4.190731158177293, -4.244818280108507, -4.298905402039721, -4.3529925239709355, -4.40707964590215, -4.4611667678333635, -4.515253889764578, -4.5693410116957915, -4.623428133627006, -4.6775152555582205, -4.731602377489434, -4.7856894994206485, -4.839776621351862, -4.8938637432830765], [-3.1715405920383186, -3.2256277139695326, -3.2797148359007466, -3.333801957831961, -3.3878890797631755, -3.441976201694389, -3.496063323625603, -3.5501504455568176, -3.604237567488031, -3.658324689419246, -3.7124118113504596, -3.766498933281674, -3.820586055212888, -3.8746731771441025, -3.928760299075316, -3.982847421006531, -4.036934542937745, -4.091021664868959, -4.145108786800173, -4.199195908731387, -4.253283030662601, -4.307370152593815, -4.36145727452503, -4.4155443964562435, -4.469631518387458, -4.5237186403186715, -4.577805762249886, -4.6318928841811, -4.685980006112314, -4.7400671280435285], [-3.0177439767987697, -3.0718310987299833, -3.1259182206611977, -3.1800053425924117, -3.234092464523626, -3.28817958645484, -3.3422667083860538, -3.3963538303172682, -3.4504409522484822, -3.5045280741796967, -3.5586151961109107, -3.612702318042125, -3.6667894399733387, -3.720876561904553, -3.774963683835767, -3.8290508057669816, -3.883137927698195, -3.9372250496294092, -3.9913121715606237, -4.045399293491838, -4.099486415423052, -4.153573537354266, -4.20766065928548, -4.261747781216694, -4.315834903147909, -4.369922025079123, -4.424009147010337, -4.478096268941551, -4.532183390872764, -4.586270512803979], [-2.8639473615592204, -2.9180344834904344, -2.9721216054216484, -3.0262087273528624, -3.080295849284077, -3.134382971215291, -3.188470093146505, -3.2425572150777193, -3.296644337008933, -3.3507314589401473, -3.4048185808713614, -3.458905702802576, -3.51299282473379, -3.5670799466650043, -3.621167068596218, -3.6752541905274323, -3.7293413124586463, -3.78342843438986, -3.8375155563210748, -3.8916026782522883, -3.945689800183503, -3.999776922114717, -4.053864044045931, -4.107951165977145, -4.162038287908359, -4.216125409839574, -4.270212531770788, -4.324299653702002, -4.378386775633215, -4.43247389756443], [-2.710150746319672, -2.764237868250886, -2.8183249901821, -2.872412112113314, -2.9264992340445284, -2.9805863559757424, -3.0346734779069564, -3.088760599838171, -3.1428477217693844, -3.196934843700599, -3.251021965631813, -3.3051090875630273, -3.3591962094942414, -3.413283331425456, -3.4673704533566694, -3.5214575752878834, -3.575544697219098, -3.6296318191503114, -3.683718941081526, -3.73780606301274, -3.7918931849439543, -3.8459803068751683, -3.900067428806383, -3.9541545507375964, -4.008241672668811, -4.062328794600025, -4.116415916531238, -4.170503038462453, -4.224590160393667, -4.278677282324882], [-2.556354131080123, -2.6104412530113366, -2.6645283749425506, -2.718615496873765, -2.772702618804979, -2.826789740736193, -2.8808768626674075, -2.9349639845986215, -2.9890511065298355, -3.04313822846105, -3.0972253503922635, -3.151312472323478, -3.205399594254692, -3.2594867161859065, -3.3135738381171205, -3.367660960048334, -3.4217480819795485, -3.4758352039107625, -3.529922325841977, -3.5840094477731905, -3.6380965697044054, -3.692183691635619, -3.7462708135668334, -3.8003579354980475, -3.854445057429262, -3.9085321793604755, -3.9626193012916895, -4.016706423222904, -4.0707935451541175, -4.124880667085332], [-2.4025575158405736, -2.4566446377717877, -2.5107317597030017, -2.5648188816342157, -2.61890600356543, -2.672993125496644, -2.727080247427858, -2.7811673693590726, -2.835254491290286, -2.8893416132215006, -2.9434287351527146, -2.9975158570839286, -3.0516029790151427, -3.105690100946357, -3.159777222877571, -3.213864344808785, -3.2679514667399996, -3.322038588671213, -3.3761257106024276, -3.4302128325336416, -3.484299954464856, -3.53838707639607, -3.5924741983272845, -3.646561320258498, -3.7006484421897126, -3.7547355641209266, -3.80882268605214, -3.8629098079833546, -3.9169969299145686, -3.971084051845783], [-2.2487609006010243, -2.3028480225322383, -2.3569351444634523, -2.4110222663946668, -2.465109388325881, -2.519196510257095, -2.5732836321883092, -2.6273707541195233, -2.681457876050737, -2.7355449979819517, -2.7896321199131653, -2.8437192418443793, -2.8978063637755938, -2.9518934857068078, -3.0059806076380218, -3.0600677295692362, -3.1141548515004502, -3.1682419734316642, -3.2223290953628787, -3.2764162172940923, -3.3305033392253067, -3.3845904611565207, -3.438677583087735, -3.492764705018949, -3.5468518269501637, -3.600938948881377, -3.6550260708125912, -3.7091131927438057, -3.7632003146750193, -3.817287436606234], [-2.094964285361476, -2.14905140729269, -2.203138529223904, -2.2572256511551183, -2.3113127730863323, -2.3653998950175463, -2.419487016948761, -2.473574138879975, -2.5276612608111884, -2.5817483827424033, -2.635835504673617, -2.689922626604831, -2.7440097485360453, -2.7980968704672593, -2.8521839923984733, -2.9062711143296878, -2.9603582362609018, -3.014445358192116, -3.0685324801233302, -3.1226196020545443, -3.1767067239857583, -3.2307938459169723, -3.2848809678481867, -3.3389680897794007, -3.393055211710615, -3.4471423336418288, -3.501229455573043, -3.5553165775042572, -3.609403699435471, -3.6634908213666852], [-1.941167670121927, -1.9952547920531407, -2.049341913984355, -2.103429035915569, -2.157516157846783, -2.2116032797779974, -2.2656904017092114, -2.3197775236404254, -2.3738646455716395, -2.427951767502854, -2.482038889434068, -2.536126011365282, -2.590213133296496, -2.64430025522771, -2.6983873771589244, -2.7524744990901384, -2.8065616210213524, -2.860648742952567, -2.914735864883781, -2.968822986814995, -3.0229101087462094, -3.076997230677423, -3.1310843526086374, -3.1851714745398514, -3.239258596471066, -3.29334571840228, -3.3474328403334943, -3.401519962264708, -3.455607084195922, -3.5096942061271363], [-1.7873710548823778, -1.8414581768135916, -1.8955452987448056, -1.9496324206760198, -2.003719542607234, -2.057806664538448, -2.111893786469662, -2.1659809084008765, -2.22006803033209, -2.2741551522633046, -2.3282422741945186, -2.3823293961257326, -2.436416518056947, -2.490503639988161, -2.544590761919375, -2.5986778838505895, -2.6527650057818035, -2.7068521277130175, -2.760939249644232, -2.815026371575446, -2.86911349350666, -2.923200615437874, -2.977287737369088, -3.031374859300302, -3.0854619812315165, -3.1395491031627305, -3.193636225093945, -3.247723347025159, -3.3018104689563725, -3.355897590887587], [-1.6335744396428284, -1.6876615615740422, -1.7417486835052565, -1.7958358054364707, -1.8499229273676847, -1.904010049298899, -1.9580971712301132, -2.012184293161327, -2.066271415092541, -2.1203585370237557, -2.174445658954969, -2.2285327808861837, -2.2826199028173977, -2.3367070247486117, -2.390794146679826, -2.44488126861104, -2.498968390542254, -2.5530555124734686, -2.6071426344046826, -2.6612297563358966, -2.715316878267111, -2.7694040001983247, -2.8234911221295387, -2.877578244060753, -2.931665365991967, -2.985752487923181, -3.0398396098543956, -3.0939267317856096, -3.1480138537168236, -3.202100975648038], [-1.4797778244032798, -1.5338649463344938, -1.587952068265708, -1.6420391901969222, -1.6961263121281362, -1.7502134340593505, -1.8043005559905647, -1.8583876779217787, -1.9124747998529925, -1.9665619217842072, -2.0206490437154208, -2.074736165646635, -2.128823287577849, -2.1829104095090632, -2.2369975314402777, -2.2910846533714917, -2.3451717753027057, -2.39925889723392, -2.453346019165134, -2.507433141096348, -2.5615202630275626, -2.615607384958776, -2.66969450688999, -2.7237816288212047, -2.7778687507524187, -2.8319558726836327, -2.886042994614847, -2.940130116546061, -2.994217238477275, -3.0483043604084896], [-1.3259812091637304, -1.3800683310949444, -1.4341554530261584, -1.4882425749573727, -1.542329696888587, -1.596416818819801, -1.6505039407510151, -1.7045910626822294, -1.7586781846134434, -1.8127653065446572, -1.8668524284758714, -1.9209395504070856, -1.9750266723382996, -2.029113794269514, -2.083200916200728, -2.1372880381319423, -2.1913751600631564, -2.2454622819943704, -2.299549403925585, -2.353636525856799, -2.4077236477880124, -2.461810769719227, -2.515897891650441, -2.5699850135816553, -2.6240721355128693, -2.6781592574440833, -2.7322463793752974, -2.786333501306512, -2.840420623237726, -2.89450774516894], [-1.1721845939241815, -1.2262717158553955, -1.2803588377866097, -1.3344459597178238, -1.388533081649038, -1.4426202035802522, -1.4967073255114662, -1.5507944474426805, -1.6048815693738943, -1.6589686913051087, -1.7130558132363225, -1.7671429351675367, -1.821230057098751, -1.875317179029965, -1.9294043009611792, -1.9834914228923934, -2.0375785448236075, -2.0916656667548215, -2.145752788686036, -2.19983991061725, -2.253927032548464, -2.308014154479678, -2.362101276410892, -2.4161883983421064, -2.4702755202733204, -2.5243626422045344, -2.578449764135749, -2.632536886066963, -2.686624007998177, -2.7407111299293914], [-1.0183879786846328, -1.0724751006158466, -1.1265622225470608, -1.180649344478275, -1.234736466409489, -1.2888235883407033, -1.3429107102719176, -1.3969978322031316, -1.4510849541343456, -1.5051720760655598, -1.5592591979967738, -1.6133463199279878, -1.667433441859202, -1.7215205637904163, -1.7756076857216303, -1.8296948076528445, -1.8837819295840588, -1.9378690515152728, -1.991956173446487, -2.046043295377701, -2.100130417308915, -2.154217539240129, -2.208304661171343, -2.262391783102558, -2.3164789050337715, -2.3705660269649855, -2.4246531488962, -2.478740270827414, -2.532827392758628, -2.586914514689842], [-0.8645913634450839, -0.9186784853762979, -0.972765607307512, -1.0268527292387262, -1.0809398511699404, -1.1350269731011544, -1.1891140950323686, -1.2432012169635829, -1.2972883388947969, -1.351375460826011, -1.4054625827572251, -1.4595497046884391, -1.5136368266196532, -1.5677239485508674, -1.6218110704820816, -1.6758981924132956, -1.7299853143445099, -1.784072436275724, -1.838159558206938, -1.8922466801381523, -1.9463338020693666, -2.00042092400058, -2.0545080459317946, -2.1085951678630086, -2.1626822897942226, -2.216769411725437, -2.270856533656651, -2.324943655587865, -2.3790307775190795, -2.4331178994502936], [-0.7107947482055347, -0.7648818701367487, -0.8189689920679629, -0.873056113999177, -0.9271432359303912, -0.9812303578616053, -1.0353174797928195, -1.0894046017240335, -1.1434917236552475, -1.1975788455864618, -1.251665967517676, -1.30575308944889, -1.359840211380104, -1.4139273333113183, -1.4680144552425323, -1.5221015771737465, -1.5761886991049607, -1.6302758210361747, -1.684362942967389, -1.7384500648986032, -1.7925371868298172, -1.846624308761031, -1.9007114306922452, -1.9547985526234595, -2.0088856745546737, -2.0629727964858877, -2.1170599184171017, -2.171147040348316, -2.22523416227953, -2.279321284210744], [-0.5569981329659855, -0.6110852548971996, -0.6651723768284137, -0.7192594987596278, -0.773346620690842, -0.8274337426220562, -0.8815208645532703, -0.9356079864844845, -0.9896951084156984, -1.0437822303469126, -1.0978693522781267, -1.1519564742093409, -1.206043596140555, -1.2601307180717691, -1.3142178400029831, -1.3683049619341974, -1.4223920838654116, -1.4764792057966254, -1.5305663277278396, -1.584653449659054, -1.638740571590268, -1.6928276935214819, -1.7469148154526961, -1.8010019373839103, -1.8550890593151244, -1.9091761812463386, -1.9632633031775528, -2.017350425108767, -2.071437547039981, -2.1255246689711953], [-0.40320151772643675, -0.4572886396576507, -0.5113757615888649, -0.565462883520079, -0.6195500054512932, -0.6736371273825074, -0.7277242493137214, -0.7818113712449356, -0.8358984931761496, -0.8899856151073637, -0.944072737038578, -0.9981598589697921, -1.052246980901006, -1.1063341028322202, -1.1604212247634345, -1.2145083466946485, -1.2685954686258627, -1.3226825905570767, -1.376769712488291, -1.4308568344195052, -1.4849439563507192, -1.5390310782819332, -1.5931182002131472, -1.6472053221443619, -1.7012924440755757, -1.7553795660067897, -1.809466687938004, -1.8635538098692181, -1.9176409318004322, -1.971728053731646], [-0.24940490248688757, -0.3034920244181016, -0.3575791463493157, -0.4116662682805299, -0.465753390211744, -0.5198405121429581, -0.5739276340741722, -0.6280147560053864, -0.6821018779366005, -0.7361889998678146, -0.7902761217990287, -0.844363243730243, -0.8984503656614569, -0.9525374875926711, -1.0066246095238853, -1.0607117314550993, -1.1147988533863136, -1.1688859753175276, -1.2229730972487416, -1.277060219179956, -1.33114734111117, -1.3852344630423838, -1.4393215849735983, -1.4934087069048125, -1.5474958288360263, -1.6015829507672406, -1.6556700726984548, -1.7097571946296688, -1.763844316560883, -1.8179314384920968], [-0.0956082872473384, -0.1496954091785524, -0.20378253110976655, -0.2578696530409807, -0.3119567749721949, -0.366043896903409, -0.42013101883462306, -0.47421814076583724, -0.5283052626970512, -0.5823923846282655, -0.6364795065594796, -0.6905666284906937, -0.7446537504219078, -0.7987408723531219, -0.8528279942843361, -0.9069151162155502, -0.9610022381467643, -1.0150893600779785, -1.0691764820091925, -1.123263603940407, -1.1773507258716207, -1.2314378478028347, -1.2855249697340492, -1.3396120916652632, -1.3936992135964772, -1.4477863355276914, -1.5018734574589057, -1.5559605793901197, -1.610047701321334, -1.6641348232525477], [0.058188327992210416, 0.004101206060996433, -0.04998591587021772, -0.10407303780143187, -0.15816015973264602, -0.2122472816638602, -0.26633440359507426, -0.3204215255262884, -0.37450864745750245, -0.42859576938871663, -0.4826828913199308, -0.5367700132511449, -0.590857135182359, -0.6449442571135731, -0.6990313790447872, -0.7531185009760014, -0.8072056229072155, -0.8612927448384295, -0.9153798667696437, -0.969466988700858, -1.023554110632072, -1.077641232563286, -1.1317283544945003, -1.1858154764257145, -1.2399025983569285, -1.2939897202881425, -1.3480768422193568, -1.402163964150571, -1.456251086081785, -1.510338208012999], [0.21198494323175932, 0.15789782130054533, 0.10381069936933118, 0.049723577438117034, -0.004363544493097124, -0.05845066642431128, -0.11253778835552534, -0.1666249102867395, -0.22071203221795357, -0.2747991541491677, -0.32888627608038185, -0.38297339801159597, -0.4370605199428101, -0.49114764187402427, -0.5452347638052383, -0.5993218857364525, -0.6534090076676665, -0.7074961295988806, -0.7615832515300949, -0.815670373461309, -0.869757495392523, -0.9238446173237371, -0.9779317392549512, -1.0320188611861654, -1.0861059831173796, -1.1401931050485936, -1.1942802269798078, -1.248367348911022, -1.302454470842236, -1.35654159277345], [0.36578155847130817, 0.31169443654009416, 0.25760731460888, 0.20352019267766586, 0.1494330707464517, 0.09534594881523754, 0.04125882688402347, -0.012828295047190682, -0.06691541697840475, -0.1210025389096189, -0.17508966084083302, -0.22917678277204717, -0.2832639047032613, -0.3373510266344754, -0.3914381485656895, -0.44552527049690366, -0.4996123924281177, -0.5536995143593318, -0.6077866362905461, -0.6618737582217602, -0.7159608801529742, -0.7700480020841883, -0.8241351240154025, -0.8782222459466167, -0.9323093678778308, -0.9863964898090448, -1.0404836117402592, -1.0945707336714732, -1.1486578556026872, -1.2027449775339012], [0.5195781737108571, 0.4654910517796432, 0.411403929848429, 0.3573168079172148, 0.3032296859860007, 0.24914256405478655, 0.19505544212357245, 0.1409683201923583, 0.08688119826114424, 0.03279407632993009, -0.021293045601284023, -0.07538016753249818, -0.12946728946371228, -0.1835544113949264, -0.23764153332614052, -0.29172865525735464, -0.34581577718856876, -0.39990289911978283, -0.45399002105099706, -0.5080771429822112, -0.5621642649134253, -0.6162513868446393, -0.6703385087758534, -0.7244256307070678, -0.7785127526382818, -0.8325998745694958, -0.8866869965007099, -0.9407741184319243, -0.9948612403631383, -1.0489483622943523], [0.6733747889504065, 0.6192876670191925, 0.5652005450879783, 0.5111134231567642, 0.45702630122555005, 0.40293917929433587, 0.3488520573631218, 0.2947649354319076, 0.2406778135006936, 0.18659069156947944, 0.13250356963826532, 0.07841644770705117, 0.024329325775837053, -0.029757796155377058, -0.0838449180865912, -0.13793204001780532, -0.19201916194901944, -0.24610628388023345, -0.3001934058114477, -0.3542805277426619, -0.4083676496738759, -0.46245477160508996, -0.5165418935363042, -0.5706290154675184, -0.6247161373987324, -0.6788032593299465, -0.7328903812611607, -0.7869775031923749, -0.8410646251235889, -0.8951517470548029], [0.8271714041899557, 0.7730842822587417, 0.7189971603275276, 0.6649100383963135, 0.6108229164650992, 0.5567357945338851, 0.5026486726026711, 0.4485615506714569, 0.39447442874024286, 0.3403873068090287, 0.28630018487781456, 0.2322130629466004, 0.1781259410153863, 0.12403881908417219, 0.06995169715295807, 0.01586457522174393, -0.03822254670947018, -0.09230966864068421, -0.14639679057189842, -0.20048391250311265, -0.25457103443432666, -0.30865815636554067, -0.36274527829675496, -0.41683240022796914, -0.4709195221591831, -0.5250066440903972, -0.5790937660216114, -0.6331808879528257, -0.6872680098840397, -0.7413551318152537], [0.9809680194295041, 0.9268808974982901, 0.8727937755670759, 0.8187066536358617, 0.7646195317046476, 0.7105324097734335, 0.6564452878422193, 0.6023581659110052, 0.5482710439797911, 0.494183922048577, 0.44009680011736285, 0.38600967818614873, 0.3319225562549346, 0.2778354343237205, 0.2237483123925064, 0.16966119046129222, 0.11557406853007812, 0.061486946598864084, 0.007399824667649873, -0.04668729726356435, -0.10077441919477838, -0.1548615411259924, -0.20894866305720664, -0.26303578498842084, -0.31712290691963485, -0.37121002885084886, -0.42529715078206315, -0.4793842727132774, -0.5334713946444913, -0.5875585165757055]]}, {\"line\": {\"width\": 6}, \"marker\": {\"size\": 1}, \"showlegend\": false, \"type\": \"scatter3d\", \"x\": [-0.9540985237729442, 1.0886069635296567], \"y\": [-11.521798412170888, -2.7840354410397934], \"z\": [1.0395050807158799, 5.249729397840946]}, {\"line\": {\"width\": 6}, \"marker\": {\"size\": 1}, \"showlegend\": false, \"type\": \"scatter3d\", \"x\": [-0.423953950089518, -0.2185825626940956], \"y\": [-2.679734533092661, 0.559009469644171], \"z\": [-2.7290821665268874, -1.0540988103823976]}, {\"line\": {\"width\": 6}, \"marker\": {\"size\": 1}, \"showlegend\": false, \"type\": \"scatter3d\", \"x\": [-0.8996299869449244, 1.1154934229005067], \"y\": [-9.698610632187053, -2.8527956623871047], \"z\": [2.1667810560691363, 5.37938742951967]}],                        {\"autosize\": true, \"height\": 800, \"margin\": {\"b\": 10, \"l\": 10, \"pad\": 4, \"r\": 10, \"t\": 10}, \"paper_bgcolor\": \"White\", \"scene\": {\"aspectmode\": \"data\", \"camera\": {\"eye\": {\"x\": 1, \"y\": 1, \"z\": 1}}}, \"template\": {\"data\": {\"bar\": [{\"error_x\": {\"color\": \"#2a3f5f\"}, \"error_y\": {\"color\": \"#2a3f5f\"}, \"marker\": {\"line\": {\"color\": \"#E5ECF6\", \"width\": 0.5}}, \"type\": \"bar\"}], \"barpolar\": [{\"marker\": {\"line\": {\"color\": \"#E5ECF6\", \"width\": 0.5}}, \"type\": \"barpolar\"}], \"carpet\": [{\"aaxis\": {\"endlinecolor\": \"#2a3f5f\", \"gridcolor\": \"white\", \"linecolor\": \"white\", \"minorgridcolor\": \"white\", \"startlinecolor\": \"#2a3f5f\"}, \"baxis\": {\"endlinecolor\": \"#2a3f5f\", \"gridcolor\": \"white\", \"linecolor\": \"white\", \"minorgridcolor\": \"white\", \"startlinecolor\": \"#2a3f5f\"}, \"type\": \"carpet\"}], \"choropleth\": [{\"colorbar\": {\"outlinewidth\": 0, \"ticks\": \"\"}, \"type\": \"choropleth\"}], \"contour\": [{\"colorbar\": {\"outlinewidth\": 0, \"ticks\": \"\"}, \"colorscale\": [[0.0, \"#0d0887\"], [0.1111111111111111, \"#46039f\"], [0.2222222222222222, \"#7201a8\"], [0.3333333333333333, \"#9c179e\"], [0.4444444444444444, \"#bd3786\"], [0.5555555555555556, \"#d8576b\"], [0.6666666666666666, \"#ed7953\"], [0.7777777777777778, \"#fb9f3a\"], [0.8888888888888888, \"#fdca26\"], [1.0, \"#f0f921\"]], \"type\": \"contour\"}], \"contourcarpet\": [{\"colorbar\": {\"outlinewidth\": 0, \"ticks\": \"\"}, \"type\": \"contourcarpet\"}], \"heatmap\": [{\"colorbar\": {\"outlinewidth\": 0, \"ticks\": \"\"}, \"colorscale\": [[0.0, \"#0d0887\"], [0.1111111111111111, \"#46039f\"], [0.2222222222222222, \"#7201a8\"], [0.3333333333333333, \"#9c179e\"], [0.4444444444444444, \"#bd3786\"], [0.5555555555555556, \"#d8576b\"], [0.6666666666666666, \"#ed7953\"], [0.7777777777777778, \"#fb9f3a\"], [0.8888888888888888, \"#fdca26\"], [1.0, \"#f0f921\"]], \"type\": \"heatmap\"}], \"heatmapgl\": [{\"colorbar\": {\"outlinewidth\": 0, \"ticks\": \"\"}, \"colorscale\": [[0.0, \"#0d0887\"], [0.1111111111111111, \"#46039f\"], [0.2222222222222222, \"#7201a8\"], [0.3333333333333333, \"#9c179e\"], [0.4444444444444444, \"#bd3786\"], [0.5555555555555556, \"#d8576b\"], [0.6666666666666666, \"#ed7953\"], [0.7777777777777778, \"#fb9f3a\"], [0.8888888888888888, \"#fdca26\"], [1.0, \"#f0f921\"]], \"type\": \"heatmapgl\"}], \"histogram\": [{\"marker\": {\"colorbar\": {\"outlinewidth\": 0, \"ticks\": \"\"}}, \"type\": \"histogram\"}], \"histogram2d\": [{\"colorbar\": {\"outlinewidth\": 0, \"ticks\": \"\"}, \"colorscale\": [[0.0, \"#0d0887\"], [0.1111111111111111, \"#46039f\"], [0.2222222222222222, \"#7201a8\"], [0.3333333333333333, \"#9c179e\"], [0.4444444444444444, \"#bd3786\"], [0.5555555555555556, \"#d8576b\"], [0.6666666666666666, \"#ed7953\"], [0.7777777777777778, \"#fb9f3a\"], [0.8888888888888888, \"#fdca26\"], [1.0, \"#f0f921\"]], \"type\": \"histogram2d\"}], \"histogram2dcontour\": [{\"colorbar\": {\"outlinewidth\": 0, \"ticks\": \"\"}, \"colorscale\": [[0.0, \"#0d0887\"], [0.1111111111111111, \"#46039f\"], [0.2222222222222222, \"#7201a8\"], [0.3333333333333333, \"#9c179e\"], [0.4444444444444444, \"#bd3786\"], [0.5555555555555556, \"#d8576b\"], [0.6666666666666666, \"#ed7953\"], [0.7777777777777778, \"#fb9f3a\"], [0.8888888888888888, \"#fdca26\"], [1.0, \"#f0f921\"]], \"type\": \"histogram2dcontour\"}], \"mesh3d\": [{\"colorbar\": {\"outlinewidth\": 0, \"ticks\": \"\"}, \"type\": \"mesh3d\"}], \"parcoords\": [{\"line\": {\"colorbar\": {\"outlinewidth\": 0, \"ticks\": \"\"}}, \"type\": \"parcoords\"}], \"pie\": [{\"automargin\": true, \"type\": \"pie\"}], \"scatter\": [{\"marker\": {\"colorbar\": {\"outlinewidth\": 0, \"ticks\": \"\"}}, \"type\": \"scatter\"}], \"scatter3d\": [{\"line\": {\"colorbar\": {\"outlinewidth\": 0, \"ticks\": \"\"}}, \"marker\": {\"colorbar\": {\"outlinewidth\": 0, \"ticks\": \"\"}}, \"type\": \"scatter3d\"}], \"scattercarpet\": [{\"marker\": {\"colorbar\": {\"outlinewidth\": 0, \"ticks\": \"\"}}, \"type\": \"scattercarpet\"}], \"scattergeo\": [{\"marker\": {\"colorbar\": {\"outlinewidth\": 0, \"ticks\": \"\"}}, \"type\": \"scattergeo\"}], \"scattergl\": [{\"marker\": {\"colorbar\": {\"outlinewidth\": 0, \"ticks\": \"\"}}, \"type\": \"scattergl\"}], \"scattermapbox\": [{\"marker\": {\"colorbar\": {\"outlinewidth\": 0, \"ticks\": \"\"}}, \"type\": \"scattermapbox\"}], \"scatterpolar\": [{\"marker\": {\"colorbar\": {\"outlinewidth\": 0, \"ticks\": \"\"}}, \"type\": \"scatterpolar\"}], \"scatterpolargl\": [{\"marker\": {\"colorbar\": {\"outlinewidth\": 0, \"ticks\": \"\"}}, \"type\": \"scatterpolargl\"}], \"scatterternary\": [{\"marker\": {\"colorbar\": {\"outlinewidth\": 0, \"ticks\": \"\"}}, \"type\": \"scatterternary\"}], \"surface\": [{\"colorbar\": {\"outlinewidth\": 0, \"ticks\": \"\"}, \"colorscale\": [[0.0, \"#0d0887\"], [0.1111111111111111, \"#46039f\"], [0.2222222222222222, \"#7201a8\"], [0.3333333333333333, \"#9c179e\"], [0.4444444444444444, \"#bd3786\"], [0.5555555555555556, \"#d8576b\"], [0.6666666666666666, \"#ed7953\"], [0.7777777777777778, \"#fb9f3a\"], [0.8888888888888888, \"#fdca26\"], [1.0, \"#f0f921\"]], \"type\": \"surface\"}], \"table\": [{\"cells\": {\"fill\": {\"color\": \"#EBF0F8\"}, \"line\": {\"color\": \"white\"}}, \"header\": {\"fill\": {\"color\": \"#C8D4E3\"}, \"line\": {\"color\": \"white\"}}, \"type\": \"table\"}]}, \"layout\": {\"annotationdefaults\": {\"arrowcolor\": \"#2a3f5f\", \"arrowhead\": 0, \"arrowwidth\": 1}, \"autotypenumbers\": \"strict\", \"coloraxis\": {\"colorbar\": {\"outlinewidth\": 0, \"ticks\": \"\"}}, \"colorscale\": {\"diverging\": [[0, \"#8e0152\"], [0.1, \"#c51b7d\"], [0.2, \"#de77ae\"], [0.3, \"#f1b6da\"], [0.4, \"#fde0ef\"], [0.5, \"#f7f7f7\"], [0.6, \"#e6f5d0\"], [0.7, \"#b8e186\"], [0.8, \"#7fbc41\"], [0.9, \"#4d9221\"], [1, \"#276419\"]], \"sequential\": [[0.0, \"#0d0887\"], [0.1111111111111111, \"#46039f\"], [0.2222222222222222, \"#7201a8\"], [0.3333333333333333, \"#9c179e\"], [0.4444444444444444, \"#bd3786\"], [0.5555555555555556, \"#d8576b\"], [0.6666666666666666, \"#ed7953\"], [0.7777777777777778, \"#fb9f3a\"], [0.8888888888888888, \"#fdca26\"], [1.0, \"#f0f921\"]], \"sequentialminus\": [[0.0, \"#0d0887\"], [0.1111111111111111, \"#46039f\"], [0.2222222222222222, \"#7201a8\"], [0.3333333333333333, \"#9c179e\"], [0.4444444444444444, \"#bd3786\"], [0.5555555555555556, \"#d8576b\"], [0.6666666666666666, \"#ed7953\"], [0.7777777777777778, \"#fb9f3a\"], [0.8888888888888888, \"#fdca26\"], [1.0, \"#f0f921\"]]}, \"colorway\": [\"#636efa\", \"#EF553B\", \"#00cc96\", \"#ab63fa\", \"#FFA15A\", \"#19d3f3\", \"#FF6692\", \"#B6E880\", \"#FF97FF\", \"#FECB52\"], \"font\": {\"color\": \"#2a3f5f\"}, \"geo\": {\"bgcolor\": \"white\", \"lakecolor\": \"white\", \"landcolor\": \"#E5ECF6\", \"showlakes\": true, \"showland\": true, \"subunitcolor\": \"white\"}, \"hoverlabel\": {\"align\": \"left\"}, \"hovermode\": \"closest\", \"mapbox\": {\"style\": \"light\"}, \"paper_bgcolor\": \"white\", \"plot_bgcolor\": \"#E5ECF6\", \"polar\": {\"angularaxis\": {\"gridcolor\": \"white\", \"linecolor\": \"white\", \"ticks\": \"\"}, \"bgcolor\": \"#E5ECF6\", \"radialaxis\": {\"gridcolor\": \"white\", \"linecolor\": \"white\", \"ticks\": \"\"}}, \"scene\": {\"xaxis\": {\"backgroundcolor\": \"#E5ECF6\", \"gridcolor\": \"white\", \"gridwidth\": 2, \"linecolor\": \"white\", \"showbackground\": true, \"ticks\": \"\", \"zerolinecolor\": \"white\"}, \"yaxis\": {\"backgroundcolor\": \"#E5ECF6\", \"gridcolor\": \"white\", \"gridwidth\": 2, \"linecolor\": \"white\", \"showbackground\": true, \"ticks\": \"\", \"zerolinecolor\": \"white\"}, \"zaxis\": {\"backgroundcolor\": \"#E5ECF6\", \"gridcolor\": \"white\", \"gridwidth\": 2, \"linecolor\": \"white\", \"showbackground\": true, \"ticks\": \"\", \"zerolinecolor\": \"white\"}}, \"shapedefaults\": {\"line\": {\"color\": \"#2a3f5f\"}}, \"ternary\": {\"aaxis\": {\"gridcolor\": \"white\", \"linecolor\": \"white\", \"ticks\": \"\"}, \"baxis\": {\"gridcolor\": \"white\", \"linecolor\": \"white\", \"ticks\": \"\"}, \"bgcolor\": \"#E5ECF6\", \"caxis\": {\"gridcolor\": \"white\", \"linecolor\": \"white\", \"ticks\": \"\"}}, \"title\": {\"x\": 0.05}, \"xaxis\": {\"automargin\": true, \"gridcolor\": \"white\", \"linecolor\": \"white\", \"ticks\": \"\", \"title\": {\"standoff\": 15}, \"zerolinecolor\": \"white\", \"zerolinewidth\": 2}, \"yaxis\": {\"automargin\": true, \"gridcolor\": \"white\", \"linecolor\": \"white\", \"ticks\": \"\", \"title\": {\"standoff\": 15}, \"zerolinecolor\": \"white\", \"zerolinewidth\": 2}}}, \"width\": 1000},                        {\"responsive\": true}                    ).then(function(){\n",
       "                            \n",
       "var gd = document.getElementById('1aeb11f2-af68-4d1b-8986-54d5caad8a0a');\n",
       "var x = new MutationObserver(function (mutations, observer) {{\n",
       "        var display = window.getComputedStyle(gd).display;\n",
       "        if (!display || display === 'none') {{\n",
       "            console.log([gd, 'removed!']);\n",
       "            Plotly.purge(gd);\n",
       "            observer.disconnect();\n",
       "        }}\n",
       "}});\n",
       "\n",
       "// Listen for the removal of the full notebook cells\n",
       "var notebookContainer = gd.closest('#notebook-container');\n",
       "if (notebookContainer) {{\n",
       "    x.observe(notebookContainer, {childList: true});\n",
       "}}\n",
       "\n",
       "// Listen for the clearing of the current output cell\n",
       "var outputEl = gd.closest('.output');\n",
       "if (outputEl) {{\n",
       "    x.observe(outputEl, {childList: true});\n",
       "}}\n",
       "\n",
       "                        })                };                });            </script>        </div>"
      ]
     },
     "metadata": {},
     "output_type": "display_data"
    }
   ],
   "source": [
    "with ThreeDFigure() as fig: #trafo, back_trafo, swap_axes=\"xz\"\n",
    "    plane_offset = decision_plane.project([0,0,0]) #point where plane == plane.normal (plane doesn't need to go through [0,0,0])\n",
    "    fig.add_markers([0,0,0], size=3, name=\"origin\") #coordinate center\n",
    "    fig.add_markers(plane_offset, name=\"plane_offset\", color=\"yellow\")\n",
    "    fig.add_line(plane_offset+decision_plane.normal*minneg, plane_offset+decision_plane.normal*maxpos, name=\"plane_normal\") \n",
    "    for point, side in zip(X, y):\n",
    "        if trafo(point)[0] in [minneg, maxneg, minpos, maxpos]:\n",
    "            fig.add_markers(point, color=\"blue\" if side else \"red\", name=\"d=\"+str(trafo(point)[0]), size=3)\n",
    "            fig.add_line(point, back_trafo([0, trafo(point)[1], trafo(point)[2]]), name=\"^ len_d\",)            \n",
    "            fig.add_line(point, ortho_projection_affine(point, decision_plane.normal), name=\"^ proj\")\n",
    "        else:\n",
    "            fig.add_markers(point, color=\"blue\" if side else \"red\", name=str(trafo(point)[0]), showlegend=False)\n",
    "    xx, yy = make_meshgrid(minx=minx, miny=miny, maxx=maxx, maxy=maxy, margin=0.1)\n",
    "    fig.add_surface(xx, yy, decision_plane.z) #decision hyperplane\n",
    "    fig.add_sample_projections(X, decision_plane.normal, n_samples=3, showlegend=False)"
   ]
  },
  {
   "cell_type": "code",
   "execution_count": null,
   "metadata": {},
   "outputs": [],
   "source": [
    "with ThreeDFigure(trafo, back_trafo, swap_axes=\"xz\") as fig:\n",
    "    fig.add_markers([0,0,0], size=3, name=\"origin (original space)\") #coordinate center\n",
    "    fig.add_markers(back_trafo([0,0,0]), size=3, name=\"origin (new space)\") #coordinate center\n",
    "    plane_offset = decision_plane.project([0,0,0]) #point where plane == plane.normal\n",
    "    fig.add_markers(plane_offset, name=\"plane_offset\", color=\"yellow\")\n",
    "    fig.add_line(plane_offset+decision_plane.normal*minneg, plane_offset+decision_plane.normal*maxpos, name=\"plane_normal\") \n",
    "    for point, side in zip(X, y):\n",
    "        if trafo(point)[0] in [minneg, maxneg, minpos, maxpos]:\n",
    "            fig.add_markers(point, color=\"blue\" if side else \"red\", name=\"d=\"+str(trafo(point)[0]), size=3)\n",
    "            fig.add_line(point, back_trafo([0, trafo(point)[1], trafo(point)[2]]), name=\"^ len_d\",)            \n",
    "            fig.add_line(point, ortho_projection_affine(point, decision_plane.normal), name=\"^ proj\")\n",
    "        else:\n",
    "            fig.add_markers(point, color=\"blue\" if side else \"red\", name=str(trafo(point)[0]), showlegend=False)\n",
    "    xx, yy = make_meshgrid(minx=minx, miny=miny, maxx=maxx, maxy=maxy, margin=0.1)\n",
    "    fig.add_surface(xx, yy, decision_plane.z) #decision hyperplane\n",
    "    fig.add_sample_projections(X, decision_plane.normal, n_samples=3, showlegend=False)"
   ]
  },
  {
   "cell_type": "markdown",
   "metadata": {},
   "source": [
    "## include support-vectors in drawing (taking other SVM class!)"
   ]
  },
  {
   "cell_type": "code",
   "execution_count": null,
   "metadata": {},
   "outputs": [],
   "source": [
    "X, y = make_blobs(n_samples=80, centers=2, random_state=6, n_features=3)\n",
    "model = svm.SVC(kernel='linear', C=1).fit(X, y)\n",
    "print(\"Coefficients:\", model.coef_, \"Intercept:\", model.intercept_)\n",
    "decision_plane = Plane(*model.coef_[0], model.intercept_[0])\n",
    "\n",
    "trafo, back_trafo = make_base_changer(decision_plane)\n",
    "\n",
    "onto_plane = np.array([back_trafo([0, trafo(point)[1], trafo(point)[2]]) for point, side in zip(X, y)])\n",
    "minx, miny = onto_plane.min(axis=0)[:2]\n",
    "maxx, maxy = onto_plane.max(axis=0)[:2]\n",
    "\n",
    "z_vals = [trafo(point)[0] for point in X]\n",
    "minneg, maxneg = min(z_vals), max([i for i in z_vals if i < 0])\n",
    "minpos, maxpos = min([i for i in z_vals if i > 0]), max(z_vals)\n",
    "\n",
    "\n",
    "with ThreeDFigure() as fig: #trafo, back_trafo, swap_axes=\"xz\":\n",
    "    fig.add_markers([0,0,0], size=3, name=\"origin (original space)\") #coordinate center\n",
    "    plane_offset = decision_plane.project([0,0,0]) #point where plane == plane.normal\n",
    "    fig.add_markers(plane_offset, name=\"plane_offset\", color=\"yellow\")\n",
    "    fig.add_line(plane_offset+decision_plane.normal*minneg, plane_offset+decision_plane.normal*maxpos, name=\"plane_normal\") \n",
    "    for point, side in zip(X, y):\n",
    "        if trafo(point)[0] in [minneg, maxneg, minpos, maxpos]:\n",
    "            fig.add_markers(point, color=\"blue\" if side else \"red\", name=\"d=\"+str(trafo(point)[0]), size=3)\n",
    "            fig.add_line(point, back_trafo([0, trafo(point)[1], trafo(point)[2]]), name=\"^ len_d\",)            \n",
    "            fig.add_line(point, ortho_projection_affine(point, decision_plane.normal), name=\"^ proj\")\n",
    "        else:\n",
    "            fig.add_markers(point, color=\"blue\" if side else \"red\", name=str(trafo(point)[0]), showlegend=False)\n",
    "    xx, yy = make_meshgrid(minx=minx, miny=miny, maxx=maxx, maxy=maxy, margin=0.1)\n",
    "    fig.add_surface(xx, yy, decision_plane.z) #decision hyperplane\n",
    "    fig.add_markers([0,0,0], size=3, name=\"origin\") #coordinate center\n",
    "    fig.add_sample_projections(X, decision_plane.normal, n_samples=3, showlegend=False)\n",
    "    \n",
    "    #if hasattr(model, \"support_vectors_\"):\n",
    "    for n, point in enumerate(model.support_vectors_):\n",
    "        fig.add_markers(point, name=f\"support_vec_{n}\", marker={\"color\": None, \"size\": 2, \"line\": {\"width\": 3, \"color\": \"black\"}},)"
   ]
  },
  {
   "cell_type": "markdown",
   "metadata": {},
   "source": [
    "# Checking projection-methods & distance measures from point to projection"
   ]
  },
  {
   "cell_type": "code",
   "execution_count": null,
   "metadata": {},
   "outputs": [],
   "source": [
    "X, y = make_blobs(n_samples=80, centers=2, random_state=6, n_features=3)\n",
    "model = svm.SVC(kernel='linear', C=1).fit(X, y)\n",
    "print(\"Coefficients:\", model.coef_, \"Intercept:\", model.intercept_)\n",
    "\n",
    "decision_plane = Plane(*model.coef_[0], model.intercept_[0])\n",
    "forward, backward = make_base_changer(decision_plane)\n",
    "\n",
    "list(zip(y, X))[:10]"
   ]
  },
  {
   "cell_type": "code",
   "execution_count": null,
   "metadata": {},
   "outputs": [],
   "source": [
    "# helper functions\n",
    "def get_normalized_fn(orig_fn, all_mds, *more_args):\n",
    "    fmin, fmax = min(all_vals := [orig_fn(all_mds[i], *more_args) for i in range(len(all_mds))]), max(all_vals)\n",
    "    return lambda x: round(((orig_fn(x, *more_args)-fmin)/(fmax-fmin))*100, 2)\n",
    "\n",
    "get_both = lambda fn, all_mds, *more_args: (fn, get_normalized_fn(fn, all_mds, *more_args))\n",
    "\n",
    "vec_dist = lambda a, b: np.linalg.norm(a-b)"
   ]
  },
  {
   "cell_type": "markdown",
   "metadata": {},
   "source": [
    "### Now let's get to the actual projections/distances..."
   ]
  },
  {
   "cell_type": "code",
   "execution_count": null,
   "metadata": {},
   "outputs": [],
   "source": [
    "prototypicality_pre, prototypicality = get_both(lambda x, forwardproj: abs(forwardproj(x)[0]), X, forward)\n",
    "\n",
    "project_pre, project = get_both(lambda x, plane: vec_dist(plane.project(x), x), X, decision_plane)\n",
    "\n",
    "#see https://stackoverflow.com/a/17661431: distance = n * p + d\n",
    "project2_pre = lambda x, plane: np.dot(plane.normal, x) + plane.d  #This, nicely, returns 0 if on plane, something > 0 if in FRONT (side of normal) and something < 0 if BEHIND of plane.\n",
    "abs_project2_pre, abs_project2 = get_both(lambda x, plane: abs(np.dot(plane.normal, x) + plane.d), X, decision_plane)"
   ]
  },
  {
   "cell_type": "code",
   "execution_count": null,
   "metadata": {},
   "outputs": [],
   "source": [
    "#onto_plane =  p' = p - (n ⋅ p + d) * n  -- see https://stackoverflow.com/a/41897378\n",
    "\n",
    "quotients = [abs_project2_pre(x, decision_plane)/prototypicality_pre(x, forward) for x in X[:20]]\n",
    "assert np.isclose(min(quotients), max(quotients))\n",
    "#TODO figure out WHY the quotient between protypicality, proj-dist and abs-proj-dist-2 is the way it is and then correct this!!\n",
    "\n",
    "def onto_plane(x, plane, quotient):\n",
    "    #plane_dist = project2_pre(x, plane)\n",
    "    #plane_dist = project_pre(x, plane)\n",
    "    #plane_dist = prototypicality_pre(x, forwardproj) #hiermit klappts..\n",
    "    plane_dist = project2_pre(x, plane) / quotient\n",
    "    #TODO figure out WHY the quotient between protypicality, proj-dist and abs-proj-dist-2 is the way it is and then correct this!!\n",
    "    return x - plane_dist * plane.normal\n",
    "\n",
    "project3_pre, project3 = get_both(lambda x, plane, quotient: vec_dist(onto_plane(x, plane, quotient), x), X, decision_plane, quotients[0])"
   ]
  },
  {
   "cell_type": "code",
   "execution_count": null,
   "metadata": {},
   "outputs": [],
   "source": [
    "project_using_basechanger = lambda x, forwardproj, backwardproj: backwardproj([0, (transformed := forwardproj(x))[1], transformed[2]])\n",
    "project_using_project     = lambda x, plane: plane.project(x)\n",
    "project_using_project2_3  = lambda x, plane, quotient: onto_plane(x, plane, quotient)"
   ]
  },
  {
   "cell_type": "code",
   "execution_count": null,
   "metadata": {},
   "outputs": [],
   "source": [
    "for x in X[:10]:\n",
    "    print(\"Point:\", x, \"  reversed:\", project2_pre(x, decision_plane) > 0)\n",
    "    #print(\"Forward-x:\", forward(x))\n",
    "\n",
    "    print(\"  Normed Project:\", project(x))\n",
    "    print(\"  Normed Prototypicality:\", prototypicality(x))\n",
    "    print(\"  Normed abs projection Distance:\", abs_project2(x))\n",
    "    print(\"  Normed Distance Point & Projection3:\", project3(x))\n",
    "    print()\n",
    "\n",
    "    print(\"  Unnormed Project:\", project_pre(x, decision_plane))\n",
    "    print(\"  Unnormed Prototypicality:\", prototypicality_pre(x, forward))\n",
    "    print(\"  Projection Distance:\", project2_pre(x, decision_plane))\n",
    "    print(\"  Abs projection Distance:\", abs_project2_pre(x, decision_plane))\n",
    "    print(\"  Unnormed Distance Point <-> Projection3\", project3_pre(x, decision_plane, quotients[0]))\n",
    "    print()\n",
    "\n",
    "    print(\"  Quotient Prototypicality <-> Proj Dist:\", project_pre(x, decision_plane)/prototypicality_pre(x, forward))\n",
    "    print(\"  Quotient Prototypicality <-> Abs Proj Dist 2:\", abs_project2_pre(x, decision_plane)/prototypicality_pre(x, forward))\n",
    "    print(\"  Proj Dist <-> Abs Proj Dist 2:\", project_pre(x, decision_plane)/abs_project2_pre(x, decision_plane))\n",
    "    #TODO figure out WHY the quotient between protypicality, proj-dist and abs-proj-dist-2 is the way it is.\n",
    "    print()\n",
    "\n",
    "    print(\"  Projections are actually on the plane: \", project_using_basechanger(x, forward, backward) in decision_plane, project_using_project(x, decision_plane) in decision_plane, project_using_project2_3(x, decision_plane, quotients[0]) in decision_plane)\n",
    "    print(\"\\n\")"
   ]
  },
  {
   "cell_type": "code",
   "execution_count": null,
   "metadata": {},
   "outputs": [],
   "source": []
  },
  {
   "cell_type": "code",
   "execution_count": null,
   "metadata": {},
   "outputs": [],
   "source": [
    "#deleteme from here"
   ]
  },
  {
   "cell_type": "code",
   "execution_count": null,
   "metadata": {},
   "outputs": [],
   "source": [
    "def plane_proj(plane, point):\n",
    "    x, y, z = point\n",
    "    k = (plane.a * x + plane.b * y + plane.c * z + plane.d) / (plane.a ** 2 + plane.b ** 2 + plane.c ** 2)\n",
    "    k = 2*k\n",
    "    return np.array([x - k * plane.a, y - k * plane.b, z - k * plane.c])\n",
    "\n",
    "\n",
    "for x in X[:5]:\n",
    "    tmpproj = plane_proj(decision_plane, x)\n",
    "    print(vec_dist(x, tmpproj))\n",
    "    print(vec_dist(x, decision_plane.project(x)))\n",
    "    print()"
   ]
  },
  {
   "cell_type": "code",
   "execution_count": null,
   "metadata": {},
   "outputs": [],
   "source": [
    "def plane_proj(plane, point):\n",
    "    x, y, z = point\n",
    "    k = (plane.a * x + plane.b * y + plane.c * z + plane.d) / (plane.a ** 2 + plane.b ** 2 + plane.c ** 2)\n",
    "    return np.array([x - k * plane.a, y - k * plane.b, z - k * plane.c])\n",
    "\n",
    "\n",
    "for x in X[:5]:\n",
    "    tmpproj = plane_proj(decision_plane, x)\n",
    "    print(vec_dist(x, tmpproj))\n",
    "    print(vec_dist(x, decision_plane.project(x)))\n",
    "    print()"
   ]
  },
  {
   "cell_type": "code",
   "execution_count": null,
   "metadata": {},
   "outputs": [],
   "source": [
    "project_using_basechanger = lambda x, forwardproj, backwardproj: backwardproj([0, (transformed := forwardproj(x))[1], transformed[2]])\n",
    "project_using_project     = lambda x, plane: plane.project(x)\n",
    "project_using_project2_3  = lambda x, plane, quotient: onto_plane(x, plane, quotient)"
   ]
  },
  {
   "cell_type": "code",
   "execution_count": null,
   "metadata": {},
   "outputs": [],
   "source": [
    "for x in X[:5]:\n",
    "    print(decision_plane.project(x), decision_plane.project(x) in decision_plane, vec_dist(decision_plane.project(x), x))\n",
    "    \n",
    "    tmp = np.dot(decision_plane.normal, x) + decision_plane.d \n",
    "    tmp = tmp/(decision_plane.a**2+decision_plane.b**2+decision_plane.c**2)\n",
    "    proj = x - tmp * decision_plane.normal\n",
    "    print(proj)\n",
    "    \n",
    "    \n",
    "    print()"
   ]
  },
  {
   "cell_type": "raw",
   "metadata": {},
   "source": [
    "For that, we first have to know how to project a point onto a plane in affine frames \n",
    "\t(TODO: explain affine frames)\n",
    "\tSoo, what we want to do is find the minimal distance from the point to the plane. The minimal distance is achieved by going orthogonally towards the plane (-> in the direction of the normal). So we gotta calculate HOW MUCH we have to go into the direction, and then go into the direction of the normal.\n",
    "\n",
    "\t```\n",
    "\t    def project(self, point):\n",
    "        x, y, z = point\n",
    "        k = (self.a * x + self.b * y + self.c * z + self.d) / (self.a ** 2 + self.b ** 2 + self.c ** 2)\n",
    "        return np.array([x - k * self.a, y - k * self.b, z - k * self.c])\n",
    "    ```\n",
    "\n",
    "    k is the \"how much\", a scalar. Why is that the value it is?!\n",
    "\n",
    "    Well, https://stackoverflow.com/a/17661431 here says the distance from a point to its projection onto the plane is np.dot(point, plane.normal)+d (...and the actual projection then `p-(np.dot(point, plane.normal)+d)*n`). ...UND DAS MUSS MAN EINFACH HINNEHMEN! That is almost the same, except it's not \"normalized\" by a²+b²+c².\n",
    "\n",
    "    What is the explanation of the difference from this to the result of using forward and backward??"
   ]
  },
  {
   "cell_type": "code",
   "execution_count": null,
   "metadata": {},
   "outputs": [],
   "source": [
    "#deleteme until here"
   ]
  }
 ],
 "metadata": {
  "kernelspec": {
   "display_name": "Python 3 (ipykernel)",
   "language": "python",
   "name": "python3"
  },
  "language_info": {
   "codemirror_mode": {
    "name": "ipython",
    "version": 3
   },
   "file_extension": ".py",
   "mimetype": "text/x-python",
   "name": "python",
   "nbconvert_exporter": "python",
   "pygments_lexer": "ipython3",
   "version": "3.10.0"
  }
 },
 "nbformat": 4,
 "nbformat_minor": 4
}
