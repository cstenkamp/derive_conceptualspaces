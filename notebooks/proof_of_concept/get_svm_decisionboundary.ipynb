{
 "cells": [
  {
   "cell_type": "code",
   "execution_count": null,
   "metadata": {},
   "outputs": [],
   "source": [
    "import plotly.io as pio\n",
    "pio.renderers.default = \"plotly_mimetype+notebook_connected\"\n",
    "#to render in nbviewer, see https://nbviewer.org/github/jupyterhub/binder-billing/blob/master/analyze_data.ipynb?flush_cache=true"
   ]
  },
  {
   "cell_type": "code",
   "execution_count": null,
   "metadata": {},
   "outputs": [],
   "source": [
    "import numpy as np\n",
    "import matplotlib.pyplot as plt\n",
    "from sklearn import svm, datasets\n",
    "from sklearn.datasets import make_blobs\n",
    "import math"
   ]
  },
  {
   "cell_type": "code",
   "execution_count": null,
   "metadata": {},
   "outputs": [],
   "source": [
    "def create_iris_dataset(ndims):\n",
    "    iris = datasets.load_iris()\n",
    "    X = iris.data[:, :ndims]\n",
    "    y = iris.target\n",
    "    to_take_indices = list(set(np.arange(len(y)))-set(np.where(y==2)[0]))\n",
    "    X = X[to_take_indices]\n",
    "    y = y[to_take_indices]\n",
    "    return X, y"
   ]
  },
  {
   "cell_type": "markdown",
   "metadata": {},
   "source": [
    "# 2D"
   ]
  },
  {
   "cell_type": "code",
   "execution_count": null,
   "metadata": {},
   "outputs": [],
   "source": [
    "def make_meshgrid(x, y, h=.02):\n",
    "    \"\"\"Create a mesh of points to plot in\n",
    "\n",
    "    Parameters\n",
    "    ----------\n",
    "    x: data to base x-axis meshgrid on\n",
    "    y: data to base y-axis meshgrid on\n",
    "    h: stepsize for meshgrid, optional\n",
    "\n",
    "    Returns\n",
    "    -------\n",
    "    xx, yy : ndarray\n",
    "    \"\"\"\n",
    "    x_min, x_max = x.min() - 1, x.max() + 1\n",
    "    y_min, y_max = y.min() - 1, y.max() + 1\n",
    "    xx, yy = np.meshgrid(np.arange(x_min, x_max, h),\n",
    "                         np.arange(y_min, y_max, h))\n",
    "    return xx, yy\n",
    "\n",
    "\n",
    "def plot_contours(ax, clf, xx, yy, **params):\n",
    "    \"\"\"Plot the decision boundaries for a classifier.\n",
    "\n",
    "    Parameters\n",
    "    ----------\n",
    "    ax: matplotlib axes object\n",
    "    clf: a classifier\n",
    "    xx: meshgrid ndarray\n",
    "    yy: meshgrid ndarray\n",
    "    params: dictionary of params to pass to contourf, optional\n",
    "    \"\"\"\n",
    "    Z = clf.predict(np.c_[xx.ravel(), yy.ravel()])\n",
    "    Z = Z.reshape(xx.shape)\n",
    "    out = ax.contourf(xx, yy, Z, **params)\n",
    "    return out"
   ]
  },
  {
   "cell_type": "code",
   "execution_count": null,
   "metadata": {},
   "outputs": [],
   "source": [
    "X, y = create_iris_dataset(ndims=2)\n",
    "\n",
    "#...different dataset (you may comment me out):\n",
    "#X, y = make_blobs(n_samples=80, centers=2, random_state=6)"
   ]
  },
  {
   "cell_type": "code",
   "execution_count": null,
   "metadata": {},
   "outputs": [],
   "source": [
    "def plot_all(X, model, title):\n",
    "    X0, X1 = X[:, 0], X[:, 1]\n",
    "    xx, yy = make_meshgrid(X0, X1)\n",
    "    fig, ax = plt.subplots(1,1)\n",
    "    plot_contours(ax, model, xx, yy, cmap=plt.cm.coolwarm, alpha=0.8)\n",
    "    ax.scatter(X0, X1, c=y, cmap=plt.cm.coolwarm, s=20, edgecolors='k')\n",
    "    ax.set_xlim(xx.min(), xx.max())\n",
    "    ax.set_ylim(yy.min(), yy.max())\n",
    "    ax.set_xlabel('Sepal length')\n",
    "    ax.set_ylabel('Sepal width')\n",
    "    ax.set_title(title)\n",
    "    plt.show()\n",
    "    return ax.get_xlim(), ax.get_ylim()\n",
    "    \n",
    "\n",
    "def plot_all_2(X, model, title):\n",
    "    plt.scatter(X[:, 0], X[:, 1], c=y, s=30, cmap=plt.cm.Paired)\n",
    "    ax = plt.gca()\n",
    "    xlim = ax.get_xlim()\n",
    "    ylim = ax.get_ylim()\n",
    "\n",
    "    # create grid to evaluate model\n",
    "    xx = np.linspace(xlim[0], xlim[1], 30)\n",
    "    yy = np.linspace(ylim[0], ylim[1], 30)\n",
    "    YY, XX = np.meshgrid(yy, xx)\n",
    "    xy = np.vstack([XX.ravel(), YY.ravel()]).T\n",
    "    Z = model.decision_function(xy).reshape(XX.shape)\n",
    "\n",
    "    # plot decision boundary and margins\n",
    "    ax.contour(XX, YY, Z, colors='k', levels=[-1, 0, 1], alpha=0.5, linestyles=['--', '-', '--'])\n",
    "    # plot support vectors\n",
    "    if hasattr(model, \"support_vectors_\"):\n",
    "        ax.scatter(model.support_vectors_[:, 0], model.support_vectors_[:, 1], s=100, linewidth=1, facecolors='none', edgecolors='k')\n",
    "    ax.set_title(title)\n",
    "    plt.show()"
   ]
  },
  {
   "cell_type": "code",
   "execution_count": null,
   "metadata": {},
   "outputs": [],
   "source": [
    "model = svm.LinearSVC(C=1, max_iter=10000).fit(X, y)\n",
    "print(\"Coefficients:\", model.coef_, \"Intercept:\", model.intercept_)\n",
    "xlim, ylim = plot_all(X, model, title='LinearSVC (linear kernel)')\n",
    "plot_all_2(X, model, title='LinearSVC (linear kernel)')"
   ]
  },
  {
   "cell_type": "code",
   "execution_count": null,
   "metadata": {},
   "outputs": [],
   "source": [
    "model = svm.SVC(kernel='linear', C=1).fit(X, y)\n",
    "print(\"Coefficients:\", model.coef_, \"Intercept:\", model.intercept_)\n",
    "xlim, ylim = plot_all(X, model, title='LinearSVC (linear kernel)')\n",
    "plot_all_2(X, model, title='LinearSVC (linear kernel)')"
   ]
  },
  {
   "cell_type": "code",
   "execution_count": null,
   "metadata": {
    "tags": []
   },
   "outputs": [],
   "source": [
    "def abline(slope, intercept, xlim=(0,3), ylim=(0,3)):\n",
    "    \"\"\"Plot a line from slope and intercept\"\"\"\n",
    "    axes = plt.gca()\n",
    "    axes.set_xlim(xlim)\n",
    "    axes.set_ylim(ylim)\n",
    "    x_vals = np.array(axes.get_xlim())\n",
    "    y_vals = -intercept + slope * x_vals\n",
    "    plt.plot(x_vals, y_vals, '--')\n",
    "    \n",
    "\n",
    "def find_seperatrix(model):\n",
    "    W=model.coef_[0]\n",
    "    I=model.intercept_\n",
    "    a = -W[0]/W[1]\n",
    "    b = I[0]/W[1]\n",
    "    return a, b\n",
    "\n",
    "slope, intercept = find_seperatrix(model)\n",
    "\n",
    "print(slope, intercept)\n",
    "\n",
    "abline(slope, intercept, xlim, ylim)"
   ]
  },
  {
   "cell_type": "code",
   "execution_count": null,
   "metadata": {},
   "outputs": [],
   "source": [
    "x_vals = np.array(xlim)\n",
    "y_vals = -intercept + slope * x_vals\n",
    "points = [np.array(i) for i in zip(x_vals, y_vals)]\n",
    "\n",
    "vector = points[1]-points[0]\n",
    "\n",
    "print(points)\n",
    "print(vector)"
   ]
  },
  {
   "cell_type": "code",
   "execution_count": null,
   "metadata": {},
   "outputs": [],
   "source": [
    "def show_vectors(ax, vectors, vectors_with_start):\n",
    "    \"\"\"https://stackoverflow.com/a/42282532/5122790\"\"\"\n",
    "    HEAD_SIZE = 0.2\n",
    "    M = np.array(vectors)\n",
    "    colors = ['r','g','b','k','gray']\n",
    "    if vectors:\n",
    "        for i,l in enumerate(range(0,M.shape[0])):\n",
    "            ax.arrow(0,0,M[i,0],M[i,1],head_width=HEAD_SIZE,head_length=HEAD_SIZE,color = colors[i], length_includes_head=True)\n",
    "\n",
    "    colors = ['c','m','y']\n",
    "    if vectors_with_start:\n",
    "        for i,(xs,ys,xf,yf) in enumerate([(*i[0],*i[1]) for i in vectors_with_start]):\n",
    "            ax.arrow(xs,ys,xf,yf,head_width=HEAD_SIZE,head_length=HEAD_SIZE,color = colors[i], length_includes_head=True)\n",
    "\n",
    "    return ax"
   ]
  },
  {
   "cell_type": "code",
   "execution_count": null,
   "metadata": {},
   "outputs": [],
   "source": [
    "def ortho_proj(a,b):\n",
    "    #https://en.wikipedia.org/wiki/Vector_projection\n",
    "    a1_sc = np.dot(a,(b/np.linalg.norm(b)))\n",
    "    b_hat = b/np.linalg.norm(b)\n",
    "    a1 = a1_sc*b_hat\n",
    "    a2 = a-a1\n",
    "    return a2"
   ]
  },
  {
   "cell_type": "code",
   "execution_count": null,
   "metadata": {},
   "outputs": [],
   "source": [
    "center_point = points[0]+0.5*vector"
   ]
  },
  {
   "cell_type": "code",
   "execution_count": null,
   "metadata": {},
   "outputs": [],
   "source": [
    "print(ortho_proj(vector, center_point))"
   ]
  },
  {
   "cell_type": "code",
   "execution_count": null,
   "metadata": {},
   "outputs": [],
   "source": [
    "fig, ax = plt.subplots(figsize=(8,8))\n",
    "show_vectors(ax, [], [(points[0], vector), (center_point, ortho_proj(vector, center_point))])\n",
    "\n",
    "ax.plot(*center_point,'ok') \n",
    "ax.set_aspect('equal', 'box')\n",
    "plt.grid(b=True, which='major')\n",
    "\n",
    "plt.xlim(xlim)\n",
    "plt.ylim(ylim)\n",
    "plt.show()"
   ]
  },
  {
   "cell_type": "code",
   "execution_count": null,
   "metadata": {},
   "outputs": [],
   "source": [
    "print(model.coef_[0])\n",
    "print(center_point+model.coef_[0])"
   ]
  },
  {
   "cell_type": "code",
   "execution_count": null,
   "metadata": {},
   "outputs": [],
   "source": [
    "fig, ax = plt.subplots(figsize=(8,8))\n",
    "show_vectors(ax, [], [(points[0], vector), (center_point, ortho_proj(vector, center_point)), (center_point, model.coef_[0])])\n",
    "\n",
    "ax.plot(*center_point,'ok') \n",
    "ax.set_aspect('equal', 'box')\n",
    "plt.grid(b=True, which='major')\n",
    "\n",
    "plt.xlim(xlim)\n",
    "plt.ylim(ylim)\n",
    "plt.show()"
   ]
  },
  {
   "cell_type": "markdown",
   "metadata": {},
   "source": [
    "# 3D"
   ]
  },
  {
   "cell_type": "code",
   "execution_count": null,
   "metadata": {},
   "outputs": [],
   "source": [
    "#https://stackoverflow.com/a/51301399/5122790, https://stackoverflow.com/a/69407977/5122790 !!!\n",
    "import plotly.express as px\n",
    "import plotly.graph_objects as go\n",
    "from mpl_toolkits import mplot3d\n",
    "from dataclasses import dataclass"
   ]
  },
  {
   "cell_type": "code",
   "execution_count": null,
   "metadata": {},
   "outputs": [],
   "source": [
    "X, y = create_iris_dataset(ndims=3)\n",
    "model = svm.LinearSVC(C=1, max_iter=10000).fit(X, y)\n",
    "print(\"Coefficients:\", model.coef_, \"Intercept:\", model.intercept_)"
   ]
  },
  {
   "cell_type": "code",
   "execution_count": null,
   "metadata": {},
   "outputs": [],
   "source": [
    "fig = plt.figure(figsize=(8, 6))\n",
    "ax = plt.axes(projection='3d')\n",
    "ax.scatter(X[:,0], X[:,1], X[:,2], color=[\"r\" if i==0 else \"b\" for i in y])\n",
    "plt.show()"
   ]
  },
  {
   "cell_type": "code",
   "execution_count": null,
   "metadata": {},
   "outputs": [],
   "source": [
    "def make_meshgrid(X=None, minx=None, miny=None, maxx=None, maxy=None, size=None, amount=30, margin=0):\n",
    "    assert X is not None or (minx is not None and miny is not None and maxx is not None and maxy is not None) or size is not None\n",
    "    if X is not None:\n",
    "        minx = min(X[:,0]) if minx is None or min(X[:,0])<minx else minx\n",
    "        miny = min(X[:,1]) if miny is None or min(X[:,1])<miny else miny\n",
    "        maxx = max(X[:,0]) if maxx is None or max(X[:,0])>maxx else maxx\n",
    "        maxy = max(X[:,1]) if maxy is None or max(X[:,1])>maxy else maxy\n",
    "    elif size is not None and (minx is None and miny is None and maxx is None and maxy is None):\n",
    "        minx = miny = -size\n",
    "        maxx = maxy = size\n",
    "    lsx = np.linspace(minx-margin, maxx+margin, amount)\n",
    "    lsy = np.linspace(miny-margin, maxy+margin, amount)\n",
    "    xx, yy = np.meshgrid(lsx,lsy)\n",
    "    return xx, yy\n",
    "\n",
    "\n",
    "def plot_3d_boundary(clf):\n",
    "    # The equation of the separating plane is given by all x so that np.dot(svc.coef_[0], x) + b = 0.\n",
    "    # Solve for w3 (z)\n",
    "    z = lambda clf, x,y: (-clf.intercept_[0]-clf.coef_[0][0]*x -clf.coef_[0][1]*y) / clf.coef_[0][2]\n",
    "    # https://stackoverflow.com/a/51301399/5122790 !!!\n",
    "\n",
    "    xx, yy = make_meshgrid(X)\n",
    "\n",
    "    fig = plt.figure()\n",
    "    ax  = fig.add_subplot(111, projection='3d')\n",
    "    ax.plot3D(X[y==0,0], X[y==0,1], X[y==0,2],'ob')\n",
    "    ax.plot3D(X[y==1,0], X[y==1,1], X[y==1,2],'sr')\n",
    "    ax.plot_surface(xx, yy, z(clf,xx,yy))\n",
    "    ax.view_init(30, 60)\n",
    "    plt.show()\n",
    "    \n",
    "plot_3d_boundary(model)"
   ]
  },
  {
   "cell_type": "code",
   "execution_count": null,
   "metadata": {},
   "outputs": [],
   "source": [
    "def ortho_projection_affine(a, b):\n",
    "    \"\"\"https://en.wikipedia.org/wiki/Vector_projection\"\"\"\n",
    "    return np.dot(np.dot(a,b)/np.dot(b,b),b)\n",
    "\n",
    "class ThreeDFigure():\n",
    "    def __init__(self, trafo_fn=None, back_trafo_fn=None, swap_axes=None):\n",
    "        self.trafo_fn = trafo_fn if trafo_fn is not None else lambda x: x\n",
    "        self.back_trafo_fn = back_trafo_fn if back_trafo_fn is not None else lambda x: x\n",
    "        self.swap_axes = swap_axes\n",
    "        #https://community.plotly.com/t/creating-a-3d-scatterplot-with-equal-scale-along-all-axes/15108/7\n",
    "        self.fig = go.Figure(layout=go.Layout(\n",
    "                        scene=dict(camera=dict(eye=dict(x=1, y=1, z=1)), aspectmode=\"data\"),\n",
    "                        autosize=True,\n",
    "                        width=1000,\n",
    "                        height=800,\n",
    "                        margin=dict(l=10, r=10, b=10, t=10, pad=4),\n",
    "                        paper_bgcolor=\"White\"))\n",
    "        \n",
    "    def _transform(self, points, inverse=False):\n",
    "        trafo_fn = self.back_trafo_fn if inverse else self.trafo_fn              \n",
    "        points = np.array([trafo_fn(point) for point in points])    \n",
    "        if self.swap_axes:\n",
    "            points = self._swap_axes(points, self.swap_axes)\n",
    "        return points\n",
    "    \n",
    "    def _swap_axes(self, points, swap_axes):\n",
    "        swap_translate = {\"x\": 0, \"y\": 1, \"z\": 2}\n",
    "        ind1, ind2 = swap_translate[swap_axes[0]], swap_translate[swap_axes[1]]\n",
    "        tmp = points[:,ind1].copy()\n",
    "        points[:,ind1] = points[:,ind2]\n",
    "        points[:,ind2] = tmp\n",
    "        return points\n",
    "    \n",
    "                    \n",
    "    def add_surface(self, xx, yy, z_func, swap_axes=None, opacity=None):\n",
    "        xy_arr = np.vstack([xx.flatten(), yy.flatten()]).T\n",
    "        z_arr = np.array([z_func(*i) for i in xy_arr])\n",
    "        points = np.column_stack([xy_arr, z_arr])\n",
    "        points = self._transform(points)\n",
    "        if swap_axes: \n",
    "            points = self._swap_axes(points, swap_axes)\n",
    "        surface_form = lambda x: x.reshape(round(math.sqrt(x.shape[0])),-1)\n",
    "        self.fig.add_trace(go.Surface(x=surface_form(points[:,0]), y=surface_form(points[:,1]), z=surface_form(points[:,2]), opacity=opacity, showlegend=False, showscale=False))\n",
    "    \n",
    "    \n",
    "    def add_line(self, point1, point2, width=6, do_transform=True, name=None, **kwargs):\n",
    "        if do_transform:\n",
    "            point1 = self._transform(np.array([point1])).squeeze()\n",
    "            point2 = self._transform(np.array([point2])).squeeze()\n",
    "        self.fig.add_trace(\n",
    "            go.Scatter3d(x = [point1[0], point2[0]],\n",
    "                         y = [point1[1], point2[1]],\n",
    "                         z = [point1[2], point2[2]],\n",
    "                         marker = dict(size = 1),\n",
    "                         line = dict(width = width),\n",
    "                         name=name,\n",
    "                         **kwargs\n",
    "                         )\n",
    "        )\n",
    "        \n",
    "    def add_markers(self, points, color=\"black\", size=2, name=None, **kwargs):\n",
    "        points = np.array(points)\n",
    "        if points.ndim == 1: points = np.array([points])\n",
    "        points = self._transform(points)\n",
    "        default_args = dict(mode=\"markers\", x=points[:,0], y=points[:,1], z=points[:,2], marker={\"color\": color, \"size\": size, \"line\": {\"width\": 0}}, name=name)\n",
    "        self.fig.add_trace(go.Scatter3d(**{**default_args, **kwargs}))\n",
    "        \n",
    "    \n",
    "    def add_sample_projections(self, X, onto, n_samples=10, **kwargs):\n",
    "        show_vecs = X[np.random.choice(X.shape[0], n_samples, replace=False), :]\n",
    "        for point in show_vecs:\n",
    "            proj = ortho_projection_affine(point, onto)\n",
    "            self.add_line(point, proj, **kwargs)\n",
    "            \n",
    "    \n",
    "    def __enter__(self, *args):\n",
    "        return self\n",
    "    \n",
    "    def __exit__(self, exc_type, exc, exc_tb):\n",
    "        if not exc_type:\n",
    "            display(self.fig)\n",
    "    "
   ]
  },
  {
   "cell_type": "code",
   "execution_count": null,
   "metadata": {},
   "outputs": [],
   "source": [
    "@dataclass\n",
    "class Plane:\n",
    "    a: float\n",
    "    b: float\n",
    "    c: float\n",
    "    d: float\n",
    "    \n",
    "    @property\n",
    "    def normal(self):\n",
    "        return np.array([self.a, self.b, self.c])\n",
    "    \n",
    "    def __contains__(self, point:np.array):\n",
    "        return np.isclose(self.a*point[0] + self.b*point[1] + self.c*point[2] + self.d, 0)\n",
    "    \n",
    "    def project(self, point):\n",
    "        x,y,z = point\n",
    "        k = (self.a*x + self.b*y + self.c*z + self.d)/(self.a**2 + self.b**2 + self.c**2)\n",
    "        return np.array([x - k*self.a, y-k*self.b, z-k*self.c])\n",
    "   \n",
    "    def z(self, x, y):\n",
    "        return (- self.d - self.b*y - self.a*x)/self.c"
   ]
  },
  {
   "cell_type": "code",
   "execution_count": null,
   "metadata": {},
   "outputs": [],
   "source": [
    "decision_plane = Plane(*model.coef_[0], model.intercept_[0])\n",
    "\n",
    "with ThreeDFigure() as fig:\n",
    "    fig.add_markers(X, color=y) #samples\n",
    "    xx, yy = make_meshgrid(X, margin=1)\n",
    "    fig.add_surface(xx, yy, decision_plane.z) #decision hyperplane\n",
    "    fig.add_line(X.mean(axis=0)-decision_plane.normal, X.mean(axis=0)+decision_plane.normal) #orthogonal of decision hyperplane through mean of points\n",
    "    fig.add_markers([0,0,0], size=3) #coordinate center\n",
    "    \n",
    "    fig.add_line(-decision_plane.normal*5, decision_plane.normal*5) #orthogonal of decision hyperplane through [0,0,0]\n",
    "    fig.add_sample_projections(X, decision_plane.normal) #orthogonal lines from the samples onto the decision hyperplane orthogonal"
   ]
  },
  {
   "cell_type": "code",
   "execution_count": null,
   "metadata": {},
   "outputs": [],
   "source": [
    "X, y = make_blobs(n_samples=80, centers=2, random_state=6, n_features=3)\n",
    "model = svm.LinearSVC(C=1, max_iter=10000).fit(X, y)\n",
    "print(\"Coefficients:\", model.coef_, \"Intercept:\", model.intercept_)\n",
    "decision_plane = Plane(*model.coef_[0], model.intercept_[0])\n",
    "\n",
    "with ThreeDFigure() as fig:\n",
    "    fig.add_markers(X, color=y) #samples\n",
    "    xx, yy = make_meshgrid(X, margin=1)\n",
    "    fig.add_surface(xx, yy, decision_plane.z) #decision hyperplane\n",
    "    fig.add_line(X.mean(axis=0)-decision_plane.normal, X.mean(axis=0)+decision_plane.normal) #orthogonal of decision hyperplane through mean of points\n",
    "    fig.add_markers([0,0,0], size=3) #coordinate center\n",
    "    \n",
    "    fig.add_line(-decision_plane.normal*5, decision_plane.normal*5) #orthogonal of decision hyperplane through [0,0,0]\n",
    "    fig.add_sample_projections(X, decision_plane.normal) #orthogonal lines from the samples onto the decision hyperplane orthogonal"
   ]
  },
  {
   "cell_type": "markdown",
   "metadata": {},
   "source": [
    "* I'm having so many apparently hard-to-solve problems - the decision-boundary for example goes from (minx,miny) to (maxx,maxy), with the corresponding z-coordinate. However that's superflous, it may become waaay to big there, because the original x/y/z coordinate system is irrelevant! The size of the decision surface is constrained instead rather by the circle of all lines that go through a point and in parallel to the orthogonal of the decision surface. But to figure out the size of the decision boundary from that is far from trivial - again because I always need the translation from the irrelevant acutal xyz-coordinate system to the coordinate system which is relevant for me, which is one in which the decision surface has two coordinate values equal to zero. If I do that, every other calculation becomes trivial!!\n",
    "* Same holds for the problem \"how long should the decisionsurface-orthogonal be\" - calculating it now is hard, but once we have translated the coordinate system it's just the min/max z-coordinate!"
   ]
  },
  {
   "cell_type": "code",
   "execution_count": null,
   "metadata": {},
   "outputs": [],
   "source": [
    "X, y = make_blobs(n_samples=80, centers=2, random_state=6, n_features=3)\n",
    "model = svm.LinearSVC(C=1, max_iter=10000).fit(X, y)\n",
    "print(\"Coefficients:\", model.coef_, \"Intercept:\", model.intercept_)\n",
    "decision_plane = Plane(*model.coef_[0], model.intercept_[0])\n",
    "\n",
    "\n",
    "with ThreeDFigure() as fig:\n",
    "    fig.add_markers(X, color=y) #samples\n",
    "    xx, yy = make_meshgrid(X, margin=1)\n",
    "    fig.add_surface(xx, yy, decision_plane.z) #decision hyperplane\n",
    "    fig.add_line([0,0,0], decision_plane.normal*100) #orthogonal of decision hyperplane through mean of points\n",
    "    fig.add_markers([0,0,0], size=3) #coordinate center\n",
    "    \n",
    "    for point, side in zip(X, y):\n",
    "        fig.add_line(point, point-decision_plane.normal*100 if side else point+decision_plane.normal*100)\n"
   ]
  },
  {
   "cell_type": "code",
   "execution_count": null,
   "metadata": {},
   "outputs": [],
   "source": [
    "def normalize(vec):\n",
    "    return vec/np.linalg.norm(vec)"
   ]
  },
  {
   "cell_type": "code",
   "execution_count": null,
   "metadata": {},
   "outputs": [],
   "source": [
    "decision_plane = Plane(*model.coef_[0], model.intercept_[0])\n",
    "vec = normalize(decision_plane.normal)\n",
    "print(\"Original Vec:\", vec)\n",
    "\n",
    "with ThreeDFigure() as fig:\n",
    "    #coordinate system\n",
    "    fig.add_surface(*make_meshgrid(size=1), lambda _,__: 0, opacity=0.3)\n",
    "    fig.add_surface(*make_meshgrid(size=1), lambda _,__: 0, swap_axes=\"xz\", opacity=0.3)\n",
    "    fig.add_surface(*make_meshgrid(size=1), lambda _,__: 0, swap_axes=\"yz\", opacity=0.3)    \n",
    "    fig.add_line([-1,0,0], [1,0,0])\n",
    "    fig.add_line([0,-1,0], [0,1,0])\n",
    "    fig.add_line([0,0,-1], [0,0,1])\n",
    "    \n",
    "    #vec and its projections\n",
    "    fig.add_line([0,0,0], vec, width=12)\n",
    "    fig.add_line([0,0,0], [0, vec[1], vec[2]])\n",
    "    fig.add_line([0,0,0], [vec[0], 0, vec[2]])\n",
    "    fig.add_line([0,0,0], [vec[0], vec[1], 0])\n"
   ]
  },
  {
   "cell_type": "raw",
   "metadata": {},
   "source": [
    "z      = -i[0]-c[0]*x -c[1]*y) / c[2]  | *c[2]\n",
    "z*c[2] = -i[0]-c[0]*x -c[1]*y          | +i[0] | -c[2]*z\n",
    "i[0]   = -c[0]*x - c[1]*y - c[2]*z\n",
    "\n",
    "0   = c[0]*x + c[1]*y + c[2]*z + i[0]\n",
    "0   = i + ax + by + cz\n",
    "\n",
    "warum ist das so?\n",
    "-> das innere produkt von 2 orthogonalen vektoren ist 0. Das heißt, der vektor der im selben punkt wie der normalenvektor anfängt, und zu einem beliebigen punkt auf der Ebene zeigt ist immer orthogonal zur orthogonalen.\n",
    "-> Tafelwerk, ebenendarstellung! Allgemeine form ax+by+cz=d\n",
    "\n",
    "Die Decision Hyperplane ist immer n-2 dimensional (plane bei 3d, gerade bei 2d).\n",
    "Die Orthogonale ist... was? immer 2D? Ist sie zumindest bei 3d und bei 2d.\n",
    "\n",
    "Was ist d?? \n",
    "Naja, hauen wir einen stift durch ein papier. Das papier ist die hyperplane, und die position dieser hp ist durch die ausrichtung des stiftes (->vector der orthogonalen) fast eineutig definiert, der einzige degree of freedom ist WO AUF DEM STIFT das papier ist. Der Stift selbst ist 1D (strich) --> d ist ein Skalar. Durch Richtung des stifts und position auf dem stift ist die ebene eindeutig definiert.\n",
    "\n",
    "Preisfrage: auch im 4D? Ist es da auch nur ein weiterer wert?\n",
    "HINT:\n",
    "\n",
    "X, y = make_blobs(n_samples=80, centers=2, random_state=6, n_features=4)\n",
    "model = svm.LinearSVC(C=1, max_iter=10000).fit(X, y)\n",
    "print(\"Intercept:\", model.intercept_)\n",
    "print(\"Coeffs:\", model.coef_)\n",
    "\n",
    "da intercept bei ner 4D-SVM 4D ist, Coef aber weiterhin nur ein Skalar würde ich vermuten auch bei einer Hyperplane im 4D ist der intercept skalar (...macht ja sinn, denn auch ein Vektor im 4-dimensionalen Raum ist ein eindimensionales Ding)"
   ]
  },
  {
   "cell_type": "code",
   "execution_count": null,
   "metadata": {},
   "outputs": [],
   "source": [
    "def make_base_changer(plane):\n",
    "    uvec1 = plane.normal\n",
    "    uvec2 = [0, -plane.d/plane.b, plane.d/plane.c] #NOT [1, 0, plane.z(model, 1, 0)] !!\n",
    "    uvec3 = np.cross(uvec1, uvec2)\n",
    "    transition_matrix = np.linalg.inv(np.array([uvec1, uvec2, uvec3]).T)\n",
    "    \n",
    "    origin = np.array([0,0,0])\n",
    "    new_origin = plane.project(origin)\n",
    "    forward  = lambda point: transition_matrix.dot(point - new_origin)\n",
    "    backward = lambda point: np.linalg.inv(transition_matrix).dot(point) + new_origin\n",
    "    return forward, backward\n",
    "\n",
    "\n",
    "#wir haben im 3D einen Degree of freedom hier!! uvec1 ist eindeutig definiert, aber uvec2 und uvec3 haben nur\n",
    "#die Bedingung dass sie orthogonal zueinander und zu uvec1 sind - das ist 1 dof. Im 2D haben wir 0 dof, da die \n",
    "#decisionboundary 1dimensional ist und ihre orthogonale auch. Wie viele dof haben wir im höherdim? immer n_dim-2? \n",
    "#das hat ja mega auswirkungen auf was ich machen will, am besten wäre es die neuen basen so zu wählen dass die\n",
    "#jeweils nächsten auch wieder orthogonal sind...!"
   ]
  },
  {
   "cell_type": "code",
   "execution_count": null,
   "metadata": {},
   "outputs": [],
   "source": [
    "X, y = make_blobs(n_samples=80, centers=2, random_state=6, n_features=3)\n",
    "model = svm.LinearSVC(C=1, max_iter=10000).fit(X, y)\n",
    "print(\"Coefficients:\", model.coef_, \"Intercept:\", model.intercept_)\n",
    "decision_plane = Plane(*model.coef_[0], model.intercept_[0])\n",
    "\n",
    "trafo, back_trafo = make_base_changer(decision_plane)\n",
    "\n",
    "with ThreeDFigure(trafo, back_trafo, swap_axes=\"xz\") as fig:\n",
    "    fig.add_markers(X, color=y) #samples\n",
    "    xx, yy = make_meshgrid(minx=-0.7, miny=-10, maxx=0.01, maxy=1, margin=1) #manual values!\n",
    "    fig.add_surface(xx, yy, decision_plane.z) #decision hyperplane\n",
    "    fig.add_line([0,0,0], decision_plane.normal*100) #orthogonal of decision hyperplane through mean of points\n",
    "    fig.add_markers([0,0,0], size=3) #coordinate center\n",
    "    fig.add_sample_projections(X, decision_plane.normal) #orthogonal lines from the samples onto the decision hyperplane orthogonal\n",
    "    \n",
    "    for point, side in zip(X, y):\n",
    "        #fig.add_line(point, point-decision_plane.normal*100 if side else point+decision_plane.normal*100)\n",
    "        #that ^ would be the blunt way to do it, smarter is to set transform, set x=0, backtransform\n",
    "        transformed = trafo(point)\n",
    "        onto_plane = back_trafo([0, transformed[1], transformed[2]])\n",
    "        fig.add_line(point, onto_plane)\n",
    "        \n",
    "#find a way to pre-determine the minx, miny, ... of the meshgrid THROUGH THE TRANSLATION"
   ]
  },
  {
   "cell_type": "code",
   "execution_count": null,
   "metadata": {},
   "outputs": [],
   "source": [
    "# the way how to determine the minx/miny/.. of the meshgrid:\n",
    "\n",
    "\n",
    "onto_plane = np.array([back_trafo([0, trafo(point)[1], trafo(point)[2]]) for point, side in zip(X, y)])\n",
    "minx, miny = onto_plane.min(axis=0)[:2]\n",
    "maxx, maxy = onto_plane.max(axis=0)[:2]\n",
    "    \n",
    "        \n",
    "with ThreeDFigure() as fig: #trafo, back_trafo, swap_axes=\"xz\"\n",
    "    fig.add_markers(X, color=y, showlegend=False) #samples\n",
    "    xx, yy = make_meshgrid(minx=minx, miny=miny, maxx=maxx, maxy=maxy, margin=0.1)\n",
    "    fig.add_surface(xx, yy, decision_plane.z) #decision hyperplane\n",
    "    fig.add_line([0,0,0], decision_plane.normal*100, name=\"normal_meanpoints\") #orthogonal of decision hyperplane through mean of points\n",
    "    fig.add_markers([0,0,0], size=3, name=\"origin\") #coordinate center\n",
    "    fig.add_sample_projections(X, decision_plane.normal, showlegend=False) #orthogonal lines from the samples onto the decision hyperplane orthogonal\n",
    "    \n",
    "    for point, side in zip(X, y):\n",
    "        fig.add_line(point, back_trafo([0, trafo(point)[1], trafo(point)[2]]), showlegend=False)"
   ]
  },
  {
   "cell_type": "markdown",
   "metadata": {},
   "source": [
    "## New stuff"
   ]
  },
  {
   "cell_type": "code",
   "execution_count": null,
   "metadata": {},
   "outputs": [],
   "source": [
    "X, y = make_blobs(n_samples=80, centers=2, random_state=2, n_features=3)\n",
    "model = svm.LinearSVC(C=1, max_iter=10000).fit(X, y)\n",
    "print(\"Coefficients:\", model.coef_, \"Intercept:\", model.intercept_)\n",
    "decision_plane = Plane(*model.coef_[0], model.intercept_[0])\n",
    "\n",
    "trafo, back_trafo = make_base_changer(decision_plane)\n",
    "\n",
    "onto_plane = np.array([back_trafo([0, trafo(point)[1], trafo(point)[2]]) for point, side in zip(X, y)])\n",
    "minx, miny = onto_plane.min(axis=0)[:2]\n",
    "maxx, maxy = onto_plane.max(axis=0)[:2]\n",
    "\n",
    "z_vals = [trafo(point)[0] for point in X]\n",
    "minneg, maxneg = min(z_vals), max([i for i in z_vals if i < 0])\n",
    "minpos, maxpos = min([i for i in z_vals if i > 0]), max(z_vals)"
   ]
  },
  {
   "cell_type": "code",
   "execution_count": null,
   "metadata": {},
   "outputs": [],
   "source": [
    "#instead of taking the transform, we could also just take the z-component (or the length, as x&y of it are 0) of the vector from a point to its projection\n",
    "\n",
    "for point, val in zip(X, y):\n",
    "    transformed_proj = np.around(trafo(decision_plane.project(point)-point), 5)\n",
    "    assert transformed_proj[1] == transformed_proj[2] == 0\n",
    "    assert (np.sign(transformed_proj[0]) == 1) == (val == 0)\n",
    "    \n",
    "assert all(np.array([trafo(point)[0] for point in X]).argsort() == np.array([(decision_plane.project(point)-point)[2] for point in X]).argsort())"
   ]
  },
  {
   "cell_type": "code",
   "execution_count": null,
   "metadata": {
    "tags": [
     "keep_output"
    ]
   },
   "outputs": [
    {
     "data": {
      "application/vnd.plotly.v1+json": {
       "config": {
        "plotlyServerURL": "https://plot.ly"
       },
       "data": [
        {
         "marker": {
          "color": "black",
          "line": {
           "width": 0
          },
          "size": 3
         },
         "mode": "markers",
         "name": "origin",
         "type": "scatter3d",
         "x": [
          0
         ],
         "y": [
          0
         ],
         "z": [
          0
         ]
        },
        {
         "marker": {
          "color": "yellow",
          "line": {
           "width": 0
          },
          "size": 2
         },
         "mode": "markers",
         "name": "plane_offset",
         "type": "scatter3d",
         "x": [
          0.10456597750254887
         ],
         "y": [
          -0.26743871230773164
         ],
         "z": [
          0.5043172958436775
         ]
        },
        {
         "line": {
          "width": 6
         },
         "marker": {
          "size": 1
         },
         "name": "plane_normal",
         "type": "scatter3d",
         "x": [
          1.2541849999118997,
          -0.8293845489872496
         ],
         "y": [
          -3.207712770283575,
          2.121240015985812
         ],
         "z": [
          6.048881316371325,
          -4.000086672068667
         ]
        },
        {
         "marker": {
          "color": "blue",
          "line": {
           "width": 0
          },
          "size": 2
         },
         "mode": "markers",
         "name": "4.520048889660113",
         "showlegend": false,
         "type": "scatter3d",
         "x": [
          0.042014020706258925
         ],
         "y": [
          -1.2900146220721205
         ],
         "z": [
          -3.847531434638628
         ]
        },
        {
         "marker": {
          "color": "blue",
          "line": {
           "width": 0
          },
          "size": 3
         },
         "mode": "markers",
         "name": "d=1.5948432892891964",
         "type": "scatter3d",
         "x": [
          -2.1339951601259597
         ],
         "y": [
          -1.9049146279088631
         ],
         "z": [
          -1.2486254908114804
         ]
        },
        {
         "line": {
          "width": 6
         },
         "marker": {
          "size": 1
         },
         "name": "^ len_d",
         "type": "scatter3d",
         "x": [
          -2.1339951601259597,
          -1.9228124045702624
         ],
         "y": [
          -1.9049146279088631,
          -2.4450371950797902
         ],
         "z": [
          -1.2486254908114804,
          -0.23009997463132958
         ]
        },
        {
         "line": {
          "width": 6
         },
         "marker": {
          "size": 1
         },
         "name": "^ proj",
         "type": "scatter3d",
         "x": [
          -2.1339951601259597,
          -0.10661677805314845
         ],
         "y": [
          -1.9049146279088631,
          0.27268385486319596
         ],
         "z": [
          -1.2486254908114804,
          -0.5142082203364734
         ]
        },
        {
         "marker": {
          "color": "blue",
          "line": {
           "width": 0
          },
          "size": 2
         },
         "mode": "markers",
         "name": "3.730073856769494",
         "showlegend": false,
         "type": "scatter3d",
         "x": [
          -2.6435542503000073
         ],
         "y": [
          -2.2908149558331123
         ],
         "z": [
          -3.153352381649631
         ]
        },
        {
         "marker": {
          "color": "red",
          "line": {
           "width": 0
          },
          "size": 2
         },
         "mode": "markers",
         "name": "-5.746036972250472",
         "showlegend": false,
         "type": "scatter3d",
         "x": [
          -1.8403364633977217
         ],
         "y": [
          -10.383721431512676
         ],
         "z": [
          0.40227728210473745
         ]
        },
        {
         "marker": {
          "color": "red",
          "line": {
           "width": 0
          },
          "size": 2
         },
         "mode": "markers",
         "name": "-5.607510666265674",
         "showlegend": false,
         "type": "scatter3d",
         "x": [
          -1.6157792956837722
         ],
         "y": [
          -8.870134583868456
         ],
         "z": [
          1.0412201494423712
         ]
        },
        {
         "marker": {
          "color": "blue",
          "line": {
           "width": 0
          },
          "size": 2
         },
         "mode": "markers",
         "name": "2.4661830433717755",
         "showlegend": false,
         "type": "scatter3d",
         "x": [
          -1.608169583290394
         ],
         "y": [
          -2.1863995411328263
         ],
         "z": [
          -2.243803012204535
         ]
        },
        {
         "marker": {
          "color": "blue",
          "line": {
           "width": 0
          },
          "size": 2
         },
         "mode": "markers",
         "name": "3.8376873852942412",
         "showlegend": false,
         "type": "scatter3d",
         "x": [
          -1.7225654661443077
         ],
         "y": [
          -0.8964459786387888
         ],
         "z": [
          -2.695887307645588
         ]
        },
        {
         "marker": {
          "color": "red",
          "line": {
           "width": 0
          },
          "size": 2
         },
         "mode": "markers",
         "name": "-3.8078096518505196",
         "showlegend": false,
         "type": "scatter3d",
         "x": [
          -0.771705714476493
         ],
         "y": [
          -9.265359357178491
         ],
         "z": [
          -0.8653628285493147
         ]
        },
        {
         "marker": {
          "color": "blue",
          "line": {
           "width": 0
          },
          "size": 2
         },
         "mode": "markers",
         "name": "3.673785048108538",
         "showlegend": false,
         "type": "scatter3d",
         "x": [
          -0.67133173316653
         ],
         "y": [
          -0.6318620134069913
         ],
         "z": [
          -2.6349332327557478
         ]
        },
        {
         "marker": {
          "color": "blue",
          "line": {
           "width": 0
          },
          "size": 2
         },
         "mode": "markers",
         "name": "3.44604525903424",
         "showlegend": false,
         "type": "scatter3d",
         "x": [
          -1.59821873248412
         ],
         "y": [
          -1.752368088371606
         ],
         "z": [
          -2.8443570200998987
         ]
        },
        {
         "marker": {
          "color": "red",
          "line": {
           "width": 0
          },
          "size": 2
         },
         "mode": "markers",
         "name": "-7.271671630723954",
         "showlegend": false,
         "type": "scatter3d",
         "x": [
          -1.876261656966392
         ],
         "y": [
          -9.500605859963326
         ],
         "z": [
          2.1682507770744737
         ]
        },
        {
         "marker": {
          "color": "red",
          "line": {
           "width": 0
          },
          "size": 2
         },
         "mode": "markers",
         "name": "-6.020520723246395",
         "showlegend": false,
         "type": "scatter3d",
         "x": [
          1.3051929109046245
         ],
         "y": [
          -7.646142640577349
         ],
         "z": [
          1.4339394299892925
         ]
        },
        {
         "marker": {
          "color": "blue",
          "line": {
           "width": 0
          },
          "size": 2
         },
         "mode": "markers",
         "name": "3.4032184473528435",
         "showlegend": false,
         "type": "scatter3d",
         "x": [
          -0.5586674798935111
         ],
         "y": [
          -2.6540097021810576
         ],
         "z": [
          -3.501820403841502
         ]
        },
        {
         "marker": {
          "color": "blue",
          "line": {
           "width": 0
          },
          "size": 2
         },
         "mode": "markers",
         "name": "3.498349447054899",
         "showlegend": false,
         "type": "scatter3d",
         "x": [
          -0.5370500045819107
         ],
         "y": [
          -1.3512043294085272
         ],
         "z": [
          -2.8958779309977802
         ]
        },
        {
         "marker": {
          "color": "blue",
          "line": {
           "width": 0
          },
          "size": 2
         },
         "mode": "markers",
         "name": "5.399432010748937",
         "showlegend": false,
         "type": "scatter3d",
         "x": [
          -2.4278706306650815
         ],
         "y": [
          -2.3000648458140063
         ],
         "z": [
          -4.614732745018286
         ]
        },
        {
         "marker": {
          "color": "red",
          "line": {
           "width": 0
          },
          "size": 2
         },
         "mode": "markers",
         "name": "-8.158240782127118",
         "showlegend": false,
         "type": "scatter3d",
         "x": [
          -2.189109572086774
         ],
         "y": [
          -8.930021318895749
         ],
         "z": [
          3.2854575703891404
         ]
        },
        {
         "marker": {
          "color": "red",
          "line": {
           "width": 0
          },
          "size": 2
         },
         "mode": "markers",
         "name": "-7.3650489452777235",
         "showlegend": false,
         "type": "scatter3d",
         "x": [
          -1.2385625641615214
         ],
         "y": [
          -10.599400808555691
         ],
         "z": [
          1.5323078781549717
         ]
        },
        {
         "marker": {
          "color": "red",
          "line": {
           "width": 0
          },
          "size": 3
         },
         "mode": "markers",
         "name": "d=-1.6722234327853558",
         "type": "scatter3d",
         "x": [
          -1.5491589173759384
         ],
         "y": [
          -7.250108574555569
         ],
         "z": [
          -1.4415180189468613
         ]
        },
        {
         "line": {
          "width": 6
         },
         "marker": {
          "size": 1
         },
         "name": "^ len_d",
         "type": "scatter3d",
         "x": [
          -1.5491589173759384,
          -1.7705880413607855
         ],
         "y": [
          -7.250108574555569,
          -6.683779820210082
         ],
         "z": [
          -1.4415180189468613,
          -2.509461337569311
         ]
        },
        {
         "line": {
          "width": 6
         },
         "marker": {
          "size": 1
         },
         "name": "^ proj",
         "type": "scatter3d",
         "x": [
          -1.5491589173759384,
          0.32599510148739574
         ],
         "y": [
          -7.250108574555569,
          -0.8337674666532168
         ],
         "z": [
          -1.4415180189468613,
          1.5722606144661264
         ]
        },
        {
         "marker": {
          "color": "blue",
          "line": {
           "width": 0
          },
          "size": 2
         },
         "mode": "markers",
         "name": "3.1918128431443082",
         "showlegend": false,
         "type": "scatter3d",
         "x": [
          -1.6580312392471215
         ],
         "y": [
          -2.4686234359156143
         ],
         "z": [
          -2.9967834212358087
         ]
        },
        {
         "marker": {
          "color": "red",
          "line": {
           "width": 0
          },
          "size": 2
         },
         "mode": "markers",
         "name": "-5.669605567677302",
         "showlegend": false,
         "type": "scatter3d",
         "x": [
          -0.777220540001882
         ],
         "y": [
          -10.726763450049406
         ],
         "z": [
          -0.06470266128815605
         ]
        },
        {
         "marker": {
          "color": "blue",
          "line": {
           "width": 0
          },
          "size": 2
         },
         "mode": "markers",
         "name": "3.95861417522373",
         "showlegend": false,
         "type": "scatter3d",
         "x": [
          -0.2077457436123662
         ],
         "y": [
          -0.6904645628096294
         ],
         "z": [
          -3.0030071301117554
         ]
        },
        {
         "marker": {
          "color": "red",
          "line": {
           "width": 0
          },
          "size": 2
         },
         "mode": "markers",
         "name": "-2.4474271754436017",
         "showlegend": false,
         "type": "scatter3d",
         "x": [
          -2.208993881683744
         ],
         "y": [
          -6.931037127562513
         ],
         "z": [
          -0.4799236902257027
         ]
        },
        {
         "marker": {
          "color": "red",
          "line": {
           "width": 0
          },
          "size": 2
         },
         "mode": "markers",
         "name": "-6.941054921454233",
         "showlegend": false,
         "type": "scatter3d",
         "x": [
          -2.1092372461747035
         ],
         "y": [
          -9.393765145033843
         ],
         "z": [
          1.993615444124878
         ]
        },
        {
         "marker": {
          "color": "blue",
          "line": {
           "width": 0
          },
          "size": 2
         },
         "mode": "markers",
         "name": "4.7846186118741265",
         "showlegend": false,
         "type": "scatter3d",
         "x": [
          -0.3180427354058979
         ],
         "y": [
          -1.4010703116424414
         ],
         "z": [
          -4.0555125917167665
         ]
        },
        {
         "marker": {
          "color": "blue",
          "line": {
           "width": 0
          },
          "size": 2
         },
         "mode": "markers",
         "name": "3.301057483054031",
         "showlegend": false,
         "type": "scatter3d",
         "x": [
          -1.7618984071926949
         ],
         "y": [
          -2.8473642653630744
         ],
         "z": [
          -3.268479933536673
         ]
        },
        {
         "marker": {
          "color": "red",
          "line": {
           "width": 0
          },
          "size": 2
         },
         "mode": "markers",
         "name": "-5.949817120353086",
         "showlegend": false,
         "type": "scatter3d",
         "x": [
          -1.6994184393126137
         ],
         "y": [
          -9.613804261878917
         ],
         "z": [
          0.9536793178805771
         ]
        },
        {
         "marker": {
          "color": "red",
          "line": {
           "width": 0
          },
          "size": 2
         },
         "mode": "markers",
         "name": "-7.633541009132971",
         "showlegend": false,
         "type": "scatter3d",
         "x": [
          -0.8996299869449244
         ],
         "y": [
          -9.698610632187053
         ],
         "z": [
          2.1667810560691363
         ]
        },
        {
         "marker": {
          "color": "red",
          "line": {
           "width": 0
          },
          "size": 3
         },
         "mode": "markers",
         "name": "d=-8.6818745134008",
         "type": "scatter3d",
         "x": [
          0.1265942845014456
         ],
         "y": [
          -11.219434867826742
         ],
         "z": [
          2.0340735109649115
         ]
        },
        {
         "line": {
          "width": 6
         },
         "marker": {
          "size": 1
         },
         "name": "^ len_d",
         "type": "scatter3d",
         "x": [
          0.1265942845014456,
          -1.0230247379079052
         ],
         "y": [
          -11.219434867826742,
          -8.279160809850898
         ],
         "z": [
          2.0340735109649115,
          -3.5104905095627355
         ]
        },
        {
         "line": {
          "width": 6
         },
         "marker": {
          "size": 1
         },
         "name": "^ proj",
         "type": "scatter3d",
         "x": [
          0.1265942845014456,
          1.2541849999118992
         ],
         "y": [
          -11.219434867826742,
          -3.2077127702835737
         ],
         "z": [
          2.0340735109649115,
          6.048881316371323
         ]
        },
        {
         "marker": {
          "color": "blue",
          "line": {
           "width": 0
          },
          "size": 2
         },
         "mode": "markers",
         "name": "3.9210811233699054",
         "showlegend": false,
         "type": "scatter3d",
         "x": [
          -3.2793979214271083
         ],
         "y": [
          -1.2275904418093788
         ],
         "z": [
          -2.6192215465178186
         ]
        },
        {
         "marker": {
          "color": "red",
          "line": {
           "width": 0
          },
          "size": 2
         },
         "mode": "markers",
         "name": "-7.602515724487545",
         "showlegend": false,
         "type": "scatter3d",
         "x": [
          -0.5448223810947223
         ],
         "y": [
          -10.13472563123421
         ],
         "z": [
          1.835705839145523
         ]
        },
        {
         "marker": {
          "color": "red",
          "line": {
           "width": 0
          },
          "size": 2
         },
         "mode": "markers",
         "name": "-5.821567799474049",
         "showlegend": false,
         "type": "scatter3d",
         "x": [
          -1.9993557985866022
         ],
         "y": [
          -10.064889958021181
         ],
         "z": [
          0.6681999291923968
         ]
        },
        {
         "marker": {
          "color": "blue",
          "line": {
           "width": 0
          },
          "size": 2
         },
         "mode": "markers",
         "name": "4.2453322684227635",
         "showlegend": false,
         "type": "scatter3d",
         "x": [
          -0.6920363339672632
         ],
         "y": [
          -1.58898446753575
         ],
         "z": [
          -3.6215511381165517
         ]
        },
        {
         "marker": {
          "color": "blue",
          "line": {
           "width": 0
          },
          "size": 2
         },
         "mode": "markers",
         "name": "5.022066891361087",
         "showlegend": false,
         "type": "scatter3d",
         "x": [
          -0.2605230817068416
         ],
         "y": [
          -1.9216463929509258
         ],
         "z": [
          -4.544306524063666
         ]
        },
        {
         "marker": {
          "color": "blue",
          "line": {
           "width": 0
          },
          "size": 2
         },
         "mode": "markers",
         "name": "2.356889327495308",
         "showlegend": false,
         "type": "scatter3d",
         "x": [
          -1.7200746184897326
         ],
         "y": [
          -1.7407911494275212
         ],
         "z": [
          -1.8918666646659397
         ]
        },
        {
         "marker": {
          "color": "blue",
          "line": {
           "width": 0
          },
          "size": 2
         },
         "mode": "markers",
         "name": "2.001576426963762",
         "showlegend": false,
         "type": "scatter3d",
         "x": [
          -0.5415872984195823
         ],
         "y": [
          -2.5864049413688104
         ],
         "z": [
          -2.2841602985608693
         ]
        },
        {
         "marker": {
          "color": "blue",
          "line": {
           "width": 0
          },
          "size": 2
         },
         "mode": "markers",
         "name": "5.154826184049101",
         "showlegend": false,
         "type": "scatter3d",
         "x": [
          -3.1439561214259393
         ],
         "y": [
          -1.2621558942512991
         ],
         "z": [
          -3.7089967902252914
         ]
        },
        {
         "marker": {
          "color": "blue",
          "line": {
           "width": 0
          },
          "size": 2
         },
         "mode": "markers",
         "name": "1.805608645617694",
         "showlegend": false,
         "type": "scatter3d",
         "x": [
          1.9861932534769364
         ],
         "y": [
          -0.6217826382099462
         ],
         "z": [
          -1.6007107275242336
         ]
        },
        {
         "marker": {
          "color": "red",
          "line": {
           "width": 0
          },
          "size": 2
         },
         "mode": "markers",
         "name": "-6.668864378112852",
         "showlegend": false,
         "type": "scatter3d",
         "x": [
          -0.7782447503786115
         ],
         "y": [
          -10.325689067272036
         ],
         "z": [
          0.993259319045779
         ]
        },
        {
         "marker": {
          "color": "blue",
          "line": {
           "width": 0
          },
          "size": 2
         },
         "mode": "markers",
         "name": "4.968407305167935",
         "showlegend": false,
         "type": "scatter3d",
         "x": [
          -2.354351183964895
         ],
         "y": [
          -1.0009774375225404
         ],
         "z": [
          -3.576560153702099
         ]
        },
        {
         "marker": {
          "color": "blue",
          "line": {
           "width": 0
          },
          "size": 2
         },
         "mode": "markers",
         "name": "2.688726822625997",
         "showlegend": false,
         "type": "scatter3d",
         "x": [
          0.5324423095002062
         ],
         "y": [
          -3.306711369346252
         ],
         "z": [
          -3.4699431439198865
         ]
        },
        {
         "marker": {
          "color": "blue",
          "line": {
           "width": 0
          },
          "size": 2
         },
         "mode": "markers",
         "name": "5.755562963389442",
         "showlegend": false,
         "type": "scatter3d",
         "x": [
          -0.7956119992676421
         ],
         "y": [
          -1.4661397829437133
         ],
         "z": [
          -4.812114131071052
         ]
        },
        {
         "marker": {
          "color": "red",
          "line": {
           "width": 0
          },
          "size": 2
         },
         "mode": "markers",
         "name": "-7.3728687023051656",
         "showlegend": false,
         "type": "scatter3d",
         "x": [
          -1.9577775344879664
         ],
         "y": [
          -10.920914390180792
         ],
         "z": [
          1.5175459875845316
         ]
        },
        {
         "marker": {
          "color": "red",
          "line": {
           "width": 0
          },
          "size": 2
         },
         "mode": "markers",
         "name": "-4.570605324803122",
         "showlegend": false,
         "type": "scatter3d",
         "x": [
          -0.846605627083354
         ],
         "y": [
          -8.203096133170305
         ],
         "z": [
          0.35857025239482054
         ]
        },
        {
         "marker": {
          "color": "red",
          "line": {
           "width": 0
          },
          "size": 2
         },
         "mode": "markers",
         "name": "-7.4304685437082725",
         "showlegend": false,
         "type": "scatter3d",
         "x": [
          -0.9540985237729442
         ],
         "y": [
          -11.521798412170888
         ],
         "z": [
          1.0395050807158799
         ]
        },
        {
         "marker": {
          "color": "red",
          "line": {
           "width": 0
          },
          "size": 2
         },
         "mode": "markers",
         "name": "-7.419507853351735",
         "showlegend": false,
         "type": "scatter3d",
         "x": [
          -1.167375452343276
         ],
         "y": [
          -9.11103082677894
         ],
         "z": [
          2.352883420246779
         ]
        },
        {
         "marker": {
          "color": "red",
          "line": {
           "width": 0
          },
          "size": 2
         },
         "mode": "markers",
         "name": "-5.327458602303041",
         "showlegend": false,
         "type": "scatter3d",
         "x": [
          -1.6189239231891213
         ],
         "y": [
          -9.717659394294776
         ],
         "z": [
          0.35559454508988164
         ]
        },
        {
         "marker": {
          "color": "blue",
          "line": {
           "width": 0
          },
          "size": 2
         },
         "mode": "markers",
         "name": "1.8169013795390119",
         "showlegend": false,
         "type": "scatter3d",
         "x": [
          2.815140476170738
         ],
         "y": [
          -0.7715230809383078
         ],
         "z": [
          -1.8615432636055613
         ]
        },
        {
         "marker": {
          "color": "red",
          "line": {
           "width": 0
          },
          "size": 2
         },
         "mode": "markers",
         "name": "-6.434950219577805",
         "showlegend": false,
         "type": "scatter3d",
         "x": [
          -2.467714243545209
         ],
         "y": [
          -10.9026925907463
         ],
         "z": [
          0.8397543618972337
         ]
        },
        {
         "marker": {
          "color": "blue",
          "line": {
           "width": 0
          },
          "size": 2
         },
         "mode": "markers",
         "name": "3.2707329704738966",
         "showlegend": false,
         "type": "scatter3d",
         "x": [
          -2.6111194173885
         ],
         "y": [
          -3.6182375500848063
         ],
         "z": [
          -3.4755489549556478
         ]
        },
        {
         "marker": {
          "color": "blue",
          "line": {
           "width": 0
          },
          "size": 2
         },
         "mode": "markers",
         "name": "4.721235172440832",
         "showlegend": false,
         "type": "scatter3d",
         "x": [
          -2.632141027502986
         ],
         "y": [
          -0.4598978823168711
         ],
         "z": [
          -3.0229987371752776
         ]
        },
        {
         "marker": {
          "color": "blue",
          "line": {
           "width": 0
          },
          "size": 2
         },
         "mode": "markers",
         "name": "1.9402386170924026",
         "showlegend": false,
         "type": "scatter3d",
         "x": [
          -0.27369741826522564
         ],
         "y": [
          -3.07510943607289
         ],
         "z": [
          -2.5469916880804377
         ]
        },
        {
         "marker": {
          "color": "red",
          "line": {
           "width": 0
          },
          "size": 2
         },
         "mode": "markers",
         "name": "-7.112214167699302",
         "showlegend": false,
         "type": "scatter3d",
         "x": [
          -0.8562772492940441
         ],
         "y": [
          -8.682295368407159
         ],
         "z": [
          2.255863220899003
         ]
        },
        {
         "marker": {
          "color": "blue",
          "line": {
           "width": 0
          },
          "size": 2
         },
         "mode": "markers",
         "name": "3.1372332157105114",
         "showlegend": false,
         "type": "scatter3d",
         "x": [
          0.5109244939452628
         ],
         "y": [
          -1.4122341513386731
         ],
         "z": [
          -2.8401393057647053
         ]
        },
        {
         "marker": {
          "color": "blue",
          "line": {
           "width": 0
          },
          "size": 2
         },
         "mode": "markers",
         "name": "4.509862093101152",
         "showlegend": false,
         "type": "scatter3d",
         "x": [
          -3.3631644102999134
         ],
         "y": [
          -0.982499871843562
         ],
         "z": [
          -2.9698066794796447
         ]
        },
        {
         "marker": {
          "color": "red",
          "line": {
           "width": 0
          },
          "size": 2
         },
         "mode": "markers",
         "name": "-5.170021286032846",
         "showlegend": false,
         "type": "scatter3d",
         "x": [
          -3.6237051481598868
         ],
         "y": [
          -8.3199538727014
         ],
         "z": [
          1.3793276051777774
         ]
        },
        {
         "marker": {
          "color": "red",
          "line": {
           "width": 0
          },
          "size": 2
         },
         "mode": "markers",
         "name": "-5.996439457443105",
         "showlegend": false,
         "type": "scatter3d",
         "x": [
          -0.8982357230332279
         ],
         "y": [
          -8.915199921999717
         ],
         "z": [
          1.197457536488295
         ]
        },
        {
         "marker": {
          "color": "red",
          "line": {
           "width": 0
          },
          "size": 2
         },
         "mode": "markers",
         "name": "-8.40230535797294",
         "showlegend": false,
         "type": "scatter3d",
         "x": [
          -1.6839942264978642
         ],
         "y": [
          -10.865994029978038
         ],
         "z": [
          2.3604849815013074
         ]
        },
        {
         "marker": {
          "color": "blue",
          "line": {
           "width": 0
          },
          "size": 2
         },
         "mode": "markers",
         "name": "1.6149323821403296",
         "showlegend": false,
         "type": "scatter3d",
         "x": [
          -0.17566541418362114
         ],
         "y": [
          -1.8668860471137454
         ],
         "z": [
          -1.6514913914502833
         ]
        },
        {
         "marker": {
          "color": "red",
          "line": {
           "width": 0
          },
          "size": 2
         },
         "mode": "markers",
         "name": "-7.237929729521423",
         "showlegend": false,
         "type": "scatter3d",
         "x": [
          -0.5849823521129334
         ],
         "y": [
          -11.514941909564786
         ],
         "z": [
          0.8037802928618021
         ]
        },
        {
         "marker": {
          "color": "red",
          "line": {
           "width": 0
          },
          "size": 2
         },
         "mode": "markers",
         "name": "-5.1122468979020335",
         "showlegend": false,
         "type": "scatter3d",
         "x": [
          -2.3015166876819912
         ],
         "y": [
          -9.049079662462567
         ],
         "z": [
          0.669669487497659
         ]
        },
        {
         "marker": {
          "color": "red",
          "line": {
           "width": 0
          },
          "size": 2
         },
         "mode": "markers",
         "name": "-7.019652106230646",
         "showlegend": false,
         "type": "scatter3d",
         "x": [
          -0.062216324103634424
         ],
         "y": [
          -9.943480711595555
         ],
         "z": [
          1.3441380516619292
         ]
        },
        {
         "marker": {
          "color": "blue",
          "line": {
           "width": 0
          },
          "size": 2
         },
         "mode": "markers",
         "name": "3.7689377724404314",
         "showlegend": false,
         "type": "scatter3d",
         "x": [
          -0.7791814301690143
         ],
         "y": [
          -0.7631855276368256
         ],
         "z": [
          -2.7626816126453972
         ]
        },
        {
         "marker": {
          "color": "blue",
          "line": {
           "width": 0
          },
          "size": 2
         },
         "mode": "markers",
         "name": "2.3337531024079405",
         "showlegend": false,
         "type": "scatter3d",
         "x": [
          -1.7410530238271087
         ],
         "y": [
          -2.848071176596078
         ],
         "z": [
          -2.4551399086483734
         ]
        },
        {
         "marker": {
          "color": "blue",
          "line": {
           "width": 0
          },
          "size": 2
         },
         "mode": "markers",
         "name": "3.790501581749537",
         "showlegend": false,
         "type": "scatter3d",
         "x": [
          -1.846501587197685
         ],
         "y": [
          -1.2931171450700611
         ],
         "z": [
          -2.8406398843183185
         ]
        },
        {
         "marker": {
          "color": "red",
          "line": {
           "width": 0
          },
          "size": 2
         },
         "mode": "markers",
         "name": "-4.581978138814096",
         "showlegend": false,
         "type": "scatter3d",
         "x": [
          -1.661618438925011
         ],
         "y": [
          -9.41498635429603
         ],
         "z": [
          -0.10548938942187358
         ]
        },
        {
         "marker": {
          "color": "blue",
          "line": {
           "width": 0
          },
          "size": 2
         },
         "mode": "markers",
         "name": "5.07065955507533",
         "showlegend": false,
         "type": "scatter3d",
         "x": [
          -3.0584698759102187
         ],
         "y": [
          -1.70706525528034
         ],
         "z": [
          -3.891477773844276
         ]
        },
        {
         "marker": {
          "color": "red",
          "line": {
           "width": 0
          },
          "size": 2
         },
         "mode": "markers",
         "name": "-4.647994181941424",
         "showlegend": false,
         "type": "scatter3d",
         "x": [
          -1.4365361275445485
         ],
         "y": [
          -9.224904911440879
         ],
         "z": [
          0.004470508804561124
         ]
        },
        {
         "marker": {
          "color": "red",
          "line": {
           "width": 0
          },
          "size": 2
         },
         "mode": "markers",
         "name": "-7.964412638579147",
         "showlegend": false,
         "type": "scatter3d",
         "x": [
          0.3043850992357515
         ],
         "y": [
          -12.140924819825662
         ],
         "z": [
          0.9017969346835247
         ]
        },
        {
         "marker": {
          "color": "red",
          "line": {
           "width": 0
          },
          "size": 2
         },
         "mode": "markers",
         "name": "-6.208350696192314",
         "showlegend": false,
         "type": "scatter3d",
         "x": [
          -3.1481926117236885
         ],
         "y": [
          -7.750290697461706
         ],
         "z": [
          2.4609275681475955
         ]
        },
        {
         "marker": {
          "color": "red",
          "line": {
           "width": 0
          },
          "size": 2
         },
         "mode": "markers",
         "name": "-4.789080060194745",
         "showlegend": false,
         "type": "scatter3d",
         "x": [
          -2.0279729064537872
         ],
         "y": [
          -9.472450112468849
         ],
         "z": [
          0.11514166433384088
         ]
        },
        {
         "marker": {
          "color": "red",
          "line": {
           "width": 0
          },
          "size": 2
         },
         "mode": "markers",
         "name": "-5.107469936329951",
         "showlegend": false,
         "type": "scatter3d",
         "x": [
          -2.413235230836907
         ],
         "y": [
          -9.048382808785483
         ],
         "z": [
          0.6891631187728673
         ]
        },
        {
         "marker": {
          "color": "red",
          "line": {
           "width": 0
          },
          "size": 2
         },
         "mode": "markers",
         "name": "-5.446779511996027",
         "showlegend": false,
         "type": "scatter3d",
         "x": [
          -1.5562814494106627
         ],
         "y": [
          -9.99835925717476
         ],
         "z": [
          0.2946596076377942
         ]
        },
        {
         "marker": {
          "color": "blue",
          "line": {
           "width": 0
          },
          "size": 2
         },
         "mode": "markers",
         "name": "3.488417008881175",
         "showlegend": false,
         "type": "scatter3d",
         "x": [
          -1.1724465660561343
         ],
         "y": [
          -2.439472710192113
         ],
         "z": [
          -3.3328411309196055
         ]
        },
        {
         "marker": {
          "color": "blue",
          "line": {
           "width": 0
          },
          "size": 2
         },
         "mode": "markers",
         "name": "5.675159898407471",
         "showlegend": false,
         "type": "scatter3d",
         "x": [
          -1.545326266004287
         ],
         "y": [
          -3.1393185695146357
         ],
         "z": [
          -5.475955515667467
         ]
        },
        {
         "marker": {
          "color": "red",
          "line": {
           "width": 0
          },
          "size": 2
         },
         "mode": "markers",
         "name": "-6.956337738404209",
         "showlegend": false,
         "type": "scatter3d",
         "x": [
          -1.357320622512882
         ],
         "y": [
          -8.656772358005192
         ],
         "z": [
          2.2414624781712167
         ]
        },
        {
         "marker": {
          "color": "red",
          "line": {
           "width": 0
          },
          "size": 2
         },
         "mode": "markers",
         "name": "-6.07050950493736",
         "showlegend": false,
         "type": "scatter3d",
         "x": [
          -1.6611944746752747
         ],
         "y": [
          -9.857144786521168
         ],
         "z": [
          0.9187787946802018
         ]
        },
        {
         "marker": {
          "color": "red",
          "line": {
           "width": 0
          },
          "size": 2
         },
         "mode": "markers",
         "name": "-7.257694339280818",
         "showlegend": false,
         "type": "scatter3d",
         "x": [
          -0.7377493850108957
         ],
         "y": [
          -9.794983560435583
         ],
         "z": [
          1.7642612956435944
         ]
        },
        {
         "marker": {
          "color": "blue",
          "line": {
           "width": 0
          },
          "size": 2
         },
         "mode": "markers",
         "name": "3.8403248724561467",
         "showlegend": false,
         "type": "scatter3d",
         "x": [
          -2.7469164972912514
         ],
         "y": [
          -1.9306617356064473
         ],
         "z": [
          -3.034170248128713
         ]
        },
        {
         "marker": {
          "color": "blue",
          "line": {
           "width": 0
          },
          "size": 2
         },
         "mode": "markers",
         "name": "2.4403190202635843",
         "showlegend": false,
         "type": "scatter3d",
         "x": [
          -0.423953950089518
         ],
         "y": [
          -2.679734533092661
         ],
         "z": [
          -2.7290821665268874
         ]
        },
        {
         "marker": {
          "color": "blue",
          "line": {
           "width": 0
          },
          "size": 3
         },
         "mode": "markers",
         "name": "d=7.053155101518341",
         "type": "scatter3d",
         "x": [
          -2.317067132432493
         ],
         "y": [
          -2.040818781594588
         ],
         "z": [
          -5.8987617119969125
         ]
        },
        {
         "line": {
          "width": 6
         },
         "marker": {
          "size": 1
         },
         "name": "^ len_d",
         "type": "scatter3d",
         "x": [
          -2.317067132432493,
          -1.3831166059426947
         ],
         "y": [
          -2.040818781594588,
          -4.42949750988813
         ],
         "z": [
          -5.8987617119969125,
          -1.394357744084568
         ]
        },
        {
         "line": {
          "width": 6
         },
         "marker": {
          "size": 1
         },
         "name": "^ proj",
         "type": "scatter3d",
         "x": [
          -2.317067132432493,
          -0.8293845489872497
         ],
         "y": [
          -2.040818781594588,
          2.1212400159858125
         ],
         "z": [
          -5.8987617119969125,
          -4.000086672068667
         ]
        },
        {
         "showlegend": false,
         "showscale": false,
         "type": "surface",
         "x": [
          [
           -4.408298643206435,
           -4.147470163305048,
           -3.8866416834036603,
           -3.6258132035022728,
           -3.3649847236008856,
           -3.104156243699498,
           -2.8433277637981105,
           -2.5824992838967233,
           -2.3216708039953358,
           -2.060842324093948,
           -1.800013844192561,
           -1.5391853642911735,
           -1.278356884389786,
           -1.0175284044883988,
           -0.7566999245870112,
           -0.49587144468562405,
           -0.23504296478423647,
           0.02578551511715066,
           0.2866139950185387,
           0.5474424749199258,
           0.808270954821313,
           1.069099434722701,
           1.329927914624088,
           1.5907563945254752,
           1.8515848744268633,
           2.1124133543282504,
           2.3732418342296375,
           2.6340703141310247,
           2.8948987940324127,
           3.1557272739338
          ],
          [
           -4.408298643206435,
           -4.147470163305048,
           -3.8866416834036603,
           -3.6258132035022728,
           -3.3649847236008856,
           -3.104156243699498,
           -2.8433277637981105,
           -2.5824992838967233,
           -2.3216708039953358,
           -2.060842324093948,
           -1.800013844192561,
           -1.5391853642911735,
           -1.278356884389786,
           -1.0175284044883988,
           -0.7566999245870112,
           -0.49587144468562405,
           -0.23504296478423647,
           0.02578551511715066,
           0.2866139950185387,
           0.5474424749199258,
           0.808270954821313,
           1.069099434722701,
           1.329927914624088,
           1.5907563945254752,
           1.8515848744268633,
           2.1124133543282504,
           2.3732418342296375,
           2.6340703141310247,
           2.8948987940324127,
           3.1557272739338
          ],
          [
           -4.408298643206435,
           -4.147470163305048,
           -3.8866416834036603,
           -3.6258132035022728,
           -3.3649847236008856,
           -3.104156243699498,
           -2.8433277637981105,
           -2.5824992838967233,
           -2.3216708039953358,
           -2.060842324093948,
           -1.800013844192561,
           -1.5391853642911735,
           -1.278356884389786,
           -1.0175284044883988,
           -0.7566999245870112,
           -0.49587144468562405,
           -0.23504296478423647,
           0.02578551511715066,
           0.2866139950185387,
           0.5474424749199258,
           0.808270954821313,
           1.069099434722701,
           1.329927914624088,
           1.5907563945254752,
           1.8515848744268633,
           2.1124133543282504,
           2.3732418342296375,
           2.6340703141310247,
           2.8948987940324127,
           3.1557272739338
          ],
          [
           -4.408298643206435,
           -4.147470163305048,
           -3.8866416834036603,
           -3.6258132035022728,
           -3.3649847236008856,
           -3.104156243699498,
           -2.8433277637981105,
           -2.5824992838967233,
           -2.3216708039953358,
           -2.060842324093948,
           -1.800013844192561,
           -1.5391853642911735,
           -1.278356884389786,
           -1.0175284044883988,
           -0.7566999245870112,
           -0.49587144468562405,
           -0.23504296478423647,
           0.02578551511715066,
           0.2866139950185387,
           0.5474424749199258,
           0.808270954821313,
           1.069099434722701,
           1.329927914624088,
           1.5907563945254752,
           1.8515848744268633,
           2.1124133543282504,
           2.3732418342296375,
           2.6340703141310247,
           2.8948987940324127,
           3.1557272739338
          ],
          [
           -4.408298643206435,
           -4.147470163305048,
           -3.8866416834036603,
           -3.6258132035022728,
           -3.3649847236008856,
           -3.104156243699498,
           -2.8433277637981105,
           -2.5824992838967233,
           -2.3216708039953358,
           -2.060842324093948,
           -1.800013844192561,
           -1.5391853642911735,
           -1.278356884389786,
           -1.0175284044883988,
           -0.7566999245870112,
           -0.49587144468562405,
           -0.23504296478423647,
           0.02578551511715066,
           0.2866139950185387,
           0.5474424749199258,
           0.808270954821313,
           1.069099434722701,
           1.329927914624088,
           1.5907563945254752,
           1.8515848744268633,
           2.1124133543282504,
           2.3732418342296375,
           2.6340703141310247,
           2.8948987940324127,
           3.1557272739338
          ],
          [
           -4.408298643206435,
           -4.147470163305048,
           -3.8866416834036603,
           -3.6258132035022728,
           -3.3649847236008856,
           -3.104156243699498,
           -2.8433277637981105,
           -2.5824992838967233,
           -2.3216708039953358,
           -2.060842324093948,
           -1.800013844192561,
           -1.5391853642911735,
           -1.278356884389786,
           -1.0175284044883988,
           -0.7566999245870112,
           -0.49587144468562405,
           -0.23504296478423647,
           0.02578551511715066,
           0.2866139950185387,
           0.5474424749199258,
           0.808270954821313,
           1.069099434722701,
           1.329927914624088,
           1.5907563945254752,
           1.8515848744268633,
           2.1124133543282504,
           2.3732418342296375,
           2.6340703141310247,
           2.8948987940324127,
           3.1557272739338
          ],
          [
           -4.408298643206435,
           -4.147470163305048,
           -3.8866416834036603,
           -3.6258132035022728,
           -3.3649847236008856,
           -3.104156243699498,
           -2.8433277637981105,
           -2.5824992838967233,
           -2.3216708039953358,
           -2.060842324093948,
           -1.800013844192561,
           -1.5391853642911735,
           -1.278356884389786,
           -1.0175284044883988,
           -0.7566999245870112,
           -0.49587144468562405,
           -0.23504296478423647,
           0.02578551511715066,
           0.2866139950185387,
           0.5474424749199258,
           0.808270954821313,
           1.069099434722701,
           1.329927914624088,
           1.5907563945254752,
           1.8515848744268633,
           2.1124133543282504,
           2.3732418342296375,
           2.6340703141310247,
           2.8948987940324127,
           3.1557272739338
          ],
          [
           -4.408298643206435,
           -4.147470163305048,
           -3.8866416834036603,
           -3.6258132035022728,
           -3.3649847236008856,
           -3.104156243699498,
           -2.8433277637981105,
           -2.5824992838967233,
           -2.3216708039953358,
           -2.060842324093948,
           -1.800013844192561,
           -1.5391853642911735,
           -1.278356884389786,
           -1.0175284044883988,
           -0.7566999245870112,
           -0.49587144468562405,
           -0.23504296478423647,
           0.02578551511715066,
           0.2866139950185387,
           0.5474424749199258,
           0.808270954821313,
           1.069099434722701,
           1.329927914624088,
           1.5907563945254752,
           1.8515848744268633,
           2.1124133543282504,
           2.3732418342296375,
           2.6340703141310247,
           2.8948987940324127,
           3.1557272739338
          ],
          [
           -4.408298643206435,
           -4.147470163305048,
           -3.8866416834036603,
           -3.6258132035022728,
           -3.3649847236008856,
           -3.104156243699498,
           -2.8433277637981105,
           -2.5824992838967233,
           -2.3216708039953358,
           -2.060842324093948,
           -1.800013844192561,
           -1.5391853642911735,
           -1.278356884389786,
           -1.0175284044883988,
           -0.7566999245870112,
           -0.49587144468562405,
           -0.23504296478423647,
           0.02578551511715066,
           0.2866139950185387,
           0.5474424749199258,
           0.808270954821313,
           1.069099434722701,
           1.329927914624088,
           1.5907563945254752,
           1.8515848744268633,
           2.1124133543282504,
           2.3732418342296375,
           2.6340703141310247,
           2.8948987940324127,
           3.1557272739338
          ],
          [
           -4.408298643206435,
           -4.147470163305048,
           -3.8866416834036603,
           -3.6258132035022728,
           -3.3649847236008856,
           -3.104156243699498,
           -2.8433277637981105,
           -2.5824992838967233,
           -2.3216708039953358,
           -2.060842324093948,
           -1.800013844192561,
           -1.5391853642911735,
           -1.278356884389786,
           -1.0175284044883988,
           -0.7566999245870112,
           -0.49587144468562405,
           -0.23504296478423647,
           0.02578551511715066,
           0.2866139950185387,
           0.5474424749199258,
           0.808270954821313,
           1.069099434722701,
           1.329927914624088,
           1.5907563945254752,
           1.8515848744268633,
           2.1124133543282504,
           2.3732418342296375,
           2.6340703141310247,
           2.8948987940324127,
           3.1557272739338
          ],
          [
           -4.408298643206435,
           -4.147470163305048,
           -3.8866416834036603,
           -3.6258132035022728,
           -3.3649847236008856,
           -3.104156243699498,
           -2.8433277637981105,
           -2.5824992838967233,
           -2.3216708039953358,
           -2.060842324093948,
           -1.800013844192561,
           -1.5391853642911735,
           -1.278356884389786,
           -1.0175284044883988,
           -0.7566999245870112,
           -0.49587144468562405,
           -0.23504296478423647,
           0.02578551511715066,
           0.2866139950185387,
           0.5474424749199258,
           0.808270954821313,
           1.069099434722701,
           1.329927914624088,
           1.5907563945254752,
           1.8515848744268633,
           2.1124133543282504,
           2.3732418342296375,
           2.6340703141310247,
           2.8948987940324127,
           3.1557272739338
          ],
          [
           -4.408298643206435,
           -4.147470163305048,
           -3.8866416834036603,
           -3.6258132035022728,
           -3.3649847236008856,
           -3.104156243699498,
           -2.8433277637981105,
           -2.5824992838967233,
           -2.3216708039953358,
           -2.060842324093948,
           -1.800013844192561,
           -1.5391853642911735,
           -1.278356884389786,
           -1.0175284044883988,
           -0.7566999245870112,
           -0.49587144468562405,
           -0.23504296478423647,
           0.02578551511715066,
           0.2866139950185387,
           0.5474424749199258,
           0.808270954821313,
           1.069099434722701,
           1.329927914624088,
           1.5907563945254752,
           1.8515848744268633,
           2.1124133543282504,
           2.3732418342296375,
           2.6340703141310247,
           2.8948987940324127,
           3.1557272739338
          ],
          [
           -4.408298643206435,
           -4.147470163305048,
           -3.8866416834036603,
           -3.6258132035022728,
           -3.3649847236008856,
           -3.104156243699498,
           -2.8433277637981105,
           -2.5824992838967233,
           -2.3216708039953358,
           -2.060842324093948,
           -1.800013844192561,
           -1.5391853642911735,
           -1.278356884389786,
           -1.0175284044883988,
           -0.7566999245870112,
           -0.49587144468562405,
           -0.23504296478423647,
           0.02578551511715066,
           0.2866139950185387,
           0.5474424749199258,
           0.808270954821313,
           1.069099434722701,
           1.329927914624088,
           1.5907563945254752,
           1.8515848744268633,
           2.1124133543282504,
           2.3732418342296375,
           2.6340703141310247,
           2.8948987940324127,
           3.1557272739338
          ],
          [
           -4.408298643206435,
           -4.147470163305048,
           -3.8866416834036603,
           -3.6258132035022728,
           -3.3649847236008856,
           -3.104156243699498,
           -2.8433277637981105,
           -2.5824992838967233,
           -2.3216708039953358,
           -2.060842324093948,
           -1.800013844192561,
           -1.5391853642911735,
           -1.278356884389786,
           -1.0175284044883988,
           -0.7566999245870112,
           -0.49587144468562405,
           -0.23504296478423647,
           0.02578551511715066,
           0.2866139950185387,
           0.5474424749199258,
           0.808270954821313,
           1.069099434722701,
           1.329927914624088,
           1.5907563945254752,
           1.8515848744268633,
           2.1124133543282504,
           2.3732418342296375,
           2.6340703141310247,
           2.8948987940324127,
           3.1557272739338
          ],
          [
           -4.408298643206435,
           -4.147470163305048,
           -3.8866416834036603,
           -3.6258132035022728,
           -3.3649847236008856,
           -3.104156243699498,
           -2.8433277637981105,
           -2.5824992838967233,
           -2.3216708039953358,
           -2.060842324093948,
           -1.800013844192561,
           -1.5391853642911735,
           -1.278356884389786,
           -1.0175284044883988,
           -0.7566999245870112,
           -0.49587144468562405,
           -0.23504296478423647,
           0.02578551511715066,
           0.2866139950185387,
           0.5474424749199258,
           0.808270954821313,
           1.069099434722701,
           1.329927914624088,
           1.5907563945254752,
           1.8515848744268633,
           2.1124133543282504,
           2.3732418342296375,
           2.6340703141310247,
           2.8948987940324127,
           3.1557272739338
          ],
          [
           -4.408298643206435,
           -4.147470163305048,
           -3.8866416834036603,
           -3.6258132035022728,
           -3.3649847236008856,
           -3.104156243699498,
           -2.8433277637981105,
           -2.5824992838967233,
           -2.3216708039953358,
           -2.060842324093948,
           -1.800013844192561,
           -1.5391853642911735,
           -1.278356884389786,
           -1.0175284044883988,
           -0.7566999245870112,
           -0.49587144468562405,
           -0.23504296478423647,
           0.02578551511715066,
           0.2866139950185387,
           0.5474424749199258,
           0.808270954821313,
           1.069099434722701,
           1.329927914624088,
           1.5907563945254752,
           1.8515848744268633,
           2.1124133543282504,
           2.3732418342296375,
           2.6340703141310247,
           2.8948987940324127,
           3.1557272739338
          ],
          [
           -4.408298643206435,
           -4.147470163305048,
           -3.8866416834036603,
           -3.6258132035022728,
           -3.3649847236008856,
           -3.104156243699498,
           -2.8433277637981105,
           -2.5824992838967233,
           -2.3216708039953358,
           -2.060842324093948,
           -1.800013844192561,
           -1.5391853642911735,
           -1.278356884389786,
           -1.0175284044883988,
           -0.7566999245870112,
           -0.49587144468562405,
           -0.23504296478423647,
           0.02578551511715066,
           0.2866139950185387,
           0.5474424749199258,
           0.808270954821313,
           1.069099434722701,
           1.329927914624088,
           1.5907563945254752,
           1.8515848744268633,
           2.1124133543282504,
           2.3732418342296375,
           2.6340703141310247,
           2.8948987940324127,
           3.1557272739338
          ],
          [
           -4.408298643206435,
           -4.147470163305048,
           -3.8866416834036603,
           -3.6258132035022728,
           -3.3649847236008856,
           -3.104156243699498,
           -2.8433277637981105,
           -2.5824992838967233,
           -2.3216708039953358,
           -2.060842324093948,
           -1.800013844192561,
           -1.5391853642911735,
           -1.278356884389786,
           -1.0175284044883988,
           -0.7566999245870112,
           -0.49587144468562405,
           -0.23504296478423647,
           0.02578551511715066,
           0.2866139950185387,
           0.5474424749199258,
           0.808270954821313,
           1.069099434722701,
           1.329927914624088,
           1.5907563945254752,
           1.8515848744268633,
           2.1124133543282504,
           2.3732418342296375,
           2.6340703141310247,
           2.8948987940324127,
           3.1557272739338
          ],
          [
           -4.408298643206435,
           -4.147470163305048,
           -3.8866416834036603,
           -3.6258132035022728,
           -3.3649847236008856,
           -3.104156243699498,
           -2.8433277637981105,
           -2.5824992838967233,
           -2.3216708039953358,
           -2.060842324093948,
           -1.800013844192561,
           -1.5391853642911735,
           -1.278356884389786,
           -1.0175284044883988,
           -0.7566999245870112,
           -0.49587144468562405,
           -0.23504296478423647,
           0.02578551511715066,
           0.2866139950185387,
           0.5474424749199258,
           0.808270954821313,
           1.069099434722701,
           1.329927914624088,
           1.5907563945254752,
           1.8515848744268633,
           2.1124133543282504,
           2.3732418342296375,
           2.6340703141310247,
           2.8948987940324127,
           3.1557272739338
          ],
          [
           -4.408298643206435,
           -4.147470163305048,
           -3.8866416834036603,
           -3.6258132035022728,
           -3.3649847236008856,
           -3.104156243699498,
           -2.8433277637981105,
           -2.5824992838967233,
           -2.3216708039953358,
           -2.060842324093948,
           -1.800013844192561,
           -1.5391853642911735,
           -1.278356884389786,
           -1.0175284044883988,
           -0.7566999245870112,
           -0.49587144468562405,
           -0.23504296478423647,
           0.02578551511715066,
           0.2866139950185387,
           0.5474424749199258,
           0.808270954821313,
           1.069099434722701,
           1.329927914624088,
           1.5907563945254752,
           1.8515848744268633,
           2.1124133543282504,
           2.3732418342296375,
           2.6340703141310247,
           2.8948987940324127,
           3.1557272739338
          ],
          [
           -4.408298643206435,
           -4.147470163305048,
           -3.8866416834036603,
           -3.6258132035022728,
           -3.3649847236008856,
           -3.104156243699498,
           -2.8433277637981105,
           -2.5824992838967233,
           -2.3216708039953358,
           -2.060842324093948,
           -1.800013844192561,
           -1.5391853642911735,
           -1.278356884389786,
           -1.0175284044883988,
           -0.7566999245870112,
           -0.49587144468562405,
           -0.23504296478423647,
           0.02578551511715066,
           0.2866139950185387,
           0.5474424749199258,
           0.808270954821313,
           1.069099434722701,
           1.329927914624088,
           1.5907563945254752,
           1.8515848744268633,
           2.1124133543282504,
           2.3732418342296375,
           2.6340703141310247,
           2.8948987940324127,
           3.1557272739338
          ],
          [
           -4.408298643206435,
           -4.147470163305048,
           -3.8866416834036603,
           -3.6258132035022728,
           -3.3649847236008856,
           -3.104156243699498,
           -2.8433277637981105,
           -2.5824992838967233,
           -2.3216708039953358,
           -2.060842324093948,
           -1.800013844192561,
           -1.5391853642911735,
           -1.278356884389786,
           -1.0175284044883988,
           -0.7566999245870112,
           -0.49587144468562405,
           -0.23504296478423647,
           0.02578551511715066,
           0.2866139950185387,
           0.5474424749199258,
           0.808270954821313,
           1.069099434722701,
           1.329927914624088,
           1.5907563945254752,
           1.8515848744268633,
           2.1124133543282504,
           2.3732418342296375,
           2.6340703141310247,
           2.8948987940324127,
           3.1557272739338
          ],
          [
           -4.408298643206435,
           -4.147470163305048,
           -3.8866416834036603,
           -3.6258132035022728,
           -3.3649847236008856,
           -3.104156243699498,
           -2.8433277637981105,
           -2.5824992838967233,
           -2.3216708039953358,
           -2.060842324093948,
           -1.800013844192561,
           -1.5391853642911735,
           -1.278356884389786,
           -1.0175284044883988,
           -0.7566999245870112,
           -0.49587144468562405,
           -0.23504296478423647,
           0.02578551511715066,
           0.2866139950185387,
           0.5474424749199258,
           0.808270954821313,
           1.069099434722701,
           1.329927914624088,
           1.5907563945254752,
           1.8515848744268633,
           2.1124133543282504,
           2.3732418342296375,
           2.6340703141310247,
           2.8948987940324127,
           3.1557272739338
          ],
          [
           -4.408298643206435,
           -4.147470163305048,
           -3.8866416834036603,
           -3.6258132035022728,
           -3.3649847236008856,
           -3.104156243699498,
           -2.8433277637981105,
           -2.5824992838967233,
           -2.3216708039953358,
           -2.060842324093948,
           -1.800013844192561,
           -1.5391853642911735,
           -1.278356884389786,
           -1.0175284044883988,
           -0.7566999245870112,
           -0.49587144468562405,
           -0.23504296478423647,
           0.02578551511715066,
           0.2866139950185387,
           0.5474424749199258,
           0.808270954821313,
           1.069099434722701,
           1.329927914624088,
           1.5907563945254752,
           1.8515848744268633,
           2.1124133543282504,
           2.3732418342296375,
           2.6340703141310247,
           2.8948987940324127,
           3.1557272739338
          ],
          [
           -4.408298643206435,
           -4.147470163305048,
           -3.8866416834036603,
           -3.6258132035022728,
           -3.3649847236008856,
           -3.104156243699498,
           -2.8433277637981105,
           -2.5824992838967233,
           -2.3216708039953358,
           -2.060842324093948,
           -1.800013844192561,
           -1.5391853642911735,
           -1.278356884389786,
           -1.0175284044883988,
           -0.7566999245870112,
           -0.49587144468562405,
           -0.23504296478423647,
           0.02578551511715066,
           0.2866139950185387,
           0.5474424749199258,
           0.808270954821313,
           1.069099434722701,
           1.329927914624088,
           1.5907563945254752,
           1.8515848744268633,
           2.1124133543282504,
           2.3732418342296375,
           2.6340703141310247,
           2.8948987940324127,
           3.1557272739338
          ],
          [
           -4.408298643206435,
           -4.147470163305048,
           -3.8866416834036603,
           -3.6258132035022728,
           -3.3649847236008856,
           -3.104156243699498,
           -2.8433277637981105,
           -2.5824992838967233,
           -2.3216708039953358,
           -2.060842324093948,
           -1.800013844192561,
           -1.5391853642911735,
           -1.278356884389786,
           -1.0175284044883988,
           -0.7566999245870112,
           -0.49587144468562405,
           -0.23504296478423647,
           0.02578551511715066,
           0.2866139950185387,
           0.5474424749199258,
           0.808270954821313,
           1.069099434722701,
           1.329927914624088,
           1.5907563945254752,
           1.8515848744268633,
           2.1124133543282504,
           2.3732418342296375,
           2.6340703141310247,
           2.8948987940324127,
           3.1557272739338
          ],
          [
           -4.408298643206435,
           -4.147470163305048,
           -3.8866416834036603,
           -3.6258132035022728,
           -3.3649847236008856,
           -3.104156243699498,
           -2.8433277637981105,
           -2.5824992838967233,
           -2.3216708039953358,
           -2.060842324093948,
           -1.800013844192561,
           -1.5391853642911735,
           -1.278356884389786,
           -1.0175284044883988,
           -0.7566999245870112,
           -0.49587144468562405,
           -0.23504296478423647,
           0.02578551511715066,
           0.2866139950185387,
           0.5474424749199258,
           0.808270954821313,
           1.069099434722701,
           1.329927914624088,
           1.5907563945254752,
           1.8515848744268633,
           2.1124133543282504,
           2.3732418342296375,
           2.6340703141310247,
           2.8948987940324127,
           3.1557272739338
          ],
          [
           -4.408298643206435,
           -4.147470163305048,
           -3.8866416834036603,
           -3.6258132035022728,
           -3.3649847236008856,
           -3.104156243699498,
           -2.8433277637981105,
           -2.5824992838967233,
           -2.3216708039953358,
           -2.060842324093948,
           -1.800013844192561,
           -1.5391853642911735,
           -1.278356884389786,
           -1.0175284044883988,
           -0.7566999245870112,
           -0.49587144468562405,
           -0.23504296478423647,
           0.02578551511715066,
           0.2866139950185387,
           0.5474424749199258,
           0.808270954821313,
           1.069099434722701,
           1.329927914624088,
           1.5907563945254752,
           1.8515848744268633,
           2.1124133543282504,
           2.3732418342296375,
           2.6340703141310247,
           2.8948987940324127,
           3.1557272739338
          ],
          [
           -4.408298643206435,
           -4.147470163305048,
           -3.8866416834036603,
           -3.6258132035022728,
           -3.3649847236008856,
           -3.104156243699498,
           -2.8433277637981105,
           -2.5824992838967233,
           -2.3216708039953358,
           -2.060842324093948,
           -1.800013844192561,
           -1.5391853642911735,
           -1.278356884389786,
           -1.0175284044883988,
           -0.7566999245870112,
           -0.49587144468562405,
           -0.23504296478423647,
           0.02578551511715066,
           0.2866139950185387,
           0.5474424749199258,
           0.808270954821313,
           1.069099434722701,
           1.329927914624088,
           1.5907563945254752,
           1.8515848744268633,
           2.1124133543282504,
           2.3732418342296375,
           2.6340703141310247,
           2.8948987940324127,
           3.1557272739338
          ],
          [
           -4.408298643206435,
           -4.147470163305048,
           -3.8866416834036603,
           -3.6258132035022728,
           -3.3649847236008856,
           -3.104156243699498,
           -2.8433277637981105,
           -2.5824992838967233,
           -2.3216708039953358,
           -2.060842324093948,
           -1.800013844192561,
           -1.5391853642911735,
           -1.278356884389786,
           -1.0175284044883988,
           -0.7566999245870112,
           -0.49587144468562405,
           -0.23504296478423647,
           0.02578551511715066,
           0.2866139950185387,
           0.5474424749199258,
           0.808270954821313,
           1.069099434722701,
           1.329927914624088,
           1.5907563945254752,
           1.8515848744268633,
           2.1124133543282504,
           2.3732418342296375,
           2.6340703141310247,
           2.8948987940324127,
           3.1557272739338
          ]
         ],
         "y": [
          [
           -9.543632221080616,
           -9.543632221080616,
           -9.543632221080616,
           -9.543632221080616,
           -9.543632221080616,
           -9.543632221080616,
           -9.543632221080616,
           -9.543632221080616,
           -9.543632221080616,
           -9.543632221080616,
           -9.543632221080616,
           -9.543632221080616,
           -9.543632221080616,
           -9.543632221080616,
           -9.543632221080616,
           -9.543632221080616,
           -9.543632221080616,
           -9.543632221080616,
           -9.543632221080616,
           -9.543632221080616,
           -9.543632221080616,
           -9.543632221080616,
           -9.543632221080616,
           -9.543632221080616,
           -9.543632221080616,
           -9.543632221080616,
           -9.543632221080616,
           -9.543632221080616,
           -9.543632221080616,
           -9.543632221080616
          ],
          [
           -9.253620237970093,
           -9.253620237970093,
           -9.253620237970093,
           -9.253620237970093,
           -9.253620237970093,
           -9.253620237970093,
           -9.253620237970093,
           -9.253620237970093,
           -9.253620237970093,
           -9.253620237970093,
           -9.253620237970093,
           -9.253620237970093,
           -9.253620237970093,
           -9.253620237970093,
           -9.253620237970093,
           -9.253620237970093,
           -9.253620237970093,
           -9.253620237970093,
           -9.253620237970093,
           -9.253620237970093,
           -9.253620237970093,
           -9.253620237970093,
           -9.253620237970093,
           -9.253620237970093,
           -9.253620237970093,
           -9.253620237970093,
           -9.253620237970093,
           -9.253620237970093,
           -9.253620237970093,
           -9.253620237970093
          ],
          [
           -8.963608254859572,
           -8.963608254859572,
           -8.963608254859572,
           -8.963608254859572,
           -8.963608254859572,
           -8.963608254859572,
           -8.963608254859572,
           -8.963608254859572,
           -8.963608254859572,
           -8.963608254859572,
           -8.963608254859572,
           -8.963608254859572,
           -8.963608254859572,
           -8.963608254859572,
           -8.963608254859572,
           -8.963608254859572,
           -8.963608254859572,
           -8.963608254859572,
           -8.963608254859572,
           -8.963608254859572,
           -8.963608254859572,
           -8.963608254859572,
           -8.963608254859572,
           -8.963608254859572,
           -8.963608254859572,
           -8.963608254859572,
           -8.963608254859572,
           -8.963608254859572,
           -8.963608254859572,
           -8.963608254859572
          ],
          [
           -8.67359627174905,
           -8.67359627174905,
           -8.67359627174905,
           -8.67359627174905,
           -8.67359627174905,
           -8.67359627174905,
           -8.67359627174905,
           -8.67359627174905,
           -8.67359627174905,
           -8.67359627174905,
           -8.67359627174905,
           -8.67359627174905,
           -8.67359627174905,
           -8.67359627174905,
           -8.67359627174905,
           -8.67359627174905,
           -8.67359627174905,
           -8.67359627174905,
           -8.67359627174905,
           -8.67359627174905,
           -8.67359627174905,
           -8.67359627174905,
           -8.67359627174905,
           -8.67359627174905,
           -8.67359627174905,
           -8.67359627174905,
           -8.67359627174905,
           -8.67359627174905,
           -8.67359627174905,
           -8.67359627174905
          ],
          [
           -8.383584288638527,
           -8.383584288638527,
           -8.383584288638527,
           -8.383584288638527,
           -8.383584288638527,
           -8.383584288638527,
           -8.383584288638527,
           -8.383584288638527,
           -8.383584288638527,
           -8.383584288638527,
           -8.383584288638527,
           -8.383584288638527,
           -8.383584288638527,
           -8.383584288638527,
           -8.383584288638527,
           -8.383584288638527,
           -8.383584288638527,
           -8.383584288638527,
           -8.383584288638527,
           -8.383584288638527,
           -8.383584288638527,
           -8.383584288638527,
           -8.383584288638527,
           -8.383584288638527,
           -8.383584288638527,
           -8.383584288638527,
           -8.383584288638527,
           -8.383584288638527,
           -8.383584288638527,
           -8.383584288638527
          ],
          [
           -8.093572305528005,
           -8.093572305528005,
           -8.093572305528005,
           -8.093572305528005,
           -8.093572305528005,
           -8.093572305528005,
           -8.093572305528005,
           -8.093572305528005,
           -8.093572305528005,
           -8.093572305528005,
           -8.093572305528005,
           -8.093572305528005,
           -8.093572305528005,
           -8.093572305528005,
           -8.093572305528005,
           -8.093572305528005,
           -8.093572305528005,
           -8.093572305528005,
           -8.093572305528005,
           -8.093572305528005,
           -8.093572305528005,
           -8.093572305528005,
           -8.093572305528005,
           -8.093572305528005,
           -8.093572305528005,
           -8.093572305528005,
           -8.093572305528005,
           -8.093572305528005,
           -8.093572305528005,
           -8.093572305528005
          ],
          [
           -7.803560322417483,
           -7.803560322417483,
           -7.803560322417483,
           -7.803560322417483,
           -7.803560322417483,
           -7.803560322417483,
           -7.803560322417483,
           -7.803560322417483,
           -7.803560322417483,
           -7.803560322417483,
           -7.803560322417483,
           -7.803560322417483,
           -7.803560322417483,
           -7.803560322417483,
           -7.803560322417483,
           -7.803560322417483,
           -7.803560322417483,
           -7.803560322417483,
           -7.803560322417483,
           -7.803560322417483,
           -7.803560322417483,
           -7.803560322417483,
           -7.803560322417483,
           -7.803560322417483,
           -7.803560322417483,
           -7.803560322417483,
           -7.803560322417483,
           -7.803560322417483,
           -7.803560322417483,
           -7.803560322417483
          ],
          [
           -7.513548339306961,
           -7.513548339306961,
           -7.513548339306961,
           -7.513548339306961,
           -7.513548339306961,
           -7.513548339306961,
           -7.513548339306961,
           -7.513548339306961,
           -7.513548339306961,
           -7.513548339306961,
           -7.513548339306961,
           -7.513548339306961,
           -7.513548339306961,
           -7.513548339306961,
           -7.513548339306961,
           -7.513548339306961,
           -7.513548339306961,
           -7.513548339306961,
           -7.513548339306961,
           -7.513548339306961,
           -7.513548339306961,
           -7.513548339306961,
           -7.513548339306961,
           -7.513548339306961,
           -7.513548339306961,
           -7.513548339306961,
           -7.513548339306961,
           -7.513548339306961,
           -7.513548339306961,
           -7.513548339306961
          ],
          [
           -7.223536356196439,
           -7.223536356196439,
           -7.223536356196439,
           -7.223536356196439,
           -7.223536356196439,
           -7.223536356196439,
           -7.223536356196439,
           -7.223536356196439,
           -7.223536356196439,
           -7.223536356196439,
           -7.223536356196439,
           -7.223536356196439,
           -7.223536356196439,
           -7.223536356196439,
           -7.223536356196439,
           -7.223536356196439,
           -7.223536356196439,
           -7.223536356196439,
           -7.223536356196439,
           -7.223536356196439,
           -7.223536356196439,
           -7.223536356196439,
           -7.223536356196439,
           -7.223536356196439,
           -7.223536356196439,
           -7.223536356196439,
           -7.223536356196439,
           -7.223536356196439,
           -7.223536356196439,
           -7.223536356196439
          ],
          [
           -6.933524373085916,
           -6.933524373085916,
           -6.933524373085916,
           -6.933524373085916,
           -6.933524373085916,
           -6.933524373085916,
           -6.933524373085916,
           -6.933524373085916,
           -6.933524373085916,
           -6.933524373085916,
           -6.933524373085916,
           -6.933524373085916,
           -6.933524373085916,
           -6.933524373085916,
           -6.933524373085916,
           -6.933524373085916,
           -6.933524373085916,
           -6.933524373085916,
           -6.933524373085916,
           -6.933524373085916,
           -6.933524373085916,
           -6.933524373085916,
           -6.933524373085916,
           -6.933524373085916,
           -6.933524373085916,
           -6.933524373085916,
           -6.933524373085916,
           -6.933524373085916,
           -6.933524373085916,
           -6.933524373085916
          ],
          [
           -6.6435123899753945,
           -6.6435123899753945,
           -6.6435123899753945,
           -6.6435123899753945,
           -6.6435123899753945,
           -6.6435123899753945,
           -6.6435123899753945,
           -6.6435123899753945,
           -6.6435123899753945,
           -6.6435123899753945,
           -6.6435123899753945,
           -6.6435123899753945,
           -6.6435123899753945,
           -6.6435123899753945,
           -6.6435123899753945,
           -6.6435123899753945,
           -6.6435123899753945,
           -6.6435123899753945,
           -6.6435123899753945,
           -6.6435123899753945,
           -6.6435123899753945,
           -6.6435123899753945,
           -6.6435123899753945,
           -6.6435123899753945,
           -6.6435123899753945,
           -6.6435123899753945,
           -6.6435123899753945,
           -6.6435123899753945,
           -6.6435123899753945,
           -6.6435123899753945
          ],
          [
           -6.353500406864873,
           -6.353500406864873,
           -6.353500406864873,
           -6.353500406864873,
           -6.353500406864873,
           -6.353500406864873,
           -6.353500406864873,
           -6.353500406864873,
           -6.353500406864873,
           -6.353500406864873,
           -6.353500406864873,
           -6.353500406864873,
           -6.353500406864873,
           -6.353500406864873,
           -6.353500406864873,
           -6.353500406864873,
           -6.353500406864873,
           -6.353500406864873,
           -6.353500406864873,
           -6.353500406864873,
           -6.353500406864873,
           -6.353500406864873,
           -6.353500406864873,
           -6.353500406864873,
           -6.353500406864873,
           -6.353500406864873,
           -6.353500406864873,
           -6.353500406864873,
           -6.353500406864873,
           -6.353500406864873
          ],
          [
           -6.06348842375435,
           -6.06348842375435,
           -6.06348842375435,
           -6.06348842375435,
           -6.06348842375435,
           -6.06348842375435,
           -6.06348842375435,
           -6.06348842375435,
           -6.06348842375435,
           -6.06348842375435,
           -6.06348842375435,
           -6.06348842375435,
           -6.06348842375435,
           -6.06348842375435,
           -6.06348842375435,
           -6.06348842375435,
           -6.06348842375435,
           -6.06348842375435,
           -6.06348842375435,
           -6.06348842375435,
           -6.06348842375435,
           -6.06348842375435,
           -6.06348842375435,
           -6.06348842375435,
           -6.06348842375435,
           -6.06348842375435,
           -6.06348842375435,
           -6.06348842375435,
           -6.06348842375435,
           -6.06348842375435
          ],
          [
           -5.773476440643828,
           -5.773476440643828,
           -5.773476440643828,
           -5.773476440643828,
           -5.773476440643828,
           -5.773476440643828,
           -5.773476440643828,
           -5.773476440643828,
           -5.773476440643828,
           -5.773476440643828,
           -5.773476440643828,
           -5.773476440643828,
           -5.773476440643828,
           -5.773476440643828,
           -5.773476440643828,
           -5.773476440643828,
           -5.773476440643828,
           -5.773476440643828,
           -5.773476440643828,
           -5.773476440643828,
           -5.773476440643828,
           -5.773476440643828,
           -5.773476440643828,
           -5.773476440643828,
           -5.773476440643828,
           -5.773476440643828,
           -5.773476440643828,
           -5.773476440643828,
           -5.773476440643828,
           -5.773476440643828
          ],
          [
           -5.483464457533306,
           -5.483464457533306,
           -5.483464457533306,
           -5.483464457533306,
           -5.483464457533306,
           -5.483464457533306,
           -5.483464457533306,
           -5.483464457533306,
           -5.483464457533306,
           -5.483464457533306,
           -5.483464457533306,
           -5.483464457533306,
           -5.483464457533306,
           -5.483464457533306,
           -5.483464457533306,
           -5.483464457533306,
           -5.483464457533306,
           -5.483464457533306,
           -5.483464457533306,
           -5.483464457533306,
           -5.483464457533306,
           -5.483464457533306,
           -5.483464457533306,
           -5.483464457533306,
           -5.483464457533306,
           -5.483464457533306,
           -5.483464457533306,
           -5.483464457533306,
           -5.483464457533306,
           -5.483464457533306
          ],
          [
           -5.193452474422784,
           -5.193452474422784,
           -5.193452474422784,
           -5.193452474422784,
           -5.193452474422784,
           -5.193452474422784,
           -5.193452474422784,
           -5.193452474422784,
           -5.193452474422784,
           -5.193452474422784,
           -5.193452474422784,
           -5.193452474422784,
           -5.193452474422784,
           -5.193452474422784,
           -5.193452474422784,
           -5.193452474422784,
           -5.193452474422784,
           -5.193452474422784,
           -5.193452474422784,
           -5.193452474422784,
           -5.193452474422784,
           -5.193452474422784,
           -5.193452474422784,
           -5.193452474422784,
           -5.193452474422784,
           -5.193452474422784,
           -5.193452474422784,
           -5.193452474422784,
           -5.193452474422784,
           -5.193452474422784
          ],
          [
           -4.903440491312262,
           -4.903440491312262,
           -4.903440491312262,
           -4.903440491312262,
           -4.903440491312262,
           -4.903440491312262,
           -4.903440491312262,
           -4.903440491312262,
           -4.903440491312262,
           -4.903440491312262,
           -4.903440491312262,
           -4.903440491312262,
           -4.903440491312262,
           -4.903440491312262,
           -4.903440491312262,
           -4.903440491312262,
           -4.903440491312262,
           -4.903440491312262,
           -4.903440491312262,
           -4.903440491312262,
           -4.903440491312262,
           -4.903440491312262,
           -4.903440491312262,
           -4.903440491312262,
           -4.903440491312262,
           -4.903440491312262,
           -4.903440491312262,
           -4.903440491312262,
           -4.903440491312262,
           -4.903440491312262
          ],
          [
           -4.613428508201739,
           -4.613428508201739,
           -4.613428508201739,
           -4.613428508201739,
           -4.613428508201739,
           -4.613428508201739,
           -4.613428508201739,
           -4.613428508201739,
           -4.613428508201739,
           -4.613428508201739,
           -4.613428508201739,
           -4.613428508201739,
           -4.613428508201739,
           -4.613428508201739,
           -4.613428508201739,
           -4.613428508201739,
           -4.613428508201739,
           -4.613428508201739,
           -4.613428508201739,
           -4.613428508201739,
           -4.613428508201739,
           -4.613428508201739,
           -4.613428508201739,
           -4.613428508201739,
           -4.613428508201739,
           -4.613428508201739,
           -4.613428508201739,
           -4.613428508201739,
           -4.613428508201739,
           -4.613428508201739
          ],
          [
           -4.3234165250912175,
           -4.3234165250912175,
           -4.3234165250912175,
           -4.3234165250912175,
           -4.3234165250912175,
           -4.3234165250912175,
           -4.3234165250912175,
           -4.3234165250912175,
           -4.3234165250912175,
           -4.3234165250912175,
           -4.3234165250912175,
           -4.3234165250912175,
           -4.3234165250912175,
           -4.3234165250912175,
           -4.3234165250912175,
           -4.3234165250912175,
           -4.3234165250912175,
           -4.3234165250912175,
           -4.3234165250912175,
           -4.3234165250912175,
           -4.3234165250912175,
           -4.3234165250912175,
           -4.3234165250912175,
           -4.3234165250912175,
           -4.3234165250912175,
           -4.3234165250912175,
           -4.3234165250912175,
           -4.3234165250912175,
           -4.3234165250912175,
           -4.3234165250912175
          ],
          [
           -4.033404541980696,
           -4.033404541980696,
           -4.033404541980696,
           -4.033404541980696,
           -4.033404541980696,
           -4.033404541980696,
           -4.033404541980696,
           -4.033404541980696,
           -4.033404541980696,
           -4.033404541980696,
           -4.033404541980696,
           -4.033404541980696,
           -4.033404541980696,
           -4.033404541980696,
           -4.033404541980696,
           -4.033404541980696,
           -4.033404541980696,
           -4.033404541980696,
           -4.033404541980696,
           -4.033404541980696,
           -4.033404541980696,
           -4.033404541980696,
           -4.033404541980696,
           -4.033404541980696,
           -4.033404541980696,
           -4.033404541980696,
           -4.033404541980696,
           -4.033404541980696,
           -4.033404541980696,
           -4.033404541980696
          ],
          [
           -3.7433925588701733,
           -3.7433925588701733,
           -3.7433925588701733,
           -3.7433925588701733,
           -3.7433925588701733,
           -3.7433925588701733,
           -3.7433925588701733,
           -3.7433925588701733,
           -3.7433925588701733,
           -3.7433925588701733,
           -3.7433925588701733,
           -3.7433925588701733,
           -3.7433925588701733,
           -3.7433925588701733,
           -3.7433925588701733,
           -3.7433925588701733,
           -3.7433925588701733,
           -3.7433925588701733,
           -3.7433925588701733,
           -3.7433925588701733,
           -3.7433925588701733,
           -3.7433925588701733,
           -3.7433925588701733,
           -3.7433925588701733,
           -3.7433925588701733,
           -3.7433925588701733,
           -3.7433925588701733,
           -3.7433925588701733,
           -3.7433925588701733,
           -3.7433925588701733
          ],
          [
           -3.4533805757596507,
           -3.4533805757596507,
           -3.4533805757596507,
           -3.4533805757596507,
           -3.4533805757596507,
           -3.4533805757596507,
           -3.4533805757596507,
           -3.4533805757596507,
           -3.4533805757596507,
           -3.4533805757596507,
           -3.4533805757596507,
           -3.4533805757596507,
           -3.4533805757596507,
           -3.4533805757596507,
           -3.4533805757596507,
           -3.4533805757596507,
           -3.4533805757596507,
           -3.4533805757596507,
           -3.4533805757596507,
           -3.4533805757596507,
           -3.4533805757596507,
           -3.4533805757596507,
           -3.4533805757596507,
           -3.4533805757596507,
           -3.4533805757596507,
           -3.4533805757596507,
           -3.4533805757596507,
           -3.4533805757596507,
           -3.4533805757596507,
           -3.4533805757596507
          ],
          [
           -3.163368592649129,
           -3.163368592649129,
           -3.163368592649129,
           -3.163368592649129,
           -3.163368592649129,
           -3.163368592649129,
           -3.163368592649129,
           -3.163368592649129,
           -3.163368592649129,
           -3.163368592649129,
           -3.163368592649129,
           -3.163368592649129,
           -3.163368592649129,
           -3.163368592649129,
           -3.163368592649129,
           -3.163368592649129,
           -3.163368592649129,
           -3.163368592649129,
           -3.163368592649129,
           -3.163368592649129,
           -3.163368592649129,
           -3.163368592649129,
           -3.163368592649129,
           -3.163368592649129,
           -3.163368592649129,
           -3.163368592649129,
           -3.163368592649129,
           -3.163368592649129,
           -3.163368592649129,
           -3.163368592649129
          ],
          [
           -2.8733566095386074,
           -2.8733566095386074,
           -2.8733566095386074,
           -2.8733566095386074,
           -2.8733566095386074,
           -2.8733566095386074,
           -2.8733566095386074,
           -2.8733566095386074,
           -2.8733566095386074,
           -2.8733566095386074,
           -2.8733566095386074,
           -2.8733566095386074,
           -2.8733566095386074,
           -2.8733566095386074,
           -2.8733566095386074,
           -2.8733566095386074,
           -2.8733566095386074,
           -2.8733566095386074,
           -2.8733566095386074,
           -2.8733566095386074,
           -2.8733566095386074,
           -2.8733566095386074,
           -2.8733566095386074,
           -2.8733566095386074,
           -2.8733566095386074,
           -2.8733566095386074,
           -2.8733566095386074,
           -2.8733566095386074,
           -2.8733566095386074,
           -2.8733566095386074
          ],
          [
           -2.583344626428085,
           -2.583344626428085,
           -2.583344626428085,
           -2.583344626428085,
           -2.583344626428085,
           -2.583344626428085,
           -2.583344626428085,
           -2.583344626428085,
           -2.583344626428085,
           -2.583344626428085,
           -2.583344626428085,
           -2.583344626428085,
           -2.583344626428085,
           -2.583344626428085,
           -2.583344626428085,
           -2.583344626428085,
           -2.583344626428085,
           -2.583344626428085,
           -2.583344626428085,
           -2.583344626428085,
           -2.583344626428085,
           -2.583344626428085,
           -2.583344626428085,
           -2.583344626428085,
           -2.583344626428085,
           -2.583344626428085,
           -2.583344626428085,
           -2.583344626428085,
           -2.583344626428085,
           -2.583344626428085
          ],
          [
           -2.2933326433175623,
           -2.2933326433175623,
           -2.2933326433175623,
           -2.2933326433175623,
           -2.2933326433175623,
           -2.2933326433175623,
           -2.2933326433175623,
           -2.2933326433175623,
           -2.2933326433175623,
           -2.2933326433175623,
           -2.2933326433175623,
           -2.2933326433175623,
           -2.2933326433175623,
           -2.2933326433175623,
           -2.2933326433175623,
           -2.2933326433175623,
           -2.2933326433175623,
           -2.2933326433175623,
           -2.2933326433175623,
           -2.2933326433175623,
           -2.2933326433175623,
           -2.2933326433175623,
           -2.2933326433175623,
           -2.2933326433175623,
           -2.2933326433175623,
           -2.2933326433175623,
           -2.2933326433175623,
           -2.2933326433175623,
           -2.2933326433175623,
           -2.2933326433175623
          ],
          [
           -2.0033206602070406,
           -2.0033206602070406,
           -2.0033206602070406,
           -2.0033206602070406,
           -2.0033206602070406,
           -2.0033206602070406,
           -2.0033206602070406,
           -2.0033206602070406,
           -2.0033206602070406,
           -2.0033206602070406,
           -2.0033206602070406,
           -2.0033206602070406,
           -2.0033206602070406,
           -2.0033206602070406,
           -2.0033206602070406,
           -2.0033206602070406,
           -2.0033206602070406,
           -2.0033206602070406,
           -2.0033206602070406,
           -2.0033206602070406,
           -2.0033206602070406,
           -2.0033206602070406,
           -2.0033206602070406,
           -2.0033206602070406,
           -2.0033206602070406,
           -2.0033206602070406,
           -2.0033206602070406,
           -2.0033206602070406,
           -2.0033206602070406,
           -2.0033206602070406
          ],
          [
           -1.713308677096519,
           -1.713308677096519,
           -1.713308677096519,
           -1.713308677096519,
           -1.713308677096519,
           -1.713308677096519,
           -1.713308677096519,
           -1.713308677096519,
           -1.713308677096519,
           -1.713308677096519,
           -1.713308677096519,
           -1.713308677096519,
           -1.713308677096519,
           -1.713308677096519,
           -1.713308677096519,
           -1.713308677096519,
           -1.713308677096519,
           -1.713308677096519,
           -1.713308677096519,
           -1.713308677096519,
           -1.713308677096519,
           -1.713308677096519,
           -1.713308677096519,
           -1.713308677096519,
           -1.713308677096519,
           -1.713308677096519,
           -1.713308677096519,
           -1.713308677096519,
           -1.713308677096519,
           -1.713308677096519
          ],
          [
           -1.4232966939859963,
           -1.4232966939859963,
           -1.4232966939859963,
           -1.4232966939859963,
           -1.4232966939859963,
           -1.4232966939859963,
           -1.4232966939859963,
           -1.4232966939859963,
           -1.4232966939859963,
           -1.4232966939859963,
           -1.4232966939859963,
           -1.4232966939859963,
           -1.4232966939859963,
           -1.4232966939859963,
           -1.4232966939859963,
           -1.4232966939859963,
           -1.4232966939859963,
           -1.4232966939859963,
           -1.4232966939859963,
           -1.4232966939859963,
           -1.4232966939859963,
           -1.4232966939859963,
           -1.4232966939859963,
           -1.4232966939859963,
           -1.4232966939859963,
           -1.4232966939859963,
           -1.4232966939859963,
           -1.4232966939859963,
           -1.4232966939859963,
           -1.4232966939859963
          ],
          [
           -1.133284710875473,
           -1.133284710875473,
           -1.133284710875473,
           -1.133284710875473,
           -1.133284710875473,
           -1.133284710875473,
           -1.133284710875473,
           -1.133284710875473,
           -1.133284710875473,
           -1.133284710875473,
           -1.133284710875473,
           -1.133284710875473,
           -1.133284710875473,
           -1.133284710875473,
           -1.133284710875473,
           -1.133284710875473,
           -1.133284710875473,
           -1.133284710875473,
           -1.133284710875473,
           -1.133284710875473,
           -1.133284710875473,
           -1.133284710875473,
           -1.133284710875473,
           -1.133284710875473,
           -1.133284710875473,
           -1.133284710875473,
           -1.133284710875473,
           -1.133284710875473,
           -1.133284710875473,
           -1.133284710875473
          ]
         ],
         "z": [
          [
           -3.4791295604488686,
           -3.53321016642088,
           -3.587290772392892,
           -3.641371378364904,
           -3.6954519843369162,
           -3.749532590308928,
           -3.80361319628094,
           -3.857693802252952,
           -3.911774408224964,
           -3.965855014196976,
           -4.0199356201689875,
           -4.074016226141,
           -4.128096832113012,
           -4.182177438085024,
           -4.236258044057036,
           -4.290338650029048,
           -4.34441925600106,
           -4.398499861973071,
           -4.452580467945083,
           -4.506661073917095,
           -4.560741679889107,
           -4.614822285861119,
           -4.668902891833131,
           -4.722983497805143,
           -4.777064103777155,
           -4.831144709749167,
           -4.885225315721179,
           -4.93930592169319,
           -4.993386527665202,
           -5.047467133637214
          ],
          [
           -3.325336636914215,
           -3.3794172428862272,
           -3.433497848858239,
           -3.487578454830251,
           -3.541659060802263,
           -3.595739666774275,
           -3.649820272746287,
           -3.7039008787182985,
           -3.7579814846903106,
           -3.8120620906623226,
           -3.8661426966343346,
           -3.9202233026063467,
           -3.9743039085783582,
           -4.02838451455037,
           -4.082465120522382,
           -4.136545726494394,
           -4.190626332466406,
           -4.244706938438418,
           -4.29878754441043,
           -4.352868150382442,
           -4.406948756354454,
           -4.461029362326466,
           -4.515109968298478,
           -4.56919057427049,
           -4.623271180242502,
           -4.677351786214514,
           -4.731432392186526,
           -4.785512998158538,
           -4.839593604130549,
           -4.893674210102561
          ],
          [
           -3.171543713379563,
           -3.2256243193515752,
           -3.2797049253235873,
           -3.3337855312955993,
           -3.387866137267611,
           -3.441946743239623,
           -3.496027349211635,
           -3.550107955183647,
           -3.604188561155659,
           -3.6582691671276706,
           -3.7123497730996826,
           -3.7664303790716946,
           -3.8205109850437067,
           -3.8745915910157187,
           -3.9286721969877303,
           -3.9827528029597423,
           -4.036833408931754,
           -4.090914014903766,
           -4.144994620875778,
           -4.19907522684779,
           -4.253155832819802,
           -4.307236438791814,
           -4.361317044763826,
           -4.415397650735838,
           -4.46947825670785,
           -4.523558862679862,
           -4.577639468651873,
           -4.631720074623885,
           -4.685800680595897,
           -4.739881286567909
          ],
          [
           -3.0177507898449103,
           -3.071831395816922,
           -3.125912001788934,
           -3.179992607760946,
           -3.234073213732958,
           -3.28815381970497,
           -3.3422344256769816,
           -3.3963150316489936,
           -3.4503956376210057,
           -3.5044762435930177,
           -3.5585568495650297,
           -3.6126374555370413,
           -3.6667180615090533,
           -3.7207986674810654,
           -3.7748792734530774,
           -3.8289598794250894,
           -3.883040485397101,
           -3.937121091369113,
           -3.991201697341125,
           -4.045282303313137,
           -4.099362909285149,
           -4.153443515257161,
           -4.207524121229173,
           -4.261604727201185,
           -4.315685333173197,
           -4.369765939145209,
           -4.423846545117221,
           -4.477927151089232,
           -4.532007757061244,
           -4.586088363033256
          ],
          [
           -2.863957866310257,
           -2.918038472282269,
           -2.972119078254281,
           -3.0261996842262926,
           -3.0802802901983046,
           -3.1343608961703167,
           -3.1884415021423287,
           -3.2425221081143407,
           -3.2966027140863523,
           -3.3506833200583643,
           -3.4047639260303764,
           -3.4588445320023884,
           -3.5129251379744,
           -3.567005743946412,
           -3.621086349918424,
           -3.675166955890436,
           -3.729247561862448,
           -3.7833281678344597,
           -3.8374087738064717,
           -3.8914893797784837,
           -3.945569985750496,
           -3.999650591722508,
           -4.053731197694519,
           -4.107811803666531,
           -4.1618924096385435,
           -4.2159730156105555,
           -4.2700536215825675,
           -4.3241342275545795,
           -4.378214833526592,
           -4.432295439498603
          ],
          [
           -2.7101649427756036,
           -2.7642455487476156,
           -2.8183261547196277,
           -2.8724067606916397,
           -2.9264873666636517,
           -2.9805679726356633,
           -3.0346485786076753,
           -3.0887291845796874,
           -3.1428097905516994,
           -3.196890396523711,
           -3.250971002495723,
           -3.305051608467735,
           -3.359132214439747,
           -3.413212820411759,
           -3.4672934263837707,
           -3.5213740323557827,
           -3.5754546383277948,
           -3.629535244299807,
           -3.683615850271819,
           -3.7376964562438304,
           -3.7917770622158424,
           -3.8458576681878545,
           -3.8999382741598665,
           -3.9540188801318785,
           -4.00809948610389,
           -4.062180092075902,
           -4.116260698047914,
           -4.170341304019926,
           -4.224421909991938,
           -4.27850251596395
          ],
          [
           -2.5563720192409507,
           -2.6104526252129627,
           -2.6645332311849743,
           -2.7186138371569863,
           -2.7726944431289984,
           -2.8267750491010104,
           -2.880855655073022,
           -2.934936261045034,
           -2.989016867017046,
           -3.043097472989058,
           -3.09717807896107,
           -3.1512586849330817,
           -3.2053392909050937,
           -3.2594198968771058,
           -3.313500502849118,
           -3.36758110882113,
           -3.4216617147931414,
           -3.4757423207651534,
           -3.5298229267371655,
           -3.5839035327091775,
           -3.6379841386811895,
           -3.692064744653201,
           -3.746145350625213,
           -3.800225956597225,
           -3.854306562569237,
           -3.908387168541249,
           -3.962467774513261,
           -4.016548380485273,
           -4.070628986457285,
           -4.124709592429297
          ],
          [
           -2.4025790957062982,
           -2.45665970167831,
           -2.510740307650322,
           -2.564820913622334,
           -2.618901519594346,
           -2.672982125566358,
           -2.7270627315383695,
           -2.7811433375103816,
           -2.8352239434823936,
           -2.8893045494544056,
           -2.9433851554264177,
           -2.9974657613984292,
           -3.0515463673704413,
           -3.1056269733424533,
           -3.1597075793144653,
           -3.213788185286477,
           -3.267868791258489,
           -3.321949397230501,
           -3.376030003202513,
           -3.430110609174525,
           -3.4841912151465366,
           -3.5382718211185487,
           -3.5923524270905607,
           -3.6464330330625727,
           -3.7005136390345847,
           -3.7545942450065963,
           -3.8086748509786084,
           -3.8627554569506204,
           -3.9168360629226324,
           -3.9709166688946445
          ],
          [
           -2.248786172171645,
           -2.302866778143657,
           -2.356947384115669,
           -2.4110279900876805,
           -2.4651085960596926,
           -2.5191892020317046,
           -2.5732698080037166,
           -2.6273504139757287,
           -2.6814310199477402,
           -2.7355116259197523,
           -2.7895922318917643,
           -2.8436728378637763,
           -2.897753443835788,
           -2.9518340498078,
           -3.005914655779812,
           -3.059995261751824,
           -3.114075867723836,
           -3.1681564736958476,
           -3.2222370796678597,
           -3.2763176856398717,
           -3.3303982916118837,
           -3.3844788975838958,
           -3.4385595035559073,
           -3.4926401095279194,
           -3.5467207154999314,
           -3.6008013214719434,
           -3.654881927443955,
           -3.708962533415967,
           -3.763043139387979,
           -3.817123745359991
          ],
          [
           -2.0949932486369915,
           -2.1490738546090036,
           -2.2031544605810156,
           -2.2572350665530276,
           -2.3113156725250392,
           -2.3653962784970513,
           -2.4194768844690633,
           -2.4735574904410753,
           -2.5276380964130873,
           -2.581718702385099,
           -2.635799308357111,
           -2.689879914329123,
           -2.743960520301135,
           -2.798041126273147,
           -2.8521217322451586,
           -2.9062023382171707,
           -2.9602829441891827,
           -3.0143635501611947,
           -3.0684441561332068,
           -3.1225247621052183,
           -3.1766053680772304,
           -3.2306859740492424,
           -3.2847665800212544,
           -3.338847185993266,
           -3.392927791965278,
           -3.44700839793729,
           -3.501089003909302,
           -3.555169609881314,
           -3.6092502158533257,
           -3.6633308218253378
          ],
          [
           -1.9412003251023384,
           -1.9952809310743505,
           -2.0493615370463623,
           -2.1034421430183743,
           -2.1575227489903863,
           -2.2116033549623983,
           -2.26568396093441,
           -2.319764566906422,
           -2.373845172878434,
           -2.427925778850446,
           -2.482006384822458,
           -2.5360869907944696,
           -2.5901675967664817,
           -2.6442482027384937,
           -2.6983288087105057,
           -2.7524094146825178,
           -2.8064900206545293,
           -2.8605706266265414,
           -2.9146512325985534,
           -2.9687318385705654,
           -3.022812444542577,
           -3.076893050514589,
           -3.130973656486601,
           -3.185054262458613,
           -3.239134868430625,
           -3.2932154744026367,
           -3.3472960803746488,
           -3.401376686346661,
           -3.455457292318673,
           -3.509537898290685
          ],
          [
           -1.787407401567686,
           -1.841488007539698,
           -1.8955686135117098,
           -1.9496492194837218,
           -2.003729825455734,
           -2.057810431427746,
           -2.1118910373997575,
           -2.1659716433717695,
           -2.2200522493437815,
           -2.2741328553157936,
           -2.328213461287805,
           -2.382294067259817,
           -2.436374673231829,
           -2.4904552792038412,
           -2.5445358851758533,
           -2.598616491147865,
           -2.652697097119877,
           -2.706777703091889,
           -2.760858309063901,
           -2.814938915035913,
           -2.8690195210079246,
           -2.9231001269799366,
           -2.9771807329519486,
           -3.0312613389239607,
           -3.0853419448959727,
           -3.1394225508679843,
           -3.1935031568399963,
           -3.2475837628120083,
           -3.3016643687840204,
           -3.355744974756032
          ],
          [
           -1.6336144780330328,
           -1.6876950840050446,
           -1.7417756899770567,
           -1.7958562959490687,
           -1.8499369019210805,
           -1.9040175078930925,
           -1.9580981138651044,
           -2.012178719837116,
           -2.066259325809128,
           -2.12033993178114,
           -2.1744205377531522,
           -2.2285011437251643,
           -2.282581749697176,
           -2.336662355669188,
           -2.3907429616412,
           -2.444823567613212,
           -2.498904173585224,
           -2.5529847795572356,
           -2.6070653855292476,
           -2.6611459915012596,
           -2.7152265974732717,
           -2.7693072034452837,
           -2.8233878094172953,
           -2.8774684153893073,
           -2.9315490213613193,
           -2.9856296273333314,
           -3.039710233305343,
           -3.093790839277355,
           -3.147871445249367,
           -3.201952051221379
          ],
          [
           -1.4798215544983797,
           -1.5339021604703915,
           -1.5879827664424035,
           -1.6420633724144154,
           -1.6961439783864274,
           -1.7502245843584392,
           -1.8043051903304512,
           -1.8583857963024633,
           -1.912466402274475,
           -1.966547008246487,
           -2.020627614218499,
           -2.074708220190511,
           -2.128788826162523,
           -2.182869432134535,
           -2.2369500381065466,
           -2.2910306440785586,
           -2.3451112500505706,
           -2.3991918560225827,
           -2.4532724619945943,
           -2.5073530679666063,
           -2.5614336739386183,
           -2.6155142799106303,
           -2.6695948858826424,
           -2.723675491854654,
           -2.777756097826666,
           -2.831836703798678,
           -2.88591730977069,
           -2.939997915742702,
           -2.9940785217147137,
           -3.0481591276867257
          ],
          [
           -1.3260286309637268,
           -1.3801092369357386,
           -1.4341898429077506,
           -1.4882704488797627,
           -1.5423510548517745,
           -1.5964316608237865,
           -1.6505122667957983,
           -1.7045928727678104,
           -1.7586734787398222,
           -1.8127540847118342,
           -1.8668346906838462,
           -1.920915296655858,
           -1.97499590262787,
           -2.029076508599882,
           -2.0831571145718937,
           -2.1372377205439057,
           -2.1913183265159177,
           -2.2453989324879298,
           -2.299479538459942,
           -2.3535601444319534,
           -2.4076407504039654,
           -2.4617213563759774,
           -2.5158019623479895,
           -2.5698825683200015,
           -2.623963174292013,
           -2.678043780264025,
           -2.732124386236037,
           -2.786204992208049,
           -2.840285598180061,
           -2.894366204152073
          ],
          [
           -1.172235707429074,
           -1.226316313401086,
           -1.2803969193730977,
           -1.3344775253451098,
           -1.3885581313171216,
           -1.4426387372891336,
           -1.4967193432611456,
           -1.5507999492331574,
           -1.6048805552051695,
           -1.6589611611771813,
           -1.7130417671491933,
           -1.7671223731212051,
           -1.8212029790932172,
           -1.8752835850652292,
           -1.929364191037241,
           -1.983444797009253,
           -2.037525402981265,
           -2.091606008953277,
           -2.145686614925289,
           -2.199767220897301,
           -2.2538478268693125,
           -2.3079284328413245,
           -2.3620090388133366,
           -2.4160896447853486,
           -2.47017025075736,
           -2.524250856729372,
           -2.5783314627013842,
           -2.6324120686733963,
           -2.6864926746454083,
           -2.74057328061742
          ],
          [
           -1.0184427838944208,
           -1.0725233898664326,
           -1.1266039958384446,
           -1.1806846018104566,
           -1.2347652077824685,
           -1.2888458137544805,
           -1.3429264197264923,
           -1.3970070256985043,
           -1.4510876316705161,
           -1.5051682376425282,
           -1.5592488436145402,
           -1.613329449586552,
           -1.667410055558564,
           -1.7214906615305758,
           -1.7755712675025879,
           -1.8296518734745997,
           -1.8837324794466117,
           -1.9378130854186237,
           -1.9918936913906355,
           -2.0459742973626476,
           -2.1000549033346596,
           -2.154135509306671,
           -2.2082161152786832,
           -2.2622967212506953,
           -2.3163773272227073,
           -2.3704579331947193,
           -2.424538539166731,
           -2.478619145138743,
           -2.532699751110755,
           -2.586780357082767
          ],
          [
           -0.8646498603597675,
           -0.9187304663317795,
           -0.9728110723037914,
           -1.0268916782758033,
           -1.0809722842478153,
           -1.1350528902198271,
           -1.1891334961918392,
           -1.2432141021638512,
           -1.297294708135863,
           -1.351375314107875,
           -1.4054559200798868,
           -1.4595365260518989,
           -1.5136171320239107,
           -1.5676977379959227,
           -1.6217783439679347,
           -1.6758589499399466,
           -1.7299395559119586,
           -1.7840201618839704,
           -1.8381007678559824,
           -1.8921813738279942,
           -1.9462619798000063,
           -2.0003425857720183,
           -2.0544231917440303,
           -2.108503797716042,
           -2.162584403688054,
           -2.216665009660066,
           -2.270745615632078,
           -2.32482622160409,
           -2.3789068275761016,
           -2.4329874335481136
          ],
          [
           -0.7108569368251147,
           -0.7649375427971267,
           -0.8190181487691386,
           -0.8730987547411505,
           -0.9271793607131624,
           -0.9812599666851743,
           -1.0353405726571863,
           -1.0894211786291983,
           -1.14350178460121,
           -1.1975823905732221,
           -1.2516629965452342,
           -1.305743602517246,
           -1.359824208489258,
           -1.4139048144612698,
           -1.4679854204332818,
           -1.5220660264052936,
           -1.5761466323773057,
           -1.6302272383493177,
           -1.6843078443213295,
           -1.7383884502933415,
           -1.7924690562653534,
           -1.8465496622373654,
           -1.9006302682093772,
           -1.9547108741813892,
           -2.008791480153401,
           -2.062872086125413,
           -2.116952692097425,
           -2.171033298069437,
           -2.2251139040414487,
           -2.2791945100134607
          ],
          [
           -0.5570640132904618,
           -0.6111446192624738,
           -0.6652252252344857,
           -0.7193058312064977,
           -0.7733864371785095,
           -0.8274670431505216,
           -0.8815476491225335,
           -0.9356282550945454,
           -0.9897088610665573,
           -1.0437894670385692,
           -1.0978700730105813,
           -1.151950678982593,
           -1.206031284954605,
           -1.2601118909266171,
           -1.314192496898629,
           -1.368273102870641,
           -1.4223537088426528,
           -1.4764343148146648,
           -1.5305149207866766,
           -1.5845955267586886,
           -1.6386761327307007,
           -1.6927567387027125,
           -1.7468373446747245,
           -1.8009179506467363,
           -1.8549985566187484,
           -1.9090791625907602,
           -1.9631597685627722,
           -2.017240374534784,
           -2.0713209805067962,
           -2.125401586478808
          ],
          [
           -0.40327108975580866,
           -0.4573516957278206,
           -0.5114323016998326,
           -0.5655129076718445,
           -0.6195935136438563,
           -0.6736741196158683,
           -0.7277547255878802,
           -0.7818353315598922,
           -0.8359159375319042,
           -0.8899965435039161,
           -0.944077149475928,
           -0.9981577554479399,
           -1.052238361419952,
           -1.1063189673919638,
           -1.1603995733639758,
           -1.2144801793359876,
           -1.2685607853079996,
           -1.3226413912800117,
           -1.3767219972520235,
           -1.4308026032240355,
           -1.4848832091960473,
           -1.5389638151680594,
           -1.5930444211400712,
           -1.6471250271120832,
           -1.7012056330840952,
           -1.755286239056107,
           -1.809366845028119,
           -1.8634474510001309,
           -1.917528056972143,
           -1.9716086629441547
          ],
          [
           -0.24947816622115546,
           -0.3035587721931674,
           -0.3576393781651793,
           -0.4117199841371913,
           -0.4658005901092031,
           -0.5198811960812152,
           -0.5739618020532271,
           -0.6280424080252389,
           -0.682123013997251,
           -0.7362036199692629,
           -0.7902842259412748,
           -0.8443648319132868,
           -0.8984454378852987,
           -0.9525260438573107,
           -1.0066066498293225,
           -1.0606872558013345,
           -1.1147678617733465,
           -1.1688484677453583,
           -1.2229290737173704,
           -1.2770096796893822,
           -1.3310902856613942,
           -1.3851708916334062,
           -1.439251497605418,
           -1.49333210357743,
           -1.547412709549442,
           -1.601493315521454,
           -1.6555739214934657,
           -1.7096545274654777,
           -1.7637351334374898,
           -1.8178157394095016
          ],
          [
           -0.09568524268650262,
           -0.14976584865851456,
           -0.2038464546305265,
           -0.25792706060253845,
           -0.31200766657455026,
           -0.3660882725465623,
           -0.42016887851857426,
           -0.47424948449058607,
           -0.5283300904625982,
           -0.5824106964346101,
           -0.636491302406622,
           -0.6905719083786339,
           -0.7446525143506458,
           -0.7987331203226578,
           -0.8528137262946698,
           -0.9068943322666817,
           -0.9609749382386936,
           -1.0150555442107054,
           -1.0691361501827175,
           -1.1232167561547295,
           -1.1772973621267413,
           -1.2313779680987533,
           -1.2854585740707651,
           -1.3395391800427772,
           -1.3936197860147892,
           -1.447700391986801,
           -1.501780997958813,
           -1.5558616039308248,
           -1.6099422099028369,
           -1.6640228158748487
          ],
          [
           0.05810768084814988,
           0.00402707487613794,
           -0.050053531095873995,
           -0.10413413706788593,
           -0.15821474303989777,
           -0.2122953490119098,
           -0.26637595498392175,
           -0.3204565609559336,
           -0.3745371669279456,
           -0.42861777289995756,
           -0.4826983788719695,
           -0.5367789848439815,
           -0.5908595908159934,
           -0.6449401967880053,
           -0.6990208027600172,
           -0.7531014087320291,
           -0.807182014704041,
           -0.8612626206760531,
           -0.915343226648065,
           -0.9694238326200769,
           -1.0235044385920888,
           -1.0775850445641009,
           -1.1316656505361127,
           -1.1857462565081247,
           -1.2398268624801367,
           -1.2939074684521485,
           -1.3479880744241606,
           -1.4020686803961724,
           -1.4561492863681844,
           -1.5102298923401962
          ],
          [
           0.21190060438280314,
           0.15781999841079122,
           0.10373939243877929,
           0.04965878646676735,
           -0.004421819505244502,
           -0.05850242547725652,
           -0.11258303144926846,
           -0.16666363742128032,
           -0.22074424339329232,
           -0.27482484936530427,
           -0.3289054553373162,
           -0.38298606130932816,
           -0.43706666728134014,
           -0.491147273253352,
           -0.545227879225364,
           -0.5993084851973759,
           -0.6533890911693878,
           -0.7074696971413996,
           -0.7615503031134118,
           -0.8156309090854237,
           -0.8697115150574355,
           -0.9237921210294476,
           -0.9778727270014596,
           -1.0319533329734714,
           -1.0860339389454834,
           -1.1401145449174954,
           -1.1941951508895072,
           -1.2482757568615193,
           -1.302356362833531,
           -1.356436968805543
          ],
          [
           0.36569352791745635,
           0.31161292194544443,
           0.25753231597343246,
           0.20345171000142054,
           0.1493711040294087,
           0.09529049805739667,
           0.04120989208538473,
           -0.012870713886627118,
           -0.06695131985863914,
           -0.12103192583065107,
           -0.17511253180266298,
           -0.22919313777467495,
           -0.2832737437466869,
           -0.3373543497186988,
           -0.39143495569071074,
           -0.4455155616627227,
           -0.49959616763473463,
           -0.5536767736067465,
           -0.6077573795787586,
           -0.6618379855507704,
           -0.7159185915227824,
           -0.7699991974947944,
           -0.8240798034668063,
           -0.8781604094388182,
           -0.9322410154108302,
           -0.9863216213828422,
           -1.040402227354854,
           -1.094482833326866,
           -1.148563439298878,
           -1.20264404527089
          ],
          [
           0.5194864514521091,
           0.4654058454800973,
           0.4113252395080853,
           0.3572446335360734,
           0.3031640275640615,
           0.24908342159204952,
           0.19500281562003757,
           0.14092220964802574,
           0.0868416036760137,
           0.03276099770400177,
           -0.021319608268010125,
           -0.0754002142400221,
           -0.12948082021203408,
           -0.18356142618404597,
           -0.23764203215605792,
           -0.29172263812806987,
           -0.3458032441000818,
           -0.39988385007209365,
           -0.45396445604410574,
           -0.5080450620161175,
           -0.5621256679881296,
           -0.6162062739601416,
           -0.6702868799321535,
           -0.7243674859041653,
           -0.7784480918761774,
           -0.8325286978481893,
           -0.8866093038202012,
           -0.9406899097922131,
           -0.9947705157642251,
           -1.048851121736237
          ],
          [
           0.6732793749867618,
           0.6191987690147499,
           0.565118163042738,
           0.5110375570707261,
           0.4569569510987142,
           0.4028763451267022,
           0.34879573915469025,
           0.2947151331826784,
           0.2406345272106664,
           0.18655392123865444,
           0.13247331526664255,
           0.07839270929463056,
           0.02431210332261859,
           -0.029768502649393305,
           -0.08384910862140527,
           -0.13792971459341716,
           -0.1920103205654291,
           -0.246090926537441,
           -0.30017153250945305,
           -0.3542521384814649,
           -0.40833274445347684,
           -0.46241335042548887,
           -0.5164939563975008,
           -0.5705745623695127,
           -0.6246551683415247,
           -0.6787357743135366,
           -0.7328163802855485,
           -0.7868969862575603,
           -0.8409775922295725,
           -0.8950581982015842
          ],
          [
           0.8270722985214152,
           0.7729916925494033,
           0.7189110865773912,
           0.6648304806053793,
           0.6107498746333675,
           0.5566692686613555,
           0.5025886626893435,
           0.4485080567173317,
           0.39442745074531965,
           0.34034684477330773,
           0.2862662388012958,
           0.23218563282928384,
           0.17810502685727186,
           0.12402442088525997,
           0.06994381491324801,
           0.015863208941236124,
           -0.03821739703077585,
           -0.09229800300278773,
           -0.1463786089747998,
           -0.20045921494681165,
           -0.2545398209188236,
           -0.3086204268908356,
           -0.3627010328628475,
           -0.4167816388348594,
           -0.4708622448068715,
           -0.5249428507788834,
           -0.5790234567508952,
           -0.6331040627229071,
           -0.6871846686949191,
           -0.741265274666931
          ],
          [
           0.9808652220560689,
           0.9267846160840569,
           0.872704010112045,
           0.8186234041400331,
           0.7645427981680212,
           0.7104621921960091,
           0.6563815862239972,
           0.6023009802519854,
           0.5482203742799734,
           0.4941397683079614,
           0.4400591623359495,
           0.3859785563639376,
           0.3318979503919256,
           0.2778173444199137,
           0.22373673844790176,
           0.16965613247588984,
           0.11557552650387788,
           0.06149492053186599,
           0.007414314559853922,
           -0.04666629141215795,
           -0.10074689738416984,
           -0.1548275033561819,
           -0.2089081093281938,
           -0.2629887153002057,
           -0.31706932127221776,
           -0.3711499272442296,
           -0.4252305332162415,
           -0.4793111391882534,
           -0.5333917451602654,
           -0.5874723511322772
          ]
         ]
        },
        {
         "line": {
          "width": 6
         },
         "marker": {
          "size": 1
         },
         "showlegend": false,
         "type": "scatter3d",
         "x": [
          -1.59821873248412,
          -0.3517455224799011
         ],
         "y": [
          -1.752368088371606,
          0.8996269325722317
         ],
         "z": [
          -2.8443570200998987,
          -1.6964538080071134
         ]
        },
        {
         "line": {
          "width": 6
         },
         "marker": {
          "size": 1
         },
         "showlegend": false,
         "type": "scatter3d",
         "x": [
          -0.5415872984195823,
          -0.16047474978415913
         ],
         "y": [
          -2.5864049413688104,
          0.4104313990574498
         ],
         "z": [
          -2.2841602985608693,
          -0.7739629446907352
         ]
        },
        {
         "line": {
          "width": 6
         },
         "marker": {
          "size": 1
         },
         "showlegend": false,
         "type": "scatter3d",
         "x": [
          -2.6435542503000073,
          -0.3893554508842678
         ],
         "y": [
          -2.2908149558331123,
          0.9958183617797352
         ],
         "z": [
          -3.153352381649631,
          -1.8778449052146369
         ]
        }
       ],
       "layout": {
        "autosize": true,
        "height": 800,
        "margin": {
         "b": 10,
         "l": 10,
         "pad": 4,
         "r": 10,
         "t": 10
        },
        "paper_bgcolor": "White",
        "scene": {
         "aspectmode": "data",
         "aspectratio": {
          "x": 0.6950447632772423,
          "y": 1.3105247246264575,
          "z": 1.0978474705587444
         },
         "camera": {
          "eye": {
           "x": 1,
           "y": 1,
           "z": 1
          }
         }
        },
        "template": {
         "data": {
          "bar": [
           {
            "error_x": {
             "color": "#2a3f5f"
            },
            "error_y": {
             "color": "#2a3f5f"
            },
            "marker": {
             "line": {
              "color": "#E5ECF6",
              "width": 0.5
             }
            },
            "type": "bar"
           }
          ],
          "barpolar": [
           {
            "marker": {
             "line": {
              "color": "#E5ECF6",
              "width": 0.5
             }
            },
            "type": "barpolar"
           }
          ],
          "carpet": [
           {
            "aaxis": {
             "endlinecolor": "#2a3f5f",
             "gridcolor": "white",
             "linecolor": "white",
             "minorgridcolor": "white",
             "startlinecolor": "#2a3f5f"
            },
            "baxis": {
             "endlinecolor": "#2a3f5f",
             "gridcolor": "white",
             "linecolor": "white",
             "minorgridcolor": "white",
             "startlinecolor": "#2a3f5f"
            },
            "type": "carpet"
           }
          ],
          "choropleth": [
           {
            "colorbar": {
             "outlinewidth": 0,
             "ticks": ""
            },
            "type": "choropleth"
           }
          ],
          "contour": [
           {
            "colorbar": {
             "outlinewidth": 0,
             "ticks": ""
            },
            "colorscale": [
             [
              0,
              "#0d0887"
             ],
             [
              0.1111111111111111,
              "#46039f"
             ],
             [
              0.2222222222222222,
              "#7201a8"
             ],
             [
              0.3333333333333333,
              "#9c179e"
             ],
             [
              0.4444444444444444,
              "#bd3786"
             ],
             [
              0.5555555555555556,
              "#d8576b"
             ],
             [
              0.6666666666666666,
              "#ed7953"
             ],
             [
              0.7777777777777778,
              "#fb9f3a"
             ],
             [
              0.8888888888888888,
              "#fdca26"
             ],
             [
              1,
              "#f0f921"
             ]
            ],
            "type": "contour"
           }
          ],
          "contourcarpet": [
           {
            "colorbar": {
             "outlinewidth": 0,
             "ticks": ""
            },
            "type": "contourcarpet"
           }
          ],
          "heatmap": [
           {
            "colorbar": {
             "outlinewidth": 0,
             "ticks": ""
            },
            "colorscale": [
             [
              0,
              "#0d0887"
             ],
             [
              0.1111111111111111,
              "#46039f"
             ],
             [
              0.2222222222222222,
              "#7201a8"
             ],
             [
              0.3333333333333333,
              "#9c179e"
             ],
             [
              0.4444444444444444,
              "#bd3786"
             ],
             [
              0.5555555555555556,
              "#d8576b"
             ],
             [
              0.6666666666666666,
              "#ed7953"
             ],
             [
              0.7777777777777778,
              "#fb9f3a"
             ],
             [
              0.8888888888888888,
              "#fdca26"
             ],
             [
              1,
              "#f0f921"
             ]
            ],
            "type": "heatmap"
           }
          ],
          "heatmapgl": [
           {
            "colorbar": {
             "outlinewidth": 0,
             "ticks": ""
            },
            "colorscale": [
             [
              0,
              "#0d0887"
             ],
             [
              0.1111111111111111,
              "#46039f"
             ],
             [
              0.2222222222222222,
              "#7201a8"
             ],
             [
              0.3333333333333333,
              "#9c179e"
             ],
             [
              0.4444444444444444,
              "#bd3786"
             ],
             [
              0.5555555555555556,
              "#d8576b"
             ],
             [
              0.6666666666666666,
              "#ed7953"
             ],
             [
              0.7777777777777778,
              "#fb9f3a"
             ],
             [
              0.8888888888888888,
              "#fdca26"
             ],
             [
              1,
              "#f0f921"
             ]
            ],
            "type": "heatmapgl"
           }
          ],
          "histogram": [
           {
            "marker": {
             "colorbar": {
              "outlinewidth": 0,
              "ticks": ""
             }
            },
            "type": "histogram"
           }
          ],
          "histogram2d": [
           {
            "colorbar": {
             "outlinewidth": 0,
             "ticks": ""
            },
            "colorscale": [
             [
              0,
              "#0d0887"
             ],
             [
              0.1111111111111111,
              "#46039f"
             ],
             [
              0.2222222222222222,
              "#7201a8"
             ],
             [
              0.3333333333333333,
              "#9c179e"
             ],
             [
              0.4444444444444444,
              "#bd3786"
             ],
             [
              0.5555555555555556,
              "#d8576b"
             ],
             [
              0.6666666666666666,
              "#ed7953"
             ],
             [
              0.7777777777777778,
              "#fb9f3a"
             ],
             [
              0.8888888888888888,
              "#fdca26"
             ],
             [
              1,
              "#f0f921"
             ]
            ],
            "type": "histogram2d"
           }
          ],
          "histogram2dcontour": [
           {
            "colorbar": {
             "outlinewidth": 0,
             "ticks": ""
            },
            "colorscale": [
             [
              0,
              "#0d0887"
             ],
             [
              0.1111111111111111,
              "#46039f"
             ],
             [
              0.2222222222222222,
              "#7201a8"
             ],
             [
              0.3333333333333333,
              "#9c179e"
             ],
             [
              0.4444444444444444,
              "#bd3786"
             ],
             [
              0.5555555555555556,
              "#d8576b"
             ],
             [
              0.6666666666666666,
              "#ed7953"
             ],
             [
              0.7777777777777778,
              "#fb9f3a"
             ],
             [
              0.8888888888888888,
              "#fdca26"
             ],
             [
              1,
              "#f0f921"
             ]
            ],
            "type": "histogram2dcontour"
           }
          ],
          "mesh3d": [
           {
            "colorbar": {
             "outlinewidth": 0,
             "ticks": ""
            },
            "type": "mesh3d"
           }
          ],
          "parcoords": [
           {
            "line": {
             "colorbar": {
              "outlinewidth": 0,
              "ticks": ""
             }
            },
            "type": "parcoords"
           }
          ],
          "pie": [
           {
            "automargin": true,
            "type": "pie"
           }
          ],
          "scatter": [
           {
            "marker": {
             "colorbar": {
              "outlinewidth": 0,
              "ticks": ""
             }
            },
            "type": "scatter"
           }
          ],
          "scatter3d": [
           {
            "line": {
             "colorbar": {
              "outlinewidth": 0,
              "ticks": ""
             }
            },
            "marker": {
             "colorbar": {
              "outlinewidth": 0,
              "ticks": ""
             }
            },
            "type": "scatter3d"
           }
          ],
          "scattercarpet": [
           {
            "marker": {
             "colorbar": {
              "outlinewidth": 0,
              "ticks": ""
             }
            },
            "type": "scattercarpet"
           }
          ],
          "scattergeo": [
           {
            "marker": {
             "colorbar": {
              "outlinewidth": 0,
              "ticks": ""
             }
            },
            "type": "scattergeo"
           }
          ],
          "scattergl": [
           {
            "marker": {
             "colorbar": {
              "outlinewidth": 0,
              "ticks": ""
             }
            },
            "type": "scattergl"
           }
          ],
          "scattermapbox": [
           {
            "marker": {
             "colorbar": {
              "outlinewidth": 0,
              "ticks": ""
             }
            },
            "type": "scattermapbox"
           }
          ],
          "scatterpolar": [
           {
            "marker": {
             "colorbar": {
              "outlinewidth": 0,
              "ticks": ""
             }
            },
            "type": "scatterpolar"
           }
          ],
          "scatterpolargl": [
           {
            "marker": {
             "colorbar": {
              "outlinewidth": 0,
              "ticks": ""
             }
            },
            "type": "scatterpolargl"
           }
          ],
          "scatterternary": [
           {
            "marker": {
             "colorbar": {
              "outlinewidth": 0,
              "ticks": ""
             }
            },
            "type": "scatterternary"
           }
          ],
          "surface": [
           {
            "colorbar": {
             "outlinewidth": 0,
             "ticks": ""
            },
            "colorscale": [
             [
              0,
              "#0d0887"
             ],
             [
              0.1111111111111111,
              "#46039f"
             ],
             [
              0.2222222222222222,
              "#7201a8"
             ],
             [
              0.3333333333333333,
              "#9c179e"
             ],
             [
              0.4444444444444444,
              "#bd3786"
             ],
             [
              0.5555555555555556,
              "#d8576b"
             ],
             [
              0.6666666666666666,
              "#ed7953"
             ],
             [
              0.7777777777777778,
              "#fb9f3a"
             ],
             [
              0.8888888888888888,
              "#fdca26"
             ],
             [
              1,
              "#f0f921"
             ]
            ],
            "type": "surface"
           }
          ],
          "table": [
           {
            "cells": {
             "fill": {
              "color": "#EBF0F8"
             },
             "line": {
              "color": "white"
             }
            },
            "header": {
             "fill": {
              "color": "#C8D4E3"
             },
             "line": {
              "color": "white"
             }
            },
            "type": "table"
           }
          ]
         },
         "layout": {
          "annotationdefaults": {
           "arrowcolor": "#2a3f5f",
           "arrowhead": 0,
           "arrowwidth": 1
          },
          "autotypenumbers": "strict",
          "coloraxis": {
           "colorbar": {
            "outlinewidth": 0,
            "ticks": ""
           }
          },
          "colorscale": {
           "diverging": [
            [
             0,
             "#8e0152"
            ],
            [
             0.1,
             "#c51b7d"
            ],
            [
             0.2,
             "#de77ae"
            ],
            [
             0.3,
             "#f1b6da"
            ],
            [
             0.4,
             "#fde0ef"
            ],
            [
             0.5,
             "#f7f7f7"
            ],
            [
             0.6,
             "#e6f5d0"
            ],
            [
             0.7,
             "#b8e186"
            ],
            [
             0.8,
             "#7fbc41"
            ],
            [
             0.9,
             "#4d9221"
            ],
            [
             1,
             "#276419"
            ]
           ],
           "sequential": [
            [
             0,
             "#0d0887"
            ],
            [
             0.1111111111111111,
             "#46039f"
            ],
            [
             0.2222222222222222,
             "#7201a8"
            ],
            [
             0.3333333333333333,
             "#9c179e"
            ],
            [
             0.4444444444444444,
             "#bd3786"
            ],
            [
             0.5555555555555556,
             "#d8576b"
            ],
            [
             0.6666666666666666,
             "#ed7953"
            ],
            [
             0.7777777777777778,
             "#fb9f3a"
            ],
            [
             0.8888888888888888,
             "#fdca26"
            ],
            [
             1,
             "#f0f921"
            ]
           ],
           "sequentialminus": [
            [
             0,
             "#0d0887"
            ],
            [
             0.1111111111111111,
             "#46039f"
            ],
            [
             0.2222222222222222,
             "#7201a8"
            ],
            [
             0.3333333333333333,
             "#9c179e"
            ],
            [
             0.4444444444444444,
             "#bd3786"
            ],
            [
             0.5555555555555556,
             "#d8576b"
            ],
            [
             0.6666666666666666,
             "#ed7953"
            ],
            [
             0.7777777777777778,
             "#fb9f3a"
            ],
            [
             0.8888888888888888,
             "#fdca26"
            ],
            [
             1,
             "#f0f921"
            ]
           ]
          },
          "colorway": [
           "#636efa",
           "#EF553B",
           "#00cc96",
           "#ab63fa",
           "#FFA15A",
           "#19d3f3",
           "#FF6692",
           "#B6E880",
           "#FF97FF",
           "#FECB52"
          ],
          "font": {
           "color": "#2a3f5f"
          },
          "geo": {
           "bgcolor": "white",
           "lakecolor": "white",
           "landcolor": "#E5ECF6",
           "showlakes": true,
           "showland": true,
           "subunitcolor": "white"
          },
          "hoverlabel": {
           "align": "left"
          },
          "hovermode": "closest",
          "mapbox": {
           "style": "light"
          },
          "paper_bgcolor": "white",
          "plot_bgcolor": "#E5ECF6",
          "polar": {
           "angularaxis": {
            "gridcolor": "white",
            "linecolor": "white",
            "ticks": ""
           },
           "bgcolor": "#E5ECF6",
           "radialaxis": {
            "gridcolor": "white",
            "linecolor": "white",
            "ticks": ""
           }
          },
          "scene": {
           "xaxis": {
            "backgroundcolor": "#E5ECF6",
            "gridcolor": "white",
            "gridwidth": 2,
            "linecolor": "white",
            "showbackground": true,
            "ticks": "",
            "zerolinecolor": "white"
           },
           "yaxis": {
            "backgroundcolor": "#E5ECF6",
            "gridcolor": "white",
            "gridwidth": 2,
            "linecolor": "white",
            "showbackground": true,
            "ticks": "",
            "zerolinecolor": "white"
           },
           "zaxis": {
            "backgroundcolor": "#E5ECF6",
            "gridcolor": "white",
            "gridwidth": 2,
            "linecolor": "white",
            "showbackground": true,
            "ticks": "",
            "zerolinecolor": "white"
           }
          },
          "shapedefaults": {
           "line": {
            "color": "#2a3f5f"
           }
          },
          "ternary": {
           "aaxis": {
            "gridcolor": "white",
            "linecolor": "white",
            "ticks": ""
           },
           "baxis": {
            "gridcolor": "white",
            "linecolor": "white",
            "ticks": ""
           },
           "bgcolor": "#E5ECF6",
           "caxis": {
            "gridcolor": "white",
            "linecolor": "white",
            "ticks": ""
           }
          },
          "title": {
           "x": 0.05
          },
          "xaxis": {
           "automargin": true,
           "gridcolor": "white",
           "linecolor": "white",
           "ticks": "",
           "title": {
            "standoff": 15
           },
           "zerolinecolor": "white",
           "zerolinewidth": 2
          },
          "yaxis": {
           "automargin": true,
           "gridcolor": "white",
           "linecolor": "white",
           "ticks": "",
           "title": {
            "standoff": 15
           },
           "zerolinecolor": "white",
           "zerolinewidth": 2
          }
         }
        },
        "width": 1000
       }
      },
      "image/png": "[encoded data removed]",
      "text/html": [
       "<div>                            <div id=\"17f23499-7761-4ba4-9c0d-91c325b42f39\" class=\"plotly-graph-div\" style=\"height:800px; width:1000px;\"></div>            <script type=\"text/javascript\">                require([\"plotly\"], function(Plotly) {                    window.PLOTLYENV=window.PLOTLYENV || {};                                    if (document.getElementById(\"17f23499-7761-4ba4-9c0d-91c325b42f39\")) {                    Plotly.newPlot(                        \"17f23499-7761-4ba4-9c0d-91c325b42f39\",                        [{\"marker\": {\"color\": \"black\", \"line\": {\"width\": 0}, \"size\": 3}, \"mode\": \"markers\", \"name\": \"origin\", \"type\": \"scatter3d\", \"x\": [0], \"y\": [0], \"z\": [0]}, {\"marker\": {\"color\": \"yellow\", \"line\": {\"width\": 0}, \"size\": 2}, \"mode\": \"markers\", \"name\": \"plane_offset\", \"type\": \"scatter3d\", \"x\": [0.10456597750254887], \"y\": [-0.26743871230773164], \"z\": [0.5043172958436775]}, {\"line\": {\"width\": 6}, \"marker\": {\"size\": 1}, \"name\": \"plane_normal\", \"type\": \"scatter3d\", \"x\": [1.2541849999118997, -0.8293845489872496], \"y\": [-3.207712770283575, 2.121240015985812], \"z\": [6.048881316371325, -4.000086672068667]}, {\"marker\": {\"color\": \"blue\", \"line\": {\"width\": 0}, \"size\": 2}, \"mode\": \"markers\", \"name\": \"4.520048889660113\", \"showlegend\": false, \"type\": \"scatter3d\", \"x\": [0.042014020706258925], \"y\": [-1.2900146220721205], \"z\": [-3.847531434638628]}, {\"marker\": {\"color\": \"blue\", \"line\": {\"width\": 0}, \"size\": 3}, \"mode\": \"markers\", \"name\": \"d=1.5948432892891964\", \"type\": \"scatter3d\", \"x\": [-2.1339951601259597], \"y\": [-1.9049146279088631], \"z\": [-1.2486254908114804]}, {\"line\": {\"width\": 6}, \"marker\": {\"size\": 1}, \"name\": \"^ len_d\", \"type\": \"scatter3d\", \"x\": [-2.1339951601259597, -1.9228124045702624], \"y\": [-1.9049146279088631, -2.4450371950797902], \"z\": [-1.2486254908114804, -0.23009997463132958]}, {\"line\": {\"width\": 6}, \"marker\": {\"size\": 1}, \"name\": \"^ proj\", \"type\": \"scatter3d\", \"x\": [-2.1339951601259597, -0.10661677805314845], \"y\": [-1.9049146279088631, 0.27268385486319596], \"z\": [-1.2486254908114804, -0.5142082203364734]}, {\"marker\": {\"color\": \"blue\", \"line\": {\"width\": 0}, \"size\": 2}, \"mode\": \"markers\", \"name\": \"3.730073856769494\", \"showlegend\": false, \"type\": \"scatter3d\", \"x\": [-2.6435542503000073], \"y\": [-2.2908149558331123], \"z\": [-3.153352381649631]}, {\"marker\": {\"color\": \"red\", \"line\": {\"width\": 0}, \"size\": 2}, \"mode\": \"markers\", \"name\": \"-5.746036972250472\", \"showlegend\": false, \"type\": \"scatter3d\", \"x\": [-1.8403364633977217], \"y\": [-10.383721431512676], \"z\": [0.40227728210473745]}, {\"marker\": {\"color\": \"red\", \"line\": {\"width\": 0}, \"size\": 2}, \"mode\": \"markers\", \"name\": \"-5.607510666265674\", \"showlegend\": false, \"type\": \"scatter3d\", \"x\": [-1.6157792956837722], \"y\": [-8.870134583868456], \"z\": [1.0412201494423712]}, {\"marker\": {\"color\": \"blue\", \"line\": {\"width\": 0}, \"size\": 2}, \"mode\": \"markers\", \"name\": \"2.4661830433717755\", \"showlegend\": false, \"type\": \"scatter3d\", \"x\": [-1.608169583290394], \"y\": [-2.1863995411328263], \"z\": [-2.243803012204535]}, {\"marker\": {\"color\": \"blue\", \"line\": {\"width\": 0}, \"size\": 2}, \"mode\": \"markers\", \"name\": \"3.8376873852942412\", \"showlegend\": false, \"type\": \"scatter3d\", \"x\": [-1.7225654661443077], \"y\": [-0.8964459786387888], \"z\": [-2.695887307645588]}, {\"marker\": {\"color\": \"red\", \"line\": {\"width\": 0}, \"size\": 2}, \"mode\": \"markers\", \"name\": \"-3.8078096518505196\", \"showlegend\": false, \"type\": \"scatter3d\", \"x\": [-0.771705714476493], \"y\": [-9.265359357178491], \"z\": [-0.8653628285493147]}, {\"marker\": {\"color\": \"blue\", \"line\": {\"width\": 0}, \"size\": 2}, \"mode\": \"markers\", \"name\": \"3.673785048108538\", \"showlegend\": false, \"type\": \"scatter3d\", \"x\": [-0.67133173316653], \"y\": [-0.6318620134069913], \"z\": [-2.6349332327557478]}, {\"marker\": {\"color\": \"blue\", \"line\": {\"width\": 0}, \"size\": 2}, \"mode\": \"markers\", \"name\": \"3.44604525903424\", \"showlegend\": false, \"type\": \"scatter3d\", \"x\": [-1.59821873248412], \"y\": [-1.752368088371606], \"z\": [-2.8443570200998987]}, {\"marker\": {\"color\": \"red\", \"line\": {\"width\": 0}, \"size\": 2}, \"mode\": \"markers\", \"name\": \"-7.271671630723954\", \"showlegend\": false, \"type\": \"scatter3d\", \"x\": [-1.876261656966392], \"y\": [-9.500605859963326], \"z\": [2.1682507770744737]}, {\"marker\": {\"color\": \"red\", \"line\": {\"width\": 0}, \"size\": 2}, \"mode\": \"markers\", \"name\": \"-6.020520723246395\", \"showlegend\": false, \"type\": \"scatter3d\", \"x\": [1.3051929109046245], \"y\": [-7.646142640577349], \"z\": [1.4339394299892925]}, {\"marker\": {\"color\": \"blue\", \"line\": {\"width\": 0}, \"size\": 2}, \"mode\": \"markers\", \"name\": \"3.4032184473528435\", \"showlegend\": false, \"type\": \"scatter3d\", \"x\": [-0.5586674798935111], \"y\": [-2.6540097021810576], \"z\": [-3.501820403841502]}, {\"marker\": {\"color\": \"blue\", \"line\": {\"width\": 0}, \"size\": 2}, \"mode\": \"markers\", \"name\": \"3.498349447054899\", \"showlegend\": false, \"type\": \"scatter3d\", \"x\": [-0.5370500045819107], \"y\": [-1.3512043294085272], \"z\": [-2.8958779309977802]}, {\"marker\": {\"color\": \"blue\", \"line\": {\"width\": 0}, \"size\": 2}, \"mode\": \"markers\", \"name\": \"5.399432010748937\", \"showlegend\": false, \"type\": \"scatter3d\", \"x\": [-2.4278706306650815], \"y\": [-2.3000648458140063], \"z\": [-4.614732745018286]}, {\"marker\": {\"color\": \"red\", \"line\": {\"width\": 0}, \"size\": 2}, \"mode\": \"markers\", \"name\": \"-8.158240782127118\", \"showlegend\": false, \"type\": \"scatter3d\", \"x\": [-2.189109572086774], \"y\": [-8.930021318895749], \"z\": [3.2854575703891404]}, {\"marker\": {\"color\": \"red\", \"line\": {\"width\": 0}, \"size\": 2}, \"mode\": \"markers\", \"name\": \"-7.3650489452777235\", \"showlegend\": false, \"type\": \"scatter3d\", \"x\": [-1.2385625641615214], \"y\": [-10.599400808555691], \"z\": [1.5323078781549717]}, {\"marker\": {\"color\": \"red\", \"line\": {\"width\": 0}, \"size\": 3}, \"mode\": \"markers\", \"name\": \"d=-1.6722234327853558\", \"type\": \"scatter3d\", \"x\": [-1.5491589173759384], \"y\": [-7.250108574555569], \"z\": [-1.4415180189468613]}, {\"line\": {\"width\": 6}, \"marker\": {\"size\": 1}, \"name\": \"^ len_d\", \"type\": \"scatter3d\", \"x\": [-1.5491589173759384, -1.7705880413607855], \"y\": [-7.250108574555569, -6.683779820210082], \"z\": [-1.4415180189468613, -2.509461337569311]}, {\"line\": {\"width\": 6}, \"marker\": {\"size\": 1}, \"name\": \"^ proj\", \"type\": \"scatter3d\", \"x\": [-1.5491589173759384, 0.32599510148739574], \"y\": [-7.250108574555569, -0.8337674666532168], \"z\": [-1.4415180189468613, 1.5722606144661264]}, {\"marker\": {\"color\": \"blue\", \"line\": {\"width\": 0}, \"size\": 2}, \"mode\": \"markers\", \"name\": \"3.1918128431443082\", \"showlegend\": false, \"type\": \"scatter3d\", \"x\": [-1.6580312392471215], \"y\": [-2.4686234359156143], \"z\": [-2.9967834212358087]}, {\"marker\": {\"color\": \"red\", \"line\": {\"width\": 0}, \"size\": 2}, \"mode\": \"markers\", \"name\": \"-5.669605567677302\", \"showlegend\": false, \"type\": \"scatter3d\", \"x\": [-0.777220540001882], \"y\": [-10.726763450049406], \"z\": [-0.06470266128815605]}, {\"marker\": {\"color\": \"blue\", \"line\": {\"width\": 0}, \"size\": 2}, \"mode\": \"markers\", \"name\": \"3.95861417522373\", \"showlegend\": false, \"type\": \"scatter3d\", \"x\": [-0.2077457436123662], \"y\": [-0.6904645628096294], \"z\": [-3.0030071301117554]}, {\"marker\": {\"color\": \"red\", \"line\": {\"width\": 0}, \"size\": 2}, \"mode\": \"markers\", \"name\": \"-2.4474271754436017\", \"showlegend\": false, \"type\": \"scatter3d\", \"x\": [-2.208993881683744], \"y\": [-6.931037127562513], \"z\": [-0.4799236902257027]}, {\"marker\": {\"color\": \"red\", \"line\": {\"width\": 0}, \"size\": 2}, \"mode\": \"markers\", \"name\": \"-6.941054921454233\", \"showlegend\": false, \"type\": \"scatter3d\", \"x\": [-2.1092372461747035], \"y\": [-9.393765145033843], \"z\": [1.993615444124878]}, {\"marker\": {\"color\": \"blue\", \"line\": {\"width\": 0}, \"size\": 2}, \"mode\": \"markers\", \"name\": \"4.7846186118741265\", \"showlegend\": false, \"type\": \"scatter3d\", \"x\": [-0.3180427354058979], \"y\": [-1.4010703116424414], \"z\": [-4.0555125917167665]}, {\"marker\": {\"color\": \"blue\", \"line\": {\"width\": 0}, \"size\": 2}, \"mode\": \"markers\", \"name\": \"3.301057483054031\", \"showlegend\": false, \"type\": \"scatter3d\", \"x\": [-1.7618984071926949], \"y\": [-2.8473642653630744], \"z\": [-3.268479933536673]}, {\"marker\": {\"color\": \"red\", \"line\": {\"width\": 0}, \"size\": 2}, \"mode\": \"markers\", \"name\": \"-5.949817120353086\", \"showlegend\": false, \"type\": \"scatter3d\", \"x\": [-1.6994184393126137], \"y\": [-9.613804261878917], \"z\": [0.9536793178805771]}, {\"marker\": {\"color\": \"red\", \"line\": {\"width\": 0}, \"size\": 2}, \"mode\": \"markers\", \"name\": \"-7.633541009132971\", \"showlegend\": false, \"type\": \"scatter3d\", \"x\": [-0.8996299869449244], \"y\": [-9.698610632187053], \"z\": [2.1667810560691363]}, {\"marker\": {\"color\": \"red\", \"line\": {\"width\": 0}, \"size\": 3}, \"mode\": \"markers\", \"name\": \"d=-8.6818745134008\", \"type\": \"scatter3d\", \"x\": [0.1265942845014456], \"y\": [-11.219434867826742], \"z\": [2.0340735109649115]}, {\"line\": {\"width\": 6}, \"marker\": {\"size\": 1}, \"name\": \"^ len_d\", \"type\": \"scatter3d\", \"x\": [0.1265942845014456, -1.0230247379079052], \"y\": [-11.219434867826742, -8.279160809850898], \"z\": [2.0340735109649115, -3.5104905095627355]}, {\"line\": {\"width\": 6}, \"marker\": {\"size\": 1}, \"name\": \"^ proj\", \"type\": \"scatter3d\", \"x\": [0.1265942845014456, 1.2541849999118992], \"y\": [-11.219434867826742, -3.2077127702835737], \"z\": [2.0340735109649115, 6.048881316371323]}, {\"marker\": {\"color\": \"blue\", \"line\": {\"width\": 0}, \"size\": 2}, \"mode\": \"markers\", \"name\": \"3.9210811233699054\", \"showlegend\": false, \"type\": \"scatter3d\", \"x\": [-3.2793979214271083], \"y\": [-1.2275904418093788], \"z\": [-2.6192215465178186]}, {\"marker\": {\"color\": \"red\", \"line\": {\"width\": 0}, \"size\": 2}, \"mode\": \"markers\", \"name\": \"-7.602515724487545\", \"showlegend\": false, \"type\": \"scatter3d\", \"x\": [-0.5448223810947223], \"y\": [-10.13472563123421], \"z\": [1.835705839145523]}, {\"marker\": {\"color\": \"red\", \"line\": {\"width\": 0}, \"size\": 2}, \"mode\": \"markers\", \"name\": \"-5.821567799474049\", \"showlegend\": false, \"type\": \"scatter3d\", \"x\": [-1.9993557985866022], \"y\": [-10.064889958021181], \"z\": [0.6681999291923968]}, {\"marker\": {\"color\": \"blue\", \"line\": {\"width\": 0}, \"size\": 2}, \"mode\": \"markers\", \"name\": \"4.2453322684227635\", \"showlegend\": false, \"type\": \"scatter3d\", \"x\": [-0.6920363339672632], \"y\": [-1.58898446753575], \"z\": [-3.6215511381165517]}, {\"marker\": {\"color\": \"blue\", \"line\": {\"width\": 0}, \"size\": 2}, \"mode\": \"markers\", \"name\": \"5.022066891361087\", \"showlegend\": false, \"type\": \"scatter3d\", \"x\": [-0.2605230817068416], \"y\": [-1.9216463929509258], \"z\": [-4.544306524063666]}, {\"marker\": {\"color\": \"blue\", \"line\": {\"width\": 0}, \"size\": 2}, \"mode\": \"markers\", \"name\": \"2.356889327495308\", \"showlegend\": false, \"type\": \"scatter3d\", \"x\": [-1.7200746184897326], \"y\": [-1.7407911494275212], \"z\": [-1.8918666646659397]}, {\"marker\": {\"color\": \"blue\", \"line\": {\"width\": 0}, \"size\": 2}, \"mode\": \"markers\", \"name\": \"2.001576426963762\", \"showlegend\": false, \"type\": \"scatter3d\", \"x\": [-0.5415872984195823], \"y\": [-2.5864049413688104], \"z\": [-2.2841602985608693]}, {\"marker\": {\"color\": \"blue\", \"line\": {\"width\": 0}, \"size\": 2}, \"mode\": \"markers\", \"name\": \"5.154826184049101\", \"showlegend\": false, \"type\": \"scatter3d\", \"x\": [-3.1439561214259393], \"y\": [-1.2621558942512991], \"z\": [-3.7089967902252914]}, {\"marker\": {\"color\": \"blue\", \"line\": {\"width\": 0}, \"size\": 2}, \"mode\": \"markers\", \"name\": \"1.805608645617694\", \"showlegend\": false, \"type\": \"scatter3d\", \"x\": [1.9861932534769364], \"y\": [-0.6217826382099462], \"z\": [-1.6007107275242336]}, {\"marker\": {\"color\": \"red\", \"line\": {\"width\": 0}, \"size\": 2}, \"mode\": \"markers\", \"name\": \"-6.668864378112852\", \"showlegend\": false, \"type\": \"scatter3d\", \"x\": [-0.7782447503786115], \"y\": [-10.325689067272036], \"z\": [0.993259319045779]}, {\"marker\": {\"color\": \"blue\", \"line\": {\"width\": 0}, \"size\": 2}, \"mode\": \"markers\", \"name\": \"4.968407305167935\", \"showlegend\": false, \"type\": \"scatter3d\", \"x\": [-2.354351183964895], \"y\": [-1.0009774375225404], \"z\": [-3.576560153702099]}, {\"marker\": {\"color\": \"blue\", \"line\": {\"width\": 0}, \"size\": 2}, \"mode\": \"markers\", \"name\": \"2.688726822625997\", \"showlegend\": false, \"type\": \"scatter3d\", \"x\": [0.5324423095002062], \"y\": [-3.306711369346252], \"z\": [-3.4699431439198865]}, {\"marker\": {\"color\": \"blue\", \"line\": {\"width\": 0}, \"size\": 2}, \"mode\": \"markers\", \"name\": \"5.755562963389442\", \"showlegend\": false, \"type\": \"scatter3d\", \"x\": [-0.7956119992676421], \"y\": [-1.4661397829437133], \"z\": [-4.812114131071052]}, {\"marker\": {\"color\": \"red\", \"line\": {\"width\": 0}, \"size\": 2}, \"mode\": \"markers\", \"name\": \"-7.3728687023051656\", \"showlegend\": false, \"type\": \"scatter3d\", \"x\": [-1.9577775344879664], \"y\": [-10.920914390180792], \"z\": [1.5175459875845316]}, {\"marker\": {\"color\": \"red\", \"line\": {\"width\": 0}, \"size\": 2}, \"mode\": \"markers\", \"name\": \"-4.570605324803122\", \"showlegend\": false, \"type\": \"scatter3d\", \"x\": [-0.846605627083354], \"y\": [-8.203096133170305], \"z\": [0.35857025239482054]}, {\"marker\": {\"color\": \"red\", \"line\": {\"width\": 0}, \"size\": 2}, \"mode\": \"markers\", \"name\": \"-7.4304685437082725\", \"showlegend\": false, \"type\": \"scatter3d\", \"x\": [-0.9540985237729442], \"y\": [-11.521798412170888], \"z\": [1.0395050807158799]}, {\"marker\": {\"color\": \"red\", \"line\": {\"width\": 0}, \"size\": 2}, \"mode\": \"markers\", \"name\": \"-7.419507853351735\", \"showlegend\": false, \"type\": \"scatter3d\", \"x\": [-1.167375452343276], \"y\": [-9.11103082677894], \"z\": [2.352883420246779]}, {\"marker\": {\"color\": \"red\", \"line\": {\"width\": 0}, \"size\": 2}, \"mode\": \"markers\", \"name\": \"-5.327458602303041\", \"showlegend\": false, \"type\": \"scatter3d\", \"x\": [-1.6189239231891213], \"y\": [-9.717659394294776], \"z\": [0.35559454508988164]}, {\"marker\": {\"color\": \"blue\", \"line\": {\"width\": 0}, \"size\": 2}, \"mode\": \"markers\", \"name\": \"1.8169013795390119\", \"showlegend\": false, \"type\": \"scatter3d\", \"x\": [2.815140476170738], \"y\": [-0.7715230809383078], \"z\": [-1.8615432636055613]}, {\"marker\": {\"color\": \"red\", \"line\": {\"width\": 0}, \"size\": 2}, \"mode\": \"markers\", \"name\": \"-6.434950219577805\", \"showlegend\": false, \"type\": \"scatter3d\", \"x\": [-2.467714243545209], \"y\": [-10.9026925907463], \"z\": [0.8397543618972337]}, {\"marker\": {\"color\": \"blue\", \"line\": {\"width\": 0}, \"size\": 2}, \"mode\": \"markers\", \"name\": \"3.2707329704738966\", \"showlegend\": false, \"type\": \"scatter3d\", \"x\": [-2.6111194173885], \"y\": [-3.6182375500848063], \"z\": [-3.4755489549556478]}, {\"marker\": {\"color\": \"blue\", \"line\": {\"width\": 0}, \"size\": 2}, \"mode\": \"markers\", \"name\": \"4.721235172440832\", \"showlegend\": false, \"type\": \"scatter3d\", \"x\": [-2.632141027502986], \"y\": [-0.4598978823168711], \"z\": [-3.0229987371752776]}, {\"marker\": {\"color\": \"blue\", \"line\": {\"width\": 0}, \"size\": 2}, \"mode\": \"markers\", \"name\": \"1.9402386170924026\", \"showlegend\": false, \"type\": \"scatter3d\", \"x\": [-0.27369741826522564], \"y\": [-3.07510943607289], \"z\": [-2.5469916880804377]}, {\"marker\": {\"color\": \"red\", \"line\": {\"width\": 0}, \"size\": 2}, \"mode\": \"markers\", \"name\": \"-7.112214167699302\", \"showlegend\": false, \"type\": \"scatter3d\", \"x\": [-0.8562772492940441], \"y\": [-8.682295368407159], \"z\": [2.255863220899003]}, {\"marker\": {\"color\": \"blue\", \"line\": {\"width\": 0}, \"size\": 2}, \"mode\": \"markers\", \"name\": \"3.1372332157105114\", \"showlegend\": false, \"type\": \"scatter3d\", \"x\": [0.5109244939452628], \"y\": [-1.4122341513386731], \"z\": [-2.8401393057647053]}, {\"marker\": {\"color\": \"blue\", \"line\": {\"width\": 0}, \"size\": 2}, \"mode\": \"markers\", \"name\": \"4.509862093101152\", \"showlegend\": false, \"type\": \"scatter3d\", \"x\": [-3.3631644102999134], \"y\": [-0.982499871843562], \"z\": [-2.9698066794796447]}, {\"marker\": {\"color\": \"red\", \"line\": {\"width\": 0}, \"size\": 2}, \"mode\": \"markers\", \"name\": \"-5.170021286032846\", \"showlegend\": false, \"type\": \"scatter3d\", \"x\": [-3.6237051481598868], \"y\": [-8.3199538727014], \"z\": [1.3793276051777774]}, {\"marker\": {\"color\": \"red\", \"line\": {\"width\": 0}, \"size\": 2}, \"mode\": \"markers\", \"name\": \"-5.996439457443105\", \"showlegend\": false, \"type\": \"scatter3d\", \"x\": [-0.8982357230332279], \"y\": [-8.915199921999717], \"z\": [1.197457536488295]}, {\"marker\": {\"color\": \"red\", \"line\": {\"width\": 0}, \"size\": 2}, \"mode\": \"markers\", \"name\": \"-8.40230535797294\", \"showlegend\": false, \"type\": \"scatter3d\", \"x\": [-1.6839942264978642], \"y\": [-10.865994029978038], \"z\": [2.3604849815013074]}, {\"marker\": {\"color\": \"blue\", \"line\": {\"width\": 0}, \"size\": 2}, \"mode\": \"markers\", \"name\": \"1.6149323821403296\", \"showlegend\": false, \"type\": \"scatter3d\", \"x\": [-0.17566541418362114], \"y\": [-1.8668860471137454], \"z\": [-1.6514913914502833]}, {\"marker\": {\"color\": \"red\", \"line\": {\"width\": 0}, \"size\": 2}, \"mode\": \"markers\", \"name\": \"-7.237929729521423\", \"showlegend\": false, \"type\": \"scatter3d\", \"x\": [-0.5849823521129334], \"y\": [-11.514941909564786], \"z\": [0.8037802928618021]}, {\"marker\": {\"color\": \"red\", \"line\": {\"width\": 0}, \"size\": 2}, \"mode\": \"markers\", \"name\": \"-5.1122468979020335\", \"showlegend\": false, \"type\": \"scatter3d\", \"x\": [-2.3015166876819912], \"y\": [-9.049079662462567], \"z\": [0.669669487497659]}, {\"marker\": {\"color\": \"red\", \"line\": {\"width\": 0}, \"size\": 2}, \"mode\": \"markers\", \"name\": \"-7.019652106230646\", \"showlegend\": false, \"type\": \"scatter3d\", \"x\": [-0.062216324103634424], \"y\": [-9.943480711595555], \"z\": [1.3441380516619292]}, {\"marker\": {\"color\": \"blue\", \"line\": {\"width\": 0}, \"size\": 2}, \"mode\": \"markers\", \"name\": \"3.7689377724404314\", \"showlegend\": false, \"type\": \"scatter3d\", \"x\": [-0.7791814301690143], \"y\": [-0.7631855276368256], \"z\": [-2.7626816126453972]}, {\"marker\": {\"color\": \"blue\", \"line\": {\"width\": 0}, \"size\": 2}, \"mode\": \"markers\", \"name\": \"2.3337531024079405\", \"showlegend\": false, \"type\": \"scatter3d\", \"x\": [-1.7410530238271087], \"y\": [-2.848071176596078], \"z\": [-2.4551399086483734]}, {\"marker\": {\"color\": \"blue\", \"line\": {\"width\": 0}, \"size\": 2}, \"mode\": \"markers\", \"name\": \"3.790501581749537\", \"showlegend\": false, \"type\": \"scatter3d\", \"x\": [-1.846501587197685], \"y\": [-1.2931171450700611], \"z\": [-2.8406398843183185]}, {\"marker\": {\"color\": \"red\", \"line\": {\"width\": 0}, \"size\": 2}, \"mode\": \"markers\", \"name\": \"-4.581978138814096\", \"showlegend\": false, \"type\": \"scatter3d\", \"x\": [-1.661618438925011], \"y\": [-9.41498635429603], \"z\": [-0.10548938942187358]}, {\"marker\": {\"color\": \"blue\", \"line\": {\"width\": 0}, \"size\": 2}, \"mode\": \"markers\", \"name\": \"5.07065955507533\", \"showlegend\": false, \"type\": \"scatter3d\", \"x\": [-3.0584698759102187], \"y\": [-1.70706525528034], \"z\": [-3.891477773844276]}, {\"marker\": {\"color\": \"red\", \"line\": {\"width\": 0}, \"size\": 2}, \"mode\": \"markers\", \"name\": \"-4.647994181941424\", \"showlegend\": false, \"type\": \"scatter3d\", \"x\": [-1.4365361275445485], \"y\": [-9.224904911440879], \"z\": [0.004470508804561124]}, {\"marker\": {\"color\": \"red\", \"line\": {\"width\": 0}, \"size\": 2}, \"mode\": \"markers\", \"name\": \"-7.964412638579147\", \"showlegend\": false, \"type\": \"scatter3d\", \"x\": [0.3043850992357515], \"y\": [-12.140924819825662], \"z\": [0.9017969346835247]}, {\"marker\": {\"color\": \"red\", \"line\": {\"width\": 0}, \"size\": 2}, \"mode\": \"markers\", \"name\": \"-6.208350696192314\", \"showlegend\": false, \"type\": \"scatter3d\", \"x\": [-3.1481926117236885], \"y\": [-7.750290697461706], \"z\": [2.4609275681475955]}, {\"marker\": {\"color\": \"red\", \"line\": {\"width\": 0}, \"size\": 2}, \"mode\": \"markers\", \"name\": \"-4.789080060194745\", \"showlegend\": false, \"type\": \"scatter3d\", \"x\": [-2.0279729064537872], \"y\": [-9.472450112468849], \"z\": [0.11514166433384088]}, {\"marker\": {\"color\": \"red\", \"line\": {\"width\": 0}, \"size\": 2}, \"mode\": \"markers\", \"name\": \"-5.107469936329951\", \"showlegend\": false, \"type\": \"scatter3d\", \"x\": [-2.413235230836907], \"y\": [-9.048382808785483], \"z\": [0.6891631187728673]}, {\"marker\": {\"color\": \"red\", \"line\": {\"width\": 0}, \"size\": 2}, \"mode\": \"markers\", \"name\": \"-5.446779511996027\", \"showlegend\": false, \"type\": \"scatter3d\", \"x\": [-1.5562814494106627], \"y\": [-9.99835925717476], \"z\": [0.2946596076377942]}, {\"marker\": {\"color\": \"blue\", \"line\": {\"width\": 0}, \"size\": 2}, \"mode\": \"markers\", \"name\": \"3.488417008881175\", \"showlegend\": false, \"type\": \"scatter3d\", \"x\": [-1.1724465660561343], \"y\": [-2.439472710192113], \"z\": [-3.3328411309196055]}, {\"marker\": {\"color\": \"blue\", \"line\": {\"width\": 0}, \"size\": 2}, \"mode\": \"markers\", \"name\": \"5.675159898407471\", \"showlegend\": false, \"type\": \"scatter3d\", \"x\": [-1.545326266004287], \"y\": [-3.1393185695146357], \"z\": [-5.475955515667467]}, {\"marker\": {\"color\": \"red\", \"line\": {\"width\": 0}, \"size\": 2}, \"mode\": \"markers\", \"name\": \"-6.956337738404209\", \"showlegend\": false, \"type\": \"scatter3d\", \"x\": [-1.357320622512882], \"y\": [-8.656772358005192], \"z\": [2.2414624781712167]}, {\"marker\": {\"color\": \"red\", \"line\": {\"width\": 0}, \"size\": 2}, \"mode\": \"markers\", \"name\": \"-6.07050950493736\", \"showlegend\": false, \"type\": \"scatter3d\", \"x\": [-1.6611944746752747], \"y\": [-9.857144786521168], \"z\": [0.9187787946802018]}, {\"marker\": {\"color\": \"red\", \"line\": {\"width\": 0}, \"size\": 2}, \"mode\": \"markers\", \"name\": \"-7.257694339280818\", \"showlegend\": false, \"type\": \"scatter3d\", \"x\": [-0.7377493850108957], \"y\": [-9.794983560435583], \"z\": [1.7642612956435944]}, {\"marker\": {\"color\": \"blue\", \"line\": {\"width\": 0}, \"size\": 2}, \"mode\": \"markers\", \"name\": \"3.8403248724561467\", \"showlegend\": false, \"type\": \"scatter3d\", \"x\": [-2.7469164972912514], \"y\": [-1.9306617356064473], \"z\": [-3.034170248128713]}, {\"marker\": {\"color\": \"blue\", \"line\": {\"width\": 0}, \"size\": 2}, \"mode\": \"markers\", \"name\": \"2.4403190202635843\", \"showlegend\": false, \"type\": \"scatter3d\", \"x\": [-0.423953950089518], \"y\": [-2.679734533092661], \"z\": [-2.7290821665268874]}, {\"marker\": {\"color\": \"blue\", \"line\": {\"width\": 0}, \"size\": 3}, \"mode\": \"markers\", \"name\": \"d=7.053155101518341\", \"type\": \"scatter3d\", \"x\": [-2.317067132432493], \"y\": [-2.040818781594588], \"z\": [-5.8987617119969125]}, {\"line\": {\"width\": 6}, \"marker\": {\"size\": 1}, \"name\": \"^ len_d\", \"type\": \"scatter3d\", \"x\": [-2.317067132432493, -1.3831166059426947], \"y\": [-2.040818781594588, -4.42949750988813], \"z\": [-5.8987617119969125, -1.394357744084568]}, {\"line\": {\"width\": 6}, \"marker\": {\"size\": 1}, \"name\": \"^ proj\", \"type\": \"scatter3d\", \"x\": [-2.317067132432493, -0.8293845489872497], \"y\": [-2.040818781594588, 2.1212400159858125], \"z\": [-5.8987617119969125, -4.000086672068667]}, {\"showlegend\": false, \"showscale\": false, \"type\": \"surface\", \"x\": [[-4.408298643206435, -4.147470163305048, -3.8866416834036603, -3.6258132035022728, -3.3649847236008856, -3.104156243699498, -2.8433277637981105, -2.5824992838967233, -2.3216708039953358, -2.060842324093948, -1.800013844192561, -1.5391853642911735, -1.278356884389786, -1.0175284044883988, -0.7566999245870112, -0.49587144468562405, -0.23504296478423647, 0.02578551511715066, 0.2866139950185387, 0.5474424749199258, 0.808270954821313, 1.069099434722701, 1.329927914624088, 1.5907563945254752, 1.8515848744268633, 2.1124133543282504, 2.3732418342296375, 2.6340703141310247, 2.8948987940324127, 3.1557272739338], [-4.408298643206435, -4.147470163305048, -3.8866416834036603, -3.6258132035022728, -3.3649847236008856, -3.104156243699498, -2.8433277637981105, -2.5824992838967233, -2.3216708039953358, -2.060842324093948, -1.800013844192561, -1.5391853642911735, -1.278356884389786, -1.0175284044883988, -0.7566999245870112, -0.49587144468562405, -0.23504296478423647, 0.02578551511715066, 0.2866139950185387, 0.5474424749199258, 0.808270954821313, 1.069099434722701, 1.329927914624088, 1.5907563945254752, 1.8515848744268633, 2.1124133543282504, 2.3732418342296375, 2.6340703141310247, 2.8948987940324127, 3.1557272739338], [-4.408298643206435, -4.147470163305048, -3.8866416834036603, -3.6258132035022728, -3.3649847236008856, -3.104156243699498, -2.8433277637981105, -2.5824992838967233, -2.3216708039953358, -2.060842324093948, -1.800013844192561, -1.5391853642911735, -1.278356884389786, -1.0175284044883988, -0.7566999245870112, -0.49587144468562405, -0.23504296478423647, 0.02578551511715066, 0.2866139950185387, 0.5474424749199258, 0.808270954821313, 1.069099434722701, 1.329927914624088, 1.5907563945254752, 1.8515848744268633, 2.1124133543282504, 2.3732418342296375, 2.6340703141310247, 2.8948987940324127, 3.1557272739338], [-4.408298643206435, -4.147470163305048, -3.8866416834036603, -3.6258132035022728, -3.3649847236008856, -3.104156243699498, -2.8433277637981105, -2.5824992838967233, -2.3216708039953358, -2.060842324093948, -1.800013844192561, -1.5391853642911735, -1.278356884389786, -1.0175284044883988, -0.7566999245870112, -0.49587144468562405, -0.23504296478423647, 0.02578551511715066, 0.2866139950185387, 0.5474424749199258, 0.808270954821313, 1.069099434722701, 1.329927914624088, 1.5907563945254752, 1.8515848744268633, 2.1124133543282504, 2.3732418342296375, 2.6340703141310247, 2.8948987940324127, 3.1557272739338], [-4.408298643206435, -4.147470163305048, -3.8866416834036603, -3.6258132035022728, -3.3649847236008856, -3.104156243699498, -2.8433277637981105, -2.5824992838967233, -2.3216708039953358, -2.060842324093948, -1.800013844192561, -1.5391853642911735, -1.278356884389786, -1.0175284044883988, -0.7566999245870112, -0.49587144468562405, -0.23504296478423647, 0.02578551511715066, 0.2866139950185387, 0.5474424749199258, 0.808270954821313, 1.069099434722701, 1.329927914624088, 1.5907563945254752, 1.8515848744268633, 2.1124133543282504, 2.3732418342296375, 2.6340703141310247, 2.8948987940324127, 3.1557272739338], [-4.408298643206435, -4.147470163305048, -3.8866416834036603, -3.6258132035022728, -3.3649847236008856, -3.104156243699498, -2.8433277637981105, -2.5824992838967233, -2.3216708039953358, -2.060842324093948, -1.800013844192561, -1.5391853642911735, -1.278356884389786, -1.0175284044883988, -0.7566999245870112, -0.49587144468562405, -0.23504296478423647, 0.02578551511715066, 0.2866139950185387, 0.5474424749199258, 0.808270954821313, 1.069099434722701, 1.329927914624088, 1.5907563945254752, 1.8515848744268633, 2.1124133543282504, 2.3732418342296375, 2.6340703141310247, 2.8948987940324127, 3.1557272739338], [-4.408298643206435, -4.147470163305048, -3.8866416834036603, -3.6258132035022728, -3.3649847236008856, -3.104156243699498, -2.8433277637981105, -2.5824992838967233, -2.3216708039953358, -2.060842324093948, -1.800013844192561, -1.5391853642911735, -1.278356884389786, -1.0175284044883988, -0.7566999245870112, -0.49587144468562405, -0.23504296478423647, 0.02578551511715066, 0.2866139950185387, 0.5474424749199258, 0.808270954821313, 1.069099434722701, 1.329927914624088, 1.5907563945254752, 1.8515848744268633, 2.1124133543282504, 2.3732418342296375, 2.6340703141310247, 2.8948987940324127, 3.1557272739338], [-4.408298643206435, -4.147470163305048, -3.8866416834036603, -3.6258132035022728, -3.3649847236008856, -3.104156243699498, -2.8433277637981105, -2.5824992838967233, -2.3216708039953358, -2.060842324093948, -1.800013844192561, -1.5391853642911735, -1.278356884389786, -1.0175284044883988, -0.7566999245870112, -0.49587144468562405, -0.23504296478423647, 0.02578551511715066, 0.2866139950185387, 0.5474424749199258, 0.808270954821313, 1.069099434722701, 1.329927914624088, 1.5907563945254752, 1.8515848744268633, 2.1124133543282504, 2.3732418342296375, 2.6340703141310247, 2.8948987940324127, 3.1557272739338], [-4.408298643206435, -4.147470163305048, -3.8866416834036603, -3.6258132035022728, -3.3649847236008856, -3.104156243699498, -2.8433277637981105, -2.5824992838967233, -2.3216708039953358, -2.060842324093948, -1.800013844192561, -1.5391853642911735, -1.278356884389786, -1.0175284044883988, -0.7566999245870112, -0.49587144468562405, -0.23504296478423647, 0.02578551511715066, 0.2866139950185387, 0.5474424749199258, 0.808270954821313, 1.069099434722701, 1.329927914624088, 1.5907563945254752, 1.8515848744268633, 2.1124133543282504, 2.3732418342296375, 2.6340703141310247, 2.8948987940324127, 3.1557272739338], [-4.408298643206435, -4.147470163305048, -3.8866416834036603, -3.6258132035022728, -3.3649847236008856, -3.104156243699498, -2.8433277637981105, -2.5824992838967233, -2.3216708039953358, -2.060842324093948, -1.800013844192561, -1.5391853642911735, -1.278356884389786, -1.0175284044883988, -0.7566999245870112, -0.49587144468562405, -0.23504296478423647, 0.02578551511715066, 0.2866139950185387, 0.5474424749199258, 0.808270954821313, 1.069099434722701, 1.329927914624088, 1.5907563945254752, 1.8515848744268633, 2.1124133543282504, 2.3732418342296375, 2.6340703141310247, 2.8948987940324127, 3.1557272739338], [-4.408298643206435, -4.147470163305048, -3.8866416834036603, -3.6258132035022728, -3.3649847236008856, -3.104156243699498, -2.8433277637981105, -2.5824992838967233, -2.3216708039953358, -2.060842324093948, -1.800013844192561, -1.5391853642911735, -1.278356884389786, -1.0175284044883988, -0.7566999245870112, -0.49587144468562405, -0.23504296478423647, 0.02578551511715066, 0.2866139950185387, 0.5474424749199258, 0.808270954821313, 1.069099434722701, 1.329927914624088, 1.5907563945254752, 1.8515848744268633, 2.1124133543282504, 2.3732418342296375, 2.6340703141310247, 2.8948987940324127, 3.1557272739338], [-4.408298643206435, -4.147470163305048, -3.8866416834036603, -3.6258132035022728, -3.3649847236008856, -3.104156243699498, -2.8433277637981105, -2.5824992838967233, -2.3216708039953358, -2.060842324093948, -1.800013844192561, -1.5391853642911735, -1.278356884389786, -1.0175284044883988, -0.7566999245870112, -0.49587144468562405, -0.23504296478423647, 0.02578551511715066, 0.2866139950185387, 0.5474424749199258, 0.808270954821313, 1.069099434722701, 1.329927914624088, 1.5907563945254752, 1.8515848744268633, 2.1124133543282504, 2.3732418342296375, 2.6340703141310247, 2.8948987940324127, 3.1557272739338], [-4.408298643206435, -4.147470163305048, -3.8866416834036603, -3.6258132035022728, -3.3649847236008856, -3.104156243699498, -2.8433277637981105, -2.5824992838967233, -2.3216708039953358, -2.060842324093948, -1.800013844192561, -1.5391853642911735, -1.278356884389786, -1.0175284044883988, -0.7566999245870112, -0.49587144468562405, -0.23504296478423647, 0.02578551511715066, 0.2866139950185387, 0.5474424749199258, 0.808270954821313, 1.069099434722701, 1.329927914624088, 1.5907563945254752, 1.8515848744268633, 2.1124133543282504, 2.3732418342296375, 2.6340703141310247, 2.8948987940324127, 3.1557272739338], [-4.408298643206435, -4.147470163305048, -3.8866416834036603, -3.6258132035022728, -3.3649847236008856, -3.104156243699498, -2.8433277637981105, -2.5824992838967233, -2.3216708039953358, -2.060842324093948, -1.800013844192561, -1.5391853642911735, -1.278356884389786, -1.0175284044883988, -0.7566999245870112, -0.49587144468562405, -0.23504296478423647, 0.02578551511715066, 0.2866139950185387, 0.5474424749199258, 0.808270954821313, 1.069099434722701, 1.329927914624088, 1.5907563945254752, 1.8515848744268633, 2.1124133543282504, 2.3732418342296375, 2.6340703141310247, 2.8948987940324127, 3.1557272739338], [-4.408298643206435, -4.147470163305048, -3.8866416834036603, -3.6258132035022728, -3.3649847236008856, -3.104156243699498, -2.8433277637981105, -2.5824992838967233, -2.3216708039953358, -2.060842324093948, -1.800013844192561, -1.5391853642911735, -1.278356884389786, -1.0175284044883988, -0.7566999245870112, -0.49587144468562405, -0.23504296478423647, 0.02578551511715066, 0.2866139950185387, 0.5474424749199258, 0.808270954821313, 1.069099434722701, 1.329927914624088, 1.5907563945254752, 1.8515848744268633, 2.1124133543282504, 2.3732418342296375, 2.6340703141310247, 2.8948987940324127, 3.1557272739338], [-4.408298643206435, -4.147470163305048, -3.8866416834036603, -3.6258132035022728, -3.3649847236008856, -3.104156243699498, -2.8433277637981105, -2.5824992838967233, -2.3216708039953358, -2.060842324093948, -1.800013844192561, -1.5391853642911735, -1.278356884389786, -1.0175284044883988, -0.7566999245870112, -0.49587144468562405, -0.23504296478423647, 0.02578551511715066, 0.2866139950185387, 0.5474424749199258, 0.808270954821313, 1.069099434722701, 1.329927914624088, 1.5907563945254752, 1.8515848744268633, 2.1124133543282504, 2.3732418342296375, 2.6340703141310247, 2.8948987940324127, 3.1557272739338], [-4.408298643206435, -4.147470163305048, -3.8866416834036603, -3.6258132035022728, -3.3649847236008856, -3.104156243699498, -2.8433277637981105, -2.5824992838967233, -2.3216708039953358, -2.060842324093948, -1.800013844192561, -1.5391853642911735, -1.278356884389786, -1.0175284044883988, -0.7566999245870112, -0.49587144468562405, -0.23504296478423647, 0.02578551511715066, 0.2866139950185387, 0.5474424749199258, 0.808270954821313, 1.069099434722701, 1.329927914624088, 1.5907563945254752, 1.8515848744268633, 2.1124133543282504, 2.3732418342296375, 2.6340703141310247, 2.8948987940324127, 3.1557272739338], [-4.408298643206435, -4.147470163305048, -3.8866416834036603, -3.6258132035022728, -3.3649847236008856, -3.104156243699498, -2.8433277637981105, -2.5824992838967233, -2.3216708039953358, -2.060842324093948, -1.800013844192561, -1.5391853642911735, -1.278356884389786, -1.0175284044883988, -0.7566999245870112, -0.49587144468562405, -0.23504296478423647, 0.02578551511715066, 0.2866139950185387, 0.5474424749199258, 0.808270954821313, 1.069099434722701, 1.329927914624088, 1.5907563945254752, 1.8515848744268633, 2.1124133543282504, 2.3732418342296375, 2.6340703141310247, 2.8948987940324127, 3.1557272739338], [-4.408298643206435, -4.147470163305048, -3.8866416834036603, -3.6258132035022728, -3.3649847236008856, -3.104156243699498, -2.8433277637981105, -2.5824992838967233, -2.3216708039953358, -2.060842324093948, -1.800013844192561, -1.5391853642911735, -1.278356884389786, -1.0175284044883988, -0.7566999245870112, -0.49587144468562405, -0.23504296478423647, 0.02578551511715066, 0.2866139950185387, 0.5474424749199258, 0.808270954821313, 1.069099434722701, 1.329927914624088, 1.5907563945254752, 1.8515848744268633, 2.1124133543282504, 2.3732418342296375, 2.6340703141310247, 2.8948987940324127, 3.1557272739338], [-4.408298643206435, -4.147470163305048, -3.8866416834036603, -3.6258132035022728, -3.3649847236008856, -3.104156243699498, -2.8433277637981105, -2.5824992838967233, -2.3216708039953358, -2.060842324093948, -1.800013844192561, -1.5391853642911735, -1.278356884389786, -1.0175284044883988, -0.7566999245870112, -0.49587144468562405, -0.23504296478423647, 0.02578551511715066, 0.2866139950185387, 0.5474424749199258, 0.808270954821313, 1.069099434722701, 1.329927914624088, 1.5907563945254752, 1.8515848744268633, 2.1124133543282504, 2.3732418342296375, 2.6340703141310247, 2.8948987940324127, 3.1557272739338], [-4.408298643206435, -4.147470163305048, -3.8866416834036603, -3.6258132035022728, -3.3649847236008856, -3.104156243699498, -2.8433277637981105, -2.5824992838967233, -2.3216708039953358, -2.060842324093948, -1.800013844192561, -1.5391853642911735, -1.278356884389786, -1.0175284044883988, -0.7566999245870112, -0.49587144468562405, -0.23504296478423647, 0.02578551511715066, 0.2866139950185387, 0.5474424749199258, 0.808270954821313, 1.069099434722701, 1.329927914624088, 1.5907563945254752, 1.8515848744268633, 2.1124133543282504, 2.3732418342296375, 2.6340703141310247, 2.8948987940324127, 3.1557272739338], [-4.408298643206435, -4.147470163305048, -3.8866416834036603, -3.6258132035022728, -3.3649847236008856, -3.104156243699498, -2.8433277637981105, -2.5824992838967233, -2.3216708039953358, -2.060842324093948, -1.800013844192561, -1.5391853642911735, -1.278356884389786, -1.0175284044883988, -0.7566999245870112, -0.49587144468562405, -0.23504296478423647, 0.02578551511715066, 0.2866139950185387, 0.5474424749199258, 0.808270954821313, 1.069099434722701, 1.329927914624088, 1.5907563945254752, 1.8515848744268633, 2.1124133543282504, 2.3732418342296375, 2.6340703141310247, 2.8948987940324127, 3.1557272739338], [-4.408298643206435, -4.147470163305048, -3.8866416834036603, -3.6258132035022728, -3.3649847236008856, -3.104156243699498, -2.8433277637981105, -2.5824992838967233, -2.3216708039953358, -2.060842324093948, -1.800013844192561, -1.5391853642911735, -1.278356884389786, -1.0175284044883988, -0.7566999245870112, -0.49587144468562405, -0.23504296478423647, 0.02578551511715066, 0.2866139950185387, 0.5474424749199258, 0.808270954821313, 1.069099434722701, 1.329927914624088, 1.5907563945254752, 1.8515848744268633, 2.1124133543282504, 2.3732418342296375, 2.6340703141310247, 2.8948987940324127, 3.1557272739338], [-4.408298643206435, -4.147470163305048, -3.8866416834036603, -3.6258132035022728, -3.3649847236008856, -3.104156243699498, -2.8433277637981105, -2.5824992838967233, -2.3216708039953358, -2.060842324093948, -1.800013844192561, -1.5391853642911735, -1.278356884389786, -1.0175284044883988, -0.7566999245870112, -0.49587144468562405, -0.23504296478423647, 0.02578551511715066, 0.2866139950185387, 0.5474424749199258, 0.808270954821313, 1.069099434722701, 1.329927914624088, 1.5907563945254752, 1.8515848744268633, 2.1124133543282504, 2.3732418342296375, 2.6340703141310247, 2.8948987940324127, 3.1557272739338], [-4.408298643206435, -4.147470163305048, -3.8866416834036603, -3.6258132035022728, -3.3649847236008856, -3.104156243699498, -2.8433277637981105, -2.5824992838967233, -2.3216708039953358, -2.060842324093948, -1.800013844192561, -1.5391853642911735, -1.278356884389786, -1.0175284044883988, -0.7566999245870112, -0.49587144468562405, -0.23504296478423647, 0.02578551511715066, 0.2866139950185387, 0.5474424749199258, 0.808270954821313, 1.069099434722701, 1.329927914624088, 1.5907563945254752, 1.8515848744268633, 2.1124133543282504, 2.3732418342296375, 2.6340703141310247, 2.8948987940324127, 3.1557272739338], [-4.408298643206435, -4.147470163305048, -3.8866416834036603, -3.6258132035022728, -3.3649847236008856, -3.104156243699498, -2.8433277637981105, -2.5824992838967233, -2.3216708039953358, -2.060842324093948, -1.800013844192561, -1.5391853642911735, -1.278356884389786, -1.0175284044883988, -0.7566999245870112, -0.49587144468562405, -0.23504296478423647, 0.02578551511715066, 0.2866139950185387, 0.5474424749199258, 0.808270954821313, 1.069099434722701, 1.329927914624088, 1.5907563945254752, 1.8515848744268633, 2.1124133543282504, 2.3732418342296375, 2.6340703141310247, 2.8948987940324127, 3.1557272739338], [-4.408298643206435, -4.147470163305048, -3.8866416834036603, -3.6258132035022728, -3.3649847236008856, -3.104156243699498, -2.8433277637981105, -2.5824992838967233, -2.3216708039953358, -2.060842324093948, -1.800013844192561, -1.5391853642911735, -1.278356884389786, -1.0175284044883988, -0.7566999245870112, -0.49587144468562405, -0.23504296478423647, 0.02578551511715066, 0.2866139950185387, 0.5474424749199258, 0.808270954821313, 1.069099434722701, 1.329927914624088, 1.5907563945254752, 1.8515848744268633, 2.1124133543282504, 2.3732418342296375, 2.6340703141310247, 2.8948987940324127, 3.1557272739338], [-4.408298643206435, -4.147470163305048, -3.8866416834036603, -3.6258132035022728, -3.3649847236008856, -3.104156243699498, -2.8433277637981105, -2.5824992838967233, -2.3216708039953358, -2.060842324093948, -1.800013844192561, -1.5391853642911735, -1.278356884389786, -1.0175284044883988, -0.7566999245870112, -0.49587144468562405, -0.23504296478423647, 0.02578551511715066, 0.2866139950185387, 0.5474424749199258, 0.808270954821313, 1.069099434722701, 1.329927914624088, 1.5907563945254752, 1.8515848744268633, 2.1124133543282504, 2.3732418342296375, 2.6340703141310247, 2.8948987940324127, 3.1557272739338], [-4.408298643206435, -4.147470163305048, -3.8866416834036603, -3.6258132035022728, -3.3649847236008856, -3.104156243699498, -2.8433277637981105, -2.5824992838967233, -2.3216708039953358, -2.060842324093948, -1.800013844192561, -1.5391853642911735, -1.278356884389786, -1.0175284044883988, -0.7566999245870112, -0.49587144468562405, -0.23504296478423647, 0.02578551511715066, 0.2866139950185387, 0.5474424749199258, 0.808270954821313, 1.069099434722701, 1.329927914624088, 1.5907563945254752, 1.8515848744268633, 2.1124133543282504, 2.3732418342296375, 2.6340703141310247, 2.8948987940324127, 3.1557272739338], [-4.408298643206435, -4.147470163305048, -3.8866416834036603, -3.6258132035022728, -3.3649847236008856, -3.104156243699498, -2.8433277637981105, -2.5824992838967233, -2.3216708039953358, -2.060842324093948, -1.800013844192561, -1.5391853642911735, -1.278356884389786, -1.0175284044883988, -0.7566999245870112, -0.49587144468562405, -0.23504296478423647, 0.02578551511715066, 0.2866139950185387, 0.5474424749199258, 0.808270954821313, 1.069099434722701, 1.329927914624088, 1.5907563945254752, 1.8515848744268633, 2.1124133543282504, 2.3732418342296375, 2.6340703141310247, 2.8948987940324127, 3.1557272739338]], \"y\": [[-9.543632221080616, -9.543632221080616, -9.543632221080616, -9.543632221080616, -9.543632221080616, -9.543632221080616, -9.543632221080616, -9.543632221080616, -9.543632221080616, -9.543632221080616, -9.543632221080616, -9.543632221080616, -9.543632221080616, -9.543632221080616, -9.543632221080616, -9.543632221080616, -9.543632221080616, -9.543632221080616, -9.543632221080616, -9.543632221080616, -9.543632221080616, -9.543632221080616, -9.543632221080616, -9.543632221080616, -9.543632221080616, -9.543632221080616, -9.543632221080616, -9.543632221080616, -9.543632221080616, -9.543632221080616], [-9.253620237970093, -9.253620237970093, -9.253620237970093, -9.253620237970093, -9.253620237970093, -9.253620237970093, -9.253620237970093, -9.253620237970093, -9.253620237970093, -9.253620237970093, -9.253620237970093, -9.253620237970093, -9.253620237970093, -9.253620237970093, -9.253620237970093, -9.253620237970093, -9.253620237970093, -9.253620237970093, -9.253620237970093, -9.253620237970093, -9.253620237970093, -9.253620237970093, -9.253620237970093, -9.253620237970093, -9.253620237970093, -9.253620237970093, -9.253620237970093, -9.253620237970093, -9.253620237970093, -9.253620237970093], [-8.963608254859572, -8.963608254859572, -8.963608254859572, -8.963608254859572, -8.963608254859572, -8.963608254859572, -8.963608254859572, -8.963608254859572, -8.963608254859572, -8.963608254859572, -8.963608254859572, -8.963608254859572, -8.963608254859572, -8.963608254859572, -8.963608254859572, -8.963608254859572, -8.963608254859572, -8.963608254859572, -8.963608254859572, -8.963608254859572, -8.963608254859572, -8.963608254859572, -8.963608254859572, -8.963608254859572, -8.963608254859572, -8.963608254859572, -8.963608254859572, -8.963608254859572, -8.963608254859572, -8.963608254859572], [-8.67359627174905, -8.67359627174905, -8.67359627174905, -8.67359627174905, -8.67359627174905, -8.67359627174905, -8.67359627174905, -8.67359627174905, -8.67359627174905, -8.67359627174905, -8.67359627174905, -8.67359627174905, -8.67359627174905, -8.67359627174905, -8.67359627174905, -8.67359627174905, -8.67359627174905, -8.67359627174905, -8.67359627174905, -8.67359627174905, -8.67359627174905, -8.67359627174905, -8.67359627174905, -8.67359627174905, -8.67359627174905, -8.67359627174905, -8.67359627174905, -8.67359627174905, -8.67359627174905, -8.67359627174905], [-8.383584288638527, -8.383584288638527, -8.383584288638527, -8.383584288638527, -8.383584288638527, -8.383584288638527, -8.383584288638527, -8.383584288638527, -8.383584288638527, -8.383584288638527, -8.383584288638527, -8.383584288638527, -8.383584288638527, -8.383584288638527, -8.383584288638527, -8.383584288638527, -8.383584288638527, -8.383584288638527, -8.383584288638527, -8.383584288638527, -8.383584288638527, -8.383584288638527, -8.383584288638527, -8.383584288638527, -8.383584288638527, -8.383584288638527, -8.383584288638527, -8.383584288638527, -8.383584288638527, -8.383584288638527], [-8.093572305528005, -8.093572305528005, -8.093572305528005, -8.093572305528005, -8.093572305528005, -8.093572305528005, -8.093572305528005, -8.093572305528005, -8.093572305528005, -8.093572305528005, -8.093572305528005, -8.093572305528005, -8.093572305528005, -8.093572305528005, -8.093572305528005, -8.093572305528005, -8.093572305528005, -8.093572305528005, -8.093572305528005, -8.093572305528005, -8.093572305528005, -8.093572305528005, -8.093572305528005, -8.093572305528005, -8.093572305528005, -8.093572305528005, -8.093572305528005, -8.093572305528005, -8.093572305528005, -8.093572305528005], [-7.803560322417483, -7.803560322417483, -7.803560322417483, -7.803560322417483, -7.803560322417483, -7.803560322417483, -7.803560322417483, -7.803560322417483, -7.803560322417483, -7.803560322417483, -7.803560322417483, -7.803560322417483, -7.803560322417483, -7.803560322417483, -7.803560322417483, -7.803560322417483, -7.803560322417483, -7.803560322417483, -7.803560322417483, -7.803560322417483, -7.803560322417483, -7.803560322417483, -7.803560322417483, -7.803560322417483, -7.803560322417483, -7.803560322417483, -7.803560322417483, -7.803560322417483, -7.803560322417483, -7.803560322417483], [-7.513548339306961, -7.513548339306961, -7.513548339306961, -7.513548339306961, -7.513548339306961, -7.513548339306961, -7.513548339306961, -7.513548339306961, -7.513548339306961, -7.513548339306961, -7.513548339306961, -7.513548339306961, -7.513548339306961, -7.513548339306961, -7.513548339306961, -7.513548339306961, -7.513548339306961, -7.513548339306961, -7.513548339306961, -7.513548339306961, -7.513548339306961, -7.513548339306961, -7.513548339306961, -7.513548339306961, -7.513548339306961, -7.513548339306961, -7.513548339306961, -7.513548339306961, -7.513548339306961, -7.513548339306961], [-7.223536356196439, -7.223536356196439, -7.223536356196439, -7.223536356196439, -7.223536356196439, -7.223536356196439, -7.223536356196439, -7.223536356196439, -7.223536356196439, -7.223536356196439, -7.223536356196439, -7.223536356196439, -7.223536356196439, -7.223536356196439, -7.223536356196439, -7.223536356196439, -7.223536356196439, -7.223536356196439, -7.223536356196439, -7.223536356196439, -7.223536356196439, -7.223536356196439, -7.223536356196439, -7.223536356196439, -7.223536356196439, -7.223536356196439, -7.223536356196439, -7.223536356196439, -7.223536356196439, -7.223536356196439], [-6.933524373085916, -6.933524373085916, -6.933524373085916, -6.933524373085916, -6.933524373085916, -6.933524373085916, -6.933524373085916, -6.933524373085916, -6.933524373085916, -6.933524373085916, -6.933524373085916, -6.933524373085916, -6.933524373085916, -6.933524373085916, -6.933524373085916, -6.933524373085916, -6.933524373085916, -6.933524373085916, -6.933524373085916, -6.933524373085916, -6.933524373085916, -6.933524373085916, -6.933524373085916, -6.933524373085916, -6.933524373085916, -6.933524373085916, -6.933524373085916, -6.933524373085916, -6.933524373085916, -6.933524373085916], [-6.6435123899753945, -6.6435123899753945, -6.6435123899753945, -6.6435123899753945, -6.6435123899753945, -6.6435123899753945, -6.6435123899753945, -6.6435123899753945, -6.6435123899753945, -6.6435123899753945, -6.6435123899753945, -6.6435123899753945, -6.6435123899753945, -6.6435123899753945, -6.6435123899753945, -6.6435123899753945, -6.6435123899753945, -6.6435123899753945, -6.6435123899753945, -6.6435123899753945, -6.6435123899753945, -6.6435123899753945, -6.6435123899753945, -6.6435123899753945, -6.6435123899753945, -6.6435123899753945, -6.6435123899753945, -6.6435123899753945, -6.6435123899753945, -6.6435123899753945], [-6.353500406864873, -6.353500406864873, -6.353500406864873, -6.353500406864873, -6.353500406864873, -6.353500406864873, -6.353500406864873, -6.353500406864873, -6.353500406864873, -6.353500406864873, -6.353500406864873, -6.353500406864873, -6.353500406864873, -6.353500406864873, -6.353500406864873, -6.353500406864873, -6.353500406864873, -6.353500406864873, -6.353500406864873, -6.353500406864873, -6.353500406864873, -6.353500406864873, -6.353500406864873, -6.353500406864873, -6.353500406864873, -6.353500406864873, -6.353500406864873, -6.353500406864873, -6.353500406864873, -6.353500406864873], [-6.06348842375435, -6.06348842375435, -6.06348842375435, -6.06348842375435, -6.06348842375435, -6.06348842375435, -6.06348842375435, -6.06348842375435, -6.06348842375435, -6.06348842375435, -6.06348842375435, -6.06348842375435, -6.06348842375435, -6.06348842375435, -6.06348842375435, -6.06348842375435, -6.06348842375435, -6.06348842375435, -6.06348842375435, -6.06348842375435, -6.06348842375435, -6.06348842375435, -6.06348842375435, -6.06348842375435, -6.06348842375435, -6.06348842375435, -6.06348842375435, -6.06348842375435, -6.06348842375435, -6.06348842375435], [-5.773476440643828, -5.773476440643828, -5.773476440643828, -5.773476440643828, -5.773476440643828, -5.773476440643828, -5.773476440643828, -5.773476440643828, -5.773476440643828, -5.773476440643828, -5.773476440643828, -5.773476440643828, -5.773476440643828, -5.773476440643828, -5.773476440643828, -5.773476440643828, -5.773476440643828, -5.773476440643828, -5.773476440643828, -5.773476440643828, -5.773476440643828, -5.773476440643828, -5.773476440643828, -5.773476440643828, -5.773476440643828, -5.773476440643828, -5.773476440643828, -5.773476440643828, -5.773476440643828, -5.773476440643828], [-5.483464457533306, -5.483464457533306, -5.483464457533306, -5.483464457533306, -5.483464457533306, -5.483464457533306, -5.483464457533306, -5.483464457533306, -5.483464457533306, -5.483464457533306, -5.483464457533306, -5.483464457533306, -5.483464457533306, -5.483464457533306, -5.483464457533306, -5.483464457533306, -5.483464457533306, -5.483464457533306, -5.483464457533306, -5.483464457533306, -5.483464457533306, -5.483464457533306, -5.483464457533306, -5.483464457533306, -5.483464457533306, -5.483464457533306, -5.483464457533306, -5.483464457533306, -5.483464457533306, -5.483464457533306], [-5.193452474422784, -5.193452474422784, -5.193452474422784, -5.193452474422784, -5.193452474422784, -5.193452474422784, -5.193452474422784, -5.193452474422784, -5.193452474422784, -5.193452474422784, -5.193452474422784, -5.193452474422784, -5.193452474422784, -5.193452474422784, -5.193452474422784, -5.193452474422784, -5.193452474422784, -5.193452474422784, -5.193452474422784, -5.193452474422784, -5.193452474422784, -5.193452474422784, -5.193452474422784, -5.193452474422784, -5.193452474422784, -5.193452474422784, -5.193452474422784, -5.193452474422784, -5.193452474422784, -5.193452474422784], [-4.903440491312262, -4.903440491312262, -4.903440491312262, -4.903440491312262, -4.903440491312262, -4.903440491312262, -4.903440491312262, -4.903440491312262, -4.903440491312262, -4.903440491312262, -4.903440491312262, -4.903440491312262, -4.903440491312262, -4.903440491312262, -4.903440491312262, -4.903440491312262, -4.903440491312262, -4.903440491312262, -4.903440491312262, -4.903440491312262, -4.903440491312262, -4.903440491312262, -4.903440491312262, -4.903440491312262, -4.903440491312262, -4.903440491312262, -4.903440491312262, -4.903440491312262, -4.903440491312262, -4.903440491312262], [-4.613428508201739, -4.613428508201739, -4.613428508201739, -4.613428508201739, -4.613428508201739, -4.613428508201739, -4.613428508201739, -4.613428508201739, -4.613428508201739, -4.613428508201739, -4.613428508201739, -4.613428508201739, -4.613428508201739, -4.613428508201739, -4.613428508201739, -4.613428508201739, -4.613428508201739, -4.613428508201739, -4.613428508201739, -4.613428508201739, -4.613428508201739, -4.613428508201739, -4.613428508201739, -4.613428508201739, -4.613428508201739, -4.613428508201739, -4.613428508201739, -4.613428508201739, -4.613428508201739, -4.613428508201739], [-4.3234165250912175, -4.3234165250912175, -4.3234165250912175, -4.3234165250912175, -4.3234165250912175, -4.3234165250912175, -4.3234165250912175, -4.3234165250912175, -4.3234165250912175, -4.3234165250912175, -4.3234165250912175, -4.3234165250912175, -4.3234165250912175, -4.3234165250912175, -4.3234165250912175, -4.3234165250912175, -4.3234165250912175, -4.3234165250912175, -4.3234165250912175, -4.3234165250912175, -4.3234165250912175, -4.3234165250912175, -4.3234165250912175, -4.3234165250912175, -4.3234165250912175, -4.3234165250912175, -4.3234165250912175, -4.3234165250912175, -4.3234165250912175, -4.3234165250912175], [-4.033404541980696, -4.033404541980696, -4.033404541980696, -4.033404541980696, -4.033404541980696, -4.033404541980696, -4.033404541980696, -4.033404541980696, -4.033404541980696, -4.033404541980696, -4.033404541980696, -4.033404541980696, -4.033404541980696, -4.033404541980696, -4.033404541980696, -4.033404541980696, -4.033404541980696, -4.033404541980696, -4.033404541980696, -4.033404541980696, -4.033404541980696, -4.033404541980696, -4.033404541980696, -4.033404541980696, -4.033404541980696, -4.033404541980696, -4.033404541980696, -4.033404541980696, -4.033404541980696, -4.033404541980696], [-3.7433925588701733, -3.7433925588701733, -3.7433925588701733, -3.7433925588701733, -3.7433925588701733, -3.7433925588701733, -3.7433925588701733, -3.7433925588701733, -3.7433925588701733, -3.7433925588701733, -3.7433925588701733, -3.7433925588701733, -3.7433925588701733, -3.7433925588701733, -3.7433925588701733, -3.7433925588701733, -3.7433925588701733, -3.7433925588701733, -3.7433925588701733, -3.7433925588701733, -3.7433925588701733, -3.7433925588701733, -3.7433925588701733, -3.7433925588701733, -3.7433925588701733, -3.7433925588701733, -3.7433925588701733, -3.7433925588701733, -3.7433925588701733, -3.7433925588701733], [-3.4533805757596507, -3.4533805757596507, -3.4533805757596507, -3.4533805757596507, -3.4533805757596507, -3.4533805757596507, -3.4533805757596507, -3.4533805757596507, -3.4533805757596507, -3.4533805757596507, -3.4533805757596507, -3.4533805757596507, -3.4533805757596507, -3.4533805757596507, -3.4533805757596507, -3.4533805757596507, -3.4533805757596507, -3.4533805757596507, -3.4533805757596507, -3.4533805757596507, -3.4533805757596507, -3.4533805757596507, -3.4533805757596507, -3.4533805757596507, -3.4533805757596507, -3.4533805757596507, -3.4533805757596507, -3.4533805757596507, -3.4533805757596507, -3.4533805757596507], [-3.163368592649129, -3.163368592649129, -3.163368592649129, -3.163368592649129, -3.163368592649129, -3.163368592649129, -3.163368592649129, -3.163368592649129, -3.163368592649129, -3.163368592649129, -3.163368592649129, -3.163368592649129, -3.163368592649129, -3.163368592649129, -3.163368592649129, -3.163368592649129, -3.163368592649129, -3.163368592649129, -3.163368592649129, -3.163368592649129, -3.163368592649129, -3.163368592649129, -3.163368592649129, -3.163368592649129, -3.163368592649129, -3.163368592649129, -3.163368592649129, -3.163368592649129, -3.163368592649129, -3.163368592649129], [-2.8733566095386074, -2.8733566095386074, -2.8733566095386074, -2.8733566095386074, -2.8733566095386074, -2.8733566095386074, -2.8733566095386074, -2.8733566095386074, -2.8733566095386074, -2.8733566095386074, -2.8733566095386074, -2.8733566095386074, -2.8733566095386074, -2.8733566095386074, -2.8733566095386074, -2.8733566095386074, -2.8733566095386074, -2.8733566095386074, -2.8733566095386074, -2.8733566095386074, -2.8733566095386074, -2.8733566095386074, -2.8733566095386074, -2.8733566095386074, -2.8733566095386074, -2.8733566095386074, -2.8733566095386074, -2.8733566095386074, -2.8733566095386074, -2.8733566095386074], [-2.583344626428085, -2.583344626428085, -2.583344626428085, -2.583344626428085, -2.583344626428085, -2.583344626428085, -2.583344626428085, -2.583344626428085, -2.583344626428085, -2.583344626428085, -2.583344626428085, -2.583344626428085, -2.583344626428085, -2.583344626428085, -2.583344626428085, -2.583344626428085, -2.583344626428085, -2.583344626428085, -2.583344626428085, -2.583344626428085, -2.583344626428085, -2.583344626428085, -2.583344626428085, -2.583344626428085, -2.583344626428085, -2.583344626428085, -2.583344626428085, -2.583344626428085, -2.583344626428085, -2.583344626428085], [-2.2933326433175623, -2.2933326433175623, -2.2933326433175623, -2.2933326433175623, -2.2933326433175623, -2.2933326433175623, -2.2933326433175623, -2.2933326433175623, -2.2933326433175623, -2.2933326433175623, -2.2933326433175623, -2.2933326433175623, -2.2933326433175623, -2.2933326433175623, -2.2933326433175623, -2.2933326433175623, -2.2933326433175623, -2.2933326433175623, -2.2933326433175623, -2.2933326433175623, -2.2933326433175623, -2.2933326433175623, -2.2933326433175623, -2.2933326433175623, -2.2933326433175623, -2.2933326433175623, -2.2933326433175623, -2.2933326433175623, -2.2933326433175623, -2.2933326433175623], [-2.0033206602070406, -2.0033206602070406, -2.0033206602070406, -2.0033206602070406, -2.0033206602070406, -2.0033206602070406, -2.0033206602070406, -2.0033206602070406, -2.0033206602070406, -2.0033206602070406, -2.0033206602070406, -2.0033206602070406, -2.0033206602070406, -2.0033206602070406, -2.0033206602070406, -2.0033206602070406, -2.0033206602070406, -2.0033206602070406, -2.0033206602070406, -2.0033206602070406, -2.0033206602070406, -2.0033206602070406, -2.0033206602070406, -2.0033206602070406, -2.0033206602070406, -2.0033206602070406, -2.0033206602070406, -2.0033206602070406, -2.0033206602070406, -2.0033206602070406], [-1.713308677096519, -1.713308677096519, -1.713308677096519, -1.713308677096519, -1.713308677096519, -1.713308677096519, -1.713308677096519, -1.713308677096519, -1.713308677096519, -1.713308677096519, -1.713308677096519, -1.713308677096519, -1.713308677096519, -1.713308677096519, -1.713308677096519, -1.713308677096519, -1.713308677096519, -1.713308677096519, -1.713308677096519, -1.713308677096519, -1.713308677096519, -1.713308677096519, -1.713308677096519, -1.713308677096519, -1.713308677096519, -1.713308677096519, -1.713308677096519, -1.713308677096519, -1.713308677096519, -1.713308677096519], [-1.4232966939859963, -1.4232966939859963, -1.4232966939859963, -1.4232966939859963, -1.4232966939859963, -1.4232966939859963, -1.4232966939859963, -1.4232966939859963, -1.4232966939859963, -1.4232966939859963, -1.4232966939859963, -1.4232966939859963, -1.4232966939859963, -1.4232966939859963, -1.4232966939859963, -1.4232966939859963, -1.4232966939859963, -1.4232966939859963, -1.4232966939859963, -1.4232966939859963, -1.4232966939859963, -1.4232966939859963, -1.4232966939859963, -1.4232966939859963, -1.4232966939859963, -1.4232966939859963, -1.4232966939859963, -1.4232966939859963, -1.4232966939859963, -1.4232966939859963], [-1.133284710875473, -1.133284710875473, -1.133284710875473, -1.133284710875473, -1.133284710875473, -1.133284710875473, -1.133284710875473, -1.133284710875473, -1.133284710875473, -1.133284710875473, -1.133284710875473, -1.133284710875473, -1.133284710875473, -1.133284710875473, -1.133284710875473, -1.133284710875473, -1.133284710875473, -1.133284710875473, -1.133284710875473, -1.133284710875473, -1.133284710875473, -1.133284710875473, -1.133284710875473, -1.133284710875473, -1.133284710875473, -1.133284710875473, -1.133284710875473, -1.133284710875473, -1.133284710875473, -1.133284710875473]], \"z\": [[-3.4791295604488686, -3.53321016642088, -3.587290772392892, -3.641371378364904, -3.6954519843369162, -3.749532590308928, -3.80361319628094, -3.857693802252952, -3.911774408224964, -3.965855014196976, -4.0199356201689875, -4.074016226141, -4.128096832113012, -4.182177438085024, -4.236258044057036, -4.290338650029048, -4.34441925600106, -4.398499861973071, -4.452580467945083, -4.506661073917095, -4.560741679889107, -4.614822285861119, -4.668902891833131, -4.722983497805143, -4.777064103777155, -4.831144709749167, -4.885225315721179, -4.93930592169319, -4.993386527665202, -5.047467133637214], [-3.325336636914215, -3.3794172428862272, -3.433497848858239, -3.487578454830251, -3.541659060802263, -3.595739666774275, -3.649820272746287, -3.7039008787182985, -3.7579814846903106, -3.8120620906623226, -3.8661426966343346, -3.9202233026063467, -3.9743039085783582, -4.02838451455037, -4.082465120522382, -4.136545726494394, -4.190626332466406, -4.244706938438418, -4.29878754441043, -4.352868150382442, -4.406948756354454, -4.461029362326466, -4.515109968298478, -4.56919057427049, -4.623271180242502, -4.677351786214514, -4.731432392186526, -4.785512998158538, -4.839593604130549, -4.893674210102561], [-3.171543713379563, -3.2256243193515752, -3.2797049253235873, -3.3337855312955993, -3.387866137267611, -3.441946743239623, -3.496027349211635, -3.550107955183647, -3.604188561155659, -3.6582691671276706, -3.7123497730996826, -3.7664303790716946, -3.8205109850437067, -3.8745915910157187, -3.9286721969877303, -3.9827528029597423, -4.036833408931754, -4.090914014903766, -4.144994620875778, -4.19907522684779, -4.253155832819802, -4.307236438791814, -4.361317044763826, -4.415397650735838, -4.46947825670785, -4.523558862679862, -4.577639468651873, -4.631720074623885, -4.685800680595897, -4.739881286567909], [-3.0177507898449103, -3.071831395816922, -3.125912001788934, -3.179992607760946, -3.234073213732958, -3.28815381970497, -3.3422344256769816, -3.3963150316489936, -3.4503956376210057, -3.5044762435930177, -3.5585568495650297, -3.6126374555370413, -3.6667180615090533, -3.7207986674810654, -3.7748792734530774, -3.8289598794250894, -3.883040485397101, -3.937121091369113, -3.991201697341125, -4.045282303313137, -4.099362909285149, -4.153443515257161, -4.207524121229173, -4.261604727201185, -4.315685333173197, -4.369765939145209, -4.423846545117221, -4.477927151089232, -4.532007757061244, -4.586088363033256], [-2.863957866310257, -2.918038472282269, -2.972119078254281, -3.0261996842262926, -3.0802802901983046, -3.1343608961703167, -3.1884415021423287, -3.2425221081143407, -3.2966027140863523, -3.3506833200583643, -3.4047639260303764, -3.4588445320023884, -3.5129251379744, -3.567005743946412, -3.621086349918424, -3.675166955890436, -3.729247561862448, -3.7833281678344597, -3.8374087738064717, -3.8914893797784837, -3.945569985750496, -3.999650591722508, -4.053731197694519, -4.107811803666531, -4.1618924096385435, -4.2159730156105555, -4.2700536215825675, -4.3241342275545795, -4.378214833526592, -4.432295439498603], [-2.7101649427756036, -2.7642455487476156, -2.8183261547196277, -2.8724067606916397, -2.9264873666636517, -2.9805679726356633, -3.0346485786076753, -3.0887291845796874, -3.1428097905516994, -3.196890396523711, -3.250971002495723, -3.305051608467735, -3.359132214439747, -3.413212820411759, -3.4672934263837707, -3.5213740323557827, -3.5754546383277948, -3.629535244299807, -3.683615850271819, -3.7376964562438304, -3.7917770622158424, -3.8458576681878545, -3.8999382741598665, -3.9540188801318785, -4.00809948610389, -4.062180092075902, -4.116260698047914, -4.170341304019926, -4.224421909991938, -4.27850251596395], [-2.5563720192409507, -2.6104526252129627, -2.6645332311849743, -2.7186138371569863, -2.7726944431289984, -2.8267750491010104, -2.880855655073022, -2.934936261045034, -2.989016867017046, -3.043097472989058, -3.09717807896107, -3.1512586849330817, -3.2053392909050937, -3.2594198968771058, -3.313500502849118, -3.36758110882113, -3.4216617147931414, -3.4757423207651534, -3.5298229267371655, -3.5839035327091775, -3.6379841386811895, -3.692064744653201, -3.746145350625213, -3.800225956597225, -3.854306562569237, -3.908387168541249, -3.962467774513261, -4.016548380485273, -4.070628986457285, -4.124709592429297], [-2.4025790957062982, -2.45665970167831, -2.510740307650322, -2.564820913622334, -2.618901519594346, -2.672982125566358, -2.7270627315383695, -2.7811433375103816, -2.8352239434823936, -2.8893045494544056, -2.9433851554264177, -2.9974657613984292, -3.0515463673704413, -3.1056269733424533, -3.1597075793144653, -3.213788185286477, -3.267868791258489, -3.321949397230501, -3.376030003202513, -3.430110609174525, -3.4841912151465366, -3.5382718211185487, -3.5923524270905607, -3.6464330330625727, -3.7005136390345847, -3.7545942450065963, -3.8086748509786084, -3.8627554569506204, -3.9168360629226324, -3.9709166688946445], [-2.248786172171645, -2.302866778143657, -2.356947384115669, -2.4110279900876805, -2.4651085960596926, -2.5191892020317046, -2.5732698080037166, -2.6273504139757287, -2.6814310199477402, -2.7355116259197523, -2.7895922318917643, -2.8436728378637763, -2.897753443835788, -2.9518340498078, -3.005914655779812, -3.059995261751824, -3.114075867723836, -3.1681564736958476, -3.2222370796678597, -3.2763176856398717, -3.3303982916118837, -3.3844788975838958, -3.4385595035559073, -3.4926401095279194, -3.5467207154999314, -3.6008013214719434, -3.654881927443955, -3.708962533415967, -3.763043139387979, -3.817123745359991], [-2.0949932486369915, -2.1490738546090036, -2.2031544605810156, -2.2572350665530276, -2.3113156725250392, -2.3653962784970513, -2.4194768844690633, -2.4735574904410753, -2.5276380964130873, -2.581718702385099, -2.635799308357111, -2.689879914329123, -2.743960520301135, -2.798041126273147, -2.8521217322451586, -2.9062023382171707, -2.9602829441891827, -3.0143635501611947, -3.0684441561332068, -3.1225247621052183, -3.1766053680772304, -3.2306859740492424, -3.2847665800212544, -3.338847185993266, -3.392927791965278, -3.44700839793729, -3.501089003909302, -3.555169609881314, -3.6092502158533257, -3.6633308218253378], [-1.9412003251023384, -1.9952809310743505, -2.0493615370463623, -2.1034421430183743, -2.1575227489903863, -2.2116033549623983, -2.26568396093441, -2.319764566906422, -2.373845172878434, -2.427925778850446, -2.482006384822458, -2.5360869907944696, -2.5901675967664817, -2.6442482027384937, -2.6983288087105057, -2.7524094146825178, -2.8064900206545293, -2.8605706266265414, -2.9146512325985534, -2.9687318385705654, -3.022812444542577, -3.076893050514589, -3.130973656486601, -3.185054262458613, -3.239134868430625, -3.2932154744026367, -3.3472960803746488, -3.401376686346661, -3.455457292318673, -3.509537898290685], [-1.787407401567686, -1.841488007539698, -1.8955686135117098, -1.9496492194837218, -2.003729825455734, -2.057810431427746, -2.1118910373997575, -2.1659716433717695, -2.2200522493437815, -2.2741328553157936, -2.328213461287805, -2.382294067259817, -2.436374673231829, -2.4904552792038412, -2.5445358851758533, -2.598616491147865, -2.652697097119877, -2.706777703091889, -2.760858309063901, -2.814938915035913, -2.8690195210079246, -2.9231001269799366, -2.9771807329519486, -3.0312613389239607, -3.0853419448959727, -3.1394225508679843, -3.1935031568399963, -3.2475837628120083, -3.3016643687840204, -3.355744974756032], [-1.6336144780330328, -1.6876950840050446, -1.7417756899770567, -1.7958562959490687, -1.8499369019210805, -1.9040175078930925, -1.9580981138651044, -2.012178719837116, -2.066259325809128, -2.12033993178114, -2.1744205377531522, -2.2285011437251643, -2.282581749697176, -2.336662355669188, -2.3907429616412, -2.444823567613212, -2.498904173585224, -2.5529847795572356, -2.6070653855292476, -2.6611459915012596, -2.7152265974732717, -2.7693072034452837, -2.8233878094172953, -2.8774684153893073, -2.9315490213613193, -2.9856296273333314, -3.039710233305343, -3.093790839277355, -3.147871445249367, -3.201952051221379], [-1.4798215544983797, -1.5339021604703915, -1.5879827664424035, -1.6420633724144154, -1.6961439783864274, -1.7502245843584392, -1.8043051903304512, -1.8583857963024633, -1.912466402274475, -1.966547008246487, -2.020627614218499, -2.074708220190511, -2.128788826162523, -2.182869432134535, -2.2369500381065466, -2.2910306440785586, -2.3451112500505706, -2.3991918560225827, -2.4532724619945943, -2.5073530679666063, -2.5614336739386183, -2.6155142799106303, -2.6695948858826424, -2.723675491854654, -2.777756097826666, -2.831836703798678, -2.88591730977069, -2.939997915742702, -2.9940785217147137, -3.0481591276867257], [-1.3260286309637268, -1.3801092369357386, -1.4341898429077506, -1.4882704488797627, -1.5423510548517745, -1.5964316608237865, -1.6505122667957983, -1.7045928727678104, -1.7586734787398222, -1.8127540847118342, -1.8668346906838462, -1.920915296655858, -1.97499590262787, -2.029076508599882, -2.0831571145718937, -2.1372377205439057, -2.1913183265159177, -2.2453989324879298, -2.299479538459942, -2.3535601444319534, -2.4076407504039654, -2.4617213563759774, -2.5158019623479895, -2.5698825683200015, -2.623963174292013, -2.678043780264025, -2.732124386236037, -2.786204992208049, -2.840285598180061, -2.894366204152073], [-1.172235707429074, -1.226316313401086, -1.2803969193730977, -1.3344775253451098, -1.3885581313171216, -1.4426387372891336, -1.4967193432611456, -1.5507999492331574, -1.6048805552051695, -1.6589611611771813, -1.7130417671491933, -1.7671223731212051, -1.8212029790932172, -1.8752835850652292, -1.929364191037241, -1.983444797009253, -2.037525402981265, -2.091606008953277, -2.145686614925289, -2.199767220897301, -2.2538478268693125, -2.3079284328413245, -2.3620090388133366, -2.4160896447853486, -2.47017025075736, -2.524250856729372, -2.5783314627013842, -2.6324120686733963, -2.6864926746454083, -2.74057328061742], [-1.0184427838944208, -1.0725233898664326, -1.1266039958384446, -1.1806846018104566, -1.2347652077824685, -1.2888458137544805, -1.3429264197264923, -1.3970070256985043, -1.4510876316705161, -1.5051682376425282, -1.5592488436145402, -1.613329449586552, -1.667410055558564, -1.7214906615305758, -1.7755712675025879, -1.8296518734745997, -1.8837324794466117, -1.9378130854186237, -1.9918936913906355, -2.0459742973626476, -2.1000549033346596, -2.154135509306671, -2.2082161152786832, -2.2622967212506953, -2.3163773272227073, -2.3704579331947193, -2.424538539166731, -2.478619145138743, -2.532699751110755, -2.586780357082767], [-0.8646498603597675, -0.9187304663317795, -0.9728110723037914, -1.0268916782758033, -1.0809722842478153, -1.1350528902198271, -1.1891334961918392, -1.2432141021638512, -1.297294708135863, -1.351375314107875, -1.4054559200798868, -1.4595365260518989, -1.5136171320239107, -1.5676977379959227, -1.6217783439679347, -1.6758589499399466, -1.7299395559119586, -1.7840201618839704, -1.8381007678559824, -1.8921813738279942, -1.9462619798000063, -2.0003425857720183, -2.0544231917440303, -2.108503797716042, -2.162584403688054, -2.216665009660066, -2.270745615632078, -2.32482622160409, -2.3789068275761016, -2.4329874335481136], [-0.7108569368251147, -0.7649375427971267, -0.8190181487691386, -0.8730987547411505, -0.9271793607131624, -0.9812599666851743, -1.0353405726571863, -1.0894211786291983, -1.14350178460121, -1.1975823905732221, -1.2516629965452342, -1.305743602517246, -1.359824208489258, -1.4139048144612698, -1.4679854204332818, -1.5220660264052936, -1.5761466323773057, -1.6302272383493177, -1.6843078443213295, -1.7383884502933415, -1.7924690562653534, -1.8465496622373654, -1.9006302682093772, -1.9547108741813892, -2.008791480153401, -2.062872086125413, -2.116952692097425, -2.171033298069437, -2.2251139040414487, -2.2791945100134607], [-0.5570640132904618, -0.6111446192624738, -0.6652252252344857, -0.7193058312064977, -0.7733864371785095, -0.8274670431505216, -0.8815476491225335, -0.9356282550945454, -0.9897088610665573, -1.0437894670385692, -1.0978700730105813, -1.151950678982593, -1.206031284954605, -1.2601118909266171, -1.314192496898629, -1.368273102870641, -1.4223537088426528, -1.4764343148146648, -1.5305149207866766, -1.5845955267586886, -1.6386761327307007, -1.6927567387027125, -1.7468373446747245, -1.8009179506467363, -1.8549985566187484, -1.9090791625907602, -1.9631597685627722, -2.017240374534784, -2.0713209805067962, -2.125401586478808], [-0.40327108975580866, -0.4573516957278206, -0.5114323016998326, -0.5655129076718445, -0.6195935136438563, -0.6736741196158683, -0.7277547255878802, -0.7818353315598922, -0.8359159375319042, -0.8899965435039161, -0.944077149475928, -0.9981577554479399, -1.052238361419952, -1.1063189673919638, -1.1603995733639758, -1.2144801793359876, -1.2685607853079996, -1.3226413912800117, -1.3767219972520235, -1.4308026032240355, -1.4848832091960473, -1.5389638151680594, -1.5930444211400712, -1.6471250271120832, -1.7012056330840952, -1.755286239056107, -1.809366845028119, -1.8634474510001309, -1.917528056972143, -1.9716086629441547], [-0.24947816622115546, -0.3035587721931674, -0.3576393781651793, -0.4117199841371913, -0.4658005901092031, -0.5198811960812152, -0.5739618020532271, -0.6280424080252389, -0.682123013997251, -0.7362036199692629, -0.7902842259412748, -0.8443648319132868, -0.8984454378852987, -0.9525260438573107, -1.0066066498293225, -1.0606872558013345, -1.1147678617733465, -1.1688484677453583, -1.2229290737173704, -1.2770096796893822, -1.3310902856613942, -1.3851708916334062, -1.439251497605418, -1.49333210357743, -1.547412709549442, -1.601493315521454, -1.6555739214934657, -1.7096545274654777, -1.7637351334374898, -1.8178157394095016], [-0.09568524268650262, -0.14976584865851456, -0.2038464546305265, -0.25792706060253845, -0.31200766657455026, -0.3660882725465623, -0.42016887851857426, -0.47424948449058607, -0.5283300904625982, -0.5824106964346101, -0.636491302406622, -0.6905719083786339, -0.7446525143506458, -0.7987331203226578, -0.8528137262946698, -0.9068943322666817, -0.9609749382386936, -1.0150555442107054, -1.0691361501827175, -1.1232167561547295, -1.1772973621267413, -1.2313779680987533, -1.2854585740707651, -1.3395391800427772, -1.3936197860147892, -1.447700391986801, -1.501780997958813, -1.5558616039308248, -1.6099422099028369, -1.6640228158748487], [0.05810768084814988, 0.00402707487613794, -0.050053531095873995, -0.10413413706788593, -0.15821474303989777, -0.2122953490119098, -0.26637595498392175, -0.3204565609559336, -0.3745371669279456, -0.42861777289995756, -0.4826983788719695, -0.5367789848439815, -0.5908595908159934, -0.6449401967880053, -0.6990208027600172, -0.7531014087320291, -0.807182014704041, -0.8612626206760531, -0.915343226648065, -0.9694238326200769, -1.0235044385920888, -1.0775850445641009, -1.1316656505361127, -1.1857462565081247, -1.2398268624801367, -1.2939074684521485, -1.3479880744241606, -1.4020686803961724, -1.4561492863681844, -1.5102298923401962], [0.21190060438280314, 0.15781999841079122, 0.10373939243877929, 0.04965878646676735, -0.004421819505244502, -0.05850242547725652, -0.11258303144926846, -0.16666363742128032, -0.22074424339329232, -0.27482484936530427, -0.3289054553373162, -0.38298606130932816, -0.43706666728134014, -0.491147273253352, -0.545227879225364, -0.5993084851973759, -0.6533890911693878, -0.7074696971413996, -0.7615503031134118, -0.8156309090854237, -0.8697115150574355, -0.9237921210294476, -0.9778727270014596, -1.0319533329734714, -1.0860339389454834, -1.1401145449174954, -1.1941951508895072, -1.2482757568615193, -1.302356362833531, -1.356436968805543], [0.36569352791745635, 0.31161292194544443, 0.25753231597343246, 0.20345171000142054, 0.1493711040294087, 0.09529049805739667, 0.04120989208538473, -0.012870713886627118, -0.06695131985863914, -0.12103192583065107, -0.17511253180266298, -0.22919313777467495, -0.2832737437466869, -0.3373543497186988, -0.39143495569071074, -0.4455155616627227, -0.49959616763473463, -0.5536767736067465, -0.6077573795787586, -0.6618379855507704, -0.7159185915227824, -0.7699991974947944, -0.8240798034668063, -0.8781604094388182, -0.9322410154108302, -0.9863216213828422, -1.040402227354854, -1.094482833326866, -1.148563439298878, -1.20264404527089], [0.5194864514521091, 0.4654058454800973, 0.4113252395080853, 0.3572446335360734, 0.3031640275640615, 0.24908342159204952, 0.19500281562003757, 0.14092220964802574, 0.0868416036760137, 0.03276099770400177, -0.021319608268010125, -0.0754002142400221, -0.12948082021203408, -0.18356142618404597, -0.23764203215605792, -0.29172263812806987, -0.3458032441000818, -0.39988385007209365, -0.45396445604410574, -0.5080450620161175, -0.5621256679881296, -0.6162062739601416, -0.6702868799321535, -0.7243674859041653, -0.7784480918761774, -0.8325286978481893, -0.8866093038202012, -0.9406899097922131, -0.9947705157642251, -1.048851121736237], [0.6732793749867618, 0.6191987690147499, 0.565118163042738, 0.5110375570707261, 0.4569569510987142, 0.4028763451267022, 0.34879573915469025, 0.2947151331826784, 0.2406345272106664, 0.18655392123865444, 0.13247331526664255, 0.07839270929463056, 0.02431210332261859, -0.029768502649393305, -0.08384910862140527, -0.13792971459341716, -0.1920103205654291, -0.246090926537441, -0.30017153250945305, -0.3542521384814649, -0.40833274445347684, -0.46241335042548887, -0.5164939563975008, -0.5705745623695127, -0.6246551683415247, -0.6787357743135366, -0.7328163802855485, -0.7868969862575603, -0.8409775922295725, -0.8950581982015842], [0.8270722985214152, 0.7729916925494033, 0.7189110865773912, 0.6648304806053793, 0.6107498746333675, 0.5566692686613555, 0.5025886626893435, 0.4485080567173317, 0.39442745074531965, 0.34034684477330773, 0.2862662388012958, 0.23218563282928384, 0.17810502685727186, 0.12402442088525997, 0.06994381491324801, 0.015863208941236124, -0.03821739703077585, -0.09229800300278773, -0.1463786089747998, -0.20045921494681165, -0.2545398209188236, -0.3086204268908356, -0.3627010328628475, -0.4167816388348594, -0.4708622448068715, -0.5249428507788834, -0.5790234567508952, -0.6331040627229071, -0.6871846686949191, -0.741265274666931], [0.9808652220560689, 0.9267846160840569, 0.872704010112045, 0.8186234041400331, 0.7645427981680212, 0.7104621921960091, 0.6563815862239972, 0.6023009802519854, 0.5482203742799734, 0.4941397683079614, 0.4400591623359495, 0.3859785563639376, 0.3318979503919256, 0.2778173444199137, 0.22373673844790176, 0.16965613247588984, 0.11557552650387788, 0.06149492053186599, 0.007414314559853922, -0.04666629141215795, -0.10074689738416984, -0.1548275033561819, -0.2089081093281938, -0.2629887153002057, -0.31706932127221776, -0.3711499272442296, -0.4252305332162415, -0.4793111391882534, -0.5333917451602654, -0.5874723511322772]]}, {\"line\": {\"width\": 6}, \"marker\": {\"size\": 1}, \"showlegend\": false, \"type\": \"scatter3d\", \"x\": [-1.59821873248412, -0.3517455224799011], \"y\": [-1.752368088371606, 0.8996269325722317], \"z\": [-2.8443570200998987, -1.6964538080071134]}, {\"line\": {\"width\": 6}, \"marker\": {\"size\": 1}, \"showlegend\": false, \"type\": \"scatter3d\", \"x\": [-0.5415872984195823, -0.16047474978415913], \"y\": [-2.5864049413688104, 0.4104313990574498], \"z\": [-2.2841602985608693, -0.7739629446907352]}, {\"line\": {\"width\": 6}, \"marker\": {\"size\": 1}, \"showlegend\": false, \"type\": \"scatter3d\", \"x\": [-2.6435542503000073, -0.3893554508842678], \"y\": [-2.2908149558331123, 0.9958183617797352], \"z\": [-3.153352381649631, -1.8778449052146369]}],                        {\"autosize\": true, \"height\": 800, \"margin\": {\"b\": 10, \"l\": 10, \"pad\": 4, \"r\": 10, \"t\": 10}, \"paper_bgcolor\": \"White\", \"scene\": {\"aspectmode\": \"data\", \"camera\": {\"eye\": {\"x\": 1, \"y\": 1, \"z\": 1}}}, \"template\": {\"data\": {\"bar\": [{\"error_x\": {\"color\": \"#2a3f5f\"}, \"error_y\": {\"color\": \"#2a3f5f\"}, \"marker\": {\"line\": {\"color\": \"#E5ECF6\", \"width\": 0.5}}, \"type\": \"bar\"}], \"barpolar\": [{\"marker\": {\"line\": {\"color\": \"#E5ECF6\", \"width\": 0.5}}, \"type\": \"barpolar\"}], \"carpet\": [{\"aaxis\": {\"endlinecolor\": \"#2a3f5f\", \"gridcolor\": \"white\", \"linecolor\": \"white\", \"minorgridcolor\": \"white\", \"startlinecolor\": \"#2a3f5f\"}, \"baxis\": {\"endlinecolor\": \"#2a3f5f\", \"gridcolor\": \"white\", \"linecolor\": \"white\", \"minorgridcolor\": \"white\", \"startlinecolor\": \"#2a3f5f\"}, \"type\": \"carpet\"}], \"choropleth\": [{\"colorbar\": {\"outlinewidth\": 0, \"ticks\": \"\"}, \"type\": \"choropleth\"}], \"contour\": [{\"colorbar\": {\"outlinewidth\": 0, \"ticks\": \"\"}, \"colorscale\": [[0.0, \"#0d0887\"], [0.1111111111111111, \"#46039f\"], [0.2222222222222222, \"#7201a8\"], [0.3333333333333333, \"#9c179e\"], [0.4444444444444444, \"#bd3786\"], [0.5555555555555556, \"#d8576b\"], [0.6666666666666666, \"#ed7953\"], [0.7777777777777778, \"#fb9f3a\"], [0.8888888888888888, \"#fdca26\"], [1.0, \"#f0f921\"]], \"type\": \"contour\"}], \"contourcarpet\": [{\"colorbar\": {\"outlinewidth\": 0, \"ticks\": \"\"}, \"type\": \"contourcarpet\"}], \"heatmap\": [{\"colorbar\": {\"outlinewidth\": 0, \"ticks\": \"\"}, \"colorscale\": [[0.0, \"#0d0887\"], [0.1111111111111111, \"#46039f\"], [0.2222222222222222, \"#7201a8\"], [0.3333333333333333, \"#9c179e\"], [0.4444444444444444, \"#bd3786\"], [0.5555555555555556, \"#d8576b\"], [0.6666666666666666, \"#ed7953\"], [0.7777777777777778, \"#fb9f3a\"], [0.8888888888888888, \"#fdca26\"], [1.0, \"#f0f921\"]], \"type\": \"heatmap\"}], \"heatmapgl\": [{\"colorbar\": {\"outlinewidth\": 0, \"ticks\": \"\"}, \"colorscale\": [[0.0, \"#0d0887\"], [0.1111111111111111, \"#46039f\"], [0.2222222222222222, \"#7201a8\"], [0.3333333333333333, \"#9c179e\"], [0.4444444444444444, \"#bd3786\"], [0.5555555555555556, \"#d8576b\"], [0.6666666666666666, \"#ed7953\"], [0.7777777777777778, \"#fb9f3a\"], [0.8888888888888888, \"#fdca26\"], [1.0, \"#f0f921\"]], \"type\": \"heatmapgl\"}], \"histogram\": [{\"marker\": {\"colorbar\": {\"outlinewidth\": 0, \"ticks\": \"\"}}, \"type\": \"histogram\"}], \"histogram2d\": [{\"colorbar\": {\"outlinewidth\": 0, \"ticks\": \"\"}, \"colorscale\": [[0.0, \"#0d0887\"], [0.1111111111111111, \"#46039f\"], [0.2222222222222222, \"#7201a8\"], [0.3333333333333333, \"#9c179e\"], [0.4444444444444444, \"#bd3786\"], [0.5555555555555556, \"#d8576b\"], [0.6666666666666666, \"#ed7953\"], [0.7777777777777778, \"#fb9f3a\"], [0.8888888888888888, \"#fdca26\"], [1.0, \"#f0f921\"]], \"type\": \"histogram2d\"}], \"histogram2dcontour\": [{\"colorbar\": {\"outlinewidth\": 0, \"ticks\": \"\"}, \"colorscale\": [[0.0, \"#0d0887\"], [0.1111111111111111, \"#46039f\"], [0.2222222222222222, \"#7201a8\"], [0.3333333333333333, \"#9c179e\"], [0.4444444444444444, \"#bd3786\"], [0.5555555555555556, \"#d8576b\"], [0.6666666666666666, \"#ed7953\"], [0.7777777777777778, \"#fb9f3a\"], [0.8888888888888888, \"#fdca26\"], [1.0, \"#f0f921\"]], \"type\": \"histogram2dcontour\"}], \"mesh3d\": [{\"colorbar\": {\"outlinewidth\": 0, \"ticks\": \"\"}, \"type\": \"mesh3d\"}], \"parcoords\": [{\"line\": {\"colorbar\": {\"outlinewidth\": 0, \"ticks\": \"\"}}, \"type\": \"parcoords\"}], \"pie\": [{\"automargin\": true, \"type\": \"pie\"}], \"scatter\": [{\"marker\": {\"colorbar\": {\"outlinewidth\": 0, \"ticks\": \"\"}}, \"type\": \"scatter\"}], \"scatter3d\": [{\"line\": {\"colorbar\": {\"outlinewidth\": 0, \"ticks\": \"\"}}, \"marker\": {\"colorbar\": {\"outlinewidth\": 0, \"ticks\": \"\"}}, \"type\": \"scatter3d\"}], \"scattercarpet\": [{\"marker\": {\"colorbar\": {\"outlinewidth\": 0, \"ticks\": \"\"}}, \"type\": \"scattercarpet\"}], \"scattergeo\": [{\"marker\": {\"colorbar\": {\"outlinewidth\": 0, \"ticks\": \"\"}}, \"type\": \"scattergeo\"}], \"scattergl\": [{\"marker\": {\"colorbar\": {\"outlinewidth\": 0, \"ticks\": \"\"}}, \"type\": \"scattergl\"}], \"scattermapbox\": [{\"marker\": {\"colorbar\": {\"outlinewidth\": 0, \"ticks\": \"\"}}, \"type\": \"scattermapbox\"}], \"scatterpolar\": [{\"marker\": {\"colorbar\": {\"outlinewidth\": 0, \"ticks\": \"\"}}, \"type\": \"scatterpolar\"}], \"scatterpolargl\": [{\"marker\": {\"colorbar\": {\"outlinewidth\": 0, \"ticks\": \"\"}}, \"type\": \"scatterpolargl\"}], \"scatterternary\": [{\"marker\": {\"colorbar\": {\"outlinewidth\": 0, \"ticks\": \"\"}}, \"type\": \"scatterternary\"}], \"surface\": [{\"colorbar\": {\"outlinewidth\": 0, \"ticks\": \"\"}, \"colorscale\": [[0.0, \"#0d0887\"], [0.1111111111111111, \"#46039f\"], [0.2222222222222222, \"#7201a8\"], [0.3333333333333333, \"#9c179e\"], [0.4444444444444444, \"#bd3786\"], [0.5555555555555556, \"#d8576b\"], [0.6666666666666666, \"#ed7953\"], [0.7777777777777778, \"#fb9f3a\"], [0.8888888888888888, \"#fdca26\"], [1.0, \"#f0f921\"]], \"type\": \"surface\"}], \"table\": [{\"cells\": {\"fill\": {\"color\": \"#EBF0F8\"}, \"line\": {\"color\": \"white\"}}, \"header\": {\"fill\": {\"color\": \"#C8D4E3\"}, \"line\": {\"color\": \"white\"}}, \"type\": \"table\"}]}, \"layout\": {\"annotationdefaults\": {\"arrowcolor\": \"#2a3f5f\", \"arrowhead\": 0, \"arrowwidth\": 1}, \"autotypenumbers\": \"strict\", \"coloraxis\": {\"colorbar\": {\"outlinewidth\": 0, \"ticks\": \"\"}}, \"colorscale\": {\"diverging\": [[0, \"#8e0152\"], [0.1, \"#c51b7d\"], [0.2, \"#de77ae\"], [0.3, \"#f1b6da\"], [0.4, \"#fde0ef\"], [0.5, \"#f7f7f7\"], [0.6, \"#e6f5d0\"], [0.7, \"#b8e186\"], [0.8, \"#7fbc41\"], [0.9, \"#4d9221\"], [1, \"#276419\"]], \"sequential\": [[0.0, \"#0d0887\"], [0.1111111111111111, \"#46039f\"], [0.2222222222222222, \"#7201a8\"], [0.3333333333333333, \"#9c179e\"], [0.4444444444444444, \"#bd3786\"], [0.5555555555555556, \"#d8576b\"], [0.6666666666666666, \"#ed7953\"], [0.7777777777777778, \"#fb9f3a\"], [0.8888888888888888, \"#fdca26\"], [1.0, \"#f0f921\"]], \"sequentialminus\": [[0.0, \"#0d0887\"], [0.1111111111111111, \"#46039f\"], [0.2222222222222222, \"#7201a8\"], [0.3333333333333333, \"#9c179e\"], [0.4444444444444444, \"#bd3786\"], [0.5555555555555556, \"#d8576b\"], [0.6666666666666666, \"#ed7953\"], [0.7777777777777778, \"#fb9f3a\"], [0.8888888888888888, \"#fdca26\"], [1.0, \"#f0f921\"]]}, \"colorway\": [\"#636efa\", \"#EF553B\", \"#00cc96\", \"#ab63fa\", \"#FFA15A\", \"#19d3f3\", \"#FF6692\", \"#B6E880\", \"#FF97FF\", \"#FECB52\"], \"font\": {\"color\": \"#2a3f5f\"}, \"geo\": {\"bgcolor\": \"white\", \"lakecolor\": \"white\", \"landcolor\": \"#E5ECF6\", \"showlakes\": true, \"showland\": true, \"subunitcolor\": \"white\"}, \"hoverlabel\": {\"align\": \"left\"}, \"hovermode\": \"closest\", \"mapbox\": {\"style\": \"light\"}, \"paper_bgcolor\": \"white\", \"plot_bgcolor\": \"#E5ECF6\", \"polar\": {\"angularaxis\": {\"gridcolor\": \"white\", \"linecolor\": \"white\", \"ticks\": \"\"}, \"bgcolor\": \"#E5ECF6\", \"radialaxis\": {\"gridcolor\": \"white\", \"linecolor\": \"white\", \"ticks\": \"\"}}, \"scene\": {\"xaxis\": {\"backgroundcolor\": \"#E5ECF6\", \"gridcolor\": \"white\", \"gridwidth\": 2, \"linecolor\": \"white\", \"showbackground\": true, \"ticks\": \"\", \"zerolinecolor\": \"white\"}, \"yaxis\": {\"backgroundcolor\": \"#E5ECF6\", \"gridcolor\": \"white\", \"gridwidth\": 2, \"linecolor\": \"white\", \"showbackground\": true, \"ticks\": \"\", \"zerolinecolor\": \"white\"}, \"zaxis\": {\"backgroundcolor\": \"#E5ECF6\", \"gridcolor\": \"white\", \"gridwidth\": 2, \"linecolor\": \"white\", \"showbackground\": true, \"ticks\": \"\", \"zerolinecolor\": \"white\"}}, \"shapedefaults\": {\"line\": {\"color\": \"#2a3f5f\"}}, \"ternary\": {\"aaxis\": {\"gridcolor\": \"white\", \"linecolor\": \"white\", \"ticks\": \"\"}, \"baxis\": {\"gridcolor\": \"white\", \"linecolor\": \"white\", \"ticks\": \"\"}, \"bgcolor\": \"#E5ECF6\", \"caxis\": {\"gridcolor\": \"white\", \"linecolor\": \"white\", \"ticks\": \"\"}}, \"title\": {\"x\": 0.05}, \"xaxis\": {\"automargin\": true, \"gridcolor\": \"white\", \"linecolor\": \"white\", \"ticks\": \"\", \"title\": {\"standoff\": 15}, \"zerolinecolor\": \"white\", \"zerolinewidth\": 2}, \"yaxis\": {\"automargin\": true, \"gridcolor\": \"white\", \"linecolor\": \"white\", \"ticks\": \"\", \"title\": {\"standoff\": 15}, \"zerolinecolor\": \"white\", \"zerolinewidth\": 2}}}, \"width\": 1000},                        {\"responsive\": true}                    ).then(function(){\n",
       "                            \n",
       "var gd = document.getElementById('17f23499-7761-4ba4-9c0d-91c325b42f39');\n",
       "var x = new MutationObserver(function (mutations, observer) {{\n",
       "        var display = window.getComputedStyle(gd).display;\n",
       "        if (!display || display === 'none') {{\n",
       "            console.log([gd, 'removed!']);\n",
       "            Plotly.purge(gd);\n",
       "            observer.disconnect();\n",
       "        }}\n",
       "}});\n",
       "\n",
       "// Listen for the removal of the full notebook cells\n",
       "var notebookContainer = gd.closest('#notebook-container');\n",
       "if (notebookContainer) {{\n",
       "    x.observe(notebookContainer, {childList: true});\n",
       "}}\n",
       "\n",
       "// Listen for the clearing of the current output cell\n",
       "var outputEl = gd.closest('.output');\n",
       "if (outputEl) {{\n",
       "    x.observe(outputEl, {childList: true});\n",
       "}}\n",
       "\n",
       "                        })                };                });            </script>        </div>"
      ]
     },
     "metadata": {},
     "output_type": "display_data"
    }
   ],
   "source": [
    "with ThreeDFigure() as fig: #trafo, back_trafo, swap_axes=\"xz\"\n",
    "    plane_offset = decision_plane.project([0,0,0]) #point where plane == plane.normal (plane doesn't need to go through [0,0,0])\n",
    "    fig.add_markers([0,0,0], size=3, name=\"origin\") #coordinate center\n",
    "    fig.add_markers(plane_offset, name=\"plane_offset\", color=\"yellow\")\n",
    "    fig.add_line(plane_offset+decision_plane.normal*minneg, plane_offset+decision_plane.normal*maxpos, name=\"plane_normal\") \n",
    "    for point, side in zip(X, y):\n",
    "        if trafo(point)[0] in [minneg, maxneg, minpos, maxpos]:\n",
    "            fig.add_markers(point, color=\"blue\" if side else \"red\", name=\"d=\"+str(trafo(point)[0]), size=3)\n",
    "            fig.add_line(point, back_trafo([0, trafo(point)[1], trafo(point)[2]]), name=\"^ len_d\",)            \n",
    "            fig.add_line(point, ortho_projection_affine(point, decision_plane.normal), name=\"^ proj\")\n",
    "        else:\n",
    "            fig.add_markers(point, color=\"blue\" if side else \"red\", name=str(trafo(point)[0]), showlegend=False)\n",
    "    xx, yy = make_meshgrid(minx=minx, miny=miny, maxx=maxx, maxy=maxy, margin=0.1)\n",
    "    fig.add_surface(xx, yy, decision_plane.z) #decision hyperplane\n",
    "    fig.add_sample_projections(X, decision_plane.normal, n_samples=3, showlegend=False)"
   ]
  },
  {
   "cell_type": "code",
   "execution_count": null,
   "metadata": {},
   "outputs": [],
   "source": [
    "with ThreeDFigure(trafo, back_trafo, swap_axes=\"xz\") as fig:\n",
    "    fig.add_markers([0,0,0], size=3, name=\"origin (original space)\") #coordinate center\n",
    "    fig.add_markers(back_trafo([0,0,0]), size=3, name=\"origin (new space)\") #coordinate center\n",
    "    plane_offset = decision_plane.project([0,0,0]) #point where plane == plane.normal\n",
    "    fig.add_markers(plane_offset, name=\"plane_offset\", color=\"yellow\")\n",
    "    fig.add_line(plane_offset+decision_plane.normal*minneg, plane_offset+decision_plane.normal*maxpos, name=\"plane_normal\") \n",
    "    for point, side in zip(X, y):\n",
    "        if trafo(point)[0] in [minneg, maxneg, minpos, maxpos]:\n",
    "            fig.add_markers(point, color=\"blue\" if side else \"red\", name=\"d=\"+str(trafo(point)[0]), size=3)\n",
    "            fig.add_line(point, back_trafo([0, trafo(point)[1], trafo(point)[2]]), name=\"^ len_d\",)            \n",
    "            fig.add_line(point, ortho_projection_affine(point, decision_plane.normal), name=\"^ proj\")\n",
    "        else:\n",
    "            fig.add_markers(point, color=\"blue\" if side else \"red\", name=str(trafo(point)[0]), showlegend=False)\n",
    "    xx, yy = make_meshgrid(minx=minx, miny=miny, maxx=maxx, maxy=maxy, margin=0.1)\n",
    "    fig.add_surface(xx, yy, decision_plane.z) #decision hyperplane\n",
    "    fig.add_sample_projections(X, decision_plane.normal, n_samples=3, showlegend=False)"
   ]
  },
  {
   "cell_type": "markdown",
   "metadata": {},
   "source": [
    "## include support-vectors in drawing (taking other SVM class!)"
   ]
  },
  {
   "cell_type": "code",
   "execution_count": null,
   "metadata": {},
   "outputs": [],
   "source": [
    "X, y = make_blobs(n_samples=80, centers=2, random_state=6, n_features=3)\n",
    "model = svm.SVC(kernel='linear', C=1).fit(X, y)\n",
    "print(\"Coefficients:\", model.coef_, \"Intercept:\", model.intercept_)\n",
    "decision_plane = Plane(*model.coef_[0], model.intercept_[0])\n",
    "\n",
    "trafo, back_trafo = make_base_changer(decision_plane)\n",
    "\n",
    "onto_plane = np.array([back_trafo([0, trafo(point)[1], trafo(point)[2]]) for point, side in zip(X, y)])\n",
    "minx, miny = onto_plane.min(axis=0)[:2]\n",
    "maxx, maxy = onto_plane.max(axis=0)[:2]\n",
    "\n",
    "z_vals = [trafo(point)[0] for point in X]\n",
    "minneg, maxneg = min(z_vals), max([i for i in z_vals if i < 0])\n",
    "minpos, maxpos = min([i for i in z_vals if i > 0]), max(z_vals)\n",
    "\n",
    "\n",
    "with ThreeDFigure() as fig: #trafo, back_trafo, swap_axes=\"xz\":\n",
    "    fig.add_markers([0,0,0], size=3, name=\"origin (original space)\") #coordinate center\n",
    "    plane_offset = decision_plane.project([0,0,0]) #point where plane == plane.normal\n",
    "    fig.add_markers(plane_offset, name=\"plane_offset\", color=\"yellow\")\n",
    "    fig.add_line(plane_offset+decision_plane.normal*minneg, plane_offset+decision_plane.normal*maxpos, name=\"plane_normal\") \n",
    "    for point, side in zip(X, y):\n",
    "        if trafo(point)[0] in [minneg, maxneg, minpos, maxpos]:\n",
    "            fig.add_markers(point, color=\"blue\" if side else \"red\", name=\"d=\"+str(trafo(point)[0]), size=3)\n",
    "            fig.add_line(point, back_trafo([0, trafo(point)[1], trafo(point)[2]]), name=\"^ len_d\",)            \n",
    "            fig.add_line(point, ortho_projection_affine(point, decision_plane.normal), name=\"^ proj\")\n",
    "        else:\n",
    "            fig.add_markers(point, color=\"blue\" if side else \"red\", name=str(trafo(point)[0]), showlegend=False)\n",
    "    xx, yy = make_meshgrid(minx=minx, miny=miny, maxx=maxx, maxy=maxy, margin=0.1)\n",
    "    fig.add_surface(xx, yy, decision_plane.z) #decision hyperplane\n",
    "    fig.add_markers([0,0,0], size=3, name=\"origin\") #coordinate center\n",
    "    fig.add_sample_projections(X, decision_plane.normal, n_samples=3, showlegend=False)\n",
    "    \n",
    "    #if hasattr(model, \"support_vectors_\"):\n",
    "    for n, point in enumerate(model.support_vectors_):\n",
    "        fig.add_markers(point, name=f\"support_vec_{n}\", marker={\"color\": None, \"size\": 2, \"line\": {\"width\": 3, \"color\": \"black\"}},)"
   ]
  },
  {
   "cell_type": "markdown",
   "metadata": {},
   "source": [
    "# Checking projection-methods & distance measures from point to projection"
   ]
  },
  {
   "cell_type": "code",
   "execution_count": null,
   "metadata": {},
   "outputs": [],
   "source": [
    "X, y = make_blobs(n_samples=80, centers=2, random_state=6, n_features=3)\n",
    "model = svm.SVC(kernel='linear', C=1).fit(X, y)\n",
    "print(\"Coefficients:\", model.coef_, \"Intercept:\", model.intercept_)\n",
    "\n",
    "decision_plane = Plane(*model.coef_[0], model.intercept_[0])\n",
    "forward, backward = make_base_changer(decision_plane)\n",
    "\n",
    "list(zip(y, X))[:10]"
   ]
  },
  {
   "cell_type": "code",
   "execution_count": null,
   "metadata": {},
   "outputs": [],
   "source": [
    "# helper functions\n",
    "def get_normalized_fn(orig_fn, all_mds, *more_args):\n",
    "    fmin, fmax = min(all_vals := [orig_fn(all_mds[i], *more_args) for i in range(len(all_mds))]), max(all_vals)\n",
    "    return lambda x: round(((orig_fn(x, *more_args)-fmin)/(fmax-fmin))*100, 2)\n",
    "\n",
    "get_both = lambda fn, all_mds, *more_args: (fn, get_normalized_fn(fn, all_mds, *more_args))\n",
    "\n",
    "vec_dist = lambda a, b: np.linalg.norm(a-b)"
   ]
  },
  {
   "cell_type": "markdown",
   "metadata": {},
   "source": [
    "### Now let's get to the actual projections/distances..."
   ]
  },
  {
   "cell_type": "code",
   "execution_count": null,
   "metadata": {},
   "outputs": [],
   "source": [
    "prototypicality_pre, prototypicality = get_both(lambda x, forwardproj: abs(forwardproj(x)[0]), X, forward)\n",
    "\n",
    "project_pre, project = get_both(lambda x, plane: vec_dist(plane.project(x), x), X, decision_plane)\n",
    "\n",
    "#see https://stackoverflow.com/a/17661431: distance = n * p + d\n",
    "project2_pre = lambda x, plane: np.dot(plane.normal, x) + plane.d  #This, nicely, returns 0 if on plane, something > 0 if in FRONT (side of normal) and something < 0 if BEHIND of plane.\n",
    "abs_project2_pre, abs_project2 = get_both(lambda x, plane: abs(np.dot(plane.normal, x) + plane.d), X, decision_plane)"
   ]
  },
  {
   "cell_type": "code",
   "execution_count": null,
   "metadata": {},
   "outputs": [],
   "source": [
    "#onto_plane =  p' = p - (n ⋅ p + d) * n  -- see https://stackoverflow.com/a/41897378\n",
    "\n",
    "quotients = [abs_project2_pre(x, decision_plane)/prototypicality_pre(x, forward) for x in X[:20]]\n",
    "assert np.isclose(min(quotients), max(quotients))\n",
    "#TODO figure out WHY the quotient between protypicality, proj-dist and abs-proj-dist-2 is the way it is and then correct this!!\n",
    "\n",
    "def onto_plane(x, plane, quotient):\n",
    "    #plane_dist = project2_pre(x, plane)\n",
    "    #plane_dist = project_pre(x, plane)\n",
    "    #plane_dist = prototypicality_pre(x, forwardproj) #hiermit klappts..\n",
    "    plane_dist = project2_pre(x, plane) / quotient\n",
    "    #TODO figure out WHY the quotient between protypicality, proj-dist and abs-proj-dist-2 is the way it is and then correct this!!\n",
    "    return x - plane_dist * plane.normal\n",
    "\n",
    "project3_pre, project3 = get_both(lambda x, plane, quotient: vec_dist(onto_plane(x, plane, quotient), x), X, decision_plane, quotients[0])"
   ]
  },
  {
   "cell_type": "code",
   "execution_count": null,
   "metadata": {},
   "outputs": [],
   "source": [
    "project_using_basechanger = lambda x, forwardproj, backwardproj: backwardproj([0, (transformed := forwardproj(x))[1], transformed[2]])\n",
    "project_using_project     = lambda x, plane: plane.project(x)\n",
    "project_using_project2_3  = lambda x, plane, quotient: onto_plane(x, plane, quotient)"
   ]
  },
  {
   "cell_type": "code",
   "execution_count": null,
   "metadata": {},
   "outputs": [],
   "source": [
    "for x in X[:10]:\n",
    "    print(\"Point:\", x, \"  reversed:\", project2_pre(x, decision_plane) > 0)\n",
    "    #print(\"Forward-x:\", forward(x))\n",
    "\n",
    "    print(\"  Normed Project:\", project(x))\n",
    "    print(\"  Normed Prototypicality:\", prototypicality(x))\n",
    "    print(\"  Normed abs projection Distance:\", abs_project2(x))\n",
    "    print(\"  Normed Distance Point & Projection3:\", project3(x))\n",
    "    print()\n",
    "\n",
    "    print(\"  Unnormed Project:\", project_pre(x, decision_plane))\n",
    "    print(\"  Unnormed Prototypicality:\", prototypicality_pre(x, forward))\n",
    "    print(\"  Projection Distance:\", project2_pre(x, decision_plane))\n",
    "    print(\"  Abs projection Distance:\", abs_project2_pre(x, decision_plane))\n",
    "    print(\"  Unnormed Distance Point <-> Projection3\", project3_pre(x, decision_plane, quotients[0]))\n",
    "    print()\n",
    "\n",
    "    print(\"  Quotient Prototypicality <-> Proj Dist:\", project_pre(x, decision_plane)/prototypicality_pre(x, forward))\n",
    "    print(\"  Quotient Prototypicality <-> Abs Proj Dist 2:\", abs_project2_pre(x, decision_plane)/prototypicality_pre(x, forward))\n",
    "    print(\"  Proj Dist <-> Abs Proj Dist 2:\", project_pre(x, decision_plane)/abs_project2_pre(x, decision_plane))\n",
    "    #TODO figure out WHY the quotient between protypicality, proj-dist and abs-proj-dist-2 is the way it is.\n",
    "    print()\n",
    "\n",
    "    print(\"  Projections are actually on the plane: \", project_using_basechanger(x, forward, backward) in decision_plane, project_using_project(x, decision_plane) in decision_plane, project_using_project2_3(x, decision_plane, quotients[0]) in decision_plane)\n",
    "    print(\"\\n\")"
   ]
  },
  {
   "cell_type": "code",
   "execution_count": null,
   "metadata": {},
   "outputs": [],
   "source": []
  },
  {
   "cell_type": "code",
   "execution_count": null,
   "metadata": {},
   "outputs": [],
   "source": [
    "#deleteme from here"
   ]
  },
  {
   "cell_type": "code",
   "execution_count": null,
   "metadata": {},
   "outputs": [],
   "source": [
    "def plane_proj(plane, point):\n",
    "    x, y, z = point\n",
    "    k = (plane.a * x + plane.b * y + plane.c * z + plane.d) / (plane.a ** 2 + plane.b ** 2 + plane.c ** 2)\n",
    "    k = 2*k\n",
    "    return np.array([x - k * plane.a, y - k * plane.b, z - k * plane.c])\n",
    "\n",
    "\n",
    "for x in X[:5]:\n",
    "    tmpproj = plane_proj(decision_plane, x)\n",
    "    print(vec_dist(x, tmpproj))\n",
    "    print(vec_dist(x, decision_plane.project(x)))\n",
    "    print()"
   ]
  },
  {
   "cell_type": "code",
   "execution_count": null,
   "metadata": {},
   "outputs": [],
   "source": [
    "def plane_proj(plane, point):\n",
    "    x, y, z = point\n",
    "    k = (plane.a * x + plane.b * y + plane.c * z + plane.d) / (plane.a ** 2 + plane.b ** 2 + plane.c ** 2)\n",
    "    return np.array([x - k * plane.a, y - k * plane.b, z - k * plane.c])\n",
    "\n",
    "\n",
    "for x in X[:5]:\n",
    "    tmpproj = plane_proj(decision_plane, x)\n",
    "    print(vec_dist(x, tmpproj))\n",
    "    print(vec_dist(x, decision_plane.project(x)))\n",
    "    print()"
   ]
  },
  {
   "cell_type": "code",
   "execution_count": null,
   "metadata": {},
   "outputs": [],
   "source": [
    "project_using_basechanger = lambda x, forwardproj, backwardproj: backwardproj([0, (transformed := forwardproj(x))[1], transformed[2]])\n",
    "project_using_project     = lambda x, plane: plane.project(x)\n",
    "project_using_project2_3  = lambda x, plane, quotient: onto_plane(x, plane, quotient)"
   ]
  },
  {
   "cell_type": "code",
   "execution_count": null,
   "metadata": {},
   "outputs": [],
   "source": [
    "for x in X[:5]:\n",
    "    print(decision_plane.project(x), decision_plane.project(x) in decision_plane, vec_dist(decision_plane.project(x), x))\n",
    "    \n",
    "    tmp = np.dot(decision_plane.normal, x) + decision_plane.d \n",
    "    tmp = tmp/(decision_plane.a**2+decision_plane.b**2+decision_plane.c**2)\n",
    "    proj = x - tmp * decision_plane.normal\n",
    "    print(proj)\n",
    "    \n",
    "    \n",
    "    print()"
   ]
  },
  {
   "cell_type": "raw",
   "metadata": {},
   "source": [
    "For that, we first have to know how to project a point onto a plane in affine frames \n",
    "\t(TODO: explain affine frames)\n",
    "\tSoo, what we want to do is find the minimal distance from the point to the plane. The minimal distance is achieved by going orthogonally towards the plane (-> in the direction of the normal). So we gotta calculate HOW MUCH we have to go into the direction, and then go into the direction of the normal.\n",
    "\n",
    "\t```\n",
    "\t    def project(self, point):\n",
    "        x, y, z = point\n",
    "        k = (self.a * x + self.b * y + self.c * z + self.d) / (self.a ** 2 + self.b ** 2 + self.c ** 2)\n",
    "        return np.array([x - k * self.a, y - k * self.b, z - k * self.c])\n",
    "    ```\n",
    "\n",
    "    k is the \"how much\", a scalar. Why is that the value it is?!\n",
    "\n",
    "    Well, https://stackoverflow.com/a/17661431 here says the distance from a point to its projection onto the plane is np.dot(point, plane.normal)+d (...and the actual projection then `p-(np.dot(point, plane.normal)+d)*n`). ...UND DAS MUSS MAN EINFACH HINNEHMEN! That is almost the same, except it's not \"normalized\" by a²+b²+c².\n",
    "\n",
    "    What is the explanation of the difference from this to the result of using forward and backward??"
   ]
  },
  {
   "cell_type": "code",
   "execution_count": null,
   "metadata": {},
   "outputs": [],
   "source": [
    "#deleteme until here"
   ]
  }
 ],
 "metadata": {
  "kernelspec": {
   "display_name": "Python 3 (ipykernel)",
   "language": "python",
   "name": "python3"
  },
  "language_info": {
   "codemirror_mode": {
    "name": "ipython",
    "version": 3
   },
   "file_extension": ".py",
   "mimetype": "text/x-python",
   "name": "python",
   "nbconvert_exporter": "python",
   "pygments_lexer": "ipython3",
   "version": "3.10.0"
  }
 },
 "nbformat": 4,
 "nbformat_minor": 4
}
