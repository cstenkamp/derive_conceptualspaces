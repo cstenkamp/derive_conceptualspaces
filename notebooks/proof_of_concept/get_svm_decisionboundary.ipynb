{
 "cells": [
  {
   "cell_type": "code",
   "execution_count": null,
   "metadata": {},
   "outputs": [],
   "source": [
    "import plotly.io as pio\n",
    "pio.renderers.default = \"plotly_mimetype+notebook_connected\"\n",
    "#to render in nbviewer, see https://nbviewer.org/github/jupyterhub/binder-billing/blob/master/analyze_data.ipynb?flush_cache=true"
   ]
  },
  {
   "cell_type": "code",
   "execution_count": null,
   "metadata": {},
   "outputs": [],
   "source": [
    "import numpy as np\n",
    "import matplotlib.pyplot as plt\n",
    "from sklearn import svm, datasets\n",
    "from sklearn.datasets import make_blobs\n",
    "import math"
   ]
  },
  {
   "cell_type": "code",
   "execution_count": null,
   "metadata": {},
   "outputs": [],
   "source": [
    "def create_iris_dataset(ndims):\n",
    "    iris = datasets.load_iris()\n",
    "    X = iris.data[:, :ndims]\n",
    "    y = iris.target\n",
    "    to_take_indices = list(set(np.arange(len(y)))-set(np.where(y==2)[0]))\n",
    "    X = X[to_take_indices]\n",
    "    y = y[to_take_indices]\n",
    "    return X, y"
   ]
  },
  {
   "cell_type": "markdown",
   "metadata": {},
   "source": [
    "# 2D"
   ]
  },
  {
   "cell_type": "code",
   "execution_count": null,
   "metadata": {},
   "outputs": [],
   "source": [
    "def make_meshgrid(x, y, h=.02):\n",
    "    \"\"\"Create a mesh of points to plot in\n",
    "\n",
    "    Parameters\n",
    "    ----------\n",
    "    x: data to base x-axis meshgrid on\n",
    "    y: data to base y-axis meshgrid on\n",
    "    h: stepsize for meshgrid, optional\n",
    "\n",
    "    Returns\n",
    "    -------\n",
    "    xx, yy : ndarray\n",
    "    \"\"\"\n",
    "    x_min, x_max = x.min() - 1, x.max() + 1\n",
    "    y_min, y_max = y.min() - 1, y.max() + 1\n",
    "    xx, yy = np.meshgrid(np.arange(x_min, x_max, h),\n",
    "                         np.arange(y_min, y_max, h))\n",
    "    return xx, yy\n",
    "\n",
    "\n",
    "def plot_contours(ax, clf, xx, yy, **params):\n",
    "    \"\"\"Plot the decision boundaries for a classifier.\n",
    "\n",
    "    Parameters\n",
    "    ----------\n",
    "    ax: matplotlib axes object\n",
    "    clf: a classifier\n",
    "    xx: meshgrid ndarray\n",
    "    yy: meshgrid ndarray\n",
    "    params: dictionary of params to pass to contourf, optional\n",
    "    \"\"\"\n",
    "    Z = clf.predict(np.c_[xx.ravel(), yy.ravel()])\n",
    "    Z = Z.reshape(xx.shape)\n",
    "    out = ax.contourf(xx, yy, Z, **params)\n",
    "    return out"
   ]
  },
  {
   "cell_type": "code",
   "execution_count": null,
   "metadata": {},
   "outputs": [],
   "source": [
    "X, y = create_iris_dataset(ndims=2)\n",
    "\n",
    "#...different dataset (you may comment me out):\n",
    "#X, y = make_blobs(n_samples=80, centers=2, random_state=6)"
   ]
  },
  {
   "cell_type": "code",
   "execution_count": null,
   "metadata": {},
   "outputs": [],
   "source": [
    "def plot_all(X, model, title):\n",
    "    X0, X1 = X[:, 0], X[:, 1]\n",
    "    xx, yy = make_meshgrid(X0, X1)\n",
    "    fig, ax = plt.subplots(1,1)\n",
    "    plot_contours(ax, model, xx, yy, cmap=plt.cm.coolwarm, alpha=0.8)\n",
    "    ax.scatter(X0, X1, c=y, cmap=plt.cm.coolwarm, s=20, edgecolors='k')\n",
    "    ax.set_xlim(xx.min(), xx.max())\n",
    "    ax.set_ylim(yy.min(), yy.max())\n",
    "    ax.set_xlabel('Sepal length')\n",
    "    ax.set_ylabel('Sepal width')\n",
    "    ax.set_title(title)\n",
    "    plt.show()\n",
    "    return ax.get_xlim(), ax.get_ylim()\n",
    "    \n",
    "\n",
    "def plot_all_2(X, model, title):\n",
    "    plt.scatter(X[:, 0], X[:, 1], c=y, s=30, cmap=plt.cm.Paired)\n",
    "    ax = plt.gca()\n",
    "    xlim = ax.get_xlim()\n",
    "    ylim = ax.get_ylim()\n",
    "\n",
    "    # create grid to evaluate model\n",
    "    xx = np.linspace(xlim[0], xlim[1], 30)\n",
    "    yy = np.linspace(ylim[0], ylim[1], 30)\n",
    "    YY, XX = np.meshgrid(yy, xx)\n",
    "    xy = np.vstack([XX.ravel(), YY.ravel()]).T\n",
    "    Z = model.decision_function(xy).reshape(XX.shape)\n",
    "\n",
    "    # plot decision boundary and margins\n",
    "    ax.contour(XX, YY, Z, colors='k', levels=[-1, 0, 1], alpha=0.5, linestyles=['--', '-', '--'])\n",
    "    # plot support vectors\n",
    "    if hasattr(model, \"support_vectors_\"):\n",
    "        ax.scatter(model.support_vectors_[:, 0], model.support_vectors_[:, 1], s=100, linewidth=1, facecolors='none', edgecolors='k')\n",
    "    ax.set_title(title)\n",
    "    plt.show()"
   ]
  },
  {
   "cell_type": "code",
   "execution_count": null,
   "metadata": {},
   "outputs": [],
   "source": [
    "model = svm.LinearSVC(C=1, max_iter=10000).fit(X, y)\n",
    "print(\"Coefficients:\", model.coef_, \"Intercept:\", model.intercept_)\n",
    "xlim, ylim = plot_all(X, model, title='LinearSVC (linear kernel)')\n",
    "plot_all_2(X, model, title='LinearSVC (linear kernel)')"
   ]
  },
  {
   "cell_type": "code",
   "execution_count": null,
   "metadata": {},
   "outputs": [],
   "source": [
    "model = svm.SVC(kernel='linear', C=1).fit(X, y)\n",
    "print(\"Coefficients:\", model.coef_, \"Intercept:\", model.intercept_)\n",
    "xlim, ylim = plot_all(X, model, title='LinearSVC (linear kernel)')\n",
    "plot_all_2(X, model, title='LinearSVC (linear kernel)')"
   ]
  },
  {
   "cell_type": "code",
   "execution_count": null,
   "metadata": {
    "tags": []
   },
   "outputs": [],
   "source": [
    "def abline(slope, intercept, xlim=(0,3), ylim=(0,3)):\n",
    "    \"\"\"Plot a line from slope and intercept\"\"\"\n",
    "    axes = plt.gca()\n",
    "    axes.set_xlim(xlim)\n",
    "    axes.set_ylim(ylim)\n",
    "    x_vals = np.array(axes.get_xlim())\n",
    "    y_vals = -intercept + slope * x_vals\n",
    "    plt.plot(x_vals, y_vals, '--')\n",
    "    \n",
    "\n",
    "def find_seperatrix(model):\n",
    "    W=model.coef_[0]\n",
    "    I=model.intercept_\n",
    "    a = -W[0]/W[1]\n",
    "    b = I[0]/W[1]\n",
    "    return a, b\n",
    "\n",
    "slope, intercept = find_seperatrix(model)\n",
    "\n",
    "print(slope, intercept)\n",
    "\n",
    "abline(slope, intercept, xlim, ylim)"
   ]
  },
  {
   "cell_type": "code",
   "execution_count": null,
   "metadata": {},
   "outputs": [],
   "source": [
    "x_vals = np.array(xlim)\n",
    "y_vals = -intercept + slope * x_vals\n",
    "points = [np.array(i) for i in zip(x_vals, y_vals)]\n",
    "\n",
    "vector = points[1]-points[0]\n",
    "\n",
    "print(points)\n",
    "print(vector)"
   ]
  },
  {
   "cell_type": "code",
   "execution_count": null,
   "metadata": {},
   "outputs": [],
   "source": [
    "def show_vectors(ax, vectors, vectors_with_start):\n",
    "    \"\"\"https://stackoverflow.com/a/42282532/5122790\"\"\"\n",
    "    HEAD_SIZE = 0.2\n",
    "    M = np.array(vectors)\n",
    "    colors = ['r','g','b','k','gray']\n",
    "    if vectors:\n",
    "        for i,l in enumerate(range(0,M.shape[0])):\n",
    "            ax.arrow(0,0,M[i,0],M[i,1],head_width=HEAD_SIZE,head_length=HEAD_SIZE,color = colors[i], length_includes_head=True)\n",
    "\n",
    "    colors = ['c','m','y']\n",
    "    if vectors_with_start:\n",
    "        for i,(xs,ys,xf,yf) in enumerate([(*i[0],*i[1]) for i in vectors_with_start]):\n",
    "            ax.arrow(xs,ys,xf,yf,head_width=HEAD_SIZE,head_length=HEAD_SIZE,color = colors[i], length_includes_head=True)\n",
    "\n",
    "    return ax"
   ]
  },
  {
   "cell_type": "code",
   "execution_count": null,
   "metadata": {},
   "outputs": [],
   "source": [
    "def ortho_proj(a,b):\n",
    "    #https://en.wikipedia.org/wiki/Vector_projection\n",
    "    a1_sc = np.dot(a,(b/np.linalg.norm(b)))\n",
    "    b_hat = b/np.linalg.norm(b)\n",
    "    a1 = a1_sc*b_hat\n",
    "    a2 = a-a1\n",
    "    return a2"
   ]
  },
  {
   "cell_type": "code",
   "execution_count": null,
   "metadata": {},
   "outputs": [],
   "source": [
    "center_point = points[0]+0.5*vector"
   ]
  },
  {
   "cell_type": "code",
   "execution_count": null,
   "metadata": {},
   "outputs": [],
   "source": [
    "print(ortho_proj(vector, center_point))"
   ]
  },
  {
   "cell_type": "code",
   "execution_count": null,
   "metadata": {},
   "outputs": [],
   "source": [
    "fig, ax = plt.subplots(figsize=(8,8))\n",
    "show_vectors(ax, [], [(points[0], vector), (center_point, ortho_proj(vector, center_point))])\n",
    "\n",
    "ax.plot(*center_point,'ok') \n",
    "ax.set_aspect('equal', 'box')\n",
    "plt.grid(b=True, which='major')\n",
    "\n",
    "plt.xlim(xlim)\n",
    "plt.ylim(ylim)\n",
    "plt.show()"
   ]
  },
  {
   "cell_type": "code",
   "execution_count": null,
   "metadata": {},
   "outputs": [],
   "source": [
    "print(model.coef_[0])\n",
    "print(center_point+model.coef_[0])"
   ]
  },
  {
   "cell_type": "code",
   "execution_count": null,
   "metadata": {},
   "outputs": [],
   "source": [
    "fig, ax = plt.subplots(figsize=(8,8))\n",
    "show_vectors(ax, [], [(points[0], vector), (center_point, ortho_proj(vector, center_point)), (center_point, model.coef_[0])])\n",
    "\n",
    "ax.plot(*center_point,'ok') \n",
    "ax.set_aspect('equal', 'box')\n",
    "plt.grid(b=True, which='major')\n",
    "\n",
    "plt.xlim(xlim)\n",
    "plt.ylim(ylim)\n",
    "plt.show()"
   ]
  },
  {
   "cell_type": "markdown",
   "metadata": {},
   "source": [
    "# 3D"
   ]
  },
  {
   "cell_type": "code",
   "execution_count": null,
   "metadata": {},
   "outputs": [],
   "source": [
    "#https://stackoverflow.com/a/51301399/5122790, https://stackoverflow.com/a/69407977/5122790 !!!\n",
    "import plotly.express as px\n",
    "import plotly.graph_objects as go\n",
    "from mpl_toolkits import mplot3d\n",
    "from dataclasses import dataclass"
   ]
  },
  {
   "cell_type": "code",
   "execution_count": null,
   "metadata": {},
   "outputs": [],
   "source": [
    "X, y = create_iris_dataset(ndims=3)\n",
    "model = svm.LinearSVC(C=1, max_iter=10000).fit(X, y)\n",
    "print(\"Coefficients:\", model.coef_, \"Intercept:\", model.intercept_)"
   ]
  },
  {
   "cell_type": "code",
   "execution_count": null,
   "metadata": {},
   "outputs": [],
   "source": [
    "fig = plt.figure(figsize=(8, 6))\n",
    "ax = plt.axes(projection='3d')\n",
    "ax.scatter(X[:,0], X[:,1], X[:,2], color=[\"r\" if i==0 else \"b\" for i in y])\n",
    "plt.show()"
   ]
  },
  {
   "cell_type": "code",
   "execution_count": null,
   "metadata": {},
   "outputs": [],
   "source": [
    "def make_meshgrid(X=None, minx=None, miny=None, maxx=None, maxy=None, size=None, amount=30, margin=0):\n",
    "    assert X is not None or (minx is not None and miny is not None and maxx is not None and maxy is not None) or size is not None\n",
    "    if X is not None:\n",
    "        minx = min(X[:,0]) if minx is None or min(X[:,0])<minx else minx\n",
    "        miny = min(X[:,1]) if miny is None or min(X[:,1])<miny else miny\n",
    "        maxx = max(X[:,0]) if maxx is None or max(X[:,0])>maxx else maxx\n",
    "        maxy = max(X[:,1]) if maxy is None or max(X[:,1])>maxy else maxy\n",
    "    elif size is not None and (minx is None and miny is None and maxx is None and maxy is None):\n",
    "        minx = miny = -size\n",
    "        maxx = maxy = size\n",
    "    lsx = np.linspace(minx-margin, maxx+margin, amount)\n",
    "    lsy = np.linspace(miny-margin, maxy+margin, amount)\n",
    "    xx, yy = np.meshgrid(lsx,lsy)\n",
    "    return xx, yy\n",
    "\n",
    "\n",
    "def plot_3d_boundary(clf):\n",
    "    # The equation of the separating plane is given by all x so that np.dot(svc.coef_[0], x) + b = 0.\n",
    "    # Solve for w3 (z)\n",
    "    z = lambda clf, x,y: (-clf.intercept_[0]-clf.coef_[0][0]*x -clf.coef_[0][1]*y) / clf.coef_[0][2]\n",
    "    # https://stackoverflow.com/a/51301399/5122790 !!!\n",
    "\n",
    "    xx, yy = make_meshgrid(X)\n",
    "\n",
    "    fig = plt.figure()\n",
    "    ax  = fig.add_subplot(111, projection='3d')\n",
    "    ax.plot3D(X[y==0,0], X[y==0,1], X[y==0,2],'ob')\n",
    "    ax.plot3D(X[y==1,0], X[y==1,1], X[y==1,2],'sr')\n",
    "    ax.plot_surface(xx, yy, z(clf,xx,yy))\n",
    "    ax.view_init(30, 60)\n",
    "    plt.show()\n",
    "    \n",
    "plot_3d_boundary(model)"
   ]
  },
  {
   "cell_type": "code",
   "execution_count": null,
   "metadata": {},
   "outputs": [],
   "source": [
    "def ortho_projection_affine(a, b):\n",
    "    \"\"\"https://en.wikipedia.org/wiki/Vector_projection\"\"\"\n",
    "    return np.dot(np.dot(a,b)/np.dot(b,b),b)\n",
    "\n",
    "class ThreeDFigure():\n",
    "    def __init__(self, trafo_fn=None, back_trafo_fn=None, swap_axes=None):\n",
    "        self.trafo_fn = trafo_fn if trafo_fn is not None else lambda x: x\n",
    "        self.back_trafo_fn = back_trafo_fn if back_trafo_fn is not None else lambda x: x\n",
    "        self.swap_axes = swap_axes\n",
    "        #https://community.plotly.com/t/creating-a-3d-scatterplot-with-equal-scale-along-all-axes/15108/7\n",
    "        self.fig = go.Figure(layout=go.Layout(\n",
    "                        scene=dict(camera=dict(eye=dict(x=1, y=1, z=1)), aspectmode=\"data\"),\n",
    "                        autosize=True,\n",
    "                        width=1000,\n",
    "                        height=800,\n",
    "                        margin=dict(l=10, r=10, b=10, t=10, pad=4),\n",
    "                        paper_bgcolor=\"White\"))\n",
    "        \n",
    "    def _transform(self, points, inverse=False):\n",
    "        trafo_fn = self.back_trafo_fn if inverse else self.trafo_fn              \n",
    "        points = np.array([trafo_fn(point) for point in points])    \n",
    "        if self.swap_axes:\n",
    "            points = self._swap_axes(points, self.swap_axes)\n",
    "        return points\n",
    "    \n",
    "    def _swap_axes(self, points, swap_axes):\n",
    "        swap_translate = {\"x\": 0, \"y\": 1, \"z\": 2}\n",
    "        ind1, ind2 = swap_translate[swap_axes[0]], swap_translate[swap_axes[1]]\n",
    "        tmp = points[:,ind1].copy()\n",
    "        points[:,ind1] = points[:,ind2]\n",
    "        points[:,ind2] = tmp\n",
    "        return points\n",
    "    \n",
    "                    \n",
    "    def add_surface(self, xx, yy, z_func, swap_axes=None, opacity=None):\n",
    "        xy_arr = np.vstack([xx.flatten(), yy.flatten()]).T\n",
    "        z_arr = np.array([z_func(*i) for i in xy_arr])\n",
    "        points = np.column_stack([xy_arr, z_arr])\n",
    "        points = self._transform(points)\n",
    "        if swap_axes: \n",
    "            points = self._swap_axes(points, swap_axes)\n",
    "        surface_form = lambda x: x.reshape(round(math.sqrt(x.shape[0])),-1)\n",
    "        self.fig.add_trace(go.Surface(x=surface_form(points[:,0]), y=surface_form(points[:,1]), z=surface_form(points[:,2]), opacity=opacity, showlegend=False, showscale=False))\n",
    "    \n",
    "    \n",
    "    def add_line(self, point1, point2, width=6, do_transform=True, name=None, **kwargs):\n",
    "        if do_transform:\n",
    "            point1 = self._transform(np.array([point1])).squeeze()\n",
    "            point2 = self._transform(np.array([point2])).squeeze()\n",
    "        self.fig.add_trace(\n",
    "            go.Scatter3d(x = [point1[0], point2[0]],\n",
    "                         y = [point1[1], point2[1]],\n",
    "                         z = [point1[2], point2[2]],\n",
    "                         marker = dict(size = 1),\n",
    "                         line = dict(width = width),\n",
    "                         name=name,\n",
    "                         **kwargs\n",
    "                         )\n",
    "        )\n",
    "        \n",
    "    def add_markers(self, points, color=\"black\", size=2, name=None, **kwargs):\n",
    "        points = np.array(points)\n",
    "        if points.ndim == 1: points = np.array([points])\n",
    "        points = self._transform(points)\n",
    "        default_args = dict(mode=\"markers\", x=points[:,0], y=points[:,1], z=points[:,2], marker={\"color\": color, \"size\": size, \"line\": {\"width\": 0}}, name=name)\n",
    "        self.fig.add_trace(go.Scatter3d(**{**default_args, **kwargs}))\n",
    "        \n",
    "    \n",
    "    def add_sample_projections(self, X, onto, n_samples=10, **kwargs):\n",
    "        show_vecs = X[np.random.choice(X.shape[0], n_samples, replace=False), :]\n",
    "        for point in show_vecs:\n",
    "            proj = ortho_projection_affine(point, onto)\n",
    "            self.add_line(point, proj, **kwargs)\n",
    "            \n",
    "    \n",
    "    def __enter__(self, *args):\n",
    "        return self\n",
    "    \n",
    "    def __exit__(self, exc_type, exc, exc_tb):\n",
    "        if not exc_type:\n",
    "            display(self.fig)\n",
    "    "
   ]
  },
  {
   "cell_type": "code",
   "execution_count": null,
   "metadata": {},
   "outputs": [],
   "source": [
    "@dataclass\n",
    "class Plane:\n",
    "    a: float\n",
    "    b: float\n",
    "    c: float\n",
    "    d: float\n",
    "    \n",
    "    @property\n",
    "    def normal(self):\n",
    "        return np.array([self.a, self.b, self.c])\n",
    "    \n",
    "    def __contains__(self, point:np.array):\n",
    "        return np.isclose(self.a*point[0] + self.b*point[1] + self.c*point[2] + self.d, 0)\n",
    "    \n",
    "    def project(self, point):\n",
    "        x,y,z = point\n",
    "        k = (self.a*x + self.b*y + self.c*z + self.d)/(self.a**2 + self.b**2 + self.c**2)\n",
    "        return np.array([x - k*self.a, y-k*self.b, z-k*self.c])\n",
    "   \n",
    "    def z(self, x, y):\n",
    "        return (- self.d - self.b*y - self.a*x)/self.c"
   ]
  },
  {
   "cell_type": "code",
   "execution_count": null,
   "metadata": {},
   "outputs": [],
   "source": [
    "decision_plane = Plane(*model.coef_[0], model.intercept_[0])\n",
    "\n",
    "with ThreeDFigure() as fig:\n",
    "    fig.add_markers(X, color=y) #samples\n",
    "    xx, yy = make_meshgrid(X, margin=1)\n",
    "    fig.add_surface(xx, yy, decision_plane.z) #decision hyperplane\n",
    "    fig.add_line(X.mean(axis=0)-decision_plane.normal, X.mean(axis=0)+decision_plane.normal) #orthogonal of decision hyperplane through mean of points\n",
    "    fig.add_markers([0,0,0], size=3) #coordinate center\n",
    "    \n",
    "    fig.add_line(-decision_plane.normal*5, decision_plane.normal*5) #orthogonal of decision hyperplane through [0,0,0]\n",
    "    fig.add_sample_projections(X, decision_plane.normal) #orthogonal lines from the samples onto the decision hyperplane orthogonal"
   ]
  },
  {
   "cell_type": "code",
   "execution_count": null,
   "metadata": {},
   "outputs": [],
   "source": [
    "X, y = make_blobs(n_samples=80, centers=2, random_state=6, n_features=3)\n",
    "model = svm.LinearSVC(C=1, max_iter=10000).fit(X, y)\n",
    "print(\"Coefficients:\", model.coef_, \"Intercept:\", model.intercept_)\n",
    "decision_plane = Plane(*model.coef_[0], model.intercept_[0])\n",
    "\n",
    "with ThreeDFigure() as fig:\n",
    "    fig.add_markers(X, color=y) #samples\n",
    "    xx, yy = make_meshgrid(X, margin=1)\n",
    "    fig.add_surface(xx, yy, decision_plane.z) #decision hyperplane\n",
    "    fig.add_line(X.mean(axis=0)-decision_plane.normal, X.mean(axis=0)+decision_plane.normal) #orthogonal of decision hyperplane through mean of points\n",
    "    fig.add_markers([0,0,0], size=3) #coordinate center\n",
    "    \n",
    "    fig.add_line(-decision_plane.normal*5, decision_plane.normal*5) #orthogonal of decision hyperplane through [0,0,0]\n",
    "    fig.add_sample_projections(X, decision_plane.normal) #orthogonal lines from the samples onto the decision hyperplane orthogonal"
   ]
  },
  {
   "cell_type": "markdown",
   "metadata": {},
   "source": [
    "* I'm having so many apparently hard-to-solve problems - the decision-boundary for example goes from (minx,miny) to (maxx,maxy), with the corresponding z-coordinate. However that's superflous, it may become waaay to big there, because the original x/y/z coordinate system is irrelevant! The size of the decision surface is constrained instead rather by the circle of all lines that go through a point and in parallel to the orthogonal of the decision surface. But to figure out the size of the decision boundary from that is far from trivial - again because I always need the translation from the irrelevant acutal xyz-coordinate system to the coordinate system which is relevant for me, which is one in which the decision surface has two coordinate values equal to zero. If I do that, every other calculation becomes trivial!!\n",
    "* Same holds for the problem \"how long should the decisionsurface-orthogonal be\" - calculating it now is hard, but once we have translated the coordinate system it's just the min/max z-coordinate!"
   ]
  },
  {
   "cell_type": "code",
   "execution_count": null,
   "metadata": {},
   "outputs": [],
   "source": [
    "X, y = make_blobs(n_samples=80, centers=2, random_state=6, n_features=3)\n",
    "model = svm.LinearSVC(C=1, max_iter=10000).fit(X, y)\n",
    "print(\"Coefficients:\", model.coef_, \"Intercept:\", model.intercept_)\n",
    "decision_plane = Plane(*model.coef_[0], model.intercept_[0])\n",
    "\n",
    "\n",
    "with ThreeDFigure() as fig:\n",
    "    fig.add_markers(X, color=y) #samples\n",
    "    xx, yy = make_meshgrid(X, margin=1)\n",
    "    fig.add_surface(xx, yy, decision_plane.z) #decision hyperplane\n",
    "    fig.add_line([0,0,0], decision_plane.normal*100) #orthogonal of decision hyperplane through mean of points\n",
    "    fig.add_markers([0,0,0], size=3) #coordinate center\n",
    "    \n",
    "    for point, side in zip(X, y):\n",
    "        fig.add_line(point, point-decision_plane.normal*100 if side else point+decision_plane.normal*100)\n"
   ]
  },
  {
   "cell_type": "code",
   "execution_count": null,
   "metadata": {},
   "outputs": [],
   "source": [
    "def normalize(vec):\n",
    "    return vec/np.linalg.norm(vec)"
   ]
  },
  {
   "cell_type": "code",
   "execution_count": null,
   "metadata": {},
   "outputs": [],
   "source": [
    "decision_plane = Plane(*model.coef_[0], model.intercept_[0])\n",
    "vec = normalize(decision_plane.normal)\n",
    "print(\"Original Vec:\", vec)\n",
    "\n",
    "with ThreeDFigure() as fig:\n",
    "    #coordinate system\n",
    "    fig.add_surface(*make_meshgrid(size=1), lambda _,__: 0, opacity=0.3)\n",
    "    fig.add_surface(*make_meshgrid(size=1), lambda _,__: 0, swap_axes=\"xz\", opacity=0.3)\n",
    "    fig.add_surface(*make_meshgrid(size=1), lambda _,__: 0, swap_axes=\"yz\", opacity=0.3)    \n",
    "    fig.add_line([-1,0,0], [1,0,0])\n",
    "    fig.add_line([0,-1,0], [0,1,0])\n",
    "    fig.add_line([0,0,-1], [0,0,1])\n",
    "    \n",
    "    #vec and its projections\n",
    "    fig.add_line([0,0,0], vec, width=12)\n",
    "    fig.add_line([0,0,0], [0, vec[1], vec[2]])\n",
    "    fig.add_line([0,0,0], [vec[0], 0, vec[2]])\n",
    "    fig.add_line([0,0,0], [vec[0], vec[1], 0])\n"
   ]
  },
  {
   "cell_type": "raw",
   "metadata": {},
   "source": [
    "z      = -i[0]-c[0]*x -c[1]*y) / c[2]  | *c[2]\n",
    "z*c[2] = -i[0]-c[0]*x -c[1]*y          | +i[0] | -c[2]*z\n",
    "i[0]   = -c[0]*x - c[1]*y - c[2]*z\n",
    "\n",
    "0   = c[0]*x + c[1]*y + c[2]*z + i[0]\n",
    "0   = i + ax + by + cz\n",
    "\n",
    "warum ist das so?\n",
    "-> das innere produkt von 2 orthogonalen vektoren ist 0. Das heißt, der vektor der im selben punkt wie der normalenvektor anfängt, und zu einem beliebigen punkt auf der Ebene zeigt ist immer orthogonal zur orthogonalen.\n",
    "-> Tafelwerk, ebenendarstellung! Allgemeine form ax+by+cz=d\n",
    "\n",
    "Die Decision Hyperplane ist immer n-2 dimensional (plane bei 3d, gerade bei 2d).\n",
    "Die Orthogonale ist... was? immer 2D? Ist sie zumindest bei 3d und bei 2d.\n",
    "\n",
    "Was ist d?? \n",
    "Naja, hauen wir einen stift durch ein papier. Das papier ist die hyperplane, und die position dieser hp ist durch die ausrichtung des stiftes (->vector der orthogonalen) fast eineutig definiert, der einzige degree of freedom ist WO AUF DEM STIFT das papier ist. Der Stift selbst ist 1D (strich) --> d ist ein Skalar. Durch Richtung des stifts und position auf dem stift ist die ebene eindeutig definiert.\n",
    "\n",
    "Preisfrage: auch im 4D? Ist es da auch nur ein weiterer wert?\n",
    "HINT:\n",
    "\n",
    "X, y = make_blobs(n_samples=80, centers=2, random_state=6, n_features=4)\n",
    "model = svm.LinearSVC(C=1, max_iter=10000).fit(X, y)\n",
    "print(\"Intercept:\", model.intercept_)\n",
    "print(\"Coeffs:\", model.coef_)\n",
    "\n",
    "da intercept bei ner 4D-SVM 4D ist, Coef aber weiterhin nur ein Skalar würde ich vermuten auch bei einer Hyperplane im 4D ist der intercept skalar (...macht ja sinn, denn auch ein Vektor im 4-dimensionalen Raum ist ein eindimensionales Ding)"
   ]
  },
  {
   "cell_type": "code",
   "execution_count": null,
   "metadata": {},
   "outputs": [],
   "source": [
    "def make_base_changer(plane):\n",
    "    uvec1 = plane.normal\n",
    "    uvec2 = [0, -plane.d/plane.b, plane.d/plane.c] #NOT [1, 0, plane.z(model, 1, 0)] !!\n",
    "    uvec3 = np.cross(uvec1, uvec2)\n",
    "    transition_matrix = np.linalg.inv(np.array([uvec1, uvec2, uvec3]).T)\n",
    "    \n",
    "    origin = np.array([0,0,0])\n",
    "    new_origin = plane.project(origin)\n",
    "    forward  = lambda point: transition_matrix.dot(point - new_origin)\n",
    "    backward = lambda point: np.linalg.inv(transition_matrix).dot(point) + new_origin\n",
    "    return forward, backward\n",
    "\n",
    "\n",
    "#wir haben im 3D einen Degree of freedom hier!! uvec1 ist eindeutig definiert, aber uvec2 und uvec3 haben nur\n",
    "#die Bedingung dass sie orthogonal zueinander und zu uvec1 sind - das ist 1 dof. Im 2D haben wir 0 dof, da die \n",
    "#decisionboundary 1dimensional ist und ihre orthogonale auch. Wie viele dof haben wir im höherdim? immer n_dim-2? \n",
    "#das hat ja mega auswirkungen auf was ich machen will, am besten wäre es die neuen basen so zu wählen dass die\n",
    "#jeweils nächsten auch wieder orthogonal sind...!"
   ]
  },
  {
   "cell_type": "code",
   "execution_count": null,
   "metadata": {},
   "outputs": [],
   "source": [
    "X, y = make_blobs(n_samples=80, centers=2, random_state=6, n_features=3)\n",
    "model = svm.LinearSVC(C=1, max_iter=10000).fit(X, y)\n",
    "print(\"Coefficients:\", model.coef_, \"Intercept:\", model.intercept_)\n",
    "decision_plane = Plane(*model.coef_[0], model.intercept_[0])\n",
    "\n",
    "trafo, back_trafo = make_base_changer(decision_plane)\n",
    "\n",
    "with ThreeDFigure(trafo, back_trafo, swap_axes=\"xz\") as fig:\n",
    "    fig.add_markers(X, color=y) #samples\n",
    "    xx, yy = make_meshgrid(minx=-0.7, miny=-10, maxx=0.01, maxy=1, margin=1) #manual values!\n",
    "    fig.add_surface(xx, yy, decision_plane.z) #decision hyperplane\n",
    "    fig.add_line([0,0,0], decision_plane.normal*100) #orthogonal of decision hyperplane through mean of points\n",
    "    fig.add_markers([0,0,0], size=3) #coordinate center\n",
    "    fig.add_sample_projections(X, decision_plane.normal) #orthogonal lines from the samples onto the decision hyperplane orthogonal\n",
    "    \n",
    "    for point, side in zip(X, y):\n",
    "        #fig.add_line(point, point-decision_plane.normal*100 if side else point+decision_plane.normal*100)\n",
    "        #that ^ would be the blunt way to do it, smarter is to set transform, set x=0, backtransform\n",
    "        transformed = trafo(point)\n",
    "        onto_plane = back_trafo([0, transformed[1], transformed[2]])\n",
    "        fig.add_line(point, onto_plane)\n",
    "        \n",
    "#find a way to pre-determine the minx, miny, ... of the meshgrid THROUGH THE TRANSLATION"
   ]
  },
  {
   "cell_type": "code",
   "execution_count": null,
   "metadata": {},
   "outputs": [],
   "source": [
    "# the way how to determine the minx/miny/.. of the meshgrid:\n",
    "\n",
    "\n",
    "onto_plane = np.array([back_trafo([0, trafo(point)[1], trafo(point)[2]]) for point, side in zip(X, y)])\n",
    "minx, miny = onto_plane.min(axis=0)[:2]\n",
    "maxx, maxy = onto_plane.max(axis=0)[:2]\n",
    "    \n",
    "        \n",
    "with ThreeDFigure() as fig: #trafo, back_trafo, swap_axes=\"xz\"\n",
    "    fig.add_markers(X, color=y, showlegend=False) #samples\n",
    "    xx, yy = make_meshgrid(minx=minx, miny=miny, maxx=maxx, maxy=maxy, margin=0.1)\n",
    "    fig.add_surface(xx, yy, decision_plane.z) #decision hyperplane\n",
    "    fig.add_line([0,0,0], decision_plane.normal*100, name=\"normal_meanpoints\") #orthogonal of decision hyperplane through mean of points\n",
    "    fig.add_markers([0,0,0], size=3, name=\"origin\") #coordinate center\n",
    "    fig.add_sample_projections(X, decision_plane.normal, showlegend=False) #orthogonal lines from the samples onto the decision hyperplane orthogonal\n",
    "    \n",
    "    for point, side in zip(X, y):\n",
    "        fig.add_line(point, back_trafo([0, trafo(point)[1], trafo(point)[2]]), showlegend=False)"
   ]
  },
  {
   "cell_type": "markdown",
   "metadata": {},
   "source": [
    "## New stuff"
   ]
  },
  {
   "cell_type": "code",
   "execution_count": null,
   "metadata": {},
   "outputs": [],
   "source": [
    "X, y = make_blobs(n_samples=80, centers=2, random_state=2, n_features=3)\n",
    "model = svm.LinearSVC(C=1, max_iter=10000).fit(X, y)\n",
    "print(\"Coefficients:\", model.coef_, \"Intercept:\", model.intercept_)\n",
    "decision_plane = Plane(*model.coef_[0], model.intercept_[0])\n",
    "\n",
    "trafo, back_trafo = make_base_changer(decision_plane)\n",
    "\n",
    "onto_plane = np.array([back_trafo([0, trafo(point)[1], trafo(point)[2]]) for point, side in zip(X, y)])\n",
    "minx, miny = onto_plane.min(axis=0)[:2]\n",
    "maxx, maxy = onto_plane.max(axis=0)[:2]\n",
    "\n",
    "z_vals = [trafo(point)[0] for point in X]\n",
    "minneg, maxneg = min(z_vals), max([i for i in z_vals if i < 0])\n",
    "minpos, maxpos = min([i for i in z_vals if i > 0]), max(z_vals)"
   ]
  },
  {
   "cell_type": "code",
   "execution_count": null,
   "metadata": {},
   "outputs": [],
   "source": [
    "#instead of taking the transform, we could also just take the z-component (or the length, as x&y of it are 0) of the vector from a point to its projection\n",
    "\n",
    "for point, val in zip(X, y):\n",
    "    transformed_proj = np.around(trafo(decision_plane.project(point)-point), 5)\n",
    "    assert transformed_proj[1] == transformed_proj[2] == 0\n",
    "    assert (np.sign(transformed_proj[0]) == 1) == (val == 0)\n",
    "    \n",
    "assert all(np.array([trafo(point)[0] for point in X]).argsort() == np.array([(decision_plane.project(point)-point)[2] for point in X]).argsort())"
   ]
  },
  {
   "cell_type": "code",
   "execution_count": null,
   "metadata": {
    "tags": [
     "keep_output"
    ]
   },
   "outputs": [
    {
     "data": {
      "application/vnd.plotly.v1+json": {
       "config": {
        "plotlyServerURL": "https://plot.ly"
       },
       "data": [
        {
         "marker": {
          "color": "black",
          "line": {
           "width": 0
          },
          "size": 3
         },
         "mode": "markers",
         "name": "origin",
         "type": "scatter3d",
         "x": [
          0
         ],
         "y": [
          0
         ],
         "z": [
          0
         ]
        },
        {
         "marker": {
          "color": "yellow",
          "line": {
           "width": 0
          },
          "size": 2
         },
         "mode": "markers",
         "name": "plane_offset",
         "type": "scatter3d",
         "x": [
          0.10456652342154042
         ],
         "y": [
          -0.2674384390419368
         ],
         "z": [
          0.5043122358787353
         ]
        },
        {
         "line": {
          "width": 6
         },
         "marker": {
          "size": 1
         },
         "name": "plane_normal",
         "type": "scatter3d",
         "x": [
          1.254206546688638,
          -0.829392825032318
         ],
         "y": [
          -3.2077478537790913,
          2.121247940749006
         ],
         "z": [
          6.048892964189328,
          -4.000065569050619
         ]
        },
        {
         "marker": {
          "color": "blue",
          "line": {
           "width": 0
          },
          "size": 2
         },
         "mode": "markers",
         "name": "4.520053661246651",
         "showlegend": false,
         "type": "scatter3d",
         "x": [
          0.042014020706258925
         ],
         "y": [
          -1.2900146220721205
         ],
         "z": [
          -3.847531434638628
         ]
        },
        {
         "marker": {
          "color": "blue",
          "line": {
           "width": 0
          },
          "size": 3
         },
         "mode": "markers",
         "name": "d=1.5948421518000016",
         "type": "scatter3d",
         "x": [
          -2.1339951601259597
         ],
         "y": [
          -1.9049146279088631
         ],
         "z": [
          -1.2486254908114804
         ]
        },
        {
         "line": {
          "width": 6
         },
         "marker": {
          "size": 1
         },
         "name": "^ len_d",
         "type": "scatter3d",
         "x": [
          -2.1339951601259597,
          -1.922811114531271
         ],
         "y": [
          -1.9049146279088631,
          -2.4450371227222485
         ],
         "z": [
          -1.2486254908114804,
          -0.23010928953711507
         ]
        },
        {
         "line": {
          "width": 6
         },
         "marker": {
          "size": 1
         },
         "name": "^ proj",
         "type": "scatter3d",
         "x": [
          -2.1339951601259597,
          -0.10661752217314834
         ],
         "y": [
          -1.9049146279088631,
          0.2726840557714492
         ],
         "z": [
          -1.2486254908114804,
          -0.5142039653956296
         ]
        },
        {
         "marker": {
          "color": "blue",
          "line": {
           "width": 0
          },
          "size": 2
         },
         "mode": "markers",
         "name": "3.730080161740542",
         "showlegend": false,
         "type": "scatter3d",
         "x": [
          -2.6435542503000073
         ],
         "y": [
          -2.2908149558331123
         ],
         "z": [
          -3.153352381649631
         ]
        },
        {
         "marker": {
          "color": "red",
          "line": {
           "width": 0
          },
          "size": 2
         },
         "mode": "markers",
         "name": "-5.746113652724212",
         "showlegend": false,
         "type": "scatter3d",
         "x": [
          -1.8403364633977217
         ],
         "y": [
          -10.383721431512676
         ],
         "z": [
          0.40227728210473745
         ]
        },
        {
         "marker": {
          "color": "red",
          "line": {
           "width": 0
          },
          "size": 2
         },
         "mode": "markers",
         "name": "-5.60757913284524",
         "showlegend": false,
         "type": "scatter3d",
         "x": [
          -1.6157792956837722
         ],
         "y": [
          -8.870134583868456
         ],
         "z": [
          1.0412201494423712
         ]
        },
        {
         "marker": {
          "color": "blue",
          "line": {
           "width": 0
          },
          "size": 2
         },
         "mode": "markers",
         "name": "2.4661814979668577",
         "showlegend": false,
         "type": "scatter3d",
         "x": [
          -1.608169583290394
         ],
         "y": [
          -2.1863995411328263
         ],
         "z": [
          -2.243803012204535
         ]
        },
        {
         "marker": {
          "color": "blue",
          "line": {
           "width": 0
          },
          "size": 2
         },
         "mode": "markers",
         "name": "3.837698514107357",
         "showlegend": false,
         "type": "scatter3d",
         "x": [
          -1.7225654661443077
         ],
         "y": [
          -0.8964459786387888
         ],
         "z": [
          -2.695887307645588
         ]
        },
        {
         "marker": {
          "color": "red",
          "line": {
           "width": 0
          },
          "size": 2
         },
         "mode": "markers",
         "name": "-3.8078770039293053",
         "showlegend": false,
         "type": "scatter3d",
         "x": [
          -0.771705714476493
         ],
         "y": [
          -9.265359357178491
         ],
         "z": [
          -0.8653628285493147
         ]
        },
        {
         "marker": {
          "color": "blue",
          "line": {
           "width": 0
          },
          "size": 2
         },
         "mode": "markers",
         "name": "3.673793148058605",
         "showlegend": false,
         "type": "scatter3d",
         "x": [
          -0.67133173316653
         ],
         "y": [
          -0.6318620134069913
         ],
         "z": [
          -2.6349332327557478
         ]
        },
        {
         "marker": {
          "color": "blue",
          "line": {
           "width": 0
          },
          "size": 2
         },
         "mode": "markers",
         "name": "3.446049670586921",
         "showlegend": false,
         "type": "scatter3d",
         "x": [
          -1.59821873248412
         ],
         "y": [
          -1.752368088371606
         ],
         "z": [
          -2.8443570200998987
         ]
        },
        {
         "marker": {
          "color": "red",
          "line": {
           "width": 0
          },
          "size": 2
         },
         "mode": "markers",
         "name": "-7.271748700598275",
         "showlegend": false,
         "type": "scatter3d",
         "x": [
          -1.876261656966392
         ],
         "y": [
          -9.500605859963326
         ],
         "z": [
          2.1682507770744737
         ]
        },
        {
         "marker": {
          "color": "red",
          "line": {
           "width": 0
          },
          "size": 2
         },
         "mode": "markers",
         "name": "-6.020594690354641",
         "showlegend": false,
         "type": "scatter3d",
         "x": [
          1.3051929109046245
         ],
         "y": [
          -7.646142640577349
         ],
         "z": [
          1.4339394299892925
         ]
        },
        {
         "marker": {
          "color": "blue",
          "line": {
           "width": 0
          },
          "size": 2
         },
         "mode": "markers",
         "name": "3.403213721169909",
         "showlegend": false,
         "type": "scatter3d",
         "x": [
          -0.5586674798935111
         ],
         "y": [
          -2.6540097021810576
         ],
         "z": [
          -3.501820403841502
         ]
        },
        {
         "marker": {
          "color": "blue",
          "line": {
           "width": 0
          },
          "size": 2
         },
         "mode": "markers",
         "name": "3.4983523458175467",
         "showlegend": false,
         "type": "scatter3d",
         "x": [
          -0.5370500045819107
         ],
         "y": [
          -1.3512043294085272
         ],
         "z": [
          -2.8958779309977802
         ]
        },
        {
         "marker": {
          "color": "blue",
          "line": {
           "width": 0
          },
          "size": 2
         },
         "mode": "markers",
         "name": "5.399443490375184",
         "showlegend": false,
         "type": "scatter3d",
         "x": [
          -2.4278706306650815
         ],
         "y": [
          -2.3000648458140063
         ],
         "z": [
          -4.614732745018286
         ]
        },
        {
         "marker": {
          "color": "red",
          "line": {
           "width": 0
          },
          "size": 2
         },
         "mode": "markers",
         "name": "-8.158316662002417",
         "showlegend": false,
         "type": "scatter3d",
         "x": [
          -2.189109572086774
         ],
         "y": [
          -8.930021318895749
         ],
         "z": [
          3.2854575703891404
         ]
        },
        {
         "marker": {
          "color": "red",
          "line": {
           "width": 0
          },
          "size": 2
         },
         "mode": "markers",
         "name": "-7.365134946757862",
         "showlegend": false,
         "type": "scatter3d",
         "x": [
          -1.2385625641615214
         ],
         "y": [
          -10.599400808555691
         ],
         "z": [
          1.5323078781549717
         ]
        },
        {
         "marker": {
          "color": "red",
          "line": {
           "width": 0
          },
          "size": 3
         },
         "mode": "markers",
         "name": "d=-1.672268770647641",
         "type": "scatter3d",
         "x": [
          -1.5491589173759384
         ],
         "y": [
          -7.250108574555569
         ],
         "z": [
          -1.4415180189468613
         ]
        },
        {
         "line": {
          "width": 6
         },
         "marker": {
          "size": 1
         },
         "name": "^ len_d",
         "type": "scatter3d",
         "x": [
          -1.5491589173759384,
          -1.7705955554209258
         ],
         "y": [
          -7.250108574555569,
          -6.683764137658603
         ],
         "z": [
          -1.4415180189468613,
          -2.5094812865764826
         ]
        },
        {
         "line": {
          "width": 6
         },
         "marker": {
          "size": 1
         },
         "name": "^ proj",
         "type": "scatter3d",
         "x": [
          -1.5491589173759384,
          0.32600316146652775
         ],
         "y": [
          -7.250108574555569,
          -0.8337828759389033
         ],
         "z": [
          -1.4415180189468613,
          1.5722755035083578
         ]
        },
        {
         "marker": {
          "color": "blue",
          "line": {
           "width": 0
          },
          "size": 2
         },
         "mode": "markers",
         "name": "3.191812512066244",
         "showlegend": false,
         "type": "scatter3d",
         "x": [
          -1.6580312392471215
         ],
         "y": [
          -2.4686234359156143
         ],
         "z": [
          -2.9967834212358087
         ]
        },
        {
         "marker": {
          "color": "red",
          "line": {
           "width": 0
          },
          "size": 2
         },
         "mode": "markers",
         "name": "-5.669687886417745",
         "showlegend": false,
         "type": "scatter3d",
         "x": [
          -0.777220540001882
         ],
         "y": [
          -10.726763450049406
         ],
         "z": [
          -0.06470266128815605
         ]
        },
        {
         "marker": {
          "color": "blue",
          "line": {
           "width": 0
          },
          "size": 2
         },
         "mode": "markers",
         "name": "3.958621239677284",
         "showlegend": false,
         "type": "scatter3d",
         "x": [
          -0.2077457436123662
         ],
         "y": [
          -0.6904645628096294
         ],
         "z": [
          -3.0030071301117554
         ]
        },
        {
         "marker": {
          "color": "red",
          "line": {
           "width": 0
          },
          "size": 2
         },
         "mode": "markers",
         "name": "-2.4474710443362753",
         "showlegend": false,
         "type": "scatter3d",
         "x": [
          -2.208993881683744
         ],
         "y": [
          -6.931037127562513
         ],
         "z": [
          -0.4799236902257027
         ]
        },
        {
         "marker": {
          "color": "red",
          "line": {
           "width": 0
          },
          "size": 2
         },
         "mode": "markers",
         "name": "-6.941129321311848",
         "showlegend": false,
         "type": "scatter3d",
         "x": [
          -2.1092372461747035
         ],
         "y": [
          -9.393765145033843
         ],
         "z": [
          1.993615444124878
         ]
        },
        {
         "marker": {
          "color": "blue",
          "line": {
           "width": 0
          },
          "size": 2
         },
         "mode": "markers",
         "name": "4.784625058743713",
         "showlegend": false,
         "type": "scatter3d",
         "x": [
          -0.3180427354058979
         ],
         "y": [
          -1.4010703116424414
         ],
         "z": [
          -4.0555125917167665
         ]
        },
        {
         "marker": {
          "color": "blue",
          "line": {
           "width": 0
          },
          "size": 2
         },
         "mode": "markers",
         "name": "3.301055795072448",
         "showlegend": false,
         "type": "scatter3d",
         "x": [
          -1.7618984071926949
         ],
         "y": [
          -2.8473642653630744
         ],
         "z": [
          -3.268479933536673
         ]
        },
        {
         "marker": {
          "color": "red",
          "line": {
           "width": 0
          },
          "size": 2
         },
         "mode": "markers",
         "name": "-5.94989071369344",
         "showlegend": false,
         "type": "scatter3d",
         "x": [
          -1.6994184393126137
         ],
         "y": [
          -9.613804261878917
         ],
         "z": [
          0.9536793178805771
         ]
        },
        {
         "marker": {
          "color": "red",
          "line": {
           "width": 0
          },
          "size": 2
         },
         "mode": "markers",
         "name": "-7.633624158395208",
         "showlegend": false,
         "type": "scatter3d",
         "x": [
          -0.8996299869449244
         ],
         "y": [
          -9.698610632187053
         ],
         "z": [
          2.1667810560691363
         ]
        },
        {
         "marker": {
          "color": "red",
          "line": {
           "width": 0
          },
          "size": 3
         },
         "mode": "markers",
         "name": "d=-8.681973883678706",
         "type": "scatter3d",
         "x": [
          0.1265942845014456
         ],
         "y": [
          -11.219434867826742
         ],
         "z": [
          2.0340735109649115
         ]
        },
        {
         "line": {
          "width": 6
         },
         "marker": {
          "size": 1
         },
         "name": "^ len_d",
         "type": "scatter3d",
         "x": [
          0.1265942845014456,
          -1.0230457387656517
         ],
         "y": [
          -11.219434867826742,
          -8.279125453089586
         ],
         "z": [
          2.0340735109649115,
          -3.5105072173456775
         ]
        },
        {
         "line": {
          "width": 6
         },
         "marker": {
          "size": 1
         },
         "name": "^ proj",
         "type": "scatter3d",
         "x": [
          0.1265942845014456,
          1.2542065466886378
         ],
         "y": [
          -11.219434867826742,
          -3.207747853779091
         ],
         "z": [
          2.0340735109649115,
          6.048892964189326
         ]
        },
        {
         "marker": {
          "color": "blue",
          "line": {
           "width": 0
          },
          "size": 2
         },
         "mode": "markers",
         "name": "3.92109650486913",
         "showlegend": false,
         "type": "scatter3d",
         "x": [
          -3.2793979214271083
         ],
         "y": [
          -1.2275904418093788
         ],
         "z": [
          -2.6192215465178186
         ]
        },
        {
         "marker": {
          "color": "red",
          "line": {
           "width": 0
          },
          "size": 2
         },
         "mode": "markers",
         "name": "-7.602602553010275",
         "showlegend": false,
         "type": "scatter3d",
         "x": [
          -0.5448223810947223
         ],
         "y": [
          -10.13472563123421
         ],
         "z": [
          1.835705839145523
         ]
        },
        {
         "marker": {
          "color": "red",
          "line": {
           "width": 0
          },
          "size": 2
         },
         "mode": "markers",
         "name": "-5.82164235654051",
         "showlegend": false,
         "type": "scatter3d",
         "x": [
          -1.9993557985866022
         ],
         "y": [
          -10.064889958021181
         ],
         "z": [
          0.6681999291923968
         ]
        },
        {
         "marker": {
          "color": "blue",
          "line": {
           "width": 0
          },
          "size": 2
         },
         "mode": "markers",
         "name": "4.245337102998128",
         "showlegend": false,
         "type": "scatter3d",
         "x": [
          -0.6920363339672632
         ],
         "y": [
          -1.58898446753575
         ],
         "z": [
          -3.6215511381165517
         ]
        },
        {
         "marker": {
          "color": "blue",
          "line": {
           "width": 0
          },
          "size": 2
         },
         "mode": "markers",
         "name": "5.0220710396210135",
         "showlegend": false,
         "type": "scatter3d",
         "x": [
          -0.2605230817068416
         ],
         "y": [
          -1.9216463929509258
         ],
         "z": [
          -4.544306524063666
         ]
        },
        {
         "marker": {
          "color": "blue",
          "line": {
           "width": 0
          },
          "size": 2
         },
         "mode": "markers",
         "name": "2.3568903236592607",
         "showlegend": false,
         "type": "scatter3d",
         "x": [
          -1.7200746184897326
         ],
         "y": [
          -1.7407911494275212
         ],
         "z": [
          -1.8918666646659397
         ]
        },
        {
         "marker": {
          "color": "blue",
          "line": {
           "width": 0
          },
          "size": 2
         },
         "mode": "markers",
         "name": "2.0015669529572664",
         "showlegend": false,
         "type": "scatter3d",
         "x": [
          -0.5415872984195823
         ],
         "y": [
          -2.5864049413688104
         ],
         "z": [
          -2.2841602985608693
         ]
        },
        {
         "marker": {
          "color": "blue",
          "line": {
           "width": 0
          },
          "size": 2
         },
         "mode": "markers",
         "name": "5.154845322811196",
         "showlegend": false,
         "type": "scatter3d",
         "x": [
          -3.1439561214259393
         ],
         "y": [
          -1.2621558942512991
         ],
         "z": [
          -3.7089967902252914
         ]
        },
        {
         "marker": {
          "color": "blue",
          "line": {
           "width": 0
          },
          "size": 2
         },
         "mode": "markers",
         "name": "1.805600111263191",
         "showlegend": false,
         "type": "scatter3d",
         "x": [
          1.9861932534769364
         ],
         "y": [
          -0.6217826382099462
         ],
         "z": [
          -1.6007107275242336
         ]
        },
        {
         "marker": {
          "color": "red",
          "line": {
           "width": 0
          },
          "size": 2
         },
         "mode": "markers",
         "name": "-6.668948038241366",
         "showlegend": false,
         "type": "scatter3d",
         "x": [
          -0.7782447503786115
         ],
         "y": [
          -10.325689067272036
         ],
         "z": [
          0.993259319045779
         ]
        },
        {
         "marker": {
          "color": "blue",
          "line": {
           "width": 0
          },
          "size": 2
         },
         "mode": "markers",
         "name": "4.96842429292795",
         "showlegend": false,
         "type": "scatter3d",
         "x": [
          -2.354351183964895
         ],
         "y": [
          -1.0009774375225404
         ],
         "z": [
          -3.576560153702099
         ]
        },
        {
         "marker": {
          "color": "blue",
          "line": {
           "width": 0
          },
          "size": 2
         },
         "mode": "markers",
         "name": "2.68871174499778",
         "showlegend": false,
         "type": "scatter3d",
         "x": [
          0.5324423095002062
         ],
         "y": [
          -3.306711369346252
         ],
         "z": [
          -3.4699431439198865
         ]
        },
        {
         "marker": {
          "color": "blue",
          "line": {
           "width": 0
          },
          "size": 2
         },
         "mode": "markers",
         "name": "5.75557433795478",
         "showlegend": false,
         "type": "scatter3d",
         "x": [
          -0.7956119992676421
         ],
         "y": [
          -1.4661397829437133
         ],
         "z": [
          -4.812114131071052
         ]
        },
        {
         "marker": {
          "color": "red",
          "line": {
           "width": 0
          },
          "size": 2
         },
         "mode": "markers",
         "name": "-7.372953859023904",
         "showlegend": false,
         "type": "scatter3d",
         "x": [
          -1.9577775344879664
         ],
         "y": [
          -10.920914390180792
         ],
         "z": [
          1.5175459875845316
         ]
        },
        {
         "marker": {
          "color": "red",
          "line": {
           "width": 0
          },
          "size": 2
         },
         "mode": "markers",
         "name": "-4.5706691510442665",
         "showlegend": false,
         "type": "scatter3d",
         "x": [
          -0.846605627083354
         ],
         "y": [
          -8.203096133170305
         ],
         "z": [
          0.35857025239482054
         ]
        },
        {
         "marker": {
          "color": "red",
          "line": {
           "width": 0
          },
          "size": 2
         },
         "mode": "markers",
         "name": "-7.430561057858492",
         "showlegend": false,
         "type": "scatter3d",
         "x": [
          -0.9540985237729442
         ],
         "y": [
          -11.521798412170888
         ],
         "z": [
          1.0395050807158799
         ]
        },
        {
         "marker": {
          "color": "red",
          "line": {
           "width": 0
          },
          "size": 2
         },
         "mode": "markers",
         "name": "-7.419585907341752",
         "showlegend": false,
         "type": "scatter3d",
         "x": [
          -1.167375452343276
         ],
         "y": [
          -9.11103082677894
         ],
         "z": [
          2.352883420246779
         ]
        },
        {
         "marker": {
          "color": "red",
          "line": {
           "width": 0
          },
          "size": 2
         },
         "mode": "markers",
         "name": "-5.327530834164923",
         "showlegend": false,
         "type": "scatter3d",
         "x": [
          -1.6189239231891213
         ],
         "y": [
          -9.717659394294776
         ],
         "z": [
          0.35559454508988164
         ]
        },
        {
         "marker": {
          "color": "blue",
          "line": {
           "width": 0
          },
          "size": 2
         },
         "mode": "markers",
         "name": "1.8168889395917676",
         "showlegend": false,
         "type": "scatter3d",
         "x": [
          2.815140476170738
         ],
         "y": [
          -0.7715230809383078
         ],
         "z": [
          -1.8615432636055613
         ]
        },
        {
         "marker": {
          "color": "red",
          "line": {
           "width": 0
          },
          "size": 2
         },
         "mode": "markers",
         "name": "-6.435029976246158",
         "showlegend": false,
         "type": "scatter3d",
         "x": [
          -2.467714243545209
         ],
         "y": [
          -10.9026925907463
         ],
         "z": [
          0.8397543618972337
         ]
        },
        {
         "marker": {
          "color": "blue",
          "line": {
           "width": 0
          },
          "size": 2
         },
         "mode": "markers",
         "name": "3.270729992869069",
         "showlegend": false,
         "type": "scatter3d",
         "x": [
          -2.6111194173885
         ],
         "y": [
          -3.6182375500848063
         ],
         "z": [
          -3.4755489549556478
         ]
        },
        {
         "marker": {
          "color": "blue",
          "line": {
           "width": 0
          },
          "size": 2
         },
         "mode": "markers",
         "name": "4.7212553633339525",
         "showlegend": false,
         "type": "scatter3d",
         "x": [
          -2.632141027502986
         ],
         "y": [
          -0.4598978823168711
         ],
         "z": [
          -3.0229987371752776
         ]
        },
        {
         "marker": {
          "color": "blue",
          "line": {
           "width": 0
          },
          "size": 2
         },
         "mode": "markers",
         "name": "1.940225157891715",
         "showlegend": false,
         "type": "scatter3d",
         "x": [
          -0.27369741826522564
         ],
         "y": [
          -3.07510943607289
         ],
         "z": [
          -2.5469916880804377
         ]
        },
        {
         "marker": {
          "color": "red",
          "line": {
           "width": 0
          },
          "size": 2
         },
         "mode": "markers",
         "name": "-7.112289851815083",
         "showlegend": false,
         "type": "scatter3d",
         "x": [
          -0.8562772492940441
         ],
         "y": [
          -8.682295368407159
         ],
         "z": [
          2.255863220899003
         ]
        },
        {
         "marker": {
          "color": "blue",
          "line": {
           "width": 0
          },
          "size": 2
         },
         "mode": "markers",
         "name": "3.1372305450118247",
         "showlegend": false,
         "type": "scatter3d",
         "x": [
          0.5109244939452628
         ],
         "y": [
          -1.4122341513386731
         ],
         "z": [
          -2.8401393057647053
         ]
        },
        {
         "marker": {
          "color": "blue",
          "line": {
           "width": 0
          },
          "size": 2
         },
         "mode": "markers",
         "name": "4.5098813008931025",
         "showlegend": false,
         "type": "scatter3d",
         "x": [
          -3.3631644102999134
         ],
         "y": [
          -0.982499871843562
         ],
         "z": [
          -2.9698066794796447
         ]
        },
        {
         "marker": {
          "color": "red",
          "line": {
           "width": 0
          },
          "size": 2
         },
         "mode": "markers",
         "name": "-5.170077552795163",
         "showlegend": false,
         "type": "scatter3d",
         "x": [
          -3.6237051481598868
         ],
         "y": [
          -8.3199538727014
         ],
         "z": [
          1.3793276051777774
         ]
        },
        {
         "marker": {
          "color": "red",
          "line": {
           "width": 0
          },
          "size": 2
         },
         "mode": "markers",
         "name": "-5.996512267988843",
         "showlegend": false,
         "type": "scatter3d",
         "x": [
          -0.8982357230332279
         ],
         "y": [
          -8.915199921999717
         ],
         "z": [
          1.197457536488295
         ]
        },
        {
         "marker": {
          "color": "red",
          "line": {
           "width": 0
          },
          "size": 2
         },
         "mode": "markers",
         "name": "-8.402394948992251",
         "showlegend": false,
         "type": "scatter3d",
         "x": [
          -1.6839942264978642
         ],
         "y": [
          -10.865994029978038
         ],
         "z": [
          2.3604849815013074
         ]
        },
        {
         "marker": {
          "color": "blue",
          "line": {
           "width": 0
          },
          "size": 2
         },
         "mode": "markers",
         "name": "1.6149242080370023",
         "showlegend": false,
         "type": "scatter3d",
         "x": [
          -0.17566541418362114
         ],
         "y": [
          -1.8668860471137454
         ],
         "z": [
          -1.6514913914502833
         ]
        },
        {
         "marker": {
          "color": "red",
          "line": {
           "width": 0
          },
          "size": 2
         },
         "mode": "markers",
         "name": "-7.23802288951913",
         "showlegend": false,
         "type": "scatter3d",
         "x": [
          -0.5849823521129334
         ],
         "y": [
          -11.514941909564786
         ],
         "z": [
          0.8037802928618021
         ]
        },
        {
         "marker": {
          "color": "red",
          "line": {
           "width": 0
          },
          "size": 2
         },
         "mode": "markers",
         "name": "-5.112312020992316",
         "showlegend": false,
         "type": "scatter3d",
         "x": [
          -2.3015166876819912
         ],
         "y": [
          -9.049079662462567
         ],
         "z": [
          0.669669487497659
         ]
        },
        {
         "marker": {
          "color": "red",
          "line": {
           "width": 0
          },
          "size": 2
         },
         "mode": "markers",
         "name": "-7.019737552344267",
         "showlegend": false,
         "type": "scatter3d",
         "x": [
          -0.062216324103634424
         ],
         "y": [
          -9.943480711595555
         ],
         "z": [
          1.3441380516619292
         ]
        },
        {
         "marker": {
          "color": "blue",
          "line": {
           "width": 0
          },
          "size": 2
         },
         "mode": "markers",
         "name": "3.768945877567886",
         "showlegend": false,
         "type": "scatter3d",
         "x": [
          -0.7791814301690143
         ],
         "y": [
          -0.7631855276368256
         ],
         "z": [
          -2.7626816126453972
         ]
        },
        {
         "marker": {
          "color": "blue",
          "line": {
           "width": 0
          },
          "size": 2
         },
         "mode": "markers",
         "name": "2.333747836332608",
         "showlegend": false,
         "type": "scatter3d",
         "x": [
          -1.7410530238271087
         ],
         "y": [
          -2.848071176596078
         ],
         "z": [
          -2.4551399086483734
         ]
        },
        {
         "marker": {
          "color": "blue",
          "line": {
           "width": 0
          },
          "size": 2
         },
         "mode": "markers",
         "name": "3.7905107620068477",
         "showlegend": false,
         "type": "scatter3d",
         "x": [
          -1.846501587197685
         ],
         "y": [
          -1.2931171450700611
         ],
         "z": [
          -2.8406398843183185
         ]
        },
        {
         "marker": {
          "color": "red",
          "line": {
           "width": 0
          },
          "size": 2
         },
         "mode": "markers",
         "name": "-4.582045806241058",
         "showlegend": false,
         "type": "scatter3d",
         "x": [
          -1.661618438925011
         ],
         "y": [
          -9.41498635429603
         ],
         "z": [
          -0.10548938942187358
         ]
        },
        {
         "marker": {
          "color": "blue",
          "line": {
           "width": 0
          },
          "size": 2
         },
         "mode": "markers",
         "name": "5.070675555798818",
         "showlegend": false,
         "type": "scatter3d",
         "x": [
          -3.0584698759102187
         ],
         "y": [
          -1.70706525528034
         ],
         "z": [
          -3.891477773844276
         ]
        },
        {
         "marker": {
          "color": "red",
          "line": {
           "width": 0
          },
          "size": 2
         },
         "mode": "markers",
         "name": "-4.648061855652127",
         "showlegend": false,
         "type": "scatter3d",
         "x": [
          -1.4365361275445485
         ],
         "y": [
          -9.224904911440879
         ],
         "z": [
          0.004470508804561124
         ]
        },
        {
         "marker": {
          "color": "red",
          "line": {
           "width": 0
          },
          "size": 2
         },
         "mode": "markers",
         "name": "-7.964515287866054",
         "showlegend": false,
         "type": "scatter3d",
         "x": [
          0.3043850992357515
         ],
         "y": [
          -12.140924819825662
         ],
         "z": [
          0.9017969346835247
         ]
        },
        {
         "marker": {
          "color": "red",
          "line": {
           "width": 0
          },
          "size": 2
         },
         "mode": "markers",
         "name": "-6.208409275123907",
         "showlegend": false,
         "type": "scatter3d",
         "x": [
          -3.1481926117236885
         ],
         "y": [
          -7.750290697461706
         ],
         "z": [
          2.4609275681475955
         ]
        },
        {
         "marker": {
          "color": "red",
          "line": {
           "width": 0
          },
          "size": 2
         },
         "mode": "markers",
         "name": "-4.789147430712685",
         "showlegend": false,
         "type": "scatter3d",
         "x": [
          -2.0279729064537872
         ],
         "y": [
          -9.472450112468849
         ],
         "z": [
          0.11514166433384088
         ]
        },
        {
         "marker": {
          "color": "red",
          "line": {
           "width": 0
          },
          "size": 2
         },
         "mode": "markers",
         "name": "-5.107534620391757",
         "showlegend": false,
         "type": "scatter3d",
         "x": [
          -2.413235230836907
         ],
         "y": [
          -9.048382808785483
         ],
         "z": [
          0.6891631187728673
         ]
        },
        {
         "marker": {
          "color": "red",
          "line": {
           "width": 0
          },
          "size": 2
         },
         "mode": "markers",
         "name": "-5.446853995595974",
         "showlegend": false,
         "type": "scatter3d",
         "x": [
          -1.5562814494106627
         ],
         "y": [
          -9.99835925717476
         ],
         "z": [
          0.2946596076377942
         ]
        },
        {
         "marker": {
          "color": "blue",
          "line": {
           "width": 0
          },
          "size": 2
         },
         "mode": "markers",
         "name": "3.488416098471431",
         "showlegend": false,
         "type": "scatter3d",
         "x": [
          -1.1724465660561343
         ],
         "y": [
          -2.439472710192113
         ],
         "z": [
          -3.3328411309196055
         ]
        },
        {
         "marker": {
          "color": "blue",
          "line": {
           "width": 0
          },
          "size": 2
         },
         "mode": "markers",
         "name": "5.675164331401085",
         "showlegend": false,
         "type": "scatter3d",
         "x": [
          -1.545326266004287
         ],
         "y": [
          -3.1393185695146357
         ],
         "z": [
          -5.475955515667467
         ]
        },
        {
         "marker": {
          "color": "red",
          "line": {
           "width": 0
          },
          "size": 2
         },
         "mode": "markers",
         "name": "-6.956410841014744",
         "showlegend": false,
         "type": "scatter3d",
         "x": [
          -1.357320622512882
         ],
         "y": [
          -8.656772358005192
         ],
         "z": [
          2.2414624781712167
         ]
        },
        {
         "marker": {
          "color": "red",
          "line": {
           "width": 0
          },
          "size": 2
         },
         "mode": "markers",
         "name": "-6.070585052535823",
         "showlegend": false,
         "type": "scatter3d",
         "x": [
          -1.6611944746752747
         ],
         "y": [
          -9.857144786521168
         ],
         "z": [
          0.9187787946802018
         ]
        },
        {
         "marker": {
          "color": "red",
          "line": {
           "width": 0
          },
          "size": 2
         },
         "mode": "markers",
         "name": "-7.2577772801363745",
         "showlegend": false,
         "type": "scatter3d",
         "x": [
          -0.7377493850108957
         ],
         "y": [
          -9.794983560435583
         ],
         "z": [
          1.7642612956435944
         ]
        },
        {
         "marker": {
          "color": "blue",
          "line": {
           "width": 0
          },
          "size": 2
         },
         "mode": "markers",
         "name": "3.840333997654276",
         "showlegend": false,
         "type": "scatter3d",
         "x": [
          -2.7469164972912514
         ],
         "y": [
          -1.9306617356064473
         ],
         "z": [
          -3.034170248128713
         ]
        },
        {
         "marker": {
          "color": "blue",
          "line": {
           "width": 0
          },
          "size": 2
         },
         "mode": "markers",
         "name": "2.4403101646704664",
         "showlegend": false,
         "type": "scatter3d",
         "x": [
          -0.423953950089518
         ],
         "y": [
          -2.679734533092661
         ],
         "z": [
          -2.7290821665268874
         ]
        },
        {
         "marker": {
          "color": "blue",
          "line": {
           "width": 0
          },
          "size": 3
         },
         "mode": "markers",
         "name": "d=7.05317360877066",
         "type": "scatter3d",
         "x": [
          -2.317067132432493
         ],
         "y": [
          -2.040818781594588
         ],
         "z": [
          -5.8987617119969125
         ]
        },
        {
         "line": {
          "width": 6
         },
         "marker": {
          "size": 1
         },
         "name": "^ len_d",
         "type": "scatter3d",
         "x": [
          -2.317067132432493,
          -1.383107783978635
         ],
         "y": [
          -2.040818781594588,
          -4.42950516138553
         ],
         "z": [
          -5.8987617119969125,
          -1.3943839070675583
         ]
        },
        {
         "line": {
          "width": 6
         },
         "marker": {
          "size": 1
         },
         "name": "^ proj",
         "type": "scatter3d",
         "x": [
          -2.317067132432493,
          -0.8293928250323177
         ],
         "y": [
          -2.040818781594588,
          2.1212479407490057
         ],
         "z": [
          -5.8987617119969125,
          -4.0000655690506175
         ]
        },
        {
         "showlegend": false,
         "showscale": false,
         "type": "surface",
         "x": [
          [
           -4.408310764085751,
           -4.147481866430139,
           -3.886652968774526,
           -3.625824071118914,
           -3.364995173463301,
           -3.104166275807689,
           -2.8433373781520763,
           -2.5825084804964638,
           -2.321679582840851,
           -2.0608506851852386,
           -1.800021787529626,
           -1.5391928898740135,
           -1.2783639922184014,
           -1.0175350945627888,
           -0.7567061969071762,
           -0.49587729925156365,
           -0.23504840159595108,
           0.02578049605966104,
           0.28660939371527405,
           0.5474382913708862,
           0.8082671890264992,
           1.0690960866821113,
           1.3299249843377243,
           1.5907538819933364,
           1.8515827796489486,
           2.1124116773045616,
           2.3732405749601737,
           2.6340694726157867,
           2.894898370271399,
           3.155727267927011
          ],
          [
           -4.408310764085751,
           -4.147481866430139,
           -3.886652968774526,
           -3.625824071118914,
           -3.364995173463301,
           -3.104166275807689,
           -2.8433373781520763,
           -2.5825084804964638,
           -2.321679582840851,
           -2.0608506851852386,
           -1.800021787529626,
           -1.5391928898740135,
           -1.2783639922184014,
           -1.0175350945627888,
           -0.7567061969071762,
           -0.49587729925156365,
           -0.23504840159595108,
           0.02578049605966104,
           0.28660939371527405,
           0.5474382913708862,
           0.8082671890264992,
           1.0690960866821113,
           1.3299249843377243,
           1.5907538819933364,
           1.8515827796489486,
           2.1124116773045616,
           2.3732405749601737,
           2.6340694726157867,
           2.894898370271399,
           3.155727267927011
          ],
          [
           -4.408310764085751,
           -4.147481866430139,
           -3.886652968774526,
           -3.625824071118914,
           -3.364995173463301,
           -3.104166275807689,
           -2.8433373781520763,
           -2.5825084804964638,
           -2.321679582840851,
           -2.0608506851852386,
           -1.800021787529626,
           -1.5391928898740135,
           -1.2783639922184014,
           -1.0175350945627888,
           -0.7567061969071762,
           -0.49587729925156365,
           -0.23504840159595108,
           0.02578049605966104,
           0.28660939371527405,
           0.5474382913708862,
           0.8082671890264992,
           1.0690960866821113,
           1.3299249843377243,
           1.5907538819933364,
           1.8515827796489486,
           2.1124116773045616,
           2.3732405749601737,
           2.6340694726157867,
           2.894898370271399,
           3.155727267927011
          ],
          [
           -4.408310764085751,
           -4.147481866430139,
           -3.886652968774526,
           -3.625824071118914,
           -3.364995173463301,
           -3.104166275807689,
           -2.8433373781520763,
           -2.5825084804964638,
           -2.321679582840851,
           -2.0608506851852386,
           -1.800021787529626,
           -1.5391928898740135,
           -1.2783639922184014,
           -1.0175350945627888,
           -0.7567061969071762,
           -0.49587729925156365,
           -0.23504840159595108,
           0.02578049605966104,
           0.28660939371527405,
           0.5474382913708862,
           0.8082671890264992,
           1.0690960866821113,
           1.3299249843377243,
           1.5907538819933364,
           1.8515827796489486,
           2.1124116773045616,
           2.3732405749601737,
           2.6340694726157867,
           2.894898370271399,
           3.155727267927011
          ],
          [
           -4.408310764085751,
           -4.147481866430139,
           -3.886652968774526,
           -3.625824071118914,
           -3.364995173463301,
           -3.104166275807689,
           -2.8433373781520763,
           -2.5825084804964638,
           -2.321679582840851,
           -2.0608506851852386,
           -1.800021787529626,
           -1.5391928898740135,
           -1.2783639922184014,
           -1.0175350945627888,
           -0.7567061969071762,
           -0.49587729925156365,
           -0.23504840159595108,
           0.02578049605966104,
           0.28660939371527405,
           0.5474382913708862,
           0.8082671890264992,
           1.0690960866821113,
           1.3299249843377243,
           1.5907538819933364,
           1.8515827796489486,
           2.1124116773045616,
           2.3732405749601737,
           2.6340694726157867,
           2.894898370271399,
           3.155727267927011
          ],
          [
           -4.408310764085751,
           -4.147481866430139,
           -3.886652968774526,
           -3.625824071118914,
           -3.364995173463301,
           -3.104166275807689,
           -2.8433373781520763,
           -2.5825084804964638,
           -2.321679582840851,
           -2.0608506851852386,
           -1.800021787529626,
           -1.5391928898740135,
           -1.2783639922184014,
           -1.0175350945627888,
           -0.7567061969071762,
           -0.49587729925156365,
           -0.23504840159595108,
           0.02578049605966104,
           0.28660939371527405,
           0.5474382913708862,
           0.8082671890264992,
           1.0690960866821113,
           1.3299249843377243,
           1.5907538819933364,
           1.8515827796489486,
           2.1124116773045616,
           2.3732405749601737,
           2.6340694726157867,
           2.894898370271399,
           3.155727267927011
          ],
          [
           -4.408310764085751,
           -4.147481866430139,
           -3.886652968774526,
           -3.625824071118914,
           -3.364995173463301,
           -3.104166275807689,
           -2.8433373781520763,
           -2.5825084804964638,
           -2.321679582840851,
           -2.0608506851852386,
           -1.800021787529626,
           -1.5391928898740135,
           -1.2783639922184014,
           -1.0175350945627888,
           -0.7567061969071762,
           -0.49587729925156365,
           -0.23504840159595108,
           0.02578049605966104,
           0.28660939371527405,
           0.5474382913708862,
           0.8082671890264992,
           1.0690960866821113,
           1.3299249843377243,
           1.5907538819933364,
           1.8515827796489486,
           2.1124116773045616,
           2.3732405749601737,
           2.6340694726157867,
           2.894898370271399,
           3.155727267927011
          ],
          [
           -4.408310764085751,
           -4.147481866430139,
           -3.886652968774526,
           -3.625824071118914,
           -3.364995173463301,
           -3.104166275807689,
           -2.8433373781520763,
           -2.5825084804964638,
           -2.321679582840851,
           -2.0608506851852386,
           -1.800021787529626,
           -1.5391928898740135,
           -1.2783639922184014,
           -1.0175350945627888,
           -0.7567061969071762,
           -0.49587729925156365,
           -0.23504840159595108,
           0.02578049605966104,
           0.28660939371527405,
           0.5474382913708862,
           0.8082671890264992,
           1.0690960866821113,
           1.3299249843377243,
           1.5907538819933364,
           1.8515827796489486,
           2.1124116773045616,
           2.3732405749601737,
           2.6340694726157867,
           2.894898370271399,
           3.155727267927011
          ],
          [
           -4.408310764085751,
           -4.147481866430139,
           -3.886652968774526,
           -3.625824071118914,
           -3.364995173463301,
           -3.104166275807689,
           -2.8433373781520763,
           -2.5825084804964638,
           -2.321679582840851,
           -2.0608506851852386,
           -1.800021787529626,
           -1.5391928898740135,
           -1.2783639922184014,
           -1.0175350945627888,
           -0.7567061969071762,
           -0.49587729925156365,
           -0.23504840159595108,
           0.02578049605966104,
           0.28660939371527405,
           0.5474382913708862,
           0.8082671890264992,
           1.0690960866821113,
           1.3299249843377243,
           1.5907538819933364,
           1.8515827796489486,
           2.1124116773045616,
           2.3732405749601737,
           2.6340694726157867,
           2.894898370271399,
           3.155727267927011
          ],
          [
           -4.408310764085751,
           -4.147481866430139,
           -3.886652968774526,
           -3.625824071118914,
           -3.364995173463301,
           -3.104166275807689,
           -2.8433373781520763,
           -2.5825084804964638,
           -2.321679582840851,
           -2.0608506851852386,
           -1.800021787529626,
           -1.5391928898740135,
           -1.2783639922184014,
           -1.0175350945627888,
           -0.7567061969071762,
           -0.49587729925156365,
           -0.23504840159595108,
           0.02578049605966104,
           0.28660939371527405,
           0.5474382913708862,
           0.8082671890264992,
           1.0690960866821113,
           1.3299249843377243,
           1.5907538819933364,
           1.8515827796489486,
           2.1124116773045616,
           2.3732405749601737,
           2.6340694726157867,
           2.894898370271399,
           3.155727267927011
          ],
          [
           -4.408310764085751,
           -4.147481866430139,
           -3.886652968774526,
           -3.625824071118914,
           -3.364995173463301,
           -3.104166275807689,
           -2.8433373781520763,
           -2.5825084804964638,
           -2.321679582840851,
           -2.0608506851852386,
           -1.800021787529626,
           -1.5391928898740135,
           -1.2783639922184014,
           -1.0175350945627888,
           -0.7567061969071762,
           -0.49587729925156365,
           -0.23504840159595108,
           0.02578049605966104,
           0.28660939371527405,
           0.5474382913708862,
           0.8082671890264992,
           1.0690960866821113,
           1.3299249843377243,
           1.5907538819933364,
           1.8515827796489486,
           2.1124116773045616,
           2.3732405749601737,
           2.6340694726157867,
           2.894898370271399,
           3.155727267927011
          ],
          [
           -4.408310764085751,
           -4.147481866430139,
           -3.886652968774526,
           -3.625824071118914,
           -3.364995173463301,
           -3.104166275807689,
           -2.8433373781520763,
           -2.5825084804964638,
           -2.321679582840851,
           -2.0608506851852386,
           -1.800021787529626,
           -1.5391928898740135,
           -1.2783639922184014,
           -1.0175350945627888,
           -0.7567061969071762,
           -0.49587729925156365,
           -0.23504840159595108,
           0.02578049605966104,
           0.28660939371527405,
           0.5474382913708862,
           0.8082671890264992,
           1.0690960866821113,
           1.3299249843377243,
           1.5907538819933364,
           1.8515827796489486,
           2.1124116773045616,
           2.3732405749601737,
           2.6340694726157867,
           2.894898370271399,
           3.155727267927011
          ],
          [
           -4.408310764085751,
           -4.147481866430139,
           -3.886652968774526,
           -3.625824071118914,
           -3.364995173463301,
           -3.104166275807689,
           -2.8433373781520763,
           -2.5825084804964638,
           -2.321679582840851,
           -2.0608506851852386,
           -1.800021787529626,
           -1.5391928898740135,
           -1.2783639922184014,
           -1.0175350945627888,
           -0.7567061969071762,
           -0.49587729925156365,
           -0.23504840159595108,
           0.02578049605966104,
           0.28660939371527405,
           0.5474382913708862,
           0.8082671890264992,
           1.0690960866821113,
           1.3299249843377243,
           1.5907538819933364,
           1.8515827796489486,
           2.1124116773045616,
           2.3732405749601737,
           2.6340694726157867,
           2.894898370271399,
           3.155727267927011
          ],
          [
           -4.408310764085751,
           -4.147481866430139,
           -3.886652968774526,
           -3.625824071118914,
           -3.364995173463301,
           -3.104166275807689,
           -2.8433373781520763,
           -2.5825084804964638,
           -2.321679582840851,
           -2.0608506851852386,
           -1.800021787529626,
           -1.5391928898740135,
           -1.2783639922184014,
           -1.0175350945627888,
           -0.7567061969071762,
           -0.49587729925156365,
           -0.23504840159595108,
           0.02578049605966104,
           0.28660939371527405,
           0.5474382913708862,
           0.8082671890264992,
           1.0690960866821113,
           1.3299249843377243,
           1.5907538819933364,
           1.8515827796489486,
           2.1124116773045616,
           2.3732405749601737,
           2.6340694726157867,
           2.894898370271399,
           3.155727267927011
          ],
          [
           -4.408310764085751,
           -4.147481866430139,
           -3.886652968774526,
           -3.625824071118914,
           -3.364995173463301,
           -3.104166275807689,
           -2.8433373781520763,
           -2.5825084804964638,
           -2.321679582840851,
           -2.0608506851852386,
           -1.800021787529626,
           -1.5391928898740135,
           -1.2783639922184014,
           -1.0175350945627888,
           -0.7567061969071762,
           -0.49587729925156365,
           -0.23504840159595108,
           0.02578049605966104,
           0.28660939371527405,
           0.5474382913708862,
           0.8082671890264992,
           1.0690960866821113,
           1.3299249843377243,
           1.5907538819933364,
           1.8515827796489486,
           2.1124116773045616,
           2.3732405749601737,
           2.6340694726157867,
           2.894898370271399,
           3.155727267927011
          ],
          [
           -4.408310764085751,
           -4.147481866430139,
           -3.886652968774526,
           -3.625824071118914,
           -3.364995173463301,
           -3.104166275807689,
           -2.8433373781520763,
           -2.5825084804964638,
           -2.321679582840851,
           -2.0608506851852386,
           -1.800021787529626,
           -1.5391928898740135,
           -1.2783639922184014,
           -1.0175350945627888,
           -0.7567061969071762,
           -0.49587729925156365,
           -0.23504840159595108,
           0.02578049605966104,
           0.28660939371527405,
           0.5474382913708862,
           0.8082671890264992,
           1.0690960866821113,
           1.3299249843377243,
           1.5907538819933364,
           1.8515827796489486,
           2.1124116773045616,
           2.3732405749601737,
           2.6340694726157867,
           2.894898370271399,
           3.155727267927011
          ],
          [
           -4.408310764085751,
           -4.147481866430139,
           -3.886652968774526,
           -3.625824071118914,
           -3.364995173463301,
           -3.104166275807689,
           -2.8433373781520763,
           -2.5825084804964638,
           -2.321679582840851,
           -2.0608506851852386,
           -1.800021787529626,
           -1.5391928898740135,
           -1.2783639922184014,
           -1.0175350945627888,
           -0.7567061969071762,
           -0.49587729925156365,
           -0.23504840159595108,
           0.02578049605966104,
           0.28660939371527405,
           0.5474382913708862,
           0.8082671890264992,
           1.0690960866821113,
           1.3299249843377243,
           1.5907538819933364,
           1.8515827796489486,
           2.1124116773045616,
           2.3732405749601737,
           2.6340694726157867,
           2.894898370271399,
           3.155727267927011
          ],
          [
           -4.408310764085751,
           -4.147481866430139,
           -3.886652968774526,
           -3.625824071118914,
           -3.364995173463301,
           -3.104166275807689,
           -2.8433373781520763,
           -2.5825084804964638,
           -2.321679582840851,
           -2.0608506851852386,
           -1.800021787529626,
           -1.5391928898740135,
           -1.2783639922184014,
           -1.0175350945627888,
           -0.7567061969071762,
           -0.49587729925156365,
           -0.23504840159595108,
           0.02578049605966104,
           0.28660939371527405,
           0.5474382913708862,
           0.8082671890264992,
           1.0690960866821113,
           1.3299249843377243,
           1.5907538819933364,
           1.8515827796489486,
           2.1124116773045616,
           2.3732405749601737,
           2.6340694726157867,
           2.894898370271399,
           3.155727267927011
          ],
          [
           -4.408310764085751,
           -4.147481866430139,
           -3.886652968774526,
           -3.625824071118914,
           -3.364995173463301,
           -3.104166275807689,
           -2.8433373781520763,
           -2.5825084804964638,
           -2.321679582840851,
           -2.0608506851852386,
           -1.800021787529626,
           -1.5391928898740135,
           -1.2783639922184014,
           -1.0175350945627888,
           -0.7567061969071762,
           -0.49587729925156365,
           -0.23504840159595108,
           0.02578049605966104,
           0.28660939371527405,
           0.5474382913708862,
           0.8082671890264992,
           1.0690960866821113,
           1.3299249843377243,
           1.5907538819933364,
           1.8515827796489486,
           2.1124116773045616,
           2.3732405749601737,
           2.6340694726157867,
           2.894898370271399,
           3.155727267927011
          ],
          [
           -4.408310764085751,
           -4.147481866430139,
           -3.886652968774526,
           -3.625824071118914,
           -3.364995173463301,
           -3.104166275807689,
           -2.8433373781520763,
           -2.5825084804964638,
           -2.321679582840851,
           -2.0608506851852386,
           -1.800021787529626,
           -1.5391928898740135,
           -1.2783639922184014,
           -1.0175350945627888,
           -0.7567061969071762,
           -0.49587729925156365,
           -0.23504840159595108,
           0.02578049605966104,
           0.28660939371527405,
           0.5474382913708862,
           0.8082671890264992,
           1.0690960866821113,
           1.3299249843377243,
           1.5907538819933364,
           1.8515827796489486,
           2.1124116773045616,
           2.3732405749601737,
           2.6340694726157867,
           2.894898370271399,
           3.155727267927011
          ],
          [
           -4.408310764085751,
           -4.147481866430139,
           -3.886652968774526,
           -3.625824071118914,
           -3.364995173463301,
           -3.104166275807689,
           -2.8433373781520763,
           -2.5825084804964638,
           -2.321679582840851,
           -2.0608506851852386,
           -1.800021787529626,
           -1.5391928898740135,
           -1.2783639922184014,
           -1.0175350945627888,
           -0.7567061969071762,
           -0.49587729925156365,
           -0.23504840159595108,
           0.02578049605966104,
           0.28660939371527405,
           0.5474382913708862,
           0.8082671890264992,
           1.0690960866821113,
           1.3299249843377243,
           1.5907538819933364,
           1.8515827796489486,
           2.1124116773045616,
           2.3732405749601737,
           2.6340694726157867,
           2.894898370271399,
           3.155727267927011
          ],
          [
           -4.408310764085751,
           -4.147481866430139,
           -3.886652968774526,
           -3.625824071118914,
           -3.364995173463301,
           -3.104166275807689,
           -2.8433373781520763,
           -2.5825084804964638,
           -2.321679582840851,
           -2.0608506851852386,
           -1.800021787529626,
           -1.5391928898740135,
           -1.2783639922184014,
           -1.0175350945627888,
           -0.7567061969071762,
           -0.49587729925156365,
           -0.23504840159595108,
           0.02578049605966104,
           0.28660939371527405,
           0.5474382913708862,
           0.8082671890264992,
           1.0690960866821113,
           1.3299249843377243,
           1.5907538819933364,
           1.8515827796489486,
           2.1124116773045616,
           2.3732405749601737,
           2.6340694726157867,
           2.894898370271399,
           3.155727267927011
          ],
          [
           -4.408310764085751,
           -4.147481866430139,
           -3.886652968774526,
           -3.625824071118914,
           -3.364995173463301,
           -3.104166275807689,
           -2.8433373781520763,
           -2.5825084804964638,
           -2.321679582840851,
           -2.0608506851852386,
           -1.800021787529626,
           -1.5391928898740135,
           -1.2783639922184014,
           -1.0175350945627888,
           -0.7567061969071762,
           -0.49587729925156365,
           -0.23504840159595108,
           0.02578049605966104,
           0.28660939371527405,
           0.5474382913708862,
           0.8082671890264992,
           1.0690960866821113,
           1.3299249843377243,
           1.5907538819933364,
           1.8515827796489486,
           2.1124116773045616,
           2.3732405749601737,
           2.6340694726157867,
           2.894898370271399,
           3.155727267927011
          ],
          [
           -4.408310764085751,
           -4.147481866430139,
           -3.886652968774526,
           -3.625824071118914,
           -3.364995173463301,
           -3.104166275807689,
           -2.8433373781520763,
           -2.5825084804964638,
           -2.321679582840851,
           -2.0608506851852386,
           -1.800021787529626,
           -1.5391928898740135,
           -1.2783639922184014,
           -1.0175350945627888,
           -0.7567061969071762,
           -0.49587729925156365,
           -0.23504840159595108,
           0.02578049605966104,
           0.28660939371527405,
           0.5474382913708862,
           0.8082671890264992,
           1.0690960866821113,
           1.3299249843377243,
           1.5907538819933364,
           1.8515827796489486,
           2.1124116773045616,
           2.3732405749601737,
           2.6340694726157867,
           2.894898370271399,
           3.155727267927011
          ],
          [
           -4.408310764085751,
           -4.147481866430139,
           -3.886652968774526,
           -3.625824071118914,
           -3.364995173463301,
           -3.104166275807689,
           -2.8433373781520763,
           -2.5825084804964638,
           -2.321679582840851,
           -2.0608506851852386,
           -1.800021787529626,
           -1.5391928898740135,
           -1.2783639922184014,
           -1.0175350945627888,
           -0.7567061969071762,
           -0.49587729925156365,
           -0.23504840159595108,
           0.02578049605966104,
           0.28660939371527405,
           0.5474382913708862,
           0.8082671890264992,
           1.0690960866821113,
           1.3299249843377243,
           1.5907538819933364,
           1.8515827796489486,
           2.1124116773045616,
           2.3732405749601737,
           2.6340694726157867,
           2.894898370271399,
           3.155727267927011
          ],
          [
           -4.408310764085751,
           -4.147481866430139,
           -3.886652968774526,
           -3.625824071118914,
           -3.364995173463301,
           -3.104166275807689,
           -2.8433373781520763,
           -2.5825084804964638,
           -2.321679582840851,
           -2.0608506851852386,
           -1.800021787529626,
           -1.5391928898740135,
           -1.2783639922184014,
           -1.0175350945627888,
           -0.7567061969071762,
           -0.49587729925156365,
           -0.23504840159595108,
           0.02578049605966104,
           0.28660939371527405,
           0.5474382913708862,
           0.8082671890264992,
           1.0690960866821113,
           1.3299249843377243,
           1.5907538819933364,
           1.8515827796489486,
           2.1124116773045616,
           2.3732405749601737,
           2.6340694726157867,
           2.894898370271399,
           3.155727267927011
          ],
          [
           -4.408310764085751,
           -4.147481866430139,
           -3.886652968774526,
           -3.625824071118914,
           -3.364995173463301,
           -3.104166275807689,
           -2.8433373781520763,
           -2.5825084804964638,
           -2.321679582840851,
           -2.0608506851852386,
           -1.800021787529626,
           -1.5391928898740135,
           -1.2783639922184014,
           -1.0175350945627888,
           -0.7567061969071762,
           -0.49587729925156365,
           -0.23504840159595108,
           0.02578049605966104,
           0.28660939371527405,
           0.5474382913708862,
           0.8082671890264992,
           1.0690960866821113,
           1.3299249843377243,
           1.5907538819933364,
           1.8515827796489486,
           2.1124116773045616,
           2.3732405749601737,
           2.6340694726157867,
           2.894898370271399,
           3.155727267927011
          ],
          [
           -4.408310764085751,
           -4.147481866430139,
           -3.886652968774526,
           -3.625824071118914,
           -3.364995173463301,
           -3.104166275807689,
           -2.8433373781520763,
           -2.5825084804964638,
           -2.321679582840851,
           -2.0608506851852386,
           -1.800021787529626,
           -1.5391928898740135,
           -1.2783639922184014,
           -1.0175350945627888,
           -0.7567061969071762,
           -0.49587729925156365,
           -0.23504840159595108,
           0.02578049605966104,
           0.28660939371527405,
           0.5474382913708862,
           0.8082671890264992,
           1.0690960866821113,
           1.3299249843377243,
           1.5907538819933364,
           1.8515827796489486,
           2.1124116773045616,
           2.3732405749601737,
           2.6340694726157867,
           2.894898370271399,
           3.155727267927011
          ],
          [
           -4.408310764085751,
           -4.147481866430139,
           -3.886652968774526,
           -3.625824071118914,
           -3.364995173463301,
           -3.104166275807689,
           -2.8433373781520763,
           -2.5825084804964638,
           -2.321679582840851,
           -2.0608506851852386,
           -1.800021787529626,
           -1.5391928898740135,
           -1.2783639922184014,
           -1.0175350945627888,
           -0.7567061969071762,
           -0.49587729925156365,
           -0.23504840159595108,
           0.02578049605966104,
           0.28660939371527405,
           0.5474382913708862,
           0.8082671890264992,
           1.0690960866821113,
           1.3299249843377243,
           1.5907538819933364,
           1.8515827796489486,
           2.1124116773045616,
           2.3732405749601737,
           2.6340694726157867,
           2.894898370271399,
           3.155727267927011
          ],
          [
           -4.408310764085751,
           -4.147481866430139,
           -3.886652968774526,
           -3.625824071118914,
           -3.364995173463301,
           -3.104166275807689,
           -2.8433373781520763,
           -2.5825084804964638,
           -2.321679582840851,
           -2.0608506851852386,
           -1.800021787529626,
           -1.5391928898740135,
           -1.2783639922184014,
           -1.0175350945627888,
           -0.7567061969071762,
           -0.49587729925156365,
           -0.23504840159595108,
           0.02578049605966104,
           0.28660939371527405,
           0.5474382913708862,
           0.8082671890264992,
           1.0690960866821113,
           1.3299249843377243,
           1.5907538819933364,
           1.8515827796489486,
           2.1124116773045616,
           2.3732405749601737,
           2.6340694726157867,
           2.894898370271399,
           3.155727267927011
          ]
         ],
         "y": [
          [
           -9.543595894573482,
           -9.543595894573482,
           -9.543595894573482,
           -9.543595894573482,
           -9.543595894573482,
           -9.543595894573482,
           -9.543595894573482,
           -9.543595894573482,
           -9.543595894573482,
           -9.543595894573482,
           -9.543595894573482,
           -9.543595894573482,
           -9.543595894573482,
           -9.543595894573482,
           -9.543595894573482,
           -9.543595894573482,
           -9.543595894573482,
           -9.543595894573482,
           -9.543595894573482,
           -9.543595894573482,
           -9.543595894573482,
           -9.543595894573482,
           -9.543595894573482,
           -9.543595894573482,
           -9.543595894573482,
           -9.543595894573482,
           -9.543595894573482,
           -9.543595894573482,
           -9.543595894573482,
           -9.543595894573482
          ],
          [
           -9.253585076649628,
           -9.253585076649628,
           -9.253585076649628,
           -9.253585076649628,
           -9.253585076649628,
           -9.253585076649628,
           -9.253585076649628,
           -9.253585076649628,
           -9.253585076649628,
           -9.253585076649628,
           -9.253585076649628,
           -9.253585076649628,
           -9.253585076649628,
           -9.253585076649628,
           -9.253585076649628,
           -9.253585076649628,
           -9.253585076649628,
           -9.253585076649628,
           -9.253585076649628,
           -9.253585076649628,
           -9.253585076649628,
           -9.253585076649628,
           -9.253585076649628,
           -9.253585076649628,
           -9.253585076649628,
           -9.253585076649628,
           -9.253585076649628,
           -9.253585076649628,
           -9.253585076649628,
           -9.253585076649628
          ],
          [
           -8.963574258725773,
           -8.963574258725773,
           -8.963574258725773,
           -8.963574258725773,
           -8.963574258725773,
           -8.963574258725773,
           -8.963574258725773,
           -8.963574258725773,
           -8.963574258725773,
           -8.963574258725773,
           -8.963574258725773,
           -8.963574258725773,
           -8.963574258725773,
           -8.963574258725773,
           -8.963574258725773,
           -8.963574258725773,
           -8.963574258725773,
           -8.963574258725773,
           -8.963574258725773,
           -8.963574258725773,
           -8.963574258725773,
           -8.963574258725773,
           -8.963574258725773,
           -8.963574258725773,
           -8.963574258725773,
           -8.963574258725773,
           -8.963574258725773,
           -8.963574258725773,
           -8.963574258725773,
           -8.963574258725773
          ],
          [
           -8.673563440801919,
           -8.673563440801919,
           -8.673563440801919,
           -8.673563440801919,
           -8.673563440801919,
           -8.673563440801919,
           -8.673563440801919,
           -8.673563440801919,
           -8.673563440801919,
           -8.673563440801919,
           -8.673563440801919,
           -8.673563440801919,
           -8.673563440801919,
           -8.673563440801919,
           -8.673563440801919,
           -8.673563440801919,
           -8.673563440801919,
           -8.673563440801919,
           -8.673563440801919,
           -8.673563440801919,
           -8.673563440801919,
           -8.673563440801919,
           -8.673563440801919,
           -8.673563440801919,
           -8.673563440801919,
           -8.673563440801919,
           -8.673563440801919,
           -8.673563440801919,
           -8.673563440801919,
           -8.673563440801919
          ],
          [
           -8.383552622878064,
           -8.383552622878064,
           -8.383552622878064,
           -8.383552622878064,
           -8.383552622878064,
           -8.383552622878064,
           -8.383552622878064,
           -8.383552622878064,
           -8.383552622878064,
           -8.383552622878064,
           -8.383552622878064,
           -8.383552622878064,
           -8.383552622878064,
           -8.383552622878064,
           -8.383552622878064,
           -8.383552622878064,
           -8.383552622878064,
           -8.383552622878064,
           -8.383552622878064,
           -8.383552622878064,
           -8.383552622878064,
           -8.383552622878064,
           -8.383552622878064,
           -8.383552622878064,
           -8.383552622878064,
           -8.383552622878064,
           -8.383552622878064,
           -8.383552622878064,
           -8.383552622878064,
           -8.383552622878064
          ],
          [
           -8.09354180495421,
           -8.09354180495421,
           -8.09354180495421,
           -8.09354180495421,
           -8.09354180495421,
           -8.09354180495421,
           -8.09354180495421,
           -8.09354180495421,
           -8.09354180495421,
           -8.09354180495421,
           -8.09354180495421,
           -8.09354180495421,
           -8.09354180495421,
           -8.09354180495421,
           -8.09354180495421,
           -8.09354180495421,
           -8.09354180495421,
           -8.09354180495421,
           -8.09354180495421,
           -8.09354180495421,
           -8.09354180495421,
           -8.09354180495421,
           -8.09354180495421,
           -8.09354180495421,
           -8.09354180495421,
           -8.09354180495421,
           -8.09354180495421,
           -8.09354180495421,
           -8.09354180495421,
           -8.09354180495421
          ],
          [
           -7.803530987030355,
           -7.803530987030355,
           -7.803530987030355,
           -7.803530987030355,
           -7.803530987030355,
           -7.803530987030355,
           -7.803530987030355,
           -7.803530987030355,
           -7.803530987030355,
           -7.803530987030355,
           -7.803530987030355,
           -7.803530987030355,
           -7.803530987030355,
           -7.803530987030355,
           -7.803530987030355,
           -7.803530987030355,
           -7.803530987030355,
           -7.803530987030355,
           -7.803530987030355,
           -7.803530987030355,
           -7.803530987030355,
           -7.803530987030355,
           -7.803530987030355,
           -7.803530987030355,
           -7.803530987030355,
           -7.803530987030355,
           -7.803530987030355,
           -7.803530987030355,
           -7.803530987030355,
           -7.803530987030355
          ],
          [
           -7.513520169106501,
           -7.513520169106501,
           -7.513520169106501,
           -7.513520169106501,
           -7.513520169106501,
           -7.513520169106501,
           -7.513520169106501,
           -7.513520169106501,
           -7.513520169106501,
           -7.513520169106501,
           -7.513520169106501,
           -7.513520169106501,
           -7.513520169106501,
           -7.513520169106501,
           -7.513520169106501,
           -7.513520169106501,
           -7.513520169106501,
           -7.513520169106501,
           -7.513520169106501,
           -7.513520169106501,
           -7.513520169106501,
           -7.513520169106501,
           -7.513520169106501,
           -7.513520169106501,
           -7.513520169106501,
           -7.513520169106501,
           -7.513520169106501,
           -7.513520169106501,
           -7.513520169106501,
           -7.513520169106501
          ],
          [
           -7.223509351182646,
           -7.223509351182646,
           -7.223509351182646,
           -7.223509351182646,
           -7.223509351182646,
           -7.223509351182646,
           -7.223509351182646,
           -7.223509351182646,
           -7.223509351182646,
           -7.223509351182646,
           -7.223509351182646,
           -7.223509351182646,
           -7.223509351182646,
           -7.223509351182646,
           -7.223509351182646,
           -7.223509351182646,
           -7.223509351182646,
           -7.223509351182646,
           -7.223509351182646,
           -7.223509351182646,
           -7.223509351182646,
           -7.223509351182646,
           -7.223509351182646,
           -7.223509351182646,
           -7.223509351182646,
           -7.223509351182646,
           -7.223509351182646,
           -7.223509351182646,
           -7.223509351182646,
           -7.223509351182646
          ],
          [
           -6.933498533258792,
           -6.933498533258792,
           -6.933498533258792,
           -6.933498533258792,
           -6.933498533258792,
           -6.933498533258792,
           -6.933498533258792,
           -6.933498533258792,
           -6.933498533258792,
           -6.933498533258792,
           -6.933498533258792,
           -6.933498533258792,
           -6.933498533258792,
           -6.933498533258792,
           -6.933498533258792,
           -6.933498533258792,
           -6.933498533258792,
           -6.933498533258792,
           -6.933498533258792,
           -6.933498533258792,
           -6.933498533258792,
           -6.933498533258792,
           -6.933498533258792,
           -6.933498533258792,
           -6.933498533258792,
           -6.933498533258792,
           -6.933498533258792,
           -6.933498533258792,
           -6.933498533258792,
           -6.933498533258792
          ],
          [
           -6.6434877153349365,
           -6.6434877153349365,
           -6.6434877153349365,
           -6.6434877153349365,
           -6.6434877153349365,
           -6.6434877153349365,
           -6.6434877153349365,
           -6.6434877153349365,
           -6.6434877153349365,
           -6.6434877153349365,
           -6.6434877153349365,
           -6.6434877153349365,
           -6.6434877153349365,
           -6.6434877153349365,
           -6.6434877153349365,
           -6.6434877153349365,
           -6.6434877153349365,
           -6.6434877153349365,
           -6.6434877153349365,
           -6.6434877153349365,
           -6.6434877153349365,
           -6.6434877153349365,
           -6.6434877153349365,
           -6.6434877153349365,
           -6.6434877153349365,
           -6.6434877153349365,
           -6.6434877153349365,
           -6.6434877153349365,
           -6.6434877153349365,
           -6.6434877153349365
          ],
          [
           -6.353476897411083,
           -6.353476897411083,
           -6.353476897411083,
           -6.353476897411083,
           -6.353476897411083,
           -6.353476897411083,
           -6.353476897411083,
           -6.353476897411083,
           -6.353476897411083,
           -6.353476897411083,
           -6.353476897411083,
           -6.353476897411083,
           -6.353476897411083,
           -6.353476897411083,
           -6.353476897411083,
           -6.353476897411083,
           -6.353476897411083,
           -6.353476897411083,
           -6.353476897411083,
           -6.353476897411083,
           -6.353476897411083,
           -6.353476897411083,
           -6.353476897411083,
           -6.353476897411083,
           -6.353476897411083,
           -6.353476897411083,
           -6.353476897411083,
           -6.353476897411083,
           -6.353476897411083,
           -6.353476897411083
          ],
          [
           -6.063466079487228,
           -6.063466079487228,
           -6.063466079487228,
           -6.063466079487228,
           -6.063466079487228,
           -6.063466079487228,
           -6.063466079487228,
           -6.063466079487228,
           -6.063466079487228,
           -6.063466079487228,
           -6.063466079487228,
           -6.063466079487228,
           -6.063466079487228,
           -6.063466079487228,
           -6.063466079487228,
           -6.063466079487228,
           -6.063466079487228,
           -6.063466079487228,
           -6.063466079487228,
           -6.063466079487228,
           -6.063466079487228,
           -6.063466079487228,
           -6.063466079487228,
           -6.063466079487228,
           -6.063466079487228,
           -6.063466079487228,
           -6.063466079487228,
           -6.063466079487228,
           -6.063466079487228,
           -6.063466079487228
          ],
          [
           -5.773455261563374,
           -5.773455261563374,
           -5.773455261563374,
           -5.773455261563374,
           -5.773455261563374,
           -5.773455261563374,
           -5.773455261563374,
           -5.773455261563374,
           -5.773455261563374,
           -5.773455261563374,
           -5.773455261563374,
           -5.773455261563374,
           -5.773455261563374,
           -5.773455261563374,
           -5.773455261563374,
           -5.773455261563374,
           -5.773455261563374,
           -5.773455261563374,
           -5.773455261563374,
           -5.773455261563374,
           -5.773455261563374,
           -5.773455261563374,
           -5.773455261563374,
           -5.773455261563374,
           -5.773455261563374,
           -5.773455261563374,
           -5.773455261563374,
           -5.773455261563374,
           -5.773455261563374,
           -5.773455261563374
          ],
          [
           -5.483444443639519,
           -5.483444443639519,
           -5.483444443639519,
           -5.483444443639519,
           -5.483444443639519,
           -5.483444443639519,
           -5.483444443639519,
           -5.483444443639519,
           -5.483444443639519,
           -5.483444443639519,
           -5.483444443639519,
           -5.483444443639519,
           -5.483444443639519,
           -5.483444443639519,
           -5.483444443639519,
           -5.483444443639519,
           -5.483444443639519,
           -5.483444443639519,
           -5.483444443639519,
           -5.483444443639519,
           -5.483444443639519,
           -5.483444443639519,
           -5.483444443639519,
           -5.483444443639519,
           -5.483444443639519,
           -5.483444443639519,
           -5.483444443639519,
           -5.483444443639519,
           -5.483444443639519,
           -5.483444443639519
          ],
          [
           -5.193433625715665,
           -5.193433625715665,
           -5.193433625715665,
           -5.193433625715665,
           -5.193433625715665,
           -5.193433625715665,
           -5.193433625715665,
           -5.193433625715665,
           -5.193433625715665,
           -5.193433625715665,
           -5.193433625715665,
           -5.193433625715665,
           -5.193433625715665,
           -5.193433625715665,
           -5.193433625715665,
           -5.193433625715665,
           -5.193433625715665,
           -5.193433625715665,
           -5.193433625715665,
           -5.193433625715665,
           -5.193433625715665,
           -5.193433625715665,
           -5.193433625715665,
           -5.193433625715665,
           -5.193433625715665,
           -5.193433625715665,
           -5.193433625715665,
           -5.193433625715665,
           -5.193433625715665,
           -5.193433625715665
          ],
          [
           -4.90342280779181,
           -4.90342280779181,
           -4.90342280779181,
           -4.90342280779181,
           -4.90342280779181,
           -4.90342280779181,
           -4.90342280779181,
           -4.90342280779181,
           -4.90342280779181,
           -4.90342280779181,
           -4.90342280779181,
           -4.90342280779181,
           -4.90342280779181,
           -4.90342280779181,
           -4.90342280779181,
           -4.90342280779181,
           -4.90342280779181,
           -4.90342280779181,
           -4.90342280779181,
           -4.90342280779181,
           -4.90342280779181,
           -4.90342280779181,
           -4.90342280779181,
           -4.90342280779181,
           -4.90342280779181,
           -4.90342280779181,
           -4.90342280779181,
           -4.90342280779181,
           -4.90342280779181,
           -4.90342280779181
          ],
          [
           -4.613411989867956,
           -4.613411989867956,
           -4.613411989867956,
           -4.613411989867956,
           -4.613411989867956,
           -4.613411989867956,
           -4.613411989867956,
           -4.613411989867956,
           -4.613411989867956,
           -4.613411989867956,
           -4.613411989867956,
           -4.613411989867956,
           -4.613411989867956,
           -4.613411989867956,
           -4.613411989867956,
           -4.613411989867956,
           -4.613411989867956,
           -4.613411989867956,
           -4.613411989867956,
           -4.613411989867956,
           -4.613411989867956,
           -4.613411989867956,
           -4.613411989867956,
           -4.613411989867956,
           -4.613411989867956,
           -4.613411989867956,
           -4.613411989867956,
           -4.613411989867956,
           -4.613411989867956,
           -4.613411989867956
          ],
          [
           -4.323401171944101,
           -4.323401171944101,
           -4.323401171944101,
           -4.323401171944101,
           -4.323401171944101,
           -4.323401171944101,
           -4.323401171944101,
           -4.323401171944101,
           -4.323401171944101,
           -4.323401171944101,
           -4.323401171944101,
           -4.323401171944101,
           -4.323401171944101,
           -4.323401171944101,
           -4.323401171944101,
           -4.323401171944101,
           -4.323401171944101,
           -4.323401171944101,
           -4.323401171944101,
           -4.323401171944101,
           -4.323401171944101,
           -4.323401171944101,
           -4.323401171944101,
           -4.323401171944101,
           -4.323401171944101,
           -4.323401171944101,
           -4.323401171944101,
           -4.323401171944101,
           -4.323401171944101,
           -4.323401171944101
          ],
          [
           -4.033390354020247,
           -4.033390354020247,
           -4.033390354020247,
           -4.033390354020247,
           -4.033390354020247,
           -4.033390354020247,
           -4.033390354020247,
           -4.033390354020247,
           -4.033390354020247,
           -4.033390354020247,
           -4.033390354020247,
           -4.033390354020247,
           -4.033390354020247,
           -4.033390354020247,
           -4.033390354020247,
           -4.033390354020247,
           -4.033390354020247,
           -4.033390354020247,
           -4.033390354020247,
           -4.033390354020247,
           -4.033390354020247,
           -4.033390354020247,
           -4.033390354020247,
           -4.033390354020247,
           -4.033390354020247,
           -4.033390354020247,
           -4.033390354020247,
           -4.033390354020247,
           -4.033390354020247,
           -4.033390354020247
          ],
          [
           -3.743379536096392,
           -3.743379536096392,
           -3.743379536096392,
           -3.743379536096392,
           -3.743379536096392,
           -3.743379536096392,
           -3.743379536096392,
           -3.743379536096392,
           -3.743379536096392,
           -3.743379536096392,
           -3.743379536096392,
           -3.743379536096392,
           -3.743379536096392,
           -3.743379536096392,
           -3.743379536096392,
           -3.743379536096392,
           -3.743379536096392,
           -3.743379536096392,
           -3.743379536096392,
           -3.743379536096392,
           -3.743379536096392,
           -3.743379536096392,
           -3.743379536096392,
           -3.743379536096392,
           -3.743379536096392,
           -3.743379536096392,
           -3.743379536096392,
           -3.743379536096392,
           -3.743379536096392,
           -3.743379536096392
          ],
          [
           -3.4533687181725377,
           -3.4533687181725377,
           -3.4533687181725377,
           -3.4533687181725377,
           -3.4533687181725377,
           -3.4533687181725377,
           -3.4533687181725377,
           -3.4533687181725377,
           -3.4533687181725377,
           -3.4533687181725377,
           -3.4533687181725377,
           -3.4533687181725377,
           -3.4533687181725377,
           -3.4533687181725377,
           -3.4533687181725377,
           -3.4533687181725377,
           -3.4533687181725377,
           -3.4533687181725377,
           -3.4533687181725377,
           -3.4533687181725377,
           -3.4533687181725377,
           -3.4533687181725377,
           -3.4533687181725377,
           -3.4533687181725377,
           -3.4533687181725377,
           -3.4533687181725377,
           -3.4533687181725377,
           -3.4533687181725377,
           -3.4533687181725377,
           -3.4533687181725377
          ],
          [
           -3.163357900248683,
           -3.163357900248683,
           -3.163357900248683,
           -3.163357900248683,
           -3.163357900248683,
           -3.163357900248683,
           -3.163357900248683,
           -3.163357900248683,
           -3.163357900248683,
           -3.163357900248683,
           -3.163357900248683,
           -3.163357900248683,
           -3.163357900248683,
           -3.163357900248683,
           -3.163357900248683,
           -3.163357900248683,
           -3.163357900248683,
           -3.163357900248683,
           -3.163357900248683,
           -3.163357900248683,
           -3.163357900248683,
           -3.163357900248683,
           -3.163357900248683,
           -3.163357900248683,
           -3.163357900248683,
           -3.163357900248683,
           -3.163357900248683,
           -3.163357900248683,
           -3.163357900248683,
           -3.163357900248683
          ],
          [
           -2.8733470823248286,
           -2.8733470823248286,
           -2.8733470823248286,
           -2.8733470823248286,
           -2.8733470823248286,
           -2.8733470823248286,
           -2.8733470823248286,
           -2.8733470823248286,
           -2.8733470823248286,
           -2.8733470823248286,
           -2.8733470823248286,
           -2.8733470823248286,
           -2.8733470823248286,
           -2.8733470823248286,
           -2.8733470823248286,
           -2.8733470823248286,
           -2.8733470823248286,
           -2.8733470823248286,
           -2.8733470823248286,
           -2.8733470823248286,
           -2.8733470823248286,
           -2.8733470823248286,
           -2.8733470823248286,
           -2.8733470823248286,
           -2.8733470823248286,
           -2.8733470823248286,
           -2.8733470823248286,
           -2.8733470823248286,
           -2.8733470823248286,
           -2.8733470823248286
          ],
          [
           -2.583336264400975,
           -2.583336264400975,
           -2.583336264400975,
           -2.583336264400975,
           -2.583336264400975,
           -2.583336264400975,
           -2.583336264400975,
           -2.583336264400975,
           -2.583336264400975,
           -2.583336264400975,
           -2.583336264400975,
           -2.583336264400975,
           -2.583336264400975,
           -2.583336264400975,
           -2.583336264400975,
           -2.583336264400975,
           -2.583336264400975,
           -2.583336264400975,
           -2.583336264400975,
           -2.583336264400975,
           -2.583336264400975,
           -2.583336264400975,
           -2.583336264400975,
           -2.583336264400975,
           -2.583336264400975,
           -2.583336264400975,
           -2.583336264400975,
           -2.583336264400975,
           -2.583336264400975,
           -2.583336264400975
          ],
          [
           -2.2933254464771204,
           -2.2933254464771204,
           -2.2933254464771204,
           -2.2933254464771204,
           -2.2933254464771204,
           -2.2933254464771204,
           -2.2933254464771204,
           -2.2933254464771204,
           -2.2933254464771204,
           -2.2933254464771204,
           -2.2933254464771204,
           -2.2933254464771204,
           -2.2933254464771204,
           -2.2933254464771204,
           -2.2933254464771204,
           -2.2933254464771204,
           -2.2933254464771204,
           -2.2933254464771204,
           -2.2933254464771204,
           -2.2933254464771204,
           -2.2933254464771204,
           -2.2933254464771204,
           -2.2933254464771204,
           -2.2933254464771204,
           -2.2933254464771204,
           -2.2933254464771204,
           -2.2933254464771204,
           -2.2933254464771204,
           -2.2933254464771204,
           -2.2933254464771204
          ],
          [
           -2.003314628553266,
           -2.003314628553266,
           -2.003314628553266,
           -2.003314628553266,
           -2.003314628553266,
           -2.003314628553266,
           -2.003314628553266,
           -2.003314628553266,
           -2.003314628553266,
           -2.003314628553266,
           -2.003314628553266,
           -2.003314628553266,
           -2.003314628553266,
           -2.003314628553266,
           -2.003314628553266,
           -2.003314628553266,
           -2.003314628553266,
           -2.003314628553266,
           -2.003314628553266,
           -2.003314628553266,
           -2.003314628553266,
           -2.003314628553266,
           -2.003314628553266,
           -2.003314628553266,
           -2.003314628553266,
           -2.003314628553266,
           -2.003314628553266,
           -2.003314628553266,
           -2.003314628553266,
           -2.003314628553266
          ],
          [
           -1.7133038106294114,
           -1.7133038106294114,
           -1.7133038106294114,
           -1.7133038106294114,
           -1.7133038106294114,
           -1.7133038106294114,
           -1.7133038106294114,
           -1.7133038106294114,
           -1.7133038106294114,
           -1.7133038106294114,
           -1.7133038106294114,
           -1.7133038106294114,
           -1.7133038106294114,
           -1.7133038106294114,
           -1.7133038106294114,
           -1.7133038106294114,
           -1.7133038106294114,
           -1.7133038106294114,
           -1.7133038106294114,
           -1.7133038106294114,
           -1.7133038106294114,
           -1.7133038106294114,
           -1.7133038106294114,
           -1.7133038106294114,
           -1.7133038106294114,
           -1.7133038106294114,
           -1.7133038106294114,
           -1.7133038106294114,
           -1.7133038106294114,
           -1.7133038106294114
          ],
          [
           -1.4232929927055569,
           -1.4232929927055569,
           -1.4232929927055569,
           -1.4232929927055569,
           -1.4232929927055569,
           -1.4232929927055569,
           -1.4232929927055569,
           -1.4232929927055569,
           -1.4232929927055569,
           -1.4232929927055569,
           -1.4232929927055569,
           -1.4232929927055569,
           -1.4232929927055569,
           -1.4232929927055569,
           -1.4232929927055569,
           -1.4232929927055569,
           -1.4232929927055569,
           -1.4232929927055569,
           -1.4232929927055569,
           -1.4232929927055569,
           -1.4232929927055569,
           -1.4232929927055569,
           -1.4232929927055569,
           -1.4232929927055569,
           -1.4232929927055569,
           -1.4232929927055569,
           -1.4232929927055569,
           -1.4232929927055569,
           -1.4232929927055569,
           -1.4232929927055569
          ],
          [
           -1.133282174781701,
           -1.133282174781701,
           -1.133282174781701,
           -1.133282174781701,
           -1.133282174781701,
           -1.133282174781701,
           -1.133282174781701,
           -1.133282174781701,
           -1.133282174781701,
           -1.133282174781701,
           -1.133282174781701,
           -1.133282174781701,
           -1.133282174781701,
           -1.133282174781701,
           -1.133282174781701,
           -1.133282174781701,
           -1.133282174781701,
           -1.133282174781701,
           -1.133282174781701,
           -1.133282174781701,
           -1.133282174781701,
           -1.133282174781701,
           -1.133282174781701,
           -1.133282174781701,
           -1.133282174781701,
           -1.133282174781701,
           -1.133282174781701,
           -1.133282174781701,
           -1.133282174781701,
           -1.133282174781701
          ]
         ],
         "z": [
          [
           -3.479142930802892,
           -3.533224448353615,
           -3.587305965904338,
           -3.6413874834550612,
           -3.6954690010057845,
           -3.7495505185565072,
           -3.8036320361072304,
           -3.857713553657953,
           -3.9117950712086764,
           -3.9658765887593996,
           -4.019958106310122,
           -4.074039623860846,
           -4.128121141411568,
           -4.182202658962291,
           -4.236284176513014,
           -4.290365694063737,
           -4.34444721161446,
           -4.398528729165183,
           -4.452610246715906,
           -4.5066917642666295,
           -4.560773281817352,
           -4.614854799368075,
           -4.668936316918798,
           -4.7230178344695215,
           -4.777099352020245,
           -4.831180869570967,
           -4.88526238712169,
           -4.9393439046724135,
           -4.993425422223136,
           -5.047506939773859
          ],
          [
           -3.3253492392505017,
           -3.379430756801224,
           -3.4335122743519473,
           -3.4875937919026705,
           -3.5416753094533937,
           -3.5957568270041165,
           -3.6498383445548397,
           -3.7039198621055625,
           -3.7580013796562857,
           -3.812082897207009,
           -3.8661644147577316,
           -3.920245932308455,
           -3.974327449859177,
           -4.0284089674099,
           -4.082490484960624,
           -4.136572002511346,
           -4.19065352006207,
           -4.244735037612792,
           -4.298816555163516,
           -4.352898072714239,
           -4.406979590264961,
           -4.461061107815684,
           -4.5151426253664075,
           -4.569224142917131,
           -4.623305660467854,
           -4.677387178018576,
           -4.7314686955692995,
           -4.785550213120023,
           -4.839631730670745,
           -4.893713248221468
          ],
          [
           -3.17155554769811,
           -3.2256370652488333,
           -3.279718582799556,
           -3.3338001003502793,
           -3.3878816179010025,
           -3.4419631354517253,
           -3.4960446530024485,
           -3.550126170553171,
           -3.604207688103894,
           -3.6582892056546177,
           -3.71237072320534,
           -3.766452240756063,
           -3.820533758306786,
           -3.874615275857509,
           -3.9286967934082324,
           -3.982778310958955,
           -4.036859828509678,
           -4.090941346060401,
           -4.145022863611124,
           -4.199104381161847,
           -4.2531858987125695,
           -4.307267416263294,
           -4.361348933814017,
           -4.415430451364739,
           -4.469511968915462,
           -4.523593486466185,
           -4.577675004016908,
           -4.631756521567631,
           -4.685838039118354,
           -4.7399195566690775
          ],
          [
           -3.017761856145719,
           -3.0718433736964417,
           -3.1259248912471644,
           -3.1800064087978877,
           -3.2340879263486113,
           -3.2881694438993336,
           -3.342250961450057,
           -3.3963324790007796,
           -3.450413996551503,
           -3.504495514102226,
           -3.558577031652949,
           -3.612658549203672,
           -3.6667400667543943,
           -3.7208215843051176,
           -3.774903101855841,
           -3.8289846194065635,
           -3.8830661369572868,
           -3.9371476545080095,
           -3.9912291720587327,
           -4.0453106896094555,
           -4.099392207160179,
           -4.153473724710902,
           -4.207555242261625,
           -4.2616367598123475,
           -4.315718277363071,
           -4.369799794913794,
           -4.423881312464517,
           -4.47796283001524,
           -4.532044347565963,
           -4.586125865116686
          ],
          [
           -2.8639681645933273,
           -2.9180496821440505,
           -2.9721311996947732,
           -3.0262127172454965,
           -3.080294234796219,
           -3.1343757523469424,
           -3.1884572698976656,
           -3.242538787448388,
           -3.2966203049991116,
           -3.350701822549835,
           -3.404783340100557,
           -3.4588648576512804,
           -3.512946375202003,
           -3.5670278927527264,
           -3.6211094103034496,
           -3.6751909278541723,
           -3.7292724454048956,
           -3.783353962955618,
           -3.837435480506341,
           -3.8915169980570647,
           -3.945598515607787,
           -3.9996800331585103,
           -4.0537615507092335,
           -4.107843068259956,
           -4.16192458581068,
           -4.216006103361402,
           -4.2700876209121255,
           -4.324169138462849,
           -4.378250656013571,
           -4.432332173564294
          ],
          [
           -2.7101744730409365,
           -2.7642559905916597,
           -2.8183375081423825,
           -2.8724190256931057,
           -2.926500543243829,
           -2.9805820607945517,
           -3.034663578345275,
           -3.0887450958959977,
           -3.142826613446721,
           -3.196908130997444,
           -3.2509896485481664,
           -3.3050711660988896,
           -3.3591526836496124,
           -3.4132342012003356,
           -3.467315718751059,
           -3.5213972363017816,
           -3.575478753852505,
           -3.629560271403227,
           -3.683641788953951,
           -3.737723306504674,
           -3.7918048240553963,
           -3.8458863416061195,
           -3.8999678591568427,
           -3.9540493767075655,
           -4.008130894258289,
           -4.0622124118090115,
           -4.116293929359735,
           -4.170375446910458,
           -4.22445696446118,
           -4.2785384820119035
          ],
          [
           -2.5563807814885444,
           -2.6104622990392676,
           -2.6645438165899904,
           -2.7186253341407136,
           -2.772706851691437,
           -2.8267883692421596,
           -2.880869886792883,
           -2.9349514043436056,
           -2.989032921894329,
           -3.0431144394450516,
           -3.0971959569957743,
           -3.1512774745464975,
           -3.2053589920972203,
           -3.2594405096479435,
           -3.3135220271986667,
           -3.3676035447493895,
           -3.4216850623001127,
           -3.475766579850835,
           -3.5298480974015587,
           -3.583929614952282,
           -3.6380111325030042,
           -3.6920926500537274,
           -3.7461741676044507,
           -3.8002556851551734,
           -3.8543372027058966,
           -3.9084187202566194,
           -3.9625002378073426,
           -4.016581755358065,
           -4.070663272908789,
           -4.124744790459512
          ],
          [
           -2.402587089936154,
           -2.456668607486877,
           -2.5107501250375996,
           -2.564831642588323,
           -2.618913160139046,
           -2.672994677689769,
           -2.727076195240492,
           -2.781157712791215,
           -2.835239230341938,
           -2.889320747892661,
           -2.9434022654433836,
           -2.9974837829941072,
           -3.05156530054483,
           -3.1056468180955528,
           -3.159728335646276,
           -3.2138098531969987,
           -3.267891370747722,
           -3.3219728882984447,
           -3.376054405849168,
           -3.430135923399891,
           -3.4842174409506135,
           -3.5382989585013367,
           -3.5923804760520603,
           -3.6464619936027827,
           -3.700543511153506,
           -3.7546250287042287,
           -3.808706546254952,
           -3.862788063805675,
           -3.916869581356398,
           -3.970951098907121
          ],
          [
           -2.2487933983837625,
           -2.3028749159344852,
           -2.3569564334852084,
           -2.4110379510359317,
           -2.4651194685866544,
           -2.5192009861373776,
           -2.573282503688101,
           -2.6273640212388236,
           -2.6814455387895464,
           -2.7355270563402696,
           -2.7896085738909924,
           -2.8436900914417156,
           -2.8977716089924384,
           -2.9518531265431616,
           -3.0059346440938843,
           -3.060016161644607,
           -3.1140976791953308,
           -3.168179196746053,
           -3.2222607142967763,
           -3.2763422318474995,
           -3.3304237493982223,
           -3.3845052669489455,
           -3.4385867844996687,
           -3.4926683020503915,
           -3.5467498196011147,
           -3.600831337151837,
           -3.65491285470256,
           -3.708994372253284,
           -3.763075889804006,
           -3.8171574073547294
          ],
          [
           -2.0949997068313713,
           -2.149081224382094,
           -2.203162741932817,
           -2.25724425948354,
           -2.3113257770342632,
           -2.365407294584986,
           -2.419488812135709,
           -2.4735703296864324,
           -2.527651847237155,
           -2.581733364787878,
           -2.635814882338601,
           -2.6898963998893244,
           -2.743977917440047,
           -2.79805943499077,
           -2.852140952541493,
           -2.906222470092216,
           -2.960303987642939,
           -3.014385505193662,
           -3.068467022744385,
           -3.122548540295108,
           -3.1766300578458306,
           -3.2307115753965543,
           -3.2847930929472775,
           -3.338874610498,
           -3.392956128048723,
           -3.447037645599446,
           -3.501119163150169,
           -3.5552006807008922,
           -3.609282198251615,
           -3.663363715802338
          ],
          [
           -1.9412060152789796,
           -1.9952875328297026,
           -2.0493690503804256,
           -2.103450567931149,
           -2.1575320854818716,
           -2.211613603032595,
           -2.265695120583318,
           -2.319776638134041,
           -2.3738581556847635,
           -2.4279396732354868,
           -2.4820211907862095,
           -2.5361027083369327,
           -2.590184225887656,
           -2.6442657434383787,
           -2.6983472609891015,
           -2.7524287785398247,
           -2.806510296090548,
           -2.8605918136412707,
           -2.9146733311919935,
           -2.9687548487427167,
           -3.02283636629344,
           -3.0769178838441626,
           -3.1309994013948854,
           -3.1850809189456086,
           -3.239162436496332,
           -3.293243954047054,
           -3.347325471597778,
           -3.401406989148501,
           -3.4554885066992234,
           -3.5095700242499466
          ],
          [
           -1.787412323726589,
           -1.8414938412773119,
           -1.8955753588280349,
           -1.949656876378758,
           -2.003738393929481,
           -2.057819911480204,
           -2.1119014290309273,
           -2.16598294658165,
           -2.2200644641323732,
           -2.274145981683096,
           -2.3282274992338188,
           -2.382309016784542,
           -2.436390534335265,
           -2.490472051885988,
           -2.5445535694367107,
           -2.598635086987434,
           -2.652716604538157,
           -2.70679812208888,
           -2.7608796396396027,
           -2.814961157190326,
           -2.869042674741049,
           -2.923124192291772,
           -2.977205709842495,
           -3.031287227393218,
           -3.0853687449439406,
           -3.139450262494664,
           -3.193531780045387,
           -3.2476132975961103,
           -3.3016948151468326,
           -3.3557763326975563
          ],
          [
           -1.6336186321741977,
           -1.6877001497249204,
           -1.7417816672756434,
           -1.7958631848263666,
           -1.8499447023770896,
           -1.9040262199278126,
           -1.9581077374785358,
           -2.012189255029259,
           -2.0662707725799816,
           -2.1203522901307044,
           -2.1744338076814276,
           -2.228515325232151,
           -2.2825968427828736,
           -2.3366783603335968,
           -2.3907598778843195,
           -2.4448413954350423,
           -2.4989229129857655,
           -2.5530044305364887,
           -2.6070859480872115,
           -2.6611674656379343,
           -2.7152489831886575,
           -2.7693305007393807,
           -2.8234120182901035,
           -2.8774935358408267,
           -2.9315750533915494,
           -2.9856565709422727,
           -3.0397380884929954,
           -3.0938196060437186,
           -3.1479011235944414,
           -3.2019826411451646
          ],
          [
           -1.4798249406218063,
           -1.5339064581725292,
           -1.587987975723252,
           -1.6420694932739752,
           -1.6961510108246982,
           -1.7502325283754212,
           -1.8043140459261444,
           -1.8583955634768674,
           -1.9124770810275902,
           -1.9665585985783132,
           -2.020640116129036,
           -2.074721633679759,
           -2.1288031512304824,
           -2.182884668781205,
           -2.236966186331928,
           -2.291047703882651,
           -2.3451292214333743,
           -2.399210738984097,
           -2.4532922565348203,
           -2.507373774085543,
           -2.5614552916362663,
           -2.615536809186989,
           -2.6696183267377123,
           -2.723699844288435,
           -2.777781361839158,
           -2.8318628793898815,
           -2.8859443969406042,
           -2.940025914491327,
           -2.99410743204205,
           -3.048188949592773
          ],
          [
           -1.3260312490694153,
           -1.380112766620138,
           -1.4341942841708613,
           -1.4882758017215842,
           -1.5423573192723072,
           -1.59643883682303,
           -1.650520354373753,
           -1.7046018719244762,
           -1.7586833894751992,
           -1.8127649070259222,
           -1.8668464245766454,
           -1.9209279421273684,
           -1.9750094596780912,
           -2.029090977228814,
           -2.083172494779537,
           -2.1372540123302604,
           -2.191335529880983,
           -2.2454170474317063,
           -2.299498564982429,
           -2.353580082533152,
           -2.407661600083875,
           -2.4617431176345983,
           -2.515824635185321,
           -2.569906152736044,
           -2.623987670286767,
           -2.6780691878374903,
           -2.732150705388213,
           -2.7862322229389362,
           -2.840313740489659,
           -2.894395258040382
          ],
          [
           -1.1722375575170239,
           -1.2263190750677466,
           -1.2804005926184698,
           -1.3344821101691928,
           -1.3885636277199158,
           -1.4426451452706388,
           -1.4967266628213618,
           -1.5508081803720848,
           -1.6048896979228078,
           -1.6589712154735308,
           -1.713052733024254,
           -1.767134250574977,
           -1.8212157681256997,
           -1.8752972856764227,
           -1.9293788032271457,
           -1.983460320777869,
           -2.037541838328592,
           -2.0916233558793147,
           -2.145704873430038,
           -2.1997863909807607,
           -2.253867908531484,
           -2.3079494260822067,
           -2.36203094363293,
           -2.4161124611836526,
           -2.4701939787343754,
           -2.5242754962850986,
           -2.578357013835822,
           -2.6324385313865446,
           -2.6865200489372674,
           -2.7406015664879906
          ],
          [
           -1.0184438659646324,
           -1.0725253835153552,
           -1.1266069010660784,
           -1.1806884186168014,
           -1.2347699361675244,
           -1.2888514537182474,
           -1.3429329712689704,
           -1.3970144888196936,
           -1.4510960063704164,
           -1.5051775239211393,
           -1.5592590414718623,
           -1.6133405590225856,
           -1.6674220765733085,
           -1.7215035941240313,
           -1.7755851116747543,
           -1.8296666292254775,
           -1.8837481467762005,
           -1.9378296643269233,
           -1.9919111818776463,
           -2.045992699428369,
           -2.1000742169790927,
           -2.1541557345298155,
           -2.2082372520805382,
           -2.2623187696312614,
           -2.316400287181984,
           -2.3704818047327074,
           -2.42456332228343,
           -2.4786448398341534,
           -2.532726357384876,
           -2.586807874935599
          ],
          [
           -0.8646501744122413,
           -0.9187316919629642,
           -0.9728132095136873,
           -1.0268947270644104,
           -1.0809762446151334,
           -1.1350577621658562,
           -1.1891392797165794,
           -1.2432207972673024,
           -1.2973023148180254,
           -1.3513838323687484,
           -1.4054653499194714,
           -1.4595468674701946,
           -1.5136283850209173,
           -1.5677099025716403,
           -1.6217914201223633,
           -1.675872937673086,
           -1.7299544552238093,
           -1.7840359727745323,
           -1.8381174903252553,
           -1.892199007875978,
           -1.9462805254267015,
           -2.0003620429774243,
           -2.0544435605281475,
           -2.1085250780788702,
           -2.162606595629593,
           -2.216688113180316,
           -2.2707696307310394,
           -2.324851148281762,
           -2.378932665832485,
           -2.433014183383208
          ],
          [
           -0.7108564828598499,
           -0.7649380004105729,
           -0.8190195179612959,
           -0.873101035512019,
           -0.927182553062742,
           -0.9812640706134649,
           -1.035345588164188,
           -1.089427105714911,
           -1.143508623265634,
           -1.197590140816357,
           -1.25167165836708,
           -1.3057531759178032,
           -1.359834693468526,
           -1.413916211019249,
           -1.467997728569972,
           -1.522079246120695,
           -1.576160763671418,
           -1.6302422812221409,
           -1.6843237987728639,
           -1.7384053163235869,
           -1.79248683387431,
           -1.846568351425033,
           -1.9006498689757558,
           -1.9547313865264788,
           -2.008812904077202,
           -2.062894421627925,
           -2.116975939178648,
           -2.171057456729371,
           -2.2251389742800938,
           -2.2792204918308165
          ],
          [
           -0.5570627913074585,
           -0.6111443088581815,
           -0.6652258264089046,
           -0.7193073439596276,
           -0.7733888615103507,
           -0.8274703790610735,
           -0.8815518966117966,
           -0.9356334141625197,
           -0.9897149317132425,
           -1.0437964492639655,
           -1.0978779668146885,
           -1.1519594843654117,
           -1.2060410019161345,
           -1.2601225194668575,
           -1.3142040370175805,
           -1.3682855545683035,
           -1.4223670721190265,
           -1.4764485896697495,
           -1.5305301072204724,
           -1.5846116247711954,
           -1.6386931423219186,
           -1.6927746598726416,
           -1.7468561774233644,
           -1.8009376949740874,
           -1.8550192125248104,
           -1.9091007300755336,
           -1.9631822476262566,
           -2.0172637651769794,
           -2.071345282727702,
           -2.1254268002784253
          ],
          [
           -0.40326909975506753,
           -0.4573506173057904,
           -0.5114321348565135,
           -0.5655136524072365,
           -0.6195951699579596,
           -0.6736766875086825,
           -0.7277582050594056,
           -0.7818397226101286,
           -0.8359212401608516,
           -0.8900027577115744,
           -0.9440842752622975,
           -0.9981657928130206,
           -1.0522473103637435,
           -1.1063288279144665,
           -1.1604103454651893,
           -1.2144918630159125,
           -1.2685733805666355,
           -1.3226548981173583,
           -1.3767364156680815,
           -1.4308179332188042,
           -1.4848994507695277,
           -1.5389809683202504,
           -1.5930624858709734,
           -1.6471440034216964,
           -1.7012255209724192,
           -1.7553070385231426,
           -1.8093885560738654,
           -1.8634700736245884,
           -1.9175515911753114,
           -1.9716331087260341
          ],
          [
           -0.2494754082026761,
           -0.30355692575339904,
           -0.35763844330412214,
           -0.41171996085484514,
           -0.46580147840556824,
           -0.5198829959562912,
           -0.5739645135070142,
           -0.6280460310577372,
           -0.6821275486084601,
           -0.7362090661591831,
           -0.7902905837099061,
           -0.8443721012606292,
           -0.8984536188113522,
           -0.9525351363620751,
           -1.006616653912798,
           -1.060698171463521,
           -1.114779689014244,
           -1.1688612065649668,
           -1.22294272411569,
           -1.277024241666413,
           -1.3311057592171363,
           -1.385187276767859,
           -1.439268794318582,
           -1.493350311869305,
           -1.5474318294200278,
           -1.6015133469707512,
           -1.655594864521474,
           -1.709676382072197,
           -1.76375789962292,
           -1.8178394171736427
          ],
          [
           -0.09568171665028471,
           -0.14976323420100762,
           -0.20384475175173072,
           -0.2579262693024537,
           -0.3120077868531768,
           -0.36608930440389975,
           -0.42017082195462274,
           -0.47425233950534573,
           -0.5283338570560687,
           -0.5824153746067917,
           -0.6364968921575147,
           -0.6905784097082378,
           -0.7446599272589607,
           -0.7987414448096837,
           -0.8528229623604066,
           -0.9069044799111297,
           -0.9609859974618526,
           -1.0150675150125756,
           -1.0691490325632986,
           -1.1232305501140216,
           -1.1773120676647448,
           -1.2313935852154678,
           -1.2854751027661906,
           -1.3395566203169136,
           -1.3936381378676366,
           -1.4477196554183598,
           -1.5018011729690826,
           -1.5558826905198055,
           -1.6099642080705285,
           -1.6640457256212513
          ],
          [
           0.058111974902106504,
           0.004030457351383588,
           -0.050051060199339505,
           -0.1041325777500625,
           -0.1582140953007856,
           -0.21229561285150853,
           -0.26637713040223154,
           -0.32045864795295453,
           -0.3745401655036775,
           -0.4286216830544005,
           -0.48270320060512356,
           -0.5367847181558465,
           -0.5908662357065695,
           -0.6449477532572925,
           -0.6990292708080155,
           -0.7531107883587385,
           -0.8071923059094613,
           -0.8612738234601843,
           -0.9153553410109075,
           -0.9694368585616305,
           -1.0235183761123534,
           -1.0775998936630764,
           -1.1316814112137996,
           -1.1857629287645226,
           -1.2398444463152454,
           -1.2939259638659684,
           -1.3480074814166914,
           -1.4020889989674146,
           -1.4561705165181373,
           -1.5102520340688603
          ],
          [
           0.21190566645449738,
           0.15782414890377447,
           0.10374263135305137,
           0.04966111380232836,
           -0.004420403748394725,
           -0.058501921299117646,
           -0.11258343884984065,
           -0.16666495640056364,
           -0.22074647395128666,
           -0.27482799150200965,
           -0.32890950905273264,
           -0.3829910266034557,
           -0.43707254415417857,
           -0.4911540617049016,
           -0.5452355792556246,
           -0.5993170968063476,
           -0.6533986143570706,
           -0.7074801319077936,
           -0.7615616494585166,
           -0.8156431670092394,
           -0.8697246845599627,
           -0.9238062021106856,
           -0.9778877196614085,
           -1.0319692372121314,
           -1.0860507547628544,
           -1.1401322723135776,
           -1.1942137898643006,
           -1.2482953074150236,
           -1.3023768249657464,
           -1.3564583425164694
          ],
          [
           0.3656993580068886,
           0.3116178404561657,
           0.2575363229054426,
           0.20345480535471958,
           0.1493732878039965,
           0.09529177025327358,
           0.041210252702550576,
           -0.012871264848172432,
           -0.06695278239889543,
           -0.12103429994961844,
           -0.17511581750034144,
           -0.22919733505106446,
           -0.28327885260178737,
           -0.33736037015251036,
           -0.39144188770323335,
           -0.4455234052539564,
           -0.4996049228046794,
           -0.5536864403554023,
           -0.6077679579061254,
           -0.6618494754568484,
           -0.7159309930075713,
           -0.7700125105582943,
           -0.8240940281090176,
           -0.8781755456597404,
           -0.9322570632104633,
           -0.9863385807611863,
           -1.0404200983119092,
           -1.0945016158626324,
           -1.1485831334133554,
           -1.2026646509640784
          ],
          [
           0.5194930495592798,
           0.4654115320085569,
           0.4113300144578338,
           0.3572484969071108,
           0.3031669793563877,
           0.2490854618056648,
           0.1950039442549418,
           0.14092242670421878,
           0.08684090915349578,
           0.03275939160277278,
           -0.021322125947950226,
           -0.07540364349867323,
           -0.12948516104939614,
           -0.18356667860011916,
           -0.23764819615084215,
           -0.29172971370156514,
           -0.3458112312522882,
           -0.39989274880301107,
           -0.45397426635373417,
           -0.508055783904457,
           -0.5621373014551801,
           -0.6162188190059031,
           -0.6703003365566262,
           -0.7243818541073491,
           -0.778463371658072,
           -0.8325448892087952,
           -0.8866264067595181,
           -0.9407079243102411,
           -0.994789441860964,
           -1.048870959411687
          ],
          [
           0.6732867411116712,
           0.6192052235609483,
           0.5651237060102252,
           0.5110421884595022,
           0.4569606709087791,
           0.4028791533580562,
           0.3487976358073332,
           0.2947161182566102,
           0.24063460070588719,
           0.18655308315516417,
           0.13247156560444118,
           0.07839004805371816,
           0.024308530502995248,
           -0.029772987047727757,
           -0.08385450459845076,
           -0.13793602214917378,
           -0.19201753969989677,
           -0.2460990572506197,
           -0.3001805748013428,
           -0.3542620923520657,
           -0.4083436099027888,
           -0.4624251274535117,
           -0.5165066450042348,
           -0.5705881625549577,
           -0.6246696801056806,
           -0.6787511976564037,
           -0.7328327152071267,
           -0.7869142327578497,
           -0.8409957503085725,
           -0.8950772678592955
          ],
          [
           0.8270804326640624,
           0.7729989151133395,
           0.7189173975626164,
           0.6648358800118934,
           0.6107543624611703,
           0.5566728449104474,
           0.5025913273597244,
           0.4485098098090014,
           0.3944282922582784,
           0.3403467747075554,
           0.2862652571568324,
           0.23218373960610939,
           0.17810222205538648,
           0.12402070450466346,
           0.06993918695394045,
           0.015857669403217454,
           -0.03822384814750555,
           -0.09230536569822846,
           -0.14638688324895155,
           -0.20046840079967448,
           -0.2545499183503976,
           -0.30863143590112047,
           -0.36271295345184357,
           -0.4167944710025665,
           -0.47087598855328944,
           -0.5249575061040125,
           -0.5790390236547355,
           -0.6331205412054585,
           -0.6872020587561815,
           -0.7412835763069043
          ],
          [
           0.9808741242164544,
           0.9267926066657314,
           0.8727110891150085,
           0.8186295715642854,
           0.7645480540135623,
           0.7104665364628394,
           0.6563850189121164,
           0.6023035013613934,
           0.5482219838106704,
           0.4941404662599474,
           0.4400589487092244,
           0.38597743115850136,
           0.3318959136077785,
           0.2778143960570555,
           0.22373287850633247,
           0.16965136095560945,
           0.11556984340488645,
           0.06148832585416355,
           0.007406808303440444,
           -0.046674709247282474,
           -0.10075622679800557,
           -0.1548377443487285,
           -0.20891926189945156,
           -0.26300077945017447,
           -0.3170822970008974,
           -0.3711638145516205,
           -0.42524533210234344,
           -0.4793268496530665,
           -0.5334083672037895,
           -0.5874898847545124
          ]
         ]
        },
        {
         "line": {
          "width": 6
         },
         "marker": {
          "size": 1
         },
         "showlegend": false,
         "type": "scatter3d",
         "x": [
          1.9861932534769364,
          -0.13452543674041978
         ],
         "y": [
          -0.6217826382099462,
          0.34406109752981867
         ],
         "z": [
          -1.6007107275242336,
          -0.6488006062095876
         ]
        },
        {
         "line": {
          "width": 6
         },
         "marker": {
          "size": 1
         },
         "showlegend": false,
         "type": "scatter3d",
         "x": [
          -2.354351183964895,
          -0.5533367939865357
         ],
         "y": [
          -1.0009774375225404,
          1.415209415078867
         ],
         "z": [
          -3.576560153702099,
          -2.668679292744244
         ]
        },
        {
         "line": {
          "width": 6
         },
         "marker": {
          "size": 1
         },
         "showlegend": false,
         "type": "scatter3d",
         "x": [
          -0.846605627083354,
          0.7098003400114443
         ],
         "y": [
          -8.203096133170305,
          -1.8153792318296837
         ],
         "z": [
          0.35857025239482054,
          3.423284860065636
         ]
        }
       ],
       "layout": {
        "autosize": true,
        "height": 800,
        "margin": {
         "b": 10,
         "l": 10,
         "pad": 4,
         "r": 10,
         "t": 10
        },
        "paper_bgcolor": "White",
        "scene": {
         "aspectmode": "data",
         "aspectratio": {
          "x": 0.6950451508182024,
          "y": 1.3105240845452364,
          "z": 1.0978473946308225
         },
         "camera": {
          "eye": {
           "x": 1,
           "y": 1,
           "z": 1
          }
         }
        },
        "template": {
         "data": {
          "bar": [
           {
            "error_x": {
             "color": "#2a3f5f"
            },
            "error_y": {
             "color": "#2a3f5f"
            },
            "marker": {
             "line": {
              "color": "#E5ECF6",
              "width": 0.5
             }
            },
            "type": "bar"
           }
          ],
          "barpolar": [
           {
            "marker": {
             "line": {
              "color": "#E5ECF6",
              "width": 0.5
             }
            },
            "type": "barpolar"
           }
          ],
          "carpet": [
           {
            "aaxis": {
             "endlinecolor": "#2a3f5f",
             "gridcolor": "white",
             "linecolor": "white",
             "minorgridcolor": "white",
             "startlinecolor": "#2a3f5f"
            },
            "baxis": {
             "endlinecolor": "#2a3f5f",
             "gridcolor": "white",
             "linecolor": "white",
             "minorgridcolor": "white",
             "startlinecolor": "#2a3f5f"
            },
            "type": "carpet"
           }
          ],
          "choropleth": [
           {
            "colorbar": {
             "outlinewidth": 0,
             "ticks": ""
            },
            "type": "choropleth"
           }
          ],
          "contour": [
           {
            "colorbar": {
             "outlinewidth": 0,
             "ticks": ""
            },
            "colorscale": [
             [
              0,
              "#0d0887"
             ],
             [
              0.1111111111111111,
              "#46039f"
             ],
             [
              0.2222222222222222,
              "#7201a8"
             ],
             [
              0.3333333333333333,
              "#9c179e"
             ],
             [
              0.4444444444444444,
              "#bd3786"
             ],
             [
              0.5555555555555556,
              "#d8576b"
             ],
             [
              0.6666666666666666,
              "#ed7953"
             ],
             [
              0.7777777777777778,
              "#fb9f3a"
             ],
             [
              0.8888888888888888,
              "#fdca26"
             ],
             [
              1,
              "#f0f921"
             ]
            ],
            "type": "contour"
           }
          ],
          "contourcarpet": [
           {
            "colorbar": {
             "outlinewidth": 0,
             "ticks": ""
            },
            "type": "contourcarpet"
           }
          ],
          "heatmap": [
           {
            "colorbar": {
             "outlinewidth": 0,
             "ticks": ""
            },
            "colorscale": [
             [
              0,
              "#0d0887"
             ],
             [
              0.1111111111111111,
              "#46039f"
             ],
             [
              0.2222222222222222,
              "#7201a8"
             ],
             [
              0.3333333333333333,
              "#9c179e"
             ],
             [
              0.4444444444444444,
              "#bd3786"
             ],
             [
              0.5555555555555556,
              "#d8576b"
             ],
             [
              0.6666666666666666,
              "#ed7953"
             ],
             [
              0.7777777777777778,
              "#fb9f3a"
             ],
             [
              0.8888888888888888,
              "#fdca26"
             ],
             [
              1,
              "#f0f921"
             ]
            ],
            "type": "heatmap"
           }
          ],
          "heatmapgl": [
           {
            "colorbar": {
             "outlinewidth": 0,
             "ticks": ""
            },
            "colorscale": [
             [
              0,
              "#0d0887"
             ],
             [
              0.1111111111111111,
              "#46039f"
             ],
             [
              0.2222222222222222,
              "#7201a8"
             ],
             [
              0.3333333333333333,
              "#9c179e"
             ],
             [
              0.4444444444444444,
              "#bd3786"
             ],
             [
              0.5555555555555556,
              "#d8576b"
             ],
             [
              0.6666666666666666,
              "#ed7953"
             ],
             [
              0.7777777777777778,
              "#fb9f3a"
             ],
             [
              0.8888888888888888,
              "#fdca26"
             ],
             [
              1,
              "#f0f921"
             ]
            ],
            "type": "heatmapgl"
           }
          ],
          "histogram": [
           {
            "marker": {
             "colorbar": {
              "outlinewidth": 0,
              "ticks": ""
             }
            },
            "type": "histogram"
           }
          ],
          "histogram2d": [
           {
            "colorbar": {
             "outlinewidth": 0,
             "ticks": ""
            },
            "colorscale": [
             [
              0,
              "#0d0887"
             ],
             [
              0.1111111111111111,
              "#46039f"
             ],
             [
              0.2222222222222222,
              "#7201a8"
             ],
             [
              0.3333333333333333,
              "#9c179e"
             ],
             [
              0.4444444444444444,
              "#bd3786"
             ],
             [
              0.5555555555555556,
              "#d8576b"
             ],
             [
              0.6666666666666666,
              "#ed7953"
             ],
             [
              0.7777777777777778,
              "#fb9f3a"
             ],
             [
              0.8888888888888888,
              "#fdca26"
             ],
             [
              1,
              "#f0f921"
             ]
            ],
            "type": "histogram2d"
           }
          ],
          "histogram2dcontour": [
           {
            "colorbar": {
             "outlinewidth": 0,
             "ticks": ""
            },
            "colorscale": [
             [
              0,
              "#0d0887"
             ],
             [
              0.1111111111111111,
              "#46039f"
             ],
             [
              0.2222222222222222,
              "#7201a8"
             ],
             [
              0.3333333333333333,
              "#9c179e"
             ],
             [
              0.4444444444444444,
              "#bd3786"
             ],
             [
              0.5555555555555556,
              "#d8576b"
             ],
             [
              0.6666666666666666,
              "#ed7953"
             ],
             [
              0.7777777777777778,
              "#fb9f3a"
             ],
             [
              0.8888888888888888,
              "#fdca26"
             ],
             [
              1,
              "#f0f921"
             ]
            ],
            "type": "histogram2dcontour"
           }
          ],
          "mesh3d": [
           {
            "colorbar": {
             "outlinewidth": 0,
             "ticks": ""
            },
            "type": "mesh3d"
           }
          ],
          "parcoords": [
           {
            "line": {
             "colorbar": {
              "outlinewidth": 0,
              "ticks": ""
             }
            },
            "type": "parcoords"
           }
          ],
          "pie": [
           {
            "automargin": true,
            "type": "pie"
           }
          ],
          "scatter": [
           {
            "marker": {
             "colorbar": {
              "outlinewidth": 0,
              "ticks": ""
             }
            },
            "type": "scatter"
           }
          ],
          "scatter3d": [
           {
            "line": {
             "colorbar": {
              "outlinewidth": 0,
              "ticks": ""
             }
            },
            "marker": {
             "colorbar": {
              "outlinewidth": 0,
              "ticks": ""
             }
            },
            "type": "scatter3d"
           }
          ],
          "scattercarpet": [
           {
            "marker": {
             "colorbar": {
              "outlinewidth": 0,
              "ticks": ""
             }
            },
            "type": "scattercarpet"
           }
          ],
          "scattergeo": [
           {
            "marker": {
             "colorbar": {
              "outlinewidth": 0,
              "ticks": ""
             }
            },
            "type": "scattergeo"
           }
          ],
          "scattergl": [
           {
            "marker": {
             "colorbar": {
              "outlinewidth": 0,
              "ticks": ""
             }
            },
            "type": "scattergl"
           }
          ],
          "scattermapbox": [
           {
            "marker": {
             "colorbar": {
              "outlinewidth": 0,
              "ticks": ""
             }
            },
            "type": "scattermapbox"
           }
          ],
          "scatterpolar": [
           {
            "marker": {
             "colorbar": {
              "outlinewidth": 0,
              "ticks": ""
             }
            },
            "type": "scatterpolar"
           }
          ],
          "scatterpolargl": [
           {
            "marker": {
             "colorbar": {
              "outlinewidth": 0,
              "ticks": ""
             }
            },
            "type": "scatterpolargl"
           }
          ],
          "scatterternary": [
           {
            "marker": {
             "colorbar": {
              "outlinewidth": 0,
              "ticks": ""
             }
            },
            "type": "scatterternary"
           }
          ],
          "surface": [
           {
            "colorbar": {
             "outlinewidth": 0,
             "ticks": ""
            },
            "colorscale": [
             [
              0,
              "#0d0887"
             ],
             [
              0.1111111111111111,
              "#46039f"
             ],
             [
              0.2222222222222222,
              "#7201a8"
             ],
             [
              0.3333333333333333,
              "#9c179e"
             ],
             [
              0.4444444444444444,
              "#bd3786"
             ],
             [
              0.5555555555555556,
              "#d8576b"
             ],
             [
              0.6666666666666666,
              "#ed7953"
             ],
             [
              0.7777777777777778,
              "#fb9f3a"
             ],
             [
              0.8888888888888888,
              "#fdca26"
             ],
             [
              1,
              "#f0f921"
             ]
            ],
            "type": "surface"
           }
          ],
          "table": [
           {
            "cells": {
             "fill": {
              "color": "#EBF0F8"
             },
             "line": {
              "color": "white"
             }
            },
            "header": {
             "fill": {
              "color": "#C8D4E3"
             },
             "line": {
              "color": "white"
             }
            },
            "type": "table"
           }
          ]
         },
         "layout": {
          "annotationdefaults": {
           "arrowcolor": "#2a3f5f",
           "arrowhead": 0,
           "arrowwidth": 1
          },
          "autotypenumbers": "strict",
          "coloraxis": {
           "colorbar": {
            "outlinewidth": 0,
            "ticks": ""
           }
          },
          "colorscale": {
           "diverging": [
            [
             0,
             "#8e0152"
            ],
            [
             0.1,
             "#c51b7d"
            ],
            [
             0.2,
             "#de77ae"
            ],
            [
             0.3,
             "#f1b6da"
            ],
            [
             0.4,
             "#fde0ef"
            ],
            [
             0.5,
             "#f7f7f7"
            ],
            [
             0.6,
             "#e6f5d0"
            ],
            [
             0.7,
             "#b8e186"
            ],
            [
             0.8,
             "#7fbc41"
            ],
            [
             0.9,
             "#4d9221"
            ],
            [
             1,
             "#276419"
            ]
           ],
           "sequential": [
            [
             0,
             "#0d0887"
            ],
            [
             0.1111111111111111,
             "#46039f"
            ],
            [
             0.2222222222222222,
             "#7201a8"
            ],
            [
             0.3333333333333333,
             "#9c179e"
            ],
            [
             0.4444444444444444,
             "#bd3786"
            ],
            [
             0.5555555555555556,
             "#d8576b"
            ],
            [
             0.6666666666666666,
             "#ed7953"
            ],
            [
             0.7777777777777778,
             "#fb9f3a"
            ],
            [
             0.8888888888888888,
             "#fdca26"
            ],
            [
             1,
             "#f0f921"
            ]
           ],
           "sequentialminus": [
            [
             0,
             "#0d0887"
            ],
            [
             0.1111111111111111,
             "#46039f"
            ],
            [
             0.2222222222222222,
             "#7201a8"
            ],
            [
             0.3333333333333333,
             "#9c179e"
            ],
            [
             0.4444444444444444,
             "#bd3786"
            ],
            [
             0.5555555555555556,
             "#d8576b"
            ],
            [
             0.6666666666666666,
             "#ed7953"
            ],
            [
             0.7777777777777778,
             "#fb9f3a"
            ],
            [
             0.8888888888888888,
             "#fdca26"
            ],
            [
             1,
             "#f0f921"
            ]
           ]
          },
          "colorway": [
           "#636efa",
           "#EF553B",
           "#00cc96",
           "#ab63fa",
           "#FFA15A",
           "#19d3f3",
           "#FF6692",
           "#B6E880",
           "#FF97FF",
           "#FECB52"
          ],
          "font": {
           "color": "#2a3f5f"
          },
          "geo": {
           "bgcolor": "white",
           "lakecolor": "white",
           "landcolor": "#E5ECF6",
           "showlakes": true,
           "showland": true,
           "subunitcolor": "white"
          },
          "hoverlabel": {
           "align": "left"
          },
          "hovermode": "closest",
          "mapbox": {
           "style": "light"
          },
          "paper_bgcolor": "white",
          "plot_bgcolor": "#E5ECF6",
          "polar": {
           "angularaxis": {
            "gridcolor": "white",
            "linecolor": "white",
            "ticks": ""
           },
           "bgcolor": "#E5ECF6",
           "radialaxis": {
            "gridcolor": "white",
            "linecolor": "white",
            "ticks": ""
           }
          },
          "scene": {
           "xaxis": {
            "backgroundcolor": "#E5ECF6",
            "gridcolor": "white",
            "gridwidth": 2,
            "linecolor": "white",
            "showbackground": true,
            "ticks": "",
            "zerolinecolor": "white"
           },
           "yaxis": {
            "backgroundcolor": "#E5ECF6",
            "gridcolor": "white",
            "gridwidth": 2,
            "linecolor": "white",
            "showbackground": true,
            "ticks": "",
            "zerolinecolor": "white"
           },
           "zaxis": {
            "backgroundcolor": "#E5ECF6",
            "gridcolor": "white",
            "gridwidth": 2,
            "linecolor": "white",
            "showbackground": true,
            "ticks": "",
            "zerolinecolor": "white"
           }
          },
          "shapedefaults": {
           "line": {
            "color": "#2a3f5f"
           }
          },
          "ternary": {
           "aaxis": {
            "gridcolor": "white",
            "linecolor": "white",
            "ticks": ""
           },
           "baxis": {
            "gridcolor": "white",
            "linecolor": "white",
            "ticks": ""
           },
           "bgcolor": "#E5ECF6",
           "caxis": {
            "gridcolor": "white",
            "linecolor": "white",
            "ticks": ""
           }
          },
          "title": {
           "x": 0.05
          },
          "xaxis": {
           "automargin": true,
           "gridcolor": "white",
           "linecolor": "white",
           "ticks": "",
           "title": {
            "standoff": 15
           },
           "zerolinecolor": "white",
           "zerolinewidth": 2
          },
          "yaxis": {
           "automargin": true,
           "gridcolor": "white",
           "linecolor": "white",
           "ticks": "",
           "title": {
            "standoff": 15
           },
           "zerolinecolor": "white",
           "zerolinewidth": 2
          }
         }
        },
        "width": 1000
       }
      },
      "image/png": "[encoded data removed]",
      "text/html": [
       "<div>                            <div id=\"c4b26fc3-e249-4aae-9fb5-56c78241cad9\" class=\"plotly-graph-div\" style=\"height:800px; width:1000px;\"></div>            <script type=\"text/javascript\">                require([\"plotly\"], function(Plotly) {                    window.PLOTLYENV=window.PLOTLYENV || {};                                    if (document.getElementById(\"c4b26fc3-e249-4aae-9fb5-56c78241cad9\")) {                    Plotly.newPlot(                        \"c4b26fc3-e249-4aae-9fb5-56c78241cad9\",                        [{\"marker\": {\"color\": \"black\", \"line\": {\"width\": 0}, \"size\": 3}, \"mode\": \"markers\", \"name\": \"origin\", \"type\": \"scatter3d\", \"x\": [0], \"y\": [0], \"z\": [0]}, {\"marker\": {\"color\": \"yellow\", \"line\": {\"width\": 0}, \"size\": 2}, \"mode\": \"markers\", \"name\": \"plane_offset\", \"type\": \"scatter3d\", \"x\": [0.10456652342154042], \"y\": [-0.2674384390419368], \"z\": [0.5043122358787353]}, {\"line\": {\"width\": 6}, \"marker\": {\"size\": 1}, \"name\": \"plane_normal\", \"type\": \"scatter3d\", \"x\": [1.254206546688638, -0.829392825032318], \"y\": [-3.2077478537790913, 2.121247940749006], \"z\": [6.048892964189328, -4.000065569050619]}, {\"marker\": {\"color\": \"blue\", \"line\": {\"width\": 0}, \"size\": 2}, \"mode\": \"markers\", \"name\": \"4.520053661246651\", \"showlegend\": false, \"type\": \"scatter3d\", \"x\": [0.042014020706258925], \"y\": [-1.2900146220721205], \"z\": [-3.847531434638628]}, {\"marker\": {\"color\": \"blue\", \"line\": {\"width\": 0}, \"size\": 3}, \"mode\": \"markers\", \"name\": \"d=1.5948421518000016\", \"type\": \"scatter3d\", \"x\": [-2.1339951601259597], \"y\": [-1.9049146279088631], \"z\": [-1.2486254908114804]}, {\"line\": {\"width\": 6}, \"marker\": {\"size\": 1}, \"name\": \"^ len_d\", \"type\": \"scatter3d\", \"x\": [-2.1339951601259597, -1.922811114531271], \"y\": [-1.9049146279088631, -2.4450371227222485], \"z\": [-1.2486254908114804, -0.23010928953711507]}, {\"line\": {\"width\": 6}, \"marker\": {\"size\": 1}, \"name\": \"^ proj\", \"type\": \"scatter3d\", \"x\": [-2.1339951601259597, -0.10661752217314834], \"y\": [-1.9049146279088631, 0.2726840557714492], \"z\": [-1.2486254908114804, -0.5142039653956296]}, {\"marker\": {\"color\": \"blue\", \"line\": {\"width\": 0}, \"size\": 2}, \"mode\": \"markers\", \"name\": \"3.730080161740542\", \"showlegend\": false, \"type\": \"scatter3d\", \"x\": [-2.6435542503000073], \"y\": [-2.2908149558331123], \"z\": [-3.153352381649631]}, {\"marker\": {\"color\": \"red\", \"line\": {\"width\": 0}, \"size\": 2}, \"mode\": \"markers\", \"name\": \"-5.746113652724212\", \"showlegend\": false, \"type\": \"scatter3d\", \"x\": [-1.8403364633977217], \"y\": [-10.383721431512676], \"z\": [0.40227728210473745]}, {\"marker\": {\"color\": \"red\", \"line\": {\"width\": 0}, \"size\": 2}, \"mode\": \"markers\", \"name\": \"-5.60757913284524\", \"showlegend\": false, \"type\": \"scatter3d\", \"x\": [-1.6157792956837722], \"y\": [-8.870134583868456], \"z\": [1.0412201494423712]}, {\"marker\": {\"color\": \"blue\", \"line\": {\"width\": 0}, \"size\": 2}, \"mode\": \"markers\", \"name\": \"2.4661814979668577\", \"showlegend\": false, \"type\": \"scatter3d\", \"x\": [-1.608169583290394], \"y\": [-2.1863995411328263], \"z\": [-2.243803012204535]}, {\"marker\": {\"color\": \"blue\", \"line\": {\"width\": 0}, \"size\": 2}, \"mode\": \"markers\", \"name\": \"3.837698514107357\", \"showlegend\": false, \"type\": \"scatter3d\", \"x\": [-1.7225654661443077], \"y\": [-0.8964459786387888], \"z\": [-2.695887307645588]}, {\"marker\": {\"color\": \"red\", \"line\": {\"width\": 0}, \"size\": 2}, \"mode\": \"markers\", \"name\": \"-3.8078770039293053\", \"showlegend\": false, \"type\": \"scatter3d\", \"x\": [-0.771705714476493], \"y\": [-9.265359357178491], \"z\": [-0.8653628285493147]}, {\"marker\": {\"color\": \"blue\", \"line\": {\"width\": 0}, \"size\": 2}, \"mode\": \"markers\", \"name\": \"3.673793148058605\", \"showlegend\": false, \"type\": \"scatter3d\", \"x\": [-0.67133173316653], \"y\": [-0.6318620134069913], \"z\": [-2.6349332327557478]}, {\"marker\": {\"color\": \"blue\", \"line\": {\"width\": 0}, \"size\": 2}, \"mode\": \"markers\", \"name\": \"3.446049670586921\", \"showlegend\": false, \"type\": \"scatter3d\", \"x\": [-1.59821873248412], \"y\": [-1.752368088371606], \"z\": [-2.8443570200998987]}, {\"marker\": {\"color\": \"red\", \"line\": {\"width\": 0}, \"size\": 2}, \"mode\": \"markers\", \"name\": \"-7.271748700598275\", \"showlegend\": false, \"type\": \"scatter3d\", \"x\": [-1.876261656966392], \"y\": [-9.500605859963326], \"z\": [2.1682507770744737]}, {\"marker\": {\"color\": \"red\", \"line\": {\"width\": 0}, \"size\": 2}, \"mode\": \"markers\", \"name\": \"-6.020594690354641\", \"showlegend\": false, \"type\": \"scatter3d\", \"x\": [1.3051929109046245], \"y\": [-7.646142640577349], \"z\": [1.4339394299892925]}, {\"marker\": {\"color\": \"blue\", \"line\": {\"width\": 0}, \"size\": 2}, \"mode\": \"markers\", \"name\": \"3.403213721169909\", \"showlegend\": false, \"type\": \"scatter3d\", \"x\": [-0.5586674798935111], \"y\": [-2.6540097021810576], \"z\": [-3.501820403841502]}, {\"marker\": {\"color\": \"blue\", \"line\": {\"width\": 0}, \"size\": 2}, \"mode\": \"markers\", \"name\": \"3.4983523458175467\", \"showlegend\": false, \"type\": \"scatter3d\", \"x\": [-0.5370500045819107], \"y\": [-1.3512043294085272], \"z\": [-2.8958779309977802]}, {\"marker\": {\"color\": \"blue\", \"line\": {\"width\": 0}, \"size\": 2}, \"mode\": \"markers\", \"name\": \"5.399443490375184\", \"showlegend\": false, \"type\": \"scatter3d\", \"x\": [-2.4278706306650815], \"y\": [-2.3000648458140063], \"z\": [-4.614732745018286]}, {\"marker\": {\"color\": \"red\", \"line\": {\"width\": 0}, \"size\": 2}, \"mode\": \"markers\", \"name\": \"-8.158316662002417\", \"showlegend\": false, \"type\": \"scatter3d\", \"x\": [-2.189109572086774], \"y\": [-8.930021318895749], \"z\": [3.2854575703891404]}, {\"marker\": {\"color\": \"red\", \"line\": {\"width\": 0}, \"size\": 2}, \"mode\": \"markers\", \"name\": \"-7.365134946757862\", \"showlegend\": false, \"type\": \"scatter3d\", \"x\": [-1.2385625641615214], \"y\": [-10.599400808555691], \"z\": [1.5323078781549717]}, {\"marker\": {\"color\": \"red\", \"line\": {\"width\": 0}, \"size\": 3}, \"mode\": \"markers\", \"name\": \"d=-1.672268770647641\", \"type\": \"scatter3d\", \"x\": [-1.5491589173759384], \"y\": [-7.250108574555569], \"z\": [-1.4415180189468613]}, {\"line\": {\"width\": 6}, \"marker\": {\"size\": 1}, \"name\": \"^ len_d\", \"type\": \"scatter3d\", \"x\": [-1.5491589173759384, -1.7705955554209258], \"y\": [-7.250108574555569, -6.683764137658603], \"z\": [-1.4415180189468613, -2.5094812865764826]}, {\"line\": {\"width\": 6}, \"marker\": {\"size\": 1}, \"name\": \"^ proj\", \"type\": \"scatter3d\", \"x\": [-1.5491589173759384, 0.32600316146652775], \"y\": [-7.250108574555569, -0.8337828759389033], \"z\": [-1.4415180189468613, 1.5722755035083578]}, {\"marker\": {\"color\": \"blue\", \"line\": {\"width\": 0}, \"size\": 2}, \"mode\": \"markers\", \"name\": \"3.191812512066244\", \"showlegend\": false, \"type\": \"scatter3d\", \"x\": [-1.6580312392471215], \"y\": [-2.4686234359156143], \"z\": [-2.9967834212358087]}, {\"marker\": {\"color\": \"red\", \"line\": {\"width\": 0}, \"size\": 2}, \"mode\": \"markers\", \"name\": \"-5.669687886417745\", \"showlegend\": false, \"type\": \"scatter3d\", \"x\": [-0.777220540001882], \"y\": [-10.726763450049406], \"z\": [-0.06470266128815605]}, {\"marker\": {\"color\": \"blue\", \"line\": {\"width\": 0}, \"size\": 2}, \"mode\": \"markers\", \"name\": \"3.958621239677284\", \"showlegend\": false, \"type\": \"scatter3d\", \"x\": [-0.2077457436123662], \"y\": [-0.6904645628096294], \"z\": [-3.0030071301117554]}, {\"marker\": {\"color\": \"red\", \"line\": {\"width\": 0}, \"size\": 2}, \"mode\": \"markers\", \"name\": \"-2.4474710443362753\", \"showlegend\": false, \"type\": \"scatter3d\", \"x\": [-2.208993881683744], \"y\": [-6.931037127562513], \"z\": [-0.4799236902257027]}, {\"marker\": {\"color\": \"red\", \"line\": {\"width\": 0}, \"size\": 2}, \"mode\": \"markers\", \"name\": \"-6.941129321311848\", \"showlegend\": false, \"type\": \"scatter3d\", \"x\": [-2.1092372461747035], \"y\": [-9.393765145033843], \"z\": [1.993615444124878]}, {\"marker\": {\"color\": \"blue\", \"line\": {\"width\": 0}, \"size\": 2}, \"mode\": \"markers\", \"name\": \"4.784625058743713\", \"showlegend\": false, \"type\": \"scatter3d\", \"x\": [-0.3180427354058979], \"y\": [-1.4010703116424414], \"z\": [-4.0555125917167665]}, {\"marker\": {\"color\": \"blue\", \"line\": {\"width\": 0}, \"size\": 2}, \"mode\": \"markers\", \"name\": \"3.301055795072448\", \"showlegend\": false, \"type\": \"scatter3d\", \"x\": [-1.7618984071926949], \"y\": [-2.8473642653630744], \"z\": [-3.268479933536673]}, {\"marker\": {\"color\": \"red\", \"line\": {\"width\": 0}, \"size\": 2}, \"mode\": \"markers\", \"name\": \"-5.94989071369344\", \"showlegend\": false, \"type\": \"scatter3d\", \"x\": [-1.6994184393126137], \"y\": [-9.613804261878917], \"z\": [0.9536793178805771]}, {\"marker\": {\"color\": \"red\", \"line\": {\"width\": 0}, \"size\": 2}, \"mode\": \"markers\", \"name\": \"-7.633624158395208\", \"showlegend\": false, \"type\": \"scatter3d\", \"x\": [-0.8996299869449244], \"y\": [-9.698610632187053], \"z\": [2.1667810560691363]}, {\"marker\": {\"color\": \"red\", \"line\": {\"width\": 0}, \"size\": 3}, \"mode\": \"markers\", \"name\": \"d=-8.681973883678706\", \"type\": \"scatter3d\", \"x\": [0.1265942845014456], \"y\": [-11.219434867826742], \"z\": [2.0340735109649115]}, {\"line\": {\"width\": 6}, \"marker\": {\"size\": 1}, \"name\": \"^ len_d\", \"type\": \"scatter3d\", \"x\": [0.1265942845014456, -1.0230457387656517], \"y\": [-11.219434867826742, -8.279125453089586], \"z\": [2.0340735109649115, -3.5105072173456775]}, {\"line\": {\"width\": 6}, \"marker\": {\"size\": 1}, \"name\": \"^ proj\", \"type\": \"scatter3d\", \"x\": [0.1265942845014456, 1.2542065466886378], \"y\": [-11.219434867826742, -3.207747853779091], \"z\": [2.0340735109649115, 6.048892964189326]}, {\"marker\": {\"color\": \"blue\", \"line\": {\"width\": 0}, \"size\": 2}, \"mode\": \"markers\", \"name\": \"3.92109650486913\", \"showlegend\": false, \"type\": \"scatter3d\", \"x\": [-3.2793979214271083], \"y\": [-1.2275904418093788], \"z\": [-2.6192215465178186]}, {\"marker\": {\"color\": \"red\", \"line\": {\"width\": 0}, \"size\": 2}, \"mode\": \"markers\", \"name\": \"-7.602602553010275\", \"showlegend\": false, \"type\": \"scatter3d\", \"x\": [-0.5448223810947223], \"y\": [-10.13472563123421], \"z\": [1.835705839145523]}, {\"marker\": {\"color\": \"red\", \"line\": {\"width\": 0}, \"size\": 2}, \"mode\": \"markers\", \"name\": \"-5.82164235654051\", \"showlegend\": false, \"type\": \"scatter3d\", \"x\": [-1.9993557985866022], \"y\": [-10.064889958021181], \"z\": [0.6681999291923968]}, {\"marker\": {\"color\": \"blue\", \"line\": {\"width\": 0}, \"size\": 2}, \"mode\": \"markers\", \"name\": \"4.245337102998128\", \"showlegend\": false, \"type\": \"scatter3d\", \"x\": [-0.6920363339672632], \"y\": [-1.58898446753575], \"z\": [-3.6215511381165517]}, {\"marker\": {\"color\": \"blue\", \"line\": {\"width\": 0}, \"size\": 2}, \"mode\": \"markers\", \"name\": \"5.0220710396210135\", \"showlegend\": false, \"type\": \"scatter3d\", \"x\": [-0.2605230817068416], \"y\": [-1.9216463929509258], \"z\": [-4.544306524063666]}, {\"marker\": {\"color\": \"blue\", \"line\": {\"width\": 0}, \"size\": 2}, \"mode\": \"markers\", \"name\": \"2.3568903236592607\", \"showlegend\": false, \"type\": \"scatter3d\", \"x\": [-1.7200746184897326], \"y\": [-1.7407911494275212], \"z\": [-1.8918666646659397]}, {\"marker\": {\"color\": \"blue\", \"line\": {\"width\": 0}, \"size\": 2}, \"mode\": \"markers\", \"name\": \"2.0015669529572664\", \"showlegend\": false, \"type\": \"scatter3d\", \"x\": [-0.5415872984195823], \"y\": [-2.5864049413688104], \"z\": [-2.2841602985608693]}, {\"marker\": {\"color\": \"blue\", \"line\": {\"width\": 0}, \"size\": 2}, \"mode\": \"markers\", \"name\": \"5.154845322811196\", \"showlegend\": false, \"type\": \"scatter3d\", \"x\": [-3.1439561214259393], \"y\": [-1.2621558942512991], \"z\": [-3.7089967902252914]}, {\"marker\": {\"color\": \"blue\", \"line\": {\"width\": 0}, \"size\": 2}, \"mode\": \"markers\", \"name\": \"1.805600111263191\", \"showlegend\": false, \"type\": \"scatter3d\", \"x\": [1.9861932534769364], \"y\": [-0.6217826382099462], \"z\": [-1.6007107275242336]}, {\"marker\": {\"color\": \"red\", \"line\": {\"width\": 0}, \"size\": 2}, \"mode\": \"markers\", \"name\": \"-6.668948038241366\", \"showlegend\": false, \"type\": \"scatter3d\", \"x\": [-0.7782447503786115], \"y\": [-10.325689067272036], \"z\": [0.993259319045779]}, {\"marker\": {\"color\": \"blue\", \"line\": {\"width\": 0}, \"size\": 2}, \"mode\": \"markers\", \"name\": \"4.96842429292795\", \"showlegend\": false, \"type\": \"scatter3d\", \"x\": [-2.354351183964895], \"y\": [-1.0009774375225404], \"z\": [-3.576560153702099]}, {\"marker\": {\"color\": \"blue\", \"line\": {\"width\": 0}, \"size\": 2}, \"mode\": \"markers\", \"name\": \"2.68871174499778\", \"showlegend\": false, \"type\": \"scatter3d\", \"x\": [0.5324423095002062], \"y\": [-3.306711369346252], \"z\": [-3.4699431439198865]}, {\"marker\": {\"color\": \"blue\", \"line\": {\"width\": 0}, \"size\": 2}, \"mode\": \"markers\", \"name\": \"5.75557433795478\", \"showlegend\": false, \"type\": \"scatter3d\", \"x\": [-0.7956119992676421], \"y\": [-1.4661397829437133], \"z\": [-4.812114131071052]}, {\"marker\": {\"color\": \"red\", \"line\": {\"width\": 0}, \"size\": 2}, \"mode\": \"markers\", \"name\": \"-7.372953859023904\", \"showlegend\": false, \"type\": \"scatter3d\", \"x\": [-1.9577775344879664], \"y\": [-10.920914390180792], \"z\": [1.5175459875845316]}, {\"marker\": {\"color\": \"red\", \"line\": {\"width\": 0}, \"size\": 2}, \"mode\": \"markers\", \"name\": \"-4.5706691510442665\", \"showlegend\": false, \"type\": \"scatter3d\", \"x\": [-0.846605627083354], \"y\": [-8.203096133170305], \"z\": [0.35857025239482054]}, {\"marker\": {\"color\": \"red\", \"line\": {\"width\": 0}, \"size\": 2}, \"mode\": \"markers\", \"name\": \"-7.430561057858492\", \"showlegend\": false, \"type\": \"scatter3d\", \"x\": [-0.9540985237729442], \"y\": [-11.521798412170888], \"z\": [1.0395050807158799]}, {\"marker\": {\"color\": \"red\", \"line\": {\"width\": 0}, \"size\": 2}, \"mode\": \"markers\", \"name\": \"-7.419585907341752\", \"showlegend\": false, \"type\": \"scatter3d\", \"x\": [-1.167375452343276], \"y\": [-9.11103082677894], \"z\": [2.352883420246779]}, {\"marker\": {\"color\": \"red\", \"line\": {\"width\": 0}, \"size\": 2}, \"mode\": \"markers\", \"name\": \"-5.327530834164923\", \"showlegend\": false, \"type\": \"scatter3d\", \"x\": [-1.6189239231891213], \"y\": [-9.717659394294776], \"z\": [0.35559454508988164]}, {\"marker\": {\"color\": \"blue\", \"line\": {\"width\": 0}, \"size\": 2}, \"mode\": \"markers\", \"name\": \"1.8168889395917676\", \"showlegend\": false, \"type\": \"scatter3d\", \"x\": [2.815140476170738], \"y\": [-0.7715230809383078], \"z\": [-1.8615432636055613]}, {\"marker\": {\"color\": \"red\", \"line\": {\"width\": 0}, \"size\": 2}, \"mode\": \"markers\", \"name\": \"-6.435029976246158\", \"showlegend\": false, \"type\": \"scatter3d\", \"x\": [-2.467714243545209], \"y\": [-10.9026925907463], \"z\": [0.8397543618972337]}, {\"marker\": {\"color\": \"blue\", \"line\": {\"width\": 0}, \"size\": 2}, \"mode\": \"markers\", \"name\": \"3.270729992869069\", \"showlegend\": false, \"type\": \"scatter3d\", \"x\": [-2.6111194173885], \"y\": [-3.6182375500848063], \"z\": [-3.4755489549556478]}, {\"marker\": {\"color\": \"blue\", \"line\": {\"width\": 0}, \"size\": 2}, \"mode\": \"markers\", \"name\": \"4.7212553633339525\", \"showlegend\": false, \"type\": \"scatter3d\", \"x\": [-2.632141027502986], \"y\": [-0.4598978823168711], \"z\": [-3.0229987371752776]}, {\"marker\": {\"color\": \"blue\", \"line\": {\"width\": 0}, \"size\": 2}, \"mode\": \"markers\", \"name\": \"1.940225157891715\", \"showlegend\": false, \"type\": \"scatter3d\", \"x\": [-0.27369741826522564], \"y\": [-3.07510943607289], \"z\": [-2.5469916880804377]}, {\"marker\": {\"color\": \"red\", \"line\": {\"width\": 0}, \"size\": 2}, \"mode\": \"markers\", \"name\": \"-7.112289851815083\", \"showlegend\": false, \"type\": \"scatter3d\", \"x\": [-0.8562772492940441], \"y\": [-8.682295368407159], \"z\": [2.255863220899003]}, {\"marker\": {\"color\": \"blue\", \"line\": {\"width\": 0}, \"size\": 2}, \"mode\": \"markers\", \"name\": \"3.1372305450118247\", \"showlegend\": false, \"type\": \"scatter3d\", \"x\": [0.5109244939452628], \"y\": [-1.4122341513386731], \"z\": [-2.8401393057647053]}, {\"marker\": {\"color\": \"blue\", \"line\": {\"width\": 0}, \"size\": 2}, \"mode\": \"markers\", \"name\": \"4.5098813008931025\", \"showlegend\": false, \"type\": \"scatter3d\", \"x\": [-3.3631644102999134], \"y\": [-0.982499871843562], \"z\": [-2.9698066794796447]}, {\"marker\": {\"color\": \"red\", \"line\": {\"width\": 0}, \"size\": 2}, \"mode\": \"markers\", \"name\": \"-5.170077552795163\", \"showlegend\": false, \"type\": \"scatter3d\", \"x\": [-3.6237051481598868], \"y\": [-8.3199538727014], \"z\": [1.3793276051777774]}, {\"marker\": {\"color\": \"red\", \"line\": {\"width\": 0}, \"size\": 2}, \"mode\": \"markers\", \"name\": \"-5.996512267988843\", \"showlegend\": false, \"type\": \"scatter3d\", \"x\": [-0.8982357230332279], \"y\": [-8.915199921999717], \"z\": [1.197457536488295]}, {\"marker\": {\"color\": \"red\", \"line\": {\"width\": 0}, \"size\": 2}, \"mode\": \"markers\", \"name\": \"-8.402394948992251\", \"showlegend\": false, \"type\": \"scatter3d\", \"x\": [-1.6839942264978642], \"y\": [-10.865994029978038], \"z\": [2.3604849815013074]}, {\"marker\": {\"color\": \"blue\", \"line\": {\"width\": 0}, \"size\": 2}, \"mode\": \"markers\", \"name\": \"1.6149242080370023\", \"showlegend\": false, \"type\": \"scatter3d\", \"x\": [-0.17566541418362114], \"y\": [-1.8668860471137454], \"z\": [-1.6514913914502833]}, {\"marker\": {\"color\": \"red\", \"line\": {\"width\": 0}, \"size\": 2}, \"mode\": \"markers\", \"name\": \"-7.23802288951913\", \"showlegend\": false, \"type\": \"scatter3d\", \"x\": [-0.5849823521129334], \"y\": [-11.514941909564786], \"z\": [0.8037802928618021]}, {\"marker\": {\"color\": \"red\", \"line\": {\"width\": 0}, \"size\": 2}, \"mode\": \"markers\", \"name\": \"-5.112312020992316\", \"showlegend\": false, \"type\": \"scatter3d\", \"x\": [-2.3015166876819912], \"y\": [-9.049079662462567], \"z\": [0.669669487497659]}, {\"marker\": {\"color\": \"red\", \"line\": {\"width\": 0}, \"size\": 2}, \"mode\": \"markers\", \"name\": \"-7.019737552344267\", \"showlegend\": false, \"type\": \"scatter3d\", \"x\": [-0.062216324103634424], \"y\": [-9.943480711595555], \"z\": [1.3441380516619292]}, {\"marker\": {\"color\": \"blue\", \"line\": {\"width\": 0}, \"size\": 2}, \"mode\": \"markers\", \"name\": \"3.768945877567886\", \"showlegend\": false, \"type\": \"scatter3d\", \"x\": [-0.7791814301690143], \"y\": [-0.7631855276368256], \"z\": [-2.7626816126453972]}, {\"marker\": {\"color\": \"blue\", \"line\": {\"width\": 0}, \"size\": 2}, \"mode\": \"markers\", \"name\": \"2.333747836332608\", \"showlegend\": false, \"type\": \"scatter3d\", \"x\": [-1.7410530238271087], \"y\": [-2.848071176596078], \"z\": [-2.4551399086483734]}, {\"marker\": {\"color\": \"blue\", \"line\": {\"width\": 0}, \"size\": 2}, \"mode\": \"markers\", \"name\": \"3.7905107620068477\", \"showlegend\": false, \"type\": \"scatter3d\", \"x\": [-1.846501587197685], \"y\": [-1.2931171450700611], \"z\": [-2.8406398843183185]}, {\"marker\": {\"color\": \"red\", \"line\": {\"width\": 0}, \"size\": 2}, \"mode\": \"markers\", \"name\": \"-4.582045806241058\", \"showlegend\": false, \"type\": \"scatter3d\", \"x\": [-1.661618438925011], \"y\": [-9.41498635429603], \"z\": [-0.10548938942187358]}, {\"marker\": {\"color\": \"blue\", \"line\": {\"width\": 0}, \"size\": 2}, \"mode\": \"markers\", \"name\": \"5.070675555798818\", \"showlegend\": false, \"type\": \"scatter3d\", \"x\": [-3.0584698759102187], \"y\": [-1.70706525528034], \"z\": [-3.891477773844276]}, {\"marker\": {\"color\": \"red\", \"line\": {\"width\": 0}, \"size\": 2}, \"mode\": \"markers\", \"name\": \"-4.648061855652127\", \"showlegend\": false, \"type\": \"scatter3d\", \"x\": [-1.4365361275445485], \"y\": [-9.224904911440879], \"z\": [0.004470508804561124]}, {\"marker\": {\"color\": \"red\", \"line\": {\"width\": 0}, \"size\": 2}, \"mode\": \"markers\", \"name\": \"-7.964515287866054\", \"showlegend\": false, \"type\": \"scatter3d\", \"x\": [0.3043850992357515], \"y\": [-12.140924819825662], \"z\": [0.9017969346835247]}, {\"marker\": {\"color\": \"red\", \"line\": {\"width\": 0}, \"size\": 2}, \"mode\": \"markers\", \"name\": \"-6.208409275123907\", \"showlegend\": false, \"type\": \"scatter3d\", \"x\": [-3.1481926117236885], \"y\": [-7.750290697461706], \"z\": [2.4609275681475955]}, {\"marker\": {\"color\": \"red\", \"line\": {\"width\": 0}, \"size\": 2}, \"mode\": \"markers\", \"name\": \"-4.789147430712685\", \"showlegend\": false, \"type\": \"scatter3d\", \"x\": [-2.0279729064537872], \"y\": [-9.472450112468849], \"z\": [0.11514166433384088]}, {\"marker\": {\"color\": \"red\", \"line\": {\"width\": 0}, \"size\": 2}, \"mode\": \"markers\", \"name\": \"-5.107534620391757\", \"showlegend\": false, \"type\": \"scatter3d\", \"x\": [-2.413235230836907], \"y\": [-9.048382808785483], \"z\": [0.6891631187728673]}, {\"marker\": {\"color\": \"red\", \"line\": {\"width\": 0}, \"size\": 2}, \"mode\": \"markers\", \"name\": \"-5.446853995595974\", \"showlegend\": false, \"type\": \"scatter3d\", \"x\": [-1.5562814494106627], \"y\": [-9.99835925717476], \"z\": [0.2946596076377942]}, {\"marker\": {\"color\": \"blue\", \"line\": {\"width\": 0}, \"size\": 2}, \"mode\": \"markers\", \"name\": \"3.488416098471431\", \"showlegend\": false, \"type\": \"scatter3d\", \"x\": [-1.1724465660561343], \"y\": [-2.439472710192113], \"z\": [-3.3328411309196055]}, {\"marker\": {\"color\": \"blue\", \"line\": {\"width\": 0}, \"size\": 2}, \"mode\": \"markers\", \"name\": \"5.675164331401085\", \"showlegend\": false, \"type\": \"scatter3d\", \"x\": [-1.545326266004287], \"y\": [-3.1393185695146357], \"z\": [-5.475955515667467]}, {\"marker\": {\"color\": \"red\", \"line\": {\"width\": 0}, \"size\": 2}, \"mode\": \"markers\", \"name\": \"-6.956410841014744\", \"showlegend\": false, \"type\": \"scatter3d\", \"x\": [-1.357320622512882], \"y\": [-8.656772358005192], \"z\": [2.2414624781712167]}, {\"marker\": {\"color\": \"red\", \"line\": {\"width\": 0}, \"size\": 2}, \"mode\": \"markers\", \"name\": \"-6.070585052535823\", \"showlegend\": false, \"type\": \"scatter3d\", \"x\": [-1.6611944746752747], \"y\": [-9.857144786521168], \"z\": [0.9187787946802018]}, {\"marker\": {\"color\": \"red\", \"line\": {\"width\": 0}, \"size\": 2}, \"mode\": \"markers\", \"name\": \"-7.2577772801363745\", \"showlegend\": false, \"type\": \"scatter3d\", \"x\": [-0.7377493850108957], \"y\": [-9.794983560435583], \"z\": [1.7642612956435944]}, {\"marker\": {\"color\": \"blue\", \"line\": {\"width\": 0}, \"size\": 2}, \"mode\": \"markers\", \"name\": \"3.840333997654276\", \"showlegend\": false, \"type\": \"scatter3d\", \"x\": [-2.7469164972912514], \"y\": [-1.9306617356064473], \"z\": [-3.034170248128713]}, {\"marker\": {\"color\": \"blue\", \"line\": {\"width\": 0}, \"size\": 2}, \"mode\": \"markers\", \"name\": \"2.4403101646704664\", \"showlegend\": false, \"type\": \"scatter3d\", \"x\": [-0.423953950089518], \"y\": [-2.679734533092661], \"z\": [-2.7290821665268874]}, {\"marker\": {\"color\": \"blue\", \"line\": {\"width\": 0}, \"size\": 3}, \"mode\": \"markers\", \"name\": \"d=7.05317360877066\", \"type\": \"scatter3d\", \"x\": [-2.317067132432493], \"y\": [-2.040818781594588], \"z\": [-5.8987617119969125]}, {\"line\": {\"width\": 6}, \"marker\": {\"size\": 1}, \"name\": \"^ len_d\", \"type\": \"scatter3d\", \"x\": [-2.317067132432493, -1.383107783978635], \"y\": [-2.040818781594588, -4.42950516138553], \"z\": [-5.8987617119969125, -1.3943839070675583]}, {\"line\": {\"width\": 6}, \"marker\": {\"size\": 1}, \"name\": \"^ proj\", \"type\": \"scatter3d\", \"x\": [-2.317067132432493, -0.8293928250323177], \"y\": [-2.040818781594588, 2.1212479407490057], \"z\": [-5.8987617119969125, -4.0000655690506175]}, {\"showlegend\": false, \"showscale\": false, \"type\": \"surface\", \"x\": [[-4.408310764085751, -4.147481866430139, -3.886652968774526, -3.625824071118914, -3.364995173463301, -3.104166275807689, -2.8433373781520763, -2.5825084804964638, -2.321679582840851, -2.0608506851852386, -1.800021787529626, -1.5391928898740135, -1.2783639922184014, -1.0175350945627888, -0.7567061969071762, -0.49587729925156365, -0.23504840159595108, 0.02578049605966104, 0.28660939371527405, 0.5474382913708862, 0.8082671890264992, 1.0690960866821113, 1.3299249843377243, 1.5907538819933364, 1.8515827796489486, 2.1124116773045616, 2.3732405749601737, 2.6340694726157867, 2.894898370271399, 3.155727267927011], [-4.408310764085751, -4.147481866430139, -3.886652968774526, -3.625824071118914, -3.364995173463301, -3.104166275807689, -2.8433373781520763, -2.5825084804964638, -2.321679582840851, -2.0608506851852386, -1.800021787529626, -1.5391928898740135, -1.2783639922184014, -1.0175350945627888, -0.7567061969071762, -0.49587729925156365, -0.23504840159595108, 0.02578049605966104, 0.28660939371527405, 0.5474382913708862, 0.8082671890264992, 1.0690960866821113, 1.3299249843377243, 1.5907538819933364, 1.8515827796489486, 2.1124116773045616, 2.3732405749601737, 2.6340694726157867, 2.894898370271399, 3.155727267927011], [-4.408310764085751, -4.147481866430139, -3.886652968774526, -3.625824071118914, -3.364995173463301, -3.104166275807689, -2.8433373781520763, -2.5825084804964638, -2.321679582840851, -2.0608506851852386, -1.800021787529626, -1.5391928898740135, -1.2783639922184014, -1.0175350945627888, -0.7567061969071762, -0.49587729925156365, -0.23504840159595108, 0.02578049605966104, 0.28660939371527405, 0.5474382913708862, 0.8082671890264992, 1.0690960866821113, 1.3299249843377243, 1.5907538819933364, 1.8515827796489486, 2.1124116773045616, 2.3732405749601737, 2.6340694726157867, 2.894898370271399, 3.155727267927011], [-4.408310764085751, -4.147481866430139, -3.886652968774526, -3.625824071118914, -3.364995173463301, -3.104166275807689, -2.8433373781520763, -2.5825084804964638, -2.321679582840851, -2.0608506851852386, -1.800021787529626, -1.5391928898740135, -1.2783639922184014, -1.0175350945627888, -0.7567061969071762, -0.49587729925156365, -0.23504840159595108, 0.02578049605966104, 0.28660939371527405, 0.5474382913708862, 0.8082671890264992, 1.0690960866821113, 1.3299249843377243, 1.5907538819933364, 1.8515827796489486, 2.1124116773045616, 2.3732405749601737, 2.6340694726157867, 2.894898370271399, 3.155727267927011], [-4.408310764085751, -4.147481866430139, -3.886652968774526, -3.625824071118914, -3.364995173463301, -3.104166275807689, -2.8433373781520763, -2.5825084804964638, -2.321679582840851, -2.0608506851852386, -1.800021787529626, -1.5391928898740135, -1.2783639922184014, -1.0175350945627888, -0.7567061969071762, -0.49587729925156365, -0.23504840159595108, 0.02578049605966104, 0.28660939371527405, 0.5474382913708862, 0.8082671890264992, 1.0690960866821113, 1.3299249843377243, 1.5907538819933364, 1.8515827796489486, 2.1124116773045616, 2.3732405749601737, 2.6340694726157867, 2.894898370271399, 3.155727267927011], [-4.408310764085751, -4.147481866430139, -3.886652968774526, -3.625824071118914, -3.364995173463301, -3.104166275807689, -2.8433373781520763, -2.5825084804964638, -2.321679582840851, -2.0608506851852386, -1.800021787529626, -1.5391928898740135, -1.2783639922184014, -1.0175350945627888, -0.7567061969071762, -0.49587729925156365, -0.23504840159595108, 0.02578049605966104, 0.28660939371527405, 0.5474382913708862, 0.8082671890264992, 1.0690960866821113, 1.3299249843377243, 1.5907538819933364, 1.8515827796489486, 2.1124116773045616, 2.3732405749601737, 2.6340694726157867, 2.894898370271399, 3.155727267927011], [-4.408310764085751, -4.147481866430139, -3.886652968774526, -3.625824071118914, -3.364995173463301, -3.104166275807689, -2.8433373781520763, -2.5825084804964638, -2.321679582840851, -2.0608506851852386, -1.800021787529626, -1.5391928898740135, -1.2783639922184014, -1.0175350945627888, -0.7567061969071762, -0.49587729925156365, -0.23504840159595108, 0.02578049605966104, 0.28660939371527405, 0.5474382913708862, 0.8082671890264992, 1.0690960866821113, 1.3299249843377243, 1.5907538819933364, 1.8515827796489486, 2.1124116773045616, 2.3732405749601737, 2.6340694726157867, 2.894898370271399, 3.155727267927011], [-4.408310764085751, -4.147481866430139, -3.886652968774526, -3.625824071118914, -3.364995173463301, -3.104166275807689, -2.8433373781520763, -2.5825084804964638, -2.321679582840851, -2.0608506851852386, -1.800021787529626, -1.5391928898740135, -1.2783639922184014, -1.0175350945627888, -0.7567061969071762, -0.49587729925156365, -0.23504840159595108, 0.02578049605966104, 0.28660939371527405, 0.5474382913708862, 0.8082671890264992, 1.0690960866821113, 1.3299249843377243, 1.5907538819933364, 1.8515827796489486, 2.1124116773045616, 2.3732405749601737, 2.6340694726157867, 2.894898370271399, 3.155727267927011], [-4.408310764085751, -4.147481866430139, -3.886652968774526, -3.625824071118914, -3.364995173463301, -3.104166275807689, -2.8433373781520763, -2.5825084804964638, -2.321679582840851, -2.0608506851852386, -1.800021787529626, -1.5391928898740135, -1.2783639922184014, -1.0175350945627888, -0.7567061969071762, -0.49587729925156365, -0.23504840159595108, 0.02578049605966104, 0.28660939371527405, 0.5474382913708862, 0.8082671890264992, 1.0690960866821113, 1.3299249843377243, 1.5907538819933364, 1.8515827796489486, 2.1124116773045616, 2.3732405749601737, 2.6340694726157867, 2.894898370271399, 3.155727267927011], [-4.408310764085751, -4.147481866430139, -3.886652968774526, -3.625824071118914, -3.364995173463301, -3.104166275807689, -2.8433373781520763, -2.5825084804964638, -2.321679582840851, -2.0608506851852386, -1.800021787529626, -1.5391928898740135, -1.2783639922184014, -1.0175350945627888, -0.7567061969071762, -0.49587729925156365, -0.23504840159595108, 0.02578049605966104, 0.28660939371527405, 0.5474382913708862, 0.8082671890264992, 1.0690960866821113, 1.3299249843377243, 1.5907538819933364, 1.8515827796489486, 2.1124116773045616, 2.3732405749601737, 2.6340694726157867, 2.894898370271399, 3.155727267927011], [-4.408310764085751, -4.147481866430139, -3.886652968774526, -3.625824071118914, -3.364995173463301, -3.104166275807689, -2.8433373781520763, -2.5825084804964638, -2.321679582840851, -2.0608506851852386, -1.800021787529626, -1.5391928898740135, -1.2783639922184014, -1.0175350945627888, -0.7567061969071762, -0.49587729925156365, -0.23504840159595108, 0.02578049605966104, 0.28660939371527405, 0.5474382913708862, 0.8082671890264992, 1.0690960866821113, 1.3299249843377243, 1.5907538819933364, 1.8515827796489486, 2.1124116773045616, 2.3732405749601737, 2.6340694726157867, 2.894898370271399, 3.155727267927011], [-4.408310764085751, -4.147481866430139, -3.886652968774526, -3.625824071118914, -3.364995173463301, -3.104166275807689, -2.8433373781520763, -2.5825084804964638, -2.321679582840851, -2.0608506851852386, -1.800021787529626, -1.5391928898740135, -1.2783639922184014, -1.0175350945627888, -0.7567061969071762, -0.49587729925156365, -0.23504840159595108, 0.02578049605966104, 0.28660939371527405, 0.5474382913708862, 0.8082671890264992, 1.0690960866821113, 1.3299249843377243, 1.5907538819933364, 1.8515827796489486, 2.1124116773045616, 2.3732405749601737, 2.6340694726157867, 2.894898370271399, 3.155727267927011], [-4.408310764085751, -4.147481866430139, -3.886652968774526, -3.625824071118914, -3.364995173463301, -3.104166275807689, -2.8433373781520763, -2.5825084804964638, -2.321679582840851, -2.0608506851852386, -1.800021787529626, -1.5391928898740135, -1.2783639922184014, -1.0175350945627888, -0.7567061969071762, -0.49587729925156365, -0.23504840159595108, 0.02578049605966104, 0.28660939371527405, 0.5474382913708862, 0.8082671890264992, 1.0690960866821113, 1.3299249843377243, 1.5907538819933364, 1.8515827796489486, 2.1124116773045616, 2.3732405749601737, 2.6340694726157867, 2.894898370271399, 3.155727267927011], [-4.408310764085751, -4.147481866430139, -3.886652968774526, -3.625824071118914, -3.364995173463301, -3.104166275807689, -2.8433373781520763, -2.5825084804964638, -2.321679582840851, -2.0608506851852386, -1.800021787529626, -1.5391928898740135, -1.2783639922184014, -1.0175350945627888, -0.7567061969071762, -0.49587729925156365, -0.23504840159595108, 0.02578049605966104, 0.28660939371527405, 0.5474382913708862, 0.8082671890264992, 1.0690960866821113, 1.3299249843377243, 1.5907538819933364, 1.8515827796489486, 2.1124116773045616, 2.3732405749601737, 2.6340694726157867, 2.894898370271399, 3.155727267927011], [-4.408310764085751, -4.147481866430139, -3.886652968774526, -3.625824071118914, -3.364995173463301, -3.104166275807689, -2.8433373781520763, -2.5825084804964638, -2.321679582840851, -2.0608506851852386, -1.800021787529626, -1.5391928898740135, -1.2783639922184014, -1.0175350945627888, -0.7567061969071762, -0.49587729925156365, -0.23504840159595108, 0.02578049605966104, 0.28660939371527405, 0.5474382913708862, 0.8082671890264992, 1.0690960866821113, 1.3299249843377243, 1.5907538819933364, 1.8515827796489486, 2.1124116773045616, 2.3732405749601737, 2.6340694726157867, 2.894898370271399, 3.155727267927011], [-4.408310764085751, -4.147481866430139, -3.886652968774526, -3.625824071118914, -3.364995173463301, -3.104166275807689, -2.8433373781520763, -2.5825084804964638, -2.321679582840851, -2.0608506851852386, -1.800021787529626, -1.5391928898740135, -1.2783639922184014, -1.0175350945627888, -0.7567061969071762, -0.49587729925156365, -0.23504840159595108, 0.02578049605966104, 0.28660939371527405, 0.5474382913708862, 0.8082671890264992, 1.0690960866821113, 1.3299249843377243, 1.5907538819933364, 1.8515827796489486, 2.1124116773045616, 2.3732405749601737, 2.6340694726157867, 2.894898370271399, 3.155727267927011], [-4.408310764085751, -4.147481866430139, -3.886652968774526, -3.625824071118914, -3.364995173463301, -3.104166275807689, -2.8433373781520763, -2.5825084804964638, -2.321679582840851, -2.0608506851852386, -1.800021787529626, -1.5391928898740135, -1.2783639922184014, -1.0175350945627888, -0.7567061969071762, -0.49587729925156365, -0.23504840159595108, 0.02578049605966104, 0.28660939371527405, 0.5474382913708862, 0.8082671890264992, 1.0690960866821113, 1.3299249843377243, 1.5907538819933364, 1.8515827796489486, 2.1124116773045616, 2.3732405749601737, 2.6340694726157867, 2.894898370271399, 3.155727267927011], [-4.408310764085751, -4.147481866430139, -3.886652968774526, -3.625824071118914, -3.364995173463301, -3.104166275807689, -2.8433373781520763, -2.5825084804964638, -2.321679582840851, -2.0608506851852386, -1.800021787529626, -1.5391928898740135, -1.2783639922184014, -1.0175350945627888, -0.7567061969071762, -0.49587729925156365, -0.23504840159595108, 0.02578049605966104, 0.28660939371527405, 0.5474382913708862, 0.8082671890264992, 1.0690960866821113, 1.3299249843377243, 1.5907538819933364, 1.8515827796489486, 2.1124116773045616, 2.3732405749601737, 2.6340694726157867, 2.894898370271399, 3.155727267927011], [-4.408310764085751, -4.147481866430139, -3.886652968774526, -3.625824071118914, -3.364995173463301, -3.104166275807689, -2.8433373781520763, -2.5825084804964638, -2.321679582840851, -2.0608506851852386, -1.800021787529626, -1.5391928898740135, -1.2783639922184014, -1.0175350945627888, -0.7567061969071762, -0.49587729925156365, -0.23504840159595108, 0.02578049605966104, 0.28660939371527405, 0.5474382913708862, 0.8082671890264992, 1.0690960866821113, 1.3299249843377243, 1.5907538819933364, 1.8515827796489486, 2.1124116773045616, 2.3732405749601737, 2.6340694726157867, 2.894898370271399, 3.155727267927011], [-4.408310764085751, -4.147481866430139, -3.886652968774526, -3.625824071118914, -3.364995173463301, -3.104166275807689, -2.8433373781520763, -2.5825084804964638, -2.321679582840851, -2.0608506851852386, -1.800021787529626, -1.5391928898740135, -1.2783639922184014, -1.0175350945627888, -0.7567061969071762, -0.49587729925156365, -0.23504840159595108, 0.02578049605966104, 0.28660939371527405, 0.5474382913708862, 0.8082671890264992, 1.0690960866821113, 1.3299249843377243, 1.5907538819933364, 1.8515827796489486, 2.1124116773045616, 2.3732405749601737, 2.6340694726157867, 2.894898370271399, 3.155727267927011], [-4.408310764085751, -4.147481866430139, -3.886652968774526, -3.625824071118914, -3.364995173463301, -3.104166275807689, -2.8433373781520763, -2.5825084804964638, -2.321679582840851, -2.0608506851852386, -1.800021787529626, -1.5391928898740135, -1.2783639922184014, -1.0175350945627888, -0.7567061969071762, -0.49587729925156365, -0.23504840159595108, 0.02578049605966104, 0.28660939371527405, 0.5474382913708862, 0.8082671890264992, 1.0690960866821113, 1.3299249843377243, 1.5907538819933364, 1.8515827796489486, 2.1124116773045616, 2.3732405749601737, 2.6340694726157867, 2.894898370271399, 3.155727267927011], [-4.408310764085751, -4.147481866430139, -3.886652968774526, -3.625824071118914, -3.364995173463301, -3.104166275807689, -2.8433373781520763, -2.5825084804964638, -2.321679582840851, -2.0608506851852386, -1.800021787529626, -1.5391928898740135, -1.2783639922184014, -1.0175350945627888, -0.7567061969071762, -0.49587729925156365, -0.23504840159595108, 0.02578049605966104, 0.28660939371527405, 0.5474382913708862, 0.8082671890264992, 1.0690960866821113, 1.3299249843377243, 1.5907538819933364, 1.8515827796489486, 2.1124116773045616, 2.3732405749601737, 2.6340694726157867, 2.894898370271399, 3.155727267927011], [-4.408310764085751, -4.147481866430139, -3.886652968774526, -3.625824071118914, -3.364995173463301, -3.104166275807689, -2.8433373781520763, -2.5825084804964638, -2.321679582840851, -2.0608506851852386, -1.800021787529626, -1.5391928898740135, -1.2783639922184014, -1.0175350945627888, -0.7567061969071762, -0.49587729925156365, -0.23504840159595108, 0.02578049605966104, 0.28660939371527405, 0.5474382913708862, 0.8082671890264992, 1.0690960866821113, 1.3299249843377243, 1.5907538819933364, 1.8515827796489486, 2.1124116773045616, 2.3732405749601737, 2.6340694726157867, 2.894898370271399, 3.155727267927011], [-4.408310764085751, -4.147481866430139, -3.886652968774526, -3.625824071118914, -3.364995173463301, -3.104166275807689, -2.8433373781520763, -2.5825084804964638, -2.321679582840851, -2.0608506851852386, -1.800021787529626, -1.5391928898740135, -1.2783639922184014, -1.0175350945627888, -0.7567061969071762, -0.49587729925156365, -0.23504840159595108, 0.02578049605966104, 0.28660939371527405, 0.5474382913708862, 0.8082671890264992, 1.0690960866821113, 1.3299249843377243, 1.5907538819933364, 1.8515827796489486, 2.1124116773045616, 2.3732405749601737, 2.6340694726157867, 2.894898370271399, 3.155727267927011], [-4.408310764085751, -4.147481866430139, -3.886652968774526, -3.625824071118914, -3.364995173463301, -3.104166275807689, -2.8433373781520763, -2.5825084804964638, -2.321679582840851, -2.0608506851852386, -1.800021787529626, -1.5391928898740135, -1.2783639922184014, -1.0175350945627888, -0.7567061969071762, -0.49587729925156365, -0.23504840159595108, 0.02578049605966104, 0.28660939371527405, 0.5474382913708862, 0.8082671890264992, 1.0690960866821113, 1.3299249843377243, 1.5907538819933364, 1.8515827796489486, 2.1124116773045616, 2.3732405749601737, 2.6340694726157867, 2.894898370271399, 3.155727267927011], [-4.408310764085751, -4.147481866430139, -3.886652968774526, -3.625824071118914, -3.364995173463301, -3.104166275807689, -2.8433373781520763, -2.5825084804964638, -2.321679582840851, -2.0608506851852386, -1.800021787529626, -1.5391928898740135, -1.2783639922184014, -1.0175350945627888, -0.7567061969071762, -0.49587729925156365, -0.23504840159595108, 0.02578049605966104, 0.28660939371527405, 0.5474382913708862, 0.8082671890264992, 1.0690960866821113, 1.3299249843377243, 1.5907538819933364, 1.8515827796489486, 2.1124116773045616, 2.3732405749601737, 2.6340694726157867, 2.894898370271399, 3.155727267927011], [-4.408310764085751, -4.147481866430139, -3.886652968774526, -3.625824071118914, -3.364995173463301, -3.104166275807689, -2.8433373781520763, -2.5825084804964638, -2.321679582840851, -2.0608506851852386, -1.800021787529626, -1.5391928898740135, -1.2783639922184014, -1.0175350945627888, -0.7567061969071762, -0.49587729925156365, -0.23504840159595108, 0.02578049605966104, 0.28660939371527405, 0.5474382913708862, 0.8082671890264992, 1.0690960866821113, 1.3299249843377243, 1.5907538819933364, 1.8515827796489486, 2.1124116773045616, 2.3732405749601737, 2.6340694726157867, 2.894898370271399, 3.155727267927011], [-4.408310764085751, -4.147481866430139, -3.886652968774526, -3.625824071118914, -3.364995173463301, -3.104166275807689, -2.8433373781520763, -2.5825084804964638, -2.321679582840851, -2.0608506851852386, -1.800021787529626, -1.5391928898740135, -1.2783639922184014, -1.0175350945627888, -0.7567061969071762, -0.49587729925156365, -0.23504840159595108, 0.02578049605966104, 0.28660939371527405, 0.5474382913708862, 0.8082671890264992, 1.0690960866821113, 1.3299249843377243, 1.5907538819933364, 1.8515827796489486, 2.1124116773045616, 2.3732405749601737, 2.6340694726157867, 2.894898370271399, 3.155727267927011], [-4.408310764085751, -4.147481866430139, -3.886652968774526, -3.625824071118914, -3.364995173463301, -3.104166275807689, -2.8433373781520763, -2.5825084804964638, -2.321679582840851, -2.0608506851852386, -1.800021787529626, -1.5391928898740135, -1.2783639922184014, -1.0175350945627888, -0.7567061969071762, -0.49587729925156365, -0.23504840159595108, 0.02578049605966104, 0.28660939371527405, 0.5474382913708862, 0.8082671890264992, 1.0690960866821113, 1.3299249843377243, 1.5907538819933364, 1.8515827796489486, 2.1124116773045616, 2.3732405749601737, 2.6340694726157867, 2.894898370271399, 3.155727267927011], [-4.408310764085751, -4.147481866430139, -3.886652968774526, -3.625824071118914, -3.364995173463301, -3.104166275807689, -2.8433373781520763, -2.5825084804964638, -2.321679582840851, -2.0608506851852386, -1.800021787529626, -1.5391928898740135, -1.2783639922184014, -1.0175350945627888, -0.7567061969071762, -0.49587729925156365, -0.23504840159595108, 0.02578049605966104, 0.28660939371527405, 0.5474382913708862, 0.8082671890264992, 1.0690960866821113, 1.3299249843377243, 1.5907538819933364, 1.8515827796489486, 2.1124116773045616, 2.3732405749601737, 2.6340694726157867, 2.894898370271399, 3.155727267927011]], \"y\": [[-9.543595894573482, -9.543595894573482, -9.543595894573482, -9.543595894573482, -9.543595894573482, -9.543595894573482, -9.543595894573482, -9.543595894573482, -9.543595894573482, -9.543595894573482, -9.543595894573482, -9.543595894573482, -9.543595894573482, -9.543595894573482, -9.543595894573482, -9.543595894573482, -9.543595894573482, -9.543595894573482, -9.543595894573482, -9.543595894573482, -9.543595894573482, -9.543595894573482, -9.543595894573482, -9.543595894573482, -9.543595894573482, -9.543595894573482, -9.543595894573482, -9.543595894573482, -9.543595894573482, -9.543595894573482], [-9.253585076649628, -9.253585076649628, -9.253585076649628, -9.253585076649628, -9.253585076649628, -9.253585076649628, -9.253585076649628, -9.253585076649628, -9.253585076649628, -9.253585076649628, -9.253585076649628, -9.253585076649628, -9.253585076649628, -9.253585076649628, -9.253585076649628, -9.253585076649628, -9.253585076649628, -9.253585076649628, -9.253585076649628, -9.253585076649628, -9.253585076649628, -9.253585076649628, -9.253585076649628, -9.253585076649628, -9.253585076649628, -9.253585076649628, -9.253585076649628, -9.253585076649628, -9.253585076649628, -9.253585076649628], [-8.963574258725773, -8.963574258725773, -8.963574258725773, -8.963574258725773, -8.963574258725773, -8.963574258725773, -8.963574258725773, -8.963574258725773, -8.963574258725773, -8.963574258725773, -8.963574258725773, -8.963574258725773, -8.963574258725773, -8.963574258725773, -8.963574258725773, -8.963574258725773, -8.963574258725773, -8.963574258725773, -8.963574258725773, -8.963574258725773, -8.963574258725773, -8.963574258725773, -8.963574258725773, -8.963574258725773, -8.963574258725773, -8.963574258725773, -8.963574258725773, -8.963574258725773, -8.963574258725773, -8.963574258725773], [-8.673563440801919, -8.673563440801919, -8.673563440801919, -8.673563440801919, -8.673563440801919, -8.673563440801919, -8.673563440801919, -8.673563440801919, -8.673563440801919, -8.673563440801919, -8.673563440801919, -8.673563440801919, -8.673563440801919, -8.673563440801919, -8.673563440801919, -8.673563440801919, -8.673563440801919, -8.673563440801919, -8.673563440801919, -8.673563440801919, -8.673563440801919, -8.673563440801919, -8.673563440801919, -8.673563440801919, -8.673563440801919, -8.673563440801919, -8.673563440801919, -8.673563440801919, -8.673563440801919, -8.673563440801919], [-8.383552622878064, -8.383552622878064, -8.383552622878064, -8.383552622878064, -8.383552622878064, -8.383552622878064, -8.383552622878064, -8.383552622878064, -8.383552622878064, -8.383552622878064, -8.383552622878064, -8.383552622878064, -8.383552622878064, -8.383552622878064, -8.383552622878064, -8.383552622878064, -8.383552622878064, -8.383552622878064, -8.383552622878064, -8.383552622878064, -8.383552622878064, -8.383552622878064, -8.383552622878064, -8.383552622878064, -8.383552622878064, -8.383552622878064, -8.383552622878064, -8.383552622878064, -8.383552622878064, -8.383552622878064], [-8.09354180495421, -8.09354180495421, -8.09354180495421, -8.09354180495421, -8.09354180495421, -8.09354180495421, -8.09354180495421, -8.09354180495421, -8.09354180495421, -8.09354180495421, -8.09354180495421, -8.09354180495421, -8.09354180495421, -8.09354180495421, -8.09354180495421, -8.09354180495421, -8.09354180495421, -8.09354180495421, -8.09354180495421, -8.09354180495421, -8.09354180495421, -8.09354180495421, -8.09354180495421, -8.09354180495421, -8.09354180495421, -8.09354180495421, -8.09354180495421, -8.09354180495421, -8.09354180495421, -8.09354180495421], [-7.803530987030355, -7.803530987030355, -7.803530987030355, -7.803530987030355, -7.803530987030355, -7.803530987030355, -7.803530987030355, -7.803530987030355, -7.803530987030355, -7.803530987030355, -7.803530987030355, -7.803530987030355, -7.803530987030355, -7.803530987030355, -7.803530987030355, -7.803530987030355, -7.803530987030355, -7.803530987030355, -7.803530987030355, -7.803530987030355, -7.803530987030355, -7.803530987030355, -7.803530987030355, -7.803530987030355, -7.803530987030355, -7.803530987030355, -7.803530987030355, -7.803530987030355, -7.803530987030355, -7.803530987030355], [-7.513520169106501, -7.513520169106501, -7.513520169106501, -7.513520169106501, -7.513520169106501, -7.513520169106501, -7.513520169106501, -7.513520169106501, -7.513520169106501, -7.513520169106501, -7.513520169106501, -7.513520169106501, -7.513520169106501, -7.513520169106501, -7.513520169106501, -7.513520169106501, -7.513520169106501, -7.513520169106501, -7.513520169106501, -7.513520169106501, -7.513520169106501, -7.513520169106501, -7.513520169106501, -7.513520169106501, -7.513520169106501, -7.513520169106501, -7.513520169106501, -7.513520169106501, -7.513520169106501, -7.513520169106501], [-7.223509351182646, -7.223509351182646, -7.223509351182646, -7.223509351182646, -7.223509351182646, -7.223509351182646, -7.223509351182646, -7.223509351182646, -7.223509351182646, -7.223509351182646, -7.223509351182646, -7.223509351182646, -7.223509351182646, -7.223509351182646, -7.223509351182646, -7.223509351182646, -7.223509351182646, -7.223509351182646, -7.223509351182646, -7.223509351182646, -7.223509351182646, -7.223509351182646, -7.223509351182646, -7.223509351182646, -7.223509351182646, -7.223509351182646, -7.223509351182646, -7.223509351182646, -7.223509351182646, -7.223509351182646], [-6.933498533258792, -6.933498533258792, -6.933498533258792, -6.933498533258792, -6.933498533258792, -6.933498533258792, -6.933498533258792, -6.933498533258792, -6.933498533258792, -6.933498533258792, -6.933498533258792, -6.933498533258792, -6.933498533258792, -6.933498533258792, -6.933498533258792, -6.933498533258792, -6.933498533258792, -6.933498533258792, -6.933498533258792, -6.933498533258792, -6.933498533258792, -6.933498533258792, -6.933498533258792, -6.933498533258792, -6.933498533258792, -6.933498533258792, -6.933498533258792, -6.933498533258792, -6.933498533258792, -6.933498533258792], [-6.6434877153349365, -6.6434877153349365, -6.6434877153349365, -6.6434877153349365, -6.6434877153349365, -6.6434877153349365, -6.6434877153349365, -6.6434877153349365, -6.6434877153349365, -6.6434877153349365, -6.6434877153349365, -6.6434877153349365, -6.6434877153349365, -6.6434877153349365, -6.6434877153349365, -6.6434877153349365, -6.6434877153349365, -6.6434877153349365, -6.6434877153349365, -6.6434877153349365, -6.6434877153349365, -6.6434877153349365, -6.6434877153349365, -6.6434877153349365, -6.6434877153349365, -6.6434877153349365, -6.6434877153349365, -6.6434877153349365, -6.6434877153349365, -6.6434877153349365], [-6.353476897411083, -6.353476897411083, -6.353476897411083, -6.353476897411083, -6.353476897411083, -6.353476897411083, -6.353476897411083, -6.353476897411083, -6.353476897411083, -6.353476897411083, -6.353476897411083, -6.353476897411083, -6.353476897411083, -6.353476897411083, -6.353476897411083, -6.353476897411083, -6.353476897411083, -6.353476897411083, -6.353476897411083, -6.353476897411083, -6.353476897411083, -6.353476897411083, -6.353476897411083, -6.353476897411083, -6.353476897411083, -6.353476897411083, -6.353476897411083, -6.353476897411083, -6.353476897411083, -6.353476897411083], [-6.063466079487228, -6.063466079487228, -6.063466079487228, -6.063466079487228, -6.063466079487228, -6.063466079487228, -6.063466079487228, -6.063466079487228, -6.063466079487228, -6.063466079487228, -6.063466079487228, -6.063466079487228, -6.063466079487228, -6.063466079487228, -6.063466079487228, -6.063466079487228, -6.063466079487228, -6.063466079487228, -6.063466079487228, -6.063466079487228, -6.063466079487228, -6.063466079487228, -6.063466079487228, -6.063466079487228, -6.063466079487228, -6.063466079487228, -6.063466079487228, -6.063466079487228, -6.063466079487228, -6.063466079487228], [-5.773455261563374, -5.773455261563374, -5.773455261563374, -5.773455261563374, -5.773455261563374, -5.773455261563374, -5.773455261563374, -5.773455261563374, -5.773455261563374, -5.773455261563374, -5.773455261563374, -5.773455261563374, -5.773455261563374, -5.773455261563374, -5.773455261563374, -5.773455261563374, -5.773455261563374, -5.773455261563374, -5.773455261563374, -5.773455261563374, -5.773455261563374, -5.773455261563374, -5.773455261563374, -5.773455261563374, -5.773455261563374, -5.773455261563374, -5.773455261563374, -5.773455261563374, -5.773455261563374, -5.773455261563374], [-5.483444443639519, -5.483444443639519, -5.483444443639519, -5.483444443639519, -5.483444443639519, -5.483444443639519, -5.483444443639519, -5.483444443639519, -5.483444443639519, -5.483444443639519, -5.483444443639519, -5.483444443639519, -5.483444443639519, -5.483444443639519, -5.483444443639519, -5.483444443639519, -5.483444443639519, -5.483444443639519, -5.483444443639519, -5.483444443639519, -5.483444443639519, -5.483444443639519, -5.483444443639519, -5.483444443639519, -5.483444443639519, -5.483444443639519, -5.483444443639519, -5.483444443639519, -5.483444443639519, -5.483444443639519], [-5.193433625715665, -5.193433625715665, -5.193433625715665, -5.193433625715665, -5.193433625715665, -5.193433625715665, -5.193433625715665, -5.193433625715665, -5.193433625715665, -5.193433625715665, -5.193433625715665, -5.193433625715665, -5.193433625715665, -5.193433625715665, -5.193433625715665, -5.193433625715665, -5.193433625715665, -5.193433625715665, -5.193433625715665, -5.193433625715665, -5.193433625715665, -5.193433625715665, -5.193433625715665, -5.193433625715665, -5.193433625715665, -5.193433625715665, -5.193433625715665, -5.193433625715665, -5.193433625715665, -5.193433625715665], [-4.90342280779181, -4.90342280779181, -4.90342280779181, -4.90342280779181, -4.90342280779181, -4.90342280779181, -4.90342280779181, -4.90342280779181, -4.90342280779181, -4.90342280779181, -4.90342280779181, -4.90342280779181, -4.90342280779181, -4.90342280779181, -4.90342280779181, -4.90342280779181, -4.90342280779181, -4.90342280779181, -4.90342280779181, -4.90342280779181, -4.90342280779181, -4.90342280779181, -4.90342280779181, -4.90342280779181, -4.90342280779181, -4.90342280779181, -4.90342280779181, -4.90342280779181, -4.90342280779181, -4.90342280779181], [-4.613411989867956, -4.613411989867956, -4.613411989867956, -4.613411989867956, -4.613411989867956, -4.613411989867956, -4.613411989867956, -4.613411989867956, -4.613411989867956, -4.613411989867956, -4.613411989867956, -4.613411989867956, -4.613411989867956, -4.613411989867956, -4.613411989867956, -4.613411989867956, -4.613411989867956, -4.613411989867956, -4.613411989867956, -4.613411989867956, -4.613411989867956, -4.613411989867956, -4.613411989867956, -4.613411989867956, -4.613411989867956, -4.613411989867956, -4.613411989867956, -4.613411989867956, -4.613411989867956, -4.613411989867956], [-4.323401171944101, -4.323401171944101, -4.323401171944101, -4.323401171944101, -4.323401171944101, -4.323401171944101, -4.323401171944101, -4.323401171944101, -4.323401171944101, -4.323401171944101, -4.323401171944101, -4.323401171944101, -4.323401171944101, -4.323401171944101, -4.323401171944101, -4.323401171944101, -4.323401171944101, -4.323401171944101, -4.323401171944101, -4.323401171944101, -4.323401171944101, -4.323401171944101, -4.323401171944101, -4.323401171944101, -4.323401171944101, -4.323401171944101, -4.323401171944101, -4.323401171944101, -4.323401171944101, -4.323401171944101], [-4.033390354020247, -4.033390354020247, -4.033390354020247, -4.033390354020247, -4.033390354020247, -4.033390354020247, -4.033390354020247, -4.033390354020247, -4.033390354020247, -4.033390354020247, -4.033390354020247, -4.033390354020247, -4.033390354020247, -4.033390354020247, -4.033390354020247, -4.033390354020247, -4.033390354020247, -4.033390354020247, -4.033390354020247, -4.033390354020247, -4.033390354020247, -4.033390354020247, -4.033390354020247, -4.033390354020247, -4.033390354020247, -4.033390354020247, -4.033390354020247, -4.033390354020247, -4.033390354020247, -4.033390354020247], [-3.743379536096392, -3.743379536096392, -3.743379536096392, -3.743379536096392, -3.743379536096392, -3.743379536096392, -3.743379536096392, -3.743379536096392, -3.743379536096392, -3.743379536096392, -3.743379536096392, -3.743379536096392, -3.743379536096392, -3.743379536096392, -3.743379536096392, -3.743379536096392, -3.743379536096392, -3.743379536096392, -3.743379536096392, -3.743379536096392, -3.743379536096392, -3.743379536096392, -3.743379536096392, -3.743379536096392, -3.743379536096392, -3.743379536096392, -3.743379536096392, -3.743379536096392, -3.743379536096392, -3.743379536096392], [-3.4533687181725377, -3.4533687181725377, -3.4533687181725377, -3.4533687181725377, -3.4533687181725377, -3.4533687181725377, -3.4533687181725377, -3.4533687181725377, -3.4533687181725377, -3.4533687181725377, -3.4533687181725377, -3.4533687181725377, -3.4533687181725377, -3.4533687181725377, -3.4533687181725377, -3.4533687181725377, -3.4533687181725377, -3.4533687181725377, -3.4533687181725377, -3.4533687181725377, -3.4533687181725377, -3.4533687181725377, -3.4533687181725377, -3.4533687181725377, -3.4533687181725377, -3.4533687181725377, -3.4533687181725377, -3.4533687181725377, -3.4533687181725377, -3.4533687181725377], [-3.163357900248683, -3.163357900248683, -3.163357900248683, -3.163357900248683, -3.163357900248683, -3.163357900248683, -3.163357900248683, -3.163357900248683, -3.163357900248683, -3.163357900248683, -3.163357900248683, -3.163357900248683, -3.163357900248683, -3.163357900248683, -3.163357900248683, -3.163357900248683, -3.163357900248683, -3.163357900248683, -3.163357900248683, -3.163357900248683, -3.163357900248683, -3.163357900248683, -3.163357900248683, -3.163357900248683, -3.163357900248683, -3.163357900248683, -3.163357900248683, -3.163357900248683, -3.163357900248683, -3.163357900248683], [-2.8733470823248286, -2.8733470823248286, -2.8733470823248286, -2.8733470823248286, -2.8733470823248286, -2.8733470823248286, -2.8733470823248286, -2.8733470823248286, -2.8733470823248286, -2.8733470823248286, -2.8733470823248286, -2.8733470823248286, -2.8733470823248286, -2.8733470823248286, -2.8733470823248286, -2.8733470823248286, -2.8733470823248286, -2.8733470823248286, -2.8733470823248286, -2.8733470823248286, -2.8733470823248286, -2.8733470823248286, -2.8733470823248286, -2.8733470823248286, -2.8733470823248286, -2.8733470823248286, -2.8733470823248286, -2.8733470823248286, -2.8733470823248286, -2.8733470823248286], [-2.583336264400975, -2.583336264400975, -2.583336264400975, -2.583336264400975, -2.583336264400975, -2.583336264400975, -2.583336264400975, -2.583336264400975, -2.583336264400975, -2.583336264400975, -2.583336264400975, -2.583336264400975, -2.583336264400975, -2.583336264400975, -2.583336264400975, -2.583336264400975, -2.583336264400975, -2.583336264400975, -2.583336264400975, -2.583336264400975, -2.583336264400975, -2.583336264400975, -2.583336264400975, -2.583336264400975, -2.583336264400975, -2.583336264400975, -2.583336264400975, -2.583336264400975, -2.583336264400975, -2.583336264400975], [-2.2933254464771204, -2.2933254464771204, -2.2933254464771204, -2.2933254464771204, -2.2933254464771204, -2.2933254464771204, -2.2933254464771204, -2.2933254464771204, -2.2933254464771204, -2.2933254464771204, -2.2933254464771204, -2.2933254464771204, -2.2933254464771204, -2.2933254464771204, -2.2933254464771204, -2.2933254464771204, -2.2933254464771204, -2.2933254464771204, -2.2933254464771204, -2.2933254464771204, -2.2933254464771204, -2.2933254464771204, -2.2933254464771204, -2.2933254464771204, -2.2933254464771204, -2.2933254464771204, -2.2933254464771204, -2.2933254464771204, -2.2933254464771204, -2.2933254464771204], [-2.003314628553266, -2.003314628553266, -2.003314628553266, -2.003314628553266, -2.003314628553266, -2.003314628553266, -2.003314628553266, -2.003314628553266, -2.003314628553266, -2.003314628553266, -2.003314628553266, -2.003314628553266, -2.003314628553266, -2.003314628553266, -2.003314628553266, -2.003314628553266, -2.003314628553266, -2.003314628553266, -2.003314628553266, -2.003314628553266, -2.003314628553266, -2.003314628553266, -2.003314628553266, -2.003314628553266, -2.003314628553266, -2.003314628553266, -2.003314628553266, -2.003314628553266, -2.003314628553266, -2.003314628553266], [-1.7133038106294114, -1.7133038106294114, -1.7133038106294114, -1.7133038106294114, -1.7133038106294114, -1.7133038106294114, -1.7133038106294114, -1.7133038106294114, -1.7133038106294114, -1.7133038106294114, -1.7133038106294114, -1.7133038106294114, -1.7133038106294114, -1.7133038106294114, -1.7133038106294114, -1.7133038106294114, -1.7133038106294114, -1.7133038106294114, -1.7133038106294114, -1.7133038106294114, -1.7133038106294114, -1.7133038106294114, -1.7133038106294114, -1.7133038106294114, -1.7133038106294114, -1.7133038106294114, -1.7133038106294114, -1.7133038106294114, -1.7133038106294114, -1.7133038106294114], [-1.4232929927055569, -1.4232929927055569, -1.4232929927055569, -1.4232929927055569, -1.4232929927055569, -1.4232929927055569, -1.4232929927055569, -1.4232929927055569, -1.4232929927055569, -1.4232929927055569, -1.4232929927055569, -1.4232929927055569, -1.4232929927055569, -1.4232929927055569, -1.4232929927055569, -1.4232929927055569, -1.4232929927055569, -1.4232929927055569, -1.4232929927055569, -1.4232929927055569, -1.4232929927055569, -1.4232929927055569, -1.4232929927055569, -1.4232929927055569, -1.4232929927055569, -1.4232929927055569, -1.4232929927055569, -1.4232929927055569, -1.4232929927055569, -1.4232929927055569], [-1.133282174781701, -1.133282174781701, -1.133282174781701, -1.133282174781701, -1.133282174781701, -1.133282174781701, -1.133282174781701, -1.133282174781701, -1.133282174781701, -1.133282174781701, -1.133282174781701, -1.133282174781701, -1.133282174781701, -1.133282174781701, -1.133282174781701, -1.133282174781701, -1.133282174781701, -1.133282174781701, -1.133282174781701, -1.133282174781701, -1.133282174781701, -1.133282174781701, -1.133282174781701, -1.133282174781701, -1.133282174781701, -1.133282174781701, -1.133282174781701, -1.133282174781701, -1.133282174781701, -1.133282174781701]], \"z\": [[-3.479142930802892, -3.533224448353615, -3.587305965904338, -3.6413874834550612, -3.6954690010057845, -3.7495505185565072, -3.8036320361072304, -3.857713553657953, -3.9117950712086764, -3.9658765887593996, -4.019958106310122, -4.074039623860846, -4.128121141411568, -4.182202658962291, -4.236284176513014, -4.290365694063737, -4.34444721161446, -4.398528729165183, -4.452610246715906, -4.5066917642666295, -4.560773281817352, -4.614854799368075, -4.668936316918798, -4.7230178344695215, -4.777099352020245, -4.831180869570967, -4.88526238712169, -4.9393439046724135, -4.993425422223136, -5.047506939773859], [-3.3253492392505017, -3.379430756801224, -3.4335122743519473, -3.4875937919026705, -3.5416753094533937, -3.5957568270041165, -3.6498383445548397, -3.7039198621055625, -3.7580013796562857, -3.812082897207009, -3.8661644147577316, -3.920245932308455, -3.974327449859177, -4.0284089674099, -4.082490484960624, -4.136572002511346, -4.19065352006207, -4.244735037612792, -4.298816555163516, -4.352898072714239, -4.406979590264961, -4.461061107815684, -4.5151426253664075, -4.569224142917131, -4.623305660467854, -4.677387178018576, -4.7314686955692995, -4.785550213120023, -4.839631730670745, -4.893713248221468], [-3.17155554769811, -3.2256370652488333, -3.279718582799556, -3.3338001003502793, -3.3878816179010025, -3.4419631354517253, -3.4960446530024485, -3.550126170553171, -3.604207688103894, -3.6582892056546177, -3.71237072320534, -3.766452240756063, -3.820533758306786, -3.874615275857509, -3.9286967934082324, -3.982778310958955, -4.036859828509678, -4.090941346060401, -4.145022863611124, -4.199104381161847, -4.2531858987125695, -4.307267416263294, -4.361348933814017, -4.415430451364739, -4.469511968915462, -4.523593486466185, -4.577675004016908, -4.631756521567631, -4.685838039118354, -4.7399195566690775], [-3.017761856145719, -3.0718433736964417, -3.1259248912471644, -3.1800064087978877, -3.2340879263486113, -3.2881694438993336, -3.342250961450057, -3.3963324790007796, -3.450413996551503, -3.504495514102226, -3.558577031652949, -3.612658549203672, -3.6667400667543943, -3.7208215843051176, -3.774903101855841, -3.8289846194065635, -3.8830661369572868, -3.9371476545080095, -3.9912291720587327, -4.0453106896094555, -4.099392207160179, -4.153473724710902, -4.207555242261625, -4.2616367598123475, -4.315718277363071, -4.369799794913794, -4.423881312464517, -4.47796283001524, -4.532044347565963, -4.586125865116686], [-2.8639681645933273, -2.9180496821440505, -2.9721311996947732, -3.0262127172454965, -3.080294234796219, -3.1343757523469424, -3.1884572698976656, -3.242538787448388, -3.2966203049991116, -3.350701822549835, -3.404783340100557, -3.4588648576512804, -3.512946375202003, -3.5670278927527264, -3.6211094103034496, -3.6751909278541723, -3.7292724454048956, -3.783353962955618, -3.837435480506341, -3.8915169980570647, -3.945598515607787, -3.9996800331585103, -4.0537615507092335, -4.107843068259956, -4.16192458581068, -4.216006103361402, -4.2700876209121255, -4.324169138462849, -4.378250656013571, -4.432332173564294], [-2.7101744730409365, -2.7642559905916597, -2.8183375081423825, -2.8724190256931057, -2.926500543243829, -2.9805820607945517, -3.034663578345275, -3.0887450958959977, -3.142826613446721, -3.196908130997444, -3.2509896485481664, -3.3050711660988896, -3.3591526836496124, -3.4132342012003356, -3.467315718751059, -3.5213972363017816, -3.575478753852505, -3.629560271403227, -3.683641788953951, -3.737723306504674, -3.7918048240553963, -3.8458863416061195, -3.8999678591568427, -3.9540493767075655, -4.008130894258289, -4.0622124118090115, -4.116293929359735, -4.170375446910458, -4.22445696446118, -4.2785384820119035], [-2.5563807814885444, -2.6104622990392676, -2.6645438165899904, -2.7186253341407136, -2.772706851691437, -2.8267883692421596, -2.880869886792883, -2.9349514043436056, -2.989032921894329, -3.0431144394450516, -3.0971959569957743, -3.1512774745464975, -3.2053589920972203, -3.2594405096479435, -3.3135220271986667, -3.3676035447493895, -3.4216850623001127, -3.475766579850835, -3.5298480974015587, -3.583929614952282, -3.6380111325030042, -3.6920926500537274, -3.7461741676044507, -3.8002556851551734, -3.8543372027058966, -3.9084187202566194, -3.9625002378073426, -4.016581755358065, -4.070663272908789, -4.124744790459512], [-2.402587089936154, -2.456668607486877, -2.5107501250375996, -2.564831642588323, -2.618913160139046, -2.672994677689769, -2.727076195240492, -2.781157712791215, -2.835239230341938, -2.889320747892661, -2.9434022654433836, -2.9974837829941072, -3.05156530054483, -3.1056468180955528, -3.159728335646276, -3.2138098531969987, -3.267891370747722, -3.3219728882984447, -3.376054405849168, -3.430135923399891, -3.4842174409506135, -3.5382989585013367, -3.5923804760520603, -3.6464619936027827, -3.700543511153506, -3.7546250287042287, -3.808706546254952, -3.862788063805675, -3.916869581356398, -3.970951098907121], [-2.2487933983837625, -2.3028749159344852, -2.3569564334852084, -2.4110379510359317, -2.4651194685866544, -2.5192009861373776, -2.573282503688101, -2.6273640212388236, -2.6814455387895464, -2.7355270563402696, -2.7896085738909924, -2.8436900914417156, -2.8977716089924384, -2.9518531265431616, -3.0059346440938843, -3.060016161644607, -3.1140976791953308, -3.168179196746053, -3.2222607142967763, -3.2763422318474995, -3.3304237493982223, -3.3845052669489455, -3.4385867844996687, -3.4926683020503915, -3.5467498196011147, -3.600831337151837, -3.65491285470256, -3.708994372253284, -3.763075889804006, -3.8171574073547294], [-2.0949997068313713, -2.149081224382094, -2.203162741932817, -2.25724425948354, -2.3113257770342632, -2.365407294584986, -2.419488812135709, -2.4735703296864324, -2.527651847237155, -2.581733364787878, -2.635814882338601, -2.6898963998893244, -2.743977917440047, -2.79805943499077, -2.852140952541493, -2.906222470092216, -2.960303987642939, -3.014385505193662, -3.068467022744385, -3.122548540295108, -3.1766300578458306, -3.2307115753965543, -3.2847930929472775, -3.338874610498, -3.392956128048723, -3.447037645599446, -3.501119163150169, -3.5552006807008922, -3.609282198251615, -3.663363715802338], [-1.9412060152789796, -1.9952875328297026, -2.0493690503804256, -2.103450567931149, -2.1575320854818716, -2.211613603032595, -2.265695120583318, -2.319776638134041, -2.3738581556847635, -2.4279396732354868, -2.4820211907862095, -2.5361027083369327, -2.590184225887656, -2.6442657434383787, -2.6983472609891015, -2.7524287785398247, -2.806510296090548, -2.8605918136412707, -2.9146733311919935, -2.9687548487427167, -3.02283636629344, -3.0769178838441626, -3.1309994013948854, -3.1850809189456086, -3.239162436496332, -3.293243954047054, -3.347325471597778, -3.401406989148501, -3.4554885066992234, -3.5095700242499466], [-1.787412323726589, -1.8414938412773119, -1.8955753588280349, -1.949656876378758, -2.003738393929481, -2.057819911480204, -2.1119014290309273, -2.16598294658165, -2.2200644641323732, -2.274145981683096, -2.3282274992338188, -2.382309016784542, -2.436390534335265, -2.490472051885988, -2.5445535694367107, -2.598635086987434, -2.652716604538157, -2.70679812208888, -2.7608796396396027, -2.814961157190326, -2.869042674741049, -2.923124192291772, -2.977205709842495, -3.031287227393218, -3.0853687449439406, -3.139450262494664, -3.193531780045387, -3.2476132975961103, -3.3016948151468326, -3.3557763326975563], [-1.6336186321741977, -1.6877001497249204, -1.7417816672756434, -1.7958631848263666, -1.8499447023770896, -1.9040262199278126, -1.9581077374785358, -2.012189255029259, -2.0662707725799816, -2.1203522901307044, -2.1744338076814276, -2.228515325232151, -2.2825968427828736, -2.3366783603335968, -2.3907598778843195, -2.4448413954350423, -2.4989229129857655, -2.5530044305364887, -2.6070859480872115, -2.6611674656379343, -2.7152489831886575, -2.7693305007393807, -2.8234120182901035, -2.8774935358408267, -2.9315750533915494, -2.9856565709422727, -3.0397380884929954, -3.0938196060437186, -3.1479011235944414, -3.2019826411451646], [-1.4798249406218063, -1.5339064581725292, -1.587987975723252, -1.6420694932739752, -1.6961510108246982, -1.7502325283754212, -1.8043140459261444, -1.8583955634768674, -1.9124770810275902, -1.9665585985783132, -2.020640116129036, -2.074721633679759, -2.1288031512304824, -2.182884668781205, -2.236966186331928, -2.291047703882651, -2.3451292214333743, -2.399210738984097, -2.4532922565348203, -2.507373774085543, -2.5614552916362663, -2.615536809186989, -2.6696183267377123, -2.723699844288435, -2.777781361839158, -2.8318628793898815, -2.8859443969406042, -2.940025914491327, -2.99410743204205, -3.048188949592773], [-1.3260312490694153, -1.380112766620138, -1.4341942841708613, -1.4882758017215842, -1.5423573192723072, -1.59643883682303, -1.650520354373753, -1.7046018719244762, -1.7586833894751992, -1.8127649070259222, -1.8668464245766454, -1.9209279421273684, -1.9750094596780912, -2.029090977228814, -2.083172494779537, -2.1372540123302604, -2.191335529880983, -2.2454170474317063, -2.299498564982429, -2.353580082533152, -2.407661600083875, -2.4617431176345983, -2.515824635185321, -2.569906152736044, -2.623987670286767, -2.6780691878374903, -2.732150705388213, -2.7862322229389362, -2.840313740489659, -2.894395258040382], [-1.1722375575170239, -1.2263190750677466, -1.2804005926184698, -1.3344821101691928, -1.3885636277199158, -1.4426451452706388, -1.4967266628213618, -1.5508081803720848, -1.6048896979228078, -1.6589712154735308, -1.713052733024254, -1.767134250574977, -1.8212157681256997, -1.8752972856764227, -1.9293788032271457, -1.983460320777869, -2.037541838328592, -2.0916233558793147, -2.145704873430038, -2.1997863909807607, -2.253867908531484, -2.3079494260822067, -2.36203094363293, -2.4161124611836526, -2.4701939787343754, -2.5242754962850986, -2.578357013835822, -2.6324385313865446, -2.6865200489372674, -2.7406015664879906], [-1.0184438659646324, -1.0725253835153552, -1.1266069010660784, -1.1806884186168014, -1.2347699361675244, -1.2888514537182474, -1.3429329712689704, -1.3970144888196936, -1.4510960063704164, -1.5051775239211393, -1.5592590414718623, -1.6133405590225856, -1.6674220765733085, -1.7215035941240313, -1.7755851116747543, -1.8296666292254775, -1.8837481467762005, -1.9378296643269233, -1.9919111818776463, -2.045992699428369, -2.1000742169790927, -2.1541557345298155, -2.2082372520805382, -2.2623187696312614, -2.316400287181984, -2.3704818047327074, -2.42456332228343, -2.4786448398341534, -2.532726357384876, -2.586807874935599], [-0.8646501744122413, -0.9187316919629642, -0.9728132095136873, -1.0268947270644104, -1.0809762446151334, -1.1350577621658562, -1.1891392797165794, -1.2432207972673024, -1.2973023148180254, -1.3513838323687484, -1.4054653499194714, -1.4595468674701946, -1.5136283850209173, -1.5677099025716403, -1.6217914201223633, -1.675872937673086, -1.7299544552238093, -1.7840359727745323, -1.8381174903252553, -1.892199007875978, -1.9462805254267015, -2.0003620429774243, -2.0544435605281475, -2.1085250780788702, -2.162606595629593, -2.216688113180316, -2.2707696307310394, -2.324851148281762, -2.378932665832485, -2.433014183383208], [-0.7108564828598499, -0.7649380004105729, -0.8190195179612959, -0.873101035512019, -0.927182553062742, -0.9812640706134649, -1.035345588164188, -1.089427105714911, -1.143508623265634, -1.197590140816357, -1.25167165836708, -1.3057531759178032, -1.359834693468526, -1.413916211019249, -1.467997728569972, -1.522079246120695, -1.576160763671418, -1.6302422812221409, -1.6843237987728639, -1.7384053163235869, -1.79248683387431, -1.846568351425033, -1.9006498689757558, -1.9547313865264788, -2.008812904077202, -2.062894421627925, -2.116975939178648, -2.171057456729371, -2.2251389742800938, -2.2792204918308165], [-0.5570627913074585, -0.6111443088581815, -0.6652258264089046, -0.7193073439596276, -0.7733888615103507, -0.8274703790610735, -0.8815518966117966, -0.9356334141625197, -0.9897149317132425, -1.0437964492639655, -1.0978779668146885, -1.1519594843654117, -1.2060410019161345, -1.2601225194668575, -1.3142040370175805, -1.3682855545683035, -1.4223670721190265, -1.4764485896697495, -1.5305301072204724, -1.5846116247711954, -1.6386931423219186, -1.6927746598726416, -1.7468561774233644, -1.8009376949740874, -1.8550192125248104, -1.9091007300755336, -1.9631822476262566, -2.0172637651769794, -2.071345282727702, -2.1254268002784253], [-0.40326909975506753, -0.4573506173057904, -0.5114321348565135, -0.5655136524072365, -0.6195951699579596, -0.6736766875086825, -0.7277582050594056, -0.7818397226101286, -0.8359212401608516, -0.8900027577115744, -0.9440842752622975, -0.9981657928130206, -1.0522473103637435, -1.1063288279144665, -1.1604103454651893, -1.2144918630159125, -1.2685733805666355, -1.3226548981173583, -1.3767364156680815, -1.4308179332188042, -1.4848994507695277, -1.5389809683202504, -1.5930624858709734, -1.6471440034216964, -1.7012255209724192, -1.7553070385231426, -1.8093885560738654, -1.8634700736245884, -1.9175515911753114, -1.9716331087260341], [-0.2494754082026761, -0.30355692575339904, -0.35763844330412214, -0.41171996085484514, -0.46580147840556824, -0.5198829959562912, -0.5739645135070142, -0.6280460310577372, -0.6821275486084601, -0.7362090661591831, -0.7902905837099061, -0.8443721012606292, -0.8984536188113522, -0.9525351363620751, -1.006616653912798, -1.060698171463521, -1.114779689014244, -1.1688612065649668, -1.22294272411569, -1.277024241666413, -1.3311057592171363, -1.385187276767859, -1.439268794318582, -1.493350311869305, -1.5474318294200278, -1.6015133469707512, -1.655594864521474, -1.709676382072197, -1.76375789962292, -1.8178394171736427], [-0.09568171665028471, -0.14976323420100762, -0.20384475175173072, -0.2579262693024537, -0.3120077868531768, -0.36608930440389975, -0.42017082195462274, -0.47425233950534573, -0.5283338570560687, -0.5824153746067917, -0.6364968921575147, -0.6905784097082378, -0.7446599272589607, -0.7987414448096837, -0.8528229623604066, -0.9069044799111297, -0.9609859974618526, -1.0150675150125756, -1.0691490325632986, -1.1232305501140216, -1.1773120676647448, -1.2313935852154678, -1.2854751027661906, -1.3395566203169136, -1.3936381378676366, -1.4477196554183598, -1.5018011729690826, -1.5558826905198055, -1.6099642080705285, -1.6640457256212513], [0.058111974902106504, 0.004030457351383588, -0.050051060199339505, -0.1041325777500625, -0.1582140953007856, -0.21229561285150853, -0.26637713040223154, -0.32045864795295453, -0.3745401655036775, -0.4286216830544005, -0.48270320060512356, -0.5367847181558465, -0.5908662357065695, -0.6449477532572925, -0.6990292708080155, -0.7531107883587385, -0.8071923059094613, -0.8612738234601843, -0.9153553410109075, -0.9694368585616305, -1.0235183761123534, -1.0775998936630764, -1.1316814112137996, -1.1857629287645226, -1.2398444463152454, -1.2939259638659684, -1.3480074814166914, -1.4020889989674146, -1.4561705165181373, -1.5102520340688603], [0.21190566645449738, 0.15782414890377447, 0.10374263135305137, 0.04966111380232836, -0.004420403748394725, -0.058501921299117646, -0.11258343884984065, -0.16666495640056364, -0.22074647395128666, -0.27482799150200965, -0.32890950905273264, -0.3829910266034557, -0.43707254415417857, -0.4911540617049016, -0.5452355792556246, -0.5993170968063476, -0.6533986143570706, -0.7074801319077936, -0.7615616494585166, -0.8156431670092394, -0.8697246845599627, -0.9238062021106856, -0.9778877196614085, -1.0319692372121314, -1.0860507547628544, -1.1401322723135776, -1.1942137898643006, -1.2482953074150236, -1.3023768249657464, -1.3564583425164694], [0.3656993580068886, 0.3116178404561657, 0.2575363229054426, 0.20345480535471958, 0.1493732878039965, 0.09529177025327358, 0.041210252702550576, -0.012871264848172432, -0.06695278239889543, -0.12103429994961844, -0.17511581750034144, -0.22919733505106446, -0.28327885260178737, -0.33736037015251036, -0.39144188770323335, -0.4455234052539564, -0.4996049228046794, -0.5536864403554023, -0.6077679579061254, -0.6618494754568484, -0.7159309930075713, -0.7700125105582943, -0.8240940281090176, -0.8781755456597404, -0.9322570632104633, -0.9863385807611863, -1.0404200983119092, -1.0945016158626324, -1.1485831334133554, -1.2026646509640784], [0.5194930495592798, 0.4654115320085569, 0.4113300144578338, 0.3572484969071108, 0.3031669793563877, 0.2490854618056648, 0.1950039442549418, 0.14092242670421878, 0.08684090915349578, 0.03275939160277278, -0.021322125947950226, -0.07540364349867323, -0.12948516104939614, -0.18356667860011916, -0.23764819615084215, -0.29172971370156514, -0.3458112312522882, -0.39989274880301107, -0.45397426635373417, -0.508055783904457, -0.5621373014551801, -0.6162188190059031, -0.6703003365566262, -0.7243818541073491, -0.778463371658072, -0.8325448892087952, -0.8866264067595181, -0.9407079243102411, -0.994789441860964, -1.048870959411687], [0.6732867411116712, 0.6192052235609483, 0.5651237060102252, 0.5110421884595022, 0.4569606709087791, 0.4028791533580562, 0.3487976358073332, 0.2947161182566102, 0.24063460070588719, 0.18655308315516417, 0.13247156560444118, 0.07839004805371816, 0.024308530502995248, -0.029772987047727757, -0.08385450459845076, -0.13793602214917378, -0.19201753969989677, -0.2460990572506197, -0.3001805748013428, -0.3542620923520657, -0.4083436099027888, -0.4624251274535117, -0.5165066450042348, -0.5705881625549577, -0.6246696801056806, -0.6787511976564037, -0.7328327152071267, -0.7869142327578497, -0.8409957503085725, -0.8950772678592955], [0.8270804326640624, 0.7729989151133395, 0.7189173975626164, 0.6648358800118934, 0.6107543624611703, 0.5566728449104474, 0.5025913273597244, 0.4485098098090014, 0.3944282922582784, 0.3403467747075554, 0.2862652571568324, 0.23218373960610939, 0.17810222205538648, 0.12402070450466346, 0.06993918695394045, 0.015857669403217454, -0.03822384814750555, -0.09230536569822846, -0.14638688324895155, -0.20046840079967448, -0.2545499183503976, -0.30863143590112047, -0.36271295345184357, -0.4167944710025665, -0.47087598855328944, -0.5249575061040125, -0.5790390236547355, -0.6331205412054585, -0.6872020587561815, -0.7412835763069043], [0.9808741242164544, 0.9267926066657314, 0.8727110891150085, 0.8186295715642854, 0.7645480540135623, 0.7104665364628394, 0.6563850189121164, 0.6023035013613934, 0.5482219838106704, 0.4941404662599474, 0.4400589487092244, 0.38597743115850136, 0.3318959136077785, 0.2778143960570555, 0.22373287850633247, 0.16965136095560945, 0.11556984340488645, 0.06148832585416355, 0.007406808303440444, -0.046674709247282474, -0.10075622679800557, -0.1548377443487285, -0.20891926189945156, -0.26300077945017447, -0.3170822970008974, -0.3711638145516205, -0.42524533210234344, -0.4793268496530665, -0.5334083672037895, -0.5874898847545124]]}, {\"line\": {\"width\": 6}, \"marker\": {\"size\": 1}, \"showlegend\": false, \"type\": \"scatter3d\", \"x\": [1.9861932534769364, -0.13452543674041978], \"y\": [-0.6217826382099462, 0.34406109752981867], \"z\": [-1.6007107275242336, -0.6488006062095876]}, {\"line\": {\"width\": 6}, \"marker\": {\"size\": 1}, \"showlegend\": false, \"type\": \"scatter3d\", \"x\": [-2.354351183964895, -0.5533367939865357], \"y\": [-1.0009774375225404, 1.415209415078867], \"z\": [-3.576560153702099, -2.668679292744244]}, {\"line\": {\"width\": 6}, \"marker\": {\"size\": 1}, \"showlegend\": false, \"type\": \"scatter3d\", \"x\": [-0.846605627083354, 0.7098003400114443], \"y\": [-8.203096133170305, -1.8153792318296837], \"z\": [0.35857025239482054, 3.423284860065636]}],                        {\"autosize\": true, \"height\": 800, \"margin\": {\"b\": 10, \"l\": 10, \"pad\": 4, \"r\": 10, \"t\": 10}, \"paper_bgcolor\": \"White\", \"scene\": {\"aspectmode\": \"data\", \"camera\": {\"eye\": {\"x\": 1, \"y\": 1, \"z\": 1}}}, \"template\": {\"data\": {\"bar\": [{\"error_x\": {\"color\": \"#2a3f5f\"}, \"error_y\": {\"color\": \"#2a3f5f\"}, \"marker\": {\"line\": {\"color\": \"#E5ECF6\", \"width\": 0.5}}, \"type\": \"bar\"}], \"barpolar\": [{\"marker\": {\"line\": {\"color\": \"#E5ECF6\", \"width\": 0.5}}, \"type\": \"barpolar\"}], \"carpet\": [{\"aaxis\": {\"endlinecolor\": \"#2a3f5f\", \"gridcolor\": \"white\", \"linecolor\": \"white\", \"minorgridcolor\": \"white\", \"startlinecolor\": \"#2a3f5f\"}, \"baxis\": {\"endlinecolor\": \"#2a3f5f\", \"gridcolor\": \"white\", \"linecolor\": \"white\", \"minorgridcolor\": \"white\", \"startlinecolor\": \"#2a3f5f\"}, \"type\": \"carpet\"}], \"choropleth\": [{\"colorbar\": {\"outlinewidth\": 0, \"ticks\": \"\"}, \"type\": \"choropleth\"}], \"contour\": [{\"colorbar\": {\"outlinewidth\": 0, \"ticks\": \"\"}, \"colorscale\": [[0.0, \"#0d0887\"], [0.1111111111111111, \"#46039f\"], [0.2222222222222222, \"#7201a8\"], [0.3333333333333333, \"#9c179e\"], [0.4444444444444444, \"#bd3786\"], [0.5555555555555556, \"#d8576b\"], [0.6666666666666666, \"#ed7953\"], [0.7777777777777778, \"#fb9f3a\"], [0.8888888888888888, \"#fdca26\"], [1.0, \"#f0f921\"]], \"type\": \"contour\"}], \"contourcarpet\": [{\"colorbar\": {\"outlinewidth\": 0, \"ticks\": \"\"}, \"type\": \"contourcarpet\"}], \"heatmap\": [{\"colorbar\": {\"outlinewidth\": 0, \"ticks\": \"\"}, \"colorscale\": [[0.0, \"#0d0887\"], [0.1111111111111111, \"#46039f\"], [0.2222222222222222, \"#7201a8\"], [0.3333333333333333, \"#9c179e\"], [0.4444444444444444, \"#bd3786\"], [0.5555555555555556, \"#d8576b\"], [0.6666666666666666, \"#ed7953\"], [0.7777777777777778, \"#fb9f3a\"], [0.8888888888888888, \"#fdca26\"], [1.0, \"#f0f921\"]], \"type\": \"heatmap\"}], \"heatmapgl\": [{\"colorbar\": {\"outlinewidth\": 0, \"ticks\": \"\"}, \"colorscale\": [[0.0, \"#0d0887\"], [0.1111111111111111, \"#46039f\"], [0.2222222222222222, \"#7201a8\"], [0.3333333333333333, \"#9c179e\"], [0.4444444444444444, \"#bd3786\"], [0.5555555555555556, \"#d8576b\"], [0.6666666666666666, \"#ed7953\"], [0.7777777777777778, \"#fb9f3a\"], [0.8888888888888888, \"#fdca26\"], [1.0, \"#f0f921\"]], \"type\": \"heatmapgl\"}], \"histogram\": [{\"marker\": {\"colorbar\": {\"outlinewidth\": 0, \"ticks\": \"\"}}, \"type\": \"histogram\"}], \"histogram2d\": [{\"colorbar\": {\"outlinewidth\": 0, \"ticks\": \"\"}, \"colorscale\": [[0.0, \"#0d0887\"], [0.1111111111111111, \"#46039f\"], [0.2222222222222222, \"#7201a8\"], [0.3333333333333333, \"#9c179e\"], [0.4444444444444444, \"#bd3786\"], [0.5555555555555556, \"#d8576b\"], [0.6666666666666666, \"#ed7953\"], [0.7777777777777778, \"#fb9f3a\"], [0.8888888888888888, \"#fdca26\"], [1.0, \"#f0f921\"]], \"type\": \"histogram2d\"}], \"histogram2dcontour\": [{\"colorbar\": {\"outlinewidth\": 0, \"ticks\": \"\"}, \"colorscale\": [[0.0, \"#0d0887\"], [0.1111111111111111, \"#46039f\"], [0.2222222222222222, \"#7201a8\"], [0.3333333333333333, \"#9c179e\"], [0.4444444444444444, \"#bd3786\"], [0.5555555555555556, \"#d8576b\"], [0.6666666666666666, \"#ed7953\"], [0.7777777777777778, \"#fb9f3a\"], [0.8888888888888888, \"#fdca26\"], [1.0, \"#f0f921\"]], \"type\": \"histogram2dcontour\"}], \"mesh3d\": [{\"colorbar\": {\"outlinewidth\": 0, \"ticks\": \"\"}, \"type\": \"mesh3d\"}], \"parcoords\": [{\"line\": {\"colorbar\": {\"outlinewidth\": 0, \"ticks\": \"\"}}, \"type\": \"parcoords\"}], \"pie\": [{\"automargin\": true, \"type\": \"pie\"}], \"scatter\": [{\"marker\": {\"colorbar\": {\"outlinewidth\": 0, \"ticks\": \"\"}}, \"type\": \"scatter\"}], \"scatter3d\": [{\"line\": {\"colorbar\": {\"outlinewidth\": 0, \"ticks\": \"\"}}, \"marker\": {\"colorbar\": {\"outlinewidth\": 0, \"ticks\": \"\"}}, \"type\": \"scatter3d\"}], \"scattercarpet\": [{\"marker\": {\"colorbar\": {\"outlinewidth\": 0, \"ticks\": \"\"}}, \"type\": \"scattercarpet\"}], \"scattergeo\": [{\"marker\": {\"colorbar\": {\"outlinewidth\": 0, \"ticks\": \"\"}}, \"type\": \"scattergeo\"}], \"scattergl\": [{\"marker\": {\"colorbar\": {\"outlinewidth\": 0, \"ticks\": \"\"}}, \"type\": \"scattergl\"}], \"scattermapbox\": [{\"marker\": {\"colorbar\": {\"outlinewidth\": 0, \"ticks\": \"\"}}, \"type\": \"scattermapbox\"}], \"scatterpolar\": [{\"marker\": {\"colorbar\": {\"outlinewidth\": 0, \"ticks\": \"\"}}, \"type\": \"scatterpolar\"}], \"scatterpolargl\": [{\"marker\": {\"colorbar\": {\"outlinewidth\": 0, \"ticks\": \"\"}}, \"type\": \"scatterpolargl\"}], \"scatterternary\": [{\"marker\": {\"colorbar\": {\"outlinewidth\": 0, \"ticks\": \"\"}}, \"type\": \"scatterternary\"}], \"surface\": [{\"colorbar\": {\"outlinewidth\": 0, \"ticks\": \"\"}, \"colorscale\": [[0.0, \"#0d0887\"], [0.1111111111111111, \"#46039f\"], [0.2222222222222222, \"#7201a8\"], [0.3333333333333333, \"#9c179e\"], [0.4444444444444444, \"#bd3786\"], [0.5555555555555556, \"#d8576b\"], [0.6666666666666666, \"#ed7953\"], [0.7777777777777778, \"#fb9f3a\"], [0.8888888888888888, \"#fdca26\"], [1.0, \"#f0f921\"]], \"type\": \"surface\"}], \"table\": [{\"cells\": {\"fill\": {\"color\": \"#EBF0F8\"}, \"line\": {\"color\": \"white\"}}, \"header\": {\"fill\": {\"color\": \"#C8D4E3\"}, \"line\": {\"color\": \"white\"}}, \"type\": \"table\"}]}, \"layout\": {\"annotationdefaults\": {\"arrowcolor\": \"#2a3f5f\", \"arrowhead\": 0, \"arrowwidth\": 1}, \"autotypenumbers\": \"strict\", \"coloraxis\": {\"colorbar\": {\"outlinewidth\": 0, \"ticks\": \"\"}}, \"colorscale\": {\"diverging\": [[0, \"#8e0152\"], [0.1, \"#c51b7d\"], [0.2, \"#de77ae\"], [0.3, \"#f1b6da\"], [0.4, \"#fde0ef\"], [0.5, \"#f7f7f7\"], [0.6, \"#e6f5d0\"], [0.7, \"#b8e186\"], [0.8, \"#7fbc41\"], [0.9, \"#4d9221\"], [1, \"#276419\"]], \"sequential\": [[0.0, \"#0d0887\"], [0.1111111111111111, \"#46039f\"], [0.2222222222222222, \"#7201a8\"], [0.3333333333333333, \"#9c179e\"], [0.4444444444444444, \"#bd3786\"], [0.5555555555555556, \"#d8576b\"], [0.6666666666666666, \"#ed7953\"], [0.7777777777777778, \"#fb9f3a\"], [0.8888888888888888, \"#fdca26\"], [1.0, \"#f0f921\"]], \"sequentialminus\": [[0.0, \"#0d0887\"], [0.1111111111111111, \"#46039f\"], [0.2222222222222222, \"#7201a8\"], [0.3333333333333333, \"#9c179e\"], [0.4444444444444444, \"#bd3786\"], [0.5555555555555556, \"#d8576b\"], [0.6666666666666666, \"#ed7953\"], [0.7777777777777778, \"#fb9f3a\"], [0.8888888888888888, \"#fdca26\"], [1.0, \"#f0f921\"]]}, \"colorway\": [\"#636efa\", \"#EF553B\", \"#00cc96\", \"#ab63fa\", \"#FFA15A\", \"#19d3f3\", \"#FF6692\", \"#B6E880\", \"#FF97FF\", \"#FECB52\"], \"font\": {\"color\": \"#2a3f5f\"}, \"geo\": {\"bgcolor\": \"white\", \"lakecolor\": \"white\", \"landcolor\": \"#E5ECF6\", \"showlakes\": true, \"showland\": true, \"subunitcolor\": \"white\"}, \"hoverlabel\": {\"align\": \"left\"}, \"hovermode\": \"closest\", \"mapbox\": {\"style\": \"light\"}, \"paper_bgcolor\": \"white\", \"plot_bgcolor\": \"#E5ECF6\", \"polar\": {\"angularaxis\": {\"gridcolor\": \"white\", \"linecolor\": \"white\", \"ticks\": \"\"}, \"bgcolor\": \"#E5ECF6\", \"radialaxis\": {\"gridcolor\": \"white\", \"linecolor\": \"white\", \"ticks\": \"\"}}, \"scene\": {\"xaxis\": {\"backgroundcolor\": \"#E5ECF6\", \"gridcolor\": \"white\", \"gridwidth\": 2, \"linecolor\": \"white\", \"showbackground\": true, \"ticks\": \"\", \"zerolinecolor\": \"white\"}, \"yaxis\": {\"backgroundcolor\": \"#E5ECF6\", \"gridcolor\": \"white\", \"gridwidth\": 2, \"linecolor\": \"white\", \"showbackground\": true, \"ticks\": \"\", \"zerolinecolor\": \"white\"}, \"zaxis\": {\"backgroundcolor\": \"#E5ECF6\", \"gridcolor\": \"white\", \"gridwidth\": 2, \"linecolor\": \"white\", \"showbackground\": true, \"ticks\": \"\", \"zerolinecolor\": \"white\"}}, \"shapedefaults\": {\"line\": {\"color\": \"#2a3f5f\"}}, \"ternary\": {\"aaxis\": {\"gridcolor\": \"white\", \"linecolor\": \"white\", \"ticks\": \"\"}, \"baxis\": {\"gridcolor\": \"white\", \"linecolor\": \"white\", \"ticks\": \"\"}, \"bgcolor\": \"#E5ECF6\", \"caxis\": {\"gridcolor\": \"white\", \"linecolor\": \"white\", \"ticks\": \"\"}}, \"title\": {\"x\": 0.05}, \"xaxis\": {\"automargin\": true, \"gridcolor\": \"white\", \"linecolor\": \"white\", \"ticks\": \"\", \"title\": {\"standoff\": 15}, \"zerolinecolor\": \"white\", \"zerolinewidth\": 2}, \"yaxis\": {\"automargin\": true, \"gridcolor\": \"white\", \"linecolor\": \"white\", \"ticks\": \"\", \"title\": {\"standoff\": 15}, \"zerolinecolor\": \"white\", \"zerolinewidth\": 2}}}, \"width\": 1000},                        {\"responsive\": true}                    ).then(function(){\n",
       "                            \n",
       "var gd = document.getElementById('c4b26fc3-e249-4aae-9fb5-56c78241cad9');\n",
       "var x = new MutationObserver(function (mutations, observer) {{\n",
       "        var display = window.getComputedStyle(gd).display;\n",
       "        if (!display || display === 'none') {{\n",
       "            console.log([gd, 'removed!']);\n",
       "            Plotly.purge(gd);\n",
       "            observer.disconnect();\n",
       "        }}\n",
       "}});\n",
       "\n",
       "// Listen for the removal of the full notebook cells\n",
       "var notebookContainer = gd.closest('#notebook-container');\n",
       "if (notebookContainer) {{\n",
       "    x.observe(notebookContainer, {childList: true});\n",
       "}}\n",
       "\n",
       "// Listen for the clearing of the current output cell\n",
       "var outputEl = gd.closest('.output');\n",
       "if (outputEl) {{\n",
       "    x.observe(outputEl, {childList: true});\n",
       "}}\n",
       "\n",
       "                        })                };                });            </script>        </div>"
      ]
     },
     "metadata": {},
     "output_type": "display_data"
    }
   ],
   "source": [
    "with ThreeDFigure() as fig: #trafo, back_trafo, swap_axes=\"xz\"\n",
    "    plane_offset = decision_plane.project([0,0,0]) #point where plane == plane.normal (plane doesn't need to go through [0,0,0])\n",
    "    fig.add_markers([0,0,0], size=3, name=\"origin\") #coordinate center\n",
    "    fig.add_markers(plane_offset, name=\"plane_offset\", color=\"yellow\")\n",
    "    fig.add_line(plane_offset+decision_plane.normal*minneg, plane_offset+decision_plane.normal*maxpos, name=\"plane_normal\") \n",
    "    for point, side in zip(X, y):\n",
    "        if trafo(point)[0] in [minneg, maxneg, minpos, maxpos]:\n",
    "            fig.add_markers(point, color=\"blue\" if side else \"red\", name=\"d=\"+str(trafo(point)[0]), size=3)\n",
    "            fig.add_line(point, back_trafo([0, trafo(point)[1], trafo(point)[2]]), name=\"^ len_d\",)            \n",
    "            fig.add_line(point, ortho_projection_affine(point, decision_plane.normal), name=\"^ proj\")\n",
    "        else:\n",
    "            fig.add_markers(point, color=\"blue\" if side else \"red\", name=str(trafo(point)[0]), showlegend=False)\n",
    "    xx, yy = make_meshgrid(minx=minx, miny=miny, maxx=maxx, maxy=maxy, margin=0.1)\n",
    "    fig.add_surface(xx, yy, decision_plane.z) #decision hyperplane\n",
    "    fig.add_sample_projections(X, decision_plane.normal, n_samples=3, showlegend=False)"
   ]
  },
  {
   "cell_type": "code",
   "execution_count": null,
   "metadata": {},
   "outputs": [],
   "source": [
    "with ThreeDFigure(trafo, back_trafo, swap_axes=\"xz\") as fig:\n",
    "    fig.add_markers([0,0,0], size=3, name=\"origin (original space)\") #coordinate center\n",
    "    fig.add_markers(back_trafo([0,0,0]), size=3, name=\"origin (new space)\") #coordinate center\n",
    "    plane_offset = decision_plane.project([0,0,0]) #point where plane == plane.normal\n",
    "    fig.add_markers(plane_offset, name=\"plane_offset\", color=\"yellow\")\n",
    "    fig.add_line(plane_offset+decision_plane.normal*minneg, plane_offset+decision_plane.normal*maxpos, name=\"plane_normal\") \n",
    "    for point, side in zip(X, y):\n",
    "        if trafo(point)[0] in [minneg, maxneg, minpos, maxpos]:\n",
    "            fig.add_markers(point, color=\"blue\" if side else \"red\", name=\"d=\"+str(trafo(point)[0]), size=3)\n",
    "            fig.add_line(point, back_trafo([0, trafo(point)[1], trafo(point)[2]]), name=\"^ len_d\",)            \n",
    "            fig.add_line(point, ortho_projection_affine(point, decision_plane.normal), name=\"^ proj\")\n",
    "        else:\n",
    "            fig.add_markers(point, color=\"blue\" if side else \"red\", name=str(trafo(point)[0]), showlegend=False)\n",
    "    xx, yy = make_meshgrid(minx=minx, miny=miny, maxx=maxx, maxy=maxy, margin=0.1)\n",
    "    fig.add_surface(xx, yy, decision_plane.z) #decision hyperplane\n",
    "    fig.add_sample_projections(X, decision_plane.normal, n_samples=3, showlegend=False)"
   ]
  },
  {
   "cell_type": "markdown",
   "metadata": {},
   "source": [
    "## include support-vectors in drawing (taking other SVM class!)"
   ]
  },
  {
   "cell_type": "code",
   "execution_count": null,
   "metadata": {},
   "outputs": [],
   "source": [
    "X, y = make_blobs(n_samples=80, centers=2, random_state=6, n_features=3)\n",
    "model = svm.SVC(kernel='linear', C=1).fit(X, y)\n",
    "print(\"Coefficients:\", model.coef_, \"Intercept:\", model.intercept_)\n",
    "decision_plane = Plane(*model.coef_[0], model.intercept_[0])\n",
    "\n",
    "trafo, back_trafo = make_base_changer(decision_plane)\n",
    "\n",
    "onto_plane = np.array([back_trafo([0, trafo(point)[1], trafo(point)[2]]) for point, side in zip(X, y)])\n",
    "minx, miny = onto_plane.min(axis=0)[:2]\n",
    "maxx, maxy = onto_plane.max(axis=0)[:2]\n",
    "\n",
    "z_vals = [trafo(point)[0] for point in X]\n",
    "minneg, maxneg = min(z_vals), max([i for i in z_vals if i < 0])\n",
    "minpos, maxpos = min([i for i in z_vals if i > 0]), max(z_vals)\n",
    "\n",
    "\n",
    "with ThreeDFigure() as fig: #trafo, back_trafo, swap_axes=\"xz\":\n",
    "    fig.add_markers([0,0,0], size=3, name=\"origin (original space)\") #coordinate center\n",
    "    plane_offset = decision_plane.project([0,0,0]) #point where plane == plane.normal\n",
    "    fig.add_markers(plane_offset, name=\"plane_offset\", color=\"yellow\")\n",
    "    fig.add_line(plane_offset+decision_plane.normal*minneg, plane_offset+decision_plane.normal*maxpos, name=\"plane_normal\") \n",
    "    for point, side in zip(X, y):\n",
    "        if trafo(point)[0] in [minneg, maxneg, minpos, maxpos]:\n",
    "            fig.add_markers(point, color=\"blue\" if side else \"red\", name=\"d=\"+str(trafo(point)[0]), size=3)\n",
    "            fig.add_line(point, back_trafo([0, trafo(point)[1], trafo(point)[2]]), name=\"^ len_d\",)            \n",
    "            fig.add_line(point, ortho_projection_affine(point, decision_plane.normal), name=\"^ proj\")\n",
    "        else:\n",
    "            fig.add_markers(point, color=\"blue\" if side else \"red\", name=str(trafo(point)[0]), showlegend=False)\n",
    "    xx, yy = make_meshgrid(minx=minx, miny=miny, maxx=maxx, maxy=maxy, margin=0.1)\n",
    "    fig.add_surface(xx, yy, decision_plane.z) #decision hyperplane\n",
    "    fig.add_markers([0,0,0], size=3, name=\"origin\") #coordinate center\n",
    "    fig.add_sample_projections(X, decision_plane.normal, n_samples=3, showlegend=False)\n",
    "    \n",
    "    #if hasattr(model, \"support_vectors_\"):\n",
    "    for n, point in enumerate(model.support_vectors_):\n",
    "        fig.add_markers(point, name=f\"support_vec_{n}\", marker={\"color\": None, \"size\": 2, \"line\": {\"width\": 3, \"color\": \"black\"}},)"
   ]
  },
  {
   "cell_type": "markdown",
   "metadata": {},
   "source": [
    "# Checking projection-methods & distance measures from point to projection"
   ]
  },
  {
   "cell_type": "code",
   "execution_count": null,
   "metadata": {},
   "outputs": [],
   "source": [
    "X, y = make_blobs(n_samples=80, centers=2, random_state=6, n_features=3)\n",
    "model = svm.SVC(kernel='linear', C=1).fit(X, y)\n",
    "print(\"Coefficients:\", model.coef_, \"Intercept:\", model.intercept_)\n",
    "\n",
    "decision_plane = Plane(*model.coef_[0], model.intercept_[0])\n",
    "forward, backward = make_base_changer(decision_plane)\n",
    "\n",
    "list(zip(y, X))[:10]"
   ]
  },
  {
   "cell_type": "code",
   "execution_count": null,
   "metadata": {},
   "outputs": [],
   "source": [
    "# helper functions\n",
    "def get_normalized_fn(orig_fn, all_mds, *more_args):\n",
    "    fmin, fmax = min(all_vals := [orig_fn(all_mds[i], *more_args) for i in range(len(all_mds))]), max(all_vals)\n",
    "    return lambda x: round(((orig_fn(x, *more_args)-fmin)/(fmax-fmin))*100, 2)\n",
    "\n",
    "get_both = lambda fn, all_mds, *more_args: (fn, get_normalized_fn(fn, all_mds, *more_args))\n",
    "\n",
    "vec_dist = lambda a, b: np.linalg.norm(a-b)"
   ]
  },
  {
   "cell_type": "markdown",
   "metadata": {},
   "source": [
    "### Now let's get to the actual projections/distances..."
   ]
  },
  {
   "cell_type": "code",
   "execution_count": null,
   "metadata": {},
   "outputs": [],
   "source": [
    "prototypicality_pre, prototypicality = get_both(lambda x, forwardproj: abs(forwardproj(x)[0]), X, forward)\n",
    "\n",
    "project_pre, project = get_both(lambda x, plane: vec_dist(plane.project(x), x), X, decision_plane)\n",
    "\n",
    "#see https://stackoverflow.com/a/17661431: distance = n * p + d\n",
    "project2_pre = lambda x, plane: np.dot(plane.normal, x) + plane.d  #This, nicely, returns 0 if on plane, something > 0 if in FRONT (side of normal) and something < 0 if BEHIND of plane.\n",
    "abs_project2_pre, abs_project2 = get_both(lambda x, plane: abs(np.dot(plane.normal, x) + plane.d), X, decision_plane)"
   ]
  },
  {
   "cell_type": "code",
   "execution_count": null,
   "metadata": {},
   "outputs": [],
   "source": [
    "#onto_plane =  p' = p - (n ⋅ p + d) * n  -- see https://stackoverflow.com/a/41897378\n",
    "\n",
    "quotients = [abs_project2_pre(x, decision_plane)/prototypicality_pre(x, forward) for x in X[:20]]\n",
    "assert np.isclose(min(quotients), max(quotients))\n",
    "#TODO figure out WHY the quotient between protypicality, proj-dist and abs-proj-dist-2 is the way it is and then correct this!!\n",
    "\n",
    "def onto_plane(x, plane, quotient):\n",
    "    #plane_dist = project2_pre(x, plane)\n",
    "    #plane_dist = project_pre(x, plane)\n",
    "    #plane_dist = prototypicality_pre(x, forwardproj) #hiermit klappts..\n",
    "    plane_dist = project2_pre(x, plane) / quotient\n",
    "    #TODO figure out WHY the quotient between protypicality, proj-dist and abs-proj-dist-2 is the way it is and then correct this!!\n",
    "    return x - plane_dist * plane.normal\n",
    "\n",
    "project3_pre, project3 = get_both(lambda x, plane, quotient: vec_dist(onto_plane(x, plane, quotient), x), X, decision_plane, quotients[0])"
   ]
  },
  {
   "cell_type": "code",
   "execution_count": null,
   "metadata": {},
   "outputs": [],
   "source": [
    "project_using_basechanger = lambda x, forwardproj, backwardproj: backwardproj([0, (transformed := forwardproj(x))[1], transformed[2]])\n",
    "project_using_project     = lambda x, plane: plane.project(x)\n",
    "project_using_project2_3  = lambda x, plane, quotient: onto_plane(x, plane, quotient)"
   ]
  },
  {
   "cell_type": "code",
   "execution_count": null,
   "metadata": {},
   "outputs": [],
   "source": [
    "for x in X[:10]:\n",
    "    print(\"Point:\", x, \"  reversed:\", project2_pre(x, decision_plane) > 0)\n",
    "    #print(\"Forward-x:\", forward(x))\n",
    "\n",
    "    print(\"  Normed Project:\", project(x))\n",
    "    print(\"  Normed Prototypicality:\", prototypicality(x))\n",
    "    print(\"  Normed abs projection Distance:\", abs_project2(x))\n",
    "    print(\"  Normed Distance Point & Projection3:\", project3(x))\n",
    "    print()\n",
    "\n",
    "    print(\"  Unnormed Project:\", project_pre(x, decision_plane))\n",
    "    print(\"  Unnormed Prototypicality:\", prototypicality_pre(x, forward))\n",
    "    print(\"  Projection Distance:\", project2_pre(x, decision_plane))\n",
    "    print(\"  Abs projection Distance:\", abs_project2_pre(x, decision_plane))\n",
    "    print(\"  Unnormed Distance Point <-> Projection3\", project3_pre(x, decision_plane, quotients[0]))\n",
    "    print()\n",
    "\n",
    "    print(\"  Quotient Prototypicality <-> Proj Dist:\", project_pre(x, decision_plane)/prototypicality_pre(x, forward))\n",
    "    print(\"  Quotient Prototypicality <-> Abs Proj Dist 2:\", abs_project2_pre(x, decision_plane)/prototypicality_pre(x, forward))\n",
    "    print(\"  Proj Dist <-> Abs Proj Dist 2:\", project_pre(x, decision_plane)/abs_project2_pre(x, decision_plane))\n",
    "    #TODO figure out WHY the quotient between protypicality, proj-dist and abs-proj-dist-2 is the way it is.\n",
    "    print()\n",
    "\n",
    "    print(\"  Projections are actually on the plane: \", project_using_basechanger(x, forward, backward) in decision_plane, project_using_project(x, decision_plane) in decision_plane, project_using_project2_3(x, decision_plane, quotients[0]) in decision_plane)\n",
    "    print(\"\\n\")"
   ]
  },
  {
   "cell_type": "code",
   "execution_count": null,
   "metadata": {},
   "outputs": [],
   "source": []
  },
  {
   "cell_type": "code",
   "execution_count": null,
   "metadata": {},
   "outputs": [],
   "source": [
    "#deleteme from here"
   ]
  },
  {
   "cell_type": "code",
   "execution_count": null,
   "metadata": {},
   "outputs": [],
   "source": [
    "def plane_proj(plane, point):\n",
    "    x, y, z = point\n",
    "    k = (plane.a * x + plane.b * y + plane.c * z + plane.d) / (plane.a ** 2 + plane.b ** 2 + plane.c ** 2)\n",
    "    k = 2*k\n",
    "    return np.array([x - k * plane.a, y - k * plane.b, z - k * plane.c])\n",
    "\n",
    "\n",
    "for x in X[:5]:\n",
    "    tmpproj = plane_proj(decision_plane, x)\n",
    "    print(vec_dist(x, tmpproj))\n",
    "    print(vec_dist(x, decision_plane.project(x)))\n",
    "    print()"
   ]
  },
  {
   "cell_type": "code",
   "execution_count": null,
   "metadata": {},
   "outputs": [],
   "source": [
    "def plane_proj(plane, point):\n",
    "    x, y, z = point\n",
    "    k = (plane.a * x + plane.b * y + plane.c * z + plane.d) / (plane.a ** 2 + plane.b ** 2 + plane.c ** 2)\n",
    "    return np.array([x - k * plane.a, y - k * plane.b, z - k * plane.c])\n",
    "\n",
    "\n",
    "for x in X[:5]:\n",
    "    tmpproj = plane_proj(decision_plane, x)\n",
    "    print(vec_dist(x, tmpproj))\n",
    "    print(vec_dist(x, decision_plane.project(x)))\n",
    "    print()"
   ]
  },
  {
   "cell_type": "code",
   "execution_count": null,
   "metadata": {},
   "outputs": [],
   "source": [
    "project_using_basechanger = lambda x, forwardproj, backwardproj: backwardproj([0, (transformed := forwardproj(x))[1], transformed[2]])\n",
    "project_using_project     = lambda x, plane: plane.project(x)\n",
    "project_using_project2_3  = lambda x, plane, quotient: onto_plane(x, plane, quotient)"
   ]
  },
  {
   "cell_type": "code",
   "execution_count": null,
   "metadata": {},
   "outputs": [],
   "source": [
    "for x in X[:5]:\n",
    "    print(decision_plane.project(x), decision_plane.project(x) in decision_plane, vec_dist(decision_plane.project(x), x))\n",
    "    \n",
    "    tmp = np.dot(decision_plane.normal, x) + decision_plane.d \n",
    "    tmp = tmp/(decision_plane.a**2+decision_plane.b**2+decision_plane.c**2)\n",
    "    proj = x - tmp * decision_plane.normal\n",
    "    print(proj)\n",
    "    \n",
    "    \n",
    "    print()"
   ]
  },
  {
   "cell_type": "raw",
   "metadata": {},
   "source": [
    "For that, we first have to know how to project a point onto a plane in affine frames \n",
    "\t(TODO: explain affine frames)\n",
    "\tSoo, what we want to do is find the minimal distance from the point to the plane. The minimal distance is achieved by going orthogonally towards the plane (-> in the direction of the normal). So we gotta calculate HOW MUCH we have to go into the direction, and then go into the direction of the normal.\n",
    "\n",
    "\t```\n",
    "\t    def project(self, point):\n",
    "        x, y, z = point\n",
    "        k = (self.a * x + self.b * y + self.c * z + self.d) / (self.a ** 2 + self.b ** 2 + self.c ** 2)\n",
    "        return np.array([x - k * self.a, y - k * self.b, z - k * self.c])\n",
    "    ```\n",
    "\n",
    "    k is the \"how much\", a scalar. Why is that the value it is?!\n",
    "\n",
    "    Well, https://stackoverflow.com/a/17661431 here says the distance from a point to its projection onto the plane is np.dot(point, plane.normal)+d (...and the actual projection then `p-(np.dot(point, plane.normal)+d)*n`). ...UND DAS MUSS MAN EINFACH HINNEHMEN! That is almost the same, except it's not \"normalized\" by a²+b²+c².\n",
    "\n",
    "    What is the explanation of the difference from this to the result of using forward and backward??"
   ]
  },
  {
   "cell_type": "code",
   "execution_count": null,
   "metadata": {},
   "outputs": [],
   "source": [
    "#deleteme until here"
   ]
  }
 ],
 "metadata": {
  "kernelspec": {
   "display_name": "Python 3 (ipykernel)",
   "language": "python",
   "name": "python3"
  },
  "language_info": {
   "codemirror_mode": {
    "name": "ipython",
    "version": 3
   },
   "file_extension": ".py",
   "mimetype": "text/x-python",
   "name": "python",
   "nbconvert_exporter": "python",
   "pygments_lexer": "ipython3",
   "version": "3.10.0"
  }
 },
 "nbformat": 4,
 "nbformat_minor": 4
}
