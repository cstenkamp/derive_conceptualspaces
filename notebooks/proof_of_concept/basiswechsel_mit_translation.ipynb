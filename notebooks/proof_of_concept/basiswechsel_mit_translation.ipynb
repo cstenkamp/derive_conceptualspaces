{
 "cells": [
  {
   "cell_type": "markdown",
   "id": "b32a1a5d",
   "metadata": {},
   "source": [
    "# How to perform change of basis with translation\n",
    "\n",
    "* https://youtu.be/P2LTAUO1TdA?t=340, however...\n",
    "* We're dealing with affine spaces, not vector spaces, so we don't deal with vectors, but with affine frames (vector+origin)!\n",
    "* https://stackoverflow.com/questions/69396507/programmatical-change-of-basis-for-coordinate-vectors-with-different-origin-of-c"
   ]
  },
  {
   "cell_type": "markdown",
   "id": "e834a628-05dc-4153-808d-a41433b45bbd",
   "metadata": {},
   "source": [
    "## Preparation"
   ]
  },
  {
   "cell_type": "code",
   "execution_count": null,
   "id": "05e73829",
   "metadata": {},
   "outputs": [],
   "source": [
    "import numpy as np\n",
    "from sklearn import svm\n",
    "from sklearn.datasets import make_blobs\n",
    "import plotly.express as px\n",
    "import plotly.graph_objects as go\n",
    "import math\n",
    "from dataclasses import dataclass"
   ]
  },
  {
   "cell_type": "code",
   "execution_count": null,
   "id": "dbd18b89",
   "metadata": {},
   "outputs": [],
   "source": [
    "class ThreeDFigure():\n",
    "    def __init__(self, trafo_fn=None, back_trafo_fn=None, swap_axes=None):\n",
    "        self.trafo_fn = trafo_fn if trafo_fn is not None else lambda x: x\n",
    "        self.back_trafo_fn = back_trafo_fn if back_trafo_fn is not None else lambda x: x\n",
    "        self.swap_axes = swap_axes\n",
    "        #https://community.plotly.com/t/creating-a-3d-scatterplot-with-equal-scale-along-all-axes/15108/7\n",
    "        self.fig = go.Figure(layout=go.Layout(\n",
    "                        scene=dict(camera=dict(eye=dict(x=1, y=1, z=1)), aspectmode=\"data\"),\n",
    "                        autosize=True,\n",
    "                        width=1000,\n",
    "                        height=800,\n",
    "                        margin=dict(l=10, r=10, b=10, t=10, pad=4),\n",
    "                        paper_bgcolor=\"White\"))\n",
    "        \n",
    "    def _transform(self, points, inverse=False):\n",
    "        trafo_fn = self.back_trafo_fn if inverse else self.trafo_fn              \n",
    "        points = np.array([trafo_fn(point) for point in points])        \n",
    "        if self.swap_axes:\n",
    "            swap_translate = {\"x\": 0, \"y\": 1, \"z\": 2}\n",
    "            ind1, ind2 = swap_translate[self.swap_axes[0]], swap_translate[self.swap_axes[1]]\n",
    "            tmp = points[:,ind1].copy()\n",
    "            points[:,ind1] = points[:,ind2]\n",
    "            points[:,ind2] = tmp\n",
    "        return points\n",
    "                    \n",
    "    def add_surface(self, x, y, z_func):\n",
    "        xy_arr = np.vstack([xx.flatten(), yy.flatten()]).T\n",
    "        z_arr = np.array([z_func(*i) for i in xy_arr])\n",
    "        points = np.column_stack([xy_arr, z_arr])\n",
    "        points = self._transform(points)\n",
    "        surface_form = lambda x: x.reshape(round(math.sqrt(x.shape[0])),-1)\n",
    "        self.fig.add_trace(go.Surface(x=surface_form(points[:,0]), y=surface_form(points[:,1]), z=surface_form(points[:,2])))\n",
    "    \n",
    "    \n",
    "    def add_line(self, point1, point2, width=6, do_transform=True):\n",
    "        if do_transform:\n",
    "            point1 = self._transform(np.array([point1])).squeeze()\n",
    "            point2 = self._transform(np.array([point2])).squeeze()\n",
    "        self.fig.add_trace(\n",
    "            go.Scatter3d(x = [point1[0], point2[0]],\n",
    "                         y = [point1[1], point2[1]],\n",
    "                         z = [point1[2], point2[2]],\n",
    "                         marker = dict(size = 1),\n",
    "                         line = dict(width = width)\n",
    "                         )\n",
    "        )\n",
    "        \n",
    "    def add_markers(self, points, color=\"black\", size=2):\n",
    "        points = np.array(points)\n",
    "        if points.ndim == 1: points = np.array([points])\n",
    "        points = self._transform(points)\n",
    "        \n",
    "        self.fig.add_trace(\n",
    "            go.Scatter3d(\n",
    "                mode='markers',\n",
    "                x=points[:,0],\n",
    "                y=points[:,1],\n",
    "                z=points[:,2],\n",
    "                marker={\"color\": color,\n",
    "                        \"size\": size,\n",
    "                        \"line\": {\"width\": 0}\n",
    "                       },\n",
    "            )\n",
    "        )\n",
    "    \n",
    "    def __enter__(self, *args):\n",
    "        return self\n",
    "    \n",
    "    def __exit__(self, *args):\n",
    "        display(self.fig)\n",
    "    \n",
    "\n",
    "def make_meshgrid(X=None, minx=None, miny=None, maxx=None, maxy=None, size=None, amount=30, margin=0):\n",
    "    assert X is not None or (minx is not None and miny is not None and maxx is not None and maxy is not None) or size is not None\n",
    "    if X is not None:\n",
    "        minx = min(X[:,0]) if minx is None or min(X[:,0])<minx else minx\n",
    "        miny = min(X[:,1]) if miny is None or min(X[:,1])<miny else miny\n",
    "        maxx = max(X[:,0]) if maxx is None or max(X[:,0])>maxx else maxx\n",
    "        maxy = max(X[:,1]) if maxy is None or max(X[:,1])>maxy else maxy\n",
    "    elif size is not None and (minx is None and miny is None and maxx is None and maxy is None):\n",
    "        minx = miny = -size\n",
    "        maxx = maxy = size\n",
    "    lsx = np.linspace(minx-margin, maxx+margin, amount)\n",
    "    lsy = np.linspace(miny-margin, maxy+margin, amount)\n",
    "    xx, yy = np.meshgrid(lsx,lsy)\n",
    "    return xx, yy"
   ]
  },
  {
   "cell_type": "markdown",
   "id": "90321ad5-2751-409d-96ba-9a03715c1aa3",
   "metadata": {},
   "source": [
    "## Without Change-of-Basis"
   ]
  },
  {
   "cell_type": "code",
   "execution_count": null,
   "id": "02ef78b2-a40c-47e0-9a52-1d52a0dd9dde",
   "metadata": {},
   "outputs": [],
   "source": [
    "X, y = make_blobs(n_samples=80, centers=2, random_state=2, n_features=3)\n",
    "model = svm.LinearSVC(C=1, max_iter=10000).fit(X, y)\n",
    "print(\"Coefficients:\", model.coef_, \"Intercept:\", model.intercept_)\n",
    "\n",
    "decision_plane = Plane(*model.coef_[0], model.intercept_[0])\n",
    "\n",
    "with ThreeDFigure() as fig:\n",
    "    fig.add_markers(X, color=y) #samples\n",
    "    xx, yy = make_meshgrid(X, margin=1)\n",
    "    fig.add_surface(xx, yy, decision_plane.z) #decision hyperplane\n",
    "    fig.add_line(X.mean(axis=0)-decision_plane.normal, X.mean(axis=0)+decision_plane.normal) #orthogonal of decision hyperplane through mean of points\n",
    "    fig.add_markers([0,0,0], size=3) #coordinate center"
   ]
  },
  {
   "cell_type": "markdown",
   "id": "52344a55-0b2d-409c-af50-1d02cc31214b",
   "metadata": {},
   "source": [
    "## With change of Basis:"
   ]
  },
  {
   "cell_type": "markdown",
   "id": "c09218df-7380-42c4-9bb4-b963b24dd172",
   "metadata": {},
   "source": [
    "## Incorrect:\n",
    "\n",
    "* Problem: wir machen zwar basiswechsel, gehen aber davon aus dass der Ursprung an der gleichen Position ist Ebene hat den Intercept 0, geht also durch [0,0,0]. Das ist aber nicht so! Und in unserer Transformationsmatrix können wir das nicht ausdrücken, da trafomatrizen zum basiswechsel von affinen Vektrorräumen ausgehen, bei denen der urpsrung an der selben position ist. DAS HEIßT ZUSÄTZLICH zum basiswechsel mit matrizenmultiplikation müssen wir den punkt des neuen ursprugns draufrechnen. Und dieser Punkt ist IM ALTEN KOORDINATENSYSTEM intercept*orthongonalvektor.\n",
    "* Zweiter Fehler: `[1, 0, z_func(uvec1, 1, 0)]` ist kein unitvector der die plane aufspannt (was heißen würde orthogonal zur normalen), sondern lediglich der vektor der von [0,0,0] auf einen more or less random punkt der ebene zeigt!\n",
    "* ...das hier würde für d=0 aber klappen!"
   ]
  },
  {
   "cell_type": "code",
   "execution_count": null,
   "id": "93859129-48be-495b-8d10-f2236b4fba8c",
   "metadata": {},
   "outputs": [],
   "source": [
    "def generate_trafo_matrices(uvec1, z_func):\n",
    "    normalize = lambda vec: vec/np.linalg.norm(vec)\n",
    "    uvec2 = normalize(np.array([1, 0, z_func(uvec1, 1, 0)]))\n",
    "    uvec3 = normalize(np.cross(uvec1, uvec2))\n",
    "    back_trafo_matrix = np.array([uvec2, uvec3, uvec1]).T\n",
    "    trafo_matrix = np.linalg.inv(back_trafo_matrix)\n",
    "    return trafo_matrix, back_trafo_matrix"
   ]
  },
  {
   "cell_type": "code",
   "execution_count": null,
   "id": "c7fb4f4a-82f7-4fcc-a88a-084dfd65fe23",
   "metadata": {
    "tags": []
   },
   "outputs": [],
   "source": [
    "vec, interc = np.array(model.coef_[0]), 0\n",
    "\n",
    "plane_func = lambda vec, x,y: (-interc-vec[0]*x-vec[1]*y) / vec[2]\n",
    "\n",
    "trafo_matrix, back_trafo_matrix = generate_trafo_matrices(vec, plane_func, interc)\n",
    "xx, yy = make_meshgrid(size=0.2)\n",
    "\n",
    "with ThreeDFigure(lambda x: np.dot(trafo_matrix, x), lambda x: np.dot(back_trafo_matrix, x)) as fig:\n",
    "    fig.add_surface(xx, yy, lambda xx, yy: plane_func(vec,xx,yy))\n",
    "    fig.add_line([0,0,0],vec)\n",
    "\n",
    "    fig.add_line([0,0,0], fig._transform([[0.1,0,0]], inverse=True)[0])\n",
    "    fig.add_line([0,0,0], fig._transform([[0,0.1,0]], inverse=True)[0])\n",
    "    fig.add_line([0,0,0], fig._transform([[0,0,0.1]], inverse=True)[0])\n",
    "    \n",
    "print(fig._transform([[0,0,0]], inverse=True))"
   ]
  },
  {
   "cell_type": "code",
   "execution_count": null,
   "id": "216e6cb4-2b3e-4867-9df4-445987a9f5b3",
   "metadata": {
    "tags": []
   },
   "outputs": [],
   "source": [
    "vec, interc = np.array(model.coef_[0]), model.intercept_[0]\n",
    "\n",
    "plane_func = lambda vec, x,y: (-interc-vec[0]*x-vec[1]*y) / vec[2]\n",
    "\n",
    "trafo_matrix, back_trafo_matrix = generate_trafo_matrices(vec, plane_func, interc)\n",
    "xx, yy = make_meshgrid(size=0.2)\n",
    "\n",
    "with ThreeDFigure(lambda x: np.dot(trafo_matrix, x), lambda x: np.dot(back_trafo_matrix, x)) as fig:\n",
    "    fig.add_surface(xx, yy, lambda xx, yy: plane_func(vec,xx,yy))\n",
    "    fig.add_line([0,0,0],vec)\n",
    "\n",
    "    fig.add_line([0,0,0], fig._transform([[0.1,0,0]], inverse=True)[0])\n",
    "    fig.add_line([0,0,0], fig._transform([[0,0.1,0]], inverse=True)[0])\n",
    "    fig.add_line([0,0,0], fig._transform([[0,0,0.1]], inverse=True)[0])\n",
    "    \n",
    "print(fig._transform([[0,0,0]], inverse=True))"
   ]
  },
  {
   "cell_type": "markdown",
   "id": "b16f74e9-c842-47f7-88af-94c2635030fd",
   "metadata": {},
   "source": [
    "## Correct:"
   ]
  },
  {
   "cell_type": "code",
   "execution_count": null,
   "id": "f6b2282c-ac61-4daa-b83f-aaa355729415",
   "metadata": {},
   "outputs": [],
   "source": [
    "@dataclass\n",
    "class Plane:\n",
    "    a: float\n",
    "    b: float\n",
    "    c: float\n",
    "    d: float\n",
    "    \n",
    "    @property\n",
    "    def normal(self):\n",
    "        return np.array([self.a, self.b, self.c])\n",
    "    \n",
    "    def __contains__(self, point:np.array):\n",
    "        return np.isclose(self.a*point[0] + self.b*point[1] + self.c*point[2] + self.d, 0)\n",
    "    \n",
    "    def project(self, point):\n",
    "        x,y,z = point\n",
    "        k = (self.a*x + self.b*y + self.c*z + self.d)/(self.a**2 + self.b**2 + self.c**2)\n",
    "        return np.array([x - k*self.a, y-k*self.b, z-k*self.c])\n",
    "   \n",
    "    \n",
    "    def z(self, x, y):\n",
    "        return (- self.d - self.b*y - self.a*x)/self.c\n",
    "\n",
    "def normalize(vec):\n",
    "    return vec/np.linalg.norm(vec)\n",
    "\n",
    "def make_base_changer(plane):\n",
    "    uvec1 = plane.normal\n",
    "    uvec2 = [0, -plane.d/plane.b, plane.d/plane.c]\n",
    "    uvec3 = np.cross(uvec1, uvec2)\n",
    "    transition_matrix = np.linalg.inv(np.array([uvec1, uvec2, uvec3]).T)\n",
    "    \n",
    "    origin = np.array([0,0,0])\n",
    "    new_origin = plane.project(origin)\n",
    "    forward  = lambda point: transition_matrix.dot(point - new_origin)\n",
    "    backward = lambda point: np.linalg.inv(transition_matrix).dot(point) + new_origin\n",
    "    return forward, backward"
   ]
  },
  {
   "cell_type": "code",
   "execution_count": null,
   "id": "0d839682",
   "metadata": {},
   "outputs": [],
   "source": [
    "forward, backward = make_base_changer(decision_plane)\n",
    "\n",
    "with ThreeDFigure(forward, backward, swap_axes=\"xz\") as fig:\n",
    "    fig.add_markers(X, color=y) #samples\n",
    "    xx, yy = make_meshgrid(X, margin=1)\n",
    "    fig.add_surface(xx, yy, decision_plane.z) #decision hyperplane\n",
    "    fig.add_line(X.mean(axis=0)-decision_plane.normal, X.mean(axis=0)+decision_plane.normal) #orthogonal of decision hyperplane through mean of points\n",
    "    fig.add_markers([0,0,0], size=3) #coordinate center"
   ]
  }
 ],
 "metadata": {
  "kernelspec": {
   "display_name": "Python 3 (ipykernel)",
   "language": "python",
   "name": "python3"
  },
  "language_info": {
   "codemirror_mode": {
    "name": "ipython",
    "version": 3
   },
   "file_extension": ".py",
   "mimetype": "text/x-python",
   "name": "python",
   "nbconvert_exporter": "python",
   "pygments_lexer": "ipython3",
   "version": "3.10.0"
  }
 },
 "nbformat": 4,
 "nbformat_minor": 5
}
