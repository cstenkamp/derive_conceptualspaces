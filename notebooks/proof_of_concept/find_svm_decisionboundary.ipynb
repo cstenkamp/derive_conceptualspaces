{
 "cells": [
  {
   "cell_type": "code",
   "execution_count": null,
   "id": "345f3c4e-0a49-4594-b8b1-cf0f200897d2",
   "metadata": {},
   "outputs": [],
   "source": [
    "import plotly.io as pio\n",
    "pio.renderers.default = \"plotly_mimetype+notebook_connected\"\n",
    "#to render in nbviewer, see https://nbviewer.org/github/jupyterhub/binder-billing/blob/master/analyze_data.ipynb?flush_cache=true"
   ]
  },
  {
   "cell_type": "code",
   "execution_count": null,
   "id": "46a0018b-000a-4fe3-8377-e8e4d5ce1c6a",
   "metadata": {},
   "outputs": [],
   "source": [
    "import numpy as np\n",
    "import matplotlib.pyplot as plt\n",
    "from sklearn import svm, datasets\n",
    "from sklearn.datasets import make_blobs\n",
    "import math"
   ]
  },
  {
   "cell_type": "code",
   "execution_count": null,
   "id": "1d0f271f-da28-4a7f-99e8-ce7f4d8cb1a0",
   "metadata": {},
   "outputs": [],
   "source": [
    "def create_iris_dataset(ndims):\n",
    "    iris = datasets.load_iris()\n",
    "    X = iris.data[:, :ndims]\n",
    "    y = iris.target\n",
    "    to_take_indices = list(set(np.arange(len(y)))-set(np.where(y==2)[0]))\n",
    "    X = X[to_take_indices]\n",
    "    y = y[to_take_indices]\n",
    "    return X, y"
   ]
  },
  {
   "cell_type": "markdown",
   "id": "7ce9860b-616e-41c8-8a4f-6adebddfde57",
   "metadata": {},
   "source": [
    "# 2D"
   ]
  },
  {
   "cell_type": "code",
   "execution_count": null,
   "id": "08f4a359-2372-41a5-b8f4-605abe41650b",
   "metadata": {},
   "outputs": [],
   "source": [
    "def make_meshgrid(x, y, h=.02):\n",
    "    \"\"\"Create a mesh of points to plot in\n",
    "\n",
    "    Parameters\n",
    "    ----------\n",
    "    x: data to base x-axis meshgrid on\n",
    "    y: data to base y-axis meshgrid on\n",
    "    h: stepsize for meshgrid, optional\n",
    "\n",
    "    Returns\n",
    "    -------\n",
    "    xx, yy : ndarray\n",
    "    \"\"\"\n",
    "    x_min, x_max = x.min() - 1, x.max() + 1\n",
    "    y_min, y_max = y.min() - 1, y.max() + 1\n",
    "    xx, yy = np.meshgrid(np.arange(x_min, x_max, h),\n",
    "                         np.arange(y_min, y_max, h))\n",
    "    return xx, yy\n",
    "\n",
    "\n",
    "def plot_contours(ax, clf, xx, yy, **params):\n",
    "    \"\"\"Plot the decision boundaries for a classifier.\n",
    "\n",
    "    Parameters\n",
    "    ----------\n",
    "    ax: matplotlib axes object\n",
    "    clf: a classifier\n",
    "    xx: meshgrid ndarray\n",
    "    yy: meshgrid ndarray\n",
    "    params: dictionary of params to pass to contourf, optional\n",
    "    \"\"\"\n",
    "    Z = clf.predict(np.c_[xx.ravel(), yy.ravel()])\n",
    "    Z = Z.reshape(xx.shape)\n",
    "    out = ax.contourf(xx, yy, Z, **params)\n",
    "    return out"
   ]
  },
  {
   "cell_type": "code",
   "execution_count": null,
   "id": "c305d504-6710-4be3-9558-d39f0adbc593",
   "metadata": {},
   "outputs": [],
   "source": [
    "X, y = create_iris_dataset(ndims=2)\n",
    "\n",
    "#...different dataset (you may comment me out):\n",
    "#X, y = make_blobs(n_samples=80, centers=2, random_state=6)"
   ]
  },
  {
   "cell_type": "code",
   "execution_count": null,
   "id": "18b24b74-4c98-4ad3-9007-a25185770d5e",
   "metadata": {},
   "outputs": [],
   "source": [
    "def plot_all(X, model, title):\n",
    "    X0, X1 = X[:, 0], X[:, 1]\n",
    "    xx, yy = make_meshgrid(X0, X1)\n",
    "    fig, ax = plt.subplots(1,1)\n",
    "    plot_contours(ax, model, xx, yy, cmap=plt.cm.coolwarm, alpha=0.8)\n",
    "    ax.scatter(X0, X1, c=y, cmap=plt.cm.coolwarm, s=20, edgecolors='k')\n",
    "    ax.set_xlim(xx.min(), xx.max())\n",
    "    ax.set_ylim(yy.min(), yy.max())\n",
    "    ax.set_xlabel('Sepal length')\n",
    "    ax.set_ylabel('Sepal width')\n",
    "    ax.set_title(title)\n",
    "    plt.show()\n",
    "    return ax.get_xlim(), ax.get_ylim()\n",
    "    \n",
    "\n",
    "def plot_all_2(X, model, title):\n",
    "    plt.scatter(X[:, 0], X[:, 1], c=y, s=30, cmap=plt.cm.Paired)\n",
    "    ax = plt.gca()\n",
    "    xlim = ax.get_xlim()\n",
    "    ylim = ax.get_ylim()\n",
    "\n",
    "    # create grid to evaluate model\n",
    "    xx = np.linspace(xlim[0], xlim[1], 30)\n",
    "    yy = np.linspace(ylim[0], ylim[1], 30)\n",
    "    YY, XX = np.meshgrid(yy, xx)\n",
    "    xy = np.vstack([XX.ravel(), YY.ravel()]).T\n",
    "    Z = model.decision_function(xy).reshape(XX.shape)\n",
    "\n",
    "    # plot decision boundary and margins\n",
    "    ax.contour(XX, YY, Z, colors='k', levels=[-1, 0, 1], alpha=0.5, linestyles=['--', '-', '--'])\n",
    "    # plot support vectors\n",
    "    if hasattr(model, \"support_vectors_\"):\n",
    "        ax.scatter(model.support_vectors_[:, 0], model.support_vectors_[:, 1], s=100, linewidth=1, facecolors='none', edgecolors='k')\n",
    "    ax.set_title(title)\n",
    "    plt.show()"
   ]
  },
  {
   "cell_type": "code",
   "execution_count": null,
   "id": "b4f17523-f67b-4825-811d-3c859cc37425",
   "metadata": {},
   "outputs": [],
   "source": [
    "model = svm.LinearSVC(C=1, max_iter=10000).fit(X, y)\n",
    "print(\"Coefficients:\", model.coef_, \"Intercept:\", model.intercept_)\n",
    "xlim, ylim = plot_all(X, model, title='LinearSVC (linear kernel)')\n",
    "plot_all_2(X, model, title='LinearSVC (linear kernel)')"
   ]
  },
  {
   "cell_type": "code",
   "execution_count": null,
   "id": "4b76532b-91cc-4716-82b5-be454cbf3ca3",
   "metadata": {},
   "outputs": [],
   "source": [
    "model = svm.SVC(kernel='linear', C=1).fit(X, y)\n",
    "print(\"Coefficients:\", model.coef_, \"Intercept:\", model.intercept_)\n",
    "xlim, ylim = plot_all(X, model, title='LinearSVC (linear kernel)')\n",
    "plot_all_2(X, model, title='LinearSVC (linear kernel)')"
   ]
  },
  {
   "cell_type": "code",
   "execution_count": null,
   "id": "b9c5fbe5-a58d-451f-a99c-c93b726a5eb3",
   "metadata": {
    "tags": []
   },
   "outputs": [],
   "source": [
    "def abline(slope, intercept, xlim=(0,3), ylim=(0,3)):\n",
    "    \"\"\"Plot a line from slope and intercept\"\"\"\n",
    "    axes = plt.gca()\n",
    "    axes.set_xlim(xlim)\n",
    "    axes.set_ylim(ylim)\n",
    "    x_vals = np.array(axes.get_xlim())\n",
    "    y_vals = -intercept + slope * x_vals\n",
    "    plt.plot(x_vals, y_vals, '--')\n",
    "    \n",
    "\n",
    "def find_seperatrix(model):\n",
    "    W=model.coef_[0]\n",
    "    I=model.intercept_\n",
    "    a = -W[0]/W[1]\n",
    "    b = I[0]/W[1]\n",
    "    return a, b\n",
    "\n",
    "slope, intercept = find_seperatrix(model)\n",
    "\n",
    "print(slope, intercept)\n",
    "\n",
    "abline(slope, intercept, xlim, ylim)"
   ]
  },
  {
   "cell_type": "code",
   "execution_count": null,
   "id": "ec73ee40-5c87-4567-ab6f-aa2f1629c180",
   "metadata": {},
   "outputs": [],
   "source": [
    "x_vals = np.array(xlim)\n",
    "y_vals = -intercept + slope * x_vals\n",
    "points = [np.array(i) for i in zip(x_vals, y_vals)]\n",
    "\n",
    "vector = points[1]-points[0]\n",
    "\n",
    "print(points)\n",
    "print(vector)"
   ]
  },
  {
   "cell_type": "code",
   "execution_count": null,
   "id": "cad1882e-1998-488b-b066-b69ab8d3cdec",
   "metadata": {},
   "outputs": [],
   "source": [
    "def show_vectors(ax, vectors, vectors_with_start):\n",
    "    \"\"\"https://stackoverflow.com/a/42282532/5122790\"\"\"\n",
    "    HEAD_SIZE = 0.2\n",
    "    M = np.array(vectors)\n",
    "    colors = ['r','g','b','k','gray']\n",
    "    if vectors:\n",
    "        for i,l in enumerate(range(0,M.shape[0])):\n",
    "            ax.arrow(0,0,M[i,0],M[i,1],head_width=HEAD_SIZE,head_length=HEAD_SIZE,color = colors[i], length_includes_head=True)\n",
    "\n",
    "    colors = ['c','m','y']\n",
    "    if vectors_with_start:\n",
    "        for i,(xs,ys,xf,yf) in enumerate([(*i[0],*i[1]) for i in vectors_with_start]):\n",
    "            ax.arrow(xs,ys,xf,yf,head_width=HEAD_SIZE,head_length=HEAD_SIZE,color = colors[i], length_includes_head=True)\n",
    "\n",
    "    return ax"
   ]
  },
  {
   "cell_type": "code",
   "execution_count": null,
   "id": "b426b53c-b1ed-450a-b67a-55814b6d6898",
   "metadata": {},
   "outputs": [],
   "source": [
    "def ortho_proj(a,b):\n",
    "    #https://en.wikipedia.org/wiki/Vector_projection\n",
    "    a1_sc = np.dot(a,(b/np.linalg.norm(b)))\n",
    "    b_hat = b/np.linalg.norm(b)\n",
    "    a1 = a1_sc*b_hat\n",
    "    a2 = a-a1\n",
    "    return a2"
   ]
  },
  {
   "cell_type": "code",
   "execution_count": null,
   "id": "fd3749f1-3220-48cd-bdae-8a9d74ce15a4",
   "metadata": {},
   "outputs": [],
   "source": [
    "center_point = points[0]+0.5*vector"
   ]
  },
  {
   "cell_type": "code",
   "execution_count": null,
   "id": "77371715-b1ad-4f00-9a45-a8b2a3f6ec3d",
   "metadata": {},
   "outputs": [],
   "source": [
    "print(ortho_proj(vector, center_point))"
   ]
  },
  {
   "cell_type": "code",
   "execution_count": null,
   "id": "687896a2-8b07-4956-8eae-42e20d5a3adc",
   "metadata": {},
   "outputs": [],
   "source": [
    "fig, ax = plt.subplots(figsize=(8,8))\n",
    "show_vectors(ax, [], [(points[0], vector), (center_point, ortho_proj(vector, center_point))])\n",
    "\n",
    "ax.plot(*center_point,'ok') \n",
    "ax.set_aspect('equal', 'box')\n",
    "plt.grid(b=True, which='major')\n",
    "\n",
    "plt.xlim(xlim)\n",
    "plt.ylim(ylim)\n",
    "plt.show()"
   ]
  },
  {
   "cell_type": "code",
   "execution_count": null,
   "id": "d2ff8797-a9eb-4f68-a89f-77b30040bec5",
   "metadata": {},
   "outputs": [],
   "source": [
    "print(model.coef_[0])\n",
    "print(center_point+model.coef_[0])"
   ]
  },
  {
   "cell_type": "code",
   "execution_count": null,
   "id": "ceb7dd7f-a3d5-4235-9e01-864fd0049ddf",
   "metadata": {},
   "outputs": [],
   "source": [
    "fig, ax = plt.subplots(figsize=(8,8))\n",
    "show_vectors(ax, [], [(points[0], vector), (center_point, ortho_proj(vector, center_point)), (center_point, model.coef_[0])])\n",
    "\n",
    "ax.plot(*center_point,'ok') \n",
    "ax.set_aspect('equal', 'box')\n",
    "plt.grid(b=True, which='major')\n",
    "\n",
    "plt.xlim(xlim)\n",
    "plt.ylim(ylim)\n",
    "plt.show()"
   ]
  },
  {
   "cell_type": "markdown",
   "id": "5f391e6f-65c4-42bf-846d-2582dba7869c",
   "metadata": {},
   "source": [
    "# 3D"
   ]
  },
  {
   "cell_type": "code",
   "execution_count": null,
   "id": "2c80c729-5b41-488c-a18a-60c2e1c8bc1c",
   "metadata": {},
   "outputs": [],
   "source": [
    "#https://stackoverflow.com/a/51301399/5122790, https://stackoverflow.com/a/69407977/5122790 !!!\n",
    "import plotly.express as px\n",
    "import plotly.graph_objects as go\n",
    "from mpl_toolkits import mplot3d\n",
    "from dataclasses import dataclass"
   ]
  },
  {
   "cell_type": "code",
   "execution_count": null,
   "id": "05240b0c-051c-4f29-b530-74d74897d02e",
   "metadata": {},
   "outputs": [],
   "source": [
    "X, y = create_iris_dataset(ndims=3)\n",
    "model = svm.LinearSVC(C=1, max_iter=10000).fit(X, y)\n",
    "print(\"Coefficients:\", model.coef_, \"Intercept:\", model.intercept_)"
   ]
  },
  {
   "cell_type": "code",
   "execution_count": null,
   "id": "e45b2fd0-1a44-4fe6-8a13-ee306f05423a",
   "metadata": {},
   "outputs": [],
   "source": [
    "fig = plt.figure(figsize=(8, 6))\n",
    "ax = plt.axes(projection='3d')\n",
    "ax.scatter(X[:,0], X[:,1], X[:,2], color=[\"r\" if i==0 else \"b\" for i in y])\n",
    "plt.show()"
   ]
  },
  {
   "cell_type": "code",
   "execution_count": null,
   "id": "15012acd-a594-4d7d-bf89-d2f5e8e2b3f4",
   "metadata": {},
   "outputs": [],
   "source": [
    "def make_meshgrid(X=None, minx=None, miny=None, maxx=None, maxy=None, size=None, amount=30, margin=0):\n",
    "    assert X is not None or (minx is not None and miny is not None and maxx is not None and maxy is not None) or size is not None\n",
    "    if X is not None:\n",
    "        minx = min(X[:,0]) if minx is None or min(X[:,0])<minx else minx\n",
    "        miny = min(X[:,1]) if miny is None or min(X[:,1])<miny else miny\n",
    "        maxx = max(X[:,0]) if maxx is None or max(X[:,0])>maxx else maxx\n",
    "        maxy = max(X[:,1]) if maxy is None or max(X[:,1])>maxy else maxy\n",
    "    elif size is not None and (minx is None and miny is None and maxx is None and maxy is None):\n",
    "        minx = miny = -size\n",
    "        maxx = maxy = size\n",
    "    lsx = np.linspace(minx-margin, maxx+margin, amount)\n",
    "    lsy = np.linspace(miny-margin, maxy+margin, amount)\n",
    "    xx, yy = np.meshgrid(lsx,lsy)\n",
    "    return xx, yy\n",
    "\n",
    "\n",
    "def plot_3d_boundary(clf):\n",
    "    # The equation of the separating plane is given by all x so that np.dot(svc.coef_[0], x) + b = 0.\n",
    "    # Solve for w3 (z)\n",
    "    z = lambda clf, x,y: (-clf.intercept_[0]-clf.coef_[0][0]*x -clf.coef_[0][1]*y) / clf.coef_[0][2]\n",
    "    # https://stackoverflow.com/a/51301399/5122790 !!!\n",
    "\n",
    "    xx, yy = make_meshgrid(X)\n",
    "\n",
    "    fig = plt.figure()\n",
    "    ax  = fig.add_subplot(111, projection='3d')\n",
    "    ax.plot3D(X[y==0,0], X[y==0,1], X[y==0,2],'ob')\n",
    "    ax.plot3D(X[y==1,0], X[y==1,1], X[y==1,2],'sr')\n",
    "    ax.plot_surface(xx, yy, z(clf,xx,yy))\n",
    "    ax.view_init(30, 60)\n",
    "    plt.show()\n",
    "    \n",
    "plot_3d_boundary(model)"
   ]
  },
  {
   "cell_type": "code",
   "execution_count": null,
   "id": "9bcadcf3-9b4b-49cd-8fef-3a2047becbd2",
   "metadata": {},
   "outputs": [],
   "source": [
    "def ortho_projection_affine(a, b):\n",
    "    \"\"\"https://en.wikipedia.org/wiki/Vector_projection\"\"\"\n",
    "    return np.dot(np.dot(a,b)/np.dot(b,b),b)\n",
    "\n",
    "class ThreeDFigure():\n",
    "    def __init__(self, trafo_fn=None, back_trafo_fn=None, swap_axes=None):\n",
    "        self.trafo_fn = trafo_fn if trafo_fn is not None else lambda x: x\n",
    "        self.back_trafo_fn = back_trafo_fn if back_trafo_fn is not None else lambda x: x\n",
    "        self.swap_axes = swap_axes\n",
    "        #https://community.plotly.com/t/creating-a-3d-scatterplot-with-equal-scale-along-all-axes/15108/7\n",
    "        self.fig = go.Figure(layout=go.Layout(\n",
    "                        scene=dict(camera=dict(eye=dict(x=1, y=1, z=1)), aspectmode=\"data\"),\n",
    "                        autosize=True,\n",
    "                        width=1000,\n",
    "                        height=800,\n",
    "                        margin=dict(l=10, r=10, b=10, t=10, pad=4),\n",
    "                        paper_bgcolor=\"White\"))\n",
    "        \n",
    "    def _transform(self, points, inverse=False):\n",
    "        trafo_fn = self.back_trafo_fn if inverse else self.trafo_fn              \n",
    "        points = np.array([trafo_fn(point) for point in points])    \n",
    "        if self.swap_axes:\n",
    "            points = self._swap_axes(points, self.swap_axes)\n",
    "        return points\n",
    "    \n",
    "    def _swap_axes(self, points, swap_axes):\n",
    "        swap_translate = {\"x\": 0, \"y\": 1, \"z\": 2}\n",
    "        ind1, ind2 = swap_translate[swap_axes[0]], swap_translate[swap_axes[1]]\n",
    "        tmp = points[:,ind1].copy()\n",
    "        points[:,ind1] = points[:,ind2]\n",
    "        points[:,ind2] = tmp\n",
    "        return points\n",
    "    \n",
    "                    \n",
    "    def add_surface(self, xx, yy, z_func, swap_axes=None, opacity=None):\n",
    "        xy_arr = np.vstack([xx.flatten(), yy.flatten()]).T\n",
    "        z_arr = np.array([z_func(*i) for i in xy_arr])\n",
    "        points = np.column_stack([xy_arr, z_arr])\n",
    "        points = self._transform(points)\n",
    "        if swap_axes: \n",
    "            points = self._swap_axes(points, swap_axes)\n",
    "        surface_form = lambda x: x.reshape(round(math.sqrt(x.shape[0])),-1)\n",
    "        self.fig.add_trace(go.Surface(x=surface_form(points[:,0]), y=surface_form(points[:,1]), z=surface_form(points[:,2]), opacity=opacity, showlegend=False, showscale=False))\n",
    "    \n",
    "    \n",
    "    def add_line(self, point1, point2, width=6, do_transform=True, name=None, **kwargs):\n",
    "        if do_transform:\n",
    "            point1 = self._transform(np.array([point1])).squeeze()\n",
    "            point2 = self._transform(np.array([point2])).squeeze()\n",
    "        self.fig.add_trace(\n",
    "            go.Scatter3d(x = [point1[0], point2[0]],\n",
    "                         y = [point1[1], point2[1]],\n",
    "                         z = [point1[2], point2[2]],\n",
    "                         marker = dict(size = 1),\n",
    "                         line = dict(width = width),\n",
    "                         name=name,\n",
    "                         **kwargs\n",
    "                         )\n",
    "        )\n",
    "        \n",
    "    def add_markers(self, points, color=\"black\", size=2, name=None, **kwargs):\n",
    "        points = np.array(points)\n",
    "        if points.ndim == 1: points = np.array([points])\n",
    "        points = self._transform(points)\n",
    "        default_args = dict(mode=\"markers\", x=points[:,0], y=points[:,1], z=points[:,2], marker={\"color\": color, \"size\": size, \"line\": {\"width\": 0}}, name=name)\n",
    "        self.fig.add_trace(go.Scatter3d(**{**default_args, **kwargs}))\n",
    "        \n",
    "    \n",
    "    def add_sample_projections(self, X, onto, n_samples=10, **kwargs):\n",
    "        show_vecs = X[np.random.choice(X.shape[0], n_samples, replace=False), :]\n",
    "        for point in show_vecs:\n",
    "            proj = ortho_projection_affine(point, onto)\n",
    "            self.add_line(point, proj, **kwargs)\n",
    "            \n",
    "    \n",
    "    def __enter__(self, *args):\n",
    "        return self\n",
    "    \n",
    "    def __exit__(self, exc_type, exc, exc_tb):\n",
    "        if not exc_type:\n",
    "            display(self.fig)\n",
    "    "
   ]
  },
  {
   "cell_type": "code",
   "execution_count": null,
   "id": "63ee5017-4eef-4b90-8dc3-05b699f73a57",
   "metadata": {},
   "outputs": [],
   "source": [
    "@dataclass\n",
    "class Plane:\n",
    "    a: float\n",
    "    b: float\n",
    "    c: float\n",
    "    d: float\n",
    "    \n",
    "    @property\n",
    "    def normal(self):\n",
    "        return np.array([self.a, self.b, self.c])\n",
    "    \n",
    "    def __contains__(self, point:np.array):\n",
    "        return np.isclose(self.a*point[0] + self.b*point[1] + self.c*point[2] + self.d, 0)\n",
    "    \n",
    "    def project(self, point):\n",
    "        x,y,z = point\n",
    "        k = (self.a*x + self.b*y + self.c*z + self.d)/(self.a**2 + self.b**2 + self.c**2)\n",
    "        return np.array([x - k*self.a, y-k*self.b, z-k*self.c])\n",
    "   \n",
    "    def z(self, x, y):\n",
    "        return (- self.d - self.b*y - self.a*x)/self.c"
   ]
  },
  {
   "cell_type": "code",
   "execution_count": null,
   "id": "93dc6f82-99e7-43d6-8ac0-018c0151bd73",
   "metadata": {},
   "outputs": [],
   "source": [
    "decision_plane = Plane(*model.coef_[0], model.intercept_[0])\n",
    "\n",
    "with ThreeDFigure() as fig:\n",
    "    fig.add_markers(X, color=y) #samples\n",
    "    xx, yy = make_meshgrid(X, margin=1)\n",
    "    fig.add_surface(xx, yy, decision_plane.z) #decision hyperplane\n",
    "    fig.add_line(X.mean(axis=0)-decision_plane.normal, X.mean(axis=0)+decision_plane.normal) #orthogonal of decision hyperplane through mean of points\n",
    "    fig.add_markers([0,0,0], size=3) #coordinate center\n",
    "    \n",
    "    fig.add_line(-decision_plane.normal*5, decision_plane.normal*5) #orthogonal of decision hyperplane through [0,0,0]\n",
    "    fig.add_sample_projections(X, decision_plane.normal) #orthogonal lines from the samples onto the decision hyperplane orthogonal"
   ]
  },
  {
   "cell_type": "code",
   "execution_count": null,
   "id": "9ac0683a-947b-4649-aed3-59a99ff86c54",
   "metadata": {},
   "outputs": [],
   "source": [
    "X, y = make_blobs(n_samples=80, centers=2, random_state=6, n_features=3)\n",
    "model = svm.LinearSVC(C=1, max_iter=10000).fit(X, y)\n",
    "print(\"Coefficients:\", model.coef_, \"Intercept:\", model.intercept_)\n",
    "decision_plane = Plane(*model.coef_[0], model.intercept_[0])\n",
    "\n",
    "with ThreeDFigure() as fig:\n",
    "    fig.add_markers(X, color=y) #samples\n",
    "    xx, yy = make_meshgrid(X, margin=1)\n",
    "    fig.add_surface(xx, yy, decision_plane.z) #decision hyperplane\n",
    "    fig.add_line(X.mean(axis=0)-decision_plane.normal, X.mean(axis=0)+decision_plane.normal) #orthogonal of decision hyperplane through mean of points\n",
    "    fig.add_markers([0,0,0], size=3) #coordinate center\n",
    "    \n",
    "    fig.add_line(-decision_plane.normal*5, decision_plane.normal*5) #orthogonal of decision hyperplane through [0,0,0]\n",
    "    fig.add_sample_projections(X, decision_plane.normal) #orthogonal lines from the samples onto the decision hyperplane orthogonal"
   ]
  },
  {
   "cell_type": "markdown",
   "id": "b59093c3-3818-4ce0-ac34-7726b0e51c47",
   "metadata": {},
   "source": [
    "* I'm having so many apparently hard-to-solve problems - the decision-boundary for example goes from (minx,miny) to (maxx,maxy), with the corresponding z-coordinate. However that's superflous, it may become waaay to big there, because the original x/y/z coordinate system is irrelevant! The size of the decision surface is constrained instead rather by the circle of all lines that go through a point and in parallel to the orthogonal of the decision surface. But to figure out the size of the decision boundary from that is far from trivial - again because I always need the translation from the irrelevant acutal xyz-coordinate system to the coordinate system which is relevant for me, which is one in which the decision surface has two coordinate values equal to zero. If I do that, every other calculation becomes trivial!!\n",
    "* Same holds for the problem \"how long should the decisionsurface-orthogonal be\" - calculating it now is hard, but once we have translated the coordinate system it's just the min/max z-coordinate!"
   ]
  },
  {
   "cell_type": "code",
   "execution_count": null,
   "id": "4bab0dc4-e360-4951-9eb3-3b4cccc685c0",
   "metadata": {},
   "outputs": [],
   "source": [
    "X, y = make_blobs(n_samples=80, centers=2, random_state=6, n_features=3)\n",
    "model = svm.LinearSVC(C=1, max_iter=10000).fit(X, y)\n",
    "print(\"Coefficients:\", model.coef_, \"Intercept:\", model.intercept_)\n",
    "decision_plane = Plane(*model.coef_[0], model.intercept_[0])\n",
    "\n",
    "\n",
    "with ThreeDFigure() as fig:\n",
    "    fig.add_markers(X, color=y) #samples\n",
    "    xx, yy = make_meshgrid(X, margin=1)\n",
    "    fig.add_surface(xx, yy, decision_plane.z) #decision hyperplane\n",
    "    fig.add_line([0,0,0], decision_plane.normal*100) #orthogonal of decision hyperplane through mean of points\n",
    "    fig.add_markers([0,0,0], size=3) #coordinate center\n",
    "    \n",
    "    for point, side in zip(X, y):\n",
    "        fig.add_line(point, point-decision_plane.normal*100 if side else point+decision_plane.normal*100)\n"
   ]
  },
  {
   "cell_type": "code",
   "execution_count": null,
   "id": "04a86c30-2c08-4071-8aee-2adb27f64bb5",
   "metadata": {},
   "outputs": [],
   "source": [
    "def normalize(vec):\n",
    "    return vec/np.linalg.norm(vec)"
   ]
  },
  {
   "cell_type": "code",
   "execution_count": null,
   "id": "4e2f11c0-25c0-44ae-9e5b-c31dcf4ec891",
   "metadata": {},
   "outputs": [],
   "source": [
    "decision_plane = Plane(*model.coef_[0], model.intercept_[0])\n",
    "vec = normalize(decision_plane.normal)\n",
    "print(\"Original Vec:\", vec)\n",
    "\n",
    "with ThreeDFigure() as fig:\n",
    "    #coordinate system\n",
    "    fig.add_surface(*make_meshgrid(size=1), lambda _,__: 0, opacity=0.3)\n",
    "    fig.add_surface(*make_meshgrid(size=1), lambda _,__: 0, swap_axes=\"xz\", opacity=0.3)\n",
    "    fig.add_surface(*make_meshgrid(size=1), lambda _,__: 0, swap_axes=\"yz\", opacity=0.3)    \n",
    "    fig.add_line([-1,0,0], [1,0,0])\n",
    "    fig.add_line([0,-1,0], [0,1,0])\n",
    "    fig.add_line([0,0,-1], [0,0,1])\n",
    "    \n",
    "    #vec and its projections\n",
    "    fig.add_line([0,0,0], vec, width=12)\n",
    "    fig.add_line([0,0,0], [0, vec[1], vec[2]])\n",
    "    fig.add_line([0,0,0], [vec[0], 0, vec[2]])\n",
    "    fig.add_line([0,0,0], [vec[0], vec[1], 0])\n"
   ]
  },
  {
   "cell_type": "raw",
   "id": "6d76922b-8220-4b4c-a961-3b98e305fb74",
   "metadata": {},
   "source": [
    "z      = -i[0]-c[0]*x -c[1]*y) / c[2]  | *c[2]\n",
    "z*c[2] = -i[0]-c[0]*x -c[1]*y          | +i[0] | -c[2]*z\n",
    "i[0]   = -c[0]*x - c[1]*y - c[2]*z\n",
    "\n",
    "0   = c[0]*x + c[1]*y + c[2]*z + i[0]\n",
    "0   = i + ax + by + cz\n",
    "\n",
    "warum ist das so?\n",
    "-> das innere produkt von 2 orthogonalen vektoren ist 0. Das heißt, der vektor der im selben punkt wie der normalenvektor anfängt, und zu einem beliebigen punkt auf der Ebene zeigt ist immer orthogonal zur orthogonalen.\n",
    "-> Tafelwerk, ebenendarstellung! Allgemeine form ax+by+cz=d\n",
    "\n",
    "Die Decision Hyperplane ist immer n-2 dimensional (plane bei 3d, gerade bei 2d).\n",
    "Die Orthogonale ist... was? immer 2D? Ist sie zumindest bei 3d und bei 2d.\n",
    "\n",
    "Was ist d?? \n",
    "Naja, hauen wir einen stift durch ein papier. Das papier ist die hyperplane, und die position dieser hp ist durch die ausrichtung des stiftes (->vector der orthogonalen) fast eineutig definiert, der einzige degree of freedom ist WO AUF DEM STIFT das papier ist. Der Stift selbst ist 1D (strich) --> d ist ein Skalar. Durch Richtung des stifts und position auf dem stift ist die ebene eindeutig definiert.\n",
    "\n",
    "Preisfrage: auch im 4D? Ist es da auch nur ein weiterer wert?\n",
    "HINT:\n",
    "\n",
    "X, y = make_blobs(n_samples=80, centers=2, random_state=6, n_features=4)\n",
    "model = svm.LinearSVC(C=1, max_iter=10000).fit(X, y)\n",
    "print(\"Intercept:\", model.intercept_)\n",
    "print(\"Coeffs:\", model.coef_)\n",
    "\n",
    "da intercept bei ner 4D-SVM 4D ist, Coef aber weiterhin nur ein Skalar würde ich vermuten auch bei einer Hyperplane im 4D ist der intercept skalar (...macht ja sinn, denn auch ein Vektor im 4-dimensionalen Raum ist ein eindimensionales Ding)"
   ]
  },
  {
   "cell_type": "code",
   "execution_count": null,
   "id": "673ed683-b7cf-4874-8297-c4d9e20ea5cd",
   "metadata": {},
   "outputs": [],
   "source": [
    "def make_base_changer(plane):\n",
    "    uvec1 = plane.normal\n",
    "    uvec2 = [0, -plane.d/plane.b, plane.d/plane.c] #NOT [1, 0, plane.z(model, 1, 0)] !!\n",
    "    uvec3 = np.cross(uvec1, uvec2)\n",
    "    transition_matrix = np.linalg.inv(np.array([uvec1, uvec2, uvec3]).T)\n",
    "    \n",
    "    origin = np.array([0,0,0])\n",
    "    new_origin = plane.project(origin)\n",
    "    forward  = lambda point: transition_matrix.dot(point - new_origin)\n",
    "    backward = lambda point: np.linalg.inv(transition_matrix).dot(point) + new_origin\n",
    "    return forward, backward\n",
    "\n",
    "\n",
    "#wir haben im 3D einen Degree of freedom hier!! uvec1 ist eindeutig definiert, aber uvec2 und uvec3 haben nur\n",
    "#die Bedingung dass sie orthogonal zueinander und zu uvec1 sind - das ist 1 dof. Im 2D haben wir 0 dof, da die \n",
    "#decisionboundary 1dimensional ist und ihre orthogonale auch. Wie viele dof haben wir im höherdim? immer n_dim-2? \n",
    "#das hat ja mega auswirkungen auf was ich machen will, am besten wäre es die neuen basen so zu wählen dass die\n",
    "#jeweils nächsten auch wieder orthogonal sind...!"
   ]
  },
  {
   "cell_type": "code",
   "execution_count": null,
   "id": "d204bf20-f24d-4c5c-9db7-2b8a87e13a2e",
   "metadata": {},
   "outputs": [],
   "source": [
    "X, y = make_blobs(n_samples=80, centers=2, random_state=6, n_features=3)\n",
    "model = svm.LinearSVC(C=1, max_iter=10000).fit(X, y)\n",
    "print(\"Coefficients:\", model.coef_, \"Intercept:\", model.intercept_)\n",
    "decision_plane = Plane(*model.coef_[0], model.intercept_[0])\n",
    "\n",
    "trafo, back_trafo = make_base_changer(decision_plane)\n",
    "\n",
    "with ThreeDFigure(trafo, back_trafo, swap_axes=\"xz\") as fig:\n",
    "    fig.add_markers(X, color=y) #samples\n",
    "    xx, yy = make_meshgrid(minx=-0.7, miny=-10, maxx=0.01, maxy=1, margin=1) #manual values!\n",
    "    fig.add_surface(xx, yy, decision_plane.z) #decision hyperplane\n",
    "    fig.add_line([0,0,0], decision_plane.normal*100) #orthogonal of decision hyperplane through mean of points\n",
    "    fig.add_markers([0,0,0], size=3) #coordinate center\n",
    "    fig.add_sample_projections(X, decision_plane.normal) #orthogonal lines from the samples onto the decision hyperplane orthogonal\n",
    "    \n",
    "    for point, side in zip(X, y):\n",
    "        #fig.add_line(point, point-decision_plane.normal*100 if side else point+decision_plane.normal*100)\n",
    "        #that ^ would be the blunt way to do it, smarter is to set transform, set x=0, backtransform\n",
    "        transformed = trafo(point)\n",
    "        onto_plane = back_trafo([0, transformed[1], transformed[2]])\n",
    "        fig.add_line(point, onto_plane)\n",
    "        \n",
    "#find a way to pre-determine the minx, miny, ... of the meshgrid THROUGH THE TRANSLATION"
   ]
  },
  {
   "cell_type": "code",
   "execution_count": null,
   "id": "e2fe4b75-b820-4bf0-8bf3-cf8bf9361718",
   "metadata": {},
   "outputs": [],
   "source": [
    "# the way how to determine the minx/miny/.. of the meshgrid:\n",
    "\n",
    "\n",
    "onto_plane = np.array([back_trafo([0, trafo(point)[1], trafo(point)[2]]) for point, side in zip(X, y)])\n",
    "minx, miny = onto_plane.min(axis=0)[:2]\n",
    "maxx, maxy = onto_plane.max(axis=0)[:2]\n",
    "    \n",
    "        \n",
    "with ThreeDFigure() as fig: #trafo, back_trafo, swap_axes=\"xz\"\n",
    "    fig.add_markers(X, color=y, showlegend=False) #samples\n",
    "    xx, yy = make_meshgrid(minx=minx, miny=miny, maxx=maxx, maxy=maxy, margin=0.1)\n",
    "    fig.add_surface(xx, yy, decision_plane.z) #decision hyperplane\n",
    "    fig.add_line([0,0,0], decision_plane.normal*100, name=\"normal_meanpoints\") #orthogonal of decision hyperplane through mean of points\n",
    "    fig.add_markers([0,0,0], size=3, name=\"origin\") #coordinate center\n",
    "    fig.add_sample_projections(X, decision_plane.normal, showlegend=False) #orthogonal lines from the samples onto the decision hyperplane orthogonal\n",
    "    \n",
    "    for point, side in zip(X, y):\n",
    "        fig.add_line(point, back_trafo([0, trafo(point)[1], trafo(point)[2]]), showlegend=False)"
   ]
  },
  {
   "cell_type": "markdown",
   "id": "33d98446-f3b4-40aa-8202-f5ab4a208dbb",
   "metadata": {},
   "source": [
    "## New stuff"
   ]
  },
  {
   "cell_type": "code",
   "execution_count": null,
   "id": "4261b051-dc9c-4285-bbc9-f00aa9f73d37",
   "metadata": {},
   "outputs": [],
   "source": [
    "X, y = make_blobs(n_samples=80, centers=2, random_state=2, n_features=3)\n",
    "model = svm.LinearSVC(C=1, max_iter=10000).fit(X, y)\n",
    "print(\"Coefficients:\", model.coef_, \"Intercept:\", model.intercept_)\n",
    "decision_plane = Plane(*model.coef_[0], model.intercept_[0])\n",
    "\n",
    "trafo, back_trafo = make_base_changer(decision_plane)\n",
    "\n",
    "onto_plane = np.array([back_trafo([0, trafo(point)[1], trafo(point)[2]]) for point, side in zip(X, y)])\n",
    "minx, miny = onto_plane.min(axis=0)[:2]\n",
    "maxx, maxy = onto_plane.max(axis=0)[:2]\n",
    "\n",
    "z_vals = [trafo(point)[0] for point in X]\n",
    "minneg, maxneg = min(z_vals), max([i for i in z_vals if i < 0])\n",
    "minpos, maxpos = min([i for i in z_vals if i > 0]), max(z_vals)"
   ]
  },
  {
   "cell_type": "code",
   "execution_count": null,
   "id": "cf4c63fb-90e6-496f-8c64-6d163dfcc49e",
   "metadata": {},
   "outputs": [],
   "source": [
    "#instead of taking the transform, we could also just take the z-component (or the length, as x&y of it are 0) of the vector from a point to its projection\n",
    "\n",
    "for point, val in zip(X, y):\n",
    "    transformed_proj = np.around(trafo(decision_plane.project(point)-point), 5)\n",
    "    assert transformed_proj[1] == transformed_proj[2] == 0\n",
    "    assert (np.sign(transformed_proj[0]) == 1) == (val == 0)\n",
    "    \n",
    "assert all(np.array([trafo(point)[0] for point in X]).argsort() == np.array([(decision_plane.project(point)-point)[2] for point in X]).argsort())"
   ]
  },
  {
   "cell_type": "code",
   "execution_count": null,
   "id": "387706bc-e769-4d66-861b-24f105ad12af",
   "metadata": {
    "tags": [
     "keep_output"
    ]
   },
   "outputs": [
    {
     "data": {
      "application/vnd.plotly.v1+json": {
       "config": {
        "plotlyServerURL": "https://plot.ly"
       },
       "data": [
        {
         "marker": {
          "color": "black",
          "line": {
           "width": 0
          },
          "size": 3
         },
         "mode": "markers",
         "name": "origin",
         "type": "scatter3d",
         "x": [
          0
         ],
         "y": [
          0
         ],
         "z": [
          0
         ]
        },
        {
         "marker": {
          "color": "yellow",
          "line": {
           "width": 0
          },
          "size": 2
         },
         "mode": "markers",
         "name": "plane_offset",
         "type": "scatter3d",
         "x": [
          0.10457238149351299
         ],
         "y": [
          -0.2674363477778181
         ],
         "z": [
          0.5043186302641506
         ]
        },
        {
         "line": {
          "width": 6
         },
         "marker": {
          "size": 1
         },
         "name": "plane_normal",
         "type": "scatter3d",
         "x": [
          1.2542493779336161,
          -0.8294403946047587
         ],
         "y": [
          -3.2076526138784995,
          2.1212341792775313
         ],
         "z": [
          6.048837362744608,
          -4.000121616421037
         ]
        },
        {
         "marker": {
          "color": "blue",
          "line": {
           "width": 0
          },
          "size": 2
         },
         "mode": "markers",
         "name": "4.520104786776514",
         "showlegend": false,
         "type": "scatter3d",
         "x": [
          0.042014020706258925
         ],
         "y": [
          -1.2900146220721205
         ],
         "z": [
          -3.847531434638628
         ]
        },
        {
         "marker": {
          "color": "blue",
          "line": {
           "width": 0
          },
          "size": 3
         },
         "mode": "markers",
         "name": "d=1.5949051298617494",
         "type": "scatter3d",
         "x": [
          -2.1339951601259597
         ],
         "y": [
          -1.9049146279088631
         ],
         "z": [
          -1.2486254908114804
         ]
        },
        {
         "line": {
          "width": 6
         },
         "marker": {
          "size": 1
         },
         "name": "^ len_d",
         "type": "scatter3d",
         "x": [
          -2.1339951601259597,
          -1.9227937616148467
         ],
         "y": [
          -1.9049146279088631,
          -2.4450470209622184
         ],
         "z": [
          -1.2486254908114804,
          -0.2300697451569268
         ]
        },
        {
         "line": {
          "width": 6
         },
         "marker": {
          "size": 1
         },
         "name": "^ proj",
         "type": "scatter3d",
         "x": [
          -2.1339951601259597,
          -0.10662901701760012
         ],
         "y": [
          -1.9049146279088631,
          0.2726960452755374
         ],
         "z": [
          -1.2486254908114804,
          -0.5142371153904032
         ]
        },
        {
         "marker": {
          "color": "blue",
          "line": {
           "width": 0
          },
          "size": 2
         },
         "mode": "markers",
         "name": "3.730167512258703",
         "showlegend": false,
         "type": "scatter3d",
         "x": [
          -2.6435542503000073
         ],
         "y": [
          -2.2908149558331123
         ],
         "z": [
          -3.153352381649631
         ]
        },
        {
         "marker": {
          "color": "red",
          "line": {
           "width": 0
          },
          "size": 2
         },
         "mode": "markers",
         "name": "-5.745992928452934",
         "showlegend": false,
         "type": "scatter3d",
         "x": [
          -1.8403364633977217
         ],
         "y": [
          -10.383721431512676
         ],
         "z": [
          0.40227728210473745
         ]
        },
        {
         "marker": {
          "color": "red",
          "line": {
           "width": 0
          },
          "size": 2
         },
         "mode": "markers",
         "name": "-5.607479342784313",
         "showlegend": false,
         "type": "scatter3d",
         "x": [
          -1.6157792956837722
         ],
         "y": [
          -8.870134583868456
         ],
         "z": [
          1.0412201494423712
         ]
        },
        {
         "marker": {
          "color": "blue",
          "line": {
           "width": 0
          },
          "size": 2
         },
         "mode": "markers",
         "name": "2.46624821832641",
         "showlegend": false,
         "type": "scatter3d",
         "x": [
          -1.608169583290394
         ],
         "y": [
          -2.1863995411328263
         ],
         "z": [
          -2.243803012204535
         ]
        },
        {
         "marker": {
          "color": "blue",
          "line": {
           "width": 0
          },
          "size": 2
         },
         "mode": "markers",
         "name": "3.8377588593858505",
         "showlegend": false,
         "type": "scatter3d",
         "x": [
          -1.7225654661443077
         ],
         "y": [
          -0.8964459786387888
         ],
         "z": [
          -2.695887307645588
         ]
        },
        {
         "marker": {
          "color": "red",
          "line": {
           "width": 0
          },
          "size": 2
         },
         "mode": "markers",
         "name": "-3.8077693058260227",
         "showlegend": false,
         "type": "scatter3d",
         "x": [
          -0.771705714476493
         ],
         "y": [
          -9.265359357178491
         ],
         "z": [
          -0.8653628285493147
         ]
        },
        {
         "marker": {
          "color": "blue",
          "line": {
           "width": 0
          },
          "size": 2
         },
         "mode": "markers",
         "name": "3.6738378466435027",
         "showlegend": false,
         "type": "scatter3d",
         "x": [
          -0.67133173316653
         ],
         "y": [
          -0.6318620134069913
         ],
         "z": [
          -2.6349332327557478
         ]
        },
        {
         "marker": {
          "color": "blue",
          "line": {
           "width": 0
          },
          "size": 2
         },
         "mode": "markers",
         "name": "3.4461171293380617",
         "showlegend": false,
         "type": "scatter3d",
         "x": [
          -1.59821873248412
         ],
         "y": [
          -1.752368088371606
         ],
         "z": [
          -2.8443570200998987
         ]
        },
        {
         "marker": {
          "color": "red",
          "line": {
           "width": 0
          },
          "size": 2
         },
         "mode": "markers",
         "name": "-7.271648947270365",
         "showlegend": false,
         "type": "scatter3d",
         "x": [
          -1.876261656966392
         ],
         "y": [
          -9.500605859963326
         ],
         "z": [
          2.1682507770744737
         ]
        },
        {
         "marker": {
          "color": "red",
          "line": {
           "width": 0
          },
          "size": 2
         },
         "mode": "markers",
         "name": "-6.02054438172613",
         "showlegend": false,
         "type": "scatter3d",
         "x": [
          1.3051929109046245
         ],
         "y": [
          -7.646142640577349
         ],
         "z": [
          1.4339394299892925
         ]
        },
        {
         "marker": {
          "color": "blue",
          "line": {
           "width": 0
          },
          "size": 2
         },
         "mode": "markers",
         "name": "3.4032814419682924",
         "showlegend": false,
         "type": "scatter3d",
         "x": [
          -0.5586674798935111
         ],
         "y": [
          -2.6540097021810576
         ],
         "z": [
          -3.501820403841502
         ]
        },
        {
         "marker": {
          "color": "blue",
          "line": {
           "width": 0
          },
          "size": 2
         },
         "mode": "markers",
         "name": "3.4984037139662676",
         "showlegend": false,
         "type": "scatter3d",
         "x": [
          -0.5370500045819107
         ],
         "y": [
          -1.3512043294085272
         ],
         "z": [
          -2.8958779309977802
         ]
        },
        {
         "marker": {
          "color": "blue",
          "line": {
           "width": 0
          },
          "size": 2
         },
         "mode": "markers",
         "name": "5.39953961087352",
         "showlegend": false,
         "type": "scatter3d",
         "x": [
          -2.4278706306650815
         ],
         "y": [
          -2.3000648458140063
         ],
         "z": [
          -4.614732745018286
         ]
        },
        {
         "marker": {
          "color": "red",
          "line": {
           "width": 0
          },
          "size": 2
         },
         "mode": "markers",
         "name": "-8.158226730223781",
         "showlegend": false,
         "type": "scatter3d",
         "x": [
          -2.189109572086774
         ],
         "y": [
          -8.930021318895749
         ],
         "z": [
          3.2854575703891404
         ]
        },
        {
         "marker": {
          "color": "red",
          "line": {
           "width": 0
          },
          "size": 2
         },
         "mode": "markers",
         "name": "-7.365028458102409",
         "showlegend": false,
         "type": "scatter3d",
         "x": [
          -1.2385625641615214
         ],
         "y": [
          -10.599400808555691
         ],
         "z": [
          1.5323078781549717
         ]
        },
        {
         "marker": {
          "color": "red",
          "line": {
           "width": 0
          },
          "size": 3
         },
         "mode": "markers",
         "name": "d=-1.6721647158026955",
         "type": "scatter3d",
         "x": [
          -1.5491589173759384
         ],
         "y": [
          -7.250108574555569
         ],
         "z": [
          -1.4415180189468613
         ]
        },
        {
         "line": {
          "width": 6
         },
         "marker": {
          "size": 1
         },
         "name": "^ len_d",
         "type": "scatter3d",
         "x": [
          -1.5491589173759384,
          -1.7705912269886617
         ],
         "y": [
          -7.250108574555569,
          -6.68381136187798
         ],
         "z": [
          -1.4415180189468613,
          -2.509414125788832
         ]
        },
        {
         "line": {
          "width": 6
         },
         "marker": {
          "size": 1
         },
         "name": "^ proj",
         "type": "scatter3d",
         "x": [
          -1.5491589173759384,
          0.32600469110623603
         ],
         "y": [
          -7.250108574555569,
          -0.8337335604554051
         ],
         "z": [
          -1.4415180189468613,
          1.5722147371061206
         ]
        },
        {
         "marker": {
          "color": "blue",
          "line": {
           "width": 0
          },
          "size": 2
         },
         "mode": "markers",
         "name": "3.1918881467661584",
         "showlegend": false,
         "type": "scatter3d",
         "x": [
          -1.6580312392471215
         ],
         "y": [
          -2.4686234359156143
         ],
         "z": [
          -2.9967834212358087
         ]
        },
        {
         "marker": {
          "color": "red",
          "line": {
           "width": 0
          },
          "size": 2
         },
         "mode": "markers",
         "name": "-5.669573549102594",
         "showlegend": false,
         "type": "scatter3d",
         "x": [
          -0.777220540001882
         ],
         "y": [
          -10.726763450049406
         ],
         "z": [
          -0.06470266128815605
         ]
        },
        {
         "marker": {
          "color": "blue",
          "line": {
           "width": 0
          },
          "size": 2
         },
         "mode": "markers",
         "name": "3.958663632250468",
         "showlegend": false,
         "type": "scatter3d",
         "x": [
          -0.2077457436123662
         ],
         "y": [
          -0.6904645628096294
         ],
         "z": [
          -3.0030071301117554
         ]
        },
        {
         "marker": {
          "color": "red",
          "line": {
           "width": 0
          },
          "size": 2
         },
         "mode": "markers",
         "name": "-2.4473691606452084",
         "showlegend": false,
         "type": "scatter3d",
         "x": [
          -2.208993881683744
         ],
         "y": [
          -6.931037127562513
         ],
         "z": [
          -0.4799236902257027
         ]
        },
        {
         "marker": {
          "color": "red",
          "line": {
           "width": 0
          },
          "size": 2
         },
         "mode": "markers",
         "name": "-6.941026298267742",
         "showlegend": false,
         "type": "scatter3d",
         "x": [
          -2.1092372461747035
         ],
         "y": [
          -9.393765145033843
         ],
         "z": [
          1.993615444124878
         ]
        },
        {
         "marker": {
          "color": "blue",
          "line": {
           "width": 0
          },
          "size": 2
         },
         "mode": "markers",
         "name": "4.784683172385866",
         "showlegend": false,
         "type": "scatter3d",
         "x": [
          -0.3180427354058979
         ],
         "y": [
          -1.4010703116424414
         ],
         "z": [
          -4.0555125917167665
         ]
        },
        {
         "marker": {
          "color": "blue",
          "line": {
           "width": 0
          },
          "size": 2
         },
         "mode": "markers",
         "name": "3.3011381180914676",
         "showlegend": false,
         "type": "scatter3d",
         "x": [
          -1.7618984071926949
         ],
         "y": [
          -2.8473642653630744
         ],
         "z": [
          -3.268479933536673
         ]
        },
        {
         "marker": {
          "color": "red",
          "line": {
           "width": 0
          },
          "size": 2
         },
         "mode": "markers",
         "name": "-5.949782719443056",
         "showlegend": false,
         "type": "scatter3d",
         "x": [
          -1.6994184393126137
         ],
         "y": [
          -9.613804261878917
         ],
         "z": [
          0.9536793178805771
         ]
        },
        {
         "marker": {
          "color": "red",
          "line": {
           "width": 0
          },
          "size": 2
         },
         "mode": "markers",
         "name": "-7.633534610495445",
         "showlegend": false,
         "type": "scatter3d",
         "x": [
          -0.8996299869449244
         ],
         "y": [
          -9.698610632187053
         ],
         "z": [
          2.1667810560691363
         ]
        },
        {
         "marker": {
          "color": "red",
          "line": {
           "width": 0
          },
          "size": 3
         },
         "mode": "markers",
         "name": "d=-8.6818825643803",
         "type": "scatter3d",
         "x": [
          0.1265942845014456
         ],
         "y": [
          -11.219434867826742
         ],
         "z": [
          2.0340735109649115
         ]
        },
        {
         "line": {
          "width": 6
         },
         "marker": {
          "size": 1
         },
         "name": "^ len_d",
         "type": "scatter3d",
         "x": [
          0.1265942845014456,
          -1.0230827119386579
         ],
         "y": [
          -11.219434867826742,
          -8.279218601726058
         ],
         "z": [
          2.0340735109649115,
          -3.5104452215155453
         ]
        },
        {
         "line": {
          "width": 6
         },
         "marker": {
          "size": 1
         },
         "name": "^ proj",
         "type": "scatter3d",
         "x": [
          0.1265942845014456,
          1.254249377933616
         ],
         "y": [
          -11.219434867826742,
          -3.2076526138784986
         ],
         "z": [
          2.0340735109649115,
          6.0488373627446075
         ]
        },
        {
         "marker": {
          "color": "blue",
          "line": {
           "width": 0
          },
          "size": 2
         },
         "mode": "markers",
         "name": "3.9211781975638997",
         "showlegend": false,
         "type": "scatter3d",
         "x": [
          -3.2793979214271083
         ],
         "y": [
          -1.2275904418093788
         ],
         "z": [
          -2.6192215465178186
         ]
        },
        {
         "marker": {
          "color": "red",
          "line": {
           "width": 0
          },
          "size": 2
         },
         "mode": "markers",
         "name": "-7.602510966286185",
         "showlegend": false,
         "type": "scatter3d",
         "x": [
          -0.5448223810947223
         ],
         "y": [
          -10.13472563123421
         ],
         "z": [
          1.835705839145523
         ]
        },
        {
         "marker": {
          "color": "red",
          "line": {
           "width": 0
          },
          "size": 2
         },
         "mode": "markers",
         "name": "-5.8215245358552625",
         "showlegend": false,
         "type": "scatter3d",
         "x": [
          -1.9993557985866022
         ],
         "y": [
          -10.064889958021181
         ],
         "z": [
          0.6681999291923968
         ]
        },
        {
         "marker": {
          "color": "blue",
          "line": {
           "width": 0
          },
          "size": 2
         },
         "mode": "markers",
         "name": "4.245398071311599",
         "showlegend": false,
         "type": "scatter3d",
         "x": [
          -0.6920363339672632
         ],
         "y": [
          -1.58898446753575
         ],
         "z": [
          -3.6215511381165517
         ]
        },
        {
         "marker": {
          "color": "blue",
          "line": {
           "width": 0
          },
          "size": 2
         },
         "mode": "markers",
         "name": "5.022136790147635",
         "showlegend": false,
         "type": "scatter3d",
         "x": [
          -0.2605230817068416
         ],
         "y": [
          -1.9216463929509258
         ],
         "z": [
          -4.544306524063666
         ]
        },
        {
         "marker": {
          "color": "blue",
          "line": {
           "width": 0
          },
          "size": 2
         },
         "mode": "markers",
         "name": "2.356951788816178",
         "showlegend": false,
         "type": "scatter3d",
         "x": [
          -1.7200746184897326
         ],
         "y": [
          -1.7407911494275212
         ],
         "z": [
          -1.8918666646659397
         ]
        },
        {
         "marker": {
          "color": "blue",
          "line": {
           "width": 0
          },
          "size": 2
         },
         "mode": "markers",
         "name": "2.0016244350890786",
         "showlegend": false,
         "type": "scatter3d",
         "x": [
          -0.5415872984195823
         ],
         "y": [
          -2.5864049413688104
         ],
         "z": [
          -2.2841602985608693
         ]
        },
        {
         "marker": {
          "color": "blue",
          "line": {
           "width": 0
          },
          "size": 2
         },
         "mode": "markers",
         "name": "5.154934108046541",
         "showlegend": false,
         "type": "scatter3d",
         "x": [
          -3.1439561214259393
         ],
         "y": [
          -1.2621558942512991
         ],
         "z": [
          -3.7089967902252914
         ]
        },
        {
         "marker": {
          "color": "blue",
          "line": {
           "width": 0
          },
          "size": 2
         },
         "mode": "markers",
         "name": "1.8056041928849378",
         "showlegend": false,
         "type": "scatter3d",
         "x": [
          1.9861932534769364
         ],
         "y": [
          -0.6217826382099462
         ],
         "z": [
          -1.6007107275242336
         ]
        },
        {
         "marker": {
          "color": "red",
          "line": {
           "width": 0
          },
          "size": 2
         },
         "mode": "markers",
         "name": "-6.6688453959561595",
         "showlegend": false,
         "type": "scatter3d",
         "x": [
          -0.7782447503786115
         ],
         "y": [
          -10.325689067272036
         ],
         "z": [
          0.993259319045779
         ]
        },
        {
         "marker": {
          "color": "blue",
          "line": {
           "width": 0
          },
          "size": 2
         },
         "mode": "markers",
         "name": "4.968500107919382",
         "showlegend": false,
         "type": "scatter3d",
         "x": [
          -2.354351183964895
         ],
         "y": [
          -1.0009774375225404
         ],
         "z": [
          -3.576560153702099
         ]
        },
        {
         "marker": {
          "color": "blue",
          "line": {
           "width": 0
          },
          "size": 2
         },
         "mode": "markers",
         "name": "2.688771577065013",
         "showlegend": false,
         "type": "scatter3d",
         "x": [
          0.5324423095002062
         ],
         "y": [
          -3.306711369346252
         ],
         "z": [
          -3.4699431439198865
         ]
        },
        {
         "marker": {
          "color": "blue",
          "line": {
           "width": 0
          },
          "size": 2
         },
         "mode": "markers",
         "name": "5.75564472785656",
         "showlegend": false,
         "type": "scatter3d",
         "x": [
          -0.7956119992676421
         ],
         "y": [
          -1.4661397829437133
         ],
         "z": [
          -4.812114131071052
         ]
        },
        {
         "marker": {
          "color": "red",
          "line": {
           "width": 0
          },
          "size": 2
         },
         "mode": "markers",
         "name": "-7.372835645872424",
         "showlegend": false,
         "type": "scatter3d",
         "x": [
          -1.9577775344879664
         ],
         "y": [
          -10.920914390180792
         ],
         "z": [
          1.5175459875845316
         ]
        },
        {
         "marker": {
          "color": "red",
          "line": {
           "width": 0
          },
          "size": 2
         },
         "mode": "markers",
         "name": "-4.570579311887976",
         "showlegend": false,
         "type": "scatter3d",
         "x": [
          -0.846605627083354
         ],
         "y": [
          -8.203096133170305
         ],
         "z": [
          0.35857025239482054
         ]
        },
        {
         "marker": {
          "color": "red",
          "line": {
           "width": 0
          },
          "size": 2
         },
         "mode": "markers",
         "name": "-7.43044616429553",
         "showlegend": false,
         "type": "scatter3d",
         "x": [
          -0.9540985237729442
         ],
         "y": [
          -11.521798412170888
         ],
         "z": [
          1.0395050807158799
         ]
        },
        {
         "marker": {
          "color": "red",
          "line": {
           "width": 0
          },
          "size": 2
         },
         "mode": "markers",
         "name": "-7.419499663992624",
         "showlegend": false,
         "type": "scatter3d",
         "x": [
          -1.167375452343276
         ],
         "y": [
          -9.11103082677894
         ],
         "z": [
          2.352883420246779
         ]
        },
        {
         "marker": {
          "color": "red",
          "line": {
           "width": 0
          },
          "size": 2
         },
         "mode": "markers",
         "name": "-5.327418280604753",
         "showlegend": false,
         "type": "scatter3d",
         "x": [
          -1.6189239231891213
         ],
         "y": [
          -9.717659394294776
         ],
         "z": [
          0.35559454508988164
         ]
        },
        {
         "marker": {
          "color": "blue",
          "line": {
           "width": 0
          },
          "size": 2
         },
         "mode": "markers",
         "name": "1.816886210979866",
         "showlegend": false,
         "type": "scatter3d",
         "x": [
          2.815140476170738
         ],
         "y": [
          -0.7715230809383078
         ],
         "z": [
          -1.8615432636055613
         ]
        },
        {
         "marker": {
          "color": "red",
          "line": {
           "width": 0
          },
          "size": 2
         },
         "mode": "markers",
         "name": "-6.434900430010024",
         "showlegend": false,
         "type": "scatter3d",
         "x": [
          -2.467714243545209
         ],
         "y": [
          -10.9026925907463
         ],
         "z": [
          0.8397543618972337
         ]
        },
        {
         "marker": {
          "color": "blue",
          "line": {
           "width": 0
          },
          "size": 2
         },
         "mode": "markers",
         "name": "3.2708310505717697",
         "showlegend": false,
         "type": "scatter3d",
         "x": [
          -2.6111194173885
         ],
         "y": [
          -3.6182375500848063
         ],
         "z": [
          -3.4755489549556478
         ]
        },
        {
         "marker": {
          "color": "blue",
          "line": {
           "width": 0
          },
          "size": 2
         },
         "mode": "markers",
         "name": "4.721325554909513",
         "showlegend": false,
         "type": "scatter3d",
         "x": [
          -2.632141027502986
         ],
         "y": [
          -0.4598978823168711
         ],
         "z": [
          -3.0229987371752776
         ]
        },
        {
         "marker": {
          "color": "blue",
          "line": {
           "width": 0
          },
          "size": 2
         },
         "mode": "markers",
         "name": "1.9402856730358167",
         "showlegend": false,
         "type": "scatter3d",
         "x": [
          -0.27369741826522564
         ],
         "y": [
          -3.07510943607289
         ],
         "z": [
          -2.5469916880804377
         ]
        },
        {
         "marker": {
          "color": "red",
          "line": {
           "width": 0
          },
          "size": 2
         },
         "mode": "markers",
         "name": "-7.112210411104723",
         "showlegend": false,
         "type": "scatter3d",
         "x": [
          -0.8562772492940441
         ],
         "y": [
          -8.682295368407159
         ],
         "z": [
          2.255863220899003
         ]
        },
        {
         "marker": {
          "color": "blue",
          "line": {
           "width": 0
          },
          "size": 2
         },
         "mode": "markers",
         "name": "3.137269193818632",
         "showlegend": false,
         "type": "scatter3d",
         "x": [
          0.5109244939452628
         ],
         "y": [
          -1.4122341513386731
         ],
         "z": [
          -2.8401393057647053
         ]
        },
        {
         "marker": {
          "color": "blue",
          "line": {
           "width": 0
          },
          "size": 2
         },
         "mode": "markers",
         "name": "4.50996459293455",
         "showlegend": false,
         "type": "scatter3d",
         "x": [
          -3.3631644102999134
         ],
         "y": [
          -0.982499871843562
         ],
         "z": [
          -2.9698066794796447
         ]
        },
        {
         "marker": {
          "color": "red",
          "line": {
           "width": 0
          },
          "size": 2
         },
         "mode": "markers",
         "name": "-5.169960629183325",
         "showlegend": false,
         "type": "scatter3d",
         "x": [
          -3.6237051481598868
         ],
         "y": [
          -8.3199538727014
         ],
         "z": [
          1.3793276051777774
         ]
        },
        {
         "marker": {
          "color": "red",
          "line": {
           "width": 0
          },
          "size": 2
         },
         "mode": "markers",
         "name": "-5.996422073376541",
         "showlegend": false,
         "type": "scatter3d",
         "x": [
          -0.8982357230332279
         ],
         "y": [
          -8.915199921999717
         ],
         "z": [
          1.197457536488295
         ]
        },
        {
         "marker": {
          "color": "red",
          "line": {
           "width": 0
          },
          "size": 2
         },
         "mode": "markers",
         "name": "-8.402287099482406",
         "showlegend": false,
         "type": "scatter3d",
         "x": [
          -1.6839942264978642
         ],
         "y": [
          -10.865994029978038
         ],
         "z": [
          2.3604849815013074
         ]
        },
        {
         "marker": {
          "color": "blue",
          "line": {
           "width": 0
          },
          "size": 2
         },
         "mode": "markers",
         "name": "1.6149660181834125",
         "showlegend": false,
         "type": "scatter3d",
         "x": [
          -0.17566541418362114
         ],
         "y": [
          -1.8668860471137454
         ],
         "z": [
          -1.6514913914502833
         ]
        },
        {
         "marker": {
          "color": "red",
          "line": {
           "width": 0
          },
          "size": 2
         },
         "mode": "markers",
         "name": "-7.237910744469194",
         "showlegend": false,
         "type": "scatter3d",
         "x": [
          -0.5849823521129334
         ],
         "y": [
          -11.514941909564786
         ],
         "z": [
          0.8037802928618021
         ]
        },
        {
         "marker": {
          "color": "red",
          "line": {
           "width": 0
          },
          "size": 2
         },
         "mode": "markers",
         "name": "-5.112199396948156",
         "showlegend": false,
         "type": "scatter3d",
         "x": [
          -2.3015166876819912
         ],
         "y": [
          -9.049079662462567
         ],
         "z": [
          0.669669487497659
         ]
        },
        {
         "marker": {
          "color": "red",
          "line": {
           "width": 0
          },
          "size": 2
         },
         "mode": "markers",
         "name": "-7.019649731647505",
         "showlegend": false,
         "type": "scatter3d",
         "x": [
          -0.062216324103634424
         ],
         "y": [
          -9.943480711595555
         ],
         "z": [
          1.3441380516619292
         ]
        },
        {
         "marker": {
          "color": "blue",
          "line": {
           "width": 0
          },
          "size": 2
         },
         "mode": "markers",
         "name": "3.7689940340626134",
         "showlegend": false,
         "type": "scatter3d",
         "x": [
          -0.7791814301690143
         ],
         "y": [
          -0.7631855276368256
         ],
         "z": [
          -2.7626816126453972
         ]
        },
        {
         "marker": {
          "color": "blue",
          "line": {
           "width": 0
          },
          "size": 2
         },
         "mode": "markers",
         "name": "2.3338236059696182",
         "showlegend": false,
         "type": "scatter3d",
         "x": [
          -1.7410530238271087
         ],
         "y": [
          -2.848071176596078
         ],
         "z": [
          -2.4551399086483734
         ]
        },
        {
         "marker": {
          "color": "blue",
          "line": {
           "width": 0
          },
          "size": 2
         },
         "mode": "markers",
         "name": "3.790577213908484",
         "showlegend": false,
         "type": "scatter3d",
         "x": [
          -1.846501587197685
         ],
         "y": [
          -1.2931171450700611
         ],
         "z": [
          -2.8406398843183185
         ]
        },
        {
         "marker": {
          "color": "red",
          "line": {
           "width": 0
          },
          "size": 2
         },
         "mode": "markers",
         "name": "-4.581931802766318",
         "showlegend": false,
         "type": "scatter3d",
         "x": [
          -1.661618438925011
         ],
         "y": [
          -9.41498635429603
         ],
         "z": [
          -0.10548938942187358
         ]
        },
        {
         "marker": {
          "color": "blue",
          "line": {
           "width": 0
          },
          "size": 2
         },
         "mode": "markers",
         "name": "5.070768599812155",
         "showlegend": false,
         "type": "scatter3d",
         "x": [
          -3.0584698759102187
         ],
         "y": [
          -1.70706525528034
         ],
         "z": [
          -3.891477773844276
         ]
        },
        {
         "marker": {
          "color": "red",
          "line": {
           "width": 0
          },
          "size": 2
         },
         "mode": "markers",
         "name": "-4.647953120182474",
         "showlegend": false,
         "type": "scatter3d",
         "x": [
          -1.4365361275445485
         ],
         "y": [
          -9.224904911440879
         ],
         "z": [
          0.004470508804561124
         ]
        },
        {
         "marker": {
          "color": "red",
          "line": {
           "width": 0
          },
          "size": 2
         },
         "mode": "markers",
         "name": "-7.964409309726637",
         "showlegend": false,
         "type": "scatter3d",
         "x": [
          0.3043850992357515
         ],
         "y": [
          -12.140924819825662
         ],
         "z": [
          0.9017969346835247
         ]
        },
        {
         "marker": {
          "color": "red",
          "line": {
           "width": 0
          },
          "size": 2
         },
         "mode": "markers",
         "name": "-6.208311533797028",
         "showlegend": false,
         "type": "scatter3d",
         "x": [
          -3.1481926117236885
         ],
         "y": [
          -7.750290697461706
         ],
         "z": [
          2.4609275681475955
         ]
        },
        {
         "marker": {
          "color": "red",
          "line": {
           "width": 0
          },
          "size": 2
         },
         "mode": "markers",
         "name": "-4.789030153021866",
         "showlegend": false,
         "type": "scatter3d",
         "x": [
          -2.0279729064537872
         ],
         "y": [
          -9.472450112468849
         ],
         "z": [
          0.11514166433384088
         ]
        },
        {
         "marker": {
          "color": "red",
          "line": {
           "width": 0
          },
          "size": 2
         },
         "mode": "markers",
         "name": "-5.107420786780234",
         "showlegend": false,
         "type": "scatter3d",
         "x": [
          -2.413235230836907
         ],
         "y": [
          -9.048382808785483
         ],
         "z": [
          0.6891631187728673
         ]
        },
        {
         "marker": {
          "color": "red",
          "line": {
           "width": 0
          },
          "size": 2
         },
         "mode": "markers",
         "name": "-5.446739281731259",
         "showlegend": false,
         "type": "scatter3d",
         "x": [
          -1.5562814494106627
         ],
         "y": [
          -9.99835925717476
         ],
         "z": [
          0.2946596076377942
         ]
        },
        {
         "marker": {
          "color": "blue",
          "line": {
           "width": 0
          },
          "size": 2
         },
         "mode": "markers",
         "name": "3.4884881425735634",
         "showlegend": false,
         "type": "scatter3d",
         "x": [
          -1.1724465660561343
         ],
         "y": [
          -2.439472710192113
         ],
         "z": [
          -3.3328411309196055
         ]
        },
        {
         "marker": {
          "color": "blue",
          "line": {
           "width": 0
          },
          "size": 2
         },
         "mode": "markers",
         "name": "5.6752636686948685",
         "showlegend": false,
         "type": "scatter3d",
         "x": [
          -1.545326266004287
         ],
         "y": [
          -3.1393185695146357
         ],
         "z": [
          -5.475955515667467
         ]
        },
        {
         "marker": {
          "color": "red",
          "line": {
           "width": 0
          },
          "size": 2
         },
         "mode": "markers",
         "name": "-6.956325382081769",
         "showlegend": false,
         "type": "scatter3d",
         "x": [
          -1.357320622512882
         ],
         "y": [
          -8.656772358005192
         ],
         "z": [
          2.2414624781712167
         ]
        },
        {
         "marker": {
          "color": "red",
          "line": {
           "width": 0
          },
          "size": 2
         },
         "mode": "markers",
         "name": "-6.070475127705514",
         "showlegend": false,
         "type": "scatter3d",
         "x": [
          -1.6611944746752747
         ],
         "y": [
          -9.857144786521168
         ],
         "z": [
          0.9187787946802018
         ]
        },
        {
         "marker": {
          "color": "red",
          "line": {
           "width": 0
          },
          "size": 2
         },
         "mode": "markers",
         "name": "-7.257685749931957",
         "showlegend": false,
         "type": "scatter3d",
         "x": [
          -0.7377493850108957
         ],
         "y": [
          -9.794983560435583
         ],
         "z": [
          1.7642612956435944
         ]
        },
        {
         "marker": {
          "color": "blue",
          "line": {
           "width": 0
          },
          "size": 2
         },
         "mode": "markers",
         "name": "3.8404185398228554",
         "showlegend": false,
         "type": "scatter3d",
         "x": [
          -2.7469164972912514
         ],
         "y": [
          -1.9306617356064473
         ],
         "z": [
          -3.034170248128713
         ]
        },
        {
         "marker": {
          "color": "blue",
          "line": {
           "width": 0
          },
          "size": 2
         },
         "mode": "markers",
         "name": "2.4403704724941955",
         "showlegend": false,
         "type": "scatter3d",
         "x": [
          -0.423953950089518
         ],
         "y": [
          -2.679734533092661
         ],
         "z": [
          -2.7290821665268874
         ]
        },
        {
         "marker": {
          "color": "blue",
          "line": {
           "width": 0
          },
          "size": 3
         },
         "mode": "markers",
         "name": "d=7.0532760599933395",
         "type": "scatter3d",
         "x": [
          -2.317067132432493
         ],
         "y": [
          -2.040818781594588
         ],
         "z": [
          -5.8987617119969125
         ]
        },
        {
         "line": {
          "width": 6
         },
         "marker": {
          "size": 1
         },
         "name": "^ len_d",
         "type": "scatter3d",
         "x": [
          -2.317067132432493,
          -1.3830543563342215
         ],
         "y": [
          -2.040818781594588,
          -4.429489308649936
         ],
         "z": [
          -5.8987617119969125,
          -1.3943214653117249
         ]
        },
        {
         "line": {
          "width": 6
         },
         "marker": {
          "size": 1
         },
         "name": "^ proj",
         "type": "scatter3d",
         "x": [
          -2.317067132432493,
          -0.8294403946047587
         ],
         "y": [
          -2.040818781594588,
          2.1212341792775313
         ],
         "z": [
          -5.8987617119969125,
          -4.000121616421037
         ]
        },
        {
         "showlegend": false,
         "showscale": false,
         "type": "surface",
         "x": [
          [
           -4.408324499296816,
           -4.147494786400754,
           -3.8866650735046937,
           -3.6258353606086327,
           -3.3650056477125716,
           -3.1041759348165106,
           -2.8433462219204495,
           -2.5825165090243885,
           -2.3216867961283274,
           -2.0608570832322664,
           -1.8000273703362053,
           -1.5391976574401443,
           -1.2783679445440832,
           -1.0175382316480222,
           -0.7567085187519611,
           -0.49587880585590005,
           -0.235049092959839,
           0.025780619936222493,
           0.2866103328322831,
           0.5474400457283437,
           0.8082697586244052,
           1.0690994715204667,
           1.3299291844165273,
           1.590758897312588,
           1.8515886102086494,
           2.112418323104711,
           2.3732480360007715,
           2.634077748896832,
           2.8949074617928936,
           3.155737174688955
          ],
          [
           -4.408324499296816,
           -4.147494786400754,
           -3.8866650735046937,
           -3.6258353606086327,
           -3.3650056477125716,
           -3.1041759348165106,
           -2.8433462219204495,
           -2.5825165090243885,
           -2.3216867961283274,
           -2.0608570832322664,
           -1.8000273703362053,
           -1.5391976574401443,
           -1.2783679445440832,
           -1.0175382316480222,
           -0.7567085187519611,
           -0.49587880585590005,
           -0.235049092959839,
           0.025780619936222493,
           0.2866103328322831,
           0.5474400457283437,
           0.8082697586244052,
           1.0690994715204667,
           1.3299291844165273,
           1.590758897312588,
           1.8515886102086494,
           2.112418323104711,
           2.3732480360007715,
           2.634077748896832,
           2.8949074617928936,
           3.155737174688955
          ],
          [
           -4.408324499296816,
           -4.147494786400754,
           -3.8866650735046937,
           -3.6258353606086327,
           -3.3650056477125716,
           -3.1041759348165106,
           -2.8433462219204495,
           -2.5825165090243885,
           -2.3216867961283274,
           -2.0608570832322664,
           -1.8000273703362053,
           -1.5391976574401443,
           -1.2783679445440832,
           -1.0175382316480222,
           -0.7567085187519611,
           -0.49587880585590005,
           -0.235049092959839,
           0.025780619936222493,
           0.2866103328322831,
           0.5474400457283437,
           0.8082697586244052,
           1.0690994715204667,
           1.3299291844165273,
           1.590758897312588,
           1.8515886102086494,
           2.112418323104711,
           2.3732480360007715,
           2.634077748896832,
           2.8949074617928936,
           3.155737174688955
          ],
          [
           -4.408324499296816,
           -4.147494786400754,
           -3.8866650735046937,
           -3.6258353606086327,
           -3.3650056477125716,
           -3.1041759348165106,
           -2.8433462219204495,
           -2.5825165090243885,
           -2.3216867961283274,
           -2.0608570832322664,
           -1.8000273703362053,
           -1.5391976574401443,
           -1.2783679445440832,
           -1.0175382316480222,
           -0.7567085187519611,
           -0.49587880585590005,
           -0.235049092959839,
           0.025780619936222493,
           0.2866103328322831,
           0.5474400457283437,
           0.8082697586244052,
           1.0690994715204667,
           1.3299291844165273,
           1.590758897312588,
           1.8515886102086494,
           2.112418323104711,
           2.3732480360007715,
           2.634077748896832,
           2.8949074617928936,
           3.155737174688955
          ],
          [
           -4.408324499296816,
           -4.147494786400754,
           -3.8866650735046937,
           -3.6258353606086327,
           -3.3650056477125716,
           -3.1041759348165106,
           -2.8433462219204495,
           -2.5825165090243885,
           -2.3216867961283274,
           -2.0608570832322664,
           -1.8000273703362053,
           -1.5391976574401443,
           -1.2783679445440832,
           -1.0175382316480222,
           -0.7567085187519611,
           -0.49587880585590005,
           -0.235049092959839,
           0.025780619936222493,
           0.2866103328322831,
           0.5474400457283437,
           0.8082697586244052,
           1.0690994715204667,
           1.3299291844165273,
           1.590758897312588,
           1.8515886102086494,
           2.112418323104711,
           2.3732480360007715,
           2.634077748896832,
           2.8949074617928936,
           3.155737174688955
          ],
          [
           -4.408324499296816,
           -4.147494786400754,
           -3.8866650735046937,
           -3.6258353606086327,
           -3.3650056477125716,
           -3.1041759348165106,
           -2.8433462219204495,
           -2.5825165090243885,
           -2.3216867961283274,
           -2.0608570832322664,
           -1.8000273703362053,
           -1.5391976574401443,
           -1.2783679445440832,
           -1.0175382316480222,
           -0.7567085187519611,
           -0.49587880585590005,
           -0.235049092959839,
           0.025780619936222493,
           0.2866103328322831,
           0.5474400457283437,
           0.8082697586244052,
           1.0690994715204667,
           1.3299291844165273,
           1.590758897312588,
           1.8515886102086494,
           2.112418323104711,
           2.3732480360007715,
           2.634077748896832,
           2.8949074617928936,
           3.155737174688955
          ],
          [
           -4.408324499296816,
           -4.147494786400754,
           -3.8866650735046937,
           -3.6258353606086327,
           -3.3650056477125716,
           -3.1041759348165106,
           -2.8433462219204495,
           -2.5825165090243885,
           -2.3216867961283274,
           -2.0608570832322664,
           -1.8000273703362053,
           -1.5391976574401443,
           -1.2783679445440832,
           -1.0175382316480222,
           -0.7567085187519611,
           -0.49587880585590005,
           -0.235049092959839,
           0.025780619936222493,
           0.2866103328322831,
           0.5474400457283437,
           0.8082697586244052,
           1.0690994715204667,
           1.3299291844165273,
           1.590758897312588,
           1.8515886102086494,
           2.112418323104711,
           2.3732480360007715,
           2.634077748896832,
           2.8949074617928936,
           3.155737174688955
          ],
          [
           -4.408324499296816,
           -4.147494786400754,
           -3.8866650735046937,
           -3.6258353606086327,
           -3.3650056477125716,
           -3.1041759348165106,
           -2.8433462219204495,
           -2.5825165090243885,
           -2.3216867961283274,
           -2.0608570832322664,
           -1.8000273703362053,
           -1.5391976574401443,
           -1.2783679445440832,
           -1.0175382316480222,
           -0.7567085187519611,
           -0.49587880585590005,
           -0.235049092959839,
           0.025780619936222493,
           0.2866103328322831,
           0.5474400457283437,
           0.8082697586244052,
           1.0690994715204667,
           1.3299291844165273,
           1.590758897312588,
           1.8515886102086494,
           2.112418323104711,
           2.3732480360007715,
           2.634077748896832,
           2.8949074617928936,
           3.155737174688955
          ],
          [
           -4.408324499296816,
           -4.147494786400754,
           -3.8866650735046937,
           -3.6258353606086327,
           -3.3650056477125716,
           -3.1041759348165106,
           -2.8433462219204495,
           -2.5825165090243885,
           -2.3216867961283274,
           -2.0608570832322664,
           -1.8000273703362053,
           -1.5391976574401443,
           -1.2783679445440832,
           -1.0175382316480222,
           -0.7567085187519611,
           -0.49587880585590005,
           -0.235049092959839,
           0.025780619936222493,
           0.2866103328322831,
           0.5474400457283437,
           0.8082697586244052,
           1.0690994715204667,
           1.3299291844165273,
           1.590758897312588,
           1.8515886102086494,
           2.112418323104711,
           2.3732480360007715,
           2.634077748896832,
           2.8949074617928936,
           3.155737174688955
          ],
          [
           -4.408324499296816,
           -4.147494786400754,
           -3.8866650735046937,
           -3.6258353606086327,
           -3.3650056477125716,
           -3.1041759348165106,
           -2.8433462219204495,
           -2.5825165090243885,
           -2.3216867961283274,
           -2.0608570832322664,
           -1.8000273703362053,
           -1.5391976574401443,
           -1.2783679445440832,
           -1.0175382316480222,
           -0.7567085187519611,
           -0.49587880585590005,
           -0.235049092959839,
           0.025780619936222493,
           0.2866103328322831,
           0.5474400457283437,
           0.8082697586244052,
           1.0690994715204667,
           1.3299291844165273,
           1.590758897312588,
           1.8515886102086494,
           2.112418323104711,
           2.3732480360007715,
           2.634077748896832,
           2.8949074617928936,
           3.155737174688955
          ],
          [
           -4.408324499296816,
           -4.147494786400754,
           -3.8866650735046937,
           -3.6258353606086327,
           -3.3650056477125716,
           -3.1041759348165106,
           -2.8433462219204495,
           -2.5825165090243885,
           -2.3216867961283274,
           -2.0608570832322664,
           -1.8000273703362053,
           -1.5391976574401443,
           -1.2783679445440832,
           -1.0175382316480222,
           -0.7567085187519611,
           -0.49587880585590005,
           -0.235049092959839,
           0.025780619936222493,
           0.2866103328322831,
           0.5474400457283437,
           0.8082697586244052,
           1.0690994715204667,
           1.3299291844165273,
           1.590758897312588,
           1.8515886102086494,
           2.112418323104711,
           2.3732480360007715,
           2.634077748896832,
           2.8949074617928936,
           3.155737174688955
          ],
          [
           -4.408324499296816,
           -4.147494786400754,
           -3.8866650735046937,
           -3.6258353606086327,
           -3.3650056477125716,
           -3.1041759348165106,
           -2.8433462219204495,
           -2.5825165090243885,
           -2.3216867961283274,
           -2.0608570832322664,
           -1.8000273703362053,
           -1.5391976574401443,
           -1.2783679445440832,
           -1.0175382316480222,
           -0.7567085187519611,
           -0.49587880585590005,
           -0.235049092959839,
           0.025780619936222493,
           0.2866103328322831,
           0.5474400457283437,
           0.8082697586244052,
           1.0690994715204667,
           1.3299291844165273,
           1.590758897312588,
           1.8515886102086494,
           2.112418323104711,
           2.3732480360007715,
           2.634077748896832,
           2.8949074617928936,
           3.155737174688955
          ],
          [
           -4.408324499296816,
           -4.147494786400754,
           -3.8866650735046937,
           -3.6258353606086327,
           -3.3650056477125716,
           -3.1041759348165106,
           -2.8433462219204495,
           -2.5825165090243885,
           -2.3216867961283274,
           -2.0608570832322664,
           -1.8000273703362053,
           -1.5391976574401443,
           -1.2783679445440832,
           -1.0175382316480222,
           -0.7567085187519611,
           -0.49587880585590005,
           -0.235049092959839,
           0.025780619936222493,
           0.2866103328322831,
           0.5474400457283437,
           0.8082697586244052,
           1.0690994715204667,
           1.3299291844165273,
           1.590758897312588,
           1.8515886102086494,
           2.112418323104711,
           2.3732480360007715,
           2.634077748896832,
           2.8949074617928936,
           3.155737174688955
          ],
          [
           -4.408324499296816,
           -4.147494786400754,
           -3.8866650735046937,
           -3.6258353606086327,
           -3.3650056477125716,
           -3.1041759348165106,
           -2.8433462219204495,
           -2.5825165090243885,
           -2.3216867961283274,
           -2.0608570832322664,
           -1.8000273703362053,
           -1.5391976574401443,
           -1.2783679445440832,
           -1.0175382316480222,
           -0.7567085187519611,
           -0.49587880585590005,
           -0.235049092959839,
           0.025780619936222493,
           0.2866103328322831,
           0.5474400457283437,
           0.8082697586244052,
           1.0690994715204667,
           1.3299291844165273,
           1.590758897312588,
           1.8515886102086494,
           2.112418323104711,
           2.3732480360007715,
           2.634077748896832,
           2.8949074617928936,
           3.155737174688955
          ],
          [
           -4.408324499296816,
           -4.147494786400754,
           -3.8866650735046937,
           -3.6258353606086327,
           -3.3650056477125716,
           -3.1041759348165106,
           -2.8433462219204495,
           -2.5825165090243885,
           -2.3216867961283274,
           -2.0608570832322664,
           -1.8000273703362053,
           -1.5391976574401443,
           -1.2783679445440832,
           -1.0175382316480222,
           -0.7567085187519611,
           -0.49587880585590005,
           -0.235049092959839,
           0.025780619936222493,
           0.2866103328322831,
           0.5474400457283437,
           0.8082697586244052,
           1.0690994715204667,
           1.3299291844165273,
           1.590758897312588,
           1.8515886102086494,
           2.112418323104711,
           2.3732480360007715,
           2.634077748896832,
           2.8949074617928936,
           3.155737174688955
          ],
          [
           -4.408324499296816,
           -4.147494786400754,
           -3.8866650735046937,
           -3.6258353606086327,
           -3.3650056477125716,
           -3.1041759348165106,
           -2.8433462219204495,
           -2.5825165090243885,
           -2.3216867961283274,
           -2.0608570832322664,
           -1.8000273703362053,
           -1.5391976574401443,
           -1.2783679445440832,
           -1.0175382316480222,
           -0.7567085187519611,
           -0.49587880585590005,
           -0.235049092959839,
           0.025780619936222493,
           0.2866103328322831,
           0.5474400457283437,
           0.8082697586244052,
           1.0690994715204667,
           1.3299291844165273,
           1.590758897312588,
           1.8515886102086494,
           2.112418323104711,
           2.3732480360007715,
           2.634077748896832,
           2.8949074617928936,
           3.155737174688955
          ],
          [
           -4.408324499296816,
           -4.147494786400754,
           -3.8866650735046937,
           -3.6258353606086327,
           -3.3650056477125716,
           -3.1041759348165106,
           -2.8433462219204495,
           -2.5825165090243885,
           -2.3216867961283274,
           -2.0608570832322664,
           -1.8000273703362053,
           -1.5391976574401443,
           -1.2783679445440832,
           -1.0175382316480222,
           -0.7567085187519611,
           -0.49587880585590005,
           -0.235049092959839,
           0.025780619936222493,
           0.2866103328322831,
           0.5474400457283437,
           0.8082697586244052,
           1.0690994715204667,
           1.3299291844165273,
           1.590758897312588,
           1.8515886102086494,
           2.112418323104711,
           2.3732480360007715,
           2.634077748896832,
           2.8949074617928936,
           3.155737174688955
          ],
          [
           -4.408324499296816,
           -4.147494786400754,
           -3.8866650735046937,
           -3.6258353606086327,
           -3.3650056477125716,
           -3.1041759348165106,
           -2.8433462219204495,
           -2.5825165090243885,
           -2.3216867961283274,
           -2.0608570832322664,
           -1.8000273703362053,
           -1.5391976574401443,
           -1.2783679445440832,
           -1.0175382316480222,
           -0.7567085187519611,
           -0.49587880585590005,
           -0.235049092959839,
           0.025780619936222493,
           0.2866103328322831,
           0.5474400457283437,
           0.8082697586244052,
           1.0690994715204667,
           1.3299291844165273,
           1.590758897312588,
           1.8515886102086494,
           2.112418323104711,
           2.3732480360007715,
           2.634077748896832,
           2.8949074617928936,
           3.155737174688955
          ],
          [
           -4.408324499296816,
           -4.147494786400754,
           -3.8866650735046937,
           -3.6258353606086327,
           -3.3650056477125716,
           -3.1041759348165106,
           -2.8433462219204495,
           -2.5825165090243885,
           -2.3216867961283274,
           -2.0608570832322664,
           -1.8000273703362053,
           -1.5391976574401443,
           -1.2783679445440832,
           -1.0175382316480222,
           -0.7567085187519611,
           -0.49587880585590005,
           -0.235049092959839,
           0.025780619936222493,
           0.2866103328322831,
           0.5474400457283437,
           0.8082697586244052,
           1.0690994715204667,
           1.3299291844165273,
           1.590758897312588,
           1.8515886102086494,
           2.112418323104711,
           2.3732480360007715,
           2.634077748896832,
           2.8949074617928936,
           3.155737174688955
          ],
          [
           -4.408324499296816,
           -4.147494786400754,
           -3.8866650735046937,
           -3.6258353606086327,
           -3.3650056477125716,
           -3.1041759348165106,
           -2.8433462219204495,
           -2.5825165090243885,
           -2.3216867961283274,
           -2.0608570832322664,
           -1.8000273703362053,
           -1.5391976574401443,
           -1.2783679445440832,
           -1.0175382316480222,
           -0.7567085187519611,
           -0.49587880585590005,
           -0.235049092959839,
           0.025780619936222493,
           0.2866103328322831,
           0.5474400457283437,
           0.8082697586244052,
           1.0690994715204667,
           1.3299291844165273,
           1.590758897312588,
           1.8515886102086494,
           2.112418323104711,
           2.3732480360007715,
           2.634077748896832,
           2.8949074617928936,
           3.155737174688955
          ],
          [
           -4.408324499296816,
           -4.147494786400754,
           -3.8866650735046937,
           -3.6258353606086327,
           -3.3650056477125716,
           -3.1041759348165106,
           -2.8433462219204495,
           -2.5825165090243885,
           -2.3216867961283274,
           -2.0608570832322664,
           -1.8000273703362053,
           -1.5391976574401443,
           -1.2783679445440832,
           -1.0175382316480222,
           -0.7567085187519611,
           -0.49587880585590005,
           -0.235049092959839,
           0.025780619936222493,
           0.2866103328322831,
           0.5474400457283437,
           0.8082697586244052,
           1.0690994715204667,
           1.3299291844165273,
           1.590758897312588,
           1.8515886102086494,
           2.112418323104711,
           2.3732480360007715,
           2.634077748896832,
           2.8949074617928936,
           3.155737174688955
          ],
          [
           -4.408324499296816,
           -4.147494786400754,
           -3.8866650735046937,
           -3.6258353606086327,
           -3.3650056477125716,
           -3.1041759348165106,
           -2.8433462219204495,
           -2.5825165090243885,
           -2.3216867961283274,
           -2.0608570832322664,
           -1.8000273703362053,
           -1.5391976574401443,
           -1.2783679445440832,
           -1.0175382316480222,
           -0.7567085187519611,
           -0.49587880585590005,
           -0.235049092959839,
           0.025780619936222493,
           0.2866103328322831,
           0.5474400457283437,
           0.8082697586244052,
           1.0690994715204667,
           1.3299291844165273,
           1.590758897312588,
           1.8515886102086494,
           2.112418323104711,
           2.3732480360007715,
           2.634077748896832,
           2.8949074617928936,
           3.155737174688955
          ],
          [
           -4.408324499296816,
           -4.147494786400754,
           -3.8866650735046937,
           -3.6258353606086327,
           -3.3650056477125716,
           -3.1041759348165106,
           -2.8433462219204495,
           -2.5825165090243885,
           -2.3216867961283274,
           -2.0608570832322664,
           -1.8000273703362053,
           -1.5391976574401443,
           -1.2783679445440832,
           -1.0175382316480222,
           -0.7567085187519611,
           -0.49587880585590005,
           -0.235049092959839,
           0.025780619936222493,
           0.2866103328322831,
           0.5474400457283437,
           0.8082697586244052,
           1.0690994715204667,
           1.3299291844165273,
           1.590758897312588,
           1.8515886102086494,
           2.112418323104711,
           2.3732480360007715,
           2.634077748896832,
           2.8949074617928936,
           3.155737174688955
          ],
          [
           -4.408324499296816,
           -4.147494786400754,
           -3.8866650735046937,
           -3.6258353606086327,
           -3.3650056477125716,
           -3.1041759348165106,
           -2.8433462219204495,
           -2.5825165090243885,
           -2.3216867961283274,
           -2.0608570832322664,
           -1.8000273703362053,
           -1.5391976574401443,
           -1.2783679445440832,
           -1.0175382316480222,
           -0.7567085187519611,
           -0.49587880585590005,
           -0.235049092959839,
           0.025780619936222493,
           0.2866103328322831,
           0.5474400457283437,
           0.8082697586244052,
           1.0690994715204667,
           1.3299291844165273,
           1.590758897312588,
           1.8515886102086494,
           2.112418323104711,
           2.3732480360007715,
           2.634077748896832,
           2.8949074617928936,
           3.155737174688955
          ],
          [
           -4.408324499296816,
           -4.147494786400754,
           -3.8866650735046937,
           -3.6258353606086327,
           -3.3650056477125716,
           -3.1041759348165106,
           -2.8433462219204495,
           -2.5825165090243885,
           -2.3216867961283274,
           -2.0608570832322664,
           -1.8000273703362053,
           -1.5391976574401443,
           -1.2783679445440832,
           -1.0175382316480222,
           -0.7567085187519611,
           -0.49587880585590005,
           -0.235049092959839,
           0.025780619936222493,
           0.2866103328322831,
           0.5474400457283437,
           0.8082697586244052,
           1.0690994715204667,
           1.3299291844165273,
           1.590758897312588,
           1.8515886102086494,
           2.112418323104711,
           2.3732480360007715,
           2.634077748896832,
           2.8949074617928936,
           3.155737174688955
          ],
          [
           -4.408324499296816,
           -4.147494786400754,
           -3.8866650735046937,
           -3.6258353606086327,
           -3.3650056477125716,
           -3.1041759348165106,
           -2.8433462219204495,
           -2.5825165090243885,
           -2.3216867961283274,
           -2.0608570832322664,
           -1.8000273703362053,
           -1.5391976574401443,
           -1.2783679445440832,
           -1.0175382316480222,
           -0.7567085187519611,
           -0.49587880585590005,
           -0.235049092959839,
           0.025780619936222493,
           0.2866103328322831,
           0.5474400457283437,
           0.8082697586244052,
           1.0690994715204667,
           1.3299291844165273,
           1.590758897312588,
           1.8515886102086494,
           2.112418323104711,
           2.3732480360007715,
           2.634077748896832,
           2.8949074617928936,
           3.155737174688955
          ],
          [
           -4.408324499296816,
           -4.147494786400754,
           -3.8866650735046937,
           -3.6258353606086327,
           -3.3650056477125716,
           -3.1041759348165106,
           -2.8433462219204495,
           -2.5825165090243885,
           -2.3216867961283274,
           -2.0608570832322664,
           -1.8000273703362053,
           -1.5391976574401443,
           -1.2783679445440832,
           -1.0175382316480222,
           -0.7567085187519611,
           -0.49587880585590005,
           -0.235049092959839,
           0.025780619936222493,
           0.2866103328322831,
           0.5474400457283437,
           0.8082697586244052,
           1.0690994715204667,
           1.3299291844165273,
           1.590758897312588,
           1.8515886102086494,
           2.112418323104711,
           2.3732480360007715,
           2.634077748896832,
           2.8949074617928936,
           3.155737174688955
          ],
          [
           -4.408324499296816,
           -4.147494786400754,
           -3.8866650735046937,
           -3.6258353606086327,
           -3.3650056477125716,
           -3.1041759348165106,
           -2.8433462219204495,
           -2.5825165090243885,
           -2.3216867961283274,
           -2.0608570832322664,
           -1.8000273703362053,
           -1.5391976574401443,
           -1.2783679445440832,
           -1.0175382316480222,
           -0.7567085187519611,
           -0.49587880585590005,
           -0.235049092959839,
           0.025780619936222493,
           0.2866103328322831,
           0.5474400457283437,
           0.8082697586244052,
           1.0690994715204667,
           1.3299291844165273,
           1.590758897312588,
           1.8515886102086494,
           2.112418323104711,
           2.3732480360007715,
           2.634077748896832,
           2.8949074617928936,
           3.155737174688955
          ],
          [
           -4.408324499296816,
           -4.147494786400754,
           -3.8866650735046937,
           -3.6258353606086327,
           -3.3650056477125716,
           -3.1041759348165106,
           -2.8433462219204495,
           -2.5825165090243885,
           -2.3216867961283274,
           -2.0608570832322664,
           -1.8000273703362053,
           -1.5391976574401443,
           -1.2783679445440832,
           -1.0175382316480222,
           -0.7567085187519611,
           -0.49587880585590005,
           -0.235049092959839,
           0.025780619936222493,
           0.2866103328322831,
           0.5474400457283437,
           0.8082697586244052,
           1.0690994715204667,
           1.3299291844165273,
           1.590758897312588,
           1.8515886102086494,
           2.112418323104711,
           2.3732480360007715,
           2.634077748896832,
           2.8949074617928936,
           3.155737174688955
          ],
          [
           -4.408324499296816,
           -4.147494786400754,
           -3.8866650735046937,
           -3.6258353606086327,
           -3.3650056477125716,
           -3.1041759348165106,
           -2.8433462219204495,
           -2.5825165090243885,
           -2.3216867961283274,
           -2.0608570832322664,
           -1.8000273703362053,
           -1.5391976574401443,
           -1.2783679445440832,
           -1.0175382316480222,
           -0.7567085187519611,
           -0.49587880585590005,
           -0.235049092959839,
           0.025780619936222493,
           0.2866103328322831,
           0.5474400457283437,
           0.8082697586244052,
           1.0690994715204667,
           1.3299291844165273,
           1.590758897312588,
           1.8515886102086494,
           2.112418323104711,
           2.3732480360007715,
           2.634077748896832,
           2.8949074617928936,
           3.155737174688955
          ]
         ],
         "y": [
          [
           -9.54368886567711,
           -9.54368886567711,
           -9.54368886567711,
           -9.54368886567711,
           -9.54368886567711,
           -9.54368886567711,
           -9.54368886567711,
           -9.54368886567711,
           -9.54368886567711,
           -9.54368886567711,
           -9.54368886567711,
           -9.54368886567711,
           -9.54368886567711,
           -9.54368886567711,
           -9.54368886567711,
           -9.54368886567711,
           -9.54368886567711,
           -9.54368886567711,
           -9.54368886567711,
           -9.54368886567711,
           -9.54368886567711,
           -9.54368886567711,
           -9.54368886567711,
           -9.54368886567711,
           -9.54368886567711,
           -9.54368886567711,
           -9.54368886567711,
           -9.54368886567711,
           -9.54368886567711,
           -9.54368886567711
          ],
          [
           -9.253674443295726,
           -9.253674443295726,
           -9.253674443295726,
           -9.253674443295726,
           -9.253674443295726,
           -9.253674443295726,
           -9.253674443295726,
           -9.253674443295726,
           -9.253674443295726,
           -9.253674443295726,
           -9.253674443295726,
           -9.253674443295726,
           -9.253674443295726,
           -9.253674443295726,
           -9.253674443295726,
           -9.253674443295726,
           -9.253674443295726,
           -9.253674443295726,
           -9.253674443295726,
           -9.253674443295726,
           -9.253674443295726,
           -9.253674443295726,
           -9.253674443295726,
           -9.253674443295726,
           -9.253674443295726,
           -9.253674443295726,
           -9.253674443295726,
           -9.253674443295726,
           -9.253674443295726,
           -9.253674443295726
          ],
          [
           -8.96366002091434,
           -8.96366002091434,
           -8.96366002091434,
           -8.96366002091434,
           -8.96366002091434,
           -8.96366002091434,
           -8.96366002091434,
           -8.96366002091434,
           -8.96366002091434,
           -8.96366002091434,
           -8.96366002091434,
           -8.96366002091434,
           -8.96366002091434,
           -8.96366002091434,
           -8.96366002091434,
           -8.96366002091434,
           -8.96366002091434,
           -8.96366002091434,
           -8.96366002091434,
           -8.96366002091434,
           -8.96366002091434,
           -8.96366002091434,
           -8.96366002091434,
           -8.96366002091434,
           -8.96366002091434,
           -8.96366002091434,
           -8.96366002091434,
           -8.96366002091434,
           -8.96366002091434,
           -8.96366002091434
          ],
          [
           -8.673645598532955,
           -8.673645598532955,
           -8.673645598532955,
           -8.673645598532955,
           -8.673645598532955,
           -8.673645598532955,
           -8.673645598532955,
           -8.673645598532955,
           -8.673645598532955,
           -8.673645598532955,
           -8.673645598532955,
           -8.673645598532955,
           -8.673645598532955,
           -8.673645598532955,
           -8.673645598532955,
           -8.673645598532955,
           -8.673645598532955,
           -8.673645598532955,
           -8.673645598532955,
           -8.673645598532955,
           -8.673645598532955,
           -8.673645598532955,
           -8.673645598532955,
           -8.673645598532955,
           -8.673645598532955,
           -8.673645598532955,
           -8.673645598532955,
           -8.673645598532955,
           -8.673645598532955,
           -8.673645598532955
          ],
          [
           -8.383631176151571,
           -8.383631176151571,
           -8.383631176151571,
           -8.383631176151571,
           -8.383631176151571,
           -8.383631176151571,
           -8.383631176151571,
           -8.383631176151571,
           -8.383631176151571,
           -8.383631176151571,
           -8.383631176151571,
           -8.383631176151571,
           -8.383631176151571,
           -8.383631176151571,
           -8.383631176151571,
           -8.383631176151571,
           -8.383631176151571,
           -8.383631176151571,
           -8.383631176151571,
           -8.383631176151571,
           -8.383631176151571,
           -8.383631176151571,
           -8.383631176151571,
           -8.383631176151571,
           -8.383631176151571,
           -8.383631176151571,
           -8.383631176151571,
           -8.383631176151571,
           -8.383631176151571,
           -8.383631176151571
          ],
          [
           -8.093616753770185,
           -8.093616753770185,
           -8.093616753770185,
           -8.093616753770185,
           -8.093616753770185,
           -8.093616753770185,
           -8.093616753770185,
           -8.093616753770185,
           -8.093616753770185,
           -8.093616753770185,
           -8.093616753770185,
           -8.093616753770185,
           -8.093616753770185,
           -8.093616753770185,
           -8.093616753770185,
           -8.093616753770185,
           -8.093616753770185,
           -8.093616753770185,
           -8.093616753770185,
           -8.093616753770185,
           -8.093616753770185,
           -8.093616753770185,
           -8.093616753770185,
           -8.093616753770185,
           -8.093616753770185,
           -8.093616753770185,
           -8.093616753770185,
           -8.093616753770185,
           -8.093616753770185,
           -8.093616753770185
          ],
          [
           -7.8036023313888006,
           -7.8036023313888006,
           -7.8036023313888006,
           -7.8036023313888006,
           -7.8036023313888006,
           -7.8036023313888006,
           -7.8036023313888006,
           -7.8036023313888006,
           -7.8036023313888006,
           -7.8036023313888006,
           -7.8036023313888006,
           -7.8036023313888006,
           -7.8036023313888006,
           -7.8036023313888006,
           -7.8036023313888006,
           -7.8036023313888006,
           -7.8036023313888006,
           -7.8036023313888006,
           -7.8036023313888006,
           -7.8036023313888006,
           -7.8036023313888006,
           -7.8036023313888006,
           -7.8036023313888006,
           -7.8036023313888006,
           -7.8036023313888006,
           -7.8036023313888006,
           -7.8036023313888006,
           -7.8036023313888006,
           -7.8036023313888006,
           -7.8036023313888006
          ],
          [
           -7.513587909007415,
           -7.513587909007415,
           -7.513587909007415,
           -7.513587909007415,
           -7.513587909007415,
           -7.513587909007415,
           -7.513587909007415,
           -7.513587909007415,
           -7.513587909007415,
           -7.513587909007415,
           -7.513587909007415,
           -7.513587909007415,
           -7.513587909007415,
           -7.513587909007415,
           -7.513587909007415,
           -7.513587909007415,
           -7.513587909007415,
           -7.513587909007415,
           -7.513587909007415,
           -7.513587909007415,
           -7.513587909007415,
           -7.513587909007415,
           -7.513587909007415,
           -7.513587909007415,
           -7.513587909007415,
           -7.513587909007415,
           -7.513587909007415,
           -7.513587909007415,
           -7.513587909007415,
           -7.513587909007415
          ],
          [
           -7.22357348662603,
           -7.22357348662603,
           -7.22357348662603,
           -7.22357348662603,
           -7.22357348662603,
           -7.22357348662603,
           -7.22357348662603,
           -7.22357348662603,
           -7.22357348662603,
           -7.22357348662603,
           -7.22357348662603,
           -7.22357348662603,
           -7.22357348662603,
           -7.22357348662603,
           -7.22357348662603,
           -7.22357348662603,
           -7.22357348662603,
           -7.22357348662603,
           -7.22357348662603,
           -7.22357348662603,
           -7.22357348662603,
           -7.22357348662603,
           -7.22357348662603,
           -7.22357348662603,
           -7.22357348662603,
           -7.22357348662603,
           -7.22357348662603,
           -7.22357348662603,
           -7.22357348662603,
           -7.22357348662603
          ],
          [
           -6.933559064244645,
           -6.933559064244645,
           -6.933559064244645,
           -6.933559064244645,
           -6.933559064244645,
           -6.933559064244645,
           -6.933559064244645,
           -6.933559064244645,
           -6.933559064244645,
           -6.933559064244645,
           -6.933559064244645,
           -6.933559064244645,
           -6.933559064244645,
           -6.933559064244645,
           -6.933559064244645,
           -6.933559064244645,
           -6.933559064244645,
           -6.933559064244645,
           -6.933559064244645,
           -6.933559064244645,
           -6.933559064244645,
           -6.933559064244645,
           -6.933559064244645,
           -6.933559064244645,
           -6.933559064244645,
           -6.933559064244645,
           -6.933559064244645,
           -6.933559064244645,
           -6.933559064244645,
           -6.933559064244645
          ],
          [
           -6.64354464186326,
           -6.64354464186326,
           -6.64354464186326,
           -6.64354464186326,
           -6.64354464186326,
           -6.64354464186326,
           -6.64354464186326,
           -6.64354464186326,
           -6.64354464186326,
           -6.64354464186326,
           -6.64354464186326,
           -6.64354464186326,
           -6.64354464186326,
           -6.64354464186326,
           -6.64354464186326,
           -6.64354464186326,
           -6.64354464186326,
           -6.64354464186326,
           -6.64354464186326,
           -6.64354464186326,
           -6.64354464186326,
           -6.64354464186326,
           -6.64354464186326,
           -6.64354464186326,
           -6.64354464186326,
           -6.64354464186326,
           -6.64354464186326,
           -6.64354464186326,
           -6.64354464186326,
           -6.64354464186326
          ],
          [
           -6.3535302194818755,
           -6.3535302194818755,
           -6.3535302194818755,
           -6.3535302194818755,
           -6.3535302194818755,
           -6.3535302194818755,
           -6.3535302194818755,
           -6.3535302194818755,
           -6.3535302194818755,
           -6.3535302194818755,
           -6.3535302194818755,
           -6.3535302194818755,
           -6.3535302194818755,
           -6.3535302194818755,
           -6.3535302194818755,
           -6.3535302194818755,
           -6.3535302194818755,
           -6.3535302194818755,
           -6.3535302194818755,
           -6.3535302194818755,
           -6.3535302194818755,
           -6.3535302194818755,
           -6.3535302194818755,
           -6.3535302194818755,
           -6.3535302194818755,
           -6.3535302194818755,
           -6.3535302194818755,
           -6.3535302194818755,
           -6.3535302194818755,
           -6.3535302194818755
          ],
          [
           -6.06351579710049,
           -6.06351579710049,
           -6.06351579710049,
           -6.06351579710049,
           -6.06351579710049,
           -6.06351579710049,
           -6.06351579710049,
           -6.06351579710049,
           -6.06351579710049,
           -6.06351579710049,
           -6.06351579710049,
           -6.06351579710049,
           -6.06351579710049,
           -6.06351579710049,
           -6.06351579710049,
           -6.06351579710049,
           -6.06351579710049,
           -6.06351579710049,
           -6.06351579710049,
           -6.06351579710049,
           -6.06351579710049,
           -6.06351579710049,
           -6.06351579710049,
           -6.06351579710049,
           -6.06351579710049,
           -6.06351579710049,
           -6.06351579710049,
           -6.06351579710049,
           -6.06351579710049,
           -6.06351579710049
          ],
          [
           -5.773501374719105,
           -5.773501374719105,
           -5.773501374719105,
           -5.773501374719105,
           -5.773501374719105,
           -5.773501374719105,
           -5.773501374719105,
           -5.773501374719105,
           -5.773501374719105,
           -5.773501374719105,
           -5.773501374719105,
           -5.773501374719105,
           -5.773501374719105,
           -5.773501374719105,
           -5.773501374719105,
           -5.773501374719105,
           -5.773501374719105,
           -5.773501374719105,
           -5.773501374719105,
           -5.773501374719105,
           -5.773501374719105,
           -5.773501374719105,
           -5.773501374719105,
           -5.773501374719105,
           -5.773501374719105,
           -5.773501374719105,
           -5.773501374719105,
           -5.773501374719105,
           -5.773501374719105,
           -5.773501374719105
          ],
          [
           -5.483486952337721,
           -5.483486952337721,
           -5.483486952337721,
           -5.483486952337721,
           -5.483486952337721,
           -5.483486952337721,
           -5.483486952337721,
           -5.483486952337721,
           -5.483486952337721,
           -5.483486952337721,
           -5.483486952337721,
           -5.483486952337721,
           -5.483486952337721,
           -5.483486952337721,
           -5.483486952337721,
           -5.483486952337721,
           -5.483486952337721,
           -5.483486952337721,
           -5.483486952337721,
           -5.483486952337721,
           -5.483486952337721,
           -5.483486952337721,
           -5.483486952337721,
           -5.483486952337721,
           -5.483486952337721,
           -5.483486952337721,
           -5.483486952337721,
           -5.483486952337721,
           -5.483486952337721,
           -5.483486952337721
          ],
          [
           -5.193472529956336,
           -5.193472529956336,
           -5.193472529956336,
           -5.193472529956336,
           -5.193472529956336,
           -5.193472529956336,
           -5.193472529956336,
           -5.193472529956336,
           -5.193472529956336,
           -5.193472529956336,
           -5.193472529956336,
           -5.193472529956336,
           -5.193472529956336,
           -5.193472529956336,
           -5.193472529956336,
           -5.193472529956336,
           -5.193472529956336,
           -5.193472529956336,
           -5.193472529956336,
           -5.193472529956336,
           -5.193472529956336,
           -5.193472529956336,
           -5.193472529956336,
           -5.193472529956336,
           -5.193472529956336,
           -5.193472529956336,
           -5.193472529956336,
           -5.193472529956336,
           -5.193472529956336,
           -5.193472529956336
          ],
          [
           -4.90345810757495,
           -4.90345810757495,
           -4.90345810757495,
           -4.90345810757495,
           -4.90345810757495,
           -4.90345810757495,
           -4.90345810757495,
           -4.90345810757495,
           -4.90345810757495,
           -4.90345810757495,
           -4.90345810757495,
           -4.90345810757495,
           -4.90345810757495,
           -4.90345810757495,
           -4.90345810757495,
           -4.90345810757495,
           -4.90345810757495,
           -4.90345810757495,
           -4.90345810757495,
           -4.90345810757495,
           -4.90345810757495,
           -4.90345810757495,
           -4.90345810757495,
           -4.90345810757495,
           -4.90345810757495,
           -4.90345810757495,
           -4.90345810757495,
           -4.90345810757495,
           -4.90345810757495,
           -4.90345810757495
          ],
          [
           -4.613443685193565,
           -4.613443685193565,
           -4.613443685193565,
           -4.613443685193565,
           -4.613443685193565,
           -4.613443685193565,
           -4.613443685193565,
           -4.613443685193565,
           -4.613443685193565,
           -4.613443685193565,
           -4.613443685193565,
           -4.613443685193565,
           -4.613443685193565,
           -4.613443685193565,
           -4.613443685193565,
           -4.613443685193565,
           -4.613443685193565,
           -4.613443685193565,
           -4.613443685193565,
           -4.613443685193565,
           -4.613443685193565,
           -4.613443685193565,
           -4.613443685193565,
           -4.613443685193565,
           -4.613443685193565,
           -4.613443685193565,
           -4.613443685193565,
           -4.613443685193565,
           -4.613443685193565,
           -4.613443685193565
          ],
          [
           -4.32342926281218,
           -4.32342926281218,
           -4.32342926281218,
           -4.32342926281218,
           -4.32342926281218,
           -4.32342926281218,
           -4.32342926281218,
           -4.32342926281218,
           -4.32342926281218,
           -4.32342926281218,
           -4.32342926281218,
           -4.32342926281218,
           -4.32342926281218,
           -4.32342926281218,
           -4.32342926281218,
           -4.32342926281218,
           -4.32342926281218,
           -4.32342926281218,
           -4.32342926281218,
           -4.32342926281218,
           -4.32342926281218,
           -4.32342926281218,
           -4.32342926281218,
           -4.32342926281218,
           -4.32342926281218,
           -4.32342926281218,
           -4.32342926281218,
           -4.32342926281218,
           -4.32342926281218,
           -4.32342926281218
          ],
          [
           -4.033414840430796,
           -4.033414840430796,
           -4.033414840430796,
           -4.033414840430796,
           -4.033414840430796,
           -4.033414840430796,
           -4.033414840430796,
           -4.033414840430796,
           -4.033414840430796,
           -4.033414840430796,
           -4.033414840430796,
           -4.033414840430796,
           -4.033414840430796,
           -4.033414840430796,
           -4.033414840430796,
           -4.033414840430796,
           -4.033414840430796,
           -4.033414840430796,
           -4.033414840430796,
           -4.033414840430796,
           -4.033414840430796,
           -4.033414840430796,
           -4.033414840430796,
           -4.033414840430796,
           -4.033414840430796,
           -4.033414840430796,
           -4.033414840430796,
           -4.033414840430796,
           -4.033414840430796,
           -4.033414840430796
          ],
          [
           -3.7434004180494105,
           -3.7434004180494105,
           -3.7434004180494105,
           -3.7434004180494105,
           -3.7434004180494105,
           -3.7434004180494105,
           -3.7434004180494105,
           -3.7434004180494105,
           -3.7434004180494105,
           -3.7434004180494105,
           -3.7434004180494105,
           -3.7434004180494105,
           -3.7434004180494105,
           -3.7434004180494105,
           -3.7434004180494105,
           -3.7434004180494105,
           -3.7434004180494105,
           -3.7434004180494105,
           -3.7434004180494105,
           -3.7434004180494105,
           -3.7434004180494105,
           -3.7434004180494105,
           -3.7434004180494105,
           -3.7434004180494105,
           -3.7434004180494105,
           -3.7434004180494105,
           -3.7434004180494105,
           -3.7434004180494105,
           -3.7434004180494105,
           -3.7434004180494105
          ],
          [
           -3.4533859956680253,
           -3.4533859956680253,
           -3.4533859956680253,
           -3.4533859956680253,
           -3.4533859956680253,
           -3.4533859956680253,
           -3.4533859956680253,
           -3.4533859956680253,
           -3.4533859956680253,
           -3.4533859956680253,
           -3.4533859956680253,
           -3.4533859956680253,
           -3.4533859956680253,
           -3.4533859956680253,
           -3.4533859956680253,
           -3.4533859956680253,
           -3.4533859956680253,
           -3.4533859956680253,
           -3.4533859956680253,
           -3.4533859956680253,
           -3.4533859956680253,
           -3.4533859956680253,
           -3.4533859956680253,
           -3.4533859956680253,
           -3.4533859956680253,
           -3.4533859956680253,
           -3.4533859956680253,
           -3.4533859956680253,
           -3.4533859956680253,
           -3.4533859956680253
          ],
          [
           -3.163371573286641,
           -3.163371573286641,
           -3.163371573286641,
           -3.163371573286641,
           -3.163371573286641,
           -3.163371573286641,
           -3.163371573286641,
           -3.163371573286641,
           -3.163371573286641,
           -3.163371573286641,
           -3.163371573286641,
           -3.163371573286641,
           -3.163371573286641,
           -3.163371573286641,
           -3.163371573286641,
           -3.163371573286641,
           -3.163371573286641,
           -3.163371573286641,
           -3.163371573286641,
           -3.163371573286641,
           -3.163371573286641,
           -3.163371573286641,
           -3.163371573286641,
           -3.163371573286641,
           -3.163371573286641,
           -3.163371573286641,
           -3.163371573286641,
           -3.163371573286641,
           -3.163371573286641,
           -3.163371573286641
          ],
          [
           -2.873357150905256,
           -2.873357150905256,
           -2.873357150905256,
           -2.873357150905256,
           -2.873357150905256,
           -2.873357150905256,
           -2.873357150905256,
           -2.873357150905256,
           -2.873357150905256,
           -2.873357150905256,
           -2.873357150905256,
           -2.873357150905256,
           -2.873357150905256,
           -2.873357150905256,
           -2.873357150905256,
           -2.873357150905256,
           -2.873357150905256,
           -2.873357150905256,
           -2.873357150905256,
           -2.873357150905256,
           -2.873357150905256,
           -2.873357150905256,
           -2.873357150905256,
           -2.873357150905256,
           -2.873357150905256,
           -2.873357150905256,
           -2.873357150905256,
           -2.873357150905256,
           -2.873357150905256,
           -2.873357150905256
          ],
          [
           -2.5833427285238706,
           -2.5833427285238706,
           -2.5833427285238706,
           -2.5833427285238706,
           -2.5833427285238706,
           -2.5833427285238706,
           -2.5833427285238706,
           -2.5833427285238706,
           -2.5833427285238706,
           -2.5833427285238706,
           -2.5833427285238706,
           -2.5833427285238706,
           -2.5833427285238706,
           -2.5833427285238706,
           -2.5833427285238706,
           -2.5833427285238706,
           -2.5833427285238706,
           -2.5833427285238706,
           -2.5833427285238706,
           -2.5833427285238706,
           -2.5833427285238706,
           -2.5833427285238706,
           -2.5833427285238706,
           -2.5833427285238706,
           -2.5833427285238706,
           -2.5833427285238706,
           -2.5833427285238706,
           -2.5833427285238706,
           -2.5833427285238706,
           -2.5833427285238706
          ],
          [
           -2.2933283061424854,
           -2.2933283061424854,
           -2.2933283061424854,
           -2.2933283061424854,
           -2.2933283061424854,
           -2.2933283061424854,
           -2.2933283061424854,
           -2.2933283061424854,
           -2.2933283061424854,
           -2.2933283061424854,
           -2.2933283061424854,
           -2.2933283061424854,
           -2.2933283061424854,
           -2.2933283061424854,
           -2.2933283061424854,
           -2.2933283061424854,
           -2.2933283061424854,
           -2.2933283061424854,
           -2.2933283061424854,
           -2.2933283061424854,
           -2.2933283061424854,
           -2.2933283061424854,
           -2.2933283061424854,
           -2.2933283061424854,
           -2.2933283061424854,
           -2.2933283061424854,
           -2.2933283061424854,
           -2.2933283061424854,
           -2.2933283061424854,
           -2.2933283061424854
          ],
          [
           -2.0033138837611,
           -2.0033138837611,
           -2.0033138837611,
           -2.0033138837611,
           -2.0033138837611,
           -2.0033138837611,
           -2.0033138837611,
           -2.0033138837611,
           -2.0033138837611,
           -2.0033138837611,
           -2.0033138837611,
           -2.0033138837611,
           -2.0033138837611,
           -2.0033138837611,
           -2.0033138837611,
           -2.0033138837611,
           -2.0033138837611,
           -2.0033138837611,
           -2.0033138837611,
           -2.0033138837611,
           -2.0033138837611,
           -2.0033138837611,
           -2.0033138837611,
           -2.0033138837611,
           -2.0033138837611,
           -2.0033138837611,
           -2.0033138837611,
           -2.0033138837611,
           -2.0033138837611,
           -2.0033138837611
          ],
          [
           -1.713299461379716,
           -1.713299461379716,
           -1.713299461379716,
           -1.713299461379716,
           -1.713299461379716,
           -1.713299461379716,
           -1.713299461379716,
           -1.713299461379716,
           -1.713299461379716,
           -1.713299461379716,
           -1.713299461379716,
           -1.713299461379716,
           -1.713299461379716,
           -1.713299461379716,
           -1.713299461379716,
           -1.713299461379716,
           -1.713299461379716,
           -1.713299461379716,
           -1.713299461379716,
           -1.713299461379716,
           -1.713299461379716,
           -1.713299461379716,
           -1.713299461379716,
           -1.713299461379716,
           -1.713299461379716,
           -1.713299461379716,
           -1.713299461379716,
           -1.713299461379716,
           -1.713299461379716,
           -1.713299461379716
          ],
          [
           -1.4232850389983316,
           -1.4232850389983316,
           -1.4232850389983316,
           -1.4232850389983316,
           -1.4232850389983316,
           -1.4232850389983316,
           -1.4232850389983316,
           -1.4232850389983316,
           -1.4232850389983316,
           -1.4232850389983316,
           -1.4232850389983316,
           -1.4232850389983316,
           -1.4232850389983316,
           -1.4232850389983316,
           -1.4232850389983316,
           -1.4232850389983316,
           -1.4232850389983316,
           -1.4232850389983316,
           -1.4232850389983316,
           -1.4232850389983316,
           -1.4232850389983316,
           -1.4232850389983316,
           -1.4232850389983316,
           -1.4232850389983316,
           -1.4232850389983316,
           -1.4232850389983316,
           -1.4232850389983316,
           -1.4232850389983316,
           -1.4232850389983316,
           -1.4232850389983316
          ],
          [
           -1.1332706166169453,
           -1.1332706166169453,
           -1.1332706166169453,
           -1.1332706166169453,
           -1.1332706166169453,
           -1.1332706166169453,
           -1.1332706166169453,
           -1.1332706166169453,
           -1.1332706166169453,
           -1.1332706166169453,
           -1.1332706166169453,
           -1.1332706166169453,
           -1.1332706166169453,
           -1.1332706166169453,
           -1.1332706166169453,
           -1.1332706166169453,
           -1.1332706166169453,
           -1.1332706166169453,
           -1.1332706166169453,
           -1.1332706166169453,
           -1.1332706166169453,
           -1.1332706166169453,
           -1.1332706166169453,
           -1.1332706166169453,
           -1.1332706166169453,
           -1.1332706166169453,
           -1.1332706166169453,
           -1.1332706166169453,
           -1.1332706166169453,
           -1.1332706166169453
          ]
         ],
         "z": [
          [
           -3.4790414909764182,
           -3.5331255215971473,
           -3.587209552217876,
           -3.6412935828386046,
           -3.695377613459334,
           -3.7494616440800628,
           -3.803545674700792,
           -3.8576297053215205,
           -3.911713735942249,
           -3.965797766562978,
           -4.019881797183706,
           -4.073965827804436,
           -4.1280498584251655,
           -4.182133889045894,
           -4.236217919666623,
           -4.290301950287351,
           -4.34438598090808,
           -4.398470011528809,
           -4.452554042149537,
           -4.506638072770267,
           -4.560722103390996,
           -4.614806134011725,
           -4.668890164632454,
           -4.722974195253182,
           -4.777058225873911,
           -4.83114225649464,
           -4.885226287115368,
           -4.939310317736098,
           -4.993394348356827,
           -5.047478378977556
          ],
          [
           -3.3252490405885617,
           -3.379333071209291,
           -3.4334171018300195,
           -3.487501132450748,
           -3.541585163071477,
           -3.5956691936922063,
           -3.6497532243129354,
           -3.703837254933664,
           -3.7579212855543926,
           -3.8120053161751217,
           -3.8660893467958504,
           -3.92017337741658,
           -3.9742574080373085,
           -4.028341438658037,
           -4.082425469278766,
           -4.136509499899495,
           -4.190593530520224,
           -4.244677561140953,
           -4.298761591761681,
           -4.35284562238241,
           -4.406929653003139,
           -4.461013683623868,
           -4.515097714244597,
           -4.569181744865326,
           -4.623265775486055,
           -4.677349806106784,
           -4.731433836727512,
           -4.785517867348241,
           -4.83960189796897,
           -4.893685928589699
          ],
          [
           -3.1714565902007053,
           -3.2255406208214343,
           -3.279624651442163,
           -3.3337086820628916,
           -3.387792712683621,
           -3.4418767433043502,
           -3.495960773925079,
           -3.5500448045458075,
           -3.604128835166536,
           -3.6582128657872652,
           -3.712296896407994,
           -3.7663809270287225,
           -3.820464957649452,
           -3.874548988270181,
           -3.9286330188909098,
           -3.9827170495116384,
           -4.036801080132367,
           -4.090885110753096,
           -4.144969141373825,
           -4.199053171994554,
           -4.253137202615283,
           -4.307221233236012,
           -4.361305263856741,
           -4.415389294477469,
           -4.469473325098198,
           -4.523557355718927,
           -4.577641386339656,
           -4.631725416960385,
           -4.685809447581114,
           -4.739893478201843
          ],
          [
           -3.0176641398128488,
           -3.071748170433578,
           -3.1258322010543065,
           -3.179916231675035,
           -3.234000262295764,
           -3.2880842929164937,
           -3.3421683235372224,
           -3.396252354157951,
           -3.4503363847786797,
           -3.5044204153994087,
           -3.5585044460201374,
           -3.612588476640867,
           -3.6666725072615955,
           -3.7207565378823246,
           -3.7748405685030533,
           -3.828924599123782,
           -3.8830086297445106,
           -3.9370926603652396,
           -3.9911766909859683,
           -4.045260721606697,
           -4.0993447522274264,
           -4.153428782848155,
           -4.207512813468884,
           -4.261596844089613,
           -4.315680874710342,
           -4.369764905331071,
           -4.423848935951799,
           -4.477932966572528,
           -4.532016997193257,
           -4.586101027813986
          ],
          [
           -2.863871689424993,
           -2.917955720045722,
           -2.972039750666451,
           -3.02612378128718,
           -3.0802078119079086,
           -3.1342918425286377,
           -3.1883758731493663,
           -3.2424599037700954,
           -3.296543934390824,
           -3.3506279650115527,
           -3.4047119956322818,
           -3.4587960262530113,
           -3.51288005687374,
           -3.5669640874944686,
           -3.6210481181151972,
           -3.6751321487359263,
           -3.729216179356655,
           -3.7833002099773836,
           -3.8373842405981127,
           -3.8914682712188413,
           -3.945552301839571,
           -3.9996363324602995,
           -4.053720363081029,
           -4.107804393701757,
           -4.161888424322486,
           -4.215972454943215,
           -4.270056485563943,
           -4.324140516184673,
           -4.378224546805401,
           -4.432308577426131
          ],
          [
           -2.710079239037136,
           -2.764163269657865,
           -2.8182473002785935,
           -2.8723313308993226,
           -2.9264153615200517,
           -2.9804993921407807,
           -3.0345834227615094,
           -3.088667453382238,
           -3.142751484002967,
           -3.1968355146236958,
           -3.2509195452444244,
           -3.305003575865154,
           -3.3590876064858826,
           -3.4131716371066116,
           -3.4672556677273403,
           -3.521339698348069,
           -3.575423728968798,
           -3.6295077595895266,
           -3.6835917902102553,
           -3.737675820830984,
           -3.7917598514517135,
           -3.8458438820724425,
           -3.899927912693171,
           -3.9540119433139,
           -4.008095973934629,
           -4.062180004555358,
           -4.116264035176086,
           -4.170348065796815,
           -4.224432096417544,
           -4.278516127038273
          ],
          [
           -2.5562867886492797,
           -2.6103708192700084,
           -2.664454849890737,
           -2.718538880511466,
           -2.772622911132195,
           -2.8267069417529243,
           -2.880790972373653,
           -2.9348750029943815,
           -2.9889590336151106,
           -3.0430430642358393,
           -3.0971270948565683,
           -3.151211125477297,
           -3.205295156098026,
           -3.259379186718755,
           -3.313463217339484,
           -3.3675472479602124,
           -3.4216312785809415,
           -3.47571530920167,
           -3.529799339822399,
           -3.583883370443128,
           -3.637967401063857,
           -3.692051431684586,
           -3.7461354623053147,
           -3.8002194929260433,
           -3.8543035235467724,
           -3.908387554167501,
           -3.9624715847882297,
           -4.016555615408959,
           -4.070639646029688,
           -4.124723676650417
          ],
          [
           -2.4024943382614232,
           -2.456578368882152,
           -2.5106623995028805,
           -2.5647464301236096,
           -2.6188304607443387,
           -2.6729144913650678,
           -2.7269985219857964,
           -2.781082552606525,
           -2.835166583227254,
           -2.8892506138479828,
           -2.943334644468712,
           -2.9974186750894405,
           -3.0515027057101696,
           -3.1055867363308987,
           -3.1596707669516273,
           -3.213754797572356,
           -3.267838828193085,
           -3.3219228588138137,
           -3.3760068894345423,
           -3.4300909200552714,
           -3.4841749506760005,
           -3.5382589812967296,
           -3.592343011917458,
           -3.646427042538187,
           -3.700511073158916,
           -3.7545951037796454,
           -3.808679134400373,
           -3.8627631650211023,
           -3.9168471956418314,
           -3.9709312262625605
          ],
          [
           -2.2487018878735667,
           -2.3027859184942954,
           -2.356869949115024,
           -2.410953979735753,
           -2.465038010356482,
           -2.5191220409772113,
           -2.57320607159794,
           -2.6272901022186685,
           -2.6813741328393976,
           -2.7354581634601263,
           -2.7895421940808554,
           -2.843626224701584,
           -2.897710255322313,
           -2.951794285943042,
           -3.005878316563771,
           -3.0599623471844994,
           -3.1140463778052285,
           -3.168130408425957,
           -3.222214439046686,
           -3.276298469667415,
           -3.330382500288144,
           -3.384466530908873,
           -3.4385505615296017,
           -3.4926345921503303,
           -3.5467186227710594,
           -3.600802653391788,
           -3.6548866840125167,
           -3.708970714633246,
           -3.7630547452539753,
           -3.817138775874704
          ],
          [
           -2.0949094374857102,
           -2.1489934681064398,
           -2.2030774987271684,
           -2.257161529347897,
           -2.311245559968626,
           -2.3653295905893548,
           -2.419413621210084,
           -2.4734976518308125,
           -2.5275816824515416,
           -2.5816657130722707,
           -2.6357497436929993,
           -2.689833774313728,
           -2.743917804934457,
           -2.7980018355551857,
           -2.8520858661759148,
           -2.9061698967966434,
           -2.9602539274173725,
           -3.0143379580381016,
           -3.06842198865883,
           -3.122506019279559,
           -3.176590049900288,
           -3.2306740805210166,
           -3.284758111141745,
           -3.338842141762474,
           -3.3929261723832034,
           -3.4470102030039325,
           -3.501094233624661,
           -3.5551782642453897,
           -3.609262294866119,
           -3.6633463254868475
          ],
          [
           -1.941116987097854,
           -1.995201017718583,
           -2.049285048339312,
           -2.1033690789600406,
           -2.1574531095807696,
           -2.2115371402014983,
           -2.2656211708222274,
           -2.319705201442956,
           -2.373789232063685,
           -2.427873262684414,
           -2.481957293305143,
           -2.5360413239258714,
           -2.5901253545466005,
           -2.644209385167329,
           -2.6982934157880583,
           -2.752377446408787,
           -2.806461477029516,
           -2.860545507650245,
           -2.9146295382709737,
           -2.9687135688917023,
           -3.0227975995124314,
           -3.0768816301331605,
           -3.130965660753889,
           -3.1850496913746174,
           -3.239133721995347,
           -3.293217752616076,
           -3.3473017832368046,
           -3.4013858138575332,
           -3.4554698444782623,
           -3.5095538750989914
          ],
          [
           -1.7873245367099975,
           -1.8414085673307266,
           -1.8954925979514554,
           -1.9495766285721843,
           -2.003660659192913,
           -2.057744689813642,
           -2.111828720434371,
           -2.1659127510550995,
           -2.2199967816758286,
           -2.2740808122965577,
           -2.3281648429172863,
           -2.382248873538015,
           -2.436332904158744,
           -2.4904169347794727,
           -2.5445009654002018,
           -2.5985849960209304,
           -2.6526690266416595,
           -2.7067530572623886,
           -2.760837087883117,
           -2.814921118503846,
           -2.869005149124575,
           -2.923089179745304,
           -2.9771732103660327,
           -3.0312572409867613,
           -3.0853412716074904,
           -3.1394253022282195,
           -3.193509332848948,
           -3.2475933634696768,
           -3.301677394090406,
           -3.3557614247111345
          ],
          [
           -1.633532086322141,
           -1.68761611694287,
           -1.741700147563599,
           -1.7957841781843278,
           -1.8498682088050564,
           -1.9039522394257853,
           -1.9580362700465144,
           -2.012120300667243,
           -2.066204331287972,
           -2.120288361908701,
           -2.17437239252943,
           -2.2284564231501585,
           -2.2825404537708875,
           -2.336624484391616,
           -2.3907085150123453,
           -2.444792545633074,
           -2.498876576253803,
           -2.552960606874532,
           -2.6070446374952607,
           -2.6611286681159894,
           -2.7152126987367184,
           -2.7692967293574475,
           -2.823380759978176,
           -2.877464790598905,
           -2.931548821219634,
           -2.985632851840363,
           -3.0397168824610916,
           -3.0938009130818203,
           -3.1478849437025493,
           -3.201968974323279
          ],
          [
           -1.4797396359342845,
           -1.5338236665550136,
           -1.5879076971757424,
           -1.6419917277964713,
           -1.6960757584172,
           -1.7501597890379288,
           -1.8042438196586579,
           -1.8583278502793867,
           -1.9124118809001154,
           -1.9664959115208447,
           -2.0205799421415733,
           -2.074663972762302,
           -2.128748003383031,
           -2.1828320340037597,
           -2.2369160646244888,
           -2.2910000952452174,
           -2.3450841258659465,
           -2.3991681564866756,
           -2.4532521871074042,
           -2.507336217728133,
           -2.561420248348862,
           -2.615504278969591,
           -2.6695883095903197,
           -2.7236723402110483,
           -2.7777563708317774,
           -2.8318404014525065,
           -2.885924432073235,
           -2.9400084626939638,
           -2.994092493314693,
           -3.048176523935422
          ],
          [
           -1.3259471855464284,
           -1.3800312161671573,
           -1.4341152467878862,
           -1.488199277408615,
           -1.5422833080293439,
           -1.596367338650073,
           -1.6504513692708018,
           -1.7045353998915305,
           -1.7586194305122593,
           -1.8127034611329882,
           -1.8667874917537173,
           -1.920871522374446,
           -1.9749555529951748,
           -2.029039583615904,
           -2.0831236142366327,
           -2.1372076448573614,
           -2.1912916754780905,
           -2.2453757060988195,
           -2.299459736719548,
           -2.353543767340277,
           -2.407627797961006,
           -2.461711828581735,
           -2.5157958592024636,
           -2.5698798898231923,
           -2.6239639204439213,
           -2.6780479510646504,
           -2.732131981685379,
           -2.7862160123061077,
           -2.840300042926837,
           -2.894384073547566
          ],
          [
           -1.172154735158572,
           -1.2262387657793008,
           -1.2803227964000297,
           -1.3344068270207585,
           -1.3884908576414874,
           -1.4425748882622162,
           -1.4966589188829453,
           -1.550742949503674,
           -1.6048269801244028,
           -1.6589110107451317,
           -1.7129950413658608,
           -1.7670790719865894,
           -1.8211631026073183,
           -1.8752471332280474,
           -1.9293311638487762,
           -1.983415194469505,
           -2.037499225090234,
           -2.091583255710963,
           -2.1456672863316917,
           -2.1997513169524203,
           -2.2538353475731494,
           -2.3079193781938785,
           -2.362003408814607,
           -2.4160874394353358,
           -2.470171470056065,
           -2.524255500676794,
           -2.5783395312975226,
           -2.632423561918251,
           -2.6865075925389803,
           -2.7405916231597094
          ],
          [
           -1.0183622847707154,
           -1.0724463153914445,
           -1.1265303460121732,
           -1.1806143766329023,
           -1.234698407253631,
           -1.28878243787436,
           -1.3428664684950888,
           -1.3969504991158177,
           -1.4510345297365463,
           -1.5051185603572754,
           -1.559202590978004,
           -1.6132866215987332,
           -1.6673706522194618,
           -1.7214546828401909,
           -1.7755387134609197,
           -1.8296227440816486,
           -1.8837067747023772,
           -1.9377908053231063,
           -1.9918748359438352,
           -2.045958866564564,
           -2.100042897185293,
           -2.154126927806022,
           -2.2082109584267506,
           -2.2622949890474793,
           -2.3163790196682084,
           -2.3704630502889374,
           -2.424547080909666,
           -2.4786311115303947,
           -2.532715142151124,
           -2.586799172771853
          ],
          [
           -0.864569834382859,
           -0.9186538650035879,
           -0.9727378956243167,
           -1.0268219262450458,
           -1.0809059568657744,
           -1.1349899874865035,
           -1.1890740181072323,
           -1.2431580487279612,
           -1.2972420793486898,
           -1.351326109969419,
           -1.4054101405901476,
           -1.4594941712108767,
           -1.5135782018316053,
           -1.5676622324523344,
           -1.6217462630730632,
           -1.675830293693792,
           -1.7299143243145207,
           -1.7839983549352498,
           -1.8380823855559787,
           -1.8921664161767076,
           -1.9462504467974362,
           -2.0003344774181655,
           -2.054418508038894,
           -2.108502538659623,
           -2.162586569280352,
           -2.216670599901081,
           -2.2707546305218096,
           -2.3248386611425382,
           -2.3789226917632673,
           -2.4330067223839964
          ],
          [
           -0.7107773839950021,
           -0.7648614146157311,
           -0.8189454452364598,
           -0.8730294758571888,
           -0.9271135064779177,
           -0.9811975370986465,
           -1.0352815677193756,
           -1.0893655983401043,
           -1.1434496289608331,
           -1.197533659581562,
           -1.2516176902022909,
           -1.3057017208230197,
           -1.3597857514437486,
           -1.4138697820644774,
           -1.4679538126852065,
           -1.5220378433059352,
           -1.576121873926664,
           -1.6302059045473931,
           -1.684289935168122,
           -1.7383739657888506,
           -1.7924579964095795,
           -1.8465420270303086,
           -1.9006260576510374,
           -1.954710088271766,
           -2.008794118892495,
           -2.062878149513224,
           -2.1169621801339527,
           -2.1710462107546817,
           -2.2251302413754104,
           -2.2792142719961395
          ],
          [
           -0.5569849336071461,
           -0.611068964227875,
           -0.6651529948486038,
           -0.7192370254693327,
           -0.7733210560900615,
           -0.8274050867107905,
           -0.8814891173315194,
           -0.9355731479522482,
           -0.989657178572977,
           -1.043741209193706,
           -1.0978252398144346,
           -1.1519092704351637,
           -1.2059933010558923,
           -1.2600773316766214,
           -1.3141613622973503,
           -1.3682453929180791,
           -1.4223294235388078,
           -1.476413454159537,
           -1.5304974847802657,
           -1.5845815154009946,
           -1.6386655460217232,
           -1.6927495766424525,
           -1.7468336072631812,
           -1.80091763788391,
           -1.8550016685046387,
           -1.909085699125368,
           -1.9631697297460966,
           -2.0172537603668252,
           -2.0713377909875548,
           -2.1254218216082834
          ],
          [
           -0.4031924832192896,
           -0.4572765138400185,
           -0.5113605444607473,
           -0.5654445750814762,
           -0.619528605702205,
           -0.673612636322934,
           -0.7276966669436629,
           -0.7817806975643917,
           -0.8358647281851205,
           -0.8899487588058494,
           -0.9440327894265782,
           -0.9981168200473072,
           -1.052200850668036,
           -1.106284881288765,
           -1.1603689119094938,
           -1.2144529425302226,
           -1.2685369731509515,
           -1.3226210037716806,
           -1.3767050343924092,
           -1.430789065013138,
           -1.484873095633867,
           -1.538957126254596,
           -1.5930411568753247,
           -1.6471251874960535,
           -1.7012092181167824,
           -1.7552932487375115,
           -1.80937727935824,
           -1.863461309978969,
           -1.917545340599698,
           -1.971629371220427
          ],
          [
           -0.24940003283143308,
           -0.30348406345216206,
           -0.3575680940728908,
           -0.41165212469361967,
           -0.46573615531434853,
           -0.5198201859350775,
           -0.5739042165558064,
           -0.6279882471765352,
           -0.6820722777972641,
           -0.736156308417993,
           -0.7902403390387217,
           -0.8443243696594507,
           -0.8984084002801794,
           -0.9524924309009084,
           -1.0065764615216373,
           -1.0606604921423661,
           -1.114744522763095,
           -1.168828553383824,
           -1.2229125840045527,
           -1.2769966146252816,
           -1.3310806452460104,
           -1.3851646758667395,
           -1.4392487064874682,
           -1.493332737108197,
           -1.547416767728926,
           -1.601500798349655,
           -1.6555848289703836,
           -1.7096688595911125,
           -1.7637528902118416,
           -1.8178369208325704
          ],
          [
           -0.09560758244357696,
           -0.14969161306430592,
           -0.2037756436850347,
           -0.25785967430576356,
           -0.3119437049264924,
           -0.36602773554722134,
           -0.4201117661679502,
           -0.4741957967886791,
           -0.5282798274094079,
           -0.5823638580301368,
           -0.6364478886508655,
           -0.6905319192715945,
           -0.7446159498923234,
           -0.7986999805130522,
           -0.8527840111337812,
           -0.90686804175451,
           -0.9609520723752388,
           -1.0150361029959678,
           -1.0691201336166967,
           -1.1232041642374255,
           -1.1772881948581544,
           -1.2313722254788833,
           -1.2854562560996121,
           -1.339540286720341,
           -1.3936243173410698,
           -1.4477083479617987,
           -1.5017923785825276,
           -1.5558764092032564,
           -1.609960439823985,
           -1.6640444704447142
          ],
          [
           0.05818486794427986,
           0.004100837323550905,
           -0.04998319329717787,
           -0.10406722391790674,
           -0.1581512545386356,
           -0.21223528515936455,
           -0.26631931578009344,
           -0.3204033464008223,
           -0.37448737702155116,
           -0.42857140764228,
           -0.4826554382630088,
           -0.5367394688837377,
           -0.5908234995044666,
           -0.6449075301251954,
           -0.6989915607459243,
           -0.7530755913666531,
           -0.807159621987382,
           -0.8612436526081111,
           -0.9153276832288398,
           -0.9694117138495686,
           -1.0234957444702977,
           -1.0775797750910265,
           -1.1316638057117554,
           -1.185747836332484,
           -1.2398318669532131,
           -1.293915897573942,
           -1.3479999281946708,
           -1.4020839588153995,
           -1.4561679894361286,
           -1.5102520200568574
          ],
          [
           0.21197731833213623,
           0.1578932877114073,
           0.10380925709067852,
           0.04972522646994965,
           -0.0043588041507792085,
           -0.05844283477150816,
           -0.11252686539223702,
           -0.1666108960129659,
           -0.22069492663369475,
           -0.27477895725442364,
           -0.32886298787515245,
           -0.38294701849588136,
           -0.4370310491166102,
           -0.4911150797373391,
           -0.5451991103580679,
           -0.5992831409787968,
           -0.6533671715995256,
           -0.7074512022202546,
           -0.7615352328409833,
           -0.8156192634617122,
           -0.8697032940824411,
           -0.92378732470317,
           -0.9778713553238988,
           -1.0319553859446275,
           -1.0860394165653566,
           -1.1401234471860855,
           -1.1942074778068144,
           -1.248291508427543,
           -1.302375539048272,
           -1.356459569669001
          ],
          [
           0.3657697687199929,
           0.3116857380992639,
           0.25760170747853517,
           0.2035176768578063,
           0.14943364623707744,
           0.09534961561634848,
           0.04126558499561963,
           -0.012818445625109236,
           -0.0669024762458381,
           -0.12098650686656696,
           -0.17507053748729579,
           -0.22915456810802468,
           -0.28323859872875357,
           -0.33732262934948243,
           -0.3914066599702113,
           -0.44549069059094015,
           -0.499574721211669,
           -0.553658751832398,
           -0.6077427824531267,
           -0.6618268130738555,
           -0.7159108436945845,
           -0.7699948743153134,
           -0.8240789049360422,
           -0.8781629355567709,
           -0.9322469661774999,
           -0.986330996798229,
           -1.0404150274189576,
           -1.0944990580396865,
           -1.1485830886604154,
           -1.2026671192811444
          ],
          [
           0.5195622191078494,
           0.4654781884871204,
           0.41139415786639166,
           0.3573101272456628,
           0.30322609662493394,
           0.24914206600420497,
           0.1950580353834761,
           0.14097400476274724,
           0.08688997414201838,
           0.032805943521289516,
           -0.021278087099439305,
           -0.07536211772016821,
           -0.12944614834089707,
           -0.18353017896162593,
           -0.2376142095823548,
           -0.29169824020308366,
           -0.3457822708238125,
           -0.3998663014445415,
           -0.45395033206527025,
           -0.508034362685999,
           -0.562118393306728,
           -0.6162024239274569,
           -0.6702864545481857,
           -0.7243704851689144,
           -0.7784545157896434,
           -0.8325385464103725,
           -0.8866225770311011,
           -0.9407066076518299,
           -0.9947906382725589,
           -1.048874668893288
          ],
          [
           0.6733546694957055,
           0.6192706388749766,
           0.5651866082542478,
           0.511102577633519,
           0.45701854701279004,
           0.40293451639206107,
           0.3488504857713322,
           0.29476645515060335,
           0.2406824245298745,
           0.18659839390914565,
           0.13251436328841681,
           0.07843033266768791,
           0.02434630204695905,
           -0.02973772857376981,
           -0.08382175919449868,
           -0.13790578981522753,
           -0.1919898204359564,
           -0.24607385105668536,
           -0.30015788167741414,
           -0.3542419122981429,
           -0.40832594291887186,
           -0.4624099735396008,
           -0.5164940041603295,
           -0.5705780347810584,
           -0.6246620654017873,
           -0.6787460960225163,
           -0.732830126643245,
           -0.7869141572639738,
           -0.8409981878847027,
           -0.8950822185054319
          ],
          [
           0.8271471198835615,
           0.7730630892628326,
           0.7189790586421039,
           0.664895028021375,
           0.6108109974006461,
           0.5567269667799172,
           0.5026429361591883,
           0.4485589055384595,
           0.39447487491773064,
           0.3403908442970018,
           0.286306813676273,
           0.23222278305554403,
           0.17813875243481517,
           0.12405472181408632,
           0.06997069119335746,
           0.01588666057262859,
           -0.038197370048100275,
           -0.09228140066882923,
           -0.146365431289558,
           -0.20044946191028679,
           -0.2545334925310157,
           -0.30861752315174473,
           -0.3627015537724735,
           -0.41678558439320224,
           -0.47086961501393115,
           -0.5249536456346602,
           -0.5790376762553889,
           -0.6331217068761177,
           -0.6872057374968468,
           -0.7412897681175756
          ],
          [
           0.9809395702714188,
           0.9268555396506899,
           0.8727715090299611,
           0.8186874784092322,
           0.7646034477885033,
           0.7105194171677744,
           0.6564353865470456,
           0.6023513559263166,
           0.5482673253055877,
           0.49418329468485894,
           0.4400992640641301,
           0.3860152334434012,
           0.33193120282267236,
           0.2778471722019435,
           0.22376314158121463,
           0.16967911096048577,
           0.11559508033975689,
           0.06151104971902794,
           0.0074270190982991605,
           -0.046657011522429605,
           -0.10074104214315857,
           -0.15482507276388754,
           -0.20890910338461632,
           -0.2629931340053451,
           -0.31707716462607405,
           -0.371161195246803,
           -0.4252452258675317,
           -0.4793292564882605,
           -0.5334132871089895,
           -0.5874973177297185
          ]
         ]
        },
        {
         "line": {
          "width": 6
         },
         "marker": {
          "size": 1
         },
         "showlegend": false,
         "type": "scatter3d",
         "x": [
          -0.5415872984195823,
          -0.16048782307268264
         ],
         "y": [
          -2.5864049413688104,
          0.41043606975741864
         ],
         "z": [
          -2.2841602985608693,
          -0.7739806433605174
         ]
        },
        {
         "line": {
          "width": 6
         },
         "marker": {
          "size": 1
         },
         "showlegend": false,
         "type": "scatter3d",
         "x": [
          -1.5491589173759384,
          0.32600469110623603
         ],
         "y": [
          -7.250108574555569,
          -0.8337335604554051
         ],
         "z": [
          -1.4415180189468613,
          1.5722147371061206
         ]
        },
        {
         "line": {
          "width": 6
         },
         "marker": {
          "size": 1
         },
         "showlegend": false,
         "type": "scatter3d",
         "x": [
          1.3051929109046245,
          0.9018281990411089
         ],
         "y": [
          -7.646142640577349,
          -2.306360785037326
         ],
         "z": [
          1.4339394299892925,
          4.349224485264412
         ]
        }
       ],
       "layout": {
        "autosize": true,
        "height": 800,
        "margin": {
         "b": 10,
         "l": 10,
         "pad": 4,
         "r": 10,
         "t": 10
        },
        "paper_bgcolor": "White",
        "scene": {
         "aspectmode": "data",
         "aspectratio": {
          "x": 0.6950479008392345,
          "y": 1.3105239091127905,
          "z": 1.097843197858555
         },
         "camera": {
          "eye": {
           "x": 1,
           "y": 1,
           "z": 1
          }
         }
        },
        "template": {
         "data": {
          "bar": [
           {
            "error_x": {
             "color": "#2a3f5f"
            },
            "error_y": {
             "color": "#2a3f5f"
            },
            "marker": {
             "line": {
              "color": "#E5ECF6",
              "width": 0.5
             }
            },
            "type": "bar"
           }
          ],
          "barpolar": [
           {
            "marker": {
             "line": {
              "color": "#E5ECF6",
              "width": 0.5
             }
            },
            "type": "barpolar"
           }
          ],
          "carpet": [
           {
            "aaxis": {
             "endlinecolor": "#2a3f5f",
             "gridcolor": "white",
             "linecolor": "white",
             "minorgridcolor": "white",
             "startlinecolor": "#2a3f5f"
            },
            "baxis": {
             "endlinecolor": "#2a3f5f",
             "gridcolor": "white",
             "linecolor": "white",
             "minorgridcolor": "white",
             "startlinecolor": "#2a3f5f"
            },
            "type": "carpet"
           }
          ],
          "choropleth": [
           {
            "colorbar": {
             "outlinewidth": 0,
             "ticks": ""
            },
            "type": "choropleth"
           }
          ],
          "contour": [
           {
            "colorbar": {
             "outlinewidth": 0,
             "ticks": ""
            },
            "colorscale": [
             [
              0,
              "#0d0887"
             ],
             [
              0.1111111111111111,
              "#46039f"
             ],
             [
              0.2222222222222222,
              "#7201a8"
             ],
             [
              0.3333333333333333,
              "#9c179e"
             ],
             [
              0.4444444444444444,
              "#bd3786"
             ],
             [
              0.5555555555555556,
              "#d8576b"
             ],
             [
              0.6666666666666666,
              "#ed7953"
             ],
             [
              0.7777777777777778,
              "#fb9f3a"
             ],
             [
              0.8888888888888888,
              "#fdca26"
             ],
             [
              1,
              "#f0f921"
             ]
            ],
            "type": "contour"
           }
          ],
          "contourcarpet": [
           {
            "colorbar": {
             "outlinewidth": 0,
             "ticks": ""
            },
            "type": "contourcarpet"
           }
          ],
          "heatmap": [
           {
            "colorbar": {
             "outlinewidth": 0,
             "ticks": ""
            },
            "colorscale": [
             [
              0,
              "#0d0887"
             ],
             [
              0.1111111111111111,
              "#46039f"
             ],
             [
              0.2222222222222222,
              "#7201a8"
             ],
             [
              0.3333333333333333,
              "#9c179e"
             ],
             [
              0.4444444444444444,
              "#bd3786"
             ],
             [
              0.5555555555555556,
              "#d8576b"
             ],
             [
              0.6666666666666666,
              "#ed7953"
             ],
             [
              0.7777777777777778,
              "#fb9f3a"
             ],
             [
              0.8888888888888888,
              "#fdca26"
             ],
             [
              1,
              "#f0f921"
             ]
            ],
            "type": "heatmap"
           }
          ],
          "heatmapgl": [
           {
            "colorbar": {
             "outlinewidth": 0,
             "ticks": ""
            },
            "colorscale": [
             [
              0,
              "#0d0887"
             ],
             [
              0.1111111111111111,
              "#46039f"
             ],
             [
              0.2222222222222222,
              "#7201a8"
             ],
             [
              0.3333333333333333,
              "#9c179e"
             ],
             [
              0.4444444444444444,
              "#bd3786"
             ],
             [
              0.5555555555555556,
              "#d8576b"
             ],
             [
              0.6666666666666666,
              "#ed7953"
             ],
             [
              0.7777777777777778,
              "#fb9f3a"
             ],
             [
              0.8888888888888888,
              "#fdca26"
             ],
             [
              1,
              "#f0f921"
             ]
            ],
            "type": "heatmapgl"
           }
          ],
          "histogram": [
           {
            "marker": {
             "colorbar": {
              "outlinewidth": 0,
              "ticks": ""
             }
            },
            "type": "histogram"
           }
          ],
          "histogram2d": [
           {
            "colorbar": {
             "outlinewidth": 0,
             "ticks": ""
            },
            "colorscale": [
             [
              0,
              "#0d0887"
             ],
             [
              0.1111111111111111,
              "#46039f"
             ],
             [
              0.2222222222222222,
              "#7201a8"
             ],
             [
              0.3333333333333333,
              "#9c179e"
             ],
             [
              0.4444444444444444,
              "#bd3786"
             ],
             [
              0.5555555555555556,
              "#d8576b"
             ],
             [
              0.6666666666666666,
              "#ed7953"
             ],
             [
              0.7777777777777778,
              "#fb9f3a"
             ],
             [
              0.8888888888888888,
              "#fdca26"
             ],
             [
              1,
              "#f0f921"
             ]
            ],
            "type": "histogram2d"
           }
          ],
          "histogram2dcontour": [
           {
            "colorbar": {
             "outlinewidth": 0,
             "ticks": ""
            },
            "colorscale": [
             [
              0,
              "#0d0887"
             ],
             [
              0.1111111111111111,
              "#46039f"
             ],
             [
              0.2222222222222222,
              "#7201a8"
             ],
             [
              0.3333333333333333,
              "#9c179e"
             ],
             [
              0.4444444444444444,
              "#bd3786"
             ],
             [
              0.5555555555555556,
              "#d8576b"
             ],
             [
              0.6666666666666666,
              "#ed7953"
             ],
             [
              0.7777777777777778,
              "#fb9f3a"
             ],
             [
              0.8888888888888888,
              "#fdca26"
             ],
             [
              1,
              "#f0f921"
             ]
            ],
            "type": "histogram2dcontour"
           }
          ],
          "mesh3d": [
           {
            "colorbar": {
             "outlinewidth": 0,
             "ticks": ""
            },
            "type": "mesh3d"
           }
          ],
          "parcoords": [
           {
            "line": {
             "colorbar": {
              "outlinewidth": 0,
              "ticks": ""
             }
            },
            "type": "parcoords"
           }
          ],
          "pie": [
           {
            "automargin": true,
            "type": "pie"
           }
          ],
          "scatter": [
           {
            "marker": {
             "colorbar": {
              "outlinewidth": 0,
              "ticks": ""
             }
            },
            "type": "scatter"
           }
          ],
          "scatter3d": [
           {
            "line": {
             "colorbar": {
              "outlinewidth": 0,
              "ticks": ""
             }
            },
            "marker": {
             "colorbar": {
              "outlinewidth": 0,
              "ticks": ""
             }
            },
            "type": "scatter3d"
           }
          ],
          "scattercarpet": [
           {
            "marker": {
             "colorbar": {
              "outlinewidth": 0,
              "ticks": ""
             }
            },
            "type": "scattercarpet"
           }
          ],
          "scattergeo": [
           {
            "marker": {
             "colorbar": {
              "outlinewidth": 0,
              "ticks": ""
             }
            },
            "type": "scattergeo"
           }
          ],
          "scattergl": [
           {
            "marker": {
             "colorbar": {
              "outlinewidth": 0,
              "ticks": ""
             }
            },
            "type": "scattergl"
           }
          ],
          "scattermapbox": [
           {
            "marker": {
             "colorbar": {
              "outlinewidth": 0,
              "ticks": ""
             }
            },
            "type": "scattermapbox"
           }
          ],
          "scatterpolar": [
           {
            "marker": {
             "colorbar": {
              "outlinewidth": 0,
              "ticks": ""
             }
            },
            "type": "scatterpolar"
           }
          ],
          "scatterpolargl": [
           {
            "marker": {
             "colorbar": {
              "outlinewidth": 0,
              "ticks": ""
             }
            },
            "type": "scatterpolargl"
           }
          ],
          "scatterternary": [
           {
            "marker": {
             "colorbar": {
              "outlinewidth": 0,
              "ticks": ""
             }
            },
            "type": "scatterternary"
           }
          ],
          "surface": [
           {
            "colorbar": {
             "outlinewidth": 0,
             "ticks": ""
            },
            "colorscale": [
             [
              0,
              "#0d0887"
             ],
             [
              0.1111111111111111,
              "#46039f"
             ],
             [
              0.2222222222222222,
              "#7201a8"
             ],
             [
              0.3333333333333333,
              "#9c179e"
             ],
             [
              0.4444444444444444,
              "#bd3786"
             ],
             [
              0.5555555555555556,
              "#d8576b"
             ],
             [
              0.6666666666666666,
              "#ed7953"
             ],
             [
              0.7777777777777778,
              "#fb9f3a"
             ],
             [
              0.8888888888888888,
              "#fdca26"
             ],
             [
              1,
              "#f0f921"
             ]
            ],
            "type": "surface"
           }
          ],
          "table": [
           {
            "cells": {
             "fill": {
              "color": "#EBF0F8"
             },
             "line": {
              "color": "white"
             }
            },
            "header": {
             "fill": {
              "color": "#C8D4E3"
             },
             "line": {
              "color": "white"
             }
            },
            "type": "table"
           }
          ]
         },
         "layout": {
          "annotationdefaults": {
           "arrowcolor": "#2a3f5f",
           "arrowhead": 0,
           "arrowwidth": 1
          },
          "autotypenumbers": "strict",
          "coloraxis": {
           "colorbar": {
            "outlinewidth": 0,
            "ticks": ""
           }
          },
          "colorscale": {
           "diverging": [
            [
             0,
             "#8e0152"
            ],
            [
             0.1,
             "#c51b7d"
            ],
            [
             0.2,
             "#de77ae"
            ],
            [
             0.3,
             "#f1b6da"
            ],
            [
             0.4,
             "#fde0ef"
            ],
            [
             0.5,
             "#f7f7f7"
            ],
            [
             0.6,
             "#e6f5d0"
            ],
            [
             0.7,
             "#b8e186"
            ],
            [
             0.8,
             "#7fbc41"
            ],
            [
             0.9,
             "#4d9221"
            ],
            [
             1,
             "#276419"
            ]
           ],
           "sequential": [
            [
             0,
             "#0d0887"
            ],
            [
             0.1111111111111111,
             "#46039f"
            ],
            [
             0.2222222222222222,
             "#7201a8"
            ],
            [
             0.3333333333333333,
             "#9c179e"
            ],
            [
             0.4444444444444444,
             "#bd3786"
            ],
            [
             0.5555555555555556,
             "#d8576b"
            ],
            [
             0.6666666666666666,
             "#ed7953"
            ],
            [
             0.7777777777777778,
             "#fb9f3a"
            ],
            [
             0.8888888888888888,
             "#fdca26"
            ],
            [
             1,
             "#f0f921"
            ]
           ],
           "sequentialminus": [
            [
             0,
             "#0d0887"
            ],
            [
             0.1111111111111111,
             "#46039f"
            ],
            [
             0.2222222222222222,
             "#7201a8"
            ],
            [
             0.3333333333333333,
             "#9c179e"
            ],
            [
             0.4444444444444444,
             "#bd3786"
            ],
            [
             0.5555555555555556,
             "#d8576b"
            ],
            [
             0.6666666666666666,
             "#ed7953"
            ],
            [
             0.7777777777777778,
             "#fb9f3a"
            ],
            [
             0.8888888888888888,
             "#fdca26"
            ],
            [
             1,
             "#f0f921"
            ]
           ]
          },
          "colorway": [
           "#636efa",
           "#EF553B",
           "#00cc96",
           "#ab63fa",
           "#FFA15A",
           "#19d3f3",
           "#FF6692",
           "#B6E880",
           "#FF97FF",
           "#FECB52"
          ],
          "font": {
           "color": "#2a3f5f"
          },
          "geo": {
           "bgcolor": "white",
           "lakecolor": "white",
           "landcolor": "#E5ECF6",
           "showlakes": true,
           "showland": true,
           "subunitcolor": "white"
          },
          "hoverlabel": {
           "align": "left"
          },
          "hovermode": "closest",
          "mapbox": {
           "style": "light"
          },
          "paper_bgcolor": "white",
          "plot_bgcolor": "#E5ECF6",
          "polar": {
           "angularaxis": {
            "gridcolor": "white",
            "linecolor": "white",
            "ticks": ""
           },
           "bgcolor": "#E5ECF6",
           "radialaxis": {
            "gridcolor": "white",
            "linecolor": "white",
            "ticks": ""
           }
          },
          "scene": {
           "xaxis": {
            "backgroundcolor": "#E5ECF6",
            "gridcolor": "white",
            "gridwidth": 2,
            "linecolor": "white",
            "showbackground": true,
            "ticks": "",
            "zerolinecolor": "white"
           },
           "yaxis": {
            "backgroundcolor": "#E5ECF6",
            "gridcolor": "white",
            "gridwidth": 2,
            "linecolor": "white",
            "showbackground": true,
            "ticks": "",
            "zerolinecolor": "white"
           },
           "zaxis": {
            "backgroundcolor": "#E5ECF6",
            "gridcolor": "white",
            "gridwidth": 2,
            "linecolor": "white",
            "showbackground": true,
            "ticks": "",
            "zerolinecolor": "white"
           }
          },
          "shapedefaults": {
           "line": {
            "color": "#2a3f5f"
           }
          },
          "ternary": {
           "aaxis": {
            "gridcolor": "white",
            "linecolor": "white",
            "ticks": ""
           },
           "baxis": {
            "gridcolor": "white",
            "linecolor": "white",
            "ticks": ""
           },
           "bgcolor": "#E5ECF6",
           "caxis": {
            "gridcolor": "white",
            "linecolor": "white",
            "ticks": ""
           }
          },
          "title": {
           "x": 0.05
          },
          "xaxis": {
           "automargin": true,
           "gridcolor": "white",
           "linecolor": "white",
           "ticks": "",
           "title": {
            "standoff": 15
           },
           "zerolinecolor": "white",
           "zerolinewidth": 2
          },
          "yaxis": {
           "automargin": true,
           "gridcolor": "white",
           "linecolor": "white",
           "ticks": "",
           "title": {
            "standoff": 15
           },
           "zerolinecolor": "white",
           "zerolinewidth": 2
          }
         }
        },
        "width": 1000
       }
      },
      "image/png": "[encoded data removed]",
      "text/html": [
       "<div>                            <div id=\"8c1ae557-cc2d-44a8-bbff-a49f1b41457a\" class=\"plotly-graph-div\" style=\"height:800px; width:1000px;\"></div>            <script type=\"text/javascript\">                require([\"plotly\"], function(Plotly) {                    window.PLOTLYENV=window.PLOTLYENV || {};                                    if (document.getElementById(\"8c1ae557-cc2d-44a8-bbff-a49f1b41457a\")) {                    Plotly.newPlot(                        \"8c1ae557-cc2d-44a8-bbff-a49f1b41457a\",                        [{\"marker\": {\"color\": \"black\", \"line\": {\"width\": 0}, \"size\": 3}, \"mode\": \"markers\", \"name\": \"origin\", \"type\": \"scatter3d\", \"x\": [0], \"y\": [0], \"z\": [0]}, {\"marker\": {\"color\": \"yellow\", \"line\": {\"width\": 0}, \"size\": 2}, \"mode\": \"markers\", \"name\": \"plane_offset\", \"type\": \"scatter3d\", \"x\": [0.10457238149351299], \"y\": [-0.2674363477778181], \"z\": [0.5043186302641506]}, {\"line\": {\"width\": 6}, \"marker\": {\"size\": 1}, \"name\": \"plane_normal\", \"type\": \"scatter3d\", \"x\": [1.2542493779336161, -0.8294403946047587], \"y\": [-3.2076526138784995, 2.1212341792775313], \"z\": [6.048837362744608, -4.000121616421037]}, {\"marker\": {\"color\": \"blue\", \"line\": {\"width\": 0}, \"size\": 2}, \"mode\": \"markers\", \"name\": \"4.520104786776514\", \"showlegend\": false, \"type\": \"scatter3d\", \"x\": [0.042014020706258925], \"y\": [-1.2900146220721205], \"z\": [-3.847531434638628]}, {\"marker\": {\"color\": \"blue\", \"line\": {\"width\": 0}, \"size\": 3}, \"mode\": \"markers\", \"name\": \"d=1.5949051298617494\", \"type\": \"scatter3d\", \"x\": [-2.1339951601259597], \"y\": [-1.9049146279088631], \"z\": [-1.2486254908114804]}, {\"line\": {\"width\": 6}, \"marker\": {\"size\": 1}, \"name\": \"^ len_d\", \"type\": \"scatter3d\", \"x\": [-2.1339951601259597, -1.9227937616148467], \"y\": [-1.9049146279088631, -2.4450470209622184], \"z\": [-1.2486254908114804, -0.2300697451569268]}, {\"line\": {\"width\": 6}, \"marker\": {\"size\": 1}, \"name\": \"^ proj\", \"type\": \"scatter3d\", \"x\": [-2.1339951601259597, -0.10662901701760012], \"y\": [-1.9049146279088631, 0.2726960452755374], \"z\": [-1.2486254908114804, -0.5142371153904032]}, {\"marker\": {\"color\": \"blue\", \"line\": {\"width\": 0}, \"size\": 2}, \"mode\": \"markers\", \"name\": \"3.730167512258703\", \"showlegend\": false, \"type\": \"scatter3d\", \"x\": [-2.6435542503000073], \"y\": [-2.2908149558331123], \"z\": [-3.153352381649631]}, {\"marker\": {\"color\": \"red\", \"line\": {\"width\": 0}, \"size\": 2}, \"mode\": \"markers\", \"name\": \"-5.745992928452934\", \"showlegend\": false, \"type\": \"scatter3d\", \"x\": [-1.8403364633977217], \"y\": [-10.383721431512676], \"z\": [0.40227728210473745]}, {\"marker\": {\"color\": \"red\", \"line\": {\"width\": 0}, \"size\": 2}, \"mode\": \"markers\", \"name\": \"-5.607479342784313\", \"showlegend\": false, \"type\": \"scatter3d\", \"x\": [-1.6157792956837722], \"y\": [-8.870134583868456], \"z\": [1.0412201494423712]}, {\"marker\": {\"color\": \"blue\", \"line\": {\"width\": 0}, \"size\": 2}, \"mode\": \"markers\", \"name\": \"2.46624821832641\", \"showlegend\": false, \"type\": \"scatter3d\", \"x\": [-1.608169583290394], \"y\": [-2.1863995411328263], \"z\": [-2.243803012204535]}, {\"marker\": {\"color\": \"blue\", \"line\": {\"width\": 0}, \"size\": 2}, \"mode\": \"markers\", \"name\": \"3.8377588593858505\", \"showlegend\": false, \"type\": \"scatter3d\", \"x\": [-1.7225654661443077], \"y\": [-0.8964459786387888], \"z\": [-2.695887307645588]}, {\"marker\": {\"color\": \"red\", \"line\": {\"width\": 0}, \"size\": 2}, \"mode\": \"markers\", \"name\": \"-3.8077693058260227\", \"showlegend\": false, \"type\": \"scatter3d\", \"x\": [-0.771705714476493], \"y\": [-9.265359357178491], \"z\": [-0.8653628285493147]}, {\"marker\": {\"color\": \"blue\", \"line\": {\"width\": 0}, \"size\": 2}, \"mode\": \"markers\", \"name\": \"3.6738378466435027\", \"showlegend\": false, \"type\": \"scatter3d\", \"x\": [-0.67133173316653], \"y\": [-0.6318620134069913], \"z\": [-2.6349332327557478]}, {\"marker\": {\"color\": \"blue\", \"line\": {\"width\": 0}, \"size\": 2}, \"mode\": \"markers\", \"name\": \"3.4461171293380617\", \"showlegend\": false, \"type\": \"scatter3d\", \"x\": [-1.59821873248412], \"y\": [-1.752368088371606], \"z\": [-2.8443570200998987]}, {\"marker\": {\"color\": \"red\", \"line\": {\"width\": 0}, \"size\": 2}, \"mode\": \"markers\", \"name\": \"-7.271648947270365\", \"showlegend\": false, \"type\": \"scatter3d\", \"x\": [-1.876261656966392], \"y\": [-9.500605859963326], \"z\": [2.1682507770744737]}, {\"marker\": {\"color\": \"red\", \"line\": {\"width\": 0}, \"size\": 2}, \"mode\": \"markers\", \"name\": \"-6.02054438172613\", \"showlegend\": false, \"type\": \"scatter3d\", \"x\": [1.3051929109046245], \"y\": [-7.646142640577349], \"z\": [1.4339394299892925]}, {\"marker\": {\"color\": \"blue\", \"line\": {\"width\": 0}, \"size\": 2}, \"mode\": \"markers\", \"name\": \"3.4032814419682924\", \"showlegend\": false, \"type\": \"scatter3d\", \"x\": [-0.5586674798935111], \"y\": [-2.6540097021810576], \"z\": [-3.501820403841502]}, {\"marker\": {\"color\": \"blue\", \"line\": {\"width\": 0}, \"size\": 2}, \"mode\": \"markers\", \"name\": \"3.4984037139662676\", \"showlegend\": false, \"type\": \"scatter3d\", \"x\": [-0.5370500045819107], \"y\": [-1.3512043294085272], \"z\": [-2.8958779309977802]}, {\"marker\": {\"color\": \"blue\", \"line\": {\"width\": 0}, \"size\": 2}, \"mode\": \"markers\", \"name\": \"5.39953961087352\", \"showlegend\": false, \"type\": \"scatter3d\", \"x\": [-2.4278706306650815], \"y\": [-2.3000648458140063], \"z\": [-4.614732745018286]}, {\"marker\": {\"color\": \"red\", \"line\": {\"width\": 0}, \"size\": 2}, \"mode\": \"markers\", \"name\": \"-8.158226730223781\", \"showlegend\": false, \"type\": \"scatter3d\", \"x\": [-2.189109572086774], \"y\": [-8.930021318895749], \"z\": [3.2854575703891404]}, {\"marker\": {\"color\": \"red\", \"line\": {\"width\": 0}, \"size\": 2}, \"mode\": \"markers\", \"name\": \"-7.365028458102409\", \"showlegend\": false, \"type\": \"scatter3d\", \"x\": [-1.2385625641615214], \"y\": [-10.599400808555691], \"z\": [1.5323078781549717]}, {\"marker\": {\"color\": \"red\", \"line\": {\"width\": 0}, \"size\": 3}, \"mode\": \"markers\", \"name\": \"d=-1.6721647158026955\", \"type\": \"scatter3d\", \"x\": [-1.5491589173759384], \"y\": [-7.250108574555569], \"z\": [-1.4415180189468613]}, {\"line\": {\"width\": 6}, \"marker\": {\"size\": 1}, \"name\": \"^ len_d\", \"type\": \"scatter3d\", \"x\": [-1.5491589173759384, -1.7705912269886617], \"y\": [-7.250108574555569, -6.68381136187798], \"z\": [-1.4415180189468613, -2.509414125788832]}, {\"line\": {\"width\": 6}, \"marker\": {\"size\": 1}, \"name\": \"^ proj\", \"type\": \"scatter3d\", \"x\": [-1.5491589173759384, 0.32600469110623603], \"y\": [-7.250108574555569, -0.8337335604554051], \"z\": [-1.4415180189468613, 1.5722147371061206]}, {\"marker\": {\"color\": \"blue\", \"line\": {\"width\": 0}, \"size\": 2}, \"mode\": \"markers\", \"name\": \"3.1918881467661584\", \"showlegend\": false, \"type\": \"scatter3d\", \"x\": [-1.6580312392471215], \"y\": [-2.4686234359156143], \"z\": [-2.9967834212358087]}, {\"marker\": {\"color\": \"red\", \"line\": {\"width\": 0}, \"size\": 2}, \"mode\": \"markers\", \"name\": \"-5.669573549102594\", \"showlegend\": false, \"type\": \"scatter3d\", \"x\": [-0.777220540001882], \"y\": [-10.726763450049406], \"z\": [-0.06470266128815605]}, {\"marker\": {\"color\": \"blue\", \"line\": {\"width\": 0}, \"size\": 2}, \"mode\": \"markers\", \"name\": \"3.958663632250468\", \"showlegend\": false, \"type\": \"scatter3d\", \"x\": [-0.2077457436123662], \"y\": [-0.6904645628096294], \"z\": [-3.0030071301117554]}, {\"marker\": {\"color\": \"red\", \"line\": {\"width\": 0}, \"size\": 2}, \"mode\": \"markers\", \"name\": \"-2.4473691606452084\", \"showlegend\": false, \"type\": \"scatter3d\", \"x\": [-2.208993881683744], \"y\": [-6.931037127562513], \"z\": [-0.4799236902257027]}, {\"marker\": {\"color\": \"red\", \"line\": {\"width\": 0}, \"size\": 2}, \"mode\": \"markers\", \"name\": \"-6.941026298267742\", \"showlegend\": false, \"type\": \"scatter3d\", \"x\": [-2.1092372461747035], \"y\": [-9.393765145033843], \"z\": [1.993615444124878]}, {\"marker\": {\"color\": \"blue\", \"line\": {\"width\": 0}, \"size\": 2}, \"mode\": \"markers\", \"name\": \"4.784683172385866\", \"showlegend\": false, \"type\": \"scatter3d\", \"x\": [-0.3180427354058979], \"y\": [-1.4010703116424414], \"z\": [-4.0555125917167665]}, {\"marker\": {\"color\": \"blue\", \"line\": {\"width\": 0}, \"size\": 2}, \"mode\": \"markers\", \"name\": \"3.3011381180914676\", \"showlegend\": false, \"type\": \"scatter3d\", \"x\": [-1.7618984071926949], \"y\": [-2.8473642653630744], \"z\": [-3.268479933536673]}, {\"marker\": {\"color\": \"red\", \"line\": {\"width\": 0}, \"size\": 2}, \"mode\": \"markers\", \"name\": \"-5.949782719443056\", \"showlegend\": false, \"type\": \"scatter3d\", \"x\": [-1.6994184393126137], \"y\": [-9.613804261878917], \"z\": [0.9536793178805771]}, {\"marker\": {\"color\": \"red\", \"line\": {\"width\": 0}, \"size\": 2}, \"mode\": \"markers\", \"name\": \"-7.633534610495445\", \"showlegend\": false, \"type\": \"scatter3d\", \"x\": [-0.8996299869449244], \"y\": [-9.698610632187053], \"z\": [2.1667810560691363]}, {\"marker\": {\"color\": \"red\", \"line\": {\"width\": 0}, \"size\": 3}, \"mode\": \"markers\", \"name\": \"d=-8.6818825643803\", \"type\": \"scatter3d\", \"x\": [0.1265942845014456], \"y\": [-11.219434867826742], \"z\": [2.0340735109649115]}, {\"line\": {\"width\": 6}, \"marker\": {\"size\": 1}, \"name\": \"^ len_d\", \"type\": \"scatter3d\", \"x\": [0.1265942845014456, -1.0230827119386579], \"y\": [-11.219434867826742, -8.279218601726058], \"z\": [2.0340735109649115, -3.5104452215155453]}, {\"line\": {\"width\": 6}, \"marker\": {\"size\": 1}, \"name\": \"^ proj\", \"type\": \"scatter3d\", \"x\": [0.1265942845014456, 1.254249377933616], \"y\": [-11.219434867826742, -3.2076526138784986], \"z\": [2.0340735109649115, 6.0488373627446075]}, {\"marker\": {\"color\": \"blue\", \"line\": {\"width\": 0}, \"size\": 2}, \"mode\": \"markers\", \"name\": \"3.9211781975638997\", \"showlegend\": false, \"type\": \"scatter3d\", \"x\": [-3.2793979214271083], \"y\": [-1.2275904418093788], \"z\": [-2.6192215465178186]}, {\"marker\": {\"color\": \"red\", \"line\": {\"width\": 0}, \"size\": 2}, \"mode\": \"markers\", \"name\": \"-7.602510966286185\", \"showlegend\": false, \"type\": \"scatter3d\", \"x\": [-0.5448223810947223], \"y\": [-10.13472563123421], \"z\": [1.835705839145523]}, {\"marker\": {\"color\": \"red\", \"line\": {\"width\": 0}, \"size\": 2}, \"mode\": \"markers\", \"name\": \"-5.8215245358552625\", \"showlegend\": false, \"type\": \"scatter3d\", \"x\": [-1.9993557985866022], \"y\": [-10.064889958021181], \"z\": [0.6681999291923968]}, {\"marker\": {\"color\": \"blue\", \"line\": {\"width\": 0}, \"size\": 2}, \"mode\": \"markers\", \"name\": \"4.245398071311599\", \"showlegend\": false, \"type\": \"scatter3d\", \"x\": [-0.6920363339672632], \"y\": [-1.58898446753575], \"z\": [-3.6215511381165517]}, {\"marker\": {\"color\": \"blue\", \"line\": {\"width\": 0}, \"size\": 2}, \"mode\": \"markers\", \"name\": \"5.022136790147635\", \"showlegend\": false, \"type\": \"scatter3d\", \"x\": [-0.2605230817068416], \"y\": [-1.9216463929509258], \"z\": [-4.544306524063666]}, {\"marker\": {\"color\": \"blue\", \"line\": {\"width\": 0}, \"size\": 2}, \"mode\": \"markers\", \"name\": \"2.356951788816178\", \"showlegend\": false, \"type\": \"scatter3d\", \"x\": [-1.7200746184897326], \"y\": [-1.7407911494275212], \"z\": [-1.8918666646659397]}, {\"marker\": {\"color\": \"blue\", \"line\": {\"width\": 0}, \"size\": 2}, \"mode\": \"markers\", \"name\": \"2.0016244350890786\", \"showlegend\": false, \"type\": \"scatter3d\", \"x\": [-0.5415872984195823], \"y\": [-2.5864049413688104], \"z\": [-2.2841602985608693]}, {\"marker\": {\"color\": \"blue\", \"line\": {\"width\": 0}, \"size\": 2}, \"mode\": \"markers\", \"name\": \"5.154934108046541\", \"showlegend\": false, \"type\": \"scatter3d\", \"x\": [-3.1439561214259393], \"y\": [-1.2621558942512991], \"z\": [-3.7089967902252914]}, {\"marker\": {\"color\": \"blue\", \"line\": {\"width\": 0}, \"size\": 2}, \"mode\": \"markers\", \"name\": \"1.8056041928849378\", \"showlegend\": false, \"type\": \"scatter3d\", \"x\": [1.9861932534769364], \"y\": [-0.6217826382099462], \"z\": [-1.6007107275242336]}, {\"marker\": {\"color\": \"red\", \"line\": {\"width\": 0}, \"size\": 2}, \"mode\": \"markers\", \"name\": \"-6.6688453959561595\", \"showlegend\": false, \"type\": \"scatter3d\", \"x\": [-0.7782447503786115], \"y\": [-10.325689067272036], \"z\": [0.993259319045779]}, {\"marker\": {\"color\": \"blue\", \"line\": {\"width\": 0}, \"size\": 2}, \"mode\": \"markers\", \"name\": \"4.968500107919382\", \"showlegend\": false, \"type\": \"scatter3d\", \"x\": [-2.354351183964895], \"y\": [-1.0009774375225404], \"z\": [-3.576560153702099]}, {\"marker\": {\"color\": \"blue\", \"line\": {\"width\": 0}, \"size\": 2}, \"mode\": \"markers\", \"name\": \"2.688771577065013\", \"showlegend\": false, \"type\": \"scatter3d\", \"x\": [0.5324423095002062], \"y\": [-3.306711369346252], \"z\": [-3.4699431439198865]}, {\"marker\": {\"color\": \"blue\", \"line\": {\"width\": 0}, \"size\": 2}, \"mode\": \"markers\", \"name\": \"5.75564472785656\", \"showlegend\": false, \"type\": \"scatter3d\", \"x\": [-0.7956119992676421], \"y\": [-1.4661397829437133], \"z\": [-4.812114131071052]}, {\"marker\": {\"color\": \"red\", \"line\": {\"width\": 0}, \"size\": 2}, \"mode\": \"markers\", \"name\": \"-7.372835645872424\", \"showlegend\": false, \"type\": \"scatter3d\", \"x\": [-1.9577775344879664], \"y\": [-10.920914390180792], \"z\": [1.5175459875845316]}, {\"marker\": {\"color\": \"red\", \"line\": {\"width\": 0}, \"size\": 2}, \"mode\": \"markers\", \"name\": \"-4.570579311887976\", \"showlegend\": false, \"type\": \"scatter3d\", \"x\": [-0.846605627083354], \"y\": [-8.203096133170305], \"z\": [0.35857025239482054]}, {\"marker\": {\"color\": \"red\", \"line\": {\"width\": 0}, \"size\": 2}, \"mode\": \"markers\", \"name\": \"-7.43044616429553\", \"showlegend\": false, \"type\": \"scatter3d\", \"x\": [-0.9540985237729442], \"y\": [-11.521798412170888], \"z\": [1.0395050807158799]}, {\"marker\": {\"color\": \"red\", \"line\": {\"width\": 0}, \"size\": 2}, \"mode\": \"markers\", \"name\": \"-7.419499663992624\", \"showlegend\": false, \"type\": \"scatter3d\", \"x\": [-1.167375452343276], \"y\": [-9.11103082677894], \"z\": [2.352883420246779]}, {\"marker\": {\"color\": \"red\", \"line\": {\"width\": 0}, \"size\": 2}, \"mode\": \"markers\", \"name\": \"-5.327418280604753\", \"showlegend\": false, \"type\": \"scatter3d\", \"x\": [-1.6189239231891213], \"y\": [-9.717659394294776], \"z\": [0.35559454508988164]}, {\"marker\": {\"color\": \"blue\", \"line\": {\"width\": 0}, \"size\": 2}, \"mode\": \"markers\", \"name\": \"1.816886210979866\", \"showlegend\": false, \"type\": \"scatter3d\", \"x\": [2.815140476170738], \"y\": [-0.7715230809383078], \"z\": [-1.8615432636055613]}, {\"marker\": {\"color\": \"red\", \"line\": {\"width\": 0}, \"size\": 2}, \"mode\": \"markers\", \"name\": \"-6.434900430010024\", \"showlegend\": false, \"type\": \"scatter3d\", \"x\": [-2.467714243545209], \"y\": [-10.9026925907463], \"z\": [0.8397543618972337]}, {\"marker\": {\"color\": \"blue\", \"line\": {\"width\": 0}, \"size\": 2}, \"mode\": \"markers\", \"name\": \"3.2708310505717697\", \"showlegend\": false, \"type\": \"scatter3d\", \"x\": [-2.6111194173885], \"y\": [-3.6182375500848063], \"z\": [-3.4755489549556478]}, {\"marker\": {\"color\": \"blue\", \"line\": {\"width\": 0}, \"size\": 2}, \"mode\": \"markers\", \"name\": \"4.721325554909513\", \"showlegend\": false, \"type\": \"scatter3d\", \"x\": [-2.632141027502986], \"y\": [-0.4598978823168711], \"z\": [-3.0229987371752776]}, {\"marker\": {\"color\": \"blue\", \"line\": {\"width\": 0}, \"size\": 2}, \"mode\": \"markers\", \"name\": \"1.9402856730358167\", \"showlegend\": false, \"type\": \"scatter3d\", \"x\": [-0.27369741826522564], \"y\": [-3.07510943607289], \"z\": [-2.5469916880804377]}, {\"marker\": {\"color\": \"red\", \"line\": {\"width\": 0}, \"size\": 2}, \"mode\": \"markers\", \"name\": \"-7.112210411104723\", \"showlegend\": false, \"type\": \"scatter3d\", \"x\": [-0.8562772492940441], \"y\": [-8.682295368407159], \"z\": [2.255863220899003]}, {\"marker\": {\"color\": \"blue\", \"line\": {\"width\": 0}, \"size\": 2}, \"mode\": \"markers\", \"name\": \"3.137269193818632\", \"showlegend\": false, \"type\": \"scatter3d\", \"x\": [0.5109244939452628], \"y\": [-1.4122341513386731], \"z\": [-2.8401393057647053]}, {\"marker\": {\"color\": \"blue\", \"line\": {\"width\": 0}, \"size\": 2}, \"mode\": \"markers\", \"name\": \"4.50996459293455\", \"showlegend\": false, \"type\": \"scatter3d\", \"x\": [-3.3631644102999134], \"y\": [-0.982499871843562], \"z\": [-2.9698066794796447]}, {\"marker\": {\"color\": \"red\", \"line\": {\"width\": 0}, \"size\": 2}, \"mode\": \"markers\", \"name\": \"-5.169960629183325\", \"showlegend\": false, \"type\": \"scatter3d\", \"x\": [-3.6237051481598868], \"y\": [-8.3199538727014], \"z\": [1.3793276051777774]}, {\"marker\": {\"color\": \"red\", \"line\": {\"width\": 0}, \"size\": 2}, \"mode\": \"markers\", \"name\": \"-5.996422073376541\", \"showlegend\": false, \"type\": \"scatter3d\", \"x\": [-0.8982357230332279], \"y\": [-8.915199921999717], \"z\": [1.197457536488295]}, {\"marker\": {\"color\": \"red\", \"line\": {\"width\": 0}, \"size\": 2}, \"mode\": \"markers\", \"name\": \"-8.402287099482406\", \"showlegend\": false, \"type\": \"scatter3d\", \"x\": [-1.6839942264978642], \"y\": [-10.865994029978038], \"z\": [2.3604849815013074]}, {\"marker\": {\"color\": \"blue\", \"line\": {\"width\": 0}, \"size\": 2}, \"mode\": \"markers\", \"name\": \"1.6149660181834125\", \"showlegend\": false, \"type\": \"scatter3d\", \"x\": [-0.17566541418362114], \"y\": [-1.8668860471137454], \"z\": [-1.6514913914502833]}, {\"marker\": {\"color\": \"red\", \"line\": {\"width\": 0}, \"size\": 2}, \"mode\": \"markers\", \"name\": \"-7.237910744469194\", \"showlegend\": false, \"type\": \"scatter3d\", \"x\": [-0.5849823521129334], \"y\": [-11.514941909564786], \"z\": [0.8037802928618021]}, {\"marker\": {\"color\": \"red\", \"line\": {\"width\": 0}, \"size\": 2}, \"mode\": \"markers\", \"name\": \"-5.112199396948156\", \"showlegend\": false, \"type\": \"scatter3d\", \"x\": [-2.3015166876819912], \"y\": [-9.049079662462567], \"z\": [0.669669487497659]}, {\"marker\": {\"color\": \"red\", \"line\": {\"width\": 0}, \"size\": 2}, \"mode\": \"markers\", \"name\": \"-7.019649731647505\", \"showlegend\": false, \"type\": \"scatter3d\", \"x\": [-0.062216324103634424], \"y\": [-9.943480711595555], \"z\": [1.3441380516619292]}, {\"marker\": {\"color\": \"blue\", \"line\": {\"width\": 0}, \"size\": 2}, \"mode\": \"markers\", \"name\": \"3.7689940340626134\", \"showlegend\": false, \"type\": \"scatter3d\", \"x\": [-0.7791814301690143], \"y\": [-0.7631855276368256], \"z\": [-2.7626816126453972]}, {\"marker\": {\"color\": \"blue\", \"line\": {\"width\": 0}, \"size\": 2}, \"mode\": \"markers\", \"name\": \"2.3338236059696182\", \"showlegend\": false, \"type\": \"scatter3d\", \"x\": [-1.7410530238271087], \"y\": [-2.848071176596078], \"z\": [-2.4551399086483734]}, {\"marker\": {\"color\": \"blue\", \"line\": {\"width\": 0}, \"size\": 2}, \"mode\": \"markers\", \"name\": \"3.790577213908484\", \"showlegend\": false, \"type\": \"scatter3d\", \"x\": [-1.846501587197685], \"y\": [-1.2931171450700611], \"z\": [-2.8406398843183185]}, {\"marker\": {\"color\": \"red\", \"line\": {\"width\": 0}, \"size\": 2}, \"mode\": \"markers\", \"name\": \"-4.581931802766318\", \"showlegend\": false, \"type\": \"scatter3d\", \"x\": [-1.661618438925011], \"y\": [-9.41498635429603], \"z\": [-0.10548938942187358]}, {\"marker\": {\"color\": \"blue\", \"line\": {\"width\": 0}, \"size\": 2}, \"mode\": \"markers\", \"name\": \"5.070768599812155\", \"showlegend\": false, \"type\": \"scatter3d\", \"x\": [-3.0584698759102187], \"y\": [-1.70706525528034], \"z\": [-3.891477773844276]}, {\"marker\": {\"color\": \"red\", \"line\": {\"width\": 0}, \"size\": 2}, \"mode\": \"markers\", \"name\": \"-4.647953120182474\", \"showlegend\": false, \"type\": \"scatter3d\", \"x\": [-1.4365361275445485], \"y\": [-9.224904911440879], \"z\": [0.004470508804561124]}, {\"marker\": {\"color\": \"red\", \"line\": {\"width\": 0}, \"size\": 2}, \"mode\": \"markers\", \"name\": \"-7.964409309726637\", \"showlegend\": false, \"type\": \"scatter3d\", \"x\": [0.3043850992357515], \"y\": [-12.140924819825662], \"z\": [0.9017969346835247]}, {\"marker\": {\"color\": \"red\", \"line\": {\"width\": 0}, \"size\": 2}, \"mode\": \"markers\", \"name\": \"-6.208311533797028\", \"showlegend\": false, \"type\": \"scatter3d\", \"x\": [-3.1481926117236885], \"y\": [-7.750290697461706], \"z\": [2.4609275681475955]}, {\"marker\": {\"color\": \"red\", \"line\": {\"width\": 0}, \"size\": 2}, \"mode\": \"markers\", \"name\": \"-4.789030153021866\", \"showlegend\": false, \"type\": \"scatter3d\", \"x\": [-2.0279729064537872], \"y\": [-9.472450112468849], \"z\": [0.11514166433384088]}, {\"marker\": {\"color\": \"red\", \"line\": {\"width\": 0}, \"size\": 2}, \"mode\": \"markers\", \"name\": \"-5.107420786780234\", \"showlegend\": false, \"type\": \"scatter3d\", \"x\": [-2.413235230836907], \"y\": [-9.048382808785483], \"z\": [0.6891631187728673]}, {\"marker\": {\"color\": \"red\", \"line\": {\"width\": 0}, \"size\": 2}, \"mode\": \"markers\", \"name\": \"-5.446739281731259\", \"showlegend\": false, \"type\": \"scatter3d\", \"x\": [-1.5562814494106627], \"y\": [-9.99835925717476], \"z\": [0.2946596076377942]}, {\"marker\": {\"color\": \"blue\", \"line\": {\"width\": 0}, \"size\": 2}, \"mode\": \"markers\", \"name\": \"3.4884881425735634\", \"showlegend\": false, \"type\": \"scatter3d\", \"x\": [-1.1724465660561343], \"y\": [-2.439472710192113], \"z\": [-3.3328411309196055]}, {\"marker\": {\"color\": \"blue\", \"line\": {\"width\": 0}, \"size\": 2}, \"mode\": \"markers\", \"name\": \"5.6752636686948685\", \"showlegend\": false, \"type\": \"scatter3d\", \"x\": [-1.545326266004287], \"y\": [-3.1393185695146357], \"z\": [-5.475955515667467]}, {\"marker\": {\"color\": \"red\", \"line\": {\"width\": 0}, \"size\": 2}, \"mode\": \"markers\", \"name\": \"-6.956325382081769\", \"showlegend\": false, \"type\": \"scatter3d\", \"x\": [-1.357320622512882], \"y\": [-8.656772358005192], \"z\": [2.2414624781712167]}, {\"marker\": {\"color\": \"red\", \"line\": {\"width\": 0}, \"size\": 2}, \"mode\": \"markers\", \"name\": \"-6.070475127705514\", \"showlegend\": false, \"type\": \"scatter3d\", \"x\": [-1.6611944746752747], \"y\": [-9.857144786521168], \"z\": [0.9187787946802018]}, {\"marker\": {\"color\": \"red\", \"line\": {\"width\": 0}, \"size\": 2}, \"mode\": \"markers\", \"name\": \"-7.257685749931957\", \"showlegend\": false, \"type\": \"scatter3d\", \"x\": [-0.7377493850108957], \"y\": [-9.794983560435583], \"z\": [1.7642612956435944]}, {\"marker\": {\"color\": \"blue\", \"line\": {\"width\": 0}, \"size\": 2}, \"mode\": \"markers\", \"name\": \"3.8404185398228554\", \"showlegend\": false, \"type\": \"scatter3d\", \"x\": [-2.7469164972912514], \"y\": [-1.9306617356064473], \"z\": [-3.034170248128713]}, {\"marker\": {\"color\": \"blue\", \"line\": {\"width\": 0}, \"size\": 2}, \"mode\": \"markers\", \"name\": \"2.4403704724941955\", \"showlegend\": false, \"type\": \"scatter3d\", \"x\": [-0.423953950089518], \"y\": [-2.679734533092661], \"z\": [-2.7290821665268874]}, {\"marker\": {\"color\": \"blue\", \"line\": {\"width\": 0}, \"size\": 3}, \"mode\": \"markers\", \"name\": \"d=7.0532760599933395\", \"type\": \"scatter3d\", \"x\": [-2.317067132432493], \"y\": [-2.040818781594588], \"z\": [-5.8987617119969125]}, {\"line\": {\"width\": 6}, \"marker\": {\"size\": 1}, \"name\": \"^ len_d\", \"type\": \"scatter3d\", \"x\": [-2.317067132432493, -1.3830543563342215], \"y\": [-2.040818781594588, -4.429489308649936], \"z\": [-5.8987617119969125, -1.3943214653117249]}, {\"line\": {\"width\": 6}, \"marker\": {\"size\": 1}, \"name\": \"^ proj\", \"type\": \"scatter3d\", \"x\": [-2.317067132432493, -0.8294403946047587], \"y\": [-2.040818781594588, 2.1212341792775313], \"z\": [-5.8987617119969125, -4.000121616421037]}, {\"showlegend\": false, \"showscale\": false, \"type\": \"surface\", \"x\": [[-4.408324499296816, -4.147494786400754, -3.8866650735046937, -3.6258353606086327, -3.3650056477125716, -3.1041759348165106, -2.8433462219204495, -2.5825165090243885, -2.3216867961283274, -2.0608570832322664, -1.8000273703362053, -1.5391976574401443, -1.2783679445440832, -1.0175382316480222, -0.7567085187519611, -0.49587880585590005, -0.235049092959839, 0.025780619936222493, 0.2866103328322831, 0.5474400457283437, 0.8082697586244052, 1.0690994715204667, 1.3299291844165273, 1.590758897312588, 1.8515886102086494, 2.112418323104711, 2.3732480360007715, 2.634077748896832, 2.8949074617928936, 3.155737174688955], [-4.408324499296816, -4.147494786400754, -3.8866650735046937, -3.6258353606086327, -3.3650056477125716, -3.1041759348165106, -2.8433462219204495, -2.5825165090243885, -2.3216867961283274, -2.0608570832322664, -1.8000273703362053, -1.5391976574401443, -1.2783679445440832, -1.0175382316480222, -0.7567085187519611, -0.49587880585590005, -0.235049092959839, 0.025780619936222493, 0.2866103328322831, 0.5474400457283437, 0.8082697586244052, 1.0690994715204667, 1.3299291844165273, 1.590758897312588, 1.8515886102086494, 2.112418323104711, 2.3732480360007715, 2.634077748896832, 2.8949074617928936, 3.155737174688955], [-4.408324499296816, -4.147494786400754, -3.8866650735046937, -3.6258353606086327, -3.3650056477125716, -3.1041759348165106, -2.8433462219204495, -2.5825165090243885, -2.3216867961283274, -2.0608570832322664, -1.8000273703362053, -1.5391976574401443, -1.2783679445440832, -1.0175382316480222, -0.7567085187519611, -0.49587880585590005, -0.235049092959839, 0.025780619936222493, 0.2866103328322831, 0.5474400457283437, 0.8082697586244052, 1.0690994715204667, 1.3299291844165273, 1.590758897312588, 1.8515886102086494, 2.112418323104711, 2.3732480360007715, 2.634077748896832, 2.8949074617928936, 3.155737174688955], [-4.408324499296816, -4.147494786400754, -3.8866650735046937, -3.6258353606086327, -3.3650056477125716, -3.1041759348165106, -2.8433462219204495, -2.5825165090243885, -2.3216867961283274, -2.0608570832322664, -1.8000273703362053, -1.5391976574401443, -1.2783679445440832, -1.0175382316480222, -0.7567085187519611, -0.49587880585590005, -0.235049092959839, 0.025780619936222493, 0.2866103328322831, 0.5474400457283437, 0.8082697586244052, 1.0690994715204667, 1.3299291844165273, 1.590758897312588, 1.8515886102086494, 2.112418323104711, 2.3732480360007715, 2.634077748896832, 2.8949074617928936, 3.155737174688955], [-4.408324499296816, -4.147494786400754, -3.8866650735046937, -3.6258353606086327, -3.3650056477125716, -3.1041759348165106, -2.8433462219204495, -2.5825165090243885, -2.3216867961283274, -2.0608570832322664, -1.8000273703362053, -1.5391976574401443, -1.2783679445440832, -1.0175382316480222, -0.7567085187519611, -0.49587880585590005, -0.235049092959839, 0.025780619936222493, 0.2866103328322831, 0.5474400457283437, 0.8082697586244052, 1.0690994715204667, 1.3299291844165273, 1.590758897312588, 1.8515886102086494, 2.112418323104711, 2.3732480360007715, 2.634077748896832, 2.8949074617928936, 3.155737174688955], [-4.408324499296816, -4.147494786400754, -3.8866650735046937, -3.6258353606086327, -3.3650056477125716, -3.1041759348165106, -2.8433462219204495, -2.5825165090243885, -2.3216867961283274, -2.0608570832322664, -1.8000273703362053, -1.5391976574401443, -1.2783679445440832, -1.0175382316480222, -0.7567085187519611, -0.49587880585590005, -0.235049092959839, 0.025780619936222493, 0.2866103328322831, 0.5474400457283437, 0.8082697586244052, 1.0690994715204667, 1.3299291844165273, 1.590758897312588, 1.8515886102086494, 2.112418323104711, 2.3732480360007715, 2.634077748896832, 2.8949074617928936, 3.155737174688955], [-4.408324499296816, -4.147494786400754, -3.8866650735046937, -3.6258353606086327, -3.3650056477125716, -3.1041759348165106, -2.8433462219204495, -2.5825165090243885, -2.3216867961283274, -2.0608570832322664, -1.8000273703362053, -1.5391976574401443, -1.2783679445440832, -1.0175382316480222, -0.7567085187519611, -0.49587880585590005, -0.235049092959839, 0.025780619936222493, 0.2866103328322831, 0.5474400457283437, 0.8082697586244052, 1.0690994715204667, 1.3299291844165273, 1.590758897312588, 1.8515886102086494, 2.112418323104711, 2.3732480360007715, 2.634077748896832, 2.8949074617928936, 3.155737174688955], [-4.408324499296816, -4.147494786400754, -3.8866650735046937, -3.6258353606086327, -3.3650056477125716, -3.1041759348165106, -2.8433462219204495, -2.5825165090243885, -2.3216867961283274, -2.0608570832322664, -1.8000273703362053, -1.5391976574401443, -1.2783679445440832, -1.0175382316480222, -0.7567085187519611, -0.49587880585590005, -0.235049092959839, 0.025780619936222493, 0.2866103328322831, 0.5474400457283437, 0.8082697586244052, 1.0690994715204667, 1.3299291844165273, 1.590758897312588, 1.8515886102086494, 2.112418323104711, 2.3732480360007715, 2.634077748896832, 2.8949074617928936, 3.155737174688955], [-4.408324499296816, -4.147494786400754, -3.8866650735046937, -3.6258353606086327, -3.3650056477125716, -3.1041759348165106, -2.8433462219204495, -2.5825165090243885, -2.3216867961283274, -2.0608570832322664, -1.8000273703362053, -1.5391976574401443, -1.2783679445440832, -1.0175382316480222, -0.7567085187519611, -0.49587880585590005, -0.235049092959839, 0.025780619936222493, 0.2866103328322831, 0.5474400457283437, 0.8082697586244052, 1.0690994715204667, 1.3299291844165273, 1.590758897312588, 1.8515886102086494, 2.112418323104711, 2.3732480360007715, 2.634077748896832, 2.8949074617928936, 3.155737174688955], [-4.408324499296816, -4.147494786400754, -3.8866650735046937, -3.6258353606086327, -3.3650056477125716, -3.1041759348165106, -2.8433462219204495, -2.5825165090243885, -2.3216867961283274, -2.0608570832322664, -1.8000273703362053, -1.5391976574401443, -1.2783679445440832, -1.0175382316480222, -0.7567085187519611, -0.49587880585590005, -0.235049092959839, 0.025780619936222493, 0.2866103328322831, 0.5474400457283437, 0.8082697586244052, 1.0690994715204667, 1.3299291844165273, 1.590758897312588, 1.8515886102086494, 2.112418323104711, 2.3732480360007715, 2.634077748896832, 2.8949074617928936, 3.155737174688955], [-4.408324499296816, -4.147494786400754, -3.8866650735046937, -3.6258353606086327, -3.3650056477125716, -3.1041759348165106, -2.8433462219204495, -2.5825165090243885, -2.3216867961283274, -2.0608570832322664, -1.8000273703362053, -1.5391976574401443, -1.2783679445440832, -1.0175382316480222, -0.7567085187519611, -0.49587880585590005, -0.235049092959839, 0.025780619936222493, 0.2866103328322831, 0.5474400457283437, 0.8082697586244052, 1.0690994715204667, 1.3299291844165273, 1.590758897312588, 1.8515886102086494, 2.112418323104711, 2.3732480360007715, 2.634077748896832, 2.8949074617928936, 3.155737174688955], [-4.408324499296816, -4.147494786400754, -3.8866650735046937, -3.6258353606086327, -3.3650056477125716, -3.1041759348165106, -2.8433462219204495, -2.5825165090243885, -2.3216867961283274, -2.0608570832322664, -1.8000273703362053, -1.5391976574401443, -1.2783679445440832, -1.0175382316480222, -0.7567085187519611, -0.49587880585590005, -0.235049092959839, 0.025780619936222493, 0.2866103328322831, 0.5474400457283437, 0.8082697586244052, 1.0690994715204667, 1.3299291844165273, 1.590758897312588, 1.8515886102086494, 2.112418323104711, 2.3732480360007715, 2.634077748896832, 2.8949074617928936, 3.155737174688955], [-4.408324499296816, -4.147494786400754, -3.8866650735046937, -3.6258353606086327, -3.3650056477125716, -3.1041759348165106, -2.8433462219204495, -2.5825165090243885, -2.3216867961283274, -2.0608570832322664, -1.8000273703362053, -1.5391976574401443, -1.2783679445440832, -1.0175382316480222, -0.7567085187519611, -0.49587880585590005, -0.235049092959839, 0.025780619936222493, 0.2866103328322831, 0.5474400457283437, 0.8082697586244052, 1.0690994715204667, 1.3299291844165273, 1.590758897312588, 1.8515886102086494, 2.112418323104711, 2.3732480360007715, 2.634077748896832, 2.8949074617928936, 3.155737174688955], [-4.408324499296816, -4.147494786400754, -3.8866650735046937, -3.6258353606086327, -3.3650056477125716, -3.1041759348165106, -2.8433462219204495, -2.5825165090243885, -2.3216867961283274, -2.0608570832322664, -1.8000273703362053, -1.5391976574401443, -1.2783679445440832, -1.0175382316480222, -0.7567085187519611, -0.49587880585590005, -0.235049092959839, 0.025780619936222493, 0.2866103328322831, 0.5474400457283437, 0.8082697586244052, 1.0690994715204667, 1.3299291844165273, 1.590758897312588, 1.8515886102086494, 2.112418323104711, 2.3732480360007715, 2.634077748896832, 2.8949074617928936, 3.155737174688955], [-4.408324499296816, -4.147494786400754, -3.8866650735046937, -3.6258353606086327, -3.3650056477125716, -3.1041759348165106, -2.8433462219204495, -2.5825165090243885, -2.3216867961283274, -2.0608570832322664, -1.8000273703362053, -1.5391976574401443, -1.2783679445440832, -1.0175382316480222, -0.7567085187519611, -0.49587880585590005, -0.235049092959839, 0.025780619936222493, 0.2866103328322831, 0.5474400457283437, 0.8082697586244052, 1.0690994715204667, 1.3299291844165273, 1.590758897312588, 1.8515886102086494, 2.112418323104711, 2.3732480360007715, 2.634077748896832, 2.8949074617928936, 3.155737174688955], [-4.408324499296816, -4.147494786400754, -3.8866650735046937, -3.6258353606086327, -3.3650056477125716, -3.1041759348165106, -2.8433462219204495, -2.5825165090243885, -2.3216867961283274, -2.0608570832322664, -1.8000273703362053, -1.5391976574401443, -1.2783679445440832, -1.0175382316480222, -0.7567085187519611, -0.49587880585590005, -0.235049092959839, 0.025780619936222493, 0.2866103328322831, 0.5474400457283437, 0.8082697586244052, 1.0690994715204667, 1.3299291844165273, 1.590758897312588, 1.8515886102086494, 2.112418323104711, 2.3732480360007715, 2.634077748896832, 2.8949074617928936, 3.155737174688955], [-4.408324499296816, -4.147494786400754, -3.8866650735046937, -3.6258353606086327, -3.3650056477125716, -3.1041759348165106, -2.8433462219204495, -2.5825165090243885, -2.3216867961283274, -2.0608570832322664, -1.8000273703362053, -1.5391976574401443, -1.2783679445440832, -1.0175382316480222, -0.7567085187519611, -0.49587880585590005, -0.235049092959839, 0.025780619936222493, 0.2866103328322831, 0.5474400457283437, 0.8082697586244052, 1.0690994715204667, 1.3299291844165273, 1.590758897312588, 1.8515886102086494, 2.112418323104711, 2.3732480360007715, 2.634077748896832, 2.8949074617928936, 3.155737174688955], [-4.408324499296816, -4.147494786400754, -3.8866650735046937, -3.6258353606086327, -3.3650056477125716, -3.1041759348165106, -2.8433462219204495, -2.5825165090243885, -2.3216867961283274, -2.0608570832322664, -1.8000273703362053, -1.5391976574401443, -1.2783679445440832, -1.0175382316480222, -0.7567085187519611, -0.49587880585590005, -0.235049092959839, 0.025780619936222493, 0.2866103328322831, 0.5474400457283437, 0.8082697586244052, 1.0690994715204667, 1.3299291844165273, 1.590758897312588, 1.8515886102086494, 2.112418323104711, 2.3732480360007715, 2.634077748896832, 2.8949074617928936, 3.155737174688955], [-4.408324499296816, -4.147494786400754, -3.8866650735046937, -3.6258353606086327, -3.3650056477125716, -3.1041759348165106, -2.8433462219204495, -2.5825165090243885, -2.3216867961283274, -2.0608570832322664, -1.8000273703362053, -1.5391976574401443, -1.2783679445440832, -1.0175382316480222, -0.7567085187519611, -0.49587880585590005, -0.235049092959839, 0.025780619936222493, 0.2866103328322831, 0.5474400457283437, 0.8082697586244052, 1.0690994715204667, 1.3299291844165273, 1.590758897312588, 1.8515886102086494, 2.112418323104711, 2.3732480360007715, 2.634077748896832, 2.8949074617928936, 3.155737174688955], [-4.408324499296816, -4.147494786400754, -3.8866650735046937, -3.6258353606086327, -3.3650056477125716, -3.1041759348165106, -2.8433462219204495, -2.5825165090243885, -2.3216867961283274, -2.0608570832322664, -1.8000273703362053, -1.5391976574401443, -1.2783679445440832, -1.0175382316480222, -0.7567085187519611, -0.49587880585590005, -0.235049092959839, 0.025780619936222493, 0.2866103328322831, 0.5474400457283437, 0.8082697586244052, 1.0690994715204667, 1.3299291844165273, 1.590758897312588, 1.8515886102086494, 2.112418323104711, 2.3732480360007715, 2.634077748896832, 2.8949074617928936, 3.155737174688955], [-4.408324499296816, -4.147494786400754, -3.8866650735046937, -3.6258353606086327, -3.3650056477125716, -3.1041759348165106, -2.8433462219204495, -2.5825165090243885, -2.3216867961283274, -2.0608570832322664, -1.8000273703362053, -1.5391976574401443, -1.2783679445440832, -1.0175382316480222, -0.7567085187519611, -0.49587880585590005, -0.235049092959839, 0.025780619936222493, 0.2866103328322831, 0.5474400457283437, 0.8082697586244052, 1.0690994715204667, 1.3299291844165273, 1.590758897312588, 1.8515886102086494, 2.112418323104711, 2.3732480360007715, 2.634077748896832, 2.8949074617928936, 3.155737174688955], [-4.408324499296816, -4.147494786400754, -3.8866650735046937, -3.6258353606086327, -3.3650056477125716, -3.1041759348165106, -2.8433462219204495, -2.5825165090243885, -2.3216867961283274, -2.0608570832322664, -1.8000273703362053, -1.5391976574401443, -1.2783679445440832, -1.0175382316480222, -0.7567085187519611, -0.49587880585590005, -0.235049092959839, 0.025780619936222493, 0.2866103328322831, 0.5474400457283437, 0.8082697586244052, 1.0690994715204667, 1.3299291844165273, 1.590758897312588, 1.8515886102086494, 2.112418323104711, 2.3732480360007715, 2.634077748896832, 2.8949074617928936, 3.155737174688955], [-4.408324499296816, -4.147494786400754, -3.8866650735046937, -3.6258353606086327, -3.3650056477125716, -3.1041759348165106, -2.8433462219204495, -2.5825165090243885, -2.3216867961283274, -2.0608570832322664, -1.8000273703362053, -1.5391976574401443, -1.2783679445440832, -1.0175382316480222, -0.7567085187519611, -0.49587880585590005, -0.235049092959839, 0.025780619936222493, 0.2866103328322831, 0.5474400457283437, 0.8082697586244052, 1.0690994715204667, 1.3299291844165273, 1.590758897312588, 1.8515886102086494, 2.112418323104711, 2.3732480360007715, 2.634077748896832, 2.8949074617928936, 3.155737174688955], [-4.408324499296816, -4.147494786400754, -3.8866650735046937, -3.6258353606086327, -3.3650056477125716, -3.1041759348165106, -2.8433462219204495, -2.5825165090243885, -2.3216867961283274, -2.0608570832322664, -1.8000273703362053, -1.5391976574401443, -1.2783679445440832, -1.0175382316480222, -0.7567085187519611, -0.49587880585590005, -0.235049092959839, 0.025780619936222493, 0.2866103328322831, 0.5474400457283437, 0.8082697586244052, 1.0690994715204667, 1.3299291844165273, 1.590758897312588, 1.8515886102086494, 2.112418323104711, 2.3732480360007715, 2.634077748896832, 2.8949074617928936, 3.155737174688955], [-4.408324499296816, -4.147494786400754, -3.8866650735046937, -3.6258353606086327, -3.3650056477125716, -3.1041759348165106, -2.8433462219204495, -2.5825165090243885, -2.3216867961283274, -2.0608570832322664, -1.8000273703362053, -1.5391976574401443, -1.2783679445440832, -1.0175382316480222, -0.7567085187519611, -0.49587880585590005, -0.235049092959839, 0.025780619936222493, 0.2866103328322831, 0.5474400457283437, 0.8082697586244052, 1.0690994715204667, 1.3299291844165273, 1.590758897312588, 1.8515886102086494, 2.112418323104711, 2.3732480360007715, 2.634077748896832, 2.8949074617928936, 3.155737174688955], [-4.408324499296816, -4.147494786400754, -3.8866650735046937, -3.6258353606086327, -3.3650056477125716, -3.1041759348165106, -2.8433462219204495, -2.5825165090243885, -2.3216867961283274, -2.0608570832322664, -1.8000273703362053, -1.5391976574401443, -1.2783679445440832, -1.0175382316480222, -0.7567085187519611, -0.49587880585590005, -0.235049092959839, 0.025780619936222493, 0.2866103328322831, 0.5474400457283437, 0.8082697586244052, 1.0690994715204667, 1.3299291844165273, 1.590758897312588, 1.8515886102086494, 2.112418323104711, 2.3732480360007715, 2.634077748896832, 2.8949074617928936, 3.155737174688955], [-4.408324499296816, -4.147494786400754, -3.8866650735046937, -3.6258353606086327, -3.3650056477125716, -3.1041759348165106, -2.8433462219204495, -2.5825165090243885, -2.3216867961283274, -2.0608570832322664, -1.8000273703362053, -1.5391976574401443, -1.2783679445440832, -1.0175382316480222, -0.7567085187519611, -0.49587880585590005, -0.235049092959839, 0.025780619936222493, 0.2866103328322831, 0.5474400457283437, 0.8082697586244052, 1.0690994715204667, 1.3299291844165273, 1.590758897312588, 1.8515886102086494, 2.112418323104711, 2.3732480360007715, 2.634077748896832, 2.8949074617928936, 3.155737174688955], [-4.408324499296816, -4.147494786400754, -3.8866650735046937, -3.6258353606086327, -3.3650056477125716, -3.1041759348165106, -2.8433462219204495, -2.5825165090243885, -2.3216867961283274, -2.0608570832322664, -1.8000273703362053, -1.5391976574401443, -1.2783679445440832, -1.0175382316480222, -0.7567085187519611, -0.49587880585590005, -0.235049092959839, 0.025780619936222493, 0.2866103328322831, 0.5474400457283437, 0.8082697586244052, 1.0690994715204667, 1.3299291844165273, 1.590758897312588, 1.8515886102086494, 2.112418323104711, 2.3732480360007715, 2.634077748896832, 2.8949074617928936, 3.155737174688955], [-4.408324499296816, -4.147494786400754, -3.8866650735046937, -3.6258353606086327, -3.3650056477125716, -3.1041759348165106, -2.8433462219204495, -2.5825165090243885, -2.3216867961283274, -2.0608570832322664, -1.8000273703362053, -1.5391976574401443, -1.2783679445440832, -1.0175382316480222, -0.7567085187519611, -0.49587880585590005, -0.235049092959839, 0.025780619936222493, 0.2866103328322831, 0.5474400457283437, 0.8082697586244052, 1.0690994715204667, 1.3299291844165273, 1.590758897312588, 1.8515886102086494, 2.112418323104711, 2.3732480360007715, 2.634077748896832, 2.8949074617928936, 3.155737174688955], [-4.408324499296816, -4.147494786400754, -3.8866650735046937, -3.6258353606086327, -3.3650056477125716, -3.1041759348165106, -2.8433462219204495, -2.5825165090243885, -2.3216867961283274, -2.0608570832322664, -1.8000273703362053, -1.5391976574401443, -1.2783679445440832, -1.0175382316480222, -0.7567085187519611, -0.49587880585590005, -0.235049092959839, 0.025780619936222493, 0.2866103328322831, 0.5474400457283437, 0.8082697586244052, 1.0690994715204667, 1.3299291844165273, 1.590758897312588, 1.8515886102086494, 2.112418323104711, 2.3732480360007715, 2.634077748896832, 2.8949074617928936, 3.155737174688955]], \"y\": [[-9.54368886567711, -9.54368886567711, -9.54368886567711, -9.54368886567711, -9.54368886567711, -9.54368886567711, -9.54368886567711, -9.54368886567711, -9.54368886567711, -9.54368886567711, -9.54368886567711, -9.54368886567711, -9.54368886567711, -9.54368886567711, -9.54368886567711, -9.54368886567711, -9.54368886567711, -9.54368886567711, -9.54368886567711, -9.54368886567711, -9.54368886567711, -9.54368886567711, -9.54368886567711, -9.54368886567711, -9.54368886567711, -9.54368886567711, -9.54368886567711, -9.54368886567711, -9.54368886567711, -9.54368886567711], [-9.253674443295726, -9.253674443295726, -9.253674443295726, -9.253674443295726, -9.253674443295726, -9.253674443295726, -9.253674443295726, -9.253674443295726, -9.253674443295726, -9.253674443295726, -9.253674443295726, -9.253674443295726, -9.253674443295726, -9.253674443295726, -9.253674443295726, -9.253674443295726, -9.253674443295726, -9.253674443295726, -9.253674443295726, -9.253674443295726, -9.253674443295726, -9.253674443295726, -9.253674443295726, -9.253674443295726, -9.253674443295726, -9.253674443295726, -9.253674443295726, -9.253674443295726, -9.253674443295726, -9.253674443295726], [-8.96366002091434, -8.96366002091434, -8.96366002091434, -8.96366002091434, -8.96366002091434, -8.96366002091434, -8.96366002091434, -8.96366002091434, -8.96366002091434, -8.96366002091434, -8.96366002091434, -8.96366002091434, -8.96366002091434, -8.96366002091434, -8.96366002091434, -8.96366002091434, -8.96366002091434, -8.96366002091434, -8.96366002091434, -8.96366002091434, -8.96366002091434, -8.96366002091434, -8.96366002091434, -8.96366002091434, -8.96366002091434, -8.96366002091434, -8.96366002091434, -8.96366002091434, -8.96366002091434, -8.96366002091434], [-8.673645598532955, -8.673645598532955, -8.673645598532955, -8.673645598532955, -8.673645598532955, -8.673645598532955, -8.673645598532955, -8.673645598532955, -8.673645598532955, -8.673645598532955, -8.673645598532955, -8.673645598532955, -8.673645598532955, -8.673645598532955, -8.673645598532955, -8.673645598532955, -8.673645598532955, -8.673645598532955, -8.673645598532955, -8.673645598532955, -8.673645598532955, -8.673645598532955, -8.673645598532955, -8.673645598532955, -8.673645598532955, -8.673645598532955, -8.673645598532955, -8.673645598532955, -8.673645598532955, -8.673645598532955], [-8.383631176151571, -8.383631176151571, -8.383631176151571, -8.383631176151571, -8.383631176151571, -8.383631176151571, -8.383631176151571, -8.383631176151571, -8.383631176151571, -8.383631176151571, -8.383631176151571, -8.383631176151571, -8.383631176151571, -8.383631176151571, -8.383631176151571, -8.383631176151571, -8.383631176151571, -8.383631176151571, -8.383631176151571, -8.383631176151571, -8.383631176151571, -8.383631176151571, -8.383631176151571, -8.383631176151571, -8.383631176151571, -8.383631176151571, -8.383631176151571, -8.383631176151571, -8.383631176151571, -8.383631176151571], [-8.093616753770185, -8.093616753770185, -8.093616753770185, -8.093616753770185, -8.093616753770185, -8.093616753770185, -8.093616753770185, -8.093616753770185, -8.093616753770185, -8.093616753770185, -8.093616753770185, -8.093616753770185, -8.093616753770185, -8.093616753770185, -8.093616753770185, -8.093616753770185, -8.093616753770185, -8.093616753770185, -8.093616753770185, -8.093616753770185, -8.093616753770185, -8.093616753770185, -8.093616753770185, -8.093616753770185, -8.093616753770185, -8.093616753770185, -8.093616753770185, -8.093616753770185, -8.093616753770185, -8.093616753770185], [-7.8036023313888006, -7.8036023313888006, -7.8036023313888006, -7.8036023313888006, -7.8036023313888006, -7.8036023313888006, -7.8036023313888006, -7.8036023313888006, -7.8036023313888006, -7.8036023313888006, -7.8036023313888006, -7.8036023313888006, -7.8036023313888006, -7.8036023313888006, -7.8036023313888006, -7.8036023313888006, -7.8036023313888006, -7.8036023313888006, -7.8036023313888006, -7.8036023313888006, -7.8036023313888006, -7.8036023313888006, -7.8036023313888006, -7.8036023313888006, -7.8036023313888006, -7.8036023313888006, -7.8036023313888006, -7.8036023313888006, -7.8036023313888006, -7.8036023313888006], [-7.513587909007415, -7.513587909007415, -7.513587909007415, -7.513587909007415, -7.513587909007415, -7.513587909007415, -7.513587909007415, -7.513587909007415, -7.513587909007415, -7.513587909007415, -7.513587909007415, -7.513587909007415, -7.513587909007415, -7.513587909007415, -7.513587909007415, -7.513587909007415, -7.513587909007415, -7.513587909007415, -7.513587909007415, -7.513587909007415, -7.513587909007415, -7.513587909007415, -7.513587909007415, -7.513587909007415, -7.513587909007415, -7.513587909007415, -7.513587909007415, -7.513587909007415, -7.513587909007415, -7.513587909007415], [-7.22357348662603, -7.22357348662603, -7.22357348662603, -7.22357348662603, -7.22357348662603, -7.22357348662603, -7.22357348662603, -7.22357348662603, -7.22357348662603, -7.22357348662603, -7.22357348662603, -7.22357348662603, -7.22357348662603, -7.22357348662603, -7.22357348662603, -7.22357348662603, -7.22357348662603, -7.22357348662603, -7.22357348662603, -7.22357348662603, -7.22357348662603, -7.22357348662603, -7.22357348662603, -7.22357348662603, -7.22357348662603, -7.22357348662603, -7.22357348662603, -7.22357348662603, -7.22357348662603, -7.22357348662603], [-6.933559064244645, -6.933559064244645, -6.933559064244645, -6.933559064244645, -6.933559064244645, -6.933559064244645, -6.933559064244645, -6.933559064244645, -6.933559064244645, -6.933559064244645, -6.933559064244645, -6.933559064244645, -6.933559064244645, -6.933559064244645, -6.933559064244645, -6.933559064244645, -6.933559064244645, -6.933559064244645, -6.933559064244645, -6.933559064244645, -6.933559064244645, -6.933559064244645, -6.933559064244645, -6.933559064244645, -6.933559064244645, -6.933559064244645, -6.933559064244645, -6.933559064244645, -6.933559064244645, -6.933559064244645], [-6.64354464186326, -6.64354464186326, -6.64354464186326, -6.64354464186326, -6.64354464186326, -6.64354464186326, -6.64354464186326, -6.64354464186326, -6.64354464186326, -6.64354464186326, -6.64354464186326, -6.64354464186326, -6.64354464186326, -6.64354464186326, -6.64354464186326, -6.64354464186326, -6.64354464186326, -6.64354464186326, -6.64354464186326, -6.64354464186326, -6.64354464186326, -6.64354464186326, -6.64354464186326, -6.64354464186326, -6.64354464186326, -6.64354464186326, -6.64354464186326, -6.64354464186326, -6.64354464186326, -6.64354464186326], [-6.3535302194818755, -6.3535302194818755, -6.3535302194818755, -6.3535302194818755, -6.3535302194818755, -6.3535302194818755, -6.3535302194818755, -6.3535302194818755, -6.3535302194818755, -6.3535302194818755, -6.3535302194818755, -6.3535302194818755, -6.3535302194818755, -6.3535302194818755, -6.3535302194818755, -6.3535302194818755, -6.3535302194818755, -6.3535302194818755, -6.3535302194818755, -6.3535302194818755, -6.3535302194818755, -6.3535302194818755, -6.3535302194818755, -6.3535302194818755, -6.3535302194818755, -6.3535302194818755, -6.3535302194818755, -6.3535302194818755, -6.3535302194818755, -6.3535302194818755], [-6.06351579710049, -6.06351579710049, -6.06351579710049, -6.06351579710049, -6.06351579710049, -6.06351579710049, -6.06351579710049, -6.06351579710049, -6.06351579710049, -6.06351579710049, -6.06351579710049, -6.06351579710049, -6.06351579710049, -6.06351579710049, -6.06351579710049, -6.06351579710049, -6.06351579710049, -6.06351579710049, -6.06351579710049, -6.06351579710049, -6.06351579710049, -6.06351579710049, -6.06351579710049, -6.06351579710049, -6.06351579710049, -6.06351579710049, -6.06351579710049, -6.06351579710049, -6.06351579710049, -6.06351579710049], [-5.773501374719105, -5.773501374719105, -5.773501374719105, -5.773501374719105, -5.773501374719105, -5.773501374719105, -5.773501374719105, -5.773501374719105, -5.773501374719105, -5.773501374719105, -5.773501374719105, -5.773501374719105, -5.773501374719105, -5.773501374719105, -5.773501374719105, -5.773501374719105, -5.773501374719105, -5.773501374719105, -5.773501374719105, -5.773501374719105, -5.773501374719105, -5.773501374719105, -5.773501374719105, -5.773501374719105, -5.773501374719105, -5.773501374719105, -5.773501374719105, -5.773501374719105, -5.773501374719105, -5.773501374719105], [-5.483486952337721, -5.483486952337721, -5.483486952337721, -5.483486952337721, -5.483486952337721, -5.483486952337721, -5.483486952337721, -5.483486952337721, -5.483486952337721, -5.483486952337721, -5.483486952337721, -5.483486952337721, -5.483486952337721, -5.483486952337721, -5.483486952337721, -5.483486952337721, -5.483486952337721, -5.483486952337721, -5.483486952337721, -5.483486952337721, -5.483486952337721, -5.483486952337721, -5.483486952337721, -5.483486952337721, -5.483486952337721, -5.483486952337721, -5.483486952337721, -5.483486952337721, -5.483486952337721, -5.483486952337721], [-5.193472529956336, -5.193472529956336, -5.193472529956336, -5.193472529956336, -5.193472529956336, -5.193472529956336, -5.193472529956336, -5.193472529956336, -5.193472529956336, -5.193472529956336, -5.193472529956336, -5.193472529956336, -5.193472529956336, -5.193472529956336, -5.193472529956336, -5.193472529956336, -5.193472529956336, -5.193472529956336, -5.193472529956336, -5.193472529956336, -5.193472529956336, -5.193472529956336, -5.193472529956336, -5.193472529956336, -5.193472529956336, -5.193472529956336, -5.193472529956336, -5.193472529956336, -5.193472529956336, -5.193472529956336], [-4.90345810757495, -4.90345810757495, -4.90345810757495, -4.90345810757495, -4.90345810757495, -4.90345810757495, -4.90345810757495, -4.90345810757495, -4.90345810757495, -4.90345810757495, -4.90345810757495, -4.90345810757495, -4.90345810757495, -4.90345810757495, -4.90345810757495, -4.90345810757495, -4.90345810757495, -4.90345810757495, -4.90345810757495, -4.90345810757495, -4.90345810757495, -4.90345810757495, -4.90345810757495, -4.90345810757495, -4.90345810757495, -4.90345810757495, -4.90345810757495, -4.90345810757495, -4.90345810757495, -4.90345810757495], [-4.613443685193565, -4.613443685193565, -4.613443685193565, -4.613443685193565, -4.613443685193565, -4.613443685193565, -4.613443685193565, -4.613443685193565, -4.613443685193565, -4.613443685193565, -4.613443685193565, -4.613443685193565, -4.613443685193565, -4.613443685193565, -4.613443685193565, -4.613443685193565, -4.613443685193565, -4.613443685193565, -4.613443685193565, -4.613443685193565, -4.613443685193565, -4.613443685193565, -4.613443685193565, -4.613443685193565, -4.613443685193565, -4.613443685193565, -4.613443685193565, -4.613443685193565, -4.613443685193565, -4.613443685193565], [-4.32342926281218, -4.32342926281218, -4.32342926281218, -4.32342926281218, -4.32342926281218, -4.32342926281218, -4.32342926281218, -4.32342926281218, -4.32342926281218, -4.32342926281218, -4.32342926281218, -4.32342926281218, -4.32342926281218, -4.32342926281218, -4.32342926281218, -4.32342926281218, -4.32342926281218, -4.32342926281218, -4.32342926281218, -4.32342926281218, -4.32342926281218, -4.32342926281218, -4.32342926281218, -4.32342926281218, -4.32342926281218, -4.32342926281218, -4.32342926281218, -4.32342926281218, -4.32342926281218, -4.32342926281218], [-4.033414840430796, -4.033414840430796, -4.033414840430796, -4.033414840430796, -4.033414840430796, -4.033414840430796, -4.033414840430796, -4.033414840430796, -4.033414840430796, -4.033414840430796, -4.033414840430796, -4.033414840430796, -4.033414840430796, -4.033414840430796, -4.033414840430796, -4.033414840430796, -4.033414840430796, -4.033414840430796, -4.033414840430796, -4.033414840430796, -4.033414840430796, -4.033414840430796, -4.033414840430796, -4.033414840430796, -4.033414840430796, -4.033414840430796, -4.033414840430796, -4.033414840430796, -4.033414840430796, -4.033414840430796], [-3.7434004180494105, -3.7434004180494105, -3.7434004180494105, -3.7434004180494105, -3.7434004180494105, -3.7434004180494105, -3.7434004180494105, -3.7434004180494105, -3.7434004180494105, -3.7434004180494105, -3.7434004180494105, -3.7434004180494105, -3.7434004180494105, -3.7434004180494105, -3.7434004180494105, -3.7434004180494105, -3.7434004180494105, -3.7434004180494105, -3.7434004180494105, -3.7434004180494105, -3.7434004180494105, -3.7434004180494105, -3.7434004180494105, -3.7434004180494105, -3.7434004180494105, -3.7434004180494105, -3.7434004180494105, -3.7434004180494105, -3.7434004180494105, -3.7434004180494105], [-3.4533859956680253, -3.4533859956680253, -3.4533859956680253, -3.4533859956680253, -3.4533859956680253, -3.4533859956680253, -3.4533859956680253, -3.4533859956680253, -3.4533859956680253, -3.4533859956680253, -3.4533859956680253, -3.4533859956680253, -3.4533859956680253, -3.4533859956680253, -3.4533859956680253, -3.4533859956680253, -3.4533859956680253, -3.4533859956680253, -3.4533859956680253, -3.4533859956680253, -3.4533859956680253, -3.4533859956680253, -3.4533859956680253, -3.4533859956680253, -3.4533859956680253, -3.4533859956680253, -3.4533859956680253, -3.4533859956680253, -3.4533859956680253, -3.4533859956680253], [-3.163371573286641, -3.163371573286641, -3.163371573286641, -3.163371573286641, -3.163371573286641, -3.163371573286641, -3.163371573286641, -3.163371573286641, -3.163371573286641, -3.163371573286641, -3.163371573286641, -3.163371573286641, -3.163371573286641, -3.163371573286641, -3.163371573286641, -3.163371573286641, -3.163371573286641, -3.163371573286641, -3.163371573286641, -3.163371573286641, -3.163371573286641, -3.163371573286641, -3.163371573286641, -3.163371573286641, -3.163371573286641, -3.163371573286641, -3.163371573286641, -3.163371573286641, -3.163371573286641, -3.163371573286641], [-2.873357150905256, -2.873357150905256, -2.873357150905256, -2.873357150905256, -2.873357150905256, -2.873357150905256, -2.873357150905256, -2.873357150905256, -2.873357150905256, -2.873357150905256, -2.873357150905256, -2.873357150905256, -2.873357150905256, -2.873357150905256, -2.873357150905256, -2.873357150905256, -2.873357150905256, -2.873357150905256, -2.873357150905256, -2.873357150905256, -2.873357150905256, -2.873357150905256, -2.873357150905256, -2.873357150905256, -2.873357150905256, -2.873357150905256, -2.873357150905256, -2.873357150905256, -2.873357150905256, -2.873357150905256], [-2.5833427285238706, -2.5833427285238706, -2.5833427285238706, -2.5833427285238706, -2.5833427285238706, -2.5833427285238706, -2.5833427285238706, -2.5833427285238706, -2.5833427285238706, -2.5833427285238706, -2.5833427285238706, -2.5833427285238706, -2.5833427285238706, -2.5833427285238706, -2.5833427285238706, -2.5833427285238706, -2.5833427285238706, -2.5833427285238706, -2.5833427285238706, -2.5833427285238706, -2.5833427285238706, -2.5833427285238706, -2.5833427285238706, -2.5833427285238706, -2.5833427285238706, -2.5833427285238706, -2.5833427285238706, -2.5833427285238706, -2.5833427285238706, -2.5833427285238706], [-2.2933283061424854, -2.2933283061424854, -2.2933283061424854, -2.2933283061424854, -2.2933283061424854, -2.2933283061424854, -2.2933283061424854, -2.2933283061424854, -2.2933283061424854, -2.2933283061424854, -2.2933283061424854, -2.2933283061424854, -2.2933283061424854, -2.2933283061424854, -2.2933283061424854, -2.2933283061424854, -2.2933283061424854, -2.2933283061424854, -2.2933283061424854, -2.2933283061424854, -2.2933283061424854, -2.2933283061424854, -2.2933283061424854, -2.2933283061424854, -2.2933283061424854, -2.2933283061424854, -2.2933283061424854, -2.2933283061424854, -2.2933283061424854, -2.2933283061424854], [-2.0033138837611, -2.0033138837611, -2.0033138837611, -2.0033138837611, -2.0033138837611, -2.0033138837611, -2.0033138837611, -2.0033138837611, -2.0033138837611, -2.0033138837611, -2.0033138837611, -2.0033138837611, -2.0033138837611, -2.0033138837611, -2.0033138837611, -2.0033138837611, -2.0033138837611, -2.0033138837611, -2.0033138837611, -2.0033138837611, -2.0033138837611, -2.0033138837611, -2.0033138837611, -2.0033138837611, -2.0033138837611, -2.0033138837611, -2.0033138837611, -2.0033138837611, -2.0033138837611, -2.0033138837611], [-1.713299461379716, -1.713299461379716, -1.713299461379716, -1.713299461379716, -1.713299461379716, -1.713299461379716, -1.713299461379716, -1.713299461379716, -1.713299461379716, -1.713299461379716, -1.713299461379716, -1.713299461379716, -1.713299461379716, -1.713299461379716, -1.713299461379716, -1.713299461379716, -1.713299461379716, -1.713299461379716, -1.713299461379716, -1.713299461379716, -1.713299461379716, -1.713299461379716, -1.713299461379716, -1.713299461379716, -1.713299461379716, -1.713299461379716, -1.713299461379716, -1.713299461379716, -1.713299461379716, -1.713299461379716], [-1.4232850389983316, -1.4232850389983316, -1.4232850389983316, -1.4232850389983316, -1.4232850389983316, -1.4232850389983316, -1.4232850389983316, -1.4232850389983316, -1.4232850389983316, -1.4232850389983316, -1.4232850389983316, -1.4232850389983316, -1.4232850389983316, -1.4232850389983316, -1.4232850389983316, -1.4232850389983316, -1.4232850389983316, -1.4232850389983316, -1.4232850389983316, -1.4232850389983316, -1.4232850389983316, -1.4232850389983316, -1.4232850389983316, -1.4232850389983316, -1.4232850389983316, -1.4232850389983316, -1.4232850389983316, -1.4232850389983316, -1.4232850389983316, -1.4232850389983316], [-1.1332706166169453, -1.1332706166169453, -1.1332706166169453, -1.1332706166169453, -1.1332706166169453, -1.1332706166169453, -1.1332706166169453, -1.1332706166169453, -1.1332706166169453, -1.1332706166169453, -1.1332706166169453, -1.1332706166169453, -1.1332706166169453, -1.1332706166169453, -1.1332706166169453, -1.1332706166169453, -1.1332706166169453, -1.1332706166169453, -1.1332706166169453, -1.1332706166169453, -1.1332706166169453, -1.1332706166169453, -1.1332706166169453, -1.1332706166169453, -1.1332706166169453, -1.1332706166169453, -1.1332706166169453, -1.1332706166169453, -1.1332706166169453, -1.1332706166169453]], \"z\": [[-3.4790414909764182, -3.5331255215971473, -3.587209552217876, -3.6412935828386046, -3.695377613459334, -3.7494616440800628, -3.803545674700792, -3.8576297053215205, -3.911713735942249, -3.965797766562978, -4.019881797183706, -4.073965827804436, -4.1280498584251655, -4.182133889045894, -4.236217919666623, -4.290301950287351, -4.34438598090808, -4.398470011528809, -4.452554042149537, -4.506638072770267, -4.560722103390996, -4.614806134011725, -4.668890164632454, -4.722974195253182, -4.777058225873911, -4.83114225649464, -4.885226287115368, -4.939310317736098, -4.993394348356827, -5.047478378977556], [-3.3252490405885617, -3.379333071209291, -3.4334171018300195, -3.487501132450748, -3.541585163071477, -3.5956691936922063, -3.6497532243129354, -3.703837254933664, -3.7579212855543926, -3.8120053161751217, -3.8660893467958504, -3.92017337741658, -3.9742574080373085, -4.028341438658037, -4.082425469278766, -4.136509499899495, -4.190593530520224, -4.244677561140953, -4.298761591761681, -4.35284562238241, -4.406929653003139, -4.461013683623868, -4.515097714244597, -4.569181744865326, -4.623265775486055, -4.677349806106784, -4.731433836727512, -4.785517867348241, -4.83960189796897, -4.893685928589699], [-3.1714565902007053, -3.2255406208214343, -3.279624651442163, -3.3337086820628916, -3.387792712683621, -3.4418767433043502, -3.495960773925079, -3.5500448045458075, -3.604128835166536, -3.6582128657872652, -3.712296896407994, -3.7663809270287225, -3.820464957649452, -3.874548988270181, -3.9286330188909098, -3.9827170495116384, -4.036801080132367, -4.090885110753096, -4.144969141373825, -4.199053171994554, -4.253137202615283, -4.307221233236012, -4.361305263856741, -4.415389294477469, -4.469473325098198, -4.523557355718927, -4.577641386339656, -4.631725416960385, -4.685809447581114, -4.739893478201843], [-3.0176641398128488, -3.071748170433578, -3.1258322010543065, -3.179916231675035, -3.234000262295764, -3.2880842929164937, -3.3421683235372224, -3.396252354157951, -3.4503363847786797, -3.5044204153994087, -3.5585044460201374, -3.612588476640867, -3.6666725072615955, -3.7207565378823246, -3.7748405685030533, -3.828924599123782, -3.8830086297445106, -3.9370926603652396, -3.9911766909859683, -4.045260721606697, -4.0993447522274264, -4.153428782848155, -4.207512813468884, -4.261596844089613, -4.315680874710342, -4.369764905331071, -4.423848935951799, -4.477932966572528, -4.532016997193257, -4.586101027813986], [-2.863871689424993, -2.917955720045722, -2.972039750666451, -3.02612378128718, -3.0802078119079086, -3.1342918425286377, -3.1883758731493663, -3.2424599037700954, -3.296543934390824, -3.3506279650115527, -3.4047119956322818, -3.4587960262530113, -3.51288005687374, -3.5669640874944686, -3.6210481181151972, -3.6751321487359263, -3.729216179356655, -3.7833002099773836, -3.8373842405981127, -3.8914682712188413, -3.945552301839571, -3.9996363324602995, -4.053720363081029, -4.107804393701757, -4.161888424322486, -4.215972454943215, -4.270056485563943, -4.324140516184673, -4.378224546805401, -4.432308577426131], [-2.710079239037136, -2.764163269657865, -2.8182473002785935, -2.8723313308993226, -2.9264153615200517, -2.9804993921407807, -3.0345834227615094, -3.088667453382238, -3.142751484002967, -3.1968355146236958, -3.2509195452444244, -3.305003575865154, -3.3590876064858826, -3.4131716371066116, -3.4672556677273403, -3.521339698348069, -3.575423728968798, -3.6295077595895266, -3.6835917902102553, -3.737675820830984, -3.7917598514517135, -3.8458438820724425, -3.899927912693171, -3.9540119433139, -4.008095973934629, -4.062180004555358, -4.116264035176086, -4.170348065796815, -4.224432096417544, -4.278516127038273], [-2.5562867886492797, -2.6103708192700084, -2.664454849890737, -2.718538880511466, -2.772622911132195, -2.8267069417529243, -2.880790972373653, -2.9348750029943815, -2.9889590336151106, -3.0430430642358393, -3.0971270948565683, -3.151211125477297, -3.205295156098026, -3.259379186718755, -3.313463217339484, -3.3675472479602124, -3.4216312785809415, -3.47571530920167, -3.529799339822399, -3.583883370443128, -3.637967401063857, -3.692051431684586, -3.7461354623053147, -3.8002194929260433, -3.8543035235467724, -3.908387554167501, -3.9624715847882297, -4.016555615408959, -4.070639646029688, -4.124723676650417], [-2.4024943382614232, -2.456578368882152, -2.5106623995028805, -2.5647464301236096, -2.6188304607443387, -2.6729144913650678, -2.7269985219857964, -2.781082552606525, -2.835166583227254, -2.8892506138479828, -2.943334644468712, -2.9974186750894405, -3.0515027057101696, -3.1055867363308987, -3.1596707669516273, -3.213754797572356, -3.267838828193085, -3.3219228588138137, -3.3760068894345423, -3.4300909200552714, -3.4841749506760005, -3.5382589812967296, -3.592343011917458, -3.646427042538187, -3.700511073158916, -3.7545951037796454, -3.808679134400373, -3.8627631650211023, -3.9168471956418314, -3.9709312262625605], [-2.2487018878735667, -2.3027859184942954, -2.356869949115024, -2.410953979735753, -2.465038010356482, -2.5191220409772113, -2.57320607159794, -2.6272901022186685, -2.6813741328393976, -2.7354581634601263, -2.7895421940808554, -2.843626224701584, -2.897710255322313, -2.951794285943042, -3.005878316563771, -3.0599623471844994, -3.1140463778052285, -3.168130408425957, -3.222214439046686, -3.276298469667415, -3.330382500288144, -3.384466530908873, -3.4385505615296017, -3.4926345921503303, -3.5467186227710594, -3.600802653391788, -3.6548866840125167, -3.708970714633246, -3.7630547452539753, -3.817138775874704], [-2.0949094374857102, -2.1489934681064398, -2.2030774987271684, -2.257161529347897, -2.311245559968626, -2.3653295905893548, -2.419413621210084, -2.4734976518308125, -2.5275816824515416, -2.5816657130722707, -2.6357497436929993, -2.689833774313728, -2.743917804934457, -2.7980018355551857, -2.8520858661759148, -2.9061698967966434, -2.9602539274173725, -3.0143379580381016, -3.06842198865883, -3.122506019279559, -3.176590049900288, -3.2306740805210166, -3.284758111141745, -3.338842141762474, -3.3929261723832034, -3.4470102030039325, -3.501094233624661, -3.5551782642453897, -3.609262294866119, -3.6633463254868475], [-1.941116987097854, -1.995201017718583, -2.049285048339312, -2.1033690789600406, -2.1574531095807696, -2.2115371402014983, -2.2656211708222274, -2.319705201442956, -2.373789232063685, -2.427873262684414, -2.481957293305143, -2.5360413239258714, -2.5901253545466005, -2.644209385167329, -2.6982934157880583, -2.752377446408787, -2.806461477029516, -2.860545507650245, -2.9146295382709737, -2.9687135688917023, -3.0227975995124314, -3.0768816301331605, -3.130965660753889, -3.1850496913746174, -3.239133721995347, -3.293217752616076, -3.3473017832368046, -3.4013858138575332, -3.4554698444782623, -3.5095538750989914], [-1.7873245367099975, -1.8414085673307266, -1.8954925979514554, -1.9495766285721843, -2.003660659192913, -2.057744689813642, -2.111828720434371, -2.1659127510550995, -2.2199967816758286, -2.2740808122965577, -2.3281648429172863, -2.382248873538015, -2.436332904158744, -2.4904169347794727, -2.5445009654002018, -2.5985849960209304, -2.6526690266416595, -2.7067530572623886, -2.760837087883117, -2.814921118503846, -2.869005149124575, -2.923089179745304, -2.9771732103660327, -3.0312572409867613, -3.0853412716074904, -3.1394253022282195, -3.193509332848948, -3.2475933634696768, -3.301677394090406, -3.3557614247111345], [-1.633532086322141, -1.68761611694287, -1.741700147563599, -1.7957841781843278, -1.8498682088050564, -1.9039522394257853, -1.9580362700465144, -2.012120300667243, -2.066204331287972, -2.120288361908701, -2.17437239252943, -2.2284564231501585, -2.2825404537708875, -2.336624484391616, -2.3907085150123453, -2.444792545633074, -2.498876576253803, -2.552960606874532, -2.6070446374952607, -2.6611286681159894, -2.7152126987367184, -2.7692967293574475, -2.823380759978176, -2.877464790598905, -2.931548821219634, -2.985632851840363, -3.0397168824610916, -3.0938009130818203, -3.1478849437025493, -3.201968974323279], [-1.4797396359342845, -1.5338236665550136, -1.5879076971757424, -1.6419917277964713, -1.6960757584172, -1.7501597890379288, -1.8042438196586579, -1.8583278502793867, -1.9124118809001154, -1.9664959115208447, -2.0205799421415733, -2.074663972762302, -2.128748003383031, -2.1828320340037597, -2.2369160646244888, -2.2910000952452174, -2.3450841258659465, -2.3991681564866756, -2.4532521871074042, -2.507336217728133, -2.561420248348862, -2.615504278969591, -2.6695883095903197, -2.7236723402110483, -2.7777563708317774, -2.8318404014525065, -2.885924432073235, -2.9400084626939638, -2.994092493314693, -3.048176523935422], [-1.3259471855464284, -1.3800312161671573, -1.4341152467878862, -1.488199277408615, -1.5422833080293439, -1.596367338650073, -1.6504513692708018, -1.7045353998915305, -1.7586194305122593, -1.8127034611329882, -1.8667874917537173, -1.920871522374446, -1.9749555529951748, -2.029039583615904, -2.0831236142366327, -2.1372076448573614, -2.1912916754780905, -2.2453757060988195, -2.299459736719548, -2.353543767340277, -2.407627797961006, -2.461711828581735, -2.5157958592024636, -2.5698798898231923, -2.6239639204439213, -2.6780479510646504, -2.732131981685379, -2.7862160123061077, -2.840300042926837, -2.894384073547566], [-1.172154735158572, -1.2262387657793008, -1.2803227964000297, -1.3344068270207585, -1.3884908576414874, -1.4425748882622162, -1.4966589188829453, -1.550742949503674, -1.6048269801244028, -1.6589110107451317, -1.7129950413658608, -1.7670790719865894, -1.8211631026073183, -1.8752471332280474, -1.9293311638487762, -1.983415194469505, -2.037499225090234, -2.091583255710963, -2.1456672863316917, -2.1997513169524203, -2.2538353475731494, -2.3079193781938785, -2.362003408814607, -2.4160874394353358, -2.470171470056065, -2.524255500676794, -2.5783395312975226, -2.632423561918251, -2.6865075925389803, -2.7405916231597094], [-1.0183622847707154, -1.0724463153914445, -1.1265303460121732, -1.1806143766329023, -1.234698407253631, -1.28878243787436, -1.3428664684950888, -1.3969504991158177, -1.4510345297365463, -1.5051185603572754, -1.559202590978004, -1.6132866215987332, -1.6673706522194618, -1.7214546828401909, -1.7755387134609197, -1.8296227440816486, -1.8837067747023772, -1.9377908053231063, -1.9918748359438352, -2.045958866564564, -2.100042897185293, -2.154126927806022, -2.2082109584267506, -2.2622949890474793, -2.3163790196682084, -2.3704630502889374, -2.424547080909666, -2.4786311115303947, -2.532715142151124, -2.586799172771853], [-0.864569834382859, -0.9186538650035879, -0.9727378956243167, -1.0268219262450458, -1.0809059568657744, -1.1349899874865035, -1.1890740181072323, -1.2431580487279612, -1.2972420793486898, -1.351326109969419, -1.4054101405901476, -1.4594941712108767, -1.5135782018316053, -1.5676622324523344, -1.6217462630730632, -1.675830293693792, -1.7299143243145207, -1.7839983549352498, -1.8380823855559787, -1.8921664161767076, -1.9462504467974362, -2.0003344774181655, -2.054418508038894, -2.108502538659623, -2.162586569280352, -2.216670599901081, -2.2707546305218096, -2.3248386611425382, -2.3789226917632673, -2.4330067223839964], [-0.7107773839950021, -0.7648614146157311, -0.8189454452364598, -0.8730294758571888, -0.9271135064779177, -0.9811975370986465, -1.0352815677193756, -1.0893655983401043, -1.1434496289608331, -1.197533659581562, -1.2516176902022909, -1.3057017208230197, -1.3597857514437486, -1.4138697820644774, -1.4679538126852065, -1.5220378433059352, -1.576121873926664, -1.6302059045473931, -1.684289935168122, -1.7383739657888506, -1.7924579964095795, -1.8465420270303086, -1.9006260576510374, -1.954710088271766, -2.008794118892495, -2.062878149513224, -2.1169621801339527, -2.1710462107546817, -2.2251302413754104, -2.2792142719961395], [-0.5569849336071461, -0.611068964227875, -0.6651529948486038, -0.7192370254693327, -0.7733210560900615, -0.8274050867107905, -0.8814891173315194, -0.9355731479522482, -0.989657178572977, -1.043741209193706, -1.0978252398144346, -1.1519092704351637, -1.2059933010558923, -1.2600773316766214, -1.3141613622973503, -1.3682453929180791, -1.4223294235388078, -1.476413454159537, -1.5304974847802657, -1.5845815154009946, -1.6386655460217232, -1.6927495766424525, -1.7468336072631812, -1.80091763788391, -1.8550016685046387, -1.909085699125368, -1.9631697297460966, -2.0172537603668252, -2.0713377909875548, -2.1254218216082834], [-0.4031924832192896, -0.4572765138400185, -0.5113605444607473, -0.5654445750814762, -0.619528605702205, -0.673612636322934, -0.7276966669436629, -0.7817806975643917, -0.8358647281851205, -0.8899487588058494, -0.9440327894265782, -0.9981168200473072, -1.052200850668036, -1.106284881288765, -1.1603689119094938, -1.2144529425302226, -1.2685369731509515, -1.3226210037716806, -1.3767050343924092, -1.430789065013138, -1.484873095633867, -1.538957126254596, -1.5930411568753247, -1.6471251874960535, -1.7012092181167824, -1.7552932487375115, -1.80937727935824, -1.863461309978969, -1.917545340599698, -1.971629371220427], [-0.24940003283143308, -0.30348406345216206, -0.3575680940728908, -0.41165212469361967, -0.46573615531434853, -0.5198201859350775, -0.5739042165558064, -0.6279882471765352, -0.6820722777972641, -0.736156308417993, -0.7902403390387217, -0.8443243696594507, -0.8984084002801794, -0.9524924309009084, -1.0065764615216373, -1.0606604921423661, -1.114744522763095, -1.168828553383824, -1.2229125840045527, -1.2769966146252816, -1.3310806452460104, -1.3851646758667395, -1.4392487064874682, -1.493332737108197, -1.547416767728926, -1.601500798349655, -1.6555848289703836, -1.7096688595911125, -1.7637528902118416, -1.8178369208325704], [-0.09560758244357696, -0.14969161306430592, -0.2037756436850347, -0.25785967430576356, -0.3119437049264924, -0.36602773554722134, -0.4201117661679502, -0.4741957967886791, -0.5282798274094079, -0.5823638580301368, -0.6364478886508655, -0.6905319192715945, -0.7446159498923234, -0.7986999805130522, -0.8527840111337812, -0.90686804175451, -0.9609520723752388, -1.0150361029959678, -1.0691201336166967, -1.1232041642374255, -1.1772881948581544, -1.2313722254788833, -1.2854562560996121, -1.339540286720341, -1.3936243173410698, -1.4477083479617987, -1.5017923785825276, -1.5558764092032564, -1.609960439823985, -1.6640444704447142], [0.05818486794427986, 0.004100837323550905, -0.04998319329717787, -0.10406722391790674, -0.1581512545386356, -0.21223528515936455, -0.26631931578009344, -0.3204033464008223, -0.37448737702155116, -0.42857140764228, -0.4826554382630088, -0.5367394688837377, -0.5908234995044666, -0.6449075301251954, -0.6989915607459243, -0.7530755913666531, -0.807159621987382, -0.8612436526081111, -0.9153276832288398, -0.9694117138495686, -1.0234957444702977, -1.0775797750910265, -1.1316638057117554, -1.185747836332484, -1.2398318669532131, -1.293915897573942, -1.3479999281946708, -1.4020839588153995, -1.4561679894361286, -1.5102520200568574], [0.21197731833213623, 0.1578932877114073, 0.10380925709067852, 0.04972522646994965, -0.0043588041507792085, -0.05844283477150816, -0.11252686539223702, -0.1666108960129659, -0.22069492663369475, -0.27477895725442364, -0.32886298787515245, -0.38294701849588136, -0.4370310491166102, -0.4911150797373391, -0.5451991103580679, -0.5992831409787968, -0.6533671715995256, -0.7074512022202546, -0.7615352328409833, -0.8156192634617122, -0.8697032940824411, -0.92378732470317, -0.9778713553238988, -1.0319553859446275, -1.0860394165653566, -1.1401234471860855, -1.1942074778068144, -1.248291508427543, -1.302375539048272, -1.356459569669001], [0.3657697687199929, 0.3116857380992639, 0.25760170747853517, 0.2035176768578063, 0.14943364623707744, 0.09534961561634848, 0.04126558499561963, -0.012818445625109236, -0.0669024762458381, -0.12098650686656696, -0.17507053748729579, -0.22915456810802468, -0.28323859872875357, -0.33732262934948243, -0.3914066599702113, -0.44549069059094015, -0.499574721211669, -0.553658751832398, -0.6077427824531267, -0.6618268130738555, -0.7159108436945845, -0.7699948743153134, -0.8240789049360422, -0.8781629355567709, -0.9322469661774999, -0.986330996798229, -1.0404150274189576, -1.0944990580396865, -1.1485830886604154, -1.2026671192811444], [0.5195622191078494, 0.4654781884871204, 0.41139415786639166, 0.3573101272456628, 0.30322609662493394, 0.24914206600420497, 0.1950580353834761, 0.14097400476274724, 0.08688997414201838, 0.032805943521289516, -0.021278087099439305, -0.07536211772016821, -0.12944614834089707, -0.18353017896162593, -0.2376142095823548, -0.29169824020308366, -0.3457822708238125, -0.3998663014445415, -0.45395033206527025, -0.508034362685999, -0.562118393306728, -0.6162024239274569, -0.6702864545481857, -0.7243704851689144, -0.7784545157896434, -0.8325385464103725, -0.8866225770311011, -0.9407066076518299, -0.9947906382725589, -1.048874668893288], [0.6733546694957055, 0.6192706388749766, 0.5651866082542478, 0.511102577633519, 0.45701854701279004, 0.40293451639206107, 0.3488504857713322, 0.29476645515060335, 0.2406824245298745, 0.18659839390914565, 0.13251436328841681, 0.07843033266768791, 0.02434630204695905, -0.02973772857376981, -0.08382175919449868, -0.13790578981522753, -0.1919898204359564, -0.24607385105668536, -0.30015788167741414, -0.3542419122981429, -0.40832594291887186, -0.4624099735396008, -0.5164940041603295, -0.5705780347810584, -0.6246620654017873, -0.6787460960225163, -0.732830126643245, -0.7869141572639738, -0.8409981878847027, -0.8950822185054319], [0.8271471198835615, 0.7730630892628326, 0.7189790586421039, 0.664895028021375, 0.6108109974006461, 0.5567269667799172, 0.5026429361591883, 0.4485589055384595, 0.39447487491773064, 0.3403908442970018, 0.286306813676273, 0.23222278305554403, 0.17813875243481517, 0.12405472181408632, 0.06997069119335746, 0.01588666057262859, -0.038197370048100275, -0.09228140066882923, -0.146365431289558, -0.20044946191028679, -0.2545334925310157, -0.30861752315174473, -0.3627015537724735, -0.41678558439320224, -0.47086961501393115, -0.5249536456346602, -0.5790376762553889, -0.6331217068761177, -0.6872057374968468, -0.7412897681175756], [0.9809395702714188, 0.9268555396506899, 0.8727715090299611, 0.8186874784092322, 0.7646034477885033, 0.7105194171677744, 0.6564353865470456, 0.6023513559263166, 0.5482673253055877, 0.49418329468485894, 0.4400992640641301, 0.3860152334434012, 0.33193120282267236, 0.2778471722019435, 0.22376314158121463, 0.16967911096048577, 0.11559508033975689, 0.06151104971902794, 0.0074270190982991605, -0.046657011522429605, -0.10074104214315857, -0.15482507276388754, -0.20890910338461632, -0.2629931340053451, -0.31707716462607405, -0.371161195246803, -0.4252452258675317, -0.4793292564882605, -0.5334132871089895, -0.5874973177297185]]}, {\"line\": {\"width\": 6}, \"marker\": {\"size\": 1}, \"showlegend\": false, \"type\": \"scatter3d\", \"x\": [-0.5415872984195823, -0.16048782307268264], \"y\": [-2.5864049413688104, 0.41043606975741864], \"z\": [-2.2841602985608693, -0.7739806433605174]}, {\"line\": {\"width\": 6}, \"marker\": {\"size\": 1}, \"showlegend\": false, \"type\": \"scatter3d\", \"x\": [-1.5491589173759384, 0.32600469110623603], \"y\": [-7.250108574555569, -0.8337335604554051], \"z\": [-1.4415180189468613, 1.5722147371061206]}, {\"line\": {\"width\": 6}, \"marker\": {\"size\": 1}, \"showlegend\": false, \"type\": \"scatter3d\", \"x\": [1.3051929109046245, 0.9018281990411089], \"y\": [-7.646142640577349, -2.306360785037326], \"z\": [1.4339394299892925, 4.349224485264412]}],                        {\"autosize\": true, \"height\": 800, \"margin\": {\"b\": 10, \"l\": 10, \"pad\": 4, \"r\": 10, \"t\": 10}, \"paper_bgcolor\": \"White\", \"scene\": {\"aspectmode\": \"data\", \"camera\": {\"eye\": {\"x\": 1, \"y\": 1, \"z\": 1}}}, \"template\": {\"data\": {\"bar\": [{\"error_x\": {\"color\": \"#2a3f5f\"}, \"error_y\": {\"color\": \"#2a3f5f\"}, \"marker\": {\"line\": {\"color\": \"#E5ECF6\", \"width\": 0.5}}, \"type\": \"bar\"}], \"barpolar\": [{\"marker\": {\"line\": {\"color\": \"#E5ECF6\", \"width\": 0.5}}, \"type\": \"barpolar\"}], \"carpet\": [{\"aaxis\": {\"endlinecolor\": \"#2a3f5f\", \"gridcolor\": \"white\", \"linecolor\": \"white\", \"minorgridcolor\": \"white\", \"startlinecolor\": \"#2a3f5f\"}, \"baxis\": {\"endlinecolor\": \"#2a3f5f\", \"gridcolor\": \"white\", \"linecolor\": \"white\", \"minorgridcolor\": \"white\", \"startlinecolor\": \"#2a3f5f\"}, \"type\": \"carpet\"}], \"choropleth\": [{\"colorbar\": {\"outlinewidth\": 0, \"ticks\": \"\"}, \"type\": \"choropleth\"}], \"contour\": [{\"colorbar\": {\"outlinewidth\": 0, \"ticks\": \"\"}, \"colorscale\": [[0.0, \"#0d0887\"], [0.1111111111111111, \"#46039f\"], [0.2222222222222222, \"#7201a8\"], [0.3333333333333333, \"#9c179e\"], [0.4444444444444444, \"#bd3786\"], [0.5555555555555556, \"#d8576b\"], [0.6666666666666666, \"#ed7953\"], [0.7777777777777778, \"#fb9f3a\"], [0.8888888888888888, \"#fdca26\"], [1.0, \"#f0f921\"]], \"type\": \"contour\"}], \"contourcarpet\": [{\"colorbar\": {\"outlinewidth\": 0, \"ticks\": \"\"}, \"type\": \"contourcarpet\"}], \"heatmap\": [{\"colorbar\": {\"outlinewidth\": 0, \"ticks\": \"\"}, \"colorscale\": [[0.0, \"#0d0887\"], [0.1111111111111111, \"#46039f\"], [0.2222222222222222, \"#7201a8\"], [0.3333333333333333, \"#9c179e\"], [0.4444444444444444, \"#bd3786\"], [0.5555555555555556, \"#d8576b\"], [0.6666666666666666, \"#ed7953\"], [0.7777777777777778, \"#fb9f3a\"], [0.8888888888888888, \"#fdca26\"], [1.0, \"#f0f921\"]], \"type\": \"heatmap\"}], \"heatmapgl\": [{\"colorbar\": {\"outlinewidth\": 0, \"ticks\": \"\"}, \"colorscale\": [[0.0, \"#0d0887\"], [0.1111111111111111, \"#46039f\"], [0.2222222222222222, \"#7201a8\"], [0.3333333333333333, \"#9c179e\"], [0.4444444444444444, \"#bd3786\"], [0.5555555555555556, \"#d8576b\"], [0.6666666666666666, \"#ed7953\"], [0.7777777777777778, \"#fb9f3a\"], [0.8888888888888888, \"#fdca26\"], [1.0, \"#f0f921\"]], \"type\": \"heatmapgl\"}], \"histogram\": [{\"marker\": {\"colorbar\": {\"outlinewidth\": 0, \"ticks\": \"\"}}, \"type\": \"histogram\"}], \"histogram2d\": [{\"colorbar\": {\"outlinewidth\": 0, \"ticks\": \"\"}, \"colorscale\": [[0.0, \"#0d0887\"], [0.1111111111111111, \"#46039f\"], [0.2222222222222222, \"#7201a8\"], [0.3333333333333333, \"#9c179e\"], [0.4444444444444444, \"#bd3786\"], [0.5555555555555556, \"#d8576b\"], [0.6666666666666666, \"#ed7953\"], [0.7777777777777778, \"#fb9f3a\"], [0.8888888888888888, \"#fdca26\"], [1.0, \"#f0f921\"]], \"type\": \"histogram2d\"}], \"histogram2dcontour\": [{\"colorbar\": {\"outlinewidth\": 0, \"ticks\": \"\"}, \"colorscale\": [[0.0, \"#0d0887\"], [0.1111111111111111, \"#46039f\"], [0.2222222222222222, \"#7201a8\"], [0.3333333333333333, \"#9c179e\"], [0.4444444444444444, \"#bd3786\"], [0.5555555555555556, \"#d8576b\"], [0.6666666666666666, \"#ed7953\"], [0.7777777777777778, \"#fb9f3a\"], [0.8888888888888888, \"#fdca26\"], [1.0, \"#f0f921\"]], \"type\": \"histogram2dcontour\"}], \"mesh3d\": [{\"colorbar\": {\"outlinewidth\": 0, \"ticks\": \"\"}, \"type\": \"mesh3d\"}], \"parcoords\": [{\"line\": {\"colorbar\": {\"outlinewidth\": 0, \"ticks\": \"\"}}, \"type\": \"parcoords\"}], \"pie\": [{\"automargin\": true, \"type\": \"pie\"}], \"scatter\": [{\"marker\": {\"colorbar\": {\"outlinewidth\": 0, \"ticks\": \"\"}}, \"type\": \"scatter\"}], \"scatter3d\": [{\"line\": {\"colorbar\": {\"outlinewidth\": 0, \"ticks\": \"\"}}, \"marker\": {\"colorbar\": {\"outlinewidth\": 0, \"ticks\": \"\"}}, \"type\": \"scatter3d\"}], \"scattercarpet\": [{\"marker\": {\"colorbar\": {\"outlinewidth\": 0, \"ticks\": \"\"}}, \"type\": \"scattercarpet\"}], \"scattergeo\": [{\"marker\": {\"colorbar\": {\"outlinewidth\": 0, \"ticks\": \"\"}}, \"type\": \"scattergeo\"}], \"scattergl\": [{\"marker\": {\"colorbar\": {\"outlinewidth\": 0, \"ticks\": \"\"}}, \"type\": \"scattergl\"}], \"scattermapbox\": [{\"marker\": {\"colorbar\": {\"outlinewidth\": 0, \"ticks\": \"\"}}, \"type\": \"scattermapbox\"}], \"scatterpolar\": [{\"marker\": {\"colorbar\": {\"outlinewidth\": 0, \"ticks\": \"\"}}, \"type\": \"scatterpolar\"}], \"scatterpolargl\": [{\"marker\": {\"colorbar\": {\"outlinewidth\": 0, \"ticks\": \"\"}}, \"type\": \"scatterpolargl\"}], \"scatterternary\": [{\"marker\": {\"colorbar\": {\"outlinewidth\": 0, \"ticks\": \"\"}}, \"type\": \"scatterternary\"}], \"surface\": [{\"colorbar\": {\"outlinewidth\": 0, \"ticks\": \"\"}, \"colorscale\": [[0.0, \"#0d0887\"], [0.1111111111111111, \"#46039f\"], [0.2222222222222222, \"#7201a8\"], [0.3333333333333333, \"#9c179e\"], [0.4444444444444444, \"#bd3786\"], [0.5555555555555556, \"#d8576b\"], [0.6666666666666666, \"#ed7953\"], [0.7777777777777778, \"#fb9f3a\"], [0.8888888888888888, \"#fdca26\"], [1.0, \"#f0f921\"]], \"type\": \"surface\"}], \"table\": [{\"cells\": {\"fill\": {\"color\": \"#EBF0F8\"}, \"line\": {\"color\": \"white\"}}, \"header\": {\"fill\": {\"color\": \"#C8D4E3\"}, \"line\": {\"color\": \"white\"}}, \"type\": \"table\"}]}, \"layout\": {\"annotationdefaults\": {\"arrowcolor\": \"#2a3f5f\", \"arrowhead\": 0, \"arrowwidth\": 1}, \"autotypenumbers\": \"strict\", \"coloraxis\": {\"colorbar\": {\"outlinewidth\": 0, \"ticks\": \"\"}}, \"colorscale\": {\"diverging\": [[0, \"#8e0152\"], [0.1, \"#c51b7d\"], [0.2, \"#de77ae\"], [0.3, \"#f1b6da\"], [0.4, \"#fde0ef\"], [0.5, \"#f7f7f7\"], [0.6, \"#e6f5d0\"], [0.7, \"#b8e186\"], [0.8, \"#7fbc41\"], [0.9, \"#4d9221\"], [1, \"#276419\"]], \"sequential\": [[0.0, \"#0d0887\"], [0.1111111111111111, \"#46039f\"], [0.2222222222222222, \"#7201a8\"], [0.3333333333333333, \"#9c179e\"], [0.4444444444444444, \"#bd3786\"], [0.5555555555555556, \"#d8576b\"], [0.6666666666666666, \"#ed7953\"], [0.7777777777777778, \"#fb9f3a\"], [0.8888888888888888, \"#fdca26\"], [1.0, \"#f0f921\"]], \"sequentialminus\": [[0.0, \"#0d0887\"], [0.1111111111111111, \"#46039f\"], [0.2222222222222222, \"#7201a8\"], [0.3333333333333333, \"#9c179e\"], [0.4444444444444444, \"#bd3786\"], [0.5555555555555556, \"#d8576b\"], [0.6666666666666666, \"#ed7953\"], [0.7777777777777778, \"#fb9f3a\"], [0.8888888888888888, \"#fdca26\"], [1.0, \"#f0f921\"]]}, \"colorway\": [\"#636efa\", \"#EF553B\", \"#00cc96\", \"#ab63fa\", \"#FFA15A\", \"#19d3f3\", \"#FF6692\", \"#B6E880\", \"#FF97FF\", \"#FECB52\"], \"font\": {\"color\": \"#2a3f5f\"}, \"geo\": {\"bgcolor\": \"white\", \"lakecolor\": \"white\", \"landcolor\": \"#E5ECF6\", \"showlakes\": true, \"showland\": true, \"subunitcolor\": \"white\"}, \"hoverlabel\": {\"align\": \"left\"}, \"hovermode\": \"closest\", \"mapbox\": {\"style\": \"light\"}, \"paper_bgcolor\": \"white\", \"plot_bgcolor\": \"#E5ECF6\", \"polar\": {\"angularaxis\": {\"gridcolor\": \"white\", \"linecolor\": \"white\", \"ticks\": \"\"}, \"bgcolor\": \"#E5ECF6\", \"radialaxis\": {\"gridcolor\": \"white\", \"linecolor\": \"white\", \"ticks\": \"\"}}, \"scene\": {\"xaxis\": {\"backgroundcolor\": \"#E5ECF6\", \"gridcolor\": \"white\", \"gridwidth\": 2, \"linecolor\": \"white\", \"showbackground\": true, \"ticks\": \"\", \"zerolinecolor\": \"white\"}, \"yaxis\": {\"backgroundcolor\": \"#E5ECF6\", \"gridcolor\": \"white\", \"gridwidth\": 2, \"linecolor\": \"white\", \"showbackground\": true, \"ticks\": \"\", \"zerolinecolor\": \"white\"}, \"zaxis\": {\"backgroundcolor\": \"#E5ECF6\", \"gridcolor\": \"white\", \"gridwidth\": 2, \"linecolor\": \"white\", \"showbackground\": true, \"ticks\": \"\", \"zerolinecolor\": \"white\"}}, \"shapedefaults\": {\"line\": {\"color\": \"#2a3f5f\"}}, \"ternary\": {\"aaxis\": {\"gridcolor\": \"white\", \"linecolor\": \"white\", \"ticks\": \"\"}, \"baxis\": {\"gridcolor\": \"white\", \"linecolor\": \"white\", \"ticks\": \"\"}, \"bgcolor\": \"#E5ECF6\", \"caxis\": {\"gridcolor\": \"white\", \"linecolor\": \"white\", \"ticks\": \"\"}}, \"title\": {\"x\": 0.05}, \"xaxis\": {\"automargin\": true, \"gridcolor\": \"white\", \"linecolor\": \"white\", \"ticks\": \"\", \"title\": {\"standoff\": 15}, \"zerolinecolor\": \"white\", \"zerolinewidth\": 2}, \"yaxis\": {\"automargin\": true, \"gridcolor\": \"white\", \"linecolor\": \"white\", \"ticks\": \"\", \"title\": {\"standoff\": 15}, \"zerolinecolor\": \"white\", \"zerolinewidth\": 2}}}, \"width\": 1000},                        {\"responsive\": true}                    ).then(function(){\n",
       "                            \n",
       "var gd = document.getElementById('8c1ae557-cc2d-44a8-bbff-a49f1b41457a');\n",
       "var x = new MutationObserver(function (mutations, observer) {{\n",
       "        var display = window.getComputedStyle(gd).display;\n",
       "        if (!display || display === 'none') {{\n",
       "            console.log([gd, 'removed!']);\n",
       "            Plotly.purge(gd);\n",
       "            observer.disconnect();\n",
       "        }}\n",
       "}});\n",
       "\n",
       "// Listen for the removal of the full notebook cells\n",
       "var notebookContainer = gd.closest('#notebook-container');\n",
       "if (notebookContainer) {{\n",
       "    x.observe(notebookContainer, {childList: true});\n",
       "}}\n",
       "\n",
       "// Listen for the clearing of the current output cell\n",
       "var outputEl = gd.closest('.output');\n",
       "if (outputEl) {{\n",
       "    x.observe(outputEl, {childList: true});\n",
       "}}\n",
       "\n",
       "                        })                };                });            </script>        </div>"
      ]
     },
     "metadata": {},
     "output_type": "display_data"
    }
   ],
   "source": [
    "with ThreeDFigure() as fig: #trafo, back_trafo, swap_axes=\"xz\"\n",
    "    plane_offset = decision_plane.project([0,0,0]) #point where plane == plane.normal (plane doesn't need to go through [0,0,0])\n",
    "    fig.add_markers([0,0,0], size=3, name=\"origin\") #coordinate center\n",
    "    fig.add_markers(plane_offset, name=\"plane_offset\", color=\"yellow\")\n",
    "    fig.add_line(plane_offset+decision_plane.normal*minneg, plane_offset+decision_plane.normal*maxpos, name=\"plane_normal\") \n",
    "    for point, side in zip(X, y):\n",
    "        if trafo(point)[0] in [minneg, maxneg, minpos, maxpos]:\n",
    "            fig.add_markers(point, color=\"blue\" if side else \"red\", name=\"d=\"+str(trafo(point)[0]), size=3)\n",
    "            fig.add_line(point, back_trafo([0, trafo(point)[1], trafo(point)[2]]), name=\"^ len_d\",)            \n",
    "            fig.add_line(point, ortho_projection_affine(point, decision_plane.normal), name=\"^ proj\")\n",
    "        else:\n",
    "            fig.add_markers(point, color=\"blue\" if side else \"red\", name=str(trafo(point)[0]), showlegend=False)\n",
    "    xx, yy = make_meshgrid(minx=minx, miny=miny, maxx=maxx, maxy=maxy, margin=0.1)\n",
    "    fig.add_surface(xx, yy, decision_plane.z) #decision hyperplane\n",
    "    fig.add_sample_projections(X, decision_plane.normal, n_samples=3, showlegend=False)"
   ]
  },
  {
   "cell_type": "code",
   "execution_count": null,
   "id": "5aa999b0-de9b-472a-b8de-347f10914faa",
   "metadata": {},
   "outputs": [],
   "source": [
    "with ThreeDFigure(trafo, back_trafo, swap_axes=\"xz\") as fig:\n",
    "    fig.add_markers([0,0,0], size=3, name=\"origin (original space)\") #coordinate center\n",
    "    fig.add_markers(back_trafo([0,0,0]), size=3, name=\"origin (new space)\") #coordinate center\n",
    "    plane_offset = decision_plane.project([0,0,0]) #point where plane == plane.normal\n",
    "    fig.add_markers(plane_offset, name=\"plane_offset\", color=\"yellow\")\n",
    "    fig.add_line(plane_offset+decision_plane.normal*minneg, plane_offset+decision_plane.normal*maxpos, name=\"plane_normal\") \n",
    "    for point, side in zip(X, y):\n",
    "        if trafo(point)[0] in [minneg, maxneg, minpos, maxpos]:\n",
    "            fig.add_markers(point, color=\"blue\" if side else \"red\", name=\"d=\"+str(trafo(point)[0]), size=3)\n",
    "            fig.add_line(point, back_trafo([0, trafo(point)[1], trafo(point)[2]]), name=\"^ len_d\",)            \n",
    "            fig.add_line(point, ortho_projection_affine(point, decision_plane.normal), name=\"^ proj\")\n",
    "        else:\n",
    "            fig.add_markers(point, color=\"blue\" if side else \"red\", name=str(trafo(point)[0]), showlegend=False)\n",
    "    xx, yy = make_meshgrid(minx=minx, miny=miny, maxx=maxx, maxy=maxy, margin=0.1)\n",
    "    fig.add_surface(xx, yy, decision_plane.z) #decision hyperplane\n",
    "    fig.add_sample_projections(X, decision_plane.normal, n_samples=3, showlegend=False)"
   ]
  },
  {
   "cell_type": "markdown",
   "id": "9f497234-10e2-48eb-a2c1-43802e0b0796",
   "metadata": {},
   "source": [
    "## include support-vectors in drawing (taking other SVM class!)"
   ]
  },
  {
   "cell_type": "code",
   "execution_count": null,
   "id": "f9f8e834-6e92-4ca8-bac9-518f9253b996",
   "metadata": {},
   "outputs": [],
   "source": [
    "X, y = make_blobs(n_samples=80, centers=2, random_state=6, n_features=3)\n",
    "model = svm.SVC(kernel='linear', C=1).fit(X, y)\n",
    "print(\"Coefficients:\", model.coef_, \"Intercept:\", model.intercept_)\n",
    "decision_plane = Plane(*model.coef_[0], model.intercept_[0])\n",
    "\n",
    "trafo, back_trafo = make_base_changer(decision_plane)\n",
    "\n",
    "onto_plane = np.array([back_trafo([0, trafo(point)[1], trafo(point)[2]]) for point, side in zip(X, y)])\n",
    "minx, miny = onto_plane.min(axis=0)[:2]\n",
    "maxx, maxy = onto_plane.max(axis=0)[:2]\n",
    "\n",
    "z_vals = [trafo(point)[0] for point in X]\n",
    "minneg, maxneg = min(z_vals), max([i for i in z_vals if i < 0])\n",
    "minpos, maxpos = min([i for i in z_vals if i > 0]), max(z_vals)\n",
    "\n",
    "\n",
    "with ThreeDFigure() as fig: #trafo, back_trafo, swap_axes=\"xz\":\n",
    "    fig.add_markers([0,0,0], size=3, name=\"origin (original space)\") #coordinate center\n",
    "    plane_offset = decision_plane.project([0,0,0]) #point where plane == plane.normal\n",
    "    fig.add_markers(plane_offset, name=\"plane_offset\", color=\"yellow\")\n",
    "    fig.add_line(plane_offset+decision_plane.normal*minneg, plane_offset+decision_plane.normal*maxpos, name=\"plane_normal\") \n",
    "    for point, side in zip(X, y):\n",
    "        if trafo(point)[0] in [minneg, maxneg, minpos, maxpos]:\n",
    "            fig.add_markers(point, color=\"blue\" if side else \"red\", name=\"d=\"+str(trafo(point)[0]), size=3)\n",
    "            fig.add_line(point, back_trafo([0, trafo(point)[1], trafo(point)[2]]), name=\"^ len_d\",)            \n",
    "            fig.add_line(point, ortho_projection_affine(point, decision_plane.normal), name=\"^ proj\")\n",
    "        else:\n",
    "            fig.add_markers(point, color=\"blue\" if side else \"red\", name=str(trafo(point)[0]), showlegend=False)\n",
    "    xx, yy = make_meshgrid(minx=minx, miny=miny, maxx=maxx, maxy=maxy, margin=0.1)\n",
    "    fig.add_surface(xx, yy, decision_plane.z) #decision hyperplane\n",
    "    fig.add_markers([0,0,0], size=3, name=\"origin\") #coordinate center\n",
    "    fig.add_sample_projections(X, decision_plane.normal, n_samples=3, showlegend=False)\n",
    "    \n",
    "    #if hasattr(model, \"support_vectors_\"):\n",
    "    for n, point in enumerate(model.support_vectors_):\n",
    "        fig.add_markers(point, name=f\"support_vec_{n}\", marker={\"color\": None, \"size\": 2, \"line\": {\"width\": 3, \"color\": \"black\"}},)"
   ]
  },
  {
   "cell_type": "markdown",
   "id": "579824e7-3b8d-4693-9037-b8e3a0fd30fb",
   "metadata": {},
   "source": [
    "# Checking projection-methods & distance measures from point to projection"
   ]
  },
  {
   "cell_type": "code",
   "execution_count": null,
   "id": "58f423f7-6a6e-4717-8ac4-df0f6633fbf8",
   "metadata": {},
   "outputs": [],
   "source": [
    "X, y = make_blobs(n_samples=80, centers=2, random_state=6, n_features=3)\n",
    "model = svm.SVC(kernel='linear', C=1).fit(X, y)\n",
    "print(\"Coefficients:\", model.coef_, \"Intercept:\", model.intercept_)\n",
    "\n",
    "decision_plane = Plane(*model.coef_[0], model.intercept_[0])\n",
    "forward, backward = make_base_changer(decision_plane)\n",
    "\n",
    "list(zip(y, X))[:10]"
   ]
  },
  {
   "cell_type": "code",
   "execution_count": null,
   "id": "a804a2ff-c7bd-4638-ad5b-7d653ae1ef6b",
   "metadata": {},
   "outputs": [],
   "source": [
    "# helper functions\n",
    "def get_normalized_fn(orig_fn, all_mds, *more_args):\n",
    "    fmin, fmax = min(all_vals := [orig_fn(all_mds[i], *more_args) for i in range(len(all_mds))]), max(all_vals)\n",
    "    return lambda x: round(((orig_fn(x, *more_args)-fmin)/(fmax-fmin))*100, 2)\n",
    "\n",
    "get_both = lambda fn, all_mds, *more_args: (fn, get_normalized_fn(fn, all_mds, *more_args))\n",
    "\n",
    "vec_dist = lambda a, b: np.linalg.norm(a-b)"
   ]
  },
  {
   "cell_type": "markdown",
   "id": "a7861c4d-79fd-4aed-9c0e-c42cd9d54529",
   "metadata": {},
   "source": [
    "### Now let's get to the actual projections/distances..."
   ]
  },
  {
   "cell_type": "code",
   "execution_count": null,
   "id": "4ec88291-e644-4fea-8eff-804d58206869",
   "metadata": {},
   "outputs": [],
   "source": [
    "prototypicality_pre, prototypicality = get_both(lambda x, forwardproj: abs(forwardproj(x)[0]), X, forward)\n",
    "\n",
    "project_pre, project = get_both(lambda x, plane: vec_dist(plane.project(x), x), X, decision_plane)\n",
    "\n",
    "#see https://stackoverflow.com/a/17661431: distance = n * p + d\n",
    "project2_pre = lambda x, plane: np.dot(plane.normal, x) + plane.d  #This, nicely, returns 0 if on plane, something > 0 if in FRONT (side of normal) and something < 0 if BEHIND of plane.\n",
    "abs_project2_pre, abs_project2 = get_both(lambda x, plane: abs(np.dot(plane.normal, x) + plane.d), X, decision_plane)"
   ]
  },
  {
   "cell_type": "code",
   "execution_count": null,
   "id": "2ddcabf8-b1b1-4e47-b202-ba12e1958a11",
   "metadata": {},
   "outputs": [],
   "source": [
    "#onto_plane =  p' = p - (n ⋅ p + d) * n  -- see https://stackoverflow.com/a/41897378\n",
    "\n",
    "quotients = [abs_project2_pre(x, decision_plane)/prototypicality_pre(x, forward) for x in X[:20]]\n",
    "assert np.isclose(min(quotients), max(quotients))\n",
    "#TODO figure out WHY the quotient between protypicality, proj-dist and abs-proj-dist-2 is the way it is and then correct this!!\n",
    "\n",
    "def onto_plane(x, plane, quotient):\n",
    "    #plane_dist = project2_pre(x, plane)\n",
    "    #plane_dist = project_pre(x, plane)\n",
    "    #plane_dist = prototypicality_pre(x, forwardproj) #hiermit klappts..\n",
    "    plane_dist = project2_pre(x, plane) / quotient\n",
    "    #TODO figure out WHY the quotient between protypicality, proj-dist and abs-proj-dist-2 is the way it is and then correct this!!\n",
    "    return x - plane_dist * plane.normal\n",
    "\n",
    "project3_pre, project3 = get_both(lambda x, plane, quotient: vec_dist(onto_plane(x, plane, quotient), x), X, decision_plane, quotients[0])"
   ]
  },
  {
   "cell_type": "code",
   "execution_count": null,
   "id": "86427ea6-ebc9-43af-8eba-18cc98280ce2",
   "metadata": {},
   "outputs": [],
   "source": [
    "project_using_basechanger = lambda x, forwardproj, backwardproj: backwardproj([0, (transformed := forwardproj(x))[1], transformed[2]])\n",
    "project_using_project     = lambda x, plane: plane.project(x)\n",
    "project_using_project2_3  = lambda x, plane, quotient: onto_plane(x, plane, quotient)"
   ]
  },
  {
   "cell_type": "code",
   "execution_count": null,
   "id": "5877ffce-069e-423a-8822-d7d250fad56e",
   "metadata": {},
   "outputs": [],
   "source": [
    "for x in X[:10]:\n",
    "    print(\"Point:\", x, \"  reversed:\", project2_pre(x, decision_plane) > 0)\n",
    "    #print(\"Forward-x:\", forward(x))\n",
    "\n",
    "    print(\"  Normed Project:\", project(x))\n",
    "    print(\"  Normed Prototypicality:\", prototypicality(x))\n",
    "    print(\"  Normed abs projection Distance:\", abs_project2(x))\n",
    "    print(\"  Normed Distance Point & Projection3:\", project3(x))\n",
    "    print()\n",
    "\n",
    "    print(\"  Unnormed Project:\", project_pre(x, decision_plane))\n",
    "    print(\"  Unnormed Prototypicality:\", prototypicality_pre(x, forward))\n",
    "    print(\"  Projection Distance:\", project2_pre(x, decision_plane))\n",
    "    print(\"  Abs projection Distance:\", abs_project2_pre(x, decision_plane))\n",
    "    print(\"  Unnormed Distance Point <-> Projection3\", project3_pre(x, decision_plane, quotients[0]))\n",
    "    print()\n",
    "\n",
    "    print(\"  Quotient Prototypicality <-> Proj Dist:\", project_pre(x, decision_plane)/prototypicality_pre(x, forward))\n",
    "    print(\"  Quotient Prototypicality <-> Abs Proj Dist 2:\", abs_project2_pre(x, decision_plane)/prototypicality_pre(x, forward))\n",
    "    print(\"  Proj Dist <-> Abs Proj Dist 2:\", project_pre(x, decision_plane)/abs_project2_pre(x, decision_plane))\n",
    "    #TODO figure out WHY the quotient between protypicality, proj-dist and abs-proj-dist-2 is the way it is.\n",
    "    print()\n",
    "\n",
    "    print(\"  Projections are actually on the plane: \", project_using_basechanger(x, forward, backward) in decision_plane, project_using_project(x, decision_plane) in decision_plane, project_using_project2_3(x, decision_plane, quotients[0]) in decision_plane)\n",
    "    print(\"\\n\")"
   ]
  },
  {
   "cell_type": "code",
   "execution_count": null,
   "id": "3d3a0951-5d78-4ce0-98bc-9d42304ad135",
   "metadata": {},
   "outputs": [],
   "source": []
  },
  {
   "cell_type": "code",
   "execution_count": null,
   "id": "51478e83-d111-48b0-ac3f-248506fdaffb",
   "metadata": {},
   "outputs": [],
   "source": [
    "#deleteme from here"
   ]
  },
  {
   "cell_type": "code",
   "execution_count": null,
   "id": "e1d6faca-fca5-459c-ab09-7b33a85e6f9f",
   "metadata": {},
   "outputs": [],
   "source": [
    "def plane_proj(plane, point):\n",
    "    x, y, z = point\n",
    "    k = (plane.a * x + plane.b * y + plane.c * z + plane.d) / (plane.a ** 2 + plane.b ** 2 + plane.c ** 2)\n",
    "    k = 2*k\n",
    "    return np.array([x - k * plane.a, y - k * plane.b, z - k * plane.c])\n",
    "\n",
    "\n",
    "for x in X[:5]:\n",
    "    tmpproj = plane_proj(decision_plane, x)\n",
    "    print(vec_dist(x, tmpproj))\n",
    "    print(vec_dist(x, decision_plane.project(x)))\n",
    "    print()"
   ]
  },
  {
   "cell_type": "code",
   "execution_count": null,
   "id": "068ef98c-e937-4f39-a535-8da992fe7fff",
   "metadata": {},
   "outputs": [],
   "source": [
    "def plane_proj(plane, point):\n",
    "    x, y, z = point\n",
    "    k = (plane.a * x + plane.b * y + plane.c * z + plane.d) / (plane.a ** 2 + plane.b ** 2 + plane.c ** 2)\n",
    "    return np.array([x - k * plane.a, y - k * plane.b, z - k * plane.c])\n",
    "\n",
    "\n",
    "for x in X[:5]:\n",
    "    tmpproj = plane_proj(decision_plane, x)\n",
    "    print(vec_dist(x, tmpproj))\n",
    "    print(vec_dist(x, decision_plane.project(x)))\n",
    "    print()"
   ]
  },
  {
   "cell_type": "code",
   "execution_count": null,
   "id": "d64314a7-6bcf-48d9-86d6-e03fed2ac3b2",
   "metadata": {},
   "outputs": [],
   "source": [
    "project_using_basechanger = lambda x, forwardproj, backwardproj: backwardproj([0, (transformed := forwardproj(x))[1], transformed[2]])\n",
    "project_using_project     = lambda x, plane: plane.project(x)\n",
    "project_using_project2_3  = lambda x, plane, quotient: onto_plane(x, plane, quotient)"
   ]
  },
  {
   "cell_type": "code",
   "execution_count": null,
   "id": "b071d7d2-1cf5-4f35-81ae-045380f3ac60",
   "metadata": {},
   "outputs": [],
   "source": [
    "for x in X[:5]:\n",
    "    print(decision_plane.project(x), decision_plane.project(x) in decision_plane, vec_dist(decision_plane.project(x), x))\n",
    "    \n",
    "    tmp = np.dot(decision_plane.normal, x) + decision_plane.d \n",
    "    tmp = tmp/(decision_plane.a**2+decision_plane.b**2+decision_plane.c**2)\n",
    "    proj = x - tmp * decision_plane.normal\n",
    "    print(proj)\n",
    "    \n",
    "    \n",
    "    print()"
   ]
  },
  {
   "cell_type": "raw",
   "id": "11a644a3-7b58-4028-a712-3804d93dff3e",
   "metadata": {},
   "source": [
    "For that, we first have to know how to project a point onto a plane in affine frames \n",
    "\t(TODO: explain affine frames)\n",
    "\tSoo, what we want to do is find the minimal distance from the point to the plane. The minimal distance is achieved by going orthogonally towards the plane (-> in the direction of the normal). So we gotta calculate HOW MUCH we have to go into the direction, and then go into the direction of the normal.\n",
    "\n",
    "\t```\n",
    "\t    def project(self, point):\n",
    "        x, y, z = point\n",
    "        k = (self.a * x + self.b * y + self.c * z + self.d) / (self.a ** 2 + self.b ** 2 + self.c ** 2)\n",
    "        return np.array([x - k * self.a, y - k * self.b, z - k * self.c])\n",
    "    ```\n",
    "\n",
    "    k is the \"how much\", a scalar. Why is that the value it is?!\n",
    "\n",
    "    Well, https://stackoverflow.com/a/17661431 here says the distance from a point to its projection onto the plane is np.dot(point, plane.normal)+d (...and the actual projection then `p-(np.dot(point, plane.normal)+d)*n`). ...UND DAS MUSS MAN EINFACH HINNEHMEN! That is almost the same, except it's not \"normalized\" by a²+b²+c².\n",
    "\n",
    "    What is the explanation of the difference from this to the result of using forward and backward??"
   ]
  },
  {
   "cell_type": "code",
   "execution_count": null,
   "id": "77fb497a-d80e-4697-bdb3-35afaa806658",
   "metadata": {},
   "outputs": [],
   "source": [
    "#deleteme until here"
   ]
  }
 ],
 "metadata": {
  "kernelspec": {
   "display_name": "Python 3 (ipykernel)",
   "language": "python",
   "name": "python3"
  },
  "language_info": {
   "codemirror_mode": {
    "name": "ipython",
    "version": 3
   },
   "file_extension": ".py",
   "mimetype": "text/x-python",
   "name": "python",
   "nbconvert_exporter": "python",
   "pygments_lexer": "ipython3",
   "version": "3.10.0"
  }
 },
 "nbformat": 4,
 "nbformat_minor": 5
}
