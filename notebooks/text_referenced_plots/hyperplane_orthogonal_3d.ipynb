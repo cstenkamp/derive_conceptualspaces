{
 "cells": [
  {
   "cell_type": "markdown",
   "metadata": {},
   "source": [
    "## View this in Binder: [![Binder](https://mybinder.org/badge_logo.svg)](https://mybinder.org/v2/gh/cstenkamp/derive_conceptualspaces/main?labpath=notebooks%2Ftext_referenced_plots%2Fhyperplane_orthogonal_3d.ipynb)"
   ]
  },
  {
   "cell_type": "code",
   "execution_count": null,
   "metadata": {},
   "outputs": [],
   "source": [
    "import plotly.express as px\n",
    "import plotly.graph_objects as go\n",
    "from sklearn import svm, datasets\n",
    "from dataclasses import dataclass\n",
    "from sklearn.datasets import make_blobs\n",
    "import math\n",
    "import numpy as np"
   ]
  },
  {
   "cell_type": "code",
   "execution_count": null,
   "metadata": {},
   "outputs": [],
   "source": [
    "import plotly.express as pe\n",
    "import plotly.io as pio\n",
    "pio.renderers.default = \"plotly_mimetype+notebook_connected\""
   ]
  },
  {
   "cell_type": "code",
   "execution_count": null,
   "metadata": {},
   "outputs": [],
   "source": [
    "def ortho_projection_affine(a, b):\n",
    "    \"\"\"https://en.wikipedia.org/wiki/Vector_projection\"\"\"\n",
    "    return np.dot(np.dot(a,b)/np.dot(b,b),b)\n",
    "\n",
    "class ThreeDFigure():\n",
    "    def __init__(self, trafo_fn=None, back_trafo_fn=None, swap_axes=None):\n",
    "        self.trafo_fn = trafo_fn if trafo_fn is not None else lambda x: x\n",
    "        self.back_trafo_fn = back_trafo_fn if back_trafo_fn is not None else lambda x: x\n",
    "        self.swap_axes = swap_axes\n",
    "        #https://community.plotly.com/t/creating-a-3d-scatterplot-with-equal-scale-along-all-axes/15108/7\n",
    "        self.fig = go.Figure(layout=go.Layout(\n",
    "                        scene=dict(camera=dict(eye=dict(x=1, y=1, z=1)), aspectmode=\"data\"),\n",
    "                        autosize=True,\n",
    "                        width=1000,\n",
    "                        height=800,\n",
    "                        margin=dict(l=10, r=10, b=10, t=10, pad=4),\n",
    "                        paper_bgcolor=\"White\"))\n",
    "        self.shown_legendgroups = []\n",
    "        \n",
    "    def _transform(self, points, inverse=False):\n",
    "        trafo_fn = self.back_trafo_fn if inverse else self.trafo_fn              \n",
    "        points = np.array([trafo_fn(point) for point in points])    \n",
    "        if self.swap_axes:\n",
    "            points = self._swap_axes(points, self.swap_axes)\n",
    "        return points\n",
    "    \n",
    "    def _swap_axes(self, points, swap_axes):\n",
    "        swap_translate = {\"x\": 0, \"y\": 1, \"z\": 2}\n",
    "        ind1, ind2 = swap_translate[swap_axes[0]], swap_translate[swap_axes[1]]\n",
    "        tmp = points[:,ind1].copy()\n",
    "        points[:,ind1] = points[:,ind2]\n",
    "        points[:,ind2] = tmp\n",
    "        return points\n",
    "    \n",
    "                    \n",
    "    def add_surface(self, xx, yy, z_func, swap_axes=None, opacity=None, **kwargs):\n",
    "        xy_arr = np.vstack([xx.flatten(), yy.flatten()]).T\n",
    "        z_arr = np.array([z_func(*i) for i in xy_arr])\n",
    "        points = np.column_stack([xy_arr, z_arr])\n",
    "        points = self._transform(points)\n",
    "        if swap_axes: \n",
    "            points = self._swap_axes(points, swap_axes)\n",
    "        surface_form = lambda x: x.reshape(round(math.sqrt(x.shape[0])),-1)\n",
    "        self.fig.add_trace(go.Surface(x=surface_form(points[:,0]), y=surface_form(points[:,1]), z=surface_form(points[:,2]), opacity=opacity, showlegend=True, showscale=False, **kwargs))\n",
    "    \n",
    "    \n",
    "    def add_line(self, point1, point2, width=6, do_transform=True, name=None, legendgroup=None, color=None, **kwargs):\n",
    "        if do_transform:\n",
    "            point1 = self._transform(np.array([point1])).squeeze()\n",
    "            point2 = self._transform(np.array([point2])).squeeze()\n",
    "        if legendgroup: \n",
    "            kwargs[\"showlegend\"] = legendgroup not in self.shown_legendgroups\n",
    "            kwargs[\"legendgroup\"] = name = legendgroup\n",
    "            self.shown_legendgroups.append(legendgroup)\n",
    "        self.fig.add_trace(\n",
    "            go.Scatter3d(x = [point1[0], point2[0]],\n",
    "                         y = [point1[1], point2[1]],\n",
    "                         z = [point1[2], point2[2]],\n",
    "                         marker = {**dict(size = 1), **(dict(color=color) if color else {})},\n",
    "                         line = dict(width = width),\n",
    "                         name=name,\n",
    "                         **kwargs\n",
    "                         )\n",
    "        )\n",
    "        \n",
    "    def add_markers(self, points, color=\"black\", size=2, name=None, shape=None, legendgroup=None, **kwargs):\n",
    "        points = np.array(points)\n",
    "        if points.ndim == 1: points = np.array([points])\n",
    "        points = self._transform(points)\n",
    "        default_args = dict(mode=\"markers\", x=points[:,0], y=points[:,1], z=points[:,2], marker={\"color\": color, \"size\": size, \"line\": {\"width\": 0}}, name=name)\n",
    "        if legendgroup: \n",
    "            default_args[\"showlegend\"] = legendgroup not in self.shown_legendgroups\n",
    "            default_args[\"legendgroup\"] = default_args[\"name\"] = legendgroup\n",
    "            self.shown_legendgroups.append(legendgroup)\n",
    "        self.fig.add_trace(go.Scatter3d(**{**default_args, **kwargs}))\n",
    "        \n",
    "    \n",
    "    def add_sample_projections(self, X, onto, n_samples=10, **kwargs):\n",
    "        show_vecs = X[np.random.choice(X.shape[0], n_samples, replace=False), :]\n",
    "        for point in show_vecs:\n",
    "            proj = ortho_projection_affine(point, onto)\n",
    "            self.add_line(point, proj, **kwargs)\n",
    "            \n",
    "        \n",
    "    def __enter__(self, *args):\n",
    "        return self\n",
    "    \n",
    "    def __exit__(self, exc_type, exc, exc_tb):\n",
    "        if not exc_type:\n",
    "            self.fig.update_layout(legend={'itemsizing': 'constant'})\n",
    "            display(self.fig)\n",
    "    "
   ]
  },
  {
   "cell_type": "code",
   "execution_count": null,
   "metadata": {},
   "outputs": [],
   "source": [
    "def make_meshgrid(X=None, minx=None, miny=None, maxx=None, maxy=None, size=None, amount=30, margin=0):\n",
    "    assert X is not None or (minx is not None and miny is not None and maxx is not None and maxy is not None) or size is not None\n",
    "    if X is not None:\n",
    "        minx = min(X[:,0]) if minx is None or min(X[:,0])<minx else minx\n",
    "        miny = min(X[:,1]) if miny is None or min(X[:,1])<miny else miny\n",
    "        maxx = max(X[:,0]) if maxx is None or max(X[:,0])>maxx else maxx\n",
    "        maxy = max(X[:,1]) if maxy is None or max(X[:,1])>maxy else maxy\n",
    "    elif size is not None and (minx is None and miny is None and maxx is None and maxy is None):\n",
    "        minx = miny = -size\n",
    "        maxx = maxy = size\n",
    "    lsx = np.linspace(minx-margin, maxx+margin, amount)\n",
    "    lsy = np.linspace(miny-margin, maxy+margin, amount)\n",
    "    xx, yy = np.meshgrid(lsx,lsy)\n",
    "    return xx, yy\n",
    "\n"
   ]
  },
  {
   "cell_type": "code",
   "execution_count": null,
   "metadata": {},
   "outputs": [],
   "source": [
    "@dataclass\n",
    "class Plane:\n",
    "    a: float\n",
    "    b: float\n",
    "    c: float\n",
    "    d: float\n",
    "    \n",
    "    @property\n",
    "    def normal(self):\n",
    "        return np.array([self.a, self.b, self.c])\n",
    "    \n",
    "    def __contains__(self, point:np.array):\n",
    "        return np.isclose(self.a*point[0] + self.b*point[1] + self.c*point[2] + self.d, 0)\n",
    "    \n",
    "    def project(self, point):\n",
    "        x,y,z = point\n",
    "        k = (self.a*x + self.b*y + self.c*z + self.d)/(self.a**2 + self.b**2 + self.c**2)\n",
    "        return np.array([x - k*self.a, y-k*self.b, z-k*self.c])\n",
    "   \n",
    "    def z(self, x, y):\n",
    "        return (- self.d - self.b*y - self.a*x)/self.c"
   ]
  },
  {
   "cell_type": "code",
   "execution_count": null,
   "metadata": {},
   "outputs": [],
   "source": [
    "def make_base_changer(plane):\n",
    "    uvec1 = plane.normal\n",
    "    uvec2 = [0, -plane.d/plane.b, plane.d/plane.c] #NOT [1, 0, plane.z(model, 1, 0)] !!\n",
    "    uvec3 = np.cross(uvec1, uvec2)\n",
    "    transition_matrix = np.linalg.inv(np.array([uvec1, uvec2, uvec3]).T)\n",
    "    \n",
    "    origin = np.array([0,0,0])\n",
    "    new_origin = plane.project(origin)\n",
    "    forward  = lambda point: transition_matrix.dot(point - new_origin)\n",
    "    backward = lambda point: np.linalg.inv(transition_matrix).dot(point) + new_origin\n",
    "    return forward, backward"
   ]
  },
  {
   "cell_type": "code",
   "execution_count": null,
   "metadata": {},
   "outputs": [],
   "source": [
    "X, y = make_blobs(n_samples=80, centers=2, random_state=2, n_features=3)\n",
    "model = svm.LinearSVC(C=1, max_iter=10000).fit(X, y)\n",
    "print(\"Coefficients:\", model.coef_, \"Intercept:\", model.intercept_)\n",
    "decision_plane = Plane(*model.coef_[0], model.intercept_[0])\n",
    "\n",
    "trafo, back_trafo = make_base_changer(decision_plane)\n",
    "\n",
    "onto_plane = np.array([back_trafo([0, trafo(point)[1], trafo(point)[2]]) for point, side in zip(X, y)])\n",
    "minx, miny = onto_plane.min(axis=0)[:2]\n",
    "maxx, maxy = onto_plane.max(axis=0)[:2]\n",
    "\n",
    "z_vals = [trafo(point)[0] for point in X]\n",
    "minneg, maxneg = min(z_vals), max([i for i in z_vals if i < 0])\n",
    "minpos, maxpos = min([i for i in z_vals if i > 0]), max(z_vals)"
   ]
  },
  {
   "cell_type": "code",
   "execution_count": null,
   "metadata": {},
   "outputs": [],
   "source": [
    "#instead of taking the transform, we could also just take the z-component (or the length, as x&y of it are 0) of the vector from a point to its projection\n",
    "\n",
    "for point, val in zip(X, y):\n",
    "    transformed_proj = np.around(trafo(decision_plane.project(point)-point), 5)\n",
    "    assert transformed_proj[1] == transformed_proj[2] == 0\n",
    "    assert (np.sign(transformed_proj[0]) == 1) == (val == 0)\n",
    "    \n",
    "assert all(np.array([trafo(point)[0] for point in X]).argsort() == np.array([(decision_plane.project(point)-point)[2] for point in X]).argsort())"
   ]
  },
  {
   "cell_type": "code",
   "execution_count": null,
   "metadata": {
    "tags": [
     "keep_output"
    ]
   },
   "outputs": [
    {
     "data": {
      "application/vnd.plotly.v1+json": {
       "config": {
        "plotlyServerURL": "https://plot.ly"
       },
       "data": [
        {
         "marker": {
          "color": "black",
          "line": {
           "width": 0
          },
          "size": 3
         },
         "mode": "markers",
         "name": "Origin",
         "type": "scatter3d",
         "x": [
          0
         ],
         "y": [
          0
         ],
         "z": [
          0
         ]
        },
        {
         "marker": {
          "color": "cyan",
          "line": {
           "width": 0
          },
          "size": 3
         },
         "mode": "markers",
         "name": "Plane Offset",
         "type": "scatter3d",
         "x": [
          0.10457700254299399
         ],
         "y": [
          -0.2674438642032512
         ],
         "z": [
          0.5043042059801655
         ]
        },
        {
         "line": {
          "width": 6
         },
         "marker": {
          "size": 1
         },
         "name": "Normal of Plane",
         "type": "scatter3d",
         "x": [
          1.2543576714434996,
          -0.8294727387554027
         ],
         "y": [
          -3.2078779711239314,
          2.1212827783316546
         ],
         "z": [
          6.048919304723581,
          -3.9999864284526723
         ]
        },
        {
         "legendgroup": "Positive Samples",
         "marker": {
          "color": "blue",
          "line": {
           "width": 0
          },
          "size": 2
         },
         "mode": "markers",
         "name": "Positive Samples",
         "showlegend": true,
         "type": "scatter3d",
         "x": [
          0.042014020706258925
         ],
         "y": [
          -1.2900146220721205
         ],
         "z": [
          -3.847531434638628
         ]
        },
        {
         "legendgroup": "D = 1.59 (min+)",
         "marker": {
          "color": "blue",
          "line": {
           "width": 0
          },
          "size": 5,
          "symbol": "cross"
         },
         "mode": "markers",
         "name": "D = 1.59 (min+)",
         "showlegend": true,
         "type": "scatter3d",
         "visible": "legendonly",
         "x": [
          -2.1339951601259597
         ],
         "y": [
          -1.9049146279088631
         ],
         "z": [
          -1.2486254908114804
         ]
        },
        {
         "legendgroup": "D = 1.59 (min+)",
         "line": {
          "width": 6
         },
         "marker": {
          "color": "blue",
          "size": 1
         },
         "name": "D = 1.59 (min+)",
         "opacity": 0.4,
         "showlegend": false,
         "type": "scatter3d",
         "visible": "legendonly",
         "x": [
          -2.1339951601259597,
          -1.9227883776251995
         ],
         "y": [
          -1.9049146279088631,
          -2.4450521025387784
         ],
         "z": [
          -1.2486254908114804,
          -0.23011792072806925
         ]
        },
        {
         "legendgroup": "D = 1.59 (min+)",
         "line": {
          "width": 6
         },
         "marker": {
          "color": "blue",
          "size": 1
         },
         "name": "D = 1.59 (min+)",
         "opacity": 0.4,
         "showlegend": false,
         "type": "scatter3d",
         "visible": "legendonly",
         "x": [
          -2.1339951601259597,
          -0.10662977995776651
         ],
         "y": [
          -1.9049146279088631,
          0.2726936104266641
         ],
         "z": [
          -1.2486254908114804,
          -0.5142033641032459
         ]
        },
        {
         "legendgroup": "Positive Samples",
         "marker": {
          "color": "blue",
          "line": {
           "width": 0
          },
          "size": 2
         },
         "mode": "markers",
         "name": "Positive Samples",
         "showlegend": false,
         "type": "scatter3d",
         "x": [
          -2.6435542503000073
         ],
         "y": [
          -2.2908149558331123
         ],
         "z": [
          -3.153352381649631
         ]
        },
        {
         "legendgroup": "Negative Samples",
         "marker": {
          "color": "red",
          "line": {
           "width": 0
          },
          "size": 2
         },
         "mode": "markers",
         "name": "Negative Samples",
         "showlegend": true,
         "type": "scatter3d",
         "x": [
          -1.8403364633977217
         ],
         "y": [
          -10.383721431512676
         ],
         "z": [
          0.40227728210473745
         ]
        },
        {
         "legendgroup": "Negative Samples",
         "marker": {
          "color": "red",
          "line": {
           "width": 0
          },
          "size": 2
         },
         "mode": "markers",
         "name": "Negative Samples",
         "showlegend": false,
         "type": "scatter3d",
         "x": [
          -1.6157792956837722
         ],
         "y": [
          -8.870134583868456
         ],
         "z": [
          1.0412201494423712
         ]
        },
        {
         "legendgroup": "Positive Samples",
         "marker": {
          "color": "blue",
          "line": {
           "width": 0
          },
          "size": 2
         },
         "mode": "markers",
         "name": "Positive Samples",
         "showlegend": false,
         "type": "scatter3d",
         "x": [
          -1.608169583290394
         ],
         "y": [
          -2.1863995411328263
         ],
         "z": [
          -2.243803012204535
         ]
        },
        {
         "legendgroup": "Positive Samples",
         "marker": {
          "color": "blue",
          "line": {
           "width": 0
          },
          "size": 2
         },
         "mode": "markers",
         "name": "Positive Samples",
         "showlegend": false,
         "type": "scatter3d",
         "x": [
          -1.7225654661443077
         ],
         "y": [
          -0.8964459786387888
         ],
         "z": [
          -2.695887307645588
         ]
        },
        {
         "legendgroup": "Negative Samples",
         "marker": {
          "color": "red",
          "line": {
           "width": 0
          },
          "size": 2
         },
         "mode": "markers",
         "name": "Negative Samples",
         "showlegend": false,
         "type": "scatter3d",
         "x": [
          -0.771705714476493
         ],
         "y": [
          -9.265359357178491
         ],
         "z": [
          -0.8653628285493147
         ]
        },
        {
         "legendgroup": "Positive Samples",
         "marker": {
          "color": "blue",
          "line": {
           "width": 0
          },
          "size": 2
         },
         "mode": "markers",
         "name": "Positive Samples",
         "showlegend": false,
         "type": "scatter3d",
         "x": [
          -0.67133173316653
         ],
         "y": [
          -0.6318620134069913
         ],
         "z": [
          -2.6349332327557478
         ]
        },
        {
         "legendgroup": "Positive Samples",
         "marker": {
          "color": "blue",
          "line": {
           "width": 0
          },
          "size": 2
         },
         "mode": "markers",
         "name": "Positive Samples",
         "showlegend": false,
         "type": "scatter3d",
         "x": [
          -1.59821873248412
         ],
         "y": [
          -1.752368088371606
         ],
         "z": [
          -2.8443570200998987
         ]
        },
        {
         "legendgroup": "Negative Samples",
         "marker": {
          "color": "red",
          "line": {
           "width": 0
          },
          "size": 2
         },
         "mode": "markers",
         "name": "Negative Samples",
         "showlegend": false,
         "type": "scatter3d",
         "x": [
          -1.876261656966392
         ],
         "y": [
          -9.500605859963326
         ],
         "z": [
          2.1682507770744737
         ]
        },
        {
         "legendgroup": "Negative Samples",
         "marker": {
          "color": "red",
          "line": {
           "width": 0
          },
          "size": 2
         },
         "mode": "markers",
         "name": "Negative Samples",
         "showlegend": false,
         "type": "scatter3d",
         "x": [
          1.3051929109046245
         ],
         "y": [
          -7.646142640577349
         ],
         "z": [
          1.4339394299892925
         ]
        },
        {
         "legendgroup": "Positive Samples",
         "marker": {
          "color": "blue",
          "line": {
           "width": 0
          },
          "size": 2
         },
         "mode": "markers",
         "name": "Positive Samples",
         "showlegend": false,
         "type": "scatter3d",
         "x": [
          -0.5586674798935111
         ],
         "y": [
          -2.6540097021810576
         ],
         "z": [
          -3.501820403841502
         ]
        },
        {
         "legendgroup": "Positive Samples",
         "marker": {
          "color": "blue",
          "line": {
           "width": 0
          },
          "size": 2
         },
         "mode": "markers",
         "name": "Positive Samples",
         "showlegend": false,
         "type": "scatter3d",
         "x": [
          -0.5370500045819107
         ],
         "y": [
          -1.3512043294085272
         ],
         "z": [
          -2.8958779309977802
         ]
        },
        {
         "legendgroup": "Positive Samples",
         "marker": {
          "color": "blue",
          "line": {
           "width": 0
          },
          "size": 2
         },
         "mode": "markers",
         "name": "Positive Samples",
         "showlegend": false,
         "type": "scatter3d",
         "x": [
          -2.4278706306650815
         ],
         "y": [
          -2.3000648458140063
         ],
         "z": [
          -4.614732745018286
         ]
        },
        {
         "legendgroup": "Negative Samples",
         "marker": {
          "color": "red",
          "line": {
           "width": 0
          },
          "size": 2
         },
         "mode": "markers",
         "name": "Negative Samples",
         "showlegend": false,
         "type": "scatter3d",
         "x": [
          -2.189109572086774
         ],
         "y": [
          -8.930021318895749
         ],
         "z": [
          3.2854575703891404
         ]
        },
        {
         "legendgroup": "Negative Samples",
         "marker": {
          "color": "red",
          "line": {
           "width": 0
          },
          "size": 2
         },
         "mode": "markers",
         "name": "Negative Samples",
         "showlegend": false,
         "type": "scatter3d",
         "x": [
          -1.2385625641615214
         ],
         "y": [
          -10.599400808555691
         ],
         "z": [
          1.5323078781549717
         ]
        },
        {
         "legendgroup": "D = -1.67 (max-)",
         "marker": {
          "color": "red",
          "line": {
           "width": 0
          },
          "size": 5,
          "symbol": "diamond"
         },
         "mode": "markers",
         "name": "D = -1.67 (max-)",
         "showlegend": true,
         "type": "scatter3d",
         "x": [
          -1.5491589173759384
         ],
         "y": [
          -7.250108574555569
         ],
         "z": [
          -1.4415180189468613
         ]
        },
        {
         "legendgroup": "D = -1.67 (max-)",
         "line": {
          "width": 6
         },
         "marker": {
          "color": "red",
          "size": 1
         },
         "name": "D = -1.67 (max-)",
         "opacity": 0.4,
         "showlegend": false,
         "type": "scatter3d",
         "x": [
          -1.5491589173759384,
          -1.7706314232997953
         ],
         "y": [
          -7.250108574555569,
          -6.683717672552978
         ],
         "z": [
          -1.4415180189468613,
          -2.5095302351169506
         ]
        },
        {
         "legendgroup": "D = -1.67 (max-)",
         "line": {
          "width": 6
         },
         "marker": {
          "color": "red",
          "size": 1
         },
         "name": "D = -1.67 (max-)",
         "opacity": 0.4,
         "showlegend": false,
         "type": "scatter3d",
         "x": [
          -1.5491589173759384,
          0.32604950846685066
         ],
         "y": [
          -7.250108574555569,
          -0.8338347662058428
         ],
         "z": [
          -1.4415180189468613,
          1.5723164221502544
         ]
        },
        {
         "legendgroup": "Positive Samples",
         "marker": {
          "color": "blue",
          "line": {
           "width": 0
          },
          "size": 2
         },
         "mode": "markers",
         "name": "Positive Samples",
         "showlegend": false,
         "type": "scatter3d",
         "x": [
          -1.6580312392471215
         ],
         "y": [
          -2.4686234359156143
         ],
         "z": [
          -2.9967834212358087
         ]
        },
        {
         "legendgroup": "Negative Samples",
         "marker": {
          "color": "red",
          "line": {
           "width": 0
          },
          "size": 2
         },
         "mode": "markers",
         "name": "Negative Samples",
         "showlegend": false,
         "type": "scatter3d",
         "x": [
          -0.777220540001882
         ],
         "y": [
          -10.726763450049406
         ],
         "z": [
          -0.06470266128815605
         ]
        },
        {
         "legendgroup": "Positive Samples",
         "marker": {
          "color": "blue",
          "line": {
           "width": 0
          },
          "size": 2
         },
         "mode": "markers",
         "name": "Positive Samples",
         "showlegend": false,
         "type": "scatter3d",
         "x": [
          -0.2077457436123662
         ],
         "y": [
          -0.6904645628096294
         ],
         "z": [
          -3.0030071301117554
         ]
        },
        {
         "legendgroup": "Negative Samples",
         "marker": {
          "color": "red",
          "line": {
           "width": 0
          },
          "size": 2
         },
         "mode": "markers",
         "name": "Negative Samples",
         "showlegend": false,
         "type": "scatter3d",
         "x": [
          -2.208993881683744
         ],
         "y": [
          -6.931037127562513
         ],
         "z": [
          -0.4799236902257027
         ]
        },
        {
         "legendgroup": "Negative Samples",
         "marker": {
          "color": "red",
          "line": {
           "width": 0
          },
          "size": 2
         },
         "mode": "markers",
         "name": "Negative Samples",
         "showlegend": false,
         "type": "scatter3d",
         "x": [
          -2.1092372461747035
         ],
         "y": [
          -9.393765145033843
         ],
         "z": [
          1.993615444124878
         ]
        },
        {
         "legendgroup": "Positive Samples",
         "marker": {
          "color": "blue",
          "line": {
           "width": 0
          },
          "size": 2
         },
         "mode": "markers",
         "name": "Positive Samples",
         "showlegend": false,
         "type": "scatter3d",
         "x": [
          -0.3180427354058979
         ],
         "y": [
          -1.4010703116424414
         ],
         "z": [
          -4.0555125917167665
         ]
        },
        {
         "legendgroup": "Positive Samples",
         "marker": {
          "color": "blue",
          "line": {
           "width": 0
          },
          "size": 2
         },
         "mode": "markers",
         "name": "Positive Samples",
         "showlegend": false,
         "type": "scatter3d",
         "x": [
          -1.7618984071926949
         ],
         "y": [
          -2.8473642653630744
         ],
         "z": [
          -3.268479933536673
         ]
        },
        {
         "legendgroup": "Negative Samples",
         "marker": {
          "color": "red",
          "line": {
           "width": 0
          },
          "size": 2
         },
         "mode": "markers",
         "name": "Negative Samples",
         "showlegend": false,
         "type": "scatter3d",
         "x": [
          -1.6994184393126137
         ],
         "y": [
          -9.613804261878917
         ],
         "z": [
          0.9536793178805771
         ]
        },
        {
         "legendgroup": "Negative Samples",
         "marker": {
          "color": "red",
          "line": {
           "width": 0
          },
          "size": 2
         },
         "mode": "markers",
         "name": "Negative Samples",
         "showlegend": false,
         "type": "scatter3d",
         "x": [
          -0.8996299869449244
         ],
         "y": [
          -9.698610632187053
         ],
         "z": [
          2.1667810560691363
         ]
        },
        {
         "legendgroup": "D = -8.68 (min-)",
         "marker": {
          "color": "red",
          "line": {
           "width": 0
          },
          "size": 5,
          "symbol": "square"
         },
         "mode": "markers",
         "name": "D = -8.68 (min-)",
         "showlegend": true,
         "type": "scatter3d",
         "x": [
          0.1265942845014456
         ],
         "y": [
          -11.219434867826742
         ],
         "z": [
          2.0340735109649115
         ]
        },
        {
         "legendgroup": "D = -8.68 (min-)",
         "line": {
          "width": 6
         },
         "marker": {
          "color": "red",
          "size": 1
         },
         "name": "D = -8.68 (min-)",
         "opacity": 0.4,
         "showlegend": false,
         "type": "scatter3d",
         "x": [
          0.1265942845014456,
          -1.0231863843990598
         ],
         "y": [
          -11.219434867826742,
          -8.279000760906063
         ],
         "z": [
          2.0340735109649115,
          -3.510541587778504
         ]
        },
        {
         "legendgroup": "D = -8.68 (min-)",
         "line": {
          "width": 6
         },
         "marker": {
          "color": "red",
          "size": 1
         },
         "name": "D = -8.68 (min-)",
         "opacity": 0.4,
         "showlegend": false,
         "type": "scatter3d",
         "x": [
          0.1265942845014456,
          1.2543576714434996
         ],
         "y": [
          -11.219434867826742,
          -3.2078779711239314
         ],
         "z": [
          2.0340735109649115,
          6.048919304723581
         ]
        },
        {
         "legendgroup": "Positive Samples",
         "marker": {
          "color": "blue",
          "line": {
           "width": 0
          },
          "size": 2
         },
         "mode": "markers",
         "name": "Positive Samples",
         "showlegend": false,
         "type": "scatter3d",
         "x": [
          -3.2793979214271083
         ],
         "y": [
          -1.2275904418093788
         ],
         "z": [
          -2.6192215465178186
         ]
        },
        {
         "legendgroup": "Negative Samples",
         "marker": {
          "color": "red",
          "line": {
           "width": 0
          },
          "size": 2
         },
         "mode": "markers",
         "name": "Negative Samples",
         "showlegend": false,
         "type": "scatter3d",
         "x": [
          -0.5448223810947223
         ],
         "y": [
          -10.13472563123421
         ],
         "z": [
          1.835705839145523
         ]
        },
        {
         "legendgroup": "Negative Samples",
         "marker": {
          "color": "red",
          "line": {
           "width": 0
          },
          "size": 2
         },
         "mode": "markers",
         "name": "Negative Samples",
         "showlegend": false,
         "type": "scatter3d",
         "x": [
          -1.9993557985866022
         ],
         "y": [
          -10.064889958021181
         ],
         "z": [
          0.6681999291923968
         ]
        },
        {
         "legendgroup": "Positive Samples",
         "marker": {
          "color": "blue",
          "line": {
           "width": 0
          },
          "size": 2
         },
         "mode": "markers",
         "name": "Positive Samples",
         "showlegend": false,
         "type": "scatter3d",
         "x": [
          -0.6920363339672632
         ],
         "y": [
          -1.58898446753575
         ],
         "z": [
          -3.6215511381165517
         ]
        },
        {
         "legendgroup": "Positive Samples",
         "marker": {
          "color": "blue",
          "line": {
           "width": 0
          },
          "size": 2
         },
         "mode": "markers",
         "name": "Positive Samples",
         "showlegend": false,
         "type": "scatter3d",
         "x": [
          -0.2605230817068416
         ],
         "y": [
          -1.9216463929509258
         ],
         "z": [
          -4.544306524063666
         ]
        },
        {
         "legendgroup": "Positive Samples",
         "marker": {
          "color": "blue",
          "line": {
           "width": 0
          },
          "size": 2
         },
         "mode": "markers",
         "name": "Positive Samples",
         "showlegend": false,
         "type": "scatter3d",
         "x": [
          -1.7200746184897326
         ],
         "y": [
          -1.7407911494275212
         ],
         "z": [
          -1.8918666646659397
         ]
        },
        {
         "legendgroup": "Positive Samples",
         "marker": {
          "color": "blue",
          "line": {
           "width": 0
          },
          "size": 2
         },
         "mode": "markers",
         "name": "Positive Samples",
         "showlegend": false,
         "type": "scatter3d",
         "x": [
          -0.5415872984195823
         ],
         "y": [
          -2.5864049413688104
         ],
         "z": [
          -2.2841602985608693
         ]
        },
        {
         "legendgroup": "Positive Samples",
         "marker": {
          "color": "blue",
          "line": {
           "width": 0
          },
          "size": 2
         },
         "mode": "markers",
         "name": "Positive Samples",
         "showlegend": false,
         "type": "scatter3d",
         "x": [
          -3.1439561214259393
         ],
         "y": [
          -1.2621558942512991
         ],
         "z": [
          -3.7089967902252914
         ]
        },
        {
         "legendgroup": "Positive Samples",
         "marker": {
          "color": "blue",
          "line": {
           "width": 0
          },
          "size": 2
         },
         "mode": "markers",
         "name": "Positive Samples",
         "showlegend": false,
         "type": "scatter3d",
         "x": [
          1.9861932534769364
         ],
         "y": [
          -0.6217826382099462
         ],
         "z": [
          -1.6007107275242336
         ]
        },
        {
         "legendgroup": "Negative Samples",
         "marker": {
          "color": "red",
          "line": {
           "width": 0
          },
          "size": 2
         },
         "mode": "markers",
         "name": "Negative Samples",
         "showlegend": false,
         "type": "scatter3d",
         "x": [
          -0.7782447503786115
         ],
         "y": [
          -10.325689067272036
         ],
         "z": [
          0.993259319045779
         ]
        },
        {
         "legendgroup": "Positive Samples",
         "marker": {
          "color": "blue",
          "line": {
           "width": 0
          },
          "size": 2
         },
         "mode": "markers",
         "name": "Positive Samples",
         "showlegend": false,
         "type": "scatter3d",
         "x": [
          -2.354351183964895
         ],
         "y": [
          -1.0009774375225404
         ],
         "z": [
          -3.576560153702099
         ]
        },
        {
         "legendgroup": "Positive Samples",
         "marker": {
          "color": "blue",
          "line": {
           "width": 0
          },
          "size": 2
         },
         "mode": "markers",
         "name": "Positive Samples",
         "showlegend": false,
         "type": "scatter3d",
         "x": [
          0.5324423095002062
         ],
         "y": [
          -3.306711369346252
         ],
         "z": [
          -3.4699431439198865
         ]
        },
        {
         "legendgroup": "Positive Samples",
         "marker": {
          "color": "blue",
          "line": {
           "width": 0
          },
          "size": 2
         },
         "mode": "markers",
         "name": "Positive Samples",
         "showlegend": false,
         "type": "scatter3d",
         "x": [
          -0.7956119992676421
         ],
         "y": [
          -1.4661397829437133
         ],
         "z": [
          -4.812114131071052
         ]
        },
        {
         "legendgroup": "Negative Samples",
         "marker": {
          "color": "red",
          "line": {
           "width": 0
          },
          "size": 2
         },
         "mode": "markers",
         "name": "Negative Samples",
         "showlegend": false,
         "type": "scatter3d",
         "x": [
          -1.9577775344879664
         ],
         "y": [
          -10.920914390180792
         ],
         "z": [
          1.5175459875845316
         ]
        },
        {
         "legendgroup": "Negative Samples",
         "marker": {
          "color": "red",
          "line": {
           "width": 0
          },
          "size": 2
         },
         "mode": "markers",
         "name": "Negative Samples",
         "showlegend": false,
         "type": "scatter3d",
         "x": [
          -0.846605627083354
         ],
         "y": [
          -8.203096133170305
         ],
         "z": [
          0.35857025239482054
         ]
        },
        {
         "legendgroup": "Negative Samples",
         "marker": {
          "color": "red",
          "line": {
           "width": 0
          },
          "size": 2
         },
         "mode": "markers",
         "name": "Negative Samples",
         "showlegend": false,
         "type": "scatter3d",
         "x": [
          -0.9540985237729442
         ],
         "y": [
          -11.521798412170888
         ],
         "z": [
          1.0395050807158799
         ]
        },
        {
         "legendgroup": "Negative Samples",
         "marker": {
          "color": "red",
          "line": {
           "width": 0
          },
          "size": 2
         },
         "mode": "markers",
         "name": "Negative Samples",
         "showlegend": false,
         "type": "scatter3d",
         "x": [
          -1.167375452343276
         ],
         "y": [
          -9.11103082677894
         ],
         "z": [
          2.352883420246779
         ]
        },
        {
         "legendgroup": "Negative Samples",
         "marker": {
          "color": "red",
          "line": {
           "width": 0
          },
          "size": 2
         },
         "mode": "markers",
         "name": "Negative Samples",
         "showlegend": false,
         "type": "scatter3d",
         "x": [
          -1.6189239231891213
         ],
         "y": [
          -9.717659394294776
         ],
         "z": [
          0.35559454508988164
         ]
        },
        {
         "legendgroup": "Positive Samples",
         "marker": {
          "color": "blue",
          "line": {
           "width": 0
          },
          "size": 2
         },
         "mode": "markers",
         "name": "Positive Samples",
         "showlegend": false,
         "type": "scatter3d",
         "x": [
          2.815140476170738
         ],
         "y": [
          -0.7715230809383078
         ],
         "z": [
          -1.8615432636055613
         ]
        },
        {
         "legendgroup": "Negative Samples",
         "marker": {
          "color": "red",
          "line": {
           "width": 0
          },
          "size": 2
         },
         "mode": "markers",
         "name": "Negative Samples",
         "showlegend": false,
         "type": "scatter3d",
         "x": [
          -2.467714243545209
         ],
         "y": [
          -10.9026925907463
         ],
         "z": [
          0.8397543618972337
         ]
        },
        {
         "legendgroup": "Positive Samples",
         "marker": {
          "color": "blue",
          "line": {
           "width": 0
          },
          "size": 2
         },
         "mode": "markers",
         "name": "Positive Samples",
         "showlegend": false,
         "type": "scatter3d",
         "x": [
          -2.6111194173885
         ],
         "y": [
          -3.6182375500848063
         ],
         "z": [
          -3.4755489549556478
         ]
        },
        {
         "legendgroup": "Positive Samples",
         "marker": {
          "color": "blue",
          "line": {
           "width": 0
          },
          "size": 2
         },
         "mode": "markers",
         "name": "Positive Samples",
         "showlegend": false,
         "type": "scatter3d",
         "x": [
          -2.632141027502986
         ],
         "y": [
          -0.4598978823168711
         ],
         "z": [
          -3.0229987371752776
         ]
        },
        {
         "legendgroup": "Positive Samples",
         "marker": {
          "color": "blue",
          "line": {
           "width": 0
          },
          "size": 2
         },
         "mode": "markers",
         "name": "Positive Samples",
         "showlegend": false,
         "type": "scatter3d",
         "x": [
          -0.27369741826522564
         ],
         "y": [
          -3.07510943607289
         ],
         "z": [
          -2.5469916880804377
         ]
        },
        {
         "legendgroup": "Negative Samples",
         "marker": {
          "color": "red",
          "line": {
           "width": 0
          },
          "size": 2
         },
         "mode": "markers",
         "name": "Negative Samples",
         "showlegend": false,
         "type": "scatter3d",
         "x": [
          -0.8562772492940441
         ],
         "y": [
          -8.682295368407159
         ],
         "z": [
          2.255863220899003
         ]
        },
        {
         "legendgroup": "Positive Samples",
         "marker": {
          "color": "blue",
          "line": {
           "width": 0
          },
          "size": 2
         },
         "mode": "markers",
         "name": "Positive Samples",
         "showlegend": false,
         "type": "scatter3d",
         "x": [
          0.5109244939452628
         ],
         "y": [
          -1.4122341513386731
         ],
         "z": [
          -2.8401393057647053
         ]
        },
        {
         "legendgroup": "Positive Samples",
         "marker": {
          "color": "blue",
          "line": {
           "width": 0
          },
          "size": 2
         },
         "mode": "markers",
         "name": "Positive Samples",
         "showlegend": false,
         "type": "scatter3d",
         "x": [
          -3.3631644102999134
         ],
         "y": [
          -0.982499871843562
         ],
         "z": [
          -2.9698066794796447
         ]
        },
        {
         "legendgroup": "Negative Samples",
         "marker": {
          "color": "red",
          "line": {
           "width": 0
          },
          "size": 2
         },
         "mode": "markers",
         "name": "Negative Samples",
         "showlegend": false,
         "type": "scatter3d",
         "x": [
          -3.6237051481598868
         ],
         "y": [
          -8.3199538727014
         ],
         "z": [
          1.3793276051777774
         ]
        },
        {
         "legendgroup": "Negative Samples",
         "marker": {
          "color": "red",
          "line": {
           "width": 0
          },
          "size": 2
         },
         "mode": "markers",
         "name": "Negative Samples",
         "showlegend": false,
         "type": "scatter3d",
         "x": [
          -0.8982357230332279
         ],
         "y": [
          -8.915199921999717
         ],
         "z": [
          1.197457536488295
         ]
        },
        {
         "legendgroup": "Negative Samples",
         "marker": {
          "color": "red",
          "line": {
           "width": 0
          },
          "size": 2
         },
         "mode": "markers",
         "name": "Negative Samples",
         "showlegend": false,
         "type": "scatter3d",
         "x": [
          -1.6839942264978642
         ],
         "y": [
          -10.865994029978038
         ],
         "z": [
          2.3604849815013074
         ]
        },
        {
         "legendgroup": "Positive Samples",
         "marker": {
          "color": "blue",
          "line": {
           "width": 0
          },
          "size": 2
         },
         "mode": "markers",
         "name": "Positive Samples",
         "showlegend": false,
         "type": "scatter3d",
         "x": [
          -0.17566541418362114
         ],
         "y": [
          -1.8668860471137454
         ],
         "z": [
          -1.6514913914502833
         ]
        },
        {
         "legendgroup": "Negative Samples",
         "marker": {
          "color": "red",
          "line": {
           "width": 0
          },
          "size": 2
         },
         "mode": "markers",
         "name": "Negative Samples",
         "showlegend": false,
         "type": "scatter3d",
         "x": [
          -0.5849823521129334
         ],
         "y": [
          -11.514941909564786
         ],
         "z": [
          0.8037802928618021
         ]
        },
        {
         "legendgroup": "Negative Samples",
         "marker": {
          "color": "red",
          "line": {
           "width": 0
          },
          "size": 2
         },
         "mode": "markers",
         "name": "Negative Samples",
         "showlegend": false,
         "type": "scatter3d",
         "x": [
          -2.3015166876819912
         ],
         "y": [
          -9.049079662462567
         ],
         "z": [
          0.669669487497659
         ]
        },
        {
         "legendgroup": "Negative Samples",
         "marker": {
          "color": "red",
          "line": {
           "width": 0
          },
          "size": 2
         },
         "mode": "markers",
         "name": "Negative Samples",
         "showlegend": false,
         "type": "scatter3d",
         "x": [
          -0.062216324103634424
         ],
         "y": [
          -9.943480711595555
         ],
         "z": [
          1.3441380516619292
         ]
        },
        {
         "legendgroup": "Positive Samples",
         "marker": {
          "color": "blue",
          "line": {
           "width": 0
          },
          "size": 2
         },
         "mode": "markers",
         "name": "Positive Samples",
         "showlegend": false,
         "type": "scatter3d",
         "x": [
          -0.7791814301690143
         ],
         "y": [
          -0.7631855276368256
         ],
         "z": [
          -2.7626816126453972
         ]
        },
        {
         "legendgroup": "Positive Samples",
         "marker": {
          "color": "blue",
          "line": {
           "width": 0
          },
          "size": 2
         },
         "mode": "markers",
         "name": "Positive Samples",
         "showlegend": false,
         "type": "scatter3d",
         "x": [
          -1.7410530238271087
         ],
         "y": [
          -2.848071176596078
         ],
         "z": [
          -2.4551399086483734
         ]
        },
        {
         "legendgroup": "Positive Samples",
         "marker": {
          "color": "blue",
          "line": {
           "width": 0
          },
          "size": 2
         },
         "mode": "markers",
         "name": "Positive Samples",
         "showlegend": false,
         "type": "scatter3d",
         "x": [
          -1.846501587197685
         ],
         "y": [
          -1.2931171450700611
         ],
         "z": [
          -2.8406398843183185
         ]
        },
        {
         "legendgroup": "Negative Samples",
         "marker": {
          "color": "red",
          "line": {
           "width": 0
          },
          "size": 2
         },
         "mode": "markers",
         "name": "Negative Samples",
         "showlegend": false,
         "type": "scatter3d",
         "x": [
          -1.661618438925011
         ],
         "y": [
          -9.41498635429603
         ],
         "z": [
          -0.10548938942187358
         ]
        },
        {
         "legendgroup": "Positive Samples",
         "marker": {
          "color": "blue",
          "line": {
           "width": 0
          },
          "size": 2
         },
         "mode": "markers",
         "name": "Positive Samples",
         "showlegend": false,
         "type": "scatter3d",
         "x": [
          -3.0584698759102187
         ],
         "y": [
          -1.70706525528034
         ],
         "z": [
          -3.891477773844276
         ]
        },
        {
         "legendgroup": "Negative Samples",
         "marker": {
          "color": "red",
          "line": {
           "width": 0
          },
          "size": 2
         },
         "mode": "markers",
         "name": "Negative Samples",
         "showlegend": false,
         "type": "scatter3d",
         "x": [
          -1.4365361275445485
         ],
         "y": [
          -9.224904911440879
         ],
         "z": [
          0.004470508804561124
         ]
        },
        {
         "legendgroup": "Negative Samples",
         "marker": {
          "color": "red",
          "line": {
           "width": 0
          },
          "size": 2
         },
         "mode": "markers",
         "name": "Negative Samples",
         "showlegend": false,
         "type": "scatter3d",
         "x": [
          0.3043850992357515
         ],
         "y": [
          -12.140924819825662
         ],
         "z": [
          0.9017969346835247
         ]
        },
        {
         "legendgroup": "Negative Samples",
         "marker": {
          "color": "red",
          "line": {
           "width": 0
          },
          "size": 2
         },
         "mode": "markers",
         "name": "Negative Samples",
         "showlegend": false,
         "type": "scatter3d",
         "x": [
          -3.1481926117236885
         ],
         "y": [
          -7.750290697461706
         ],
         "z": [
          2.4609275681475955
         ]
        },
        {
         "legendgroup": "Negative Samples",
         "marker": {
          "color": "red",
          "line": {
           "width": 0
          },
          "size": 2
         },
         "mode": "markers",
         "name": "Negative Samples",
         "showlegend": false,
         "type": "scatter3d",
         "x": [
          -2.0279729064537872
         ],
         "y": [
          -9.472450112468849
         ],
         "z": [
          0.11514166433384088
         ]
        },
        {
         "legendgroup": "Negative Samples",
         "marker": {
          "color": "red",
          "line": {
           "width": 0
          },
          "size": 2
         },
         "mode": "markers",
         "name": "Negative Samples",
         "showlegend": false,
         "type": "scatter3d",
         "x": [
          -2.413235230836907
         ],
         "y": [
          -9.048382808785483
         ],
         "z": [
          0.6891631187728673
         ]
        },
        {
         "legendgroup": "Negative Samples",
         "marker": {
          "color": "red",
          "line": {
           "width": 0
          },
          "size": 2
         },
         "mode": "markers",
         "name": "Negative Samples",
         "showlegend": false,
         "type": "scatter3d",
         "x": [
          -1.5562814494106627
         ],
         "y": [
          -9.99835925717476
         ],
         "z": [
          0.2946596076377942
         ]
        },
        {
         "legendgroup": "Positive Samples",
         "marker": {
          "color": "blue",
          "line": {
           "width": 0
          },
          "size": 2
         },
         "mode": "markers",
         "name": "Positive Samples",
         "showlegend": false,
         "type": "scatter3d",
         "x": [
          -1.1724465660561343
         ],
         "y": [
          -2.439472710192113
         ],
         "z": [
          -3.3328411309196055
         ]
        },
        {
         "legendgroup": "Positive Samples",
         "marker": {
          "color": "blue",
          "line": {
           "width": 0
          },
          "size": 2
         },
         "mode": "markers",
         "name": "Positive Samples",
         "showlegend": false,
         "type": "scatter3d",
         "x": [
          -1.545326266004287
         ],
         "y": [
          -3.1393185695146357
         ],
         "z": [
          -5.475955515667467
         ]
        },
        {
         "legendgroup": "Negative Samples",
         "marker": {
          "color": "red",
          "line": {
           "width": 0
          },
          "size": 2
         },
         "mode": "markers",
         "name": "Negative Samples",
         "showlegend": false,
         "type": "scatter3d",
         "x": [
          -1.357320622512882
         ],
         "y": [
          -8.656772358005192
         ],
         "z": [
          2.2414624781712167
         ]
        },
        {
         "legendgroup": "Negative Samples",
         "marker": {
          "color": "red",
          "line": {
           "width": 0
          },
          "size": 2
         },
         "mode": "markers",
         "name": "Negative Samples",
         "showlegend": false,
         "type": "scatter3d",
         "x": [
          -1.6611944746752747
         ],
         "y": [
          -9.857144786521168
         ],
         "z": [
          0.9187787946802018
         ]
        },
        {
         "legendgroup": "Negative Samples",
         "marker": {
          "color": "red",
          "line": {
           "width": 0
          },
          "size": 2
         },
         "mode": "markers",
         "name": "Negative Samples",
         "showlegend": false,
         "type": "scatter3d",
         "x": [
          -0.7377493850108957
         ],
         "y": [
          -9.794983560435583
         ],
         "z": [
          1.7642612956435944
         ]
        },
        {
         "legendgroup": "Positive Samples",
         "marker": {
          "color": "blue",
          "line": {
           "width": 0
          },
          "size": 2
         },
         "mode": "markers",
         "name": "Positive Samples",
         "showlegend": false,
         "type": "scatter3d",
         "x": [
          -2.7469164972912514
         ],
         "y": [
          -1.9306617356064473
         ],
         "z": [
          -3.034170248128713
         ]
        },
        {
         "legendgroup": "Positive Samples",
         "marker": {
          "color": "blue",
          "line": {
           "width": 0
          },
          "size": 2
         },
         "mode": "markers",
         "name": "Positive Samples",
         "showlegend": false,
         "type": "scatter3d",
         "x": [
          -0.423953950089518
         ],
         "y": [
          -2.679734533092661
         ],
         "z": [
          -2.7290821665268874
         ]
        },
        {
         "legendgroup": "D = 7.05 (min+)",
         "marker": {
          "color": "blue",
          "line": {
           "width": 0
          },
          "size": 5,
          "symbol": "x"
         },
         "mode": "markers",
         "name": "D = 7.05 (min+)",
         "showlegend": true,
         "type": "scatter3d",
         "x": [
          -2.317067132432493
         ],
         "y": [
          -2.040818781594588
         ],
         "z": [
          -5.8987617119969125
         ]
        },
        {
         "legendgroup": "D = 7.05 (min+)",
         "line": {
          "width": 6
         },
         "marker": {
          "color": "blue",
          "size": 1
         },
         "name": "D = 7.05 (min+)",
         "opacity": 0.4,
         "showlegend": false,
         "type": "scatter3d",
         "x": [
          -2.317067132432493,
          -1.3830173911340966
         ],
         "y": [
          -2.040818781594588,
          -4.429545424129494
         ],
         "z": [
          -5.8987617119969125,
          -1.3944710775640747
         ]
        },
        {
         "legendgroup": "D = 7.05 (min+)",
         "line": {
          "width": 6
         },
         "marker": {
          "color": "blue",
          "size": 1
         },
         "name": "D = 7.05 (min+)",
         "opacity": 0.4,
         "showlegend": false,
         "type": "scatter3d",
         "x": [
          -2.317067132432493,
          -0.8294727387554028
         ],
         "y": [
          -2.040818781594588,
          2.121282778331655
         ],
         "z": [
          -5.8987617119969125,
          -3.999986428452673
         ]
        },
        {
         "name": "Decision Hyperplane",
         "showlegend": true,
         "showscale": false,
         "type": "surface",
         "x": [
          [
           -4.408385200649041,
           -4.147553383703282,
           -3.8867215667575215,
           -3.625889749811762,
           -3.3650579328660015,
           -3.104226115920242,
           -2.843394298974482,
           -2.582562482028722,
           -2.321730665082962,
           -2.060898848137202,
           -1.8000670311914422,
           -1.5392352142456822,
           -1.2784033972999227,
           -1.0175715803541627,
           -0.7567397634084028,
           -0.4959079464626428,
           -0.23507612951688284,
           0.025755687428876683,
           0.2865875043746371,
           0.5474193213203966,
           0.808251138266157,
           1.0690829552119165,
           1.329914772157677,
           1.5907465891034365,
           1.851578406049196,
           2.1124102229949564,
           2.373242039940716,
           2.6340738568864763,
           2.894905673832236,
           3.1557374907779963
          ],
          [
           -4.408385200649041,
           -4.147553383703282,
           -3.8867215667575215,
           -3.625889749811762,
           -3.3650579328660015,
           -3.104226115920242,
           -2.843394298974482,
           -2.582562482028722,
           -2.321730665082962,
           -2.060898848137202,
           -1.8000670311914422,
           -1.5392352142456822,
           -1.2784033972999227,
           -1.0175715803541627,
           -0.7567397634084028,
           -0.4959079464626428,
           -0.23507612951688284,
           0.025755687428876683,
           0.2865875043746371,
           0.5474193213203966,
           0.808251138266157,
           1.0690829552119165,
           1.329914772157677,
           1.5907465891034365,
           1.851578406049196,
           2.1124102229949564,
           2.373242039940716,
           2.6340738568864763,
           2.894905673832236,
           3.1557374907779963
          ],
          [
           -4.408385200649041,
           -4.147553383703282,
           -3.8867215667575215,
           -3.625889749811762,
           -3.3650579328660015,
           -3.104226115920242,
           -2.843394298974482,
           -2.582562482028722,
           -2.321730665082962,
           -2.060898848137202,
           -1.8000670311914422,
           -1.5392352142456822,
           -1.2784033972999227,
           -1.0175715803541627,
           -0.7567397634084028,
           -0.4959079464626428,
           -0.23507612951688284,
           0.025755687428876683,
           0.2865875043746371,
           0.5474193213203966,
           0.808251138266157,
           1.0690829552119165,
           1.329914772157677,
           1.5907465891034365,
           1.851578406049196,
           2.1124102229949564,
           2.373242039940716,
           2.6340738568864763,
           2.894905673832236,
           3.1557374907779963
          ],
          [
           -4.408385200649041,
           -4.147553383703282,
           -3.8867215667575215,
           -3.625889749811762,
           -3.3650579328660015,
           -3.104226115920242,
           -2.843394298974482,
           -2.582562482028722,
           -2.321730665082962,
           -2.060898848137202,
           -1.8000670311914422,
           -1.5392352142456822,
           -1.2784033972999227,
           -1.0175715803541627,
           -0.7567397634084028,
           -0.4959079464626428,
           -0.23507612951688284,
           0.025755687428876683,
           0.2865875043746371,
           0.5474193213203966,
           0.808251138266157,
           1.0690829552119165,
           1.329914772157677,
           1.5907465891034365,
           1.851578406049196,
           2.1124102229949564,
           2.373242039940716,
           2.6340738568864763,
           2.894905673832236,
           3.1557374907779963
          ],
          [
           -4.408385200649041,
           -4.147553383703282,
           -3.8867215667575215,
           -3.625889749811762,
           -3.3650579328660015,
           -3.104226115920242,
           -2.843394298974482,
           -2.582562482028722,
           -2.321730665082962,
           -2.060898848137202,
           -1.8000670311914422,
           -1.5392352142456822,
           -1.2784033972999227,
           -1.0175715803541627,
           -0.7567397634084028,
           -0.4959079464626428,
           -0.23507612951688284,
           0.025755687428876683,
           0.2865875043746371,
           0.5474193213203966,
           0.808251138266157,
           1.0690829552119165,
           1.329914772157677,
           1.5907465891034365,
           1.851578406049196,
           2.1124102229949564,
           2.373242039940716,
           2.6340738568864763,
           2.894905673832236,
           3.1557374907779963
          ],
          [
           -4.408385200649041,
           -4.147553383703282,
           -3.8867215667575215,
           -3.625889749811762,
           -3.3650579328660015,
           -3.104226115920242,
           -2.843394298974482,
           -2.582562482028722,
           -2.321730665082962,
           -2.060898848137202,
           -1.8000670311914422,
           -1.5392352142456822,
           -1.2784033972999227,
           -1.0175715803541627,
           -0.7567397634084028,
           -0.4959079464626428,
           -0.23507612951688284,
           0.025755687428876683,
           0.2865875043746371,
           0.5474193213203966,
           0.808251138266157,
           1.0690829552119165,
           1.329914772157677,
           1.5907465891034365,
           1.851578406049196,
           2.1124102229949564,
           2.373242039940716,
           2.6340738568864763,
           2.894905673832236,
           3.1557374907779963
          ],
          [
           -4.408385200649041,
           -4.147553383703282,
           -3.8867215667575215,
           -3.625889749811762,
           -3.3650579328660015,
           -3.104226115920242,
           -2.843394298974482,
           -2.582562482028722,
           -2.321730665082962,
           -2.060898848137202,
           -1.8000670311914422,
           -1.5392352142456822,
           -1.2784033972999227,
           -1.0175715803541627,
           -0.7567397634084028,
           -0.4959079464626428,
           -0.23507612951688284,
           0.025755687428876683,
           0.2865875043746371,
           0.5474193213203966,
           0.808251138266157,
           1.0690829552119165,
           1.329914772157677,
           1.5907465891034365,
           1.851578406049196,
           2.1124102229949564,
           2.373242039940716,
           2.6340738568864763,
           2.894905673832236,
           3.1557374907779963
          ],
          [
           -4.408385200649041,
           -4.147553383703282,
           -3.8867215667575215,
           -3.625889749811762,
           -3.3650579328660015,
           -3.104226115920242,
           -2.843394298974482,
           -2.582562482028722,
           -2.321730665082962,
           -2.060898848137202,
           -1.8000670311914422,
           -1.5392352142456822,
           -1.2784033972999227,
           -1.0175715803541627,
           -0.7567397634084028,
           -0.4959079464626428,
           -0.23507612951688284,
           0.025755687428876683,
           0.2865875043746371,
           0.5474193213203966,
           0.808251138266157,
           1.0690829552119165,
           1.329914772157677,
           1.5907465891034365,
           1.851578406049196,
           2.1124102229949564,
           2.373242039940716,
           2.6340738568864763,
           2.894905673832236,
           3.1557374907779963
          ],
          [
           -4.408385200649041,
           -4.147553383703282,
           -3.8867215667575215,
           -3.625889749811762,
           -3.3650579328660015,
           -3.104226115920242,
           -2.843394298974482,
           -2.582562482028722,
           -2.321730665082962,
           -2.060898848137202,
           -1.8000670311914422,
           -1.5392352142456822,
           -1.2784033972999227,
           -1.0175715803541627,
           -0.7567397634084028,
           -0.4959079464626428,
           -0.23507612951688284,
           0.025755687428876683,
           0.2865875043746371,
           0.5474193213203966,
           0.808251138266157,
           1.0690829552119165,
           1.329914772157677,
           1.5907465891034365,
           1.851578406049196,
           2.1124102229949564,
           2.373242039940716,
           2.6340738568864763,
           2.894905673832236,
           3.1557374907779963
          ],
          [
           -4.408385200649041,
           -4.147553383703282,
           -3.8867215667575215,
           -3.625889749811762,
           -3.3650579328660015,
           -3.104226115920242,
           -2.843394298974482,
           -2.582562482028722,
           -2.321730665082962,
           -2.060898848137202,
           -1.8000670311914422,
           -1.5392352142456822,
           -1.2784033972999227,
           -1.0175715803541627,
           -0.7567397634084028,
           -0.4959079464626428,
           -0.23507612951688284,
           0.025755687428876683,
           0.2865875043746371,
           0.5474193213203966,
           0.808251138266157,
           1.0690829552119165,
           1.329914772157677,
           1.5907465891034365,
           1.851578406049196,
           2.1124102229949564,
           2.373242039940716,
           2.6340738568864763,
           2.894905673832236,
           3.1557374907779963
          ],
          [
           -4.408385200649041,
           -4.147553383703282,
           -3.8867215667575215,
           -3.625889749811762,
           -3.3650579328660015,
           -3.104226115920242,
           -2.843394298974482,
           -2.582562482028722,
           -2.321730665082962,
           -2.060898848137202,
           -1.8000670311914422,
           -1.5392352142456822,
           -1.2784033972999227,
           -1.0175715803541627,
           -0.7567397634084028,
           -0.4959079464626428,
           -0.23507612951688284,
           0.025755687428876683,
           0.2865875043746371,
           0.5474193213203966,
           0.808251138266157,
           1.0690829552119165,
           1.329914772157677,
           1.5907465891034365,
           1.851578406049196,
           2.1124102229949564,
           2.373242039940716,
           2.6340738568864763,
           2.894905673832236,
           3.1557374907779963
          ],
          [
           -4.408385200649041,
           -4.147553383703282,
           -3.8867215667575215,
           -3.625889749811762,
           -3.3650579328660015,
           -3.104226115920242,
           -2.843394298974482,
           -2.582562482028722,
           -2.321730665082962,
           -2.060898848137202,
           -1.8000670311914422,
           -1.5392352142456822,
           -1.2784033972999227,
           -1.0175715803541627,
           -0.7567397634084028,
           -0.4959079464626428,
           -0.23507612951688284,
           0.025755687428876683,
           0.2865875043746371,
           0.5474193213203966,
           0.808251138266157,
           1.0690829552119165,
           1.329914772157677,
           1.5907465891034365,
           1.851578406049196,
           2.1124102229949564,
           2.373242039940716,
           2.6340738568864763,
           2.894905673832236,
           3.1557374907779963
          ],
          [
           -4.408385200649041,
           -4.147553383703282,
           -3.8867215667575215,
           -3.625889749811762,
           -3.3650579328660015,
           -3.104226115920242,
           -2.843394298974482,
           -2.582562482028722,
           -2.321730665082962,
           -2.060898848137202,
           -1.8000670311914422,
           -1.5392352142456822,
           -1.2784033972999227,
           -1.0175715803541627,
           -0.7567397634084028,
           -0.4959079464626428,
           -0.23507612951688284,
           0.025755687428876683,
           0.2865875043746371,
           0.5474193213203966,
           0.808251138266157,
           1.0690829552119165,
           1.329914772157677,
           1.5907465891034365,
           1.851578406049196,
           2.1124102229949564,
           2.373242039940716,
           2.6340738568864763,
           2.894905673832236,
           3.1557374907779963
          ],
          [
           -4.408385200649041,
           -4.147553383703282,
           -3.8867215667575215,
           -3.625889749811762,
           -3.3650579328660015,
           -3.104226115920242,
           -2.843394298974482,
           -2.582562482028722,
           -2.321730665082962,
           -2.060898848137202,
           -1.8000670311914422,
           -1.5392352142456822,
           -1.2784033972999227,
           -1.0175715803541627,
           -0.7567397634084028,
           -0.4959079464626428,
           -0.23507612951688284,
           0.025755687428876683,
           0.2865875043746371,
           0.5474193213203966,
           0.808251138266157,
           1.0690829552119165,
           1.329914772157677,
           1.5907465891034365,
           1.851578406049196,
           2.1124102229949564,
           2.373242039940716,
           2.6340738568864763,
           2.894905673832236,
           3.1557374907779963
          ],
          [
           -4.408385200649041,
           -4.147553383703282,
           -3.8867215667575215,
           -3.625889749811762,
           -3.3650579328660015,
           -3.104226115920242,
           -2.843394298974482,
           -2.582562482028722,
           -2.321730665082962,
           -2.060898848137202,
           -1.8000670311914422,
           -1.5392352142456822,
           -1.2784033972999227,
           -1.0175715803541627,
           -0.7567397634084028,
           -0.4959079464626428,
           -0.23507612951688284,
           0.025755687428876683,
           0.2865875043746371,
           0.5474193213203966,
           0.808251138266157,
           1.0690829552119165,
           1.329914772157677,
           1.5907465891034365,
           1.851578406049196,
           2.1124102229949564,
           2.373242039940716,
           2.6340738568864763,
           2.894905673832236,
           3.1557374907779963
          ],
          [
           -4.408385200649041,
           -4.147553383703282,
           -3.8867215667575215,
           -3.625889749811762,
           -3.3650579328660015,
           -3.104226115920242,
           -2.843394298974482,
           -2.582562482028722,
           -2.321730665082962,
           -2.060898848137202,
           -1.8000670311914422,
           -1.5392352142456822,
           -1.2784033972999227,
           -1.0175715803541627,
           -0.7567397634084028,
           -0.4959079464626428,
           -0.23507612951688284,
           0.025755687428876683,
           0.2865875043746371,
           0.5474193213203966,
           0.808251138266157,
           1.0690829552119165,
           1.329914772157677,
           1.5907465891034365,
           1.851578406049196,
           2.1124102229949564,
           2.373242039940716,
           2.6340738568864763,
           2.894905673832236,
           3.1557374907779963
          ],
          [
           -4.408385200649041,
           -4.147553383703282,
           -3.8867215667575215,
           -3.625889749811762,
           -3.3650579328660015,
           -3.104226115920242,
           -2.843394298974482,
           -2.582562482028722,
           -2.321730665082962,
           -2.060898848137202,
           -1.8000670311914422,
           -1.5392352142456822,
           -1.2784033972999227,
           -1.0175715803541627,
           -0.7567397634084028,
           -0.4959079464626428,
           -0.23507612951688284,
           0.025755687428876683,
           0.2865875043746371,
           0.5474193213203966,
           0.808251138266157,
           1.0690829552119165,
           1.329914772157677,
           1.5907465891034365,
           1.851578406049196,
           2.1124102229949564,
           2.373242039940716,
           2.6340738568864763,
           2.894905673832236,
           3.1557374907779963
          ],
          [
           -4.408385200649041,
           -4.147553383703282,
           -3.8867215667575215,
           -3.625889749811762,
           -3.3650579328660015,
           -3.104226115920242,
           -2.843394298974482,
           -2.582562482028722,
           -2.321730665082962,
           -2.060898848137202,
           -1.8000670311914422,
           -1.5392352142456822,
           -1.2784033972999227,
           -1.0175715803541627,
           -0.7567397634084028,
           -0.4959079464626428,
           -0.23507612951688284,
           0.025755687428876683,
           0.2865875043746371,
           0.5474193213203966,
           0.808251138266157,
           1.0690829552119165,
           1.329914772157677,
           1.5907465891034365,
           1.851578406049196,
           2.1124102229949564,
           2.373242039940716,
           2.6340738568864763,
           2.894905673832236,
           3.1557374907779963
          ],
          [
           -4.408385200649041,
           -4.147553383703282,
           -3.8867215667575215,
           -3.625889749811762,
           -3.3650579328660015,
           -3.104226115920242,
           -2.843394298974482,
           -2.582562482028722,
           -2.321730665082962,
           -2.060898848137202,
           -1.8000670311914422,
           -1.5392352142456822,
           -1.2784033972999227,
           -1.0175715803541627,
           -0.7567397634084028,
           -0.4959079464626428,
           -0.23507612951688284,
           0.025755687428876683,
           0.2865875043746371,
           0.5474193213203966,
           0.808251138266157,
           1.0690829552119165,
           1.329914772157677,
           1.5907465891034365,
           1.851578406049196,
           2.1124102229949564,
           2.373242039940716,
           2.6340738568864763,
           2.894905673832236,
           3.1557374907779963
          ],
          [
           -4.408385200649041,
           -4.147553383703282,
           -3.8867215667575215,
           -3.625889749811762,
           -3.3650579328660015,
           -3.104226115920242,
           -2.843394298974482,
           -2.582562482028722,
           -2.321730665082962,
           -2.060898848137202,
           -1.8000670311914422,
           -1.5392352142456822,
           -1.2784033972999227,
           -1.0175715803541627,
           -0.7567397634084028,
           -0.4959079464626428,
           -0.23507612951688284,
           0.025755687428876683,
           0.2865875043746371,
           0.5474193213203966,
           0.808251138266157,
           1.0690829552119165,
           1.329914772157677,
           1.5907465891034365,
           1.851578406049196,
           2.1124102229949564,
           2.373242039940716,
           2.6340738568864763,
           2.894905673832236,
           3.1557374907779963
          ],
          [
           -4.408385200649041,
           -4.147553383703282,
           -3.8867215667575215,
           -3.625889749811762,
           -3.3650579328660015,
           -3.104226115920242,
           -2.843394298974482,
           -2.582562482028722,
           -2.321730665082962,
           -2.060898848137202,
           -1.8000670311914422,
           -1.5392352142456822,
           -1.2784033972999227,
           -1.0175715803541627,
           -0.7567397634084028,
           -0.4959079464626428,
           -0.23507612951688284,
           0.025755687428876683,
           0.2865875043746371,
           0.5474193213203966,
           0.808251138266157,
           1.0690829552119165,
           1.329914772157677,
           1.5907465891034365,
           1.851578406049196,
           2.1124102229949564,
           2.373242039940716,
           2.6340738568864763,
           2.894905673832236,
           3.1557374907779963
          ],
          [
           -4.408385200649041,
           -4.147553383703282,
           -3.8867215667575215,
           -3.625889749811762,
           -3.3650579328660015,
           -3.104226115920242,
           -2.843394298974482,
           -2.582562482028722,
           -2.321730665082962,
           -2.060898848137202,
           -1.8000670311914422,
           -1.5392352142456822,
           -1.2784033972999227,
           -1.0175715803541627,
           -0.7567397634084028,
           -0.4959079464626428,
           -0.23507612951688284,
           0.025755687428876683,
           0.2865875043746371,
           0.5474193213203966,
           0.808251138266157,
           1.0690829552119165,
           1.329914772157677,
           1.5907465891034365,
           1.851578406049196,
           2.1124102229949564,
           2.373242039940716,
           2.6340738568864763,
           2.894905673832236,
           3.1557374907779963
          ],
          [
           -4.408385200649041,
           -4.147553383703282,
           -3.8867215667575215,
           -3.625889749811762,
           -3.3650579328660015,
           -3.104226115920242,
           -2.843394298974482,
           -2.582562482028722,
           -2.321730665082962,
           -2.060898848137202,
           -1.8000670311914422,
           -1.5392352142456822,
           -1.2784033972999227,
           -1.0175715803541627,
           -0.7567397634084028,
           -0.4959079464626428,
           -0.23507612951688284,
           0.025755687428876683,
           0.2865875043746371,
           0.5474193213203966,
           0.808251138266157,
           1.0690829552119165,
           1.329914772157677,
           1.5907465891034365,
           1.851578406049196,
           2.1124102229949564,
           2.373242039940716,
           2.6340738568864763,
           2.894905673832236,
           3.1557374907779963
          ],
          [
           -4.408385200649041,
           -4.147553383703282,
           -3.8867215667575215,
           -3.625889749811762,
           -3.3650579328660015,
           -3.104226115920242,
           -2.843394298974482,
           -2.582562482028722,
           -2.321730665082962,
           -2.060898848137202,
           -1.8000670311914422,
           -1.5392352142456822,
           -1.2784033972999227,
           -1.0175715803541627,
           -0.7567397634084028,
           -0.4959079464626428,
           -0.23507612951688284,
           0.025755687428876683,
           0.2865875043746371,
           0.5474193213203966,
           0.808251138266157,
           1.0690829552119165,
           1.329914772157677,
           1.5907465891034365,
           1.851578406049196,
           2.1124102229949564,
           2.373242039940716,
           2.6340738568864763,
           2.894905673832236,
           3.1557374907779963
          ],
          [
           -4.408385200649041,
           -4.147553383703282,
           -3.8867215667575215,
           -3.625889749811762,
           -3.3650579328660015,
           -3.104226115920242,
           -2.843394298974482,
           -2.582562482028722,
           -2.321730665082962,
           -2.060898848137202,
           -1.8000670311914422,
           -1.5392352142456822,
           -1.2784033972999227,
           -1.0175715803541627,
           -0.7567397634084028,
           -0.4959079464626428,
           -0.23507612951688284,
           0.025755687428876683,
           0.2865875043746371,
           0.5474193213203966,
           0.808251138266157,
           1.0690829552119165,
           1.329914772157677,
           1.5907465891034365,
           1.851578406049196,
           2.1124102229949564,
           2.373242039940716,
           2.6340738568864763,
           2.894905673832236,
           3.1557374907779963
          ],
          [
           -4.408385200649041,
           -4.147553383703282,
           -3.8867215667575215,
           -3.625889749811762,
           -3.3650579328660015,
           -3.104226115920242,
           -2.843394298974482,
           -2.582562482028722,
           -2.321730665082962,
           -2.060898848137202,
           -1.8000670311914422,
           -1.5392352142456822,
           -1.2784033972999227,
           -1.0175715803541627,
           -0.7567397634084028,
           -0.4959079464626428,
           -0.23507612951688284,
           0.025755687428876683,
           0.2865875043746371,
           0.5474193213203966,
           0.808251138266157,
           1.0690829552119165,
           1.329914772157677,
           1.5907465891034365,
           1.851578406049196,
           2.1124102229949564,
           2.373242039940716,
           2.6340738568864763,
           2.894905673832236,
           3.1557374907779963
          ],
          [
           -4.408385200649041,
           -4.147553383703282,
           -3.8867215667575215,
           -3.625889749811762,
           -3.3650579328660015,
           -3.104226115920242,
           -2.843394298974482,
           -2.582562482028722,
           -2.321730665082962,
           -2.060898848137202,
           -1.8000670311914422,
           -1.5392352142456822,
           -1.2784033972999227,
           -1.0175715803541627,
           -0.7567397634084028,
           -0.4959079464626428,
           -0.23507612951688284,
           0.025755687428876683,
           0.2865875043746371,
           0.5474193213203966,
           0.808251138266157,
           1.0690829552119165,
           1.329914772157677,
           1.5907465891034365,
           1.851578406049196,
           2.1124102229949564,
           2.373242039940716,
           2.6340738568864763,
           2.894905673832236,
           3.1557374907779963
          ],
          [
           -4.408385200649041,
           -4.147553383703282,
           -3.8867215667575215,
           -3.625889749811762,
           -3.3650579328660015,
           -3.104226115920242,
           -2.843394298974482,
           -2.582562482028722,
           -2.321730665082962,
           -2.060898848137202,
           -1.8000670311914422,
           -1.5392352142456822,
           -1.2784033972999227,
           -1.0175715803541627,
           -0.7567397634084028,
           -0.4959079464626428,
           -0.23507612951688284,
           0.025755687428876683,
           0.2865875043746371,
           0.5474193213203966,
           0.808251138266157,
           1.0690829552119165,
           1.329914772157677,
           1.5907465891034365,
           1.851578406049196,
           2.1124102229949564,
           2.373242039940716,
           2.6340738568864763,
           2.894905673832236,
           3.1557374907779963
          ],
          [
           -4.408385200649041,
           -4.147553383703282,
           -3.8867215667575215,
           -3.625889749811762,
           -3.3650579328660015,
           -3.104226115920242,
           -2.843394298974482,
           -2.582562482028722,
           -2.321730665082962,
           -2.060898848137202,
           -1.8000670311914422,
           -1.5392352142456822,
           -1.2784033972999227,
           -1.0175715803541627,
           -0.7567397634084028,
           -0.4959079464626428,
           -0.23507612951688284,
           0.025755687428876683,
           0.2865875043746371,
           0.5474193213203966,
           0.808251138266157,
           1.0690829552119165,
           1.329914772157677,
           1.5907465891034365,
           1.851578406049196,
           2.1124102229949564,
           2.373242039940716,
           2.6340738568864763,
           2.894905673832236,
           3.1557374907779963
          ],
          [
           -4.408385200649041,
           -4.147553383703282,
           -3.8867215667575215,
           -3.625889749811762,
           -3.3650579328660015,
           -3.104226115920242,
           -2.843394298974482,
           -2.582562482028722,
           -2.321730665082962,
           -2.060898848137202,
           -1.8000670311914422,
           -1.5392352142456822,
           -1.2784033972999227,
           -1.0175715803541627,
           -0.7567397634084028,
           -0.4959079464626428,
           -0.23507612951688284,
           0.025755687428876683,
           0.2865875043746371,
           0.5474193213203966,
           0.808251138266157,
           1.0690829552119165,
           1.329914772157677,
           1.5907465891034365,
           1.851578406049196,
           2.1124102229949564,
           2.373242039940716,
           2.6340738568864763,
           2.894905673832236,
           3.1557374907779963
          ]
         ],
         "y": [
          [
           -9.543465630411577,
           -9.543465630411577,
           -9.543465630411577,
           -9.543465630411577,
           -9.543465630411577,
           -9.543465630411577,
           -9.543465630411577,
           -9.543465630411577,
           -9.543465630411577,
           -9.543465630411577,
           -9.543465630411577,
           -9.543465630411577,
           -9.543465630411577,
           -9.543465630411577,
           -9.543465630411577,
           -9.543465630411577,
           -9.543465630411577,
           -9.543465630411577,
           -9.543465630411577,
           -9.543465630411577,
           -9.543465630411577,
           -9.543465630411577,
           -9.543465630411577,
           -9.543465630411577,
           -9.543465630411577,
           -9.543465630411577,
           -9.543465630411577,
           -9.543465630411577,
           -9.543465630411577,
           -9.543465630411577
          ],
          [
           -9.253458823708035,
           -9.253458823708035,
           -9.253458823708035,
           -9.253458823708035,
           -9.253458823708035,
           -9.253458823708035,
           -9.253458823708035,
           -9.253458823708035,
           -9.253458823708035,
           -9.253458823708035,
           -9.253458823708035,
           -9.253458823708035,
           -9.253458823708035,
           -9.253458823708035,
           -9.253458823708035,
           -9.253458823708035,
           -9.253458823708035,
           -9.253458823708035,
           -9.253458823708035,
           -9.253458823708035,
           -9.253458823708035,
           -9.253458823708035,
           -9.253458823708035,
           -9.253458823708035,
           -9.253458823708035,
           -9.253458823708035,
           -9.253458823708035,
           -9.253458823708035,
           -9.253458823708035,
           -9.253458823708035
          ],
          [
           -8.963452017004492,
           -8.963452017004492,
           -8.963452017004492,
           -8.963452017004492,
           -8.963452017004492,
           -8.963452017004492,
           -8.963452017004492,
           -8.963452017004492,
           -8.963452017004492,
           -8.963452017004492,
           -8.963452017004492,
           -8.963452017004492,
           -8.963452017004492,
           -8.963452017004492,
           -8.963452017004492,
           -8.963452017004492,
           -8.963452017004492,
           -8.963452017004492,
           -8.963452017004492,
           -8.963452017004492,
           -8.963452017004492,
           -8.963452017004492,
           -8.963452017004492,
           -8.963452017004492,
           -8.963452017004492,
           -8.963452017004492,
           -8.963452017004492,
           -8.963452017004492,
           -8.963452017004492,
           -8.963452017004492
          ],
          [
           -8.673445210300951,
           -8.673445210300951,
           -8.673445210300951,
           -8.673445210300951,
           -8.673445210300951,
           -8.673445210300951,
           -8.673445210300951,
           -8.673445210300951,
           -8.673445210300951,
           -8.673445210300951,
           -8.673445210300951,
           -8.673445210300951,
           -8.673445210300951,
           -8.673445210300951,
           -8.673445210300951,
           -8.673445210300951,
           -8.673445210300951,
           -8.673445210300951,
           -8.673445210300951,
           -8.673445210300951,
           -8.673445210300951,
           -8.673445210300951,
           -8.673445210300951,
           -8.673445210300951,
           -8.673445210300951,
           -8.673445210300951,
           -8.673445210300951,
           -8.673445210300951,
           -8.673445210300951,
           -8.673445210300951
          ],
          [
           -8.38343840359741,
           -8.38343840359741,
           -8.38343840359741,
           -8.38343840359741,
           -8.38343840359741,
           -8.38343840359741,
           -8.38343840359741,
           -8.38343840359741,
           -8.38343840359741,
           -8.38343840359741,
           -8.38343840359741,
           -8.38343840359741,
           -8.38343840359741,
           -8.38343840359741,
           -8.38343840359741,
           -8.38343840359741,
           -8.38343840359741,
           -8.38343840359741,
           -8.38343840359741,
           -8.38343840359741,
           -8.38343840359741,
           -8.38343840359741,
           -8.38343840359741,
           -8.38343840359741,
           -8.38343840359741,
           -8.38343840359741,
           -8.38343840359741,
           -8.38343840359741,
           -8.38343840359741,
           -8.38343840359741
          ],
          [
           -8.093431596893868,
           -8.093431596893868,
           -8.093431596893868,
           -8.093431596893868,
           -8.093431596893868,
           -8.093431596893868,
           -8.093431596893868,
           -8.093431596893868,
           -8.093431596893868,
           -8.093431596893868,
           -8.093431596893868,
           -8.093431596893868,
           -8.093431596893868,
           -8.093431596893868,
           -8.093431596893868,
           -8.093431596893868,
           -8.093431596893868,
           -8.093431596893868,
           -8.093431596893868,
           -8.093431596893868,
           -8.093431596893868,
           -8.093431596893868,
           -8.093431596893868,
           -8.093431596893868,
           -8.093431596893868,
           -8.093431596893868,
           -8.093431596893868,
           -8.093431596893868,
           -8.093431596893868,
           -8.093431596893868
          ],
          [
           -7.803424790190325,
           -7.803424790190325,
           -7.803424790190325,
           -7.803424790190325,
           -7.803424790190325,
           -7.803424790190325,
           -7.803424790190325,
           -7.803424790190325,
           -7.803424790190325,
           -7.803424790190325,
           -7.803424790190325,
           -7.803424790190325,
           -7.803424790190325,
           -7.803424790190325,
           -7.803424790190325,
           -7.803424790190325,
           -7.803424790190325,
           -7.803424790190325,
           -7.803424790190325,
           -7.803424790190325,
           -7.803424790190325,
           -7.803424790190325,
           -7.803424790190325,
           -7.803424790190325,
           -7.803424790190325,
           -7.803424790190325,
           -7.803424790190325,
           -7.803424790190325,
           -7.803424790190325,
           -7.803424790190325
          ],
          [
           -7.513417983486784,
           -7.513417983486784,
           -7.513417983486784,
           -7.513417983486784,
           -7.513417983486784,
           -7.513417983486784,
           -7.513417983486784,
           -7.513417983486784,
           -7.513417983486784,
           -7.513417983486784,
           -7.513417983486784,
           -7.513417983486784,
           -7.513417983486784,
           -7.513417983486784,
           -7.513417983486784,
           -7.513417983486784,
           -7.513417983486784,
           -7.513417983486784,
           -7.513417983486784,
           -7.513417983486784,
           -7.513417983486784,
           -7.513417983486784,
           -7.513417983486784,
           -7.513417983486784,
           -7.513417983486784,
           -7.513417983486784,
           -7.513417983486784,
           -7.513417983486784,
           -7.513417983486784,
           -7.513417983486784
          ],
          [
           -7.223411176783243,
           -7.223411176783243,
           -7.223411176783243,
           -7.223411176783243,
           -7.223411176783243,
           -7.223411176783243,
           -7.223411176783243,
           -7.223411176783243,
           -7.223411176783243,
           -7.223411176783243,
           -7.223411176783243,
           -7.223411176783243,
           -7.223411176783243,
           -7.223411176783243,
           -7.223411176783243,
           -7.223411176783243,
           -7.223411176783243,
           -7.223411176783243,
           -7.223411176783243,
           -7.223411176783243,
           -7.223411176783243,
           -7.223411176783243,
           -7.223411176783243,
           -7.223411176783243,
           -7.223411176783243,
           -7.223411176783243,
           -7.223411176783243,
           -7.223411176783243,
           -7.223411176783243,
           -7.223411176783243
          ],
          [
           -6.933404370079701,
           -6.933404370079701,
           -6.933404370079701,
           -6.933404370079701,
           -6.933404370079701,
           -6.933404370079701,
           -6.933404370079701,
           -6.933404370079701,
           -6.933404370079701,
           -6.933404370079701,
           -6.933404370079701,
           -6.933404370079701,
           -6.933404370079701,
           -6.933404370079701,
           -6.933404370079701,
           -6.933404370079701,
           -6.933404370079701,
           -6.933404370079701,
           -6.933404370079701,
           -6.933404370079701,
           -6.933404370079701,
           -6.933404370079701,
           -6.933404370079701,
           -6.933404370079701,
           -6.933404370079701,
           -6.933404370079701,
           -6.933404370079701,
           -6.933404370079701,
           -6.933404370079701,
           -6.933404370079701
          ],
          [
           -6.643397563376158,
           -6.643397563376158,
           -6.643397563376158,
           -6.643397563376158,
           -6.643397563376158,
           -6.643397563376158,
           -6.643397563376158,
           -6.643397563376158,
           -6.643397563376158,
           -6.643397563376158,
           -6.643397563376158,
           -6.643397563376158,
           -6.643397563376158,
           -6.643397563376158,
           -6.643397563376158,
           -6.643397563376158,
           -6.643397563376158,
           -6.643397563376158,
           -6.643397563376158,
           -6.643397563376158,
           -6.643397563376158,
           -6.643397563376158,
           -6.643397563376158,
           -6.643397563376158,
           -6.643397563376158,
           -6.643397563376158,
           -6.643397563376158,
           -6.643397563376158,
           -6.643397563376158,
           -6.643397563376158
          ],
          [
           -6.353390756672617,
           -6.353390756672617,
           -6.353390756672617,
           -6.353390756672617,
           -6.353390756672617,
           -6.353390756672617,
           -6.353390756672617,
           -6.353390756672617,
           -6.353390756672617,
           -6.353390756672617,
           -6.353390756672617,
           -6.353390756672617,
           -6.353390756672617,
           -6.353390756672617,
           -6.353390756672617,
           -6.353390756672617,
           -6.353390756672617,
           -6.353390756672617,
           -6.353390756672617,
           -6.353390756672617,
           -6.353390756672617,
           -6.353390756672617,
           -6.353390756672617,
           -6.353390756672617,
           -6.353390756672617,
           -6.353390756672617,
           -6.353390756672617,
           -6.353390756672617,
           -6.353390756672617,
           -6.353390756672617
          ],
          [
           -6.063383949969075,
           -6.063383949969075,
           -6.063383949969075,
           -6.063383949969075,
           -6.063383949969075,
           -6.063383949969075,
           -6.063383949969075,
           -6.063383949969075,
           -6.063383949969075,
           -6.063383949969075,
           -6.063383949969075,
           -6.063383949969075,
           -6.063383949969075,
           -6.063383949969075,
           -6.063383949969075,
           -6.063383949969075,
           -6.063383949969075,
           -6.063383949969075,
           -6.063383949969075,
           -6.063383949969075,
           -6.063383949969075,
           -6.063383949969075,
           -6.063383949969075,
           -6.063383949969075,
           -6.063383949969075,
           -6.063383949969075,
           -6.063383949969075,
           -6.063383949969075,
           -6.063383949969075,
           -6.063383949969075
          ],
          [
           -5.773377143265533,
           -5.773377143265533,
           -5.773377143265533,
           -5.773377143265533,
           -5.773377143265533,
           -5.773377143265533,
           -5.773377143265533,
           -5.773377143265533,
           -5.773377143265533,
           -5.773377143265533,
           -5.773377143265533,
           -5.773377143265533,
           -5.773377143265533,
           -5.773377143265533,
           -5.773377143265533,
           -5.773377143265533,
           -5.773377143265533,
           -5.773377143265533,
           -5.773377143265533,
           -5.773377143265533,
           -5.773377143265533,
           -5.773377143265533,
           -5.773377143265533,
           -5.773377143265533,
           -5.773377143265533,
           -5.773377143265533,
           -5.773377143265533,
           -5.773377143265533,
           -5.773377143265533,
           -5.773377143265533
          ],
          [
           -5.4833703365619915,
           -5.4833703365619915,
           -5.4833703365619915,
           -5.4833703365619915,
           -5.4833703365619915,
           -5.4833703365619915,
           -5.4833703365619915,
           -5.4833703365619915,
           -5.4833703365619915,
           -5.4833703365619915,
           -5.4833703365619915,
           -5.4833703365619915,
           -5.4833703365619915,
           -5.4833703365619915,
           -5.4833703365619915,
           -5.4833703365619915,
           -5.4833703365619915,
           -5.4833703365619915,
           -5.4833703365619915,
           -5.4833703365619915,
           -5.4833703365619915,
           -5.4833703365619915,
           -5.4833703365619915,
           -5.4833703365619915,
           -5.4833703365619915,
           -5.4833703365619915,
           -5.4833703365619915,
           -5.4833703365619915,
           -5.4833703365619915,
           -5.4833703365619915
          ],
          [
           -5.19336352985845,
           -5.19336352985845,
           -5.19336352985845,
           -5.19336352985845,
           -5.19336352985845,
           -5.19336352985845,
           -5.19336352985845,
           -5.19336352985845,
           -5.19336352985845,
           -5.19336352985845,
           -5.19336352985845,
           -5.19336352985845,
           -5.19336352985845,
           -5.19336352985845,
           -5.19336352985845,
           -5.19336352985845,
           -5.19336352985845,
           -5.19336352985845,
           -5.19336352985845,
           -5.19336352985845,
           -5.19336352985845,
           -5.19336352985845,
           -5.19336352985845,
           -5.19336352985845,
           -5.19336352985845,
           -5.19336352985845,
           -5.19336352985845,
           -5.19336352985845,
           -5.19336352985845,
           -5.19336352985845
          ],
          [
           -4.903356723154908,
           -4.903356723154908,
           -4.903356723154908,
           -4.903356723154908,
           -4.903356723154908,
           -4.903356723154908,
           -4.903356723154908,
           -4.903356723154908,
           -4.903356723154908,
           -4.903356723154908,
           -4.903356723154908,
           -4.903356723154908,
           -4.903356723154908,
           -4.903356723154908,
           -4.903356723154908,
           -4.903356723154908,
           -4.903356723154908,
           -4.903356723154908,
           -4.903356723154908,
           -4.903356723154908,
           -4.903356723154908,
           -4.903356723154908,
           -4.903356723154908,
           -4.903356723154908,
           -4.903356723154908,
           -4.903356723154908,
           -4.903356723154908,
           -4.903356723154908,
           -4.903356723154908,
           -4.903356723154908
          ],
          [
           -4.613349916451366,
           -4.613349916451366,
           -4.613349916451366,
           -4.613349916451366,
           -4.613349916451366,
           -4.613349916451366,
           -4.613349916451366,
           -4.613349916451366,
           -4.613349916451366,
           -4.613349916451366,
           -4.613349916451366,
           -4.613349916451366,
           -4.613349916451366,
           -4.613349916451366,
           -4.613349916451366,
           -4.613349916451366,
           -4.613349916451366,
           -4.613349916451366,
           -4.613349916451366,
           -4.613349916451366,
           -4.613349916451366,
           -4.613349916451366,
           -4.613349916451366,
           -4.613349916451366,
           -4.613349916451366,
           -4.613349916451366,
           -4.613349916451366,
           -4.613349916451366,
           -4.613349916451366,
           -4.613349916451366
          ],
          [
           -4.3233431097478245,
           -4.3233431097478245,
           -4.3233431097478245,
           -4.3233431097478245,
           -4.3233431097478245,
           -4.3233431097478245,
           -4.3233431097478245,
           -4.3233431097478245,
           -4.3233431097478245,
           -4.3233431097478245,
           -4.3233431097478245,
           -4.3233431097478245,
           -4.3233431097478245,
           -4.3233431097478245,
           -4.3233431097478245,
           -4.3233431097478245,
           -4.3233431097478245,
           -4.3233431097478245,
           -4.3233431097478245,
           -4.3233431097478245,
           -4.3233431097478245,
           -4.3233431097478245,
           -4.3233431097478245,
           -4.3233431097478245,
           -4.3233431097478245,
           -4.3233431097478245,
           -4.3233431097478245,
           -4.3233431097478245,
           -4.3233431097478245,
           -4.3233431097478245
          ],
          [
           -4.033336303044282,
           -4.033336303044282,
           -4.033336303044282,
           -4.033336303044282,
           -4.033336303044282,
           -4.033336303044282,
           -4.033336303044282,
           -4.033336303044282,
           -4.033336303044282,
           -4.033336303044282,
           -4.033336303044282,
           -4.033336303044282,
           -4.033336303044282,
           -4.033336303044282,
           -4.033336303044282,
           -4.033336303044282,
           -4.033336303044282,
           -4.033336303044282,
           -4.033336303044282,
           -4.033336303044282,
           -4.033336303044282,
           -4.033336303044282,
           -4.033336303044282,
           -4.033336303044282,
           -4.033336303044282,
           -4.033336303044282,
           -4.033336303044282,
           -4.033336303044282,
           -4.033336303044282,
           -4.033336303044282
          ],
          [
           -3.743329496340741,
           -3.743329496340741,
           -3.743329496340741,
           -3.743329496340741,
           -3.743329496340741,
           -3.743329496340741,
           -3.743329496340741,
           -3.743329496340741,
           -3.743329496340741,
           -3.743329496340741,
           -3.743329496340741,
           -3.743329496340741,
           -3.743329496340741,
           -3.743329496340741,
           -3.743329496340741,
           -3.743329496340741,
           -3.743329496340741,
           -3.743329496340741,
           -3.743329496340741,
           -3.743329496340741,
           -3.743329496340741,
           -3.743329496340741,
           -3.743329496340741,
           -3.743329496340741,
           -3.743329496340741,
           -3.743329496340741,
           -3.743329496340741,
           -3.743329496340741,
           -3.743329496340741,
           -3.743329496340741
          ],
          [
           -3.453322689637199,
           -3.453322689637199,
           -3.453322689637199,
           -3.453322689637199,
           -3.453322689637199,
           -3.453322689637199,
           -3.453322689637199,
           -3.453322689637199,
           -3.453322689637199,
           -3.453322689637199,
           -3.453322689637199,
           -3.453322689637199,
           -3.453322689637199,
           -3.453322689637199,
           -3.453322689637199,
           -3.453322689637199,
           -3.453322689637199,
           -3.453322689637199,
           -3.453322689637199,
           -3.453322689637199,
           -3.453322689637199,
           -3.453322689637199,
           -3.453322689637199,
           -3.453322689637199,
           -3.453322689637199,
           -3.453322689637199,
           -3.453322689637199,
           -3.453322689637199,
           -3.453322689637199,
           -3.453322689637199
          ],
          [
           -3.1633158829336576,
           -3.1633158829336576,
           -3.1633158829336576,
           -3.1633158829336576,
           -3.1633158829336576,
           -3.1633158829336576,
           -3.1633158829336576,
           -3.1633158829336576,
           -3.1633158829336576,
           -3.1633158829336576,
           -3.1633158829336576,
           -3.1633158829336576,
           -3.1633158829336576,
           -3.1633158829336576,
           -3.1633158829336576,
           -3.1633158829336576,
           -3.1633158829336576,
           -3.1633158829336576,
           -3.1633158829336576,
           -3.1633158829336576,
           -3.1633158829336576,
           -3.1633158829336576,
           -3.1633158829336576,
           -3.1633158829336576,
           -3.1633158829336576,
           -3.1633158829336576,
           -3.1633158829336576,
           -3.1633158829336576,
           -3.1633158829336576,
           -3.1633158829336576
          ],
          [
           -2.8733090762301154,
           -2.8733090762301154,
           -2.8733090762301154,
           -2.8733090762301154,
           -2.8733090762301154,
           -2.8733090762301154,
           -2.8733090762301154,
           -2.8733090762301154,
           -2.8733090762301154,
           -2.8733090762301154,
           -2.8733090762301154,
           -2.8733090762301154,
           -2.8733090762301154,
           -2.8733090762301154,
           -2.8733090762301154,
           -2.8733090762301154,
           -2.8733090762301154,
           -2.8733090762301154,
           -2.8733090762301154,
           -2.8733090762301154,
           -2.8733090762301154,
           -2.8733090762301154,
           -2.8733090762301154,
           -2.8733090762301154,
           -2.8733090762301154,
           -2.8733090762301154,
           -2.8733090762301154,
           -2.8733090762301154,
           -2.8733090762301154,
           -2.8733090762301154
          ],
          [
           -2.5833022695265733,
           -2.5833022695265733,
           -2.5833022695265733,
           -2.5833022695265733,
           -2.5833022695265733,
           -2.5833022695265733,
           -2.5833022695265733,
           -2.5833022695265733,
           -2.5833022695265733,
           -2.5833022695265733,
           -2.5833022695265733,
           -2.5833022695265733,
           -2.5833022695265733,
           -2.5833022695265733,
           -2.5833022695265733,
           -2.5833022695265733,
           -2.5833022695265733,
           -2.5833022695265733,
           -2.5833022695265733,
           -2.5833022695265733,
           -2.5833022695265733,
           -2.5833022695265733,
           -2.5833022695265733,
           -2.5833022695265733,
           -2.5833022695265733,
           -2.5833022695265733,
           -2.5833022695265733,
           -2.5833022695265733,
           -2.5833022695265733,
           -2.5833022695265733
          ],
          [
           -2.293295462823032,
           -2.293295462823032,
           -2.293295462823032,
           -2.293295462823032,
           -2.293295462823032,
           -2.293295462823032,
           -2.293295462823032,
           -2.293295462823032,
           -2.293295462823032,
           -2.293295462823032,
           -2.293295462823032,
           -2.293295462823032,
           -2.293295462823032,
           -2.293295462823032,
           -2.293295462823032,
           -2.293295462823032,
           -2.293295462823032,
           -2.293295462823032,
           -2.293295462823032,
           -2.293295462823032,
           -2.293295462823032,
           -2.293295462823032,
           -2.293295462823032,
           -2.293295462823032,
           -2.293295462823032,
           -2.293295462823032,
           -2.293295462823032,
           -2.293295462823032,
           -2.293295462823032,
           -2.293295462823032
          ],
          [
           -2.00328865611949,
           -2.00328865611949,
           -2.00328865611949,
           -2.00328865611949,
           -2.00328865611949,
           -2.00328865611949,
           -2.00328865611949,
           -2.00328865611949,
           -2.00328865611949,
           -2.00328865611949,
           -2.00328865611949,
           -2.00328865611949,
           -2.00328865611949,
           -2.00328865611949,
           -2.00328865611949,
           -2.00328865611949,
           -2.00328865611949,
           -2.00328865611949,
           -2.00328865611949,
           -2.00328865611949,
           -2.00328865611949,
           -2.00328865611949,
           -2.00328865611949,
           -2.00328865611949,
           -2.00328865611949,
           -2.00328865611949,
           -2.00328865611949,
           -2.00328865611949,
           -2.00328865611949,
           -2.00328865611949
          ],
          [
           -1.7132818494159485,
           -1.7132818494159485,
           -1.7132818494159485,
           -1.7132818494159485,
           -1.7132818494159485,
           -1.7132818494159485,
           -1.7132818494159485,
           -1.7132818494159485,
           -1.7132818494159485,
           -1.7132818494159485,
           -1.7132818494159485,
           -1.7132818494159485,
           -1.7132818494159485,
           -1.7132818494159485,
           -1.7132818494159485,
           -1.7132818494159485,
           -1.7132818494159485,
           -1.7132818494159485,
           -1.7132818494159485,
           -1.7132818494159485,
           -1.7132818494159485,
           -1.7132818494159485,
           -1.7132818494159485,
           -1.7132818494159485,
           -1.7132818494159485,
           -1.7132818494159485,
           -1.7132818494159485,
           -1.7132818494159485,
           -1.7132818494159485,
           -1.7132818494159485
          ],
          [
           -1.4232750427124063,
           -1.4232750427124063,
           -1.4232750427124063,
           -1.4232750427124063,
           -1.4232750427124063,
           -1.4232750427124063,
           -1.4232750427124063,
           -1.4232750427124063,
           -1.4232750427124063,
           -1.4232750427124063,
           -1.4232750427124063,
           -1.4232750427124063,
           -1.4232750427124063,
           -1.4232750427124063,
           -1.4232750427124063,
           -1.4232750427124063,
           -1.4232750427124063,
           -1.4232750427124063,
           -1.4232750427124063,
           -1.4232750427124063,
           -1.4232750427124063,
           -1.4232750427124063,
           -1.4232750427124063,
           -1.4232750427124063,
           -1.4232750427124063,
           -1.4232750427124063,
           -1.4232750427124063,
           -1.4232750427124063,
           -1.4232750427124063,
           -1.4232750427124063
          ],
          [
           -1.1332682360088655,
           -1.1332682360088655,
           -1.1332682360088655,
           -1.1332682360088655,
           -1.1332682360088655,
           -1.1332682360088655,
           -1.1332682360088655,
           -1.1332682360088655,
           -1.1332682360088655,
           -1.1332682360088655,
           -1.1332682360088655,
           -1.1332682360088655,
           -1.1332682360088655,
           -1.1332682360088655,
           -1.1332682360088655,
           -1.1332682360088655,
           -1.1332682360088655,
           -1.1332682360088655,
           -1.1332682360088655,
           -1.1332682360088655,
           -1.1332682360088655,
           -1.1332682360088655,
           -1.1332682360088655,
           -1.1332682360088655,
           -1.1332682360088655,
           -1.1332682360088655,
           -1.1332682360088655,
           -1.1332682360088655,
           -1.1332682360088655,
           -1.1332682360088655
          ]
         ],
         "z": [
          [
           -3.4791308357406305,
           -3.5332192396455997,
           -3.5873076435505706,
           -3.6413960474555407,
           -3.6954844513605107,
           -3.7495728552654812,
           -3.8036612591704513,
           -3.8577496630754213,
           -3.9118380669803914,
           -3.9659264708853614,
           -4.020014874790332,
           -4.074103278695302,
           -4.1281916826002725,
           -4.1822800865052425,
           -4.236368490410213,
           -4.2904568943151835,
           -4.344545298220154,
           -4.398633702125124,
           -4.452722106030094,
           -4.506810509935064,
           -4.560898913840035,
           -4.614987317745005,
           -4.669075721649974,
           -4.723164125554944,
           -4.777252529459914,
           -4.831340933364885,
           -4.885429337269855,
           -4.939517741174825,
           -4.993606145079795,
           -5.047694548984766
          ],
          [
           -3.3253337027595675,
           -3.379422106664538,
           -3.433510510569508,
           -3.487598914474478,
           -3.541687318379448,
           -3.595775722284418,
           -3.649864126189389,
           -3.703952530094359,
           -3.7580409339993293,
           -3.8121293379042993,
           -3.8662177418092702,
           -3.9203061457142403,
           -3.9743945496192103,
           -4.02848295352418,
           -4.08257135742915,
           -4.136659761334121,
           -4.190748165239091,
           -4.244836569144061,
           -4.298924973049031,
           -4.353013376954001,
           -4.407101780858972,
           -4.461190184763942,
           -4.515278588668912,
           -4.569366992573882,
           -4.623455396478852,
           -4.677543800383823,
           -4.731632204288793,
           -4.785720608193763,
           -4.839809012098733,
           -4.893897416003703
          ],
          [
           -3.1715365697785045,
           -3.2256249736834754,
           -3.2797133775884455,
           -3.3338017814934156,
           -3.3878901853983856,
           -3.4419785893033557,
           -3.496066993208326,
           -3.550155397113296,
           -3.6042438010182662,
           -3.6583322049232363,
           -3.7124206088282072,
           -3.7665090127331773,
           -3.8205974166381473,
           -3.8746858205431174,
           -3.9287742244480874,
           -3.982862628353058,
           -4.036951032258028,
           -4.0910394361629985,
           -4.1451278400679685,
           -4.199216243972939,
           -4.253304647877909,
           -4.307393051782879,
           -4.361481455687849,
           -4.415569859592819,
           -4.469658263497789,
           -4.52374666740276,
           -4.57783507130773,
           -4.6319234752127,
           -4.68601187911767,
           -4.740100283022641
          ],
          [
           -3.0177394367974424,
           -3.0718278407024124,
           -3.125916244607383,
           -3.180004648512353,
           -3.234093052417323,
           -3.288181456322294,
           -3.342269860227264,
           -3.396358264132234,
           -3.450446668037204,
           -3.504535071942174,
           -3.5586234758471447,
           -3.6127118797521147,
           -3.6668002836570848,
           -3.720888687562055,
           -3.774977091467025,
           -3.829065495371996,
           -3.883153899276966,
           -3.937242303181936,
           -3.991330707086906,
           -4.045419110991876,
           -4.099507514896847,
           -4.153595918801817,
           -4.207684322706787,
           -4.261772726611757,
           -4.315861130516727,
           -4.369949534421697,
           -4.424037938326667,
           -4.478126342231637,
           -4.532214746136607,
           -4.586303150041578
          ],
          [
           -2.863942303816381,
           -2.918030707721351,
           -2.9721191116263213,
           -3.0262075155312913,
           -3.080295919436262,
           -3.1343843233412323,
           -3.1884727272462023,
           -3.2425611311511724,
           -3.2966495350561424,
           -3.3507379389611125,
           -3.404826342866083,
           -3.458914746771053,
           -3.513003150676023,
           -3.567091554580993,
           -3.621179958485963,
           -3.675268362390934,
           -3.729356766295904,
           -3.7834451702008742,
           -3.8375335741058443,
           -3.8916219780108143,
           -3.945710381915785,
           -3.999798785820755,
           -4.053887189725725,
           -4.107975593630695,
           -4.1620639975356655,
           -4.216152401440636,
           -4.2702408053456065,
           -4.3243292092505765,
           -4.378417613155546,
           -4.432506017060517
          ],
          [
           -2.7101451708353186,
           -2.7642335747402886,
           -2.818321978645259,
           -2.872410382550229,
           -2.9264987864551997,
           -2.9805871903601697,
           -3.0346755942651398,
           -3.08876399817011,
           -3.14285240207508,
           -3.19694080598005,
           -3.251029209885021,
           -3.305117613789991,
           -3.359206017694961,
           -3.413294421599931,
           -3.467382825504901,
           -3.521471229409872,
           -3.575559633314842,
           -3.629648037219812,
           -3.683736441124782,
           -3.737824845029752,
           -3.7919132489347227,
           -3.8460016528396928,
           -3.900090056744663,
           -3.954178460649633,
           -4.008266864554603,
           -4.062355268459574,
           -4.116443672364544,
           -4.170532076269514,
           -4.224620480174484,
           -4.278708884079455
          ],
          [
           -2.5563480378542556,
           -2.6104364417592256,
           -2.664524845664196,
           -2.718613249569166,
           -2.7727016534741367,
           -2.8267900573791067,
           -2.8808784612840768,
           -2.9349668651890473,
           -2.9890552690940173,
           -3.0431436729989874,
           -3.0972320769039574,
           -3.151320480808928,
           -3.205408884713898,
           -3.259497288618868,
           -3.313585692523838,
           -3.367674096428809,
           -3.421762500333779,
           -3.475850904238749,
           -3.529939308143719,
           -3.584027712048689,
           -3.6381161159536597,
           -3.6922045198586297,
           -3.7462929237636,
           -3.80038132766857,
           -3.85446973157354,
           -3.908558135478511,
           -3.962646539383481,
           -4.0167349432884505,
           -4.0708233471934205,
           -4.1249117510983915
          ],
          [
           -2.4025509048731934,
           -2.4566393087781635,
           -2.510727712683134,
           -2.564816116588104,
           -2.618904520493074,
           -2.672992924398044,
           -2.727081328303014,
           -2.7811697322079847,
           -2.8352581361129547,
           -2.8893465400179252,
           -2.9434349439228953,
           -2.997523347827866,
           -3.051611751732836,
           -3.105700155637806,
           -3.159788559542776,
           -3.2138769634477464,
           -3.2679653673527165,
           -3.3220537712576865,
           -3.3761421751626566,
           -3.4302305790676266,
           -3.4843189829725976,
           -3.5384073868775676,
           -3.5924957907825377,
           -3.6465841946875077,
           -3.7006725985924778,
           -3.7547610024974483,
           -3.8088494064024183,
           -3.8629378103073884,
           -3.9170262142123584,
           -3.9711146181173294
          ],
          [
           -2.2487537718921318,
           -2.302842175797102,
           -2.3569305797020723,
           -2.4110189836070424,
           -2.465107387512013,
           -2.519195791416983,
           -2.573284195321953,
           -2.627372599226923,
           -2.681461003131893,
           -2.7355494070368636,
           -2.7896378109418336,
           -2.843726214846804,
           -2.897814618751774,
           -2.951903022656744,
           -3.0059914265617147,
           -3.0600798304666847,
           -3.114168234371655,
           -3.168256638276625,
           -3.222345042181595,
           -3.276433446086565,
           -3.330521849991536,
           -3.384610253896506,
           -3.438698657801476,
           -3.492787061706446,
           -3.546875465611416,
           -3.6009638695163866,
           -3.6550522734213566,
           -3.7091406773263267,
           -3.7632290812312967,
           -3.8173174851362677
          ],
          [
           -2.0949566389110683,
           -2.1490450428160384,
           -2.203133446721009,
           -2.257221850625979,
           -2.3113102545309494,
           -2.3653986584359195,
           -2.4194870623408895,
           -2.47357546624586,
           -2.52766387015083,
           -2.5817522740558,
           -2.63584067796077,
           -2.6899290818657406,
           -2.7440174857707107,
           -2.7981058896756807,
           -2.8521942935806512,
           -2.9062826974856213,
           -2.960371101390592,
           -3.014459505295562,
           -3.068547909200532,
           -3.122636313105502,
           -3.176724717010472,
           -3.230813120915442,
           -3.284901524820413,
           -3.338989928725383,
           -3.393078332630353,
           -3.447166736535323,
           -3.501255140440293,
           -3.555343544345264,
           -3.609431948250234,
           -3.663520352155204
          ],
          [
           -1.9411595059300062,
           -1.9952479098349762,
           -2.0493363137399467,
           -2.103424717644917,
           -2.157513121549887,
           -2.211601525454857,
           -2.265689929359827,
           -2.3197783332647974,
           -2.3738667371697675,
           -2.427955141074738,
           -2.482043544979708,
           -2.5361319488846785,
           -2.5902203527896486,
           -2.6443087566946186,
           -2.698397160599589,
           -2.752485564504559,
           -2.806573968409529,
           -2.8606623723144993,
           -2.9147507762194698,
           -2.96883918012444,
           -3.0229275840294103,
           -3.0770159879343804,
           -3.131104391839351,
           -3.185192795744321,
           -3.239281199649291,
           -3.293369603554261,
           -3.347458007459231,
           -3.4015464113642015,
           -3.4556348152691716,
           -3.5097232191741417
          ],
          [
           -1.7873623729489438,
           -1.841450776853914,
           -1.8955391807588844,
           -1.9496275846638544,
           -2.0037159885688247,
           -2.0578043924737948,
           -2.111892796378765,
           -2.1659812002837353,
           -2.2200696041887054,
           -2.274158008093676,
           -2.328246411998646,
           -2.382334815903616,
           -2.436423219808586,
           -2.490511623713556,
           -2.5446000276185265,
           -2.5986884315234966,
           -2.652776835428467,
           -2.706865239333437,
           -2.7609536432384076,
           -2.8150420471433777,
           -2.8691304510483477,
           -2.923218854953318,
           -2.9773072588582883,
           -3.0313956627632583,
           -3.0854840666682284,
           -3.1395724705731984,
           -3.1936608744781685,
           -3.2477492783831394,
           -3.3018376822881095,
           -3.3559260861930795
          ],
          [
           -1.6335652399678815,
           -1.6876536438728515,
           -1.741742047777822,
           -1.795830451682792,
           -1.8499188555877624,
           -1.9040072594927324,
           -1.9580956633977025,
           -2.0121840673026727,
           -2.066272471207643,
           -2.1203608751126133,
           -2.1744492790175833,
           -2.228537682922554,
           -2.282626086827524,
           -2.336714490732494,
           -2.3908028946374644,
           -2.4448912985424345,
           -2.498979702447405,
           -2.553068106352375,
           -2.607156510257345,
           -2.661244914162315,
           -2.7153333180672856,
           -2.7694217219722557,
           -2.823510125877226,
           -2.877598529782196,
           -2.9316869336871663,
           -2.9857753375921368,
           -3.039863741497107,
           -3.093952145402077,
           -3.148040549307047,
           -3.202128953212017
          ],
          [
           -1.479768106986819,
           -1.533856510891789,
           -1.5879449147967595,
           -1.6420333187017295,
           -1.6961217226066998,
           -1.7502101265116699,
           -1.80429853041664,
           -1.8583869343216104,
           -1.9124753382265804,
           -1.9665637421315507,
           -2.0206521460365208,
           -2.0747405499414913,
           -2.1288289538464613,
           -2.1829173577514314,
           -2.237005761656402,
           -2.291094165561372,
           -2.345182569466342,
           -2.399270973371312,
           -2.4533593772762825,
           -2.5074477811812526,
           -2.561536185086223,
           -2.615624588991193,
           -2.669712992896163,
           -2.7238013968011336,
           -2.7778898007061037,
           -2.8319782046110737,
           -2.886066608516044,
           -2.940155012421014,
           -2.9942434163259843,
           -3.048331820230955
          ],
          [
           -1.325970974005757,
           -1.380059377910727,
           -1.4341477818156974,
           -1.4882361857206674,
           -1.542324589625638,
           -1.596412993530608,
           -1.650501397435578,
           -1.7045898013405483,
           -1.7586782052455183,
           -1.8127666091504888,
           -1.8668550130554589,
           -1.9209434169604291,
           -1.9750318208653992,
           -2.0291202247703692,
           -2.0832086286753397,
           -2.13729703258031,
           -2.1913854364852803,
           -2.2454738403902503,
           -2.299562244295221,
           -2.353650648200191,
           -2.407739052105161,
           -2.461827456010131,
           -2.5159158599151015,
           -2.5700042638200715,
           -2.6240926677250416,
           -2.678181071630012,
           -2.732269475534982,
           -2.7863578794399526,
           -2.8404462833449227,
           -2.8945346872498927
          ],
          [
           -1.1721738410246947,
           -1.2262622449296647,
           -1.2803506488346352,
           -1.3344390527396053,
           -1.3885274566445756,
           -1.4426158605495456,
           -1.4967042644545157,
           -1.5507926683594861,
           -1.6048810722644562,
           -1.6589694761694265,
           -1.7130578800743965,
           -1.767146283979367,
           -1.821234687884337,
           -1.8753230917893071,
           -1.9294114956942774,
           -1.9834998995992474,
           -2.0375883035042177,
           -2.0916767074091878,
           -2.1457651113141583,
           -2.1998535152191283,
           -2.253941919124099,
           -2.308030323029069,
           -2.3621187269340393,
           -2.4162071308390094,
           -2.4702955347439794,
           -2.5243839386489495,
           -2.5784723425539195,
           -2.63256074645889,
           -2.68664915036386,
           -2.74073755426883
          ],
          [
           -1.0183767080436323,
           -1.0724651119486024,
           -1.1265535158535729,
           -1.180641919758543,
           -1.2347303236635132,
           -1.2888187275684833,
           -1.3429071314734533,
           -1.3969955353784238,
           -1.4510839392833939,
           -1.5051723431883641,
           -1.5592607470933342,
           -1.6133491509983047,
           -1.6674375549032747,
           -1.7215259588082448,
           -1.775614362713215,
           -1.829702766618185,
           -1.8837911705231556,
           -1.9378795744281256,
           -1.9919679783330961,
           -2.046056382238066,
           -2.1001447861430367,
           -2.1542331900480067,
           -2.208321593952977,
           -2.262409997857947,
           -2.316498401762917,
           -2.3705868056678874,
           -2.4246752095728574,
           -2.478763613477828,
           -2.532852017382798,
           -2.586940421287768
          ],
          [
           -0.8645795750625698,
           -0.9186679789675398,
           -0.9727563828725102,
           -1.0268447867774801,
           -1.0809331906824506,
           -1.1350215945874207,
           -1.1891099984923907,
           -1.2431984023973612,
           -1.2972868063023313,
           -1.3513752102073016,
           -1.4054636141122716,
           -1.4595520180172419,
           -1.5136404219222122,
           -1.5677288258271822,
           -1.6218172297321525,
           -1.6759056336371225,
           -1.729994037542093,
           -1.784082441447063,
           -1.8381708453520333,
           -1.8922592492570034,
           -1.946347653161974,
           -2.0004360570669437,
           -2.0545244609719138,
           -2.1086128648768843,
           -2.1627012687818543,
           -2.216789672686825,
           -2.270878076591795,
           -2.324966480496765,
           -2.3790548844017354,
           -2.4331432883067055
          ],
          [
           -0.7107824420815074,
           -0.7648708459864775,
           -0.8189592498914479,
           -0.8730476537964179,
           -0.9271360577013884,
           -0.9812244616063585,
           -1.0353128655113284,
           -1.089401269416299,
           -1.143489673321269,
           -1.1975780772262392,
           -1.2516664811312093,
           -1.3057548850361795,
           -1.3598432889411498,
           -1.41393169284612,
           -1.4680200967510901,
           -1.5221085006560602,
           -1.5761969045610307,
           -1.6302853084660007,
           -1.684373712370971,
           -1.738462116275941,
           -1.7925505201809115,
           -1.8466389240858816,
           -1.9007273279908516,
           -1.9548157318958221,
           -2.008904135800792,
           -2.0629925397057627,
           -2.1170809436107327,
           -2.171169347515703,
           -2.225257751420673,
           -2.2793461553256433
          ],
          [
           -0.5569853091004452,
           -0.6110737130054152,
           -0.6651621169103856,
           -0.7192505208153557,
           -0.773338924720326,
           -0.8274273286252961,
           -0.8815157325302662,
           -0.9356041364352365,
           -0.9896925403402066,
           -1.043780944245177,
           -1.0978693481501471,
           -1.1519577520551172,
           -1.2060461559600875,
           -1.2601345598650577,
           -1.314222963770028,
           -1.368311367674998,
           -1.422399771579968,
           -1.4764881754849384,
           -1.5305765793899087,
           -1.584664983294879,
           -1.6387533871998492,
           -1.6928417911048192,
           -1.7469301950097893,
           -1.8010185989147598,
           -1.8551070028197298,
           -1.9091954067247001,
           -1.9632838106296702,
           -2.01737221453464,
           -2.0714606184396107,
           -2.125549022344581
          ],
          [
           -0.4031881761193829,
           -0.45727658002435295,
           -0.5113649839293233,
           -0.5654533878342933,
           -0.6195417917392637,
           -0.6736301956442338,
           -0.7277185995492039,
           -0.7818070034541742,
           -0.8358954073591444,
           -0.8899838112641147,
           -0.9440722151690848,
           -0.998160619074055,
           -1.0522490229790251,
           -1.1063374268839954,
           -1.1604258307889657,
           -1.2145142346939357,
           -1.268602638598906,
           -1.322691042503876,
           -1.3767794464088463,
           -1.4308678503138166,
           -1.4849562542187869,
           -1.539044658123757,
           -1.593133062028727,
           -1.6472214659336974,
           -1.7013098698386675,
           -1.755398273743638,
           -1.809486677648608,
           -1.863575081553578,
           -1.9176634854585484,
           -1.9717518893635189
          ],
          [
           -0.24939104313832058,
           -0.30347944704329066,
           -0.35756785094826105,
           -0.4116562548532311,
           -0.46574465875820137,
           -0.5198330626631715,
           -0.5739214665681417,
           -0.6280098704731119,
           -0.6820982743780821,
           -0.7361866782830523,
           -0.7902750821880224,
           -0.8443634860929927,
           -0.8984518899979629,
           -0.9525402939029332,
           -1.0066286978079033,
           -1.0607171017128734,
           -1.1148055056178436,
           -1.168893909522814,
           -1.222982313427784,
           -1.2770707173327542,
           -1.3311591212377245,
           -1.3852475251426948,
           -1.4393359290476648,
           -1.493424332952635,
           -1.5475127368576052,
           -1.6016011407625756,
           -1.6556895446675457,
           -1.7097779485725157,
           -1.763866352477486,
           -1.8179547563824565
          ],
          [
           -0.0955939101572583,
           -0.14968231406222834,
           -0.20377071796719873,
           -0.2578591218721688,
           -0.3119475257771391,
           -0.36603592968210924,
           -0.42012433358707935,
           -0.47421273749204956,
           -0.5283011413970198,
           -0.58238954530199,
           -0.6364779492069602,
           -0.6905663531119304,
           -0.7446547570169006,
           -0.7987431609218708,
           -0.8528315648268411,
           -0.9069199687318111,
           -0.9610083726367813,
           -1.0150967765417516,
           -1.0691851804467218,
           -1.123273584351692,
           -1.1773619882566622,
           -1.2314503921616324,
           -1.2855387960666027,
           -1.3396271999715728,
           -1.3937156038765428,
           -1.4478040077815133,
           -1.5018924116864834,
           -1.5559808155914536,
           -1.610069219496424,
           -1.6641576234013942
          ],
          [
           0.058203222823803996,
           0.004114818918833948,
           -0.049973584986136445,
           -0.10406198889110649,
           -0.1581503927960768,
           -0.21223879670104695,
           -0.26632720060601706,
           -0.3204156045109873,
           -0.3745040084159575,
           -0.42859241232092776,
           -0.482680816225898,
           -0.5367692201308681,
           -0.5908576240358383,
           -0.6449460279408086,
           -0.6990344318457786,
           -0.7531228357507489,
           -0.8072112396557191,
           -0.8612996435606892,
           -0.9153880474656595,
           -0.9694764513706297,
           -1.0235648552755998,
           -1.07765325918057,
           -1.1317416630855404,
           -1.1858300669905106,
           -1.2399184708954807,
           -1.294006874800451,
           -1.348095278705421,
           -1.4021836826103913,
           -1.4562720865153616,
           -1.5103604904203318
          ],
          [
           0.21200035580486656,
           0.1579119518998965,
           0.1038235479949261,
           0.04973514408995606,
           -0.004353259815014249,
           -0.05844166371998438,
           -0.11253006762495452,
           -0.16661847152992473,
           -0.22070687543489495,
           -0.2747952793398652,
           -0.3288836832448354,
           -0.3829720871498056,
           -0.4370604910547757,
           -0.4911488949597459,
           -0.5452372988647162,
           -0.5993257027696863,
           -0.6534141066746566,
           -0.7075025105796267,
           -0.761590914484597,
           -0.8156793183895671,
           -0.8697677222945375,
           -0.9238561261995075,
           -0.9779445301044779,
           -1.0320329340094478,
           -1.086121337914418,
           -1.1402097418193884,
           -1.1942981457243584,
           -1.2483865496293287,
           -1.3024749535342988,
           -1.3565633574392693
          ],
          [
           0.36579748878592866,
           0.3117090848809586,
           0.2576206809759882,
           0.20353227707101818,
           0.14944387316604787,
           0.09535546926107774,
           0.0412670653561076,
           -0.01282133854886262,
           -0.06690974245383284,
           -0.12099814635880306,
           -0.1750865502637733,
           -0.22917495416874345,
           -0.2832633580737136,
           -0.33735176197868383,
           -0.391440165883654,
           -0.4455285697886242,
           -0.4996169736935944,
           -0.5537053775985645,
           -0.6077937815035349,
           -0.661882185408505,
           -0.7159705893134753,
           -0.7700589932184454,
           -0.8241473971234156,
           -0.8782358010283858,
           -0.9323242049333559,
           -0.9864126088383263,
           -1.0405010127432963,
           -1.0945894166482666,
           -1.1486778205532366,
           -1.202766224458207
          ],
          [
           0.5195946217669913,
           0.4655062178620213,
           0.41141781395705085,
           0.3573294100520808,
           0.3032410061471105,
           0.24915260224214036,
           0.19506419833717023,
           0.1409757944322,
           0.0868873905272298,
           0.03279898662225958,
           -0.021289417282710645,
           -0.07537782118768083,
           -0.12946622509265096,
           -0.18355462899762118,
           -0.23764303290259137,
           -0.2917314368075616,
           -0.3458198407125318,
           -0.3999082446175019,
           -0.45399664852247223,
           -0.5080850524274423,
           -0.5621734563324127,
           -0.6162618602373827,
           -0.670350264142353,
           -0.7244386680473232,
           -0.7785270719522932,
           -0.8326154758572636,
           -0.8867038797622336,
           -0.9407922836672039,
           -0.9948806875721741,
           -1.0489690914771443
          ],
          [
           0.6733917547480532,
           0.6193033508430832,
           0.5652149469381128,
           0.5111265430331428,
           0.4570381391281725,
           0.4029497352232023,
           0.3488613313182322,
           0.29477292741326194,
           0.24068452350829175,
           0.18659611960332154,
           0.1325077156983513,
           0.07841931179338113,
           0.02433090788841099,
           -0.02975749601655923,
           -0.08384589992152944,
           -0.13793430382649963,
           -0.19202270773146984,
           -0.24611111163643998,
           -0.3001995155414103,
           -0.3542879194463804,
           -0.4083763233513507,
           -0.46246472725632076,
           -0.5165531311612911,
           -0.5706415350662613,
           -0.6247299389712313,
           -0.6788183428762017,
           -0.7329067467811717,
           -0.7869951506861419,
           -0.8410835545911122,
           -0.8951719584960823
          ],
          [
           0.8271888877291158,
           0.7731004838241459,
           0.7190120799191755,
           0.6649236760142054,
           0.610835272109235,
           0.556746868204265,
           0.5026584642992948,
           0.4485700603943246,
           0.3944816564893544,
           0.3403932525843842,
           0.28630484867941397,
           0.23221644477444375,
           0.17812804086947362,
           0.1240396369645034,
           0.06995123305953321,
           0.01586282915456301,
           -0.03822557475040721,
           -0.09231397865537733,
           -0.1464023825603476,
           -0.20049078646531773,
           -0.25457919037028803,
           -0.30866759427525814,
           -0.36275599818022847,
           -0.4168444020851986,
           -0.4709328059901686,
           -0.525021209895139,
           -0.5791096138001091,
           -0.6331980177050793,
           -0.6872864216100495,
           -0.7413748255150199
          ],
          [
           0.9809860207101777,
           0.9268976168052077,
           0.8728092129002373,
           0.8187208089952672,
           0.764632405090297,
           0.7105440011853268,
           0.6564555972803567,
           0.6023671933753865,
           0.5482787894704162,
           0.49419038556544603,
           0.4401019816604758,
           0.3860135777555056,
           0.3319251738505355,
           0.2778367699455653,
           0.2237483660405951,
           0.16965996213562487,
           0.11557155823065465,
           0.06148315432568453,
           0.007394750420714237,
           -0.04669365348425589,
           -0.1007820573892262,
           -0.1548704612941963,
           -0.2089588651991666,
           -0.2630472691041367,
           -0.31713567300910683,
           -0.37122407691407716,
           -0.4253124808190472,
           -0.47940088472401754,
           -0.5334892886289877,
           -0.587577692533958
          ]
         ]
        },
        {
         "legendgroup": "Sample Projections",
         "line": {
          "width": 6
         },
         "marker": {
          "size": 1
         },
         "name": "Sample Projections",
         "opacity": 0.2,
         "showlegend": true,
         "type": "scatter3d",
         "visible": true,
         "x": [
          -0.5849823521129334,
          1.0631345464294168
         ],
         "y": [
          -11.514941909564786,
          -2.718846441866222
         ],
         "z": [
          0.8037802928618021,
          5.126779408950354
         ]
        },
        {
         "legendgroup": "Sample Projections",
         "line": {
          "width": 6
         },
         "marker": {
          "size": 1
         },
         "name": "Sample Projections",
         "opacity": 0.2,
         "showlegend": false,
         "type": "scatter3d",
         "visible": true,
         "x": [
          -1.4365361275445485,
          0.7201378825972148
         ],
         "y": [
          -9.224904911440879,
          -1.8416712412632557
         ],
         "z": [
          0.004470508804561124,
          3.4727383100325437
         ]
        },
        {
         "legendgroup": "Sample Projections",
         "line": {
          "width": 6
         },
         "marker": {
          "size": 1
         },
         "name": "Sample Projections",
         "opacity": 0.2,
         "showlegend": false,
         "type": "scatter3d",
         "visible": true,
         "x": [
          -1.5491589173759384,
          0.32604950846685066
         ],
         "y": [
          -7.250108574555569,
          -0.8338347662058428
         ],
         "z": [
          -1.4415180189468613,
          1.5723164221502544
         ]
        },
        {
         "legendgroup": "Sample Projections",
         "line": {
          "width": 6
         },
         "marker": {
          "size": 1
         },
         "name": "Sample Projections",
         "opacity": 0.2,
         "showlegend": false,
         "type": "scatter3d",
         "visible": true,
         "x": [
          -2.632141027502986,
          -0.5206645235191256
         ],
         "y": [
          -0.4598978823168711,
          1.3315406708683517
         ],
         "z": [
          -3.0229987371752776,
          -2.510813111203909
         ]
        },
        {
         "legendgroup": "Sample Projections",
         "line": {
          "width": 6
         },
         "marker": {
          "size": 1
         },
         "name": "Sample Projections",
         "opacity": 0.2,
         "showlegend": false,
         "type": "scatter3d",
         "visible": true,
         "x": [
          -0.771705714476493,
          0.6088754713394716
         ],
         "y": [
          -9.265359357178491,
          -1.5571301998893783
         ],
         "z": [
          -0.8653628285493147,
          2.9361948960854227
         ]
        }
       ],
       "layout": {
        "autosize": true,
        "height": 800,
        "legend": {
         "font": {
          "size": 16
         },
         "itemsizing": "constant"
        },
        "margin": {
         "b": 10,
         "l": 10,
         "pad": 4,
         "r": 10,
         "t": 10
        },
        "paper_bgcolor": "White",
        "scene": {
         "aspectmode": "data",
         "aspectratio": {
          "x": 0.6950492602330615,
          "y": 1.310520366310905,
          "z": 1.09784401852497
         },
         "camera": {
          "center": {
           "x": 0,
           "y": 0,
           "z": 0
          },
          "eye": {
           "x": 1.6333750111142227,
           "y": 0.39997178004119016,
           "z": 0.4148597934703901
          },
          "projection": {
           "type": "perspective"
          },
          "up": {
           "x": 0,
           "y": 0,
           "z": 1
          }
         }
        },
        "template": {
         "data": {
          "bar": [
           {
            "error_x": {
             "color": "#2a3f5f"
            },
            "error_y": {
             "color": "#2a3f5f"
            },
            "marker": {
             "line": {
              "color": "#E5ECF6",
              "width": 0.5
             }
            },
            "type": "bar"
           }
          ],
          "barpolar": [
           {
            "marker": {
             "line": {
              "color": "#E5ECF6",
              "width": 0.5
             }
            },
            "type": "barpolar"
           }
          ],
          "carpet": [
           {
            "aaxis": {
             "endlinecolor": "#2a3f5f",
             "gridcolor": "white",
             "linecolor": "white",
             "minorgridcolor": "white",
             "startlinecolor": "#2a3f5f"
            },
            "baxis": {
             "endlinecolor": "#2a3f5f",
             "gridcolor": "white",
             "linecolor": "white",
             "minorgridcolor": "white",
             "startlinecolor": "#2a3f5f"
            },
            "type": "carpet"
           }
          ],
          "choropleth": [
           {
            "colorbar": {
             "outlinewidth": 0,
             "ticks": ""
            },
            "type": "choropleth"
           }
          ],
          "contour": [
           {
            "colorbar": {
             "outlinewidth": 0,
             "ticks": ""
            },
            "colorscale": [
             [
              0,
              "#0d0887"
             ],
             [
              0.1111111111111111,
              "#46039f"
             ],
             [
              0.2222222222222222,
              "#7201a8"
             ],
             [
              0.3333333333333333,
              "#9c179e"
             ],
             [
              0.4444444444444444,
              "#bd3786"
             ],
             [
              0.5555555555555556,
              "#d8576b"
             ],
             [
              0.6666666666666666,
              "#ed7953"
             ],
             [
              0.7777777777777778,
              "#fb9f3a"
             ],
             [
              0.8888888888888888,
              "#fdca26"
             ],
             [
              1,
              "#f0f921"
             ]
            ],
            "type": "contour"
           }
          ],
          "contourcarpet": [
           {
            "colorbar": {
             "outlinewidth": 0,
             "ticks": ""
            },
            "type": "contourcarpet"
           }
          ],
          "heatmap": [
           {
            "colorbar": {
             "outlinewidth": 0,
             "ticks": ""
            },
            "colorscale": [
             [
              0,
              "#0d0887"
             ],
             [
              0.1111111111111111,
              "#46039f"
             ],
             [
              0.2222222222222222,
              "#7201a8"
             ],
             [
              0.3333333333333333,
              "#9c179e"
             ],
             [
              0.4444444444444444,
              "#bd3786"
             ],
             [
              0.5555555555555556,
              "#d8576b"
             ],
             [
              0.6666666666666666,
              "#ed7953"
             ],
             [
              0.7777777777777778,
              "#fb9f3a"
             ],
             [
              0.8888888888888888,
              "#fdca26"
             ],
             [
              1,
              "#f0f921"
             ]
            ],
            "type": "heatmap"
           }
          ],
          "heatmapgl": [
           {
            "colorbar": {
             "outlinewidth": 0,
             "ticks": ""
            },
            "colorscale": [
             [
              0,
              "#0d0887"
             ],
             [
              0.1111111111111111,
              "#46039f"
             ],
             [
              0.2222222222222222,
              "#7201a8"
             ],
             [
              0.3333333333333333,
              "#9c179e"
             ],
             [
              0.4444444444444444,
              "#bd3786"
             ],
             [
              0.5555555555555556,
              "#d8576b"
             ],
             [
              0.6666666666666666,
              "#ed7953"
             ],
             [
              0.7777777777777778,
              "#fb9f3a"
             ],
             [
              0.8888888888888888,
              "#fdca26"
             ],
             [
              1,
              "#f0f921"
             ]
            ],
            "type": "heatmapgl"
           }
          ],
          "histogram": [
           {
            "marker": {
             "colorbar": {
              "outlinewidth": 0,
              "ticks": ""
             }
            },
            "type": "histogram"
           }
          ],
          "histogram2d": [
           {
            "colorbar": {
             "outlinewidth": 0,
             "ticks": ""
            },
            "colorscale": [
             [
              0,
              "#0d0887"
             ],
             [
              0.1111111111111111,
              "#46039f"
             ],
             [
              0.2222222222222222,
              "#7201a8"
             ],
             [
              0.3333333333333333,
              "#9c179e"
             ],
             [
              0.4444444444444444,
              "#bd3786"
             ],
             [
              0.5555555555555556,
              "#d8576b"
             ],
             [
              0.6666666666666666,
              "#ed7953"
             ],
             [
              0.7777777777777778,
              "#fb9f3a"
             ],
             [
              0.8888888888888888,
              "#fdca26"
             ],
             [
              1,
              "#f0f921"
             ]
            ],
            "type": "histogram2d"
           }
          ],
          "histogram2dcontour": [
           {
            "colorbar": {
             "outlinewidth": 0,
             "ticks": ""
            },
            "colorscale": [
             [
              0,
              "#0d0887"
             ],
             [
              0.1111111111111111,
              "#46039f"
             ],
             [
              0.2222222222222222,
              "#7201a8"
             ],
             [
              0.3333333333333333,
              "#9c179e"
             ],
             [
              0.4444444444444444,
              "#bd3786"
             ],
             [
              0.5555555555555556,
              "#d8576b"
             ],
             [
              0.6666666666666666,
              "#ed7953"
             ],
             [
              0.7777777777777778,
              "#fb9f3a"
             ],
             [
              0.8888888888888888,
              "#fdca26"
             ],
             [
              1,
              "#f0f921"
             ]
            ],
            "type": "histogram2dcontour"
           }
          ],
          "mesh3d": [
           {
            "colorbar": {
             "outlinewidth": 0,
             "ticks": ""
            },
            "type": "mesh3d"
           }
          ],
          "parcoords": [
           {
            "line": {
             "colorbar": {
              "outlinewidth": 0,
              "ticks": ""
             }
            },
            "type": "parcoords"
           }
          ],
          "pie": [
           {
            "automargin": true,
            "type": "pie"
           }
          ],
          "scatter": [
           {
            "marker": {
             "colorbar": {
              "outlinewidth": 0,
              "ticks": ""
             }
            },
            "type": "scatter"
           }
          ],
          "scatter3d": [
           {
            "line": {
             "colorbar": {
              "outlinewidth": 0,
              "ticks": ""
             }
            },
            "marker": {
             "colorbar": {
              "outlinewidth": 0,
              "ticks": ""
             }
            },
            "type": "scatter3d"
           }
          ],
          "scattercarpet": [
           {
            "marker": {
             "colorbar": {
              "outlinewidth": 0,
              "ticks": ""
             }
            },
            "type": "scattercarpet"
           }
          ],
          "scattergeo": [
           {
            "marker": {
             "colorbar": {
              "outlinewidth": 0,
              "ticks": ""
             }
            },
            "type": "scattergeo"
           }
          ],
          "scattergl": [
           {
            "marker": {
             "colorbar": {
              "outlinewidth": 0,
              "ticks": ""
             }
            },
            "type": "scattergl"
           }
          ],
          "scattermapbox": [
           {
            "marker": {
             "colorbar": {
              "outlinewidth": 0,
              "ticks": ""
             }
            },
            "type": "scattermapbox"
           }
          ],
          "scatterpolar": [
           {
            "marker": {
             "colorbar": {
              "outlinewidth": 0,
              "ticks": ""
             }
            },
            "type": "scatterpolar"
           }
          ],
          "scatterpolargl": [
           {
            "marker": {
             "colorbar": {
              "outlinewidth": 0,
              "ticks": ""
             }
            },
            "type": "scatterpolargl"
           }
          ],
          "scatterternary": [
           {
            "marker": {
             "colorbar": {
              "outlinewidth": 0,
              "ticks": ""
             }
            },
            "type": "scatterternary"
           }
          ],
          "surface": [
           {
            "colorbar": {
             "outlinewidth": 0,
             "ticks": ""
            },
            "colorscale": [
             [
              0,
              "#0d0887"
             ],
             [
              0.1111111111111111,
              "#46039f"
             ],
             [
              0.2222222222222222,
              "#7201a8"
             ],
             [
              0.3333333333333333,
              "#9c179e"
             ],
             [
              0.4444444444444444,
              "#bd3786"
             ],
             [
              0.5555555555555556,
              "#d8576b"
             ],
             [
              0.6666666666666666,
              "#ed7953"
             ],
             [
              0.7777777777777778,
              "#fb9f3a"
             ],
             [
              0.8888888888888888,
              "#fdca26"
             ],
             [
              1,
              "#f0f921"
             ]
            ],
            "type": "surface"
           }
          ],
          "table": [
           {
            "cells": {
             "fill": {
              "color": "#EBF0F8"
             },
             "line": {
              "color": "white"
             }
            },
            "header": {
             "fill": {
              "color": "#C8D4E3"
             },
             "line": {
              "color": "white"
             }
            },
            "type": "table"
           }
          ]
         },
         "layout": {
          "annotationdefaults": {
           "arrowcolor": "#2a3f5f",
           "arrowhead": 0,
           "arrowwidth": 1
          },
          "coloraxis": {
           "colorbar": {
            "outlinewidth": 0,
            "ticks": ""
           }
          },
          "colorscale": {
           "diverging": [
            [
             0,
             "#8e0152"
            ],
            [
             0.1,
             "#c51b7d"
            ],
            [
             0.2,
             "#de77ae"
            ],
            [
             0.3,
             "#f1b6da"
            ],
            [
             0.4,
             "#fde0ef"
            ],
            [
             0.5,
             "#f7f7f7"
            ],
            [
             0.6,
             "#e6f5d0"
            ],
            [
             0.7,
             "#b8e186"
            ],
            [
             0.8,
             "#7fbc41"
            ],
            [
             0.9,
             "#4d9221"
            ],
            [
             1,
             "#276419"
            ]
           ],
           "sequential": [
            [
             0,
             "#0d0887"
            ],
            [
             0.1111111111111111,
             "#46039f"
            ],
            [
             0.2222222222222222,
             "#7201a8"
            ],
            [
             0.3333333333333333,
             "#9c179e"
            ],
            [
             0.4444444444444444,
             "#bd3786"
            ],
            [
             0.5555555555555556,
             "#d8576b"
            ],
            [
             0.6666666666666666,
             "#ed7953"
            ],
            [
             0.7777777777777778,
             "#fb9f3a"
            ],
            [
             0.8888888888888888,
             "#fdca26"
            ],
            [
             1,
             "#f0f921"
            ]
           ],
           "sequentialminus": [
            [
             0,
             "#0d0887"
            ],
            [
             0.1111111111111111,
             "#46039f"
            ],
            [
             0.2222222222222222,
             "#7201a8"
            ],
            [
             0.3333333333333333,
             "#9c179e"
            ],
            [
             0.4444444444444444,
             "#bd3786"
            ],
            [
             0.5555555555555556,
             "#d8576b"
            ],
            [
             0.6666666666666666,
             "#ed7953"
            ],
            [
             0.7777777777777778,
             "#fb9f3a"
            ],
            [
             0.8888888888888888,
             "#fdca26"
            ],
            [
             1,
             "#f0f921"
            ]
           ]
          },
          "colorway": [
           "#636efa",
           "#EF553B",
           "#00cc96",
           "#ab63fa",
           "#FFA15A",
           "#19d3f3",
           "#FF6692",
           "#B6E880",
           "#FF97FF",
           "#FECB52"
          ],
          "font": {
           "color": "#2a3f5f"
          },
          "geo": {
           "bgcolor": "white",
           "lakecolor": "white",
           "landcolor": "#E5ECF6",
           "showlakes": true,
           "showland": true,
           "subunitcolor": "white"
          },
          "hoverlabel": {
           "align": "left"
          },
          "hovermode": "closest",
          "mapbox": {
           "style": "light"
          },
          "paper_bgcolor": "white",
          "plot_bgcolor": "#E5ECF6",
          "polar": {
           "angularaxis": {
            "gridcolor": "white",
            "linecolor": "white",
            "ticks": ""
           },
           "bgcolor": "#E5ECF6",
           "radialaxis": {
            "gridcolor": "white",
            "linecolor": "white",
            "ticks": ""
           }
          },
          "scene": {
           "xaxis": {
            "backgroundcolor": "#E5ECF6",
            "gridcolor": "white",
            "gridwidth": 2,
            "linecolor": "white",
            "showbackground": true,
            "ticks": "",
            "zerolinecolor": "white"
           },
           "yaxis": {
            "backgroundcolor": "#E5ECF6",
            "gridcolor": "white",
            "gridwidth": 2,
            "linecolor": "white",
            "showbackground": true,
            "ticks": "",
            "zerolinecolor": "white"
           },
           "zaxis": {
            "backgroundcolor": "#E5ECF6",
            "gridcolor": "white",
            "gridwidth": 2,
            "linecolor": "white",
            "showbackground": true,
            "ticks": "",
            "zerolinecolor": "white"
           }
          },
          "shapedefaults": {
           "line": {
            "color": "#2a3f5f"
           }
          },
          "ternary": {
           "aaxis": {
            "gridcolor": "white",
            "linecolor": "white",
            "ticks": ""
           },
           "baxis": {
            "gridcolor": "white",
            "linecolor": "white",
            "ticks": ""
           },
           "bgcolor": "#E5ECF6",
           "caxis": {
            "gridcolor": "white",
            "linecolor": "white",
            "ticks": ""
           }
          },
          "title": {
           "x": 0.05
          },
          "xaxis": {
           "automargin": true,
           "gridcolor": "white",
           "linecolor": "white",
           "ticks": "",
           "title": {
            "standoff": 15
           },
           "zerolinecolor": "white",
           "zerolinewidth": 2
          },
          "yaxis": {
           "automargin": true,
           "gridcolor": "white",
           "linecolor": "white",
           "ticks": "",
           "title": {
            "standoff": 15
           },
           "zerolinecolor": "white",
           "zerolinewidth": 2
          }
         }
        },
        "width": 1000
       }
      },
      "image/png": "[encoded data removed]",
      "text/html": [
       "<div>                            <div id=\"740b09ad-af12-4d81-a904-265c87702abd\" class=\"plotly-graph-div\" style=\"height:800px; width:1000px;\"></div>            <script type=\"text/javascript\">                require([\"plotly\"], function(Plotly) {                    window.PLOTLYENV=window.PLOTLYENV || {};                                    if (document.getElementById(\"740b09ad-af12-4d81-a904-265c87702abd\")) {                    Plotly.newPlot(                        \"740b09ad-af12-4d81-a904-265c87702abd\",                        [{\"marker\": {\"color\": \"black\", \"line\": {\"width\": 0}, \"size\": 3}, \"mode\": \"markers\", \"name\": \"Origin\", \"type\": \"scatter3d\", \"x\": [0], \"y\": [0], \"z\": [0]}, {\"marker\": {\"color\": \"cyan\", \"line\": {\"width\": 0}, \"size\": 3}, \"mode\": \"markers\", \"name\": \"Plane Offset\", \"type\": \"scatter3d\", \"x\": [0.10457700254299399], \"y\": [-0.2674438642032512], \"z\": [0.5043042059801655]}, {\"line\": {\"width\": 6}, \"marker\": {\"size\": 1}, \"name\": \"Normal of Plane\", \"type\": \"scatter3d\", \"x\": [1.2543576714434996, -0.8294727387554027], \"y\": [-3.2078779711239314, 2.1212827783316546], \"z\": [6.048919304723581, -3.9999864284526723]}, {\"legendgroup\": \"Positive Samples\", \"marker\": {\"color\": \"blue\", \"line\": {\"width\": 0}, \"size\": 2}, \"mode\": \"markers\", \"name\": \"Positive Samples\", \"showlegend\": true, \"type\": \"scatter3d\", \"x\": [0.042014020706258925], \"y\": [-1.2900146220721205], \"z\": [-3.847531434638628]}, {\"legendgroup\": \"D = 1.59 (min+)\", \"marker\": {\"color\": \"blue\", \"line\": {\"width\": 0}, \"size\": 5, \"symbol\": \"cross\"}, \"mode\": \"markers\", \"name\": \"D = 1.59 (min+)\", \"showlegend\": true, \"type\": \"scatter3d\", \"x\": [-2.1339951601259597], \"y\": [-1.9049146279088631], \"z\": [-1.2486254908114804]}, {\"legendgroup\": \"D = 1.59 (min+)\", \"line\": {\"width\": 6}, \"marker\": {\"color\": \"blue\", \"size\": 1}, \"name\": \"D = 1.59 (min+)\", \"opacity\": 0.4, \"showlegend\": false, \"type\": \"scatter3d\", \"x\": [-2.1339951601259597, -1.9227883776251995], \"y\": [-1.9049146279088631, -2.4450521025387784], \"z\": [-1.2486254908114804, -0.23011792072806925]}, {\"legendgroup\": \"D = 1.59 (min+)\", \"line\": {\"width\": 6}, \"marker\": {\"color\": \"blue\", \"size\": 1}, \"name\": \"D = 1.59 (min+)\", \"opacity\": 0.4, \"showlegend\": false, \"type\": \"scatter3d\", \"x\": [-2.1339951601259597, -0.10662977995776651], \"y\": [-1.9049146279088631, 0.2726936104266641], \"z\": [-1.2486254908114804, -0.5142033641032459]}, {\"legendgroup\": \"Positive Samples\", \"marker\": {\"color\": \"blue\", \"line\": {\"width\": 0}, \"size\": 2}, \"mode\": \"markers\", \"name\": \"Positive Samples\", \"showlegend\": false, \"type\": \"scatter3d\", \"x\": [-2.6435542503000073], \"y\": [-2.2908149558331123], \"z\": [-3.153352381649631]}, {\"legendgroup\": \"Negative Samples\", \"marker\": {\"color\": \"red\", \"line\": {\"width\": 0}, \"size\": 2}, \"mode\": \"markers\", \"name\": \"Negative Samples\", \"showlegend\": true, \"type\": \"scatter3d\", \"x\": [-1.8403364633977217], \"y\": [-10.383721431512676], \"z\": [0.40227728210473745]}, {\"legendgroup\": \"Negative Samples\", \"marker\": {\"color\": \"red\", \"line\": {\"width\": 0}, \"size\": 2}, \"mode\": \"markers\", \"name\": \"Negative Samples\", \"showlegend\": false, \"type\": \"scatter3d\", \"x\": [-1.6157792956837722], \"y\": [-8.870134583868456], \"z\": [1.0412201494423712]}, {\"legendgroup\": \"Positive Samples\", \"marker\": {\"color\": \"blue\", \"line\": {\"width\": 0}, \"size\": 2}, \"mode\": \"markers\", \"name\": \"Positive Samples\", \"showlegend\": false, \"type\": \"scatter3d\", \"x\": [-1.608169583290394], \"y\": [-2.1863995411328263], \"z\": [-2.243803012204535]}, {\"legendgroup\": \"Positive Samples\", \"marker\": {\"color\": \"blue\", \"line\": {\"width\": 0}, \"size\": 2}, \"mode\": \"markers\", \"name\": \"Positive Samples\", \"showlegend\": false, \"type\": \"scatter3d\", \"x\": [-1.7225654661443077], \"y\": [-0.8964459786387888], \"z\": [-2.695887307645588]}, {\"legendgroup\": \"Negative Samples\", \"marker\": {\"color\": \"red\", \"line\": {\"width\": 0}, \"size\": 2}, \"mode\": \"markers\", \"name\": \"Negative Samples\", \"showlegend\": false, \"type\": \"scatter3d\", \"x\": [-0.771705714476493], \"y\": [-9.265359357178491], \"z\": [-0.8653628285493147]}, {\"legendgroup\": \"Positive Samples\", \"marker\": {\"color\": \"blue\", \"line\": {\"width\": 0}, \"size\": 2}, \"mode\": \"markers\", \"name\": \"Positive Samples\", \"showlegend\": false, \"type\": \"scatter3d\", \"x\": [-0.67133173316653], \"y\": [-0.6318620134069913], \"z\": [-2.6349332327557478]}, {\"legendgroup\": \"Positive Samples\", \"marker\": {\"color\": \"blue\", \"line\": {\"width\": 0}, \"size\": 2}, \"mode\": \"markers\", \"name\": \"Positive Samples\", \"showlegend\": false, \"type\": \"scatter3d\", \"x\": [-1.59821873248412], \"y\": [-1.752368088371606], \"z\": [-2.8443570200998987]}, {\"legendgroup\": \"Negative Samples\", \"marker\": {\"color\": \"red\", \"line\": {\"width\": 0}, \"size\": 2}, \"mode\": \"markers\", \"name\": \"Negative Samples\", \"showlegend\": false, \"type\": \"scatter3d\", \"x\": [-1.876261656966392], \"y\": [-9.500605859963326], \"z\": [2.1682507770744737]}, {\"legendgroup\": \"Negative Samples\", \"marker\": {\"color\": \"red\", \"line\": {\"width\": 0}, \"size\": 2}, \"mode\": \"markers\", \"name\": \"Negative Samples\", \"showlegend\": false, \"type\": \"scatter3d\", \"x\": [1.3051929109046245], \"y\": [-7.646142640577349], \"z\": [1.4339394299892925]}, {\"legendgroup\": \"Positive Samples\", \"marker\": {\"color\": \"blue\", \"line\": {\"width\": 0}, \"size\": 2}, \"mode\": \"markers\", \"name\": \"Positive Samples\", \"showlegend\": false, \"type\": \"scatter3d\", \"x\": [-0.5586674798935111], \"y\": [-2.6540097021810576], \"z\": [-3.501820403841502]}, {\"legendgroup\": \"Positive Samples\", \"marker\": {\"color\": \"blue\", \"line\": {\"width\": 0}, \"size\": 2}, \"mode\": \"markers\", \"name\": \"Positive Samples\", \"showlegend\": false, \"type\": \"scatter3d\", \"x\": [-0.5370500045819107], \"y\": [-1.3512043294085272], \"z\": [-2.8958779309977802]}, {\"legendgroup\": \"Positive Samples\", \"marker\": {\"color\": \"blue\", \"line\": {\"width\": 0}, \"size\": 2}, \"mode\": \"markers\", \"name\": \"Positive Samples\", \"showlegend\": false, \"type\": \"scatter3d\", \"x\": [-2.4278706306650815], \"y\": [-2.3000648458140063], \"z\": [-4.614732745018286]}, {\"legendgroup\": \"Negative Samples\", \"marker\": {\"color\": \"red\", \"line\": {\"width\": 0}, \"size\": 2}, \"mode\": \"markers\", \"name\": \"Negative Samples\", \"showlegend\": false, \"type\": \"scatter3d\", \"x\": [-2.189109572086774], \"y\": [-8.930021318895749], \"z\": [3.2854575703891404]}, {\"legendgroup\": \"Negative Samples\", \"marker\": {\"color\": \"red\", \"line\": {\"width\": 0}, \"size\": 2}, \"mode\": \"markers\", \"name\": \"Negative Samples\", \"showlegend\": false, \"type\": \"scatter3d\", \"x\": [-1.2385625641615214], \"y\": [-10.599400808555691], \"z\": [1.5323078781549717]}, {\"legendgroup\": \"D = -1.67 (max-)\", \"marker\": {\"color\": \"red\", \"line\": {\"width\": 0}, \"size\": 5, \"symbol\": \"diamond\"}, \"mode\": \"markers\", \"name\": \"D = -1.67 (max-)\", \"showlegend\": true, \"type\": \"scatter3d\", \"x\": [-1.5491589173759384], \"y\": [-7.250108574555569], \"z\": [-1.4415180189468613]}, {\"legendgroup\": \"D = -1.67 (max-)\", \"line\": {\"width\": 6}, \"marker\": {\"color\": \"red\", \"size\": 1}, \"name\": \"D = -1.67 (max-)\", \"opacity\": 0.4, \"showlegend\": false, \"type\": \"scatter3d\", \"x\": [-1.5491589173759384, -1.7706314232997953], \"y\": [-7.250108574555569, -6.683717672552978], \"z\": [-1.4415180189468613, -2.5095302351169506]}, {\"legendgroup\": \"D = -1.67 (max-)\", \"line\": {\"width\": 6}, \"marker\": {\"color\": \"red\", \"size\": 1}, \"name\": \"D = -1.67 (max-)\", \"opacity\": 0.4, \"showlegend\": false, \"type\": \"scatter3d\", \"x\": [-1.5491589173759384, 0.32604950846685066], \"y\": [-7.250108574555569, -0.8338347662058428], \"z\": [-1.4415180189468613, 1.5723164221502544]}, {\"legendgroup\": \"Positive Samples\", \"marker\": {\"color\": \"blue\", \"line\": {\"width\": 0}, \"size\": 2}, \"mode\": \"markers\", \"name\": \"Positive Samples\", \"showlegend\": false, \"type\": \"scatter3d\", \"x\": [-1.6580312392471215], \"y\": [-2.4686234359156143], \"z\": [-2.9967834212358087]}, {\"legendgroup\": \"Negative Samples\", \"marker\": {\"color\": \"red\", \"line\": {\"width\": 0}, \"size\": 2}, \"mode\": \"markers\", \"name\": \"Negative Samples\", \"showlegend\": false, \"type\": \"scatter3d\", \"x\": [-0.777220540001882], \"y\": [-10.726763450049406], \"z\": [-0.06470266128815605]}, {\"legendgroup\": \"Positive Samples\", \"marker\": {\"color\": \"blue\", \"line\": {\"width\": 0}, \"size\": 2}, \"mode\": \"markers\", \"name\": \"Positive Samples\", \"showlegend\": false, \"type\": \"scatter3d\", \"x\": [-0.2077457436123662], \"y\": [-0.6904645628096294], \"z\": [-3.0030071301117554]}, {\"legendgroup\": \"Negative Samples\", \"marker\": {\"color\": \"red\", \"line\": {\"width\": 0}, \"size\": 2}, \"mode\": \"markers\", \"name\": \"Negative Samples\", \"showlegend\": false, \"type\": \"scatter3d\", \"x\": [-2.208993881683744], \"y\": [-6.931037127562513], \"z\": [-0.4799236902257027]}, {\"legendgroup\": \"Negative Samples\", \"marker\": {\"color\": \"red\", \"line\": {\"width\": 0}, \"size\": 2}, \"mode\": \"markers\", \"name\": \"Negative Samples\", \"showlegend\": false, \"type\": \"scatter3d\", \"x\": [-2.1092372461747035], \"y\": [-9.393765145033843], \"z\": [1.993615444124878]}, {\"legendgroup\": \"Positive Samples\", \"marker\": {\"color\": \"blue\", \"line\": {\"width\": 0}, \"size\": 2}, \"mode\": \"markers\", \"name\": \"Positive Samples\", \"showlegend\": false, \"type\": \"scatter3d\", \"x\": [-0.3180427354058979], \"y\": [-1.4010703116424414], \"z\": [-4.0555125917167665]}, {\"legendgroup\": \"Positive Samples\", \"marker\": {\"color\": \"blue\", \"line\": {\"width\": 0}, \"size\": 2}, \"mode\": \"markers\", \"name\": \"Positive Samples\", \"showlegend\": false, \"type\": \"scatter3d\", \"x\": [-1.7618984071926949], \"y\": [-2.8473642653630744], \"z\": [-3.268479933536673]}, {\"legendgroup\": \"Negative Samples\", \"marker\": {\"color\": \"red\", \"line\": {\"width\": 0}, \"size\": 2}, \"mode\": \"markers\", \"name\": \"Negative Samples\", \"showlegend\": false, \"type\": \"scatter3d\", \"x\": [-1.6994184393126137], \"y\": [-9.613804261878917], \"z\": [0.9536793178805771]}, {\"legendgroup\": \"Negative Samples\", \"marker\": {\"color\": \"red\", \"line\": {\"width\": 0}, \"size\": 2}, \"mode\": \"markers\", \"name\": \"Negative Samples\", \"showlegend\": false, \"type\": \"scatter3d\", \"x\": [-0.8996299869449244], \"y\": [-9.698610632187053], \"z\": [2.1667810560691363]}, {\"legendgroup\": \"D = -8.68 (min-)\", \"marker\": {\"color\": \"red\", \"line\": {\"width\": 0}, \"size\": 5, \"symbol\": \"square\"}, \"mode\": \"markers\", \"name\": \"D = -8.68 (min-)\", \"showlegend\": true, \"type\": \"scatter3d\", \"x\": [0.1265942845014456], \"y\": [-11.219434867826742], \"z\": [2.0340735109649115]}, {\"legendgroup\": \"D = -8.68 (min-)\", \"line\": {\"width\": 6}, \"marker\": {\"color\": \"red\", \"size\": 1}, \"name\": \"D = -8.68 (min-)\", \"opacity\": 0.4, \"showlegend\": false, \"type\": \"scatter3d\", \"x\": [0.1265942845014456, -1.0231863843990598], \"y\": [-11.219434867826742, -8.279000760906063], \"z\": [2.0340735109649115, -3.510541587778504]}, {\"legendgroup\": \"D = -8.68 (min-)\", \"line\": {\"width\": 6}, \"marker\": {\"color\": \"red\", \"size\": 1}, \"name\": \"D = -8.68 (min-)\", \"opacity\": 0.4, \"showlegend\": false, \"type\": \"scatter3d\", \"x\": [0.1265942845014456, 1.2543576714434996], \"y\": [-11.219434867826742, -3.2078779711239314], \"z\": [2.0340735109649115, 6.048919304723581]}, {\"legendgroup\": \"Positive Samples\", \"marker\": {\"color\": \"blue\", \"line\": {\"width\": 0}, \"size\": 2}, \"mode\": \"markers\", \"name\": \"Positive Samples\", \"showlegend\": false, \"type\": \"scatter3d\", \"x\": [-3.2793979214271083], \"y\": [-1.2275904418093788], \"z\": [-2.6192215465178186]}, {\"legendgroup\": \"Negative Samples\", \"marker\": {\"color\": \"red\", \"line\": {\"width\": 0}, \"size\": 2}, \"mode\": \"markers\", \"name\": \"Negative Samples\", \"showlegend\": false, \"type\": \"scatter3d\", \"x\": [-0.5448223810947223], \"y\": [-10.13472563123421], \"z\": [1.835705839145523]}, {\"legendgroup\": \"Negative Samples\", \"marker\": {\"color\": \"red\", \"line\": {\"width\": 0}, \"size\": 2}, \"mode\": \"markers\", \"name\": \"Negative Samples\", \"showlegend\": false, \"type\": \"scatter3d\", \"x\": [-1.9993557985866022], \"y\": [-10.064889958021181], \"z\": [0.6681999291923968]}, {\"legendgroup\": \"Positive Samples\", \"marker\": {\"color\": \"blue\", \"line\": {\"width\": 0}, \"size\": 2}, \"mode\": \"markers\", \"name\": \"Positive Samples\", \"showlegend\": false, \"type\": \"scatter3d\", \"x\": [-0.6920363339672632], \"y\": [-1.58898446753575], \"z\": [-3.6215511381165517]}, {\"legendgroup\": \"Positive Samples\", \"marker\": {\"color\": \"blue\", \"line\": {\"width\": 0}, \"size\": 2}, \"mode\": \"markers\", \"name\": \"Positive Samples\", \"showlegend\": false, \"type\": \"scatter3d\", \"x\": [-0.2605230817068416], \"y\": [-1.9216463929509258], \"z\": [-4.544306524063666]}, {\"legendgroup\": \"Positive Samples\", \"marker\": {\"color\": \"blue\", \"line\": {\"width\": 0}, \"size\": 2}, \"mode\": \"markers\", \"name\": \"Positive Samples\", \"showlegend\": false, \"type\": \"scatter3d\", \"x\": [-1.7200746184897326], \"y\": [-1.7407911494275212], \"z\": [-1.8918666646659397]}, {\"legendgroup\": \"Positive Samples\", \"marker\": {\"color\": \"blue\", \"line\": {\"width\": 0}, \"size\": 2}, \"mode\": \"markers\", \"name\": \"Positive Samples\", \"showlegend\": false, \"type\": \"scatter3d\", \"x\": [-0.5415872984195823], \"y\": [-2.5864049413688104], \"z\": [-2.2841602985608693]}, {\"legendgroup\": \"Positive Samples\", \"marker\": {\"color\": \"blue\", \"line\": {\"width\": 0}, \"size\": 2}, \"mode\": \"markers\", \"name\": \"Positive Samples\", \"showlegend\": false, \"type\": \"scatter3d\", \"x\": [-3.1439561214259393], \"y\": [-1.2621558942512991], \"z\": [-3.7089967902252914]}, {\"legendgroup\": \"Positive Samples\", \"marker\": {\"color\": \"blue\", \"line\": {\"width\": 0}, \"size\": 2}, \"mode\": \"markers\", \"name\": \"Positive Samples\", \"showlegend\": false, \"type\": \"scatter3d\", \"x\": [1.9861932534769364], \"y\": [-0.6217826382099462], \"z\": [-1.6007107275242336]}, {\"legendgroup\": \"Negative Samples\", \"marker\": {\"color\": \"red\", \"line\": {\"width\": 0}, \"size\": 2}, \"mode\": \"markers\", \"name\": \"Negative Samples\", \"showlegend\": false, \"type\": \"scatter3d\", \"x\": [-0.7782447503786115], \"y\": [-10.325689067272036], \"z\": [0.993259319045779]}, {\"legendgroup\": \"Positive Samples\", \"marker\": {\"color\": \"blue\", \"line\": {\"width\": 0}, \"size\": 2}, \"mode\": \"markers\", \"name\": \"Positive Samples\", \"showlegend\": false, \"type\": \"scatter3d\", \"x\": [-2.354351183964895], \"y\": [-1.0009774375225404], \"z\": [-3.576560153702099]}, {\"legendgroup\": \"Positive Samples\", \"marker\": {\"color\": \"blue\", \"line\": {\"width\": 0}, \"size\": 2}, \"mode\": \"markers\", \"name\": \"Positive Samples\", \"showlegend\": false, \"type\": \"scatter3d\", \"x\": [0.5324423095002062], \"y\": [-3.306711369346252], \"z\": [-3.4699431439198865]}, {\"legendgroup\": \"Positive Samples\", \"marker\": {\"color\": \"blue\", \"line\": {\"width\": 0}, \"size\": 2}, \"mode\": \"markers\", \"name\": \"Positive Samples\", \"showlegend\": false, \"type\": \"scatter3d\", \"x\": [-0.7956119992676421], \"y\": [-1.4661397829437133], \"z\": [-4.812114131071052]}, {\"legendgroup\": \"Negative Samples\", \"marker\": {\"color\": \"red\", \"line\": {\"width\": 0}, \"size\": 2}, \"mode\": \"markers\", \"name\": \"Negative Samples\", \"showlegend\": false, \"type\": \"scatter3d\", \"x\": [-1.9577775344879664], \"y\": [-10.920914390180792], \"z\": [1.5175459875845316]}, {\"legendgroup\": \"Negative Samples\", \"marker\": {\"color\": \"red\", \"line\": {\"width\": 0}, \"size\": 2}, \"mode\": \"markers\", \"name\": \"Negative Samples\", \"showlegend\": false, \"type\": \"scatter3d\", \"x\": [-0.846605627083354], \"y\": [-8.203096133170305], \"z\": [0.35857025239482054]}, {\"legendgroup\": \"Negative Samples\", \"marker\": {\"color\": \"red\", \"line\": {\"width\": 0}, \"size\": 2}, \"mode\": \"markers\", \"name\": \"Negative Samples\", \"showlegend\": false, \"type\": \"scatter3d\", \"x\": [-0.9540985237729442], \"y\": [-11.521798412170888], \"z\": [1.0395050807158799]}, {\"legendgroup\": \"Negative Samples\", \"marker\": {\"color\": \"red\", \"line\": {\"width\": 0}, \"size\": 2}, \"mode\": \"markers\", \"name\": \"Negative Samples\", \"showlegend\": false, \"type\": \"scatter3d\", \"x\": [-1.167375452343276], \"y\": [-9.11103082677894], \"z\": [2.352883420246779]}, {\"legendgroup\": \"Negative Samples\", \"marker\": {\"color\": \"red\", \"line\": {\"width\": 0}, \"size\": 2}, \"mode\": \"markers\", \"name\": \"Negative Samples\", \"showlegend\": false, \"type\": \"scatter3d\", \"x\": [-1.6189239231891213], \"y\": [-9.717659394294776], \"z\": [0.35559454508988164]}, {\"legendgroup\": \"Positive Samples\", \"marker\": {\"color\": \"blue\", \"line\": {\"width\": 0}, \"size\": 2}, \"mode\": \"markers\", \"name\": \"Positive Samples\", \"showlegend\": false, \"type\": \"scatter3d\", \"x\": [2.815140476170738], \"y\": [-0.7715230809383078], \"z\": [-1.8615432636055613]}, {\"legendgroup\": \"Negative Samples\", \"marker\": {\"color\": \"red\", \"line\": {\"width\": 0}, \"size\": 2}, \"mode\": \"markers\", \"name\": \"Negative Samples\", \"showlegend\": false, \"type\": \"scatter3d\", \"x\": [-2.467714243545209], \"y\": [-10.9026925907463], \"z\": [0.8397543618972337]}, {\"legendgroup\": \"Positive Samples\", \"marker\": {\"color\": \"blue\", \"line\": {\"width\": 0}, \"size\": 2}, \"mode\": \"markers\", \"name\": \"Positive Samples\", \"showlegend\": false, \"type\": \"scatter3d\", \"x\": [-2.6111194173885], \"y\": [-3.6182375500848063], \"z\": [-3.4755489549556478]}, {\"legendgroup\": \"Positive Samples\", \"marker\": {\"color\": \"blue\", \"line\": {\"width\": 0}, \"size\": 2}, \"mode\": \"markers\", \"name\": \"Positive Samples\", \"showlegend\": false, \"type\": \"scatter3d\", \"x\": [-2.632141027502986], \"y\": [-0.4598978823168711], \"z\": [-3.0229987371752776]}, {\"legendgroup\": \"Positive Samples\", \"marker\": {\"color\": \"blue\", \"line\": {\"width\": 0}, \"size\": 2}, \"mode\": \"markers\", \"name\": \"Positive Samples\", \"showlegend\": false, \"type\": \"scatter3d\", \"x\": [-0.27369741826522564], \"y\": [-3.07510943607289], \"z\": [-2.5469916880804377]}, {\"legendgroup\": \"Negative Samples\", \"marker\": {\"color\": \"red\", \"line\": {\"width\": 0}, \"size\": 2}, \"mode\": \"markers\", \"name\": \"Negative Samples\", \"showlegend\": false, \"type\": \"scatter3d\", \"x\": [-0.8562772492940441], \"y\": [-8.682295368407159], \"z\": [2.255863220899003]}, {\"legendgroup\": \"Positive Samples\", \"marker\": {\"color\": \"blue\", \"line\": {\"width\": 0}, \"size\": 2}, \"mode\": \"markers\", \"name\": \"Positive Samples\", \"showlegend\": false, \"type\": \"scatter3d\", \"x\": [0.5109244939452628], \"y\": [-1.4122341513386731], \"z\": [-2.8401393057647053]}, {\"legendgroup\": \"Positive Samples\", \"marker\": {\"color\": \"blue\", \"line\": {\"width\": 0}, \"size\": 2}, \"mode\": \"markers\", \"name\": \"Positive Samples\", \"showlegend\": false, \"type\": \"scatter3d\", \"x\": [-3.3631644102999134], \"y\": [-0.982499871843562], \"z\": [-2.9698066794796447]}, {\"legendgroup\": \"Negative Samples\", \"marker\": {\"color\": \"red\", \"line\": {\"width\": 0}, \"size\": 2}, \"mode\": \"markers\", \"name\": \"Negative Samples\", \"showlegend\": false, \"type\": \"scatter3d\", \"x\": [-3.6237051481598868], \"y\": [-8.3199538727014], \"z\": [1.3793276051777774]}, {\"legendgroup\": \"Negative Samples\", \"marker\": {\"color\": \"red\", \"line\": {\"width\": 0}, \"size\": 2}, \"mode\": \"markers\", \"name\": \"Negative Samples\", \"showlegend\": false, \"type\": \"scatter3d\", \"x\": [-0.8982357230332279], \"y\": [-8.915199921999717], \"z\": [1.197457536488295]}, {\"legendgroup\": \"Negative Samples\", \"marker\": {\"color\": \"red\", \"line\": {\"width\": 0}, \"size\": 2}, \"mode\": \"markers\", \"name\": \"Negative Samples\", \"showlegend\": false, \"type\": \"scatter3d\", \"x\": [-1.6839942264978642], \"y\": [-10.865994029978038], \"z\": [2.3604849815013074]}, {\"legendgroup\": \"Positive Samples\", \"marker\": {\"color\": \"blue\", \"line\": {\"width\": 0}, \"size\": 2}, \"mode\": \"markers\", \"name\": \"Positive Samples\", \"showlegend\": false, \"type\": \"scatter3d\", \"x\": [-0.17566541418362114], \"y\": [-1.8668860471137454], \"z\": [-1.6514913914502833]}, {\"legendgroup\": \"Negative Samples\", \"marker\": {\"color\": \"red\", \"line\": {\"width\": 0}, \"size\": 2}, \"mode\": \"markers\", \"name\": \"Negative Samples\", \"showlegend\": false, \"type\": \"scatter3d\", \"x\": [-0.5849823521129334], \"y\": [-11.514941909564786], \"z\": [0.8037802928618021]}, {\"legendgroup\": \"Negative Samples\", \"marker\": {\"color\": \"red\", \"line\": {\"width\": 0}, \"size\": 2}, \"mode\": \"markers\", \"name\": \"Negative Samples\", \"showlegend\": false, \"type\": \"scatter3d\", \"x\": [-2.3015166876819912], \"y\": [-9.049079662462567], \"z\": [0.669669487497659]}, {\"legendgroup\": \"Negative Samples\", \"marker\": {\"color\": \"red\", \"line\": {\"width\": 0}, \"size\": 2}, \"mode\": \"markers\", \"name\": \"Negative Samples\", \"showlegend\": false, \"type\": \"scatter3d\", \"x\": [-0.062216324103634424], \"y\": [-9.943480711595555], \"z\": [1.3441380516619292]}, {\"legendgroup\": \"Positive Samples\", \"marker\": {\"color\": \"blue\", \"line\": {\"width\": 0}, \"size\": 2}, \"mode\": \"markers\", \"name\": \"Positive Samples\", \"showlegend\": false, \"type\": \"scatter3d\", \"x\": [-0.7791814301690143], \"y\": [-0.7631855276368256], \"z\": [-2.7626816126453972]}, {\"legendgroup\": \"Positive Samples\", \"marker\": {\"color\": \"blue\", \"line\": {\"width\": 0}, \"size\": 2}, \"mode\": \"markers\", \"name\": \"Positive Samples\", \"showlegend\": false, \"type\": \"scatter3d\", \"x\": [-1.7410530238271087], \"y\": [-2.848071176596078], \"z\": [-2.4551399086483734]}, {\"legendgroup\": \"Positive Samples\", \"marker\": {\"color\": \"blue\", \"line\": {\"width\": 0}, \"size\": 2}, \"mode\": \"markers\", \"name\": \"Positive Samples\", \"showlegend\": false, \"type\": \"scatter3d\", \"x\": [-1.846501587197685], \"y\": [-1.2931171450700611], \"z\": [-2.8406398843183185]}, {\"legendgroup\": \"Negative Samples\", \"marker\": {\"color\": \"red\", \"line\": {\"width\": 0}, \"size\": 2}, \"mode\": \"markers\", \"name\": \"Negative Samples\", \"showlegend\": false, \"type\": \"scatter3d\", \"x\": [-1.661618438925011], \"y\": [-9.41498635429603], \"z\": [-0.10548938942187358]}, {\"legendgroup\": \"Positive Samples\", \"marker\": {\"color\": \"blue\", \"line\": {\"width\": 0}, \"size\": 2}, \"mode\": \"markers\", \"name\": \"Positive Samples\", \"showlegend\": false, \"type\": \"scatter3d\", \"x\": [-3.0584698759102187], \"y\": [-1.70706525528034], \"z\": [-3.891477773844276]}, {\"legendgroup\": \"Negative Samples\", \"marker\": {\"color\": \"red\", \"line\": {\"width\": 0}, \"size\": 2}, \"mode\": \"markers\", \"name\": \"Negative Samples\", \"showlegend\": false, \"type\": \"scatter3d\", \"x\": [-1.4365361275445485], \"y\": [-9.224904911440879], \"z\": [0.004470508804561124]}, {\"legendgroup\": \"Negative Samples\", \"marker\": {\"color\": \"red\", \"line\": {\"width\": 0}, \"size\": 2}, \"mode\": \"markers\", \"name\": \"Negative Samples\", \"showlegend\": false, \"type\": \"scatter3d\", \"x\": [0.3043850992357515], \"y\": [-12.140924819825662], \"z\": [0.9017969346835247]}, {\"legendgroup\": \"Negative Samples\", \"marker\": {\"color\": \"red\", \"line\": {\"width\": 0}, \"size\": 2}, \"mode\": \"markers\", \"name\": \"Negative Samples\", \"showlegend\": false, \"type\": \"scatter3d\", \"x\": [-3.1481926117236885], \"y\": [-7.750290697461706], \"z\": [2.4609275681475955]}, {\"legendgroup\": \"Negative Samples\", \"marker\": {\"color\": \"red\", \"line\": {\"width\": 0}, \"size\": 2}, \"mode\": \"markers\", \"name\": \"Negative Samples\", \"showlegend\": false, \"type\": \"scatter3d\", \"x\": [-2.0279729064537872], \"y\": [-9.472450112468849], \"z\": [0.11514166433384088]}, {\"legendgroup\": \"Negative Samples\", \"marker\": {\"color\": \"red\", \"line\": {\"width\": 0}, \"size\": 2}, \"mode\": \"markers\", \"name\": \"Negative Samples\", \"showlegend\": false, \"type\": \"scatter3d\", \"x\": [-2.413235230836907], \"y\": [-9.048382808785483], \"z\": [0.6891631187728673]}, {\"legendgroup\": \"Negative Samples\", \"marker\": {\"color\": \"red\", \"line\": {\"width\": 0}, \"size\": 2}, \"mode\": \"markers\", \"name\": \"Negative Samples\", \"showlegend\": false, \"type\": \"scatter3d\", \"x\": [-1.5562814494106627], \"y\": [-9.99835925717476], \"z\": [0.2946596076377942]}, {\"legendgroup\": \"Positive Samples\", \"marker\": {\"color\": \"blue\", \"line\": {\"width\": 0}, \"size\": 2}, \"mode\": \"markers\", \"name\": \"Positive Samples\", \"showlegend\": false, \"type\": \"scatter3d\", \"x\": [-1.1724465660561343], \"y\": [-2.439472710192113], \"z\": [-3.3328411309196055]}, {\"legendgroup\": \"Positive Samples\", \"marker\": {\"color\": \"blue\", \"line\": {\"width\": 0}, \"size\": 2}, \"mode\": \"markers\", \"name\": \"Positive Samples\", \"showlegend\": false, \"type\": \"scatter3d\", \"x\": [-1.545326266004287], \"y\": [-3.1393185695146357], \"z\": [-5.475955515667467]}, {\"legendgroup\": \"Negative Samples\", \"marker\": {\"color\": \"red\", \"line\": {\"width\": 0}, \"size\": 2}, \"mode\": \"markers\", \"name\": \"Negative Samples\", \"showlegend\": false, \"type\": \"scatter3d\", \"x\": [-1.357320622512882], \"y\": [-8.656772358005192], \"z\": [2.2414624781712167]}, {\"legendgroup\": \"Negative Samples\", \"marker\": {\"color\": \"red\", \"line\": {\"width\": 0}, \"size\": 2}, \"mode\": \"markers\", \"name\": \"Negative Samples\", \"showlegend\": false, \"type\": \"scatter3d\", \"x\": [-1.6611944746752747], \"y\": [-9.857144786521168], \"z\": [0.9187787946802018]}, {\"legendgroup\": \"Negative Samples\", \"marker\": {\"color\": \"red\", \"line\": {\"width\": 0}, \"size\": 2}, \"mode\": \"markers\", \"name\": \"Negative Samples\", \"showlegend\": false, \"type\": \"scatter3d\", \"x\": [-0.7377493850108957], \"y\": [-9.794983560435583], \"z\": [1.7642612956435944]}, {\"legendgroup\": \"Positive Samples\", \"marker\": {\"color\": \"blue\", \"line\": {\"width\": 0}, \"size\": 2}, \"mode\": \"markers\", \"name\": \"Positive Samples\", \"showlegend\": false, \"type\": \"scatter3d\", \"x\": [-2.7469164972912514], \"y\": [-1.9306617356064473], \"z\": [-3.034170248128713]}, {\"legendgroup\": \"Positive Samples\", \"marker\": {\"color\": \"blue\", \"line\": {\"width\": 0}, \"size\": 2}, \"mode\": \"markers\", \"name\": \"Positive Samples\", \"showlegend\": false, \"type\": \"scatter3d\", \"x\": [-0.423953950089518], \"y\": [-2.679734533092661], \"z\": [-2.7290821665268874]}, {\"legendgroup\": \"D = 7.05 (min+)\", \"marker\": {\"color\": \"blue\", \"line\": {\"width\": 0}, \"size\": 5, \"symbol\": \"x\"}, \"mode\": \"markers\", \"name\": \"D = 7.05 (min+)\", \"showlegend\": true, \"type\": \"scatter3d\", \"x\": [-2.317067132432493], \"y\": [-2.040818781594588], \"z\": [-5.8987617119969125]}, {\"legendgroup\": \"D = 7.05 (min+)\", \"line\": {\"width\": 6}, \"marker\": {\"color\": \"blue\", \"size\": 1}, \"name\": \"D = 7.05 (min+)\", \"opacity\": 0.4, \"showlegend\": false, \"type\": \"scatter3d\", \"x\": [-2.317067132432493, -1.3830173911340966], \"y\": [-2.040818781594588, -4.429545424129494], \"z\": [-5.8987617119969125, -1.3944710775640747]}, {\"legendgroup\": \"D = 7.05 (min+)\", \"line\": {\"width\": 6}, \"marker\": {\"color\": \"blue\", \"size\": 1}, \"name\": \"D = 7.05 (min+)\", \"opacity\": 0.4, \"showlegend\": false, \"type\": \"scatter3d\", \"x\": [-2.317067132432493, -0.8294727387554028], \"y\": [-2.040818781594588, 2.121282778331655], \"z\": [-5.8987617119969125, -3.999986428452673]}, {\"name\": \"Decision Hyperplane\", \"showlegend\": true, \"showscale\": false, \"type\": \"surface\", \"x\": [[-4.408385200649041, -4.147553383703282, -3.8867215667575215, -3.625889749811762, -3.3650579328660015, -3.104226115920242, -2.843394298974482, -2.582562482028722, -2.321730665082962, -2.060898848137202, -1.8000670311914422, -1.5392352142456822, -1.2784033972999227, -1.0175715803541627, -0.7567397634084028, -0.4959079464626428, -0.23507612951688284, 0.025755687428876683, 0.2865875043746371, 0.5474193213203966, 0.808251138266157, 1.0690829552119165, 1.329914772157677, 1.5907465891034365, 1.851578406049196, 2.1124102229949564, 2.373242039940716, 2.6340738568864763, 2.894905673832236, 3.1557374907779963], [-4.408385200649041, -4.147553383703282, -3.8867215667575215, -3.625889749811762, -3.3650579328660015, -3.104226115920242, -2.843394298974482, -2.582562482028722, -2.321730665082962, -2.060898848137202, -1.8000670311914422, -1.5392352142456822, -1.2784033972999227, -1.0175715803541627, -0.7567397634084028, -0.4959079464626428, -0.23507612951688284, 0.025755687428876683, 0.2865875043746371, 0.5474193213203966, 0.808251138266157, 1.0690829552119165, 1.329914772157677, 1.5907465891034365, 1.851578406049196, 2.1124102229949564, 2.373242039940716, 2.6340738568864763, 2.894905673832236, 3.1557374907779963], [-4.408385200649041, -4.147553383703282, -3.8867215667575215, -3.625889749811762, -3.3650579328660015, -3.104226115920242, -2.843394298974482, -2.582562482028722, -2.321730665082962, -2.060898848137202, -1.8000670311914422, -1.5392352142456822, -1.2784033972999227, -1.0175715803541627, -0.7567397634084028, -0.4959079464626428, -0.23507612951688284, 0.025755687428876683, 0.2865875043746371, 0.5474193213203966, 0.808251138266157, 1.0690829552119165, 1.329914772157677, 1.5907465891034365, 1.851578406049196, 2.1124102229949564, 2.373242039940716, 2.6340738568864763, 2.894905673832236, 3.1557374907779963], [-4.408385200649041, -4.147553383703282, -3.8867215667575215, -3.625889749811762, -3.3650579328660015, -3.104226115920242, -2.843394298974482, -2.582562482028722, -2.321730665082962, -2.060898848137202, -1.8000670311914422, -1.5392352142456822, -1.2784033972999227, -1.0175715803541627, -0.7567397634084028, -0.4959079464626428, -0.23507612951688284, 0.025755687428876683, 0.2865875043746371, 0.5474193213203966, 0.808251138266157, 1.0690829552119165, 1.329914772157677, 1.5907465891034365, 1.851578406049196, 2.1124102229949564, 2.373242039940716, 2.6340738568864763, 2.894905673832236, 3.1557374907779963], [-4.408385200649041, -4.147553383703282, -3.8867215667575215, -3.625889749811762, -3.3650579328660015, -3.104226115920242, -2.843394298974482, -2.582562482028722, -2.321730665082962, -2.060898848137202, -1.8000670311914422, -1.5392352142456822, -1.2784033972999227, -1.0175715803541627, -0.7567397634084028, -0.4959079464626428, -0.23507612951688284, 0.025755687428876683, 0.2865875043746371, 0.5474193213203966, 0.808251138266157, 1.0690829552119165, 1.329914772157677, 1.5907465891034365, 1.851578406049196, 2.1124102229949564, 2.373242039940716, 2.6340738568864763, 2.894905673832236, 3.1557374907779963], [-4.408385200649041, -4.147553383703282, -3.8867215667575215, -3.625889749811762, -3.3650579328660015, -3.104226115920242, -2.843394298974482, -2.582562482028722, -2.321730665082962, -2.060898848137202, -1.8000670311914422, -1.5392352142456822, -1.2784033972999227, -1.0175715803541627, -0.7567397634084028, -0.4959079464626428, -0.23507612951688284, 0.025755687428876683, 0.2865875043746371, 0.5474193213203966, 0.808251138266157, 1.0690829552119165, 1.329914772157677, 1.5907465891034365, 1.851578406049196, 2.1124102229949564, 2.373242039940716, 2.6340738568864763, 2.894905673832236, 3.1557374907779963], [-4.408385200649041, -4.147553383703282, -3.8867215667575215, -3.625889749811762, -3.3650579328660015, -3.104226115920242, -2.843394298974482, -2.582562482028722, -2.321730665082962, -2.060898848137202, -1.8000670311914422, -1.5392352142456822, -1.2784033972999227, -1.0175715803541627, -0.7567397634084028, -0.4959079464626428, -0.23507612951688284, 0.025755687428876683, 0.2865875043746371, 0.5474193213203966, 0.808251138266157, 1.0690829552119165, 1.329914772157677, 1.5907465891034365, 1.851578406049196, 2.1124102229949564, 2.373242039940716, 2.6340738568864763, 2.894905673832236, 3.1557374907779963], [-4.408385200649041, -4.147553383703282, -3.8867215667575215, -3.625889749811762, -3.3650579328660015, -3.104226115920242, -2.843394298974482, -2.582562482028722, -2.321730665082962, -2.060898848137202, -1.8000670311914422, -1.5392352142456822, -1.2784033972999227, -1.0175715803541627, -0.7567397634084028, -0.4959079464626428, -0.23507612951688284, 0.025755687428876683, 0.2865875043746371, 0.5474193213203966, 0.808251138266157, 1.0690829552119165, 1.329914772157677, 1.5907465891034365, 1.851578406049196, 2.1124102229949564, 2.373242039940716, 2.6340738568864763, 2.894905673832236, 3.1557374907779963], [-4.408385200649041, -4.147553383703282, -3.8867215667575215, -3.625889749811762, -3.3650579328660015, -3.104226115920242, -2.843394298974482, -2.582562482028722, -2.321730665082962, -2.060898848137202, -1.8000670311914422, -1.5392352142456822, -1.2784033972999227, -1.0175715803541627, -0.7567397634084028, -0.4959079464626428, -0.23507612951688284, 0.025755687428876683, 0.2865875043746371, 0.5474193213203966, 0.808251138266157, 1.0690829552119165, 1.329914772157677, 1.5907465891034365, 1.851578406049196, 2.1124102229949564, 2.373242039940716, 2.6340738568864763, 2.894905673832236, 3.1557374907779963], [-4.408385200649041, -4.147553383703282, -3.8867215667575215, -3.625889749811762, -3.3650579328660015, -3.104226115920242, -2.843394298974482, -2.582562482028722, -2.321730665082962, -2.060898848137202, -1.8000670311914422, -1.5392352142456822, -1.2784033972999227, -1.0175715803541627, -0.7567397634084028, -0.4959079464626428, -0.23507612951688284, 0.025755687428876683, 0.2865875043746371, 0.5474193213203966, 0.808251138266157, 1.0690829552119165, 1.329914772157677, 1.5907465891034365, 1.851578406049196, 2.1124102229949564, 2.373242039940716, 2.6340738568864763, 2.894905673832236, 3.1557374907779963], [-4.408385200649041, -4.147553383703282, -3.8867215667575215, -3.625889749811762, -3.3650579328660015, -3.104226115920242, -2.843394298974482, -2.582562482028722, -2.321730665082962, -2.060898848137202, -1.8000670311914422, -1.5392352142456822, -1.2784033972999227, -1.0175715803541627, -0.7567397634084028, -0.4959079464626428, -0.23507612951688284, 0.025755687428876683, 0.2865875043746371, 0.5474193213203966, 0.808251138266157, 1.0690829552119165, 1.329914772157677, 1.5907465891034365, 1.851578406049196, 2.1124102229949564, 2.373242039940716, 2.6340738568864763, 2.894905673832236, 3.1557374907779963], [-4.408385200649041, -4.147553383703282, -3.8867215667575215, -3.625889749811762, -3.3650579328660015, -3.104226115920242, -2.843394298974482, -2.582562482028722, -2.321730665082962, -2.060898848137202, -1.8000670311914422, -1.5392352142456822, -1.2784033972999227, -1.0175715803541627, -0.7567397634084028, -0.4959079464626428, -0.23507612951688284, 0.025755687428876683, 0.2865875043746371, 0.5474193213203966, 0.808251138266157, 1.0690829552119165, 1.329914772157677, 1.5907465891034365, 1.851578406049196, 2.1124102229949564, 2.373242039940716, 2.6340738568864763, 2.894905673832236, 3.1557374907779963], [-4.408385200649041, -4.147553383703282, -3.8867215667575215, -3.625889749811762, -3.3650579328660015, -3.104226115920242, -2.843394298974482, -2.582562482028722, -2.321730665082962, -2.060898848137202, -1.8000670311914422, -1.5392352142456822, -1.2784033972999227, -1.0175715803541627, -0.7567397634084028, -0.4959079464626428, -0.23507612951688284, 0.025755687428876683, 0.2865875043746371, 0.5474193213203966, 0.808251138266157, 1.0690829552119165, 1.329914772157677, 1.5907465891034365, 1.851578406049196, 2.1124102229949564, 2.373242039940716, 2.6340738568864763, 2.894905673832236, 3.1557374907779963], [-4.408385200649041, -4.147553383703282, -3.8867215667575215, -3.625889749811762, -3.3650579328660015, -3.104226115920242, -2.843394298974482, -2.582562482028722, -2.321730665082962, -2.060898848137202, -1.8000670311914422, -1.5392352142456822, -1.2784033972999227, -1.0175715803541627, -0.7567397634084028, -0.4959079464626428, -0.23507612951688284, 0.025755687428876683, 0.2865875043746371, 0.5474193213203966, 0.808251138266157, 1.0690829552119165, 1.329914772157677, 1.5907465891034365, 1.851578406049196, 2.1124102229949564, 2.373242039940716, 2.6340738568864763, 2.894905673832236, 3.1557374907779963], [-4.408385200649041, -4.147553383703282, -3.8867215667575215, -3.625889749811762, -3.3650579328660015, -3.104226115920242, -2.843394298974482, -2.582562482028722, -2.321730665082962, -2.060898848137202, -1.8000670311914422, -1.5392352142456822, -1.2784033972999227, -1.0175715803541627, -0.7567397634084028, -0.4959079464626428, -0.23507612951688284, 0.025755687428876683, 0.2865875043746371, 0.5474193213203966, 0.808251138266157, 1.0690829552119165, 1.329914772157677, 1.5907465891034365, 1.851578406049196, 2.1124102229949564, 2.373242039940716, 2.6340738568864763, 2.894905673832236, 3.1557374907779963], [-4.408385200649041, -4.147553383703282, -3.8867215667575215, -3.625889749811762, -3.3650579328660015, -3.104226115920242, -2.843394298974482, -2.582562482028722, -2.321730665082962, -2.060898848137202, -1.8000670311914422, -1.5392352142456822, -1.2784033972999227, -1.0175715803541627, -0.7567397634084028, -0.4959079464626428, -0.23507612951688284, 0.025755687428876683, 0.2865875043746371, 0.5474193213203966, 0.808251138266157, 1.0690829552119165, 1.329914772157677, 1.5907465891034365, 1.851578406049196, 2.1124102229949564, 2.373242039940716, 2.6340738568864763, 2.894905673832236, 3.1557374907779963], [-4.408385200649041, -4.147553383703282, -3.8867215667575215, -3.625889749811762, -3.3650579328660015, -3.104226115920242, -2.843394298974482, -2.582562482028722, -2.321730665082962, -2.060898848137202, -1.8000670311914422, -1.5392352142456822, -1.2784033972999227, -1.0175715803541627, -0.7567397634084028, -0.4959079464626428, -0.23507612951688284, 0.025755687428876683, 0.2865875043746371, 0.5474193213203966, 0.808251138266157, 1.0690829552119165, 1.329914772157677, 1.5907465891034365, 1.851578406049196, 2.1124102229949564, 2.373242039940716, 2.6340738568864763, 2.894905673832236, 3.1557374907779963], [-4.408385200649041, -4.147553383703282, -3.8867215667575215, -3.625889749811762, -3.3650579328660015, -3.104226115920242, -2.843394298974482, -2.582562482028722, -2.321730665082962, -2.060898848137202, -1.8000670311914422, -1.5392352142456822, -1.2784033972999227, -1.0175715803541627, -0.7567397634084028, -0.4959079464626428, -0.23507612951688284, 0.025755687428876683, 0.2865875043746371, 0.5474193213203966, 0.808251138266157, 1.0690829552119165, 1.329914772157677, 1.5907465891034365, 1.851578406049196, 2.1124102229949564, 2.373242039940716, 2.6340738568864763, 2.894905673832236, 3.1557374907779963], [-4.408385200649041, -4.147553383703282, -3.8867215667575215, -3.625889749811762, -3.3650579328660015, -3.104226115920242, -2.843394298974482, -2.582562482028722, -2.321730665082962, -2.060898848137202, -1.8000670311914422, -1.5392352142456822, -1.2784033972999227, -1.0175715803541627, -0.7567397634084028, -0.4959079464626428, -0.23507612951688284, 0.025755687428876683, 0.2865875043746371, 0.5474193213203966, 0.808251138266157, 1.0690829552119165, 1.329914772157677, 1.5907465891034365, 1.851578406049196, 2.1124102229949564, 2.373242039940716, 2.6340738568864763, 2.894905673832236, 3.1557374907779963], [-4.408385200649041, -4.147553383703282, -3.8867215667575215, -3.625889749811762, -3.3650579328660015, -3.104226115920242, -2.843394298974482, -2.582562482028722, -2.321730665082962, -2.060898848137202, -1.8000670311914422, -1.5392352142456822, -1.2784033972999227, -1.0175715803541627, -0.7567397634084028, -0.4959079464626428, -0.23507612951688284, 0.025755687428876683, 0.2865875043746371, 0.5474193213203966, 0.808251138266157, 1.0690829552119165, 1.329914772157677, 1.5907465891034365, 1.851578406049196, 2.1124102229949564, 2.373242039940716, 2.6340738568864763, 2.894905673832236, 3.1557374907779963], [-4.408385200649041, -4.147553383703282, -3.8867215667575215, -3.625889749811762, -3.3650579328660015, -3.104226115920242, -2.843394298974482, -2.582562482028722, -2.321730665082962, -2.060898848137202, -1.8000670311914422, -1.5392352142456822, -1.2784033972999227, -1.0175715803541627, -0.7567397634084028, -0.4959079464626428, -0.23507612951688284, 0.025755687428876683, 0.2865875043746371, 0.5474193213203966, 0.808251138266157, 1.0690829552119165, 1.329914772157677, 1.5907465891034365, 1.851578406049196, 2.1124102229949564, 2.373242039940716, 2.6340738568864763, 2.894905673832236, 3.1557374907779963], [-4.408385200649041, -4.147553383703282, -3.8867215667575215, -3.625889749811762, -3.3650579328660015, -3.104226115920242, -2.843394298974482, -2.582562482028722, -2.321730665082962, -2.060898848137202, -1.8000670311914422, -1.5392352142456822, -1.2784033972999227, -1.0175715803541627, -0.7567397634084028, -0.4959079464626428, -0.23507612951688284, 0.025755687428876683, 0.2865875043746371, 0.5474193213203966, 0.808251138266157, 1.0690829552119165, 1.329914772157677, 1.5907465891034365, 1.851578406049196, 2.1124102229949564, 2.373242039940716, 2.6340738568864763, 2.894905673832236, 3.1557374907779963], [-4.408385200649041, -4.147553383703282, -3.8867215667575215, -3.625889749811762, -3.3650579328660015, -3.104226115920242, -2.843394298974482, -2.582562482028722, -2.321730665082962, -2.060898848137202, -1.8000670311914422, -1.5392352142456822, -1.2784033972999227, -1.0175715803541627, -0.7567397634084028, -0.4959079464626428, -0.23507612951688284, 0.025755687428876683, 0.2865875043746371, 0.5474193213203966, 0.808251138266157, 1.0690829552119165, 1.329914772157677, 1.5907465891034365, 1.851578406049196, 2.1124102229949564, 2.373242039940716, 2.6340738568864763, 2.894905673832236, 3.1557374907779963], [-4.408385200649041, -4.147553383703282, -3.8867215667575215, -3.625889749811762, -3.3650579328660015, -3.104226115920242, -2.843394298974482, -2.582562482028722, -2.321730665082962, -2.060898848137202, -1.8000670311914422, -1.5392352142456822, -1.2784033972999227, -1.0175715803541627, -0.7567397634084028, -0.4959079464626428, -0.23507612951688284, 0.025755687428876683, 0.2865875043746371, 0.5474193213203966, 0.808251138266157, 1.0690829552119165, 1.329914772157677, 1.5907465891034365, 1.851578406049196, 2.1124102229949564, 2.373242039940716, 2.6340738568864763, 2.894905673832236, 3.1557374907779963], [-4.408385200649041, -4.147553383703282, -3.8867215667575215, -3.625889749811762, -3.3650579328660015, -3.104226115920242, -2.843394298974482, -2.582562482028722, -2.321730665082962, -2.060898848137202, -1.8000670311914422, -1.5392352142456822, -1.2784033972999227, -1.0175715803541627, -0.7567397634084028, -0.4959079464626428, -0.23507612951688284, 0.025755687428876683, 0.2865875043746371, 0.5474193213203966, 0.808251138266157, 1.0690829552119165, 1.329914772157677, 1.5907465891034365, 1.851578406049196, 2.1124102229949564, 2.373242039940716, 2.6340738568864763, 2.894905673832236, 3.1557374907779963], [-4.408385200649041, -4.147553383703282, -3.8867215667575215, -3.625889749811762, -3.3650579328660015, -3.104226115920242, -2.843394298974482, -2.582562482028722, -2.321730665082962, -2.060898848137202, -1.8000670311914422, -1.5392352142456822, -1.2784033972999227, -1.0175715803541627, -0.7567397634084028, -0.4959079464626428, -0.23507612951688284, 0.025755687428876683, 0.2865875043746371, 0.5474193213203966, 0.808251138266157, 1.0690829552119165, 1.329914772157677, 1.5907465891034365, 1.851578406049196, 2.1124102229949564, 2.373242039940716, 2.6340738568864763, 2.894905673832236, 3.1557374907779963], [-4.408385200649041, -4.147553383703282, -3.8867215667575215, -3.625889749811762, -3.3650579328660015, -3.104226115920242, -2.843394298974482, -2.582562482028722, -2.321730665082962, -2.060898848137202, -1.8000670311914422, -1.5392352142456822, -1.2784033972999227, -1.0175715803541627, -0.7567397634084028, -0.4959079464626428, -0.23507612951688284, 0.025755687428876683, 0.2865875043746371, 0.5474193213203966, 0.808251138266157, 1.0690829552119165, 1.329914772157677, 1.5907465891034365, 1.851578406049196, 2.1124102229949564, 2.373242039940716, 2.6340738568864763, 2.894905673832236, 3.1557374907779963], [-4.408385200649041, -4.147553383703282, -3.8867215667575215, -3.625889749811762, -3.3650579328660015, -3.104226115920242, -2.843394298974482, -2.582562482028722, -2.321730665082962, -2.060898848137202, -1.8000670311914422, -1.5392352142456822, -1.2784033972999227, -1.0175715803541627, -0.7567397634084028, -0.4959079464626428, -0.23507612951688284, 0.025755687428876683, 0.2865875043746371, 0.5474193213203966, 0.808251138266157, 1.0690829552119165, 1.329914772157677, 1.5907465891034365, 1.851578406049196, 2.1124102229949564, 2.373242039940716, 2.6340738568864763, 2.894905673832236, 3.1557374907779963], [-4.408385200649041, -4.147553383703282, -3.8867215667575215, -3.625889749811762, -3.3650579328660015, -3.104226115920242, -2.843394298974482, -2.582562482028722, -2.321730665082962, -2.060898848137202, -1.8000670311914422, -1.5392352142456822, -1.2784033972999227, -1.0175715803541627, -0.7567397634084028, -0.4959079464626428, -0.23507612951688284, 0.025755687428876683, 0.2865875043746371, 0.5474193213203966, 0.808251138266157, 1.0690829552119165, 1.329914772157677, 1.5907465891034365, 1.851578406049196, 2.1124102229949564, 2.373242039940716, 2.6340738568864763, 2.894905673832236, 3.1557374907779963], [-4.408385200649041, -4.147553383703282, -3.8867215667575215, -3.625889749811762, -3.3650579328660015, -3.104226115920242, -2.843394298974482, -2.582562482028722, -2.321730665082962, -2.060898848137202, -1.8000670311914422, -1.5392352142456822, -1.2784033972999227, -1.0175715803541627, -0.7567397634084028, -0.4959079464626428, -0.23507612951688284, 0.025755687428876683, 0.2865875043746371, 0.5474193213203966, 0.808251138266157, 1.0690829552119165, 1.329914772157677, 1.5907465891034365, 1.851578406049196, 2.1124102229949564, 2.373242039940716, 2.6340738568864763, 2.894905673832236, 3.1557374907779963]], \"y\": [[-9.543465630411577, -9.543465630411577, -9.543465630411577, -9.543465630411577, -9.543465630411577, -9.543465630411577, -9.543465630411577, -9.543465630411577, -9.543465630411577, -9.543465630411577, -9.543465630411577, -9.543465630411577, -9.543465630411577, -9.543465630411577, -9.543465630411577, -9.543465630411577, -9.543465630411577, -9.543465630411577, -9.543465630411577, -9.543465630411577, -9.543465630411577, -9.543465630411577, -9.543465630411577, -9.543465630411577, -9.543465630411577, -9.543465630411577, -9.543465630411577, -9.543465630411577, -9.543465630411577, -9.543465630411577], [-9.253458823708035, -9.253458823708035, -9.253458823708035, -9.253458823708035, -9.253458823708035, -9.253458823708035, -9.253458823708035, -9.253458823708035, -9.253458823708035, -9.253458823708035, -9.253458823708035, -9.253458823708035, -9.253458823708035, -9.253458823708035, -9.253458823708035, -9.253458823708035, -9.253458823708035, -9.253458823708035, -9.253458823708035, -9.253458823708035, -9.253458823708035, -9.253458823708035, -9.253458823708035, -9.253458823708035, -9.253458823708035, -9.253458823708035, -9.253458823708035, -9.253458823708035, -9.253458823708035, -9.253458823708035], [-8.963452017004492, -8.963452017004492, -8.963452017004492, -8.963452017004492, -8.963452017004492, -8.963452017004492, -8.963452017004492, -8.963452017004492, -8.963452017004492, -8.963452017004492, -8.963452017004492, -8.963452017004492, -8.963452017004492, -8.963452017004492, -8.963452017004492, -8.963452017004492, -8.963452017004492, -8.963452017004492, -8.963452017004492, -8.963452017004492, -8.963452017004492, -8.963452017004492, -8.963452017004492, -8.963452017004492, -8.963452017004492, -8.963452017004492, -8.963452017004492, -8.963452017004492, -8.963452017004492, -8.963452017004492], [-8.673445210300951, -8.673445210300951, -8.673445210300951, -8.673445210300951, -8.673445210300951, -8.673445210300951, -8.673445210300951, -8.673445210300951, -8.673445210300951, -8.673445210300951, -8.673445210300951, -8.673445210300951, -8.673445210300951, -8.673445210300951, -8.673445210300951, -8.673445210300951, -8.673445210300951, -8.673445210300951, -8.673445210300951, -8.673445210300951, -8.673445210300951, -8.673445210300951, -8.673445210300951, -8.673445210300951, -8.673445210300951, -8.673445210300951, -8.673445210300951, -8.673445210300951, -8.673445210300951, -8.673445210300951], [-8.38343840359741, -8.38343840359741, -8.38343840359741, -8.38343840359741, -8.38343840359741, -8.38343840359741, -8.38343840359741, -8.38343840359741, -8.38343840359741, -8.38343840359741, -8.38343840359741, -8.38343840359741, -8.38343840359741, -8.38343840359741, -8.38343840359741, -8.38343840359741, -8.38343840359741, -8.38343840359741, -8.38343840359741, -8.38343840359741, -8.38343840359741, -8.38343840359741, -8.38343840359741, -8.38343840359741, -8.38343840359741, -8.38343840359741, -8.38343840359741, -8.38343840359741, -8.38343840359741, -8.38343840359741], [-8.093431596893868, -8.093431596893868, -8.093431596893868, -8.093431596893868, -8.093431596893868, -8.093431596893868, -8.093431596893868, -8.093431596893868, -8.093431596893868, -8.093431596893868, -8.093431596893868, -8.093431596893868, -8.093431596893868, -8.093431596893868, -8.093431596893868, -8.093431596893868, -8.093431596893868, -8.093431596893868, -8.093431596893868, -8.093431596893868, -8.093431596893868, -8.093431596893868, -8.093431596893868, -8.093431596893868, -8.093431596893868, -8.093431596893868, -8.093431596893868, -8.093431596893868, -8.093431596893868, -8.093431596893868], [-7.803424790190325, -7.803424790190325, -7.803424790190325, -7.803424790190325, -7.803424790190325, -7.803424790190325, -7.803424790190325, -7.803424790190325, -7.803424790190325, -7.803424790190325, -7.803424790190325, -7.803424790190325, -7.803424790190325, -7.803424790190325, -7.803424790190325, -7.803424790190325, -7.803424790190325, -7.803424790190325, -7.803424790190325, -7.803424790190325, -7.803424790190325, -7.803424790190325, -7.803424790190325, -7.803424790190325, -7.803424790190325, -7.803424790190325, -7.803424790190325, -7.803424790190325, -7.803424790190325, -7.803424790190325], [-7.513417983486784, -7.513417983486784, -7.513417983486784, -7.513417983486784, -7.513417983486784, -7.513417983486784, -7.513417983486784, -7.513417983486784, -7.513417983486784, -7.513417983486784, -7.513417983486784, -7.513417983486784, -7.513417983486784, -7.513417983486784, -7.513417983486784, -7.513417983486784, -7.513417983486784, -7.513417983486784, -7.513417983486784, -7.513417983486784, -7.513417983486784, -7.513417983486784, -7.513417983486784, -7.513417983486784, -7.513417983486784, -7.513417983486784, -7.513417983486784, -7.513417983486784, -7.513417983486784, -7.513417983486784], [-7.223411176783243, -7.223411176783243, -7.223411176783243, -7.223411176783243, -7.223411176783243, -7.223411176783243, -7.223411176783243, -7.223411176783243, -7.223411176783243, -7.223411176783243, -7.223411176783243, -7.223411176783243, -7.223411176783243, -7.223411176783243, -7.223411176783243, -7.223411176783243, -7.223411176783243, -7.223411176783243, -7.223411176783243, -7.223411176783243, -7.223411176783243, -7.223411176783243, -7.223411176783243, -7.223411176783243, -7.223411176783243, -7.223411176783243, -7.223411176783243, -7.223411176783243, -7.223411176783243, -7.223411176783243], [-6.933404370079701, -6.933404370079701, -6.933404370079701, -6.933404370079701, -6.933404370079701, -6.933404370079701, -6.933404370079701, -6.933404370079701, -6.933404370079701, -6.933404370079701, -6.933404370079701, -6.933404370079701, -6.933404370079701, -6.933404370079701, -6.933404370079701, -6.933404370079701, -6.933404370079701, -6.933404370079701, -6.933404370079701, -6.933404370079701, -6.933404370079701, -6.933404370079701, -6.933404370079701, -6.933404370079701, -6.933404370079701, -6.933404370079701, -6.933404370079701, -6.933404370079701, -6.933404370079701, -6.933404370079701], [-6.643397563376158, -6.643397563376158, -6.643397563376158, -6.643397563376158, -6.643397563376158, -6.643397563376158, -6.643397563376158, -6.643397563376158, -6.643397563376158, -6.643397563376158, -6.643397563376158, -6.643397563376158, -6.643397563376158, -6.643397563376158, -6.643397563376158, -6.643397563376158, -6.643397563376158, -6.643397563376158, -6.643397563376158, -6.643397563376158, -6.643397563376158, -6.643397563376158, -6.643397563376158, -6.643397563376158, -6.643397563376158, -6.643397563376158, -6.643397563376158, -6.643397563376158, -6.643397563376158, -6.643397563376158], [-6.353390756672617, -6.353390756672617, -6.353390756672617, -6.353390756672617, -6.353390756672617, -6.353390756672617, -6.353390756672617, -6.353390756672617, -6.353390756672617, -6.353390756672617, -6.353390756672617, -6.353390756672617, -6.353390756672617, -6.353390756672617, -6.353390756672617, -6.353390756672617, -6.353390756672617, -6.353390756672617, -6.353390756672617, -6.353390756672617, -6.353390756672617, -6.353390756672617, -6.353390756672617, -6.353390756672617, -6.353390756672617, -6.353390756672617, -6.353390756672617, -6.353390756672617, -6.353390756672617, -6.353390756672617], [-6.063383949969075, -6.063383949969075, -6.063383949969075, -6.063383949969075, -6.063383949969075, -6.063383949969075, -6.063383949969075, -6.063383949969075, -6.063383949969075, -6.063383949969075, -6.063383949969075, -6.063383949969075, -6.063383949969075, -6.063383949969075, -6.063383949969075, -6.063383949969075, -6.063383949969075, -6.063383949969075, -6.063383949969075, -6.063383949969075, -6.063383949969075, -6.063383949969075, -6.063383949969075, -6.063383949969075, -6.063383949969075, -6.063383949969075, -6.063383949969075, -6.063383949969075, -6.063383949969075, -6.063383949969075], [-5.773377143265533, -5.773377143265533, -5.773377143265533, -5.773377143265533, -5.773377143265533, -5.773377143265533, -5.773377143265533, -5.773377143265533, -5.773377143265533, -5.773377143265533, -5.773377143265533, -5.773377143265533, -5.773377143265533, -5.773377143265533, -5.773377143265533, -5.773377143265533, -5.773377143265533, -5.773377143265533, -5.773377143265533, -5.773377143265533, -5.773377143265533, -5.773377143265533, -5.773377143265533, -5.773377143265533, -5.773377143265533, -5.773377143265533, -5.773377143265533, -5.773377143265533, -5.773377143265533, -5.773377143265533], [-5.4833703365619915, -5.4833703365619915, -5.4833703365619915, -5.4833703365619915, -5.4833703365619915, -5.4833703365619915, -5.4833703365619915, -5.4833703365619915, -5.4833703365619915, -5.4833703365619915, -5.4833703365619915, -5.4833703365619915, -5.4833703365619915, -5.4833703365619915, -5.4833703365619915, -5.4833703365619915, -5.4833703365619915, -5.4833703365619915, -5.4833703365619915, -5.4833703365619915, -5.4833703365619915, -5.4833703365619915, -5.4833703365619915, -5.4833703365619915, -5.4833703365619915, -5.4833703365619915, -5.4833703365619915, -5.4833703365619915, -5.4833703365619915, -5.4833703365619915], [-5.19336352985845, -5.19336352985845, -5.19336352985845, -5.19336352985845, -5.19336352985845, -5.19336352985845, -5.19336352985845, -5.19336352985845, -5.19336352985845, -5.19336352985845, -5.19336352985845, -5.19336352985845, -5.19336352985845, -5.19336352985845, -5.19336352985845, -5.19336352985845, -5.19336352985845, -5.19336352985845, -5.19336352985845, -5.19336352985845, -5.19336352985845, -5.19336352985845, -5.19336352985845, -5.19336352985845, -5.19336352985845, -5.19336352985845, -5.19336352985845, -5.19336352985845, -5.19336352985845, -5.19336352985845], [-4.903356723154908, -4.903356723154908, -4.903356723154908, -4.903356723154908, -4.903356723154908, -4.903356723154908, -4.903356723154908, -4.903356723154908, -4.903356723154908, -4.903356723154908, -4.903356723154908, -4.903356723154908, -4.903356723154908, -4.903356723154908, -4.903356723154908, -4.903356723154908, -4.903356723154908, -4.903356723154908, -4.903356723154908, -4.903356723154908, -4.903356723154908, -4.903356723154908, -4.903356723154908, -4.903356723154908, -4.903356723154908, -4.903356723154908, -4.903356723154908, -4.903356723154908, -4.903356723154908, -4.903356723154908], [-4.613349916451366, -4.613349916451366, -4.613349916451366, -4.613349916451366, -4.613349916451366, -4.613349916451366, -4.613349916451366, -4.613349916451366, -4.613349916451366, -4.613349916451366, -4.613349916451366, -4.613349916451366, -4.613349916451366, -4.613349916451366, -4.613349916451366, -4.613349916451366, -4.613349916451366, -4.613349916451366, -4.613349916451366, -4.613349916451366, -4.613349916451366, -4.613349916451366, -4.613349916451366, -4.613349916451366, -4.613349916451366, -4.613349916451366, -4.613349916451366, -4.613349916451366, -4.613349916451366, -4.613349916451366], [-4.3233431097478245, -4.3233431097478245, -4.3233431097478245, -4.3233431097478245, -4.3233431097478245, -4.3233431097478245, -4.3233431097478245, -4.3233431097478245, -4.3233431097478245, -4.3233431097478245, -4.3233431097478245, -4.3233431097478245, -4.3233431097478245, -4.3233431097478245, -4.3233431097478245, -4.3233431097478245, -4.3233431097478245, -4.3233431097478245, -4.3233431097478245, -4.3233431097478245, -4.3233431097478245, -4.3233431097478245, -4.3233431097478245, -4.3233431097478245, -4.3233431097478245, -4.3233431097478245, -4.3233431097478245, -4.3233431097478245, -4.3233431097478245, -4.3233431097478245], [-4.033336303044282, -4.033336303044282, -4.033336303044282, -4.033336303044282, -4.033336303044282, -4.033336303044282, -4.033336303044282, -4.033336303044282, -4.033336303044282, -4.033336303044282, -4.033336303044282, -4.033336303044282, -4.033336303044282, -4.033336303044282, -4.033336303044282, -4.033336303044282, -4.033336303044282, -4.033336303044282, -4.033336303044282, -4.033336303044282, -4.033336303044282, -4.033336303044282, -4.033336303044282, -4.033336303044282, -4.033336303044282, -4.033336303044282, -4.033336303044282, -4.033336303044282, -4.033336303044282, -4.033336303044282], [-3.743329496340741, -3.743329496340741, -3.743329496340741, -3.743329496340741, -3.743329496340741, -3.743329496340741, -3.743329496340741, -3.743329496340741, -3.743329496340741, -3.743329496340741, -3.743329496340741, -3.743329496340741, -3.743329496340741, -3.743329496340741, -3.743329496340741, -3.743329496340741, -3.743329496340741, -3.743329496340741, -3.743329496340741, -3.743329496340741, -3.743329496340741, -3.743329496340741, -3.743329496340741, -3.743329496340741, -3.743329496340741, -3.743329496340741, -3.743329496340741, -3.743329496340741, -3.743329496340741, -3.743329496340741], [-3.453322689637199, -3.453322689637199, -3.453322689637199, -3.453322689637199, -3.453322689637199, -3.453322689637199, -3.453322689637199, -3.453322689637199, -3.453322689637199, -3.453322689637199, -3.453322689637199, -3.453322689637199, -3.453322689637199, -3.453322689637199, -3.453322689637199, -3.453322689637199, -3.453322689637199, -3.453322689637199, -3.453322689637199, -3.453322689637199, -3.453322689637199, -3.453322689637199, -3.453322689637199, -3.453322689637199, -3.453322689637199, -3.453322689637199, -3.453322689637199, -3.453322689637199, -3.453322689637199, -3.453322689637199], [-3.1633158829336576, -3.1633158829336576, -3.1633158829336576, -3.1633158829336576, -3.1633158829336576, -3.1633158829336576, -3.1633158829336576, -3.1633158829336576, -3.1633158829336576, -3.1633158829336576, -3.1633158829336576, -3.1633158829336576, -3.1633158829336576, -3.1633158829336576, -3.1633158829336576, -3.1633158829336576, -3.1633158829336576, -3.1633158829336576, -3.1633158829336576, -3.1633158829336576, -3.1633158829336576, -3.1633158829336576, -3.1633158829336576, -3.1633158829336576, -3.1633158829336576, -3.1633158829336576, -3.1633158829336576, -3.1633158829336576, -3.1633158829336576, -3.1633158829336576], [-2.8733090762301154, -2.8733090762301154, -2.8733090762301154, -2.8733090762301154, -2.8733090762301154, -2.8733090762301154, -2.8733090762301154, -2.8733090762301154, -2.8733090762301154, -2.8733090762301154, -2.8733090762301154, -2.8733090762301154, -2.8733090762301154, -2.8733090762301154, -2.8733090762301154, -2.8733090762301154, -2.8733090762301154, -2.8733090762301154, -2.8733090762301154, -2.8733090762301154, -2.8733090762301154, -2.8733090762301154, -2.8733090762301154, -2.8733090762301154, -2.8733090762301154, -2.8733090762301154, -2.8733090762301154, -2.8733090762301154, -2.8733090762301154, -2.8733090762301154], [-2.5833022695265733, -2.5833022695265733, -2.5833022695265733, -2.5833022695265733, -2.5833022695265733, -2.5833022695265733, -2.5833022695265733, -2.5833022695265733, -2.5833022695265733, -2.5833022695265733, -2.5833022695265733, -2.5833022695265733, -2.5833022695265733, -2.5833022695265733, -2.5833022695265733, -2.5833022695265733, -2.5833022695265733, -2.5833022695265733, -2.5833022695265733, -2.5833022695265733, -2.5833022695265733, -2.5833022695265733, -2.5833022695265733, -2.5833022695265733, -2.5833022695265733, -2.5833022695265733, -2.5833022695265733, -2.5833022695265733, -2.5833022695265733, -2.5833022695265733], [-2.293295462823032, -2.293295462823032, -2.293295462823032, -2.293295462823032, -2.293295462823032, -2.293295462823032, -2.293295462823032, -2.293295462823032, -2.293295462823032, -2.293295462823032, -2.293295462823032, -2.293295462823032, -2.293295462823032, -2.293295462823032, -2.293295462823032, -2.293295462823032, -2.293295462823032, -2.293295462823032, -2.293295462823032, -2.293295462823032, -2.293295462823032, -2.293295462823032, -2.293295462823032, -2.293295462823032, -2.293295462823032, -2.293295462823032, -2.293295462823032, -2.293295462823032, -2.293295462823032, -2.293295462823032], [-2.00328865611949, -2.00328865611949, -2.00328865611949, -2.00328865611949, -2.00328865611949, -2.00328865611949, -2.00328865611949, -2.00328865611949, -2.00328865611949, -2.00328865611949, -2.00328865611949, -2.00328865611949, -2.00328865611949, -2.00328865611949, -2.00328865611949, -2.00328865611949, -2.00328865611949, -2.00328865611949, -2.00328865611949, -2.00328865611949, -2.00328865611949, -2.00328865611949, -2.00328865611949, -2.00328865611949, -2.00328865611949, -2.00328865611949, -2.00328865611949, -2.00328865611949, -2.00328865611949, -2.00328865611949], [-1.7132818494159485, -1.7132818494159485, -1.7132818494159485, -1.7132818494159485, -1.7132818494159485, -1.7132818494159485, -1.7132818494159485, -1.7132818494159485, -1.7132818494159485, -1.7132818494159485, -1.7132818494159485, -1.7132818494159485, -1.7132818494159485, -1.7132818494159485, -1.7132818494159485, -1.7132818494159485, -1.7132818494159485, -1.7132818494159485, -1.7132818494159485, -1.7132818494159485, -1.7132818494159485, -1.7132818494159485, -1.7132818494159485, -1.7132818494159485, -1.7132818494159485, -1.7132818494159485, -1.7132818494159485, -1.7132818494159485, -1.7132818494159485, -1.7132818494159485], [-1.4232750427124063, -1.4232750427124063, -1.4232750427124063, -1.4232750427124063, -1.4232750427124063, -1.4232750427124063, -1.4232750427124063, -1.4232750427124063, -1.4232750427124063, -1.4232750427124063, -1.4232750427124063, -1.4232750427124063, -1.4232750427124063, -1.4232750427124063, -1.4232750427124063, -1.4232750427124063, -1.4232750427124063, -1.4232750427124063, -1.4232750427124063, -1.4232750427124063, -1.4232750427124063, -1.4232750427124063, -1.4232750427124063, -1.4232750427124063, -1.4232750427124063, -1.4232750427124063, -1.4232750427124063, -1.4232750427124063, -1.4232750427124063, -1.4232750427124063], [-1.1332682360088655, -1.1332682360088655, -1.1332682360088655, -1.1332682360088655, -1.1332682360088655, -1.1332682360088655, -1.1332682360088655, -1.1332682360088655, -1.1332682360088655, -1.1332682360088655, -1.1332682360088655, -1.1332682360088655, -1.1332682360088655, -1.1332682360088655, -1.1332682360088655, -1.1332682360088655, -1.1332682360088655, -1.1332682360088655, -1.1332682360088655, -1.1332682360088655, -1.1332682360088655, -1.1332682360088655, -1.1332682360088655, -1.1332682360088655, -1.1332682360088655, -1.1332682360088655, -1.1332682360088655, -1.1332682360088655, -1.1332682360088655, -1.1332682360088655]], \"z\": [[-3.4791308357406305, -3.5332192396455997, -3.5873076435505706, -3.6413960474555407, -3.6954844513605107, -3.7495728552654812, -3.8036612591704513, -3.8577496630754213, -3.9118380669803914, -3.9659264708853614, -4.020014874790332, -4.074103278695302, -4.1281916826002725, -4.1822800865052425, -4.236368490410213, -4.2904568943151835, -4.344545298220154, -4.398633702125124, -4.452722106030094, -4.506810509935064, -4.560898913840035, -4.614987317745005, -4.669075721649974, -4.723164125554944, -4.777252529459914, -4.831340933364885, -4.885429337269855, -4.939517741174825, -4.993606145079795, -5.047694548984766], [-3.3253337027595675, -3.379422106664538, -3.433510510569508, -3.487598914474478, -3.541687318379448, -3.595775722284418, -3.649864126189389, -3.703952530094359, -3.7580409339993293, -3.8121293379042993, -3.8662177418092702, -3.9203061457142403, -3.9743945496192103, -4.02848295352418, -4.08257135742915, -4.136659761334121, -4.190748165239091, -4.244836569144061, -4.298924973049031, -4.353013376954001, -4.407101780858972, -4.461190184763942, -4.515278588668912, -4.569366992573882, -4.623455396478852, -4.677543800383823, -4.731632204288793, -4.785720608193763, -4.839809012098733, -4.893897416003703], [-3.1715365697785045, -3.2256249736834754, -3.2797133775884455, -3.3338017814934156, -3.3878901853983856, -3.4419785893033557, -3.496066993208326, -3.550155397113296, -3.6042438010182662, -3.6583322049232363, -3.7124206088282072, -3.7665090127331773, -3.8205974166381473, -3.8746858205431174, -3.9287742244480874, -3.982862628353058, -4.036951032258028, -4.0910394361629985, -4.1451278400679685, -4.199216243972939, -4.253304647877909, -4.307393051782879, -4.361481455687849, -4.415569859592819, -4.469658263497789, -4.52374666740276, -4.57783507130773, -4.6319234752127, -4.68601187911767, -4.740100283022641], [-3.0177394367974424, -3.0718278407024124, -3.125916244607383, -3.180004648512353, -3.234093052417323, -3.288181456322294, -3.342269860227264, -3.396358264132234, -3.450446668037204, -3.504535071942174, -3.5586234758471447, -3.6127118797521147, -3.6668002836570848, -3.720888687562055, -3.774977091467025, -3.829065495371996, -3.883153899276966, -3.937242303181936, -3.991330707086906, -4.045419110991876, -4.099507514896847, -4.153595918801817, -4.207684322706787, -4.261772726611757, -4.315861130516727, -4.369949534421697, -4.424037938326667, -4.478126342231637, -4.532214746136607, -4.586303150041578], [-2.863942303816381, -2.918030707721351, -2.9721191116263213, -3.0262075155312913, -3.080295919436262, -3.1343843233412323, -3.1884727272462023, -3.2425611311511724, -3.2966495350561424, -3.3507379389611125, -3.404826342866083, -3.458914746771053, -3.513003150676023, -3.567091554580993, -3.621179958485963, -3.675268362390934, -3.729356766295904, -3.7834451702008742, -3.8375335741058443, -3.8916219780108143, -3.945710381915785, -3.999798785820755, -4.053887189725725, -4.107975593630695, -4.1620639975356655, -4.216152401440636, -4.2702408053456065, -4.3243292092505765, -4.378417613155546, -4.432506017060517], [-2.7101451708353186, -2.7642335747402886, -2.818321978645259, -2.872410382550229, -2.9264987864551997, -2.9805871903601697, -3.0346755942651398, -3.08876399817011, -3.14285240207508, -3.19694080598005, -3.251029209885021, -3.305117613789991, -3.359206017694961, -3.413294421599931, -3.467382825504901, -3.521471229409872, -3.575559633314842, -3.629648037219812, -3.683736441124782, -3.737824845029752, -3.7919132489347227, -3.8460016528396928, -3.900090056744663, -3.954178460649633, -4.008266864554603, -4.062355268459574, -4.116443672364544, -4.170532076269514, -4.224620480174484, -4.278708884079455], [-2.5563480378542556, -2.6104364417592256, -2.664524845664196, -2.718613249569166, -2.7727016534741367, -2.8267900573791067, -2.8808784612840768, -2.9349668651890473, -2.9890552690940173, -3.0431436729989874, -3.0972320769039574, -3.151320480808928, -3.205408884713898, -3.259497288618868, -3.313585692523838, -3.367674096428809, -3.421762500333779, -3.475850904238749, -3.529939308143719, -3.584027712048689, -3.6381161159536597, -3.6922045198586297, -3.7462929237636, -3.80038132766857, -3.85446973157354, -3.908558135478511, -3.962646539383481, -4.0167349432884505, -4.0708233471934205, -4.1249117510983915], [-2.4025509048731934, -2.4566393087781635, -2.510727712683134, -2.564816116588104, -2.618904520493074, -2.672992924398044, -2.727081328303014, -2.7811697322079847, -2.8352581361129547, -2.8893465400179252, -2.9434349439228953, -2.997523347827866, -3.051611751732836, -3.105700155637806, -3.159788559542776, -3.2138769634477464, -3.2679653673527165, -3.3220537712576865, -3.3761421751626566, -3.4302305790676266, -3.4843189829725976, -3.5384073868775676, -3.5924957907825377, -3.6465841946875077, -3.7006725985924778, -3.7547610024974483, -3.8088494064024183, -3.8629378103073884, -3.9170262142123584, -3.9711146181173294], [-2.2487537718921318, -2.302842175797102, -2.3569305797020723, -2.4110189836070424, -2.465107387512013, -2.519195791416983, -2.573284195321953, -2.627372599226923, -2.681461003131893, -2.7355494070368636, -2.7896378109418336, -2.843726214846804, -2.897814618751774, -2.951903022656744, -3.0059914265617147, -3.0600798304666847, -3.114168234371655, -3.168256638276625, -3.222345042181595, -3.276433446086565, -3.330521849991536, -3.384610253896506, -3.438698657801476, -3.492787061706446, -3.546875465611416, -3.6009638695163866, -3.6550522734213566, -3.7091406773263267, -3.7632290812312967, -3.8173174851362677], [-2.0949566389110683, -2.1490450428160384, -2.203133446721009, -2.257221850625979, -2.3113102545309494, -2.3653986584359195, -2.4194870623408895, -2.47357546624586, -2.52766387015083, -2.5817522740558, -2.63584067796077, -2.6899290818657406, -2.7440174857707107, -2.7981058896756807, -2.8521942935806512, -2.9062826974856213, -2.960371101390592, -3.014459505295562, -3.068547909200532, -3.122636313105502, -3.176724717010472, -3.230813120915442, -3.284901524820413, -3.338989928725383, -3.393078332630353, -3.447166736535323, -3.501255140440293, -3.555343544345264, -3.609431948250234, -3.663520352155204], [-1.9411595059300062, -1.9952479098349762, -2.0493363137399467, -2.103424717644917, -2.157513121549887, -2.211601525454857, -2.265689929359827, -2.3197783332647974, -2.3738667371697675, -2.427955141074738, -2.482043544979708, -2.5361319488846785, -2.5902203527896486, -2.6443087566946186, -2.698397160599589, -2.752485564504559, -2.806573968409529, -2.8606623723144993, -2.9147507762194698, -2.96883918012444, -3.0229275840294103, -3.0770159879343804, -3.131104391839351, -3.185192795744321, -3.239281199649291, -3.293369603554261, -3.347458007459231, -3.4015464113642015, -3.4556348152691716, -3.5097232191741417], [-1.7873623729489438, -1.841450776853914, -1.8955391807588844, -1.9496275846638544, -2.0037159885688247, -2.0578043924737948, -2.111892796378765, -2.1659812002837353, -2.2200696041887054, -2.274158008093676, -2.328246411998646, -2.382334815903616, -2.436423219808586, -2.490511623713556, -2.5446000276185265, -2.5986884315234966, -2.652776835428467, -2.706865239333437, -2.7609536432384076, -2.8150420471433777, -2.8691304510483477, -2.923218854953318, -2.9773072588582883, -3.0313956627632583, -3.0854840666682284, -3.1395724705731984, -3.1936608744781685, -3.2477492783831394, -3.3018376822881095, -3.3559260861930795], [-1.6335652399678815, -1.6876536438728515, -1.741742047777822, -1.795830451682792, -1.8499188555877624, -1.9040072594927324, -1.9580956633977025, -2.0121840673026727, -2.066272471207643, -2.1203608751126133, -2.1744492790175833, -2.228537682922554, -2.282626086827524, -2.336714490732494, -2.3908028946374644, -2.4448912985424345, -2.498979702447405, -2.553068106352375, -2.607156510257345, -2.661244914162315, -2.7153333180672856, -2.7694217219722557, -2.823510125877226, -2.877598529782196, -2.9316869336871663, -2.9857753375921368, -3.039863741497107, -3.093952145402077, -3.148040549307047, -3.202128953212017], [-1.479768106986819, -1.533856510891789, -1.5879449147967595, -1.6420333187017295, -1.6961217226066998, -1.7502101265116699, -1.80429853041664, -1.8583869343216104, -1.9124753382265804, -1.9665637421315507, -2.0206521460365208, -2.0747405499414913, -2.1288289538464613, -2.1829173577514314, -2.237005761656402, -2.291094165561372, -2.345182569466342, -2.399270973371312, -2.4533593772762825, -2.5074477811812526, -2.561536185086223, -2.615624588991193, -2.669712992896163, -2.7238013968011336, -2.7778898007061037, -2.8319782046110737, -2.886066608516044, -2.940155012421014, -2.9942434163259843, -3.048331820230955], [-1.325970974005757, -1.380059377910727, -1.4341477818156974, -1.4882361857206674, -1.542324589625638, -1.596412993530608, -1.650501397435578, -1.7045898013405483, -1.7586782052455183, -1.8127666091504888, -1.8668550130554589, -1.9209434169604291, -1.9750318208653992, -2.0291202247703692, -2.0832086286753397, -2.13729703258031, -2.1913854364852803, -2.2454738403902503, -2.299562244295221, -2.353650648200191, -2.407739052105161, -2.461827456010131, -2.5159158599151015, -2.5700042638200715, -2.6240926677250416, -2.678181071630012, -2.732269475534982, -2.7863578794399526, -2.8404462833449227, -2.8945346872498927], [-1.1721738410246947, -1.2262622449296647, -1.2803506488346352, -1.3344390527396053, -1.3885274566445756, -1.4426158605495456, -1.4967042644545157, -1.5507926683594861, -1.6048810722644562, -1.6589694761694265, -1.7130578800743965, -1.767146283979367, -1.821234687884337, -1.8753230917893071, -1.9294114956942774, -1.9834998995992474, -2.0375883035042177, -2.0916767074091878, -2.1457651113141583, -2.1998535152191283, -2.253941919124099, -2.308030323029069, -2.3621187269340393, -2.4162071308390094, -2.4702955347439794, -2.5243839386489495, -2.5784723425539195, -2.63256074645889, -2.68664915036386, -2.74073755426883], [-1.0183767080436323, -1.0724651119486024, -1.1265535158535729, -1.180641919758543, -1.2347303236635132, -1.2888187275684833, -1.3429071314734533, -1.3969955353784238, -1.4510839392833939, -1.5051723431883641, -1.5592607470933342, -1.6133491509983047, -1.6674375549032747, -1.7215259588082448, -1.775614362713215, -1.829702766618185, -1.8837911705231556, -1.9378795744281256, -1.9919679783330961, -2.046056382238066, -2.1001447861430367, -2.1542331900480067, -2.208321593952977, -2.262409997857947, -2.316498401762917, -2.3705868056678874, -2.4246752095728574, -2.478763613477828, -2.532852017382798, -2.586940421287768], [-0.8645795750625698, -0.9186679789675398, -0.9727563828725102, -1.0268447867774801, -1.0809331906824506, -1.1350215945874207, -1.1891099984923907, -1.2431984023973612, -1.2972868063023313, -1.3513752102073016, -1.4054636141122716, -1.4595520180172419, -1.5136404219222122, -1.5677288258271822, -1.6218172297321525, -1.6759056336371225, -1.729994037542093, -1.784082441447063, -1.8381708453520333, -1.8922592492570034, -1.946347653161974, -2.0004360570669437, -2.0545244609719138, -2.1086128648768843, -2.1627012687818543, -2.216789672686825, -2.270878076591795, -2.324966480496765, -2.3790548844017354, -2.4331432883067055], [-0.7107824420815074, -0.7648708459864775, -0.8189592498914479, -0.8730476537964179, -0.9271360577013884, -0.9812244616063585, -1.0353128655113284, -1.089401269416299, -1.143489673321269, -1.1975780772262392, -1.2516664811312093, -1.3057548850361795, -1.3598432889411498, -1.41393169284612, -1.4680200967510901, -1.5221085006560602, -1.5761969045610307, -1.6302853084660007, -1.684373712370971, -1.738462116275941, -1.7925505201809115, -1.8466389240858816, -1.9007273279908516, -1.9548157318958221, -2.008904135800792, -2.0629925397057627, -2.1170809436107327, -2.171169347515703, -2.225257751420673, -2.2793461553256433], [-0.5569853091004452, -0.6110737130054152, -0.6651621169103856, -0.7192505208153557, -0.773338924720326, -0.8274273286252961, -0.8815157325302662, -0.9356041364352365, -0.9896925403402066, -1.043780944245177, -1.0978693481501471, -1.1519577520551172, -1.2060461559600875, -1.2601345598650577, -1.314222963770028, -1.368311367674998, -1.422399771579968, -1.4764881754849384, -1.5305765793899087, -1.584664983294879, -1.6387533871998492, -1.6928417911048192, -1.7469301950097893, -1.8010185989147598, -1.8551070028197298, -1.9091954067247001, -1.9632838106296702, -2.01737221453464, -2.0714606184396107, -2.125549022344581], [-0.4031881761193829, -0.45727658002435295, -0.5113649839293233, -0.5654533878342933, -0.6195417917392637, -0.6736301956442338, -0.7277185995492039, -0.7818070034541742, -0.8358954073591444, -0.8899838112641147, -0.9440722151690848, -0.998160619074055, -1.0522490229790251, -1.1063374268839954, -1.1604258307889657, -1.2145142346939357, -1.268602638598906, -1.322691042503876, -1.3767794464088463, -1.4308678503138166, -1.4849562542187869, -1.539044658123757, -1.593133062028727, -1.6472214659336974, -1.7013098698386675, -1.755398273743638, -1.809486677648608, -1.863575081553578, -1.9176634854585484, -1.9717518893635189], [-0.24939104313832058, -0.30347944704329066, -0.35756785094826105, -0.4116562548532311, -0.46574465875820137, -0.5198330626631715, -0.5739214665681417, -0.6280098704731119, -0.6820982743780821, -0.7361866782830523, -0.7902750821880224, -0.8443634860929927, -0.8984518899979629, -0.9525402939029332, -1.0066286978079033, -1.0607171017128734, -1.1148055056178436, -1.168893909522814, -1.222982313427784, -1.2770707173327542, -1.3311591212377245, -1.3852475251426948, -1.4393359290476648, -1.493424332952635, -1.5475127368576052, -1.6016011407625756, -1.6556895446675457, -1.7097779485725157, -1.763866352477486, -1.8179547563824565], [-0.0955939101572583, -0.14968231406222834, -0.20377071796719873, -0.2578591218721688, -0.3119475257771391, -0.36603592968210924, -0.42012433358707935, -0.47421273749204956, -0.5283011413970198, -0.58238954530199, -0.6364779492069602, -0.6905663531119304, -0.7446547570169006, -0.7987431609218708, -0.8528315648268411, -0.9069199687318111, -0.9610083726367813, -1.0150967765417516, -1.0691851804467218, -1.123273584351692, -1.1773619882566622, -1.2314503921616324, -1.2855387960666027, -1.3396271999715728, -1.3937156038765428, -1.4478040077815133, -1.5018924116864834, -1.5559808155914536, -1.610069219496424, -1.6641576234013942], [0.058203222823803996, 0.004114818918833948, -0.049973584986136445, -0.10406198889110649, -0.1581503927960768, -0.21223879670104695, -0.26632720060601706, -0.3204156045109873, -0.3745040084159575, -0.42859241232092776, -0.482680816225898, -0.5367692201308681, -0.5908576240358383, -0.6449460279408086, -0.6990344318457786, -0.7531228357507489, -0.8072112396557191, -0.8612996435606892, -0.9153880474656595, -0.9694764513706297, -1.0235648552755998, -1.07765325918057, -1.1317416630855404, -1.1858300669905106, -1.2399184708954807, -1.294006874800451, -1.348095278705421, -1.4021836826103913, -1.4562720865153616, -1.5103604904203318], [0.21200035580486656, 0.1579119518998965, 0.1038235479949261, 0.04973514408995606, -0.004353259815014249, -0.05844166371998438, -0.11253006762495452, -0.16661847152992473, -0.22070687543489495, -0.2747952793398652, -0.3288836832448354, -0.3829720871498056, -0.4370604910547757, -0.4911488949597459, -0.5452372988647162, -0.5993257027696863, -0.6534141066746566, -0.7075025105796267, -0.761590914484597, -0.8156793183895671, -0.8697677222945375, -0.9238561261995075, -0.9779445301044779, -1.0320329340094478, -1.086121337914418, -1.1402097418193884, -1.1942981457243584, -1.2483865496293287, -1.3024749535342988, -1.3565633574392693], [0.36579748878592866, 0.3117090848809586, 0.2576206809759882, 0.20353227707101818, 0.14944387316604787, 0.09535546926107774, 0.0412670653561076, -0.01282133854886262, -0.06690974245383284, -0.12099814635880306, -0.1750865502637733, -0.22917495416874345, -0.2832633580737136, -0.33735176197868383, -0.391440165883654, -0.4455285697886242, -0.4996169736935944, -0.5537053775985645, -0.6077937815035349, -0.661882185408505, -0.7159705893134753, -0.7700589932184454, -0.8241473971234156, -0.8782358010283858, -0.9323242049333559, -0.9864126088383263, -1.0405010127432963, -1.0945894166482666, -1.1486778205532366, -1.202766224458207], [0.5195946217669913, 0.4655062178620213, 0.41141781395705085, 0.3573294100520808, 0.3032410061471105, 0.24915260224214036, 0.19506419833717023, 0.1409757944322, 0.0868873905272298, 0.03279898662225958, -0.021289417282710645, -0.07537782118768083, -0.12946622509265096, -0.18355462899762118, -0.23764303290259137, -0.2917314368075616, -0.3458198407125318, -0.3999082446175019, -0.45399664852247223, -0.5080850524274423, -0.5621734563324127, -0.6162618602373827, -0.670350264142353, -0.7244386680473232, -0.7785270719522932, -0.8326154758572636, -0.8867038797622336, -0.9407922836672039, -0.9948806875721741, -1.0489690914771443], [0.6733917547480532, 0.6193033508430832, 0.5652149469381128, 0.5111265430331428, 0.4570381391281725, 0.4029497352232023, 0.3488613313182322, 0.29477292741326194, 0.24068452350829175, 0.18659611960332154, 0.1325077156983513, 0.07841931179338113, 0.02433090788841099, -0.02975749601655923, -0.08384589992152944, -0.13793430382649963, -0.19202270773146984, -0.24611111163643998, -0.3001995155414103, -0.3542879194463804, -0.4083763233513507, -0.46246472725632076, -0.5165531311612911, -0.5706415350662613, -0.6247299389712313, -0.6788183428762017, -0.7329067467811717, -0.7869951506861419, -0.8410835545911122, -0.8951719584960823], [0.8271888877291158, 0.7731004838241459, 0.7190120799191755, 0.6649236760142054, 0.610835272109235, 0.556746868204265, 0.5026584642992948, 0.4485700603943246, 0.3944816564893544, 0.3403932525843842, 0.28630484867941397, 0.23221644477444375, 0.17812804086947362, 0.1240396369645034, 0.06995123305953321, 0.01586282915456301, -0.03822557475040721, -0.09231397865537733, -0.1464023825603476, -0.20049078646531773, -0.25457919037028803, -0.30866759427525814, -0.36275599818022847, -0.4168444020851986, -0.4709328059901686, -0.525021209895139, -0.5791096138001091, -0.6331980177050793, -0.6872864216100495, -0.7413748255150199], [0.9809860207101777, 0.9268976168052077, 0.8728092129002373, 0.8187208089952672, 0.764632405090297, 0.7105440011853268, 0.6564555972803567, 0.6023671933753865, 0.5482787894704162, 0.49419038556544603, 0.4401019816604758, 0.3860135777555056, 0.3319251738505355, 0.2778367699455653, 0.2237483660405951, 0.16965996213562487, 0.11557155823065465, 0.06148315432568453, 0.007394750420714237, -0.04669365348425589, -0.1007820573892262, -0.1548704612941963, -0.2089588651991666, -0.2630472691041367, -0.31713567300910683, -0.37122407691407716, -0.4253124808190472, -0.47940088472401754, -0.5334892886289877, -0.587577692533958]]}, {\"legendgroup\": \"Sample Projections\", \"line\": {\"width\": 6}, \"marker\": {\"size\": 1}, \"name\": \"Sample Projections\", \"opacity\": 0.2, \"showlegend\": true, \"type\": \"scatter3d\", \"x\": [-0.5849823521129334, 1.0631345464294168], \"y\": [-11.514941909564786, -2.718846441866222], \"z\": [0.8037802928618021, 5.126779408950354]}, {\"legendgroup\": \"Sample Projections\", \"line\": {\"width\": 6}, \"marker\": {\"size\": 1}, \"name\": \"Sample Projections\", \"opacity\": 0.2, \"showlegend\": false, \"type\": \"scatter3d\", \"x\": [-1.4365361275445485, 0.7201378825972148], \"y\": [-9.224904911440879, -1.8416712412632557], \"z\": [0.004470508804561124, 3.4727383100325437]}, {\"legendgroup\": \"Sample Projections\", \"line\": {\"width\": 6}, \"marker\": {\"size\": 1}, \"name\": \"Sample Projections\", \"opacity\": 0.2, \"showlegend\": false, \"type\": \"scatter3d\", \"x\": [-1.5491589173759384, 0.32604950846685066], \"y\": [-7.250108574555569, -0.8338347662058428], \"z\": [-1.4415180189468613, 1.5723164221502544]}, {\"legendgroup\": \"Sample Projections\", \"line\": {\"width\": 6}, \"marker\": {\"size\": 1}, \"name\": \"Sample Projections\", \"opacity\": 0.2, \"showlegend\": false, \"type\": \"scatter3d\", \"x\": [-2.632141027502986, -0.5206645235191256], \"y\": [-0.4598978823168711, 1.3315406708683517], \"z\": [-3.0229987371752776, -2.510813111203909]}, {\"legendgroup\": \"Sample Projections\", \"line\": {\"width\": 6}, \"marker\": {\"size\": 1}, \"name\": \"Sample Projections\", \"opacity\": 0.2, \"showlegend\": false, \"type\": \"scatter3d\", \"x\": [-0.771705714476493, 0.6088754713394716], \"y\": [-9.265359357178491, -1.5571301998893783], \"z\": [-0.8653628285493147, 2.9361948960854227]}],                        {\"autosize\": true, \"height\": 800, \"legend\": {\"font\": {\"size\": 16}, \"itemsizing\": \"constant\"}, \"margin\": {\"b\": 10, \"l\": 10, \"pad\": 4, \"r\": 10, \"t\": 10}, \"paper_bgcolor\": \"White\", \"scene\": {\"aspectmode\": \"data\", \"camera\": {\"eye\": {\"x\": 1, \"y\": 1, \"z\": 1}}}, \"template\": {\"data\": {\"bar\": [{\"error_x\": {\"color\": \"#2a3f5f\"}, \"error_y\": {\"color\": \"#2a3f5f\"}, \"marker\": {\"line\": {\"color\": \"#E5ECF6\", \"width\": 0.5}}, \"type\": \"bar\"}], \"barpolar\": [{\"marker\": {\"line\": {\"color\": \"#E5ECF6\", \"width\": 0.5}}, \"type\": \"barpolar\"}], \"carpet\": [{\"aaxis\": {\"endlinecolor\": \"#2a3f5f\", \"gridcolor\": \"white\", \"linecolor\": \"white\", \"minorgridcolor\": \"white\", \"startlinecolor\": \"#2a3f5f\"}, \"baxis\": {\"endlinecolor\": \"#2a3f5f\", \"gridcolor\": \"white\", \"linecolor\": \"white\", \"minorgridcolor\": \"white\", \"startlinecolor\": \"#2a3f5f\"}, \"type\": \"carpet\"}], \"choropleth\": [{\"colorbar\": {\"outlinewidth\": 0, \"ticks\": \"\"}, \"type\": \"choropleth\"}], \"contour\": [{\"colorbar\": {\"outlinewidth\": 0, \"ticks\": \"\"}, \"colorscale\": [[0.0, \"#0d0887\"], [0.1111111111111111, \"#46039f\"], [0.2222222222222222, \"#7201a8\"], [0.3333333333333333, \"#9c179e\"], [0.4444444444444444, \"#bd3786\"], [0.5555555555555556, \"#d8576b\"], [0.6666666666666666, \"#ed7953\"], [0.7777777777777778, \"#fb9f3a\"], [0.8888888888888888, \"#fdca26\"], [1.0, \"#f0f921\"]], \"type\": \"contour\"}], \"contourcarpet\": [{\"colorbar\": {\"outlinewidth\": 0, \"ticks\": \"\"}, \"type\": \"contourcarpet\"}], \"heatmap\": [{\"colorbar\": {\"outlinewidth\": 0, \"ticks\": \"\"}, \"colorscale\": [[0.0, \"#0d0887\"], [0.1111111111111111, \"#46039f\"], [0.2222222222222222, \"#7201a8\"], [0.3333333333333333, \"#9c179e\"], [0.4444444444444444, \"#bd3786\"], [0.5555555555555556, \"#d8576b\"], [0.6666666666666666, \"#ed7953\"], [0.7777777777777778, \"#fb9f3a\"], [0.8888888888888888, \"#fdca26\"], [1.0, \"#f0f921\"]], \"type\": \"heatmap\"}], \"heatmapgl\": [{\"colorbar\": {\"outlinewidth\": 0, \"ticks\": \"\"}, \"colorscale\": [[0.0, \"#0d0887\"], [0.1111111111111111, \"#46039f\"], [0.2222222222222222, \"#7201a8\"], [0.3333333333333333, \"#9c179e\"], [0.4444444444444444, \"#bd3786\"], [0.5555555555555556, \"#d8576b\"], [0.6666666666666666, \"#ed7953\"], [0.7777777777777778, \"#fb9f3a\"], [0.8888888888888888, \"#fdca26\"], [1.0, \"#f0f921\"]], \"type\": \"heatmapgl\"}], \"histogram\": [{\"marker\": {\"colorbar\": {\"outlinewidth\": 0, \"ticks\": \"\"}}, \"type\": \"histogram\"}], \"histogram2d\": [{\"colorbar\": {\"outlinewidth\": 0, \"ticks\": \"\"}, \"colorscale\": [[0.0, \"#0d0887\"], [0.1111111111111111, \"#46039f\"], [0.2222222222222222, \"#7201a8\"], [0.3333333333333333, \"#9c179e\"], [0.4444444444444444, \"#bd3786\"], [0.5555555555555556, \"#d8576b\"], [0.6666666666666666, \"#ed7953\"], [0.7777777777777778, \"#fb9f3a\"], [0.8888888888888888, \"#fdca26\"], [1.0, \"#f0f921\"]], \"type\": \"histogram2d\"}], \"histogram2dcontour\": [{\"colorbar\": {\"outlinewidth\": 0, \"ticks\": \"\"}, \"colorscale\": [[0.0, \"#0d0887\"], [0.1111111111111111, \"#46039f\"], [0.2222222222222222, \"#7201a8\"], [0.3333333333333333, \"#9c179e\"], [0.4444444444444444, \"#bd3786\"], [0.5555555555555556, \"#d8576b\"], [0.6666666666666666, \"#ed7953\"], [0.7777777777777778, \"#fb9f3a\"], [0.8888888888888888, \"#fdca26\"], [1.0, \"#f0f921\"]], \"type\": \"histogram2dcontour\"}], \"mesh3d\": [{\"colorbar\": {\"outlinewidth\": 0, \"ticks\": \"\"}, \"type\": \"mesh3d\"}], \"parcoords\": [{\"line\": {\"colorbar\": {\"outlinewidth\": 0, \"ticks\": \"\"}}, \"type\": \"parcoords\"}], \"pie\": [{\"automargin\": true, \"type\": \"pie\"}], \"scatter\": [{\"marker\": {\"colorbar\": {\"outlinewidth\": 0, \"ticks\": \"\"}}, \"type\": \"scatter\"}], \"scatter3d\": [{\"line\": {\"colorbar\": {\"outlinewidth\": 0, \"ticks\": \"\"}}, \"marker\": {\"colorbar\": {\"outlinewidth\": 0, \"ticks\": \"\"}}, \"type\": \"scatter3d\"}], \"scattercarpet\": [{\"marker\": {\"colorbar\": {\"outlinewidth\": 0, \"ticks\": \"\"}}, \"type\": \"scattercarpet\"}], \"scattergeo\": [{\"marker\": {\"colorbar\": {\"outlinewidth\": 0, \"ticks\": \"\"}}, \"type\": \"scattergeo\"}], \"scattergl\": [{\"marker\": {\"colorbar\": {\"outlinewidth\": 0, \"ticks\": \"\"}}, \"type\": \"scattergl\"}], \"scattermapbox\": [{\"marker\": {\"colorbar\": {\"outlinewidth\": 0, \"ticks\": \"\"}}, \"type\": \"scattermapbox\"}], \"scatterpolar\": [{\"marker\": {\"colorbar\": {\"outlinewidth\": 0, \"ticks\": \"\"}}, \"type\": \"scatterpolar\"}], \"scatterpolargl\": [{\"marker\": {\"colorbar\": {\"outlinewidth\": 0, \"ticks\": \"\"}}, \"type\": \"scatterpolargl\"}], \"scatterternary\": [{\"marker\": {\"colorbar\": {\"outlinewidth\": 0, \"ticks\": \"\"}}, \"type\": \"scatterternary\"}], \"surface\": [{\"colorbar\": {\"outlinewidth\": 0, \"ticks\": \"\"}, \"colorscale\": [[0.0, \"#0d0887\"], [0.1111111111111111, \"#46039f\"], [0.2222222222222222, \"#7201a8\"], [0.3333333333333333, \"#9c179e\"], [0.4444444444444444, \"#bd3786\"], [0.5555555555555556, \"#d8576b\"], [0.6666666666666666, \"#ed7953\"], [0.7777777777777778, \"#fb9f3a\"], [0.8888888888888888, \"#fdca26\"], [1.0, \"#f0f921\"]], \"type\": \"surface\"}], \"table\": [{\"cells\": {\"fill\": {\"color\": \"#EBF0F8\"}, \"line\": {\"color\": \"white\"}}, \"header\": {\"fill\": {\"color\": \"#C8D4E3\"}, \"line\": {\"color\": \"white\"}}, \"type\": \"table\"}]}, \"layout\": {\"annotationdefaults\": {\"arrowcolor\": \"#2a3f5f\", \"arrowhead\": 0, \"arrowwidth\": 1}, \"coloraxis\": {\"colorbar\": {\"outlinewidth\": 0, \"ticks\": \"\"}}, \"colorscale\": {\"diverging\": [[0, \"#8e0152\"], [0.1, \"#c51b7d\"], [0.2, \"#de77ae\"], [0.3, \"#f1b6da\"], [0.4, \"#fde0ef\"], [0.5, \"#f7f7f7\"], [0.6, \"#e6f5d0\"], [0.7, \"#b8e186\"], [0.8, \"#7fbc41\"], [0.9, \"#4d9221\"], [1, \"#276419\"]], \"sequential\": [[0.0, \"#0d0887\"], [0.1111111111111111, \"#46039f\"], [0.2222222222222222, \"#7201a8\"], [0.3333333333333333, \"#9c179e\"], [0.4444444444444444, \"#bd3786\"], [0.5555555555555556, \"#d8576b\"], [0.6666666666666666, \"#ed7953\"], [0.7777777777777778, \"#fb9f3a\"], [0.8888888888888888, \"#fdca26\"], [1.0, \"#f0f921\"]], \"sequentialminus\": [[0.0, \"#0d0887\"], [0.1111111111111111, \"#46039f\"], [0.2222222222222222, \"#7201a8\"], [0.3333333333333333, \"#9c179e\"], [0.4444444444444444, \"#bd3786\"], [0.5555555555555556, \"#d8576b\"], [0.6666666666666666, \"#ed7953\"], [0.7777777777777778, \"#fb9f3a\"], [0.8888888888888888, \"#fdca26\"], [1.0, \"#f0f921\"]]}, \"colorway\": [\"#636efa\", \"#EF553B\", \"#00cc96\", \"#ab63fa\", \"#FFA15A\", \"#19d3f3\", \"#FF6692\", \"#B6E880\", \"#FF97FF\", \"#FECB52\"], \"font\": {\"color\": \"#2a3f5f\"}, \"geo\": {\"bgcolor\": \"white\", \"lakecolor\": \"white\", \"landcolor\": \"#E5ECF6\", \"showlakes\": true, \"showland\": true, \"subunitcolor\": \"white\"}, \"hoverlabel\": {\"align\": \"left\"}, \"hovermode\": \"closest\", \"mapbox\": {\"style\": \"light\"}, \"paper_bgcolor\": \"white\", \"plot_bgcolor\": \"#E5ECF6\", \"polar\": {\"angularaxis\": {\"gridcolor\": \"white\", \"linecolor\": \"white\", \"ticks\": \"\"}, \"bgcolor\": \"#E5ECF6\", \"radialaxis\": {\"gridcolor\": \"white\", \"linecolor\": \"white\", \"ticks\": \"\"}}, \"scene\": {\"xaxis\": {\"backgroundcolor\": \"#E5ECF6\", \"gridcolor\": \"white\", \"gridwidth\": 2, \"linecolor\": \"white\", \"showbackground\": true, \"ticks\": \"\", \"zerolinecolor\": \"white\"}, \"yaxis\": {\"backgroundcolor\": \"#E5ECF6\", \"gridcolor\": \"white\", \"gridwidth\": 2, \"linecolor\": \"white\", \"showbackground\": true, \"ticks\": \"\", \"zerolinecolor\": \"white\"}, \"zaxis\": {\"backgroundcolor\": \"#E5ECF6\", \"gridcolor\": \"white\", \"gridwidth\": 2, \"linecolor\": \"white\", \"showbackground\": true, \"ticks\": \"\", \"zerolinecolor\": \"white\"}}, \"shapedefaults\": {\"line\": {\"color\": \"#2a3f5f\"}}, \"ternary\": {\"aaxis\": {\"gridcolor\": \"white\", \"linecolor\": \"white\", \"ticks\": \"\"}, \"baxis\": {\"gridcolor\": \"white\", \"linecolor\": \"white\", \"ticks\": \"\"}, \"bgcolor\": \"#E5ECF6\", \"caxis\": {\"gridcolor\": \"white\", \"linecolor\": \"white\", \"ticks\": \"\"}}, \"title\": {\"x\": 0.05}, \"xaxis\": {\"automargin\": true, \"gridcolor\": \"white\", \"linecolor\": \"white\", \"ticks\": \"\", \"title\": {\"standoff\": 15}, \"zerolinecolor\": \"white\", \"zerolinewidth\": 2}, \"yaxis\": {\"automargin\": true, \"gridcolor\": \"white\", \"linecolor\": \"white\", \"ticks\": \"\", \"title\": {\"standoff\": 15}, \"zerolinecolor\": \"white\", \"zerolinewidth\": 2}}}, \"width\": 1000},                        {\"responsive\": true}                    ).then(function(){\n",
       "                            \n",
       "var gd = document.getElementById('740b09ad-af12-4d81-a904-265c87702abd');\n",
       "var x = new MutationObserver(function (mutations, observer) {{\n",
       "        var display = window.getComputedStyle(gd).display;\n",
       "        if (!display || display === 'none') {{\n",
       "            console.log([gd, 'removed!']);\n",
       "            Plotly.purge(gd);\n",
       "            observer.disconnect();\n",
       "        }}\n",
       "}});\n",
       "\n",
       "// Listen for the removal of the full notebook cells\n",
       "var notebookContainer = gd.closest('#notebook-container');\n",
       "if (notebookContainer) {{\n",
       "    x.observe(notebookContainer, {childList: true});\n",
       "}}\n",
       "\n",
       "// Listen for the clearing of the current output cell\n",
       "var outputEl = gd.closest('.output');\n",
       "if (outputEl) {{\n",
       "    x.observe(outputEl, {childList: true});\n",
       "}}\n",
       "\n",
       "                        })                };                });            </script>        </div>"
      ]
     },
     "metadata": {},
     "output_type": "display_data"
    }
   ],
   "source": [
    "with ThreeDFigure() as fig: #trafo, back_trafo, swap_axes=\"xz\"\n",
    "    plane_offset = decision_plane.project([0,0,0]) #point where plane == plane.normal (plane doesn't need to go through [0,0,0])\n",
    "    fig.add_markers([0,0,0], size=3, name=\"Origin\") #coordinate center\n",
    "    fig.add_markers(plane_offset, size=3, name=\"Plane Offset\", color=\"cyan\")\n",
    "    fig.add_line(plane_offset+decision_plane.normal*minneg, plane_offset+decision_plane.normal*maxpos, name=\"Normal of Plane\") \n",
    "    \n",
    "    for point, side in zip(X, y):\n",
    "        if trafo(point)[0] in [minneg, maxneg, minpos, maxpos]:\n",
    "            specialnum = ['square', 'diamond', 'cross', 'x'][[minneg, maxneg, minpos, maxpos].index(trafo(point)[0])]\n",
    "            name = f\"D = {trafo(point)[0]:.2f} \" + [\"(min-)\", \"(max-)\", \"(min+)\", \"(min+)\"][[minneg, maxneg, minpos, maxpos].index(trafo(point)[0])]\n",
    "            fig.add_markers(point, color=\"blue\" if side else \"red\", size=5, legendgroup=name, marker_symbol=specialnum)\n",
    "            fig.add_line(point, back_trafo([0, trafo(point)[1], trafo(point)[2]]), color=\"blue\" if side else \"red\", legendgroup=name, opacity=0.4)            \n",
    "            fig.add_line(point, ortho_projection_affine(point, decision_plane.normal), color=\"blue\" if side else \"red\", legendgroup=name, opacity=0.4)\n",
    "        else:\n",
    "            fig.add_markers(point, color=\"blue\" if side else \"red\", legendgroup=\"Positive Samples\" if side else \"Negative Samples\")\n",
    "\n",
    "\n",
    "    xx, yy = make_meshgrid(minx=minx, miny=miny, maxx=maxx, maxy=maxy, margin=0.1)\n",
    "    fig.add_surface(xx, yy, decision_plane.z, name=\"Decision Hyperplane\")\n",
    "    fig.add_sample_projections(X, decision_plane.normal, n_samples=5, legendgroup=\"Sample Projections\", opacity=0.2)\n",
    "    fig.fig.update_layout(legend_font_size=16)\n",
    "    \n",
    "fig.fig.write_image(\"/home/chris/Documents/UNI_neu/Masterarbeit/MastersThesisText/graphics/DecisionplaneDistance.pdf\", engine=\"kaleido\")"
   ]
  },
  {
   "cell_type": "code",
   "execution_count": null,
   "metadata": {},
   "outputs": [],
   "source": [
    "fig.fig.write_image(\"/home/chris/Documents/UNI_neu/Masterarbeit/MastersThesisText/graphics/DecisionplaneDistance.pdf\", engine=\"kaleido\")"
   ]
  },
  {
   "cell_type": "code",
   "execution_count": null,
   "metadata": {},
   "outputs": [],
   "source": []
  }
 ],
 "metadata": {
  "kernelspec": {
   "display_name": "Python 3 (ipykernel)",
   "language": "python",
   "name": "python3"
  },
  "language_info": {
   "codemirror_mode": {
    "name": "ipython",
    "version": 3
   },
   "file_extension": ".py",
   "mimetype": "text/x-python",
   "name": "python",
   "nbconvert_exporter": "python",
   "pygments_lexer": "ipython3",
   "version": "3.10.0"
  }
 },
 "nbformat": 4,
 "nbformat_minor": 4
}
