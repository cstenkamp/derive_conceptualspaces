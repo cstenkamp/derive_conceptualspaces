{
 "cells": [
  {
   "cell_type": "markdown",
   "metadata": {},
   "source": [
    "## View this in Binder: [![Binder](https://mybinder.org/badge_logo.svg)](https://mybinder.org/v2/gh/cstenkamp/derive_conceptualspaces/main?labpath=notebooks%2Ftext_referenced_plots%2Fhyperplane_orthogonal_3d.ipynb)"
   ]
  },
  {
   "cell_type": "code",
   "execution_count": null,
   "metadata": {},
   "outputs": [],
   "source": [
    "import plotly.express as px\n",
    "import plotly.graph_objects as go\n",
    "from sklearn import svm, datasets\n",
    "from dataclasses import dataclass\n",
    "from sklearn.datasets import make_blobs\n",
    "import math\n",
    "import numpy as np"
   ]
  },
  {
   "cell_type": "code",
   "execution_count": null,
   "metadata": {},
   "outputs": [],
   "source": [
    "import plotly.express as pe\n",
    "import plotly.io as pio\n",
    "pio.renderers.default = \"plotly_mimetype+notebook_connected\""
   ]
  },
  {
   "cell_type": "code",
   "execution_count": null,
   "metadata": {},
   "outputs": [],
   "source": [
    "def ortho_projection_affine(a, b):\n",
    "    \"\"\"https://en.wikipedia.org/wiki/Vector_projection\"\"\"\n",
    "    return np.dot(np.dot(a,b)/np.dot(b,b),b)\n",
    "\n",
    "class ThreeDFigure():\n",
    "    def __init__(self, trafo_fn=None, back_trafo_fn=None, swap_axes=None):\n",
    "        self.trafo_fn = trafo_fn if trafo_fn is not None else lambda x: x\n",
    "        self.back_trafo_fn = back_trafo_fn if back_trafo_fn is not None else lambda x: x\n",
    "        self.swap_axes = swap_axes\n",
    "        #https://community.plotly.com/t/creating-a-3d-scatterplot-with-equal-scale-along-all-axes/15108/7\n",
    "        self.fig = go.Figure(layout=go.Layout(\n",
    "                        scene=dict(camera=dict(eye=dict(x=1, y=1, z=1)), aspectmode=\"data\"),\n",
    "                        autosize=True,\n",
    "                        width=1000,\n",
    "                        height=800,\n",
    "                        margin=dict(l=10, r=10, b=10, t=10, pad=4),\n",
    "                        paper_bgcolor=\"White\"))\n",
    "        \n",
    "    def _transform(self, points, inverse=False):\n",
    "        trafo_fn = self.back_trafo_fn if inverse else self.trafo_fn              \n",
    "        points = np.array([trafo_fn(point) for point in points])    \n",
    "        if self.swap_axes:\n",
    "            points = self._swap_axes(points, self.swap_axes)\n",
    "        return points\n",
    "    \n",
    "    def _swap_axes(self, points, swap_axes):\n",
    "        swap_translate = {\"x\": 0, \"y\": 1, \"z\": 2}\n",
    "        ind1, ind2 = swap_translate[swap_axes[0]], swap_translate[swap_axes[1]]\n",
    "        tmp = points[:,ind1].copy()\n",
    "        points[:,ind1] = points[:,ind2]\n",
    "        points[:,ind2] = tmp\n",
    "        return points\n",
    "    \n",
    "                    \n",
    "    def add_surface(self, xx, yy, z_func, swap_axes=None, opacity=None):\n",
    "        xy_arr = np.vstack([xx.flatten(), yy.flatten()]).T\n",
    "        z_arr = np.array([z_func(*i) for i in xy_arr])\n",
    "        points = np.column_stack([xy_arr, z_arr])\n",
    "        points = self._transform(points)\n",
    "        if swap_axes: \n",
    "            points = self._swap_axes(points, swap_axes)\n",
    "        surface_form = lambda x: x.reshape(round(math.sqrt(x.shape[0])),-1)\n",
    "        self.fig.add_trace(go.Surface(x=surface_form(points[:,0]), y=surface_form(points[:,1]), z=surface_form(points[:,2]), opacity=opacity, showlegend=False, showscale=False))\n",
    "    \n",
    "    \n",
    "    def add_line(self, point1, point2, width=6, do_transform=True, name=None, **kwargs):\n",
    "        if do_transform:\n",
    "            point1 = self._transform(np.array([point1])).squeeze()\n",
    "            point2 = self._transform(np.array([point2])).squeeze()\n",
    "        self.fig.add_trace(\n",
    "            go.Scatter3d(x = [point1[0], point2[0]],\n",
    "                         y = [point1[1], point2[1]],\n",
    "                         z = [point1[2], point2[2]],\n",
    "                         marker = dict(size = 1),\n",
    "                         line = dict(width = width),\n",
    "                         name=name,\n",
    "                         **kwargs\n",
    "                         )\n",
    "        )\n",
    "        \n",
    "    def add_markers(self, points, color=\"black\", size=2, name=None, **kwargs):\n",
    "        points = np.array(points)\n",
    "        if points.ndim == 1: points = np.array([points])\n",
    "        points = self._transform(points)\n",
    "        default_args = dict(mode=\"markers\", x=points[:,0], y=points[:,1], z=points[:,2], marker={\"color\": color, \"size\": size, \"line\": {\"width\": 0}}, name=name)\n",
    "        self.fig.add_trace(go.Scatter3d(**{**default_args, **kwargs}))\n",
    "        \n",
    "    \n",
    "    def add_sample_projections(self, X, onto, n_samples=10, **kwargs):\n",
    "        show_vecs = X[np.random.choice(X.shape[0], n_samples, replace=False), :]\n",
    "        for point in show_vecs:\n",
    "            proj = ortho_projection_affine(point, onto)\n",
    "            self.add_line(point, proj, **kwargs)\n",
    "            \n",
    "    \n",
    "    def __enter__(self, *args):\n",
    "        return self\n",
    "    \n",
    "    def __exit__(self, exc_type, exc, exc_tb):\n",
    "        if not exc_type:\n",
    "            display(self.fig)\n",
    "    "
   ]
  },
  {
   "cell_type": "code",
   "execution_count": null,
   "metadata": {},
   "outputs": [],
   "source": [
    "def make_meshgrid(X=None, minx=None, miny=None, maxx=None, maxy=None, size=None, amount=30, margin=0):\n",
    "    assert X is not None or (minx is not None and miny is not None and maxx is not None and maxy is not None) or size is not None\n",
    "    if X is not None:\n",
    "        minx = min(X[:,0]) if minx is None or min(X[:,0])<minx else minx\n",
    "        miny = min(X[:,1]) if miny is None or min(X[:,1])<miny else miny\n",
    "        maxx = max(X[:,0]) if maxx is None or max(X[:,0])>maxx else maxx\n",
    "        maxy = max(X[:,1]) if maxy is None or max(X[:,1])>maxy else maxy\n",
    "    elif size is not None and (minx is None and miny is None and maxx is None and maxy is None):\n",
    "        minx = miny = -size\n",
    "        maxx = maxy = size\n",
    "    lsx = np.linspace(minx-margin, maxx+margin, amount)\n",
    "    lsy = np.linspace(miny-margin, maxy+margin, amount)\n",
    "    xx, yy = np.meshgrid(lsx,lsy)\n",
    "    return xx, yy\n",
    "\n"
   ]
  },
  {
   "cell_type": "code",
   "execution_count": null,
   "metadata": {},
   "outputs": [],
   "source": [
    "@dataclass\n",
    "class Plane:\n",
    "    a: float\n",
    "    b: float\n",
    "    c: float\n",
    "    d: float\n",
    "    \n",
    "    @property\n",
    "    def normal(self):\n",
    "        return np.array([self.a, self.b, self.c])\n",
    "    \n",
    "    def __contains__(self, point:np.array):\n",
    "        return np.isclose(self.a*point[0] + self.b*point[1] + self.c*point[2] + self.d, 0)\n",
    "    \n",
    "    def project(self, point):\n",
    "        x,y,z = point\n",
    "        k = (self.a*x + self.b*y + self.c*z + self.d)/(self.a**2 + self.b**2 + self.c**2)\n",
    "        return np.array([x - k*self.a, y-k*self.b, z-k*self.c])\n",
    "   \n",
    "    def z(self, x, y):\n",
    "        return (- self.d - self.b*y - self.a*x)/self.c"
   ]
  },
  {
   "cell_type": "code",
   "execution_count": null,
   "metadata": {},
   "outputs": [],
   "source": [
    "def make_base_changer(plane):\n",
    "    uvec1 = plane.normal\n",
    "    uvec2 = [0, -plane.d/plane.b, plane.d/plane.c] #NOT [1, 0, plane.z(model, 1, 0)] !!\n",
    "    uvec3 = np.cross(uvec1, uvec2)\n",
    "    transition_matrix = np.linalg.inv(np.array([uvec1, uvec2, uvec3]).T)\n",
    "    \n",
    "    origin = np.array([0,0,0])\n",
    "    new_origin = plane.project(origin)\n",
    "    forward  = lambda point: transition_matrix.dot(point - new_origin)\n",
    "    backward = lambda point: np.linalg.inv(transition_matrix).dot(point) + new_origin\n",
    "    return forward, backward"
   ]
  },
  {
   "cell_type": "code",
   "execution_count": null,
   "metadata": {},
   "outputs": [],
   "source": [
    "X, y = make_blobs(n_samples=80, centers=2, random_state=2, n_features=3)\n",
    "model = svm.LinearSVC(C=1, max_iter=10000).fit(X, y)\n",
    "print(\"Coefficients:\", model.coef_, \"Intercept:\", model.intercept_)\n",
    "decision_plane = Plane(*model.coef_[0], model.intercept_[0])\n",
    "\n",
    "trafo, back_trafo = make_base_changer(decision_plane)\n",
    "\n",
    "onto_plane = np.array([back_trafo([0, trafo(point)[1], trafo(point)[2]]) for point, side in zip(X, y)])\n",
    "minx, miny = onto_plane.min(axis=0)[:2]\n",
    "maxx, maxy = onto_plane.max(axis=0)[:2]\n",
    "\n",
    "z_vals = [trafo(point)[0] for point in X]\n",
    "minneg, maxneg = min(z_vals), max([i for i in z_vals if i < 0])\n",
    "minpos, maxpos = min([i for i in z_vals if i > 0]), max(z_vals)"
   ]
  },
  {
   "cell_type": "code",
   "execution_count": null,
   "metadata": {},
   "outputs": [],
   "source": [
    "#instead of taking the transform, we could also just take the z-component (or the length, as x&y of it are 0) of the vector from a point to its projection\n",
    "\n",
    "for point, val in zip(X, y):\n",
    "    transformed_proj = np.around(trafo(decision_plane.project(point)-point), 5)\n",
    "    assert transformed_proj[1] == transformed_proj[2] == 0\n",
    "    assert (np.sign(transformed_proj[0]) == 1) == (val == 0)\n",
    "    \n",
    "assert all(np.array([trafo(point)[0] for point in X]).argsort() == np.array([(decision_plane.project(point)-point)[2] for point in X]).argsort())"
   ]
  },
  {
   "cell_type": "code",
   "execution_count": null,
   "metadata": {
    "tags": [
     "keep_output"
    ]
   },
   "outputs": [
    {
     "data": {
      "application/vnd.plotly.v1+json": {
       "config": {
        "plotlyServerURL": "https://plot.ly"
       },
       "data": [
        {
         "marker": {
          "color": "black",
          "line": {
           "width": 0
          },
          "size": 3
         },
         "mode": "markers",
         "name": "origin",
         "type": "scatter3d",
         "x": [
          0
         ],
         "y": [
          0
         ],
         "z": [
          0
         ]
        },
        {
         "marker": {
          "color": "yellow",
          "line": {
           "width": 0
          },
          "size": 2
         },
         "mode": "markers",
         "name": "plane_offset",
         "type": "scatter3d",
         "x": [
          0.10456881495298843
         ],
         "y": [
          -0.26743788389479123
         ],
         "z": [
          0.5043068180386802
         ]
        },
        {
         "line": {
          "width": 6
         },
         "marker": {
          "size": 1
         },
         "name": "plane_normal",
         "type": "scatter3d",
         "x": [
          1.2542484384391692,
          -0.8294160870912893
         ],
         "y": [
          -3.207778039803936,
          2.121256545746606
         ],
         "z": [
          6.048897458612388,
          -4.000047125896468
         ]
        },
        {
         "marker": {
          "color": "blue",
          "line": {
           "width": 0
          },
          "size": 2
         },
         "mode": "markers",
         "name": "4.520023188449724",
         "showlegend": false,
         "type": "scatter3d",
         "x": [
          0.042014020706258925
         ],
         "y": [
          -1.2900146220721205
         ],
         "z": [
          -3.847531434638628
         ]
        },
        {
         "marker": {
          "color": "blue",
          "line": {
           "width": 0
          },
          "size": 3
         },
         "mode": "markers",
         "name": "d=1.5948382010049518",
         "type": "scatter3d",
         "x": [
          -2.1339951601259597
         ],
         "y": [
          -1.9049146279088631
         ],
         "z": [
          -1.2486254908114804
         ]
        },
        {
         "line": {
          "width": 6
         },
         "marker": {
          "size": 1
         },
         "name": "^ len_d",
         "type": "scatter3d",
         "x": [
          -2.1339951601259597,
          -1.922805067999416
         ],
         "y": [
          -1.9049146279088631,
          -2.4450396294522116
         ],
         "z": [
          -1.2486254908114804,
          -0.23011339033950762
         ]
        },
        {
         "line": {
          "width": 6
         },
         "marker": {
          "size": 1
         },
         "name": "^ proj",
         "type": "scatter3d",
         "x": [
          -2.1339951601259597,
          -0.1066212771735558
         ],
         "y": [
          -1.9049146279088631,
          0.27268711764855724
         ],
         "z": [
          -1.2486254908114804,
          -0.5142052824332922
         ]
        },
        {
         "marker": {
          "color": "blue",
          "line": {
           "width": 0
          },
          "size": 2
         },
         "mode": "markers",
         "name": "3.7300691127196957",
         "showlegend": false,
         "type": "scatter3d",
         "x": [
          -2.6435542503000073
         ],
         "y": [
          -2.2908149558331123
         ],
         "z": [
          -3.153352381649631
         ]
        },
        {
         "marker": {
          "color": "red",
          "line": {
           "width": 0
          },
          "size": 2
         },
         "mode": "markers",
         "name": "-5.7461348169214785",
         "showlegend": false,
         "type": "scatter3d",
         "x": [
          -1.8403364633977217
         ],
         "y": [
          -10.383721431512676
         ],
         "z": [
          0.40227728210473745
         ]
        },
        {
         "marker": {
          "color": "red",
          "line": {
           "width": 0
          },
          "size": 2
         },
         "mode": "markers",
         "name": "-5.607594457911028",
         "showlegend": false,
         "type": "scatter3d",
         "x": [
          -1.6157792956837722
         ],
         "y": [
          -8.870134583868456
         ],
         "z": [
          1.0412201494423712
         ]
        },
        {
         "marker": {
          "color": "blue",
          "line": {
           "width": 0
          },
          "size": 2
         },
         "mode": "markers",
         "name": "2.4661681012892482",
         "showlegend": false,
         "type": "scatter3d",
         "x": [
          -1.608169583290394
         ],
         "y": [
          -2.1863995411328263
         ],
         "z": [
          -2.243803012204535
         ]
        },
        {
         "marker": {
          "color": "blue",
          "line": {
           "width": 0
          },
          "size": 2
         },
         "mode": "markers",
         "name": "3.837687211394698",
         "showlegend": false,
         "type": "scatter3d",
         "x": [
          -1.7225654661443077
         ],
         "y": [
          -0.8964459786387888
         ],
         "z": [
          -2.695887307645588
         ]
        },
        {
         "marker": {
          "color": "red",
          "line": {
           "width": 0
          },
          "size": 2
         },
         "mode": "markers",
         "name": "-3.8079088894978836",
         "showlegend": false,
         "type": "scatter3d",
         "x": [
          -0.771705714476493
         ],
         "y": [
          -9.265359357178491
         ],
         "z": [
          -0.8653628285493147
         ]
        },
        {
         "marker": {
          "color": "blue",
          "line": {
           "width": 0
          },
          "size": 2
         },
         "mode": "markers",
         "name": "3.6737755631569775",
         "showlegend": false,
         "type": "scatter3d",
         "x": [
          -0.67133173316653
         ],
         "y": [
          -0.6318620134069913
         ],
         "z": [
          -2.6349332327557478
         ]
        },
        {
         "marker": {
          "color": "blue",
          "line": {
           "width": 0
          },
          "size": 2
         },
         "mode": "markers",
         "name": "3.4460343859268887",
         "showlegend": false,
         "type": "scatter3d",
         "x": [
          -1.59821873248412
         ],
         "y": [
          -1.752368088371606
         ],
         "z": [
          -2.8443570200998987
         ]
        },
        {
         "marker": {
          "color": "red",
          "line": {
           "width": 0
          },
          "size": 2
         },
         "mode": "markers",
         "name": "-7.271758289060919",
         "showlegend": false,
         "type": "scatter3d",
         "x": [
          -1.876261656966392
         ],
         "y": [
          -9.500605859963326
         ],
         "z": [
          2.1682507770744737
         ]
        },
        {
         "marker": {
          "color": "red",
          "line": {
           "width": 0
          },
          "size": 2
         },
         "mode": "markers",
         "name": "-6.020624994866978",
         "showlegend": false,
         "type": "scatter3d",
         "x": [
          1.3051929109046245
         ],
         "y": [
          -7.646142640577349
         ],
         "z": [
          1.4339394299892925
         ]
        },
        {
         "marker": {
          "color": "blue",
          "line": {
           "width": 0
          },
          "size": 2
         },
         "mode": "markers",
         "name": "3.4031853945352184",
         "showlegend": false,
         "type": "scatter3d",
         "x": [
          -0.5586674798935111
         ],
         "y": [
          -2.6540097021810576
         ],
         "z": [
          -3.501820403841502
         ]
        },
        {
         "marker": {
          "color": "blue",
          "line": {
           "width": 0
          },
          "size": 2
         },
         "mode": "markers",
         "name": "3.49833052222182",
         "showlegend": false,
         "type": "scatter3d",
         "x": [
          -0.5370500045819107
         ],
         "y": [
          -1.3512043294085272
         ],
         "z": [
          -2.8958779309977802
         ]
        },
        {
         "marker": {
          "color": "blue",
          "line": {
           "width": 0
          },
          "size": 2
         },
         "mode": "markers",
         "name": "5.39942356448492",
         "showlegend": false,
         "type": "scatter3d",
         "x": [
          -2.4278706306650815
         ],
         "y": [
          -2.3000648458140063
         ],
         "z": [
          -4.614732745018286
         ]
        },
        {
         "marker": {
          "color": "red",
          "line": {
           "width": 0
          },
          "size": 2
         },
         "mode": "markers",
         "name": "-8.158316873882193",
         "showlegend": false,
         "type": "scatter3d",
         "x": [
          -2.189109572086774
         ],
         "y": [
          -8.930021318895749
         ],
         "z": [
          3.2854575703891404
         ]
        },
        {
         "marker": {
          "color": "red",
          "line": {
           "width": 0
          },
          "size": 2
         },
         "mode": "markers",
         "name": "-7.365155216091425",
         "showlegend": false,
         "type": "scatter3d",
         "x": [
          -1.2385625641615214
         ],
         "y": [
          -10.599400808555691
         ],
         "z": [
          1.5323078781549717
         ]
        },
        {
         "marker": {
          "color": "red",
          "line": {
           "width": 0
          },
          "size": 3
         },
         "mode": "markers",
         "name": "d=-1.6722925607257322",
         "type": "scatter3d",
         "x": [
          -1.5491589173759384
         ],
         "y": [
          -7.250108574555569
         ],
         "z": [
          -1.4415180189468613
         ]
        },
        {
         "line": {
          "width": 6
         },
         "marker": {
          "size": 1
         },
         "name": "^ len_d",
         "type": "scatter3d",
         "x": [
          -1.5491589173759384,
          -1.7706055943740557
         ],
         "y": [
          -7.250108574555569,
          -6.683752049251775
         ],
         "z": [
          -1.4415180189468613,
          -2.509494825343368
         ]
        },
        {
         "line": {
          "width": 6
         },
         "marker": {
          "size": 1
         },
         "name": "^ proj",
         "type": "scatter3d",
         "x": [
          -1.5491589173759384,
          0.32601549195110585
         ],
         "y": [
          -7.250108574555569,
          -0.8337944091985844
         ],
         "z": [
          -1.4415180189468613,
          1.572283624435188
         ]
        },
        {
         "marker": {
          "color": "blue",
          "line": {
           "width": 0
          },
          "size": 2
         },
         "mode": "markers",
         "name": "3.1917948947222525",
         "showlegend": false,
         "type": "scatter3d",
         "x": [
          -1.6580312392471215
         ],
         "y": [
          -2.4686234359156143
         ],
         "z": [
          -2.9967834212358087
         ]
        },
        {
         "marker": {
          "color": "red",
          "line": {
           "width": 0
          },
          "size": 2
         },
         "mode": "markers",
         "name": "-5.669719752491562",
         "showlegend": false,
         "type": "scatter3d",
         "x": [
          -0.777220540001882
         ],
         "y": [
          -10.726763450049406
         ],
         "z": [
          -0.06470266128815605
         ]
        },
        {
         "marker": {
          "color": "blue",
          "line": {
           "width": 0
          },
          "size": 2
         },
         "mode": "markers",
         "name": "3.958598412977568",
         "showlegend": false,
         "type": "scatter3d",
         "x": [
          -0.2077457436123662
         ],
         "y": [
          -0.6904645628096294
         ],
         "z": [
          -3.0030071301117554
         ]
        },
        {
         "marker": {
          "color": "red",
          "line": {
           "width": 0
          },
          "size": 2
         },
         "mode": "markers",
         "name": "-2.4474845200900743",
         "showlegend": false,
         "type": "scatter3d",
         "x": [
          -2.208993881683744
         ],
         "y": [
          -6.931037127562513
         ],
         "z": [
          -0.4799236902257027
         ]
        },
        {
         "marker": {
          "color": "red",
          "line": {
           "width": 0
          },
          "size": 2
         },
         "mode": "markers",
         "name": "-6.941137869735916",
         "showlegend": false,
         "type": "scatter3d",
         "x": [
          -2.1092372461747035
         ],
         "y": [
          -9.393765145033843
         ],
         "z": [
          1.993615444124878
         ]
        },
        {
         "marker": {
          "color": "blue",
          "line": {
           "width": 0
          },
          "size": 2
         },
         "mode": "markers",
         "name": "4.784595740157508",
         "showlegend": false,
         "type": "scatter3d",
         "x": [
          -0.3180427354058979
         ],
         "y": [
          -1.4010703116424414
         ],
         "z": [
          -4.0555125917167665
         ]
        },
        {
         "marker": {
          "color": "blue",
          "line": {
           "width": 0
          },
          "size": 2
         },
         "mode": "markers",
         "name": "3.3010364863426123",
         "showlegend": false,
         "type": "scatter3d",
         "x": [
          -1.7618984071926949
         ],
         "y": [
          -2.8473642653630744
         ],
         "z": [
          -3.268479933536673
         ]
        },
        {
         "marker": {
          "color": "red",
          "line": {
           "width": 0
          },
          "size": 2
         },
         "mode": "markers",
         "name": "-5.949907955088838",
         "showlegend": false,
         "type": "scatter3d",
         "x": [
          -1.6994184393126137
         ],
         "y": [
          -9.613804261878917
         ],
         "z": [
          0.9536793178805771
         ]
        },
        {
         "marker": {
          "color": "red",
          "line": {
           "width": 0
          },
          "size": 2
         },
         "mode": "markers",
         "name": "-7.633641103929979",
         "showlegend": false,
         "type": "scatter3d",
         "x": [
          -0.8996299869449244
         ],
         "y": [
          -9.698610632187053
         ],
         "z": [
          2.1667810560691363
         ]
        },
        {
         "marker": {
          "color": "red",
          "line": {
           "width": 0
          },
          "size": 3
         },
         "mode": "markers",
         "name": "d=-8.682002853401347",
         "type": "scatter3d",
         "x": [
          0.1265942845014456
         ],
         "y": [
          -11.219434867826742
         ],
         "z": [
          2.0340735109649115
         ]
        },
        {
         "line": {
          "width": 6
         },
         "marker": {
          "size": 1
         },
         "name": "^ len_d",
         "type": "scatter3d",
         "x": [
          0.1265942845014456,
          -1.023085338984735
         ],
         "y": [
          -11.219434867826742,
          -8.279094711917596
         ],
         "z": [
          2.0340735109649115,
          -3.510517129608796
         ]
        },
        {
         "line": {
          "width": 6
         },
         "marker": {
          "size": 1
         },
         "name": "^ proj",
         "type": "scatter3d",
         "x": [
          0.1265942845014456,
          1.2542484384391692
         ],
         "y": [
          -11.219434867826742,
          -3.207778039803936
         ],
         "z": [
          2.0340735109649115,
          6.048897458612388
         ]
        },
        {
         "marker": {
          "color": "blue",
          "line": {
           "width": 0
          },
          "size": 2
         },
         "mode": "markers",
         "name": "3.9210955133280536",
         "showlegend": false,
         "type": "scatter3d",
         "x": [
          -3.2793979214271083
         ],
         "y": [
          -1.2275904418093788
         ],
         "z": [
          -2.6192215465178186
         ]
        },
        {
         "marker": {
          "color": "red",
          "line": {
           "width": 0
          },
          "size": 2
         },
         "mode": "markers",
         "name": "-7.6026248417199005",
         "showlegend": false,
         "type": "scatter3d",
         "x": [
          -0.5448223810947223
         ],
         "y": [
          -10.13472563123421
         ],
         "z": [
          1.835705839145523
         ]
        },
        {
         "marker": {
          "color": "red",
          "line": {
           "width": 0
          },
          "size": 2
         },
         "mode": "markers",
         "name": "-5.8216601934000485",
         "showlegend": false,
         "type": "scatter3d",
         "x": [
          -1.9993557985866022
         ],
         "y": [
          -10.064889958021181
         ],
         "z": [
          0.6681999291923968
         ]
        },
        {
         "marker": {
          "color": "blue",
          "line": {
           "width": 0
          },
          "size": 2
         },
         "mode": "markers",
         "name": "4.245312051210442",
         "showlegend": false,
         "type": "scatter3d",
         "x": [
          -0.6920363339672632
         ],
         "y": [
          -1.58898446753575
         ],
         "z": [
          -3.6215511381165517
         ]
        },
        {
         "marker": {
          "color": "blue",
          "line": {
           "width": 0
          },
          "size": 2
         },
         "mode": "markers",
         "name": "5.02203742131239",
         "showlegend": false,
         "type": "scatter3d",
         "x": [
          -0.2605230817068416
         ],
         "y": [
          -1.9216463929509258
         ],
         "z": [
          -4.544306524063666
         ]
        },
        {
         "marker": {
          "color": "blue",
          "line": {
           "width": 0
          },
          "size": 2
         },
         "mode": "markers",
         "name": "2.3568807096933533",
         "showlegend": false,
         "type": "scatter3d",
         "x": [
          -1.7200746184897326
         ],
         "y": [
          -1.7407911494275212
         ],
         "z": [
          -1.8918666646659397
         ]
        },
        {
         "marker": {
          "color": "blue",
          "line": {
           "width": 0
          },
          "size": 2
         },
         "mode": "markers",
         "name": "2.0015448180335826",
         "showlegend": false,
         "type": "scatter3d",
         "x": [
          -0.5415872984195823
         ],
         "y": [
          -2.5864049413688104
         ],
         "z": [
          -2.2841602985608693
         ]
        },
        {
         "marker": {
          "color": "blue",
          "line": {
           "width": 0
          },
          "size": 2
         },
         "mode": "markers",
         "name": "5.15483781192825",
         "showlegend": false,
         "type": "scatter3d",
         "x": [
          -3.1439561214259393
         ],
         "y": [
          -1.2621558942512991
         ],
         "z": [
          -3.7089967902252914
         ]
        },
        {
         "marker": {
          "color": "blue",
          "line": {
           "width": 0
          },
          "size": 2
         },
         "mode": "markers",
         "name": "1.8055692474365879",
         "showlegend": false,
         "type": "scatter3d",
         "x": [
          1.9861932534769364
         ],
         "y": [
          -0.6217826382099462
         ],
         "z": [
          -1.6007107275242336
         ]
        },
        {
         "marker": {
          "color": "red",
          "line": {
           "width": 0
          },
          "size": 2
         },
         "mode": "markers",
         "name": "-6.668973466538407",
         "showlegend": false,
         "type": "scatter3d",
         "x": [
          -0.7782447503786115
         ],
         "y": [
          -10.325689067272036
         ],
         "z": [
          0.993259319045779
         ]
        },
        {
         "marker": {
          "color": "blue",
          "line": {
           "width": 0
          },
          "size": 2
         },
         "mode": "markers",
         "name": "4.968412671976391",
         "showlegend": false,
         "type": "scatter3d",
         "x": [
          -2.354351183964895
         ],
         "y": [
          -1.0009774375225404
         ],
         "z": [
          -3.576560153702099
         ]
        },
        {
         "marker": {
          "color": "blue",
          "line": {
           "width": 0
          },
          "size": 2
         },
         "mode": "markers",
         "name": "2.6886741730627985",
         "showlegend": false,
         "type": "scatter3d",
         "x": [
          0.5324423095002062
         ],
         "y": [
          -3.306711369346252
         ],
         "z": [
          -3.4699431439198865
         ]
        },
        {
         "marker": {
          "color": "blue",
          "line": {
           "width": 0
          },
          "size": 2
         },
         "mode": "markers",
         "name": "5.755544360298761",
         "showlegend": false,
         "type": "scatter3d",
         "x": [
          -0.7956119992676421
         ],
         "y": [
          -1.4661397829437133
         ],
         "z": [
          -4.812114131071052
         ]
        },
        {
         "marker": {
          "color": "red",
          "line": {
           "width": 0
          },
          "size": 2
         },
         "mode": "markers",
         "name": "-7.372970083745641",
         "showlegend": false,
         "type": "scatter3d",
         "x": [
          -1.9577775344879664
         ],
         "y": [
          -10.920914390180792
         ],
         "z": [
          1.5175459875845316
         ]
        },
        {
         "marker": {
          "color": "red",
          "line": {
           "width": 0
          },
          "size": 2
         },
         "mode": "markers",
         "name": "-4.57069141942119",
         "showlegend": false,
         "type": "scatter3d",
         "x": [
          -0.846605627083354
         ],
         "y": [
          -8.203096133170305
         ],
         "z": [
          0.35857025239482054
         ]
        },
        {
         "marker": {
          "color": "red",
          "line": {
           "width": 0
          },
          "size": 2
         },
         "mode": "markers",
         "name": "-7.430588339887033",
         "showlegend": false,
         "type": "scatter3d",
         "x": [
          -0.9540985237729442
         ],
         "y": [
          -11.521798412170888
         ],
         "z": [
          1.0395050807158799
         ]
        },
        {
         "marker": {
          "color": "red",
          "line": {
           "width": 0
          },
          "size": 2
         },
         "mode": "markers",
         "name": "-7.419598425812105",
         "showlegend": false,
         "type": "scatter3d",
         "x": [
          -1.167375452343276
         ],
         "y": [
          -9.11103082677894
         ],
         "z": [
          2.352883420246779
         ]
        },
        {
         "marker": {
          "color": "red",
          "line": {
           "width": 0
          },
          "size": 2
         },
         "mode": "markers",
         "name": "-5.327551931360057",
         "showlegend": false,
         "type": "scatter3d",
         "x": [
          -1.6189239231891213
         ],
         "y": [
          -9.717659394294776
         ],
         "z": [
          0.35559454508988164
         ]
        },
        {
         "marker": {
          "color": "blue",
          "line": {
           "width": 0
          },
          "size": 2
         },
         "mode": "markers",
         "name": "1.816850576500767",
         "showlegend": false,
         "type": "scatter3d",
         "x": [
          2.815140476170738
         ],
         "y": [
          -0.7715230809383078
         ],
         "z": [
          -1.8615432636055613
         ]
        },
        {
         "marker": {
          "color": "red",
          "line": {
           "width": 0
          },
          "size": 2
         },
         "mode": "markers",
         "name": "-6.435046007729148",
         "showlegend": false,
         "type": "scatter3d",
         "x": [
          -2.467714243545209
         ],
         "y": [
          -10.9026925907463
         ],
         "z": [
          0.8397543618972337
         ]
        },
        {
         "marker": {
          "color": "blue",
          "line": {
           "width": 0
          },
          "size": 2
         },
         "mode": "markers",
         "name": "3.2707134231650223",
         "showlegend": false,
         "type": "scatter3d",
         "x": [
          -2.6111194173885
         ],
         "y": [
          -3.6182375500848063
         ],
         "z": [
          -3.4755489549556478
         ]
        },
        {
         "marker": {
          "color": "blue",
          "line": {
           "width": 0
          },
          "size": 2
         },
         "mode": "markers",
         "name": "4.721249958604409",
         "showlegend": false,
         "type": "scatter3d",
         "x": [
          -2.632141027502986
         ],
         "y": [
          -0.4598978823168711
         ],
         "z": [
          -3.0229987371752776
         ]
        },
        {
         "marker": {
          "color": "blue",
          "line": {
           "width": 0
          },
          "size": 2
         },
         "mode": "markers",
         "name": "1.9401984827340872",
         "showlegend": false,
         "type": "scatter3d",
         "x": [
          -0.27369741826522564
         ],
         "y": [
          -3.07510943607289
         ],
         "z": [
          -2.5469916880804377
         ]
        },
        {
         "marker": {
          "color": "red",
          "line": {
           "width": 0
          },
          "size": 2
         },
         "mode": "markers",
         "name": "-7.11230383797997",
         "showlegend": false,
         "type": "scatter3d",
         "x": [
          -0.8562772492940441
         ],
         "y": [
          -8.682295368407159
         ],
         "z": [
          2.255863220899003
         ]
        },
        {
         "marker": {
          "color": "blue",
          "line": {
           "width": 0
          },
          "size": 2
         },
         "mode": "markers",
         "name": "3.1372015343522968",
         "showlegend": false,
         "type": "scatter3d",
         "x": [
          0.5109244939452628
         ],
         "y": [
          -1.4122341513386731
         ],
         "z": [
          -2.8401393057647053
         ]
        },
        {
         "marker": {
          "color": "blue",
          "line": {
           "width": 0
          },
          "size": 2
         },
         "mode": "markers",
         "name": "4.509879808107183",
         "showlegend": false,
         "type": "scatter3d",
         "x": [
          -3.3631644102999134
         ],
         "y": [
          -0.982499871843562
         ],
         "z": [
          -2.9698066794796447
         ]
        },
        {
         "marker": {
          "color": "red",
          "line": {
           "width": 0
          },
          "size": 2
         },
         "mode": "markers",
         "name": "-5.1700756707264865",
         "showlegend": false,
         "type": "scatter3d",
         "x": [
          -3.6237051481598868
         ],
         "y": [
          -8.3199538727014
         ],
         "z": [
          1.3793276051777774
         ]
        },
        {
         "marker": {
          "color": "red",
          "line": {
           "width": 0
          },
          "size": 2
         },
         "mode": "markers",
         "name": "-5.996531929298778",
         "showlegend": false,
         "type": "scatter3d",
         "x": [
          -0.8982357230332279
         ],
         "y": [
          -8.915199921999717
         ],
         "z": [
          1.197457536488295
         ]
        },
        {
         "marker": {
          "color": "red",
          "line": {
           "width": 0
          },
          "size": 2
         },
         "mode": "markers",
         "name": "-8.40240868932296",
         "showlegend": false,
         "type": "scatter3d",
         "x": [
          -1.6839942264978642
         ],
         "y": [
          -10.865994029978038
         ],
         "z": [
          2.3604849815013074
         ]
        },
        {
         "marker": {
          "color": "blue",
          "line": {
           "width": 0
          },
          "size": 2
         },
         "mode": "markers",
         "name": "1.6149046980918074",
         "showlegend": false,
         "type": "scatter3d",
         "x": [
          -0.17566541418362114
         ],
         "y": [
          -1.8668860471137454
         ],
         "z": [
          -1.6514913914502833
         ]
        },
        {
         "marker": {
          "color": "red",
          "line": {
           "width": 0
          },
          "size": 2
         },
         "mode": "markers",
         "name": "-7.2380539086538045",
         "showlegend": false,
         "type": "scatter3d",
         "x": [
          -0.5849823521129334
         ],
         "y": [
          -11.514941909564786
         ],
         "z": [
          0.8037802928618021
         ]
        },
        {
         "marker": {
          "color": "red",
          "line": {
           "width": 0
          },
          "size": 2
         },
         "mode": "markers",
         "name": "-5.112324934209599",
         "showlegend": false,
         "type": "scatter3d",
         "x": [
          -2.3015166876819912
         ],
         "y": [
          -9.049079662462567
         ],
         "z": [
          0.669669487497659
         ]
        },
        {
         "marker": {
          "color": "red",
          "line": {
           "width": 0
          },
          "size": 2
         },
         "mode": "markers",
         "name": "-7.019765144742361",
         "showlegend": false,
         "type": "scatter3d",
         "x": [
          -0.062216324103634424
         ],
         "y": [
          -9.943480711595555
         ],
         "z": [
          1.3441380516619292
         ]
        },
        {
         "marker": {
          "color": "blue",
          "line": {
           "width": 0
          },
          "size": 2
         },
         "mode": "markers",
         "name": "3.768928037806781",
         "showlegend": false,
         "type": "scatter3d",
         "x": [
          -0.7791814301690143
         ],
         "y": [
          -0.7631855276368256
         ],
         "z": [
          -2.7626816126453972
         ]
        },
        {
         "marker": {
          "color": "blue",
          "line": {
           "width": 0
          },
          "size": 2
         },
         "mode": "markers",
         "name": "2.3337324706993128",
         "showlegend": false,
         "type": "scatter3d",
         "x": [
          -1.7410530238271087
         ],
         "y": [
          -2.848071176596078
         ],
         "z": [
          -2.4551399086483734
         ]
        },
        {
         "marker": {
          "color": "blue",
          "line": {
           "width": 0
          },
          "size": 2
         },
         "mode": "markers",
         "name": "3.7904984964329858",
         "showlegend": false,
         "type": "scatter3d",
         "x": [
          -1.846501587197685
         ],
         "y": [
          -1.2931171450700611
         ],
         "z": [
          -2.8406398843183185
         ]
        },
        {
         "marker": {
          "color": "red",
          "line": {
           "width": 0
          },
          "size": 2
         },
         "mode": "markers",
         "name": "-4.582068087013345",
         "showlegend": false,
         "type": "scatter3d",
         "x": [
          -1.661618438925011
         ],
         "y": [
          -9.41498635429603
         ],
         "z": [
          -0.10548938942187358
         ]
        },
        {
         "marker": {
          "color": "blue",
          "line": {
           "width": 0
          },
          "size": 2
         },
         "mode": "markers",
         "name": "5.070665300306688",
         "showlegend": false,
         "type": "scatter3d",
         "x": [
          -3.0584698759102187
         ],
         "y": [
          -1.70706525528034
         ],
         "z": [
          -3.891477773844276
         ]
        },
        {
         "marker": {
          "color": "red",
          "line": {
           "width": 0
          },
          "size": 2
         },
         "mode": "markers",
         "name": "-4.648084624817113",
         "showlegend": false,
         "type": "scatter3d",
         "x": [
          -1.4365361275445485
         ],
         "y": [
          -9.224904911440879
         ],
         "z": [
          0.004470508804561124
         ]
        },
        {
         "marker": {
          "color": "red",
          "line": {
           "width": 0
          },
          "size": 2
         },
         "mode": "markers",
         "name": "-7.9645537407313585",
         "showlegend": false,
         "type": "scatter3d",
         "x": [
          0.3043850992357515
         ],
         "y": [
          -12.140924819825662
         ],
         "z": [
          0.9017969346835247
         ]
        },
        {
         "marker": {
          "color": "red",
          "line": {
           "width": 0
          },
          "size": 2
         },
         "mode": "markers",
         "name": "-6.208403688481661",
         "showlegend": false,
         "type": "scatter3d",
         "x": [
          -3.1481926117236885
         ],
         "y": [
          -7.750290697461706
         ],
         "z": [
          2.4609275681475955
         ]
        },
        {
         "marker": {
          "color": "red",
          "line": {
           "width": 0
          },
          "size": 2
         },
         "mode": "markers",
         "name": "-4.789166209605559",
         "showlegend": false,
         "type": "scatter3d",
         "x": [
          -2.0279729064537872
         ],
         "y": [
          -9.472450112468849
         ],
         "z": [
          0.11514166433384088
         ]
        },
        {
         "marker": {
          "color": "red",
          "line": {
           "width": 0
          },
          "size": 2
         },
         "mode": "markers",
         "name": "-5.107546655604291",
         "showlegend": false,
         "type": "scatter3d",
         "x": [
          -2.413235230836907
         ],
         "y": [
          -9.048382808785483
         ],
         "z": [
          0.6891631187728673
         ]
        },
        {
         "marker": {
          "color": "red",
          "line": {
           "width": 0
          },
          "size": 2
         },
         "mode": "markers",
         "name": "-5.446876612507658",
         "showlegend": false,
         "type": "scatter3d",
         "x": [
          -1.5562814494106627
         ],
         "y": [
          -9.99835925717476
         ],
         "z": [
          0.2946596076377942
         ]
        },
        {
         "marker": {
          "color": "blue",
          "line": {
           "width": 0
          },
          "size": 2
         },
         "mode": "markers",
         "name": "3.4883934900440217",
         "showlegend": false,
         "type": "scatter3d",
         "x": [
          -1.1724465660561343
         ],
         "y": [
          -2.439472710192113
         ],
         "z": [
          -3.3328411309196055
         ]
        },
        {
         "marker": {
          "color": "blue",
          "line": {
           "width": 0
          },
          "size": 2
         },
         "mode": "markers",
         "name": "5.675131604989928",
         "showlegend": false,
         "type": "scatter3d",
         "x": [
          -1.545326266004287
         ],
         "y": [
          -3.1393185695146357
         ],
         "z": [
          -5.475955515667467
         ]
        },
        {
         "marker": {
          "color": "red",
          "line": {
           "width": 0
          },
          "size": 2
         },
         "mode": "markers",
         "name": "-6.956421339522069",
         "showlegend": false,
         "type": "scatter3d",
         "x": [
          -1.357320622512882
         ],
         "y": [
          -8.656772358005192
         ],
         "z": [
          2.2414624781712167
         ]
        },
        {
         "marker": {
          "color": "red",
          "line": {
           "width": 0
          },
          "size": 2
         },
         "mode": "markers",
         "name": "-6.0706034092483545",
         "showlegend": false,
         "type": "scatter3d",
         "x": [
          -1.6611944746752747
         ],
         "y": [
          -9.857144786521168
         ],
         "z": [
          0.9187787946802018
         ]
        },
        {
         "marker": {
          "color": "red",
          "line": {
           "width": 0
          },
          "size": 2
         },
         "mode": "markers",
         "name": "-7.2577976440757554",
         "showlegend": false,
         "type": "scatter3d",
         "x": [
          -0.7377493850108957
         ],
         "y": [
          -9.794983560435583
         ],
         "z": [
          1.7642612956435944
         ]
        },
        {
         "marker": {
          "color": "blue",
          "line": {
           "width": 0
          },
          "size": 2
         },
         "mode": "markers",
         "name": "3.840325264794541",
         "showlegend": false,
         "type": "scatter3d",
         "x": [
          -2.7469164972912514
         ],
         "y": [
          -1.9306617356064473
         ],
         "z": [
          -3.034170248128713
         ]
        },
        {
         "marker": {
          "color": "blue",
          "line": {
           "width": 0
          },
          "size": 2
         },
         "mode": "markers",
         "name": "2.440284714681518",
         "showlegend": false,
         "type": "scatter3d",
         "x": [
          -0.423953950089518
         ],
         "y": [
          -2.679734533092661
         ],
         "z": [
          -2.7290821665268874
         ]
        },
        {
         "marker": {
          "color": "blue",
          "line": {
           "width": 0
          },
          "size": 3
         },
         "mode": "markers",
         "name": "d=7.053147171551715",
         "type": "scatter3d",
         "x": [
          -2.317067132432493
         ],
         "y": [
          -2.040818781594588
         ],
         "z": [
          -5.8987617119969125
         ]
        },
        {
         "line": {
          "width": 6
         },
         "marker": {
          "size": 1
         },
         "name": "^ len_d",
         "type": "scatter3d",
         "x": [
          -2.317067132432493,
          -1.3830822303882158
         ],
         "y": [
          -2.040818781594588,
          -4.429513211235984
         ],
         "z": [
          -5.8987617119969125,
          -1.3944077680617641
         ]
        },
        {
         "line": {
          "width": 6
         },
         "marker": {
          "size": 1
         },
         "name": "^ proj",
         "type": "scatter3d",
         "x": [
          -2.317067132432493,
          -0.8294160870912893
         ],
         "y": [
          -2.040818781594588,
          2.121256545746606
         ],
         "z": [
          -5.8987617119969125,
          -4.000047125896468
         ]
        },
        {
         "showlegend": false,
         "showscale": false,
         "type": "surface",
         "x": [
          [
           -4.408331812177538,
           -4.147502105818506,
           -3.886672399459475,
           -3.6258426931004433,
           -3.365012986741412,
           -3.1041832803823803,
           -2.8433535740233484,
           -2.582523867664317,
           -2.3216941613052855,
           -2.060864454946254,
           -1.8000347485872226,
           -1.5392050422281907,
           -1.2783753358691592,
           -1.0175456295101277,
           -0.7567159231510958,
           -0.49588621679206435,
           -0.23505651043303288,
           0.025773195925999026,
           0.28660290228503005,
           0.547432608644062,
           0.808262315003093,
           1.069092021362125,
           1.3299217277211568,
           1.5907514340801878,
           1.8515811404392197,
           2.1124108467982516,
           2.3732405531572827,
           2.6340702595163146,
           2.8948999658753465,
           3.1557296722343775
          ],
          [
           -4.408331812177538,
           -4.147502105818506,
           -3.886672399459475,
           -3.6258426931004433,
           -3.365012986741412,
           -3.1041832803823803,
           -2.8433535740233484,
           -2.582523867664317,
           -2.3216941613052855,
           -2.060864454946254,
           -1.8000347485872226,
           -1.5392050422281907,
           -1.2783753358691592,
           -1.0175456295101277,
           -0.7567159231510958,
           -0.49588621679206435,
           -0.23505651043303288,
           0.025773195925999026,
           0.28660290228503005,
           0.547432608644062,
           0.808262315003093,
           1.069092021362125,
           1.3299217277211568,
           1.5907514340801878,
           1.8515811404392197,
           2.1124108467982516,
           2.3732405531572827,
           2.6340702595163146,
           2.8948999658753465,
           3.1557296722343775
          ],
          [
           -4.408331812177538,
           -4.147502105818506,
           -3.886672399459475,
           -3.6258426931004433,
           -3.365012986741412,
           -3.1041832803823803,
           -2.8433535740233484,
           -2.582523867664317,
           -2.3216941613052855,
           -2.060864454946254,
           -1.8000347485872226,
           -1.5392050422281907,
           -1.2783753358691592,
           -1.0175456295101277,
           -0.7567159231510958,
           -0.49588621679206435,
           -0.23505651043303288,
           0.025773195925999026,
           0.28660290228503005,
           0.547432608644062,
           0.808262315003093,
           1.069092021362125,
           1.3299217277211568,
           1.5907514340801878,
           1.8515811404392197,
           2.1124108467982516,
           2.3732405531572827,
           2.6340702595163146,
           2.8948999658753465,
           3.1557296722343775
          ],
          [
           -4.408331812177538,
           -4.147502105818506,
           -3.886672399459475,
           -3.6258426931004433,
           -3.365012986741412,
           -3.1041832803823803,
           -2.8433535740233484,
           -2.582523867664317,
           -2.3216941613052855,
           -2.060864454946254,
           -1.8000347485872226,
           -1.5392050422281907,
           -1.2783753358691592,
           -1.0175456295101277,
           -0.7567159231510958,
           -0.49588621679206435,
           -0.23505651043303288,
           0.025773195925999026,
           0.28660290228503005,
           0.547432608644062,
           0.808262315003093,
           1.069092021362125,
           1.3299217277211568,
           1.5907514340801878,
           1.8515811404392197,
           2.1124108467982516,
           2.3732405531572827,
           2.6340702595163146,
           2.8948999658753465,
           3.1557296722343775
          ],
          [
           -4.408331812177538,
           -4.147502105818506,
           -3.886672399459475,
           -3.6258426931004433,
           -3.365012986741412,
           -3.1041832803823803,
           -2.8433535740233484,
           -2.582523867664317,
           -2.3216941613052855,
           -2.060864454946254,
           -1.8000347485872226,
           -1.5392050422281907,
           -1.2783753358691592,
           -1.0175456295101277,
           -0.7567159231510958,
           -0.49588621679206435,
           -0.23505651043303288,
           0.025773195925999026,
           0.28660290228503005,
           0.547432608644062,
           0.808262315003093,
           1.069092021362125,
           1.3299217277211568,
           1.5907514340801878,
           1.8515811404392197,
           2.1124108467982516,
           2.3732405531572827,
           2.6340702595163146,
           2.8948999658753465,
           3.1557296722343775
          ],
          [
           -4.408331812177538,
           -4.147502105818506,
           -3.886672399459475,
           -3.6258426931004433,
           -3.365012986741412,
           -3.1041832803823803,
           -2.8433535740233484,
           -2.582523867664317,
           -2.3216941613052855,
           -2.060864454946254,
           -1.8000347485872226,
           -1.5392050422281907,
           -1.2783753358691592,
           -1.0175456295101277,
           -0.7567159231510958,
           -0.49588621679206435,
           -0.23505651043303288,
           0.025773195925999026,
           0.28660290228503005,
           0.547432608644062,
           0.808262315003093,
           1.069092021362125,
           1.3299217277211568,
           1.5907514340801878,
           1.8515811404392197,
           2.1124108467982516,
           2.3732405531572827,
           2.6340702595163146,
           2.8948999658753465,
           3.1557296722343775
          ],
          [
           -4.408331812177538,
           -4.147502105818506,
           -3.886672399459475,
           -3.6258426931004433,
           -3.365012986741412,
           -3.1041832803823803,
           -2.8433535740233484,
           -2.582523867664317,
           -2.3216941613052855,
           -2.060864454946254,
           -1.8000347485872226,
           -1.5392050422281907,
           -1.2783753358691592,
           -1.0175456295101277,
           -0.7567159231510958,
           -0.49588621679206435,
           -0.23505651043303288,
           0.025773195925999026,
           0.28660290228503005,
           0.547432608644062,
           0.808262315003093,
           1.069092021362125,
           1.3299217277211568,
           1.5907514340801878,
           1.8515811404392197,
           2.1124108467982516,
           2.3732405531572827,
           2.6340702595163146,
           2.8948999658753465,
           3.1557296722343775
          ],
          [
           -4.408331812177538,
           -4.147502105818506,
           -3.886672399459475,
           -3.6258426931004433,
           -3.365012986741412,
           -3.1041832803823803,
           -2.8433535740233484,
           -2.582523867664317,
           -2.3216941613052855,
           -2.060864454946254,
           -1.8000347485872226,
           -1.5392050422281907,
           -1.2783753358691592,
           -1.0175456295101277,
           -0.7567159231510958,
           -0.49588621679206435,
           -0.23505651043303288,
           0.025773195925999026,
           0.28660290228503005,
           0.547432608644062,
           0.808262315003093,
           1.069092021362125,
           1.3299217277211568,
           1.5907514340801878,
           1.8515811404392197,
           2.1124108467982516,
           2.3732405531572827,
           2.6340702595163146,
           2.8948999658753465,
           3.1557296722343775
          ],
          [
           -4.408331812177538,
           -4.147502105818506,
           -3.886672399459475,
           -3.6258426931004433,
           -3.365012986741412,
           -3.1041832803823803,
           -2.8433535740233484,
           -2.582523867664317,
           -2.3216941613052855,
           -2.060864454946254,
           -1.8000347485872226,
           -1.5392050422281907,
           -1.2783753358691592,
           -1.0175456295101277,
           -0.7567159231510958,
           -0.49588621679206435,
           -0.23505651043303288,
           0.025773195925999026,
           0.28660290228503005,
           0.547432608644062,
           0.808262315003093,
           1.069092021362125,
           1.3299217277211568,
           1.5907514340801878,
           1.8515811404392197,
           2.1124108467982516,
           2.3732405531572827,
           2.6340702595163146,
           2.8948999658753465,
           3.1557296722343775
          ],
          [
           -4.408331812177538,
           -4.147502105818506,
           -3.886672399459475,
           -3.6258426931004433,
           -3.365012986741412,
           -3.1041832803823803,
           -2.8433535740233484,
           -2.582523867664317,
           -2.3216941613052855,
           -2.060864454946254,
           -1.8000347485872226,
           -1.5392050422281907,
           -1.2783753358691592,
           -1.0175456295101277,
           -0.7567159231510958,
           -0.49588621679206435,
           -0.23505651043303288,
           0.025773195925999026,
           0.28660290228503005,
           0.547432608644062,
           0.808262315003093,
           1.069092021362125,
           1.3299217277211568,
           1.5907514340801878,
           1.8515811404392197,
           2.1124108467982516,
           2.3732405531572827,
           2.6340702595163146,
           2.8948999658753465,
           3.1557296722343775
          ],
          [
           -4.408331812177538,
           -4.147502105818506,
           -3.886672399459475,
           -3.6258426931004433,
           -3.365012986741412,
           -3.1041832803823803,
           -2.8433535740233484,
           -2.582523867664317,
           -2.3216941613052855,
           -2.060864454946254,
           -1.8000347485872226,
           -1.5392050422281907,
           -1.2783753358691592,
           -1.0175456295101277,
           -0.7567159231510958,
           -0.49588621679206435,
           -0.23505651043303288,
           0.025773195925999026,
           0.28660290228503005,
           0.547432608644062,
           0.808262315003093,
           1.069092021362125,
           1.3299217277211568,
           1.5907514340801878,
           1.8515811404392197,
           2.1124108467982516,
           2.3732405531572827,
           2.6340702595163146,
           2.8948999658753465,
           3.1557296722343775
          ],
          [
           -4.408331812177538,
           -4.147502105818506,
           -3.886672399459475,
           -3.6258426931004433,
           -3.365012986741412,
           -3.1041832803823803,
           -2.8433535740233484,
           -2.582523867664317,
           -2.3216941613052855,
           -2.060864454946254,
           -1.8000347485872226,
           -1.5392050422281907,
           -1.2783753358691592,
           -1.0175456295101277,
           -0.7567159231510958,
           -0.49588621679206435,
           -0.23505651043303288,
           0.025773195925999026,
           0.28660290228503005,
           0.547432608644062,
           0.808262315003093,
           1.069092021362125,
           1.3299217277211568,
           1.5907514340801878,
           1.8515811404392197,
           2.1124108467982516,
           2.3732405531572827,
           2.6340702595163146,
           2.8948999658753465,
           3.1557296722343775
          ],
          [
           -4.408331812177538,
           -4.147502105818506,
           -3.886672399459475,
           -3.6258426931004433,
           -3.365012986741412,
           -3.1041832803823803,
           -2.8433535740233484,
           -2.582523867664317,
           -2.3216941613052855,
           -2.060864454946254,
           -1.8000347485872226,
           -1.5392050422281907,
           -1.2783753358691592,
           -1.0175456295101277,
           -0.7567159231510958,
           -0.49588621679206435,
           -0.23505651043303288,
           0.025773195925999026,
           0.28660290228503005,
           0.547432608644062,
           0.808262315003093,
           1.069092021362125,
           1.3299217277211568,
           1.5907514340801878,
           1.8515811404392197,
           2.1124108467982516,
           2.3732405531572827,
           2.6340702595163146,
           2.8948999658753465,
           3.1557296722343775
          ],
          [
           -4.408331812177538,
           -4.147502105818506,
           -3.886672399459475,
           -3.6258426931004433,
           -3.365012986741412,
           -3.1041832803823803,
           -2.8433535740233484,
           -2.582523867664317,
           -2.3216941613052855,
           -2.060864454946254,
           -1.8000347485872226,
           -1.5392050422281907,
           -1.2783753358691592,
           -1.0175456295101277,
           -0.7567159231510958,
           -0.49588621679206435,
           -0.23505651043303288,
           0.025773195925999026,
           0.28660290228503005,
           0.547432608644062,
           0.808262315003093,
           1.069092021362125,
           1.3299217277211568,
           1.5907514340801878,
           1.8515811404392197,
           2.1124108467982516,
           2.3732405531572827,
           2.6340702595163146,
           2.8948999658753465,
           3.1557296722343775
          ],
          [
           -4.408331812177538,
           -4.147502105818506,
           -3.886672399459475,
           -3.6258426931004433,
           -3.365012986741412,
           -3.1041832803823803,
           -2.8433535740233484,
           -2.582523867664317,
           -2.3216941613052855,
           -2.060864454946254,
           -1.8000347485872226,
           -1.5392050422281907,
           -1.2783753358691592,
           -1.0175456295101277,
           -0.7567159231510958,
           -0.49588621679206435,
           -0.23505651043303288,
           0.025773195925999026,
           0.28660290228503005,
           0.547432608644062,
           0.808262315003093,
           1.069092021362125,
           1.3299217277211568,
           1.5907514340801878,
           1.8515811404392197,
           2.1124108467982516,
           2.3732405531572827,
           2.6340702595163146,
           2.8948999658753465,
           3.1557296722343775
          ],
          [
           -4.408331812177538,
           -4.147502105818506,
           -3.886672399459475,
           -3.6258426931004433,
           -3.365012986741412,
           -3.1041832803823803,
           -2.8433535740233484,
           -2.582523867664317,
           -2.3216941613052855,
           -2.060864454946254,
           -1.8000347485872226,
           -1.5392050422281907,
           -1.2783753358691592,
           -1.0175456295101277,
           -0.7567159231510958,
           -0.49588621679206435,
           -0.23505651043303288,
           0.025773195925999026,
           0.28660290228503005,
           0.547432608644062,
           0.808262315003093,
           1.069092021362125,
           1.3299217277211568,
           1.5907514340801878,
           1.8515811404392197,
           2.1124108467982516,
           2.3732405531572827,
           2.6340702595163146,
           2.8948999658753465,
           3.1557296722343775
          ],
          [
           -4.408331812177538,
           -4.147502105818506,
           -3.886672399459475,
           -3.6258426931004433,
           -3.365012986741412,
           -3.1041832803823803,
           -2.8433535740233484,
           -2.582523867664317,
           -2.3216941613052855,
           -2.060864454946254,
           -1.8000347485872226,
           -1.5392050422281907,
           -1.2783753358691592,
           -1.0175456295101277,
           -0.7567159231510958,
           -0.49588621679206435,
           -0.23505651043303288,
           0.025773195925999026,
           0.28660290228503005,
           0.547432608644062,
           0.808262315003093,
           1.069092021362125,
           1.3299217277211568,
           1.5907514340801878,
           1.8515811404392197,
           2.1124108467982516,
           2.3732405531572827,
           2.6340702595163146,
           2.8948999658753465,
           3.1557296722343775
          ],
          [
           -4.408331812177538,
           -4.147502105818506,
           -3.886672399459475,
           -3.6258426931004433,
           -3.365012986741412,
           -3.1041832803823803,
           -2.8433535740233484,
           -2.582523867664317,
           -2.3216941613052855,
           -2.060864454946254,
           -1.8000347485872226,
           -1.5392050422281907,
           -1.2783753358691592,
           -1.0175456295101277,
           -0.7567159231510958,
           -0.49588621679206435,
           -0.23505651043303288,
           0.025773195925999026,
           0.28660290228503005,
           0.547432608644062,
           0.808262315003093,
           1.069092021362125,
           1.3299217277211568,
           1.5907514340801878,
           1.8515811404392197,
           2.1124108467982516,
           2.3732405531572827,
           2.6340702595163146,
           2.8948999658753465,
           3.1557296722343775
          ],
          [
           -4.408331812177538,
           -4.147502105818506,
           -3.886672399459475,
           -3.6258426931004433,
           -3.365012986741412,
           -3.1041832803823803,
           -2.8433535740233484,
           -2.582523867664317,
           -2.3216941613052855,
           -2.060864454946254,
           -1.8000347485872226,
           -1.5392050422281907,
           -1.2783753358691592,
           -1.0175456295101277,
           -0.7567159231510958,
           -0.49588621679206435,
           -0.23505651043303288,
           0.025773195925999026,
           0.28660290228503005,
           0.547432608644062,
           0.808262315003093,
           1.069092021362125,
           1.3299217277211568,
           1.5907514340801878,
           1.8515811404392197,
           2.1124108467982516,
           2.3732405531572827,
           2.6340702595163146,
           2.8948999658753465,
           3.1557296722343775
          ],
          [
           -4.408331812177538,
           -4.147502105818506,
           -3.886672399459475,
           -3.6258426931004433,
           -3.365012986741412,
           -3.1041832803823803,
           -2.8433535740233484,
           -2.582523867664317,
           -2.3216941613052855,
           -2.060864454946254,
           -1.8000347485872226,
           -1.5392050422281907,
           -1.2783753358691592,
           -1.0175456295101277,
           -0.7567159231510958,
           -0.49588621679206435,
           -0.23505651043303288,
           0.025773195925999026,
           0.28660290228503005,
           0.547432608644062,
           0.808262315003093,
           1.069092021362125,
           1.3299217277211568,
           1.5907514340801878,
           1.8515811404392197,
           2.1124108467982516,
           2.3732405531572827,
           2.6340702595163146,
           2.8948999658753465,
           3.1557296722343775
          ],
          [
           -4.408331812177538,
           -4.147502105818506,
           -3.886672399459475,
           -3.6258426931004433,
           -3.365012986741412,
           -3.1041832803823803,
           -2.8433535740233484,
           -2.582523867664317,
           -2.3216941613052855,
           -2.060864454946254,
           -1.8000347485872226,
           -1.5392050422281907,
           -1.2783753358691592,
           -1.0175456295101277,
           -0.7567159231510958,
           -0.49588621679206435,
           -0.23505651043303288,
           0.025773195925999026,
           0.28660290228503005,
           0.547432608644062,
           0.808262315003093,
           1.069092021362125,
           1.3299217277211568,
           1.5907514340801878,
           1.8515811404392197,
           2.1124108467982516,
           2.3732405531572827,
           2.6340702595163146,
           2.8948999658753465,
           3.1557296722343775
          ],
          [
           -4.408331812177538,
           -4.147502105818506,
           -3.886672399459475,
           -3.6258426931004433,
           -3.365012986741412,
           -3.1041832803823803,
           -2.8433535740233484,
           -2.582523867664317,
           -2.3216941613052855,
           -2.060864454946254,
           -1.8000347485872226,
           -1.5392050422281907,
           -1.2783753358691592,
           -1.0175456295101277,
           -0.7567159231510958,
           -0.49588621679206435,
           -0.23505651043303288,
           0.025773195925999026,
           0.28660290228503005,
           0.547432608644062,
           0.808262315003093,
           1.069092021362125,
           1.3299217277211568,
           1.5907514340801878,
           1.8515811404392197,
           2.1124108467982516,
           2.3732405531572827,
           2.6340702595163146,
           2.8948999658753465,
           3.1557296722343775
          ],
          [
           -4.408331812177538,
           -4.147502105818506,
           -3.886672399459475,
           -3.6258426931004433,
           -3.365012986741412,
           -3.1041832803823803,
           -2.8433535740233484,
           -2.582523867664317,
           -2.3216941613052855,
           -2.060864454946254,
           -1.8000347485872226,
           -1.5392050422281907,
           -1.2783753358691592,
           -1.0175456295101277,
           -0.7567159231510958,
           -0.49588621679206435,
           -0.23505651043303288,
           0.025773195925999026,
           0.28660290228503005,
           0.547432608644062,
           0.808262315003093,
           1.069092021362125,
           1.3299217277211568,
           1.5907514340801878,
           1.8515811404392197,
           2.1124108467982516,
           2.3732405531572827,
           2.6340702595163146,
           2.8948999658753465,
           3.1557296722343775
          ],
          [
           -4.408331812177538,
           -4.147502105818506,
           -3.886672399459475,
           -3.6258426931004433,
           -3.365012986741412,
           -3.1041832803823803,
           -2.8433535740233484,
           -2.582523867664317,
           -2.3216941613052855,
           -2.060864454946254,
           -1.8000347485872226,
           -1.5392050422281907,
           -1.2783753358691592,
           -1.0175456295101277,
           -0.7567159231510958,
           -0.49588621679206435,
           -0.23505651043303288,
           0.025773195925999026,
           0.28660290228503005,
           0.547432608644062,
           0.808262315003093,
           1.069092021362125,
           1.3299217277211568,
           1.5907514340801878,
           1.8515811404392197,
           2.1124108467982516,
           2.3732405531572827,
           2.6340702595163146,
           2.8948999658753465,
           3.1557296722343775
          ],
          [
           -4.408331812177538,
           -4.147502105818506,
           -3.886672399459475,
           -3.6258426931004433,
           -3.365012986741412,
           -3.1041832803823803,
           -2.8433535740233484,
           -2.582523867664317,
           -2.3216941613052855,
           -2.060864454946254,
           -1.8000347485872226,
           -1.5392050422281907,
           -1.2783753358691592,
           -1.0175456295101277,
           -0.7567159231510958,
           -0.49588621679206435,
           -0.23505651043303288,
           0.025773195925999026,
           0.28660290228503005,
           0.547432608644062,
           0.808262315003093,
           1.069092021362125,
           1.3299217277211568,
           1.5907514340801878,
           1.8515811404392197,
           2.1124108467982516,
           2.3732405531572827,
           2.6340702595163146,
           2.8948999658753465,
           3.1557296722343775
          ],
          [
           -4.408331812177538,
           -4.147502105818506,
           -3.886672399459475,
           -3.6258426931004433,
           -3.365012986741412,
           -3.1041832803823803,
           -2.8433535740233484,
           -2.582523867664317,
           -2.3216941613052855,
           -2.060864454946254,
           -1.8000347485872226,
           -1.5392050422281907,
           -1.2783753358691592,
           -1.0175456295101277,
           -0.7567159231510958,
           -0.49588621679206435,
           -0.23505651043303288,
           0.025773195925999026,
           0.28660290228503005,
           0.547432608644062,
           0.808262315003093,
           1.069092021362125,
           1.3299217277211568,
           1.5907514340801878,
           1.8515811404392197,
           2.1124108467982516,
           2.3732405531572827,
           2.6340702595163146,
           2.8948999658753465,
           3.1557296722343775
          ],
          [
           -4.408331812177538,
           -4.147502105818506,
           -3.886672399459475,
           -3.6258426931004433,
           -3.365012986741412,
           -3.1041832803823803,
           -2.8433535740233484,
           -2.582523867664317,
           -2.3216941613052855,
           -2.060864454946254,
           -1.8000347485872226,
           -1.5392050422281907,
           -1.2783753358691592,
           -1.0175456295101277,
           -0.7567159231510958,
           -0.49588621679206435,
           -0.23505651043303288,
           0.025773195925999026,
           0.28660290228503005,
           0.547432608644062,
           0.808262315003093,
           1.069092021362125,
           1.3299217277211568,
           1.5907514340801878,
           1.8515811404392197,
           2.1124108467982516,
           2.3732405531572827,
           2.6340702595163146,
           2.8948999658753465,
           3.1557296722343775
          ],
          [
           -4.408331812177538,
           -4.147502105818506,
           -3.886672399459475,
           -3.6258426931004433,
           -3.365012986741412,
           -3.1041832803823803,
           -2.8433535740233484,
           -2.582523867664317,
           -2.3216941613052855,
           -2.060864454946254,
           -1.8000347485872226,
           -1.5392050422281907,
           -1.2783753358691592,
           -1.0175456295101277,
           -0.7567159231510958,
           -0.49588621679206435,
           -0.23505651043303288,
           0.025773195925999026,
           0.28660290228503005,
           0.547432608644062,
           0.808262315003093,
           1.069092021362125,
           1.3299217277211568,
           1.5907514340801878,
           1.8515811404392197,
           2.1124108467982516,
           2.3732405531572827,
           2.6340702595163146,
           2.8948999658753465,
           3.1557296722343775
          ],
          [
           -4.408331812177538,
           -4.147502105818506,
           -3.886672399459475,
           -3.6258426931004433,
           -3.365012986741412,
           -3.1041832803823803,
           -2.8433535740233484,
           -2.582523867664317,
           -2.3216941613052855,
           -2.060864454946254,
           -1.8000347485872226,
           -1.5392050422281907,
           -1.2783753358691592,
           -1.0175456295101277,
           -0.7567159231510958,
           -0.49588621679206435,
           -0.23505651043303288,
           0.025773195925999026,
           0.28660290228503005,
           0.547432608644062,
           0.808262315003093,
           1.069092021362125,
           1.3299217277211568,
           1.5907514340801878,
           1.8515811404392197,
           2.1124108467982516,
           2.3732405531572827,
           2.6340702595163146,
           2.8948999658753465,
           3.1557296722343775
          ],
          [
           -4.408331812177538,
           -4.147502105818506,
           -3.886672399459475,
           -3.6258426931004433,
           -3.365012986741412,
           -3.1041832803823803,
           -2.8433535740233484,
           -2.582523867664317,
           -2.3216941613052855,
           -2.060864454946254,
           -1.8000347485872226,
           -1.5392050422281907,
           -1.2783753358691592,
           -1.0175456295101277,
           -0.7567159231510958,
           -0.49588621679206435,
           -0.23505651043303288,
           0.025773195925999026,
           0.28660290228503005,
           0.547432608644062,
           0.808262315003093,
           1.069092021362125,
           1.3299217277211568,
           1.5907514340801878,
           1.8515811404392197,
           2.1124108467982516,
           2.3732405531572827,
           2.6340702595163146,
           2.8948999658753465,
           3.1557296722343775
          ]
         ],
         "y": [
          [
           -9.543563671344334,
           -9.543563671344334,
           -9.543563671344334,
           -9.543563671344334,
           -9.543563671344334,
           -9.543563671344334,
           -9.543563671344334,
           -9.543563671344334,
           -9.543563671344334,
           -9.543563671344334,
           -9.543563671344334,
           -9.543563671344334,
           -9.543563671344334,
           -9.543563671344334,
           -9.543563671344334,
           -9.543563671344334,
           -9.543563671344334,
           -9.543563671344334,
           -9.543563671344334,
           -9.543563671344334,
           -9.543563671344334,
           -9.543563671344334,
           -9.543563671344334,
           -9.543563671344334,
           -9.543563671344334,
           -9.543563671344334,
           -9.543563671344334,
           -9.543563671344334,
           -9.543563671344334,
           -9.543563671344334
          ],
          [
           -9.253553754226887,
           -9.253553754226887,
           -9.253553754226887,
           -9.253553754226887,
           -9.253553754226887,
           -9.253553754226887,
           -9.253553754226887,
           -9.253553754226887,
           -9.253553754226887,
           -9.253553754226887,
           -9.253553754226887,
           -9.253553754226887,
           -9.253553754226887,
           -9.253553754226887,
           -9.253553754226887,
           -9.253553754226887,
           -9.253553754226887,
           -9.253553754226887,
           -9.253553754226887,
           -9.253553754226887,
           -9.253553754226887,
           -9.253553754226887,
           -9.253553754226887,
           -9.253553754226887,
           -9.253553754226887,
           -9.253553754226887,
           -9.253553754226887,
           -9.253553754226887,
           -9.253553754226887,
           -9.253553754226887
          ],
          [
           -8.963543837109441,
           -8.963543837109441,
           -8.963543837109441,
           -8.963543837109441,
           -8.963543837109441,
           -8.963543837109441,
           -8.963543837109441,
           -8.963543837109441,
           -8.963543837109441,
           -8.963543837109441,
           -8.963543837109441,
           -8.963543837109441,
           -8.963543837109441,
           -8.963543837109441,
           -8.963543837109441,
           -8.963543837109441,
           -8.963543837109441,
           -8.963543837109441,
           -8.963543837109441,
           -8.963543837109441,
           -8.963543837109441,
           -8.963543837109441,
           -8.963543837109441,
           -8.963543837109441,
           -8.963543837109441,
           -8.963543837109441,
           -8.963543837109441,
           -8.963543837109441,
           -8.963543837109441,
           -8.963543837109441
          ],
          [
           -8.673533919991993,
           -8.673533919991993,
           -8.673533919991993,
           -8.673533919991993,
           -8.673533919991993,
           -8.673533919991993,
           -8.673533919991993,
           -8.673533919991993,
           -8.673533919991993,
           -8.673533919991993,
           -8.673533919991993,
           -8.673533919991993,
           -8.673533919991993,
           -8.673533919991993,
           -8.673533919991993,
           -8.673533919991993,
           -8.673533919991993,
           -8.673533919991993,
           -8.673533919991993,
           -8.673533919991993,
           -8.673533919991993,
           -8.673533919991993,
           -8.673533919991993,
           -8.673533919991993,
           -8.673533919991993,
           -8.673533919991993,
           -8.673533919991993,
           -8.673533919991993,
           -8.673533919991993,
           -8.673533919991993
          ],
          [
           -8.383524002874546,
           -8.383524002874546,
           -8.383524002874546,
           -8.383524002874546,
           -8.383524002874546,
           -8.383524002874546,
           -8.383524002874546,
           -8.383524002874546,
           -8.383524002874546,
           -8.383524002874546,
           -8.383524002874546,
           -8.383524002874546,
           -8.383524002874546,
           -8.383524002874546,
           -8.383524002874546,
           -8.383524002874546,
           -8.383524002874546,
           -8.383524002874546,
           -8.383524002874546,
           -8.383524002874546,
           -8.383524002874546,
           -8.383524002874546,
           -8.383524002874546,
           -8.383524002874546,
           -8.383524002874546,
           -8.383524002874546,
           -8.383524002874546,
           -8.383524002874546,
           -8.383524002874546,
           -8.383524002874546
          ],
          [
           -8.0935140857571,
           -8.0935140857571,
           -8.0935140857571,
           -8.0935140857571,
           -8.0935140857571,
           -8.0935140857571,
           -8.0935140857571,
           -8.0935140857571,
           -8.0935140857571,
           -8.0935140857571,
           -8.0935140857571,
           -8.0935140857571,
           -8.0935140857571,
           -8.0935140857571,
           -8.0935140857571,
           -8.0935140857571,
           -8.0935140857571,
           -8.0935140857571,
           -8.0935140857571,
           -8.0935140857571,
           -8.0935140857571,
           -8.0935140857571,
           -8.0935140857571,
           -8.0935140857571,
           -8.0935140857571,
           -8.0935140857571,
           -8.0935140857571,
           -8.0935140857571,
           -8.0935140857571,
           -8.0935140857571
          ],
          [
           -7.803504168639654,
           -7.803504168639654,
           -7.803504168639654,
           -7.803504168639654,
           -7.803504168639654,
           -7.803504168639654,
           -7.803504168639654,
           -7.803504168639654,
           -7.803504168639654,
           -7.803504168639654,
           -7.803504168639654,
           -7.803504168639654,
           -7.803504168639654,
           -7.803504168639654,
           -7.803504168639654,
           -7.803504168639654,
           -7.803504168639654,
           -7.803504168639654,
           -7.803504168639654,
           -7.803504168639654,
           -7.803504168639654,
           -7.803504168639654,
           -7.803504168639654,
           -7.803504168639654,
           -7.803504168639654,
           -7.803504168639654,
           -7.803504168639654,
           -7.803504168639654,
           -7.803504168639654,
           -7.803504168639654
          ],
          [
           -7.513494251522207,
           -7.513494251522207,
           -7.513494251522207,
           -7.513494251522207,
           -7.513494251522207,
           -7.513494251522207,
           -7.513494251522207,
           -7.513494251522207,
           -7.513494251522207,
           -7.513494251522207,
           -7.513494251522207,
           -7.513494251522207,
           -7.513494251522207,
           -7.513494251522207,
           -7.513494251522207,
           -7.513494251522207,
           -7.513494251522207,
           -7.513494251522207,
           -7.513494251522207,
           -7.513494251522207,
           -7.513494251522207,
           -7.513494251522207,
           -7.513494251522207,
           -7.513494251522207,
           -7.513494251522207,
           -7.513494251522207,
           -7.513494251522207,
           -7.513494251522207,
           -7.513494251522207,
           -7.513494251522207
          ],
          [
           -7.22348433440476,
           -7.22348433440476,
           -7.22348433440476,
           -7.22348433440476,
           -7.22348433440476,
           -7.22348433440476,
           -7.22348433440476,
           -7.22348433440476,
           -7.22348433440476,
           -7.22348433440476,
           -7.22348433440476,
           -7.22348433440476,
           -7.22348433440476,
           -7.22348433440476,
           -7.22348433440476,
           -7.22348433440476,
           -7.22348433440476,
           -7.22348433440476,
           -7.22348433440476,
           -7.22348433440476,
           -7.22348433440476,
           -7.22348433440476,
           -7.22348433440476,
           -7.22348433440476,
           -7.22348433440476,
           -7.22348433440476,
           -7.22348433440476,
           -7.22348433440476,
           -7.22348433440476,
           -7.22348433440476
          ],
          [
           -6.933474417287313,
           -6.933474417287313,
           -6.933474417287313,
           -6.933474417287313,
           -6.933474417287313,
           -6.933474417287313,
           -6.933474417287313,
           -6.933474417287313,
           -6.933474417287313,
           -6.933474417287313,
           -6.933474417287313,
           -6.933474417287313,
           -6.933474417287313,
           -6.933474417287313,
           -6.933474417287313,
           -6.933474417287313,
           -6.933474417287313,
           -6.933474417287313,
           -6.933474417287313,
           -6.933474417287313,
           -6.933474417287313,
           -6.933474417287313,
           -6.933474417287313,
           -6.933474417287313,
           -6.933474417287313,
           -6.933474417287313,
           -6.933474417287313,
           -6.933474417287313,
           -6.933474417287313,
           -6.933474417287313
          ],
          [
           -6.643464500169866,
           -6.643464500169866,
           -6.643464500169866,
           -6.643464500169866,
           -6.643464500169866,
           -6.643464500169866,
           -6.643464500169866,
           -6.643464500169866,
           -6.643464500169866,
           -6.643464500169866,
           -6.643464500169866,
           -6.643464500169866,
           -6.643464500169866,
           -6.643464500169866,
           -6.643464500169866,
           -6.643464500169866,
           -6.643464500169866,
           -6.643464500169866,
           -6.643464500169866,
           -6.643464500169866,
           -6.643464500169866,
           -6.643464500169866,
           -6.643464500169866,
           -6.643464500169866,
           -6.643464500169866,
           -6.643464500169866,
           -6.643464500169866,
           -6.643464500169866,
           -6.643464500169866,
           -6.643464500169866
          ],
          [
           -6.35345458305242,
           -6.35345458305242,
           -6.35345458305242,
           -6.35345458305242,
           -6.35345458305242,
           -6.35345458305242,
           -6.35345458305242,
           -6.35345458305242,
           -6.35345458305242,
           -6.35345458305242,
           -6.35345458305242,
           -6.35345458305242,
           -6.35345458305242,
           -6.35345458305242,
           -6.35345458305242,
           -6.35345458305242,
           -6.35345458305242,
           -6.35345458305242,
           -6.35345458305242,
           -6.35345458305242,
           -6.35345458305242,
           -6.35345458305242,
           -6.35345458305242,
           -6.35345458305242,
           -6.35345458305242,
           -6.35345458305242,
           -6.35345458305242,
           -6.35345458305242,
           -6.35345458305242,
           -6.35345458305242
          ],
          [
           -6.063444665934973,
           -6.063444665934973,
           -6.063444665934973,
           -6.063444665934973,
           -6.063444665934973,
           -6.063444665934973,
           -6.063444665934973,
           -6.063444665934973,
           -6.063444665934973,
           -6.063444665934973,
           -6.063444665934973,
           -6.063444665934973,
           -6.063444665934973,
           -6.063444665934973,
           -6.063444665934973,
           -6.063444665934973,
           -6.063444665934973,
           -6.063444665934973,
           -6.063444665934973,
           -6.063444665934973,
           -6.063444665934973,
           -6.063444665934973,
           -6.063444665934973,
           -6.063444665934973,
           -6.063444665934973,
           -6.063444665934973,
           -6.063444665934973,
           -6.063444665934973,
           -6.063444665934973,
           -6.063444665934973
          ],
          [
           -5.773434748817526,
           -5.773434748817526,
           -5.773434748817526,
           -5.773434748817526,
           -5.773434748817526,
           -5.773434748817526,
           -5.773434748817526,
           -5.773434748817526,
           -5.773434748817526,
           -5.773434748817526,
           -5.773434748817526,
           -5.773434748817526,
           -5.773434748817526,
           -5.773434748817526,
           -5.773434748817526,
           -5.773434748817526,
           -5.773434748817526,
           -5.773434748817526,
           -5.773434748817526,
           -5.773434748817526,
           -5.773434748817526,
           -5.773434748817526,
           -5.773434748817526,
           -5.773434748817526,
           -5.773434748817526,
           -5.773434748817526,
           -5.773434748817526,
           -5.773434748817526,
           -5.773434748817526,
           -5.773434748817526
          ],
          [
           -5.48342483170008,
           -5.48342483170008,
           -5.48342483170008,
           -5.48342483170008,
           -5.48342483170008,
           -5.48342483170008,
           -5.48342483170008,
           -5.48342483170008,
           -5.48342483170008,
           -5.48342483170008,
           -5.48342483170008,
           -5.48342483170008,
           -5.48342483170008,
           -5.48342483170008,
           -5.48342483170008,
           -5.48342483170008,
           -5.48342483170008,
           -5.48342483170008,
           -5.48342483170008,
           -5.48342483170008,
           -5.48342483170008,
           -5.48342483170008,
           -5.48342483170008,
           -5.48342483170008,
           -5.48342483170008,
           -5.48342483170008,
           -5.48342483170008,
           -5.48342483170008,
           -5.48342483170008,
           -5.48342483170008
          ],
          [
           -5.1934149145826325,
           -5.1934149145826325,
           -5.1934149145826325,
           -5.1934149145826325,
           -5.1934149145826325,
           -5.1934149145826325,
           -5.1934149145826325,
           -5.1934149145826325,
           -5.1934149145826325,
           -5.1934149145826325,
           -5.1934149145826325,
           -5.1934149145826325,
           -5.1934149145826325,
           -5.1934149145826325,
           -5.1934149145826325,
           -5.1934149145826325,
           -5.1934149145826325,
           -5.1934149145826325,
           -5.1934149145826325,
           -5.1934149145826325,
           -5.1934149145826325,
           -5.1934149145826325,
           -5.1934149145826325,
           -5.1934149145826325,
           -5.1934149145826325,
           -5.1934149145826325,
           -5.1934149145826325,
           -5.1934149145826325,
           -5.1934149145826325,
           -5.1934149145826325
          ],
          [
           -4.903404997465186,
           -4.903404997465186,
           -4.903404997465186,
           -4.903404997465186,
           -4.903404997465186,
           -4.903404997465186,
           -4.903404997465186,
           -4.903404997465186,
           -4.903404997465186,
           -4.903404997465186,
           -4.903404997465186,
           -4.903404997465186,
           -4.903404997465186,
           -4.903404997465186,
           -4.903404997465186,
           -4.903404997465186,
           -4.903404997465186,
           -4.903404997465186,
           -4.903404997465186,
           -4.903404997465186,
           -4.903404997465186,
           -4.903404997465186,
           -4.903404997465186,
           -4.903404997465186,
           -4.903404997465186,
           -4.903404997465186,
           -4.903404997465186,
           -4.903404997465186,
           -4.903404997465186,
           -4.903404997465186
          ],
          [
           -4.61339508034774,
           -4.61339508034774,
           -4.61339508034774,
           -4.61339508034774,
           -4.61339508034774,
           -4.61339508034774,
           -4.61339508034774,
           -4.61339508034774,
           -4.61339508034774,
           -4.61339508034774,
           -4.61339508034774,
           -4.61339508034774,
           -4.61339508034774,
           -4.61339508034774,
           -4.61339508034774,
           -4.61339508034774,
           -4.61339508034774,
           -4.61339508034774,
           -4.61339508034774,
           -4.61339508034774,
           -4.61339508034774,
           -4.61339508034774,
           -4.61339508034774,
           -4.61339508034774,
           -4.61339508034774,
           -4.61339508034774,
           -4.61339508034774,
           -4.61339508034774,
           -4.61339508034774,
           -4.61339508034774
          ],
          [
           -4.323385163230292,
           -4.323385163230292,
           -4.323385163230292,
           -4.323385163230292,
           -4.323385163230292,
           -4.323385163230292,
           -4.323385163230292,
           -4.323385163230292,
           -4.323385163230292,
           -4.323385163230292,
           -4.323385163230292,
           -4.323385163230292,
           -4.323385163230292,
           -4.323385163230292,
           -4.323385163230292,
           -4.323385163230292,
           -4.323385163230292,
           -4.323385163230292,
           -4.323385163230292,
           -4.323385163230292,
           -4.323385163230292,
           -4.323385163230292,
           -4.323385163230292,
           -4.323385163230292,
           -4.323385163230292,
           -4.323385163230292,
           -4.323385163230292,
           -4.323385163230292,
           -4.323385163230292,
           -4.323385163230292
          ],
          [
           -4.033375246112846,
           -4.033375246112846,
           -4.033375246112846,
           -4.033375246112846,
           -4.033375246112846,
           -4.033375246112846,
           -4.033375246112846,
           -4.033375246112846,
           -4.033375246112846,
           -4.033375246112846,
           -4.033375246112846,
           -4.033375246112846,
           -4.033375246112846,
           -4.033375246112846,
           -4.033375246112846,
           -4.033375246112846,
           -4.033375246112846,
           -4.033375246112846,
           -4.033375246112846,
           -4.033375246112846,
           -4.033375246112846,
           -4.033375246112846,
           -4.033375246112846,
           -4.033375246112846,
           -4.033375246112846,
           -4.033375246112846,
           -4.033375246112846,
           -4.033375246112846,
           -4.033375246112846,
           -4.033375246112846
          ],
          [
           -3.7433653289953988,
           -3.7433653289953988,
           -3.7433653289953988,
           -3.7433653289953988,
           -3.7433653289953988,
           -3.7433653289953988,
           -3.7433653289953988,
           -3.7433653289953988,
           -3.7433653289953988,
           -3.7433653289953988,
           -3.7433653289953988,
           -3.7433653289953988,
           -3.7433653289953988,
           -3.7433653289953988,
           -3.7433653289953988,
           -3.7433653289953988,
           -3.7433653289953988,
           -3.7433653289953988,
           -3.7433653289953988,
           -3.7433653289953988,
           -3.7433653289953988,
           -3.7433653289953988,
           -3.7433653289953988,
           -3.7433653289953988,
           -3.7433653289953988,
           -3.7433653289953988,
           -3.7433653289953988,
           -3.7433653289953988,
           -3.7433653289953988,
           -3.7433653289953988
          ],
          [
           -3.4533554118779524,
           -3.4533554118779524,
           -3.4533554118779524,
           -3.4533554118779524,
           -3.4533554118779524,
           -3.4533554118779524,
           -3.4533554118779524,
           -3.4533554118779524,
           -3.4533554118779524,
           -3.4533554118779524,
           -3.4533554118779524,
           -3.4533554118779524,
           -3.4533554118779524,
           -3.4533554118779524,
           -3.4533554118779524,
           -3.4533554118779524,
           -3.4533554118779524,
           -3.4533554118779524,
           -3.4533554118779524,
           -3.4533554118779524,
           -3.4533554118779524,
           -3.4533554118779524,
           -3.4533554118779524,
           -3.4533554118779524,
           -3.4533554118779524,
           -3.4533554118779524,
           -3.4533554118779524,
           -3.4533554118779524,
           -3.4533554118779524,
           -3.4533554118779524
          ],
          [
           -3.163345494760506,
           -3.163345494760506,
           -3.163345494760506,
           -3.163345494760506,
           -3.163345494760506,
           -3.163345494760506,
           -3.163345494760506,
           -3.163345494760506,
           -3.163345494760506,
           -3.163345494760506,
           -3.163345494760506,
           -3.163345494760506,
           -3.163345494760506,
           -3.163345494760506,
           -3.163345494760506,
           -3.163345494760506,
           -3.163345494760506,
           -3.163345494760506,
           -3.163345494760506,
           -3.163345494760506,
           -3.163345494760506,
           -3.163345494760506,
           -3.163345494760506,
           -3.163345494760506,
           -3.163345494760506,
           -3.163345494760506,
           -3.163345494760506,
           -3.163345494760506,
           -3.163345494760506,
           -3.163345494760506
          ],
          [
           -2.8733355776430587,
           -2.8733355776430587,
           -2.8733355776430587,
           -2.8733355776430587,
           -2.8733355776430587,
           -2.8733355776430587,
           -2.8733355776430587,
           -2.8733355776430587,
           -2.8733355776430587,
           -2.8733355776430587,
           -2.8733355776430587,
           -2.8733355776430587,
           -2.8733355776430587,
           -2.8733355776430587,
           -2.8733355776430587,
           -2.8733355776430587,
           -2.8733355776430587,
           -2.8733355776430587,
           -2.8733355776430587,
           -2.8733355776430587,
           -2.8733355776430587,
           -2.8733355776430587,
           -2.8733355776430587,
           -2.8733355776430587,
           -2.8733355776430587,
           -2.8733355776430587,
           -2.8733355776430587,
           -2.8733355776430587,
           -2.8733355776430587,
           -2.8733355776430587
          ],
          [
           -2.5833256605256123,
           -2.5833256605256123,
           -2.5833256605256123,
           -2.5833256605256123,
           -2.5833256605256123,
           -2.5833256605256123,
           -2.5833256605256123,
           -2.5833256605256123,
           -2.5833256605256123,
           -2.5833256605256123,
           -2.5833256605256123,
           -2.5833256605256123,
           -2.5833256605256123,
           -2.5833256605256123,
           -2.5833256605256123,
           -2.5833256605256123,
           -2.5833256605256123,
           -2.5833256605256123,
           -2.5833256605256123,
           -2.5833256605256123,
           -2.5833256605256123,
           -2.5833256605256123,
           -2.5833256605256123,
           -2.5833256605256123,
           -2.5833256605256123,
           -2.5833256605256123,
           -2.5833256605256123,
           -2.5833256605256123,
           -2.5833256605256123,
           -2.5833256605256123
          ],
          [
           -2.293315743408166,
           -2.293315743408166,
           -2.293315743408166,
           -2.293315743408166,
           -2.293315743408166,
           -2.293315743408166,
           -2.293315743408166,
           -2.293315743408166,
           -2.293315743408166,
           -2.293315743408166,
           -2.293315743408166,
           -2.293315743408166,
           -2.293315743408166,
           -2.293315743408166,
           -2.293315743408166,
           -2.293315743408166,
           -2.293315743408166,
           -2.293315743408166,
           -2.293315743408166,
           -2.293315743408166,
           -2.293315743408166,
           -2.293315743408166,
           -2.293315743408166,
           -2.293315743408166,
           -2.293315743408166,
           -2.293315743408166,
           -2.293315743408166,
           -2.293315743408166,
           -2.293315743408166,
           -2.293315743408166
          ],
          [
           -2.0033058262907186,
           -2.0033058262907186,
           -2.0033058262907186,
           -2.0033058262907186,
           -2.0033058262907186,
           -2.0033058262907186,
           -2.0033058262907186,
           -2.0033058262907186,
           -2.0033058262907186,
           -2.0033058262907186,
           -2.0033058262907186,
           -2.0033058262907186,
           -2.0033058262907186,
           -2.0033058262907186,
           -2.0033058262907186,
           -2.0033058262907186,
           -2.0033058262907186,
           -2.0033058262907186,
           -2.0033058262907186,
           -2.0033058262907186,
           -2.0033058262907186,
           -2.0033058262907186,
           -2.0033058262907186,
           -2.0033058262907186,
           -2.0033058262907186,
           -2.0033058262907186,
           -2.0033058262907186,
           -2.0033058262907186,
           -2.0033058262907186,
           -2.0033058262907186
          ],
          [
           -1.7132959091732722,
           -1.7132959091732722,
           -1.7132959091732722,
           -1.7132959091732722,
           -1.7132959091732722,
           -1.7132959091732722,
           -1.7132959091732722,
           -1.7132959091732722,
           -1.7132959091732722,
           -1.7132959091732722,
           -1.7132959091732722,
           -1.7132959091732722,
           -1.7132959091732722,
           -1.7132959091732722,
           -1.7132959091732722,
           -1.7132959091732722,
           -1.7132959091732722,
           -1.7132959091732722,
           -1.7132959091732722,
           -1.7132959091732722,
           -1.7132959091732722,
           -1.7132959091732722,
           -1.7132959091732722,
           -1.7132959091732722,
           -1.7132959091732722,
           -1.7132959091732722,
           -1.7132959091732722,
           -1.7132959091732722,
           -1.7132959091732722,
           -1.7132959091732722
          ],
          [
           -1.4232859920558258,
           -1.4232859920558258,
           -1.4232859920558258,
           -1.4232859920558258,
           -1.4232859920558258,
           -1.4232859920558258,
           -1.4232859920558258,
           -1.4232859920558258,
           -1.4232859920558258,
           -1.4232859920558258,
           -1.4232859920558258,
           -1.4232859920558258,
           -1.4232859920558258,
           -1.4232859920558258,
           -1.4232859920558258,
           -1.4232859920558258,
           -1.4232859920558258,
           -1.4232859920558258,
           -1.4232859920558258,
           -1.4232859920558258,
           -1.4232859920558258,
           -1.4232859920558258,
           -1.4232859920558258,
           -1.4232859920558258,
           -1.4232859920558258,
           -1.4232859920558258,
           -1.4232859920558258,
           -1.4232859920558258,
           -1.4232859920558258,
           -1.4232859920558258
          ],
          [
           -1.133276074938379,
           -1.133276074938379,
           -1.133276074938379,
           -1.133276074938379,
           -1.133276074938379,
           -1.133276074938379,
           -1.133276074938379,
           -1.133276074938379,
           -1.133276074938379,
           -1.133276074938379,
           -1.133276074938379,
           -1.133276074938379,
           -1.133276074938379,
           -1.133276074938379,
           -1.133276074938379,
           -1.133276074938379,
           -1.133276074938379,
           -1.133276074938379,
           -1.133276074938379,
           -1.133276074938379,
           -1.133276074938379,
           -1.133276074938379,
           -1.133276074938379,
           -1.133276074938379,
           -1.133276074938379,
           -1.133276074938379,
           -1.133276074938379,
           -1.133276074938379,
           -1.133276074938379,
           -1.133276074938379
          ]
         ],
         "z": [
          [
           -3.479138792652413,
           -3.5332222440809993,
           -3.5873056955095852,
           -3.641389146938172,
           -3.695472598366758,
           -3.749556049795344,
           -3.803639501223931,
           -3.8577229526525167,
           -3.9118064040811036,
           -3.9658898555096895,
           -4.019973306938277,
           -4.074056758366862,
           -4.128140209795449,
           -4.182223661224035,
           -4.2363071126526215,
           -4.290390564081208,
           -4.344474015509794,
           -4.39855746693838,
           -4.452640918366967,
           -4.506724369795553,
           -4.560807821224139,
           -4.614891272652725,
           -4.668974724081312,
           -4.723058175509899,
           -4.7771416269384845,
           -4.831225078367071,
           -4.885308529795657,
           -4.939391981224244,
           -4.99347543265283,
           -5.0475588840814165
          ],
          [
           -3.3253442458246822,
           -3.3794276972532686,
           -3.4335111486818546,
           -3.4875946001104414,
           -3.5416780515390274,
           -3.5957615029676133,
           -3.6498449543962,
           -3.703928405824786,
           -3.758011857253373,
           -3.812095308681959,
           -3.8661787601105457,
           -3.9202622115391317,
           -3.9743456629677176,
           -4.028429114396305,
           -4.08251256582489,
           -4.136596017253478,
           -4.190679468682063,
           -4.24476292011065,
           -4.298846371539236,
           -4.352929822967822,
           -4.407013274396409,
           -4.461096725824995,
           -4.515180177253582,
           -4.569263628682168,
           -4.623347080110754,
           -4.67743053153934,
           -4.731513982967927,
           -4.785597434396513,
           -4.8396808858251,
           -4.893764337253685
          ],
          [
           -3.1715496989969516,
           -3.2256331504255376,
           -3.279716601854124,
           -3.3338000532827103,
           -3.3878835047112967,
           -3.4419669561398827,
           -3.4960504075684695,
           -3.5501338589970555,
           -3.6042173104256423,
           -3.6583007618542283,
           -3.712384213282815,
           -3.766467664711401,
           -3.820551116139987,
           -3.874634567568574,
           -3.9287180189971598,
           -3.9828014704257466,
           -4.036884921854333,
           -4.0909683732829185,
           -4.145051824711506,
           -4.199135276140091,
           -4.253218727568678,
           -4.307302178997264,
           -4.3613856304258505,
           -4.415469081854437,
           -4.469552533283023,
           -4.52363598471161,
           -4.577719436140196,
           -4.6318028875687824,
           -4.685886338997369,
           -4.739969790425955
          ],
          [
           -3.0177551521692196,
           -3.0718386035978056,
           -3.1259220550263915,
           -3.1800055064549784,
           -3.2340889578835643,
           -3.2881724093121507,
           -3.3422558607407375,
           -3.3963393121693235,
           -3.4504227635979103,
           -3.5045062150264963,
           -3.558589666455083,
           -3.612673117883669,
           -3.666756569312255,
           -3.720840020740842,
           -3.774923472169428,
           -3.8290069235980146,
           -3.8830903750266006,
           -3.9371738264551865,
           -3.9912572778837734,
           -4.045340729312359,
           -4.099424180740946,
           -4.153507632169532,
           -4.2075910835981185,
           -4.261674535026705,
           -4.315757986455291,
           -4.369841437883878,
           -4.423924889312464,
           -4.4780083407410505,
           -4.532091792169637,
           -4.586175243598223
          ],
          [
           -2.863960605341489,
           -2.918044056770075,
           -2.972127508198661,
           -3.0262109596272477,
           -3.0802944110558337,
           -3.13437786248442,
           -3.1884613139130065,
           -3.242544765341593,
           -3.2966282167701793,
           -3.3507116681987656,
           -3.4047951196273525,
           -3.4588785710559384,
           -3.5129620224845244,
           -3.567045473913111,
           -3.621128925341697,
           -3.675212376770284,
           -3.72929582819887,
           -3.783379279627456,
           -3.8374627310560427,
           -3.8915461824846287,
           -3.945629633913215,
           -3.9997130853418015,
           -4.053796536770387,
           -4.107879988198975,
           -4.16196343962756,
           -4.216046891056147,
           -4.270130342484733,
           -4.324213793913319,
           -4.378297245341906,
           -4.432380696770492
          ],
          [
           -2.7101660585137584,
           -2.7642495099423443,
           -2.8183329613709303,
           -2.872416412799517,
           -2.926499864228103,
           -2.9805833156566894,
           -3.034666767085276,
           -3.0887502185138622,
           -3.1428336699424486,
           -3.196917121371035,
           -3.2510005727996214,
           -3.305084024228208,
           -3.3591674756567937,
           -3.4132509270853806,
           -3.4673343785139665,
           -3.5214178299425534,
           -3.5755012813711393,
           -3.6295847327997253,
           -3.683668184228312,
           -3.737751635656898,
           -3.7918350870854844,
           -3.845918538514071,
           -3.9000019899426572,
           -3.9540854413712436,
           -4.00816889279983,
           -4.0622523442284155,
           -4.116335795657003,
           -4.170419247085588,
           -4.224502698514176,
           -4.278586149942761
          ],
          [
           -2.5563715116860277,
           -2.6104549631146137,
           -2.6645384145431996,
           -2.7186218659717865,
           -2.7727053174003724,
           -2.826788768828959,
           -2.880872220257545,
           -2.9349556716861316,
           -2.989039123114718,
           -3.0431225745433044,
           -3.0972060259718908,
           -3.151289477400477,
           -3.205372928829063,
           -3.25945638025765,
           -3.313539831686236,
           -3.3676232831148227,
           -3.4217067345434087,
           -3.4757901859719946,
           -3.5298736374005815,
           -3.5839570888291674,
           -3.6380405402577534,
           -3.69212399168634,
           -3.746207443114926,
           -3.800290894543513,
           -3.8543743459720994,
           -3.9084577974006853,
           -3.962541248829272,
           -4.016624700257858,
           -4.0707081516864445,
           -4.124791603115031
          ],
          [
           -2.402576964858297,
           -2.456660416286883,
           -2.510743867715469,
           -2.564827319144056,
           -2.6189107705726418,
           -2.672994222001228,
           -2.7270776734298146,
           -2.781161124858401,
           -2.8352445762869873,
           -2.8893280277155733,
           -2.9434114791441597,
           -2.997494930572746,
           -3.0515783820013325,
           -3.105661833429919,
           -3.1597452848585053,
           -3.213828736287092,
           -3.267912187715678,
           -3.321995639144264,
           -3.376079090572851,
           -3.4301625420014368,
           -3.4842459934300227,
           -3.5383294448586096,
           -3.5924128962871955,
           -3.6464963477157823,
           -3.7005797991443683,
           -3.7546632505729547,
           -3.808746702001541,
           -3.8628301534301275,
           -3.916913604858714,
           -3.9709970562873003
          ],
          [
           -2.248782418030566,
           -2.3028658694591524,
           -2.3569493208877383,
           -2.411032772316325,
           -2.465116223744911,
           -2.5191996751734975,
           -2.573283126602084,
           -2.6273665780306703,
           -2.6814500294592567,
           -2.7355334808878427,
           -2.789616932316429,
           -2.8437003837450154,
           -2.897783835173602,
           -2.9518672866021882,
           -3.0059507380307746,
           -3.060034189459361,
           -3.1141176408879474,
           -3.1682010923165334,
           -3.22228454374512,
           -3.276367995173706,
           -3.330451446602292,
           -3.384534898030879,
           -3.438618349459465,
           -3.4927018008880517,
           -3.5467852523166377,
           -3.600868703745224,
           -3.6549521551738104,
           -3.709035606602397,
           -3.7631190580309832,
           -3.8172025094595696
          ],
          [
           -2.094987871202835,
           -2.149071322631421,
           -2.203154774060007,
           -2.2572382254885937,
           -2.3113216769171796,
           -2.365405128345766,
           -2.4194885797743524,
           -2.473572031202939,
           -2.527655482631525,
           -2.5817389340601116,
           -2.635822385488698,
           -2.6899058369172844,
           -2.7439892883458707,
           -2.7980727397744567,
           -2.852156191203043,
           -2.9062396426316295,
           -2.960323094060216,
           -3.0144065454888023,
           -3.068489996917388,
           -3.1225734483459746,
           -3.176656899774561,
           -3.2307403512031474,
           -3.284823802631734,
           -3.33890725406032,
           -3.3929907054889066,
           -3.447074156917493,
           -3.5011576083460794,
           -3.5552410597746653,
           -3.609324511203252,
           -3.663407962631838
          ],
          [
           -1.941193324375104,
           -1.9952767758036902,
           -2.049360227232276,
           -2.103443678660863,
           -2.157527130089449,
           -2.2116105815180354,
           -2.2656940329466217,
           -2.319777484375208,
           -2.3738609358037945,
           -2.427944387232381,
           -2.4820278386609673,
           -2.5361112900895537,
           -2.59019474151814,
           -2.644278192946726,
           -2.6983616443753125,
           -2.752445095803899,
           -2.8065285472324852,
           -2.8606119986610716,
           -2.9146954500896576,
           -2.968778901518244,
           -3.0228623529468304,
           -3.0769458043754168,
           -3.131029255804003,
           -3.1851127072325895,
           -3.239196158661176,
           -3.2932796100897623,
           -3.3473630615183487,
           -3.4014465129469347,
           -3.4555299643755215,
           -3.5096134158041075
          ],
          [
           -1.7873987775473734,
           -1.8414822289759596,
           -1.8955656804045455,
           -1.9496491318331324,
           -2.0037325832617183,
           -2.0578160346903047,
           -2.111899486118891,
           -2.1659829375474775,
           -2.220066388976064,
           -2.27414984040465,
           -2.3282332918332362,
           -2.3823167432618226,
           -2.436400194690409,
           -2.4904836461189954,
           -2.544567097547582,
           -2.598650548976168,
           -2.6527340004047546,
           -2.706817451833341,
           -2.760900903261927,
           -2.8149843546905133,
           -2.8690678061190997,
           -2.923151257547686,
           -2.9772347089762725,
           -3.0313181604048585,
           -3.085401611833445,
           -3.1394850632620317,
           -3.1935685146906176,
           -3.247651966119204,
           -3.301735417547791,
           -3.355818868976377
          ],
          [
           -1.6336042307196428,
           -1.6876876821482287,
           -1.741771133576815,
           -1.7958545850054017,
           -1.8499380364339877,
           -1.904021487862574,
           -1.9581049392911605,
           -2.012188390719747,
           -2.0662718421483333,
           -2.120355293576919,
           -2.1744387450055056,
           -2.228522196434092,
           -2.2826056478626784,
           -2.336689099291265,
           -2.390772550719851,
           -2.4448560021484376,
           -2.498939453577024,
           -2.5530229050056104,
           -2.6071063564341963,
           -2.6611898078627827,
           -2.715273259291369,
           -2.7693567107199555,
           -2.823440162148542,
           -2.877523613577128,
           -2.931607065005714,
           -2.9856905164343006,
           -3.039773967862887,
           -3.0938574192914734,
           -3.14794087072006,
           -3.202024322148646
          ],
          [
           -1.4798096838919113,
           -1.5338931353204974,
           -1.5879765867490836,
           -1.6420600381776702,
           -1.6961434896062564,
           -1.7502269410348428,
           -1.8043103924634292,
           -1.8583938438920156,
           -1.912477295320602,
           -1.966560746749188,
           -2.0206441981777745,
           -2.074727649606361,
           -2.1288111010349473,
           -2.1828945524635333,
           -2.2369780038921196,
           -2.291061455320706,
           -2.3451449067492924,
           -2.399228358177879,
           -2.4533118096064648,
           -2.507395261035051,
           -2.5614787124636376,
           -2.615562163892224,
           -2.6696456153208104,
           -2.7237290667493967,
           -2.777812518177983,
           -2.8318959696065695,
           -2.885979421035156,
           -2.940062872463742,
           -2.9941463238923287,
           -3.0482297753209147
          ],
          [
           -1.3260151370641806,
           -1.3800985884927668,
           -1.434182039921353,
           -1.4882654913499396,
           -1.5423489427785257,
           -1.596432394207112,
           -1.6505158456356985,
           -1.704599297064285,
           -1.7586827484928713,
           -1.8127661999214573,
           -1.8668496513500437,
           -1.92093310277863,
           -1.9750165542072164,
           -2.0291000056358026,
           -2.083183457064389,
           -2.1372669084929754,
           -2.191350359921562,
           -2.245433811350148,
           -2.299517262778734,
           -2.3536007142073205,
           -2.407684165635907,
           -2.4617676170644933,
           -2.5158510684930797,
           -2.569934519921666,
           -2.6240179713502525,
           -2.678101422778839,
           -2.7321848742074253,
           -2.7862683256360112,
           -2.840351777064598,
           -2.894435228493184
          ],
          [
           -1.172220590236449,
           -1.2263040416650355,
           -1.2803874930936217,
           -1.3344709445222083,
           -1.3885543959507944,
           -1.4426378473793806,
           -1.496721298807967,
           -1.5508047502365534,
           -1.6048882016651398,
           -1.658971653093726,
           -1.7130551045223124,
           -1.7671385559508987,
           -1.8212220073794851,
           -1.875305458808071,
           -1.9293889102366575,
           -1.9834723616652439,
           -2.0375558130938303,
           -2.0916392645224167,
           -2.145722715951003,
           -2.1998061673795894,
           -2.253889618808176,
           -2.3079730702367622,
           -2.3620565216653486,
           -2.4161399730939346,
           -2.470223424522521,
           -2.5243068759511074,
           -2.5783903273796938,
           -2.6324737788082797,
           -2.6865572302368665,
           -2.7406406816654525
          ],
          [
           -1.0184260434087185,
           -1.0725094948373046,
           -1.126592946265891,
           -1.1806763976944774,
           -1.2347598491230638,
           -1.28884330055165,
           -1.3429267519802364,
           -1.3970102034088228,
           -1.451093654837409,
           -1.5051771062659953,
           -1.5592605576945817,
           -1.613344009123168,
           -1.6674274605517545,
           -1.7215109119803405,
           -1.7755943634089268,
           -1.8296778148375132,
           -1.8837612662660996,
           -1.937844717694686,
           -1.9919281691232722,
           -2.0460116205518584,
           -2.1000950719804448,
           -2.154178523409031,
           -2.208261974837618,
           -2.262345426266204,
           -2.3164288776947903,
           -2.3705123291233767,
           -2.424595780551963,
           -2.478679231980549,
           -2.532762683409136,
           -2.586846134837722
          ],
          [
           -0.8646314965809878,
           -0.918714948009574,
           -0.9727983994381603,
           -1.0268818508667468,
           -1.080965302295333,
           -1.1350487537239193,
           -1.1891322051525057,
           -1.2432156565810921,
           -1.2972991080096783,
           -1.3513825594382645,
           -1.4054660108668509,
           -1.4595494622954372,
           -1.5136329137240236,
           -1.5677163651526098,
           -1.6217998165811962,
           -1.6758832680097826,
           -1.729966719438369,
           -1.7840501708669554,
           -1.8381336222955416,
           -1.892217073724128,
           -1.9463005251527143,
           -2.0003839765813005,
           -2.054467428009887,
           -2.1085508794384733,
           -2.1626343308670597,
           -2.216717782295646,
           -2.2708012337242325,
           -2.3248846851528184,
           -2.3789681365814053,
           -2.433051588009991
          ],
          [
           -0.7108369497532571,
           -0.7649204011818433,
           -0.8190038526104295,
           -0.8730873040390161,
           -0.9271707554676024,
           -0.9812542068961886,
           -1.035337658324775,
           -1.0894211097533615,
           -1.1435045611819477,
           -1.1975880126105338,
           -1.2516714640391202,
           -1.3057549154677066,
           -1.359838366896293,
           -1.4139218183248794,
           -1.4680052697534658,
           -1.522088721182052,
           -1.5761721726106384,
           -1.6302556240392247,
           -1.6843390754678107,
           -1.738422526896397,
           -1.7925059783249837,
           -1.84658942975357,
           -1.9006728811821565,
           -1.9547563326107424,
           -2.008839784039329,
           -2.0629232354679155,
           -2.117006686896502,
           -2.171090138325088,
           -2.2251735897536746,
           -2.2792570411822606
          ],
          [
           -0.5570424029255262,
           -0.6111258543541125,
           -0.6652093057826987,
           -0.7192927572112852,
           -0.7733762086398716,
           -0.8274596600684577,
           -0.8815431114970441,
           -0.9356265629256304,
           -0.9897100143542168,
           -1.0437934657828032,
           -1.0978769172113894,
           -1.1519603686399758,
           -1.2060438200685621,
           -1.2601272714971485,
           -1.314210722925735,
           -1.368294174354321,
           -1.4223776257829075,
           -1.4764610772114939,
           -1.53054452864008,
           -1.5846279800686665,
           -1.6387114314972526,
           -1.692794882925839,
           -1.7468783343544254,
           -1.8009617857830118,
           -1.8550452372115982,
           -1.9091286886401841,
           -1.9632121400687705,
           -2.017295591497357,
           -2.0713790429259435,
           -2.12546249435453
          ],
          [
           -0.40324785609779523,
           -0.45733130752638146,
           -0.5114147589549677,
           -0.5654982103835542,
           -0.6195816618121405,
           -0.6736651132407268,
           -0.7277485646693131,
           -0.7818320160978994,
           -0.8359154675264857,
           -0.8899989189550721,
           -0.9440823703836584,
           -0.9981658218122448,
           -1.052249273240831,
           -1.1063327246694175,
           -1.1604161760980038,
           -1.21449962752659,
           -1.2685830789551764,
           -1.3226665303837628,
           -1.376749981812349,
           -1.4308334332409356,
           -1.4849168846695215,
           -1.539000336098108,
           -1.5930837875266943,
           -1.6471672389552807,
           -1.7012506903838671,
           -1.7553341418124535,
           -1.8094175932410397,
           -1.863501044669626,
           -1.9175844960982125,
           -1.9716679475267984
          ],
          [
           -0.24945330927006454,
           -0.30353676069865076,
           -0.357620212127237,
           -0.4117036635558235,
           -0.4657871149844098,
           -0.519870566412996,
           -0.5739540178415824,
           -0.6280374692701688,
           -0.6821209206987551,
           -0.7362043721273414,
           -0.7902878235559276,
           -0.8443712749845141,
           -0.8984547264131003,
           -0.9525381778416867,
           -1.0066216292702732,
           -1.0607050806988594,
           -1.1147885321274458,
           -1.1688719835560322,
           -1.2229554349846183,
           -1.2770388864132047,
           -1.331122337841791,
           -1.3852057892703773,
           -1.4392892406989637,
           -1.4933726921275499,
           -1.5474561435561363,
           -1.6015395949847229,
           -1.6556230464133088,
           -1.7097064978418954,
           -1.7637899492704818,
           -1.8178734006990678
          ],
          [
           -0.09565876244233384,
           -0.14974221387092007,
           -0.2038256652995063,
           -0.2579091167280928,
           -0.3119925681566791,
           -0.3660760195852653,
           -0.42015947101385176,
           -0.47424292244243804,
           -0.5283263738710243,
           -0.5824098252996107,
           -0.636493276728197,
           -0.6905767281567834,
           -0.7446601795853697,
           -0.7987436310139561,
           -0.8528270824425425,
           -0.9069105338711286,
           -0.960993985299715,
           -1.0150774367283015,
           -1.0691608881568877,
           -1.123244339585474,
           -1.1773277910140603,
           -1.2314112424426467,
           -1.285494693871233,
           -1.3395781452998192,
           -1.3936615967284056,
           -1.447745048156992,
           -1.5018284995855782,
           -1.5559119510141646,
           -1.609995402442751,
           -1.6640788538713371
          ],
          [
           0.05813578438539736,
           0.004052332956811135,
           -0.0500311184717751,
           -0.10411456990036158,
           -0.1581980213289479,
           -0.21228147275753412,
           -0.2663649241861205,
           -0.32044837561470685,
           -0.3745318270432932,
           -0.42861527847187947,
           -0.4826987299004658,
           -0.5367821813290522,
           -0.5908656327576385,
           -0.6449490841862249,
           -0.6990325356148113,
           -0.7531159870433974,
           -0.8071994384719838,
           -0.8612828899005702,
           -0.9153663413291565,
           -0.9694497927577428,
           -1.023533244186329,
           -1.0776166956149156,
           -1.1317001470435017,
           -1.185783598472088,
           -1.2398670499006743,
           -1.2939505013292607,
           -1.348033952757847,
           -1.4021174041864335,
           -1.4562008556150199,
           -1.510284307043606
          ],
          [
           0.21193033121312804,
           0.15784687978454182,
           0.10376342835595559,
           0.0496799769273691,
           -0.004403474501217217,
           -0.058486925929803445,
           -0.11257037735838984,
           -0.16665382878697615,
           -0.2207372802155625,
           -0.2748207316441488,
           -0.3289041830727351,
           -0.3829876345013215,
           -0.43707108592990773,
           -0.4911545373584941,
           -0.5452379887870805,
           -0.5993214402156668,
           -0.6534048916442531,
           -0.7074883430728395,
           -0.7615717945014258,
           -0.815655245930012,
           -0.8697386973585983,
           -0.9238221487871848,
           -0.9779056002157711,
           -1.0319890516443573,
           -1.0860725030729437,
           -1.14015595450153,
           -1.1942394059301165,
           -1.2483228573587029,
           -1.3024063087872892,
           -1.3564897602158754
          ],
          [
           0.36572487804085874,
           0.3116414266122725,
           0.2575579751836863,
           0.20347452375509978,
           0.14939107232651347,
           0.09530762089792724,
           0.041224169469340835,
           -0.012859281959245484,
           -0.0669427333878318,
           -0.12102618481641812,
           -0.17510963624500442,
           -0.22919308767359084,
           -0.2832765391021771,
           -0.33735999053076343,
           -0.3914434419593498,
           -0.4455268933879361,
           -0.49961034481652244,
           -0.5536937962451088,
           -0.607777247673695,
           -0.6618606991022814,
           -0.7159441505308677,
           -0.7700276019594541,
           -0.8241110533880404,
           -0.8781945048166266,
           -0.932277956245213,
           -0.9863614076737994,
           -1.0404448591023856,
           -1.094528310530972,
           -1.1486117619595584,
           -1.2026952133881448
          ],
          [
           0.5195194248685899,
           0.4654359734400037,
           0.4113525220114175,
           0.35726907058283097,
           0.3031856191542447,
           0.24910216772565844,
           0.19501871629707204,
           0.14093526486848573,
           0.08685181343989941,
           0.03276836201131309,
           -0.021315089417273225,
           -0.07539854084585963,
           -0.1294819922744459,
           -0.1835654437030322,
           -0.23764889513161863,
           -0.2917323465602049,
           -0.34581579798879125,
           -0.3998992494173776,
           -0.45398270084596387,
           -0.5080661522745502,
           -0.5621496037031365,
           -0.6162330551317229,
           -0.6703165065603092,
           -0.7243999579888954,
           -0.7784834094174818,
           -0.8325668608460682,
           -0.8866503122746545,
           -0.9407337637032409,
           -0.9948172151318273,
           -1.0489006665604135
          ],
          [
           0.6733139716963206,
           0.6192305202677344,
           0.5651470688391481,
           0.5110636174105617,
           0.4569801659819754,
           0.4028967145533891,
           0.3488132631248027,
           0.2947298116962164,
           0.2406463602676301,
           0.18656290883904378,
           0.13247945741045747,
           0.07839600598187105,
           0.024312554553284783,
           -0.029770896875301534,
           -0.08385434830388794,
           -0.13793779973247425,
           -0.19202125116106056,
           -0.24610470258964692,
           -0.3001881540182332,
           -0.35427160544681957,
           -0.4083550568754058,
           -0.4624385083039922,
           -0.5165219597325785,
           -0.5706054111611647,
           -0.6246888625897511,
           -0.6787723140183376,
           -0.7328557654469238,
           -0.7869392168755102,
           -0.8410226683040966,
           -0.8951061197326828
          ],
          [
           0.8271085185240513,
           0.773025067095465,
           0.7189416156668789,
           0.6648581642382924,
           0.6107747128097061,
           0.5566912613811198,
           0.5026078099525334,
           0.44852435852394706,
           0.3944409070953608,
           0.34035745566677444,
           0.28627400423818816,
           0.23219055280960174,
           0.17810710138101546,
           0.12402364995242915,
           0.06994019852384274,
           0.01585674709525643,
           -0.03822670433332987,
           -0.09231015576191627,
           -0.14639360719050248,
           -0.20047705861908888,
           -0.2545605100476751,
           -0.3086439614762615,
           -0.3627274129048479,
           -0.41681086433343406,
           -0.47089431576202045,
           -0.5249777671906068,
           -0.5790612186191931,
           -0.6331446700477795,
           -0.6872281214763659,
           -0.7413115729049521
          ],
          [
           0.9809030653517823,
           0.9268196139231959,
           0.8727361624946098,
           0.8186527110660233,
           0.7645692596374369,
           0.7104858082088508,
           0.6564023567802644,
           0.602318905351678,
           0.5482354539230917,
           0.4941520024945054,
           0.4400685510659191,
           0.3859850996373327,
           0.3319016482087464,
           0.2778181967801601,
           0.2237347453515737,
           0.16965129392298736,
           0.11556784249440108,
           0.06148439106581467,
           0.007400939637228457,
           -0.046682511791357933,
           -0.10076596321994415,
           -0.15484941464853058,
           -0.20893286607711692,
           -0.26301631750570315,
           -0.31709976893428954,
           -0.37118322036287593,
           -0.42526667179146216,
           -0.47935012322004855,
           -0.533433574648635,
           -0.5875170260772212
          ]
         ]
        },
        {
         "line": {
          "width": 6
         },
         "marker": {
          "size": 1
         },
         "showlegend": false,
         "type": "scatter3d",
         "x": [
          -2.7469164972912514,
          -0.4039709516244592
         ],
         "y": [
          -1.9306617356064473,
          1.0331678379063707
         ],
         "z": [
          -3.034170248128713,
          -1.9482415028359887
         ]
        },
        {
         "line": {
          "width": 6
         },
         "marker": {
          "size": 1
         },
         "showlegend": false,
         "type": "scatter3d",
         "x": [
          -2.317067132432493,
          -0.8294160870912893
         ],
         "y": [
          -2.040818781594588,
          2.121256545746606
         ],
         "z": [
          -5.8987617119969125,
          -4.000047125896468
         ]
        },
        {
         "line": {
          "width": 6
         },
         "marker": {
          "size": 1
         },
         "showlegend": false,
         "type": "scatter3d",
         "x": [
          2.815140476170738,
          -0.1360203811106508
         ],
         "y": [
          -0.7715230809383078,
          0.34787620866842267
         ],
         "z": [
          -1.8615432636055613,
          -0.655989126559003
         ]
        }
       ],
       "layout": {
        "autosize": true,
        "height": 800,
        "margin": {
         "b": 10,
         "l": 10,
         "pad": 4,
         "r": 10,
         "t": 10
        },
        "paper_bgcolor": "White",
        "scene": {
         "aspectmode": "data",
         "aspectratio": {
          "x": 0.6950463605445558,
          "y": 1.3105230929172023,
          "z": 1.0978463145324904
         },
         "camera": {
          "center": {
           "x": 0,
           "y": 0,
           "z": 0
          },
          "eye": {
           "x": 1.705046936469584,
           "y": 0.1821538082701307,
           "z": 0.2442026506170127
          },
          "projection": {
           "type": "perspective"
          },
          "up": {
           "x": 0,
           "y": 0,
           "z": 1
          }
         }
        },
        "template": {
         "data": {
          "bar": [
           {
            "error_x": {
             "color": "#2a3f5f"
            },
            "error_y": {
             "color": "#2a3f5f"
            },
            "marker": {
             "line": {
              "color": "#E5ECF6",
              "width": 0.5
             }
            },
            "type": "bar"
           }
          ],
          "barpolar": [
           {
            "marker": {
             "line": {
              "color": "#E5ECF6",
              "width": 0.5
             }
            },
            "type": "barpolar"
           }
          ],
          "carpet": [
           {
            "aaxis": {
             "endlinecolor": "#2a3f5f",
             "gridcolor": "white",
             "linecolor": "white",
             "minorgridcolor": "white",
             "startlinecolor": "#2a3f5f"
            },
            "baxis": {
             "endlinecolor": "#2a3f5f",
             "gridcolor": "white",
             "linecolor": "white",
             "minorgridcolor": "white",
             "startlinecolor": "#2a3f5f"
            },
            "type": "carpet"
           }
          ],
          "choropleth": [
           {
            "colorbar": {
             "outlinewidth": 0,
             "ticks": ""
            },
            "type": "choropleth"
           }
          ],
          "contour": [
           {
            "colorbar": {
             "outlinewidth": 0,
             "ticks": ""
            },
            "colorscale": [
             [
              0,
              "#0d0887"
             ],
             [
              0.1111111111111111,
              "#46039f"
             ],
             [
              0.2222222222222222,
              "#7201a8"
             ],
             [
              0.3333333333333333,
              "#9c179e"
             ],
             [
              0.4444444444444444,
              "#bd3786"
             ],
             [
              0.5555555555555556,
              "#d8576b"
             ],
             [
              0.6666666666666666,
              "#ed7953"
             ],
             [
              0.7777777777777778,
              "#fb9f3a"
             ],
             [
              0.8888888888888888,
              "#fdca26"
             ],
             [
              1,
              "#f0f921"
             ]
            ],
            "type": "contour"
           }
          ],
          "contourcarpet": [
           {
            "colorbar": {
             "outlinewidth": 0,
             "ticks": ""
            },
            "type": "contourcarpet"
           }
          ],
          "heatmap": [
           {
            "colorbar": {
             "outlinewidth": 0,
             "ticks": ""
            },
            "colorscale": [
             [
              0,
              "#0d0887"
             ],
             [
              0.1111111111111111,
              "#46039f"
             ],
             [
              0.2222222222222222,
              "#7201a8"
             ],
             [
              0.3333333333333333,
              "#9c179e"
             ],
             [
              0.4444444444444444,
              "#bd3786"
             ],
             [
              0.5555555555555556,
              "#d8576b"
             ],
             [
              0.6666666666666666,
              "#ed7953"
             ],
             [
              0.7777777777777778,
              "#fb9f3a"
             ],
             [
              0.8888888888888888,
              "#fdca26"
             ],
             [
              1,
              "#f0f921"
             ]
            ],
            "type": "heatmap"
           }
          ],
          "heatmapgl": [
           {
            "colorbar": {
             "outlinewidth": 0,
             "ticks": ""
            },
            "colorscale": [
             [
              0,
              "#0d0887"
             ],
             [
              0.1111111111111111,
              "#46039f"
             ],
             [
              0.2222222222222222,
              "#7201a8"
             ],
             [
              0.3333333333333333,
              "#9c179e"
             ],
             [
              0.4444444444444444,
              "#bd3786"
             ],
             [
              0.5555555555555556,
              "#d8576b"
             ],
             [
              0.6666666666666666,
              "#ed7953"
             ],
             [
              0.7777777777777778,
              "#fb9f3a"
             ],
             [
              0.8888888888888888,
              "#fdca26"
             ],
             [
              1,
              "#f0f921"
             ]
            ],
            "type": "heatmapgl"
           }
          ],
          "histogram": [
           {
            "marker": {
             "colorbar": {
              "outlinewidth": 0,
              "ticks": ""
             }
            },
            "type": "histogram"
           }
          ],
          "histogram2d": [
           {
            "colorbar": {
             "outlinewidth": 0,
             "ticks": ""
            },
            "colorscale": [
             [
              0,
              "#0d0887"
             ],
             [
              0.1111111111111111,
              "#46039f"
             ],
             [
              0.2222222222222222,
              "#7201a8"
             ],
             [
              0.3333333333333333,
              "#9c179e"
             ],
             [
              0.4444444444444444,
              "#bd3786"
             ],
             [
              0.5555555555555556,
              "#d8576b"
             ],
             [
              0.6666666666666666,
              "#ed7953"
             ],
             [
              0.7777777777777778,
              "#fb9f3a"
             ],
             [
              0.8888888888888888,
              "#fdca26"
             ],
             [
              1,
              "#f0f921"
             ]
            ],
            "type": "histogram2d"
           }
          ],
          "histogram2dcontour": [
           {
            "colorbar": {
             "outlinewidth": 0,
             "ticks": ""
            },
            "colorscale": [
             [
              0,
              "#0d0887"
             ],
             [
              0.1111111111111111,
              "#46039f"
             ],
             [
              0.2222222222222222,
              "#7201a8"
             ],
             [
              0.3333333333333333,
              "#9c179e"
             ],
             [
              0.4444444444444444,
              "#bd3786"
             ],
             [
              0.5555555555555556,
              "#d8576b"
             ],
             [
              0.6666666666666666,
              "#ed7953"
             ],
             [
              0.7777777777777778,
              "#fb9f3a"
             ],
             [
              0.8888888888888888,
              "#fdca26"
             ],
             [
              1,
              "#f0f921"
             ]
            ],
            "type": "histogram2dcontour"
           }
          ],
          "mesh3d": [
           {
            "colorbar": {
             "outlinewidth": 0,
             "ticks": ""
            },
            "type": "mesh3d"
           }
          ],
          "parcoords": [
           {
            "line": {
             "colorbar": {
              "outlinewidth": 0,
              "ticks": ""
             }
            },
            "type": "parcoords"
           }
          ],
          "pie": [
           {
            "automargin": true,
            "type": "pie"
           }
          ],
          "scatter": [
           {
            "marker": {
             "colorbar": {
              "outlinewidth": 0,
              "ticks": ""
             }
            },
            "type": "scatter"
           }
          ],
          "scatter3d": [
           {
            "line": {
             "colorbar": {
              "outlinewidth": 0,
              "ticks": ""
             }
            },
            "marker": {
             "colorbar": {
              "outlinewidth": 0,
              "ticks": ""
             }
            },
            "type": "scatter3d"
           }
          ],
          "scattercarpet": [
           {
            "marker": {
             "colorbar": {
              "outlinewidth": 0,
              "ticks": ""
             }
            },
            "type": "scattercarpet"
           }
          ],
          "scattergeo": [
           {
            "marker": {
             "colorbar": {
              "outlinewidth": 0,
              "ticks": ""
             }
            },
            "type": "scattergeo"
           }
          ],
          "scattergl": [
           {
            "marker": {
             "colorbar": {
              "outlinewidth": 0,
              "ticks": ""
             }
            },
            "type": "scattergl"
           }
          ],
          "scattermapbox": [
           {
            "marker": {
             "colorbar": {
              "outlinewidth": 0,
              "ticks": ""
             }
            },
            "type": "scattermapbox"
           }
          ],
          "scatterpolar": [
           {
            "marker": {
             "colorbar": {
              "outlinewidth": 0,
              "ticks": ""
             }
            },
            "type": "scatterpolar"
           }
          ],
          "scatterpolargl": [
           {
            "marker": {
             "colorbar": {
              "outlinewidth": 0,
              "ticks": ""
             }
            },
            "type": "scatterpolargl"
           }
          ],
          "scatterternary": [
           {
            "marker": {
             "colorbar": {
              "outlinewidth": 0,
              "ticks": ""
             }
            },
            "type": "scatterternary"
           }
          ],
          "surface": [
           {
            "colorbar": {
             "outlinewidth": 0,
             "ticks": ""
            },
            "colorscale": [
             [
              0,
              "#0d0887"
             ],
             [
              0.1111111111111111,
              "#46039f"
             ],
             [
              0.2222222222222222,
              "#7201a8"
             ],
             [
              0.3333333333333333,
              "#9c179e"
             ],
             [
              0.4444444444444444,
              "#bd3786"
             ],
             [
              0.5555555555555556,
              "#d8576b"
             ],
             [
              0.6666666666666666,
              "#ed7953"
             ],
             [
              0.7777777777777778,
              "#fb9f3a"
             ],
             [
              0.8888888888888888,
              "#fdca26"
             ],
             [
              1,
              "#f0f921"
             ]
            ],
            "type": "surface"
           }
          ],
          "table": [
           {
            "cells": {
             "fill": {
              "color": "#EBF0F8"
             },
             "line": {
              "color": "white"
             }
            },
            "header": {
             "fill": {
              "color": "#C8D4E3"
             },
             "line": {
              "color": "white"
             }
            },
            "type": "table"
           }
          ]
         },
         "layout": {
          "annotationdefaults": {
           "arrowcolor": "#2a3f5f",
           "arrowhead": 0,
           "arrowwidth": 1
          },
          "autotypenumbers": "strict",
          "coloraxis": {
           "colorbar": {
            "outlinewidth": 0,
            "ticks": ""
           }
          },
          "colorscale": {
           "diverging": [
            [
             0,
             "#8e0152"
            ],
            [
             0.1,
             "#c51b7d"
            ],
            [
             0.2,
             "#de77ae"
            ],
            [
             0.3,
             "#f1b6da"
            ],
            [
             0.4,
             "#fde0ef"
            ],
            [
             0.5,
             "#f7f7f7"
            ],
            [
             0.6,
             "#e6f5d0"
            ],
            [
             0.7,
             "#b8e186"
            ],
            [
             0.8,
             "#7fbc41"
            ],
            [
             0.9,
             "#4d9221"
            ],
            [
             1,
             "#276419"
            ]
           ],
           "sequential": [
            [
             0,
             "#0d0887"
            ],
            [
             0.1111111111111111,
             "#46039f"
            ],
            [
             0.2222222222222222,
             "#7201a8"
            ],
            [
             0.3333333333333333,
             "#9c179e"
            ],
            [
             0.4444444444444444,
             "#bd3786"
            ],
            [
             0.5555555555555556,
             "#d8576b"
            ],
            [
             0.6666666666666666,
             "#ed7953"
            ],
            [
             0.7777777777777778,
             "#fb9f3a"
            ],
            [
             0.8888888888888888,
             "#fdca26"
            ],
            [
             1,
             "#f0f921"
            ]
           ],
           "sequentialminus": [
            [
             0,
             "#0d0887"
            ],
            [
             0.1111111111111111,
             "#46039f"
            ],
            [
             0.2222222222222222,
             "#7201a8"
            ],
            [
             0.3333333333333333,
             "#9c179e"
            ],
            [
             0.4444444444444444,
             "#bd3786"
            ],
            [
             0.5555555555555556,
             "#d8576b"
            ],
            [
             0.6666666666666666,
             "#ed7953"
            ],
            [
             0.7777777777777778,
             "#fb9f3a"
            ],
            [
             0.8888888888888888,
             "#fdca26"
            ],
            [
             1,
             "#f0f921"
            ]
           ]
          },
          "colorway": [
           "#636efa",
           "#EF553B",
           "#00cc96",
           "#ab63fa",
           "#FFA15A",
           "#19d3f3",
           "#FF6692",
           "#B6E880",
           "#FF97FF",
           "#FECB52"
          ],
          "font": {
           "color": "#2a3f5f"
          },
          "geo": {
           "bgcolor": "white",
           "lakecolor": "white",
           "landcolor": "#E5ECF6",
           "showlakes": true,
           "showland": true,
           "subunitcolor": "white"
          },
          "hoverlabel": {
           "align": "left"
          },
          "hovermode": "closest",
          "mapbox": {
           "style": "light"
          },
          "paper_bgcolor": "white",
          "plot_bgcolor": "#E5ECF6",
          "polar": {
           "angularaxis": {
            "gridcolor": "white",
            "linecolor": "white",
            "ticks": ""
           },
           "bgcolor": "#E5ECF6",
           "radialaxis": {
            "gridcolor": "white",
            "linecolor": "white",
            "ticks": ""
           }
          },
          "scene": {
           "xaxis": {
            "backgroundcolor": "#E5ECF6",
            "gridcolor": "white",
            "gridwidth": 2,
            "linecolor": "white",
            "showbackground": true,
            "ticks": "",
            "zerolinecolor": "white"
           },
           "yaxis": {
            "backgroundcolor": "#E5ECF6",
            "gridcolor": "white",
            "gridwidth": 2,
            "linecolor": "white",
            "showbackground": true,
            "ticks": "",
            "zerolinecolor": "white"
           },
           "zaxis": {
            "backgroundcolor": "#E5ECF6",
            "gridcolor": "white",
            "gridwidth": 2,
            "linecolor": "white",
            "showbackground": true,
            "ticks": "",
            "zerolinecolor": "white"
           }
          },
          "shapedefaults": {
           "line": {
            "color": "#2a3f5f"
           }
          },
          "ternary": {
           "aaxis": {
            "gridcolor": "white",
            "linecolor": "white",
            "ticks": ""
           },
           "baxis": {
            "gridcolor": "white",
            "linecolor": "white",
            "ticks": ""
           },
           "bgcolor": "#E5ECF6",
           "caxis": {
            "gridcolor": "white",
            "linecolor": "white",
            "ticks": ""
           }
          },
          "title": {
           "x": 0.05
          },
          "xaxis": {
           "automargin": true,
           "gridcolor": "white",
           "linecolor": "white",
           "ticks": "",
           "title": {
            "standoff": 15
           },
           "zerolinecolor": "white",
           "zerolinewidth": 2
          },
          "yaxis": {
           "automargin": true,
           "gridcolor": "white",
           "linecolor": "white",
           "ticks": "",
           "title": {
            "standoff": 15
           },
           "zerolinecolor": "white",
           "zerolinewidth": 2
          }
         }
        },
        "width": 1000
       }
      },
      "image/png": "[encoded data removed]",
      "text/html": [
       "<div>                            <div id=\"85f7d27a-a5d2-4c21-8d32-f40c1519ab48\" class=\"plotly-graph-div\" style=\"height:800px; width:1000px;\"></div>            <script type=\"text/javascript\">                require([\"plotly\"], function(Plotly) {                    window.PLOTLYENV=window.PLOTLYENV || {};                                    if (document.getElementById(\"85f7d27a-a5d2-4c21-8d32-f40c1519ab48\")) {                    Plotly.newPlot(                        \"85f7d27a-a5d2-4c21-8d32-f40c1519ab48\",                        [{\"marker\": {\"color\": \"black\", \"line\": {\"width\": 0}, \"size\": 3}, \"mode\": \"markers\", \"name\": \"origin\", \"type\": \"scatter3d\", \"x\": [0], \"y\": [0], \"z\": [0]}, {\"marker\": {\"color\": \"yellow\", \"line\": {\"width\": 0}, \"size\": 2}, \"mode\": \"markers\", \"name\": \"plane_offset\", \"type\": \"scatter3d\", \"x\": [0.10456881495298843], \"y\": [-0.26743788389479123], \"z\": [0.5043068180386802]}, {\"line\": {\"width\": 6}, \"marker\": {\"size\": 1}, \"name\": \"plane_normal\", \"type\": \"scatter3d\", \"x\": [1.2542484384391692, -0.8294160870912893], \"y\": [-3.207778039803936, 2.121256545746606], \"z\": [6.048897458612388, -4.000047125896468]}, {\"marker\": {\"color\": \"blue\", \"line\": {\"width\": 0}, \"size\": 2}, \"mode\": \"markers\", \"name\": \"4.520023188449724\", \"showlegend\": false, \"type\": \"scatter3d\", \"x\": [0.042014020706258925], \"y\": [-1.2900146220721205], \"z\": [-3.847531434638628]}, {\"marker\": {\"color\": \"blue\", \"line\": {\"width\": 0}, \"size\": 3}, \"mode\": \"markers\", \"name\": \"d=1.5948382010049518\", \"type\": \"scatter3d\", \"x\": [-2.1339951601259597], \"y\": [-1.9049146279088631], \"z\": [-1.2486254908114804]}, {\"line\": {\"width\": 6}, \"marker\": {\"size\": 1}, \"name\": \"^ len_d\", \"type\": \"scatter3d\", \"x\": [-2.1339951601259597, -1.922805067999416], \"y\": [-1.9049146279088631, -2.4450396294522116], \"z\": [-1.2486254908114804, -0.23011339033950762]}, {\"line\": {\"width\": 6}, \"marker\": {\"size\": 1}, \"name\": \"^ proj\", \"type\": \"scatter3d\", \"x\": [-2.1339951601259597, -0.1066212771735558], \"y\": [-1.9049146279088631, 0.27268711764855724], \"z\": [-1.2486254908114804, -0.5142052824332922]}, {\"marker\": {\"color\": \"blue\", \"line\": {\"width\": 0}, \"size\": 2}, \"mode\": \"markers\", \"name\": \"3.7300691127196957\", \"showlegend\": false, \"type\": \"scatter3d\", \"x\": [-2.6435542503000073], \"y\": [-2.2908149558331123], \"z\": [-3.153352381649631]}, {\"marker\": {\"color\": \"red\", \"line\": {\"width\": 0}, \"size\": 2}, \"mode\": \"markers\", \"name\": \"-5.7461348169214785\", \"showlegend\": false, \"type\": \"scatter3d\", \"x\": [-1.8403364633977217], \"y\": [-10.383721431512676], \"z\": [0.40227728210473745]}, {\"marker\": {\"color\": \"red\", \"line\": {\"width\": 0}, \"size\": 2}, \"mode\": \"markers\", \"name\": \"-5.607594457911028\", \"showlegend\": false, \"type\": \"scatter3d\", \"x\": [-1.6157792956837722], \"y\": [-8.870134583868456], \"z\": [1.0412201494423712]}, {\"marker\": {\"color\": \"blue\", \"line\": {\"width\": 0}, \"size\": 2}, \"mode\": \"markers\", \"name\": \"2.4661681012892482\", \"showlegend\": false, \"type\": \"scatter3d\", \"x\": [-1.608169583290394], \"y\": [-2.1863995411328263], \"z\": [-2.243803012204535]}, {\"marker\": {\"color\": \"blue\", \"line\": {\"width\": 0}, \"size\": 2}, \"mode\": \"markers\", \"name\": \"3.837687211394698\", \"showlegend\": false, \"type\": \"scatter3d\", \"x\": [-1.7225654661443077], \"y\": [-0.8964459786387888], \"z\": [-2.695887307645588]}, {\"marker\": {\"color\": \"red\", \"line\": {\"width\": 0}, \"size\": 2}, \"mode\": \"markers\", \"name\": \"-3.8079088894978836\", \"showlegend\": false, \"type\": \"scatter3d\", \"x\": [-0.771705714476493], \"y\": [-9.265359357178491], \"z\": [-0.8653628285493147]}, {\"marker\": {\"color\": \"blue\", \"line\": {\"width\": 0}, \"size\": 2}, \"mode\": \"markers\", \"name\": \"3.6737755631569775\", \"showlegend\": false, \"type\": \"scatter3d\", \"x\": [-0.67133173316653], \"y\": [-0.6318620134069913], \"z\": [-2.6349332327557478]}, {\"marker\": {\"color\": \"blue\", \"line\": {\"width\": 0}, \"size\": 2}, \"mode\": \"markers\", \"name\": \"3.4460343859268887\", \"showlegend\": false, \"type\": \"scatter3d\", \"x\": [-1.59821873248412], \"y\": [-1.752368088371606], \"z\": [-2.8443570200998987]}, {\"marker\": {\"color\": \"red\", \"line\": {\"width\": 0}, \"size\": 2}, \"mode\": \"markers\", \"name\": \"-7.271758289060919\", \"showlegend\": false, \"type\": \"scatter3d\", \"x\": [-1.876261656966392], \"y\": [-9.500605859963326], \"z\": [2.1682507770744737]}, {\"marker\": {\"color\": \"red\", \"line\": {\"width\": 0}, \"size\": 2}, \"mode\": \"markers\", \"name\": \"-6.020624994866978\", \"showlegend\": false, \"type\": \"scatter3d\", \"x\": [1.3051929109046245], \"y\": [-7.646142640577349], \"z\": [1.4339394299892925]}, {\"marker\": {\"color\": \"blue\", \"line\": {\"width\": 0}, \"size\": 2}, \"mode\": \"markers\", \"name\": \"3.4031853945352184\", \"showlegend\": false, \"type\": \"scatter3d\", \"x\": [-0.5586674798935111], \"y\": [-2.6540097021810576], \"z\": [-3.501820403841502]}, {\"marker\": {\"color\": \"blue\", \"line\": {\"width\": 0}, \"size\": 2}, \"mode\": \"markers\", \"name\": \"3.49833052222182\", \"showlegend\": false, \"type\": \"scatter3d\", \"x\": [-0.5370500045819107], \"y\": [-1.3512043294085272], \"z\": [-2.8958779309977802]}, {\"marker\": {\"color\": \"blue\", \"line\": {\"width\": 0}, \"size\": 2}, \"mode\": \"markers\", \"name\": \"5.39942356448492\", \"showlegend\": false, \"type\": \"scatter3d\", \"x\": [-2.4278706306650815], \"y\": [-2.3000648458140063], \"z\": [-4.614732745018286]}, {\"marker\": {\"color\": \"red\", \"line\": {\"width\": 0}, \"size\": 2}, \"mode\": \"markers\", \"name\": \"-8.158316873882193\", \"showlegend\": false, \"type\": \"scatter3d\", \"x\": [-2.189109572086774], \"y\": [-8.930021318895749], \"z\": [3.2854575703891404]}, {\"marker\": {\"color\": \"red\", \"line\": {\"width\": 0}, \"size\": 2}, \"mode\": \"markers\", \"name\": \"-7.365155216091425\", \"showlegend\": false, \"type\": \"scatter3d\", \"x\": [-1.2385625641615214], \"y\": [-10.599400808555691], \"z\": [1.5323078781549717]}, {\"marker\": {\"color\": \"red\", \"line\": {\"width\": 0}, \"size\": 3}, \"mode\": \"markers\", \"name\": \"d=-1.6722925607257322\", \"type\": \"scatter3d\", \"x\": [-1.5491589173759384], \"y\": [-7.250108574555569], \"z\": [-1.4415180189468613]}, {\"line\": {\"width\": 6}, \"marker\": {\"size\": 1}, \"name\": \"^ len_d\", \"type\": \"scatter3d\", \"x\": [-1.5491589173759384, -1.7706055943740557], \"y\": [-7.250108574555569, -6.683752049251775], \"z\": [-1.4415180189468613, -2.509494825343368]}, {\"line\": {\"width\": 6}, \"marker\": {\"size\": 1}, \"name\": \"^ proj\", \"type\": \"scatter3d\", \"x\": [-1.5491589173759384, 0.32601549195110585], \"y\": [-7.250108574555569, -0.8337944091985844], \"z\": [-1.4415180189468613, 1.572283624435188]}, {\"marker\": {\"color\": \"blue\", \"line\": {\"width\": 0}, \"size\": 2}, \"mode\": \"markers\", \"name\": \"3.1917948947222525\", \"showlegend\": false, \"type\": \"scatter3d\", \"x\": [-1.6580312392471215], \"y\": [-2.4686234359156143], \"z\": [-2.9967834212358087]}, {\"marker\": {\"color\": \"red\", \"line\": {\"width\": 0}, \"size\": 2}, \"mode\": \"markers\", \"name\": \"-5.669719752491562\", \"showlegend\": false, \"type\": \"scatter3d\", \"x\": [-0.777220540001882], \"y\": [-10.726763450049406], \"z\": [-0.06470266128815605]}, {\"marker\": {\"color\": \"blue\", \"line\": {\"width\": 0}, \"size\": 2}, \"mode\": \"markers\", \"name\": \"3.958598412977568\", \"showlegend\": false, \"type\": \"scatter3d\", \"x\": [-0.2077457436123662], \"y\": [-0.6904645628096294], \"z\": [-3.0030071301117554]}, {\"marker\": {\"color\": \"red\", \"line\": {\"width\": 0}, \"size\": 2}, \"mode\": \"markers\", \"name\": \"-2.4474845200900743\", \"showlegend\": false, \"type\": \"scatter3d\", \"x\": [-2.208993881683744], \"y\": [-6.931037127562513], \"z\": [-0.4799236902257027]}, {\"marker\": {\"color\": \"red\", \"line\": {\"width\": 0}, \"size\": 2}, \"mode\": \"markers\", \"name\": \"-6.941137869735916\", \"showlegend\": false, \"type\": \"scatter3d\", \"x\": [-2.1092372461747035], \"y\": [-9.393765145033843], \"z\": [1.993615444124878]}, {\"marker\": {\"color\": \"blue\", \"line\": {\"width\": 0}, \"size\": 2}, \"mode\": \"markers\", \"name\": \"4.784595740157508\", \"showlegend\": false, \"type\": \"scatter3d\", \"x\": [-0.3180427354058979], \"y\": [-1.4010703116424414], \"z\": [-4.0555125917167665]}, {\"marker\": {\"color\": \"blue\", \"line\": {\"width\": 0}, \"size\": 2}, \"mode\": \"markers\", \"name\": \"3.3010364863426123\", \"showlegend\": false, \"type\": \"scatter3d\", \"x\": [-1.7618984071926949], \"y\": [-2.8473642653630744], \"z\": [-3.268479933536673]}, {\"marker\": {\"color\": \"red\", \"line\": {\"width\": 0}, \"size\": 2}, \"mode\": \"markers\", \"name\": \"-5.949907955088838\", \"showlegend\": false, \"type\": \"scatter3d\", \"x\": [-1.6994184393126137], \"y\": [-9.613804261878917], \"z\": [0.9536793178805771]}, {\"marker\": {\"color\": \"red\", \"line\": {\"width\": 0}, \"size\": 2}, \"mode\": \"markers\", \"name\": \"-7.633641103929979\", \"showlegend\": false, \"type\": \"scatter3d\", \"x\": [-0.8996299869449244], \"y\": [-9.698610632187053], \"z\": [2.1667810560691363]}, {\"marker\": {\"color\": \"red\", \"line\": {\"width\": 0}, \"size\": 3}, \"mode\": \"markers\", \"name\": \"d=-8.682002853401347\", \"type\": \"scatter3d\", \"x\": [0.1265942845014456], \"y\": [-11.219434867826742], \"z\": [2.0340735109649115]}, {\"line\": {\"width\": 6}, \"marker\": {\"size\": 1}, \"name\": \"^ len_d\", \"type\": \"scatter3d\", \"x\": [0.1265942845014456, -1.023085338984735], \"y\": [-11.219434867826742, -8.279094711917596], \"z\": [2.0340735109649115, -3.510517129608796]}, {\"line\": {\"width\": 6}, \"marker\": {\"size\": 1}, \"name\": \"^ proj\", \"type\": \"scatter3d\", \"x\": [0.1265942845014456, 1.2542484384391692], \"y\": [-11.219434867826742, -3.207778039803936], \"z\": [2.0340735109649115, 6.048897458612388]}, {\"marker\": {\"color\": \"blue\", \"line\": {\"width\": 0}, \"size\": 2}, \"mode\": \"markers\", \"name\": \"3.9210955133280536\", \"showlegend\": false, \"type\": \"scatter3d\", \"x\": [-3.2793979214271083], \"y\": [-1.2275904418093788], \"z\": [-2.6192215465178186]}, {\"marker\": {\"color\": \"red\", \"line\": {\"width\": 0}, \"size\": 2}, \"mode\": \"markers\", \"name\": \"-7.6026248417199005\", \"showlegend\": false, \"type\": \"scatter3d\", \"x\": [-0.5448223810947223], \"y\": [-10.13472563123421], \"z\": [1.835705839145523]}, {\"marker\": {\"color\": \"red\", \"line\": {\"width\": 0}, \"size\": 2}, \"mode\": \"markers\", \"name\": \"-5.8216601934000485\", \"showlegend\": false, \"type\": \"scatter3d\", \"x\": [-1.9993557985866022], \"y\": [-10.064889958021181], \"z\": [0.6681999291923968]}, {\"marker\": {\"color\": \"blue\", \"line\": {\"width\": 0}, \"size\": 2}, \"mode\": \"markers\", \"name\": \"4.245312051210442\", \"showlegend\": false, \"type\": \"scatter3d\", \"x\": [-0.6920363339672632], \"y\": [-1.58898446753575], \"z\": [-3.6215511381165517]}, {\"marker\": {\"color\": \"blue\", \"line\": {\"width\": 0}, \"size\": 2}, \"mode\": \"markers\", \"name\": \"5.02203742131239\", \"showlegend\": false, \"type\": \"scatter3d\", \"x\": [-0.2605230817068416], \"y\": [-1.9216463929509258], \"z\": [-4.544306524063666]}, {\"marker\": {\"color\": \"blue\", \"line\": {\"width\": 0}, \"size\": 2}, \"mode\": \"markers\", \"name\": \"2.3568807096933533\", \"showlegend\": false, \"type\": \"scatter3d\", \"x\": [-1.7200746184897326], \"y\": [-1.7407911494275212], \"z\": [-1.8918666646659397]}, {\"marker\": {\"color\": \"blue\", \"line\": {\"width\": 0}, \"size\": 2}, \"mode\": \"markers\", \"name\": \"2.0015448180335826\", \"showlegend\": false, \"type\": \"scatter3d\", \"x\": [-0.5415872984195823], \"y\": [-2.5864049413688104], \"z\": [-2.2841602985608693]}, {\"marker\": {\"color\": \"blue\", \"line\": {\"width\": 0}, \"size\": 2}, \"mode\": \"markers\", \"name\": \"5.15483781192825\", \"showlegend\": false, \"type\": \"scatter3d\", \"x\": [-3.1439561214259393], \"y\": [-1.2621558942512991], \"z\": [-3.7089967902252914]}, {\"marker\": {\"color\": \"blue\", \"line\": {\"width\": 0}, \"size\": 2}, \"mode\": \"markers\", \"name\": \"1.8055692474365879\", \"showlegend\": false, \"type\": \"scatter3d\", \"x\": [1.9861932534769364], \"y\": [-0.6217826382099462], \"z\": [-1.6007107275242336]}, {\"marker\": {\"color\": \"red\", \"line\": {\"width\": 0}, \"size\": 2}, \"mode\": \"markers\", \"name\": \"-6.668973466538407\", \"showlegend\": false, \"type\": \"scatter3d\", \"x\": [-0.7782447503786115], \"y\": [-10.325689067272036], \"z\": [0.993259319045779]}, {\"marker\": {\"color\": \"blue\", \"line\": {\"width\": 0}, \"size\": 2}, \"mode\": \"markers\", \"name\": \"4.968412671976391\", \"showlegend\": false, \"type\": \"scatter3d\", \"x\": [-2.354351183964895], \"y\": [-1.0009774375225404], \"z\": [-3.576560153702099]}, {\"marker\": {\"color\": \"blue\", \"line\": {\"width\": 0}, \"size\": 2}, \"mode\": \"markers\", \"name\": \"2.6886741730627985\", \"showlegend\": false, \"type\": \"scatter3d\", \"x\": [0.5324423095002062], \"y\": [-3.306711369346252], \"z\": [-3.4699431439198865]}, {\"marker\": {\"color\": \"blue\", \"line\": {\"width\": 0}, \"size\": 2}, \"mode\": \"markers\", \"name\": \"5.755544360298761\", \"showlegend\": false, \"type\": \"scatter3d\", \"x\": [-0.7956119992676421], \"y\": [-1.4661397829437133], \"z\": [-4.812114131071052]}, {\"marker\": {\"color\": \"red\", \"line\": {\"width\": 0}, \"size\": 2}, \"mode\": \"markers\", \"name\": \"-7.372970083745641\", \"showlegend\": false, \"type\": \"scatter3d\", \"x\": [-1.9577775344879664], \"y\": [-10.920914390180792], \"z\": [1.5175459875845316]}, {\"marker\": {\"color\": \"red\", \"line\": {\"width\": 0}, \"size\": 2}, \"mode\": \"markers\", \"name\": \"-4.57069141942119\", \"showlegend\": false, \"type\": \"scatter3d\", \"x\": [-0.846605627083354], \"y\": [-8.203096133170305], \"z\": [0.35857025239482054]}, {\"marker\": {\"color\": \"red\", \"line\": {\"width\": 0}, \"size\": 2}, \"mode\": \"markers\", \"name\": \"-7.430588339887033\", \"showlegend\": false, \"type\": \"scatter3d\", \"x\": [-0.9540985237729442], \"y\": [-11.521798412170888], \"z\": [1.0395050807158799]}, {\"marker\": {\"color\": \"red\", \"line\": {\"width\": 0}, \"size\": 2}, \"mode\": \"markers\", \"name\": \"-7.419598425812105\", \"showlegend\": false, \"type\": \"scatter3d\", \"x\": [-1.167375452343276], \"y\": [-9.11103082677894], \"z\": [2.352883420246779]}, {\"marker\": {\"color\": \"red\", \"line\": {\"width\": 0}, \"size\": 2}, \"mode\": \"markers\", \"name\": \"-5.327551931360057\", \"showlegend\": false, \"type\": \"scatter3d\", \"x\": [-1.6189239231891213], \"y\": [-9.717659394294776], \"z\": [0.35559454508988164]}, {\"marker\": {\"color\": \"blue\", \"line\": {\"width\": 0}, \"size\": 2}, \"mode\": \"markers\", \"name\": \"1.816850576500767\", \"showlegend\": false, \"type\": \"scatter3d\", \"x\": [2.815140476170738], \"y\": [-0.7715230809383078], \"z\": [-1.8615432636055613]}, {\"marker\": {\"color\": \"red\", \"line\": {\"width\": 0}, \"size\": 2}, \"mode\": \"markers\", \"name\": \"-6.435046007729148\", \"showlegend\": false, \"type\": \"scatter3d\", \"x\": [-2.467714243545209], \"y\": [-10.9026925907463], \"z\": [0.8397543618972337]}, {\"marker\": {\"color\": \"blue\", \"line\": {\"width\": 0}, \"size\": 2}, \"mode\": \"markers\", \"name\": \"3.2707134231650223\", \"showlegend\": false, \"type\": \"scatter3d\", \"x\": [-2.6111194173885], \"y\": [-3.6182375500848063], \"z\": [-3.4755489549556478]}, {\"marker\": {\"color\": \"blue\", \"line\": {\"width\": 0}, \"size\": 2}, \"mode\": \"markers\", \"name\": \"4.721249958604409\", \"showlegend\": false, \"type\": \"scatter3d\", \"x\": [-2.632141027502986], \"y\": [-0.4598978823168711], \"z\": [-3.0229987371752776]}, {\"marker\": {\"color\": \"blue\", \"line\": {\"width\": 0}, \"size\": 2}, \"mode\": \"markers\", \"name\": \"1.9401984827340872\", \"showlegend\": false, \"type\": \"scatter3d\", \"x\": [-0.27369741826522564], \"y\": [-3.07510943607289], \"z\": [-2.5469916880804377]}, {\"marker\": {\"color\": \"red\", \"line\": {\"width\": 0}, \"size\": 2}, \"mode\": \"markers\", \"name\": \"-7.11230383797997\", \"showlegend\": false, \"type\": \"scatter3d\", \"x\": [-0.8562772492940441], \"y\": [-8.682295368407159], \"z\": [2.255863220899003]}, {\"marker\": {\"color\": \"blue\", \"line\": {\"width\": 0}, \"size\": 2}, \"mode\": \"markers\", \"name\": \"3.1372015343522968\", \"showlegend\": false, \"type\": \"scatter3d\", \"x\": [0.5109244939452628], \"y\": [-1.4122341513386731], \"z\": [-2.8401393057647053]}, {\"marker\": {\"color\": \"blue\", \"line\": {\"width\": 0}, \"size\": 2}, \"mode\": \"markers\", \"name\": \"4.509879808107183\", \"showlegend\": false, \"type\": \"scatter3d\", \"x\": [-3.3631644102999134], \"y\": [-0.982499871843562], \"z\": [-2.9698066794796447]}, {\"marker\": {\"color\": \"red\", \"line\": {\"width\": 0}, \"size\": 2}, \"mode\": \"markers\", \"name\": \"-5.1700756707264865\", \"showlegend\": false, \"type\": \"scatter3d\", \"x\": [-3.6237051481598868], \"y\": [-8.3199538727014], \"z\": [1.3793276051777774]}, {\"marker\": {\"color\": \"red\", \"line\": {\"width\": 0}, \"size\": 2}, \"mode\": \"markers\", \"name\": \"-5.996531929298778\", \"showlegend\": false, \"type\": \"scatter3d\", \"x\": [-0.8982357230332279], \"y\": [-8.915199921999717], \"z\": [1.197457536488295]}, {\"marker\": {\"color\": \"red\", \"line\": {\"width\": 0}, \"size\": 2}, \"mode\": \"markers\", \"name\": \"-8.40240868932296\", \"showlegend\": false, \"type\": \"scatter3d\", \"x\": [-1.6839942264978642], \"y\": [-10.865994029978038], \"z\": [2.3604849815013074]}, {\"marker\": {\"color\": \"blue\", \"line\": {\"width\": 0}, \"size\": 2}, \"mode\": \"markers\", \"name\": \"1.6149046980918074\", \"showlegend\": false, \"type\": \"scatter3d\", \"x\": [-0.17566541418362114], \"y\": [-1.8668860471137454], \"z\": [-1.6514913914502833]}, {\"marker\": {\"color\": \"red\", \"line\": {\"width\": 0}, \"size\": 2}, \"mode\": \"markers\", \"name\": \"-7.2380539086538045\", \"showlegend\": false, \"type\": \"scatter3d\", \"x\": [-0.5849823521129334], \"y\": [-11.514941909564786], \"z\": [0.8037802928618021]}, {\"marker\": {\"color\": \"red\", \"line\": {\"width\": 0}, \"size\": 2}, \"mode\": \"markers\", \"name\": \"-5.112324934209599\", \"showlegend\": false, \"type\": \"scatter3d\", \"x\": [-2.3015166876819912], \"y\": [-9.049079662462567], \"z\": [0.669669487497659]}, {\"marker\": {\"color\": \"red\", \"line\": {\"width\": 0}, \"size\": 2}, \"mode\": \"markers\", \"name\": \"-7.019765144742361\", \"showlegend\": false, \"type\": \"scatter3d\", \"x\": [-0.062216324103634424], \"y\": [-9.943480711595555], \"z\": [1.3441380516619292]}, {\"marker\": {\"color\": \"blue\", \"line\": {\"width\": 0}, \"size\": 2}, \"mode\": \"markers\", \"name\": \"3.768928037806781\", \"showlegend\": false, \"type\": \"scatter3d\", \"x\": [-0.7791814301690143], \"y\": [-0.7631855276368256], \"z\": [-2.7626816126453972]}, {\"marker\": {\"color\": \"blue\", \"line\": {\"width\": 0}, \"size\": 2}, \"mode\": \"markers\", \"name\": \"2.3337324706993128\", \"showlegend\": false, \"type\": \"scatter3d\", \"x\": [-1.7410530238271087], \"y\": [-2.848071176596078], \"z\": [-2.4551399086483734]}, {\"marker\": {\"color\": \"blue\", \"line\": {\"width\": 0}, \"size\": 2}, \"mode\": \"markers\", \"name\": \"3.7904984964329858\", \"showlegend\": false, \"type\": \"scatter3d\", \"x\": [-1.846501587197685], \"y\": [-1.2931171450700611], \"z\": [-2.8406398843183185]}, {\"marker\": {\"color\": \"red\", \"line\": {\"width\": 0}, \"size\": 2}, \"mode\": \"markers\", \"name\": \"-4.582068087013345\", \"showlegend\": false, \"type\": \"scatter3d\", \"x\": [-1.661618438925011], \"y\": [-9.41498635429603], \"z\": [-0.10548938942187358]}, {\"marker\": {\"color\": \"blue\", \"line\": {\"width\": 0}, \"size\": 2}, \"mode\": \"markers\", \"name\": \"5.070665300306688\", \"showlegend\": false, \"type\": \"scatter3d\", \"x\": [-3.0584698759102187], \"y\": [-1.70706525528034], \"z\": [-3.891477773844276]}, {\"marker\": {\"color\": \"red\", \"line\": {\"width\": 0}, \"size\": 2}, \"mode\": \"markers\", \"name\": \"-4.648084624817113\", \"showlegend\": false, \"type\": \"scatter3d\", \"x\": [-1.4365361275445485], \"y\": [-9.224904911440879], \"z\": [0.004470508804561124]}, {\"marker\": {\"color\": \"red\", \"line\": {\"width\": 0}, \"size\": 2}, \"mode\": \"markers\", \"name\": \"-7.9645537407313585\", \"showlegend\": false, \"type\": \"scatter3d\", \"x\": [0.3043850992357515], \"y\": [-12.140924819825662], \"z\": [0.9017969346835247]}, {\"marker\": {\"color\": \"red\", \"line\": {\"width\": 0}, \"size\": 2}, \"mode\": \"markers\", \"name\": \"-6.208403688481661\", \"showlegend\": false, \"type\": \"scatter3d\", \"x\": [-3.1481926117236885], \"y\": [-7.750290697461706], \"z\": [2.4609275681475955]}, {\"marker\": {\"color\": \"red\", \"line\": {\"width\": 0}, \"size\": 2}, \"mode\": \"markers\", \"name\": \"-4.789166209605559\", \"showlegend\": false, \"type\": \"scatter3d\", \"x\": [-2.0279729064537872], \"y\": [-9.472450112468849], \"z\": [0.11514166433384088]}, {\"marker\": {\"color\": \"red\", \"line\": {\"width\": 0}, \"size\": 2}, \"mode\": \"markers\", \"name\": \"-5.107546655604291\", \"showlegend\": false, \"type\": \"scatter3d\", \"x\": [-2.413235230836907], \"y\": [-9.048382808785483], \"z\": [0.6891631187728673]}, {\"marker\": {\"color\": \"red\", \"line\": {\"width\": 0}, \"size\": 2}, \"mode\": \"markers\", \"name\": \"-5.446876612507658\", \"showlegend\": false, \"type\": \"scatter3d\", \"x\": [-1.5562814494106627], \"y\": [-9.99835925717476], \"z\": [0.2946596076377942]}, {\"marker\": {\"color\": \"blue\", \"line\": {\"width\": 0}, \"size\": 2}, \"mode\": \"markers\", \"name\": \"3.4883934900440217\", \"showlegend\": false, \"type\": \"scatter3d\", \"x\": [-1.1724465660561343], \"y\": [-2.439472710192113], \"z\": [-3.3328411309196055]}, {\"marker\": {\"color\": \"blue\", \"line\": {\"width\": 0}, \"size\": 2}, \"mode\": \"markers\", \"name\": \"5.675131604989928\", \"showlegend\": false, \"type\": \"scatter3d\", \"x\": [-1.545326266004287], \"y\": [-3.1393185695146357], \"z\": [-5.475955515667467]}, {\"marker\": {\"color\": \"red\", \"line\": {\"width\": 0}, \"size\": 2}, \"mode\": \"markers\", \"name\": \"-6.956421339522069\", \"showlegend\": false, \"type\": \"scatter3d\", \"x\": [-1.357320622512882], \"y\": [-8.656772358005192], \"z\": [2.2414624781712167]}, {\"marker\": {\"color\": \"red\", \"line\": {\"width\": 0}, \"size\": 2}, \"mode\": \"markers\", \"name\": \"-6.0706034092483545\", \"showlegend\": false, \"type\": \"scatter3d\", \"x\": [-1.6611944746752747], \"y\": [-9.857144786521168], \"z\": [0.9187787946802018]}, {\"marker\": {\"color\": \"red\", \"line\": {\"width\": 0}, \"size\": 2}, \"mode\": \"markers\", \"name\": \"-7.2577976440757554\", \"showlegend\": false, \"type\": \"scatter3d\", \"x\": [-0.7377493850108957], \"y\": [-9.794983560435583], \"z\": [1.7642612956435944]}, {\"marker\": {\"color\": \"blue\", \"line\": {\"width\": 0}, \"size\": 2}, \"mode\": \"markers\", \"name\": \"3.840325264794541\", \"showlegend\": false, \"type\": \"scatter3d\", \"x\": [-2.7469164972912514], \"y\": [-1.9306617356064473], \"z\": [-3.034170248128713]}, {\"marker\": {\"color\": \"blue\", \"line\": {\"width\": 0}, \"size\": 2}, \"mode\": \"markers\", \"name\": \"2.440284714681518\", \"showlegend\": false, \"type\": \"scatter3d\", \"x\": [-0.423953950089518], \"y\": [-2.679734533092661], \"z\": [-2.7290821665268874]}, {\"marker\": {\"color\": \"blue\", \"line\": {\"width\": 0}, \"size\": 3}, \"mode\": \"markers\", \"name\": \"d=7.053147171551715\", \"type\": \"scatter3d\", \"x\": [-2.317067132432493], \"y\": [-2.040818781594588], \"z\": [-5.8987617119969125]}, {\"line\": {\"width\": 6}, \"marker\": {\"size\": 1}, \"name\": \"^ len_d\", \"type\": \"scatter3d\", \"x\": [-2.317067132432493, -1.3830822303882158], \"y\": [-2.040818781594588, -4.429513211235984], \"z\": [-5.8987617119969125, -1.3944077680617641]}, {\"line\": {\"width\": 6}, \"marker\": {\"size\": 1}, \"name\": \"^ proj\", \"type\": \"scatter3d\", \"x\": [-2.317067132432493, -0.8294160870912893], \"y\": [-2.040818781594588, 2.121256545746606], \"z\": [-5.8987617119969125, -4.000047125896468]}, {\"showlegend\": false, \"showscale\": false, \"type\": \"surface\", \"x\": [[-4.408331812177538, -4.147502105818506, -3.886672399459475, -3.6258426931004433, -3.365012986741412, -3.1041832803823803, -2.8433535740233484, -2.582523867664317, -2.3216941613052855, -2.060864454946254, -1.8000347485872226, -1.5392050422281907, -1.2783753358691592, -1.0175456295101277, -0.7567159231510958, -0.49588621679206435, -0.23505651043303288, 0.025773195925999026, 0.28660290228503005, 0.547432608644062, 0.808262315003093, 1.069092021362125, 1.3299217277211568, 1.5907514340801878, 1.8515811404392197, 2.1124108467982516, 2.3732405531572827, 2.6340702595163146, 2.8948999658753465, 3.1557296722343775], [-4.408331812177538, -4.147502105818506, -3.886672399459475, -3.6258426931004433, -3.365012986741412, -3.1041832803823803, -2.8433535740233484, -2.582523867664317, -2.3216941613052855, -2.060864454946254, -1.8000347485872226, -1.5392050422281907, -1.2783753358691592, -1.0175456295101277, -0.7567159231510958, -0.49588621679206435, -0.23505651043303288, 0.025773195925999026, 0.28660290228503005, 0.547432608644062, 0.808262315003093, 1.069092021362125, 1.3299217277211568, 1.5907514340801878, 1.8515811404392197, 2.1124108467982516, 2.3732405531572827, 2.6340702595163146, 2.8948999658753465, 3.1557296722343775], [-4.408331812177538, -4.147502105818506, -3.886672399459475, -3.6258426931004433, -3.365012986741412, -3.1041832803823803, -2.8433535740233484, -2.582523867664317, -2.3216941613052855, -2.060864454946254, -1.8000347485872226, -1.5392050422281907, -1.2783753358691592, -1.0175456295101277, -0.7567159231510958, -0.49588621679206435, -0.23505651043303288, 0.025773195925999026, 0.28660290228503005, 0.547432608644062, 0.808262315003093, 1.069092021362125, 1.3299217277211568, 1.5907514340801878, 1.8515811404392197, 2.1124108467982516, 2.3732405531572827, 2.6340702595163146, 2.8948999658753465, 3.1557296722343775], [-4.408331812177538, -4.147502105818506, -3.886672399459475, -3.6258426931004433, -3.365012986741412, -3.1041832803823803, -2.8433535740233484, -2.582523867664317, -2.3216941613052855, -2.060864454946254, -1.8000347485872226, -1.5392050422281907, -1.2783753358691592, -1.0175456295101277, -0.7567159231510958, -0.49588621679206435, -0.23505651043303288, 0.025773195925999026, 0.28660290228503005, 0.547432608644062, 0.808262315003093, 1.069092021362125, 1.3299217277211568, 1.5907514340801878, 1.8515811404392197, 2.1124108467982516, 2.3732405531572827, 2.6340702595163146, 2.8948999658753465, 3.1557296722343775], [-4.408331812177538, -4.147502105818506, -3.886672399459475, -3.6258426931004433, -3.365012986741412, -3.1041832803823803, -2.8433535740233484, -2.582523867664317, -2.3216941613052855, -2.060864454946254, -1.8000347485872226, -1.5392050422281907, -1.2783753358691592, -1.0175456295101277, -0.7567159231510958, -0.49588621679206435, -0.23505651043303288, 0.025773195925999026, 0.28660290228503005, 0.547432608644062, 0.808262315003093, 1.069092021362125, 1.3299217277211568, 1.5907514340801878, 1.8515811404392197, 2.1124108467982516, 2.3732405531572827, 2.6340702595163146, 2.8948999658753465, 3.1557296722343775], [-4.408331812177538, -4.147502105818506, -3.886672399459475, -3.6258426931004433, -3.365012986741412, -3.1041832803823803, -2.8433535740233484, -2.582523867664317, -2.3216941613052855, -2.060864454946254, -1.8000347485872226, -1.5392050422281907, -1.2783753358691592, -1.0175456295101277, -0.7567159231510958, -0.49588621679206435, -0.23505651043303288, 0.025773195925999026, 0.28660290228503005, 0.547432608644062, 0.808262315003093, 1.069092021362125, 1.3299217277211568, 1.5907514340801878, 1.8515811404392197, 2.1124108467982516, 2.3732405531572827, 2.6340702595163146, 2.8948999658753465, 3.1557296722343775], [-4.408331812177538, -4.147502105818506, -3.886672399459475, -3.6258426931004433, -3.365012986741412, -3.1041832803823803, -2.8433535740233484, -2.582523867664317, -2.3216941613052855, -2.060864454946254, -1.8000347485872226, -1.5392050422281907, -1.2783753358691592, -1.0175456295101277, -0.7567159231510958, -0.49588621679206435, -0.23505651043303288, 0.025773195925999026, 0.28660290228503005, 0.547432608644062, 0.808262315003093, 1.069092021362125, 1.3299217277211568, 1.5907514340801878, 1.8515811404392197, 2.1124108467982516, 2.3732405531572827, 2.6340702595163146, 2.8948999658753465, 3.1557296722343775], [-4.408331812177538, -4.147502105818506, -3.886672399459475, -3.6258426931004433, -3.365012986741412, -3.1041832803823803, -2.8433535740233484, -2.582523867664317, -2.3216941613052855, -2.060864454946254, -1.8000347485872226, -1.5392050422281907, -1.2783753358691592, -1.0175456295101277, -0.7567159231510958, -0.49588621679206435, -0.23505651043303288, 0.025773195925999026, 0.28660290228503005, 0.547432608644062, 0.808262315003093, 1.069092021362125, 1.3299217277211568, 1.5907514340801878, 1.8515811404392197, 2.1124108467982516, 2.3732405531572827, 2.6340702595163146, 2.8948999658753465, 3.1557296722343775], [-4.408331812177538, -4.147502105818506, -3.886672399459475, -3.6258426931004433, -3.365012986741412, -3.1041832803823803, -2.8433535740233484, -2.582523867664317, -2.3216941613052855, -2.060864454946254, -1.8000347485872226, -1.5392050422281907, -1.2783753358691592, -1.0175456295101277, -0.7567159231510958, -0.49588621679206435, -0.23505651043303288, 0.025773195925999026, 0.28660290228503005, 0.547432608644062, 0.808262315003093, 1.069092021362125, 1.3299217277211568, 1.5907514340801878, 1.8515811404392197, 2.1124108467982516, 2.3732405531572827, 2.6340702595163146, 2.8948999658753465, 3.1557296722343775], [-4.408331812177538, -4.147502105818506, -3.886672399459475, -3.6258426931004433, -3.365012986741412, -3.1041832803823803, -2.8433535740233484, -2.582523867664317, -2.3216941613052855, -2.060864454946254, -1.8000347485872226, -1.5392050422281907, -1.2783753358691592, -1.0175456295101277, -0.7567159231510958, -0.49588621679206435, -0.23505651043303288, 0.025773195925999026, 0.28660290228503005, 0.547432608644062, 0.808262315003093, 1.069092021362125, 1.3299217277211568, 1.5907514340801878, 1.8515811404392197, 2.1124108467982516, 2.3732405531572827, 2.6340702595163146, 2.8948999658753465, 3.1557296722343775], [-4.408331812177538, -4.147502105818506, -3.886672399459475, -3.6258426931004433, -3.365012986741412, -3.1041832803823803, -2.8433535740233484, -2.582523867664317, -2.3216941613052855, -2.060864454946254, -1.8000347485872226, -1.5392050422281907, -1.2783753358691592, -1.0175456295101277, -0.7567159231510958, -0.49588621679206435, -0.23505651043303288, 0.025773195925999026, 0.28660290228503005, 0.547432608644062, 0.808262315003093, 1.069092021362125, 1.3299217277211568, 1.5907514340801878, 1.8515811404392197, 2.1124108467982516, 2.3732405531572827, 2.6340702595163146, 2.8948999658753465, 3.1557296722343775], [-4.408331812177538, -4.147502105818506, -3.886672399459475, -3.6258426931004433, -3.365012986741412, -3.1041832803823803, -2.8433535740233484, -2.582523867664317, -2.3216941613052855, -2.060864454946254, -1.8000347485872226, -1.5392050422281907, -1.2783753358691592, -1.0175456295101277, -0.7567159231510958, -0.49588621679206435, -0.23505651043303288, 0.025773195925999026, 0.28660290228503005, 0.547432608644062, 0.808262315003093, 1.069092021362125, 1.3299217277211568, 1.5907514340801878, 1.8515811404392197, 2.1124108467982516, 2.3732405531572827, 2.6340702595163146, 2.8948999658753465, 3.1557296722343775], [-4.408331812177538, -4.147502105818506, -3.886672399459475, -3.6258426931004433, -3.365012986741412, -3.1041832803823803, -2.8433535740233484, -2.582523867664317, -2.3216941613052855, -2.060864454946254, -1.8000347485872226, -1.5392050422281907, -1.2783753358691592, -1.0175456295101277, -0.7567159231510958, -0.49588621679206435, -0.23505651043303288, 0.025773195925999026, 0.28660290228503005, 0.547432608644062, 0.808262315003093, 1.069092021362125, 1.3299217277211568, 1.5907514340801878, 1.8515811404392197, 2.1124108467982516, 2.3732405531572827, 2.6340702595163146, 2.8948999658753465, 3.1557296722343775], [-4.408331812177538, -4.147502105818506, -3.886672399459475, -3.6258426931004433, -3.365012986741412, -3.1041832803823803, -2.8433535740233484, -2.582523867664317, -2.3216941613052855, -2.060864454946254, -1.8000347485872226, -1.5392050422281907, -1.2783753358691592, -1.0175456295101277, -0.7567159231510958, -0.49588621679206435, -0.23505651043303288, 0.025773195925999026, 0.28660290228503005, 0.547432608644062, 0.808262315003093, 1.069092021362125, 1.3299217277211568, 1.5907514340801878, 1.8515811404392197, 2.1124108467982516, 2.3732405531572827, 2.6340702595163146, 2.8948999658753465, 3.1557296722343775], [-4.408331812177538, -4.147502105818506, -3.886672399459475, -3.6258426931004433, -3.365012986741412, -3.1041832803823803, -2.8433535740233484, -2.582523867664317, -2.3216941613052855, -2.060864454946254, -1.8000347485872226, -1.5392050422281907, -1.2783753358691592, -1.0175456295101277, -0.7567159231510958, -0.49588621679206435, -0.23505651043303288, 0.025773195925999026, 0.28660290228503005, 0.547432608644062, 0.808262315003093, 1.069092021362125, 1.3299217277211568, 1.5907514340801878, 1.8515811404392197, 2.1124108467982516, 2.3732405531572827, 2.6340702595163146, 2.8948999658753465, 3.1557296722343775], [-4.408331812177538, -4.147502105818506, -3.886672399459475, -3.6258426931004433, -3.365012986741412, -3.1041832803823803, -2.8433535740233484, -2.582523867664317, -2.3216941613052855, -2.060864454946254, -1.8000347485872226, -1.5392050422281907, -1.2783753358691592, -1.0175456295101277, -0.7567159231510958, -0.49588621679206435, -0.23505651043303288, 0.025773195925999026, 0.28660290228503005, 0.547432608644062, 0.808262315003093, 1.069092021362125, 1.3299217277211568, 1.5907514340801878, 1.8515811404392197, 2.1124108467982516, 2.3732405531572827, 2.6340702595163146, 2.8948999658753465, 3.1557296722343775], [-4.408331812177538, -4.147502105818506, -3.886672399459475, -3.6258426931004433, -3.365012986741412, -3.1041832803823803, -2.8433535740233484, -2.582523867664317, -2.3216941613052855, -2.060864454946254, -1.8000347485872226, -1.5392050422281907, -1.2783753358691592, -1.0175456295101277, -0.7567159231510958, -0.49588621679206435, -0.23505651043303288, 0.025773195925999026, 0.28660290228503005, 0.547432608644062, 0.808262315003093, 1.069092021362125, 1.3299217277211568, 1.5907514340801878, 1.8515811404392197, 2.1124108467982516, 2.3732405531572827, 2.6340702595163146, 2.8948999658753465, 3.1557296722343775], [-4.408331812177538, -4.147502105818506, -3.886672399459475, -3.6258426931004433, -3.365012986741412, -3.1041832803823803, -2.8433535740233484, -2.582523867664317, -2.3216941613052855, -2.060864454946254, -1.8000347485872226, -1.5392050422281907, -1.2783753358691592, -1.0175456295101277, -0.7567159231510958, -0.49588621679206435, -0.23505651043303288, 0.025773195925999026, 0.28660290228503005, 0.547432608644062, 0.808262315003093, 1.069092021362125, 1.3299217277211568, 1.5907514340801878, 1.8515811404392197, 2.1124108467982516, 2.3732405531572827, 2.6340702595163146, 2.8948999658753465, 3.1557296722343775], [-4.408331812177538, -4.147502105818506, -3.886672399459475, -3.6258426931004433, -3.365012986741412, -3.1041832803823803, -2.8433535740233484, -2.582523867664317, -2.3216941613052855, -2.060864454946254, -1.8000347485872226, -1.5392050422281907, -1.2783753358691592, -1.0175456295101277, -0.7567159231510958, -0.49588621679206435, -0.23505651043303288, 0.025773195925999026, 0.28660290228503005, 0.547432608644062, 0.808262315003093, 1.069092021362125, 1.3299217277211568, 1.5907514340801878, 1.8515811404392197, 2.1124108467982516, 2.3732405531572827, 2.6340702595163146, 2.8948999658753465, 3.1557296722343775], [-4.408331812177538, -4.147502105818506, -3.886672399459475, -3.6258426931004433, -3.365012986741412, -3.1041832803823803, -2.8433535740233484, -2.582523867664317, -2.3216941613052855, -2.060864454946254, -1.8000347485872226, -1.5392050422281907, -1.2783753358691592, -1.0175456295101277, -0.7567159231510958, -0.49588621679206435, -0.23505651043303288, 0.025773195925999026, 0.28660290228503005, 0.547432608644062, 0.808262315003093, 1.069092021362125, 1.3299217277211568, 1.5907514340801878, 1.8515811404392197, 2.1124108467982516, 2.3732405531572827, 2.6340702595163146, 2.8948999658753465, 3.1557296722343775], [-4.408331812177538, -4.147502105818506, -3.886672399459475, -3.6258426931004433, -3.365012986741412, -3.1041832803823803, -2.8433535740233484, -2.582523867664317, -2.3216941613052855, -2.060864454946254, -1.8000347485872226, -1.5392050422281907, -1.2783753358691592, -1.0175456295101277, -0.7567159231510958, -0.49588621679206435, -0.23505651043303288, 0.025773195925999026, 0.28660290228503005, 0.547432608644062, 0.808262315003093, 1.069092021362125, 1.3299217277211568, 1.5907514340801878, 1.8515811404392197, 2.1124108467982516, 2.3732405531572827, 2.6340702595163146, 2.8948999658753465, 3.1557296722343775], [-4.408331812177538, -4.147502105818506, -3.886672399459475, -3.6258426931004433, -3.365012986741412, -3.1041832803823803, -2.8433535740233484, -2.582523867664317, -2.3216941613052855, -2.060864454946254, -1.8000347485872226, -1.5392050422281907, -1.2783753358691592, -1.0175456295101277, -0.7567159231510958, -0.49588621679206435, -0.23505651043303288, 0.025773195925999026, 0.28660290228503005, 0.547432608644062, 0.808262315003093, 1.069092021362125, 1.3299217277211568, 1.5907514340801878, 1.8515811404392197, 2.1124108467982516, 2.3732405531572827, 2.6340702595163146, 2.8948999658753465, 3.1557296722343775], [-4.408331812177538, -4.147502105818506, -3.886672399459475, -3.6258426931004433, -3.365012986741412, -3.1041832803823803, -2.8433535740233484, -2.582523867664317, -2.3216941613052855, -2.060864454946254, -1.8000347485872226, -1.5392050422281907, -1.2783753358691592, -1.0175456295101277, -0.7567159231510958, -0.49588621679206435, -0.23505651043303288, 0.025773195925999026, 0.28660290228503005, 0.547432608644062, 0.808262315003093, 1.069092021362125, 1.3299217277211568, 1.5907514340801878, 1.8515811404392197, 2.1124108467982516, 2.3732405531572827, 2.6340702595163146, 2.8948999658753465, 3.1557296722343775], [-4.408331812177538, -4.147502105818506, -3.886672399459475, -3.6258426931004433, -3.365012986741412, -3.1041832803823803, -2.8433535740233484, -2.582523867664317, -2.3216941613052855, -2.060864454946254, -1.8000347485872226, -1.5392050422281907, -1.2783753358691592, -1.0175456295101277, -0.7567159231510958, -0.49588621679206435, -0.23505651043303288, 0.025773195925999026, 0.28660290228503005, 0.547432608644062, 0.808262315003093, 1.069092021362125, 1.3299217277211568, 1.5907514340801878, 1.8515811404392197, 2.1124108467982516, 2.3732405531572827, 2.6340702595163146, 2.8948999658753465, 3.1557296722343775], [-4.408331812177538, -4.147502105818506, -3.886672399459475, -3.6258426931004433, -3.365012986741412, -3.1041832803823803, -2.8433535740233484, -2.582523867664317, -2.3216941613052855, -2.060864454946254, -1.8000347485872226, -1.5392050422281907, -1.2783753358691592, -1.0175456295101277, -0.7567159231510958, -0.49588621679206435, -0.23505651043303288, 0.025773195925999026, 0.28660290228503005, 0.547432608644062, 0.808262315003093, 1.069092021362125, 1.3299217277211568, 1.5907514340801878, 1.8515811404392197, 2.1124108467982516, 2.3732405531572827, 2.6340702595163146, 2.8948999658753465, 3.1557296722343775], [-4.408331812177538, -4.147502105818506, -3.886672399459475, -3.6258426931004433, -3.365012986741412, -3.1041832803823803, -2.8433535740233484, -2.582523867664317, -2.3216941613052855, -2.060864454946254, -1.8000347485872226, -1.5392050422281907, -1.2783753358691592, -1.0175456295101277, -0.7567159231510958, -0.49588621679206435, -0.23505651043303288, 0.025773195925999026, 0.28660290228503005, 0.547432608644062, 0.808262315003093, 1.069092021362125, 1.3299217277211568, 1.5907514340801878, 1.8515811404392197, 2.1124108467982516, 2.3732405531572827, 2.6340702595163146, 2.8948999658753465, 3.1557296722343775], [-4.408331812177538, -4.147502105818506, -3.886672399459475, -3.6258426931004433, -3.365012986741412, -3.1041832803823803, -2.8433535740233484, -2.582523867664317, -2.3216941613052855, -2.060864454946254, -1.8000347485872226, -1.5392050422281907, -1.2783753358691592, -1.0175456295101277, -0.7567159231510958, -0.49588621679206435, -0.23505651043303288, 0.025773195925999026, 0.28660290228503005, 0.547432608644062, 0.808262315003093, 1.069092021362125, 1.3299217277211568, 1.5907514340801878, 1.8515811404392197, 2.1124108467982516, 2.3732405531572827, 2.6340702595163146, 2.8948999658753465, 3.1557296722343775], [-4.408331812177538, -4.147502105818506, -3.886672399459475, -3.6258426931004433, -3.365012986741412, -3.1041832803823803, -2.8433535740233484, -2.582523867664317, -2.3216941613052855, -2.060864454946254, -1.8000347485872226, -1.5392050422281907, -1.2783753358691592, -1.0175456295101277, -0.7567159231510958, -0.49588621679206435, -0.23505651043303288, 0.025773195925999026, 0.28660290228503005, 0.547432608644062, 0.808262315003093, 1.069092021362125, 1.3299217277211568, 1.5907514340801878, 1.8515811404392197, 2.1124108467982516, 2.3732405531572827, 2.6340702595163146, 2.8948999658753465, 3.1557296722343775], [-4.408331812177538, -4.147502105818506, -3.886672399459475, -3.6258426931004433, -3.365012986741412, -3.1041832803823803, -2.8433535740233484, -2.582523867664317, -2.3216941613052855, -2.060864454946254, -1.8000347485872226, -1.5392050422281907, -1.2783753358691592, -1.0175456295101277, -0.7567159231510958, -0.49588621679206435, -0.23505651043303288, 0.025773195925999026, 0.28660290228503005, 0.547432608644062, 0.808262315003093, 1.069092021362125, 1.3299217277211568, 1.5907514340801878, 1.8515811404392197, 2.1124108467982516, 2.3732405531572827, 2.6340702595163146, 2.8948999658753465, 3.1557296722343775], [-4.408331812177538, -4.147502105818506, -3.886672399459475, -3.6258426931004433, -3.365012986741412, -3.1041832803823803, -2.8433535740233484, -2.582523867664317, -2.3216941613052855, -2.060864454946254, -1.8000347485872226, -1.5392050422281907, -1.2783753358691592, -1.0175456295101277, -0.7567159231510958, -0.49588621679206435, -0.23505651043303288, 0.025773195925999026, 0.28660290228503005, 0.547432608644062, 0.808262315003093, 1.069092021362125, 1.3299217277211568, 1.5907514340801878, 1.8515811404392197, 2.1124108467982516, 2.3732405531572827, 2.6340702595163146, 2.8948999658753465, 3.1557296722343775]], \"y\": [[-9.543563671344334, -9.543563671344334, -9.543563671344334, -9.543563671344334, -9.543563671344334, -9.543563671344334, -9.543563671344334, -9.543563671344334, -9.543563671344334, -9.543563671344334, -9.543563671344334, -9.543563671344334, -9.543563671344334, -9.543563671344334, -9.543563671344334, -9.543563671344334, -9.543563671344334, -9.543563671344334, -9.543563671344334, -9.543563671344334, -9.543563671344334, -9.543563671344334, -9.543563671344334, -9.543563671344334, -9.543563671344334, -9.543563671344334, -9.543563671344334, -9.543563671344334, -9.543563671344334, -9.543563671344334], [-9.253553754226887, -9.253553754226887, -9.253553754226887, -9.253553754226887, -9.253553754226887, -9.253553754226887, -9.253553754226887, -9.253553754226887, -9.253553754226887, -9.253553754226887, -9.253553754226887, -9.253553754226887, -9.253553754226887, -9.253553754226887, -9.253553754226887, -9.253553754226887, -9.253553754226887, -9.253553754226887, -9.253553754226887, -9.253553754226887, -9.253553754226887, -9.253553754226887, -9.253553754226887, -9.253553754226887, -9.253553754226887, -9.253553754226887, -9.253553754226887, -9.253553754226887, -9.253553754226887, -9.253553754226887], [-8.963543837109441, -8.963543837109441, -8.963543837109441, -8.963543837109441, -8.963543837109441, -8.963543837109441, -8.963543837109441, -8.963543837109441, -8.963543837109441, -8.963543837109441, -8.963543837109441, -8.963543837109441, -8.963543837109441, -8.963543837109441, -8.963543837109441, -8.963543837109441, -8.963543837109441, -8.963543837109441, -8.963543837109441, -8.963543837109441, -8.963543837109441, -8.963543837109441, -8.963543837109441, -8.963543837109441, -8.963543837109441, -8.963543837109441, -8.963543837109441, -8.963543837109441, -8.963543837109441, -8.963543837109441], [-8.673533919991993, -8.673533919991993, -8.673533919991993, -8.673533919991993, -8.673533919991993, -8.673533919991993, -8.673533919991993, -8.673533919991993, -8.673533919991993, -8.673533919991993, -8.673533919991993, -8.673533919991993, -8.673533919991993, -8.673533919991993, -8.673533919991993, -8.673533919991993, -8.673533919991993, -8.673533919991993, -8.673533919991993, -8.673533919991993, -8.673533919991993, -8.673533919991993, -8.673533919991993, -8.673533919991993, -8.673533919991993, -8.673533919991993, -8.673533919991993, -8.673533919991993, -8.673533919991993, -8.673533919991993], [-8.383524002874546, -8.383524002874546, -8.383524002874546, -8.383524002874546, -8.383524002874546, -8.383524002874546, -8.383524002874546, -8.383524002874546, -8.383524002874546, -8.383524002874546, -8.383524002874546, -8.383524002874546, -8.383524002874546, -8.383524002874546, -8.383524002874546, -8.383524002874546, -8.383524002874546, -8.383524002874546, -8.383524002874546, -8.383524002874546, -8.383524002874546, -8.383524002874546, -8.383524002874546, -8.383524002874546, -8.383524002874546, -8.383524002874546, -8.383524002874546, -8.383524002874546, -8.383524002874546, -8.383524002874546], [-8.0935140857571, -8.0935140857571, -8.0935140857571, -8.0935140857571, -8.0935140857571, -8.0935140857571, -8.0935140857571, -8.0935140857571, -8.0935140857571, -8.0935140857571, -8.0935140857571, -8.0935140857571, -8.0935140857571, -8.0935140857571, -8.0935140857571, -8.0935140857571, -8.0935140857571, -8.0935140857571, -8.0935140857571, -8.0935140857571, -8.0935140857571, -8.0935140857571, -8.0935140857571, -8.0935140857571, -8.0935140857571, -8.0935140857571, -8.0935140857571, -8.0935140857571, -8.0935140857571, -8.0935140857571], [-7.803504168639654, -7.803504168639654, -7.803504168639654, -7.803504168639654, -7.803504168639654, -7.803504168639654, -7.803504168639654, -7.803504168639654, -7.803504168639654, -7.803504168639654, -7.803504168639654, -7.803504168639654, -7.803504168639654, -7.803504168639654, -7.803504168639654, -7.803504168639654, -7.803504168639654, -7.803504168639654, -7.803504168639654, -7.803504168639654, -7.803504168639654, -7.803504168639654, -7.803504168639654, -7.803504168639654, -7.803504168639654, -7.803504168639654, -7.803504168639654, -7.803504168639654, -7.803504168639654, -7.803504168639654], [-7.513494251522207, -7.513494251522207, -7.513494251522207, -7.513494251522207, -7.513494251522207, -7.513494251522207, -7.513494251522207, -7.513494251522207, -7.513494251522207, -7.513494251522207, -7.513494251522207, -7.513494251522207, -7.513494251522207, -7.513494251522207, -7.513494251522207, -7.513494251522207, -7.513494251522207, -7.513494251522207, -7.513494251522207, -7.513494251522207, -7.513494251522207, -7.513494251522207, -7.513494251522207, -7.513494251522207, -7.513494251522207, -7.513494251522207, -7.513494251522207, -7.513494251522207, -7.513494251522207, -7.513494251522207], [-7.22348433440476, -7.22348433440476, -7.22348433440476, -7.22348433440476, -7.22348433440476, -7.22348433440476, -7.22348433440476, -7.22348433440476, -7.22348433440476, -7.22348433440476, -7.22348433440476, -7.22348433440476, -7.22348433440476, -7.22348433440476, -7.22348433440476, -7.22348433440476, -7.22348433440476, -7.22348433440476, -7.22348433440476, -7.22348433440476, -7.22348433440476, -7.22348433440476, -7.22348433440476, -7.22348433440476, -7.22348433440476, -7.22348433440476, -7.22348433440476, -7.22348433440476, -7.22348433440476, -7.22348433440476], [-6.933474417287313, -6.933474417287313, -6.933474417287313, -6.933474417287313, -6.933474417287313, -6.933474417287313, -6.933474417287313, -6.933474417287313, -6.933474417287313, -6.933474417287313, -6.933474417287313, -6.933474417287313, -6.933474417287313, -6.933474417287313, -6.933474417287313, -6.933474417287313, -6.933474417287313, -6.933474417287313, -6.933474417287313, -6.933474417287313, -6.933474417287313, -6.933474417287313, -6.933474417287313, -6.933474417287313, -6.933474417287313, -6.933474417287313, -6.933474417287313, -6.933474417287313, -6.933474417287313, -6.933474417287313], [-6.643464500169866, -6.643464500169866, -6.643464500169866, -6.643464500169866, -6.643464500169866, -6.643464500169866, -6.643464500169866, -6.643464500169866, -6.643464500169866, -6.643464500169866, -6.643464500169866, -6.643464500169866, -6.643464500169866, -6.643464500169866, -6.643464500169866, -6.643464500169866, -6.643464500169866, -6.643464500169866, -6.643464500169866, -6.643464500169866, -6.643464500169866, -6.643464500169866, -6.643464500169866, -6.643464500169866, -6.643464500169866, -6.643464500169866, -6.643464500169866, -6.643464500169866, -6.643464500169866, -6.643464500169866], [-6.35345458305242, -6.35345458305242, -6.35345458305242, -6.35345458305242, -6.35345458305242, -6.35345458305242, -6.35345458305242, -6.35345458305242, -6.35345458305242, -6.35345458305242, -6.35345458305242, -6.35345458305242, -6.35345458305242, -6.35345458305242, -6.35345458305242, -6.35345458305242, -6.35345458305242, -6.35345458305242, -6.35345458305242, -6.35345458305242, -6.35345458305242, -6.35345458305242, -6.35345458305242, -6.35345458305242, -6.35345458305242, -6.35345458305242, -6.35345458305242, -6.35345458305242, -6.35345458305242, -6.35345458305242], [-6.063444665934973, -6.063444665934973, -6.063444665934973, -6.063444665934973, -6.063444665934973, -6.063444665934973, -6.063444665934973, -6.063444665934973, -6.063444665934973, -6.063444665934973, -6.063444665934973, -6.063444665934973, -6.063444665934973, -6.063444665934973, -6.063444665934973, -6.063444665934973, -6.063444665934973, -6.063444665934973, -6.063444665934973, -6.063444665934973, -6.063444665934973, -6.063444665934973, -6.063444665934973, -6.063444665934973, -6.063444665934973, -6.063444665934973, -6.063444665934973, -6.063444665934973, -6.063444665934973, -6.063444665934973], [-5.773434748817526, -5.773434748817526, -5.773434748817526, -5.773434748817526, -5.773434748817526, -5.773434748817526, -5.773434748817526, -5.773434748817526, -5.773434748817526, -5.773434748817526, -5.773434748817526, -5.773434748817526, -5.773434748817526, -5.773434748817526, -5.773434748817526, -5.773434748817526, -5.773434748817526, -5.773434748817526, -5.773434748817526, -5.773434748817526, -5.773434748817526, -5.773434748817526, -5.773434748817526, -5.773434748817526, -5.773434748817526, -5.773434748817526, -5.773434748817526, -5.773434748817526, -5.773434748817526, -5.773434748817526], [-5.48342483170008, -5.48342483170008, -5.48342483170008, -5.48342483170008, -5.48342483170008, -5.48342483170008, -5.48342483170008, -5.48342483170008, -5.48342483170008, -5.48342483170008, -5.48342483170008, -5.48342483170008, -5.48342483170008, -5.48342483170008, -5.48342483170008, -5.48342483170008, -5.48342483170008, -5.48342483170008, -5.48342483170008, -5.48342483170008, -5.48342483170008, -5.48342483170008, -5.48342483170008, -5.48342483170008, -5.48342483170008, -5.48342483170008, -5.48342483170008, -5.48342483170008, -5.48342483170008, -5.48342483170008], [-5.1934149145826325, -5.1934149145826325, -5.1934149145826325, -5.1934149145826325, -5.1934149145826325, -5.1934149145826325, -5.1934149145826325, -5.1934149145826325, -5.1934149145826325, -5.1934149145826325, -5.1934149145826325, -5.1934149145826325, -5.1934149145826325, -5.1934149145826325, -5.1934149145826325, -5.1934149145826325, -5.1934149145826325, -5.1934149145826325, -5.1934149145826325, -5.1934149145826325, -5.1934149145826325, -5.1934149145826325, -5.1934149145826325, -5.1934149145826325, -5.1934149145826325, -5.1934149145826325, -5.1934149145826325, -5.1934149145826325, -5.1934149145826325, -5.1934149145826325], [-4.903404997465186, -4.903404997465186, -4.903404997465186, -4.903404997465186, -4.903404997465186, -4.903404997465186, -4.903404997465186, -4.903404997465186, -4.903404997465186, -4.903404997465186, -4.903404997465186, -4.903404997465186, -4.903404997465186, -4.903404997465186, -4.903404997465186, -4.903404997465186, -4.903404997465186, -4.903404997465186, -4.903404997465186, -4.903404997465186, -4.903404997465186, -4.903404997465186, -4.903404997465186, -4.903404997465186, -4.903404997465186, -4.903404997465186, -4.903404997465186, -4.903404997465186, -4.903404997465186, -4.903404997465186], [-4.61339508034774, -4.61339508034774, -4.61339508034774, -4.61339508034774, -4.61339508034774, -4.61339508034774, -4.61339508034774, -4.61339508034774, -4.61339508034774, -4.61339508034774, -4.61339508034774, -4.61339508034774, -4.61339508034774, -4.61339508034774, -4.61339508034774, -4.61339508034774, -4.61339508034774, -4.61339508034774, -4.61339508034774, -4.61339508034774, -4.61339508034774, -4.61339508034774, -4.61339508034774, -4.61339508034774, -4.61339508034774, -4.61339508034774, -4.61339508034774, -4.61339508034774, -4.61339508034774, -4.61339508034774], [-4.323385163230292, -4.323385163230292, -4.323385163230292, -4.323385163230292, -4.323385163230292, -4.323385163230292, -4.323385163230292, -4.323385163230292, -4.323385163230292, -4.323385163230292, -4.323385163230292, -4.323385163230292, -4.323385163230292, -4.323385163230292, -4.323385163230292, -4.323385163230292, -4.323385163230292, -4.323385163230292, -4.323385163230292, -4.323385163230292, -4.323385163230292, -4.323385163230292, -4.323385163230292, -4.323385163230292, -4.323385163230292, -4.323385163230292, -4.323385163230292, -4.323385163230292, -4.323385163230292, -4.323385163230292], [-4.033375246112846, -4.033375246112846, -4.033375246112846, -4.033375246112846, -4.033375246112846, -4.033375246112846, -4.033375246112846, -4.033375246112846, -4.033375246112846, -4.033375246112846, -4.033375246112846, -4.033375246112846, -4.033375246112846, -4.033375246112846, -4.033375246112846, -4.033375246112846, -4.033375246112846, -4.033375246112846, -4.033375246112846, -4.033375246112846, -4.033375246112846, -4.033375246112846, -4.033375246112846, -4.033375246112846, -4.033375246112846, -4.033375246112846, -4.033375246112846, -4.033375246112846, -4.033375246112846, -4.033375246112846], [-3.7433653289953988, -3.7433653289953988, -3.7433653289953988, -3.7433653289953988, -3.7433653289953988, -3.7433653289953988, -3.7433653289953988, -3.7433653289953988, -3.7433653289953988, -3.7433653289953988, -3.7433653289953988, -3.7433653289953988, -3.7433653289953988, -3.7433653289953988, -3.7433653289953988, -3.7433653289953988, -3.7433653289953988, -3.7433653289953988, -3.7433653289953988, -3.7433653289953988, -3.7433653289953988, -3.7433653289953988, -3.7433653289953988, -3.7433653289953988, -3.7433653289953988, -3.7433653289953988, -3.7433653289953988, -3.7433653289953988, -3.7433653289953988, -3.7433653289953988], [-3.4533554118779524, -3.4533554118779524, -3.4533554118779524, -3.4533554118779524, -3.4533554118779524, -3.4533554118779524, -3.4533554118779524, -3.4533554118779524, -3.4533554118779524, -3.4533554118779524, -3.4533554118779524, -3.4533554118779524, -3.4533554118779524, -3.4533554118779524, -3.4533554118779524, -3.4533554118779524, -3.4533554118779524, -3.4533554118779524, -3.4533554118779524, -3.4533554118779524, -3.4533554118779524, -3.4533554118779524, -3.4533554118779524, -3.4533554118779524, -3.4533554118779524, -3.4533554118779524, -3.4533554118779524, -3.4533554118779524, -3.4533554118779524, -3.4533554118779524], [-3.163345494760506, -3.163345494760506, -3.163345494760506, -3.163345494760506, -3.163345494760506, -3.163345494760506, -3.163345494760506, -3.163345494760506, -3.163345494760506, -3.163345494760506, -3.163345494760506, -3.163345494760506, -3.163345494760506, -3.163345494760506, -3.163345494760506, -3.163345494760506, -3.163345494760506, -3.163345494760506, -3.163345494760506, -3.163345494760506, -3.163345494760506, -3.163345494760506, -3.163345494760506, -3.163345494760506, -3.163345494760506, -3.163345494760506, -3.163345494760506, -3.163345494760506, -3.163345494760506, -3.163345494760506], [-2.8733355776430587, -2.8733355776430587, -2.8733355776430587, -2.8733355776430587, -2.8733355776430587, -2.8733355776430587, -2.8733355776430587, -2.8733355776430587, -2.8733355776430587, -2.8733355776430587, -2.8733355776430587, -2.8733355776430587, -2.8733355776430587, -2.8733355776430587, -2.8733355776430587, -2.8733355776430587, -2.8733355776430587, -2.8733355776430587, -2.8733355776430587, -2.8733355776430587, -2.8733355776430587, -2.8733355776430587, -2.8733355776430587, -2.8733355776430587, -2.8733355776430587, -2.8733355776430587, -2.8733355776430587, -2.8733355776430587, -2.8733355776430587, -2.8733355776430587], [-2.5833256605256123, -2.5833256605256123, -2.5833256605256123, -2.5833256605256123, -2.5833256605256123, -2.5833256605256123, -2.5833256605256123, -2.5833256605256123, -2.5833256605256123, -2.5833256605256123, -2.5833256605256123, -2.5833256605256123, -2.5833256605256123, -2.5833256605256123, -2.5833256605256123, -2.5833256605256123, -2.5833256605256123, -2.5833256605256123, -2.5833256605256123, -2.5833256605256123, -2.5833256605256123, -2.5833256605256123, -2.5833256605256123, -2.5833256605256123, -2.5833256605256123, -2.5833256605256123, -2.5833256605256123, -2.5833256605256123, -2.5833256605256123, -2.5833256605256123], [-2.293315743408166, -2.293315743408166, -2.293315743408166, -2.293315743408166, -2.293315743408166, -2.293315743408166, -2.293315743408166, -2.293315743408166, -2.293315743408166, -2.293315743408166, -2.293315743408166, -2.293315743408166, -2.293315743408166, -2.293315743408166, -2.293315743408166, -2.293315743408166, -2.293315743408166, -2.293315743408166, -2.293315743408166, -2.293315743408166, -2.293315743408166, -2.293315743408166, -2.293315743408166, -2.293315743408166, -2.293315743408166, -2.293315743408166, -2.293315743408166, -2.293315743408166, -2.293315743408166, -2.293315743408166], [-2.0033058262907186, -2.0033058262907186, -2.0033058262907186, -2.0033058262907186, -2.0033058262907186, -2.0033058262907186, -2.0033058262907186, -2.0033058262907186, -2.0033058262907186, -2.0033058262907186, -2.0033058262907186, -2.0033058262907186, -2.0033058262907186, -2.0033058262907186, -2.0033058262907186, -2.0033058262907186, -2.0033058262907186, -2.0033058262907186, -2.0033058262907186, -2.0033058262907186, -2.0033058262907186, -2.0033058262907186, -2.0033058262907186, -2.0033058262907186, -2.0033058262907186, -2.0033058262907186, -2.0033058262907186, -2.0033058262907186, -2.0033058262907186, -2.0033058262907186], [-1.7132959091732722, -1.7132959091732722, -1.7132959091732722, -1.7132959091732722, -1.7132959091732722, -1.7132959091732722, -1.7132959091732722, -1.7132959091732722, -1.7132959091732722, -1.7132959091732722, -1.7132959091732722, -1.7132959091732722, -1.7132959091732722, -1.7132959091732722, -1.7132959091732722, -1.7132959091732722, -1.7132959091732722, -1.7132959091732722, -1.7132959091732722, -1.7132959091732722, -1.7132959091732722, -1.7132959091732722, -1.7132959091732722, -1.7132959091732722, -1.7132959091732722, -1.7132959091732722, -1.7132959091732722, -1.7132959091732722, -1.7132959091732722, -1.7132959091732722], [-1.4232859920558258, -1.4232859920558258, -1.4232859920558258, -1.4232859920558258, -1.4232859920558258, -1.4232859920558258, -1.4232859920558258, -1.4232859920558258, -1.4232859920558258, -1.4232859920558258, -1.4232859920558258, -1.4232859920558258, -1.4232859920558258, -1.4232859920558258, -1.4232859920558258, -1.4232859920558258, -1.4232859920558258, -1.4232859920558258, -1.4232859920558258, -1.4232859920558258, -1.4232859920558258, -1.4232859920558258, -1.4232859920558258, -1.4232859920558258, -1.4232859920558258, -1.4232859920558258, -1.4232859920558258, -1.4232859920558258, -1.4232859920558258, -1.4232859920558258], [-1.133276074938379, -1.133276074938379, -1.133276074938379, -1.133276074938379, -1.133276074938379, -1.133276074938379, -1.133276074938379, -1.133276074938379, -1.133276074938379, -1.133276074938379, -1.133276074938379, -1.133276074938379, -1.133276074938379, -1.133276074938379, -1.133276074938379, -1.133276074938379, -1.133276074938379, -1.133276074938379, -1.133276074938379, -1.133276074938379, -1.133276074938379, -1.133276074938379, -1.133276074938379, -1.133276074938379, -1.133276074938379, -1.133276074938379, -1.133276074938379, -1.133276074938379, -1.133276074938379, -1.133276074938379]], \"z\": [[-3.479138792652413, -3.5332222440809993, -3.5873056955095852, -3.641389146938172, -3.695472598366758, -3.749556049795344, -3.803639501223931, -3.8577229526525167, -3.9118064040811036, -3.9658898555096895, -4.019973306938277, -4.074056758366862, -4.128140209795449, -4.182223661224035, -4.2363071126526215, -4.290390564081208, -4.344474015509794, -4.39855746693838, -4.452640918366967, -4.506724369795553, -4.560807821224139, -4.614891272652725, -4.668974724081312, -4.723058175509899, -4.7771416269384845, -4.831225078367071, -4.885308529795657, -4.939391981224244, -4.99347543265283, -5.0475588840814165], [-3.3253442458246822, -3.3794276972532686, -3.4335111486818546, -3.4875946001104414, -3.5416780515390274, -3.5957615029676133, -3.6498449543962, -3.703928405824786, -3.758011857253373, -3.812095308681959, -3.8661787601105457, -3.9202622115391317, -3.9743456629677176, -4.028429114396305, -4.08251256582489, -4.136596017253478, -4.190679468682063, -4.24476292011065, -4.298846371539236, -4.352929822967822, -4.407013274396409, -4.461096725824995, -4.515180177253582, -4.569263628682168, -4.623347080110754, -4.67743053153934, -4.731513982967927, -4.785597434396513, -4.8396808858251, -4.893764337253685], [-3.1715496989969516, -3.2256331504255376, -3.279716601854124, -3.3338000532827103, -3.3878835047112967, -3.4419669561398827, -3.4960504075684695, -3.5501338589970555, -3.6042173104256423, -3.6583007618542283, -3.712384213282815, -3.766467664711401, -3.820551116139987, -3.874634567568574, -3.9287180189971598, -3.9828014704257466, -4.036884921854333, -4.0909683732829185, -4.145051824711506, -4.199135276140091, -4.253218727568678, -4.307302178997264, -4.3613856304258505, -4.415469081854437, -4.469552533283023, -4.52363598471161, -4.577719436140196, -4.6318028875687824, -4.685886338997369, -4.739969790425955], [-3.0177551521692196, -3.0718386035978056, -3.1259220550263915, -3.1800055064549784, -3.2340889578835643, -3.2881724093121507, -3.3422558607407375, -3.3963393121693235, -3.4504227635979103, -3.5045062150264963, -3.558589666455083, -3.612673117883669, -3.666756569312255, -3.720840020740842, -3.774923472169428, -3.8290069235980146, -3.8830903750266006, -3.9371738264551865, -3.9912572778837734, -4.045340729312359, -4.099424180740946, -4.153507632169532, -4.2075910835981185, -4.261674535026705, -4.315757986455291, -4.369841437883878, -4.423924889312464, -4.4780083407410505, -4.532091792169637, -4.586175243598223], [-2.863960605341489, -2.918044056770075, -2.972127508198661, -3.0262109596272477, -3.0802944110558337, -3.13437786248442, -3.1884613139130065, -3.242544765341593, -3.2966282167701793, -3.3507116681987656, -3.4047951196273525, -3.4588785710559384, -3.5129620224845244, -3.567045473913111, -3.621128925341697, -3.675212376770284, -3.72929582819887, -3.783379279627456, -3.8374627310560427, -3.8915461824846287, -3.945629633913215, -3.9997130853418015, -4.053796536770387, -4.107879988198975, -4.16196343962756, -4.216046891056147, -4.270130342484733, -4.324213793913319, -4.378297245341906, -4.432380696770492], [-2.7101660585137584, -2.7642495099423443, -2.8183329613709303, -2.872416412799517, -2.926499864228103, -2.9805833156566894, -3.034666767085276, -3.0887502185138622, -3.1428336699424486, -3.196917121371035, -3.2510005727996214, -3.305084024228208, -3.3591674756567937, -3.4132509270853806, -3.4673343785139665, -3.5214178299425534, -3.5755012813711393, -3.6295847327997253, -3.683668184228312, -3.737751635656898, -3.7918350870854844, -3.845918538514071, -3.9000019899426572, -3.9540854413712436, -4.00816889279983, -4.0622523442284155, -4.116335795657003, -4.170419247085588, -4.224502698514176, -4.278586149942761], [-2.5563715116860277, -2.6104549631146137, -2.6645384145431996, -2.7186218659717865, -2.7727053174003724, -2.826788768828959, -2.880872220257545, -2.9349556716861316, -2.989039123114718, -3.0431225745433044, -3.0972060259718908, -3.151289477400477, -3.205372928829063, -3.25945638025765, -3.313539831686236, -3.3676232831148227, -3.4217067345434087, -3.4757901859719946, -3.5298736374005815, -3.5839570888291674, -3.6380405402577534, -3.69212399168634, -3.746207443114926, -3.800290894543513, -3.8543743459720994, -3.9084577974006853, -3.962541248829272, -4.016624700257858, -4.0707081516864445, -4.124791603115031], [-2.402576964858297, -2.456660416286883, -2.510743867715469, -2.564827319144056, -2.6189107705726418, -2.672994222001228, -2.7270776734298146, -2.781161124858401, -2.8352445762869873, -2.8893280277155733, -2.9434114791441597, -2.997494930572746, -3.0515783820013325, -3.105661833429919, -3.1597452848585053, -3.213828736287092, -3.267912187715678, -3.321995639144264, -3.376079090572851, -3.4301625420014368, -3.4842459934300227, -3.5383294448586096, -3.5924128962871955, -3.6464963477157823, -3.7005797991443683, -3.7546632505729547, -3.808746702001541, -3.8628301534301275, -3.916913604858714, -3.9709970562873003], [-2.248782418030566, -2.3028658694591524, -2.3569493208877383, -2.411032772316325, -2.465116223744911, -2.5191996751734975, -2.573283126602084, -2.6273665780306703, -2.6814500294592567, -2.7355334808878427, -2.789616932316429, -2.8437003837450154, -2.897783835173602, -2.9518672866021882, -3.0059507380307746, -3.060034189459361, -3.1141176408879474, -3.1682010923165334, -3.22228454374512, -3.276367995173706, -3.330451446602292, -3.384534898030879, -3.438618349459465, -3.4927018008880517, -3.5467852523166377, -3.600868703745224, -3.6549521551738104, -3.709035606602397, -3.7631190580309832, -3.8172025094595696], [-2.094987871202835, -2.149071322631421, -2.203154774060007, -2.2572382254885937, -2.3113216769171796, -2.365405128345766, -2.4194885797743524, -2.473572031202939, -2.527655482631525, -2.5817389340601116, -2.635822385488698, -2.6899058369172844, -2.7439892883458707, -2.7980727397744567, -2.852156191203043, -2.9062396426316295, -2.960323094060216, -3.0144065454888023, -3.068489996917388, -3.1225734483459746, -3.176656899774561, -3.2307403512031474, -3.284823802631734, -3.33890725406032, -3.3929907054889066, -3.447074156917493, -3.5011576083460794, -3.5552410597746653, -3.609324511203252, -3.663407962631838], [-1.941193324375104, -1.9952767758036902, -2.049360227232276, -2.103443678660863, -2.157527130089449, -2.2116105815180354, -2.2656940329466217, -2.319777484375208, -2.3738609358037945, -2.427944387232381, -2.4820278386609673, -2.5361112900895537, -2.59019474151814, -2.644278192946726, -2.6983616443753125, -2.752445095803899, -2.8065285472324852, -2.8606119986610716, -2.9146954500896576, -2.968778901518244, -3.0228623529468304, -3.0769458043754168, -3.131029255804003, -3.1851127072325895, -3.239196158661176, -3.2932796100897623, -3.3473630615183487, -3.4014465129469347, -3.4555299643755215, -3.5096134158041075], [-1.7873987775473734, -1.8414822289759596, -1.8955656804045455, -1.9496491318331324, -2.0037325832617183, -2.0578160346903047, -2.111899486118891, -2.1659829375474775, -2.220066388976064, -2.27414984040465, -2.3282332918332362, -2.3823167432618226, -2.436400194690409, -2.4904836461189954, -2.544567097547582, -2.598650548976168, -2.6527340004047546, -2.706817451833341, -2.760900903261927, -2.8149843546905133, -2.8690678061190997, -2.923151257547686, -2.9772347089762725, -3.0313181604048585, -3.085401611833445, -3.1394850632620317, -3.1935685146906176, -3.247651966119204, -3.301735417547791, -3.355818868976377], [-1.6336042307196428, -1.6876876821482287, -1.741771133576815, -1.7958545850054017, -1.8499380364339877, -1.904021487862574, -1.9581049392911605, -2.012188390719747, -2.0662718421483333, -2.120355293576919, -2.1744387450055056, -2.228522196434092, -2.2826056478626784, -2.336689099291265, -2.390772550719851, -2.4448560021484376, -2.498939453577024, -2.5530229050056104, -2.6071063564341963, -2.6611898078627827, -2.715273259291369, -2.7693567107199555, -2.823440162148542, -2.877523613577128, -2.931607065005714, -2.9856905164343006, -3.039773967862887, -3.0938574192914734, -3.14794087072006, -3.202024322148646], [-1.4798096838919113, -1.5338931353204974, -1.5879765867490836, -1.6420600381776702, -1.6961434896062564, -1.7502269410348428, -1.8043103924634292, -1.8583938438920156, -1.912477295320602, -1.966560746749188, -2.0206441981777745, -2.074727649606361, -2.1288111010349473, -2.1828945524635333, -2.2369780038921196, -2.291061455320706, -2.3451449067492924, -2.399228358177879, -2.4533118096064648, -2.507395261035051, -2.5614787124636376, -2.615562163892224, -2.6696456153208104, -2.7237290667493967, -2.777812518177983, -2.8318959696065695, -2.885979421035156, -2.940062872463742, -2.9941463238923287, -3.0482297753209147], [-1.3260151370641806, -1.3800985884927668, -1.434182039921353, -1.4882654913499396, -1.5423489427785257, -1.596432394207112, -1.6505158456356985, -1.704599297064285, -1.7586827484928713, -1.8127661999214573, -1.8668496513500437, -1.92093310277863, -1.9750165542072164, -2.0291000056358026, -2.083183457064389, -2.1372669084929754, -2.191350359921562, -2.245433811350148, -2.299517262778734, -2.3536007142073205, -2.407684165635907, -2.4617676170644933, -2.5158510684930797, -2.569934519921666, -2.6240179713502525, -2.678101422778839, -2.7321848742074253, -2.7862683256360112, -2.840351777064598, -2.894435228493184], [-1.172220590236449, -1.2263040416650355, -1.2803874930936217, -1.3344709445222083, -1.3885543959507944, -1.4426378473793806, -1.496721298807967, -1.5508047502365534, -1.6048882016651398, -1.658971653093726, -1.7130551045223124, -1.7671385559508987, -1.8212220073794851, -1.875305458808071, -1.9293889102366575, -1.9834723616652439, -2.0375558130938303, -2.0916392645224167, -2.145722715951003, -2.1998061673795894, -2.253889618808176, -2.3079730702367622, -2.3620565216653486, -2.4161399730939346, -2.470223424522521, -2.5243068759511074, -2.5783903273796938, -2.6324737788082797, -2.6865572302368665, -2.7406406816654525], [-1.0184260434087185, -1.0725094948373046, -1.126592946265891, -1.1806763976944774, -1.2347598491230638, -1.28884330055165, -1.3429267519802364, -1.3970102034088228, -1.451093654837409, -1.5051771062659953, -1.5592605576945817, -1.613344009123168, -1.6674274605517545, -1.7215109119803405, -1.7755943634089268, -1.8296778148375132, -1.8837612662660996, -1.937844717694686, -1.9919281691232722, -2.0460116205518584, -2.1000950719804448, -2.154178523409031, -2.208261974837618, -2.262345426266204, -2.3164288776947903, -2.3705123291233767, -2.424595780551963, -2.478679231980549, -2.532762683409136, -2.586846134837722], [-0.8646314965809878, -0.918714948009574, -0.9727983994381603, -1.0268818508667468, -1.080965302295333, -1.1350487537239193, -1.1891322051525057, -1.2432156565810921, -1.2972991080096783, -1.3513825594382645, -1.4054660108668509, -1.4595494622954372, -1.5136329137240236, -1.5677163651526098, -1.6217998165811962, -1.6758832680097826, -1.729966719438369, -1.7840501708669554, -1.8381336222955416, -1.892217073724128, -1.9463005251527143, -2.0003839765813005, -2.054467428009887, -2.1085508794384733, -2.1626343308670597, -2.216717782295646, -2.2708012337242325, -2.3248846851528184, -2.3789681365814053, -2.433051588009991], [-0.7108369497532571, -0.7649204011818433, -0.8190038526104295, -0.8730873040390161, -0.9271707554676024, -0.9812542068961886, -1.035337658324775, -1.0894211097533615, -1.1435045611819477, -1.1975880126105338, -1.2516714640391202, -1.3057549154677066, -1.359838366896293, -1.4139218183248794, -1.4680052697534658, -1.522088721182052, -1.5761721726106384, -1.6302556240392247, -1.6843390754678107, -1.738422526896397, -1.7925059783249837, -1.84658942975357, -1.9006728811821565, -1.9547563326107424, -2.008839784039329, -2.0629232354679155, -2.117006686896502, -2.171090138325088, -2.2251735897536746, -2.2792570411822606], [-0.5570424029255262, -0.6111258543541125, -0.6652093057826987, -0.7192927572112852, -0.7733762086398716, -0.8274596600684577, -0.8815431114970441, -0.9356265629256304, -0.9897100143542168, -1.0437934657828032, -1.0978769172113894, -1.1519603686399758, -1.2060438200685621, -1.2601272714971485, -1.314210722925735, -1.368294174354321, -1.4223776257829075, -1.4764610772114939, -1.53054452864008, -1.5846279800686665, -1.6387114314972526, -1.692794882925839, -1.7468783343544254, -1.8009617857830118, -1.8550452372115982, -1.9091286886401841, -1.9632121400687705, -2.017295591497357, -2.0713790429259435, -2.12546249435453], [-0.40324785609779523, -0.45733130752638146, -0.5114147589549677, -0.5654982103835542, -0.6195816618121405, -0.6736651132407268, -0.7277485646693131, -0.7818320160978994, -0.8359154675264857, -0.8899989189550721, -0.9440823703836584, -0.9981658218122448, -1.052249273240831, -1.1063327246694175, -1.1604161760980038, -1.21449962752659, -1.2685830789551764, -1.3226665303837628, -1.376749981812349, -1.4308334332409356, -1.4849168846695215, -1.539000336098108, -1.5930837875266943, -1.6471672389552807, -1.7012506903838671, -1.7553341418124535, -1.8094175932410397, -1.863501044669626, -1.9175844960982125, -1.9716679475267984], [-0.24945330927006454, -0.30353676069865076, -0.357620212127237, -0.4117036635558235, -0.4657871149844098, -0.519870566412996, -0.5739540178415824, -0.6280374692701688, -0.6821209206987551, -0.7362043721273414, -0.7902878235559276, -0.8443712749845141, -0.8984547264131003, -0.9525381778416867, -1.0066216292702732, -1.0607050806988594, -1.1147885321274458, -1.1688719835560322, -1.2229554349846183, -1.2770388864132047, -1.331122337841791, -1.3852057892703773, -1.4392892406989637, -1.4933726921275499, -1.5474561435561363, -1.6015395949847229, -1.6556230464133088, -1.7097064978418954, -1.7637899492704818, -1.8178734006990678], [-0.09565876244233384, -0.14974221387092007, -0.2038256652995063, -0.2579091167280928, -0.3119925681566791, -0.3660760195852653, -0.42015947101385176, -0.47424292244243804, -0.5283263738710243, -0.5824098252996107, -0.636493276728197, -0.6905767281567834, -0.7446601795853697, -0.7987436310139561, -0.8528270824425425, -0.9069105338711286, -0.960993985299715, -1.0150774367283015, -1.0691608881568877, -1.123244339585474, -1.1773277910140603, -1.2314112424426467, -1.285494693871233, -1.3395781452998192, -1.3936615967284056, -1.447745048156992, -1.5018284995855782, -1.5559119510141646, -1.609995402442751, -1.6640788538713371], [0.05813578438539736, 0.004052332956811135, -0.0500311184717751, -0.10411456990036158, -0.1581980213289479, -0.21228147275753412, -0.2663649241861205, -0.32044837561470685, -0.3745318270432932, -0.42861527847187947, -0.4826987299004658, -0.5367821813290522, -0.5908656327576385, -0.6449490841862249, -0.6990325356148113, -0.7531159870433974, -0.8071994384719838, -0.8612828899005702, -0.9153663413291565, -0.9694497927577428, -1.023533244186329, -1.0776166956149156, -1.1317001470435017, -1.185783598472088, -1.2398670499006743, -1.2939505013292607, -1.348033952757847, -1.4021174041864335, -1.4562008556150199, -1.510284307043606], [0.21193033121312804, 0.15784687978454182, 0.10376342835595559, 0.0496799769273691, -0.004403474501217217, -0.058486925929803445, -0.11257037735838984, -0.16665382878697615, -0.2207372802155625, -0.2748207316441488, -0.3289041830727351, -0.3829876345013215, -0.43707108592990773, -0.4911545373584941, -0.5452379887870805, -0.5993214402156668, -0.6534048916442531, -0.7074883430728395, -0.7615717945014258, -0.815655245930012, -0.8697386973585983, -0.9238221487871848, -0.9779056002157711, -1.0319890516443573, -1.0860725030729437, -1.14015595450153, -1.1942394059301165, -1.2483228573587029, -1.3024063087872892, -1.3564897602158754], [0.36572487804085874, 0.3116414266122725, 0.2575579751836863, 0.20347452375509978, 0.14939107232651347, 0.09530762089792724, 0.041224169469340835, -0.012859281959245484, -0.0669427333878318, -0.12102618481641812, -0.17510963624500442, -0.22919308767359084, -0.2832765391021771, -0.33735999053076343, -0.3914434419593498, -0.4455268933879361, -0.49961034481652244, -0.5536937962451088, -0.607777247673695, -0.6618606991022814, -0.7159441505308677, -0.7700276019594541, -0.8241110533880404, -0.8781945048166266, -0.932277956245213, -0.9863614076737994, -1.0404448591023856, -1.094528310530972, -1.1486117619595584, -1.2026952133881448], [0.5195194248685899, 0.4654359734400037, 0.4113525220114175, 0.35726907058283097, 0.3031856191542447, 0.24910216772565844, 0.19501871629707204, 0.14093526486848573, 0.08685181343989941, 0.03276836201131309, -0.021315089417273225, -0.07539854084585963, -0.1294819922744459, -0.1835654437030322, -0.23764889513161863, -0.2917323465602049, -0.34581579798879125, -0.3998992494173776, -0.45398270084596387, -0.5080661522745502, -0.5621496037031365, -0.6162330551317229, -0.6703165065603092, -0.7243999579888954, -0.7784834094174818, -0.8325668608460682, -0.8866503122746545, -0.9407337637032409, -0.9948172151318273, -1.0489006665604135], [0.6733139716963206, 0.6192305202677344, 0.5651470688391481, 0.5110636174105617, 0.4569801659819754, 0.4028967145533891, 0.3488132631248027, 0.2947298116962164, 0.2406463602676301, 0.18656290883904378, 0.13247945741045747, 0.07839600598187105, 0.024312554553284783, -0.029770896875301534, -0.08385434830388794, -0.13793779973247425, -0.19202125116106056, -0.24610470258964692, -0.3001881540182332, -0.35427160544681957, -0.4083550568754058, -0.4624385083039922, -0.5165219597325785, -0.5706054111611647, -0.6246888625897511, -0.6787723140183376, -0.7328557654469238, -0.7869392168755102, -0.8410226683040966, -0.8951061197326828], [0.8271085185240513, 0.773025067095465, 0.7189416156668789, 0.6648581642382924, 0.6107747128097061, 0.5566912613811198, 0.5026078099525334, 0.44852435852394706, 0.3944409070953608, 0.34035745566677444, 0.28627400423818816, 0.23219055280960174, 0.17810710138101546, 0.12402364995242915, 0.06994019852384274, 0.01585674709525643, -0.03822670433332987, -0.09231015576191627, -0.14639360719050248, -0.20047705861908888, -0.2545605100476751, -0.3086439614762615, -0.3627274129048479, -0.41681086433343406, -0.47089431576202045, -0.5249777671906068, -0.5790612186191931, -0.6331446700477795, -0.6872281214763659, -0.7413115729049521], [0.9809030653517823, 0.9268196139231959, 0.8727361624946098, 0.8186527110660233, 0.7645692596374369, 0.7104858082088508, 0.6564023567802644, 0.602318905351678, 0.5482354539230917, 0.4941520024945054, 0.4400685510659191, 0.3859850996373327, 0.3319016482087464, 0.2778181967801601, 0.2237347453515737, 0.16965129392298736, 0.11556784249440108, 0.06148439106581467, 0.007400939637228457, -0.046682511791357933, -0.10076596321994415, -0.15484941464853058, -0.20893286607711692, -0.26301631750570315, -0.31709976893428954, -0.37118322036287593, -0.42526667179146216, -0.47935012322004855, -0.533433574648635, -0.5875170260772212]]}, {\"line\": {\"width\": 6}, \"marker\": {\"size\": 1}, \"showlegend\": false, \"type\": \"scatter3d\", \"x\": [-2.7469164972912514, -0.4039709516244592], \"y\": [-1.9306617356064473, 1.0331678379063707], \"z\": [-3.034170248128713, -1.9482415028359887]}, {\"line\": {\"width\": 6}, \"marker\": {\"size\": 1}, \"showlegend\": false, \"type\": \"scatter3d\", \"x\": [-2.317067132432493, -0.8294160870912893], \"y\": [-2.040818781594588, 2.121256545746606], \"z\": [-5.8987617119969125, -4.000047125896468]}, {\"line\": {\"width\": 6}, \"marker\": {\"size\": 1}, \"showlegend\": false, \"type\": \"scatter3d\", \"x\": [2.815140476170738, -0.1360203811106508], \"y\": [-0.7715230809383078, 0.34787620866842267], \"z\": [-1.8615432636055613, -0.655989126559003]}],                        {\"autosize\": true, \"height\": 800, \"margin\": {\"b\": 10, \"l\": 10, \"pad\": 4, \"r\": 10, \"t\": 10}, \"paper_bgcolor\": \"White\", \"scene\": {\"aspectmode\": \"data\", \"camera\": {\"eye\": {\"x\": 1, \"y\": 1, \"z\": 1}}}, \"template\": {\"data\": {\"bar\": [{\"error_x\": {\"color\": \"#2a3f5f\"}, \"error_y\": {\"color\": \"#2a3f5f\"}, \"marker\": {\"line\": {\"color\": \"#E5ECF6\", \"width\": 0.5}}, \"type\": \"bar\"}], \"barpolar\": [{\"marker\": {\"line\": {\"color\": \"#E5ECF6\", \"width\": 0.5}}, \"type\": \"barpolar\"}], \"carpet\": [{\"aaxis\": {\"endlinecolor\": \"#2a3f5f\", \"gridcolor\": \"white\", \"linecolor\": \"white\", \"minorgridcolor\": \"white\", \"startlinecolor\": \"#2a3f5f\"}, \"baxis\": {\"endlinecolor\": \"#2a3f5f\", \"gridcolor\": \"white\", \"linecolor\": \"white\", \"minorgridcolor\": \"white\", \"startlinecolor\": \"#2a3f5f\"}, \"type\": \"carpet\"}], \"choropleth\": [{\"colorbar\": {\"outlinewidth\": 0, \"ticks\": \"\"}, \"type\": \"choropleth\"}], \"contour\": [{\"colorbar\": {\"outlinewidth\": 0, \"ticks\": \"\"}, \"colorscale\": [[0.0, \"#0d0887\"], [0.1111111111111111, \"#46039f\"], [0.2222222222222222, \"#7201a8\"], [0.3333333333333333, \"#9c179e\"], [0.4444444444444444, \"#bd3786\"], [0.5555555555555556, \"#d8576b\"], [0.6666666666666666, \"#ed7953\"], [0.7777777777777778, \"#fb9f3a\"], [0.8888888888888888, \"#fdca26\"], [1.0, \"#f0f921\"]], \"type\": \"contour\"}], \"contourcarpet\": [{\"colorbar\": {\"outlinewidth\": 0, \"ticks\": \"\"}, \"type\": \"contourcarpet\"}], \"heatmap\": [{\"colorbar\": {\"outlinewidth\": 0, \"ticks\": \"\"}, \"colorscale\": [[0.0, \"#0d0887\"], [0.1111111111111111, \"#46039f\"], [0.2222222222222222, \"#7201a8\"], [0.3333333333333333, \"#9c179e\"], [0.4444444444444444, \"#bd3786\"], [0.5555555555555556, \"#d8576b\"], [0.6666666666666666, \"#ed7953\"], [0.7777777777777778, \"#fb9f3a\"], [0.8888888888888888, \"#fdca26\"], [1.0, \"#f0f921\"]], \"type\": \"heatmap\"}], \"heatmapgl\": [{\"colorbar\": {\"outlinewidth\": 0, \"ticks\": \"\"}, \"colorscale\": [[0.0, \"#0d0887\"], [0.1111111111111111, \"#46039f\"], [0.2222222222222222, \"#7201a8\"], [0.3333333333333333, \"#9c179e\"], [0.4444444444444444, \"#bd3786\"], [0.5555555555555556, \"#d8576b\"], [0.6666666666666666, \"#ed7953\"], [0.7777777777777778, \"#fb9f3a\"], [0.8888888888888888, \"#fdca26\"], [1.0, \"#f0f921\"]], \"type\": \"heatmapgl\"}], \"histogram\": [{\"marker\": {\"colorbar\": {\"outlinewidth\": 0, \"ticks\": \"\"}}, \"type\": \"histogram\"}], \"histogram2d\": [{\"colorbar\": {\"outlinewidth\": 0, \"ticks\": \"\"}, \"colorscale\": [[0.0, \"#0d0887\"], [0.1111111111111111, \"#46039f\"], [0.2222222222222222, \"#7201a8\"], [0.3333333333333333, \"#9c179e\"], [0.4444444444444444, \"#bd3786\"], [0.5555555555555556, \"#d8576b\"], [0.6666666666666666, \"#ed7953\"], [0.7777777777777778, \"#fb9f3a\"], [0.8888888888888888, \"#fdca26\"], [1.0, \"#f0f921\"]], \"type\": \"histogram2d\"}], \"histogram2dcontour\": [{\"colorbar\": {\"outlinewidth\": 0, \"ticks\": \"\"}, \"colorscale\": [[0.0, \"#0d0887\"], [0.1111111111111111, \"#46039f\"], [0.2222222222222222, \"#7201a8\"], [0.3333333333333333, \"#9c179e\"], [0.4444444444444444, \"#bd3786\"], [0.5555555555555556, \"#d8576b\"], [0.6666666666666666, \"#ed7953\"], [0.7777777777777778, \"#fb9f3a\"], [0.8888888888888888, \"#fdca26\"], [1.0, \"#f0f921\"]], \"type\": \"histogram2dcontour\"}], \"mesh3d\": [{\"colorbar\": {\"outlinewidth\": 0, \"ticks\": \"\"}, \"type\": \"mesh3d\"}], \"parcoords\": [{\"line\": {\"colorbar\": {\"outlinewidth\": 0, \"ticks\": \"\"}}, \"type\": \"parcoords\"}], \"pie\": [{\"automargin\": true, \"type\": \"pie\"}], \"scatter\": [{\"marker\": {\"colorbar\": {\"outlinewidth\": 0, \"ticks\": \"\"}}, \"type\": \"scatter\"}], \"scatter3d\": [{\"line\": {\"colorbar\": {\"outlinewidth\": 0, \"ticks\": \"\"}}, \"marker\": {\"colorbar\": {\"outlinewidth\": 0, \"ticks\": \"\"}}, \"type\": \"scatter3d\"}], \"scattercarpet\": [{\"marker\": {\"colorbar\": {\"outlinewidth\": 0, \"ticks\": \"\"}}, \"type\": \"scattercarpet\"}], \"scattergeo\": [{\"marker\": {\"colorbar\": {\"outlinewidth\": 0, \"ticks\": \"\"}}, \"type\": \"scattergeo\"}], \"scattergl\": [{\"marker\": {\"colorbar\": {\"outlinewidth\": 0, \"ticks\": \"\"}}, \"type\": \"scattergl\"}], \"scattermapbox\": [{\"marker\": {\"colorbar\": {\"outlinewidth\": 0, \"ticks\": \"\"}}, \"type\": \"scattermapbox\"}], \"scatterpolar\": [{\"marker\": {\"colorbar\": {\"outlinewidth\": 0, \"ticks\": \"\"}}, \"type\": \"scatterpolar\"}], \"scatterpolargl\": [{\"marker\": {\"colorbar\": {\"outlinewidth\": 0, \"ticks\": \"\"}}, \"type\": \"scatterpolargl\"}], \"scatterternary\": [{\"marker\": {\"colorbar\": {\"outlinewidth\": 0, \"ticks\": \"\"}}, \"type\": \"scatterternary\"}], \"surface\": [{\"colorbar\": {\"outlinewidth\": 0, \"ticks\": \"\"}, \"colorscale\": [[0.0, \"#0d0887\"], [0.1111111111111111, \"#46039f\"], [0.2222222222222222, \"#7201a8\"], [0.3333333333333333, \"#9c179e\"], [0.4444444444444444, \"#bd3786\"], [0.5555555555555556, \"#d8576b\"], [0.6666666666666666, \"#ed7953\"], [0.7777777777777778, \"#fb9f3a\"], [0.8888888888888888, \"#fdca26\"], [1.0, \"#f0f921\"]], \"type\": \"surface\"}], \"table\": [{\"cells\": {\"fill\": {\"color\": \"#EBF0F8\"}, \"line\": {\"color\": \"white\"}}, \"header\": {\"fill\": {\"color\": \"#C8D4E3\"}, \"line\": {\"color\": \"white\"}}, \"type\": \"table\"}]}, \"layout\": {\"annotationdefaults\": {\"arrowcolor\": \"#2a3f5f\", \"arrowhead\": 0, \"arrowwidth\": 1}, \"autotypenumbers\": \"strict\", \"coloraxis\": {\"colorbar\": {\"outlinewidth\": 0, \"ticks\": \"\"}}, \"colorscale\": {\"diverging\": [[0, \"#8e0152\"], [0.1, \"#c51b7d\"], [0.2, \"#de77ae\"], [0.3, \"#f1b6da\"], [0.4, \"#fde0ef\"], [0.5, \"#f7f7f7\"], [0.6, \"#e6f5d0\"], [0.7, \"#b8e186\"], [0.8, \"#7fbc41\"], [0.9, \"#4d9221\"], [1, \"#276419\"]], \"sequential\": [[0.0, \"#0d0887\"], [0.1111111111111111, \"#46039f\"], [0.2222222222222222, \"#7201a8\"], [0.3333333333333333, \"#9c179e\"], [0.4444444444444444, \"#bd3786\"], [0.5555555555555556, \"#d8576b\"], [0.6666666666666666, \"#ed7953\"], [0.7777777777777778, \"#fb9f3a\"], [0.8888888888888888, \"#fdca26\"], [1.0, \"#f0f921\"]], \"sequentialminus\": [[0.0, \"#0d0887\"], [0.1111111111111111, \"#46039f\"], [0.2222222222222222, \"#7201a8\"], [0.3333333333333333, \"#9c179e\"], [0.4444444444444444, \"#bd3786\"], [0.5555555555555556, \"#d8576b\"], [0.6666666666666666, \"#ed7953\"], [0.7777777777777778, \"#fb9f3a\"], [0.8888888888888888, \"#fdca26\"], [1.0, \"#f0f921\"]]}, \"colorway\": [\"#636efa\", \"#EF553B\", \"#00cc96\", \"#ab63fa\", \"#FFA15A\", \"#19d3f3\", \"#FF6692\", \"#B6E880\", \"#FF97FF\", \"#FECB52\"], \"font\": {\"color\": \"#2a3f5f\"}, \"geo\": {\"bgcolor\": \"white\", \"lakecolor\": \"white\", \"landcolor\": \"#E5ECF6\", \"showlakes\": true, \"showland\": true, \"subunitcolor\": \"white\"}, \"hoverlabel\": {\"align\": \"left\"}, \"hovermode\": \"closest\", \"mapbox\": {\"style\": \"light\"}, \"paper_bgcolor\": \"white\", \"plot_bgcolor\": \"#E5ECF6\", \"polar\": {\"angularaxis\": {\"gridcolor\": \"white\", \"linecolor\": \"white\", \"ticks\": \"\"}, \"bgcolor\": \"#E5ECF6\", \"radialaxis\": {\"gridcolor\": \"white\", \"linecolor\": \"white\", \"ticks\": \"\"}}, \"scene\": {\"xaxis\": {\"backgroundcolor\": \"#E5ECF6\", \"gridcolor\": \"white\", \"gridwidth\": 2, \"linecolor\": \"white\", \"showbackground\": true, \"ticks\": \"\", \"zerolinecolor\": \"white\"}, \"yaxis\": {\"backgroundcolor\": \"#E5ECF6\", \"gridcolor\": \"white\", \"gridwidth\": 2, \"linecolor\": \"white\", \"showbackground\": true, \"ticks\": \"\", \"zerolinecolor\": \"white\"}, \"zaxis\": {\"backgroundcolor\": \"#E5ECF6\", \"gridcolor\": \"white\", \"gridwidth\": 2, \"linecolor\": \"white\", \"showbackground\": true, \"ticks\": \"\", \"zerolinecolor\": \"white\"}}, \"shapedefaults\": {\"line\": {\"color\": \"#2a3f5f\"}}, \"ternary\": {\"aaxis\": {\"gridcolor\": \"white\", \"linecolor\": \"white\", \"ticks\": \"\"}, \"baxis\": {\"gridcolor\": \"white\", \"linecolor\": \"white\", \"ticks\": \"\"}, \"bgcolor\": \"#E5ECF6\", \"caxis\": {\"gridcolor\": \"white\", \"linecolor\": \"white\", \"ticks\": \"\"}}, \"title\": {\"x\": 0.05}, \"xaxis\": {\"automargin\": true, \"gridcolor\": \"white\", \"linecolor\": \"white\", \"ticks\": \"\", \"title\": {\"standoff\": 15}, \"zerolinecolor\": \"white\", \"zerolinewidth\": 2}, \"yaxis\": {\"automargin\": true, \"gridcolor\": \"white\", \"linecolor\": \"white\", \"ticks\": \"\", \"title\": {\"standoff\": 15}, \"zerolinecolor\": \"white\", \"zerolinewidth\": 2}}}, \"width\": 1000},                        {\"responsive\": true}                    ).then(function(){\n",
       "                            \n",
       "var gd = document.getElementById('85f7d27a-a5d2-4c21-8d32-f40c1519ab48');\n",
       "var x = new MutationObserver(function (mutations, observer) {{\n",
       "        var display = window.getComputedStyle(gd).display;\n",
       "        if (!display || display === 'none') {{\n",
       "            console.log([gd, 'removed!']);\n",
       "            Plotly.purge(gd);\n",
       "            observer.disconnect();\n",
       "        }}\n",
       "}});\n",
       "\n",
       "// Listen for the removal of the full notebook cells\n",
       "var notebookContainer = gd.closest('#notebook-container');\n",
       "if (notebookContainer) {{\n",
       "    x.observe(notebookContainer, {childList: true});\n",
       "}}\n",
       "\n",
       "// Listen for the clearing of the current output cell\n",
       "var outputEl = gd.closest('.output');\n",
       "if (outputEl) {{\n",
       "    x.observe(outputEl, {childList: true});\n",
       "}}\n",
       "\n",
       "                        })                };                });            </script>        </div>"
      ]
     },
     "metadata": {},
     "output_type": "display_data"
    }
   ],
   "source": [
    "with ThreeDFigure() as fig: #trafo, back_trafo, swap_axes=\"xz\"\n",
    "    plane_offset = decision_plane.project([0,0,0]) #point where plane == plane.normal (plane doesn't need to go through [0,0,0])\n",
    "    fig.add_markers([0,0,0], size=3, name=\"origin\") #coordinate center\n",
    "    fig.add_markers(plane_offset, name=\"plane_offset\", color=\"yellow\")\n",
    "    fig.add_line(plane_offset+decision_plane.normal*minneg, plane_offset+decision_plane.normal*maxpos, name=\"plane_normal\") \n",
    "    for point, side in zip(X, y):\n",
    "        if trafo(point)[0] in [minneg, maxneg, minpos, maxpos]:\n",
    "            fig.add_markers(point, color=\"blue\" if side else \"red\", name=\"d=\"+str(trafo(point)[0]), size=3)\n",
    "            fig.add_line(point, back_trafo([0, trafo(point)[1], trafo(point)[2]]), name=\"^ len_d\",)            \n",
    "            fig.add_line(point, ortho_projection_affine(point, decision_plane.normal), name=\"^ proj\")\n",
    "        else:\n",
    "            fig.add_markers(point, color=\"blue\" if side else \"red\", name=str(trafo(point)[0]), showlegend=False)\n",
    "    xx, yy = make_meshgrid(minx=minx, miny=miny, maxx=maxx, maxy=maxy, margin=0.1)\n",
    "    fig.add_surface(xx, yy, decision_plane.z) #decision hyperplane\n",
    "    fig.add_sample_projections(X, decision_plane.normal, n_samples=3, showlegend=False)"
   ]
  },
  {
   "cell_type": "code",
   "execution_count": null,
   "metadata": {},
   "outputs": [],
   "source": []
  }
 ],
 "metadata": {
  "kernelspec": {
   "display_name": "Python 3 (ipykernel)",
   "language": "python",
   "name": "python3"
  },
  "language_info": {
   "codemirror_mode": {
    "name": "ipython",
    "version": 3
   },
   "file_extension": ".py",
   "mimetype": "text/x-python",
   "name": "python",
   "nbconvert_exporter": "python",
   "pygments_lexer": "ipython3",
   "version": "3.10.0"
  }
 },
 "nbformat": 4,
 "nbformat_minor": 4
}
