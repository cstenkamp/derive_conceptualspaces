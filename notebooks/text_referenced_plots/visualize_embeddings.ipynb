{
 "cells": [
  {
   "cell_type": "code",
   "execution_count": null,
   "metadata": {},
   "outputs": [],
   "source": [
    "from os.path import join\n",
    "\n",
    "import numpy as np\n",
    "import pandas as pd\n",
    "from sklearn.manifold import TSNE\n",
    "from matplotlib.backends.backend_pdf import PdfPages\n",
    "\n",
    "from misc_util.logutils import setup_logging\n",
    "from misc_util.pretty_print import display\n",
    "\n",
    "from derive_conceptualspace.pipeline import SnakeContext, load_envfiles\n",
    "from derive_conceptualspace.settings import DEFAULT_N_CPUS\n",
    "from derive_conceptualspace.util.result_analysis_tools import getfiles_allconfigs\n",
    "from derive_conceptualspace.util.threadworker import WorkerPool\n",
    "from derive_conceptualspace.analysis.plots import scatter_2d, scatter_3d, set_seaborn\n",
    "\n",
    "import warnings\n",
    "warnings.simplefilter(action='ignore', category=FutureWarning)"
   ]
  },
  {
   "cell_type": "markdown",
   "metadata": {},
   "source": [
    "# Visualizing Data-Embeddings"
   ]
  },
  {
   "cell_type": "code",
   "execution_count": null,
   "metadata": {},
   "outputs": [],
   "source": [
    "setup_logging()\n",
    "load_envfiles(\"siddata\")\n",
    "configs, print_cnf = getfiles_allconfigs(\"clusters\", verbose=True)"
   ]
  },
  {
   "cell_type": "code",
   "execution_count": null,
   "metadata": {},
   "outputs": [],
   "source": [
    "with WorkerPool(DEFAULT_N_CPUS-1, pgbar=\"Fetching clusters..\") as pool:\n",
    "    get_featureaxes = lambda conf: ((ctx := SnakeContext.loader_context(config=conf, silent=True)).get_important_settings(), ctx.load(\"clusters\"), conf)\n",
    "    perconf_list, interrupted = pool.work(configs, get_featureaxes)"
   ]
  },
  {
   "cell_type": "code",
   "execution_count": null,
   "metadata": {},
   "outputs": [],
   "source": [
    "def load_best_conf(perconf_list, restrictions=None):\n",
    "    restrictions = restrictions or (lambda x: True)\n",
    "    perconf_list = [elem for elem in perconf_list if restrictions(elem[2])]\n",
    "    print(\"Number of clusters per config:\", [len(x[1][\"clusters\"]) for x in perconf_list])\n",
    "    display(\"Taking one of the configs with the most clusters...\")\n",
    "    settings_str, clusters, conf = max(perconf_list, key=lambda x: len(x[1][\"clusters\"]))\n",
    "    display(settings_str[1])\n",
    "    display(\"Loading the rest of the necessary config...\")\n",
    "    ctx, (embedding, descriptions, dissim_mat) = (ctx := SnakeContext.loader_context(config=conf, silent=True)), ctx.load(\"embedding\", \"pp_descriptions\", \"dissim_mat\")\n",
    "    display(\"loading done.\")\n",
    "    return ctx, embedding, descriptions, dissim_mat"
   ]
  },
  {
   "cell_type": "markdown",
   "metadata": {},
   "source": [
    "## Plotting original 3D-Embeddings\n",
    "\n",
    "* The following plot visualizes an unaltered 3-dimensional MDS Embedding as it was created in the algorithm\n",
    "* 3D Plot is interactive! You can twist & turn and also disable & enable individual categories using the legend!"
   ]
  },
  {
   "cell_type": "code",
   "execution_count": null,
   "metadata": {},
   "outputs": [],
   "source": [
    "ctx, embedding, descriptions, dissim_mat = load_best_conf(perconf_list, restrictions=lambda x: x[\"embed_dimensions\"] == 3)\n",
    "getcat, hascat, catnames = ctx.obj[\"dataset_class\"].get_custom_class(\"fachbereich\", descriptions)\n",
    "embedding = embedding[hascat]"
   ]
  },
  {
   "cell_type": "code",
   "execution_count": null,
   "metadata": {},
   "outputs": [],
   "source": [
    "df = pd.DataFrame(np.column_stack((embedding, [getcat(i) for i in hascat])), columns=[\"x\",\"y\",\"z\",\"faculty\"])\n",
    "scatter_3d(df, \"faculty\", catnames);"
   ]
  },
  {
   "cell_type": "markdown",
   "metadata": {},
   "source": [
    "<br/><br/><br/><br/><br/><br/>\n",
    "## Plotting the result of t-SNE of the best-performing dissimilarity Matrix\n",
    "\n",
    "...Dissimiliarity-Matrix, not Embedding! t-SNE is doing the embedding here"
   ]
  },
  {
   "cell_type": "code",
   "execution_count": null,
   "metadata": {},
   "outputs": [],
   "source": [
    "ctx, embedding, descriptions, dissim_mat = load_best_conf(perconf_list)"
   ]
  },
  {
   "cell_type": "code",
   "execution_count": null,
   "metadata": {},
   "outputs": [],
   "source": [
    "dissim_mat = dissim_mat[1][hascat].T[hascat].T\n",
    "# tsne_emb = TSNE(n_components=2, random_state=0, metric=\"cosine\"); tsne_emb.fit(embedding) #we could also do TSNE on the embedding here\n",
    "tsne_emb = TSNE(n_components=2, random_state=0, metric=\"precomputed\")\n",
    "tsne = tsne_emb.fit(dissim_mat)\n",
    "df = pd.DataFrame(np.column_stack((tsne.embedding_, [getcat(i) for i in hascat])), columns=[\"x\",\"y\",\"faculty\"])"
   ]
  },
  {
   "cell_type": "code",
   "execution_count": null,
   "metadata": {},
   "outputs": [],
   "source": [
    "savepath = join(ctx.p.in_dir, f\"scatter_mds_tsne_{ctx.get_important_settings()[0][3:-3]}.pdf\")\n",
    "set_seaborn()\n",
    "with PdfPages(savepath) as pdf:\n",
    "    fig = scatter_2d(df, \"faculty\", catnames)\n",
    "    pdf.savefig(fig, bbox_inches='tight')\n",
    "print(f\"Saved under {savepath}\")"
   ]
  }
 ],
 "metadata": {
  "celltoolbar": "Tags",
  "kernelspec": {
   "display_name": "Python 3 (ipykernel)",
   "language": "python",
   "name": "python3"
  },
  "language_info": {
   "codemirror_mode": {
    "name": "ipython",
    "version": 3
   },
   "file_extension": ".py",
   "mimetype": "text/x-python",
   "name": "python",
   "nbconvert_exporter": "python",
   "pygments_lexer": "ipython3",
   "version": "3.10.0"
  }
 },
 "nbformat": 4,
 "nbformat_minor": 4
}
