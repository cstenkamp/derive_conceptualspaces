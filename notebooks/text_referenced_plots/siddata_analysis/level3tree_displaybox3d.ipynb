{
 "cells": [
  {
   "cell_type": "code",
   "execution_count": null,
   "id": "892b426d-56be-4030-abc3-a550562cea89",
   "metadata": {},
   "outputs": [],
   "source": [
    "from itertools import product\n",
    "import warnings\n",
    "from textwrap import shorten\n",
    "import random\n",
    "import builtins\n",
    "\n",
    "import numpy as np\n",
    "\n",
    "from misc_util.logutils import setup_logging\n",
    "from misc_util.pretty_print import display, pretty_print as print\n",
    "from derive_conceptualspace.util.threedfigure import ThreeDFigure\n",
    "from derive_conceptualspace.semantic_directions.cluster_names import get_name_dict\n",
    "from derive_conceptualspace.pipeline import SnakeContext, load_envfiles, cluster_loader\n",
    "from derive_conceptualspace.util.result_analysis_tools import getfiles_allconfigs\n",
    "from derive_conceptualspace.util.desc_object import DescriptionList\n",
    "from derive_conceptualspace.evaluate.shallow_trees import classify_shallowtree\n",
    "\n",
    "argmax = lambda l: max(enumerate(l), key=lambda x: x[1])[0]\n",
    "unique = lambda iterable: list({i: None for i in iterable}.keys())\n"
   ]
  },
  {
   "cell_type": "markdown",
   "id": "0e1943a9-9876-4108-97cc-025c26cf8053",
   "metadata": {},
   "source": [
    "## Get the most 3 important dimensions from the Decision Tree and then display, colored by labelclass"
   ]
  },
  {
   "cell_type": "code",
   "execution_count": null,
   "id": "29f7bc84-d394-4daa-9fce-2cb00064c80f",
   "metadata": {},
   "outputs": [],
   "source": [
    "setup_logging()\n",
    "load_envfiles(\"siddata\")\n",
    "configs, print_cnf = getfiles_allconfigs(\"cluster_reprs\", verbose=True)"
   ]
  },
  {
   "cell_type": "code",
   "execution_count": null,
   "id": "163c3437-d854-4b67-bbce-5215e7b04982",
   "metadata": {},
   "outputs": [],
   "source": [
    "loaders = dict(clusters=cluster_loader, embedding=lambda **args: args[\"embedding\"].embedding_, pp_descriptions=DescriptionList.from_json)\n",
    "ctx = SnakeContext.loader_context(config=configs[0], warn_filters=[\"DifferentFileWarning\"])\n",
    "clusters, embedding, descriptions, cluster_reprs = ctx.load(\"clusters\", \"embedding\", \"pp_descriptions\", \"cluster_reprs\", loaders=loaders)"
   ]
  },
  {
   "cell_type": "code",
   "execution_count": null,
   "id": "461df8b7-23fe-49af-aca6-bd6df56cfacb",
   "metadata": {},
   "outputs": [],
   "source": [
    "res = classify_shallowtree(clusters, embedding, descriptions, ctx.obj[\"dataset_class\"], one_vs_rest=False, dt_depth=None, cluster_reprs=cluster_reprs, classes=\"fachbereich\",\n",
    "                           test_percentage_crossval=0, do_plot=False, verbose=False, return_features=False, clus_rep_algo=ctx.get_config(\"CLUS_REP_ALGO\"))\n",
    "assert res == 1"
   ]
  },
  {
   "cell_type": "code",
   "execution_count": null,
   "id": "155f0924-e8cf-438b-aeaf-7d5dcaa2fb27",
   "metadata": {},
   "outputs": [],
   "source": [
    "clfs, inputs, targets, scores, catnames = classify_shallowtree(clusters, embedding, descriptions, ctx.obj[\"dataset_class\"], \n",
    "                                        one_vs_rest=True, dt_depth=3, test_percentage_crossval=0, classes=\"fachbereich\", do_plot=False, verbose=False, return_features=True)"
   ]
  },
  {
   "cell_type": "markdown",
   "id": "263b6aa4-ca61-452b-9fb3-28114beacb61",
   "metadata": {},
   "source": [
    "## Get most important features\n",
    "\n",
    "now I want to get the most important features ==> find the nonzero elements from clf.feature_importances_ (and their dimension-name) \n",
    "but also the actual tree-decision as you see when plotting it with graphviz -> maybe https://scikit-learn.org/stable/auto_examples/tree/plot_unveil_tree_structure.html#sphx-glr-auto-examples-tree-plot-unveil-tree-structure-py ?"
   ]
  },
  {
   "cell_type": "code",
   "execution_count": null,
   "id": "caad1b0a-731c-4ec4-b479-36051748575a",
   "metadata": {
    "jupyter": {
     "source_hidden": true
    },
    "tags": []
   },
   "outputs": [],
   "source": [
    "# def get_decision_path(X_test, clf, catnames, axnames):\n",
    "#     n_nodes = clf.tree_.node_count\n",
    "#     children_left = clf.tree_.children_left\n",
    "#     children_right = clf.tree_.children_right\n",
    "#     classes = [catnames[clf.classes_[np.argmax(i)]] for i in clf.tree_.value]\n",
    "#     node_depth = np.zeros(shape=n_nodes, dtype=np.int64)\n",
    "#     is_leaves = np.zeros(shape=n_nodes, dtype=bool)\n",
    "#     stack = [(0, 0)]  # start with the root node id (0) and its depth (0)\n",
    "#     while len(stack) > 0:\n",
    "#         # `pop` ensures each node is only visited once\n",
    "#         node_id, depth = stack.pop()\n",
    "#         node_depth[node_id] = depth\n",
    "#         # If the left and right child of a node is not the same we have a split node\n",
    "#         is_split_node = children_left[node_id] != children_right[node_id]\n",
    "#         # If a split node, append left and right children and depth to `stack` so we can loop through them\n",
    "#         if is_split_node:\n",
    "#             stack.append((children_left[node_id], depth + 1))\n",
    "#             stack.append((children_right[node_id], depth + 1))\n",
    "#         else:\n",
    "#             is_leaves[node_id] = True\n",
    "#     print(\"The binary tree structure has {n} nodes and has the following tree structure:\\n\".format(n=n_nodes))\n",
    "#     for i in range(n_nodes):\n",
    "#         if is_leaves[i]:\n",
    "#             print(\"{space}node={node} is a leaf node - category {cat}\".format(space=node_depth[i] * \"\\t\", node=i, cat=classes[i]))\n",
    "#         else:\n",
    "#             print(\"{space}node={node} is a split node: go to node {left} if {feature} <= {threshold} else to node {right}. Cat={cat}\".format(\n",
    "#                     space=node_depth[i] * \"\\t\", node=i, left=children_left[i], feature=axnames[clf.tree_.feature[i]], threshold=clf.tree_.threshold[i], right=children_right[i], cat=classes[i]))\n",
    "            \n",
    "# axnames = [f\",\".join([i]+clusters[\"clusters\"][i][:2]) for i in inputs.columns]\n",
    "# for clf, catname in zip(clfs, catnames):\n",
    "#     get_decision_path(inputs, clf, catname, axnames)\n",
    "#     print(\"Feature Importances:\\n\", {elem: axnames[i] for i, elem in enumerate(clf.feature_importances_) if elem > 0})\n",
    "#     print(\"==\"*50+\"\\n\"+\"==\"*50)"
   ]
  },
  {
   "cell_type": "markdown",
   "id": "9c4a7668-4175-4461-a1ce-b91eaec23d5e",
   "metadata": {},
   "source": [
    "### Use feature_importance"
   ]
  },
  {
   "cell_type": "code",
   "execution_count": null,
   "id": "15d4cccf-6c2d-4f88-ac50-985a218248ec",
   "metadata": {},
   "outputs": [],
   "source": [
    "print(\"Cluster-Representation-Algorithm: *b*\", ctx.get_config(\"CLUS_REP_ALGO\"), \"*b*\")\n",
    "cluster_names = get_name_dict(clusters[\"clusters\"], cluster_reprs, ctx.get_config(\"CLUS_REP_ALGO\"))\n",
    "axnames = list(cluster_names.values())"
   ]
  },
  {
   "cell_type": "code",
   "execution_count": null,
   "id": "83cf979c-147d-41fe-b111-52c002f24f2e",
   "metadata": {},
   "outputs": [],
   "source": [
    "for clf, catname in zip(clfs, catnames):\n",
    "    feats = [(i[0], round(i[1],3)) for i in sorted({axnames[i]: elem for i, elem in enumerate(clf.feature_importances_) if elem > 0}.items(), key=lambda x:x[1], reverse=True)][:3]\n",
    "    # print(catname[1].ljust(max(len(i[1]) for i in catnames)), feats)\n",
    "    builtins.print(catname[1].ljust(max(len(i[1]) for i in catnames)), \", \".join(i[0] for i in feats))"
   ]
  },
  {
   "cell_type": "markdown",
   "id": "3dfe7b1c-814e-461c-8b69-bf986215a210",
   "metadata": {},
   "source": [
    "### Use early decisions"
   ]
  },
  {
   "cell_type": "code",
   "execution_count": null,
   "id": "8340bd44-50dd-4fc2-9123-d6447f8342ee",
   "metadata": {},
   "outputs": [],
   "source": [
    "def get_decisions(X_test, clf, catnames, axnames):\n",
    "    n_nodes = clf.tree_.node_count\n",
    "    children_left = clf.tree_.children_left\n",
    "    children_right = clf.tree_.children_right\n",
    "    classes = [catnames[clf.classes_[np.argmax(i)]] for i in clf.tree_.value]\n",
    "    node_depth = np.zeros(shape=n_nodes, dtype=np.int64)\n",
    "    is_leaves = np.zeros(shape=n_nodes, dtype=bool)\n",
    "    stack = [(0, 0)]  # start with the root node id (0) and its depth (0)\n",
    "    while len(stack) > 0:\n",
    "        # `pop` ensures each node is only visited once\n",
    "        node_id, depth = stack.pop()\n",
    "        node_depth[node_id] = depth\n",
    "        # If the left and right child of a node is not the same we have a split node\n",
    "        is_split_node = children_left[node_id] != children_right[node_id]\n",
    "        # If a split node, append left and right children and depth to `stack` so we can loop through them\n",
    "        if is_split_node:\n",
    "            stack.append((children_left[node_id], depth + 1))\n",
    "            stack.append((children_right[node_id], depth + 1))\n",
    "        else:\n",
    "            is_leaves[node_id] = True\n",
    "    alls = {}\n",
    "    for i in range(n_nodes):\n",
    "        if not is_leaves[i]:\n",
    "            alls.setdefault(node_depth[i], []).append((axnames[clf.tree_.feature[i]], clf.tree_.threshold[i]))  \n",
    "    return (alls[0]+alls[1]) if len(alls) > 1 else alls[0]"
   ]
  },
  {
   "cell_type": "code",
   "execution_count": null,
   "id": "7cd84f56-e070-4c59-a5fd-4b15b3d55251",
   "metadata": {},
   "outputs": [],
   "source": [
    "for clf, catname in zip(clfs, catnames):\n",
    "    # print(catname[1].ljust(max(len(i[1]) for i in catnames)), get_decisions(inputs, clf, catname, axnames))\n",
    "    builtins.print(catname[1].ljust(max(len(i[1]) for i in catnames)), \", \".join(i[0] for i in get_decisions(inputs, clf, catname, axnames)))"
   ]
  },
  {
   "cell_type": "markdown",
   "id": "13e63de0-c397-4d62-8ea6-d87b92a2c6bb",
   "metadata": {},
   "source": [
    "# Let's plot!"
   ]
  },
  {
   "cell_type": "code",
   "execution_count": null,
   "id": "9f871875-bcdf-475f-9bf5-49963330dd78",
   "metadata": {},
   "outputs": [],
   "source": [
    "clfs, inputs, targets, scores, catnames = classify_shallowtree(clusters, embedding, descriptions, ctx.obj[\"dataset_class\"], \n",
    "                                        one_vs_rest=True, dt_depth=2, test_percentage_crossval=0, classes=\"fachbereich\", do_plot=False, verbose=False, return_features=True)"
   ]
  },
  {
   "cell_type": "code",
   "execution_count": null,
   "id": "a5d3ce4c-ae6b-4775-b92b-25e26518b16a",
   "metadata": {},
   "outputs": [],
   "source": [
    "best_split = argmax(scores)\n",
    "display(f\"Best category to split: *r*{catnames[best_split][1]}*r* with score {max(scores):.2%}\")\n",
    "\n",
    "important_feats = [i[0] for i in sorted({axnames[i]: elem for i, elem in enumerate(clf.feature_importances_) if elem > 0}.items(), key=lambda x:x[1], reverse=True)][:3]\n",
    "early_splits = [i[0] for i in get_decisions(inputs, clf, catnames, axnames)]\n",
    "if important_feats == early_splits:\n",
    "    print(\"Most important Features: & Early splits:\", \", \".join([f\"*b*{i}*b*\" for i in important_feats]))\n",
    "else:\n",
    "    print(\"Most important Features:\", \", \".join([f\"*b*{i}*b*\" for i in important_feats]), \"Early splits:\", \", \".join([f\"*b*{i}*b*\" for i in early_splits]))"
   ]
  },
  {
   "cell_type": "code",
   "execution_count": null,
   "id": "ccb8af15-01e2-4295-9e0e-dc7e43f6fec6",
   "metadata": {},
   "outputs": [],
   "source": [
    "def plot_boundary(inputs, clf, targets, catnames, axnames, descriptions=None, split_samples=True, plotboxkwargs=None):\n",
    "    early_splits = [i[0] for i in get_decisions(inputs, clf, catnames, axnames)]\n",
    "    if len(unique(early_splits)) < 3:\n",
    "        warnings.warn(\"<3 dimensions!!\")\n",
    "    originputs = inputs\n",
    "    inputcols = inputs.columns\n",
    "    inputs = inputs[[i[0].split(\",\")[0] for i in get_decisions(inputs, clf, catnames, axnames)]]\n",
    "\n",
    "    quaders = list(product(*[((0, i[1]), (i[1] + .001, inputs.max()[n])) for n, i in enumerate(get_decisions(inputs, clf, catnames, axnames))]))\n",
    "    index_nrs = [list(inputcols).index(i) for i in inputs.columns]\n",
    "    tmp = [np.zeros(len(quaders)) for _ in range(len(inputcols))]\n",
    "    for num, elem in enumerate(index_nrs):\n",
    "        tmp[elem] = np.array([[i[0] for i in j] for j in quaders]).T[num]\n",
    "    boundary_targets = clf.predict(np.column_stack(tmp))\n",
    "\n",
    "    def get_coords(quad):\n",
    "        coords = list(zip(*list(product(*quad))))\n",
    "        arg = np.array(list(zip(*coords))).T\n",
    "        arg = arg.T[[0, 2, 6, 4, 1, 3, 7, 5]].T  # this is the order from \"Mesh Cube\" from docs: https://plotly.com/python/3d-mesh/\n",
    "        return [list(i) for i in arg]\n",
    "\n",
    "    inpt = {\"pos\": {\"color\": \"red\"}, \"neg\": {\"color\": \"blue\"}}\n",
    "    for posneg in inpt.keys():\n",
    "        inpt[posneg][\"inpt\"] = inputs.iloc[np.where(targets)] if posneg == \"pos\" else inputs.iloc[np.where(1 - targets)]\n",
    "        predict_probas = [f\"{i[1]:.0%}\" for i in clf.predict_proba(originputs.loc[inpt[posneg][\"inpt\"].index].values)]\n",
    "        inpt[posneg][\"custom_data\"] = [{\"Name\": list(inpt[posneg][\"inpt\"].index)[i], \"Is-Class-Prob\": predict_probas[i]} for i in range(len(inpt[posneg][\"inpt\"]))]\n",
    "        if descriptions is not None: #TODO: descriptions._descriptions[0].text is not None (see semantic_directions.create_candidate_svm.display_svm)\n",
    "            inpt[posneg][\"custom_data\"] = [{**i, \"extra\": {\"Description\": shorten(descriptions[i[\"Name\"]].text, 200)}} for i in inpt[posneg][\"custom_data\"]]\n",
    "\n",
    "    with ThreeDFigure(name=catnames[1] + \" | \" + \",\".join(inputs.columns)) as fig:\n",
    "        fig.fig.update_layout(scene=dict(xaxis_title=inputs.columns[0], yaxis_title=inputs.columns[1], zaxis_title=inputs.columns[2]))\n",
    "        for theinpt in inpt.values():\n",
    "            if not split_samples:\n",
    "                fig.add_markers(theinpt[\"inpt\"], color=\"red\", name=f\"class: {catnames[1]}\", custom_data=theinpt[\"custom_data\"], linelen_right=50)\n",
    "            else:\n",
    "                sample = random.sample(range(len(theinpt[\"inpt\"])), len(theinpt[\"inpt\"]) // 10)\n",
    "                for _ in range(2):\n",
    "                    fig.add_markers(theinpt[\"inpt\"].iloc[sample], color=theinpt[\"color\"], name=f\"class: {catnames[1]}\", custom_data=[theinpt[\"custom_data\"][i] for i in sample], linelen_right=50)\n",
    "                    sample = list(set(range(len(theinpt[\"inpt\"]))) - set(sample))\n",
    "\n",
    "        for quad, target in zip(quaders, boundary_targets):\n",
    "            if target == 1:\n",
    "                fig.add_quader(get_coords(quad), name=f\"Boundary for {catnames[1]}\", **(plotboxkwargs or {}))\n",
    "            else:\n",
    "                fig.add_quader(get_coords(quad), name=f\"Boundary for other\", color=\"blue\", **(plotboxkwargs or {}))\n",
    "\n",
    "        fig.show()"
   ]
  },
  {
   "cell_type": "code",
   "execution_count": null,
   "id": "4743d052-2301-4ba9-ad1c-30a6ec84ce59",
   "metadata": {},
   "outputs": [],
   "source": [
    "def plot_from_nr(nr):\n",
    "    print(f\"Plotting *r*{catnames[nr][1]}*r* vs *b*Others*b*. Accuracy: {scores[nr]:.1%}\")\n",
    "    plot_boundary(inputs, clfs[nr], targets[nr], catnames[nr], axnames, descriptions=descriptions, plotboxkwargs={\"opacity\": 0.4})"
   ]
  },
  {
   "cell_type": "code",
   "execution_count": null,
   "id": "67fc3324-e375-48d4-b0b7-b25ae78069ac",
   "metadata": {},
   "outputs": [],
   "source": [
    "print(\"Plotting the best Split\")\n",
    "plot_from_nr(np.argmax(scores))"
   ]
  },
  {
   "cell_type": "code",
   "execution_count": null,
   "id": "7e967f37-7c6a-49b2-aeb7-245dcf0e62ac",
   "metadata": {},
   "outputs": [],
   "source": []
  }
 ],
 "metadata": {
  "kernelspec": {
   "display_name": "Python 3 (ipykernel)",
   "language": "python",
   "name": "python3"
  },
  "language_info": {
   "codemirror_mode": {
    "name": "ipython",
    "version": 3
   },
   "file_extension": ".py",
   "mimetype": "text/x-python",
   "name": "python",
   "nbconvert_exporter": "python",
   "pygments_lexer": "ipython3",
   "version": "3.10.0"
  }
 },
 "nbformat": 4,
 "nbformat_minor": 5
}
