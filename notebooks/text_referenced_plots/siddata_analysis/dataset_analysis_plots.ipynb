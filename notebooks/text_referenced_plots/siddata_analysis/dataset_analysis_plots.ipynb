{
 "cells": [
  {
   "cell_type": "markdown",
   "id": "c64d7bf2-8356-4a72-a95f-9b6b4a742a9e",
   "metadata": {},
   "source": [
    "# Basic Plots"
   ]
  },
  {
   "cell_type": "code",
   "execution_count": null,
   "id": "1b8fef27-f4e4-40f2-9ce3-13c738f289d8",
   "metadata": {},
   "outputs": [],
   "source": [
    "from collections import Counter\n",
    "\n",
    "import pandas as pd\n",
    "import numpy as np\n",
    "import matplotlib.pyplot as plt\n",
    "from matplotlib.backends.backend_pdf import PdfPages\n",
    "import matplotlib.patches as mpatches\n",
    "from tqdm import tqdm\n",
    "\n",
    "from misc_util.logutils import setup_logging\n",
    "from misc_util.pretty_print import Markdown, display\n",
    "\n",
    "from derive_conceptualspace.util.mpl_tools import show_hist\n",
    "from derive_conceptualspace.pipeline import SnakeContext, load_envfiles,  load_lang_translate_files\n",
    "from derive_conceptualspace.create_spaces.preprocess_descriptions import preprocess_descriptions_full\n",
    "from fb_classifier.preprocess_data import make_classifier_dict, make_classifier_class\n",
    "from derive_conceptualspace.load_data.dataset_specifics.siddata2022 import Dataset\n",
    "\n",
    "flatten = lambda l: [item for sublist in l for item in sublist]\n",
    "plt.rcParams['figure.figsize'] = [16, 10]\n",
    "largedfstyle = [dict(selector=\"th\", props= [('font-size', '18px')]), dict(selector=\"td\", props= [('font-size', '18px')])]"
   ]
  },
  {
   "cell_type": "code",
   "execution_count": null,
   "id": "2ec4957a-ad81-49ac-8163-630b779ea5d4",
   "metadata": {},
   "outputs": [],
   "source": [
    "setup_logging()\n",
    "load_envfiles(\"siddata\")\n",
    "ctx = SnakeContext.loader_context(config=dict(MIN_WORDS_PER_DESC=0, debug=False), silent=False)"
   ]
  },
  {
   "cell_type": "code",
   "execution_count": null,
   "id": "ad7d5503-9ab1-4d8c-a24a-37d22318bb6e",
   "metadata": {},
   "outputs": [],
   "source": [
    "raw_descriptions = ctx.p.load(ctx.get_config(\"raw_descriptions_file\"), \"raw_descriptions\")\n",
    "languages, translations = load_lang_translate_files(ctx, ctx.p, ctx.get_config(\"pp_components\"))\n",
    "descriptions, _ = preprocess_descriptions_full(raw_descriptions, ctx.obj[\"dataset_class\"], ctx.get_config(\"pp_components\"), \"de\", \n",
    "                             ctx.get_config(\"translate_policy\"), languages, verbose=False)"
   ]
  },
  {
   "cell_type": "markdown",
   "id": "fde79743-9421-4255-b394-d095282c3ec9",
   "metadata": {},
   "source": [
    "# Words per Description"
   ]
  },
  {
   "cell_type": "code",
   "execution_count": null,
   "id": "8eef027a-ceaa-4ea9-a958-37c27975eca5",
   "metadata": {},
   "outputs": [],
   "source": [
    "%%capture\n",
    "fig, ax = show_hist([i.n_words() for i in descriptions._descriptions], \"Words per Description\", xlabel=\"Number of Words\", cutoff_percentile=98, no_plot=False, \n",
    "                    fig_kwargs=dict(figsize=(16, 6)))"
   ]
  },
  {
   "cell_type": "code",
   "execution_count": null,
   "id": "43e2ce18-feec-414d-a8ea-e64f273952b5",
   "metadata": {},
   "outputs": [],
   "source": [
    "ax.get_xticklabels()[-1].set_text(ax.get_xticklabels()[-1].get_text().replace(\"-\",\"-\\n\"))\n",
    "ax.set_ylabel(\"Count of Descriptions\", fontsize=28)\n",
    "ax.set_xlabel(\"Number of Words\", fontsize=28)\n",
    "ax.set_xticklabels(ax.get_xticklabels(), fontsize=24)\n",
    "ax.set_yticklabels(ax.get_yticklabels(), fontsize=24)\n",
    "ax.grid()\n",
    "ax.set_title(\"\");"
   ]
  },
  {
   "cell_type": "code",
   "execution_count": null,
   "id": "800eeff6-07b0-4eb9-bd51-111335fe44c8",
   "metadata": {},
   "outputs": [],
   "source": [
    "with PdfPages(\"/home/chris/Documents/UNI_neu/Masterarbeit/MastersThesisText/graphics/dataset_new/words_per_desc.pdf\") as pdf:\n",
    "    plt.show()\n",
    "    pdf.savefig(fig, bbox_inches='tight')\n",
    "    \n",
    "fig"
   ]
  },
  {
   "cell_type": "code",
   "execution_count": null,
   "id": "bc6df1cd-4d7e-4479-b65f-6333296236f4",
   "metadata": {},
   "outputs": [],
   "source": [
    "vecs = {i.title: i.bow() for i in descriptions._descriptions}\n",
    "all_words = set(flatten([set(k.keys()) for k in vecs.values()]))\n",
    "summed_counts = {i: {\"df\": 0, \"stf\": 0} for i in all_words}\n",
    "for v in tqdm(vecs.values()):\n",
    "    for word, occs in v.items():\n",
    "        summed_counts[word][\"stf\"] += occs\n",
    "        summed_counts[word][\"df\"] += 1\n",
    "words_of_len = {key: {nwords: len({k: v for k, v in summed_counts.items() if v[key] >= nwords}) for nwords in [1, 2, 5, 10, 25, 50, 100, 500, 1000, len(vecs)//10, len(vecs)//4]} for key in [\"df\", \"stf\"]}\n",
    "display(Markdown(\"### Number of words that have a df or stf of at least...\"))\n",
    "pd.DataFrame(words_of_len).T.style.set_table_styles(largedfstyle)"
   ]
  },
  {
   "cell_type": "code",
   "execution_count": null,
   "id": "61260fb0-9ff6-49be-a72e-469084e9a22b",
   "metadata": {},
   "outputs": [],
   "source": [
    "vecs = {i.title: i.bow() for i in descriptions._descriptions}\n",
    "counts = pd.DataFrame({k: {\"unique words\": len(v), \"words\": sum(v.values())} for k, v in vecs.items()}).T\n",
    "aggs = counts.agg((min, np.mean, np.median, min), axis=\"rows\")\n",
    "aggs = pd.concat((aggs, counts.quantile([.05, .95])))\n",
    "aggs.astype(int).style.set_table_styles(largedfstyle)"
   ]
  },
  {
   "cell_type": "code",
   "execution_count": null,
   "id": "c3337847-5ed3-4402-869a-5b5e53a9826a",
   "metadata": {},
   "outputs": [],
   "source": [
    "vecs = {i.title: i.bow() for i in descriptions._descriptions if sum(i.bow().values()) >= 80}\n",
    "counts = pd.DataFrame({k: {\"unique words\": len(v), \"words\": sum(v.values())} for k, v in vecs.items()}).T\n",
    "aggs = counts.agg((min, np.mean, np.median, min), axis=\"rows\")\n",
    "aggs = pd.concat((aggs, counts.quantile([.05, .95])))\n",
    "aggs.astype(int).style.set_table_styles(largedfstyle)"
   ]
  },
  {
   "cell_type": "markdown",
   "id": "7b5c7bbb-3720-46af-8fae-768e4a0f1395",
   "metadata": {},
   "source": [
    "# #Descriptions per Fachbereich"
   ]
  },
  {
   "cell_type": "code",
   "execution_count": null,
   "id": "09daf5a4-6cdb-42ed-80db-a0cc5a4643c1",
   "metadata": {},
   "outputs": [],
   "source": [
    "#TODO this functionality is also in the Dataset-class of siddata2022, use that one!\n",
    "veranst_nums = [eval(i._additionals.get(\"veranstaltungsnummer\")) or None for i in descriptions._descriptions]\n",
    "new_dset = make_classifier_dict(dict(enumerate(veranst_nums)))\n",
    "usables = {k: [int(v) for v in vs if v != \"other\" and int(v) <= 10] for k, vs in new_dset.items() if vs != \"other\"}\n",
    "usables = {k: v for k, v in usables.items() if v and any(i is not None for i in v)}\n",
    "print(f\"Dropped {len(new_dset)-len(usables)}/{len(new_dset)} ({(len(new_dset)-len(usables))/len(new_dset)*100:.2f}%) courses\")\n",
    "counter = {str(k): v for k, v in sorted(Counter(flatten([i for i in usables.values()])).items(), key=lambda x:int(x[0]))}\n",
    "#counter[\"Other\"] = len(new_dset)-len(usables)\n",
    "\n",
    "\n",
    "fig, ax = plt.subplots(figsize=(16,8))\n",
    "rescale = lambda y, fac=1: (y - np.min(y)) / (np.max(y)*fac - np.min(y))\n",
    "ax.bar(*list(zip(*counter.items())), color=plt.get_cmap(\"cividis\")(rescale(range(len(counter)),fac=3)))\n",
    "ax.set_title(f\"Number of Courses per Faculty\")\n",
    "for item in ([ax.title, ax.xaxis.label, ax.yaxis.label] + ax.get_xticklabels() + ax.get_yticklabels()):\n",
    "    item.set_fontsize(27)\n",
    "    \n",
    "patches = [mpatches.Patch(label=v, color=col) for v, col in zip(Dataset.FB_MAPPER.values(), plt.get_cmap(\"cividis\")(rescale(range(len(counter)),fac=3)))]\n",
    "plt.legend(handles=patches, fontsize=18, bbox_to_anchor=(1.13, .999), framealpha=1)\n",
    "\n",
    "with PdfPages(\"/home/chris/Documents/UNI_neu/Masterarbeit/MastersThesisText/graphics/dataset_new/courses_per_faculty.pdf\") as pdf:\n",
    "    fig.show()\n",
    "    pdf.savefig(fig, bbox_inches='tight')"
   ]
  },
  {
   "cell_type": "code",
   "execution_count": null,
   "id": "1d78763d-fb61-4d66-ad42-a4239663f3f5",
   "metadata": {},
   "outputs": [],
   "source": []
  }
 ],
 "metadata": {
  "kernelspec": {
   "display_name": "Python 3 (ipykernel)",
   "language": "python",
   "name": "python3"
  },
  "language_info": {
   "codemirror_mode": {
    "name": "ipython",
    "version": 3
   },
   "file_extension": ".py",
   "mimetype": "text/x-python",
   "name": "python",
   "nbconvert_exporter": "python",
   "pygments_lexer": "ipython3",
   "version": "3.10.0"
  }
 },
 "nbformat": 4,
 "nbformat_minor": 5
}
