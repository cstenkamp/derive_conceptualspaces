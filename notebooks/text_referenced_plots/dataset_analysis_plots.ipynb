{
 "cells": [
  {
   "cell_type": "markdown",
   "id": "c64d7bf2-8356-4a72-a95f-9b6b4a742a9e",
   "metadata": {},
   "source": [
    "# Basic Plots"
   ]
  },
  {
   "cell_type": "code",
   "execution_count": null,
   "id": "1b8fef27-f4e4-40f2-9ce3-13c738f289d8",
   "metadata": {},
   "outputs": [],
   "source": [
    "from collections import Counter\n",
    "\n",
    "import matplotlib.pyplot as plt\n",
    "from matplotlib.backends.backend_pdf import PdfPages\n",
    "\n",
    "from misc_util.logutils import setup_logging\n",
    "from misc_util.pretty_print import Markdown, display\n",
    "\n",
    "from derive_conceptualspace.util.mpl_tools import show_hist\n",
    "from derive_conceptualspace.pipeline import SnakeContext, load_envfiles,  load_lang_translate_files\n",
    "from derive_conceptualspace.create_spaces.preprocess_descriptions import preprocess_descriptions_full\n",
    "from fb_classifier.preprocess_data import make_classifier_dict, make_classifier_class\n",
    "\n",
    "flatten = lambda l: [item for sublist in l for item in sublist]\n",
    "plt.rcParams['figure.figsize'] = [16, 10]"
   ]
  },
  {
   "cell_type": "code",
   "execution_count": null,
   "id": "2ec4957a-ad81-49ac-8163-630b779ea5d4",
   "metadata": {},
   "outputs": [],
   "source": [
    "setup_logging()\n",
    "load_envfiles(\"siddata\")\n",
    "ctx = SnakeContext.loader_context(config=dict(MIN_WORDS_PER_DESC=0), silent=False)"
   ]
  },
  {
   "cell_type": "code",
   "execution_count": null,
   "id": "ad7d5503-9ab1-4d8c-a24a-37d22318bb6e",
   "metadata": {},
   "outputs": [],
   "source": [
    "raw_descriptions = ctx.p.load(ctx.get_config(\"raw_descriptions_file\"), \"raw_descriptions\")\n",
    "languages, translations = load_lang_translate_files(ctx, ctx.p, ctx.get_config(\"pp_components\"))\n",
    "descriptions, _ = preprocess_descriptions_full(raw_descriptions, ctx.obj[\"dataset_class\"], ctx.get_config(\"pp_components\"), \"de\", \n",
    "                             ctx.get_config(\"translate_policy\"), languages, verbose=False)"
   ]
  },
  {
   "cell_type": "markdown",
   "id": "fde79743-9421-4255-b394-d095282c3ec9",
   "metadata": {},
   "source": [
    "# Words per Description"
   ]
  },
  {
   "cell_type": "code",
   "execution_count": null,
   "id": "8eef027a-ceaa-4ea9-a958-37c27975eca5",
   "metadata": {},
   "outputs": [],
   "source": [
    "%%capture\n",
    "fig, ax = show_hist([i.n_words() for i in descriptions._descriptions], \"Words per Description\", xlabel=\"Number of Words\", cutoff_percentile=98, no_plot=False)"
   ]
  },
  {
   "cell_type": "code",
   "execution_count": null,
   "id": "43e2ce18-feec-414d-a8ea-e64f273952b5",
   "metadata": {},
   "outputs": [],
   "source": [
    "ax.set_ylabel(\"Count of Descriptions\", fontsize=26)\n",
    "ax.set_xlabel(\"Number of Words\", fontsize=26)\n",
    "ax.set_xticklabels(ax.get_xticklabels(), fontsize=20)\n",
    "ax.set_yticklabels(ax.get_yticklabels(), fontsize=20)\n",
    "ax.grid()\n",
    "ax.set_title(\"\");"
   ]
  },
  {
   "cell_type": "code",
   "execution_count": null,
   "id": "800eeff6-07b0-4eb9-bd51-111335fe44c8",
   "metadata": {},
   "outputs": [],
   "source": [
    "with PdfPages(\"/home/chris/Documents/UNI_neu/Masterarbeit/MastersThesisText/graphics/dataset_new/words_per_desc.pdf\") as pdf:\n",
    "    plt.show()\n",
    "    pdf.savefig(fig, bbox_inches='tight')\n",
    "    \n",
    "fig"
   ]
  },
  {
   "cell_type": "markdown",
   "id": "7b5c7bbb-3720-46af-8fae-768e4a0f1395",
   "metadata": {},
   "source": [
    "# #Descriptions per Fachbereich"
   ]
  },
  {
   "cell_type": "code",
   "execution_count": null,
   "id": "09daf5a4-6cdb-42ed-80db-a0cc5a4643c1",
   "metadata": {},
   "outputs": [],
   "source": [
    "veranst_nums = [eval(i._additionals.get(\"veranstaltungsnummer\")) or None for i in descriptions._descriptions]\n",
    "new_dset = make_classifier_dict(dict(enumerate(veranst_nums)))\n",
    "usables = {k: [int(v) for v in vs if v != \"other\" and int(v) <= 10] for k, vs in new_dset.items() if vs != \"other\"}\n",
    "usables = {k: v for k, v in usables.items() if v and any(i is not None for i in v)}\n",
    "print(f\"Dropped {len(new_dset)-len(usables)}/{len(new_dset)} ({(len(new_dset)-len(usables))/len(new_dset)*100:.2f}%) courses\")\n",
    "counter = {str(k): v for k, v in sorted(Counter(flatten([i for i in usables.values()])).items(), key=lambda x:int(x[0]))}\n",
    "#counter[\"Other\"] = len(new_dset)-len(usables)\n",
    "fig = plt.bar(*list(zip(*counter.items())))\n",
    "plt.title(f\"Number of Courses per Faculty\");"
   ]
  },
  {
   "cell_type": "code",
   "execution_count": null,
   "id": "1d78763d-fb61-4d66-ad42-a4239663f3f5",
   "metadata": {},
   "outputs": [],
   "source": []
  }
 ],
 "metadata": {
  "kernelspec": {
   "display_name": "Python 3 (ipykernel)",
   "language": "python",
   "name": "python3"
  },
  "language_info": {
   "codemirror_mode": {
    "name": "ipython",
    "version": 3
   },
   "file_extension": ".py",
   "mimetype": "text/x-python",
   "name": "python",
   "nbconvert_exporter": "python",
   "pygments_lexer": "ipython3",
   "version": "3.10.0"
  }
 },
 "nbformat": 4,
 "nbformat_minor": 5
}
