{
 "cells": [
  {
   "cell_type": "code",
   "execution_count": null,
   "id": "49c4bcd7-3c78-4eee-87f7-e43f8decd338",
   "metadata": {},
   "outputs": [],
   "source": [
    "from derive_conceptualspace.evaluate.shallow_trees import classify_shallowtree\n",
    "from derive_conceptualspace.pipeline import SnakeContext, load_envfiles\n",
    "from derive_conceptualspace.pipeline import cluster_loader\n",
    "from derive_conceptualspace.settings import DEFAULT_N_CPUS\n",
    "from derive_conceptualspace.util.desc_object import DescriptionList\n",
    "from derive_conceptualspace.util.result_analysis_tools import getfiles_allconfigs\n",
    "from derive_conceptualspace.util.threadworker import WorkerPool\n",
    "from misc_util.logutils import setup_logging\n",
    "from misc_util.pretty_print import display\n",
    "\n",
    "import warnings\n",
    "warnings.simplefilter(action='ignore', category=FutureWarning)"
   ]
  },
  {
   "cell_type": "code",
   "execution_count": null,
   "id": "5bd9ca60-6c61-463f-adad-2dff3a23a8af",
   "metadata": {},
   "outputs": [],
   "source": [
    "setup_logging()\n",
    "load_envfiles(\"siddata\")\n",
    "configs, print_cnf = getfiles_allconfigs(\"clusters\", verbose=True)"
   ]
  },
  {
   "cell_type": "code",
   "execution_count": null,
   "id": "0c538ca8-0404-47ff-bf56-1d665f2eb546",
   "metadata": {},
   "outputs": [],
   "source": [
    "N_CPUS = DEFAULT_N_CPUS-1\n",
    "with WorkerPool(N_CPUS, pgbar=\"Fetching clusters..\") as pool:\n",
    "    get_featureaxes = lambda conf: ((ctx := SnakeContext.loader_context(config=conf, silent=True)).get_important_settings(), ctx.load(\"clusters\"), conf)\n",
    "    perconf_list, interrupted = pool.work(configs, get_featureaxes)"
   ]
  },
  {
   "cell_type": "code",
   "execution_count": null,
   "id": "741276b1-44a9-454a-a299-ea562840ddd1",
   "metadata": {},
   "outputs": [],
   "source": [
    "print(\"Number of clusters per configs:\", [len(x[1][\"clusters\"]) for x in perconf_list])\n",
    "display(\"Taking one of the configs with the most clusters...\")\n",
    "settings_str, clusters, conf = max(perconf_list, key=lambda x: len(x[1][\"clusters\"]))\n",
    "display(settings_str[1])\n",
    "display(\"Loading the rest of the necessary config...\")\n",
    "ctx, (embedding, descriptions) = (ctx := SnakeContext.loader_context(config=conf, silent=True)), ctx.load(\"embedding\", \"pp_descriptions\")\n",
    "display(\"loading done.\")"
   ]
  },
  {
   "cell_type": "markdown",
   "id": "d98459b7-3ca1-4503-96e6-6037f9757b46",
   "metadata": {},
   "source": [
    "# Classifying Fachbereich"
   ]
  },
  {
   "cell_type": "code",
   "execution_count": null,
   "id": "d7661009-d4ea-47a5-80c7-21ffddc5fa39",
   "metadata": {
    "tags": [
     "keep_output"
    ]
   },
   "outputs": [
    {
     "name": "stdout",
     "output_type": "stream",
     "text": [
      "Dropping 4520/11601 (38.96%) courses - there is no Fachbereich for them\n",
      "63 courses are assigned more than 1 Fachbereich!\n"
     ]
    },
    {
     "name": "stderr",
     "output_type": "stream",
     "text": [
      "derive_conceptualspace/load_data/dataset_specifics/siddata2022.py:43: UserWarning: Will return the first Fachbereich for those ambiguous courses!\n"
     ]
    },
    {
     "data": {
      "text/markdown": [
       "<span style=\"font-size:11pt\">Using classes from fachbereich - 7081/11601 entities have a class</span>"
      ],
      "text/plain": [
       "<IPython.core.display.Markdown object>"
      ]
     },
     "metadata": {},
     "output_type": "display_data"
    },
    {
     "data": {
      "text/markdown": [
       "<span style=\"font-size:11pt\">Highest-ranking descriptions [with any class] per dimension:<br>    <span style=\"color: #0000ff\">bibliotheken          </span>: Tutorium Orientierungsseminar (Gruppe I)<br>    <span style=\"color: #0000ff\">verdeutlichen         </span>: Konzeptionen, Geschichte und Inhalte des Sachunterrichts (G1)<br>    <span style=\"color: #0000ff\">opnv                  </span>: Tagesexkursion Agri-Food Cluster in Nord-West Niedersachsen<br>    <span style=\"color: #0000ff\">schriftliche mundliche</span>: Kolloquium für Examenskandidaten<br>    <span style=\"color: #0000ff\">blockveranstaltungen  </span>: Begleitung und Betreuung des Fachpraktikums Englisch im Herbst 2008<br>    <span style=\"color: #0000ff\">schwierige            </span>: 1.14 Veränderungsmanagement im Prüfungswesen - Gelungene Kommunikation - auch in schwierigen Situationen<br>    <span style=\"color: #0000ff\">erde                  </span>: Tutorium zur Vorlesung: System Lebewesen/Ökozonen<br>    <span style=\"color: #0000ff\">bertolt brecht        </span>: Bertolt Brecht - Dramatische Arbeit (NDL 3)<br>    <span style=\"color: #0000ff\">religionswissenschaft </span>: Friedrich Schleiermacher, Über die Religion: Reden an die Gebildeten unter ihren Verächtern<br>    <span style=\"color: #0000ff\">vi                    </span>: AG Wissensbasierte Robotik<br>    <span style=\"color: #0000ff\">erkrankungen          </span>: Verhaltensmedizin<br>    <span style=\"color: #0000ff\">gesammelt             </span>: Bauen und Konstruieren als Thema im Sachunterricht (G2,3/H1,2,3,5)<br>    <span style=\"color: #0000ff\">mitarbeiterinnen      </span>: 1.2 Arbeitsplatz Universität: Einführung für neue Mitarbeiterinnen und Mitarbeiter aber auch für andere Interessierte<br>    <span style=\"color: #0000ff\">bietet uberblick      </span>: Einführung in die Sozialpsychologie (V)<br>    <span style=\"color: #0000ff\">lineare               </span>: Datenanalyse I<br>    <span style=\"color: #0000ff\">verhaltens            </span>: Praxiswerkstatt Klinische Psychologie: Einführung in die Positive Psychologie Beratung<br>    <span style=\"color: #0000ff\">weist                 </span>: Grundlehre Performance<br>    <span style=\"color: #0000ff\">parteien              </span>: Modul Vergleichende Politikwissenschaft I: Westliche Regierungssysteme im Vergleich<br>    <span style=\"color: #0000ff\">aktivitaten           </span>: Projektmanagement (Teil des Seminars 2.119)<br>    <span style=\"color: #0000ff\">texte verfassen       </span>: Gender !? - Einstieg in die Geschlechterforschung</span>"
      ],
      "text/plain": [
       "<IPython.core.display.Markdown object>"
      ]
     },
     "metadata": {},
     "output_type": "display_data"
    },
    {
     "data": {
      "text/markdown": [
       "<span style=\"font-size:11pt\">Labels (10 classes): <span style=\"color: #0000ff\">Sprach-/Literaturwissenschaften</span>: 1663, <span style=\"color: #0000ff\">Erziehungs-/Kulturwissenschaften</span>: 1998, <span style=\"color: #0000ff\">Kultur-/Geowissenschaften</span>: 1439, <span style=\"color: #0000ff\">Sozialwissenschaften</span>: 706, <span style=\"color: #0000ff\">Rechtswissenschaften</span>: 333, <span style=\"color: #0000ff\">Humanwissenschaften</span>: 366, <span style=\"color: #0000ff\">Biologie/Chemie</span>: 158, <span style=\"color: #0000ff\">Mathematik/Informatik</span>: 180, <span style=\"color: #0000ff\">Physik</span>: 134, <span style=\"color: #0000ff\">Wirtschaftswissenschaften</span>: 104</span>"
      ],
      "text/plain": [
       "<IPython.core.display.Markdown object>"
      ]
     },
     "metadata": {},
     "output_type": "display_data"
    },
    {
     "data": {
      "text/markdown": [
       "<span style=\"font-size:11pt\">Eval-Settings: type: <span style=\"color: #0000ff\">one-vs-rest</span>, DT-Depth: <span style=\"color: #0000ff\">1</span>, train-test-split:<span style=\"color: #0000ff\"> 33.0% in test-set </span></span>"
      ],
      "text/plain": [
       "<IPython.core.display.Markdown object>"
      ]
     },
     "metadata": {},
     "output_type": "display_data"
    },
    {
     "name": "stderr",
     "output_type": "stream",
     "text": [
      "Warning: node 0 in graph[1] Tree already defined\n",
      "Some nodes will be renamed.\n",
      "Warning: node 0 in graph[1] Tree already defined\n",
      "Some nodes will be renamed.\n",
      "Warning: node 0 in graph[1] Tree already defined\n",
      "Some nodes will be renamed.\n",
      "Warning: node 0 in graph[1] Tree already defined\n",
      "Some nodes will be renamed.\n",
      "Warning: node 0 in graph[1] Tree already defined\n",
      "Some nodes will be renamed.\n"
     ]
    },
    {
     "data": {
      "image/svg+xml": [
       "<?xml version=\"1.0\" encoding=\"UTF-8\" standalone=\"no\"?>\n",
       "<!DOCTYPE svg PUBLIC \"-//W3C//DTD SVG 1.1//EN\"\n",
       " \"http://www.w3.org/Graphics/SVG/1.1/DTD/svg11.dtd\">\n",
       "<!-- Generated by graphviz version 2.43.0 (0)\n",
       " -->\n",
       "<!-- Title: root Pages: 1 -->\n",
       "<svg width=\"871pt\" height=\"177pt\"\n",
       " viewBox=\"0.00 0.00 871.00 177.00\" xmlns=\"http://www.w3.org/2000/svg\" xmlns:xlink=\"http://www.w3.org/1999/xlink\">\n",
       "<g id=\"graph0\" class=\"graph\" transform=\"scale(1 1) rotate(0) translate(4 173)\">\n",
       "<title>root</title>\n",
       "<polygon fill=\"white\" stroke=\"transparent\" points=\"-4,4 -4,-173 867,-173 867,4 -4,4\"/>\n",
       "<!-- 0 -->\n",
       "<g id=\"node1\" class=\"node\">\n",
       "<title>0</title>\n",
       "<path fill=\"#ffffff\" stroke=\"black\" d=\"M365.5,-169C365.5,-169 160.5,-169 160.5,-169 154.5,-169 148.5,-163 148.5,-157 148.5,-157 148.5,-106 148.5,-106 148.5,-100 154.5,-94 160.5,-94 160.5,-94 365.5,-94 365.5,-94 371.5,-94 377.5,-100 377.5,-106 377.5,-106 377.5,-157 377.5,-157 377.5,-163 371.5,-169 365.5,-169\"/>\n",
       "<text text-anchor=\"start\" x=\"185\" y=\"-150.3\" font-family=\"Helvetica,sans-Serif\" font-size=\"14.00\">fallstudie,wi,wiwi ≤ 6376.5</text>\n",
       "<text text-anchor=\"start\" x=\"214.5\" y=\"-135.3\" font-family=\"Helvetica,sans-Serif\" font-size=\"14.00\">samples = 4744</text>\n",
       "<text text-anchor=\"start\" x=\"190\" y=\"-120.3\" font-family=\"Helvetica,sans-Serif\" font-size=\"14.00\">value = [2372.0, 2372.0]</text>\n",
       "<text text-anchor=\"start\" x=\"159.5\" y=\"-105.3\" font-family=\"Helvetica,sans-Serif\" font-size=\"14.00\">class = Wirtschaftswissenschaften</text>\n",
       "</g>\n",
       "<!-- 1 -->\n",
       "<g id=\"node2\" class=\"node\">\n",
       "<title>1</title>\n",
       "<path fill=\"#e99659\" stroke=\"black\" d=\"M178,-58C178,-58 12,-58 12,-58 6,-58 0,-52 0,-46 0,-46 0,-12 0,-12 0,-6 6,0 12,0 12,0 178,0 178,0 184,0 190,-6 190,-12 190,-12 190,-46 190,-46 190,-52 184,-58 178,-58\"/>\n",
       "<text text-anchor=\"start\" x=\"46.5\" y=\"-40.3\" font-family=\"Helvetica,sans-Serif\" font-size=\"14.00\">samples = 4254</text>\n",
       "<text text-anchor=\"start\" x=\"10.5\" y=\"-25.3\" font-family=\"Helvetica,sans-Serif\" font-size=\"14.00\">value = [2155.117, 352.595]</text>\n",
       "<text text-anchor=\"start\" x=\"56\" y=\"-10.3\" font-family=\"Helvetica,sans-Serif\" font-size=\"14.00\">class = other</text>\n",
       "</g>\n",
       "<!-- 0&#45;&gt;1 -->\n",
       "<g id=\"edge1\" class=\"edge\">\n",
       "<title>0&#45;&gt;1</title>\n",
       "<path fill=\"none\" stroke=\"black\" d=\"M201.87,-93.93C185.17,-83.94 167.16,-73.17 150.77,-63.36\"/>\n",
       "<polygon fill=\"black\" stroke=\"black\" points=\"152.23,-60.16 141.86,-58.03 148.64,-66.17 152.23,-60.16\"/>\n",
       "<text text-anchor=\"middle\" x=\"147.95\" y=\"-78.58\" font-family=\"Helvetica,sans-Serif\" font-size=\"14.00\">True</text>\n",
       "</g>\n",
       "<!-- 2 -->\n",
       "<g id=\"node3\" class=\"node\">\n",
       "<title>2</title>\n",
       "<path fill=\"#4ea8e8\" stroke=\"black\" d=\"M425.5,-58C425.5,-58 220.5,-58 220.5,-58 214.5,-58 208.5,-52 208.5,-46 208.5,-46 208.5,-12 208.5,-12 208.5,-6 214.5,0 220.5,0 220.5,0 425.5,0 425.5,0 431.5,0 437.5,-6 437.5,-12 437.5,-12 437.5,-46 437.5,-46 437.5,-52 431.5,-58 425.5,-58\"/>\n",
       "<text text-anchor=\"start\" x=\"278\" y=\"-40.3\" font-family=\"Helvetica,sans-Serif\" font-size=\"14.00\">samples = 490</text>\n",
       "<text text-anchor=\"start\" x=\"238.5\" y=\"-25.3\" font-family=\"Helvetica,sans-Serif\" font-size=\"14.00\">value = [216.883, 2019.405]</text>\n",
       "<text text-anchor=\"start\" x=\"219.5\" y=\"-10.3\" font-family=\"Helvetica,sans-Serif\" font-size=\"14.00\">class = Wirtschaftswissenschaften</text>\n",
       "</g>\n",
       "<!-- 0&#45;&gt;2 -->\n",
       "<g id=\"edge2\" class=\"edge\">\n",
       "<title>0&#45;&gt;2</title>\n",
       "<path fill=\"none\" stroke=\"black\" d=\"M284.83,-93.93C290.11,-85.09 295.75,-75.64 301.03,-66.79\"/>\n",
       "<polygon fill=\"black\" stroke=\"black\" points=\"304.05,-68.57 306.17,-58.19 298.04,-64.98 304.05,-68.57\"/>\n",
       "<text text-anchor=\"middle\" x=\"312.29\" y=\"-78.73\" font-family=\"Helvetica,sans-Serif\" font-size=\"14.00\">False</text>\n",
       "</g>\n",
       "<!-- 0_gv1 -->\n",
       "<g id=\"node4\" class=\"node\">\n",
       "<title>0_gv1</title>\n",
       "<path fill=\"#ffffff\" stroke=\"black\" d=\"M721,-169C721,-169 517,-169 517,-169 511,-169 505,-163 505,-157 505,-157 505,-106 505,-106 505,-100 511,-94 517,-94 517,-94 721,-94 721,-94 727,-94 733,-100 733,-106 733,-106 733,-157 733,-157 733,-163 727,-169 721,-169\"/>\n",
       "<text text-anchor=\"start\" x=\"517\" y=\"-150.3\" font-family=\"Helvetica,sans-Serif\" font-size=\"14.00\">klar,selbstwahrnehmung ≤ 5301.0</text>\n",
       "<text text-anchor=\"start\" x=\"570.5\" y=\"-135.3\" font-family=\"Helvetica,sans-Serif\" font-size=\"14.00\">samples = 4744</text>\n",
       "<text text-anchor=\"start\" x=\"546\" y=\"-120.3\" font-family=\"Helvetica,sans-Serif\" font-size=\"14.00\">value = [2372.0, 2372.0]</text>\n",
       "<text text-anchor=\"start\" x=\"580\" y=\"-105.3\" font-family=\"Helvetica,sans-Serif\" font-size=\"14.00\">class = other</text>\n",
       "</g>\n",
       "<!-- 1_gv1 -->\n",
       "<g id=\"node5\" class=\"node\">\n",
       "<title>1_gv1</title>\n",
       "<path fill=\"#efb185\" stroke=\"black\" d=\"M643,-58C643,-58 477,-58 477,-58 471,-58 465,-52 465,-46 465,-46 465,-12 465,-12 465,-6 471,0 477,0 477,0 643,0 643,0 649,0 655,-6 655,-12 655,-12 655,-46 655,-46 655,-52 649,-58 643,-58\"/>\n",
       "<text text-anchor=\"start\" x=\"511.5\" y=\"-40.3\" font-family=\"Helvetica,sans-Serif\" font-size=\"14.00\">samples = 3530</text>\n",
       "<text text-anchor=\"start\" x=\"475.5\" y=\"-25.3\" font-family=\"Helvetica,sans-Serif\" font-size=\"14.00\">value = [1785.881, 685.244]</text>\n",
       "<text text-anchor=\"start\" x=\"521\" y=\"-10.3\" font-family=\"Helvetica,sans-Serif\" font-size=\"14.00\">class = other</text>\n",
       "</g>\n",
       "<!-- 0_gv1&#45;&gt;1_gv1 -->\n",
       "<g id=\"edge3\" class=\"edge\">\n",
       "<title>0_gv1&#45;&gt;1_gv1</title>\n",
       "<path fill=\"none\" stroke=\"black\" d=\"M597.53,-93.93C592.4,-85.19 586.91,-75.84 581.76,-67.07\"/>\n",
       "<polygon fill=\"black\" stroke=\"black\" points=\"584.63,-65.04 576.55,-58.19 578.59,-68.58 584.63,-65.04\"/>\n",
       "<text text-anchor=\"middle\" x=\"570.25\" y=\"-78.68\" font-family=\"Helvetica,sans-Serif\" font-size=\"14.00\">True</text>\n",
       "</g>\n",
       "<!-- 2_gv1 -->\n",
       "<g id=\"node6\" class=\"node\">\n",
       "<title>2_gv1</title>\n",
       "<path fill=\"#7ebfee\" stroke=\"black\" d=\"M851,-58C851,-58 685,-58 685,-58 679,-58 673,-52 673,-46 673,-46 673,-12 673,-12 673,-6 679,0 685,0 685,0 851,0 851,0 857,0 863,-6 863,-12 863,-12 863,-46 863,-46 863,-52 857,-58 851,-58\"/>\n",
       "<text text-anchor=\"start\" x=\"719.5\" y=\"-40.3\" font-family=\"Helvetica,sans-Serif\" font-size=\"14.00\">samples = 1214</text>\n",
       "<text text-anchor=\"start\" x=\"683.5\" y=\"-25.3\" font-family=\"Helvetica,sans-Serif\" font-size=\"14.00\">value = [586.119, 1686.756]</text>\n",
       "<text text-anchor=\"start\" x=\"724.5\" y=\"-10.3\" font-family=\"Helvetica,sans-Serif\" font-size=\"14.00\">class = Physik</text>\n",
       "</g>\n",
       "<!-- 0_gv1&#45;&gt;2_gv1 -->\n",
       "<g id=\"edge4\" class=\"edge\">\n",
       "<title>0_gv1&#45;&gt;2_gv1</title>\n",
       "<path fill=\"none\" stroke=\"black\" d=\"M673.21,-93.93C687.68,-84.17 703.26,-73.67 717.52,-64.05\"/>\n",
       "<polygon fill=\"black\" stroke=\"black\" points=\"719.88,-66.68 726.21,-58.19 715.96,-60.88 719.88,-66.68\"/>\n",
       "<text text-anchor=\"middle\" x=\"721.44\" y=\"-79.03\" font-family=\"Helvetica,sans-Serif\" font-size=\"14.00\">False</text>\n",
       "</g>\n",
       "</g>\n",
       "</svg>\n"
      ],
      "text/plain": [
       "<graphviz.sources.Source at 0x7fec3b8f9300>"
      ]
     },
     "metadata": {},
     "output_type": "display_data"
    },
    {
     "data": {
      "text/markdown": [
       "<span style=\"font-size:11pt\"><br><br></span>"
      ],
      "text/plain": [
       "<IPython.core.display.Markdown object>"
      ]
     },
     "metadata": {},
     "output_type": "display_data"
    },
    {
     "data": {
      "image/svg+xml": [
       "<?xml version=\"1.0\" encoding=\"UTF-8\" standalone=\"no\"?>\n",
       "<!DOCTYPE svg PUBLIC \"-//W3C//DTD SVG 1.1//EN\"\n",
       " \"http://www.w3.org/Graphics/SVG/1.1/DTD/svg11.dtd\">\n",
       "<!-- Generated by graphviz version 2.43.0 (0)\n",
       " -->\n",
       "<!-- Title: root Pages: 1 -->\n",
       "<svg width=\"839pt\" height=\"177pt\"\n",
       " viewBox=\"0.00 0.00 838.50 177.00\" xmlns=\"http://www.w3.org/2000/svg\" xmlns:xlink=\"http://www.w3.org/1999/xlink\">\n",
       "<g id=\"graph0\" class=\"graph\" transform=\"scale(1 1) rotate(0) translate(4 173)\">\n",
       "<title>root</title>\n",
       "<polygon fill=\"white\" stroke=\"transparent\" points=\"-4,4 -4,-173 834.5,-173 834.5,4 -4,4\"/>\n",
       "<!-- 0 -->\n",
       "<g id=\"node1\" class=\"node\">\n",
       "<title>0</title>\n",
       "<path fill=\"#ffffff\" stroke=\"black\" d=\"M307.5,-169C307.5,-169 164.5,-169 164.5,-169 158.5,-169 152.5,-163 152.5,-157 152.5,-157 152.5,-106 152.5,-106 152.5,-100 158.5,-94 164.5,-94 164.5,-94 307.5,-94 307.5,-94 313.5,-94 319.5,-100 319.5,-106 319.5,-106 319.5,-157 319.5,-157 319.5,-163 313.5,-169 307.5,-169\"/>\n",
       "<text text-anchor=\"start\" x=\"166.5\" y=\"-150.3\" font-family=\"Helvetica,sans-Serif\" font-size=\"14.00\">stattgefunden ≤ 5755.5</text>\n",
       "<text text-anchor=\"start\" x=\"187.5\" y=\"-135.3\" font-family=\"Helvetica,sans-Serif\" font-size=\"14.00\">samples = 4744</text>\n",
       "<text text-anchor=\"start\" x=\"163\" y=\"-120.3\" font-family=\"Helvetica,sans-Serif\" font-size=\"14.00\">value = [2372.0, 2372.0]</text>\n",
       "<text text-anchor=\"start\" x=\"163\" y=\"-105.3\" font-family=\"Helvetica,sans-Serif\" font-size=\"14.00\">class = Biologie/Chemie</text>\n",
       "</g>\n",
       "<!-- 1 -->\n",
       "<g id=\"node2\" class=\"node\">\n",
       "<title>1</title>\n",
       "<path fill=\"#eda978\" stroke=\"black\" d=\"M170,-58C170,-58 12,-58 12,-58 6,-58 0,-52 0,-46 0,-46 0,-12 0,-12 0,-6 6,0 12,0 12,0 170,0 170,0 176,0 182,-6 182,-12 182,-12 182,-46 182,-46 182,-52 176,-58 170,-58\"/>\n",
       "<text text-anchor=\"start\" x=\"42.5\" y=\"-40.3\" font-family=\"Helvetica,sans-Serif\" font-size=\"14.00\">samples = 3826</text>\n",
       "<text text-anchor=\"start\" x=\"10.5\" y=\"-25.3\" font-family=\"Helvetica,sans-Serif\" font-size=\"14.00\">value = [1940.913, 616.72]</text>\n",
       "<text text-anchor=\"start\" x=\"52\" y=\"-10.3\" font-family=\"Helvetica,sans-Serif\" font-size=\"14.00\">class = other</text>\n",
       "</g>\n",
       "<!-- 0&#45;&gt;1 -->\n",
       "<g id=\"edge1\" class=\"edge\">\n",
       "<title>0&#45;&gt;1</title>\n",
       "<path fill=\"none\" stroke=\"black\" d=\"M183.24,-93.93C169.16,-84.17 154,-73.67 140.12,-64.05\"/>\n",
       "<polygon fill=\"black\" stroke=\"black\" points=\"141.88,-61.01 131.67,-58.19 137.89,-66.76 141.88,-61.01\"/>\n",
       "<text text-anchor=\"middle\" x=\"136.13\" y=\"-79.09\" font-family=\"Helvetica,sans-Serif\" font-size=\"14.00\">True</text>\n",
       "</g>\n",
       "<!-- 2 -->\n",
       "<g id=\"node3\" class=\"node\">\n",
       "<title>2</title>\n",
       "<path fill=\"#6ab5eb\" stroke=\"black\" d=\"M370,-58C370,-58 212,-58 212,-58 206,-58 200,-52 200,-46 200,-46 200,-12 200,-12 200,-6 206,0 212,0 212,0 370,0 370,0 376,0 382,-6 382,-12 382,-12 382,-46 382,-46 382,-52 376,-58 370,-58\"/>\n",
       "<text text-anchor=\"start\" x=\"246\" y=\"-40.3\" font-family=\"Helvetica,sans-Serif\" font-size=\"14.00\">samples = 918</text>\n",
       "<text text-anchor=\"start\" x=\"210.5\" y=\"-25.3\" font-family=\"Helvetica,sans-Serif\" font-size=\"14.00\">value = [431.087, 1755.28]</text>\n",
       "<text text-anchor=\"start\" x=\"218\" y=\"-10.3\" font-family=\"Helvetica,sans-Serif\" font-size=\"14.00\">class = Biologie/Chemie</text>\n",
       "</g>\n",
       "<!-- 0&#45;&gt;2 -->\n",
       "<g id=\"edge2\" class=\"edge\">\n",
       "<title>0&#45;&gt;2</title>\n",
       "<path fill=\"none\" stroke=\"black\" d=\"M256.01,-93.93C260.8,-85.19 265.91,-75.84 270.71,-67.07\"/>\n",
       "<polygon fill=\"black\" stroke=\"black\" points=\"273.84,-68.64 275.57,-58.19 267.7,-65.28 273.84,-68.64\"/>\n",
       "<text text-anchor=\"middle\" x=\"282.59\" y=\"-78.48\" font-family=\"Helvetica,sans-Serif\" font-size=\"14.00\">False</text>\n",
       "</g>\n",
       "<!-- 0_gv1 -->\n",
       "<g id=\"node4\" class=\"node\">\n",
       "<title>0_gv1</title>\n",
       "<path fill=\"#ffffff\" stroke=\"black\" d=\"M691,-169C691,-169 441,-169 441,-169 435,-169 429,-163 429,-157 429,-157 429,-106 429,-106 429,-100 435,-94 441,-94 441,-94 691,-94 691,-94 697,-94 703,-100 703,-106 703,-106 703,-157 703,-157 703,-163 697,-169 691,-169\"/>\n",
       "<text text-anchor=\"start\" x=\"442.5\" y=\"-150.3\" font-family=\"Helvetica,sans-Serif\" font-size=\"14.00\">gehirn,psychologische,kognitive ≤ 4589.5</text>\n",
       "<text text-anchor=\"start\" x=\"517.5\" y=\"-135.3\" font-family=\"Helvetica,sans-Serif\" font-size=\"14.00\">samples = 4744</text>\n",
       "<text text-anchor=\"start\" x=\"493\" y=\"-120.3\" font-family=\"Helvetica,sans-Serif\" font-size=\"14.00\">value = [2372.0, 2372.0]</text>\n",
       "<text text-anchor=\"start\" x=\"474\" y=\"-105.3\" font-family=\"Helvetica,sans-Serif\" font-size=\"14.00\">class = Humanwissenschaften</text>\n",
       "</g>\n",
       "<!-- 1_gv1 -->\n",
       "<g id=\"node5\" class=\"node\">\n",
       "<title>1_gv1</title>\n",
       "<path fill=\"#efaf82\" stroke=\"black\" d=\"M595,-58C595,-58 429,-58 429,-58 423,-58 417,-52 417,-46 417,-46 417,-12 417,-12 417,-6 423,0 429,0 429,0 595,0 595,0 601,0 607,-6 607,-12 607,-12 607,-46 607,-46 607,-52 601,-58 595,-58\"/>\n",
       "<text text-anchor=\"start\" x=\"463.5\" y=\"-40.3\" font-family=\"Helvetica,sans-Serif\" font-size=\"14.00\">samples = 3081</text>\n",
       "<text text-anchor=\"start\" x=\"427.5\" y=\"-25.3\" font-family=\"Helvetica,sans-Serif\" font-size=\"14.00\">value = [1595.613, 586.131]</text>\n",
       "<text text-anchor=\"start\" x=\"473\" y=\"-10.3\" font-family=\"Helvetica,sans-Serif\" font-size=\"14.00\">class = other</text>\n",
       "</g>\n",
       "<!-- 0_gv1&#45;&gt;1_gv1 -->\n",
       "<g id=\"edge3\" class=\"edge\">\n",
       "<title>0_gv1&#45;&gt;1_gv1</title>\n",
       "<path fill=\"none\" stroke=\"black\" d=\"M546.35,-93.93C541.65,-85.19 536.63,-75.84 531.92,-67.07\"/>\n",
       "<polygon fill=\"black\" stroke=\"black\" points=\"534.96,-65.34 527.15,-58.19 528.8,-68.65 534.96,-65.34\"/>\n",
       "<text text-anchor=\"middle\" x=\"519.94\" y=\"-78.43\" font-family=\"Helvetica,sans-Serif\" font-size=\"14.00\">True</text>\n",
       "</g>\n",
       "<!-- 2_gv1 -->\n",
       "<g id=\"node6\" class=\"node\">\n",
       "<title>2_gv1</title>\n",
       "<path fill=\"#8fc8f0\" stroke=\"black\" d=\"M818.5,-58C818.5,-58 637.5,-58 637.5,-58 631.5,-58 625.5,-52 625.5,-46 625.5,-46 625.5,-12 625.5,-12 625.5,-6 631.5,0 637.5,0 637.5,0 818.5,0 818.5,0 824.5,0 830.5,-6 830.5,-12 830.5,-12 830.5,-46 830.5,-46 830.5,-52 824.5,-58 818.5,-58\"/>\n",
       "<text text-anchor=\"start\" x=\"679.5\" y=\"-40.3\" font-family=\"Helvetica,sans-Serif\" font-size=\"14.00\">samples = 1663</text>\n",
       "<text text-anchor=\"start\" x=\"643.5\" y=\"-25.3\" font-family=\"Helvetica,sans-Serif\" font-size=\"14.00\">value = [776.387, 1785.869]</text>\n",
       "<text text-anchor=\"start\" x=\"636\" y=\"-10.3\" font-family=\"Helvetica,sans-Serif\" font-size=\"14.00\">class = Humanwissenschaften</text>\n",
       "</g>\n",
       "<!-- 0_gv1&#45;&gt;2_gv1 -->\n",
       "<g id=\"edge4\" class=\"edge\">\n",
       "<title>0_gv1&#45;&gt;2_gv1</title>\n",
       "<path fill=\"none\" stroke=\"black\" d=\"M624.94,-93.93C641.05,-83.94 658.42,-73.17 674.22,-63.36\"/>\n",
       "<polygon fill=\"black\" stroke=\"black\" points=\"676.17,-66.28 682.82,-58.03 672.47,-60.33 676.17,-66.28\"/>\n",
       "<text text-anchor=\"middle\" x=\"677.11\" y=\"-78.67\" font-family=\"Helvetica,sans-Serif\" font-size=\"14.00\">False</text>\n",
       "</g>\n",
       "</g>\n",
       "</svg>\n"
      ],
      "text/plain": [
       "<graphviz.sources.Source at 0x7fec3b8f9630>"
      ]
     },
     "metadata": {},
     "output_type": "display_data"
    },
    {
     "data": {
      "text/markdown": [
       "<span style=\"font-size:11pt\"><br><br></span>"
      ],
      "text/plain": [
       "<IPython.core.display.Markdown object>"
      ]
     },
     "metadata": {},
     "output_type": "display_data"
    },
    {
     "data": {
      "image/svg+xml": [
       "<?xml version=\"1.0\" encoding=\"UTF-8\" standalone=\"no\"?>\n",
       "<!DOCTYPE svg PUBLIC \"-//W3C//DTD SVG 1.1//EN\"\n",
       " \"http://www.w3.org/Graphics/SVG/1.1/DTD/svg11.dtd\">\n",
       "<!-- Generated by graphviz version 2.43.0 (0)\n",
       " -->\n",
       "<!-- Title: root Pages: 1 -->\n",
       "<svg width=\"960pt\" height=\"177pt\"\n",
       " viewBox=\"0.00 0.00 959.50 177.00\" xmlns=\"http://www.w3.org/2000/svg\" xmlns:xlink=\"http://www.w3.org/1999/xlink\">\n",
       "<g id=\"graph0\" class=\"graph\" transform=\"scale(1 1) rotate(0) translate(4 173)\">\n",
       "<title>root</title>\n",
       "<polygon fill=\"white\" stroke=\"transparent\" points=\"-4,4 -4,-173 955.5,-173 955.5,4 -4,4\"/>\n",
       "<!-- 0 -->\n",
       "<g id=\"node1\" class=\"node\">\n",
       "<title>0</title>\n",
       "<path fill=\"#ffffff\" stroke=\"black\" d=\"M390,-169C390,-169 142,-169 142,-169 136,-169 130,-163 130,-157 130,-157 130,-106 130,-106 130,-100 136,-94 142,-94 142,-94 390,-94 390,-94 396,-94 402,-100 402,-106 402,-106 402,-157 402,-157 402,-163 396,-169 390,-169\"/>\n",
       "<text text-anchor=\"start\" x=\"143\" y=\"-150.3\" font-family=\"Helvetica,sans-Serif\" font-size=\"14.00\">deutschen literatur,heine,moritz ≤ 5257.5</text>\n",
       "<text text-anchor=\"start\" x=\"217.5\" y=\"-135.3\" font-family=\"Helvetica,sans-Serif\" font-size=\"14.00\">samples = 4744</text>\n",
       "<text text-anchor=\"start\" x=\"193\" y=\"-120.3\" font-family=\"Helvetica,sans-Serif\" font-size=\"14.00\">value = [2372.0, 2372.0]</text>\n",
       "<text text-anchor=\"start\" x=\"146\" y=\"-105.3\" font-family=\"Helvetica,sans-Serif\" font-size=\"14.00\">class = Sprach&#45;/Literaturwissenschaften</text>\n",
       "</g>\n",
       "<!-- 1 -->\n",
       "<g id=\"node2\" class=\"node\">\n",
       "<title>1</title>\n",
       "<path fill=\"#efb083\" stroke=\"black\" d=\"M178,-58C178,-58 12,-58 12,-58 6,-58 0,-52 0,-46 0,-46 0,-12 0,-12 0,-6 6,0 12,0 12,0 178,0 178,0 184,0 190,-6 190,-12 190,-12 190,-46 190,-46 190,-52 184,-58 178,-58\"/>\n",
       "<text text-anchor=\"start\" x=\"46.5\" y=\"-40.3\" font-family=\"Helvetica,sans-Serif\" font-size=\"14.00\">samples = 3518</text>\n",
       "<text text-anchor=\"start\" x=\"10.5\" y=\"-25.3\" font-family=\"Helvetica,sans-Serif\" font-size=\"14.00\">value = [2062.438, 767.914]</text>\n",
       "<text text-anchor=\"start\" x=\"56\" y=\"-10.3\" font-family=\"Helvetica,sans-Serif\" font-size=\"14.00\">class = other</text>\n",
       "</g>\n",
       "<!-- 0&#45;&gt;1 -->\n",
       "<g id=\"edge1\" class=\"edge\">\n",
       "<title>0&#45;&gt;1</title>\n",
       "<path fill=\"none\" stroke=\"black\" d=\"M203.78,-93.93C186.78,-83.94 168.45,-73.17 151.77,-63.36\"/>\n",
       "<polygon fill=\"black\" stroke=\"black\" points=\"153.09,-60.08 142.69,-58.03 149.54,-66.11 153.09,-60.08\"/>\n",
       "<text text-anchor=\"middle\" x=\"148.98\" y=\"-78.53\" font-family=\"Helvetica,sans-Serif\" font-size=\"14.00\">True</text>\n",
       "</g>\n",
       "<!-- 2 -->\n",
       "<g id=\"node3\" class=\"node\">\n",
       "<title>2</title>\n",
       "<path fill=\"#5fb0ea\" stroke=\"black\" d=\"M460,-58C460,-58 220,-58 220,-58 214,-58 208,-52 208,-46 208,-46 208,-12 208,-12 208,-6 214,0 220,0 220,0 460,0 460,0 466,0 472,-6 472,-12 472,-12 472,-46 472,-46 472,-52 466,-58 460,-58\"/>\n",
       "<text text-anchor=\"start\" x=\"291.5\" y=\"-40.3\" font-family=\"Helvetica,sans-Serif\" font-size=\"14.00\">samples = 1226</text>\n",
       "<text text-anchor=\"start\" x=\"255.5\" y=\"-25.3\" font-family=\"Helvetica,sans-Serif\" font-size=\"14.00\">value = [309.562, 1604.086]</text>\n",
       "<text text-anchor=\"start\" x=\"220\" y=\"-10.3\" font-family=\"Helvetica,sans-Serif\" font-size=\"14.00\">class = Sprach&#45;/Literaturwissenschaften</text>\n",
       "</g>\n",
       "<!-- 0&#45;&gt;2 -->\n",
       "<g id=\"edge2\" class=\"edge\">\n",
       "<title>0&#45;&gt;2</title>\n",
       "<path fill=\"none\" stroke=\"black\" d=\"M292.93,-93.93C299.5,-85 306.54,-75.45 313.11,-66.52\"/>\n",
       "<polygon fill=\"black\" stroke=\"black\" points=\"316.13,-68.32 319.24,-58.19 310.5,-64.17 316.13,-68.32\"/>\n",
       "<text text-anchor=\"middle\" x=\"323\" y=\"-79.2\" font-family=\"Helvetica,sans-Serif\" font-size=\"14.00\">False</text>\n",
       "</g>\n",
       "<!-- 0_gv1 -->\n",
       "<g id=\"node4\" class=\"node\">\n",
       "<title>0_gv1</title>\n",
       "<path fill=\"#ffffff\" stroke=\"black\" d=\"M886.5,-169C886.5,-169 529.5,-169 529.5,-169 523.5,-169 517.5,-163 517.5,-157 517.5,-157 517.5,-106 517.5,-106 517.5,-100 523.5,-94 529.5,-94 529.5,-94 886.5,-94 886.5,-94 892.5,-94 898.5,-100 898.5,-106 898.5,-106 898.5,-157 898.5,-157 898.5,-163 892.5,-169 886.5,-169\"/>\n",
       "<text text-anchor=\"start\" x=\"533\" y=\"-150.3\" font-family=\"Helvetica,sans-Serif\" font-size=\"14.00\">offentliches,offentlichkeitsarbeit,verwaltungsrecht ≤ 6092.5</text>\n",
       "<text text-anchor=\"start\" x=\"659.5\" y=\"-135.3\" font-family=\"Helvetica,sans-Serif\" font-size=\"14.00\">samples = 4744</text>\n",
       "<text text-anchor=\"start\" x=\"635\" y=\"-120.3\" font-family=\"Helvetica,sans-Serif\" font-size=\"14.00\">value = [2372.0, 2372.0]</text>\n",
       "<text text-anchor=\"start\" x=\"617.5\" y=\"-105.3\" font-family=\"Helvetica,sans-Serif\" font-size=\"14.00\">class = Rechtswissenschaften</text>\n",
       "</g>\n",
       "<!-- 1_gv1 -->\n",
       "<g id=\"node5\" class=\"node\">\n",
       "<title>1_gv1</title>\n",
       "<path fill=\"#e88f4f\" stroke=\"black\" d=\"M718,-58C718,-58 552,-58 552,-58 546,-58 540,-52 540,-46 540,-46 540,-12 540,-12 540,-6 546,0 552,0 552,0 718,0 718,0 724,0 730,-6 730,-12 730,-12 730,-46 730,-46 730,-52 724,-58 718,-58\"/>\n",
       "<text text-anchor=\"start\" x=\"586.5\" y=\"-40.3\" font-family=\"Helvetica,sans-Serif\" font-size=\"14.00\">samples = 4072</text>\n",
       "<text text-anchor=\"start\" x=\"550.5\" y=\"-25.3\" font-family=\"Helvetica,sans-Serif\" font-size=\"14.00\">value = [2124.884, 234.009]</text>\n",
       "<text text-anchor=\"start\" x=\"596\" y=\"-10.3\" font-family=\"Helvetica,sans-Serif\" font-size=\"14.00\">class = other</text>\n",
       "</g>\n",
       "<!-- 0_gv1&#45;&gt;1_gv1 -->\n",
       "<g id=\"edge3\" class=\"edge\">\n",
       "<title>0_gv1&#45;&gt;1_gv1</title>\n",
       "<path fill=\"none\" stroke=\"black\" d=\"M681.44,-93.93C674.95,-85 668.01,-75.45 661.52,-66.52\"/>\n",
       "<polygon fill=\"black\" stroke=\"black\" points=\"664.18,-64.22 655.47,-58.19 658.52,-68.34 664.18,-64.22\"/>\n",
       "<text text-anchor=\"middle\" x=\"651.56\" y=\"-79.18\" font-family=\"Helvetica,sans-Serif\" font-size=\"14.00\">True</text>\n",
       "</g>\n",
       "<!-- 2_gv1 -->\n",
       "<g id=\"node6\" class=\"node\">\n",
       "<title>2_gv1</title>\n",
       "<path fill=\"#50a8e8\" stroke=\"black\" d=\"M939.5,-58C939.5,-58 760.5,-58 760.5,-58 754.5,-58 748.5,-52 748.5,-46 748.5,-46 748.5,-12 748.5,-12 748.5,-6 754.5,0 760.5,0 760.5,0 939.5,0 939.5,0 945.5,0 951.5,-6 951.5,-12 951.5,-12 951.5,-46 951.5,-46 951.5,-52 945.5,-58 939.5,-58\"/>\n",
       "<text text-anchor=\"start\" x=\"805\" y=\"-40.3\" font-family=\"Helvetica,sans-Serif\" font-size=\"14.00\">samples = 672</text>\n",
       "<text text-anchor=\"start\" x=\"765.5\" y=\"-25.3\" font-family=\"Helvetica,sans-Serif\" font-size=\"14.00\">value = [247.116, 2137.991]</text>\n",
       "<text text-anchor=\"start\" x=\"759.5\" y=\"-10.3\" font-family=\"Helvetica,sans-Serif\" font-size=\"14.00\">class = Rechtswissenschaften</text>\n",
       "</g>\n",
       "<!-- 0_gv1&#45;&gt;2_gv1 -->\n",
       "<g id=\"edge4\" class=\"edge\">\n",
       "<title>0_gv1&#45;&gt;2_gv1</title>\n",
       "<path fill=\"none\" stroke=\"black\" d=\"M759.67,-93.93C773.46,-84.17 788.3,-73.67 801.89,-64.05\"/>\n",
       "<polygon fill=\"black\" stroke=\"black\" points=\"804.03,-66.82 810.17,-58.19 799.99,-61.11 804.03,-66.82\"/>\n",
       "<text text-anchor=\"middle\" x=\"805.96\" y=\"-79.13\" font-family=\"Helvetica,sans-Serif\" font-size=\"14.00\">False</text>\n",
       "</g>\n",
       "</g>\n",
       "</svg>\n"
      ],
      "text/plain": [
       "<graphviz.sources.Source at 0x7fec3b8f99c0>"
      ]
     },
     "metadata": {},
     "output_type": "display_data"
    },
    {
     "data": {
      "text/markdown": [
       "<span style=\"font-size:11pt\"><br><br></span>"
      ],
      "text/plain": [
       "<IPython.core.display.Markdown object>"
      ]
     },
     "metadata": {},
     "output_type": "display_data"
    },
    {
     "data": {
      "image/svg+xml": [
       "<?xml version=\"1.0\" encoding=\"UTF-8\" standalone=\"no\"?>\n",
       "<!DOCTYPE svg PUBLIC \"-//W3C//DTD SVG 1.1//EN\"\n",
       " \"http://www.w3.org/Graphics/SVG/1.1/DTD/svg11.dtd\">\n",
       "<!-- Generated by graphviz version 2.43.0 (0)\n",
       " -->\n",
       "<!-- Title: root Pages: 1 -->\n",
       "<svg width=\"946pt\" height=\"177pt\"\n",
       " viewBox=\"0.00 0.00 946.00 177.00\" xmlns=\"http://www.w3.org/2000/svg\" xmlns:xlink=\"http://www.w3.org/1999/xlink\">\n",
       "<g id=\"graph0\" class=\"graph\" transform=\"scale(1 1) rotate(0) translate(4 173)\">\n",
       "<title>root</title>\n",
       "<polygon fill=\"white\" stroke=\"transparent\" points=\"-4,4 -4,-173 942,-173 942,4 -4,4\"/>\n",
       "<!-- 0 -->\n",
       "<g id=\"node1\" class=\"node\">\n",
       "<title>0</title>\n",
       "<path fill=\"#ffffff\" stroke=\"black\" d=\"M447.5,-169C447.5,-169 68.5,-169 68.5,-169 62.5,-169 56.5,-163 56.5,-157 56.5,-157 56.5,-106 56.5,-106 56.5,-100 62.5,-94 68.5,-94 68.5,-94 447.5,-94 447.5,-94 453.5,-94 459.5,-100 459.5,-106 459.5,-106 459.5,-157 459.5,-157 459.5,-163 453.5,-169 447.5,-169\"/>\n",
       "<text text-anchor=\"start\" x=\"72\" y=\"-150.3\" font-family=\"Helvetica,sans-Serif\" font-size=\"14.00\">erziehungswissenschaft,sozialpadagogik,padagogen ≤ 5143.0</text>\n",
       "<text text-anchor=\"start\" x=\"209.5\" y=\"-135.3\" font-family=\"Helvetica,sans-Serif\" font-size=\"14.00\">samples = 4744</text>\n",
       "<text text-anchor=\"start\" x=\"185\" y=\"-120.3\" font-family=\"Helvetica,sans-Serif\" font-size=\"14.00\">value = [2372.0, 2372.0]</text>\n",
       "<text text-anchor=\"start\" x=\"219\" y=\"-105.3\" font-family=\"Helvetica,sans-Serif\" font-size=\"14.00\">class = other</text>\n",
       "</g>\n",
       "<!-- 1 -->\n",
       "<g id=\"node2\" class=\"node\">\n",
       "<title>1</title>\n",
       "<path fill=\"#f1bd98\" stroke=\"black\" d=\"M162,-58C162,-58 12,-58 12,-58 6,-58 0,-52 0,-46 0,-46 0,-12 0,-12 0,-6 6,0 12,0 12,0 162,0 162,0 168,0 174,-6 174,-12 174,-12 174,-46 174,-46 174,-52 168,-58 162,-58\"/>\n",
       "<text text-anchor=\"start\" x=\"38.5\" y=\"-40.3\" font-family=\"Helvetica,sans-Serif\" font-size=\"14.00\">samples = 3448</text>\n",
       "<text text-anchor=\"start\" x=\"10\" y=\"-25.3\" font-family=\"Helvetica,sans-Serif\" font-size=\"14.00\">value = [2019.33, 969.07]</text>\n",
       "<text text-anchor=\"start\" x=\"48\" y=\"-10.3\" font-family=\"Helvetica,sans-Serif\" font-size=\"14.00\">class = other</text>\n",
       "</g>\n",
       "<!-- 0&#45;&gt;1 -->\n",
       "<g id=\"edge1\" class=\"edge\">\n",
       "<title>0&#45;&gt;1</title>\n",
       "<path fill=\"none\" stroke=\"black\" d=\"M195.78,-93.93C178.78,-83.94 160.45,-73.17 143.77,-63.36\"/>\n",
       "<polygon fill=\"black\" stroke=\"black\" points=\"145.09,-60.08 134.69,-58.03 141.54,-66.11 145.09,-60.08\"/>\n",
       "<text text-anchor=\"middle\" x=\"140.98\" y=\"-78.53\" font-family=\"Helvetica,sans-Serif\" font-size=\"14.00\">True</text>\n",
       "</g>\n",
       "<!-- 2 -->\n",
       "<g id=\"node3\" class=\"node\">\n",
       "<title>2</title>\n",
       "<path fill=\"#6bb6ec\" stroke=\"black\" d=\"M455.5,-58C455.5,-58 204.5,-58 204.5,-58 198.5,-58 192.5,-52 192.5,-46 192.5,-46 192.5,-12 192.5,-12 192.5,-6 198.5,0 204.5,0 204.5,0 455.5,0 455.5,0 461.5,0 467.5,-6 467.5,-12 467.5,-12 467.5,-46 467.5,-46 467.5,-52 461.5,-58 455.5,-58\"/>\n",
       "<text text-anchor=\"start\" x=\"281.5\" y=\"-40.3\" font-family=\"Helvetica,sans-Serif\" font-size=\"14.00\">samples = 1296</text>\n",
       "<text text-anchor=\"start\" x=\"253\" y=\"-25.3\" font-family=\"Helvetica,sans-Serif\" font-size=\"14.00\">value = [352.67, 1402.93]</text>\n",
       "<text text-anchor=\"start\" x=\"205\" y=\"-10.3\" font-family=\"Helvetica,sans-Serif\" font-size=\"14.00\">class = Erziehungs&#45;/Kulturwissenschaften</text>\n",
       "</g>\n",
       "<!-- 0&#45;&gt;2 -->\n",
       "<g id=\"edge2\" class=\"edge\">\n",
       "<title>0&#45;&gt;2</title>\n",
       "<path fill=\"none\" stroke=\"black\" d=\"M284.2,-93.93C290.6,-85 297.44,-75.45 303.84,-66.52\"/>\n",
       "<polygon fill=\"black\" stroke=\"black\" points=\"306.83,-68.36 309.81,-58.19 301.14,-64.28 306.83,-68.36\"/>\n",
       "<text text-anchor=\"middle\" x=\"313.88\" y=\"-79.15\" font-family=\"Helvetica,sans-Serif\" font-size=\"14.00\">False</text>\n",
       "</g>\n",
       "<!-- 0_gv1 -->\n",
       "<g id=\"node4\" class=\"node\">\n",
       "<title>0_gv1</title>\n",
       "<path fill=\"#ffffff\" stroke=\"black\" d=\"M798.5,-169C798.5,-169 589.5,-169 589.5,-169 583.5,-169 577.5,-163 577.5,-157 577.5,-157 577.5,-106 577.5,-106 577.5,-100 583.5,-94 589.5,-94 589.5,-94 798.5,-94 798.5,-94 804.5,-94 810.5,-100 810.5,-106 810.5,-106 810.5,-157 810.5,-157 810.5,-163 804.5,-169 798.5,-169\"/>\n",
       "<text text-anchor=\"start\" x=\"590\" y=\"-150.3\" font-family=\"Helvetica,sans-Serif\" font-size=\"14.00\">3d,modellierung,software ≤ 6174.0</text>\n",
       "<text text-anchor=\"start\" x=\"645.5\" y=\"-135.3\" font-family=\"Helvetica,sans-Serif\" font-size=\"14.00\">samples = 4744</text>\n",
       "<text text-anchor=\"start\" x=\"621\" y=\"-120.3\" font-family=\"Helvetica,sans-Serif\" font-size=\"14.00\">value = [2372.0, 2372.0]</text>\n",
       "<text text-anchor=\"start\" x=\"655\" y=\"-105.3\" font-family=\"Helvetica,sans-Serif\" font-size=\"14.00\">class = other</text>\n",
       "</g>\n",
       "<!-- 1_gv1 -->\n",
       "<g id=\"node5\" class=\"node\">\n",
       "<title>1_gv1</title>\n",
       "<path fill=\"#eda673\" stroke=\"black\" d=\"M706,-58C706,-58 540,-58 540,-58 534,-58 528,-52 528,-46 528,-46 528,-12 528,-12 528,-6 534,0 540,0 540,0 706,0 706,0 712,0 718,-6 718,-12 718,-12 718,-46 718,-46 718,-52 712,-58 706,-58\"/>\n",
       "<text text-anchor=\"start\" x=\"574.5\" y=\"-40.3\" font-family=\"Helvetica,sans-Serif\" font-size=\"14.00\">samples = 4128</text>\n",
       "<text text-anchor=\"start\" x=\"538.5\" y=\"-25.3\" font-family=\"Helvetica,sans-Serif\" font-size=\"14.00\">value = [2103.365, 621.238]</text>\n",
       "<text text-anchor=\"start\" x=\"584\" y=\"-10.3\" font-family=\"Helvetica,sans-Serif\" font-size=\"14.00\">class = other</text>\n",
       "</g>\n",
       "<!-- 0_gv1&#45;&gt;1_gv1 -->\n",
       "<g id=\"edge3\" class=\"edge\">\n",
       "<title>0_gv1&#45;&gt;1_gv1</title>\n",
       "<path fill=\"none\" stroke=\"black\" d=\"M668.17,-93.93C661.86,-85 655.11,-75.45 648.8,-66.52\"/>\n",
       "<polygon fill=\"black\" stroke=\"black\" points=\"651.54,-64.34 642.91,-58.19 645.83,-68.38 651.54,-64.34\"/>\n",
       "<text text-anchor=\"middle\" x=\"638.68\" y=\"-79.13\" font-family=\"Helvetica,sans-Serif\" font-size=\"14.00\">True</text>\n",
       "</g>\n",
       "<!-- 2_gv1 -->\n",
       "<g id=\"node6\" class=\"node\">\n",
       "<title>2_gv1</title>\n",
       "<path fill=\"#57ace9\" stroke=\"black\" d=\"M926,-58C926,-58 748,-58 748,-58 742,-58 736,-52 736,-46 736,-46 736,-12 736,-12 736,-6 742,0 748,0 748,0 926,0 926,0 932,0 938,-6 938,-12 938,-12 938,-46 938,-46 938,-52 932,-58 926,-58\"/>\n",
       "<text text-anchor=\"start\" x=\"792\" y=\"-40.3\" font-family=\"Helvetica,sans-Serif\" font-size=\"14.00\">samples = 616</text>\n",
       "<text text-anchor=\"start\" x=\"752.5\" y=\"-25.3\" font-family=\"Helvetica,sans-Serif\" font-size=\"14.00\">value = [268.635, 1750.762]</text>\n",
       "<text text-anchor=\"start\" x=\"746\" y=\"-10.3\" font-family=\"Helvetica,sans-Serif\" font-size=\"14.00\">class = Mathematik/Informatik</text>\n",
       "</g>\n",
       "<!-- 0_gv1&#45;&gt;2_gv1 -->\n",
       "<g id=\"edge4\" class=\"edge\">\n",
       "<title>0_gv1&#45;&gt;2_gv1</title>\n",
       "<path fill=\"none\" stroke=\"black\" d=\"M746.03,-93.93C759.92,-84.17 774.87,-73.67 788.55,-64.05\"/>\n",
       "<polygon fill=\"black\" stroke=\"black\" points=\"790.72,-66.8 796.89,-58.19 786.7,-61.07 790.72,-66.8\"/>\n",
       "<text text-anchor=\"middle\" x=\"792.59\" y=\"-79.12\" font-family=\"Helvetica,sans-Serif\" font-size=\"14.00\">False</text>\n",
       "</g>\n",
       "</g>\n",
       "</svg>\n"
      ],
      "text/plain": [
       "<graphviz.sources.Source at 0x7fec3b8f94b0>"
      ]
     },
     "metadata": {},
     "output_type": "display_data"
    },
    {
     "data": {
      "text/markdown": [
       "<span style=\"font-size:11pt\"><br><br></span>"
      ],
      "text/plain": [
       "<IPython.core.display.Markdown object>"
      ]
     },
     "metadata": {},
     "output_type": "display_data"
    },
    {
     "data": {
      "image/svg+xml": [
       "<?xml version=\"1.0\" encoding=\"UTF-8\" standalone=\"no\"?>\n",
       "<!DOCTYPE svg PUBLIC \"-//W3C//DTD SVG 1.1//EN\"\n",
       " \"http://www.w3.org/Graphics/SVG/1.1/DTD/svg11.dtd\">\n",
       "<!-- Generated by graphviz version 2.43.0 (0)\n",
       " -->\n",
       "<!-- Title: root Pages: 1 -->\n",
       "<svg width=\"947pt\" height=\"177pt\"\n",
       " viewBox=\"0.00 0.00 947.00 177.00\" xmlns=\"http://www.w3.org/2000/svg\" xmlns:xlink=\"http://www.w3.org/1999/xlink\">\n",
       "<g id=\"graph0\" class=\"graph\" transform=\"scale(1 1) rotate(0) translate(4 173)\">\n",
       "<title>root</title>\n",
       "<polygon fill=\"white\" stroke=\"transparent\" points=\"-4,4 -4,-173 943,-173 943,4 -4,4\"/>\n",
       "<!-- 0 -->\n",
       "<g id=\"node1\" class=\"node\">\n",
       "<title>0</title>\n",
       "<path fill=\"#ffffff\" stroke=\"black\" d=\"M428.5,-169C428.5,-169 89.5,-169 89.5,-169 83.5,-169 77.5,-163 77.5,-157 77.5,-157 77.5,-106 77.5,-106 77.5,-100 83.5,-94 89.5,-94 89.5,-94 428.5,-94 428.5,-94 434.5,-94 440.5,-100 440.5,-106 440.5,-106 440.5,-157 440.5,-157 440.5,-163 434.5,-169 428.5,-169\"/>\n",
       "<text text-anchor=\"start\" x=\"92\" y=\"-150.3\" font-family=\"Helvetica,sans-Serif\" font-size=\"14.00\">stadtgeographie,urbane,humangeographische ≤ 5907.5</text>\n",
       "<text text-anchor=\"start\" x=\"210.5\" y=\"-135.3\" font-family=\"Helvetica,sans-Serif\" font-size=\"14.00\">samples = 4744</text>\n",
       "<text text-anchor=\"start\" x=\"186\" y=\"-120.3\" font-family=\"Helvetica,sans-Serif\" font-size=\"14.00\">value = [2372.0, 2372.0]</text>\n",
       "<text text-anchor=\"start\" x=\"154.5\" y=\"-105.3\" font-family=\"Helvetica,sans-Serif\" font-size=\"14.00\">class = Kultur&#45;/Geowissenschaften</text>\n",
       "</g>\n",
       "<!-- 1 -->\n",
       "<g id=\"node2\" class=\"node\">\n",
       "<title>1</title>\n",
       "<path fill=\"#f6d2b8\" stroke=\"black\" d=\"M186,-58C186,-58 12,-58 12,-58 6,-58 0,-52 0,-46 0,-46 0,-12 0,-12 0,-6 6,0 12,0 12,0 186,0 186,0 192,0 198,-6 198,-12 198,-12 198,-46 198,-46 198,-52 192,-58 186,-58\"/>\n",
       "<text text-anchor=\"start\" x=\"50.5\" y=\"-40.3\" font-family=\"Helvetica,sans-Serif\" font-size=\"14.00\">samples = 3958</text>\n",
       "<text text-anchor=\"start\" x=\"11\" y=\"-25.3\" font-family=\"Helvetica,sans-Serif\" font-size=\"14.00\">value = [2138.461, 1371.237]</text>\n",
       "<text text-anchor=\"start\" x=\"60\" y=\"-10.3\" font-family=\"Helvetica,sans-Serif\" font-size=\"14.00\">class = other</text>\n",
       "</g>\n",
       "<!-- 0&#45;&gt;1 -->\n",
       "<g id=\"edge1\" class=\"edge\">\n",
       "<title>0&#45;&gt;1</title>\n",
       "<path fill=\"none\" stroke=\"black\" d=\"M200.78,-93.93C184.88,-83.94 167.73,-73.17 152.12,-63.36\"/>\n",
       "<polygon fill=\"black\" stroke=\"black\" points=\"153.95,-60.39 143.62,-58.03 150.23,-66.31 153.95,-60.39\"/>\n",
       "<text text-anchor=\"middle\" x=\"149.19\" y=\"-78.7\" font-family=\"Helvetica,sans-Serif\" font-size=\"14.00\">True</text>\n",
       "</g>\n",
       "<!-- 2 -->\n",
       "<g id=\"node3\" class=\"node\">\n",
       "<title>2</title>\n",
       "<path fill=\"#67b4eb\" stroke=\"black\" d=\"M435.5,-58C435.5,-58 228.5,-58 228.5,-58 222.5,-58 216.5,-52 216.5,-46 216.5,-46 216.5,-12 216.5,-12 216.5,-6 222.5,0 228.5,0 228.5,0 435.5,0 435.5,0 441.5,0 447.5,-6 447.5,-12 447.5,-12 447.5,-46 447.5,-46 447.5,-52 441.5,-58 435.5,-58\"/>\n",
       "<text text-anchor=\"start\" x=\"287\" y=\"-40.3\" font-family=\"Helvetica,sans-Serif\" font-size=\"14.00\">samples = 786</text>\n",
       "<text text-anchor=\"start\" x=\"247.5\" y=\"-25.3\" font-family=\"Helvetica,sans-Serif\" font-size=\"14.00\">value = [233.539, 1000.763]</text>\n",
       "<text text-anchor=\"start\" x=\"227.5\" y=\"-10.3\" font-family=\"Helvetica,sans-Serif\" font-size=\"14.00\">class = Kultur&#45;/Geowissenschaften</text>\n",
       "</g>\n",
       "<!-- 0&#45;&gt;2 -->\n",
       "<g id=\"edge2\" class=\"edge\">\n",
       "<title>0&#45;&gt;2</title>\n",
       "<path fill=\"none\" stroke=\"black\" d=\"M285.56,-93.93C292.05,-85 298.99,-75.45 305.48,-66.52\"/>\n",
       "<polygon fill=\"black\" stroke=\"black\" points=\"308.48,-68.34 311.53,-58.19 302.82,-64.22 308.48,-68.34\"/>\n",
       "<text text-anchor=\"middle\" x=\"315.44\" y=\"-79.18\" font-family=\"Helvetica,sans-Serif\" font-size=\"14.00\">False</text>\n",
       "</g>\n",
       "<!-- 0_gv1 -->\n",
       "<g id=\"node4\" class=\"node\">\n",
       "<title>0_gv1</title>\n",
       "<path fill=\"#ffffff\" stroke=\"black\" d=\"M836,-169C836,-169 558,-169 558,-169 552,-169 546,-163 546,-157 546,-157 546,-106 546,-106 546,-100 552,-94 558,-94 558,-94 836,-94 836,-94 842,-94 848,-100 848,-106 848,-106 848,-157 848,-157 848,-163 842,-169 836,-169\"/>\n",
       "<text text-anchor=\"start\" x=\"559.5\" y=\"-150.3\" font-family=\"Helvetica,sans-Serif\" font-size=\"14.00\">parteien,verfassung,demokratischen ≤ 5764.0</text>\n",
       "<text text-anchor=\"start\" x=\"648.5\" y=\"-135.3\" font-family=\"Helvetica,sans-Serif\" font-size=\"14.00\">samples = 4744</text>\n",
       "<text text-anchor=\"start\" x=\"624\" y=\"-120.3\" font-family=\"Helvetica,sans-Serif\" font-size=\"14.00\">value = [2372.0, 2372.0]</text>\n",
       "<text text-anchor=\"start\" x=\"658\" y=\"-105.3\" font-family=\"Helvetica,sans-Serif\" font-size=\"14.00\">class = other</text>\n",
       "</g>\n",
       "<!-- 1_gv1 -->\n",
       "<g id=\"node5\" class=\"node\">\n",
       "<title>1_gv1</title>\n",
       "<path fill=\"#f2c09c\" stroke=\"black\" d=\"M711,-58C711,-58 537,-58 537,-58 531,-58 525,-52 525,-46 525,-46 525,-12 525,-12 525,-6 531,0 537,0 537,0 711,0 711,0 717,0 723,-6 723,-12 723,-12 723,-46 723,-46 723,-52 717,-58 711,-58\"/>\n",
       "<text text-anchor=\"start\" x=\"575.5\" y=\"-40.3\" font-family=\"Helvetica,sans-Serif\" font-size=\"14.00\">samples = 3834</text>\n",
       "<text text-anchor=\"start\" x=\"536\" y=\"-25.3\" font-family=\"Helvetica,sans-Serif\" font-size=\"14.00\">value = [2016.117, 1004.912]</text>\n",
       "<text text-anchor=\"start\" x=\"585\" y=\"-10.3\" font-family=\"Helvetica,sans-Serif\" font-size=\"14.00\">class = other</text>\n",
       "</g>\n",
       "<!-- 0_gv1&#45;&gt;1_gv1 -->\n",
       "<g id=\"edge3\" class=\"edge\">\n",
       "<title>0_gv1&#45;&gt;1_gv1</title>\n",
       "<path fill=\"none\" stroke=\"black\" d=\"M670.44,-93.93C663.95,-85 657.01,-75.45 650.52,-66.52\"/>\n",
       "<polygon fill=\"black\" stroke=\"black\" points=\"653.18,-64.22 644.47,-58.19 647.52,-68.34 653.18,-64.22\"/>\n",
       "<text text-anchor=\"middle\" x=\"640.56\" y=\"-79.18\" font-family=\"Helvetica,sans-Serif\" font-size=\"14.00\">True</text>\n",
       "</g>\n",
       "<!-- 2_gv1 -->\n",
       "<g id=\"node6\" class=\"node\">\n",
       "<title>2_gv1</title>\n",
       "<path fill=\"#6db7ec\" stroke=\"black\" d=\"M927,-58C927,-58 753,-58 753,-58 747,-58 741,-52 741,-46 741,-46 741,-12 741,-12 741,-6 747,0 753,0 753,0 927,0 927,0 933,0 939,-6 939,-12 939,-12 939,-46 939,-46 939,-52 933,-58 927,-58\"/>\n",
       "<text text-anchor=\"start\" x=\"795\" y=\"-40.3\" font-family=\"Helvetica,sans-Serif\" font-size=\"14.00\">samples = 910</text>\n",
       "<text text-anchor=\"start\" x=\"755.5\" y=\"-25.3\" font-family=\"Helvetica,sans-Serif\" font-size=\"14.00\">value = [355.883, 1367.088]</text>\n",
       "<text text-anchor=\"start\" x=\"752\" y=\"-10.3\" font-family=\"Helvetica,sans-Serif\" font-size=\"14.00\">class = Sozialwissenschaften</text>\n",
       "</g>\n",
       "<!-- 0_gv1&#45;&gt;2_gv1 -->\n",
       "<g id=\"edge4\" class=\"edge\">\n",
       "<title>0_gv1&#45;&gt;2_gv1</title>\n",
       "<path fill=\"none\" stroke=\"black\" d=\"M749.03,-93.93C762.92,-84.17 777.87,-73.67 791.55,-64.05\"/>\n",
       "<polygon fill=\"black\" stroke=\"black\" points=\"793.72,-66.8 799.89,-58.19 789.7,-61.07 793.72,-66.8\"/>\n",
       "<text text-anchor=\"middle\" x=\"795.59\" y=\"-79.12\" font-family=\"Helvetica,sans-Serif\" font-size=\"14.00\">False</text>\n",
       "</g>\n",
       "</g>\n",
       "</svg>\n"
      ],
      "text/plain": [
       "<graphviz.sources.Source at 0x7fec3b8f9360>"
      ]
     },
     "metadata": {},
     "output_type": "display_data"
    },
    {
     "data": {
      "text/markdown": [
       "<span style=\"font-size:11pt\"><br><br></span>"
      ],
      "text/plain": [
       "<IPython.core.display.Markdown object>"
      ]
     },
     "metadata": {},
     "output_type": "display_data"
    },
    {
     "data": {
      "text/markdown": [
       "<span style=\"font-size:11pt\">Per-Class-Scores: Wirtschaftswissenschaften: 0.92, Physik: 0.77, Biologie/Chemie: 0.83, Humanwissenschaften: 0.67, Sprach-/Literaturwissenschaften: 0.84, Rechtswissenschaften: 0.90, Erziehungs-/Kulturwissenschaften: 0.79, Mathematik/Informatik: 0.89, Kultur-/Geowissenschaften: 0.81, Sozialwissenschaften: 0.83</span>"
      ],
      "text/plain": [
       "<IPython.core.display.Markdown object>"
      ]
     },
     "metadata": {},
     "output_type": "display_data"
    },
    {
     "data": {
      "text/markdown": [
       "<span style=\"font-size:11pt\">Unweighted Mean Accuracy: 82.41%</span>"
      ],
      "text/plain": [
       "<IPython.core.display.Markdown object>"
      ]
     },
     "metadata": {},
     "output_type": "display_data"
    },
    {
     "data": {
      "text/markdown": [
       "<span style=\"font-size:11pt\">Weighted Mean Accuracy: 81.37%</span>"
      ],
      "text/plain": [
       "<IPython.core.display.Markdown object>"
      ]
     },
     "metadata": {},
     "output_type": "display_data"
    }
   ],
   "source": [
    "# res = classify_shallowtree_multi(clusters, embedding, descriptions, ctx.obj[\"dataset_class\"], verbose=True)\n",
    "res = classify_shallowtree(clusters, embedding, descriptions, ctx.obj[\"dataset_class\"], one_vs_rest=True, dt_depth=1, test_percentage_crossval=0.33, \n",
    "                           classes=\"fachbereich\", verbose=True, return_features=False, balance_classes=True, do_plot=True)"
   ]
  },
  {
   "cell_type": "markdown",
   "id": "2d257607-1453-4f56-a3ed-06773fb42535",
   "metadata": {},
   "source": [
    "<br><br><br><br><br><br><br><br>\n",
    "\n",
    "# Classifying DDC"
   ]
  },
  {
   "cell_type": "code",
   "execution_count": null,
   "id": "f2eb7bc0-9881-4e84-88a9-a6e4ad6877af",
   "metadata": {},
   "outputs": [],
   "source": [
    "res = classify_shallowtree(clusters, embedding, descriptions, ctx.obj[\"dataset_class\"], one_vs_rest=True, dt_depth=1, test_percentage_crossval=0.33, \n",
    "                           classes=\"ddc_l1\", verbose=True, return_features=False, balance_classes=True, do_plot=True)"
   ]
  },
  {
   "cell_type": "markdown",
   "id": "21bd915e-0814-45a7-b292-3e8548e5e8e3",
   "metadata": {},
   "source": [
    "## Another one, cause the other also looked good"
   ]
  },
  {
   "cell_type": "code",
   "execution_count": null,
   "id": "4fd79c6a-c1f1-443f-8c37-791354e4cccb",
   "metadata": {},
   "outputs": [],
   "source": [
    "conf = {'dataset': 'siddata2022', 'debug': False, 'kappa_weights': 'quadratic', 'embed_dimensions': 200, 'embed_algo': 'mds', 'quantification_measure': 'tfidf', 'dcm_quant_measure': 'count', 'extraction_method': 'tfidf', 'translate_policy': 'onlyorig', 'pp_components': 'mfauhtcsldp', 'language': 'de', 'min_words_per_desc': 80, 'prim_lambda': 0.5, 'sec_lambda': 0.2, 'classifier_succmetric': 'kappa_digitized_onlypos_2', 'cluster_direction_algo': 'reclassify'}\n",
    "ctx = SnakeContext.loader_context(config=conf, silent=True)\n",
    "ctx.print_important_settings()\n",
    "clusters, embedding, descriptions = ctx.load(\"clusters\", \"embedding\", \"pp_descriptions\")\n",
    "\n",
    "res = classify_shallowtree(clusters, embedding, descriptions, ctx.obj[\"dataset_class\"], one_vs_rest=True, dt_depth=1, test_percentage_crossval=0.33,\n",
    "                           classes=\"ddc_l1\", verbose=True, return_features=False, balance_classes=True, do_plot=True)"
   ]
  },
  {
   "cell_type": "code",
   "execution_count": null,
   "id": "e910fcb6-fe97-48cd-bb9f-bc5b9d9bf6bd",
   "metadata": {},
   "outputs": [],
   "source": []
  }
 ],
 "metadata": {
  "kernelspec": {
   "display_name": "Python 3 (ipykernel)",
   "language": "python",
   "name": "python3"
  },
  "language_info": {
   "codemirror_mode": {
    "name": "ipython",
    "version": 3
   },
   "file_extension": ".py",
   "mimetype": "text/x-python",
   "name": "python",
   "nbconvert_exporter": "python",
   "pygments_lexer": "ipython3",
   "version": "3.10.0"
  }
 },
 "nbformat": 4,
 "nbformat_minor": 5
}
