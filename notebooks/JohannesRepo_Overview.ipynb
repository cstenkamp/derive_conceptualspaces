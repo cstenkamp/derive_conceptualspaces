{
 "cells": [
  {
   "cell_type": "code",
   "execution_count": null,
   "id": "3e2d789e-ef31-4d2d-a774-c5dad48f0d22",
   "metadata": {},
   "outputs": [],
   "source": [
    "import pandas as pd\n",
    "from os.path import join, isdir, isfile, abspath, dirname, splitext, basename, split\n",
    "from derive_conceptualspace.util.mpl_tools import show_hist\n",
    "\n",
    "BOOK_BASE = \"/home/chris/Documents/UNI_neu/Masterarbeit/study_behavior_analysis/src/\""
   ]
  },
  {
   "cell_type": "markdown",
   "id": "8c738d96-dfb2-4798-b31f-db37a39b678f",
   "metadata": {},
   "source": [
    "## Looking at course data"
   ]
  },
  {
   "cell_type": "code",
   "execution_count": null,
   "id": "8cd17d1f-12de-471f-9a64-30484b12d4de",
   "metadata": {},
   "outputs": [],
   "source": [
    "df = pd.read_csv(join(BOOK_BASE, \"data/course_data/db_dump_new\", \"course_dump_new.csv\"))\n",
    "print(len(df))\n",
    "df.head()"
   ]
  },
  {
   "cell_type": "code",
   "execution_count": null,
   "id": "fa4f5214-e02f-41c3-8854-a4b62b137cb9",
   "metadata": {},
   "outputs": [],
   "source": [
    "df = pd.read_csv(join(BOOK_BASE, \"data/course_data/db_dump_new\", \"eduresource_dump.csv\"))\n",
    "print(len(df))\n",
    "df.head()"
   ]
  },
  {
   "cell_type": "code",
   "execution_count": null,
   "id": "1ef2c066-d991-4589-ab8e-24bee24a9399",
   "metadata": {},
   "outputs": [],
   "source": [
    "df = pd.read_csv(join(BOOK_BASE, \"data/course_data/db_dump_new\", \"institute_dump.csv\"))\n",
    "print(len(df))\n",
    "df.head()"
   ]
  },
  {
   "cell_type": "code",
   "execution_count": null,
   "id": "7c8e8026-82b9-4503-9059-4dcaa99cba80",
   "metadata": {},
   "outputs": [],
   "source": [
    "df = pd.read_csv(join(BOOK_BASE, \"data/course_data/db_dump_new\", \"lecturer_dump.csv\"))\n",
    "print(len(df))\n",
    "df.head()"
   ]
  },
  {
   "cell_type": "markdown",
   "id": "ce07dfd7-9daa-4e3c-8be6-23f30806ee9c",
   "metadata": {},
   "source": [
    "## Looking at book data"
   ]
  },
  {
   "cell_type": "code",
   "execution_count": null,
   "id": "f20ba67c-604c-42c4-89d0-fb28d2881ef8",
   "metadata": {},
   "outputs": [],
   "source": [
    "df = pd.read_csv(join(BOOK_BASE, \"data/SidBERT_data/book_ddc_data\", \"buchtitel_hannover.csv\"))\n",
    "print(len(df))\n",
    "df.head()"
   ]
  },
  {
   "cell_type": "code",
   "execution_count": null,
   "id": "120564f7-9522-44f5-aa9f-d791983e8211",
   "metadata": {},
   "outputs": [],
   "source": [
    "df = pd.read_csv(join(BOOK_BASE, \"data/SidBERT_data/book_ddc_data\", \"crawled_ddcs.csv\"))\n",
    "print(len(df))\n",
    "df.head()"
   ]
  },
  {
   "cell_type": "code",
   "execution_count": null,
   "id": "d6f5c070-1758-4e51-9541-22447d9e7bca",
   "metadata": {},
   "outputs": [],
   "source": [
    "df = df.dropna(subset=[\"Zusammenfassung\"])\n",
    "df[\"unique_title\"] = df[\"Titel\"].str.lower()\n",
    "df = df.drop_duplicates(subset=[\"unique_title\"])\n",
    "df = df.drop(columns=[\"unique_title\"])\n",
    "print(len(df))\n",
    "df.head()"
   ]
  },
  {
   "cell_type": "code",
   "execution_count": null,
   "id": "ae062a1c-a687-4fd0-b24c-caa1a1d60bf6",
   "metadata": {},
   "outputs": [],
   "source": [
    "show_hist([i.count(\" \") for i in df[\"Zusammenfassung\"]], \"Words per Description\", xlabel=\"Number of Words\", cutoff_percentile=97)"
   ]
  },
  {
   "cell_type": "code",
   "execution_count": null,
   "id": "a1fc41ea-e246-4536-8d03-42d14e2edb21",
   "metadata": {},
   "outputs": [],
   "source": [
    "len([1 for i in df[\"Zusammenfassung\"] if i.count(\" \") > 50])"
   ]
  },
  {
   "cell_type": "code",
   "execution_count": null,
   "id": "750fc1b1-d247-4519-8315-f04ec9ab0ea9",
   "metadata": {},
   "outputs": [],
   "source": [
    "df = df[df[\"Zusammenfassung\"].str.count(\" \") > 50]\n",
    "df = df.drop(columns=[\"ISBN\"])\n",
    "df.head()"
   ]
  },
  {
   "cell_type": "code",
   "execution_count": null,
   "id": "167025ed-c3fb-4be4-b6a9-09e612a9ab6f",
   "metadata": {},
   "outputs": [],
   "source": [
    "df.to_csv(join(BOOK_BASE, \"book_dataset.csv\"))"
   ]
  },
  {
   "cell_type": "markdown",
   "id": "7dcc503d-459d-4bd5-8643-03735cd4d986",
   "metadata": {},
   "source": [
    "## Using Johannes' Script"
   ]
  },
  {
   "cell_type": "code",
   "execution_count": null,
   "id": "777bcd0e-3c66-4a6e-b86a-f7913e7eb21b",
   "metadata": {},
   "outputs": [],
   "source": [
    "import sys; sys.path.append(\"/home/chris/Documents/UNI_neu/Masterarbeit/study_behavior_analysis/\")\n",
    "from src.SidBERT.preprocessing.book_ddc_extractor import DDCBookExtractor"
   ]
  },
  {
   "cell_type": "code",
   "execution_count": null,
   "id": "96aad332-b6de-45ea-b119-bd412631d246",
   "metadata": {},
   "outputs": [],
   "source": [
    "extractor = DDCBookExtractor(\"/home/chris/Documents/UNI_neu/Masterarbeit/study_behavior_analysis/src/\")"
   ]
  },
  {
   "cell_type": "code",
   "execution_count": null,
   "id": "e0bc9210-f9ef-4a6e-ace4-1ae9b30423b4",
   "metadata": {},
   "outputs": [],
   "source": [
    "df = extractor.parse_and_collect_raw_data()"
   ]
  },
  {
   "cell_type": "code",
   "execution_count": null,
   "id": "e3e6f0a8-805e-4828-81f2-608dcd4d65d9",
   "metadata": {},
   "outputs": [],
   "source": [
    "df.head()"
   ]
  },
  {
   "cell_type": "code",
   "execution_count": null,
   "id": "2647f3f2-50cf-466e-98db-b2d60fdf44c4",
   "metadata": {},
   "outputs": [],
   "source": [
    "df = df.dropna(subset=[\"Description\"])\n",
    "df = df[df[\"Description\"].str.len() > 100]\n",
    "df = df.set_index(\"index\")\n",
    "df"
   ]
  },
  {
   "cell_type": "code",
   "execution_count": null,
   "id": "b0e1f8a0-f9d8-409d-83ba-6cc35fc7bfac",
   "metadata": {},
   "outputs": [],
   "source": [
    "df[\"unique_title\"] = df[\"Title\"].str.lower()"
   ]
  },
  {
   "cell_type": "code",
   "execution_count": null,
   "id": "bb87f236-8279-46d8-8195-f0e3d6f1cbd4",
   "metadata": {},
   "outputs": [],
   "source": [
    "df[df.duplicated(subset=\"unique_title\", keep=False)].sort_values(\"unique_title\")"
   ]
  },
  {
   "cell_type": "code",
   "execution_count": null,
   "id": "6347219a-1034-4383-9f49-1a1de38260bf",
   "metadata": {},
   "outputs": [],
   "source": [
    "df = df.drop_duplicates(subset=[\"unique_title\"])\n",
    "df = df.drop(columns=[\"unique_title\"])\n",
    "df = df.set_index(\"index\")\n",
    "df"
   ]
  },
  {
   "cell_type": "code",
   "execution_count": null,
   "id": "0ee714d6-e919-4ea5-84a0-8ad1c7e1bb4b",
   "metadata": {},
   "outputs": [],
   "source": [
    "show_hist([i.count(\" \") for i in df[\"Description\"]], \"Words per Description\", xlabel=\"Number of Words\", cutoff_percentile=97)"
   ]
  },
  {
   "cell_type": "code",
   "execution_count": null,
   "id": "374f1728-126f-4aa1-a5cd-6ddf08d91f5a",
   "metadata": {},
   "outputs": [],
   "source": [
    "len([1 for i in df[\"Description\"] if i.count(\" \") > 50])"
   ]
  },
  {
   "cell_type": "code",
   "execution_count": null,
   "id": "2537b7b1-edfb-4a8d-b919-101f09e54a1b",
   "metadata": {},
   "outputs": [],
   "source": [
    "df.to_csv(join(BOOK_BASE, \"book_dataset2.csv\"))"
   ]
  },
  {
   "cell_type": "code",
   "execution_count": null,
   "id": "4ac741e9-dffe-48bc-b96c-4d908b8701ef",
   "metadata": {},
   "outputs": [],
   "source": []
  }
 ],
 "metadata": {
  "kernelspec": {
   "display_name": "Python 3",
   "language": "python",
   "name": "python3"
  },
  "language_info": {
   "codemirror_mode": {
    "name": "ipython",
    "version": 3
   },
   "file_extension": ".py",
   "mimetype": "text/x-python",
   "name": "python",
   "nbconvert_exporter": "python",
   "pygments_lexer": "ipython3",
   "version": "3.8.8"
  }
 },
 "nbformat": 4,
 "nbformat_minor": 5
}
