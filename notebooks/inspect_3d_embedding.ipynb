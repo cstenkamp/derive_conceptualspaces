{
 "cells": [
  {
   "cell_type": "markdown",
   "id": "2dc4d0f0-63cc-4fb0-a3dc-1df434ae9b1f",
   "metadata": {},
   "source": [
    "# Visually checking a 3D-Embedding"
   ]
  },
  {
   "cell_type": "code",
   "execution_count": null,
   "id": "24ffe30d-0fa9-43a8-9d57-2286bfb8eadb",
   "metadata": {},
   "outputs": [],
   "source": [
    "import os\n",
    "from os.path import join, isdir, isfile, abspath, dirname, splitext, basename, split\n",
    "from parse import parse\n",
    "import math\n",
    "import random\n",
    "import itertools\n",
    "\n",
    "from IPython.display import Markdown, display\n",
    "from dotenv import load_dotenv\n",
    "import numpy as np\n",
    "import pandas as pd\n",
    "import matplotlib.pyplot as plt\n",
    "from tqdm.notebook import tqdm\n",
    "import sklearn\n",
    "from sklearn.metrics import confusion_matrix\n",
    "\n",
    "from misc_util.pretty_print import pretty_print as print\n",
    "from derive_conceptualspace.pipeline import CustomContext, SnakeContext, load_envfiles\n",
    "from derive_conceptualspace.settings import ENV_PREFIX, get_setting\n",
    "from derive_conceptualspace import settings\n",
    "from derive_conceptualspace.semantic_directions.create_candidate_svm import display_svm\n",
    "from derive_conceptualspace.create_spaces.create_embedding import show_close_descriptions\n",
    "\n",
    "plt.rcParams['figure.figsize'] = [8, 5]"
   ]
  },
  {
   "cell_type": "code",
   "execution_count": null,
   "id": "b2c9d99a-01ad-4d9f-9e45-6f6069654932",
   "metadata": {},
   "outputs": [],
   "source": [
    "load_envfiles()\n",
    "\n",
    "ctx = SnakeContext.loader_context(config={\"DEBUG\": False, \"EMBED_DIMENSIONS\": 3, \"VERBOSE\": False, \"CLASSIFIER_COMPARETO_RANKING\": \"ppmi\"}, warn_filters=[\"DifferentFileWarning\"])\n",
    "pp_descriptions, dcm, dissim_mat, embedding = ctx.load(\"pp_descriptions\", \"filtered_dcm\", \"dissim_mat\", \"embedding\", loaders=dict(embedding=lambda **kwargs: kwargs[\"embedding\"].embedding_))\n",
    "dcm.show_info(descriptions=pp_descriptions)"
   ]
  },
  {
   "cell_type": "code",
   "execution_count": null,
   "id": "1a80747f-bcfd-447c-9c0d-9f7f06a3a57c",
   "metadata": {},
   "outputs": [],
   "source": [
    "show_close_descriptions(dissim_mat[1], pp_descriptions)\n",
    "#print(ctx.display_output(\"embedding\", ignore_err=True))\n",
    "show_close_descriptions(embedding, pp_descriptions, is_embedding=True, title=f\"Embedding-Distances ({get_setting('DISSIM_MEASURE')})\")"
   ]
  },
  {
   "cell_type": "markdown",
   "id": "0908a591-1b34-4d03-93e2-c1fc495a5b4b",
   "metadata": {},
   "source": [
    "## Calculating if known similar descriptions are close"
   ]
  },
  {
   "cell_type": "code",
   "execution_count": null,
   "id": "7e920007-679e-4dfd-ad5a-cd69ef3f0066",
   "metadata": {},
   "outputs": [],
   "source": [
    "if \"siddata\" in ctx.get_config(\"dataset\"):\n",
    "    CLOSE_DESCRIPTIONS = [\"Informatik A: Algorithmen\", \"Informatik B: Grundlagen der Software-Entwicklung\"]\n",
    "elif ctx.get_config(\"dataset\") == \"placetypes\":\n",
    "    CLOSE_DESCRIPTIONS = [\"airplane cabin\", \"aircraft cabin\"]\n",
    "\n",
    "close_inds = [n for n, i in enumerate(pp_descriptions._descriptions) if i.title in CLOSE_DESCRIPTIONS]\n",
    "close_dist = np.linalg.norm(embedding[close_inds[0]]-embedding[close_inds[1]])\n",
    "random_pairs = random.sample(list(itertools.combinations(random.sample(list(embedding), 1000), 2)), 500)\n",
    "average_dist = np.mean([np.linalg.norm(p1-p2) for p1, p2 in random_pairs])\n",
    "f\"Known close ones: {close_dist:.3f}, Average dist: {average_dist:.3f}\""
   ]
  },
  {
   "cell_type": "markdown",
   "id": "80cbb2f7-21aa-42a2-ba44-4fd6ffcecd9c",
   "metadata": {},
   "source": [
    "## Visually checking if the SVM clusters well and if known similar descriptions are close"
   ]
  },
  {
   "cell_type": "code",
   "execution_count": null,
   "id": "03286cca-32c3-434a-b759-b52bfa80aaac",
   "metadata": {},
   "outputs": [],
   "source": [
    "def create_svm(term, embedding, dcm, descriptions, highlight=None):\n",
    "    quants = dcm.term_quants(term)\n",
    "    bin_labels = np.array(quants, dtype=bool)\n",
    "    svm = sklearn.svm.LinearSVC(class_weight=\"balanced\", loss=\"hinge\", max_iter=8000)\n",
    "    svm.fit(embedding, bin_labels)\n",
    "    svm_results = svm.decision_function(embedding)\n",
    "    tn, fp, fn, tp = confusion_matrix(bin_labels, [i > 0 for i in svm_results]).ravel()\n",
    "    precision = tp / (tp + fp); recall = tp / (tp + fn); accuracy = (tp + tn) / len(quants)\n",
    "    f_one = 2*(precision*recall)/(precision+recall)\n",
    "    display_svm(embedding, np.array(bin_labels, dtype=int), svm, term=term, descriptions=descriptions, name=term+f\" (F1: {f_one:.3f})\", highlight=highlight)"
   ]
  },
  {
   "cell_type": "code",
   "execution_count": null,
   "id": "51c91999-ea0b-4509-ac08-0c9f5d0ceb58",
   "metadata": {},
   "outputs": [],
   "source": [
    "if ctx.get_config(\"dataset\") == \"placetypes\":\n",
    "    create_svm(\"nature\", embedding, dcm, pp_descriptions, highlight=CLOSE_DESCRIPTIONS)\n",
    "elif \"siddata\" in ctx.get_config(\"dataset\"):\n",
    "    create_svm(\"mathematik\", embedding, dcm, pp_descriptions, highlight=CLOSE_DESCRIPTIONS)"
   ]
  },
  {
   "cell_type": "code",
   "execution_count": null,
   "id": "711a6e47-360d-4fb4-8254-3fdf25a1fa49",
   "metadata": {},
   "outputs": [],
   "source": [
    "NUM = 3\n",
    "featureaxes = ctx.load(\"featureaxes\")\n",
    "best = [i[0] for i in sorted([(k, v[\"kappa_digitized_onlypos_1\"]) for k, v in featureaxes[\"metrics\"].items()], key=lambda x:x[1], reverse=True)[:NUM]]\n",
    "best += [i[0] for i in sorted([(k, v[\"f_one\"]) for k, v in featureaxes[\"metrics\"].items()], key=lambda x:x[1], reverse=True)[:NUM]]\n",
    "\n",
    "terms = best + list(dcm.all_terms.values())[:NUM]\n",
    "if ctx.get_config(\"dataset\") == \"placetypes\":\n",
    "    terms += ['nature', 'ceiling', 'engine', 'athlete', 'seafood', 'shadows', 'skyscrapers', 'b737', 'monument', 'baby', 'sign', 'marine', 'iowa', 'field', \n",
    "              'buy', 'military', 'lounge', 'factory', 'road', 'education', '13thcentury', 'people', 'wait', 'travel', 'tunnel', 'treno', 'wings', 'hot', \n",
    "              'background', 'vintage', 'farmhouse', 'technology', 'building', 'horror', 'realestate', 'crane', 'slipway', 'ruin', 'national', 'morze'][:NUM]\n",
    "terms"
   ]
  },
  {
   "cell_type": "code",
   "execution_count": null,
   "id": "3b340bda-b60d-42b8-bac0-29fef8f75743",
   "metadata": {},
   "outputs": [],
   "source": [
    "for term in terms:\n",
    "    create_svm(term, embedding, dcm, pp_descriptions)"
   ]
  }
 ],
 "metadata": {
  "kernelspec": {
   "display_name": "Python 3 (ipykernel)",
   "language": "python",
   "name": "python3"
  },
  "language_info": {
   "codemirror_mode": {
    "name": "ipython",
    "version": 3
   },
   "file_extension": ".py",
   "mimetype": "text/x-python",
   "name": "python",
   "nbconvert_exporter": "python",
   "pygments_lexer": "ipython3",
   "version": "3.10.0"
  }
 },
 "nbformat": 4,
 "nbformat_minor": 5
}
