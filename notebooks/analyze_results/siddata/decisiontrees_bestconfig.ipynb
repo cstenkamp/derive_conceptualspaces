{
 "cells": [
  {
   "cell_type": "code",
   "execution_count": null,
   "id": "49c4bcd7-3c78-4eee-87f7-e43f8decd338",
   "metadata": {},
   "outputs": [],
   "source": [
    "from derive_conceptualspace.evaluate.shallow_trees import classify_shallowtree\n",
    "from derive_conceptualspace.pipeline import SnakeContext, load_envfiles\n",
    "from derive_conceptualspace.util.result_analysis_tools import get_best_conf, highlight_nonzero_max, highlight_max\n",
    "from derive_conceptualspace.cli.args_from_filename import get_filename, print_envvars\n",
    "from misc_util.logutils import setup_logging\n",
    "\n",
    "import warnings\n",
    "warnings.simplefilter(action='ignore', category=FutureWarning)"
   ]
  },
  {
   "cell_type": "markdown",
   "id": "566e8832-1205-4a43-bf99-3540f7634ab2",
   "metadata": {},
   "source": [
    "## Let's first create a quick table of the best configs"
   ]
  },
  {
   "cell_type": "code",
   "execution_count": null,
   "id": "e4e804b2-60e4-4915-89e8-9d06276d6a0f",
   "metadata": {},
   "outputs": [],
   "source": [
    "import pandas as pd\n",
    "import numpy as np\n",
    "import pyperclip\n",
    "from derive_conceptualspace.util.result_analysis_tools import df_to_latex, shorten_met\n",
    "from derive_conceptualspace.util.desc_object import DescriptionList\n",
    "from derive_conceptualspace.pipeline import cluster_loader\n",
    "from joblib import parallel_backend\n",
    "import matplotlib.pyplot as plt\n",
    "from matplotlib.backends.backend_pdf import PdfPages\n",
    "from IPython.display import Markdown\n",
    "flatten = lambda l: [item for sublist in l for item in sublist] "
   ]
  },
  {
   "cell_type": "code",
   "execution_count": null,
   "id": "9a280efe-7d9e-4c79-b16d-d33add8ba04b",
   "metadata": {},
   "outputs": [],
   "source": [
    "setup_logging()\n",
    "load_envfiles(\"siddata\")"
   ]
  },
  {
   "cell_type": "code",
   "execution_count": null,
   "id": "5788b996-9708-4f3c-952b-f2ec5019336c",
   "metadata": {},
   "outputs": [],
   "source": [
    "conf_results = get_best_conf(\"fachbereich\", verbose=False, balance_classes=True, \n",
    "                             one_vs_rest=True, dt_depth=1, test_percentage_crossval=0.3, return_all=True, nprocs=5)"
   ]
  },
  {
   "cell_type": "code",
   "execution_count": null,
   "id": "8550c797-72a0-4f56-a720-4ab22c5aa4df",
   "metadata": {},
   "outputs": [],
   "source": [
    "styles = [{'selector': 'th', 'props': [('vertical-align','top'),('text-align','left')]}]  #('border-style', 'solid')\n",
    "styler = lambda df: df.style.format('{:.2%}'.format, na_rep=\"-\").format_index(precision=1,axis=1).set_table_styles(styles) #{\"amax\": '{:.0%}'.format, \"mean\": '{:.2%}'.format}\n",
    "pd.set_option(\"display.precision\", 4)\n",
    "\n",
    "df = conf_results.T.unstack(level=[\"classifier_succmetric\", \"embed_dimensions\", \"sec_lambda\"])\n",
    "df.index = pd.MultiIndex.from_arrays(list(zip(*[[shorten_met(j) for j in i] for i in df.index])), names=df.index.names)\n",
    "df.columns = pd.MultiIndex.from_arrays(list(zip(*[[shorten_met(j) for j in i] for i in df.columns])), names=df.columns.names)\n",
    "\n",
    "display(styler(df).apply(highlight_max, axis=None))\n",
    "\n",
    "pyperclip.copy(df_to_latex(df, styler, rotate=False, caption=\"Decision-Tree-Accuracies for different Parameter-Combinations\"))"
   ]
  },
  {
   "cell_type": "code",
   "execution_count": null,
   "id": "8212445d-b690-4491-b04c-f5104bf93c14",
   "metadata": {
    "jupyter": {
     "outputs_hidden": true,
     "source_hidden": true
    },
    "tags": []
   },
   "outputs": [],
   "source": [
    "print(df_to_latex(df, styler, rotate=False, caption=\"Decision-Tree-Accuracies for different Parameter-Combinations\"))"
   ]
  },
  {
   "cell_type": "markdown",
   "id": "4bef3133-d1e8-49d6-a6cb-3de24f081a18",
   "metadata": {},
   "source": [
    "## Next: Robust accuracies for different depths"
   ]
  },
  {
   "cell_type": "code",
   "execution_count": null,
   "id": "023eb7da-3f84-4223-a091-c42a55662ccd",
   "metadata": {
    "tags": []
   },
   "outputs": [],
   "source": [
    "# best_conf = {k: str(v) for k, v in dict(zip(conf_results.columns.names, conf_results.T.idxmax()[0])).items()}\n",
    "best_conf = {'pp_components': 'mfauhcsd2', 'quantification_measure': 'tfidf', 'embed_dimensions': '200', 'dcm_quant_measure': 'count', 'classifier_succmetric': 'kappa_digitized_onlypos_2', 'sec_lambda': '0.2'}\n",
    "print(\"Best conf:\", best_conf)\n",
    "\n",
    "ctx = SnakeContext.loader_context(config={**best_conf, \"debug\": False}, silent=True)\n",
    "ctx.print_important_settings()\n",
    "descriptions, clusters, embedding = ctx.load(\"pp_descriptions\", \"clusters\", \"embedding\", \n",
    "                  loaders=dict(pp_descriptions=DescriptionList.from_json, clusters=cluster_loader, embedding=lambda **args: args[\"embedding\"].embedding_))"
   ]
  },
  {
   "cell_type": "code",
   "execution_count": null,
   "id": "b125d994-3dc9-411c-8fcb-0ca3550cf1ad",
   "metadata": {},
   "outputs": [],
   "source": [
    "metrics = [\"accuracy\", \"f1\"]\n",
    "all_scores = {}\n",
    "for depth in [1, 2, 3, None]:\n",
    "    with parallel_backend('threading', n_jobs=7):\n",
    "        scores, clsizes = classify_shallowtree(clusters, embedding, descriptions, ctx.obj[\"dataset_class\"], one_vs_rest=True,\n",
    "                                               classes=\"fachbereich\", dt_depth=depth, test_percentage_crossval=5, metric=metrics, repeat=10, pgbar=True)\n",
    "        scores = dict(sorted(scores.items(), key=lambda x: list(ctx.obj[\"dataset_class\"].FB_MAPPER.values()).index(x[0])))\n",
    "    for m in metrics:\n",
    "        all_scores.setdefault(depth, {})[m] = {k: np.array(flatten([i[f\"test_{m}\"] for i in v])) for k, v in scores.items()}"
   ]
  },
  {
   "cell_type": "code",
   "execution_count": null,
   "id": "8813793b-eed7-4f2b-ba9a-3444b7a9c386",
   "metadata": {},
   "outputs": [],
   "source": [
    "res = pd.DataFrame(all_scores[1][\"accuracy\"])\n",
    "fig, ax = plt.subplots(figsize = [8, 5])\n",
    "res.boxplot(ax=ax, vert=False, fontsize=14, patch_artist=True, medianprops=dict(color=\"red\", linewidth=1.5), whiskerprops = dict(linestyle='-',linewidth=2.0), capprops=dict(linewidth=2.0));\n",
    "\n",
    "with PdfPages(\"/home/chris/Documents/UNI_neu/Masterarbeit/MastersThesisText/graphics/dataset_new/accuracy_boxplots.pdf\") as pdf:\n",
    "    plt.show()\n",
    "    pdf.savefig(fig, bbox_inches='tight')"
   ]
  },
  {
   "cell_type": "code",
   "execution_count": null,
   "id": "46c441c6-b298-40d3-89c3-615f1ec51445",
   "metadata": {},
   "outputs": [],
   "source": [
    "res = pd.concat([pd.DataFrame(pd.DataFrame(all_scores[depth][metric]).unstack(), columns=pd.MultiIndex.from_product([[depth], [metric]], names=[\"depth\",\"metric\"])).T for depth, v in all_scores.items() for metric, v2 in v.items()])\n",
    "res"
   ]
  },
  {
   "cell_type": "code",
   "execution_count": null,
   "id": "29b21dff-0590-433d-99ff-bcc86cdf70e4",
   "metadata": {},
   "outputs": [],
   "source": [
    "import seaborn as sns\n",
    "# r2 = res.stack(level=0).reset_index().rename(columns={\"level_2\": \"faculty\"})\n",
    "r2 = res.unstack(level=[0,1]).reset_index(level=1, drop=True).reset_index(name='data').rename(columns={\"level_0\": \"faculty\"})\n",
    "r2[\"depth\"] = r2[\"depth\"].fillna(\"any\")\n",
    "\n",
    "for metric in r2[\"metric\"].unique():\n",
    "    fig, ax = plt.subplots(figsize = [16, 10])\n",
    "    display(Markdown(f\"### {metric}\"))\n",
    "    ax = sns.boxplot(x='depth', y='data', hue=\"faculty\", data=r2[r2[\"metric\"] == metric], palette=\"Set3\", ax=ax)\n",
    "    plt.show()"
   ]
  },
  {
   "cell_type": "code",
   "execution_count": null,
   "id": "66fa30be-6343-4015-a55a-9be0a3a34454",
   "metadata": {
    "tags": []
   },
   "outputs": [],
   "source": [
    "styles = [{'selector': 'th', 'props': [('vertical-align','top'),('text-align','left')]}] #('border-style', 'solid')  #see https://stackoverflow.com/a/55904239/5122790\n",
    "styler = lambda df: df.style.format('{:.3f}'.format, na_rep=\"-\").set_table_styles(styles)\n",
    "\n",
    "summarized = {}\n",
    "for depth, v in all_scores.items():\n",
    "    for metric, scores in v.items():\n",
    "        scores_df = pd.concat([pd.DataFrame(scores).agg((min, np.mean, max, np.std), axis=\"rows\"), pd.DataFrame(clsizes, index=[\"samples\"])])\n",
    "        scores_df[\"unweighted_mean\"] = scores_df.loc[[\"min\", \"mean\", \"max\", \"std\"]].mean(axis=1)\n",
    "        scores_df[\"weighted_mean\"] = (scores_df.loc[[\"min\", \"mean\", \"max\", \"std\"]] * scores_df.loc[\"samples\"] / scores_df.loc[\"samples\"].sum()).sum(axis=1)\n",
    "        scores_df.loc[\"samples\", [\"unweighted_mean\", \"weighted_mean\"]] = scores_df.loc[\"samples\"].sum()\n",
    "#         display(Markdown(f\"### depth {depth}, metric {metric}\"))\n",
    "#         display(styler(scores_df.T))\n",
    "        summarized[(depth, metric)] = scores_df.loc[[\"mean\", \"std\"], :]"
   ]
  },
  {
   "cell_type": "code",
   "execution_count": null,
   "id": "5e2ed027-97d4-4aff-aa76-5b043da371c5",
   "metadata": {},
   "outputs": [],
   "source": [
    "summarized_all = pd.DataFrame({smkey: {i[0]: f\"{i[1]['mean']:.3f} ± {i[1]['std']:.3f}\" for i in sm.T.iterrows()} for smkey, sm in summarized.items()})\n",
    "# display(summarized_all)\n",
    "style = [{'selector': 'th', 'props': [('text-align','center')]}]\n",
    "\n",
    "for metric in [\"accuracy\", \"f1\"]:\n",
    "    display(Markdown(f\"## {metric}\"))\n",
    "    df = summarized_all.T.xs(metric, level=1).T\n",
    "    df.columns = [int(i) if isinstance(i,float) else i for i in df.columns.fillna(\"any\")]\n",
    "    pyperclip.copy(df.style.set_table_styles(style).to_latex(convert_css=True, clines=\"skip-last;index\", multirow_align=\"t\", hrules=True, siunitx=False))\n",
    "    display(df)"
   ]
  },
  {
   "cell_type": "markdown",
   "id": "2764829e-69b4-46a2-9b5a-62470ca270b9",
   "metadata": {},
   "source": [
    "## What about not 1-vs-rest?"
   ]
  },
  {
   "cell_type": "code",
   "execution_count": null,
   "id": "7317b755-2bfc-4cf3-89b4-475ed6dc33e7",
   "metadata": {},
   "outputs": [],
   "source": [
    "metrics = [\"accuracy\", \"f1_macro\"]\n",
    "new_scores = {}\n",
    "for depth in [1, 2, 3, None]:\n",
    "    with parallel_backend('threading', n_jobs=7):\n",
    "        scores, clsizes = classify_shallowtree(clusters, embedding, descriptions, ctx.obj[\"dataset_class\"], one_vs_rest=False,\n",
    "                                               classes=\"fachbereich\", dt_depth=depth, test_percentage_crossval=5, metric=metrics, repeat=10, pgbar=True)\n",
    "    for m in metrics:\n",
    "        new_scores.setdefault(depth, {})[m] = np.array(flatten([i[f\"test_{m}\"] for i in scores]))"
   ]
  },
  {
   "cell_type": "code",
   "execution_count": null,
   "id": "7f53dc76-5b35-4d17-a05a-7cdf77ff0d54",
   "metadata": {},
   "outputs": [],
   "source": [
    "df = pd.concat([pd.DataFrame(pd.DataFrame(new_scores[depth][metric]).unstack(), columns=pd.MultiIndex.from_product([[depth], [metric]], names=[\"depth\",\"metric\"])).T for depth, v in new_scores.items() for metric, v2 in v.items()])\n",
    "df.index = pd.MultiIndex.from_tuples([(1, 'Accuracy'), (1, 'F1'), (2, 'Accuracy'), (2, 'F1'), (3, 'Accuracy'), (3, 'F1'), (\"any\", 'Accuracy'), (\"any\", 'F1')], names=['depth', 'metric'])\n",
    "df = pd.DataFrame({i[0] if not pd.isna(i[0]) else \"any\": f\"{i[1].mean():.3f} ± {i[1].std():.3f}\" for i in df.iterrows()}, index=[\"\"]).stack()\n",
    "pyperclip.copy(df.style.to_latex(convert_css=True, multirow_align=\"t\", hrules=True, siunitx=False))\n",
    "df"
   ]
  },
  {
   "cell_type": "markdown",
   "id": "0d71e6b0-f3cb-4a01-9efa-6f88edaf418b",
   "metadata": {},
   "source": [
    "## Ok, now, Decision-Tree for best config"
   ]
  },
  {
   "cell_type": "code",
   "execution_count": null,
   "id": "8bfcd9c5-0b02-4797-af87-2f6c7153ea2d",
   "metadata": {},
   "outputs": [],
   "source": [
    "conf, perf = get_best_conf(\"fachbereich\", verbose=True, balance_classes=True, one_vs_rest=True, dt_depth=1, test_percentage_crossval=0.33)"
   ]
  },
  {
   "cell_type": "code",
   "execution_count": null,
   "id": "f476fcf3-e378-4458-b417-8810ffcfa43f",
   "metadata": {},
   "outputs": [],
   "source": [
    "print_envvars(get_filename(conf, get_dependencies=False, doprint=False))"
   ]
  },
  {
   "cell_type": "code",
   "execution_count": null,
   "id": "741276b1-44a9-454a-a299-ea562840ddd1",
   "metadata": {},
   "outputs": [],
   "source": [
    "ctx = SnakeContext.loader_context(config=conf, silent=True, warn_filters=[\"DifferentFileWarning\"])\n",
    "ctx.print_important_settings()\n",
    "cluster_reprs, clusters, embedding, descriptions = ctx.load(\"cluster_reprs\", \"clusters\", \"embedding\", \"pp_descriptions\")"
   ]
  },
  {
   "cell_type": "markdown",
   "id": "d98459b7-3ca1-4503-96e6-6037f9757b46",
   "metadata": {},
   "source": [
    "# Classifying Fachbereich"
   ]
  },
  {
   "cell_type": "markdown",
   "id": "c6d26d73-a4a1-4015-9baf-3e38dc8b9f22",
   "metadata": {},
   "source": [
    "### Sample one (best 05.03.2022)"
   ]
  },
  {
   "cell_type": "code",
   "execution_count": null,
   "id": "b18a6e35-70a5-465e-a2a2-6f19c652cfb3",
   "metadata": {},
   "outputs": [],
   "source": [
    "from derive_conceptualspace.util.result_analysis_tools import getfiles_allconfigs\n",
    "confs, print_conf = getfiles_allconfigs(\"clusters\", dataset=\"siddata2022\", verbose=False)\n",
    "\n",
    "# best_conf = {'pp_components': 'mfauhcsd2', 'quantification_measure': 'tfidf', 'embed_dimensions': '200', 'dcm_quant_measure': 'count', 'classifier_succmetric': 'kappa_digitized_onlypos_2', 'sec_lambda': '0.2'}\n",
    "best_conf = {**confs[0], **best_conf, \"debug\": False}\n",
    "print(best_conf)\n",
    "print()\n",
    "print_envvars(get_filename({**best_conf, \"debug\": False}, get_dependencies=False, doprint=False))"
   ]
  },
  {
   "cell_type": "code",
   "execution_count": null,
   "id": "1cf65144-0a57-442d-9bd4-840370e26041",
   "metadata": {},
   "outputs": [],
   "source": [
    "ctx = SnakeContext.loader_context(config=best_conf, silent=True)\n",
    "ctx.print_important_settings()\n",
    "descriptions, clusters, embedding, cluster_reprs = ctx.load(\"pp_descriptions\", \"clusters\", \"embedding\", \"cluster_reprs\",\n",
    "                  loaders=dict(pp_descriptions=DescriptionList.from_json, clusters=cluster_loader, embedding=lambda **args: args[\"embedding\"].embedding_))"
   ]
  },
  {
   "cell_type": "code",
   "execution_count": null,
   "id": "1ac7f522-fb9d-4991-96ff-e79c3fc0ec52",
   "metadata": {
    "tags": []
   },
   "outputs": [],
   "source": [
    "clfs = classify_shallowtree(clusters, embedding, descriptions, ctx.obj[\"dataset_class\"], one_vs_rest=True, dt_depth=1, test_percentage_crossval=0.33,\n",
    "                       classes=\"fachbereich\", cluster_reprs=cluster_reprs, verbose=False, return_features=True, balance_classes=True, do_plot=True)[0]"
   ]
  },
  {
   "cell_type": "markdown",
   "id": "19f935db-b848-4deb-99cf-5872d3c42da8",
   "metadata": {},
   "source": [
    "### Sample two (best before 05.03.2022, keep me!)"
   ]
  },
  {
   "cell_type": "code",
   "execution_count": null,
   "id": "d7661009-d4ea-47a5-80c7-21ffddc5fa39",
   "metadata": {
    "tags": [
     "keep_output"
    ]
   },
   "outputs": [
    {
     "data": {
      "text/markdown": [
       "<span style=\"font-size:11pt\">Using classes from fachbereich - 7319/11942 entities have a class</span>"
      ],
      "text/plain": [
       "<IPython.core.display.Markdown object>"
      ]
     },
     "metadata": {},
     "output_type": "display_data"
    },
    {
     "data": {
      "text/markdown": [
       "<span style=\"font-size:11pt\">Labels (10 classes): <span style=\"color: #0000ff\">Sprach-/Literaturwissenschaften</span>: 1723, <span style=\"color: #0000ff\">Erziehungs-/Kulturwissenschaften</span>: 2090, <span style=\"color: #0000ff\">Kultur-/Geowissenschaften</span>: 1457, <span style=\"color: #0000ff\">Sozialwissenschaften</span>: 707, <span style=\"color: #0000ff\">Rechtswissenschaften</span>: 350, <span style=\"color: #0000ff\">Humanwissenschaften</span>: 376, <span style=\"color: #0000ff\">Biologie/Chemie</span>: 167, <span style=\"color: #0000ff\">Mathematik/Informatik</span>: 197, <span style=\"color: #0000ff\">Physik</span>: 147, <span style=\"color: #0000ff\">Wirtschaftswissenschaften</span>: 105</span>"
      ],
      "text/plain": [
       "<IPython.core.display.Markdown object>"
      ]
     },
     "metadata": {},
     "output_type": "display_data"
    },
    {
     "data": {
      "text/markdown": [
       "<span style=\"font-size:11pt\">Eval-Settings: type: <span style=\"color: #0000ff\">one-vs-rest</span>, DT-Depth: <span style=\"color: #0000ff\">1</span>, train-test-split:<span style=\"color: #0000ff\"> 33.0% in test-set </span></span>"
      ],
      "text/plain": [
       "<IPython.core.display.Markdown object>"
      ]
     },
     "metadata": {},
     "output_type": "display_data"
    },
    {
     "name": "stderr",
     "output_type": "stream",
     "text": [
      "Warning: node 0 in graph[1] Tree already defined\n",
      "Some nodes will be renamed.\n",
      "Warning: node 0 in graph[1] Tree already defined\n",
      "Some nodes will be renamed.\n",
      "Warning: node 0 in graph[1] Tree already defined\n",
      "Some nodes will be renamed.\n",
      "Warning: node 0 in graph[1] Tree already defined\n",
      "Some nodes will be renamed.\n",
      "Warning: node 0 in graph[1] Tree already defined\n",
      "Some nodes will be renamed.\n"
     ]
    },
    {
     "data": {
      "image/svg+xml": [
       "<?xml version=\"1.0\" encoding=\"UTF-8\" standalone=\"no\"?>\n",
       "<!DOCTYPE svg PUBLIC \"-//W3C//DTD SVG 1.1//EN\"\n",
       " \"http://www.w3.org/Graphics/SVG/1.1/DTD/svg11.dtd\">\n",
       "<!-- Generated by graphviz version 2.43.0 (0)\n",
       " -->\n",
       "<!-- Title: root Pages: 1 -->\n",
       "<svg width=\"914pt\" height=\"177pt\"\n",
       " viewBox=\"0.00 0.00 913.50 177.00\" xmlns=\"http://www.w3.org/2000/svg\" xmlns:xlink=\"http://www.w3.org/1999/xlink\">\n",
       "<g id=\"graph0\" class=\"graph\" transform=\"scale(1 1) rotate(0) translate(4 173)\">\n",
       "<title>root</title>\n",
       "<polygon fill=\"white\" stroke=\"transparent\" points=\"-4,4 -4,-173 909.5,-173 909.5,4 -4,4\"/>\n",
       "<!-- 0 -->\n",
       "<g id=\"node1\" class=\"node\">\n",
       "<title>0</title>\n",
       "<path fill=\"#ffffff\" stroke=\"black\" d=\"M346.5,-169C346.5,-169 95.5,-169 95.5,-169 89.5,-169 83.5,-163 83.5,-157 83.5,-157 83.5,-106 83.5,-106 83.5,-100 89.5,-94 95.5,-94 95.5,-94 346.5,-94 346.5,-94 352.5,-94 358.5,-100 358.5,-106 358.5,-106 358.5,-157 358.5,-157 358.5,-163 352.5,-169 346.5,-169\"/>\n",
       "<text text-anchor=\"start\" x=\"158\" y=\"-150.3\" font-family=\"Helvetica,sans-Serif\" font-size=\"14.00\">padagogisch ≤ 0.546</text>\n",
       "<text text-anchor=\"start\" x=\"172.5\" y=\"-135.3\" font-family=\"Helvetica,sans-Serif\" font-size=\"14.00\">samples = 4903</text>\n",
       "<text text-anchor=\"start\" x=\"148\" y=\"-120.3\" font-family=\"Helvetica,sans-Serif\" font-size=\"14.00\">value = [2451.5, 2451.5]</text>\n",
       "<text text-anchor=\"start\" x=\"96\" y=\"-105.3\" font-family=\"Helvetica,sans-Serif\" font-size=\"14.00\">class = Erziehungs&#45;/Kulturwissenschaften</text>\n",
       "</g>\n",
       "<!-- 1 -->\n",
       "<g id=\"node2\" class=\"node\">\n",
       "<title>1</title>\n",
       "<path fill=\"#efaf81\" stroke=\"black\" d=\"M178,-58C178,-58 12,-58 12,-58 6,-58 0,-52 0,-46 0,-46 0,-12 0,-12 0,-6 6,0 12,0 12,0 178,0 178,0 184,0 190,-6 190,-12 190,-12 190,-46 190,-46 190,-52 184,-58 178,-58\"/>\n",
       "<text text-anchor=\"start\" x=\"46.5\" y=\"-40.3\" font-family=\"Helvetica,sans-Serif\" font-size=\"14.00\">samples = 2665</text>\n",
       "<text text-anchor=\"start\" x=\"10.5\" y=\"-25.3\" font-family=\"Helvetica,sans-Serif\" font-size=\"14.00\">value = [1621.355, 592.846]</text>\n",
       "<text text-anchor=\"start\" x=\"56\" y=\"-10.3\" font-family=\"Helvetica,sans-Serif\" font-size=\"14.00\">class = other</text>\n",
       "</g>\n",
       "<!-- 0&#45;&gt;1 -->\n",
       "<g id=\"edge1\" class=\"edge\">\n",
       "<title>0&#45;&gt;1</title>\n",
       "<path fill=\"none\" stroke=\"black\" d=\"M175.15,-93.93C163.15,-84.36 150.24,-74.06 138.37,-64.59\"/>\n",
       "<polygon fill=\"black\" stroke=\"black\" points=\"140.34,-61.69 130.34,-58.19 135.98,-67.16 140.34,-61.69\"/>\n",
       "<text text-anchor=\"middle\" x=\"133.14\" y=\"-79.33\" font-family=\"Helvetica,sans-Serif\" font-size=\"14.00\">True</text>\n",
       "</g>\n",
       "<!-- 2 -->\n",
       "<g id=\"node3\" class=\"node\">\n",
       "<title>2</title>\n",
       "<path fill=\"#91c9f1\" stroke=\"black\" d=\"M471.5,-58C471.5,-58 220.5,-58 220.5,-58 214.5,-58 208.5,-52 208.5,-46 208.5,-46 208.5,-12 208.5,-12 208.5,-6 214.5,0 220.5,0 220.5,0 471.5,0 471.5,0 477.5,0 483.5,-6 483.5,-12 483.5,-12 483.5,-46 483.5,-46 483.5,-52 477.5,-58 471.5,-58\"/>\n",
       "<text text-anchor=\"start\" x=\"297.5\" y=\"-40.3\" font-family=\"Helvetica,sans-Serif\" font-size=\"14.00\">samples = 2238</text>\n",
       "<text text-anchor=\"start\" x=\"261.5\" y=\"-25.3\" font-family=\"Helvetica,sans-Serif\" font-size=\"14.00\">value = [830.145, 1858.654]</text>\n",
       "<text text-anchor=\"start\" x=\"221\" y=\"-10.3\" font-family=\"Helvetica,sans-Serif\" font-size=\"14.00\">class = Erziehungs&#45;/Kulturwissenschaften</text>\n",
       "</g>\n",
       "<!-- 0&#45;&gt;2 -->\n",
       "<g id=\"edge2\" class=\"edge\">\n",
       "<title>0&#45;&gt;2</title>\n",
       "<path fill=\"none\" stroke=\"black\" d=\"M266.48,-93.93C278.39,-84.36 291.2,-74.06 302.97,-64.59\"/>\n",
       "<polygon fill=\"black\" stroke=\"black\" points=\"305.34,-67.18 310.94,-58.19 300.95,-61.73 305.34,-67.18\"/>\n",
       "<text text-anchor=\"middle\" x=\"308.24\" y=\"-79.34\" font-family=\"Helvetica,sans-Serif\" font-size=\"14.00\">False</text>\n",
       "</g>\n",
       "<!-- 0_gv1 -->\n",
       "<g id=\"node4\" class=\"node\">\n",
       "<title>0_gv1</title>\n",
       "<path fill=\"#ffffff\" stroke=\"black\" d=\"M769.5,-169C769.5,-169 626.5,-169 626.5,-169 620.5,-169 614.5,-163 614.5,-157 614.5,-157 614.5,-106 614.5,-106 614.5,-100 620.5,-94 626.5,-94 626.5,-94 769.5,-94 769.5,-94 775.5,-94 781.5,-100 781.5,-106 781.5,-106 781.5,-157 781.5,-157 781.5,-163 775.5,-169 769.5,-169\"/>\n",
       "<text text-anchor=\"start\" x=\"658.5\" y=\"-150.3\" font-family=\"Helvetica,sans-Serif\" font-size=\"14.00\">recht ≤ 0.911</text>\n",
       "<text text-anchor=\"start\" x=\"649.5\" y=\"-135.3\" font-family=\"Helvetica,sans-Serif\" font-size=\"14.00\">samples = 4903</text>\n",
       "<text text-anchor=\"start\" x=\"625\" y=\"-120.3\" font-family=\"Helvetica,sans-Serif\" font-size=\"14.00\">value = [2451.5, 2451.5]</text>\n",
       "<text text-anchor=\"start\" x=\"659\" y=\"-105.3\" font-family=\"Helvetica,sans-Serif\" font-size=\"14.00\">class = other</text>\n",
       "</g>\n",
       "<!-- 1_gv1 -->\n",
       "<g id=\"node5\" class=\"node\">\n",
       "<title>1_gv1</title>\n",
       "<path fill=\"#e88d4c\" stroke=\"black\" d=\"M672,-58C672,-58 514,-58 514,-58 508,-58 502,-52 502,-46 502,-46 502,-12 502,-12 502,-6 508,0 514,0 514,0 672,0 672,0 678,0 684,-6 684,-12 684,-12 684,-46 684,-46 684,-52 678,-58 672,-58\"/>\n",
       "<text text-anchor=\"start\" x=\"544.5\" y=\"-40.3\" font-family=\"Helvetica,sans-Serif\" font-size=\"14.00\">samples = 4462</text>\n",
       "<text text-anchor=\"start\" x=\"512.5\" y=\"-25.3\" font-family=\"Helvetica,sans-Serif\" font-size=\"14.00\">value = [2332.261, 228.53]</text>\n",
       "<text text-anchor=\"start\" x=\"554\" y=\"-10.3\" font-family=\"Helvetica,sans-Serif\" font-size=\"14.00\">class = other</text>\n",
       "</g>\n",
       "<!-- 0_gv1&#45;&gt;1_gv1 -->\n",
       "<g id=\"edge3\" class=\"edge\">\n",
       "<title>0_gv1&#45;&gt;1_gv1</title>\n",
       "<path fill=\"none\" stroke=\"black\" d=\"M659.8,-93.93C649.98,-84.54 639.45,-74.46 629.71,-65.14\"/>\n",
       "<polygon fill=\"black\" stroke=\"black\" points=\"632.09,-62.57 622.45,-58.19 627.25,-67.63 632.09,-62.57\"/>\n",
       "<text text-anchor=\"middle\" x=\"623\" y=\"-79.48\" font-family=\"Helvetica,sans-Serif\" font-size=\"14.00\">True</text>\n",
       "</g>\n",
       "<!-- 2_gv1 -->\n",
       "<g id=\"node6\" class=\"node\">\n",
       "<title>2_gv1</title>\n",
       "<path fill=\"#44a2e6\" stroke=\"black\" d=\"M893.5,-58C893.5,-58 714.5,-58 714.5,-58 708.5,-58 702.5,-52 702.5,-46 702.5,-46 702.5,-12 702.5,-12 702.5,-6 708.5,0 714.5,0 714.5,0 893.5,0 893.5,0 899.5,0 905.5,-6 905.5,-12 905.5,-12 905.5,-46 905.5,-46 905.5,-52 899.5,-58 893.5,-58\"/>\n",
       "<text text-anchor=\"start\" x=\"759\" y=\"-40.3\" font-family=\"Helvetica,sans-Serif\" font-size=\"14.00\">samples = 441</text>\n",
       "<text text-anchor=\"start\" x=\"723.5\" y=\"-25.3\" font-family=\"Helvetica,sans-Serif\" font-size=\"14.00\">value = [119.239, 2222.97]</text>\n",
       "<text text-anchor=\"start\" x=\"713.5\" y=\"-10.3\" font-family=\"Helvetica,sans-Serif\" font-size=\"14.00\">class = Rechtswissenschaften</text>\n",
       "</g>\n",
       "<!-- 0_gv1&#45;&gt;2_gv1 -->\n",
       "<g id=\"edge4\" class=\"edge\">\n",
       "<title>0_gv1&#45;&gt;2_gv1</title>\n",
       "<path fill=\"none\" stroke=\"black\" d=\"M736.57,-93.93C746.47,-84.54 757.11,-74.46 766.94,-65.14\"/>\n",
       "<polygon fill=\"black\" stroke=\"black\" points=\"769.42,-67.61 774.27,-58.19 764.6,-62.53 769.42,-67.61\"/>\n",
       "<text text-anchor=\"middle\" x=\"773.6\" y=\"-79.48\" font-family=\"Helvetica,sans-Serif\" font-size=\"14.00\">False</text>\n",
       "</g>\n",
       "</g>\n",
       "</svg>\n"
      ],
      "text/plain": [
       "<graphviz.sources.Source at 0x7f189c6903d0>"
      ]
     },
     "metadata": {},
     "output_type": "display_data"
    },
    {
     "data": {
      "text/markdown": [
       "<span style=\"font-size:11pt\"><br><br></span>"
      ],
      "text/plain": [
       "<IPython.core.display.Markdown object>"
      ]
     },
     "metadata": {},
     "output_type": "display_data"
    },
    {
     "data": {
      "image/svg+xml": [
       "<?xml version=\"1.0\" encoding=\"UTF-8\" standalone=\"no\"?>\n",
       "<!DOCTYPE svg PUBLIC \"-//W3C//DTD SVG 1.1//EN\"\n",
       " \"http://www.w3.org/Graphics/SVG/1.1/DTD/svg11.dtd\">\n",
       "<!-- Generated by graphviz version 2.43.0 (0)\n",
       " -->\n",
       "<!-- Title: root Pages: 1 -->\n",
       "<svg width=\"904pt\" height=\"177pt\"\n",
       " viewBox=\"0.00 0.00 903.50 177.00\" xmlns=\"http://www.w3.org/2000/svg\" xmlns:xlink=\"http://www.w3.org/1999/xlink\">\n",
       "<g id=\"graph0\" class=\"graph\" transform=\"scale(1 1) rotate(0) translate(4 173)\">\n",
       "<title>root</title>\n",
       "<polygon fill=\"white\" stroke=\"transparent\" points=\"-4,4 -4,-173 899.5,-173 899.5,4 -4,4\"/>\n",
       "<!-- 0 -->\n",
       "<g id=\"node1\" class=\"node\">\n",
       "<title>0</title>\n",
       "<path fill=\"#ffffff\" stroke=\"black\" d=\"M311.5,-169C311.5,-169 106.5,-169 106.5,-169 100.5,-169 94.5,-163 94.5,-157 94.5,-157 94.5,-106 94.5,-106 94.5,-100 100.5,-94 106.5,-94 106.5,-94 311.5,-94 311.5,-94 317.5,-94 323.5,-100 323.5,-106 323.5,-106 323.5,-157 323.5,-157 323.5,-163 317.5,-169 311.5,-169\"/>\n",
       "<text text-anchor=\"start\" x=\"144\" y=\"-150.3\" font-family=\"Helvetica,sans-Serif\" font-size=\"14.00\">management ≤ 0.879</text>\n",
       "<text text-anchor=\"start\" x=\"160.5\" y=\"-135.3\" font-family=\"Helvetica,sans-Serif\" font-size=\"14.00\">samples = 4903</text>\n",
       "<text text-anchor=\"start\" x=\"136\" y=\"-120.3\" font-family=\"Helvetica,sans-Serif\" font-size=\"14.00\">value = [2451.5, 2451.5]</text>\n",
       "<text text-anchor=\"start\" x=\"105.5\" y=\"-105.3\" font-family=\"Helvetica,sans-Serif\" font-size=\"14.00\">class = Wirtschaftswissenschaften</text>\n",
       "</g>\n",
       "<!-- 1 -->\n",
       "<g id=\"node2\" class=\"node\">\n",
       "<title>1</title>\n",
       "<path fill=\"#eeaf81\" stroke=\"black\" d=\"M178,-58C178,-58 12,-58 12,-58 6,-58 0,-52 0,-46 0,-46 0,-12 0,-12 0,-6 6,0 12,0 12,0 178,0 178,0 184,0 190,-6 190,-12 190,-12 190,-46 190,-46 190,-52 184,-58 178,-58\"/>\n",
       "<text text-anchor=\"start\" x=\"46.5\" y=\"-40.3\" font-family=\"Helvetica,sans-Serif\" font-size=\"14.00\">samples = 4338</text>\n",
       "<text text-anchor=\"start\" x=\"10.5\" y=\"-25.3\" font-family=\"Helvetica,sans-Serif\" font-size=\"14.00\">value = [2190.907, 795.942]</text>\n",
       "<text text-anchor=\"start\" x=\"56\" y=\"-10.3\" font-family=\"Helvetica,sans-Serif\" font-size=\"14.00\">class = other</text>\n",
       "</g>\n",
       "<!-- 0&#45;&gt;1 -->\n",
       "<g id=\"edge1\" class=\"edge\">\n",
       "<title>0&#45;&gt;1</title>\n",
       "<path fill=\"none\" stroke=\"black\" d=\"M167.52,-93.93C156.76,-84.45 145.21,-74.26 134.55,-64.87\"/>\n",
       "<polygon fill=\"black\" stroke=\"black\" points=\"136.79,-62.18 126.97,-58.19 132.16,-67.43 136.79,-62.18\"/>\n",
       "<text text-anchor=\"middle\" x=\"128.54\" y=\"-79.44\" font-family=\"Helvetica,sans-Serif\" font-size=\"14.00\">True</text>\n",
       "</g>\n",
       "<!-- 2 -->\n",
       "<g id=\"node3\" class=\"node\">\n",
       "<title>2</title>\n",
       "<path fill=\"#58ace9\" stroke=\"black\" d=\"M425.5,-58C425.5,-58 220.5,-58 220.5,-58 214.5,-58 208.5,-52 208.5,-46 208.5,-46 208.5,-12 208.5,-12 208.5,-6 214.5,0 220.5,0 220.5,0 425.5,0 425.5,0 431.5,0 437.5,-6 437.5,-12 437.5,-12 437.5,-46 437.5,-46 437.5,-52 431.5,-58 425.5,-58\"/>\n",
       "<text text-anchor=\"start\" x=\"278\" y=\"-40.3\" font-family=\"Helvetica,sans-Serif\" font-size=\"14.00\">samples = 565</text>\n",
       "<text text-anchor=\"start\" x=\"238.5\" y=\"-25.3\" font-family=\"Helvetica,sans-Serif\" font-size=\"14.00\">value = [260.593, 1655.558]</text>\n",
       "<text text-anchor=\"start\" x=\"219.5\" y=\"-10.3\" font-family=\"Helvetica,sans-Serif\" font-size=\"14.00\">class = Wirtschaftswissenschaften</text>\n",
       "</g>\n",
       "<!-- 0&#45;&gt;2 -->\n",
       "<g id=\"edge2\" class=\"edge\">\n",
       "<title>0&#45;&gt;2</title>\n",
       "<path fill=\"none\" stroke=\"black\" d=\"M250.48,-93.93C261.24,-84.45 272.79,-74.26 283.45,-64.87\"/>\n",
       "<polygon fill=\"black\" stroke=\"black\" points=\"285.84,-67.43 291.03,-58.19 281.21,-62.18 285.84,-67.43\"/>\n",
       "<text text-anchor=\"middle\" x=\"289.46\" y=\"-79.44\" font-family=\"Helvetica,sans-Serif\" font-size=\"14.00\">False</text>\n",
       "</g>\n",
       "<!-- 0_gv1 -->\n",
       "<g id=\"node4\" class=\"node\">\n",
       "<title>0_gv1</title>\n",
       "<path fill=\"#ffffff\" stroke=\"black\" d=\"M736.5,-169C736.5,-169 593.5,-169 593.5,-169 587.5,-169 581.5,-163 581.5,-157 581.5,-157 581.5,-106 581.5,-106 581.5,-100 587.5,-94 593.5,-94 593.5,-94 736.5,-94 736.5,-94 742.5,-94 748.5,-100 748.5,-106 748.5,-106 748.5,-157 748.5,-157 748.5,-163 742.5,-169 736.5,-169\"/>\n",
       "<text text-anchor=\"start\" x=\"600\" y=\"-150.3\" font-family=\"Helvetica,sans-Serif\" font-size=\"14.00\">geographisch ≤ 0.823</text>\n",
       "<text text-anchor=\"start\" x=\"616.5\" y=\"-135.3\" font-family=\"Helvetica,sans-Serif\" font-size=\"14.00\">samples = 4903</text>\n",
       "<text text-anchor=\"start\" x=\"592\" y=\"-120.3\" font-family=\"Helvetica,sans-Serif\" font-size=\"14.00\">value = [2451.5, 2451.5]</text>\n",
       "<text text-anchor=\"start\" x=\"626\" y=\"-105.3\" font-family=\"Helvetica,sans-Serif\" font-size=\"14.00\">class = other</text>\n",
       "</g>\n",
       "<!-- 1_gv1 -->\n",
       "<g id=\"node5\" class=\"node\">\n",
       "<title>1_gv1</title>\n",
       "<path fill=\"#f4ccae\" stroke=\"black\" d=\"M634,-58C634,-58 468,-58 468,-58 462,-58 456,-52 456,-46 456,-46 456,-12 456,-12 456,-6 462,0 468,0 468,0 634,0 634,0 640,0 646,-6 646,-12 646,-12 646,-46 646,-46 646,-52 640,-58 634,-58\"/>\n",
       "<text text-anchor=\"start\" x=\"502.5\" y=\"-40.3\" font-family=\"Helvetica,sans-Serif\" font-size=\"14.00\">samples = 4036</text>\n",
       "<text text-anchor=\"start\" x=\"466.5\" y=\"-25.3\" font-family=\"Helvetica,sans-Serif\" font-size=\"14.00\">value = [2198.523, 1302.67]</text>\n",
       "<text text-anchor=\"start\" x=\"512\" y=\"-10.3\" font-family=\"Helvetica,sans-Serif\" font-size=\"14.00\">class = other</text>\n",
       "</g>\n",
       "<!-- 0_gv1&#45;&gt;1_gv1 -->\n",
       "<g id=\"edge3\" class=\"edge\">\n",
       "<title>0_gv1&#45;&gt;1_gv1</title>\n",
       "<path fill=\"none\" stroke=\"black\" d=\"M623.52,-93.93C612.76,-84.45 601.21,-74.26 590.55,-64.87\"/>\n",
       "<polygon fill=\"black\" stroke=\"black\" points=\"592.79,-62.18 582.97,-58.19 588.16,-67.43 592.79,-62.18\"/>\n",
       "<text text-anchor=\"middle\" x=\"584.54\" y=\"-79.44\" font-family=\"Helvetica,sans-Serif\" font-size=\"14.00\">True</text>\n",
       "</g>\n",
       "<!-- 2_gv1 -->\n",
       "<g id=\"node6\" class=\"node\">\n",
       "<title>2_gv1</title>\n",
       "<path fill=\"#65b3eb\" stroke=\"black\" d=\"M883.5,-58C883.5,-58 676.5,-58 676.5,-58 670.5,-58 664.5,-52 664.5,-46 664.5,-46 664.5,-12 664.5,-12 664.5,-6 670.5,0 676.5,0 676.5,0 883.5,0 883.5,0 889.5,0 895.5,-6 895.5,-12 895.5,-12 895.5,-46 895.5,-46 895.5,-52 889.5,-58 883.5,-58\"/>\n",
       "<text text-anchor=\"start\" x=\"735\" y=\"-40.3\" font-family=\"Helvetica,sans-Serif\" font-size=\"14.00\">samples = 867</text>\n",
       "<text text-anchor=\"start\" x=\"699.5\" y=\"-25.3\" font-family=\"Helvetica,sans-Serif\" font-size=\"14.00\">value = [252.977, 1148.83]</text>\n",
       "<text text-anchor=\"start\" x=\"675.5\" y=\"-10.3\" font-family=\"Helvetica,sans-Serif\" font-size=\"14.00\">class = Kultur&#45;/Geowissenschaften</text>\n",
       "</g>\n",
       "<!-- 0_gv1&#45;&gt;2_gv1 -->\n",
       "<g id=\"edge4\" class=\"edge\">\n",
       "<title>0_gv1&#45;&gt;2_gv1</title>\n",
       "<path fill=\"none\" stroke=\"black\" d=\"M706.84,-93.93C717.7,-84.45 729.35,-74.26 740.1,-64.87\"/>\n",
       "<polygon fill=\"black\" stroke=\"black\" points=\"742.52,-67.4 747.75,-58.19 737.91,-62.13 742.52,-67.4\"/>\n",
       "<text text-anchor=\"middle\" x=\"746.07\" y=\"-79.43\" font-family=\"Helvetica,sans-Serif\" font-size=\"14.00\">False</text>\n",
       "</g>\n",
       "</g>\n",
       "</svg>\n"
      ],
      "text/plain": [
       "<graphviz.sources.Source at 0x7f189c6909d0>"
      ]
     },
     "metadata": {},
     "output_type": "display_data"
    },
    {
     "data": {
      "text/markdown": [
       "<span style=\"font-size:11pt\"><br><br></span>"
      ],
      "text/plain": [
       "<IPython.core.display.Markdown object>"
      ]
     },
     "metadata": {},
     "output_type": "display_data"
    },
    {
     "data": {
      "image/svg+xml": [
       "<?xml version=\"1.0\" encoding=\"UTF-8\" standalone=\"no\"?>\n",
       "<!DOCTYPE svg PUBLIC \"-//W3C//DTD SVG 1.1//EN\"\n",
       " \"http://www.w3.org/Graphics/SVG/1.1/DTD/svg11.dtd\">\n",
       "<!-- Generated by graphviz version 2.43.0 (0)\n",
       " -->\n",
       "<!-- Title: root Pages: 1 -->\n",
       "<svg width=\"908pt\" height=\"177pt\"\n",
       " viewBox=\"0.00 0.00 908.00 177.00\" xmlns=\"http://www.w3.org/2000/svg\" xmlns:xlink=\"http://www.w3.org/1999/xlink\">\n",
       "<g id=\"graph0\" class=\"graph\" transform=\"scale(1 1) rotate(0) translate(4 173)\">\n",
       "<title>root</title>\n",
       "<polygon fill=\"white\" stroke=\"transparent\" points=\"-4,4 -4,-173 904,-173 904,4 -4,4\"/>\n",
       "<!-- 0 -->\n",
       "<g id=\"node1\" class=\"node\">\n",
       "<title>0</title>\n",
       "<path fill=\"#ffffff\" stroke=\"black\" d=\"M273.5,-169C273.5,-169 130.5,-169 130.5,-169 124.5,-169 118.5,-163 118.5,-157 118.5,-157 118.5,-106 118.5,-106 118.5,-100 124.5,-94 130.5,-94 130.5,-94 273.5,-94 273.5,-94 279.5,-94 285.5,-100 285.5,-106 285.5,-106 285.5,-157 285.5,-157 285.5,-163 279.5,-169 273.5,-169\"/>\n",
       "<text text-anchor=\"start\" x=\"149\" y=\"-150.3\" font-family=\"Helvetica,sans-Serif\" font-size=\"14.00\">computer ≤ 0.867</text>\n",
       "<text text-anchor=\"start\" x=\"153.5\" y=\"-135.3\" font-family=\"Helvetica,sans-Serif\" font-size=\"14.00\">samples = 4903</text>\n",
       "<text text-anchor=\"start\" x=\"129\" y=\"-120.3\" font-family=\"Helvetica,sans-Serif\" font-size=\"14.00\">value = [2451.5, 2451.5]</text>\n",
       "<text text-anchor=\"start\" x=\"163\" y=\"-105.3\" font-family=\"Helvetica,sans-Serif\" font-size=\"14.00\">class = other</text>\n",
       "</g>\n",
       "<!-- 1 -->\n",
       "<g id=\"node2\" class=\"node\">\n",
       "<title>1</title>\n",
       "<path fill=\"#eda877\" stroke=\"black\" d=\"M178,-58C178,-58 12,-58 12,-58 6,-58 0,-52 0,-46 0,-46 0,-12 0,-12 0,-6 6,0 12,0 12,0 178,0 178,0 184,0 190,-6 190,-12 190,-12 190,-46 190,-46 190,-52 184,-58 178,-58\"/>\n",
       "<text text-anchor=\"start\" x=\"46.5\" y=\"-40.3\" font-family=\"Helvetica,sans-Serif\" font-size=\"14.00\">samples = 4266</text>\n",
       "<text text-anchor=\"start\" x=\"10.5\" y=\"-25.3\" font-family=\"Helvetica,sans-Serif\" font-size=\"14.00\">value = [2172.605, 678.877]</text>\n",
       "<text text-anchor=\"start\" x=\"56\" y=\"-10.3\" font-family=\"Helvetica,sans-Serif\" font-size=\"14.00\">class = other</text>\n",
       "</g>\n",
       "<!-- 0&#45;&gt;1 -->\n",
       "<g id=\"edge1\" class=\"edge\">\n",
       "<title>0&#45;&gt;1</title>\n",
       "<path fill=\"none\" stroke=\"black\" d=\"M163.07,-93.93C153.07,-84.54 142.33,-74.46 132.41,-65.14\"/>\n",
       "<polygon fill=\"black\" stroke=\"black\" points=\"134.7,-62.48 125.01,-58.19 129.9,-67.59 134.7,-62.48\"/>\n",
       "<text text-anchor=\"middle\" x=\"125.79\" y=\"-79.48\" font-family=\"Helvetica,sans-Serif\" font-size=\"14.00\">True</text>\n",
       "</g>\n",
       "<!-- 2 -->\n",
       "<g id=\"node3\" class=\"node\">\n",
       "<title>2</title>\n",
       "<path fill=\"#58ace9\" stroke=\"black\" d=\"M398,-58C398,-58 220,-58 220,-58 214,-58 208,-52 208,-46 208,-46 208,-12 208,-12 208,-6 214,0 220,0 220,0 398,0 398,0 404,0 410,-6 410,-12 410,-12 410,-46 410,-46 410,-52 404,-58 398,-58\"/>\n",
       "<text text-anchor=\"start\" x=\"264\" y=\"-40.3\" font-family=\"Helvetica,sans-Serif\" font-size=\"14.00\">samples = 637</text>\n",
       "<text text-anchor=\"start\" x=\"224.5\" y=\"-25.3\" font-family=\"Helvetica,sans-Serif\" font-size=\"14.00\">value = [278.895, 1772.623]</text>\n",
       "<text text-anchor=\"start\" x=\"218\" y=\"-10.3\" font-family=\"Helvetica,sans-Serif\" font-size=\"14.00\">class = Mathematik/Informatik</text>\n",
       "</g>\n",
       "<!-- 0&#45;&gt;2 -->\n",
       "<g id=\"edge2\" class=\"edge\">\n",
       "<title>0&#45;&gt;2</title>\n",
       "<path fill=\"none\" stroke=\"black\" d=\"M240.93,-93.93C250.93,-84.54 261.67,-74.46 271.59,-65.14\"/>\n",
       "<polygon fill=\"black\" stroke=\"black\" points=\"274.1,-67.59 278.99,-58.19 269.3,-62.48 274.1,-67.59\"/>\n",
       "<text text-anchor=\"middle\" x=\"278.21\" y=\"-79.48\" font-family=\"Helvetica,sans-Serif\" font-size=\"14.00\">False</text>\n",
       "</g>\n",
       "<!-- 0_gv1 -->\n",
       "<g id=\"node4\" class=\"node\">\n",
       "<title>0_gv1</title>\n",
       "<path fill=\"#ffffff\" stroke=\"black\" d=\"M716.5,-169C716.5,-169 573.5,-169 573.5,-169 567.5,-169 561.5,-163 561.5,-157 561.5,-157 561.5,-106 561.5,-106 561.5,-100 567.5,-94 573.5,-94 573.5,-94 716.5,-94 716.5,-94 722.5,-94 728.5,-100 728.5,-106 728.5,-106 728.5,-157 728.5,-157 728.5,-163 722.5,-169 716.5,-169\"/>\n",
       "<text text-anchor=\"start\" x=\"591.5\" y=\"-150.3\" font-family=\"Helvetica,sans-Serif\" font-size=\"14.00\">literarisch ≤ 0.809</text>\n",
       "<text text-anchor=\"start\" x=\"596.5\" y=\"-135.3\" font-family=\"Helvetica,sans-Serif\" font-size=\"14.00\">samples = 4903</text>\n",
       "<text text-anchor=\"start\" x=\"572\" y=\"-120.3\" font-family=\"Helvetica,sans-Serif\" font-size=\"14.00\">value = [2451.5, 2451.5]</text>\n",
       "<text text-anchor=\"start\" x=\"606\" y=\"-105.3\" font-family=\"Helvetica,sans-Serif\" font-size=\"14.00\">class = other</text>\n",
       "</g>\n",
       "<!-- 1_gv1 -->\n",
       "<g id=\"node5\" class=\"node\">\n",
       "<title>1_gv1</title>\n",
       "<path fill=\"#f0b68c\" stroke=\"black\" d=\"M606,-58C606,-58 440,-58 440,-58 434,-58 428,-52 428,-46 428,-46 428,-12 428,-12 428,-6 434,0 440,0 440,0 606,0 606,0 612,0 618,-6 618,-12 618,-12 618,-46 618,-46 618,-52 612,-58 606,-58\"/>\n",
       "<text text-anchor=\"start\" x=\"474.5\" y=\"-40.3\" font-family=\"Helvetica,sans-Serif\" font-size=\"14.00\">samples = 3957</text>\n",
       "<text text-anchor=\"start\" x=\"438.5\" y=\"-25.3\" font-family=\"Helvetica,sans-Serif\" font-size=\"14.00\">value = [2290.028, 965.291]</text>\n",
       "<text text-anchor=\"start\" x=\"484\" y=\"-10.3\" font-family=\"Helvetica,sans-Serif\" font-size=\"14.00\">class = other</text>\n",
       "</g>\n",
       "<!-- 0_gv1&#45;&gt;1_gv1 -->\n",
       "<g id=\"edge3\" class=\"edge\">\n",
       "<title>0_gv1&#45;&gt;1_gv1</title>\n",
       "<path fill=\"none\" stroke=\"black\" d=\"M600.61,-93.93C588.99,-84.36 576.49,-74.06 564.99,-64.59\"/>\n",
       "<polygon fill=\"black\" stroke=\"black\" points=\"567.16,-61.84 557.22,-58.19 562.71,-67.25 567.16,-61.84\"/>\n",
       "<text text-anchor=\"middle\" x=\"559.62\" y=\"-79.37\" font-family=\"Helvetica,sans-Serif\" font-size=\"14.00\">True</text>\n",
       "</g>\n",
       "<!-- 2_gv1 -->\n",
       "<g id=\"node6\" class=\"node\">\n",
       "<title>2_gv1</title>\n",
       "<path fill=\"#4fa8e8\" stroke=\"black\" d=\"M888,-58C888,-58 648,-58 648,-58 642,-58 636,-52 636,-46 636,-46 636,-12 636,-12 636,-6 642,0 648,0 648,0 888,0 888,0 894,0 900,-6 900,-12 900,-12 900,-46 900,-46 900,-52 894,-58 888,-58\"/>\n",
       "<text text-anchor=\"start\" x=\"723\" y=\"-40.3\" font-family=\"Helvetica,sans-Serif\" font-size=\"14.00\">samples = 946</text>\n",
       "<text text-anchor=\"start\" x=\"683.5\" y=\"-25.3\" font-family=\"Helvetica,sans-Serif\" font-size=\"14.00\">value = [161.472, 1486.209]</text>\n",
       "<text text-anchor=\"start\" x=\"648\" y=\"-10.3\" font-family=\"Helvetica,sans-Serif\" font-size=\"14.00\">class = Sprach&#45;/Literaturwissenschaften</text>\n",
       "</g>\n",
       "<!-- 0_gv1&#45;&gt;2_gv1 -->\n",
       "<g id=\"edge4\" class=\"edge\">\n",
       "<title>0_gv1&#45;&gt;2_gv1</title>\n",
       "<path fill=\"none\" stroke=\"black\" d=\"M689.75,-93.93C701.47,-84.36 714.07,-74.06 725.66,-64.59\"/>\n",
       "<polygon fill=\"black\" stroke=\"black\" points=\"727.97,-67.23 733.5,-58.19 723.54,-61.8 727.97,-67.23\"/>\n",
       "<text text-anchor=\"middle\" x=\"731\" y=\"-79.36\" font-family=\"Helvetica,sans-Serif\" font-size=\"14.00\">False</text>\n",
       "</g>\n",
       "</g>\n",
       "</svg>\n"
      ],
      "text/plain": [
       "<graphviz.sources.Source at 0x7f189c690eb0>"
      ]
     },
     "metadata": {},
     "output_type": "display_data"
    },
    {
     "data": {
      "text/markdown": [
       "<span style=\"font-size:11pt\"><br><br></span>"
      ],
      "text/plain": [
       "<IPython.core.display.Markdown object>"
      ]
     },
     "metadata": {},
     "output_type": "display_data"
    },
    {
     "data": {
      "image/svg+xml": [
       "<?xml version=\"1.0\" encoding=\"UTF-8\" standalone=\"no\"?>\n",
       "<!DOCTYPE svg PUBLIC \"-//W3C//DTD SVG 1.1//EN\"\n",
       " \"http://www.w3.org/Graphics/SVG/1.1/DTD/svg11.dtd\">\n",
       "<!-- Generated by graphviz version 2.43.0 (0)\n",
       " -->\n",
       "<!-- Title: root Pages: 1 -->\n",
       "<svg width=\"838pt\" height=\"177pt\"\n",
       " viewBox=\"0.00 0.00 838.00 177.00\" xmlns=\"http://www.w3.org/2000/svg\" xmlns:xlink=\"http://www.w3.org/1999/xlink\">\n",
       "<g id=\"graph0\" class=\"graph\" transform=\"scale(1 1) rotate(0) translate(4 173)\">\n",
       "<title>root</title>\n",
       "<polygon fill=\"white\" stroke=\"transparent\" points=\"-4,4 -4,-173 834,-173 834,4 -4,4\"/>\n",
       "<!-- 0 -->\n",
       "<g id=\"node1\" class=\"node\">\n",
       "<title>0</title>\n",
       "<path fill=\"#ffffff\" stroke=\"black\" d=\"M274.5,-169C274.5,-169 131.5,-169 131.5,-169 125.5,-169 119.5,-163 119.5,-157 119.5,-157 119.5,-106 119.5,-106 119.5,-100 125.5,-94 131.5,-94 131.5,-94 274.5,-94 274.5,-94 280.5,-94 286.5,-100 286.5,-106 286.5,-106 286.5,-157 286.5,-157 286.5,-163 280.5,-169 274.5,-169\"/>\n",
       "<text text-anchor=\"start\" x=\"138\" y=\"-150.3\" font-family=\"Helvetica,sans-Serif\" font-size=\"14.00\">therapeutisch ≤ 0.756</text>\n",
       "<text text-anchor=\"start\" x=\"154.5\" y=\"-135.3\" font-family=\"Helvetica,sans-Serif\" font-size=\"14.00\">samples = 4903</text>\n",
       "<text text-anchor=\"start\" x=\"130\" y=\"-120.3\" font-family=\"Helvetica,sans-Serif\" font-size=\"14.00\">value = [2451.5, 2451.5]</text>\n",
       "<text text-anchor=\"start\" x=\"164\" y=\"-105.3\" font-family=\"Helvetica,sans-Serif\" font-size=\"14.00\">class = other</text>\n",
       "</g>\n",
       "<!-- 1 -->\n",
       "<g id=\"node2\" class=\"node\">\n",
       "<title>1</title>\n",
       "<path fill=\"#f0b48a\" stroke=\"black\" d=\"M178,-58C178,-58 12,-58 12,-58 6,-58 0,-52 0,-46 0,-46 0,-12 0,-12 0,-6 6,0 12,0 12,0 178,0 178,0 184,0 190,-6 190,-12 190,-12 190,-46 190,-46 190,-52 184,-58 178,-58\"/>\n",
       "<text text-anchor=\"start\" x=\"46.5\" y=\"-40.3\" font-family=\"Helvetica,sans-Serif\" font-size=\"14.00\">samples = 3715</text>\n",
       "<text text-anchor=\"start\" x=\"10.5\" y=\"-25.3\" font-family=\"Helvetica,sans-Serif\" font-size=\"14.00\">value = [1919.117, 783.374]</text>\n",
       "<text text-anchor=\"start\" x=\"56\" y=\"-10.3\" font-family=\"Helvetica,sans-Serif\" font-size=\"14.00\">class = other</text>\n",
       "</g>\n",
       "<!-- 0&#45;&gt;1 -->\n",
       "<g id=\"edge1\" class=\"edge\">\n",
       "<title>0&#45;&gt;1</title>\n",
       "<path fill=\"none\" stroke=\"black\" d=\"M163.7,-93.93C153.61,-84.54 142.78,-74.46 132.76,-65.14\"/>\n",
       "<polygon fill=\"black\" stroke=\"black\" points=\"135,-62.44 125.29,-58.19 130.23,-67.56 135,-62.44\"/>\n",
       "<text text-anchor=\"middle\" x=\"126.19\" y=\"-79.47\" font-family=\"Helvetica,sans-Serif\" font-size=\"14.00\">True</text>\n",
       "</g>\n",
       "<!-- 2 -->\n",
       "<g id=\"node3\" class=\"node\">\n",
       "<title>2</title>\n",
       "<path fill=\"#78bced\" stroke=\"black\" d=\"M401.5,-58C401.5,-58 220.5,-58 220.5,-58 214.5,-58 208.5,-52 208.5,-46 208.5,-46 208.5,-12 208.5,-12 208.5,-6 214.5,0 220.5,0 220.5,0 401.5,0 401.5,0 407.5,0 413.5,-6 413.5,-12 413.5,-12 413.5,-46 413.5,-46 413.5,-52 407.5,-58 401.5,-58\"/>\n",
       "<text text-anchor=\"start\" x=\"262.5\" y=\"-40.3\" font-family=\"Helvetica,sans-Serif\" font-size=\"14.00\">samples = 1188</text>\n",
       "<text text-anchor=\"start\" x=\"226.5\" y=\"-25.3\" font-family=\"Helvetica,sans-Serif\" font-size=\"14.00\">value = [532.383, 1668.126]</text>\n",
       "<text text-anchor=\"start\" x=\"219\" y=\"-10.3\" font-family=\"Helvetica,sans-Serif\" font-size=\"14.00\">class = Humanwissenschaften</text>\n",
       "</g>\n",
       "<!-- 0&#45;&gt;2 -->\n",
       "<g id=\"edge2\" class=\"edge\">\n",
       "<title>0&#45;&gt;2</title>\n",
       "<path fill=\"none\" stroke=\"black\" d=\"M242.3,-93.93C252.39,-84.54 263.22,-74.46 273.24,-65.14\"/>\n",
       "<polygon fill=\"black\" stroke=\"black\" points=\"275.77,-67.56 280.71,-58.19 271,-62.44 275.77,-67.56\"/>\n",
       "<text text-anchor=\"middle\" x=\"279.81\" y=\"-79.47\" font-family=\"Helvetica,sans-Serif\" font-size=\"14.00\">False</text>\n",
       "</g>\n",
       "<!-- 0_gv1 -->\n",
       "<g id=\"node4\" class=\"node\">\n",
       "<title>0_gv1</title>\n",
       "<path fill=\"#ffffff\" stroke=\"black\" d=\"M702.5,-169C702.5,-169 559.5,-169 559.5,-169 553.5,-169 547.5,-163 547.5,-157 547.5,-157 547.5,-106 547.5,-106 547.5,-100 553.5,-94 559.5,-94 559.5,-94 702.5,-94 702.5,-94 708.5,-94 714.5,-100 714.5,-106 714.5,-106 714.5,-157 714.5,-157 714.5,-163 708.5,-169 702.5,-169\"/>\n",
       "<text text-anchor=\"start\" x=\"588.5\" y=\"-150.3\" font-family=\"Helvetica,sans-Serif\" font-size=\"14.00\">gestik ≤ 0.669</text>\n",
       "<text text-anchor=\"start\" x=\"582.5\" y=\"-135.3\" font-family=\"Helvetica,sans-Serif\" font-size=\"14.00\">samples = 4903</text>\n",
       "<text text-anchor=\"start\" x=\"558\" y=\"-120.3\" font-family=\"Helvetica,sans-Serif\" font-size=\"14.00\">value = [2451.5, 2451.5]</text>\n",
       "<text text-anchor=\"start\" x=\"592\" y=\"-105.3\" font-family=\"Helvetica,sans-Serif\" font-size=\"14.00\">class = other</text>\n",
       "</g>\n",
       "<!-- 1_gv1 -->\n",
       "<g id=\"node5\" class=\"node\">\n",
       "<title>1_gv1</title>\n",
       "<path fill=\"#eeac7d\" stroke=\"black\" d=\"M610,-58C610,-58 444,-58 444,-58 438,-58 432,-52 432,-46 432,-46 432,-12 432,-12 432,-6 438,0 444,0 444,0 610,0 610,0 616,0 622,-6 622,-12 622,-12 622,-46 622,-46 622,-52 616,-58 610,-58\"/>\n",
       "<text text-anchor=\"start\" x=\"478.5\" y=\"-40.3\" font-family=\"Helvetica,sans-Serif\" font-size=\"14.00\">samples = 3268</text>\n",
       "<text text-anchor=\"start\" x=\"442.5\" y=\"-25.3\" font-family=\"Helvetica,sans-Serif\" font-size=\"14.00\">value = [1657.151, 565.731]</text>\n",
       "<text text-anchor=\"start\" x=\"488\" y=\"-10.3\" font-family=\"Helvetica,sans-Serif\" font-size=\"14.00\">class = other</text>\n",
       "</g>\n",
       "<!-- 0_gv1&#45;&gt;1_gv1 -->\n",
       "<g id=\"edge3\" class=\"edge\">\n",
       "<title>0_gv1&#45;&gt;1_gv1</title>\n",
       "<path fill=\"none\" stroke=\"black\" d=\"M593.16,-93.93C583.44,-84.54 573.01,-74.46 563.36,-65.14\"/>\n",
       "<polygon fill=\"black\" stroke=\"black\" points=\"565.79,-62.62 556.17,-58.19 560.93,-67.65 565.79,-62.62\"/>\n",
       "<text text-anchor=\"middle\" x=\"556.6\" y=\"-79.48\" font-family=\"Helvetica,sans-Serif\" font-size=\"14.00\">True</text>\n",
       "</g>\n",
       "<!-- 2_gv1 -->\n",
       "<g id=\"node6\" class=\"node\">\n",
       "<title>2_gv1</title>\n",
       "<path fill=\"#8cc6f0\" stroke=\"black\" d=\"M818,-58C818,-58 652,-58 652,-58 646,-58 640,-52 640,-46 640,-46 640,-12 640,-12 640,-6 646,0 652,0 652,0 818,0 818,0 824,0 830,-6 830,-12 830,-12 830,-46 830,-46 830,-52 824,-58 818,-58\"/>\n",
       "<text text-anchor=\"start\" x=\"686.5\" y=\"-40.3\" font-family=\"Helvetica,sans-Serif\" font-size=\"14.00\">samples = 1635</text>\n",
       "<text text-anchor=\"start\" x=\"650.5\" y=\"-25.3\" font-family=\"Helvetica,sans-Serif\" font-size=\"14.00\">value = [794.349, 1885.769]</text>\n",
       "<text text-anchor=\"start\" x=\"691.5\" y=\"-10.3\" font-family=\"Helvetica,sans-Serif\" font-size=\"14.00\">class = Physik</text>\n",
       "</g>\n",
       "<!-- 0_gv1&#45;&gt;2_gv1 -->\n",
       "<g id=\"edge4\" class=\"edge\">\n",
       "<title>0_gv1&#45;&gt;2_gv1</title>\n",
       "<path fill=\"none\" stroke=\"black\" d=\"M668.84,-93.93C678.56,-84.54 688.99,-74.46 698.64,-65.14\"/>\n",
       "<polygon fill=\"black\" stroke=\"black\" points=\"701.07,-67.65 705.83,-58.19 696.21,-62.62 701.07,-67.65\"/>\n",
       "<text text-anchor=\"middle\" x=\"705.4\" y=\"-79.48\" font-family=\"Helvetica,sans-Serif\" font-size=\"14.00\">False</text>\n",
       "</g>\n",
       "</g>\n",
       "</svg>\n"
      ],
      "text/plain": [
       "<graphviz.sources.Source at 0x7f189c690040>"
      ]
     },
     "metadata": {},
     "output_type": "display_data"
    },
    {
     "data": {
      "text/markdown": [
       "<span style=\"font-size:11pt\"><br><br></span>"
      ],
      "text/plain": [
       "<IPython.core.display.Markdown object>"
      ]
     },
     "metadata": {},
     "output_type": "display_data"
    },
    {
     "data": {
      "image/svg+xml": [
       "<?xml version=\"1.0\" encoding=\"UTF-8\" standalone=\"no\"?>\n",
       "<!DOCTYPE svg PUBLIC \"-//W3C//DTD SVG 1.1//EN\"\n",
       " \"http://www.w3.org/Graphics/SVG/1.1/DTD/svg11.dtd\">\n",
       "<!-- Generated by graphviz version 2.43.0 (0)\n",
       " -->\n",
       "<!-- Title: root Pages: 1 -->\n",
       "<svg width=\"846pt\" height=\"177pt\"\n",
       " viewBox=\"0.00 0.00 846.00 177.00\" xmlns=\"http://www.w3.org/2000/svg\" xmlns:xlink=\"http://www.w3.org/1999/xlink\">\n",
       "<g id=\"graph0\" class=\"graph\" transform=\"scale(1 1) rotate(0) translate(4 173)\">\n",
       "<title>root</title>\n",
       "<polygon fill=\"white\" stroke=\"transparent\" points=\"-4,4 -4,-173 842,-173 842,4 -4,4\"/>\n",
       "<!-- 0 -->\n",
       "<g id=\"node1\" class=\"node\">\n",
       "<title>0</title>\n",
       "<path fill=\"#ffffff\" stroke=\"black\" d=\"M276.5,-169C276.5,-169 133.5,-169 133.5,-169 127.5,-169 121.5,-163 121.5,-157 121.5,-157 121.5,-106 121.5,-106 121.5,-100 127.5,-94 133.5,-94 133.5,-94 276.5,-94 276.5,-94 282.5,-94 288.5,-100 288.5,-106 288.5,-106 288.5,-157 288.5,-157 288.5,-163 282.5,-169 276.5,-169\"/>\n",
       "<text text-anchor=\"start\" x=\"148\" y=\"-150.3\" font-family=\"Helvetica,sans-Serif\" font-size=\"14.00\">geschichte ≤ 0.571</text>\n",
       "<text text-anchor=\"start\" x=\"156.5\" y=\"-135.3\" font-family=\"Helvetica,sans-Serif\" font-size=\"14.00\">samples = 4903</text>\n",
       "<text text-anchor=\"start\" x=\"132\" y=\"-120.3\" font-family=\"Helvetica,sans-Serif\" font-size=\"14.00\">value = [2451.5, 2451.5]</text>\n",
       "<text text-anchor=\"start\" x=\"166\" y=\"-105.3\" font-family=\"Helvetica,sans-Serif\" font-size=\"14.00\">class = other</text>\n",
       "</g>\n",
       "<!-- 1 -->\n",
       "<g id=\"node2\" class=\"node\">\n",
       "<title>1</title>\n",
       "<path fill=\"#aed7f4\" stroke=\"black\" d=\"M186,-58C186,-58 12,-58 12,-58 6,-58 0,-52 0,-46 0,-46 0,-12 0,-12 0,-6 6,0 12,0 12,0 186,0 186,0 192,0 198,-6 198,-12 198,-12 198,-46 198,-46 198,-52 192,-58 186,-58\"/>\n",
       "<text text-anchor=\"start\" x=\"50.5\" y=\"-40.3\" font-family=\"Helvetica,sans-Serif\" font-size=\"14.00\">samples = 2812</text>\n",
       "<text text-anchor=\"start\" x=\"11\" y=\"-25.3\" font-family=\"Helvetica,sans-Serif\" font-size=\"14.00\">value = [1385.008, 2338.005]</text>\n",
       "<text text-anchor=\"start\" x=\"26\" y=\"-10.3\" font-family=\"Helvetica,sans-Serif\" font-size=\"14.00\">class = Biologie/Chemie</text>\n",
       "</g>\n",
       "<!-- 0&#45;&gt;1 -->\n",
       "<g id=\"edge1\" class=\"edge\">\n",
       "<title>0&#45;&gt;1</title>\n",
       "<path fill=\"none\" stroke=\"black\" d=\"M166.43,-93.93C156.53,-84.54 145.89,-74.46 136.06,-65.14\"/>\n",
       "<polygon fill=\"black\" stroke=\"black\" points=\"138.4,-62.53 128.73,-58.19 133.58,-67.61 138.4,-62.53\"/>\n",
       "<text text-anchor=\"middle\" x=\"129.4\" y=\"-79.48\" font-family=\"Helvetica,sans-Serif\" font-size=\"14.00\">True</text>\n",
       "</g>\n",
       "<!-- 2 -->\n",
       "<g id=\"node3\" class=\"node\">\n",
       "<title>2</title>\n",
       "<path fill=\"#e88e4e\" stroke=\"black\" d=\"M394,-58C394,-58 228,-58 228,-58 222,-58 216,-52 216,-46 216,-46 216,-12 216,-12 216,-6 222,0 228,0 228,0 394,0 394,0 400,0 406,-6 406,-12 406,-12 406,-46 406,-46 406,-52 400,-58 394,-58\"/>\n",
       "<text text-anchor=\"start\" x=\"262.5\" y=\"-40.3\" font-family=\"Helvetica,sans-Serif\" font-size=\"14.00\">samples = 2091</text>\n",
       "<text text-anchor=\"start\" x=\"226.5\" y=\"-25.3\" font-family=\"Helvetica,sans-Serif\" font-size=\"14.00\">value = [1066.492, 113.495]</text>\n",
       "<text text-anchor=\"start\" x=\"272\" y=\"-10.3\" font-family=\"Helvetica,sans-Serif\" font-size=\"14.00\">class = other</text>\n",
       "</g>\n",
       "<!-- 0&#45;&gt;2 -->\n",
       "<g id=\"edge2\" class=\"edge\">\n",
       "<title>0&#45;&gt;2</title>\n",
       "<path fill=\"none\" stroke=\"black\" d=\"M243.57,-93.93C253.47,-84.54 264.11,-74.46 273.94,-65.14\"/>\n",
       "<polygon fill=\"black\" stroke=\"black\" points=\"276.42,-67.61 281.27,-58.19 271.6,-62.53 276.42,-67.61\"/>\n",
       "<text text-anchor=\"middle\" x=\"280.6\" y=\"-79.48\" font-family=\"Helvetica,sans-Serif\" font-size=\"14.00\">False</text>\n",
       "</g>\n",
       "<!-- 0_gv1 -->\n",
       "<g id=\"node4\" class=\"node\">\n",
       "<title>0_gv1</title>\n",
       "<path fill=\"#ffffff\" stroke=\"black\" d=\"M718,-169C718,-169 544,-169 544,-169 538,-169 532,-163 532,-157 532,-157 532,-106 532,-106 532,-100 538,-94 544,-94 544,-94 718,-94 718,-94 724,-94 730,-100 730,-106 730,-106 730,-157 730,-157 730,-163 724,-169 718,-169\"/>\n",
       "<text text-anchor=\"start\" x=\"589\" y=\"-150.3\" font-family=\"Helvetica,sans-Serif\" font-size=\"14.00\">politik ≤ 0.842</text>\n",
       "<text text-anchor=\"start\" x=\"582.5\" y=\"-135.3\" font-family=\"Helvetica,sans-Serif\" font-size=\"14.00\">samples = 4903</text>\n",
       "<text text-anchor=\"start\" x=\"558\" y=\"-120.3\" font-family=\"Helvetica,sans-Serif\" font-size=\"14.00\">value = [2451.5, 2451.5]</text>\n",
       "<text text-anchor=\"start\" x=\"543\" y=\"-105.3\" font-family=\"Helvetica,sans-Serif\" font-size=\"14.00\">class = Sozialwissenschaften</text>\n",
       "</g>\n",
       "<!-- 1_gv1 -->\n",
       "<g id=\"node5\" class=\"node\">\n",
       "<title>1_gv1</title>\n",
       "<path fill=\"#f3c5a3\" stroke=\"black\" d=\"M610,-58C610,-58 436,-58 436,-58 430,-58 424,-52 424,-46 424,-46 424,-12 424,-12 424,-6 430,0 436,0 436,0 610,0 610,0 616,0 622,-6 622,-12 622,-12 622,-46 622,-46 622,-52 616,-58 610,-58\"/>\n",
       "<text text-anchor=\"start\" x=\"474.5\" y=\"-40.3\" font-family=\"Helvetica,sans-Serif\" font-size=\"14.00\">samples = 4108</text>\n",
       "<text text-anchor=\"start\" x=\"435\" y=\"-25.3\" font-family=\"Helvetica,sans-Serif\" font-size=\"14.00\">value = [2152.482, 1154.839]</text>\n",
       "<text text-anchor=\"start\" x=\"484\" y=\"-10.3\" font-family=\"Helvetica,sans-Serif\" font-size=\"14.00\">class = other</text>\n",
       "</g>\n",
       "<!-- 0_gv1&#45;&gt;1_gv1 -->\n",
       "<g id=\"edge3\" class=\"edge\">\n",
       "<title>0_gv1&#45;&gt;1_gv1</title>\n",
       "<path fill=\"none\" stroke=\"black\" d=\"M591.7,-93.93C581.61,-84.54 570.78,-74.46 560.76,-65.14\"/>\n",
       "<polygon fill=\"black\" stroke=\"black\" points=\"563,-62.44 553.29,-58.19 558.23,-67.56 563,-62.44\"/>\n",
       "<text text-anchor=\"middle\" x=\"554.19\" y=\"-79.47\" font-family=\"Helvetica,sans-Serif\" font-size=\"14.00\">True</text>\n",
       "</g>\n",
       "<!-- 2_gv1 -->\n",
       "<g id=\"node6\" class=\"node\">\n",
       "<title>2_gv1</title>\n",
       "<path fill=\"#67b4eb\" stroke=\"black\" d=\"M826,-58C826,-58 652,-58 652,-58 646,-58 640,-52 640,-46 640,-46 640,-12 640,-12 640,-6 646,0 652,0 652,0 826,0 826,0 832,0 838,-6 838,-12 838,-12 838,-46 838,-46 838,-52 832,-58 826,-58\"/>\n",
       "<text text-anchor=\"start\" x=\"694\" y=\"-40.3\" font-family=\"Helvetica,sans-Serif\" font-size=\"14.00\">samples = 795</text>\n",
       "<text text-anchor=\"start\" x=\"654.5\" y=\"-25.3\" font-family=\"Helvetica,sans-Serif\" font-size=\"14.00\">value = [299.018, 1296.661]</text>\n",
       "<text text-anchor=\"start\" x=\"651\" y=\"-10.3\" font-family=\"Helvetica,sans-Serif\" font-size=\"14.00\">class = Sozialwissenschaften</text>\n",
       "</g>\n",
       "<!-- 0_gv1&#45;&gt;2_gv1 -->\n",
       "<g id=\"edge4\" class=\"edge\">\n",
       "<title>0_gv1&#45;&gt;2_gv1</title>\n",
       "<path fill=\"none\" stroke=\"black\" d=\"M670.3,-93.93C680.39,-84.54 691.22,-74.46 701.24,-65.14\"/>\n",
       "<polygon fill=\"black\" stroke=\"black\" points=\"703.77,-67.56 708.71,-58.19 699,-62.44 703.77,-67.56\"/>\n",
       "<text text-anchor=\"middle\" x=\"707.81\" y=\"-79.47\" font-family=\"Helvetica,sans-Serif\" font-size=\"14.00\">False</text>\n",
       "</g>\n",
       "</g>\n",
       "</svg>\n"
      ],
      "text/plain": [
       "<graphviz.sources.Source at 0x7f189c6903d0>"
      ]
     },
     "metadata": {},
     "output_type": "display_data"
    },
    {
     "data": {
      "text/markdown": [
       "<span style=\"font-size:11pt\"><br><br></span>"
      ],
      "text/plain": [
       "<IPython.core.display.Markdown object>"
      ]
     },
     "metadata": {},
     "output_type": "display_data"
    },
    {
     "data": {
      "text/markdown": [
       "<span style=\"font-size:11pt\">Per-Class-Scores: Erziehungs-/Kulturwissenschaften: 0.68, Rechtswissenschaften: 0.95, Wirtschaftswissenschaften: 0.88, Kultur-/Geowissenschaften: 0.81, Mathematik/Informatik: 0.87, Sprach-/Literaturwissenschaften: 0.86, Humanwissenschaften: 0.77, Physik: 0.68, Biologie/Chemie: 0.46, Sozialwissenschaften: 0.86</span>"
      ],
      "text/plain": [
       "<IPython.core.display.Markdown object>"
      ]
     },
     "metadata": {},
     "output_type": "display_data"
    },
    {
     "data": {
      "text/markdown": [
       "<span style=\"font-size:11pt\">Unweighted Mean Accuracy: 78.17%</span>"
      ],
      "text/plain": [
       "<IPython.core.display.Markdown object>"
      ]
     },
     "metadata": {},
     "output_type": "display_data"
    },
    {
     "data": {
      "text/markdown": [
       "<span style=\"font-size:11pt\">Weighted Mean Accuracy: 78.50%</span>"
      ],
      "text/plain": [
       "<IPython.core.display.Markdown object>"
      ]
     },
     "metadata": {},
     "output_type": "display_data"
    }
   ],
   "source": [
    "# res = classify_shallowtree_multi(clusters, embedding, descriptions, ctx.obj[\"dataset_class\"], verbose=True)\n",
    "res = classify_shallowtree(clusters, embedding, descriptions, ctx.obj[\"dataset_class\"], one_vs_rest=True, dt_depth=1, test_percentage_crossval=0.33, \n",
    "                           classes=\"fachbereich\", cluster_reprs=cluster_reprs, verbose=False, return_features=False, balance_classes=True, do_plot=True)"
   ]
  },
  {
   "cell_type": "markdown",
   "id": "2d257607-1453-4f56-a3ed-06773fb42535",
   "metadata": {},
   "source": [
    "<br><br><br><br><br><br><br><br>\n",
    "\n",
    "# Classifying DDC"
   ]
  },
  {
   "cell_type": "code",
   "execution_count": null,
   "id": "f2eb7bc0-9881-4e84-88a9-a6e4ad6877af",
   "metadata": {},
   "outputs": [],
   "source": [
    "res = classify_shallowtree(clusters, embedding, descriptions, ctx.obj[\"dataset_class\"], one_vs_rest=True, dt_depth=1, test_percentage_crossval=0.33, \n",
    "                           classes=\"ddc_l1\", cluster_reprs=cluster_reprs, verbose=False, return_features=False, balance_classes=True, do_plot=True)"
   ]
  },
  {
   "cell_type": "markdown",
   "id": "21bd915e-0814-45a7-b292-3e8548e5e8e3",
   "metadata": {},
   "source": [
    "## Another one, cause the other also looked good"
   ]
  },
  {
   "cell_type": "code",
   "execution_count": null,
   "id": "4fd79c6a-c1f1-443f-8c37-791354e4cccb",
   "metadata": {},
   "outputs": [],
   "source": [
    "conf = {'dataset': 'siddata2022', 'debug': False, 'kappa_weights': 'quadratic', 'embed_dimensions': 200, 'embed_algo': 'mds', 'quantification_measure': 'tfidf', 'dcm_quant_measure': 'count', 'extraction_method': 'tfidf', 'translate_policy': 'onlyorig', 'pp_components': 'mfauhtcsldp', 'language': 'de', 'min_words_per_desc': 80, 'prim_lambda': 0.5, 'sec_lambda': 0.2, 'classifier_succmetric': 'kappa_digitized_onlypos_2', 'cluster_direction_algo': 'reclassify'}\n",
    "ctx = SnakeContext.loader_context(config=conf, silent=True)\n",
    "ctx.print_important_settings()\n",
    "clusters, embedding, descriptions = ctx.load(\"clusters\", \"embedding\", \"pp_descriptions\")\n",
    "\n",
    "res = classify_shallowtree(clusters, embedding, descriptions, ctx.obj[\"dataset_class\"], one_vs_rest=True, dt_depth=1, test_percentage_crossval=0.33,\n",
    "                           classes=\"ddc_l1\", verbose=False, return_features=False, balance_classes=True, do_plot=True)"
   ]
  },
  {
   "cell_type": "markdown",
   "id": "29e5b7dc-fcf9-4025-8e76-408378782849",
   "metadata": {},
   "source": [
    "# Analyze Misclassifications"
   ]
  },
  {
   "cell_type": "markdown",
   "id": "651c6091-4199-4a44-a938-49c9cd31df53",
   "metadata": {},
   "source": [
    "## For one-vs-rest"
   ]
  },
  {
   "cell_type": "code",
   "execution_count": null,
   "id": "c20db4fa-8330-4f88-8511-cb1388ce61c9",
   "metadata": {},
   "outputs": [],
   "source": [
    "clfs = classify_shallowtree(clusters, embedding, descriptions, ctx.obj[\"dataset_class\"], one_vs_rest=True, dt_depth=None, test_percentage_crossval=0.33, classes=\"fachbereich\", cluster_reprs=cluster_reprs, verbose=False, return_features=True, balance_classes=True, do_plot=False)"
   ]
  },
  {
   "cell_type": "code",
   "execution_count": null,
   "id": "a03ae179-4ba1-4a23-8960-fe3ae12bcab5",
   "metadata": {},
   "outputs": [],
   "source": [
    "accs = [(clfs[0][i].predict(clfs[1].values) == clfs[2][i]).mean() for i in range(len(clfs[0]))]\n",
    "sum(accs)/len(accs)"
   ]
  },
  {
   "cell_type": "code",
   "execution_count": null,
   "id": "d5fcaba2-9bcb-447b-be69-097fb549a169",
   "metadata": {},
   "outputs": [],
   "source": [
    "corrects = np.array([clfs[0][i].predict(clfs[1].values) == clfs[2][i] for i in range(len(clfs[0]))])\n",
    "misclassified = np.where(corrects.sum(axis=0) < corrects.shape[0])[0]\n",
    "len(misclassified)\n",
    "[descriptions._descriptions[i] for i in misclassified][:10]"
   ]
  },
  {
   "cell_type": "markdown",
   "id": "41699975-96db-4737-97e2-fd29fa6f32db",
   "metadata": {},
   "source": [
    "## For all-at-once"
   ]
  },
  {
   "cell_type": "code",
   "execution_count": null,
   "id": "855a2257-e474-4d5c-9622-efbebd125dfb",
   "metadata": {},
   "outputs": [],
   "source": [
    "clfs = classify_shallowtree(clusters, embedding, descriptions, ctx.obj[\"dataset_class\"], one_vs_rest=False, dt_depth=15, test_percentage_crossval=0.33, classes=\"fachbereich\", cluster_reprs=cluster_reprs, verbose=False, return_features=True, balance_classes=True, do_plot=False)"
   ]
  },
  {
   "cell_type": "code",
   "execution_count": null,
   "id": "c97fcb3f-f65a-47b1-9fe9-d8fc5239b7f4",
   "metadata": {},
   "outputs": [],
   "source": [
    "wrongs = np.where(~(clfs[0][0].predict(clfs[1].values) == clfs[2]))[1]\n",
    "len(wrongs)\n",
    "[descriptions._descriptions[i] for i in wrongs][:10]"
   ]
  },
  {
   "cell_type": "markdown",
   "id": "fa7c754d-8e7a-426b-868a-425fe07aca48",
   "metadata": {},
   "source": [
    "<br><br>\n",
    "**...unfortunately not showing that only descriptions like \"Tutors: xyz\" are misclassified**"
   ]
  }
 ],
 "metadata": {
  "kernelspec": {
   "display_name": "Python 3 (ipykernel)",
   "language": "python",
   "name": "python3"
  },
  "language_info": {
   "codemirror_mode": {
    "name": "ipython",
    "version": 3
   },
   "file_extension": ".py",
   "mimetype": "text/x-python",
   "name": "python",
   "nbconvert_exporter": "python",
   "pygments_lexer": "ipython3",
   "version": "3.10.0"
  }
 },
 "nbformat": 4,
 "nbformat_minor": 5
}
