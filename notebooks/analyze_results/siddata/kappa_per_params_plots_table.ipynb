{
 "cells": [
  {
   "cell_type": "code",
   "execution_count": null,
   "id": "cff81d8b-0c83-4449-90ec-177f2999b6f2",
   "metadata": {},
   "outputs": [],
   "source": [
    "import matplotlib.pyplot as plt\n",
    "import pandas as pd\n",
    "from IPython.display import HTML\n",
    "import pyperclip\n",
    "\n",
    "from misc_util.logutils import setup_logging\n",
    "from misc_util.pretty_print import Markdown, display\n",
    "\n",
    "from derive_conceptualspace.pipeline import SnakeContext, load_envfiles\n",
    "from derive_conceptualspace.util.result_analysis_tools import getfiles_allconfigs, display_metrics, show_lambda_elements, highlight_nonzero_max, df_to_latex, shorten_met\n",
    "from derive_conceptualspace.settings import DEFAULT_N_CPUS\n",
    "from derive_conceptualspace.util.threadworker import WorkerPool\n",
    "from derive_conceptualspace.cli.args_from_filename import get_filename, print_envvars\n",
    "\n",
    "plt.rcParams['figure.figsize'] = [16, 10]"
   ]
  },
  {
   "cell_type": "markdown",
   "id": "1aaafffe-72bb-4a96-b558-a9680bd4807c",
   "metadata": {},
   "source": [
    "## Prepare all parameter-combinations"
   ]
  },
  {
   "cell_type": "code",
   "execution_count": null,
   "id": "b2c9d99a-01ad-4d9f-9e45-6f6069654932",
   "metadata": {},
   "outputs": [],
   "source": [
    "setup_logging()\n",
    "load_envfiles(\"siddata\")\n",
    "configs, print_cnf = getfiles_allconfigs(\"featureaxes\", verbose=True)"
   ]
  },
  {
   "cell_type": "code",
   "execution_count": null,
   "id": "974a5921-31d1-4f2a-9c6f-85bbc9d561bf",
   "metadata": {},
   "outputs": [],
   "source": [
    "print_envvars(get_filename(configs[0], get_dependencies=False, doprint=False))"
   ]
  },
  {
   "cell_type": "code",
   "execution_count": null,
   "id": "0dc3d2e3-fe74-4039-aac0-773b73232f2e",
   "metadata": {},
   "outputs": [],
   "source": [
    "with WorkerPool(DEFAULT_N_CPUS-3, pgbar=\"Fetching featureaxes..\") as pool:\n",
    "    get_featureaxes = lambda conf: ((ctx := SnakeContext.loader_context(config=conf, silent=True)).get_important_settings(), ctx.load(\"featureaxes\"))\n",
    "    featureaxes_list, interrupted = pool.work(configs, get_featureaxes)"
   ]
  },
  {
   "cell_type": "markdown",
   "id": "bc0e4061-d83c-4c1e-9f14-8c5cc8450ebc",
   "metadata": {},
   "source": [
    "# Showing all metrics for the loaded parameter-combinations"
   ]
  },
  {
   "cell_type": "code",
   "execution_count": null,
   "id": "26217e80-0cc9-447d-85e7-53503e8872ee",
   "metadata": {
    "tags": []
   },
   "outputs": [],
   "source": [
    "for conf, (important_settings, featureaxes) in zip(configs, featureaxes_list):\n",
    "    specials = {k: v for k, v in conf.items() if isinstance(print_cnf[k], list)}\n",
    "    display(Markdown(\"## \"+\", \".join(f\"{k}: {v}\" for k,v in specials.items())))\n",
    "    display(\"Settings: \"+(\" - \".join(important_settings)))\n",
    "    display_metrics(featureaxes[\"metrics\"])"
   ]
  },
  {
   "cell_type": "code",
   "execution_count": null,
   "id": "97af3f4c-feed-4e5d-a810-28463692a0f4",
   "metadata": {
    "tags": []
   },
   "outputs": [],
   "source": [
    "alls = {}\n",
    "for conf, (important_settings, featureaxes) in zip(configs, featureaxes_list):\n",
    "    specials = {k: v for k, v in conf.items() if isinstance(print_cnf[k], list)}\n",
    "    display(Markdown(\"## \"+\", \".join(f\"{k}: {v}\" for k,v in specials.items())))\n",
    "    #display(\"Settings:\"+(\": \".join(important_settings)))\n",
    "    #show_lambda_elements(featureaxes[\"metrics\"], 0.5, 0.1)\n",
    "    lambda1, lambda2 = 0.5, 0.1\n",
    "    metlist = featureaxes[\"metrics\"]\n",
    "    res = {}\n",
    "    for met in list(list(metlist.values())[0].keys()):\n",
    "        if \"kappa\" in met and not \"bin2bin\" in met:\n",
    "            vals = [i[met] for i in metlist.values()]\n",
    "            t1 = len([i for i in vals if i >= lambda1])\n",
    "            t2 = len([i for i in vals if i >= lambda2]) - t1\n",
    "            if t1:\n",
    "                print(f\" {met}: T^{lambda1}: {t1}, T^{lambda2}: {t2}, in T^{lambda1}: {', '.join([k for k, v in metlist.items() if v[met] > lambda1][:5])}\")\n",
    "            # res[met] = {lambda1: t1, lambda2: t2, f\"{lambda1}_elems\": [k for k, v in metlist.items() if v[met] > lambda1][:5]}\n",
    "            res[shorten_met(met)] = t1\n",
    "    # alls[\" | \".join(f\"{v}\" for k,v in specials.items())] = res\n",
    "    alls[tuple(specials.values())] = res"
   ]
  },
  {
   "cell_type": "markdown",
   "id": "729062b1-c932-4979-bf44-753e07e0dfef",
   "metadata": {},
   "source": [
    "# Show complete Table with the Number of values in Kappa^0.5"
   ]
  },
  {
   "cell_type": "code",
   "execution_count": null,
   "id": "3a069f61-1fa8-4ff9-9953-c1047fde6799",
   "metadata": {
    "tags": []
   },
   "outputs": [],
   "source": [
    "styles = [{'selector': 'th', 'props': [('vertical-align','top')]}]  #('border-style', 'solid')  #see https://stackoverflow.com/a/55904239/5122790\n",
    "styler = lambda df: df.style.apply(highlight_nonzero_max, axis=0).format(precision=0).set_table_styles(styles)\n",
    "\n",
    "df = pd.DataFrame(alls, columns=pd.MultiIndex.from_tuples(alls.keys(), names=list(specials.keys()))).T\n",
    "df[\"mean\"] = df.mean(axis=1)\n",
    "pyperclip.copy(df_to_latex(df, styler))\n",
    "styler(df)"
   ]
  },
  {
   "cell_type": "markdown",
   "id": "532183fe-4576-4ae1-89a4-26dfc8b87a83",
   "metadata": {},
   "source": [
    "### Take-Aways from this huge table:\n",
    "* assuming I want >= 400 directions, I must choose quadratic kappa-weights over linear ones.\n",
    "* dcm_quant_measure == count is very good for digitized kappa, but consistently a lot worse than tf-idf and ppmi for ranking-based (which makes sense assuming there are many count==1 cases)\n",
    "* I should go for 3 dimensions only sporadically, but for dcm_quant_measure in [tf-idf, ppmi] it's performance is actually consistently competative (huge surprise!!)"
   ]
  },
  {
   "cell_type": "code",
   "execution_count": null,
   "id": "665761a0-5ee2-44bf-876a-39969f1c5a4a",
   "metadata": {},
   "outputs": [],
   "source": [
    "# dict(zip(specials.keys(), list(alls.keys())[0]))\n",
    "less = {k: v for k, v in alls.items() if not (k[2] == \"3\" and k[3] not in [\"tfidf\", \"ppmi\"])}  #k[-1] == \"quadratic\"\n",
    "less = {tuple(i for i in k): v for k, v in less.items()}  #k[:-1]\n",
    "keys = list(specials.keys()) #[:-1]\n",
    "\n",
    "df = pd.DataFrame(less, columns=pd.MultiIndex.from_tuples(less.keys(), names=keys)).T\n",
    "df[\"mean\"] = df.mean(axis=1)\n",
    "pyperclip.copy(df_to_latex(df, styler))\n",
    "styler(df)"
   ]
  },
  {
   "cell_type": "markdown",
   "id": "81f42b0c-ef21-4198-8df6-951de1951b0a",
   "metadata": {},
   "source": [
    "### More analysis:\n",
    "* quantification_measure == tfidf, n_dims = 200 produces aaaall the best results\n",
    "* can't really say that results are better if quantification_measure and dcm_quant_measure are the same vs one tf-idf one ppmi"
   ]
  },
  {
   "cell_type": "markdown",
   "id": "ea6a49d7-718c-4016-8b00-0b51e624dffe",
   "metadata": {},
   "source": [
    "# Getting the Parameter-Kombi that yields the most candidates on average"
   ]
  },
  {
   "cell_type": "code",
   "execution_count": null,
   "id": "a9378979-9874-4b77-af4e-b1e0146bff66",
   "metadata": {},
   "outputs": [],
   "source": [
    "METRIC = \"mean\"\n",
    "\n",
    "df = pd.DataFrame(alls, columns=pd.MultiIndex.from_tuples(alls.keys(), names=list(specials.keys()))).T\n",
    "df[\"mean\"] = df.mean(axis=1)\n",
    "best_config = dict(zip(df.index.names, df.idxmax()[METRIC]))\n",
    "best_config.update({k: v for k, v in print_cnf.items() if not isinstance(v, list)})\n",
    "\n",
    "print(f\"MA_CLASSIFIER_SUCCMETRIC={shorten_met(df.loc[best_ind.values[0]].idxmax(), reverse=True)}\", end=\";\")\n",
    "print_envvars(get_filename(best_config, get_dependencies=False, doprint=False))                                                                         "
   ]
  }
 ],
 "metadata": {
  "kernelspec": {
   "display_name": "Python 3 (ipykernel)",
   "language": "python",
   "name": "python3"
  },
  "language_info": {
   "codemirror_mode": {
    "name": "ipython",
    "version": 3
   },
   "file_extension": ".py",
   "mimetype": "text/x-python",
   "name": "python",
   "nbconvert_exporter": "python",
   "pygments_lexer": "ipython3",
   "version": "3.10.0"
  }
 },
 "nbformat": 4,
 "nbformat_minor": 5
}
