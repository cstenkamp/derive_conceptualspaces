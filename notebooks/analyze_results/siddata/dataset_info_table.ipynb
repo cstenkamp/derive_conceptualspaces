{
 "cells": [
  {
   "cell_type": "code",
   "execution_count": null,
   "id": "49c4bcd7-3c78-4eee-87f7-e43f8decd338",
   "metadata": {},
   "outputs": [],
   "source": [
    "import matplotlib.pyplot as plt\n",
    "\n",
    "from derive_conceptualspace.pipeline import SnakeContext, load_envfiles\n",
    "from misc_util.logutils import setup_logging\n",
    "from misc_util.pretty_print import display\n",
    "from derive_conceptualspace.util.result_analysis_tools import getfiles_allconfigs\n",
    "from derive_conceptualspace.util.desc_object import DescriptionList\n",
    "from derive_conceptualspace.pipeline import cluster_loader\n",
    "\n",
    "plt.rcParams['figure.figsize'] = [16, 10]"
   ]
  },
  {
   "cell_type": "code",
   "execution_count": null,
   "id": "1ab17603-c0cc-4900-b94c-3e9efeb6f5ee",
   "metadata": {},
   "outputs": [],
   "source": [
    "setup_logging()\n",
    "load_envfiles(\"siddata\")\n",
    "configs, print_cnf = getfiles_allconfigs(\"clusters\", verbose=True)"
   ]
  },
  {
   "cell_type": "markdown",
   "id": "f6257cf6-38ca-41e4-94a9-54b6ce413ad7",
   "metadata": {},
   "source": [
    "# Getting stuff for dataset info table"
   ]
  },
  {
   "cell_type": "code",
   "execution_count": null,
   "id": "c57f11ef-9e3f-4144-adbf-613d02dd3888",
   "metadata": {},
   "outputs": [],
   "source": [
    "best_conf = {'pp_components': 'mfauhcsd2', 'quantification_measure': 'tfidf', 'embed_dimensions': '200', 'dcm_quant_measure': 'count', 'classifier_succmetric': 'kappa_digitized_onlypos_2', 'sec_lambda': '0.2'}\n",
    "print(\"Best conf:\", best_conf)\n",
    "ctx = SnakeContext.loader_context(config={**best_conf, \"debug\": False}, silent=False)\n",
    "descriptions, filtered_dcm, embedding, featureaxes, clusters = ctx.load(\"pp_descriptions\", \"filtered_dcm\", \"embedding\", \"featureaxes\", \"clusters\",\n",
    "                        loaders=dict(pp_descriptions=DescriptionList.from_json, clusters=cluster_loader, embedding=lambda **args: args[\"embedding\"].embedding_))"
   ]
  },
  {
   "cell_type": "code",
   "execution_count": null,
   "id": "0d78a96f-e6a4-4f04-859d-5e4f64dc378f",
   "metadata": {},
   "outputs": [],
   "source": [
    "from collections import Counter\n",
    "import numpy as np\n",
    "print(\"Kappa >= 0.1:\", len({k: v for k,v in featureaxes[\"metrics\"].items() if v[\"kappa_digitized_onlypos_2\"] > 0.1}))\n",
    "print(\"Kappa >= 0.5:\", len({k: v for k,v in featureaxes[\"metrics\"].items() if v[\"kappa_digitized_onlypos_2\"] > 0.5}))\n",
    "np.percentile((clslen := np.array([len(v) for k, v in clusters[\"clusters\"].items()])), 10), np.percentile(clslen,90)"
   ]
  },
  {
   "cell_type": "code",
   "execution_count": null,
   "id": "86bb3f4a-098c-47fa-b785-dbc40ff7ba99",
   "metadata": {},
   "outputs": [],
   "source": [
    "best_conf = {'pp_components': 'mfauhcsd2', 'quantification_measure': 'tfidf', 'embed_dimensions': '50', 'dcm_quant_measure': 'count', 'classifier_succmetric': 'kappa_digitized_onlypos_2', 'sec_lambda': '0.2'}\n",
    "print(\"Best conf:\", best_conf)\n",
    "ctx = SnakeContext.loader_context(config={**best_conf, \"debug\": False}, silent=False)\n",
    "descriptions, filtered_dcm, embedding, featureaxes, clusters = ctx.load(\"pp_descriptions\", \"filtered_dcm\", \"embedding\", \"featureaxes\", \"clusters\",\n",
    "                        loaders=dict(pp_descriptions=DescriptionList.from_json, clusters=cluster_loader, embedding=lambda **args: args[\"embedding\"].embedding_))"
   ]
  },
  {
   "cell_type": "code",
   "execution_count": null,
   "id": "a317930e-b517-4964-981c-d1849d9cf55b",
   "metadata": {},
   "outputs": [],
   "source": [
    "from collections import Counter\n",
    "import numpy as np\n",
    "print(\"Kappa >= 0.1:\", len({k: v for k,v in featureaxes[\"metrics\"].items() if v[\"kappa_digitized_onlypos_2\"] > 0.1}))\n",
    "print(\"Kappa >= 0.5:\", len({k: v for k,v in featureaxes[\"metrics\"].items() if v[\"kappa_digitized_onlypos_2\"] > 0.5}))\n",
    "np.percentile((clslen := np.array([len(v) for k, v in clusters[\"clusters\"].items()])), 10), np.percentile(clslen,90)"
   ]
  },
  {
   "cell_type": "code",
   "execution_count": null,
   "id": "9f7c9141-e014-4bd4-b4a1-a47615778ed4",
   "metadata": {},
   "outputs": [],
   "source": [
    "NUM_KEYS = 50\n",
    "NUM_VALS = 7\n",
    "maxlen = max(len(i) for i in list(clusters[\"clusters\"].keys())[:NUM_KEYS])\n",
    "\n",
    "print(\"\\n\".join([f\"{k.rjust(maxlen)}: {(', '.join(v[:NUM_VALS]))+(', ...' if len(v) > NUM_VALS else '')}\" for k, v in list(clusters[\"clusters\"].items())[:NUM_KEYS]]))"
   ]
  },
  {
   "cell_type": "markdown",
   "id": "af097c24-d481-4ab7-a49b-3d3e9c52802b",
   "metadata": {},
   "source": [
    "# And an overall"
   ]
  },
  {
   "cell_type": "code",
   "execution_count": null,
   "id": "12bb1887-5798-4ba6-9a54-c1e538bc3b41",
   "metadata": {},
   "outputs": [],
   "source": [
    "flatten = lambda l: [item for sublist in l for item in sublist] \n",
    "greats, goods = set(), set()\n",
    "greatsperdim, goodsperdim = {}, {}\n",
    "for ndims in [\"3\", \"50\", \"100\", \"200\"]:\n",
    "    greatsperdim[ndims], goodsperdim[ndims] = list(), list()\n",
    "    for conf in [i for i in configs if i[\"embed_dimensions\"] == int(ndims)]:\n",
    "        ctx = SnakeContext.loader_context(config={**conf, \"debug\": False}, silent=True)\n",
    "        clusters = ctx.load(\"clusters\", loaders=dict(clusters=cluster_loader))\n",
    "        greatsperdim[ndims].append(set(clusters[\"clusters\"].keys()))\n",
    "        goodsperdim[ndims].append(set(flatten(clusters[\"clusters\"].values())))\n",
    "    \n",
    "# print(\"n-greats:\", len(greats))\n",
    "# print(\"n-goods:\", len(goods))\n",
    "\n",
    "print({k: dict(Counter([len(i) for i in v])) for k, v in greatsperdim.items()})\n",
    "consider_num = {k: [n for n,i in enumerate(v) if len(i) == int(k)*2][:1] for k, v in greatsperdim.items()}"
   ]
  },
  {
   "cell_type": "code",
   "execution_count": null,
   "id": "3ab17fb2-535e-4d8d-bb29-84bd2edb0906",
   "metadata": {},
   "outputs": [],
   "source": [
    "greats = set(flatten([greatsperdim[k][v[0]] for k, v in consider_num.items() if len(v)]))\n",
    "print(f\"In Kappa_0.5: {len(greats)}/{sum([int(i)*2 for i in consider_num.keys()])}\")\n",
    "goods = set(flatten([goodsperdim[k][v[0]] for k, v in consider_num.items() if len(v)]))\n",
    "print(f\"In Kappa_0.1: {len(goods)}\")"
   ]
  }
 ],
 "metadata": {
  "kernelspec": {
   "display_name": "Python 3 (ipykernel)",
   "language": "python",
   "name": "python3"
  },
  "language_info": {
   "codemirror_mode": {
    "name": "ipython",
    "version": 3
   },
   "file_extension": ".py",
   "mimetype": "text/x-python",
   "name": "python",
   "nbconvert_exporter": "python",
   "pygments_lexer": "ipython3",
   "version": "3.10.0"
  }
 },
 "nbformat": 4,
 "nbformat_minor": 5
}
