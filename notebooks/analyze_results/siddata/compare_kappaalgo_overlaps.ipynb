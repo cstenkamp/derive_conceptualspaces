{
 "cells": [
  {
   "cell_type": "code",
   "execution_count": null,
   "id": "18aaf356-2bb1-41e7-bd5b-47eeb323af93",
   "metadata": {},
   "outputs": [],
   "source": [
    "import os\n",
    "from os.path import join, isdir, isfile, abspath, dirname, splitext, basename, split\n",
    "\n",
    "from IPython.display import Markdown, display\n",
    "from dotenv import load_dotenv\n",
    "import numpy as np\n",
    "import pandas as pd\n",
    "\n",
    "from misc_util.pretty_print import pretty_print as print\n",
    "from derive_conceptualspace.pipeline import CustomContext, SnakeContext, load_envfiles\n",
    "from derive_conceptualspace.settings import ENV_PREFIX, get_setting\n",
    "\n",
    "from misc_util.logutils import setup_logging\n",
    "from misc_util.pretty_print import display, pretty_print as print\n",
    "from derive_conceptualspace.util.threedfigure import ThreeDFigure\n",
    "from derive_conceptualspace.semantic_directions.cluster_names import get_name_dict\n",
    "from derive_conceptualspace.pipeline import SnakeContext, load_envfiles, cluster_loader\n",
    "from derive_conceptualspace.util.result_analysis_tools import getfiles_allconfigs\n",
    "from derive_conceptualspace.util.desc_object import DescriptionList\n",
    "from derive_conceptualspace.evaluate.shallow_trees import classify_shallowtree\n",
    "\n",
    "pd.options.display.float_format = '{:.3f}'.format"
   ]
  },
  {
   "cell_type": "markdown",
   "id": "51e87f21-f213-4014-a6cd-b1ab8fd1deb5",
   "metadata": {},
   "source": [
    "## Analysis of different \"measures of faithfulness of the separation\""
   ]
  },
  {
   "cell_type": "code",
   "execution_count": null,
   "id": "33128878-cad7-4e87-86ee-eaacc7fc1ba3",
   "metadata": {},
   "outputs": [],
   "source": [
    "setup_logging()\n",
    "load_envfiles(\"siddata\")\n",
    "configs, print_cnf = getfiles_allconfigs(\"featureaxes\", verbose=True)"
   ]
  },
  {
   "cell_type": "code",
   "execution_count": null,
   "id": "dfa3b94b-00ad-417d-a37a-0f7f3d7b0413",
   "metadata": {},
   "outputs": [],
   "source": [
    "sample_ctx = SnakeContext.loader_context(config=configs[0]) #dict(debug=False, min_words_per_desc=80, dcm_quant_measure=\"count\")\n",
    "descriptions, dcm, embedding, featureaxes = sample_ctx.load(\"pp_descriptions\", \"filtered_dcm\", \"embedding\", \"featureaxes\")\n",
    "dcm.show_info(descriptions=descriptions)"
   ]
  },
  {
   "cell_type": "code",
   "execution_count": null,
   "id": "42bfa730-09f1-4eda-9193-7041438403f9",
   "metadata": {},
   "outputs": [],
   "source": [
    "%precision %.3f\n",
    "\n",
    "def show_metrics(featureaxes, metric=\"kappa_rank2rank_onlypos_min\", lamb1=0.5, lamb2=0.1):\n",
    "    #I'm interested in:\n",
    "    # *hat bin2bin/f_one ne hohe überschneidung mit anderen guten (kappa_rank2rank_onlypos_min, kappa_digitized_onlypos_2, kappa_count2rank_onlypos)\n",
    "    # *was sind so die überschneidungen dieser guten \n",
    "    all_metrics = list(list(featureaxes[\"metrics\"].values())[0].keys())\n",
    "    print(all_metrics)\n",
    "    one_metric = {k: v[metric] for k, v in featureaxes[\"metrics\"].items()}\n",
    "    one_metric = dict(sorted(one_metric.items(), reverse=True, key=lambda x : float('-inf') if np.isnan(x[1]) else x[1])) #https://stackoverflow.com/q/4240050/5122790\n",
    "    t1 = {k: v for k, v in one_metric.items() if v >= lamb1}\n",
    "    t2 = {k: v for k, v in one_metric.items() if v >= lamb2 and k not in t1.keys()}\n",
    "    print(f\"Lamb1: {lamb1} with {len(t1)} entries | Lamb2: {lamb2} with {len(t2)} entries | others: {len(one_metric)-len(t1)-len(t2)}\")\n",
    "    display(t1)\n",
    "    print(\"=\"*50)\n",
    "    display(t2)\n",
    "\n",
    "def highlight_nonzero_max(data):\n",
    "    #df.style.apply(highlight_nonzero_max, axis=0), https://stackoverflow.com/a/62639983/5122790\n",
    "    #df.style.highlight_max(color='lightgreen', axis=0)\n",
    "    return [f'font-weight: bold' if v == data.max() and v > 0 else '' for v in data]\n",
    "\n",
    "def generate_comparertable(metrics, maxval=1.1, minval=0.5):\n",
    "    all_metrics = list(list(metrics.values())[0].keys())\n",
    "    t1_permetric = {}\n",
    "    for metric in all_metrics:\n",
    "        one_metric = {k: v[metric] for k, v in metrics.items()}\n",
    "        one_metric = dict(sorted(one_metric.items(), reverse=True, key=lambda x : float('-inf') if np.isnan(x[1]) else x[1])) #https://stackoverflow.com/q/4240050/5122790\n",
    "        t1 = {k: v for k, v in one_metric.items() if v >= minval and v < maxval}\n",
    "        t1_permetric[metric] = set(t1.keys())\n",
    "    t1_table = np.zeros([len(t1_permetric), len(t1_permetric)])\n",
    "    for n1, k1 in enumerate(t1_permetric.values()):\n",
    "        for n2, k2 in enumerate(t1_permetric.values()):\n",
    "            t1_table[n1,n2] = len(k1&k2)/len(k1) if len(k1) > 0 else 0\n",
    "    columns = [i.replace(\"kappa\", \"k\").replace(\"dense\", \"d\").replace(\"rank2rank\", \"r2r\").replace(\"count2rank\", \"c2r\").replace(\"bin2bin\", \"b2b\").replace(\"f_one\", \"f1\").replace(\"digitized\", \"dig\").replace(\"_onlypos\", \"+\") for i in t1_permetric.keys()]\n",
    "    df = pd.DataFrame(t1_table, columns=columns, index=[f\"{i} ({len(list(t1_permetric.values())[n])})\" for n, i in enumerate(columns)])\n",
    "    df.values[tuple([np.arange(df.shape[0])]*2)] = np.nan\n",
    "    df = df.style.apply(highlight_nonzero_max, axis=1).format(precision=3)\n",
    "    return df"
   ]
  },
  {
   "cell_type": "code",
   "execution_count": null,
   "id": "ef50dd22-d775-4e02-aff0-76324edb6df0",
   "metadata": {
    "tags": []
   },
   "outputs": [],
   "source": [
    "show_metrics(featureaxes, lamb1=0.3, lamb2=0.05)\n",
    "#I'm interested in:\n",
    "# *hat bin2bin/f_one ne hohe überschneidung mit anderen guten (kappa_rank2rank_onlypos_min, kappa_digitized_onlypos_2, kappa_count2rank_onlypos)\n",
    "# *was sind so die überschneidungen dieser guten "
   ]
  },
  {
   "cell_type": "code",
   "execution_count": null,
   "id": "3d0d3d9a-3aba-428a-a48b-7d5f272c61e5",
   "metadata": {},
   "outputs": [],
   "source": [
    "generate_comparertable(sample_ctx.obj[\"featureaxes\"][\"metrics\"], minval=0.5)\n",
    "#look at combis of bin2bin, f_one, k_r2r+_min, k_dig+_2, k_c2r+"
   ]
  },
  {
   "cell_type": "markdown",
   "id": "f764ffdc-4eeb-4cca-a81d-cca2a7cc643a",
   "metadata": {},
   "source": [
    "* bin2bin und f1 haben sehr hohe überschneidung (bin2bin ist aber strenger)\n",
    "* k_r2r+_min and k_dig+_2 have the exact same results\n",
    "* k_r2r+_min and k_c2r+ don't have too high of an overlap\n",
    "* ALL of k_r2r+_min/k_dig+_2 (16), k_c2r+ (9) are in b2b\n",
    "* ALL of the onlypos-statistics are completely in the respective kappa bin2bin"
   ]
  },
  {
   "cell_type": "code",
   "execution_count": null,
   "id": "1085635c-882e-4284-b277-b3367241c189",
   "metadata": {},
   "outputs": [],
   "source": [
    "generate_comparertable(sample_ctx.obj[\"featureaxes\"][\"metrics\"], minval=0.1)"
   ]
  },
  {
   "cell_type": "code",
   "execution_count": null,
   "id": "15ca1827-f667-41f2-bac9-91b299a0370c",
   "metadata": {},
   "outputs": [],
   "source": [
    "generate_comparertable(sample_ctx.obj[\"featureaxes\"][\"metrics\"], minval=0.1, maxval=0.5)"
   ]
  }
 ],
 "metadata": {
  "kernelspec": {
   "display_name": "Python 3 (ipykernel)",
   "language": "python",
   "name": "python3"
  },
  "language_info": {
   "codemirror_mode": {
    "name": "ipython",
    "version": 3
   },
   "file_extension": ".py",
   "mimetype": "text/x-python",
   "name": "python",
   "nbconvert_exporter": "python",
   "pygments_lexer": "ipython3",
   "version": "3.10.0"
  }
 },
 "nbformat": 4,
 "nbformat_minor": 5
}
