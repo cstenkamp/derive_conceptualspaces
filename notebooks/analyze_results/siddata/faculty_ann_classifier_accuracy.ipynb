{
 "cells": [
  {
   "cell_type": "code",
   "execution_count": null,
   "metadata": {},
   "outputs": [],
   "source": [
    "import os\n",
    "from dotenv.main import load_dotenv\n",
    "load_dotenv(\"../docker/.env\")\n",
    "assert os.getenv(\"MONGO_INITDB_ROOT_USERNAME\") and os.getenv(\"MONGO_INITDB_ROOT_PASSWORD\")"
   ]
  },
  {
   "cell_type": "code",
   "execution_count": null,
   "metadata": {},
   "outputs": [],
   "source": [
    "from incense import ExperimentLoader\n",
    "import pandas as pd\n",
    "from fb_classifier.settings import MONGO_URI"
   ]
  },
  {
   "cell_type": "code",
   "execution_count": null,
   "metadata": {},
   "outputs": [],
   "source": [
    "loader = ExperimentLoader(mongo_uri=MONGO_URI, db_name='Masterarbeit')\n",
    "classifier_runs = [i for i in loader.find_by_name(\"Fachbereich_Classifier\") if i.status == \"COMPLETED\" and i.metrics]\n",
    "classifier_runs = [i for i in classifier_runs if i.to_dict()[\"config\"].get(\"PP_DATASET\") == \"siddata2022\"] #only those for the new dataset\n",
    "classifier_perf = pd.DataFrame([{**{\"date\": run.to_dict()[\"start_time\"], \"epochs\": run.to_dict()[\"config\"][\"ANN_EPOCHS\"]}, **{k: v.max() for k, v in run.metrics.items() if not \"seconds\" in k}} for run in classifier_runs]).set_index(\"date\")\n",
    "classifier_perf"
   ]
  },
  {
   "cell_type": "code",
   "execution_count": null,
   "metadata": {},
   "outputs": [],
   "source": [
    "print(f\"Best Test-Accuracy for Siddata2022 Dataset: {classifier_perf.max()['test_accuracy']:.2%}\")"
   ]
  }
 ],
 "metadata": {
  "celltoolbar": "Tags",
  "kernelspec": {
   "display_name": "Python 3 (ipykernel)",
   "language": "python",
   "name": "python3"
  },
  "language_info": {
   "codemirror_mode": {
    "name": "ipython",
    "version": 3
   },
   "file_extension": ".py",
   "mimetype": "text/x-python",
   "name": "python",
   "nbconvert_exporter": "python",
   "pygments_lexer": "ipython3",
   "version": "3.10.0"
  }
 },
 "nbformat": 4,
 "nbformat_minor": 4
}
