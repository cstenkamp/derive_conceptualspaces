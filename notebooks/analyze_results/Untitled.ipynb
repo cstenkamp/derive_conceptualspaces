{
 "cells": [
  {
   "cell_type": "code",
   "execution_count": null,
   "id": "49c4bcd7-3c78-4eee-87f7-e43f8decd338",
   "metadata": {},
   "outputs": [],
   "source": [
    "import matplotlib.pyplot as plt\n",
    "\n",
    "from derive_conceptualspace.pipeline import SnakeContext, load_envfiles\n",
    "from misc_util.logutils import setup_logging\n",
    "from misc_util.pretty_print import display\n",
    "from derive_conceptualspace.util.result_analysis_tools import getfiles_allconfigs\n",
    "from derive_conceptualspace.util.desc_object import DescriptionList\n",
    "from derive_conceptualspace.pipeline import cluster_loader\n",
    "\n",
    "plt.rcParams['figure.figsize'] = [16, 10]"
   ]
  },
  {
   "cell_type": "code",
   "execution_count": null,
   "id": "1ab17603-c0cc-4900-b94c-3e9efeb6f5ee",
   "metadata": {},
   "outputs": [],
   "source": [
    "setup_logging()\n",
    "load_envfiles(\"siddata\")\n",
    "configs, print_cnf = getfiles_allconfigs(\"filtered_dcm\", verbose=True)"
   ]
  },
  {
   "cell_type": "code",
   "execution_count": null,
   "id": "688a8bce-9c8b-47c5-8d3e-bbcb2edb7402",
   "metadata": {},
   "outputs": [],
   "source": [
    "# def filter_conf(conflist, restrictions=None):\n",
    "#     restrictions = restrictions or (lambda x: True)\n",
    "#     return [elem for elem in conflist if restrictions(elem)]\n",
    "\n",
    "# ctx2 = SnakeContext.loader_context(config=filter_conf(configs, restrictions=lambda x: x[\"embed_dimensions\"] == 50)[0])"
   ]
  },
  {
   "cell_type": "code",
   "execution_count": null,
   "id": "3555029f-b400-4ded-a2f2-91e52abcb7de",
   "metadata": {},
   "outputs": [],
   "source": [
    "ctx = SnakeContext.loader_context(config=configs[0], silent=False)"
   ]
  },
  {
   "cell_type": "code",
   "execution_count": null,
   "id": "a4dea318-ff27-4d38-8d15-0b3c99afa85d",
   "metadata": {},
   "outputs": [],
   "source": [
    "descriptions, filtered_dcm = ctx.load(\"pp_descriptions\", \"filtered_dcm\", # \"embedding\", \"clusters\"\n",
    "                        loaders=dict(pp_descriptions=DescriptionList.from_json, clusters=cluster_loader, embedding=lambda **args: args[\"embedding\"].embedding_))"
   ]
  },
  {
   "cell_type": "code",
   "execution_count": null,
   "id": "73df247e-4184-49a9-a599-ad6d5ed438ef",
   "metadata": {},
   "outputs": [],
   "source": [
    "display(ctx.display_output(\"pp_descriptions\"))"
   ]
  },
  {
   "cell_type": "code",
   "execution_count": null,
   "id": "e2dee425-819e-455a-96f0-109dffc49586",
   "metadata": {},
   "outputs": [],
   "source": [
    "filtered_dcm.show_info(descriptions=descriptions)"
   ]
  },
  {
   "cell_type": "markdown",
   "id": "69763884-fbdc-459d-ba67-b632e32b3ffa",
   "metadata": {},
   "source": [
    "<br><br><br><br>\n",
    "# Checking Frequencies of unprocessed & processed texts:"
   ]
  },
  {
   "cell_type": "code",
   "execution_count": null,
   "id": "ced5283d-3c42-420a-a5ed-5668ac926d50",
   "metadata": {},
   "outputs": [],
   "source": [
    "terms = [\"computer\", \"mathe\", \"mathematik\", \"wissenschaft\"]\n",
    "for term in terms:\n",
    "    print(f\"TF of `{term.ljust(max(len(i) for i in terms))}`: {filtered_dcm.term_freq(term, relative=True):.2%} | {filtered_dcm.term_freq(term):.0f}\")"
   ]
  },
  {
   "cell_type": "code",
   "execution_count": null,
   "id": "cd1e6c69-56f4-4782-8ca1-85e5aff057a0",
   "metadata": {},
   "outputs": [],
   "source": [
    "for term in [\"mathematik\", \"mathe\"]:\n",
    "    print(f\"Checking Frequencies for {term}\")\n",
    "    print(\"  Using Description.contains:\", sum([term in i for i in descriptions._descriptions]))\n",
    "    print(\"  Checking if it's in unprocessed-text:\", sum([term in i.unprocessed_text.lower() for i in descriptions._descriptions]))\n",
    "    print()"
   ]
  },
  {
   "cell_type": "markdown",
   "id": "bd06f4c4-2ef9-47d2-9548-4f1bc909c5ab",
   "metadata": {},
   "source": [
    "**Does Lemmatizing make it better?! Would \"Synsetizing\" help?**"
   ]
  },
  {
   "cell_type": "code",
   "execution_count": null,
   "id": "cb00d8fe-30e1-4f11-bfe3-476cdacc6514",
   "metadata": {},
   "outputs": [],
   "source": []
  }
 ],
 "metadata": {
  "kernelspec": {
   "display_name": "Python 3 (ipykernel)",
   "language": "python",
   "name": "python3"
  },
  "language_info": {
   "codemirror_mode": {
    "name": "ipython",
    "version": 3
   },
   "file_extension": ".py",
   "mimetype": "text/x-python",
   "name": "python",
   "nbconvert_exporter": "python",
   "pygments_lexer": "ipython3",
   "version": "3.10.0"
  }
 },
 "nbformat": 4,
 "nbformat_minor": 5
}
