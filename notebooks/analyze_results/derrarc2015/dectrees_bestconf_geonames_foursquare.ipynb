{
 "cells": [
  {
   "cell_type": "code",
   "execution_count": null,
   "id": "a93fad98-f19f-4395-9fa0-3504c7a22330",
   "metadata": {},
   "outputs": [],
   "source": [
    "import pyperclip\n",
    "import pandas as pd\n",
    "import numpy as np\n",
    "\n",
    "from misc_util.logutils import setup_logging\n",
    "from misc_util.pretty_print import Markdown, display\n",
    "\n",
    "from derive_conceptualspace.pipeline import SnakeContext, load_envfiles\n",
    "from derive_conceptualspace.util.result_analysis_tools import getfiles_allconfigs, highlight_nonzero_max, get_best_conf, df_to_latex\n",
    "from derive_conceptualspace.cli.args_from_filename import get_filename, print_envvars\n",
    "from derive_conceptualspace.evaluate.shallow_trees import classify_shallowtree_multi\n",
    "from derive_conceptualspace.util.desc_object import DescriptionList\n",
    "from derive_conceptualspace.pipeline import cluster_loader"
   ]
  },
  {
   "cell_type": "code",
   "execution_count": null,
   "id": "2433a549-13c0-4f2e-ae22-f9061690126e",
   "metadata": {},
   "outputs": [],
   "source": [
    "setup_logging()\n",
    "load_envfiles(\"placetypes\")"
   ]
  },
  {
   "cell_type": "markdown",
   "id": "1aaafffe-72bb-4a96-b558-a9680bd4807c",
   "metadata": {},
   "source": [
    "# Find best-performing parameter-combination per Target+Depth Combination"
   ]
  },
  {
   "cell_type": "code",
   "execution_count": null,
   "id": "a8446f6f-8483-40d7-aad8-7f7f72de86a1",
   "metadata": {
    "tags": []
   },
   "outputs": [],
   "source": [
    "metric = \"f1\"\n",
    "firsttime = True\n",
    "for target in [\"Geonames\", \"Foursquare\"]:\n",
    "    for dt_depth in [1,3,None]:\n",
    "        display(Markdown(f\"### Best for: {target}, depth {dt_depth}\"))\n",
    "        conf, perf = get_best_conf(target, verbose=True, forward_verbose=firsttime, balance_classes=True, one_vs_rest=True, dt_depth=dt_depth, test_percentage_crossval=0.3, metric=metric)\n",
    "        firsttime = False\n",
    "        \n",
    "        print_envvars(get_filename(conf, get_dependencies=False, doprint=False))\n",
    "        display(Markdown(f\"Best {metric}: **{perf:.4f}** <br><br> \"))"
   ]
  },
  {
   "cell_type": "markdown",
   "id": "f0cfa714-a953-462f-9ea5-4e86b2a6ae6d",
   "metadata": {},
   "source": [
    "<br><br><br><br><br><br>"
   ]
  },
  {
   "cell_type": "markdown",
   "id": "920bca6c-0aeb-4d65-a60b-92881e8f4bb1",
   "metadata": {},
   "source": [
    "# Find best overall config & run all for that one"
   ]
  },
  {
   "cell_type": "code",
   "execution_count": null,
   "id": "11cd5de3-b359-42fd-abf1-f49c26523b43",
   "metadata": {},
   "outputs": [],
   "source": [
    "conf, perf = get_best_conf(\"Geonames\", verbose=True, balance_classes=True, one_vs_rest=True, dt_depth=1, test_percentage_crossval=0.3, metric=\"f1\")\n",
    "\n",
    "ctx = SnakeContext.loader_context(config=conf, silent=False)\n",
    "descriptions, clusters, embedding = ctx.load(\"pp_descriptions\", \"clusters\", \"embedding\", \n",
    "                  loaders=dict(pp_descriptions=DescriptionList.from_json, clusters=cluster_loader, embedding=lambda **args: args[\"embedding\"].embedding_))\n",
    "\n",
    "print_envvars(get_filename(conf, get_dependencies=False, doprint=False))"
   ]
  },
  {
   "cell_type": "code",
   "execution_count": null,
   "id": "70a29de5-185f-4b34-851a-4d1845ec78f7",
   "metadata": {
    "tags": []
   },
   "outputs": [],
   "source": [
    "res = classify_shallowtree_multi(clusters, embedding, descriptions, ctx.obj[\"dataset_class\"], verbose=False)"
   ]
  },
  {
   "cell_type": "code",
   "execution_count": null,
   "id": "0aac2ae6-1d53-458c-b20b-603c81fdceac",
   "metadata": {},
   "outputs": [],
   "source": [
    "# old, reported results (all of them weighted) (delete me if executing anew)\n",
    "\n",
    "SHOW_CROSSVAL_NUM = 5\n",
    "SHOW_METRIC = \"f1\"\n",
    "\n",
    "styles = [{'selector': 'th', 'props': [('vertical-align','top'),('text-align','left')]}] #('border-style', 'solid')  #see https://stackoverflow.com/a/55904239/5122790\n",
    "styler = lambda df: df.style.apply(highlight_nonzero_max, axis=0).format('{:.3f}'.format, na_rep=\"-\").set_table_styles(styles)\n",
    "    \n",
    "for taxonomy in set(res.columns.get_level_values(0)):\n",
    "    display(Markdown(f\"## {taxonomy}\"))\n",
    "    df = res.T.xs(taxonomy).xs(SHOW_CROSSVAL_NUM)[SHOW_METRIC].unstack(level=[1])\n",
    "    df.columns = pd.Series(df.columns.fillna(0).astype(int).astype(str)).replace(\"0\", \"-\")\n",
    "    display(styler(df))\n",
    "    pyperclip.copy(df_to_latex(df, styler, rotate=False, caption=f\"This algorithm on {taxonomy}\"))"
   ]
  },
  {
   "cell_type": "code",
   "execution_count": null,
   "id": "8aa7155d-fd2b-446b-a0c9-01ce1f05b525",
   "metadata": {},
   "outputs": [],
   "source": [
    "# new results (weighted & unweighted) \n",
    "\n",
    "SHOW_CROSSVAL_NUM = 5\n",
    "SHOW_METRIC = \"f1\"\n",
    "\n",
    "styles = [{'selector': 'th', 'props': [('vertical-align','top'),('text-align','left')]}] #('border-style', 'solid')  #see https://stackoverflow.com/a/55904239/5122790\n",
    "styler = lambda df: df.style.apply(highlight_nonzero_max, axis=0).format('{:.3f}'.format, na_rep=\"-\").set_table_styles(styles)\n",
    "    \n",
    "for weighted in [True, False]:\n",
    "    wres = pd.DataFrame(np.array([[i[0] if weighted else i[1] for i in row] for row in res.values]), index=res.index, columns=res.columns)\n",
    "    for taxonomy in set(wres.columns.get_level_values(0)):\n",
    "        display(Markdown(f\"## {taxonomy} ({'weighted' if weighted else 'unweighted'})\"))\n",
    "        df = wres.T.xs(taxonomy).xs(SHOW_CROSSVAL_NUM)[SHOW_METRIC].unstack(level=[1])\n",
    "        df.columns = pd.Series(df.columns.fillna(0).astype(int).astype(str)).replace(\"0\", \"-\")\n",
    "        display(styler(df))"
   ]
  }
 ],
 "metadata": {
  "kernelspec": {
   "display_name": "Python 3 (ipykernel)",
   "language": "python",
   "name": "python3"
  },
  "language_info": {
   "codemirror_mode": {
    "name": "ipython",
    "version": 3
   },
   "file_extension": ".py",
   "mimetype": "text/x-python",
   "name": "python",
   "nbconvert_exporter": "python",
   "pygments_lexer": "ipython3",
   "version": "3.10.0"
  }
 },
 "nbformat": 4,
 "nbformat_minor": 5
}
