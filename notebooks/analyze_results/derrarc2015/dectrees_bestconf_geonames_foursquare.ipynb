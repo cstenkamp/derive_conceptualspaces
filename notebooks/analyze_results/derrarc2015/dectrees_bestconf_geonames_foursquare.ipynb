{
 "cells": [
  {
   "cell_type": "code",
   "execution_count": null,
   "id": "a93fad98-f19f-4395-9fa0-3504c7a22330",
   "metadata": {},
   "outputs": [],
   "source": [
    "import pyperclip\n",
    "\n",
    "from misc_util.logutils import setup_logging\n",
    "from misc_util.pretty_print import Markdown, display\n",
    "\n",
    "from derive_conceptualspace.pipeline import SnakeContext, load_envfiles\n",
    "from derive_conceptualspace.util.result_analysis_tools import getfiles_allconfigs, highlight_nonzero_max, get_best_conf, df_to_latex\n",
    "from derive_conceptualspace.cli.args_from_filename import get_filename, print_envvars\n",
    "from derive_conceptualspace.evaluate.shallow_trees import classify_shallowtree_multi\n",
    "from derive_conceptualspace.util.desc_object import DescriptionList\n",
    "from derive_conceptualspace.pipeline import cluster_loader"
   ]
  },
  {
   "cell_type": "markdown",
   "id": "1aaafffe-72bb-4a96-b558-a9680bd4807c",
   "metadata": {},
   "source": [
    "## Find best-performing parameter-combination"
   ]
  },
  {
   "cell_type": "code",
   "execution_count": null,
   "id": "f5983b1f-bd5c-4c17-ad9a-74bd105469a7",
   "metadata": {},
   "outputs": [],
   "source": [
    "getfiles_allconfigs(\"clusters\")"
   ]
  },
  {
   "cell_type": "code",
   "execution_count": null,
   "id": "4f11188e-6e84-400f-866f-01285c2452c5",
   "metadata": {
    "tags": []
   },
   "outputs": [],
   "source": [
    "setup_logging()\n",
    "load_envfiles(\"placetypes\")\n",
    "conf, perf = get_best_conf(\"Geonames\", verbose=True, balance_classes=True, one_vs_rest=True, dt_depth=1, test_percentage_crossval=0.33)"
   ]
  },
  {
   "cell_type": "code",
   "execution_count": null,
   "id": "974a5921-31d1-4f2a-9c6f-85bbc9d561bf",
   "metadata": {},
   "outputs": [],
   "source": [
    "print_envvars(get_filename(conf, get_dependencies=False, doprint=False))"
   ]
  },
  {
   "cell_type": "code",
   "execution_count": null,
   "id": "153bc072-b08e-4148-b7c0-ae2d124c7cf4",
   "metadata": {},
   "outputs": [],
   "source": [
    "ctx = SnakeContext.loader_context(config=conf, silent=False)\n",
    "descriptions, clusters, embedding = ctx.load(\"pp_descriptions\", \"clusters\", \"embedding\", \n",
    "                          loaders=dict(pp_descriptions=DescriptionList.from_json, clusters=cluster_loader, embedding=lambda **args: args[\"embedding\"].embedding_))"
   ]
  },
  {
   "cell_type": "code",
   "execution_count": null,
   "id": "70a29de5-185f-4b34-851a-4d1845ec78f7",
   "metadata": {
    "tags": []
   },
   "outputs": [],
   "source": [
    "res = classify_shallowtree_multi(clusters, embedding, descriptions, ctx.obj[\"dataset_class\"], verbose=False)"
   ]
  },
  {
   "cell_type": "code",
   "execution_count": null,
   "id": "0aac2ae6-1d53-458c-b20b-603c81fdceac",
   "metadata": {},
   "outputs": [],
   "source": [
    "SHOW_CROSSVAL_NUM = 5\n",
    "\n",
    "styles = [{'selector': 'th', 'props': [('vertical-align','top'),('text-align','left')]}] #('border-style', 'solid')  #see https://stackoverflow.com/a/55904239/5122790\n",
    "styler = lambda df: df.style.apply(highlight_nonzero_max, axis=0).format(precision=3).set_table_styles(styles)\n",
    "    \n",
    "for taxonomy in set(res.index.get_level_values(0)):\n",
    "    display(Markdown(f\"## {taxonomy}\"))\n",
    "    df = res.xs(SHOW_CROSSVAL_NUM, level=1).xs(taxonomy).unstack(level=[1])\n",
    "    display(styler(df))\n",
    "    pyperclip.copy(df_to_latex(df, styler, rotate=False, caption=\"This algorithm on Placetypes\"))"
   ]
  },
  {
   "cell_type": "code",
   "execution_count": null,
   "id": "e306d3ca-8de1-4757-9956-bf96182da2ed",
   "metadata": {},
   "outputs": [],
   "source": []
  }
 ],
 "metadata": {
  "kernelspec": {
   "display_name": "Python 3 (ipykernel)",
   "language": "python",
   "name": "python3"
  },
  "language_info": {
   "codemirror_mode": {
    "name": "ipython",
    "version": 3
   },
   "file_extension": ".py",
   "mimetype": "text/x-python",
   "name": "python",
   "nbconvert_exporter": "python",
   "pygments_lexer": "ipython3",
   "version": "3.10.0"
  }
 },
 "nbformat": 4,
 "nbformat_minor": 5
}
