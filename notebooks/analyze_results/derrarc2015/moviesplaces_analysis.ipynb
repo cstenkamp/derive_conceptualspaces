{
 "cells": [
  {
   "cell_type": "markdown",
   "id": "b4ce3431-7810-468e-9289-8a7482bde8fb",
   "metadata": {},
   "source": [
    "# Lengths of the associated Bags-of-Words"
   ]
  },
  {
   "cell_type": "code",
   "execution_count": null,
   "id": "fe8f445c-9b04-4b7c-9db0-14fe2d5b0596",
   "metadata": {},
   "outputs": [],
   "source": [
    "from functools import partial\n",
    "\n",
    "import pandas as pd\n",
    "import matplotlib.pyplot as plt\n",
    "from matplotlib.backends.backend_pdf import PdfPages\n",
    "import numpy as np\n",
    "from tqdm import tqdm\n",
    "\n",
    "from misc_util.pretty_print import Markdown\n",
    "from derive_conceptualspace.util.mpl_tools import show_hist\n",
    "from derive_conceptualspace.load_data.load_semanticspaces import load_ppmi_weighted_feature_vectors\n",
    "\n",
    "plt.rcParams['figure.figsize'] = [16, 8]\n",
    "largedfstyle = [dict(selector=\"th\", props= [('font-size', '18px')]), dict(selector=\"td\", props= [('font-size', '18px')])]\n",
    "flatten = lambda l: [item for sublist in l for item in sublist] "
   ]
  },
  {
   "cell_type": "markdown",
   "id": "3756c1da-dcbb-443d-bd1e-18e5865c9113",
   "metadata": {},
   "source": [
    "## Places\n",
    "### Words overall"
   ]
  },
  {
   "cell_type": "code",
   "execution_count": null,
   "id": "a015309a-4231-46a6-ba34-f1dbf618866d",
   "metadata": {},
   "outputs": [],
   "source": [
    "data_base = \"/home/chris/Documents/UNI_neu/Masterarbeit/data_new/semanticspaces/\"\n",
    "vecs = load_ppmi_weighted_feature_vectors(data_base, \"places\")\n",
    "counts = pd.DataFrame({k: {\"unique words\": len(v), \"words\": sum(v.values())} for k, v in vecs.items()}).T"
   ]
  },
  {
   "cell_type": "code",
   "execution_count": null,
   "id": "a66eedd5-3fd1-4f48-92c4-b93b9e1040ff",
   "metadata": {},
   "outputs": [],
   "source": [
    "all_words = set(flatten([set(k.keys()) for k in vecs.values()]))\n",
    "summed_counts = {i: {\"df\": 0, \"stf\": 0} for i in all_words}\n",
    "for v in tqdm(vecs.values()):\n",
    "    for word, occs in v.items():\n",
    "        summed_counts[word][\"stf\"] += occs\n",
    "        summed_counts[word][\"df\"] += 1\n",
    "words_of_len = {key: {nwords: len({k: v for k, v in summed_counts.items() if v[key] >= nwords}) for nwords in [1, 2, 5, 10, 25, 50, 100, 500, 1000, len(vecs)//10, len(vecs)//4]} for key in [\"df\", \"stf\"]}\n",
    "display(Markdown(\"### Number of words that have a df or stf of at least...\"))\n",
    "pd.DataFrame(words_of_len).T.style.set_table_styles(largedfstyle)"
   ]
  },
  {
   "cell_type": "code",
   "execution_count": null,
   "id": "d6d5449f-3e9f-41e0-96a2-784a52f8bf4f",
   "metadata": {},
   "outputs": [],
   "source": [
    "%%capture\n",
    "fig, ax = show_hist(counts[\"words\"], cutoff_percentile=90, zero_bin=True, ylabel=\"unique words\")"
   ]
  },
  {
   "cell_type": "code",
   "execution_count": null,
   "id": "52d2afd8-d2fb-4846-b6b2-32815aaae5c3",
   "metadata": {},
   "outputs": [],
   "source": [
    "ax.set_ylabel(\"Number of Entities\", fontsize=26)\n",
    "ax.set_xlabel(\"Words\", fontsize=26)\n",
    "ax.get_xticklabels()[-1].set_text(ax.get_xticklabels()[-1].get_text().replace(\"-\",\"-\\n\"))\n",
    "ax.set_xticklabels(ax.get_xticklabels(), fontsize=22)\n",
    "ax.set_yticklabels(ax.get_yticklabels(), fontsize=22)\n",
    "ax.grid()\n",
    "ax.set_title(\"\");"
   ]
  },
  {
   "cell_type": "code",
   "execution_count": null,
   "id": "3d345c13-498e-441a-84d8-6a0e47855db0",
   "metadata": {},
   "outputs": [],
   "source": [
    "with PdfPages(\"/home/chris/Documents/UNI_neu/Masterarbeit/MastersThesisText/graphics/figures/placetypes_dist.pdf\") as pdf:\n",
    "    plt.show()\n",
    "    pdf.savefig(fig, bbox_inches='tight')\n",
    "    \n",
    "fig"
   ]
  },
  {
   "cell_type": "markdown",
   "id": "9871fbb6-0cad-4f5d-80a9-85f006a25f90",
   "metadata": {},
   "source": [
    "<br><br> \n",
    "### Unique words"
   ]
  },
  {
   "cell_type": "code",
   "execution_count": null,
   "id": "9a5bb3a8-2173-4637-aeff-1c99ecc458e6",
   "metadata": {},
   "outputs": [],
   "source": [
    "%%capture\n",
    "fig, ax = show_hist(counts[\"unique words\"], cutoff_percentile=92, zero_bin=True, ylabel=\"unique words\")"
   ]
  },
  {
   "cell_type": "code",
   "execution_count": null,
   "id": "51754950-9c87-4732-9002-5ac70f76411f",
   "metadata": {},
   "outputs": [],
   "source": [
    "ax.set_ylabel(\"Number of Entities\", fontsize=26)\n",
    "ax.set_xlabel(\"Unique Words\", fontsize=26)\n",
    "ax.get_xticklabels()[-1].set_text(ax.get_xticklabels()[-1].get_text().replace(\"-\",\"-\\n\"))\n",
    "ax.set_xticklabels(ax.get_xticklabels(), fontsize=22)\n",
    "ax.set_yticklabels(ax.get_yticklabels(), fontsize=22)\n",
    "ax.grid()\n",
    "ax.set_title(\"\");"
   ]
  },
  {
   "cell_type": "code",
   "execution_count": null,
   "id": "3dcddb0b-751c-46b5-a7fa-458475bba28b",
   "metadata": {},
   "outputs": [],
   "source": [
    "with PdfPages(\"/home/chris/Documents/UNI_neu/Masterarbeit/MastersThesisText/graphics/figures/placetypes_dist_unique.pdf\") as pdf:\n",
    "    plt.show()\n",
    "    pdf.savefig(fig, bbox_inches='tight')\n",
    "    \n",
    "fig"
   ]
  },
  {
   "cell_type": "code",
   "execution_count": null,
   "id": "9f26ddad-7cc4-4f06-a9a3-0807b8fdee8d",
   "metadata": {},
   "outputs": [],
   "source": [
    "aggs = counts.agg((min, np.mean, np.median, min), axis=\"rows\")\n",
    "aggs = pd.concat((aggs, counts.quantile([.05, .95])))\n",
    "aggs.astype(int).style.set_table_styles(largedfstyle)"
   ]
  },
  {
   "cell_type": "markdown",
   "id": "6f0d879e-5644-4c65-927b-2f4bc8beb54b",
   "metadata": {},
   "source": [
    "<br><br><br><br> \n",
    "## Movies"
   ]
  },
  {
   "cell_type": "code",
   "execution_count": null,
   "id": "292acf7f-cc89-4a63-9c5d-b254fb568225",
   "metadata": {},
   "outputs": [],
   "source": [
    "data_base = \"/home/chris/Documents/UNI_neu/Masterarbeit/data_new/semanticspaces/\"\n",
    "vecs = load_ppmi_weighted_feature_vectors(data_base, \"movies\")"
   ]
  },
  {
   "cell_type": "code",
   "execution_count": null,
   "id": "2931528a-e027-478e-bc7f-1592ebf3792b",
   "metadata": {},
   "outputs": [],
   "source": [
    "all_words = set(flatten([set(k.keys()) for k in vecs.values()]))\n",
    "summed_counts = {i: {\"df\": 0, \"stf\": 0} for i in all_words}\n",
    "for v in tqdm(vecs.values()):\n",
    "    for word, occs in v.items():\n",
    "        summed_counts[word][\"stf\"] += occs\n",
    "        summed_counts[word][\"df\"] += 1\n",
    "words_of_len = {key: {nwords: len({k: v for k, v in summed_counts.items() if v[key] >= nwords}) for nwords in [1, 2, 5, 10, 25, 50, 100, 500, 1000, len(vecs)//10, len(vecs)//4]} for key in [\"df\", \"stf\"]}\n",
    "display(Markdown(\"### Number of words that have a df or stf of at least...\"))\n",
    "pd.DataFrame(words_of_len).T.style.set_table_styles(largedfstyle)"
   ]
  },
  {
   "cell_type": "code",
   "execution_count": null,
   "id": "7fb52ecf-d454-4913-a74d-fb1e14244249",
   "metadata": {},
   "outputs": [],
   "source": [
    "vecs = {j: vecs[j] for j in [i[0] for i in sorted({k:sum(v.values()) for k, v in vecs.items()}.items(), key=lambda x:x[1], reverse=True)[:15000]]}\n",
    "# \"we selected the 15.000 movies whose associated reviews contained the highest number of words\" - when I do it like this it is consistent with the rest of the data\n",
    "counts = pd.DataFrame({k: {\"unique words\": len(v), \"words\": sum(v.values())} for k, v in vecs.items()}).T"
   ]
  },
  {
   "cell_type": "code",
   "execution_count": null,
   "id": "69075f68-9776-404d-80a7-c4e3c2758e71",
   "metadata": {},
   "outputs": [],
   "source": [
    "aggs = counts.agg((min, np.mean, np.median, min), axis=\"rows\")\n",
    "aggs = pd.concat((aggs, counts.quantile([.05, .95])))\n",
    "aggs.astype(int).style.set_table_styles(largedfstyle)"
   ]
  },
  {
   "cell_type": "code",
   "execution_count": null,
   "id": "333888fe-ad06-4d05-a4ee-23c13676ba0f",
   "metadata": {},
   "outputs": [],
   "source": []
  }
 ],
 "metadata": {
  "kernelspec": {
   "display_name": "Python 3 (ipykernel)",
   "language": "python",
   "name": "python3"
  },
  "language_info": {
   "codemirror_mode": {
    "name": "ipython",
    "version": 3
   },
   "file_extension": ".py",
   "mimetype": "text/x-python",
   "name": "python",
   "nbconvert_exporter": "python",
   "pygments_lexer": "ipython3",
   "version": "3.10.0"
  }
 },
 "nbformat": 4,
 "nbformat_minor": 5
}
