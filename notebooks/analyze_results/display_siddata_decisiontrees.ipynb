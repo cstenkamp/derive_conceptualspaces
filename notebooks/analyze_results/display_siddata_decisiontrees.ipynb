{
 "cells": [
  {
   "cell_type": "code",
   "execution_count": null,
   "id": "49c4bcd7-3c78-4eee-87f7-e43f8decd338",
   "metadata": {},
   "outputs": [],
   "source": [
    "from derive_conceptualspace.evaluate.shallow_trees import classify_shallowtree\n",
    "from derive_conceptualspace.pipeline import SnakeContext, load_envfiles\n",
    "from derive_conceptualspace.pipeline import cluster_loader\n",
    "from derive_conceptualspace.settings import DEFAULT_N_CPUS\n",
    "from derive_conceptualspace.util.desc_object import DescriptionList\n",
    "from derive_conceptualspace.util.result_analysis_tools import getfiles_allconfigs\n",
    "from derive_conceptualspace.util.threadworker import WorkerPool\n",
    "from misc_util.logutils import setup_logging\n",
    "from misc_util.pretty_print import display\n",
    "\n",
    "import warnings\n",
    "warnings.simplefilter(action='ignore', category=FutureWarning)"
   ]
  },
  {
   "cell_type": "code",
   "execution_count": null,
   "id": "5bd9ca60-6c61-463f-adad-2dff3a23a8af",
   "metadata": {},
   "outputs": [],
   "source": [
    "setup_logging()\n",
    "load_envfiles(\"siddata\")\n",
    "configs, print_cnf = getfiles_allconfigs(\"clusters\", verbose=True)"
   ]
  },
  {
   "cell_type": "code",
   "execution_count": null,
   "id": "0c538ca8-0404-47ff-bf56-1d665f2eb546",
   "metadata": {},
   "outputs": [],
   "source": [
    "N_CPUS = DEFAULT_N_CPUS-1\n",
    "with WorkerPool(N_CPUS, pgbar=\"Fetching clusters..\") as pool:\n",
    "    get_featureaxes = lambda conf: ((ctx := SnakeContext.loader_context(config=conf, silent=True)).get_important_settings(), ctx.load(\"clusters\"), conf)\n",
    "    perconf_list, interrupted = pool.work(configs, get_featureaxes)"
   ]
  },
  {
   "cell_type": "code",
   "execution_count": null,
   "id": "741276b1-44a9-454a-a299-ea562840ddd1",
   "metadata": {},
   "outputs": [],
   "source": [
    "print(\"Number of clusters per configs:\", [len(x[1][\"clusters\"]) for x in perconf_list])\n",
    "display(\"Taking one of the configs with the most clusters...\")\n",
    "settings_str, clusters, conf = max(perconf_list, key=lambda x: len(x[1][\"clusters\"]))\n",
    "display(settings_str[1])\n",
    "display(\"Loading the rest of the necessary config...\")\n",
    "ctx, (embedding, descriptions) = (ctx := SnakeContext.loader_context(config=conf, silent=True)), ctx.load(\"embedding\", \"pp_descriptions\")\n",
    "display(\"loading done.\")"
   ]
  },
  {
   "cell_type": "code",
   "execution_count": null,
   "id": "d7661009-d4ea-47a5-80c7-21ffddc5fa39",
   "metadata": {
    "tags": [
     "keep_output"
    ]
   },
   "outputs": [
    {
     "name": "stdout",
     "output_type": "stream",
     "text": [
      "Dropping 4623/11942 (38.71%) courses - there is no Fachbereich for them\n",
      "64 courses are assigned more than 1 Fachbereich!\n"
     ]
    },
    {
     "name": "stderr",
     "output_type": "stream",
     "text": [
      "derive_conceptualspace/load_data/dataset_specifics/siddata2022.py:38: UserWarning: Will return the first Fachbereich for those ambiguous courses!\n"
     ]
    },
    {
     "data": {
      "text/markdown": [
       "<span style=\"font-size:11pt\">Using classes from fachbereich - 7319/11942 entities have a class</span>"
      ],
      "text/plain": [
       "<IPython.core.display.Markdown object>"
      ]
     },
     "metadata": {},
     "output_type": "display_data"
    },
    {
     "data": {
      "text/markdown": [
       "<span style=\"font-size:11pt\">Highest-ranking descriptions [with any class] per dimension:<br>    <span style=\"color: #0000ff\">daran anschliessend    </span>: Karl Barth-Tagung 2019: \"Von Gott reden!\"<br>    <span style=\"color: #0000ff\">bewerber               </span>: Web Publishing<br>    <span style=\"color: #0000ff\">formel                 </span>: Aktuelle Beispielanalysen zur Kulturvermittlung in den Printmedien (Tageszeitung, Wochenzeitung, Magazin) (NDL4/5, LbSb)<br>    <span style=\"color: #0000ff\">800                    </span>: Exkursion Flandern (14.-19.9.2009): Brüssel, Gent, Antwerpen und Leuven<br>    <span style=\"color: #0000ff\">sprache                </span>: Gesprochene und geschriebene Sprache (B1, B2)<br>    <span style=\"color: #0000ff\">turnen                 </span>: Interkulturelle Kompetenz – aufgezeigt anhand der Zielkulturen China und Indien<br>    <span style=\"color: #0000ff\">2021 16                </span>: Einführungsveranstaltung: Vorbereitungsseminar „… damit ihr einander kennenlernt“ (Sure 49,13) Interreligiöse Studientage vom 29.-30.03.2021 in Goslar (Bezugsmodul: Interreligiöse und interkulturelle Studien)<br>    <span style=\"color: #0000ff\">kologisch              </span>: Strafvollzug<br>    <span style=\"color: #0000ff\">programmiersprache     </span>: Informatik A: Algorithmen<br>    <span style=\"color: #0000ff\">audiovisuell           </span>: Medien und Gesellschaft, Teil 1<br>    <span style=\"color: #0000ff\">anrechenbar            </span>: Lehre und Lernen von Kompetenzen in modularisierten Studiengängen, Hochschuldidaktische Qualifizierung (Modul II, Teil 2)<br>    <span style=\"color: #0000ff\">arbeitsaufgabe         </span>: Grundlehre Design - Gestaltung, Information, Kommunikation<br>    <span style=\"color: #0000ff\">einfuhrung allgemein   </span>: Strafrecht I, 1. Sem. Dipl. u. 1. Sem. LL.M. Dt. Recht)<br>    <span style=\"color: #0000ff\">kommunikationsstrategie</span>: \"Alt ist der, der aufhört neugierig zu sein\" (Irisches Sprichwort) Perspektiven und Entwicklung im Beruf ab dem 50. Lebensjahr<br>    <span style=\"color: #0000ff\">gebet                  </span>: Kongress \"Frauen in kirchlichen Ämtern\"<br>    <span style=\"color: #0000ff\">erfindung              </span>: Material und Methoden II (Grundmodul Einführung in textile Sachverhalte, Methoden und Kontexte)<br>    <span style=\"color: #0000ff\">aktivierung studierend </span>: Grundkurs Spanisch II (Gruppe A)<br>    <span style=\"color: #0000ff\">madchen                </span>: Essstörungen, Sexualität und Selbstinszenierung: Die Aneignung des Körpers als Entwicklungsaufgabe in der weiblichen Adoleszenz<br>    <span style=\"color: #0000ff\">au szlig erde          </span>: Vorlesung: System Lebewesen/Ökozonen<br>    <span style=\"color: #0000ff\">mitbestimmung          </span>: Recht der Unternehmensmitbestimmung, ab 5. Sem. Dipl. WPF SP 2 u. 6. Sem. LL.B. PB 3 (nur 2. Semesterhälfte)</span>"
      ],
      "text/plain": [
       "<IPython.core.display.Markdown object>"
      ]
     },
     "metadata": {},
     "output_type": "display_data"
    },
    {
     "data": {
      "text/markdown": [
       "<span style=\"font-size:11pt\">Labels (10 classes): <span style=\"color: #0000ff\">Sprache</span>: 1719, <span style=\"color: #0000ff\">Erziehung/Kultur</span>: 2081, <span style=\"color: #0000ff\">Kultur/Geo</span>: 1473, <span style=\"color: #0000ff\">Sozial</span>: 707, <span style=\"color: #0000ff\">Rechtswiss</span>: 350, <span style=\"color: #0000ff\">Humanwiss</span>: 384, <span style=\"color: #0000ff\">Bio/Chemie</span>: 166, <span style=\"color: #0000ff\">Mathe/Info</span>: 186, <span style=\"color: #0000ff\">Physik</span>: 147, <span style=\"color: #0000ff\">Wiwi</span>: 106</span>"
      ],
      "text/plain": [
       "<IPython.core.display.Markdown object>"
      ]
     },
     "metadata": {},
     "output_type": "display_data"
    },
    {
     "data": {
      "text/markdown": [
       "<span style=\"font-size:11pt\">Eval-Settings: type: <span style=\"color: #0000ff\">one-vs-rest</span>, DT-Depth: <span style=\"color: #0000ff\">1</span>, train-test-split:<span style=\"color: #0000ff\"> 33.0% in test-set </span></span>"
      ],
      "text/plain": [
       "<IPython.core.display.Markdown object>"
      ]
     },
     "metadata": {},
     "output_type": "display_data"
    },
    {
     "name": "stderr",
     "output_type": "stream",
     "text": [
      "Warning: node 0 in graph[1] Tree already defined\n",
      "Some nodes will be renamed.\n",
      "Warning: node 0 in graph[1] Tree already defined\n",
      "Some nodes will be renamed.\n",
      "Warning: node 0 in graph[1] Tree already defined\n",
      "Some nodes will be renamed.\n",
      "Warning: node 0 in graph[1] Tree already defined\n",
      "Some nodes will be renamed.\n",
      "Warning: node 0 in graph[1] Tree already defined\n",
      "Some nodes will be renamed.\n"
     ]
    },
    {
     "data": {
      "image/svg+xml": [
       "<?xml version=\"1.0\" encoding=\"UTF-8\" standalone=\"no\"?>\n",
       "<!DOCTYPE svg PUBLIC \"-//W3C//DTD SVG 1.1//EN\"\n",
       " \"http://www.w3.org/Graphics/SVG/1.1/DTD/svg11.dtd\">\n",
       "<!-- Generated by graphviz version 2.43.0 (0)\n",
       " -->\n",
       "<!-- Title: root Pages: 1 -->\n",
       "<svg width=\"881pt\" height=\"177pt\"\n",
       " viewBox=\"0.00 0.00 880.50 177.00\" xmlns=\"http://www.w3.org/2000/svg\" xmlns:xlink=\"http://www.w3.org/1999/xlink\">\n",
       "<g id=\"graph0\" class=\"graph\" transform=\"scale(1 1) rotate(0) translate(4 173)\">\n",
       "<title>root</title>\n",
       "<polygon fill=\"white\" stroke=\"transparent\" points=\"-4,4 -4,-173 876.5,-173 876.5,4 -4,4\"/>\n",
       "<!-- 0 -->\n",
       "<g id=\"node1\" class=\"node\">\n",
       "<title>0</title>\n",
       "<path fill=\"#ffffff\" stroke=\"black\" d=\"M385,-169C385,-169 12,-169 12,-169 6,-169 0,-163 0,-157 0,-157 0,-106 0,-106 0,-100 6,-94 12,-94 12,-94 385,-94 385,-94 391,-94 397,-100 397,-106 397,-106 397,-157 397,-157 397,-163 391,-169 385,-169\"/>\n",
       "<text text-anchor=\"start\" x=\"15.5\" y=\"-150.3\" font-family=\"Helvetica,sans-Serif\" font-size=\"14.00\">erziehungswissenschaft,differenz,erziehung bildung ≤ 4959.5</text>\n",
       "<text text-anchor=\"start\" x=\"150\" y=\"-135.3\" font-family=\"Helvetica,sans-Serif\" font-size=\"14.00\">samples = 4903</text>\n",
       "<text text-anchor=\"start\" x=\"125.5\" y=\"-120.3\" font-family=\"Helvetica,sans-Serif\" font-size=\"14.00\">value = [2451.5, 2451.5]</text>\n",
       "<text text-anchor=\"start\" x=\"125\" y=\"-105.3\" font-family=\"Helvetica,sans-Serif\" font-size=\"14.00\">class = Erziehung/Kultur</text>\n",
       "</g>\n",
       "<!-- 1 -->\n",
       "<g id=\"node2\" class=\"node\">\n",
       "<title>1</title>\n",
       "<path fill=\"#f3c5a4\" stroke=\"black\" d=\"M268.5,-58C268.5,-58 94.5,-58 94.5,-58 88.5,-58 82.5,-52 82.5,-46 82.5,-46 82.5,-12 82.5,-12 82.5,-6 88.5,0 94.5,0 94.5,0 268.5,0 268.5,0 274.5,0 280.5,-6 280.5,-12 280.5,-12 280.5,-46 280.5,-46 280.5,-52 274.5,-58 268.5,-58\"/>\n",
       "<text text-anchor=\"start\" x=\"133\" y=\"-40.3\" font-family=\"Helvetica,sans-Serif\" font-size=\"14.00\">samples = 3352</text>\n",
       "<text text-anchor=\"start\" x=\"93.5\" y=\"-25.3\" font-family=\"Helvetica,sans-Serif\" font-size=\"14.00\">value = [1930.635, 1042.672]</text>\n",
       "<text text-anchor=\"start\" x=\"142.5\" y=\"-10.3\" font-family=\"Helvetica,sans-Serif\" font-size=\"14.00\">class = other</text>\n",
       "</g>\n",
       "<!-- 0&#45;&gt;1 -->\n",
       "<g id=\"edge1\" class=\"edge\">\n",
       "<title>0&#45;&gt;1</title>\n",
       "<path fill=\"none\" stroke=\"black\" d=\"M192.31,-93.93C190.9,-85.55 189.39,-76.63 187.96,-68.18\"/>\n",
       "<polygon fill=\"black\" stroke=\"black\" points=\"191.39,-67.46 186.27,-58.19 184.49,-68.63 191.39,-67.46\"/>\n",
       "<text text-anchor=\"middle\" x=\"171.79\" y=\"-74.87\" font-family=\"Helvetica,sans-Serif\" font-size=\"14.00\">True</text>\n",
       "</g>\n",
       "<!-- 2 -->\n",
       "<g id=\"node3\" class=\"node\">\n",
       "<title>2</title>\n",
       "<path fill=\"#82c1ef\" stroke=\"black\" d=\"M476.5,-58C476.5,-58 310.5,-58 310.5,-58 304.5,-58 298.5,-52 298.5,-46 298.5,-46 298.5,-12 298.5,-12 298.5,-6 304.5,0 310.5,0 310.5,0 476.5,0 476.5,0 482.5,0 488.5,-6 488.5,-12 488.5,-12 488.5,-46 488.5,-46 488.5,-52 482.5,-58 476.5,-58\"/>\n",
       "<text text-anchor=\"start\" x=\"345\" y=\"-40.3\" font-family=\"Helvetica,sans-Serif\" font-size=\"14.00\">samples = 1551</text>\n",
       "<text text-anchor=\"start\" x=\"309\" y=\"-25.3\" font-family=\"Helvetica,sans-Serif\" font-size=\"14.00\">value = [520.865, 1408.828]</text>\n",
       "<text text-anchor=\"start\" x=\"320\" y=\"-10.3\" font-family=\"Helvetica,sans-Serif\" font-size=\"14.00\">class = Erziehung/Kultur</text>\n",
       "</g>\n",
       "<!-- 0&#45;&gt;2 -->\n",
       "<g id=\"edge2\" class=\"edge\">\n",
       "<title>0&#45;&gt;2</title>\n",
       "<path fill=\"none\" stroke=\"black\" d=\"M269.45,-93.93C289.29,-83.71 310.71,-72.67 330.08,-62.69\"/>\n",
       "<polygon fill=\"black\" stroke=\"black\" points=\"331.83,-65.72 339.11,-58.03 328.62,-59.5 331.83,-65.72\"/>\n",
       "<text text-anchor=\"middle\" x=\"331.5\" y=\"-78.14\" font-family=\"Helvetica,sans-Serif\" font-size=\"14.00\">False</text>\n",
       "</g>\n",
       "<!-- 0_gv1 -->\n",
       "<g id=\"node4\" class=\"node\">\n",
       "<title>0_gv1</title>\n",
       "<path fill=\"#ffffff\" stroke=\"black\" d=\"M839,-169C839,-169 540,-169 540,-169 534,-169 528,-163 528,-157 528,-157 528,-106 528,-106 528,-100 534,-94 540,-94 540,-94 839,-94 839,-94 845,-94 851,-100 851,-106 851,-106 851,-157 851,-157 851,-163 845,-169 839,-169\"/>\n",
       "<text text-anchor=\"start\" x=\"542\" y=\"-150.3\" font-family=\"Helvetica,sans-Serif\" font-size=\"14.00\">neu entwicklung,kanon,aktiv beteiligung ≤ 1743.0</text>\n",
       "<text text-anchor=\"start\" x=\"641\" y=\"-135.3\" font-family=\"Helvetica,sans-Serif\" font-size=\"14.00\">samples = 4903</text>\n",
       "<text text-anchor=\"start\" x=\"616.5\" y=\"-120.3\" font-family=\"Helvetica,sans-Serif\" font-size=\"14.00\">value = [2451.5, 2451.5]</text>\n",
       "<text text-anchor=\"start\" x=\"646\" y=\"-105.3\" font-family=\"Helvetica,sans-Serif\" font-size=\"14.00\">class = Physik</text>\n",
       "</g>\n",
       "<!-- 1_gv1 -->\n",
       "<g id=\"node5\" class=\"node\">\n",
       "<title>1_gv1</title>\n",
       "<path fill=\"#74baed\" stroke=\"black\" d=\"M668.5,-58C668.5,-58 518.5,-58 518.5,-58 512.5,-58 506.5,-52 506.5,-46 506.5,-46 506.5,-12 506.5,-12 506.5,-6 512.5,0 518.5,0 518.5,0 668.5,0 668.5,0 674.5,0 680.5,-6 680.5,-12 680.5,-12 680.5,-46 680.5,-46 680.5,-52 674.5,-58 668.5,-58\"/>\n",
       "<text text-anchor=\"start\" x=\"545\" y=\"-40.3\" font-family=\"Helvetica,sans-Serif\" font-size=\"14.00\">samples = 1160</text>\n",
       "<text text-anchor=\"start\" x=\"516.5\" y=\"-25.3\" font-family=\"Helvetica,sans-Serif\" font-size=\"14.00\">value = [553.4, 1844.693]</text>\n",
       "<text text-anchor=\"start\" x=\"550\" y=\"-10.3\" font-family=\"Helvetica,sans-Serif\" font-size=\"14.00\">class = Physik</text>\n",
       "</g>\n",
       "<!-- 0_gv1&#45;&gt;1_gv1 -->\n",
       "<g id=\"edge3\" class=\"edge\">\n",
       "<title>0_gv1&#45;&gt;1_gv1</title>\n",
       "<path fill=\"none\" stroke=\"black\" d=\"M654.57,-93.93C645.77,-84.73 636.35,-74.85 627.59,-65.69\"/>\n",
       "<polygon fill=\"black\" stroke=\"black\" points=\"629.86,-63 620.43,-58.19 624.8,-67.84 629.86,-63\"/>\n",
       "<text text-anchor=\"middle\" x=\"619.85\" y=\"-79.48\" font-family=\"Helvetica,sans-Serif\" font-size=\"14.00\">True</text>\n",
       "</g>\n",
       "<!-- 2_gv1 -->\n",
       "<g id=\"node6\" class=\"node\">\n",
       "<title>2_gv1</title>\n",
       "<path fill=\"#eda978\" stroke=\"black\" d=\"M860.5,-58C860.5,-58 710.5,-58 710.5,-58 704.5,-58 698.5,-52 698.5,-46 698.5,-46 698.5,-12 698.5,-12 698.5,-6 704.5,0 710.5,0 710.5,0 860.5,0 860.5,0 866.5,0 872.5,-6 872.5,-12 872.5,-12 872.5,-46 872.5,-46 872.5,-52 866.5,-58 860.5,-58\"/>\n",
       "<text text-anchor=\"start\" x=\"737\" y=\"-40.3\" font-family=\"Helvetica,sans-Serif\" font-size=\"14.00\">samples = 3743</text>\n",
       "<text text-anchor=\"start\" x=\"708.5\" y=\"-25.3\" font-family=\"Helvetica,sans-Serif\" font-size=\"14.00\">value = [1898.1, 606.807]</text>\n",
       "<text text-anchor=\"start\" x=\"746.5\" y=\"-10.3\" font-family=\"Helvetica,sans-Serif\" font-size=\"14.00\">class = other</text>\n",
       "</g>\n",
       "<!-- 0_gv1&#45;&gt;2_gv1 -->\n",
       "<g id=\"edge4\" class=\"edge\">\n",
       "<title>0_gv1&#45;&gt;2_gv1</title>\n",
       "<path fill=\"none\" stroke=\"black\" d=\"M724.43,-93.93C733.23,-84.73 742.65,-74.85 751.41,-65.69\"/>\n",
       "<polygon fill=\"black\" stroke=\"black\" points=\"754.2,-67.84 758.57,-58.19 749.14,-63 754.2,-67.84\"/>\n",
       "<text text-anchor=\"middle\" x=\"759.15\" y=\"-79.48\" font-family=\"Helvetica,sans-Serif\" font-size=\"14.00\">False</text>\n",
       "</g>\n",
       "</g>\n",
       "</svg>\n"
      ],
      "text/plain": [
       "<graphviz.sources.Source at 0x7f7e2bf405b0>"
      ]
     },
     "metadata": {},
     "output_type": "display_data"
    },
    {
     "data": {
      "text/markdown": [
       "<span style=\"font-size:11pt\"><br><br></span>"
      ],
      "text/plain": [
       "<IPython.core.display.Markdown object>"
      ]
     },
     "metadata": {},
     "output_type": "display_data"
    },
    {
     "data": {
      "image/svg+xml": [
       "<?xml version=\"1.0\" encoding=\"UTF-8\" standalone=\"no\"?>\n",
       "<!DOCTYPE svg PUBLIC \"-//W3C//DTD SVG 1.1//EN\"\n",
       " \"http://www.w3.org/Graphics/SVG/1.1/DTD/svg11.dtd\">\n",
       "<!-- Generated by graphviz version 2.43.0 (0)\n",
       " -->\n",
       "<!-- Title: root Pages: 1 -->\n",
       "<svg width=\"845pt\" height=\"177pt\"\n",
       " viewBox=\"0.00 0.00 844.50 177.00\" xmlns=\"http://www.w3.org/2000/svg\" xmlns:xlink=\"http://www.w3.org/1999/xlink\">\n",
       "<g id=\"graph0\" class=\"graph\" transform=\"scale(1 1) rotate(0) translate(4 173)\">\n",
       "<title>root</title>\n",
       "<polygon fill=\"white\" stroke=\"transparent\" points=\"-4,4 -4,-173 840.5,-173 840.5,4 -4,4\"/>\n",
       "<!-- 0 -->\n",
       "<g id=\"node1\" class=\"node\">\n",
       "<title>0</title>\n",
       "<path fill=\"#ffffff\" stroke=\"black\" d=\"M287,-169C287,-169 12,-169 12,-169 6,-169 0,-163 0,-157 0,-157 0,-106 0,-106 0,-100 6,-94 12,-94 12,-94 287,-94 287,-94 293,-94 299,-100 299,-106 299,-106 299,-157 299,-157 299,-163 293,-169 287,-169\"/>\n",
       "<text text-anchor=\"start\" x=\"13.5\" y=\"-150.3\" font-family=\"Helvetica,sans-Serif\" font-size=\"14.00\">arbeitsmarkt,arbeitswelt,arbeitgeber ≤ 4496.0</text>\n",
       "<text text-anchor=\"start\" x=\"101\" y=\"-135.3\" font-family=\"Helvetica,sans-Serif\" font-size=\"14.00\">samples = 4903</text>\n",
       "<text text-anchor=\"start\" x=\"76.5\" y=\"-120.3\" font-family=\"Helvetica,sans-Serif\" font-size=\"14.00\">value = [2451.5, 2451.5]</text>\n",
       "<text text-anchor=\"start\" x=\"107.5\" y=\"-105.3\" font-family=\"Helvetica,sans-Serif\" font-size=\"14.00\">class = Sozial</text>\n",
       "</g>\n",
       "<!-- 1 -->\n",
       "<g id=\"node2\" class=\"node\">\n",
       "<title>1</title>\n",
       "<path fill=\"#eda673\" stroke=\"black\" d=\"M200.5,-58C200.5,-58 34.5,-58 34.5,-58 28.5,-58 22.5,-52 22.5,-46 22.5,-46 22.5,-12 22.5,-12 22.5,-6 28.5,0 34.5,0 34.5,0 200.5,0 200.5,0 206.5,0 212.5,-6 212.5,-12 212.5,-12 212.5,-46 212.5,-46 212.5,-52 206.5,-58 200.5,-58\"/>\n",
       "<text text-anchor=\"start\" x=\"69\" y=\"-40.3\" font-family=\"Helvetica,sans-Serif\" font-size=\"14.00\">samples = 3016</text>\n",
       "<text text-anchor=\"start\" x=\"33\" y=\"-25.3\" font-family=\"Helvetica,sans-Serif\" font-size=\"14.00\">value = [1624.689, 473.529]</text>\n",
       "<text text-anchor=\"start\" x=\"78.5\" y=\"-10.3\" font-family=\"Helvetica,sans-Serif\" font-size=\"14.00\">class = other</text>\n",
       "</g>\n",
       "<!-- 0&#45;&gt;1 -->\n",
       "<g id=\"edge1\" class=\"edge\">\n",
       "<title>0&#45;&gt;1</title>\n",
       "<path fill=\"none\" stroke=\"black\" d=\"M137.86,-93.93C135.16,-85.46 132.28,-76.43 129.57,-67.9\"/>\n",
       "<polygon fill=\"black\" stroke=\"black\" points=\"132.84,-66.65 126.48,-58.19 126.17,-68.78 132.84,-66.65\"/>\n",
       "<text text-anchor=\"middle\" x=\"114.99\" y=\"-76.7\" font-family=\"Helvetica,sans-Serif\" font-size=\"14.00\">True</text>\n",
       "</g>\n",
       "<!-- 2 -->\n",
       "<g id=\"node3\" class=\"node\">\n",
       "<title>2</title>\n",
       "<path fill=\"#8cc6f0\" stroke=\"black\" d=\"M408.5,-58C408.5,-58 242.5,-58 242.5,-58 236.5,-58 230.5,-52 230.5,-46 230.5,-46 230.5,-12 230.5,-12 230.5,-6 236.5,0 242.5,0 242.5,0 408.5,0 408.5,0 414.5,0 420.5,-6 420.5,-12 420.5,-12 420.5,-46 420.5,-46 420.5,-52 414.5,-58 408.5,-58\"/>\n",
       "<text text-anchor=\"start\" x=\"277\" y=\"-40.3\" font-family=\"Helvetica,sans-Serif\" font-size=\"14.00\">samples = 1887</text>\n",
       "<text text-anchor=\"start\" x=\"241\" y=\"-25.3\" font-family=\"Helvetica,sans-Serif\" font-size=\"14.00\">value = [826.811, 1977.971]</text>\n",
       "<text text-anchor=\"start\" x=\"283.5\" y=\"-10.3\" font-family=\"Helvetica,sans-Serif\" font-size=\"14.00\">class = Sozial</text>\n",
       "</g>\n",
       "<!-- 0&#45;&gt;2 -->\n",
       "<g id=\"edge2\" class=\"edge\">\n",
       "<title>0&#45;&gt;2</title>\n",
       "<path fill=\"none\" stroke=\"black\" d=\"M213.54,-93.93C231.2,-83.85 250.25,-72.97 267.55,-63.09\"/>\n",
       "<polygon fill=\"black\" stroke=\"black\" points=\"269.46,-66.03 276.41,-58.03 265.99,-59.95 269.46,-66.03\"/>\n",
       "<text text-anchor=\"middle\" x=\"269.83\" y=\"-78.45\" font-family=\"Helvetica,sans-Serif\" font-size=\"14.00\">False</text>\n",
       "</g>\n",
       "<!-- 0_gv1 -->\n",
       "<g id=\"node4\" class=\"node\">\n",
       "<title>0_gv1</title>\n",
       "<path fill=\"#ffffff\" stroke=\"black\" d=\"M809,-169C809,-169 466,-169 466,-169 460,-169 454,-163 454,-157 454,-157 454,-106 454,-106 454,-100 460,-94 466,-94 466,-94 809,-94 809,-94 815,-94 821,-100 821,-106 821,-106 821,-157 821,-157 821,-163 815,-169 809,-169\"/>\n",
       "<text text-anchor=\"start\" x=\"467.5\" y=\"-150.3\" font-family=\"Helvetica,sans-Serif\" font-size=\"14.00\">programmiersprache,algorithmen,modellierung ≤ 6816.5</text>\n",
       "<text text-anchor=\"start\" x=\"589\" y=\"-135.3\" font-family=\"Helvetica,sans-Serif\" font-size=\"14.00\">samples = 4903</text>\n",
       "<text text-anchor=\"start\" x=\"564.5\" y=\"-120.3\" font-family=\"Helvetica,sans-Serif\" font-size=\"14.00\">value = [2451.5, 2451.5]</text>\n",
       "<text text-anchor=\"start\" x=\"598.5\" y=\"-105.3\" font-family=\"Helvetica,sans-Serif\" font-size=\"14.00\">class = other</text>\n",
       "</g>\n",
       "<!-- 1_gv1 -->\n",
       "<g id=\"node5\" class=\"node\">\n",
       "<title>1_gv1</title>\n",
       "<path fill=\"#eeae80\" stroke=\"black\" d=\"M616.5,-58C616.5,-58 450.5,-58 450.5,-58 444.5,-58 438.5,-52 438.5,-46 438.5,-46 438.5,-12 438.5,-12 438.5,-6 444.5,0 450.5,0 450.5,0 616.5,0 616.5,0 622.5,0 628.5,-6 628.5,-12 628.5,-12 628.5,-46 628.5,-46 628.5,-52 622.5,-58 616.5,-58\"/>\n",
       "<text text-anchor=\"start\" x=\"485\" y=\"-40.3\" font-family=\"Helvetica,sans-Serif\" font-size=\"14.00\">samples = 4552</text>\n",
       "<text text-anchor=\"start\" x=\"449\" y=\"-25.3\" font-family=\"Helvetica,sans-Serif\" font-size=\"14.00\">value = [2311.634, 831.017]</text>\n",
       "<text text-anchor=\"start\" x=\"494.5\" y=\"-10.3\" font-family=\"Helvetica,sans-Serif\" font-size=\"14.00\">class = other</text>\n",
       "</g>\n",
       "<!-- 0_gv1&#45;&gt;1_gv1 -->\n",
       "<g id=\"edge3\" class=\"edge\">\n",
       "<title>0_gv1&#45;&gt;1_gv1</title>\n",
       "<path fill=\"none\" stroke=\"black\" d=\"M599.66,-93.93C589.94,-84.54 579.51,-74.46 569.86,-65.14\"/>\n",
       "<polygon fill=\"black\" stroke=\"black\" points=\"572.29,-62.62 562.67,-58.19 567.43,-67.65 572.29,-62.62\"/>\n",
       "<text text-anchor=\"middle\" x=\"563.1\" y=\"-79.48\" font-family=\"Helvetica,sans-Serif\" font-size=\"14.00\">True</text>\n",
       "</g>\n",
       "<!-- 2_gv1 -->\n",
       "<g id=\"node6\" class=\"node\">\n",
       "<title>2_gv1</title>\n",
       "<path fill=\"#4aa5e7\" stroke=\"black\" d=\"M824.5,-58C824.5,-58 658.5,-58 658.5,-58 652.5,-58 646.5,-52 646.5,-46 646.5,-46 646.5,-12 646.5,-12 646.5,-6 652.5,0 658.5,0 658.5,0 824.5,0 824.5,0 830.5,0 836.5,-6 836.5,-12 836.5,-12 836.5,-46 836.5,-46 836.5,-52 830.5,-58 824.5,-58\"/>\n",
       "<text text-anchor=\"start\" x=\"696.5\" y=\"-40.3\" font-family=\"Helvetica,sans-Serif\" font-size=\"14.00\">samples = 351</text>\n",
       "<text text-anchor=\"start\" x=\"657\" y=\"-25.3\" font-family=\"Helvetica,sans-Serif\" font-size=\"14.00\">value = [139.866, 1620.483]</text>\n",
       "<text text-anchor=\"start\" x=\"685.5\" y=\"-10.3\" font-family=\"Helvetica,sans-Serif\" font-size=\"14.00\">class = Mathe/Info</text>\n",
       "</g>\n",
       "<!-- 0_gv1&#45;&gt;2_gv1 -->\n",
       "<g id=\"edge4\" class=\"edge\">\n",
       "<title>0_gv1&#45;&gt;2_gv1</title>\n",
       "<path fill=\"none\" stroke=\"black\" d=\"M675.34,-93.93C685.06,-84.54 695.49,-74.46 705.14,-65.14\"/>\n",
       "<polygon fill=\"black\" stroke=\"black\" points=\"707.57,-67.65 712.33,-58.19 702.71,-62.62 707.57,-67.65\"/>\n",
       "<text text-anchor=\"middle\" x=\"711.9\" y=\"-79.48\" font-family=\"Helvetica,sans-Serif\" font-size=\"14.00\">False</text>\n",
       "</g>\n",
       "</g>\n",
       "</svg>\n"
      ],
      "text/plain": [
       "<graphviz.sources.Source at 0x7f7e2bf40250>"
      ]
     },
     "metadata": {},
     "output_type": "display_data"
    },
    {
     "data": {
      "text/markdown": [
       "<span style=\"font-size:11pt\"><br><br></span>"
      ],
      "text/plain": [
       "<IPython.core.display.Markdown object>"
      ]
     },
     "metadata": {},
     "output_type": "display_data"
    },
    {
     "data": {
      "image/svg+xml": [
       "<?xml version=\"1.0\" encoding=\"UTF-8\" standalone=\"no\"?>\n",
       "<!DOCTYPE svg PUBLIC \"-//W3C//DTD SVG 1.1//EN\"\n",
       " \"http://www.w3.org/Graphics/SVG/1.1/DTD/svg11.dtd\">\n",
       "<!-- Generated by graphviz version 2.43.0 (0)\n",
       " -->\n",
       "<!-- Title: root Pages: 1 -->\n",
       "<svg width=\"814pt\" height=\"177pt\"\n",
       " viewBox=\"0.00 0.00 814.00 177.00\" xmlns=\"http://www.w3.org/2000/svg\" xmlns:xlink=\"http://www.w3.org/1999/xlink\">\n",
       "<g id=\"graph0\" class=\"graph\" transform=\"scale(1 1) rotate(0) translate(4 173)\">\n",
       "<title>root</title>\n",
       "<polygon fill=\"white\" stroke=\"transparent\" points=\"-4,4 -4,-173 810,-173 810,4 -4,4\"/>\n",
       "<!-- 0 -->\n",
       "<g id=\"node1\" class=\"node\">\n",
       "<title>0</title>\n",
       "<path fill=\"#ffffff\" stroke=\"black\" d=\"M265.5,-169C265.5,-169 62.5,-169 62.5,-169 56.5,-169 50.5,-163 50.5,-157 50.5,-157 50.5,-106 50.5,-106 50.5,-100 56.5,-94 62.5,-94 62.5,-94 265.5,-94 265.5,-94 271.5,-94 277.5,-100 277.5,-106 277.5,-106 277.5,-157 277.5,-157 277.5,-163 271.5,-169 265.5,-169\"/>\n",
       "<text text-anchor=\"start\" x=\"63\" y=\"-150.3\" font-family=\"Helvetica,sans-Serif\" font-size=\"14.00\">raten,konstanz,ouml her ≤ 3818.5</text>\n",
       "<text text-anchor=\"start\" x=\"115.5\" y=\"-135.3\" font-family=\"Helvetica,sans-Serif\" font-size=\"14.00\">samples = 4903</text>\n",
       "<text text-anchor=\"start\" x=\"91\" y=\"-120.3\" font-family=\"Helvetica,sans-Serif\" font-size=\"14.00\">value = [2451.5, 2451.5]</text>\n",
       "<text text-anchor=\"start\" x=\"105\" y=\"-105.3\" font-family=\"Helvetica,sans-Serif\" font-size=\"14.00\">class = Bio/Chemie</text>\n",
       "</g>\n",
       "<!-- 1 -->\n",
       "<g id=\"node2\" class=\"node\">\n",
       "<title>1</title>\n",
       "<path fill=\"#a4d2f3\" stroke=\"black\" d=\"M186,-58C186,-58 12,-58 12,-58 6,-58 0,-52 0,-46 0,-46 0,-12 0,-12 0,-6 6,0 12,0 12,0 186,0 186,0 192,0 198,-6 198,-12 198,-12 198,-46 198,-46 198,-52 192,-58 186,-58\"/>\n",
       "<text text-anchor=\"start\" x=\"50.5\" y=\"-40.3\" font-family=\"Helvetica,sans-Serif\" font-size=\"14.00\">samples = 2534</text>\n",
       "<text text-anchor=\"start\" x=\"11\" y=\"-25.3\" font-family=\"Helvetica,sans-Serif\" font-size=\"14.00\">value = [1244.647, 2308.694]</text>\n",
       "<text text-anchor=\"start\" x=\"40\" y=\"-10.3\" font-family=\"Helvetica,sans-Serif\" font-size=\"14.00\">class = Bio/Chemie</text>\n",
       "</g>\n",
       "<!-- 0&#45;&gt;1 -->\n",
       "<g id=\"edge1\" class=\"edge\">\n",
       "<title>0&#45;&gt;1</title>\n",
       "<path fill=\"none\" stroke=\"black\" d=\"M140.35,-93.93C134.63,-85.09 128.52,-75.64 122.8,-66.79\"/>\n",
       "<polygon fill=\"black\" stroke=\"black\" points=\"125.6,-64.68 117.23,-58.19 119.72,-68.49 125.6,-64.68\"/>\n",
       "<text text-anchor=\"middle\" x=\"111.99\" y=\"-78.93\" font-family=\"Helvetica,sans-Serif\" font-size=\"14.00\">True</text>\n",
       "</g>\n",
       "<!-- 2 -->\n",
       "<g id=\"node3\" class=\"node\">\n",
       "<title>2</title>\n",
       "<path fill=\"#e89050\" stroke=\"black\" d=\"M394,-58C394,-58 228,-58 228,-58 222,-58 216,-52 216,-46 216,-46 216,-12 216,-12 216,-6 222,0 228,0 228,0 394,0 394,0 400,0 406,-6 406,-12 406,-12 406,-46 406,-46 406,-52 400,-58 394,-58\"/>\n",
       "<text text-anchor=\"start\" x=\"262.5\" y=\"-40.3\" font-family=\"Helvetica,sans-Serif\" font-size=\"14.00\">samples = 2369</text>\n",
       "<text text-anchor=\"start\" x=\"226.5\" y=\"-25.3\" font-family=\"Helvetica,sans-Serif\" font-size=\"14.00\">value = [1206.853, 142.806]</text>\n",
       "<text text-anchor=\"start\" x=\"272\" y=\"-10.3\" font-family=\"Helvetica,sans-Serif\" font-size=\"14.00\">class = other</text>\n",
       "</g>\n",
       "<!-- 0&#45;&gt;2 -->\n",
       "<g id=\"edge2\" class=\"edge\">\n",
       "<title>0&#45;&gt;2</title>\n",
       "<path fill=\"none\" stroke=\"black\" d=\"M217.49,-93.93C231.76,-84.17 247.13,-73.67 261.2,-64.05\"/>\n",
       "<polygon fill=\"black\" stroke=\"black\" points=\"263.49,-66.72 269.77,-58.19 259.54,-60.94 263.49,-66.72\"/>\n",
       "<text text-anchor=\"middle\" x=\"265.15\" y=\"-79.06\" font-family=\"Helvetica,sans-Serif\" font-size=\"14.00\">False</text>\n",
       "</g>\n",
       "<!-- 0_gv1 -->\n",
       "<g id=\"node4\" class=\"node\">\n",
       "<title>0_gv1</title>\n",
       "<path fill=\"#ffffff\" stroke=\"black\" d=\"M757.5,-169C757.5,-169 472.5,-169 472.5,-169 466.5,-169 460.5,-163 460.5,-157 460.5,-157 460.5,-106 460.5,-106 460.5,-100 466.5,-94 472.5,-94 472.5,-94 757.5,-94 757.5,-94 763.5,-94 769.5,-100 769.5,-106 769.5,-106 769.5,-157 769.5,-157 769.5,-163 763.5,-169 757.5,-169\"/>\n",
       "<text text-anchor=\"start\" x=\"474.5\" y=\"-150.3\" font-family=\"Helvetica,sans-Serif\" font-size=\"14.00\">deutsch literaturwissenschaft,ndl,ndl4 ≤ 5710.5</text>\n",
       "<text text-anchor=\"start\" x=\"566.5\" y=\"-135.3\" font-family=\"Helvetica,sans-Serif\" font-size=\"14.00\">samples = 4903</text>\n",
       "<text text-anchor=\"start\" x=\"542\" y=\"-120.3\" font-family=\"Helvetica,sans-Serif\" font-size=\"14.00\">value = [2451.5, 2451.5]</text>\n",
       "<text text-anchor=\"start\" x=\"566.5\" y=\"-105.3\" font-family=\"Helvetica,sans-Serif\" font-size=\"14.00\">class = Sprache</text>\n",
       "</g>\n",
       "<!-- 1_gv1 -->\n",
       "<g id=\"node5\" class=\"node\">\n",
       "<title>1_gv1</title>\n",
       "<path fill=\"#f0b990\" stroke=\"black\" d=\"M594,-58C594,-58 436,-58 436,-58 430,-58 424,-52 424,-46 424,-46 424,-12 424,-12 424,-6 430,0 436,0 436,0 594,0 594,0 600,0 606,-6 606,-12 606,-12 606,-46 606,-46 606,-52 600,-58 594,-58\"/>\n",
       "<text text-anchor=\"start\" x=\"466.5\" y=\"-40.3\" font-family=\"Helvetica,sans-Serif\" font-size=\"14.00\">samples = 3855</text>\n",
       "<text text-anchor=\"start\" x=\"434.5\" y=\"-25.3\" font-family=\"Helvetica,sans-Serif\" font-size=\"14.00\">value = [2223.148, 981.02]</text>\n",
       "<text text-anchor=\"start\" x=\"476\" y=\"-10.3\" font-family=\"Helvetica,sans-Serif\" font-size=\"14.00\">class = other</text>\n",
       "</g>\n",
       "<!-- 0_gv1&#45;&gt;1_gv1 -->\n",
       "<g id=\"edge3\" class=\"edge\">\n",
       "<title>0_gv1&#45;&gt;1_gv1</title>\n",
       "<path fill=\"none\" stroke=\"black\" d=\"M578.61,-93.93C569.36,-84.63 559.43,-74.66 550.24,-65.41\"/>\n",
       "<polygon fill=\"black\" stroke=\"black\" points=\"552.58,-62.81 543.05,-58.19 547.62,-67.75 552.58,-62.81\"/>\n",
       "<text text-anchor=\"middle\" x=\"542.99\" y=\"-79.49\" font-family=\"Helvetica,sans-Serif\" font-size=\"14.00\">True</text>\n",
       "</g>\n",
       "<!-- 2_gv1 -->\n",
       "<g id=\"node6\" class=\"node\">\n",
       "<title>2_gv1</title>\n",
       "<path fill=\"#58ace9\" stroke=\"black\" d=\"M794,-58C794,-58 636,-58 636,-58 630,-58 624,-52 624,-46 624,-46 624,-12 624,-12 624,-6 630,0 636,0 636,0 794,0 794,0 800,0 806,-6 806,-12 806,-12 806,-46 806,-46 806,-52 800,-58 794,-58\"/>\n",
       "<text text-anchor=\"start\" x=\"666.5\" y=\"-40.3\" font-family=\"Helvetica,sans-Serif\" font-size=\"14.00\">samples = 1048</text>\n",
       "<text text-anchor=\"start\" x=\"634.5\" y=\"-25.3\" font-family=\"Helvetica,sans-Serif\" font-size=\"14.00\">value = [228.352, 1470.48]</text>\n",
       "<text text-anchor=\"start\" x=\"666.5\" y=\"-10.3\" font-family=\"Helvetica,sans-Serif\" font-size=\"14.00\">class = Sprache</text>\n",
       "</g>\n",
       "<!-- 0_gv1&#45;&gt;2_gv1 -->\n",
       "<g id=\"edge4\" class=\"edge\">\n",
       "<title>0_gv1&#45;&gt;2_gv1</title>\n",
       "<path fill=\"none\" stroke=\"black\" d=\"M651.39,-93.93C660.64,-84.63 670.57,-74.66 679.76,-65.41\"/>\n",
       "<polygon fill=\"black\" stroke=\"black\" points=\"682.38,-67.75 686.95,-58.19 677.42,-62.81 682.38,-67.75\"/>\n",
       "<text text-anchor=\"middle\" x=\"687.01\" y=\"-79.49\" font-family=\"Helvetica,sans-Serif\" font-size=\"14.00\">False</text>\n",
       "</g>\n",
       "</g>\n",
       "</svg>\n"
      ],
      "text/plain": [
       "<graphviz.sources.Source at 0x7f7e2bf402e0>"
      ]
     },
     "metadata": {},
     "output_type": "display_data"
    },
    {
     "data": {
      "text/markdown": [
       "<span style=\"font-size:11pt\"><br><br></span>"
      ],
      "text/plain": [
       "<IPython.core.display.Markdown object>"
      ]
     },
     "metadata": {},
     "output_type": "display_data"
    },
    {
     "data": {
      "image/svg+xml": [
       "<?xml version=\"1.0\" encoding=\"UTF-8\" standalone=\"no\"?>\n",
       "<!DOCTYPE svg PUBLIC \"-//W3C//DTD SVG 1.1//EN\"\n",
       " \"http://www.w3.org/Graphics/SVG/1.1/DTD/svg11.dtd\">\n",
       "<!-- Generated by graphviz version 2.43.0 (0)\n",
       " -->\n",
       "<!-- Title: root Pages: 1 -->\n",
       "<svg width=\"992pt\" height=\"177pt\"\n",
       " viewBox=\"0.00 0.00 992.00 177.00\" xmlns=\"http://www.w3.org/2000/svg\" xmlns:xlink=\"http://www.w3.org/1999/xlink\">\n",
       "<g id=\"graph0\" class=\"graph\" transform=\"scale(1 1) rotate(0) translate(4 173)\">\n",
       "<title>root</title>\n",
       "<polygon fill=\"white\" stroke=\"transparent\" points=\"-4,4 -4,-173 988,-173 988,4 -4,4\"/>\n",
       "<!-- 0 -->\n",
       "<g id=\"node1\" class=\"node\">\n",
       "<title>0</title>\n",
       "<path fill=\"#ffffff\" stroke=\"black\" d=\"M309.5,-169C309.5,-169 64.5,-169 64.5,-169 58.5,-169 52.5,-163 52.5,-157 52.5,-157 52.5,-106 52.5,-106 52.5,-100 58.5,-94 64.5,-94 64.5,-94 309.5,-94 309.5,-94 315.5,-94 321.5,-100 321.5,-106 321.5,-106 321.5,-157 321.5,-157 321.5,-163 315.5,-169 309.5,-169\"/>\n",
       "<text text-anchor=\"start\" x=\"65.5\" y=\"-150.3\" font-family=\"Helvetica,sans-Serif\" font-size=\"14.00\">tourismus,suden,landwirtschaft ≤ 5792.5</text>\n",
       "<text text-anchor=\"start\" x=\"138.5\" y=\"-135.3\" font-family=\"Helvetica,sans-Serif\" font-size=\"14.00\">samples = 4903</text>\n",
       "<text text-anchor=\"start\" x=\"114\" y=\"-120.3\" font-family=\"Helvetica,sans-Serif\" font-size=\"14.00\">value = [2451.5, 2451.5]</text>\n",
       "<text text-anchor=\"start\" x=\"131\" y=\"-105.3\" font-family=\"Helvetica,sans-Serif\" font-size=\"14.00\">class = Kultur/Geo</text>\n",
       "</g>\n",
       "<!-- 1 -->\n",
       "<g id=\"node2\" class=\"node\">\n",
       "<title>1</title>\n",
       "<path fill=\"#f5cdb0\" stroke=\"black\" d=\"M186,-58C186,-58 12,-58 12,-58 6,-58 0,-52 0,-46 0,-46 0,-12 0,-12 0,-6 6,0 12,0 12,0 186,0 186,0 192,0 198,-6 198,-12 198,-12 198,-46 198,-46 198,-52 192,-58 186,-58\"/>\n",
       "<text text-anchor=\"start\" x=\"50.5\" y=\"-40.3\" font-family=\"Helvetica,sans-Serif\" font-size=\"14.00\">samples = 3896</text>\n",
       "<text text-anchor=\"start\" x=\"11\" y=\"-25.3\" font-family=\"Helvetica,sans-Serif\" font-size=\"14.00\">value = [2115.473, 1275.883]</text>\n",
       "<text text-anchor=\"start\" x=\"60\" y=\"-10.3\" font-family=\"Helvetica,sans-Serif\" font-size=\"14.00\">class = other</text>\n",
       "</g>\n",
       "<!-- 0&#45;&gt;1 -->\n",
       "<g id=\"edge1\" class=\"edge\">\n",
       "<title>0&#45;&gt;1</title>\n",
       "<path fill=\"none\" stroke=\"black\" d=\"M154.98,-93.93C147,-84.82 138.45,-75.05 130.49,-65.96\"/>\n",
       "<polygon fill=\"black\" stroke=\"black\" points=\"132.9,-63.41 123.68,-58.19 127.64,-68.02 132.9,-63.41\"/>\n",
       "<text text-anchor=\"middle\" x=\"122.03\" y=\"-79.43\" font-family=\"Helvetica,sans-Serif\" font-size=\"14.00\">True</text>\n",
       "</g>\n",
       "<!-- 2 -->\n",
       "<g id=\"node3\" class=\"node\">\n",
       "<title>2</title>\n",
       "<path fill=\"#72b9ec\" stroke=\"black\" d=\"M394,-58C394,-58 228,-58 228,-58 222,-58 216,-52 216,-46 216,-46 216,-12 216,-12 216,-6 222,0 228,0 228,0 394,0 394,0 400,0 406,-6 406,-12 406,-12 406,-46 406,-46 406,-52 400,-58 394,-58\"/>\n",
       "<text text-anchor=\"start\" x=\"262.5\" y=\"-40.3\" font-family=\"Helvetica,sans-Serif\" font-size=\"14.00\">samples = 1007</text>\n",
       "<text text-anchor=\"start\" x=\"226.5\" y=\"-25.3\" font-family=\"Helvetica,sans-Serif\" font-size=\"14.00\">value = [336.027, 1175.617]</text>\n",
       "<text text-anchor=\"start\" x=\"255\" y=\"-10.3\" font-family=\"Helvetica,sans-Serif\" font-size=\"14.00\">class = Kultur/Geo</text>\n",
       "</g>\n",
       "<!-- 0&#45;&gt;2 -->\n",
       "<g id=\"edge2\" class=\"edge\">\n",
       "<title>0&#45;&gt;2</title>\n",
       "<path fill=\"none\" stroke=\"black\" d=\"M232.12,-93.93C243.93,-84.36 256.63,-74.06 268.32,-64.59\"/>\n",
       "<polygon fill=\"black\" stroke=\"black\" points=\"270.66,-67.2 276.22,-58.19 266.25,-61.77 270.66,-67.2\"/>\n",
       "<text text-anchor=\"middle\" x=\"273.62\" y=\"-79.35\" font-family=\"Helvetica,sans-Serif\" font-size=\"14.00\">False</text>\n",
       "</g>\n",
       "<!-- 0_gv1 -->\n",
       "<g id=\"node4\" class=\"node\">\n",
       "<title>0_gv1</title>\n",
       "<path fill=\"#ffffff\" stroke=\"black\" d=\"M972,-169C972,-169 424,-169 424,-169 418,-169 412,-163 412,-157 412,-157 412,-106 412,-106 412,-100 418,-94 424,-94 424,-94 972,-94 972,-94 978,-94 984,-100 984,-106 984,-106 984,-157 984,-157 984,-163 978,-169 972,-169\"/>\n",
       "<text text-anchor=\"start\" x=\"430.5\" y=\"-150.3\" font-family=\"Helvetica,sans-Serif\" font-size=\"14.00\">center betriebswirtschaftlich kompetenz,juni donnerstag,betriebswirtschaftslehre ≤ 6041.5</text>\n",
       "<text text-anchor=\"start\" x=\"649.5\" y=\"-135.3\" font-family=\"Helvetica,sans-Serif\" font-size=\"14.00\">samples = 4903</text>\n",
       "<text text-anchor=\"start\" x=\"625\" y=\"-120.3\" font-family=\"Helvetica,sans-Serif\" font-size=\"14.00\">value = [2451.5, 2451.5]</text>\n",
       "<text text-anchor=\"start\" x=\"660\" y=\"-105.3\" font-family=\"Helvetica,sans-Serif\" font-size=\"14.00\">class = Wiwi</text>\n",
       "</g>\n",
       "<!-- 1_gv1 -->\n",
       "<g id=\"node5\" class=\"node\">\n",
       "<title>1_gv1</title>\n",
       "<path fill=\"#ea9b62\" stroke=\"black\" d=\"M649,-58C649,-58 491,-58 491,-58 485,-58 479,-52 479,-46 479,-46 479,-12 479,-12 479,-6 485,0 491,0 491,0 649,0 649,0 655,0 661,-6 661,-12 661,-12 661,-46 661,-46 661,-52 655,-58 649,-58\"/>\n",
       "<text text-anchor=\"start\" x=\"521.5\" y=\"-40.3\" font-family=\"Helvetica,sans-Serif\" font-size=\"14.00\">samples = 4067</text>\n",
       "<text text-anchor=\"start\" x=\"489.5\" y=\"-25.3\" font-family=\"Helvetica,sans-Serif\" font-size=\"14.00\">value = [2056.44, 426.348]</text>\n",
       "<text text-anchor=\"start\" x=\"531\" y=\"-10.3\" font-family=\"Helvetica,sans-Serif\" font-size=\"14.00\">class = other</text>\n",
       "</g>\n",
       "<!-- 0_gv1&#45;&gt;1_gv1 -->\n",
       "<g id=\"edge3\" class=\"edge\">\n",
       "<title>0_gv1&#45;&gt;1_gv1</title>\n",
       "<path fill=\"none\" stroke=\"black\" d=\"M651.43,-93.93C639.23,-84.36 626.12,-74.06 614.06,-64.59\"/>\n",
       "<polygon fill=\"black\" stroke=\"black\" points=\"615.93,-61.61 605.9,-58.19 611.61,-67.12 615.93,-61.61\"/>\n",
       "<text text-anchor=\"middle\" x=\"608.89\" y=\"-79.31\" font-family=\"Helvetica,sans-Serif\" font-size=\"14.00\">True</text>\n",
       "</g>\n",
       "<!-- 2_gv1 -->\n",
       "<g id=\"node6\" class=\"node\">\n",
       "<title>2_gv1</title>\n",
       "<path fill=\"#60b0ea\" stroke=\"black\" d=\"M849,-58C849,-58 691,-58 691,-58 685,-58 679,-52 679,-46 679,-46 679,-12 679,-12 679,-6 685,0 691,0 691,0 849,0 849,0 855,0 861,-6 861,-12 861,-12 861,-46 861,-46 861,-52 855,-58 849,-58\"/>\n",
       "<text text-anchor=\"start\" x=\"725\" y=\"-40.3\" font-family=\"Helvetica,sans-Serif\" font-size=\"14.00\">samples = 836</text>\n",
       "<text text-anchor=\"start\" x=\"689.5\" y=\"-25.3\" font-family=\"Helvetica,sans-Serif\" font-size=\"14.00\">value = [395.06, 2025.152]</text>\n",
       "<text text-anchor=\"start\" x=\"732\" y=\"-10.3\" font-family=\"Helvetica,sans-Serif\" font-size=\"14.00\">class = Wiwi</text>\n",
       "</g>\n",
       "<!-- 0_gv1&#45;&gt;2_gv1 -->\n",
       "<g id=\"edge4\" class=\"edge\">\n",
       "<title>0_gv1&#45;&gt;2_gv1</title>\n",
       "<path fill=\"none\" stroke=\"black\" d=\"M724.2,-93.93C730.6,-85 737.44,-75.45 743.84,-66.52\"/>\n",
       "<polygon fill=\"black\" stroke=\"black\" points=\"746.83,-68.36 749.81,-58.19 741.14,-64.28 746.83,-68.36\"/>\n",
       "<text text-anchor=\"middle\" x=\"753.88\" y=\"-79.15\" font-family=\"Helvetica,sans-Serif\" font-size=\"14.00\">False</text>\n",
       "</g>\n",
       "</g>\n",
       "</svg>\n"
      ],
      "text/plain": [
       "<graphviz.sources.Source at 0x7f7e2bf40580>"
      ]
     },
     "metadata": {},
     "output_type": "display_data"
    },
    {
     "data": {
      "text/markdown": [
       "<span style=\"font-size:11pt\"><br><br></span>"
      ],
      "text/plain": [
       "<IPython.core.display.Markdown object>"
      ]
     },
     "metadata": {},
     "output_type": "display_data"
    },
    {
     "data": {
      "image/svg+xml": [
       "<?xml version=\"1.0\" encoding=\"UTF-8\" standalone=\"no\"?>\n",
       "<!DOCTYPE svg PUBLIC \"-//W3C//DTD SVG 1.1//EN\"\n",
       " \"http://www.w3.org/Graphics/SVG/1.1/DTD/svg11.dtd\">\n",
       "<!-- Generated by graphviz version 2.43.0 (0)\n",
       " -->\n",
       "<!-- Title: root Pages: 1 -->\n",
       "<svg width=\"875pt\" height=\"177pt\"\n",
       " viewBox=\"0.00 0.00 875.00 177.00\" xmlns=\"http://www.w3.org/2000/svg\" xmlns:xlink=\"http://www.w3.org/1999/xlink\">\n",
       "<g id=\"graph0\" class=\"graph\" transform=\"scale(1 1) rotate(0) translate(4 173)\">\n",
       "<title>root</title>\n",
       "<polygon fill=\"white\" stroke=\"transparent\" points=\"-4,4 -4,-173 871,-173 871,4 -4,4\"/>\n",
       "<!-- 0 -->\n",
       "<g id=\"node1\" class=\"node\">\n",
       "<title>0</title>\n",
       "<path fill=\"#ffffff\" stroke=\"black\" d=\"M372,-169C372,-169 104,-169 104,-169 98,-169 92,-163 92,-157 92,-157 92,-106 92,-106 92,-100 98,-94 104,-94 104,-94 372,-94 372,-94 378,-94 384,-100 384,-106 384,-106 384,-157 384,-157 384,-163 378,-169 372,-169\"/>\n",
       "<text text-anchor=\"start\" x=\"105.5\" y=\"-150.3\" font-family=\"Helvetica,sans-Serif\" font-size=\"14.00\">psychologie,klinisch,psychologisch ≤ 6268.0</text>\n",
       "<text text-anchor=\"start\" x=\"189.5\" y=\"-135.3\" font-family=\"Helvetica,sans-Serif\" font-size=\"14.00\">samples = 4903</text>\n",
       "<text text-anchor=\"start\" x=\"165\" y=\"-120.3\" font-family=\"Helvetica,sans-Serif\" font-size=\"14.00\">value = [2451.5, 2451.5]</text>\n",
       "<text text-anchor=\"start\" x=\"199\" y=\"-105.3\" font-family=\"Helvetica,sans-Serif\" font-size=\"14.00\">class = other</text>\n",
       "</g>\n",
       "<!-- 1 -->\n",
       "<g id=\"node2\" class=\"node\">\n",
       "<title>1</title>\n",
       "<path fill=\"#f1b991\" stroke=\"black\" d=\"M178,-58C178,-58 12,-58 12,-58 6,-58 0,-52 0,-46 0,-46 0,-12 0,-12 0,-6 6,0 12,0 12,0 178,0 178,0 184,0 190,-6 190,-12 190,-12 190,-46 190,-46 190,-52 184,-58 178,-58\"/>\n",
       "<text text-anchor=\"start\" x=\"46.5\" y=\"-40.3\" font-family=\"Helvetica,sans-Serif\" font-size=\"14.00\">samples = 4193</text>\n",
       "<text text-anchor=\"start\" x=\"10.5\" y=\"-25.3\" font-family=\"Helvetica,sans-Serif\" font-size=\"14.00\">value = [2158.776, 961.373]</text>\n",
       "<text text-anchor=\"start\" x=\"56\" y=\"-10.3\" font-family=\"Helvetica,sans-Serif\" font-size=\"14.00\">class = other</text>\n",
       "</g>\n",
       "<!-- 0&#45;&gt;1 -->\n",
       "<g id=\"edge1\" class=\"edge\">\n",
       "<title>0&#45;&gt;1</title>\n",
       "<path fill=\"none\" stroke=\"black\" d=\"M185.97,-93.93C172.08,-84.17 157.13,-73.67 143.45,-64.05\"/>\n",
       "<polygon fill=\"black\" stroke=\"black\" points=\"145.3,-61.07 135.11,-58.19 141.28,-66.8 145.3,-61.07\"/>\n",
       "<text text-anchor=\"middle\" x=\"139.41\" y=\"-79.12\" font-family=\"Helvetica,sans-Serif\" font-size=\"14.00\">True</text>\n",
       "</g>\n",
       "<!-- 2 -->\n",
       "<g id=\"node3\" class=\"node\">\n",
       "<title>2</title>\n",
       "<path fill=\"#60b0ea\" stroke=\"black\" d=\"M386,-58C386,-58 220,-58 220,-58 214,-58 208,-52 208,-46 208,-46 208,-12 208,-12 208,-6 214,0 220,0 220,0 386,0 386,0 392,0 398,-6 398,-12 398,-12 398,-46 398,-46 398,-52 392,-58 386,-58\"/>\n",
       "<text text-anchor=\"start\" x=\"258\" y=\"-40.3\" font-family=\"Helvetica,sans-Serif\" font-size=\"14.00\">samples = 710</text>\n",
       "<text text-anchor=\"start\" x=\"218.5\" y=\"-25.3\" font-family=\"Helvetica,sans-Serif\" font-size=\"14.00\">value = [292.724, 1490.127]</text>\n",
       "<text text-anchor=\"start\" x=\"244\" y=\"-10.3\" font-family=\"Helvetica,sans-Serif\" font-size=\"14.00\">class = Humanwiss</text>\n",
       "</g>\n",
       "<!-- 0&#45;&gt;2 -->\n",
       "<g id=\"edge2\" class=\"edge\">\n",
       "<title>0&#45;&gt;2</title>\n",
       "<path fill=\"none\" stroke=\"black\" d=\"M261.65,-93.93C267.37,-85.09 273.48,-75.64 279.2,-66.79\"/>\n",
       "<polygon fill=\"black\" stroke=\"black\" points=\"282.28,-68.49 284.77,-58.19 276.4,-64.68 282.28,-68.49\"/>\n",
       "<text text-anchor=\"middle\" x=\"290.01\" y=\"-78.93\" font-family=\"Helvetica,sans-Serif\" font-size=\"14.00\">False</text>\n",
       "</g>\n",
       "<!-- 0_gv1 -->\n",
       "<g id=\"node4\" class=\"node\">\n",
       "<title>0_gv1</title>\n",
       "<path fill=\"#ffffff\" stroke=\"black\" d=\"M766.5,-169C766.5,-169 491.5,-169 491.5,-169 485.5,-169 479.5,-163 479.5,-157 479.5,-157 479.5,-106 479.5,-106 479.5,-100 485.5,-94 491.5,-94 491.5,-94 766.5,-94 766.5,-94 772.5,-94 778.5,-100 778.5,-106 778.5,-106 778.5,-157 778.5,-157 778.5,-163 772.5,-169 766.5,-169\"/>\n",
       "<text text-anchor=\"start\" x=\"493\" y=\"-150.3\" font-family=\"Helvetica,sans-Serif\" font-size=\"14.00\">juristisch,grundrecht,methodenlehre ≤ 6417.0</text>\n",
       "<text text-anchor=\"start\" x=\"580.5\" y=\"-135.3\" font-family=\"Helvetica,sans-Serif\" font-size=\"14.00\">samples = 4903</text>\n",
       "<text text-anchor=\"start\" x=\"556\" y=\"-120.3\" font-family=\"Helvetica,sans-Serif\" font-size=\"14.00\">value = [2451.5, 2451.5]</text>\n",
       "<text text-anchor=\"start\" x=\"590\" y=\"-105.3\" font-family=\"Helvetica,sans-Serif\" font-size=\"14.00\">class = other</text>\n",
       "</g>\n",
       "<!-- 1_gv1 -->\n",
       "<g id=\"node5\" class=\"node\">\n",
       "<title>1_gv1</title>\n",
       "<path fill=\"#e99254\" stroke=\"black\" d=\"M647,-58C647,-58 481,-58 481,-58 475,-58 469,-52 469,-46 469,-46 469,-12 469,-12 469,-6 475,0 481,0 481,0 647,0 647,0 653,0 659,-6 659,-12 659,-12 659,-46 659,-46 659,-52 653,-58 647,-58\"/>\n",
       "<text text-anchor=\"start\" x=\"515.5\" y=\"-40.3\" font-family=\"Helvetica,sans-Serif\" font-size=\"14.00\">samples = 4293</text>\n",
       "<text text-anchor=\"start\" x=\"479.5\" y=\"-25.3\" font-family=\"Helvetica,sans-Serif\" font-size=\"14.00\">value = [2235.546, 303.726]</text>\n",
       "<text text-anchor=\"start\" x=\"525\" y=\"-10.3\" font-family=\"Helvetica,sans-Serif\" font-size=\"14.00\">class = other</text>\n",
       "</g>\n",
       "<!-- 0_gv1&#45;&gt;1_gv1 -->\n",
       "<g id=\"edge3\" class=\"edge\">\n",
       "<title>0_gv1&#45;&gt;1_gv1</title>\n",
       "<path fill=\"none\" stroke=\"black\" d=\"M605.35,-93.93C599.63,-85.09 593.52,-75.64 587.8,-66.79\"/>\n",
       "<polygon fill=\"black\" stroke=\"black\" points=\"590.6,-64.68 582.23,-58.19 584.72,-68.49 590.6,-64.68\"/>\n",
       "<text text-anchor=\"middle\" x=\"576.99\" y=\"-78.93\" font-family=\"Helvetica,sans-Serif\" font-size=\"14.00\">True</text>\n",
       "</g>\n",
       "<!-- 2_gv1 -->\n",
       "<g id=\"node6\" class=\"node\">\n",
       "<title>2_gv1</title>\n",
       "<path fill=\"#4da7e8\" stroke=\"black\" d=\"M855,-58C855,-58 689,-58 689,-58 683,-58 677,-52 677,-46 677,-46 677,-12 677,-12 677,-6 683,0 689,0 689,0 855,0 855,0 861,0 867,-6 867,-12 867,-12 867,-46 867,-46 867,-52 861,-58 855,-58\"/>\n",
       "<text text-anchor=\"start\" x=\"727\" y=\"-40.3\" font-family=\"Helvetica,sans-Serif\" font-size=\"14.00\">samples = 610</text>\n",
       "<text text-anchor=\"start\" x=\"687.5\" y=\"-25.3\" font-family=\"Helvetica,sans-Serif\" font-size=\"14.00\">value = [215.954, 2147.774]</text>\n",
       "<text text-anchor=\"start\" x=\"714.5\" y=\"-10.3\" font-family=\"Helvetica,sans-Serif\" font-size=\"14.00\">class = Rechtswiss</text>\n",
       "</g>\n",
       "<!-- 0_gv1&#45;&gt;2_gv1 -->\n",
       "<g id=\"edge4\" class=\"edge\">\n",
       "<title>0_gv1&#45;&gt;2_gv1</title>\n",
       "<path fill=\"none\" stroke=\"black\" d=\"M681.03,-93.93C694.92,-84.17 709.87,-73.67 723.55,-64.05\"/>\n",
       "<polygon fill=\"black\" stroke=\"black\" points=\"725.72,-66.8 731.89,-58.19 721.7,-61.07 725.72,-66.8\"/>\n",
       "<text text-anchor=\"middle\" x=\"727.59\" y=\"-79.12\" font-family=\"Helvetica,sans-Serif\" font-size=\"14.00\">False</text>\n",
       "</g>\n",
       "</g>\n",
       "</svg>\n"
      ],
      "text/plain": [
       "<graphviz.sources.Source at 0x7f7e2bf409d0>"
      ]
     },
     "metadata": {},
     "output_type": "display_data"
    },
    {
     "data": {
      "text/markdown": [
       "<span style=\"font-size:11pt\"><br><br></span>"
      ],
      "text/plain": [
       "<IPython.core.display.Markdown object>"
      ]
     },
     "metadata": {},
     "output_type": "display_data"
    },
    {
     "data": {
      "text/markdown": [
       "<span style=\"font-size:11pt\">Per-Class-Scores: Erziehung/Kultur: 0.70, Physik: 0.77, Sozial: 0.66, Mathe/Info: 0.94, Bio/Chemie: 0.49, Sprache: 0.83, Kultur/Geo: 0.79, Wiwi: 0.82, Humanwiss: 0.87, Rechtswiss: 0.92</span>"
      ],
      "text/plain": [
       "<IPython.core.display.Markdown object>"
      ]
     },
     "metadata": {},
     "output_type": "display_data"
    },
    {
     "data": {
      "text/markdown": [
       "<span style=\"font-size:11pt\">Unweighted Mean Accuracy: 77.93%</span>"
      ],
      "text/plain": [
       "<IPython.core.display.Markdown object>"
      ]
     },
     "metadata": {},
     "output_type": "display_data"
    },
    {
     "data": {
      "text/markdown": [
       "<span style=\"font-size:11pt\">Weighted Mean Accuracy: 76.90%</span>"
      ],
      "text/plain": [
       "<IPython.core.display.Markdown object>"
      ]
     },
     "metadata": {},
     "output_type": "display_data"
    }
   ],
   "source": [
    "# res = classify_shallowtree_multi(clusters, embedding, descriptions, ctx.obj[\"dataset_class\"], verbose=True)\n",
    "res = classify_shallowtree(clusters, embedding, descriptions, ctx.obj[\"dataset_class\"], one_vs_rest=True, dt_depth=1, test_percentage_crossval=0.33, \n",
    "                           classes=\"fachbereich\", verbose=True, return_features=False, balance_classes=True, do_plot=True)"
   ]
  }
 ],
 "metadata": {
  "kernelspec": {
   "display_name": "Python 3 (ipykernel)",
   "language": "python",
   "name": "python3"
  },
  "language_info": {
   "codemirror_mode": {
    "name": "ipython",
    "version": 3
   },
   "file_extension": ".py",
   "mimetype": "text/x-python",
   "name": "python",
   "nbconvert_exporter": "python",
   "pygments_lexer": "ipython3",
   "version": "3.10.0"
  }
 },
 "nbformat": 4,
 "nbformat_minor": 5
}
