{
 "cells": [
  {
   "cell_type": "code",
   "execution_count": null,
   "id": "892b426d-56be-4030-abc3-a550562cea89",
   "metadata": {},
   "outputs": [],
   "source": [
    "from itertools import product\n",
    "import numpy as np\n",
    "import warnings\n",
    "from derive_conceptualspace.load_data.load_semanticspaces import get_all, display_svm\n",
    "from derive_conceptualspace.util.base_changer import ThreeDPlane\n",
    "from derive_conceptualspace.util.threedfigure import ThreeDFigure, make_meshgrid\n",
    "argmax = lambda l: max(enumerate(l), key=lambda x:x[1])[0]\n",
    "unique = lambda iterable: list({i:None for i in iterable}.keys())"
   ]
  },
  {
   "cell_type": "markdown",
   "id": "0e1943a9-9876-4108-97cc-025c26cf8053",
   "metadata": {},
   "source": [
    "## Get the most 3 important dimensions from the Decision Tree and then display, colored by labelclass"
   ]
  },
  {
   "cell_type": "code",
   "execution_count": null,
   "id": "f2050a5d-6e74-4901-a8a8-e590b2cd4d58",
   "metadata": {},
   "outputs": [],
   "source": [
    "import matplotlib.pyplot as plt\n",
    "import pandas as pd\n",
    "from IPython.display import HTML\n",
    "import pyperclip\n",
    "\n",
    "from misc_util.logutils import setup_logging\n",
    "from misc_util.pretty_print import Markdown, display\n",
    "\n",
    "from derive_conceptualspace.pipeline import SnakeContext, load_envfiles, cluster_loader\n",
    "from derive_conceptualspace.util.result_analysis_tools import getfiles_allconfigs, display_metrics, show_lambda_elements, highlight_nonzero_max\n",
    "from derive_conceptualspace.settings import DEFAULT_N_CPUS\n",
    "from derive_conceptualspace.util.threadworker import WorkerPool\n",
    "from derive_conceptualspace.cli.args_from_filename import get_filename, print_envvars\n",
    "from derive_conceptualspace.util.desc_object import DescriptionList\n",
    "from derive_conceptualspace.evaluate.shallow_trees import classify_shallowtree\n",
    "from derive_conceptualspace.evaluate.shallow_trees import CATNAMES\n",
    "\n",
    "plt.rcParams['figure.figsize'] = [16, 10]"
   ]
  },
  {
   "cell_type": "code",
   "execution_count": null,
   "id": "29f7bc84-d394-4daa-9fce-2cb00064c80f",
   "metadata": {},
   "outputs": [],
   "source": [
    "setup_logging()\n",
    "load_envfiles(\"siddata\")\n",
    "configs, print_cnf = getfiles_allconfigs(\"clusters\", verbose=False, parse_all=True)"
   ]
  },
  {
   "cell_type": "code",
   "execution_count": null,
   "id": "163c3437-d854-4b67-bbce-5215e7b04982",
   "metadata": {},
   "outputs": [],
   "source": [
    "loaders = dict(clusters=cluster_loader, embedding=lambda **args: args[\"embedding\"].embedding_, pp_descriptions=DescriptionList.from_json)\n",
    "clusters, embedding, descriptions = SnakeContext.loader_context(config=configs[0]).load(\"clusters\", \"embedding\", \"pp_descriptions\", loaders=loaders)"
   ]
  },
  {
   "cell_type": "code",
   "execution_count": null,
   "id": "c661e153-075b-4e65-8547-72ccfe8928a4",
   "metadata": {},
   "outputs": [],
   "source": [
    "descriptions.additionals_names"
   ]
  },
  {
   "cell_type": "code",
   "execution_count": null,
   "id": "461df8b7-23fe-49af-aca6-bd6df56cfacb",
   "metadata": {},
   "outputs": [],
   "source": [
    "classify_shallowtree(clusters, embedding, descriptions, one_vs_rest=False, dt_depth=None, test_percentage_crossval=0, classes=\"veranstaltungsnummer\", do_plot=False, verbose=True, return_features=False)"
   ]
  },
  {
   "cell_type": "code",
   "execution_count": null,
   "id": "dad5820e-412d-4cee-8bfa-3f24c7577265",
   "metadata": {},
   "outputs": [],
   "source": [
    "res = classify_shallowtree(clusters, embedding, descriptions, one_vs_rest=False, dt_depth=None, test_percentage_crossval=0, classes=\"Geonames\", do_plot=False, verbose=True, return_features=False)\n",
    "assert res == 1"
   ]
  },
  {
   "cell_type": "code",
   "execution_count": null,
   "id": "155f0924-e8cf-438b-aeaf-7d5dcaa2fb27",
   "metadata": {},
   "outputs": [],
   "source": [
    "clfs, inputs, targets, scores, catnames = classify_shallowtree(clusters, embedding, descriptions, one_vs_rest=True, dt_depth=3, test_percentage_crossval=0, classes=\"Geonames\", do_plot=False, verbose=False, return_features=True)"
   ]
  },
  {
   "cell_type": "markdown",
   "id": "263b6aa4-ca61-452b-9fb3-28114beacb61",
   "metadata": {},
   "source": [
    "### Get most important features\n",
    "\n",
    "now I want to get the most important features ==> find the nonzero elements from clf.feature_importances_ (and their dimension-name) \n",
    "but also the actual tree-decision as you see when plotting it with graphviz -> maybe https://scikit-learn.org/stable/auto_examples/tree/plot_unveil_tree_structure.html#sphx-glr-auto-examples-tree-plot-unveil-tree-structure-py ?"
   ]
  },
  {
   "cell_type": "code",
   "execution_count": null,
   "id": "caad1b0a-731c-4ec4-b479-36051748575a",
   "metadata": {},
   "outputs": [],
   "source": [
    "def get_decision_path(X_test, clf, catnames, axnames):\n",
    "    n_nodes = clf.tree_.node_count\n",
    "    children_left = clf.tree_.children_left\n",
    "    children_right = clf.tree_.children_right\n",
    "    classes = [catnames[clf.classes_[np.argmax(i)]] for i in clf.tree_.value]\n",
    "    node_depth = np.zeros(shape=n_nodes, dtype=np.int64)\n",
    "    is_leaves = np.zeros(shape=n_nodes, dtype=bool)\n",
    "    stack = [(0, 0)]  # start with the root node id (0) and its depth (0)\n",
    "    while len(stack) > 0:\n",
    "        # `pop` ensures each node is only visited once\n",
    "        node_id, depth = stack.pop()\n",
    "        node_depth[node_id] = depth\n",
    "        # If the left and right child of a node is not the same we have a split node\n",
    "        is_split_node = children_left[node_id] != children_right[node_id]\n",
    "        # If a split node, append left and right children and depth to `stack` so we can loop through them\n",
    "        if is_split_node:\n",
    "            stack.append((children_left[node_id], depth + 1))\n",
    "            stack.append((children_right[node_id], depth + 1))\n",
    "        else:\n",
    "            is_leaves[node_id] = True\n",
    "    print(\"The binary tree structure has {n} nodes and has the following tree structure:\\n\".format(n=n_nodes))\n",
    "    for i in range(n_nodes):\n",
    "        if is_leaves[i]:\n",
    "            print(\"{space}node={node} is a leaf node - category {cat}\".format(space=node_depth[i] * \"\\t\", node=i, cat=classes[i]))\n",
    "        else:\n",
    "            print(\"{space}node={node} is a split node: go to node {left} if {feature} <= {threshold} else to node {right}. Cat={cat}\".format(\n",
    "                    space=node_depth[i] * \"\\t\", node=i, left=children_left[i], feature=axnames[clf.tree_.feature[i]], threshold=clf.tree_.threshold[i], right=children_right[i], cat=classes[i]))"
   ]
  },
  {
   "cell_type": "code",
   "execution_count": null,
   "id": "56a399b5-fe8b-47f6-a0e3-fe9ffbca75b5",
   "metadata": {
    "tags": []
   },
   "outputs": [],
   "source": [
    "axnames = [f\",\".join([i]+clusters[\"clusters\"][i][:2]) for i in inputs.columns]\n",
    "for clf, catname in zip(clfs, catnames):\n",
    "    get_decision_path(inputs, clf, catname, axnames)\n",
    "    print(\"Feature Importances:\\n\", {elem: axnames[i] for i, elem in enumerate(clf.feature_importances_) if elem > 0})\n",
    "    print(\"==\"*50+\"\\n\"+\"==\"*50)"
   ]
  },
  {
   "cell_type": "markdown",
   "id": "9c4a7668-4175-4461-a1ce-b91eaec23d5e",
   "metadata": {},
   "source": [
    "#### Use feature_importance"
   ]
  },
  {
   "cell_type": "code",
   "execution_count": null,
   "id": "83cf979c-147d-41fe-b111-52c002f24f2e",
   "metadata": {},
   "outputs": [],
   "source": [
    "axnames = [f\",\".join([i]+clusters[\"clusters\"][i][:2]) for i in inputs.columns]\n",
    "for clf, catname in zip(clfs, catnames):\n",
    "    feats = [(i[0], round(i[1],3)) for i in sorted({axnames[i]: elem for i, elem in enumerate(clf.feature_importances_) if elem > 0}.items(), key=lambda x:x[1], reverse=True)][:3]\n",
    "    print(catname[1].ljust(max(len(i[1]) for i in catnames)), feats)"
   ]
  },
  {
   "cell_type": "markdown",
   "id": "3dfe7b1c-814e-461c-8b69-bf986215a210",
   "metadata": {},
   "source": [
    "#### Use early decisions"
   ]
  },
  {
   "cell_type": "code",
   "execution_count": null,
   "id": "8340bd44-50dd-4fc2-9123-d6447f8342ee",
   "metadata": {},
   "outputs": [],
   "source": [
    "def get_decisions(X_test, clf, catnames, axnames):\n",
    "    n_nodes = clf.tree_.node_count\n",
    "    children_left = clf.tree_.children_left\n",
    "    children_right = clf.tree_.children_right\n",
    "    classes = [catnames[clf.classes_[np.argmax(i)]] for i in clf.tree_.value]\n",
    "    node_depth = np.zeros(shape=n_nodes, dtype=np.int64)\n",
    "    is_leaves = np.zeros(shape=n_nodes, dtype=bool)\n",
    "    stack = [(0, 0)]  # start with the root node id (0) and its depth (0)\n",
    "    while len(stack) > 0:\n",
    "        # `pop` ensures each node is only visited once\n",
    "        node_id, depth = stack.pop()\n",
    "        node_depth[node_id] = depth\n",
    "        # If the left and right child of a node is not the same we have a split node\n",
    "        is_split_node = children_left[node_id] != children_right[node_id]\n",
    "        # If a split node, append left and right children and depth to `stack` so we can loop through them\n",
    "        if is_split_node:\n",
    "            stack.append((children_left[node_id], depth + 1))\n",
    "            stack.append((children_right[node_id], depth + 1))\n",
    "        else:\n",
    "            is_leaves[node_id] = True\n",
    "    alls = {}\n",
    "    for i in range(n_nodes):\n",
    "        if not is_leaves[i]:\n",
    "            alls.setdefault(node_depth[i], []).append((axnames[clf.tree_.feature[i]], clf.tree_.threshold[i]))  \n",
    "    return (alls[0]+alls[1]) if len(alls) > 1 else alls[0]"
   ]
  },
  {
   "cell_type": "code",
   "execution_count": null,
   "id": "7cd84f56-e070-4c59-a5fd-4b15b3d55251",
   "metadata": {},
   "outputs": [],
   "source": [
    "axnames = [f\",\".join([i]+clusters[\"clusters\"][i][:2]) for i in inputs.columns]\n",
    "for clf, catname in zip(clfs, catnames):\n",
    "    print(catname[1].ljust(max(len(i[1]) for i in catname)), get_decisions(inputs, clf, catname, axnames))"
   ]
  },
  {
   "cell_type": "markdown",
   "id": "13e63de0-c397-4d62-8ea6-d87b92a2c6bb",
   "metadata": {},
   "source": [
    "## let's plot!"
   ]
  },
  {
   "cell_type": "code",
   "execution_count": null,
   "id": "9f871875-bcdf-475f-9bf5-49963330dd78",
   "metadata": {},
   "outputs": [],
   "source": [
    "clfs, inputs, targets, scores, catnames = classify_shallowtree(clusters, embedding, descriptions, one_vs_rest=True, dt_depth=2, test_percentage_crossval=0, classes=\"Geonames\", do_plot=False, verbose=False, return_features=True)"
   ]
  },
  {
   "cell_type": "code",
   "execution_count": null,
   "id": "a5d3ce4c-ae6b-4775-b92b-25e26518b16a",
   "metadata": {},
   "outputs": [],
   "source": [
    "axnames = [f\",\".join([i]+clusters[\"clusters\"][i][:2]) for i in inputs.columns]\n",
    "best_split = argmax(scores)\n",
    "print(f\"Best category to split: {catnames[best_split][1]} with score {max(scores):.3f}\")\n",
    "\n",
    "important_feats = [i[0] for i in sorted({axnames[i]: elem for i, elem in enumerate(clf.feature_importances_) if elem > 0}.items(), key=lambda x:x[1], reverse=True)][:3]\n",
    "early_splits = [i[0] for i in get_decisions(inputs, clf, catnames, axnames)]\n",
    "print(important_feats)\n",
    "print(early_splits)"
   ]
  },
  {
   "cell_type": "code",
   "execution_count": null,
   "id": "ccb8af15-01e2-4295-9e0e-dc7e43f6fec6",
   "metadata": {},
   "outputs": [],
   "source": [
    "def plot_boundary(inputs, clf, targets, catnames, axnames):\n",
    "    early_splits = [i[0] for i in get_decisions(inputs, clf, catnames, axnames)]\n",
    "    if len(unique(early_splits)) < 3: \n",
    "        warnings.warn(\"<3 dimensions!!\")\n",
    "    inputcols = inputs.columns\n",
    "    inputs = inputs[[i[0].split(\",\")[0] for i in get_decisions(inputs, clf, catnames, axnames)]]\n",
    "    \n",
    "    quaders = list(product(*[((0, i[1]), (i[1]+.001, inputs.max()[n])) for n,i in enumerate(get_decisions(inputs, clf, catnames, axnames))]))\n",
    "    index_nrs = [list(inputcols).index(i) for i in inputs.columns]\n",
    "    tmp = [np.zeros(len(quaders)) for _ in range(len(inputcols))]\n",
    "    for num, elem in enumerate(index_nrs):\n",
    "        tmp[elem] = np.array([[i[0] for i in j] for j in quaders]).T[num]\n",
    "    boundary_targets = clf.predict(np.column_stack(tmp))\n",
    "    \n",
    "    def get_coords(quad):\n",
    "        coords = list(zip(*list(product(*quad))))\n",
    "        arg = np.array(list(zip(*coords))).T\n",
    "        arg = arg.T[[0,2,6,4,1,3,7,5]].T #this is the order from \"Mesh Cube\" from docs: https://plotly.com/python/3d-mesh/\n",
    "        return [list(i) for i in arg]\n",
    "    \n",
    "    pos_inpt = inputs.iloc[np.where(targets)]\n",
    "    pos_custom_data = [{\"Name\": list(pos_inpt.index)[i]} for i in range(len(pos_inpt))]\n",
    "    neg_inpt = inputs.iloc[np.where(1-targets)]\n",
    "    neg_custom_data = [{\"Name\": list(neg_inpt.index)[i]} for i in range(len(neg_inpt))]\n",
    "\n",
    "    with ThreeDFigure(name=catnames[1]+\" | \"+\",\".join(inputs.columns)) as fig:\n",
    "        fig.fig.update_layout(scene = dict(xaxis_title=inputs.columns[0], yaxis_title=inputs.columns[1], zaxis_title=inputs.columns[2]))\n",
    "        fig.add_markers(pos_inpt, color=\"red\", name=f\"class: {catnames[1]}\", custom_data=pos_custom_data)\n",
    "        fig.add_markers(neg_inpt, color=\"blue\", name=\"others\", custom_data=neg_custom_data)\n",
    "        for quad, target in zip(quaders, boundary_targets):\n",
    "            if target == 1:\n",
    "                fig.add_quader(get_coords(quad), name=f\"Boundary for {catnames[1]}\")\n",
    "            else:\n",
    "                fig.add_quader(get_coords(quad), name=f\"Boundary for other\", color=\"blue\")\n",
    "\n",
    "        fig.show()"
   ]
  },
  {
   "cell_type": "code",
   "execution_count": null,
   "id": "4743d052-2301-4ba9-ad1c-30a6ec84ce59",
   "metadata": {},
   "outputs": [],
   "source": [
    "def plot_from_nr(nr):\n",
    "    axnames = [f\",\".join([i]+clusters[\"clusters\"][i][:2]) for i in inputs.columns]\n",
    "    print(f\"Plotting {catnames[nr]}. Accuracy: {scores[nr]:.3f}\")\n",
    "    plot_boundary(inputs, clfs[nr], targets[nr], catnames[nr], axnames)"
   ]
  },
  {
   "cell_type": "code",
   "execution_count": null,
   "id": "67fc3324-e375-48d4-b0b7-b25ae78069ac",
   "metadata": {},
   "outputs": [],
   "source": [
    "plot_from_nr(0)"
   ]
  },
  {
   "cell_type": "code",
   "execution_count": null,
   "id": "c34f6508-0804-42f9-b6f3-8c623728b508",
   "metadata": {},
   "outputs": [],
   "source": []
  }
 ],
 "metadata": {
  "kernelspec": {
   "display_name": "Python 3 (ipykernel)",
   "language": "python",
   "name": "python3"
  },
  "language_info": {
   "codemirror_mode": {
    "name": "ipython",
    "version": 3
   },
   "file_extension": ".py",
   "mimetype": "text/x-python",
   "name": "python",
   "nbconvert_exporter": "python",
   "pygments_lexer": "ipython3",
   "version": "3.10.0"
  }
 },
 "nbformat": 4,
 "nbformat_minor": 5
}
