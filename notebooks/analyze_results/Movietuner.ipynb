{
 "cells": [
  {
   "cell_type": "code",
   "execution_count": null,
   "id": "8a10720f-8167-43b3-a1a1-38eeb5135999",
   "metadata": {},
   "outputs": [],
   "source": [
    "import matplotlib.pyplot as plt\n",
    "import pandas as pd\n",
    "from IPython.display import HTML\n",
    "import pyperclip\n",
    "\n",
    "from misc_util.logutils import setup_logging\n",
    "from misc_util.pretty_print import Markdown, display\n",
    "\n",
    "from derive_conceptualspace.pipeline import SnakeContext, load_envfiles, cluster_loader\n",
    "from derive_conceptualspace.util.result_analysis_tools import getfiles_allconfigs, display_metrics, show_lambda_elements, highlight_nonzero_max\n",
    "from derive_conceptualspace.settings import DEFAULT_N_CPUS\n",
    "from derive_conceptualspace.util.threadworker import WorkerPool\n",
    "from derive_conceptualspace.cli.args_from_filename import get_filename, print_envvars\n",
    "from derive_conceptualspace.util.desc_object import DescriptionList\n",
    "\n",
    "plt.rcParams['figure.figsize'] = [16, 10]"
   ]
  },
  {
   "cell_type": "code",
   "execution_count": null,
   "id": "bbefd490-33ff-4f0a-ae55-a06eeed84fff",
   "metadata": {},
   "outputs": [],
   "source": [
    "setup_logging()\n",
    "load_envfiles(\"placetypes\")\n",
    "configs, print_cnf = getfiles_allconfigs(\"clusters\", verbose=False, parse_all=True)"
   ]
  },
  {
   "cell_type": "code",
   "execution_count": null,
   "id": "a6efdcc7-faf3-4e60-b2cc-c8206e519acb",
   "metadata": {},
   "outputs": [],
   "source": [
    "loaders = dict(clusters=cluster_loader, embedding=lambda **args: args[\"embedding\"].embedding_, pp_descriptions=DescriptionList.from_json)\n",
    "clusters, embedding, descriptions = SnakeContext.loader_context(config=configs[0]).load(\"clusters\", \"embedding\", \"pp_descriptions\", loaders=loaders)\n",
    "clusters, planes = clusters.values()"
   ]
  },
  {
   "cell_type": "code",
   "execution_count": null,
   "id": "adac8f87-5189-4b03-a983-8833c8c6febd",
   "metadata": {},
   "outputs": [],
   "source": [
    "axis_dists = [{k: v.dist(embedding[i]) for k, v in planes.items()} for i in range(len(embedding))]\n",
    "best_per_dim = {k: descriptions._descriptions[v].title for k, v in pd.DataFrame(axis_dists).idxmax().to_dict().items()}\n",
    "print(\"Highest-ranking descriptions per dimension:\\n    \"+\"\\n    \".join([f\"{k.ljust(max([len(i) for i in best_per_dim.keys()][:20]))}: {v}\" for k, v in best_per_dim.items()][:20]))"
   ]
  },
  {
   "cell_type": "code",
   "execution_count": null,
   "id": "51d99f51-6d4e-4e60-af99-2e5a6fb060be",
   "metadata": {},
   "outputs": [],
   "source": [
    "#TODO: movietuner interface and display of the top 3 dimensions (did the latter already for desc15)"
   ]
  },
  {
   "cell_type": "code",
   "execution_count": null,
   "id": "f7ed0396-174c-48ad-8bf1-4670828a4370",
   "metadata": {},
   "outputs": [],
   "source": [
    "\n",
    "def plot_3d_tsne(df, cat_name):\n",
    "    #fig = px.scatter_3d(df, x='tsne_1', y='tsne_2', z='tsne_3', color='FB_long', opacity=0.7)#, size=[2]*len(df))\n",
    "    fig = go.Figure()\n",
    "    for ncol,part_df in enumerate(set(df[\"Category\"])):\n",
    "        fig.add_trace(\n",
    "            go.Scatter3d(\n",
    "                name=part_df,\n",
    "                mode='markers',\n",
    "                x=df[df[\"Category\"] == part_df][\"tsne_1\"],\n",
    "                y=df[df[\"Category\"] == part_df][\"tsne_2\"],\n",
    "                z=df[df[\"Category\"] == part_df][\"tsne_3\"],\n",
    "                marker=dict(            \n",
    "                    color=ncol,\n",
    "                    size=1.5,\n",
    "                    line=dict(\n",
    "                        width=0\n",
    "                    )\n",
    "                ),\n",
    "            )\n",
    "        )\n",
    "    #fig.update_layout(showlegend=False)\n",
    "    fig.update_layout(legend= {'itemsizing': 'constant'})\n",
    "    fig.update_layout(margin=dict(l=2,r=2,t=20,b=2))\n",
    "    fig.show()"
   ]
  }
 ],
 "metadata": {
  "kernelspec": {
   "display_name": "Python 3 (ipykernel)",
   "language": "python",
   "name": "python3"
  },
  "language_info": {
   "codemirror_mode": {
    "name": "ipython",
    "version": 3
   },
   "file_extension": ".py",
   "mimetype": "text/x-python",
   "name": "python",
   "nbconvert_exporter": "python",
   "pygments_lexer": "ipython3",
   "version": "3.10.0"
  }
 },
 "nbformat": 4,
 "nbformat_minor": 5
}
