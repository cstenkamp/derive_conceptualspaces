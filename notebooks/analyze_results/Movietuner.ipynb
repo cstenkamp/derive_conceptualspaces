{
 "cells": [
  {
   "cell_type": "code",
   "execution_count": null,
   "id": "8a10720f-8167-43b3-a1a1-38eeb5135999",
   "metadata": {},
   "outputs": [],
   "source": [
    "import matplotlib.pyplot as plt\n",
    "import pandas as pd\n",
    "from IPython.display import HTML\n",
    "import pyperclip\n",
    "\n",
    "from misc_util.logutils import setup_logging\n",
    "from misc_util.pretty_print import Markdown, display\n",
    "\n",
    "from derive_conceptualspace.pipeline import SnakeContext, load_envfiles, cluster_loader\n",
    "from derive_conceptualspace.util.result_analysis_tools import getfiles_allconfigs, display_metrics, show_lambda_elements, highlight_nonzero_max\n",
    "from derive_conceptualspace.settings import DEFAULT_N_CPUS\n",
    "from derive_conceptualspace.util.threadworker import WorkerPool\n",
    "from derive_conceptualspace.cli.args_from_filename import get_filename, print_envvars\n",
    "from derive_conceptualspace.util.desc_object import DescriptionList\n",
    "\n",
    "plt.rcParams['figure.figsize'] = [16, 10]"
   ]
  },
  {
   "cell_type": "code",
   "execution_count": null,
   "id": "bbefd490-33ff-4f0a-ae55-a06eeed84fff",
   "metadata": {},
   "outputs": [],
   "source": [
    "setup_logging()\n",
    "load_envfiles(\"placetypes\")\n",
    "configs, print_cnf = getfiles_allconfigs(\"clusters\", verbose=False, parse_all=True)"
   ]
  },
  {
   "cell_type": "code",
   "execution_count": null,
   "id": "a6efdcc7-faf3-4e60-b2cc-c8206e519acb",
   "metadata": {},
   "outputs": [],
   "source": [
    "loaders = dict(clusters=cluster_loader, embedding=lambda **args: args[\"embedding\"].embedding_, pp_descriptions=DescriptionList.from_json)\n",
    "clusters, embedding, descriptions = SnakeContext.loader_context(config=configs[0]).load(\"clusters\", \"embedding\", \"pp_descriptions\", loaders=loaders)\n",
    "clusters, planes = clusters.values()"
   ]
  },
  {
   "cell_type": "code",
   "execution_count": null,
   "id": "adac8f87-5189-4b03-a983-8833c8c6febd",
   "metadata": {},
   "outputs": [],
   "source": [
    "axis_dists = [{k: v.dist(embedding[i]) for k, v in planes.items()} for i in range(len(embedding))]\n",
    "best_per_dim = {k: descriptions._descriptions[v].title for k, v in pd.DataFrame(axis_dists).idxmax().to_dict().items()}\n",
    "print(\"Highest-ranking descriptions per dimension:\\n    \"+\"\\n    \".join([f\"{k.ljust(max([len(i) for i in best_per_dim.keys()][:20]))}: {v}\" for k, v in best_per_dim.items()][:20]))"
   ]
  },
  {
   "cell_type": "code",
   "execution_count": null,
   "id": "c29d850f-370f-4e5d-9f9d-44932d6e7fc7",
   "metadata": {},
   "outputs": [],
   "source": [
    "desc_axes = dict(zip([i.title for i in descriptions._descriptions], axis_dists))"
   ]
  },
  {
   "cell_type": "code",
   "execution_count": null,
   "id": "978fb405-f64d-41b6-b35b-61b2e384c281",
   "metadata": {},
   "outputs": [],
   "source": []
  }
 ],
 "metadata": {
  "kernelspec": {
   "display_name": "Python 3 (ipykernel)",
   "language": "python",
   "name": "python3"
  },
  "language_info": {
   "codemirror_mode": {
    "name": "ipython",
    "version": 3
   },
   "file_extension": ".py",
   "mimetype": "text/x-python",
   "name": "python",
   "nbconvert_exporter": "python",
   "pygments_lexer": "ipython3",
   "version": "3.10.0"
  }
 },
 "nbformat": 4,
 "nbformat_minor": 5
}
