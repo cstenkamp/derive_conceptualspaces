{
 "cells": [
  {
   "cell_type": "code",
   "execution_count": null,
   "id": "24ffe30d-0fa9-43a8-9d57-2286bfb8eadb",
   "metadata": {},
   "outputs": [],
   "source": [
    "import os\n",
    "from os.path import join, isdir, isfile, abspath, dirname, splitext, basename, split\n",
    "from parse import parse\n",
    "import math\n",
    "\n",
    "from IPython.display import Markdown, display\n",
    "from dotenv import load_dotenv\n",
    "import numpy as np\n",
    "import pandas as pd\n",
    "import matplotlib.pyplot as plt\n",
    "\n",
    "from misc_util.pretty_print import pretty_print as print\n",
    "from derive_conceptualspace.pipeline import CustomContext, SnakeContext\n",
    "from derive_conceptualspace.settings import ENV_PREFIX, get_setting\n",
    "from derive_conceptualspace import settings\n",
    "\n",
    "plt.rcParams['figure.figsize'] = [16, 10]"
   ]
  },
  {
   "cell_type": "code",
   "execution_count": null,
   "id": "b2c9d99a-01ad-4d9f-9e45-6f6069654932",
   "metadata": {},
   "outputs": [],
   "source": [
    "assert load_dotenv(abspath(join(os.getcwd(), \"..\", \"..\", \"config\", \"_select_env.env\")))\n",
    "assert load_dotenv(os.environ[\"MA_ENV_FILE\"])\n",
    "\n",
    "candidates = [join(path, name)[len(os.environ[\"MA_BASE_DIR\"]):] for path, subdirs, files in os.walk(join(os.environ[\"MA_BASE_DIR\"], \"\")) for\n",
    "              name in files if name.startswith(\"clusters.json\")]\n",
    "candidates = [i for i in candidates if i.startswith(os.environ[\"MA_DATASET\"]) and not \"backup\" in i.lower()]\n",
    "print(f\"There are {len(candidates)} different parameter-combis:\")\n",
    "# display(candidates)\n",
    "configs = [parse(os.sep.join(settings.DIR_STRUCT+[\"clusters.json\"]), cand).named for cand in candidates]\n",
    "print_cnf = {k: list(set(dic[k] for dic in configs)) for k in configs[0]}\n",
    "print_cnf = {k: v[0] if len(v) == 1 else v for k, v in print_cnf.items()}\n",
    "print_cnf"
   ]
  },
  {
   "cell_type": "code",
   "execution_count": null,
   "id": "9b5732f9-06b1-4158-a3ed-73f8370d6b12",
   "metadata": {},
   "outputs": [],
   "source": [
    "def show_metrics(metlist):\n",
    "    metrics = list(list(metlist.values())[0].keys())\n",
    "    w, h = math.ceil(math.sqrt(len(metrics))), math.ceil(math.sqrt(len(metrics)))\n",
    "    for n, met in enumerate(metrics):\n",
    "        plt.subplot(w, h, n+1)\n",
    "        vals = [i[met] for i in metlist.values()]\n",
    "        #vals = (np.digitize(vals, [i/10 for i in range(11)])-1)/10\n",
    "        #vals = np.histogram(vals, bins=[i/10 for i in range(11)])\n",
    "        plt.title(met)\n",
    "        plt.hist(vals, bins=[i/10 for i in range(11)]);\n",
    "    plt.tight_layout()\n",
    "    plt.show()"
   ]
  },
  {
   "cell_type": "code",
   "execution_count": null,
   "id": "4da4590c-9b6f-4d94-9743-51510e3fc0ad",
   "metadata": {},
   "outputs": [],
   "source": [
    "for conf in configs:\n",
    "    specials = {k: v for k, v in conf.items() if isinstance(print_cnf[k], list)}\n",
    "    display(Markdown(\"## \"+\", \".join(f\"{k}: {v}\" for k,v in specials.items())))\n",
    "    ctx = SnakeContext.loader_context(config=conf)\n",
    "    ctx.load(\"clusters\")\n",
    "    show_metrics(ctx.obj[\"clusters\"][\"metrics\"])"
   ]
  },
  {
   "cell_type": "code",
   "execution_count": null,
   "id": "97af3f4c-feed-4e5d-a810-28463692a0f4",
   "metadata": {},
   "outputs": [],
   "source": []
  }
 ],
 "metadata": {
  "kernelspec": {
   "display_name": "Python 3",
   "language": "python",
   "name": "python3"
  },
  "language_info": {
   "codemirror_mode": {
    "name": "ipython",
    "version": 3
   },
   "file_extension": ".py",
   "mimetype": "text/x-python",
   "name": "python",
   "nbconvert_exporter": "python",
   "pygments_lexer": "ipython3",
   "version": "3.8.8"
  }
 },
 "nbformat": 4,
 "nbformat_minor": 5
}
