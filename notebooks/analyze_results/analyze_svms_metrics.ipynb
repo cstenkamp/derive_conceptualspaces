{
 "cells": [
  {
   "cell_type": "code",
   "execution_count": null,
   "id": "24ffe30d-0fa9-43a8-9d57-2286bfb8eadb",
   "metadata": {},
   "outputs": [],
   "source": [
    "import os\n",
    "from os.path import join, isdir, isfile, abspath, dirname, splitext, basename, split\n",
    "from parse import parse\n",
    "import math\n",
    "\n",
    "from IPython.display import Markdown, display\n",
    "import numpy as np\n",
    "import pandas as pd\n",
    "import matplotlib.pyplot as plt\n",
    "\n",
    "from misc_util.pretty_print import pretty_print as print\n",
    "from derive_conceptualspace.pipeline import CustomContext, SnakeContext\n",
    "from derive_conceptualspace.settings import ENV_PREFIX, get_setting\n",
    "from derive_conceptualspace import settings\n",
    "from derive_conceptualspace.pipeline import load_envfiles\n",
    "\n",
    "plt.rcParams['figure.figsize'] = [16, 10]"
   ]
  },
  {
   "cell_type": "code",
   "execution_count": null,
   "id": "55f0643a-6f82-4b80-936e-ab04959e4eb0",
   "metadata": {},
   "outputs": [],
   "source": [
    "def show_metrics(metlist):\n",
    "    metrics = list(list(metlist.values())[0].keys())\n",
    "    w, h = math.ceil(math.sqrt(len(metrics))), math.ceil(math.sqrt(len(metrics)))\n",
    "    for n, met in enumerate(metrics):\n",
    "        plt.subplot(w, h, n+1)\n",
    "        vals = [i[met] for i in metlist.values()]\n",
    "        vals = [abs(i) for i in vals]\n",
    "        #vals = (np.digitize(vals, [i/10 for i in arange(11)])-1)/10\n",
    "        hist = np.histogram(vals, bins=[i/10 for i in range(11)]+[max(vals+[1.1])])\n",
    "        make_logscale = max(hist[0])/len(vals) > 0.6\n",
    "        plt.title(met +(\" (log)\" if make_logscale else \"\"))\n",
    "        plt.hist(vals, bins=[i/10 for i in range(11)]+[max(vals+[1.1])], log=make_logscale, color=\"red\" if make_logscale else \"blue\")\n",
    "    plt.tight_layout()\n",
    "    plt.show()"
   ]
  },
  {
   "cell_type": "markdown",
   "id": "1aaafffe-72bb-4a96-b558-a9680bd4807c",
   "metadata": {},
   "source": [
    "## Prepare all parameter-combinations"
   ]
  },
  {
   "cell_type": "code",
   "execution_count": null,
   "id": "b2c9d99a-01ad-4d9f-9e45-6f6069654932",
   "metadata": {},
   "outputs": [],
   "source": [
    "load_envfiles(\"placetypes\")\n",
    "\n",
    "candidates = [join(path, name)[len(os.environ[\"MA_BASE_DIR\"])+1:] for path, subdirs, files in os.walk(join(os.environ[\"MA_BASE_DIR\"], \"\")) for\n",
    "              name in files if name.startswith(\"clusters.json\")]\n",
    "candidates = [i for i in candidates if i.startswith(os.environ[\"MA_DATASET\"]) and not \"backup\" in i.lower() and not \"debug_True\" in i]\n",
    "print(f\"There are {len(candidates)} different parameter-combis for dataset *b*{os.environ['MA_DATASET']}*b*:\")\n",
    "# display(candidates)\n",
    "configs = [parse(os.sep.join(settings.DIR_STRUCT+[\"clusters.json\"]), cand).named for cand in candidates]\n",
    "print_cnf = {k: list(set(dic[k] for dic in configs)) for k in configs[0]}\n",
    "print_cnf = {k: v[0] if len(v) == 1 else v for k, v in print_cnf.items()}\n",
    "print_cnf"
   ]
  },
  {
   "cell_type": "markdown",
   "id": "ac8a64ab-8c9a-4dbe-9c53-a0d06e89fc94",
   "metadata": {},
   "source": [
    "# Showing all metrics for the loaded parameter-combinations"
   ]
  },
  {
   "cell_type": "code",
   "execution_count": null,
   "id": "fddb5c43-3096-4842-b740-592dceaabfa3",
   "metadata": {},
   "outputs": [],
   "source": [
    "# for conf in configs:\n",
    "#     specials = {k: v for k, v in conf.items() if isinstance(print_cnf[k], list)}\n",
    "#     display(Markdown(\"## \"+\", \".join(f\"{k}: {v}\" for k,v in specials.items())))\n",
    "#     ctx = SnakeContext.loader_context(config=conf, silent=True)\n",
    "#     clusters = ctx.load(\"clusters\")\n",
    "#     #show_metrics(clusters)\n",
    "#     display(generate_comparertable(clusters[\"metrics\"], minval=0.1))\n",
    "#     #look at combis o'f bin2bin, f_one, k_r2r+_min, k_dig+_2, k_c2r+"
   ]
  },
  {
   "cell_type": "code",
   "execution_count": null,
   "id": "26217e80-0cc9-447d-85e7-53503e8872ee",
   "metadata": {},
   "outputs": [],
   "source": [
    "for conf in configs:\n",
    "    specials = {k: v for k, v in conf.items() if isinstance(print_cnf[k], list)}\n",
    "    display(Markdown(\"## \"+\", \".join(f\"{k}: {v}\" for k,v in specials.items())))\n",
    "    ctx = SnakeContext.loader_context(config=conf, silent=True)\n",
    "    clusters = ctx.load(\"clusters\")\n",
    "    ctx.print_important_settings()\n",
    "    show_metrics(clusters[\"metrics\"])"
   ]
  },
  {
   "cell_type": "code",
   "execution_count": null,
   "id": "97af3f4c-feed-4e5d-a810-28463692a0f4",
   "metadata": {},
   "outputs": [],
   "source": [
    "lambda1 = 0.4\n",
    "lambda2 = 0.1\n",
    "\n",
    "for conf in configs:\n",
    "    specials = {k: v for k, v in conf.items() if isinstance(print_cnf[k], list)}\n",
    "    display(Markdown(\"#### \"+\", \".join(f\"{k}: {v}\" for k,v in specials.items())))\n",
    "    ctx = SnakeContext.loader_context(config=conf, silent=True)\n",
    "    clusters = ctx.load(\"clusters\")\n",
    "    metlist = clusters[\"metrics\"]\n",
    "    for met in list(list(metlist.values())[0].keys()):\n",
    "        if \"kappa\" in met and not \"bin2bin\" in met:\n",
    "            vals = [i[met] for i in metlist.values()]\n",
    "            t1 = len([i for i in vals if i >= lambda1])\n",
    "            t2 = len([i for i in vals if i >= lambda2]) - t1\n",
    "            if t1: \n",
    "                print(f\" {met}: T^{lambda1}: {t1}, T^{lambda2}: {t2}\")\n",
    "                print(f\" In T^{lambda1}: {', '.join([k for k, v in metlist.items() if v[met] > lambda1])}\")"
   ]
  },
  {
   "cell_type": "code",
   "execution_count": null,
   "id": "cdff1b3b-91d4-4b98-a0e8-404e9d8456b4",
   "metadata": {},
   "outputs": [],
   "source": []
  }
 ],
 "metadata": {
  "kernelspec": {
   "display_name": "Python 3",
   "language": "python",
   "name": "python3"
  },
  "language_info": {
   "codemirror_mode": {
    "name": "ipython",
    "version": 3
   },
   "file_extension": ".py",
   "mimetype": "text/x-python",
   "name": "python",
   "nbconvert_exporter": "python",
   "pygments_lexer": "ipython3",
   "version": "3.8.8"
  }
 },
 "nbformat": 4,
 "nbformat_minor": 5
}
