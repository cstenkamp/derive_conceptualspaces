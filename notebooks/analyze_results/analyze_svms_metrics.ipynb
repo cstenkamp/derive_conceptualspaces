{
 "cells": [
  {
   "cell_type": "code",
   "execution_count": null,
   "id": "a93fad98-f19f-4395-9fa0-3504c7a22330",
   "metadata": {},
   "outputs": [],
   "source": [
    "import matplotlib.pyplot as plt\n",
    "import pandas as pd\n",
    "from IPython.display import HTML\n",
    "\n",
    "from misc_util.logutils import setup_logging\n",
    "from misc_util.pretty_print import Markdown, display\n",
    "\n",
    "from derive_conceptualspace.pipeline import SnakeContext, load_envfiles\n",
    "from derive_conceptualspace.util.result_analysis_tools import getfiles_allconfigs, display_metrics, show_lambda_elements, highlight_nonzero_max\n",
    "from derive_conceptualspace.settings import DEFAULT_N_CPUS\n",
    "from derive_conceptualspace.util.threadworker import WorkerPool\n",
    "\n",
    "plt.rcParams['figure.figsize'] = [16, 10]"
   ]
  },
  {
   "cell_type": "markdown",
   "id": "1aaafffe-72bb-4a96-b558-a9680bd4807c",
   "metadata": {},
   "source": [
    "## Prepare all parameter-combinations"
   ]
  },
  {
   "cell_type": "code",
   "execution_count": null,
   "id": "b2c9d99a-01ad-4d9f-9e45-6f6069654932",
   "metadata": {},
   "outputs": [],
   "source": [
    "setup_logging()\n",
    "load_envfiles(\"siddata\")\n",
    "configs, print_cnf = getfiles_allconfigs(\"clusters\", verbose=True)"
   ]
  },
  {
   "cell_type": "markdown",
   "id": "ac8a64ab-8c9a-4dbe-9c53-a0d06e89fc94",
   "metadata": {},
   "source": [
    "# Showing all metrics for the loaded parameter-combinations"
   ]
  },
  {
   "cell_type": "code",
   "execution_count": null,
   "id": "fddb5c43-3096-4842-b740-592dceaabfa3",
   "metadata": {},
   "outputs": [],
   "source": [
    "# for conf in configs:\n",
    "#     specials = {k: v for k, v in conf.items() if isinstance(print_cnf[k], list)}\n",
    "#     display(Markdown(\"## \"+\", \".join(f\"{k}: {v}\" for k,v in specials.items())))\n",
    "#     ctx = SnakeContext.loader_context(config=conf, silent=True)\n",
    "#     clusters = ctx.load(\"clusters\")\n",
    "#     #show_metrics(clusters)\n",
    "#     display(generate_comparertable(clusters[\"metrics\"], minval=0.1))\n",
    "#     #look at combis o'f bin2bin, f_one, k_r2r+_min, k_dig+_2, k_c2r+"
   ]
  },
  {
   "cell_type": "code",
   "execution_count": null,
   "id": "0dc3d2e3-fe74-4039-aac0-773b73232f2e",
   "metadata": {},
   "outputs": [],
   "source": [
    "# with WorkerPool(DEFAULT_N_CPUS-1, pgbar=\"Fetching clusters..\") as pool:\n",
    "#     get_clusters = lambda conf: ((ctx := SnakeContext.loader_context(config=conf, silent=True)).get_important_settings(), ctx.load(\"clusters\"))\n",
    "#     cluster_list, interrupted = pool.work(configs, get_clusters)\n",
    "\n",
    "with WorkerPool(2, pgbar=\"Fetching clusters..\") as pool:\n",
    "    get_clusters = lambda conf: ((ctx := SnakeContext.loader_context(config=conf, silent=True)).get_important_settings(), ctx.load(\"clusters\"))\n",
    "    cluster_list, interrupted = pool.work(configs[:5], get_clusters)"
   ]
  },
  {
   "cell_type": "code",
   "execution_count": null,
   "id": "26217e80-0cc9-447d-85e7-53503e8872ee",
   "metadata": {},
   "outputs": [],
   "source": [
    "for conf, (important_settings, clusters) in zip(configs, cluster_list):\n",
    "    specials = {k: v for k, v in conf.items() if isinstance(print_cnf[k], list)}\n",
    "    display(Markdown(\"## \"+\", \".join(f\"{k}: {v}\" for k,v in specials.items())))\n",
    "    display(\"Settings: \"+(\" - \".join(important_settings)))\n",
    "    display_metrics(clusters[\"metrics\"])"
   ]
  },
  {
   "cell_type": "code",
   "execution_count": null,
   "id": "97af3f4c-feed-4e5d-a810-28463692a0f4",
   "metadata": {
    "tags": []
   },
   "outputs": [],
   "source": [
    "alls = {}\n",
    "for conf, (important_settings, clusters) in zip(configs, cluster_list):\n",
    "    specials = {k: v for k, v in conf.items() if isinstance(print_cnf[k], list)}\n",
    "    display(Markdown(\"## \"+\", \".join(f\"{k}: {v}\" for k,v in specials.items())))\n",
    "    #display(\"Settings:\"+(\": \".join(important_settings)))\n",
    "    #show_lambda_elements(clusters[\"metrics\"], 0.5, 0.1)\n",
    "    lambda1, lambda2 = 0.5, 0.1\n",
    "    metlist = clusters[\"metrics\"]\n",
    "    res = {}\n",
    "    for met in list(list(metlist.values())[0].keys()):\n",
    "        if \"kappa\" in met and not \"bin2bin\" in met:\n",
    "            vals = [i[met] for i in metlist.values()]\n",
    "            t1 = len([i for i in vals if i >= lambda1])\n",
    "            t2 = len([i for i in vals if i >= lambda2]) - t1\n",
    "            if t1:\n",
    "                print(f\" {met}: T^{lambda1}: {t1}, T^{lambda2}: {t2}, in T^{lambda1}: {', '.join([k for k, v in metlist.items() if v[met] > lambda1][:5])}\")\n",
    "            # res[met] = {lambda1: t1, lambda2: t2, f\"{lambda1}_elems\": [k for k, v in metlist.items() if v[met] > lambda1][:5]}\n",
    "            met = met.replace(\"kappa\", \"k\").replace(\"dense\", \"d\").replace(\"rank2rank\", \"r2r\").replace(\"count2rank\", \"c2r\").replace(\"bin2bin\", \"b2b\").replace(\"f_one\", \"f1\").replace(\"digitized\", \"dig\").replace(\"_onlypos\", \"+\")\n",
    "            res[met] = t1\n",
    "    # alls[\" | \".join(f\"{v}\" for k,v in specials.items())] = res\n",
    "    alls[tuple(specials.values())] = res"
   ]
  },
  {
   "cell_type": "code",
   "execution_count": null,
   "id": "cdff1b3b-91d4-4b98-a0e8-404e9d8456b4",
   "metadata": {},
   "outputs": [],
   "source": [
    "styles = [{'selector': 'th', 'props': [('vertical-align','top')]}]  #('border-style', 'solid')  #see https://stackoverflow.com/a/55904239/5122790\n",
    "\n",
    "df = pd.DataFrame(alls, columns=pd.MultiIndex.from_tuples(alls.keys(), names=list(specials.keys()))).T\n",
    "df[\"mean\"] = df.mean(axis=1)\n",
    "res = df.style.apply(highlight_nonzero_max, axis=0).format(precision=0).set_table_styles(styles)\n",
    "res\n",
    "print(res.to_latex())"
   ]
  },
  {
   "cell_type": "markdown",
   "id": "532183fe-4576-4ae1-89a4-26dfc8b87a83",
   "metadata": {},
   "source": [
    "### Take-Aways from this huge table:\n",
    "* assuming I want >= 400 directions, I must choose quadratic kappa-weights over linear ones.\n",
    "* dcm_quant_measure == count is very good for digitized kappa, but consistently a lot worse than tf-idf and ppmi for ranking-based (which makes sense assuming there are many count==1 cases)\n",
    "* I should go for 3 dimensions only sporadically, but for dcm_quant_measure in [tf-idf, ppmi] it's performance is actually consistently competative (huge surprise!!)"
   ]
  },
  {
   "cell_type": "code",
   "execution_count": null,
   "id": "665761a0-5ee2-44bf-876a-39969f1c5a4a",
   "metadata": {},
   "outputs": [],
   "source": [
    "less = {k: v for k, v in alls.items() if k[-1] == \"quadratic\" and not (k[2] == \"3\" and k[3] not in [\"tfidf\", \"ppmi\"])}\n",
    "df = pd.DataFrame(less, columns=pd.MultiIndex.from_tuples(less.keys(), names=list(specials.keys()))).T\n",
    "df[\"mean\"] = df.mean(axis=1)\n",
    "df.style.apply(highlight_nonzero_max, axis=0).format(precision=0).set_table_styles(styles)"
   ]
  },
  {
   "cell_type": "markdown",
   "id": "81f42b0c-ef21-4198-8df6-951de1951b0a",
   "metadata": {},
   "source": [
    "### More analysis:\n",
    "* quantification_measure == tfidf, n_dims = 200 produces aaaall the best results\n",
    "* can't really say that results are better if quantification_measure and dcm_quant_measure are the same vs one tf-idf one ppmi"
   ]
  },
  {
   "cell_type": "code",
   "execution_count": null,
   "id": "d8d1a8e7-27df-4ccb-ad09-615532766825",
   "metadata": {},
   "outputs": [],
   "source": []
  }
 ],
 "metadata": {
  "kernelspec": {
   "display_name": "Python 3 (ipykernel)",
   "language": "python",
   "name": "python3"
  },
  "language_info": {
   "codemirror_mode": {
    "name": "ipython",
    "version": 3
   },
   "file_extension": ".py",
   "mimetype": "text/x-python",
   "name": "python",
   "nbconvert_exporter": "python",
   "pygments_lexer": "ipython3",
   "version": "3.10.0"
  }
 },
 "nbformat": 4,
 "nbformat_minor": 5
}
