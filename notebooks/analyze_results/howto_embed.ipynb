{
 "cells": [
  {
   "cell_type": "code",
   "execution_count": null,
   "id": "24ffe30d-0fa9-43a8-9d57-2286bfb8eadb",
   "metadata": {},
   "outputs": [],
   "source": [
    "import os\n",
    "from os.path import join, isdir, isfile, abspath, dirname, splitext, basename, split\n",
    "from parse import parse\n",
    "import math\n",
    "import random\n",
    "import itertools\n",
    "\n",
    "from IPython.display import Markdown, display\n",
    "from dotenv import load_dotenv\n",
    "import numpy as np\n",
    "import pandas as pd\n",
    "import matplotlib.pyplot as plt\n",
    "from tqdm import tqdm\n",
    "import sklearn\n",
    "from sklearn.metrics import confusion_matrix\n",
    "\n",
    "from misc_util.pretty_print import pretty_print as print\n",
    "from derive_conceptualspace.pipeline import CustomContext, SnakeContext\n",
    "from derive_conceptualspace.settings import ENV_PREFIX, get_setting\n",
    "from derive_conceptualspace import settings\n",
    "\n",
    "plt.rcParams['figure.figsize'] = [8, 5]"
   ]
  },
  {
   "cell_type": "code",
   "execution_count": null,
   "id": "b2c9d99a-01ad-4d9f-9e45-6f6069654932",
   "metadata": {},
   "outputs": [],
   "source": [
    "assert load_dotenv(abspath(join(os.getcwd(), \"..\", \"..\", \"config\", \"_select_env.env\")))\n",
    "assert load_dotenv(os.environ[\"MA_ENV_FILE\"])\n",
    "\n",
    "ctx = SnakeContext.loader_context(config={\"DEBUG\": False, \"EMBED_DIMENSIONS\": 100})\n",
    "ctx.load(\"pp_descriptions\", \"filtered_dcm\", \"dissim_mat\", \"embedding\")\n",
    "ctx.obj[\"filtered_dcm\"].show_info()"
   ]
  },
  {
   "cell_type": "code",
   "execution_count": null,
   "id": "1a80747f-bcfd-447c-9c0d-9f7f06a3a57c",
   "metadata": {},
   "outputs": [],
   "source": [
    "print(ctx.display_output(\"embedding\"))"
   ]
  },
  {
   "cell_type": "code",
   "execution_count": null,
   "id": "421bbeb6-3bbc-4748-8fe5-aa746e73520a",
   "metadata": {},
   "outputs": [],
   "source": [
    "descriptions = ctx.obj[\"pp_descriptions\"]\n",
    "embedding = ctx.obj[\"embedding\"].embedding_\n",
    "dcm = ctx.obj[\"filtered_dcm\"]\n",
    "# terms = list(dcm.all_terms.values())\n",
    "terms = ['nature', 'ceiling', 'engine', 'athlete', 'seafood', 'shadows', 'skyscrapers', 'b737', 'monument', 'baby', 'sign', 'marine', 'iowa', 'field', 'buy', 'military', 'lounge', 'factory', 'road', 'education', '13thcentury', 'people', 'wait', 'travel', 'tunnel', 'treno', 'wings', 'hot', 'background', 'vintage', 'farmhouse', 'technology', 'building', 'horror', 'realestate', 'crane', 'slipway', 'ruin', 'national', 'morze']\n",
    "quants_s = [dcm.term_quants(term) for term in tqdm(terms, desc=\"Counting Terms\")]\n",
    "\n",
    "term, quants = terms[0], quants_s[0]"
   ]
  },
  {
   "cell_type": "code",
   "execution_count": null,
   "id": "23ee9096-016d-441e-a709-bd0bca9ade25",
   "metadata": {},
   "outputs": [],
   "source": [
    "bin_labels = np.array(quants, dtype=bool)\n",
    "svm = sklearn.svm.LinearSVC(class_weight=\"balanced\", loss=\"hinge\", max_iter=8000)\n",
    "svm.fit(embedding, bin_labels)\n",
    "svm_results = svm.decision_function(embedding)"
   ]
  },
  {
   "cell_type": "code",
   "execution_count": null,
   "id": "c064b4a4-4d4a-48db-bb8b-acdcc7de87f1",
   "metadata": {},
   "outputs": [],
   "source": [
    "tn, fp, fn, tp = confusion_matrix(bin_labels, [i > 0 for i in svm_results]).ravel()\n",
    "precision = tp / (tp + fp); recall = tp / (tp + fn); accuracy = (tp + tn) / len(quants)\n",
    "f_one = 2*(precision*recall)/(precision+recall)\n",
    "print(\"F1:\", f_one)"
   ]
  },
  {
   "cell_type": "code",
   "execution_count": null,
   "id": "51c91999-ea0b-4509-ac08-0c9f5d0ceb58",
   "metadata": {},
   "outputs": [],
   "source": [
    "from derive_conceptualspace.semantic_directions.create_candidate_svm import display_svm\n",
    "\n",
    "display_svm(embedding, np.array(bin_labels, dtype=int), svm, term=term, descriptions=descriptions, name=term, highlight=[\"airplane cabin\", \"aircraft cabin\"])"
   ]
  },
  {
   "cell_type": "code",
   "execution_count": null,
   "id": "4d15d5f2-6f09-4fc0-a226-d3cd3ccb9b44",
   "metadata": {},
   "outputs": [],
   "source": [
    "close_inds = [n for n, i in enumerate(descriptions._descriptions) if i.title in [\"airplane cabin\", \"aircraft cabin\"]]\n",
    "close_inds"
   ]
  },
  {
   "cell_type": "code",
   "execution_count": null,
   "id": "893e77bf-3968-46db-b1ca-b83c30180f19",
   "metadata": {},
   "outputs": [],
   "source": [
    "embedding[close_inds]"
   ]
  },
  {
   "cell_type": "code",
   "execution_count": null,
   "id": "5b8b9e3d-b672-47d1-89c0-ba730aada22f",
   "metadata": {},
   "outputs": [],
   "source": [
    "np.linalg.norm(close_inds[0]-close_inds[1])"
   ]
  },
  {
   "cell_type": "code",
   "execution_count": null,
   "id": "8d2c20fa-932b-443c-b859-9253f33e9478",
   "metadata": {},
   "outputs": [],
   "source": [
    "random_pairs = random.sample(list(itertools.combinations(random.sample(list(embedding), 1000), 2)), 500)\n",
    "average_dist = np.mean([np.linalg.norm(p1-p2) for p1, p2 in random_pairs])\n",
    "average_dist"
   ]
  },
  {
   "cell_type": "markdown",
   "id": "bec70a04-0e4a-45dc-a785-8f9efe772c72",
   "metadata": {},
   "source": [
    "Ok, so the embeddings of two supposedly close entities are absolutely not close. \n",
    "What about the dissimilarity-matrices?"
   ]
  },
  {
   "cell_type": "code",
   "execution_count": null,
   "id": "46611541-b791-4fc6-be8b-96ae5f794890",
   "metadata": {},
   "outputs": [],
   "source": [
    "orig1, orig2 = ctx.obj[\"dissim_mat\"][1][close_inds]\n",
    "np.linalg.norm(orig1-orig2)"
   ]
  },
  {
   "cell_type": "code",
   "execution_count": null,
   "id": "f955e12c-aa45-4592-affb-21c4e4446c76",
   "metadata": {},
   "outputs": [],
   "source": [
    "random_pairs = random.sample(list(itertools.combinations(random.sample(list(ctx.obj[\"dissim_mat\"][1]), 1000), 2)), 500)\n",
    "average_dist = np.mean([np.linalg.norm(p1-p2) for p1, p2 in random_pairs])\n",
    "average_dist"
   ]
  },
  {
   "cell_type": "markdown",
   "id": "c0426d82-919b-4829-bdaa-07746421fc7f",
   "metadata": {},
   "source": [
    "-> they are a lot closer than the average! Soooooo there's an error when creating the embedding?!"
   ]
  }
 ],
 "metadata": {
  "kernelspec": {
   "display_name": "Python 3",
   "language": "python",
   "name": "python3"
  },
  "language_info": {
   "codemirror_mode": {
    "name": "ipython",
    "version": 3
   },
   "file_extension": ".py",
   "mimetype": "text/x-python",
   "name": "python",
   "nbconvert_exporter": "python",
   "pygments_lexer": "ipython3",
   "version": "3.8.8"
  }
 },
 "nbformat": 4,
 "nbformat_minor": 5
}
