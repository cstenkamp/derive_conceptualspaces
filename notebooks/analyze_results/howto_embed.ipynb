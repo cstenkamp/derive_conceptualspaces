{
 "cells": [
  {
   "cell_type": "code",
   "execution_count": null,
   "id": "24ffe30d-0fa9-43a8-9d57-2286bfb8eadb",
   "metadata": {},
   "outputs": [],
   "source": [
    "import os\n",
    "from os.path import join, isdir, isfile, abspath, dirname, splitext, basename, split\n",
    "from parse import parse\n",
    "import math\n",
    "\n",
    "from IPython.display import Markdown, display\n",
    "from dotenv import load_dotenv\n",
    "import numpy as np\n",
    "import pandas as pd\n",
    "import matplotlib.pyplot as plt\n",
    "from tqdm import tqdm\n",
    "import sklearn\n",
    "from sklearn.metrics import confusion_matrix\n",
    "\n",
    "from misc_util.pretty_print import pretty_print as print\n",
    "from derive_conceptualspace.pipeline import CustomContext, SnakeContext\n",
    "from derive_conceptualspace.settings import ENV_PREFIX, get_setting\n",
    "from derive_conceptualspace import settings\n",
    "\n",
    "plt.rcParams['figure.figsize'] = [8, 5]"
   ]
  },
  {
   "cell_type": "code",
   "execution_count": null,
   "id": "b2c9d99a-01ad-4d9f-9e45-6f6069654932",
   "metadata": {},
   "outputs": [],
   "source": [
    "assert load_dotenv(abspath(join(os.getcwd(), \"..\", \"..\", \"config\", \"_select_env.env\")))\n",
    "assert load_dotenv(os.environ[\"MA_ENV_FILE\"])\n",
    "\n",
    "ctx = SnakeContext.loader_context()\n",
    "ctx.load(\"pp_descriptions\", \"filtered_dcm\", \"embedding\")\n",
    "ctx.obj[\"filtered_dcm\"].show_info()"
   ]
  },
  {
   "cell_type": "code",
   "execution_count": null,
   "id": "1a80747f-bcfd-447c-9c0d-9f7f06a3a57c",
   "metadata": {},
   "outputs": [],
   "source": [
    "print(ctx.display_output(\"embedding\"))"
   ]
  },
  {
   "cell_type": "code",
   "execution_count": null,
   "id": "421bbeb6-3bbc-4748-8fe5-aa746e73520a",
   "metadata": {},
   "outputs": [],
   "source": [
    "descriptions = ctx.obj[\"pp_descriptions\"]\n",
    "embedding = ctx.obj[\"embedding\"].embedding_\n",
    "dcm = ctx.obj[\"filtered_dcm\"]\n",
    "# terms = list(dcm.all_terms.values())\n",
    "terms = ['nature', 'ceiling', 'engine', 'athlete', 'seafood', 'shadows', 'skyscrapers', 'b737', 'monument', 'baby', 'sign', 'marine', 'iowa', 'field', 'buy', 'military', 'lounge', 'factory', 'road', 'education', '13thcentury', 'people', 'wait', 'travel', 'tunnel', 'treno', 'wings', 'hot', 'background', 'vintage', 'farmhouse', 'technology', 'building', 'horror', 'realestate', 'crane', 'slipway', 'ruin', 'national', 'morze']\n",
    "quants_s = [dcm.term_quants(term) for term in tqdm(terms, desc=\"Counting Terms\")]\n",
    "\n",
    "term, quants = terms[0], quants_s[0]"
   ]
  },
  {
   "cell_type": "code",
   "execution_count": null,
   "id": "23ee9096-016d-441e-a709-bd0bca9ade25",
   "metadata": {},
   "outputs": [],
   "source": [
    "bin_labels = np.array(quants, dtype=bool)\n",
    "svm = sklearn.svm.LinearSVC(class_weight=\"balanced\", loss=\"hinge\", max_iter=8000)\n",
    "svm.fit(embedding, bin_labels)\n",
    "svm_results = svm.decision_function(embedding)"
   ]
  },
  {
   "cell_type": "code",
   "execution_count": null,
   "id": "c064b4a4-4d4a-48db-bb8b-acdcc7de87f1",
   "metadata": {},
   "outputs": [],
   "source": [
    "tn, fp, fn, tp = confusion_matrix(bin_labels, [i > 0 for i in svm_results]).ravel()\n",
    "precision = tp / (tp + fp); recall = tp / (tp + fn); accuracy = (tp + tn) / len(quants)\n",
    "f_one = 2*(precision*recall)/(precision+recall)\n",
    "print(\"F1:\", f_one)"
   ]
  },
  {
   "cell_type": "code",
   "execution_count": null,
   "id": "51c91999-ea0b-4509-ac08-0c9f5d0ceb58",
   "metadata": {},
   "outputs": [],
   "source": [
    "from derive_conceptualspace.semantic_directions.create_candidate_svm import display_svm\n",
    "\n",
    "display_svm(embedding, np.array(bin_labels, dtype=int), svm, term=term, descriptions=descriptions, name=term, highlight=[\"airplane cabin\", \"aircraft cabin\"])"
   ]
  }
 ],
 "metadata": {
  "kernelspec": {
   "display_name": "Python 3",
   "language": "python",
   "name": "python3"
  },
  "language_info": {
   "codemirror_mode": {
    "name": "ipython",
    "version": 3
   },
   "file_extension": ".py",
   "mimetype": "text/x-python",
   "name": "python",
   "nbconvert_exporter": "python",
   "pygments_lexer": "ipython3",
   "version": "3.8.8"
  }
 },
 "nbformat": 4,
 "nbformat_minor": 5
}
