{
 "cells": [
  {
   "cell_type": "code",
   "execution_count": null,
   "id": "24ffe30d-0fa9-43a8-9d57-2286bfb8eadb",
   "metadata": {},
   "outputs": [],
   "source": [
    "import matplotlib.pyplot as plt\n",
    "\n",
    "from misc_util.logutils import setup_logging\n",
    "from misc_util.pretty_print import Markdown, display\n",
    "\n",
    "from derive_conceptualspace.pipeline import SnakeContext\n",
    "from derive_conceptualspace.pipeline import load_envfiles\n",
    "from derive_conceptualspace.util.result_analysis_tools import getfiles_allconfigs, display_metrics\n",
    "\n",
    "plt.rcParams['figure.figsize'] = [16, 10]"
   ]
  },
  {
   "cell_type": "markdown",
   "id": "1aaafffe-72bb-4a96-b558-a9680bd4807c",
   "metadata": {},
   "source": [
    "## Prepare all parameter-combinations"
   ]
  },
  {
   "cell_type": "code",
   "execution_count": null,
   "id": "b2c9d99a-01ad-4d9f-9e45-6f6069654932",
   "metadata": {},
   "outputs": [],
   "source": [
    "setup_logging()\n",
    "load_envfiles(\"placetypes\")\n",
    "configs, print_cnf = getfiles_allconfigs(\"featureaxes\", verbose=True)"
   ]
  },
  {
   "cell_type": "markdown",
   "id": "ac8a64ab-8c9a-4dbe-9c53-a0d06e89fc94",
   "metadata": {},
   "source": [
    "# Showing all metrics for the loaded parameter-combinations"
   ]
  },
  {
   "cell_type": "code",
   "execution_count": null,
   "id": "fddb5c43-3096-4842-b740-592dceaabfa3",
   "metadata": {},
   "outputs": [],
   "source": [
    "# for conf in configs:\n",
    "#     specials = {k: v for k, v in conf.items() if isinstance(print_cnf[k], list)}\n",
    "#     display(Markdown(\"## \"+\", \".join(f\"{k}: {v}\" for k,v in specials.items())))\n",
    "#     ctx = SnakeContext.loader_context(config=conf, silent=True)\n",
    "#     featureaxes = ctx.load(\"featureaxes\")\n",
    "#     #show_metrics(featureaxes)\n",
    "#     display(generate_comparertable(featureaxes[\"metrics\"], minval=0.1))\n",
    "#     #look at combis o'f bin2bin, f_one, k_r2r+_min, k_dig+_2, k_c2r+"
   ]
  },
  {
   "cell_type": "code",
   "execution_count": null,
   "id": "26217e80-0cc9-447d-85e7-53503e8872ee",
   "metadata": {},
   "outputs": [],
   "source": [
    "#TODO I have a variant using WorkerPool for this now, which is ~factor 4 faster!\n",
    "for conf in configs:\n",
    "    specials = {k: v for k, v in conf.items() if isinstance(print_cnf[k], list)}\n",
    "    display(Markdown(\"## \"+\", \".join(f\"{k}: {v}\" for k,v in specials.items())))\n",
    "    ctx = SnakeContext.loader_context(config=conf, silent=True)\n",
    "    featureaxes = ctx.load(\"featureaxes\")\n",
    "    ctx.print_important_settings()\n",
    "    display_metrics(featureaxes[\"metrics\"])"
   ]
  },
  {
   "cell_type": "code",
   "execution_count": null,
   "id": "97af3f4c-feed-4e5d-a810-28463692a0f4",
   "metadata": {},
   "outputs": [],
   "source": [
    "lambda1 = 0.4\n",
    "lambda2 = 0.1\n",
    "\n",
    "for conf in configs:\n",
    "    specials = {k: v for k, v in conf.items() if isinstance(print_cnf[k], list)}\n",
    "    display(Markdown(\"#### \"+\", \".join(f\"{k}: {v}\" for k,v in specials.items())))\n",
    "    ctx = SnakeContext.loader_context(config=conf, silent=True)\n",
    "    featureaxes = ctx.load(\"featureaxes\")\n",
    "    metlist = featureaxes[\"metrics\"]\n",
    "    for met in list(list(metlist.values())[0].keys()):\n",
    "        if \"kappa\" in met and not \"bin2bin\" in met:\n",
    "            vals = [i[met] for i in metlist.values()]\n",
    "            t1 = len([i for i in vals if i >= lambda1])\n",
    "            t2 = len([i for i in vals if i >= lambda2]) - t1\n",
    "            if t1: \n",
    "                print(f\" {met}: T^{lambda1}: {t1}, T^{lambda2}: {t2}\")\n",
    "                print(f\" In T^{lambda1}: {', '.join([k for k, v in metlist.items() if v[met] > lambda1])}\")"
   ]
  },
  {
   "cell_type": "code",
   "execution_count": null,
   "id": "cdff1b3b-91d4-4b98-a0e8-404e9d8456b4",
   "metadata": {},
   "outputs": [],
   "source": []
  }
 ],
 "metadata": {
  "kernelspec": {
   "display_name": "Python 3 (ipykernel)",
   "language": "python",
   "name": "python3"
  },
  "language_info": {
   "codemirror_mode": {
    "name": "ipython",
    "version": 3
   },
   "file_extension": ".py",
   "mimetype": "text/x-python",
   "name": "python",
   "nbconvert_exporter": "python",
   "pygments_lexer": "ipython3",
   "version": "3.10.0"
  }
 },
 "nbformat": 4,
 "nbformat_minor": 5
}
