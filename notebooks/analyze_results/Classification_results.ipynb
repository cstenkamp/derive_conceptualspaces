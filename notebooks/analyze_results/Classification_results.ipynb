{
 "cells": [
  {
   "cell_type": "code",
   "execution_count": null,
   "id": "4900453e-1da2-4f4d-a009-1908e930a382",
   "metadata": {},
   "outputs": [],
   "source": [
    "import pandas as pd\n",
    "from misc_util.pretty_print import Markdown, display"
   ]
  },
  {
   "cell_type": "code",
   "execution_count": null,
   "id": "f2b2b812-4029-44ee-afe9-f41e2dfaaee0",
   "metadata": {},
   "outputs": [],
   "source": [
    "results = {('Foursquare', 0.2, True, 1): 0.6639580433163911, ('Foursquare', 0.2, True, 2): 0.7626339473599015, ('Foursquare', 0.2, True, 3): 0.8014179805108615, ('Foursquare', 0.2, False, 1): 0.21518987341772153, ('Foursquare', 0.2, False, 2): 0.06329113924050633, ('Foursquare', 0.2, False, 3): 0.2911392405063291, ('Foursquare', 0.33, True, 1): 0.6080857761164667, ('Foursquare', 0.33, True, 2): 0.7851268935667912, ('Foursquare', 0.33, True, 3): 0.8003737950029511, ('Foursquare', 0.33, False, 1): 0.06153846153846154, ('Foursquare', 0.33, False, 2): 0.13846153846153847, ('Foursquare', 0.33, False, 3): 0.2076923076923077, ('Foursquare', 0.5, True, 1): 0.62876454929798, ('Foursquare', 0.5, True, 2): 0.7508351166553577, ('Foursquare', 0.5, True, 3): 0.789407067174696, ('Foursquare', 0.5, False, 1): 0.18877551020408162, ('Foursquare', 0.5, False, 2): 0.08673469387755102, ('Foursquare', 0.5, False, 3): 0.21428571428571427, ('Foursquare', 4, True, 1): 0.6949589113996114, ('Foursquare', 4, True, 2): 0.7810246913646677, ('Foursquare', 4, True, 3): 0.7795832810937016, ('Foursquare', 4, False, 1): 0.1791237113402062, ('Foursquare', 4, False, 2): 0.1791763096991374, ('Foursquare', 4, False, 3): 0.23761308647170204, ('Foursquare', 5, True, 1): 0.6647017318421379, ('Foursquare', 5, True, 2): 0.7570383947152377, ('Foursquare', 5, True, 3): 0.7859114231188432, ('Foursquare', 5, False, 1): 0.21996105160662122, ('Foursquare', 5, False, 2): 0.20454397922752351, ('Foursquare', 5, False, 3): 0.15079519636481659, ('Geonames', 0.2, True, 1): 0.6176821983273596, ('Geonames', 0.2, True, 2): 0.6703121649358207, ('Geonames', 0.2, True, 3): 0.6886621940385382, ('Geonames', 0.2, False, 1): 0.024691358024691357, ('Geonames', 0.2, False, 2): 0.12345679012345678, ('Geonames', 0.2, False, 3): 0.08641975308641975, ('Geonames', 0.33, True, 1): 0.5425287785219872, ('Geonames', 0.33, True, 2): 0.6647885221739211, ('Geonames', 0.33, True, 3): 0.7378869008750163, ('Geonames', 0.33, False, 1): 0.03759398496240601, ('Geonames', 0.33, False, 2): 0.07518796992481203, ('Geonames', 0.33, False, 3): 0.08270676691729323, ('Geonames', 0.5, True, 1): 0.6353462889713288, ('Geonames', 0.5, True, 2): 0.6991253715942313, ('Geonames', 0.5, True, 3): 0.7432498833009852, ('Geonames', 0.5, False, 1): 0.04950495049504951, ('Geonames', 0.5, False, 2): 0.07425742574257425, ('Geonames', 0.5, False, 3): 0.13861386138613863, ('Geonames', 4, True, 1): 0.5410087094317373, ('Geonames', 4, True, 2): 0.6313954745350465, ('Geonames', 4, True, 3): 0.6655288922192468, ('Geonames', 4, False, 1): 0.05705445544554455, ('Geonames', 4, False, 2): 0.10663366336633663, ('Geonames', 4, False, 3): 0.16363861386138615, ('Geonames', 5, True, 1): 0.5287288239438777, ('Geonames', 5, True, 2): 0.6590884722605153, ('Geonames', 5, True, 3): 0.6823349569586129, ('Geonames', 5, False, 1): 0.057160493827160486, ('Geonames', 5, False, 2): 0.10660493827160493, ('Geonames', 5, False, 3): 0.13151234567901235}"
   ]
  },
  {
   "cell_type": "code",
   "execution_count": null,
   "id": "e5d4c5f3-70a9-419d-87df-1206cb3aedf8",
   "metadata": {
    "tags": []
   },
   "outputs": [],
   "source": [
    "df = pd.DataFrame(results, index=[\"Accuracy\"], columns=pd.MultiIndex.from_tuples([i for i in results.keys()], names=(\"classes\",\"test%/Xval\",\"1vsRest\",\"Tree-Depth\"))).T.unstack()\n",
    "display(Markdown(\"## Foursquare\"))\n",
    "display(df.xs(\"Foursquare\"))\n",
    "display(Markdown(\"## Geonames\"))\n",
    "display(df.xs(\"Geonames\"))"
   ]
  },
  {
   "cell_type": "code",
   "execution_count": null,
   "id": "c11e1b86-6669-4052-b798-ed9afb70db77",
   "metadata": {},
   "outputs": [],
   "source": []
  }
 ],
 "metadata": {
  "kernelspec": {
   "display_name": "Python 3 (ipykernel)",
   "language": "python",
   "name": "python3"
  },
  "language_info": {
   "codemirror_mode": {
    "name": "ipython",
    "version": 3
   },
   "file_extension": ".py",
   "mimetype": "text/x-python",
   "name": "python",
   "nbconvert_exporter": "python",
   "pygments_lexer": "ipython3",
   "version": "3.10.0"
  }
 },
 "nbformat": 4,
 "nbformat_minor": 5
}
