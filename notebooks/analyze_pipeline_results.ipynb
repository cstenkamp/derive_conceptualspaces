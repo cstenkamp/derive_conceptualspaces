{
 "cells": [
  {
   "cell_type": "code",
   "execution_count": null,
   "id": "18aaf356-2bb1-41e7-bd5b-47eeb323af93",
   "metadata": {},
   "outputs": [],
   "source": [
    "import os\n",
    "from os.path import join, isdir, isfile, abspath, dirname, splitext, basename, split\n",
    "from IPython.display import Markdown, display\n",
    "\n",
    "from dotenv import load_dotenv\n",
    "\n",
    "from misc_util.pretty_print import pretty_print as print\n",
    "from derive_conceptualspace.pipeline import CustomContext, SnakeContext\n",
    "from derive_conceptualspace.settings import ENV_PREFIX, get_setting"
   ]
  },
  {
   "cell_type": "markdown",
   "id": "51e87f21-f213-4014-a6cd-b1ab8fd1deb5",
   "metadata": {},
   "source": [
    "## Sample 1"
   ]
  },
  {
   "cell_type": "code",
   "execution_count": null,
   "id": "31602076-80ee-4bc6-8357-a3cc32388872",
   "metadata": {},
   "outputs": [],
   "source": [
    "assert load_dotenv(abspath(join(os.getcwd(), \"..\", \"config\", \"siddata.env\")))\n",
    "#display({k: v for k,v in os.environ.items() if k.startswith(ENV_PREFIX+\"_\") and not k.endswith(\"_shutup\")})\n",
    "\n",
    "ctx1 = SnakeContext.loader_context(config=dict(min_words_per_desc=100))\n",
    "\n",
    "ctx1.load(\"pp_descriptions\", \"filtered_dcm\", \"embedding\", \"clusters\")\n",
    "ctx1.obj[\"filtered_dcm\"].show_info(descriptions=ctx1.obj[\"pp_descriptions\"])"
   ]
  },
  {
   "cell_type": "markdown",
   "id": "af2aebb1-82a6-42f9-800f-783bba795064",
   "metadata": {},
   "source": [
    "## Sample 2"
   ]
  },
  {
   "cell_type": "code",
   "execution_count": null,
   "id": "080fff6f-4fa6-416c-b90a-1adf9ff45344",
   "metadata": {},
   "outputs": [],
   "source": [
    "assert load_dotenv(abspath(join(os.getcwd(), \"..\", \"config\", \"siddata.env\")))\n",
    "#display({k: v for k,v in os.environ.items() if k.startswith(ENV_PREFIX+\"_\") and not k.endswith(\"_shutup\")})\n",
    "\n",
    "ctx2 = SnakeContext.loader_context(config=dict(min_words_per_desc=100, embed_dimensions=100))\n",
    "ctx2.load(\"pp_descriptions\", \"filtered_dcm\", \"embedding\", \"clusters\")\n",
    "ctx2.obj[\"filtered_dcm\"].show_info(descriptions=ctx2.obj[\"pp_descriptions\"])"
   ]
  },
  {
   "cell_type": "code",
   "execution_count": null,
   "id": "8f348da4-9fba-4907-a9f0-f76bb8a74d42",
   "metadata": {},
   "outputs": [],
   "source": [
    "ctx.obj[\"clusters\"][\"metrics\"]"
   ]
  },
  {
   "cell_type": "code",
   "execution_count": null,
   "id": "082b598c-f134-4af9-bc76-486e23daeb58",
   "metadata": {},
   "outputs": [],
   "source": [
    "ctx.obj[\"filtered_dcm\"].doc_freq(\"computer\", rel=True)"
   ]
  },
  {
   "cell_type": "code",
   "execution_count": null,
   "id": "75dad151-2e60-40d0-8610-e68008a2f856",
   "metadata": {},
   "outputs": [],
   "source": [
    "print(ctx.obj[\"filtered_dcm\"].doc_freq(\"math\", supress=True))\n",
    "\n",
    "print(sum([\"mathematics\" in i for i in ctx.obj[\"pp_descriptions\"]._descriptions]))\n",
    "print(sum([\"mathematics\" in i.unprocessed_text.lower() for i in ctx.obj[\"pp_descriptions\"]._descriptions]))\n",
    "print(sum([\"math\" in i.unprocessed_text.lower() for i in ctx.obj[\"pp_descriptions\"]._descriptions]))\n",
    "print(len([[j for j in i.processing_steps[2][0] if \"math\" in j] for i in ctx.obj[\"pp_descriptions\"]._descriptions if [j for j in i.processing_steps[2][0] if \"math\" in j]]))"
   ]
  },
  {
   "cell_type": "markdown",
   "id": "e92156bc-4a8b-4185-9a91-111eba773f0f",
   "metadata": {},
   "source": [
    "-> Problematic, seems like a reason lemmatizing is useful, so let's try that\n",
    " \n",
    "## Preprocessing with lemmatizing"
   ]
  },
  {
   "cell_type": "code",
   "execution_count": null,
   "id": "3a92f16c-aae4-4db1-9cf4-269ebdf792ac",
   "metadata": {},
   "outputs": [],
   "source": [
    "os.environ[\"MA_PP_COMPONENTS\"] = \"autcsldp\"\n",
    "ctx = Context(get_setting(\"BASE_DIR\"), get_setting(\"DATASET_NAME\"), load_params=True)\n",
    "ctx.print_settings()\n",
    "\n",
    "ctx.load(\"pp_descriptions\", \"filtered_dcm\")"
   ]
  },
  {
   "cell_type": "code",
   "execution_count": null,
   "id": "212a30ce-63b2-4815-8e88-a7fcc56a8948",
   "metadata": {},
   "outputs": [],
   "source": [
    "ctx.obj[\"filtered_dcm\"].show_info(descriptions=ctx.obj[\"pp_descriptions\"])"
   ]
  },
  {
   "cell_type": "code",
   "execution_count": null,
   "id": "c1f3f6fa-a1af-48cd-a374-7694920f95e5",
   "metadata": {},
   "outputs": [],
   "source": [
    "print(ctx.obj[\"filtered_dcm\"].doc_freq(\"computer\"))\n",
    "print(ctx.obj[\"filtered_dcm\"].doc_freq(\"mathematics\", supress=True))\n",
    "print(ctx.obj[\"filtered_dcm\"].doc_freq(\"seminar\"))"
   ]
  }
 ],
 "metadata": {
  "kernelspec": {
   "display_name": "Python 3",
   "language": "python",
   "name": "python3"
  },
  "language_info": {
   "codemirror_mode": {
    "name": "ipython",
    "version": 3
   },
   "file_extension": ".py",
   "mimetype": "text/x-python",
   "name": "python",
   "nbconvert_exporter": "python",
   "pygments_lexer": "ipython3",
   "version": "3.8.8"
  }
 },
 "nbformat": 4,
 "nbformat_minor": 5
}
