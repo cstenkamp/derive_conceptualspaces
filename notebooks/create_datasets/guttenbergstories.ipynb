{
 "cells": [
  {
   "cell_type": "markdown",
   "id": "5171dee9-76de-48e1-bca2-a2ddfac90b4f",
   "metadata": {},
   "source": [
    "https://www.kaggle.com/shubchat/1002-short-stories-from-project-guttenberg"
   ]
  },
  {
   "cell_type": "code",
   "execution_count": null,
   "id": "91e277c4-0654-4781-9e0d-935317700e87",
   "metadata": {},
   "outputs": [],
   "source": [
    "DIR = \"/home/chris/Documents/UNI_neu/Masterarbeit/data_new/guttenbergstories/\""
   ]
  },
  {
   "cell_type": "code",
   "execution_count": null,
   "id": "ff0f63f0-200c-4808-bad4-987fab185397",
   "metadata": {},
   "outputs": [],
   "source": [
    "from os.path import join, isdir, isfile, abspath, dirname, splitext, basename, split\n",
    "from derive_conceptualspace.util.mpl_tools import show_hist\n",
    "\n",
    "import pandas as pd"
   ]
  },
  {
   "cell_type": "code",
   "execution_count": null,
   "id": "41a597a5-8618-40a7-bddb-9b7ab9113662",
   "metadata": {},
   "outputs": [],
   "source": [
    "contents = pd.read_csv(join(DIR,\"stories.csv\"))\n",
    "info = pd.read_csv(join(DIR,\"db_books.csv\"))\n",
    "df = contents.merge(info, on=\"bookno\")\n",
    "for col in [\"bookno\", \"Title\", \"Author\", \"Language\"]:\n",
    "    df[col] = df[col].str.strip()\n",
    "assert len(df) == len(contents) == len(info)\n",
    "with pd.option_context('display.expand_frame_repr', False, 'display.max_colwidth', 500):\n",
    "    display(df.head())"
   ]
  },
  {
   "cell_type": "code",
   "execution_count": null,
   "id": "47c89b7f-cd23-47ff-82cc-220da4b56c9b",
   "metadata": {
    "tags": []
   },
   "outputs": [],
   "source": [
    "print(df.iloc[0][\"content\"][:1000]+\"\\n\"+df.iloc[0][\"content\"][-1000:])"
   ]
  },
  {
   "cell_type": "code",
   "execution_count": null,
   "id": "2f16eaea-bc0a-4025-a11e-0ed5b22db128",
   "metadata": {},
   "outputs": [],
   "source": [
    "df[\"Language\"].value_counts()"
   ]
  },
  {
   "cell_type": "code",
   "execution_count": null,
   "id": "3584f1b4-f5b3-4947-8e98-7829d32779fa",
   "metadata": {},
   "outputs": [],
   "source": [
    "show_hist([i.count(\" \") for i in df[\"content\"]], \"Words per Story\", xlabel=\"Number of Words\", cutoff_percentile=98)"
   ]
  },
  {
   "cell_type": "code",
   "execution_count": null,
   "id": "20c56632-29ef-4657-87cd-a31ef285c4ae",
   "metadata": {},
   "outputs": [],
   "source": [
    "MIN_WORDS = 10000\n",
    "longones = df[df[\"content\"].str.count(\" \") > MIN_WORDS]\n",
    "show_hist([i.count(\" \") for i in longones[\"content\"]], \"Words per Story\", xlabel=\"Number of Words\", cutoff_percentile=98)\n",
    "print(f\"{len(longones)} ones are longer than {MIN_WORDS} words.\")"
   ]
  },
  {
   "cell_type": "code",
   "execution_count": null,
   "id": "4d2c2f37-61d4-4f8a-8b94-bbe6e0047be6",
   "metadata": {},
   "outputs": [],
   "source": [
    "MIN_WORDS = 2000\n",
    "longones = df[df[\"content\"].str.count(\" \") > MIN_WORDS]\n",
    "show_hist([i.count(\" \") for i in longones[\"content\"]], \"Words per Story\", xlabel=\"Number of Words\", cutoff_percentile=98)\n",
    "print(f\"{len(longones)} ones are longer than {MIN_WORDS} words.\")"
   ]
  },
  {
   "cell_type": "code",
   "execution_count": null,
   "id": "c11f14d6-e206-4d47-8795-98f11c23beb0",
   "metadata": {},
   "outputs": [],
   "source": [
    "long_onlyen = longones[longones[\"Language\"] == \"English\"]\n",
    "print(f\"Saving {len(long_onlyen)} ones which are long enough and only english.\")\n",
    "df.to_csv(join(DIR, \"guttenbergstories.csv\"))"
   ]
  }
 ],
 "metadata": {
  "kernelspec": {
   "display_name": "Python 3 (ipykernel)",
   "language": "python",
   "name": "python3"
  },
  "language_info": {
   "codemirror_mode": {
    "name": "ipython",
    "version": 3
   },
   "file_extension": ".py",
   "mimetype": "text/x-python",
   "name": "python",
   "nbconvert_exporter": "python",
   "pygments_lexer": "ipython3",
   "version": "3.10.0"
  }
 },
 "nbformat": 4,
 "nbformat_minor": 5
}
