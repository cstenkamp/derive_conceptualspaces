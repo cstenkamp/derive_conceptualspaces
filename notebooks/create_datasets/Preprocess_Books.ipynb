{
 "cells": [
  {
   "cell_type": "code",
   "execution_count": null,
   "id": "b507dfe5-514c-434f-8b57-c992cec0f491",
   "metadata": {},
   "outputs": [],
   "source": [
    "import pandas as pd\n",
    "from os.path import join, isdir, isfile, abspath, dirname, splitext, basename, split\n",
    "from derive_conceptualspace.util.mpl_tools import show_hist\n",
    "\n",
    "BOOK_BASE = \"/home/chris/Documents/UNI_neu/Masterarbeit/OTHER/study_behavior_analysis/src/\""
   ]
  },
  {
   "cell_type": "markdown",
   "id": "ddc691ec-445d-4d2a-96cd-6c82a7fd8bc5",
   "metadata": {},
   "source": [
    "## Looking at book data"
   ]
  },
  {
   "cell_type": "code",
   "execution_count": null,
   "id": "88c92178-90a8-47b6-afd1-98584d1ab786",
   "metadata": {},
   "outputs": [],
   "source": [
    "df = pd.read_csv(join(BOOK_BASE, \"data/SidBERT_data/book_ddc_data\", \"buchtitel_hannover.csv\"))\n",
    "print(len(df))\n",
    "df.head()"
   ]
  },
  {
   "cell_type": "code",
   "execution_count": null,
   "id": "980347b9-6c8f-4d15-acd4-536cedb5c088",
   "metadata": {},
   "outputs": [],
   "source": [
    "df = pd.read_csv(join(BOOK_BASE, \"data/SidBERT_data/book_ddc_data\", \"crawled_ddcs.csv\"))\n",
    "print(len(df))\n",
    "df.head()"
   ]
  },
  {
   "cell_type": "code",
   "execution_count": null,
   "id": "4233e3a8-bd98-46f2-9326-79474c06fd39",
   "metadata": {},
   "outputs": [],
   "source": [
    "df = df.dropna(subset=[\"Zusammenfassung\"])\n",
    "df[\"unique_title\"] = df[\"Titel\"].str.lower()\n",
    "df = df.drop_duplicates(subset=[\"unique_title\"])\n",
    "df = df.drop(columns=[\"unique_title\"])\n",
    "print(len(df))\n",
    "df.head()"
   ]
  },
  {
   "cell_type": "code",
   "execution_count": null,
   "id": "4cf4c12e-f374-4eda-96fc-4572cf49561c",
   "metadata": {},
   "outputs": [],
   "source": [
    "show_hist([i.count(\" \") for i in df[\"Zusammenfassung\"]], \"Words per Description\", xlabel=\"Number of Words\", cutoff_percentile=97)"
   ]
  },
  {
   "cell_type": "code",
   "execution_count": null,
   "id": "9bc363c8-f7a6-4ca6-825a-29d99fc088f2",
   "metadata": {},
   "outputs": [],
   "source": [
    "len([1 for i in df[\"Zusammenfassung\"] if i.count(\" \") > 50])"
   ]
  },
  {
   "cell_type": "code",
   "execution_count": null,
   "id": "d6f8059e-af4c-49aa-a725-cc75dd23c045",
   "metadata": {},
   "outputs": [],
   "source": [
    "df = df[df[\"Zusammenfassung\"].str.count(\" \") > 50]\n",
    "df = df.drop(columns=[\"ISBN\"])\n",
    "df.head()"
   ]
  },
  {
   "cell_type": "code",
   "execution_count": null,
   "id": "fd6ae3a4-3ee4-41ec-b20e-5e44f7903f9c",
   "metadata": {},
   "outputs": [],
   "source": [
    "df.to_csv(join(BOOK_BASE, \"book_dataset.csv\"))"
   ]
  },
  {
   "cell_type": "markdown",
   "id": "6f5ce466-1b23-4d7a-b717-a1ff198a9114",
   "metadata": {},
   "source": [
    "## Using Johannes' Script"
   ]
  },
  {
   "cell_type": "code",
   "execution_count": null,
   "id": "650c40b6-df1e-4ff6-a345-ae874cea9d50",
   "metadata": {},
   "outputs": [],
   "source": [
    "import sys; sys.path.append(\"/home/chris/Documents/UNI_neu/Masterarbeit/study_behavior_analysis/\")\n",
    "from src.SidBERT.preprocessing.book_ddc_extractor import DDCBookExtractor"
   ]
  },
  {
   "cell_type": "code",
   "execution_count": null,
   "id": "41bedcdb-e91e-4a9d-a013-ef262dd70010",
   "metadata": {},
   "outputs": [],
   "source": [
    "extractor = DDCBookExtractor(\"/home/chris/Documents/UNI_neu/Masterarbeit/study_behavior_analysis/src/\")"
   ]
  },
  {
   "cell_type": "code",
   "execution_count": null,
   "id": "018374e9-105e-4dc6-a810-ce4cacdfd4c4",
   "metadata": {},
   "outputs": [],
   "source": [
    "df = extractor.parse_and_collect_raw_data()"
   ]
  },
  {
   "cell_type": "code",
   "execution_count": null,
   "id": "a296f00f-6705-4f74-a8a2-e35258901f3c",
   "metadata": {},
   "outputs": [],
   "source": [
    "df.head()"
   ]
  },
  {
   "cell_type": "code",
   "execution_count": null,
   "id": "1698f29f-a519-4dca-853b-9d9a6d191e5e",
   "metadata": {},
   "outputs": [],
   "source": [
    "df = df.dropna(subset=[\"Description\"])\n",
    "df = df[df[\"Description\"].str.len() > 100]\n",
    "df = df.set_index(\"index\")\n",
    "df"
   ]
  },
  {
   "cell_type": "code",
   "execution_count": null,
   "id": "c237c21c-81db-47bb-b372-b999d80d2b23",
   "metadata": {},
   "outputs": [],
   "source": [
    "df[\"unique_title\"] = df[\"Title\"].str.lower()"
   ]
  },
  {
   "cell_type": "code",
   "execution_count": null,
   "id": "15813168-b722-4092-8872-31655f9df056",
   "metadata": {},
   "outputs": [],
   "source": [
    "df[df.duplicated(subset=\"unique_title\", keep=False)].sort_values(\"unique_title\")"
   ]
  },
  {
   "cell_type": "code",
   "execution_count": null,
   "id": "222c31bc-b046-4b79-a223-09fb213f64be",
   "metadata": {},
   "outputs": [],
   "source": [
    "df = df.drop_duplicates(subset=[\"unique_title\"])\n",
    "df = df.drop(columns=[\"unique_title\"])\n",
    "df = df.set_index(\"index\")\n",
    "df"
   ]
  },
  {
   "cell_type": "code",
   "execution_count": null,
   "id": "a50c8794-1712-4cd5-81ba-cd0459d3311a",
   "metadata": {},
   "outputs": [],
   "source": [
    "show_hist([i.count(\" \") for i in df[\"Description\"]], \"Words per Description\", xlabel=\"Number of Words\", cutoff_percentile=97)"
   ]
  },
  {
   "cell_type": "code",
   "execution_count": null,
   "id": "cd0154fb-e2dd-4a17-937d-41c59ca11fb9",
   "metadata": {},
   "outputs": [],
   "source": [
    "len([1 for i in df[\"Description\"] if i.count(\" \") > 50])"
   ]
  },
  {
   "cell_type": "code",
   "execution_count": null,
   "id": "7fbbe2ac-c752-4a90-8c43-ccc4d8890103",
   "metadata": {},
   "outputs": [],
   "source": [
    "df.to_csv(join(BOOK_BASE, \"book_dataset2.csv\"))"
   ]
  }
 ],
 "metadata": {
  "kernelspec": {
   "display_name": "Python 3 (ipykernel)",
   "language": "python",
   "name": "python3"
  },
  "language_info": {
   "codemirror_mode": {
    "name": "ipython",
    "version": 3
   },
   "file_extension": ".py",
   "mimetype": "text/x-python",
   "name": "python",
   "nbconvert_exporter": "python",
   "pygments_lexer": "ipython3",
   "version": "3.10.0"
  }
 },
 "nbformat": 4,
 "nbformat_minor": 5
}
