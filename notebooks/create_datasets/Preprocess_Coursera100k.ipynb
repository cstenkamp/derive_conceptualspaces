{
 "cells": [
  {
   "cell_type": "code",
   "execution_count": null,
   "id": "5cecfad7-3ea4-49aa-9b50-f2b70bedad4b",
   "metadata": {},
   "outputs": [],
   "source": [
    "PATH = \"/home/chris/Documents/UNI_neu/Masterarbeit/other_data/100k_coursera_dataset/\"\n",
    "import pandas as pd\n",
    "from os.path import join\n",
    "from langdetect import detect\n",
    "from langdetect.lang_detect_exception import LangDetectException\n",
    "from tqdm import tqdm, tqdm_notebook\n",
    "import numpy as np\n",
    "\n",
    "from derive_conceptualspace.util.jsonloadstore import json_dump\n",
    "from derive_conceptualspace.util.mpl_tools import show_hist"
   ]
  },
  {
   "cell_type": "code",
   "execution_count": null,
   "id": "4cbf03b6-c6c5-49f8-aa94-c99d04ed1368",
   "metadata": {},
   "outputs": [],
   "source": [
    "df = pd.read_csv(join(PATH, \"reviews_by_course.csv\"))\n",
    "print(len(df))\n",
    "print(len(df[\"CourseId\"].unique()))\n",
    "df.head()"
   ]
  },
  {
   "cell_type": "code",
   "execution_count": null,
   "id": "2e47ab9a-5dd4-4aa4-9779-f963a3633e85",
   "metadata": {},
   "outputs": [],
   "source": [
    "#df[\"Review\"].str.len().hist(bins=1000, log=True)\n",
    "lens = [i if not np.isnan(i) else 0 for i in df[\"Review\"].str.len()]\n",
    "show_hist(lens, \"Lens per Review\", xlabel=\"Lengths in chars\", ylabel=\"Count\", cutoff_percentile=95, log=False)"
   ]
  },
  {
   "cell_type": "markdown",
   "id": "81471de8-6596-46cd-98d1-7593b610d33d",
   "metadata": {},
   "source": [
    "## Filtering (only english, long enough, ..)"
   ]
  },
  {
   "cell_type": "code",
   "execution_count": null,
   "id": "4de8fc4c-14fc-4914-aaed-a01ed213541f",
   "metadata": {},
   "outputs": [],
   "source": [
    "lans = []\n",
    "for item in tqdm_notebook(df[\"Review\"]):\n",
    "    if not isinstance(item, str) or len(item) < 40:\n",
    "        lans.append(\"tooshort\")\n",
    "    else:\n",
    "        try:\n",
    "            lans.append(detect(item))\n",
    "        except LangDetectException as e:\n",
    "            lans.append(\"unk\")\n",
    "df[\"lan\"] = lans"
   ]
  },
  {
   "cell_type": "code",
   "execution_count": null,
   "id": "1515a665-74f2-48f2-b550-49aa38e922d0",
   "metadata": {},
   "outputs": [],
   "source": [
    "ens = df[df[\"lan\"] == \"en\"]\n",
    "grouped_reviews = ens.groupby(\"CourseId\")['Review'].apply(lambda x: '. \\n'.join(x))"
   ]
  },
  {
   "cell_type": "code",
   "execution_count": null,
   "id": "581e75d3-9add-4506-85d1-f7e409c56137",
   "metadata": {},
   "outputs": [],
   "source": [
    "show_hist(grouped_reviews.str.len(), \"Lens per All-Reviews-Per-Course\", xlabel=\"Lengths in chars\", ylabel=\"Count\", cutoff_percentile=92, log=False)"
   ]
  },
  {
   "cell_type": "code",
   "execution_count": null,
   "id": "1fd1bc35-0cc9-40a7-825a-215a2007e949",
   "metadata": {},
   "outputs": [],
   "source": [
    "show_hist([i for i in grouped_reviews.str.len() if i > 2000], \"Lens per All-Reviews-Per-Course\", xlabel=\"Lengths in chars\", ylabel=\"Count\", cutoff_percentile=92, log=False)"
   ]
  },
  {
   "cell_type": "code",
   "execution_count": null,
   "id": "ddb3f034-bebb-4f12-8e14-f46b631b8d25",
   "metadata": {},
   "outputs": [],
   "source": [
    "tmp = grouped_reviews[grouped_reviews.str.len() > 2000]\n",
    "print(tmp)\n",
    "#for k,v in dict(tmp[:10]).items():\n",
    "#    print(\"\\n\\n\"+k)\n",
    "#    print(\"  \"+(\"\\n  \".join(v.split(\"\\n\"))))"
   ]
  },
  {
   "cell_type": "code",
   "execution_count": null,
   "id": "211eb199-85fe-45bd-a8fb-0114af89f5be",
   "metadata": {},
   "outputs": [],
   "source": [
    "json_dump(dict(tmp), \"/home/chris/Documents/UNI_neu/Masterarbeit/other_data/100k_coursera_dataset/usable_reviews.json\")"
   ]
  },
  {
   "cell_type": "code",
   "execution_count": null,
   "id": "e922a6e9-8de4-4226-9630-297e2d956a06",
   "metadata": {},
   "outputs": [],
   "source": [
    "tmp.to_csv(\"/home/chris/Documents/UNI_neu/Masterarbeit/other_data/100k_coursera_dataset/usable_reviews.csv\")"
   ]
  },
  {
   "cell_type": "code",
   "execution_count": null,
   "id": "980430d7-b36f-4336-b48a-3c792aa6f92d",
   "metadata": {},
   "outputs": [],
   "source": [
    "json_dump(dict(langs={i: \"en\" for i in tmp.index}), \"/home/chris/Documents/UNI_neu/Masterarbeit/other_data/100k_coursera_dataset/languages.json\")"
   ]
  },
  {
   "cell_type": "code",
   "execution_count": null,
   "id": "085fbf0e-6476-4f3f-922e-889292beccd3",
   "metadata": {},
   "outputs": [],
   "source": []
  }
 ],
 "metadata": {
  "kernelspec": {
   "display_name": "Python 3",
   "language": "python",
   "name": "python3"
  },
  "language_info": {
   "codemirror_mode": {
    "name": "ipython",
    "version": 3
   },
   "file_extension": ".py",
   "mimetype": "text/x-python",
   "name": "python",
   "nbconvert_exporter": "python",
   "pygments_lexer": "ipython3",
   "version": "3.8.8"
  }
 },
 "nbformat": 4,
 "nbformat_minor": 5
}
